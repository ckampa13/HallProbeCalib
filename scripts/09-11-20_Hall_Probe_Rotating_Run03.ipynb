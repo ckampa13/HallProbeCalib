{
 "cells": [
  {
   "cell_type": "markdown",
   "metadata": {},
   "source": [
    "# Background"
   ]
  },
  {
   "cell_type": "markdown",
   "metadata": {},
   "source": [
    "- First rotating dataset, first reasonable dataset in awhile, given COVID\n",
    "- One probe in the magnet, SmarAct placed by hand in center of magnet, 3 probes outside magnet\n",
    "- NMR not working on new computer\n",
    "- NMR shipped to Europe for calibration soon...getting data while we can\n",
    "- After NMR back, need survey done of magnet & SmarAct"
   ]
  },
  {
   "cell_type": "markdown",
   "metadata": {},
   "source": [
    "# Code"
   ]
  },
  {
   "cell_type": "markdown",
   "metadata": {},
   "source": [
    "## Imports"
   ]
  },
  {
   "cell_type": "code",
   "execution_count": 1,
   "metadata": {},
   "outputs": [],
   "source": [
    "#%load_ext autoreload\n",
    "#%autoreload 2"
   ]
  },
  {
   "cell_type": "code",
   "execution_count": 2,
   "metadata": {},
   "outputs": [
    {
     "data": {
      "text/html": [
       "        <script type=\"text/javascript\">\n",
       "        window.PlotlyConfig = {MathJaxConfig: 'local'};\n",
       "        if (window.MathJax) {MathJax.Hub.Config({SVG: {font: \"STIX-Web\"}});}\n",
       "        if (typeof require !== 'undefined') {\n",
       "        require.undef(\"plotly\");\n",
       "        requirejs.config({\n",
       "            paths: {\n",
       "                'plotly': ['https://cdn.plot.ly/plotly-latest.min']\n",
       "            }\n",
       "        });\n",
       "        require(['plotly'], function(Plotly) {\n",
       "            window._Plotly = Plotly;\n",
       "        });\n",
       "        }\n",
       "        </script>\n",
       "        "
      ]
     },
     "metadata": {},
     "output_type": "display_data"
    }
   ],
   "source": [
    "import math\n",
    "import numpy as np\n",
    "import pandas as pd\n",
    "import pickle as pkl\n",
    "from datetime import datetime\n",
    "from dateutil import parser\n",
    "from datetime import datetime\n",
    "from sys import getsizeof\n",
    "import re\n",
    "\n",
    "import operator\n",
    "from scipy import stats\n",
    "import scipy.optimize as optimization\n",
    "import lmfit as lm\n",
    "\n",
    "import matplotlib.pyplot as plt\n",
    "from mpl_toolkits.mplot3d import Axes3D\n",
    "%matplotlib inline\n",
    "plt.rcParams['figure.figsize'] = (12.0, 8.0)\n",
    "plt.rcParams['axes.axisbelow'] = True\n",
    "\n",
    "from plotly.offline import init_notebook_mode, plot, iplot\n",
    "import plotly.graph_objs as go\n",
    "import plotly.io as pio\n",
    "from plotly.subplots import make_subplots\n",
    "import plotly.express as px\n",
    "init_notebook_mode(True)\n",
    "\n",
    "#import seaborn as sns\n",
    "from wand.image import Image as WImage\n",
    "\n",
    "from hallprobecalib import hpc_ext_path\n",
    "#from hallprobecalib.hpcplots import scatter2d,scatter3d,histo,py_profile\n",
    "from hallprobecalib.hpcplots import scatter2d,scatter3d,histo"
   ]
  },
  {
   "cell_type": "code",
   "execution_count": 3,
   "metadata": {},
   "outputs": [],
   "source": [
    "make_plots = True"
   ]
  },
  {
   "cell_type": "code",
   "execution_count": 4,
   "metadata": {},
   "outputs": [
    {
     "data": {
      "text/plain": [
       "'/home/ckampa/data/hallprobecalib_extras/'"
      ]
     },
     "execution_count": 4,
     "metadata": {},
     "output_type": "execute_result"
    }
   ],
   "source": [
    "hpc_ext_path"
   ]
  },
  {
   "cell_type": "code",
   "execution_count": 5,
   "metadata": {},
   "outputs": [],
   "source": [
    "plotdir = hpc_ext_path+'plots/hall_probe_rotate/2020-09-11/run3/'"
   ]
  },
  {
   "cell_type": "code",
   "execution_count": 6,
   "metadata": {},
   "outputs": [],
   "source": [
    "pkl_dir = hpc_ext_path+\"datafiles/hall_probe_rotate/\"\n",
    "pkl_file_slow = \"hall_rotate.run03.raw.slow.pkl\""
   ]
  },
  {
   "cell_type": "code",
   "execution_count": 7,
   "metadata": {},
   "outputs": [],
   "source": [
    "df = pd.read_pickle(pkl_dir+pkl_file_slow)"
   ]
  },
  {
   "cell_type": "code",
   "execution_count": 8,
   "metadata": {},
   "outputs": [
    {
     "data": {
      "text/plain": [
       "Datetime\n",
       "2020-09-11 11:04:16     0.0\n",
       "2020-09-11 11:04:25     9.0\n",
       "2020-09-11 11:04:33    17.0\n",
       "2020-09-11 11:04:42    26.0\n",
       "2020-09-11 11:04:51    35.0\n",
       "2020-09-11 11:05:00    44.0\n",
       "2020-09-11 11:05:08    52.0\n",
       "2020-09-11 11:05:17    61.0\n",
       "2020-09-11 11:05:26    70.0\n",
       "2020-09-11 11:05:34    78.0\n",
       "Name: seconds_delta, dtype: float64"
      ]
     },
     "execution_count": 8,
     "metadata": {},
     "output_type": "execute_result"
    }
   ],
   "source": [
    "df['seconds_delta'].head(10)"
   ]
  },
  {
   "cell_type": "code",
   "execution_count": 9,
   "metadata": {},
   "outputs": [],
   "source": [
    "def pplot(fig):\n",
    "    pio.write_image(fig, 'temp.pdf')\n",
    "    img = WImage(filename='temp.pdf')\n",
    "    return img"
   ]
  },
  {
   "cell_type": "markdown",
   "metadata": {},
   "source": [
    "## Cleaning"
   ]
  },
  {
   "cell_type": "code",
   "execution_count": 10,
   "metadata": {},
   "outputs": [],
   "source": [
    "directory = \"/home/ckampa/Dropbox/LogFiles/\"\n",
    "filename_slow = '2020-09-11 110325.txt'"
   ]
  },
  {
   "cell_type": "code",
   "execution_count": 11,
   "metadata": {},
   "outputs": [],
   "source": [
    "df = pd.read_csv(directory+filename_slow)\n",
    "df.columns = df.columns.str.lstrip(\" \")\n",
    "dates = [parser.parse(row.Time) for row in df.itertuples()]# if isdatetime(row.Time.values[0])]\n",
    "df[\"Datetime\"] = pd.to_datetime(dates)#.astype(\"str\")\n",
    "df = df.set_index(\"Datetime\")"
   ]
  },
  {
   "cell_type": "code",
   "execution_count": 12,
   "metadata": {},
   "outputs": [
    {
     "data": {
      "text/html": [
       "<div>\n",
       "<style scoped>\n",
       "    .dataframe tbody tr th:only-of-type {\n",
       "        vertical-align: middle;\n",
       "    }\n",
       "\n",
       "    .dataframe tbody tr th {\n",
       "        vertical-align: top;\n",
       "    }\n",
       "\n",
       "    .dataframe thead th {\n",
       "        text-align: right;\n",
       "    }\n",
       "</style>\n",
       "<table border=\"1\" class=\"dataframe\">\n",
       "  <thead>\n",
       "    <tr style=\"text-align: right;\">\n",
       "      <th></th>\n",
       "      <th>Time</th>\n",
       "      <th>Magnet Current [V]</th>\n",
       "      <th>Magnet Voltage [V]</th>\n",
       "      <th>NMR [T]</th>\n",
       "      <th>NMR [FFT]</th>\n",
       "      <th>DF0000000D5E803A_Raw_X</th>\n",
       "      <th>DF0000000D5E803A_Raw_Y</th>\n",
       "      <th>DF0000000D5E803A_Raw_Z</th>\n",
       "      <th>C90000000D53983A_Raw_X</th>\n",
       "      <th>C90000000D53983A_Raw_Y</th>\n",
       "      <th>...</th>\n",
       "      <th>DF0000000D5E803A_Cal_T</th>\n",
       "      <th>C90000000D53983A_Cal_T</th>\n",
       "      <th>C50000000D5E473A_Cal_T</th>\n",
       "      <th>6A0000000D61333A_Cal_T</th>\n",
       "      <th>SmarAct_Pattern_Angle_1</th>\n",
       "      <th>SmarAct_Pattern_Angle_2</th>\n",
       "      <th>SmarAct_Meas_Angle_1</th>\n",
       "      <th>SmarAct_Meas_Rotation_Angle_1</th>\n",
       "      <th>SmarAct_Meas_Angle_2</th>\n",
       "      <th>SmarAct_Meas_Rotation_Angle_2</th>\n",
       "    </tr>\n",
       "    <tr>\n",
       "      <th>Datetime</th>\n",
       "      <th></th>\n",
       "      <th></th>\n",
       "      <th></th>\n",
       "      <th></th>\n",
       "      <th></th>\n",
       "      <th></th>\n",
       "      <th></th>\n",
       "      <th></th>\n",
       "      <th></th>\n",
       "      <th></th>\n",
       "      <th></th>\n",
       "      <th></th>\n",
       "      <th></th>\n",
       "      <th></th>\n",
       "      <th></th>\n",
       "      <th></th>\n",
       "      <th></th>\n",
       "      <th></th>\n",
       "      <th></th>\n",
       "      <th></th>\n",
       "      <th></th>\n",
       "    </tr>\n",
       "  </thead>\n",
       "  <tbody>\n",
       "    <tr>\n",
       "      <th>2020-09-11 11:04:16</th>\n",
       "      <td>9/11/2020 11:04:16 AM</td>\n",
       "      <td>240.063687</td>\n",
       "      <td>29.558667</td>\n",
       "      <td>0.0</td>\n",
       "      <td>0.0</td>\n",
       "      <td>-7329.0</td>\n",
       "      <td>56857.0</td>\n",
       "      <td>-8817.0</td>\n",
       "      <td>878.0</td>\n",
       "      <td>1441.0</td>\n",
       "      <td>...</td>\n",
       "      <td>17.285</td>\n",
       "      <td>16.544</td>\n",
       "      <td>17.402</td>\n",
       "      <td>16.670</td>\n",
       "      <td>-5.0</td>\n",
       "      <td>-180.000000</td>\n",
       "      <td>354.999995</td>\n",
       "      <td>-1.0</td>\n",
       "      <td>179.999998</td>\n",
       "      <td>-1.0</td>\n",
       "    </tr>\n",
       "    <tr>\n",
       "      <th>2020-09-11 11:04:25</th>\n",
       "      <td>9/11/2020 11:04:25 AM</td>\n",
       "      <td>240.063743</td>\n",
       "      <td>29.561283</td>\n",
       "      <td>0.0</td>\n",
       "      <td>0.0</td>\n",
       "      <td>-7306.0</td>\n",
       "      <td>56936.0</td>\n",
       "      <td>-8746.0</td>\n",
       "      <td>867.0</td>\n",
       "      <td>1413.0</td>\n",
       "      <td>...</td>\n",
       "      <td>17.295</td>\n",
       "      <td>16.546</td>\n",
       "      <td>17.410</td>\n",
       "      <td>16.677</td>\n",
       "      <td>-5.0</td>\n",
       "      <td>-178.997214</td>\n",
       "      <td>354.999998</td>\n",
       "      <td>-1.0</td>\n",
       "      <td>181.002774</td>\n",
       "      <td>-1.0</td>\n",
       "    </tr>\n",
       "    <tr>\n",
       "      <th>2020-09-11 11:04:33</th>\n",
       "      <td>9/11/2020 11:04:33 AM</td>\n",
       "      <td>240.063800</td>\n",
       "      <td>29.563983</td>\n",
       "      <td>0.0</td>\n",
       "      <td>0.0</td>\n",
       "      <td>-7227.0</td>\n",
       "      <td>56873.0</td>\n",
       "      <td>-8775.0</td>\n",
       "      <td>902.0</td>\n",
       "      <td>1310.0</td>\n",
       "      <td>...</td>\n",
       "      <td>17.296</td>\n",
       "      <td>16.549</td>\n",
       "      <td>17.416</td>\n",
       "      <td>16.683</td>\n",
       "      <td>-5.0</td>\n",
       "      <td>-177.994428</td>\n",
       "      <td>354.999990</td>\n",
       "      <td>-1.0</td>\n",
       "      <td>182.005566</td>\n",
       "      <td>-1.0</td>\n",
       "    </tr>\n",
       "    <tr>\n",
       "      <th>2020-09-11 11:04:42</th>\n",
       "      <td>9/11/2020 11:04:42 AM</td>\n",
       "      <td>240.063743</td>\n",
       "      <td>29.566817</td>\n",
       "      <td>0.0</td>\n",
       "      <td>0.0</td>\n",
       "      <td>-7342.0</td>\n",
       "      <td>56930.0</td>\n",
       "      <td>-8776.0</td>\n",
       "      <td>963.0</td>\n",
       "      <td>1319.0</td>\n",
       "      <td>...</td>\n",
       "      <td>17.303</td>\n",
       "      <td>16.551</td>\n",
       "      <td>17.418</td>\n",
       "      <td>16.689</td>\n",
       "      <td>-5.0</td>\n",
       "      <td>-176.991642</td>\n",
       "      <td>354.999998</td>\n",
       "      <td>-1.0</td>\n",
       "      <td>183.008358</td>\n",
       "      <td>-1.0</td>\n",
       "    </tr>\n",
       "    <tr>\n",
       "      <th>2020-09-11 11:04:51</th>\n",
       "      <td>9/11/2020 11:04:51 AM</td>\n",
       "      <td>240.063743</td>\n",
       "      <td>29.569617</td>\n",
       "      <td>0.0</td>\n",
       "      <td>0.0</td>\n",
       "      <td>-7268.0</td>\n",
       "      <td>56892.0</td>\n",
       "      <td>-8843.0</td>\n",
       "      <td>914.0</td>\n",
       "      <td>1380.0</td>\n",
       "      <td>...</td>\n",
       "      <td>17.309</td>\n",
       "      <td>16.553</td>\n",
       "      <td>17.424</td>\n",
       "      <td>16.695</td>\n",
       "      <td>-5.0</td>\n",
       "      <td>-175.988856</td>\n",
       "      <td>354.999996</td>\n",
       "      <td>-1.0</td>\n",
       "      <td>184.011139</td>\n",
       "      <td>-1.0</td>\n",
       "    </tr>\n",
       "  </tbody>\n",
       "</table>\n",
       "<p>5 rows × 43 columns</p>\n",
       "</div>"
      ],
      "text/plain": [
       "                                      Time  Magnet Current [V]  \\\n",
       "Datetime                                                         \n",
       "2020-09-11 11:04:16  9/11/2020 11:04:16 AM          240.063687   \n",
       "2020-09-11 11:04:25  9/11/2020 11:04:25 AM          240.063743   \n",
       "2020-09-11 11:04:33  9/11/2020 11:04:33 AM          240.063800   \n",
       "2020-09-11 11:04:42  9/11/2020 11:04:42 AM          240.063743   \n",
       "2020-09-11 11:04:51  9/11/2020 11:04:51 AM          240.063743   \n",
       "\n",
       "                     Magnet Voltage [V]  NMR [T]  NMR [FFT]  \\\n",
       "Datetime                                                      \n",
       "2020-09-11 11:04:16           29.558667      0.0        0.0   \n",
       "2020-09-11 11:04:25           29.561283      0.0        0.0   \n",
       "2020-09-11 11:04:33           29.563983      0.0        0.0   \n",
       "2020-09-11 11:04:42           29.566817      0.0        0.0   \n",
       "2020-09-11 11:04:51           29.569617      0.0        0.0   \n",
       "\n",
       "                     DF0000000D5E803A_Raw_X  DF0000000D5E803A_Raw_Y  \\\n",
       "Datetime                                                              \n",
       "2020-09-11 11:04:16                 -7329.0                 56857.0   \n",
       "2020-09-11 11:04:25                 -7306.0                 56936.0   \n",
       "2020-09-11 11:04:33                 -7227.0                 56873.0   \n",
       "2020-09-11 11:04:42                 -7342.0                 56930.0   \n",
       "2020-09-11 11:04:51                 -7268.0                 56892.0   \n",
       "\n",
       "                     DF0000000D5E803A_Raw_Z  C90000000D53983A_Raw_X  \\\n",
       "Datetime                                                              \n",
       "2020-09-11 11:04:16                 -8817.0                   878.0   \n",
       "2020-09-11 11:04:25                 -8746.0                   867.0   \n",
       "2020-09-11 11:04:33                 -8775.0                   902.0   \n",
       "2020-09-11 11:04:42                 -8776.0                   963.0   \n",
       "2020-09-11 11:04:51                 -8843.0                   914.0   \n",
       "\n",
       "                     C90000000D53983A_Raw_Y  ...  DF0000000D5E803A_Cal_T  \\\n",
       "Datetime                                     ...                           \n",
       "2020-09-11 11:04:16                  1441.0  ...                  17.285   \n",
       "2020-09-11 11:04:25                  1413.0  ...                  17.295   \n",
       "2020-09-11 11:04:33                  1310.0  ...                  17.296   \n",
       "2020-09-11 11:04:42                  1319.0  ...                  17.303   \n",
       "2020-09-11 11:04:51                  1380.0  ...                  17.309   \n",
       "\n",
       "                     C90000000D53983A_Cal_T  C50000000D5E473A_Cal_T  \\\n",
       "Datetime                                                              \n",
       "2020-09-11 11:04:16                  16.544                  17.402   \n",
       "2020-09-11 11:04:25                  16.546                  17.410   \n",
       "2020-09-11 11:04:33                  16.549                  17.416   \n",
       "2020-09-11 11:04:42                  16.551                  17.418   \n",
       "2020-09-11 11:04:51                  16.553                  17.424   \n",
       "\n",
       "                     6A0000000D61333A_Cal_T  SmarAct_Pattern_Angle_1  \\\n",
       "Datetime                                                               \n",
       "2020-09-11 11:04:16                  16.670                     -5.0   \n",
       "2020-09-11 11:04:25                  16.677                     -5.0   \n",
       "2020-09-11 11:04:33                  16.683                     -5.0   \n",
       "2020-09-11 11:04:42                  16.689                     -5.0   \n",
       "2020-09-11 11:04:51                  16.695                     -5.0   \n",
       "\n",
       "                     SmarAct_Pattern_Angle_2  SmarAct_Meas_Angle_1  \\\n",
       "Datetime                                                             \n",
       "2020-09-11 11:04:16              -180.000000            354.999995   \n",
       "2020-09-11 11:04:25              -178.997214            354.999998   \n",
       "2020-09-11 11:04:33              -177.994428            354.999990   \n",
       "2020-09-11 11:04:42              -176.991642            354.999998   \n",
       "2020-09-11 11:04:51              -175.988856            354.999996   \n",
       "\n",
       "                     SmarAct_Meas_Rotation_Angle_1  SmarAct_Meas_Angle_2  \\\n",
       "Datetime                                                                   \n",
       "2020-09-11 11:04:16                           -1.0            179.999998   \n",
       "2020-09-11 11:04:25                           -1.0            181.002774   \n",
       "2020-09-11 11:04:33                           -1.0            182.005566   \n",
       "2020-09-11 11:04:42                           -1.0            183.008358   \n",
       "2020-09-11 11:04:51                           -1.0            184.011139   \n",
       "\n",
       "                     SmarAct_Meas_Rotation_Angle_2  \n",
       "Datetime                                            \n",
       "2020-09-11 11:04:16                           -1.0  \n",
       "2020-09-11 11:04:25                           -1.0  \n",
       "2020-09-11 11:04:33                           -1.0  \n",
       "2020-09-11 11:04:42                           -1.0  \n",
       "2020-09-11 11:04:51                           -1.0  \n",
       "\n",
       "[5 rows x 43 columns]"
      ]
     },
     "execution_count": 12,
     "metadata": {},
     "output_type": "execute_result"
    }
   ],
   "source": [
    "df.head()"
   ]
  },
  {
   "cell_type": "code",
   "execution_count": 13,
   "metadata": {},
   "outputs": [
    {
     "data": {
      "text/html": [
       "<div>\n",
       "<style scoped>\n",
       "    .dataframe tbody tr th:only-of-type {\n",
       "        vertical-align: middle;\n",
       "    }\n",
       "\n",
       "    .dataframe tbody tr th {\n",
       "        vertical-align: top;\n",
       "    }\n",
       "\n",
       "    .dataframe thead th {\n",
       "        text-align: right;\n",
       "    }\n",
       "</style>\n",
       "<table border=\"1\" class=\"dataframe\">\n",
       "  <thead>\n",
       "    <tr style=\"text-align: right;\">\n",
       "      <th></th>\n",
       "      <th>Time</th>\n",
       "      <th>Magnet Current [V]</th>\n",
       "      <th>Magnet Voltage [V]</th>\n",
       "      <th>NMR [T]</th>\n",
       "      <th>NMR [FFT]</th>\n",
       "      <th>DF0000000D5E803A_Raw_X</th>\n",
       "      <th>DF0000000D5E803A_Raw_Y</th>\n",
       "      <th>DF0000000D5E803A_Raw_Z</th>\n",
       "      <th>C90000000D53983A_Raw_X</th>\n",
       "      <th>C90000000D53983A_Raw_Y</th>\n",
       "      <th>...</th>\n",
       "      <th>DF0000000D5E803A_Cal_T</th>\n",
       "      <th>C90000000D53983A_Cal_T</th>\n",
       "      <th>C50000000D5E473A_Cal_T</th>\n",
       "      <th>6A0000000D61333A_Cal_T</th>\n",
       "      <th>SmarAct_Pattern_Angle_1</th>\n",
       "      <th>SmarAct_Pattern_Angle_2</th>\n",
       "      <th>SmarAct_Meas_Angle_1</th>\n",
       "      <th>SmarAct_Meas_Rotation_Angle_1</th>\n",
       "      <th>SmarAct_Meas_Angle_2</th>\n",
       "      <th>SmarAct_Meas_Rotation_Angle_2</th>\n",
       "    </tr>\n",
       "    <tr>\n",
       "      <th>Datetime</th>\n",
       "      <th></th>\n",
       "      <th></th>\n",
       "      <th></th>\n",
       "      <th></th>\n",
       "      <th></th>\n",
       "      <th></th>\n",
       "      <th></th>\n",
       "      <th></th>\n",
       "      <th></th>\n",
       "      <th></th>\n",
       "      <th></th>\n",
       "      <th></th>\n",
       "      <th></th>\n",
       "      <th></th>\n",
       "      <th></th>\n",
       "      <th></th>\n",
       "      <th></th>\n",
       "      <th></th>\n",
       "      <th></th>\n",
       "      <th></th>\n",
       "      <th></th>\n",
       "    </tr>\n",
       "  </thead>\n",
       "  <tbody>\n",
       "    <tr>\n",
       "      <th>2020-09-11 15:01:11</th>\n",
       "      <td>9/11/2020 3:01:11 PM</td>\n",
       "      <td>240.061080</td>\n",
       "      <td>29.907483</td>\n",
       "      <td>0.0</td>\n",
       "      <td>0.0</td>\n",
       "      <td>-7379.0</td>\n",
       "      <td>56714.0</td>\n",
       "      <td>-8806.0</td>\n",
       "      <td>920.0</td>\n",
       "      <td>1422.0</td>\n",
       "      <td>...</td>\n",
       "      <td>18.262</td>\n",
       "      <td>17.821</td>\n",
       "      <td>18.397</td>\n",
       "      <td>18.472</td>\n",
       "      <td>-3.749999</td>\n",
       "      <td>88.746648</td>\n",
       "      <td>356.249996</td>\n",
       "      <td>-1.0</td>\n",
       "      <td>14.993610</td>\n",
       "      <td>0.0</td>\n",
       "    </tr>\n",
       "    <tr>\n",
       "      <th>2020-09-11 15:01:20</th>\n",
       "      <td>9/11/2020 3:01:20 PM</td>\n",
       "      <td>240.061080</td>\n",
       "      <td>29.907500</td>\n",
       "      <td>0.0</td>\n",
       "      <td>0.0</td>\n",
       "      <td>-7347.0</td>\n",
       "      <td>56734.0</td>\n",
       "      <td>-8817.0</td>\n",
       "      <td>832.0</td>\n",
       "      <td>1407.0</td>\n",
       "      <td>...</td>\n",
       "      <td>18.258</td>\n",
       "      <td>17.827</td>\n",
       "      <td>18.391</td>\n",
       "      <td>18.472</td>\n",
       "      <td>-3.749999</td>\n",
       "      <td>89.749434</td>\n",
       "      <td>356.249994</td>\n",
       "      <td>-1.0</td>\n",
       "      <td>15.000882</td>\n",
       "      <td>0.0</td>\n",
       "    </tr>\n",
       "    <tr>\n",
       "      <th>2020-09-11 15:02:00</th>\n",
       "      <td>9/11/2020 3:02:00 PM</td>\n",
       "      <td>240.061080</td>\n",
       "      <td>29.907883</td>\n",
       "      <td>0.0</td>\n",
       "      <td>0.0</td>\n",
       "      <td>-7278.0</td>\n",
       "      <td>56710.0</td>\n",
       "      <td>-8731.0</td>\n",
       "      <td>756.0</td>\n",
       "      <td>1329.0</td>\n",
       "      <td>...</td>\n",
       "      <td>18.301</td>\n",
       "      <td>17.882</td>\n",
       "      <td>18.443</td>\n",
       "      <td>18.577</td>\n",
       "      <td>-3.749999</td>\n",
       "      <td>90.752220</td>\n",
       "      <td>356.249993</td>\n",
       "      <td>-1.0</td>\n",
       "      <td>90.752217</td>\n",
       "      <td>0.0</td>\n",
       "    </tr>\n",
       "    <tr>\n",
       "      <th>2020-09-11 15:02:09</th>\n",
       "      <td>9/11/2020 3:02:09 PM</td>\n",
       "      <td>240.061137</td>\n",
       "      <td>29.907950</td>\n",
       "      <td>0.0</td>\n",
       "      <td>0.0</td>\n",
       "      <td>-7374.0</td>\n",
       "      <td>56691.0</td>\n",
       "      <td>-8745.0</td>\n",
       "      <td>871.0</td>\n",
       "      <td>1345.0</td>\n",
       "      <td>...</td>\n",
       "      <td>18.318</td>\n",
       "      <td>17.894</td>\n",
       "      <td>18.458</td>\n",
       "      <td>18.594</td>\n",
       "      <td>-3.749999</td>\n",
       "      <td>91.755006</td>\n",
       "      <td>356.249994</td>\n",
       "      <td>-1.0</td>\n",
       "      <td>91.755000</td>\n",
       "      <td>0.0</td>\n",
       "    </tr>\n",
       "    <tr>\n",
       "      <th>2020-09-11 15:02:18</th>\n",
       "      <td>9/11/2020 3:02:18 PM</td>\n",
       "      <td>240.061080</td>\n",
       "      <td>29.908050</td>\n",
       "      <td>0.0</td>\n",
       "      <td>0.0</td>\n",
       "      <td>-7275.0</td>\n",
       "      <td>56721.0</td>\n",
       "      <td>-8851.0</td>\n",
       "      <td>919.0</td>\n",
       "      <td>1375.0</td>\n",
       "      <td>...</td>\n",
       "      <td>18.328</td>\n",
       "      <td>17.905</td>\n",
       "      <td>18.473</td>\n",
       "      <td>18.606</td>\n",
       "      <td>-3.749999</td>\n",
       "      <td>92.757792</td>\n",
       "      <td>356.249994</td>\n",
       "      <td>-1.0</td>\n",
       "      <td>92.757774</td>\n",
       "      <td>0.0</td>\n",
       "    </tr>\n",
       "  </tbody>\n",
       "</table>\n",
       "<p>5 rows × 43 columns</p>\n",
       "</div>"
      ],
      "text/plain": [
       "                                     Time  Magnet Current [V]  \\\n",
       "Datetime                                                        \n",
       "2020-09-11 15:01:11  9/11/2020 3:01:11 PM          240.061080   \n",
       "2020-09-11 15:01:20  9/11/2020 3:01:20 PM          240.061080   \n",
       "2020-09-11 15:02:00  9/11/2020 3:02:00 PM          240.061080   \n",
       "2020-09-11 15:02:09  9/11/2020 3:02:09 PM          240.061137   \n",
       "2020-09-11 15:02:18  9/11/2020 3:02:18 PM          240.061080   \n",
       "\n",
       "                     Magnet Voltage [V]  NMR [T]  NMR [FFT]  \\\n",
       "Datetime                                                      \n",
       "2020-09-11 15:01:11           29.907483      0.0        0.0   \n",
       "2020-09-11 15:01:20           29.907500      0.0        0.0   \n",
       "2020-09-11 15:02:00           29.907883      0.0        0.0   \n",
       "2020-09-11 15:02:09           29.907950      0.0        0.0   \n",
       "2020-09-11 15:02:18           29.908050      0.0        0.0   \n",
       "\n",
       "                     DF0000000D5E803A_Raw_X  DF0000000D5E803A_Raw_Y  \\\n",
       "Datetime                                                              \n",
       "2020-09-11 15:01:11                 -7379.0                 56714.0   \n",
       "2020-09-11 15:01:20                 -7347.0                 56734.0   \n",
       "2020-09-11 15:02:00                 -7278.0                 56710.0   \n",
       "2020-09-11 15:02:09                 -7374.0                 56691.0   \n",
       "2020-09-11 15:02:18                 -7275.0                 56721.0   \n",
       "\n",
       "                     DF0000000D5E803A_Raw_Z  C90000000D53983A_Raw_X  \\\n",
       "Datetime                                                              \n",
       "2020-09-11 15:01:11                 -8806.0                   920.0   \n",
       "2020-09-11 15:01:20                 -8817.0                   832.0   \n",
       "2020-09-11 15:02:00                 -8731.0                   756.0   \n",
       "2020-09-11 15:02:09                 -8745.0                   871.0   \n",
       "2020-09-11 15:02:18                 -8851.0                   919.0   \n",
       "\n",
       "                     C90000000D53983A_Raw_Y  ...  DF0000000D5E803A_Cal_T  \\\n",
       "Datetime                                     ...                           \n",
       "2020-09-11 15:01:11                  1422.0  ...                  18.262   \n",
       "2020-09-11 15:01:20                  1407.0  ...                  18.258   \n",
       "2020-09-11 15:02:00                  1329.0  ...                  18.301   \n",
       "2020-09-11 15:02:09                  1345.0  ...                  18.318   \n",
       "2020-09-11 15:02:18                  1375.0  ...                  18.328   \n",
       "\n",
       "                     C90000000D53983A_Cal_T  C50000000D5E473A_Cal_T  \\\n",
       "Datetime                                                              \n",
       "2020-09-11 15:01:11                  17.821                  18.397   \n",
       "2020-09-11 15:01:20                  17.827                  18.391   \n",
       "2020-09-11 15:02:00                  17.882                  18.443   \n",
       "2020-09-11 15:02:09                  17.894                  18.458   \n",
       "2020-09-11 15:02:18                  17.905                  18.473   \n",
       "\n",
       "                     6A0000000D61333A_Cal_T  SmarAct_Pattern_Angle_1  \\\n",
       "Datetime                                                               \n",
       "2020-09-11 15:01:11                  18.472                -3.749999   \n",
       "2020-09-11 15:01:20                  18.472                -3.749999   \n",
       "2020-09-11 15:02:00                  18.577                -3.749999   \n",
       "2020-09-11 15:02:09                  18.594                -3.749999   \n",
       "2020-09-11 15:02:18                  18.606                -3.749999   \n",
       "\n",
       "                     SmarAct_Pattern_Angle_2  SmarAct_Meas_Angle_1  \\\n",
       "Datetime                                                             \n",
       "2020-09-11 15:01:11                88.746648            356.249996   \n",
       "2020-09-11 15:01:20                89.749434            356.249994   \n",
       "2020-09-11 15:02:00                90.752220            356.249993   \n",
       "2020-09-11 15:02:09                91.755006            356.249994   \n",
       "2020-09-11 15:02:18                92.757792            356.249994   \n",
       "\n",
       "                     SmarAct_Meas_Rotation_Angle_1  SmarAct_Meas_Angle_2  \\\n",
       "Datetime                                                                   \n",
       "2020-09-11 15:01:11                           -1.0             14.993610   \n",
       "2020-09-11 15:01:20                           -1.0             15.000882   \n",
       "2020-09-11 15:02:00                           -1.0             90.752217   \n",
       "2020-09-11 15:02:09                           -1.0             91.755000   \n",
       "2020-09-11 15:02:18                           -1.0             92.757774   \n",
       "\n",
       "                     SmarAct_Meas_Rotation_Angle_2  \n",
       "Datetime                                            \n",
       "2020-09-11 15:01:11                            0.0  \n",
       "2020-09-11 15:01:20                            0.0  \n",
       "2020-09-11 15:02:00                            0.0  \n",
       "2020-09-11 15:02:09                            0.0  \n",
       "2020-09-11 15:02:18                            0.0  \n",
       "\n",
       "[5 rows x 43 columns]"
      ]
     },
     "execution_count": 13,
     "metadata": {},
     "output_type": "execute_result"
    }
   ],
   "source": [
    "df.tail()"
   ]
  },
  {
   "cell_type": "code",
   "execution_count": 14,
   "metadata": {},
   "outputs": [
    {
     "name": "stdout",
     "output_type": "stream",
     "text": [
      "['6A0000000D61333A', 'C50000000D5E473A', 'C90000000D53983A', 'DF0000000D5E803A']\n"
     ]
    }
   ],
   "source": [
    "probes = np.array([])\n",
    "for col in df.columns:\n",
    "    #print(df_fast[col].dtype)\n",
    "    if (\"Raw\" in col) or (\"Cal\" in col):#type(df[col].iloc[0]) is np.float64:\n",
    "        #print(f\"{col}\")#\": mean: {df[col].mean()}\")\n",
    "        probes = np.append(probes, col[:16])\n",
    "probes = list(np.unique(probes))\n",
    "print(probes)"
   ]
  },
  {
   "cell_type": "code",
   "execution_count": 15,
   "metadata": {},
   "outputs": [],
   "source": [
    "probe = probes[0]"
   ]
  },
  {
   "cell_type": "code",
   "execution_count": 16,
   "metadata": {},
   "outputs": [
    {
     "data": {
      "text/plain": [
       "'6A0000000D61333A'"
      ]
     },
     "execution_count": 16,
     "metadata": {},
     "output_type": "execute_result"
    }
   ],
   "source": [
    "probe"
   ]
  },
  {
   "cell_type": "code",
   "execution_count": 17,
   "metadata": {
    "scrolled": true
   },
   "outputs": [
    {
     "name": "stdout",
     "output_type": "stream",
     "text": [
      "DF0000000D5E803A_Cal_X: mean: 0.0014251032882483371\n",
      "DF0000000D5E803A_Cal_Y: mean: 0.02022003592091648\n",
      "DF0000000D5E803A_Cal_Z: mean: 0.0022393338388765707\n",
      "C90000000D53983A_Cal_X: mean: 0.0006625047110125646\n",
      "C90000000D53983A_Cal_Y: mean: 0.00032269446489283077\n",
      "C90000000D53983A_Cal_Z: mean: 0.0005921630657797488\n",
      "C50000000D5E473A_Cal_X: mean: 0.008109246931263858\n",
      "C50000000D5E473A_Cal_Y: mean: -0.00599136777383592\n",
      "C50000000D5E473A_Cal_Z: mean: 0.03335378917812269\n",
      "6A0000000D61333A_Cal_X: mean: 1.2073252200295639\n",
      "6A0000000D61333A_Cal_Y: mean: 0.01510638952549889\n",
      "6A0000000D61333A_Cal_Z: mean: 0.007903867955654101\n",
      "DF0000000D5E803A_Cal_T: mean: 18.05853658536585\n",
      "C90000000D53983A_Cal_T: mean: 17.282818920916483\n",
      "C50000000D5E473A_Cal_T: mean: 18.171815225424982\n",
      "6A0000000D61333A_Cal_T: mean: 17.9019785661493\n"
     ]
    }
   ],
   "source": [
    "for col in df.columns:\n",
    "    if (type(df[col].iloc[0]) is np.float64) and ('Cal' in col):\n",
    "        print(f\"{col}: mean: {df[col].mean()}\")"
   ]
  },
  {
   "cell_type": "markdown",
   "metadata": {},
   "source": [
    "- Looks like maybe probe \"6A0000000D61333A\" is in the field"
   ]
  },
  {
   "cell_type": "markdown",
   "metadata": {},
   "source": [
    "### Slow Control Data Cleaning"
   ]
  },
  {
   "cell_type": "code",
   "execution_count": 47,
   "metadata": {
    "code_folding": []
   },
   "outputs": [],
   "source": [
    "for probe in probes:\n",
    "    for t in [\"Cal\", \"Raw\"]:\n",
    "        df[f\"{probe}_{t}_Bmag\"] = (df[f\"{probe}_{t}_X\"]**2+df[f\"{probe}_{t}_Y\"]**2+df[f\"{probe}_{t}_Z\"]**2)**(1/2)\n",
    "        #df[f\"{probe}_{t}_Res\"] = df[f\"{probe}_{t}_Bmag\"] - df['NMR [T]']\n",
    "        #df[f\"{probe}_{t}_Res_Rel\"] = (df[f\"{probe}_{t}_Bmag\"] - df['NMR [T]']) / df['NMR [T]']"
   ]
  },
  {
   "cell_type": "code",
   "execution_count": 48,
   "metadata": {},
   "outputs": [
    {
     "data": {
      "text/plain": [
       "''"
      ]
     },
     "execution_count": 48,
     "metadata": {},
     "output_type": "execute_result"
    }
   ],
   "source": [
    "'''\n",
    "for B in [\"X\", \"Y\", \"Z\"]:\n",
    "    for probe in probes:\n",
    "        for t in [\"Cal\", \"Raw\"]:\n",
    "            #df[f\"{probe}_{t}_Bmag\"] = (df[f\"{probe}_{t}_X\"]**2+df[f\"{probe}_{t}_Y\"]**2+df[f\"{probe}_{t}_Z\"]**2)**(1/2)\n",
    "            #df[f\"{probe}_{t}_{B}_Res\"] = df[f\"{probe}_{t}_{B}\"] - df['NMR [T]']\n",
    "            #df[f\"{probe}_{t}_{B}_Res_Rel\"] = (df[f\"{probe}_{t}_{B}\"] - df['NMR [T]']) / df['NMR [T]']\n",
    "'''\n",
    ";"
   ]
  },
  {
   "cell_type": "code",
   "execution_count": 49,
   "metadata": {},
   "outputs": [],
   "source": [
    "df[\"seconds_delta\"] = (df.index - df.index[0]).total_seconds()\n",
    "df[\"hours_delta\"] = (df.index - df.index[0]).total_seconds()/60**2\n",
    "df[\"days_delta\"] = (df.index - df.index[0]).total_seconds()/(24*60**2)"
   ]
  },
  {
   "cell_type": "code",
   "execution_count": 50,
   "metadata": {},
   "outputs": [],
   "source": [
    "for t in [\"Cal\", \"Raw\"]:\n",
    "    for probe in probes:\n",
    "        df[f\"{probe}_{t}_Transverse\"] = (df[f\"{probe}_Cal_X\"]**2+df[f\"{probe}_Cal_Y\"]**2)**(1/2)\n",
    "        df[f\"{probe}_{t}_Theta\"] = np.arccos(df[f\"{probe}_Cal_Z\"]/df[f\"{probe}_Cal_Bmag\"])\n",
    "        df[f\"{probe}_{t}_Phi\"] = np.arccos(df[f\"{probe}_Cal_X\"]/df[f\"{probe}_Cal_Transverse\"])"
   ]
  },
  {
   "cell_type": "code",
   "execution_count": 51,
   "metadata": {},
   "outputs": [],
   "source": [
    "# raw\n",
    "for probe in probes:\n",
    "    df[f\"{probe}_Raw_Bmag\"] = (df[f\"{probe}_Raw_X\"]**2+df[f\"{probe}_Raw_Y\"]**2+df[f\"{probe}_Raw_Z\"]**2)**(1/2)\n",
    "\n",
    "for probe in probes:\n",
    "    df[f\"{probe}_Raw_Transverse\"] = (df[f\"{probe}_Raw_X\"]**2+df[f\"{probe}_Raw_Y\"]**2)**(1/2)\n",
    "    df[f\"{probe}_Raw_Theta\"] = np.arccos(df[f\"{probe}_Raw_Z\"]/df[f\"{probe}_Raw_Bmag\"])\n",
    "    df[f\"{probe}_Raw_Phi\"] = np.arccos(df[f\"{probe}_Raw_X\"]/df[f\"{probe}_Raw_Transverse\"])"
   ]
  },
  {
   "cell_type": "code",
   "execution_count": 52,
   "metadata": {
    "scrolled": true
   },
   "outputs": [],
   "source": [
    "# NOTE TAKES ~3 MINUTES TO RUN AT THIS POINT (02-03-2020)\n",
    "if make_plots:\n",
    "    ## TIME PLOTS\n",
    "    for col in df.columns:\n",
    "        fig = scatter2d(df.index, df[col], markers=False, lines=True, show_plot=False) \n",
    "        pio.write_image(fig, plotdir+f\"time/all/{col}_vs_time.pdf\")\n",
    "        pio.write_image(fig, plotdir+f\"time/all/{col}_vs_time.png\")\n",
    "    \n",
    "    ## PLOT HISTOS\n",
    "    for probe in probes:\n",
    "        for t in [\"Cal\", \"Raw\"]:\n",
    "            fig = histo(df[f\"{probe}_{t}_Bmag\"], bins=50, show_plot=False)\n",
    "            pio.write_image(fig, plotdir+f\"histo/{probe}_{t}_Bmag.pdf\")\n",
    "            pio.write_image(fig, plotdir+f\"histo/{probe}_{t}_Bmag.png\")\n",
    "\n",
    "    '''\n",
    "    ## RES HISTOS\n",
    "    for t in [\"Cal\", \"Raw\"]:\n",
    "        for probe in probes:\n",
    "            for B in [\"X\",\"Y\",\"Z\"]:\n",
    "                fig = histo(df[f\"{probe}_{t}_{B}_Res\"], bins=50, show_plot=False)\n",
    "                pio.write_image(fig, plotdir+f\"histo/residuals/component/{probe}_{t}_{B}_Res.pdf\")\n",
    "                pio.write_image(fig, plotdir+f\"histo/residuals/component/{probe}_{t}_{B}_Res.png\")\n",
    "\n",
    "    ## REL_RES HISTOS\n",
    "    for t in [\"Cal\", \"Raw\"]:\n",
    "        for probe in probes:\n",
    "            for B in [\"X\",\"Y\",\"Z\"]:\n",
    "                fig = histo(df[f\"{probe}_{t}_{B}_Res_Rel\"], bins=50, show_plot=False)\n",
    "                pio.write_image(fig, plotdir+f\"histo/relative_residuals/component/{probe}_{t}_{B}_Res_Rel.pdf\")\n",
    "                pio.write_image(fig, plotdir+f\"histo/relative_residuals/component/{probe}_{t}_{B}_Res_Rel.png\")\n",
    "\n",
    "    ## BMAG RES HISTOS\n",
    "    for res in [\"Res\", \"Res_Rel\"]:\n",
    "        if res == \"Res\":\n",
    "            p = \"residuals\"\n",
    "        else:\n",
    "            p = \"relative_residuals\"\n",
    "        for t in [\"Cal\", \"Raw\"]:\n",
    "            for probe in probes:\n",
    "                #for B in [\"X\",\"Y\",\"Z\"]:\n",
    "                fig = histo(df[f\"{probe}_{t}_{res}\"], bins=50, show_plot=False)\n",
    "                pio.write_image(fig, plotdir+f\"histo/{p}/{probe}_{t}_Bmag_{res}.pdf\")\n",
    "                pio.write_image(fig, plotdir+f\"histo/{p}/{probe}_{t}_Bmag_{res}.png\")\n",
    "    '''\n",
    "    \n",
    "    ## PLOT HISTO ANGLE\n",
    "    for probe in probes:\n",
    "        for angle in [\"Transverse\", \"Theta\", \"Phi\"]:\n",
    "            fig = histo(df[f\"{probe}_Cal_{angle}\"], bins=30, show_plot=False)\n",
    "            pio.write_image(fig, plotdir+f\"histo/angles/{probe}_Cal_{angle}.pdf\")\n",
    "            pio.write_image(fig, plotdir+f\"histo/angles/{probe}_Cal_{angle}.png\")\n",
    "\n",
    "    ## PLOT ANGLE\n",
    "    for probe in probes:\n",
    "        for angle in [\"Transverse\", \"Theta\", \"Phi\"]:\n",
    "            fig = scatter2d(df.index, df[f\"{probe}_Cal_{angle}\"], show_plot=False)\n",
    "            pio.write_image(fig, plotdir+f\"time/angles/{probe}_Cal_{angle}.pdf\")\n",
    "            pio.write_image(fig, plotdir+f\"time/angles/{probe}_Cal_{angle}.png\")\n",
    "\n",
    "    ## PLOT ANGLES RAW\n",
    "    for probe in probes:\n",
    "        for angle in [\"Transverse\", \"Theta\", \"Phi\"]:\n",
    "            fig = histo(df[f\"{probe}_Raw_{angle}\"], bins=30, show_plot=False)\n",
    "            pio.write_image(fig, plotdir+f\"histo/angles/{probe}_Raw_{angle}.pdf\")\n",
    "            pio.write_image(fig, plotdir+f\"histo/angles/{probe}_Raw_{angle}.png\")\n",
    "\n",
    "    for probe in probes:\n",
    "        for angle in [\"Transverse\", \"Theta\", \"Phi\"]:\n",
    "            fig = scatter2d(df.index, df[f\"{probe}_Raw_{angle}\"], show_plot=False)\n",
    "            pio.write_image(fig, plotdir+f\"time/angles/{probe}_Raw_{angle}.pdf\")\n",
    "            pio.write_image(fig, plotdir+f\"time/angles/{probe}_Raw_{angle}.png\")"
   ]
  },
  {
   "cell_type": "code",
   "execution_count": 53,
   "metadata": {},
   "outputs": [],
   "source": [
    "df.to_pickle(pkl_dir+pkl_file_slow)"
   ]
  },
  {
   "cell_type": "code",
   "execution_count": 54,
   "metadata": {},
   "outputs": [
    {
     "data": {
      "text/plain": [
       "0.94913"
      ]
     },
     "execution_count": 54,
     "metadata": {},
     "output_type": "execute_result"
    }
   ],
   "source": [
    "getsizeof(df) / 1000/1000"
   ]
  },
  {
   "cell_type": "code",
   "execution_count": 55,
   "metadata": {},
   "outputs": [
    {
     "name": "stdout",
     "output_type": "stream",
     "text": [
      "<class 'pandas.core.frame.DataFrame'>\n",
      "DatetimeIndex: 1353 entries, 2020-09-11 11:04:16 to 2020-09-11 15:02:18\n",
      "Data columns (total 78 columns):\n",
      " #   Column                           Non-Null Count  Dtype  \n",
      "---  ------                           --------------  -----  \n",
      " 0   Time                             1353 non-null   object \n",
      " 1   Magnet Current [V]               1353 non-null   float64\n",
      " 2   Magnet Voltage [V]               1353 non-null   float64\n",
      " 3   NMR [T]                          1353 non-null   float64\n",
      " 4   NMR [FFT]                        1353 non-null   float64\n",
      " 5   DF0000000D5E803A_Raw_X           1353 non-null   float64\n",
      " 6   DF0000000D5E803A_Raw_Y           1353 non-null   float64\n",
      " 7   DF0000000D5E803A_Raw_Z           1353 non-null   float64\n",
      " 8   C90000000D53983A_Raw_X           1353 non-null   float64\n",
      " 9   C90000000D53983A_Raw_Y           1353 non-null   float64\n",
      " 10  C90000000D53983A_Raw_Z           1353 non-null   float64\n",
      " 11  C50000000D5E473A_Raw_X           1353 non-null   float64\n",
      " 12  C50000000D5E473A_Raw_Y           1353 non-null   float64\n",
      " 13  C50000000D5E473A_Raw_Z           1353 non-null   float64\n",
      " 14  6A0000000D61333A_Raw_X           1353 non-null   float64\n",
      " 15  6A0000000D61333A_Raw_Y           1353 non-null   float64\n",
      " 16  6A0000000D61333A_Raw_Z           1353 non-null   float64\n",
      " 17  DF0000000D5E803A_Raw_T           1353 non-null   float64\n",
      " 18  C90000000D53983A_Raw_T           1353 non-null   float64\n",
      " 19  C50000000D5E473A_Raw_T           1353 non-null   float64\n",
      " 20  6A0000000D61333A_Raw_T           1353 non-null   float64\n",
      " 21  DF0000000D5E803A_Cal_X           1353 non-null   float64\n",
      " 22  DF0000000D5E803A_Cal_Y           1353 non-null   float64\n",
      " 23  DF0000000D5E803A_Cal_Z           1353 non-null   float64\n",
      " 24  C90000000D53983A_Cal_X           1353 non-null   float64\n",
      " 25  C90000000D53983A_Cal_Y           1353 non-null   float64\n",
      " 26  C90000000D53983A_Cal_Z           1353 non-null   float64\n",
      " 27  C50000000D5E473A_Cal_X           1353 non-null   float64\n",
      " 28  C50000000D5E473A_Cal_Y           1353 non-null   float64\n",
      " 29  C50000000D5E473A_Cal_Z           1353 non-null   float64\n",
      " 30  6A0000000D61333A_Cal_X           1353 non-null   float64\n",
      " 31  6A0000000D61333A_Cal_Y           1353 non-null   float64\n",
      " 32  6A0000000D61333A_Cal_Z           1353 non-null   float64\n",
      " 33  DF0000000D5E803A_Cal_T           1353 non-null   float64\n",
      " 34  C90000000D53983A_Cal_T           1353 non-null   float64\n",
      " 35  C50000000D5E473A_Cal_T           1353 non-null   float64\n",
      " 36  6A0000000D61333A_Cal_T           1353 non-null   float64\n",
      " 37  SmarAct_Pattern_Angle_1          1353 non-null   float64\n",
      " 38  SmarAct_Pattern_Angle_2          1353 non-null   float64\n",
      " 39  SmarAct_Meas_Angle_1             1353 non-null   float64\n",
      " 40  SmarAct_Meas_Rotation_Angle_1    1353 non-null   float64\n",
      " 41  SmarAct_Meas_Angle_2             1353 non-null   float64\n",
      " 42  SmarAct_Meas_Rotation_Angle_2    1353 non-null   float64\n",
      " 43  6A0000000D61333A_Cal_Bmag        1353 non-null   float64\n",
      " 44  6A0000000D61333A_Raw_Bmag        1353 non-null   float64\n",
      " 45  C50000000D5E473A_Cal_Bmag        1353 non-null   float64\n",
      " 46  C50000000D5E473A_Raw_Bmag        1353 non-null   float64\n",
      " 47  C90000000D53983A_Cal_Bmag        1353 non-null   float64\n",
      " 48  C90000000D53983A_Raw_Bmag        1353 non-null   float64\n",
      " 49  DF0000000D5E803A_Cal_Bmag        1353 non-null   float64\n",
      " 50  DF0000000D5E803A_Raw_Bmag        1353 non-null   float64\n",
      " 51  seconds_delta                    1353 non-null   float64\n",
      " 52  hours_delta                      1353 non-null   float64\n",
      " 53  days_delta                       1353 non-null   float64\n",
      " 54  6A0000000D61333A_Cal_Transverse  1353 non-null   float64\n",
      " 55  6A0000000D61333A_Cal_Theta       1353 non-null   float64\n",
      " 56  6A0000000D61333A_Cal_Phi         1353 non-null   float64\n",
      " 57  C50000000D5E473A_Cal_Transverse  1353 non-null   float64\n",
      " 58  C50000000D5E473A_Cal_Theta       1353 non-null   float64\n",
      " 59  C50000000D5E473A_Cal_Phi         1353 non-null   float64\n",
      " 60  C90000000D53983A_Cal_Transverse  1353 non-null   float64\n",
      " 61  C90000000D53983A_Cal_Theta       1353 non-null   float64\n",
      " 62  C90000000D53983A_Cal_Phi         1353 non-null   float64\n",
      " 63  DF0000000D5E803A_Cal_Transverse  1353 non-null   float64\n",
      " 64  DF0000000D5E803A_Cal_Theta       1353 non-null   float64\n",
      " 65  DF0000000D5E803A_Cal_Phi         1353 non-null   float64\n",
      " 66  6A0000000D61333A_Raw_Transverse  1353 non-null   float64\n",
      " 67  6A0000000D61333A_Raw_Theta       1353 non-null   float64\n",
      " 68  6A0000000D61333A_Raw_Phi         1353 non-null   float64\n",
      " 69  C50000000D5E473A_Raw_Transverse  1353 non-null   float64\n",
      " 70  C50000000D5E473A_Raw_Theta       1353 non-null   float64\n",
      " 71  C50000000D5E473A_Raw_Phi         1353 non-null   float64\n",
      " 72  C90000000D53983A_Raw_Transverse  1353 non-null   float64\n",
      " 73  C90000000D53983A_Raw_Theta       1353 non-null   float64\n",
      " 74  C90000000D53983A_Raw_Phi         1353 non-null   float64\n",
      " 75  DF0000000D5E803A_Raw_Transverse  1353 non-null   float64\n",
      " 76  DF0000000D5E803A_Raw_Theta       1353 non-null   float64\n",
      " 77  DF0000000D5E803A_Raw_Phi         1353 non-null   float64\n",
      "dtypes: float64(77), object(1)\n",
      "memory usage: 835.1+ KB\n"
     ]
    }
   ],
   "source": [
    "df.info()"
   ]
  },
  {
   "cell_type": "markdown",
   "metadata": {},
   "source": [
    "## Plotting"
   ]
  },
  {
   "cell_type": "code",
   "execution_count": 56,
   "metadata": {},
   "outputs": [],
   "source": [
    "probe = probes[0]"
   ]
  },
  {
   "cell_type": "code",
   "execution_count": 57,
   "metadata": {},
   "outputs": [
    {
     "data": {
      "text/plain": [
       "'6A0000000D61333A'"
      ]
     },
     "execution_count": 57,
     "metadata": {},
     "output_type": "execute_result"
    }
   ],
   "source": [
    "probe"
   ]
  },
  {
   "cell_type": "code",
   "execution_count": 58,
   "metadata": {},
   "outputs": [],
   "source": [
    "fig = scatter2d(2*[df['Time']], [df[f'{probe}_Raw_Bmag'],df[f'{probe}_Raw_Bmag'].rolling(20).mean()], inline=False)"
   ]
  },
  {
   "cell_type": "code",
   "execution_count": 59,
   "metadata": {},
   "outputs": [
    {
     "data": {
      "text/plain": [
       "count    1349.000000\n",
       "mean        1.670477\n",
       "std       190.669990\n",
       "min     -3316.305754\n",
       "25%       -49.713234\n",
       "50%         8.360864\n",
       "75%        75.184893\n",
       "max      1307.850944\n",
       "Name: 6A0000000D61333A_Raw_Bmag, dtype: float64"
      ]
     },
     "execution_count": 59,
     "metadata": {},
     "output_type": "execute_result"
    }
   ],
   "source": [
    "(df[f'{probe}_Raw_Bmag']-df[f'{probe}_Raw_Bmag'].rolling(5).mean()).describe()"
   ]
  },
  {
   "cell_type": "code",
   "execution_count": 60,
   "metadata": {},
   "outputs": [
    {
     "data": {
      "text/plain": [
       "count    1334.000000\n",
       "mean       -1.033939\n",
       "std        47.501557\n",
       "min      -138.539876\n",
       "25%       -35.082237\n",
       "50%        -1.537796\n",
       "75%        31.631654\n",
       "max       163.068964\n",
       "Name: DF0000000D5E803A_Raw_Bmag, dtype: float64"
      ]
     },
     "execution_count": 60,
     "metadata": {},
     "output_type": "execute_result"
    }
   ],
   "source": [
    "(df[f'{probes[3]}_Raw_Bmag']-df[f'{probes[3]}_Raw_Bmag'].rolling(20).mean()).describe()"
   ]
  },
  {
   "cell_type": "code",
   "execution_count": 61,
   "metadata": {},
   "outputs": [
    {
     "data": {
      "text/plain": [
       "count    1353.000000\n",
       "mean    -7303.271249\n",
       "std        56.758790\n",
       "min     -7922.000000\n",
       "25%     -7338.000000\n",
       "50%     -7302.000000\n",
       "75%     -7269.000000\n",
       "max     -6777.000000\n",
       "Name: DF0000000D5E803A_Raw_X, dtype: float64"
      ]
     },
     "execution_count": 61,
     "metadata": {},
     "output_type": "execute_result"
    }
   ],
   "source": [
    "df['DF0000000D5E803A_Raw_X'].describe()"
   ]
  },
  {
   "cell_type": "code",
   "execution_count": 62,
   "metadata": {},
   "outputs": [
    {
     "data": {
      "text/plain": [
       "Datetime\n",
       "2020-09-11 11:04:16             NaN\n",
       "2020-09-11 11:04:25             NaN\n",
       "2020-09-11 11:04:33             NaN\n",
       "2020-09-11 11:04:42             NaN\n",
       "2020-09-11 11:04:51    3.342062e+06\n",
       "                           ...     \n",
       "2020-09-11 15:01:11    3.342957e+06\n",
       "2020-09-11 15:01:20    3.342968e+06\n",
       "2020-09-11 15:02:00    3.343032e+06\n",
       "2020-09-11 15:02:09    3.343085e+06\n",
       "2020-09-11 15:02:18    3.343113e+06\n",
       "Name: 6A0000000D61333A_Raw_Bmag, Length: 1353, dtype: float64"
      ]
     },
     "execution_count": 62,
     "metadata": {},
     "output_type": "execute_result"
    }
   ],
   "source": [
    "df[f'{probe}_Raw_Bmag'].rolling(5).mean()"
   ]
  },
  {
   "cell_type": "code",
   "execution_count": 63,
   "metadata": {},
   "outputs": [
    {
     "data": {
      "text/plain": [
       "count    1.353000e+03\n",
       "mean     3.342418e+06\n",
       "std      2.474609e+03\n",
       "min      3.338509e+06\n",
       "25%      3.340071e+06\n",
       "50%      3.342923e+06\n",
       "75%      3.344107e+06\n",
       "max      3.347863e+06\n",
       "Name: 6A0000000D61333A_Raw_Bmag, dtype: float64"
      ]
     },
     "execution_count": 63,
     "metadata": {},
     "output_type": "execute_result"
    }
   ],
   "source": [
    "df[f'{probe}_Raw_Bmag'].describe()"
   ]
  },
  {
   "cell_type": "code",
   "execution_count": 64,
   "metadata": {},
   "outputs": [],
   "source": [
    "fig = scatter2d(2*[df['Time']], [df['SmarAct_Meas_Angle_1'],df['SmarAct_Meas_Angle_2']], inline=False)"
   ]
  },
  {
   "cell_type": "code",
   "execution_count": 65,
   "metadata": {},
   "outputs": [
    {
     "data": {
      "text/plain": [
       "1353"
      ]
     },
     "execution_count": 65,
     "metadata": {},
     "output_type": "execute_result"
    }
   ],
   "source": [
    "len(df)"
   ]
  },
  {
   "cell_type": "code",
   "execution_count": 58,
   "metadata": {},
   "outputs": [],
   "source": [
    "# pick out part before magnet turned off\n",
    "#df = df[df.index < '2020-09-09 18:55:00']"
   ]
  },
  {
   "cell_type": "code",
   "execution_count": 66,
   "metadata": {},
   "outputs": [
    {
     "data": {
      "text/plain": [
       "1353"
      ]
     },
     "execution_count": 66,
     "metadata": {},
     "output_type": "execute_result"
    }
   ],
   "source": [
    "len(df)"
   ]
  },
  {
   "cell_type": "markdown",
   "metadata": {},
   "source": [
    "### Gen Plots"
   ]
  },
  {
   "cell_type": "code",
   "execution_count": 67,
   "metadata": {},
   "outputs": [
    {
     "data": {
      "text/plain": [
       "Index(['Time', 'Magnet Current [V]', 'Magnet Voltage [V]', 'NMR [T]',\n",
       "       'NMR [FFT]', 'DF0000000D5E803A_Raw_X', 'DF0000000D5E803A_Raw_Y',\n",
       "       'DF0000000D5E803A_Raw_Z', 'C90000000D53983A_Raw_X',\n",
       "       'C90000000D53983A_Raw_Y', 'C90000000D53983A_Raw_Z',\n",
       "       'C50000000D5E473A_Raw_X', 'C50000000D5E473A_Raw_Y',\n",
       "       'C50000000D5E473A_Raw_Z', '6A0000000D61333A_Raw_X',\n",
       "       '6A0000000D61333A_Raw_Y', '6A0000000D61333A_Raw_Z',\n",
       "       'DF0000000D5E803A_Raw_T', 'C90000000D53983A_Raw_T',\n",
       "       'C50000000D5E473A_Raw_T', '6A0000000D61333A_Raw_T',\n",
       "       'DF0000000D5E803A_Cal_X', 'DF0000000D5E803A_Cal_Y',\n",
       "       'DF0000000D5E803A_Cal_Z', 'C90000000D53983A_Cal_X',\n",
       "       'C90000000D53983A_Cal_Y', 'C90000000D53983A_Cal_Z',\n",
       "       'C50000000D5E473A_Cal_X', 'C50000000D5E473A_Cal_Y',\n",
       "       'C50000000D5E473A_Cal_Z', '6A0000000D61333A_Cal_X',\n",
       "       '6A0000000D61333A_Cal_Y', '6A0000000D61333A_Cal_Z',\n",
       "       'DF0000000D5E803A_Cal_T', 'C90000000D53983A_Cal_T',\n",
       "       'C50000000D5E473A_Cal_T', '6A0000000D61333A_Cal_T',\n",
       "       'SmarAct_Pattern_Angle_1', 'SmarAct_Pattern_Angle_2',\n",
       "       'SmarAct_Meas_Angle_1', 'SmarAct_Meas_Rotation_Angle_1',\n",
       "       'SmarAct_Meas_Angle_2', 'SmarAct_Meas_Rotation_Angle_2',\n",
       "       '6A0000000D61333A_Cal_Bmag', '6A0000000D61333A_Raw_Bmag',\n",
       "       'C50000000D5E473A_Cal_Bmag', 'C50000000D5E473A_Raw_Bmag',\n",
       "       'C90000000D53983A_Cal_Bmag', 'C90000000D53983A_Raw_Bmag',\n",
       "       'DF0000000D5E803A_Cal_Bmag', 'DF0000000D5E803A_Raw_Bmag',\n",
       "       'seconds_delta', 'hours_delta', 'days_delta',\n",
       "       '6A0000000D61333A_Cal_Transverse', '6A0000000D61333A_Cal_Theta',\n",
       "       '6A0000000D61333A_Cal_Phi', 'C50000000D5E473A_Cal_Transverse',\n",
       "       'C50000000D5E473A_Cal_Theta', 'C50000000D5E473A_Cal_Phi',\n",
       "       'C90000000D53983A_Cal_Transverse', 'C90000000D53983A_Cal_Theta',\n",
       "       'C90000000D53983A_Cal_Phi', 'DF0000000D5E803A_Cal_Transverse',\n",
       "       'DF0000000D5E803A_Cal_Theta', 'DF0000000D5E803A_Cal_Phi',\n",
       "       '6A0000000D61333A_Raw_Transverse', '6A0000000D61333A_Raw_Theta',\n",
       "       '6A0000000D61333A_Raw_Phi', 'C50000000D5E473A_Raw_Transverse',\n",
       "       'C50000000D5E473A_Raw_Theta', 'C50000000D5E473A_Raw_Phi',\n",
       "       'C90000000D53983A_Raw_Transverse', 'C90000000D53983A_Raw_Theta',\n",
       "       'C90000000D53983A_Raw_Phi', 'DF0000000D5E803A_Raw_Transverse',\n",
       "       'DF0000000D5E803A_Raw_Theta', 'DF0000000D5E803A_Raw_Phi'],\n",
       "      dtype='object')"
      ]
     },
     "execution_count": 67,
     "metadata": {},
     "output_type": "execute_result"
    }
   ],
   "source": [
    "df.columns"
   ]
  },
  {
   "cell_type": "code",
   "execution_count": 68,
   "metadata": {},
   "outputs": [],
   "source": [
    "fig = scatter2d(df['Time'], df[f'{probe}_Cal_Bmag'], inline=False)"
   ]
  },
  {
   "cell_type": "code",
   "execution_count": 62,
   "metadata": {},
   "outputs": [],
   "source": [
    "fig = scatter2d(df['Time'], df['Magnet Current [V]'], inline=False)"
   ]
  },
  {
   "cell_type": "code",
   "execution_count": 79,
   "metadata": {},
   "outputs": [],
   "source": [
    "fig = scatter2d(2*[df['Time']], [df[f'{probe}_Cal_Theta'],df[f'{probe}_Cal_Phi']], inline=False)"
   ]
  },
  {
   "cell_type": "code",
   "execution_count": 80,
   "metadata": {},
   "outputs": [],
   "source": [
    "fig = scatter2d(2*[df['Time']], [df['SmarAct_Meas_Angle_1'],df['SmarAct_Meas_Angle_2']], inline=False)"
   ]
  },
  {
   "cell_type": "code",
   "execution_count": 81,
   "metadata": {},
   "outputs": [],
   "source": [
    "fig = scatter2d(3*[df['Time']], [df[f'{probe}_Cal_{i}'] for i in ['X','Y','Z']], inline=False)"
   ]
  },
  {
   "cell_type": "code",
   "execution_count": 82,
   "metadata": {},
   "outputs": [],
   "source": [
    "fig = scatter2d(3*[df['Time']], [df[f'{probe}_Raw_{i}'] for i in ['X','Y','Z']], inline=False)"
   ]
  },
  {
   "cell_type": "code",
   "execution_count": null,
   "metadata": {},
   "outputs": [],
   "source": []
  },
  {
   "cell_type": "code",
   "execution_count": 83,
   "metadata": {},
   "outputs": [
    {
     "data": {
      "text/plain": [
       "<matplotlib.collections.PathCollection at 0x7fee1844b3a0>"
      ]
     },
     "execution_count": 83,
     "metadata": {},
     "output_type": "execute_result"
    },
    {
     "data": {
      "image/png": "[encoded data removed]",
      "text/plain": [
       "<Figure size 864x576 with 1 Axes>"
      ]
     },
     "metadata": {
      "needs_background": "light"
     },
     "output_type": "display_data"
    }
   ],
   "source": [
    "fig = plt.figure()\n",
    "plt.scatter(df[f'{probe}_Cal_Phi'], df['SmarAct_Meas_Angle_1'])"
   ]
  },
  {
   "cell_type": "code",
   "execution_count": 84,
   "metadata": {},
   "outputs": [],
   "source": [
    "df['SmarAct_Meas_Angle_2_pm'] = [i if i <= 180 else i-360 for i in df.SmarAct_Meas_Angle_2]"
   ]
  },
  {
   "cell_type": "code",
   "execution_count": 85,
   "metadata": {},
   "outputs": [
    {
     "data": {
      "text/plain": [
       "<matplotlib.collections.PathCollection at 0x7fee18a7bcd0>"
      ]
     },
     "execution_count": 85,
     "metadata": {},
     "output_type": "execute_result"
    },
    {
     "data": {
      "image/png": "[encoded data removed]",
      "text/plain": [
       "<Figure size 864x576 with 1 Axes>"
      ]
     },
     "metadata": {
      "needs_background": "light"
     },
     "output_type": "display_data"
    }
   ],
   "source": [
    "fig = plt.figure()\n",
    "plt.scatter(df[f'{probe}_Cal_Theta'], df['SmarAct_Meas_Angle_2_pm'])"
   ]
  },
  {
   "cell_type": "code",
   "execution_count": 86,
   "metadata": {},
   "outputs": [
    {
     "data": {
      "text/plain": [
       "<matplotlib.collections.PathCollection at 0x7fee186a9d30>"
      ]
     },
     "execution_count": 86,
     "metadata": {},
     "output_type": "execute_result"
    },
    {
     "data": {
      "image/png": "[encoded data removed]",
      "text/plain": [
       "<Figure size 864x576 with 1 Axes>"
      ]
     },
     "metadata": {
      "needs_background": "light"
     },
     "output_type": "display_data"
    }
   ],
   "source": [
    "a = 1.00\n",
    "b = 0.01\n",
    "fig = plt.figure()\n",
    "plt.scatter(df[f'{probe}_Cal_Phi'], a*df['SmarAct_Meas_Angle_1']+b*df['SmarAct_Meas_Angle_2_pm'])"
   ]
  },
  {
   "cell_type": "code",
   "execution_count": 87,
   "metadata": {},
   "outputs": [
    {
     "data": {
      "text/plain": [
       "<matplotlib.collections.PathCollection at 0x7fee17ceefd0>"
      ]
     },
     "execution_count": 87,
     "metadata": {},
     "output_type": "execute_result"
    },
    {
     "data": {
      "image/png": "[encoded data removed]",
      "text/plain": [
       "<Figure size 864x576 with 1 Axes>"
      ]
     },
     "metadata": {
      "needs_background": "light"
     },
     "output_type": "display_data"
    }
   ],
   "source": [
    "a = -1\n",
    "b = .01\n",
    "fig = plt.figure()\n",
    "plt.scatter(df[f'{probe}_Cal_Theta'], a*df['SmarAct_Meas_Angle_1']+b*df['SmarAct_Meas_Angle_2_pm'])"
   ]
  },
  {
   "cell_type": "code",
   "execution_count": null,
   "metadata": {},
   "outputs": [],
   "source": []
  },
  {
   "cell_type": "markdown",
   "metadata": {},
   "source": [
    "## Fitting to find angular relationships (Regression)"
   ]
  },
  {
   "cell_type": "markdown",
   "metadata": {},
   "source": [
    "### Test 1: Fit individually"
   ]
  },
  {
   "cell_type": "code",
   "execution_count": 88,
   "metadata": {},
   "outputs": [],
   "source": [
    "df[f'{probe}_Cal_Theta_Deg'] = np.degrees(df[f'{probe}_Cal_Theta'])\n",
    "df[f'{probe}_Cal_Phi_Deg'] = np.degrees(df[f'{probe}_Cal_Phi'])"
   ]
  },
  {
   "cell_type": "code",
   "execution_count": 89,
   "metadata": {},
   "outputs": [],
   "source": [
    "def regress_2angle(angle1, angle2, **params):\n",
    "    return params['m1'] * angle1 + params['m2'] * angle2 + params['b']"
   ]
  },
  {
   "cell_type": "code",
   "execution_count": 90,
   "metadata": {},
   "outputs": [],
   "source": [
    "model = lm.Model(regress_2angle, independent_vars=['angle1','angle2'])\n",
    "params = lm.Parameters()\n",
    "params.add('m1', value=0, vary=True)\n",
    "params.add('m2', value=0, vary=True)\n",
    "params.add('b', value=0, vary=True)"
   ]
  },
  {
   "cell_type": "code",
   "execution_count": 91,
   "metadata": {},
   "outputs": [],
   "source": [
    "#samples = np.concatenate([df['SmarAct_Meas_Angle_1'].values,df['SmarAct_Meas_Angle_2'].values])\n",
    "result_theta = model.fit(df[f'{probe}_Cal_Theta_Deg'], angle1=df['SmarAct_Meas_Angle_1'],\n",
    "                         angle2=df['SmarAct_Meas_Angle_2'], params=params)\n",
    "result_phi = model.fit(df[f'{probe}_Cal_Phi_Deg'], angle1=df['SmarAct_Meas_Angle_1'],\n",
    "                         angle2=df['SmarAct_Meas_Angle_2'], params=params)"
   ]
  },
  {
   "cell_type": "code",
   "execution_count": 92,
   "metadata": {},
   "outputs": [
    {
     "data": {
      "text/html": [
       "<table><tr><th> name </th><th> value </th><th> standard error </th><th> relative error </th><th> initial value </th><th> min </th><th> max </th><th> vary </th></tr><tr><td> m1 </td><td> -0.41437746 </td><td>  0.20950890 </td><td> (50.56%) </td><td> 0 </td><td>        -inf </td><td>         inf </td><td> True </td></tr><tr><td> m2 </td><td> -0.01093812 </td><td>  1.9621e-04 </td><td> (1.79%) </td><td> 0 </td><td>        -inf </td><td>         inf </td><td> True </td></tr><tr><td> b </td><td>  239.515641 </td><td>  74.4170067 </td><td> (31.07%) </td><td> 0 </td><td>        -inf </td><td>         inf </td><td> True </td></tr></table>"
      ],
      "text/plain": [
       "Parameters([('m1',\n",
       "             <Parameter 'm1', value=-0.41437746364963185 +/- 0.21, bounds=[-inf:inf]>),\n",
       "            ('m2',\n",
       "             <Parameter 'm2', value=-0.01093812231742936 +/- 0.000196, bounds=[-inf:inf]>),\n",
       "            ('b',\n",
       "             <Parameter 'b', value=239.5156413997584 +/- 74.4, bounds=[-inf:inf]>)])"
      ]
     },
     "execution_count": 92,
     "metadata": {},
     "output_type": "execute_result"
    }
   ],
   "source": [
    "result_theta.params"
   ]
  },
  {
   "cell_type": "code",
   "execution_count": 93,
   "metadata": {},
   "outputs": [
    {
     "data": {
      "text/html": [
       "<table><tr><th> name </th><th> value </th><th> standard error </th><th> relative error </th><th> initial value </th><th> min </th><th> max </th><th> vary </th></tr><tr><td> m1 </td><td> -0.50907667 </td><td>  0.14099727 </td><td> (27.70%) </td><td> 0 </td><td>        -inf </td><td>         inf </td><td> True </td></tr><tr><td> m2 </td><td>  0.00225845 </td><td>  1.3204e-04 </td><td> (5.85%) </td><td> 0 </td><td>        -inf </td><td>         inf </td><td> True </td></tr><tr><td> b </td><td>  182.134348 </td><td>  50.0818557 </td><td> (27.50%) </td><td> 0 </td><td>        -inf </td><td>         inf </td><td> True </td></tr></table>"
      ],
      "text/plain": [
       "Parameters([('m1',\n",
       "             <Parameter 'm1', value=-0.5090766723913306 +/- 0.141, bounds=[-inf:inf]>),\n",
       "            ('m2',\n",
       "             <Parameter 'm2', value=0.002258454690730242 +/- 0.000132, bounds=[-inf:inf]>),\n",
       "            ('b',\n",
       "             <Parameter 'b', value=182.13434839190606 +/- 50.1, bounds=[-inf:inf]>)])"
      ]
     },
     "execution_count": 93,
     "metadata": {},
     "output_type": "execute_result"
    }
   ],
   "source": [
    "result_phi.params"
   ]
  },
  {
   "cell_type": "code",
   "execution_count": 94,
   "metadata": {},
   "outputs": [
    {
     "name": "stdout",
     "output_type": "stream",
     "text": [
      "[[Model]]\n",
      "    Model(regress_2angle)\n",
      "[[Fit Statistics]]\n",
      "    # fitting method   = leastsq\n",
      "    # function evals   = 37\n",
      "    # data points      = 1783\n",
      "    # variables        = 3\n",
      "    chi-square         = 2313.07861\n",
      "    reduced chi-square = 1.29948237\n",
      "    Akaike info crit   = 470.082859\n",
      "    Bayesian info crit = 486.541017\n",
      "[[Variables]]\n",
      "    m1: -0.41437746 +/- 0.20950890 (50.56%) (init = 0)\n",
      "    m2: -0.01093812 +/- 1.9621e-04 (1.79%) (init = 0)\n",
      "    b:   239.515641 +/- 74.4170067 (31.07%) (init = 0)\n",
      "[[Correlations]] (unreported correlations are < 0.100)\n",
      "    C(m1, b) = -1.000\n"
     ]
    }
   ],
   "source": [
    "print(result_theta.fit_report())"
   ]
  },
  {
   "cell_type": "code",
   "execution_count": 95,
   "metadata": {},
   "outputs": [
    {
     "name": "stdout",
     "output_type": "stream",
     "text": [
      "[[Model]]\n",
      "    Model(regress_2angle)\n",
      "[[Fit Statistics]]\n",
      "    # fitting method   = leastsq\n",
      "    # function evals   = 33\n",
      "    # data points      = 1783\n",
      "    # variables        = 3\n",
      "    chi-square         = 1047.63196\n",
      "    reduced chi-square = 0.58855728\n",
      "    Akaike info crit   = -942.136989\n",
      "    Bayesian info crit = -925.678831\n",
      "[[Variables]]\n",
      "    m1: -0.50907667 +/- 0.14099727 (27.70%) (init = 0)\n",
      "    m2:  0.00225845 +/- 1.3204e-04 (5.85%) (init = 0)\n",
      "    b:   182.134348 +/- 50.0818557 (27.50%) (init = 0)\n",
      "[[Correlations]] (unreported correlations are < 0.100)\n",
      "    C(m1, b) = -1.000\n"
     ]
    }
   ],
   "source": [
    "print(result_phi.fit_report())"
   ]
  },
  {
   "cell_type": "code",
   "execution_count": 96,
   "metadata": {},
   "outputs": [
    {
     "data": {
      "text/plain": [
       "182.13434839190606"
      ]
     },
     "execution_count": 96,
     "metadata": {},
     "output_type": "execute_result"
    }
   ],
   "source": [
    "regress_2angle(0, 0, **result_phi.params)"
   ]
  },
  {
   "cell_type": "code",
   "execution_count": 97,
   "metadata": {},
   "outputs": [],
   "source": [
    "a1s = np.linspace(0, 180, 181)\n",
    "a2s = np.linspace(0, 360, 361)"
   ]
  },
  {
   "cell_type": "code",
   "execution_count": 98,
   "metadata": {},
   "outputs": [],
   "source": [
    "A1, A2 = np.meshgrid(a1s, a2s)"
   ]
  },
  {
   "cell_type": "code",
   "execution_count": 99,
   "metadata": {},
   "outputs": [],
   "source": [
    "TH = regress_2angle(A1, A2, **result_theta.params)\n",
    "PH = regress_2angle(A1, A2, **result_phi.params)"
   ]
  },
  {
   "cell_type": "code",
   "execution_count": 100,
   "metadata": {},
   "outputs": [
    {
     "data": {
      "text/plain": [
       "(160.9899739085501, 239.5156413997584, 90.50054736146656, 182.94739208056893)"
      ]
     },
     "execution_count": 100,
     "metadata": {},
     "output_type": "execute_result"
    }
   ],
   "source": [
    "TH.min(), TH.max(), PH.min(), PH.max()"
   ]
  },
  {
   "cell_type": "code",
   "execution_count": 101,
   "metadata": {},
   "outputs": [
    {
     "data": {
      "text/plain": [
       "(78.52566749120831, 92.44684471910237)"
      ]
     },
     "execution_count": 101,
     "metadata": {},
     "output_type": "execute_result"
    }
   ],
   "source": [
    "TH.max()-TH.min(), PH.max()-PH.min()"
   ]
  },
  {
   "cell_type": "markdown",
   "metadata": {},
   "source": [
    "-----------"
   ]
  },
  {
   "cell_type": "markdown",
   "metadata": {},
   "source": [
    "### Test 2: Euler Angles"
   ]
  },
  {
   "cell_type": "code",
   "execution_count": 102,
   "metadata": {},
   "outputs": [],
   "source": [
    "from scipy.spatial.transform import Rotation"
   ]
  },
  {
   "cell_type": "code",
   "execution_count": 103,
   "metadata": {},
   "outputs": [],
   "source": [
    "df[f'{probe}_Cal_Theta_Deg'] = np.degrees(df[f'{probe}_Cal_Theta'])\n",
    "df[f'{probe}_Cal_Phi_Deg'] = np.degrees(df[f'{probe}_Cal_Phi'])\n",
    "df['SmarAct_Meas_Angle_1_Rad'] = np.radians(df['SmarAct_Meas_Angle_1'])\n",
    "df['SmarAct_Meas_Angle_2_Rad'] = np.radians(df['SmarAct_Meas_Angle_2'])\n",
    "#df['SmarAct_Meas_Angle_1_Rad_pm'] =  df['SmarAct_Meas_Angle_1_Rad'] - (df['SmarAct_Meas_Angle_1_Rad'] > np.pi) * 2 * np.pi\n",
    "df['SmarAct_Meas_Angle_1_Rad_pm'] =  df['SmarAct_Meas_Angle_1_Rad'] - (df['SmarAct_Meas_Angle_1_Rad'] > np.pi) * np.pi\n",
    "df['SmarAct_Meas_Angle_2_Rad_pm'] = df['SmarAct_Meas_Angle_2_Rad'] - (df['SmarAct_Meas_Angle_2_Rad'] > np.pi) * 2 * np.pi"
   ]
  },
  {
   "cell_type": "code",
   "execution_count": 105,
   "metadata": {},
   "outputs": [
    {
     "data": {
      "text/plain": [
       "count    1783.000000\n",
       "mean       -0.013772\n",
       "std         0.904971\n",
       "min        -1.570796\n",
       "25%        -0.797238\n",
       "50%        -0.007893\n",
       "75%         0.765666\n",
       "max         1.570798\n",
       "Name: SmarAct_Meas_Angle_2_Rad_pm, dtype: float64"
      ]
     },
     "execution_count": 105,
     "metadata": {},
     "output_type": "execute_result"
    }
   ],
   "source": [
    "df['SmarAct_Meas_Angle_2_Rad_pm'].describe()"
   ]
  },
  {
   "cell_type": "code",
   "execution_count": 106,
   "metadata": {},
   "outputs": [
    {
     "data": {
      "text/plain": [
       "count    1783.000000\n",
       "mean        6.199394\n",
       "std         0.002250\n",
       "min         6.195919\n",
       "25%         6.197673\n",
       "50%         6.199427\n",
       "75%         6.201181\n",
       "max         6.202935\n",
       "Name: SmarAct_Meas_Angle_1_Rad, dtype: float64"
      ]
     },
     "execution_count": 106,
     "metadata": {},
     "output_type": "execute_result"
    }
   ],
   "source": [
    "df['SmarAct_Meas_Angle_1_Rad'].describe()"
   ]
  },
  {
   "cell_type": "code",
   "execution_count": 107,
   "metadata": {},
   "outputs": [
    {
     "data": {
      "text/plain": [
       "(Datetime\n",
       " 2020-09-10 12:22:48    3.054326\n",
       " 2020-09-10 12:22:57    3.054326\n",
       " 2020-09-10 12:23:06    3.054326\n",
       " 2020-09-10 12:23:14    3.054326\n",
       " 2020-09-10 12:23:23    3.054326\n",
       "                          ...   \n",
       " 2020-09-10 16:44:01    3.061342\n",
       " 2020-09-10 16:44:10    3.061343\n",
       " 2020-09-10 16:44:19    3.061343\n",
       " 2020-09-10 16:44:28    3.061343\n",
       " 2020-09-10 16:44:36    3.061342\n",
       " Name: SmarAct_Meas_Angle_1_Rad_pm, Length: 1783, dtype: float64,\n",
       " Datetime\n",
       " 2020-09-10 12:22:48   -1.570796\n",
       " 2020-09-10 12:22:57   -1.555009\n",
       " 2020-09-10 12:23:06   -1.539223\n",
       " 2020-09-10 12:23:14   -1.523436\n",
       " 2020-09-10 12:23:23   -1.507649\n",
       "                          ...   \n",
       " 2020-09-10 16:44:01    1.239273\n",
       " 2020-09-10 16:44:10    1.255060\n",
       " 2020-09-10 16:44:19    1.270846\n",
       " 2020-09-10 16:44:28    1.286633\n",
       " 2020-09-10 16:44:36    1.302420\n",
       " Name: SmarAct_Meas_Angle_2_Rad_pm, Length: 1783, dtype: float64)"
      ]
     },
     "execution_count": 107,
     "metadata": {},
     "output_type": "execute_result"
    }
   ],
   "source": [
    "df['SmarAct_Meas_Angle_1_Rad_pm'], df['SmarAct_Meas_Angle_2_Rad_pm']"
   ]
  },
  {
   "cell_type": "code",
   "execution_count": 108,
   "metadata": {},
   "outputs": [],
   "source": [
    "def smaract_to_Bangle(angle1, angle2, **params):\n",
    "    # 3 euler angles\n",
    "    sign_cos = np.sign(angle1)\n",
    "    z = np.cos(angle1)\n",
    "    x = np.sin(angle1)*np.cos(angle2)\n",
    "    y = np.sin(angle1)*np.sin(angle2)\n",
    "    pos = np.array([x,y,z]).reshape(3, -1).T\n",
    "    #print(pos.shape)\n",
    "    rot = Rotation.from_euler('XYZ', np.array([params['e1'],params['e2'],params['e3']]))\n",
    "    #rot = Rotation.from_euler('XYZ', np.array([params['e1'],params['e2'],params['e3']]))\n",
    "    pos_rot = rot.apply(pos)\n",
    "    #print(pos_rot.shape)\n",
    "    #print((pos == pos_rot).all())\n",
    "    theta = sign_cos * np.arccos(pos_rot[:,2], np.linalg.norm(pos_rot, axis=1))\n",
    "    phi = np.arctan2(sign_cos*pos_rot[:,1], sign_cos*pos_rot[:,0])\n",
    "    return np.concatenate([theta, phi])"
   ]
  },
  {
   "cell_type": "code",
   "execution_count": 109,
   "metadata": {},
   "outputs": [],
   "source": [
    "thetas, phis = smaract_to_Bangle(df['SmarAct_Meas_Angle_1_Rad_pm'].values, df['SmarAct_Meas_Angle_2_Rad_pm'].values,\n",
    "                                 **{'e1':0,'e2':-np.pi/2,'e3':np.pi/2}).reshape(2, -1)"
   ]
  },
  {
   "cell_type": "code",
   "execution_count": 110,
   "metadata": {},
   "outputs": [
    {
     "data": {
      "text/plain": [
       "(array([1.48352983, 1.48354063, 1.48357343, ..., 1.64745616, 1.64782158,\n",
       "        1.64816796]),\n",
       " array([1.52098038, 1.52117051, 1.5213704 , ..., 1.6142324 , 1.61431769,\n",
       "        1.61434768]))"
      ]
     },
     "execution_count": 110,
     "metadata": {},
     "output_type": "execute_result"
    }
   ],
   "source": [
    "thetas, df[f'{probe}_Cal_Theta'].values"
   ]
  },
  {
   "cell_type": "code",
   "execution_count": 111,
   "metadata": {},
   "outputs": [
    {
     "data": {
      "text/plain": [
       "(array([-9.16179508e-09,  1.38111457e-03,  2.76187939e-03, ...,\n",
       "         2.37582452e-02,  2.25430375e-02,  2.13221963e-02]),\n",
       " array([0.01192644, 0.01270769, 0.01348718, ..., 0.00331155, 0.00263573,\n",
       "        0.00188946]))"
      ]
     },
     "execution_count": 111,
     "metadata": {},
     "output_type": "execute_result"
    }
   ],
   "source": [
    "phis, df[f'{probe}_Cal_Phi'].values"
   ]
  },
  {
   "cell_type": "code",
   "execution_count": 112,
   "metadata": {},
   "outputs": [
    {
     "data": {
      "text/plain": [
       "count    1783.000000\n",
       "mean       -0.006868\n",
       "std         0.026599\n",
       "min        -0.039418\n",
       "25%        -0.033934\n",
       "50%        -0.010974\n",
       "75%         0.018621\n",
       "max         0.038134\n",
       "Name: 6A0000000D61333A_Cal_Theta, dtype: float64"
      ]
     },
     "execution_count": 112,
     "metadata": {},
     "output_type": "execute_result"
    }
   ],
   "source": [
    "(thetas - df[f'{probe}_Cal_Theta']).describe()"
   ]
  },
  {
   "cell_type": "code",
   "execution_count": 113,
   "metadata": {},
   "outputs": [
    {
     "data": {
      "text/plain": [
       "count    1783.000000\n",
       "mean        0.023497\n",
       "std         0.015014\n",
       "min        -0.012714\n",
       "25%         0.013002\n",
       "50%         0.028223\n",
       "75%         0.036548\n",
       "max         0.040215\n",
       "Name: 6A0000000D61333A_Cal_Phi, dtype: float64"
      ]
     },
     "execution_count": 113,
     "metadata": {},
     "output_type": "execute_result"
    }
   ],
   "source": [
    "(phis - df[f'{probe}_Cal_Phi']).describe()"
   ]
  },
  {
   "cell_type": "code",
   "execution_count": 114,
   "metadata": {},
   "outputs": [
    {
     "data": {
      "text/plain": [
       "(array([1.48352983, 1.48354063, 1.48357343, ..., 1.64745616, 1.64782158,\n",
       "        1.64816796]),\n",
       " array([3.05432616, 3.05432605, 3.05432616, ..., 3.06134255, 3.06134259,\n",
       "        3.06134243]))"
      ]
     },
     "execution_count": 114,
     "metadata": {},
     "output_type": "execute_result"
    }
   ],
   "source": [
    "thetas, df['SmarAct_Meas_Angle_1_Rad_pm'].values"
   ]
  },
  {
   "cell_type": "code",
   "execution_count": 115,
   "metadata": {},
   "outputs": [
    {
     "data": {
      "text/plain": [
       "False"
      ]
     },
     "execution_count": 115,
     "metadata": {},
     "output_type": "execute_result"
    }
   ],
   "source": [
    "np.isclose(thetas, df['SmarAct_Meas_Angle_1_Rad_pm'].values).all()"
   ]
  },
  {
   "cell_type": "code",
   "execution_count": 116,
   "metadata": {},
   "outputs": [
    {
     "data": {
      "text/plain": [
       "(array([-9.16179508e-09,  1.38111457e-03,  2.76187939e-03, ...,\n",
       "         2.37582452e-02,  2.25430375e-02,  2.13221963e-02]),\n",
       " array([-1.57079643, -1.55500947, -1.53922259, ...,  1.27084645,\n",
       "         1.28663334,  1.30242026]))"
      ]
     },
     "execution_count": 116,
     "metadata": {},
     "output_type": "execute_result"
    }
   ],
   "source": [
    "phis, df['SmarAct_Meas_Angle_2_Rad_pm'].values"
   ]
  },
  {
   "cell_type": "code",
   "execution_count": 117,
   "metadata": {},
   "outputs": [
    {
     "data": {
      "text/plain": [
       "False"
      ]
     },
     "execution_count": 117,
     "metadata": {},
     "output_type": "execute_result"
    }
   ],
   "source": [
    "np.isclose(phis, df['SmarAct_Meas_Angle_2_Rad_pm'].values).all()"
   ]
  },
  {
   "cell_type": "code",
   "execution_count": 137,
   "metadata": {},
   "outputs": [],
   "source": [
    "model = lm.Model(smaract_to_Bangle, independent_vars=['angle1','angle2'])\n",
    "params = lm.Parameters()\n",
    "params.add('e1', value=0, vary=True, min=-np.pi, max=np.pi)\n",
    "params.add('e2', value=0, vary=True, min=-np.pi, max=np.pi)\n",
    "params.add('e3', value=0, vary=False, min=-np.pi, max=np.pi)\n",
    "#params.add('e1', value=np.pi, vary=True, min=0, max=2*np.pi)\n",
    "#params.add('e2', value=np.pi/2, vary=True, min=0, max=np.pi)\n",
    "#params.add('e3', value=np.pi, vary=True, min=0, max=2*np.pi)"
   ]
  },
  {
   "cell_type": "code",
   "execution_count": 138,
   "metadata": {},
   "outputs": [],
   "source": [
    "samples = np.concatenate([df[f'{probe}_Cal_Theta'].values,df[f'{probe}_Cal_Phi'].values])\n",
    "result = model.fit(samples, angle1=df['SmarAct_Meas_Angle_1_Rad_pm'].values,\n",
    "                   angle2=df['SmarAct_Meas_Angle_2_Rad_pm'].values, params=params)\n",
    "\n",
    "#result = model.fit(samples, angle1=df['SmarAct_Meas_Angle_2_Rad_pm'].values,\n",
    "#                   angle2=df['SmarAct_Meas_Angle_1_Rad_pm'].values, params=params)\n",
    "\n",
    "#result_theta = model.fit(df[f'{probe}_Cal_Theta_Deg'], angle1=df['SmarAct_Meas_Angle_1'],\n",
    "#                         angle2=df['SmarAct_Meas_Angle_2'], params=params)\n",
    "#result_phi = model.fit(df[f'{probe}_Cal_Phi_Deg'], angle1=df['SmarAct_Meas_Angle_1'],\n",
    "#                         angle2=df['SmarAct_Meas_Angle_2'], params=params)"
   ]
  },
  {
   "cell_type": "code",
   "execution_count": 139,
   "metadata": {
    "scrolled": true
   },
   "outputs": [
    {
     "data": {
      "text/html": [
       "<table><tr><th> name </th><th> value </th><th> standard error </th><th> relative error </th><th> initial value </th><th> min </th><th> max </th><th> vary </th></tr><tr><td> e1 </td><td> -1.78115025 </td><td>  0.00677632 </td><td> (0.38%) </td><td> 0 </td><td> -3.14159265 </td><td>  3.14159265 </td><td> True </td></tr><tr><td> e2 </td><td> -1.54791309 </td><td>  4.8449e-04 </td><td> (0.03%) </td><td> 0 </td><td> -3.14159265 </td><td>  3.14159265 </td><td> True </td></tr><tr><td> e3 </td><td>  0.00000000 </td><td>  0.00000000 </td><td>  </td><td> 0 </td><td> -3.14159265 </td><td>  3.14159265 </td><td> False </td></tr></table>"
      ],
      "text/plain": [
       "Parameters([('e1',\n",
       "             <Parameter 'e1', value=-1.7811502492440423 +/- 0.00678, bounds=[-3.141592653589793:3.141592653589793]>),\n",
       "            ('e2',\n",
       "             <Parameter 'e2', value=-1.547913089896357 +/- 0.000484, bounds=[-3.141592653589793:3.141592653589793]>),\n",
       "            ('e3',\n",
       "             <Parameter 'e3', value=0 (fixed), bounds=[-3.141592653589793:3.141592653589793]>)])"
      ]
     },
     "execution_count": 139,
     "metadata": {},
     "output_type": "execute_result"
    }
   ],
   "source": [
    "result.params"
   ]
  },
  {
   "cell_type": "code",
   "execution_count": 140,
   "metadata": {},
   "outputs": [
    {
     "name": "stdout",
     "output_type": "stream",
     "text": [
      "[[Model]]\n",
      "    Model(smaract_to_Bangle)\n",
      "[[Fit Statistics]]\n",
      "    # fitting method   = leastsq\n",
      "    # function evals   = 52\n",
      "    # data points      = 3566\n",
      "    # variables        = 2\n",
      "    chi-square         = 1.49115300\n",
      "    reduced chi-square = 4.1839e-04\n",
      "    Akaike info crit   = -27738.2324\n",
      "    Bayesian info crit = -27725.8740\n",
      "[[Variables]]\n",
      "    e1: -1.78115025 +/- 0.00677632 (0.38%) (init = 0)\n",
      "    e2: -1.54791309 +/- 4.8449e-04 (0.03%) (init = 0)\n",
      "    e3:  0 (fixed)\n"
     ]
    }
   ],
   "source": [
    "print(result.fit_report())"
   ]
  },
  {
   "cell_type": "code",
   "execution_count": 141,
   "metadata": {},
   "outputs": [
    {
     "data": {
      "text/plain": [
       "array([ 1.48068023,  1.48097918,  1.48129957, ..., -0.01518159,\n",
       "       -0.01644644, -0.01771278])"
      ]
     },
     "execution_count": 141,
     "metadata": {},
     "output_type": "execute_result"
    }
   ],
   "source": [
    "result.best_fit"
   ]
  },
  {
   "cell_type": "code",
   "execution_count": 142,
   "metadata": {},
   "outputs": [
    {
     "data": {
      "text/plain": [
       "array([1.52098038, 1.52117051, 1.5213704 , ..., 0.00331155, 0.00263573,\n",
       "       0.00188946])"
      ]
     },
     "execution_count": 142,
     "metadata": {},
     "output_type": "execute_result"
    }
   ],
   "source": [
    "samples"
   ]
  },
  {
   "cell_type": "code",
   "execution_count": 143,
   "metadata": {},
   "outputs": [
    {
     "data": {
      "text/plain": [
       "0.0001818821199490011"
      ]
     },
     "execution_count": 143,
     "metadata": {},
     "output_type": "execute_result"
    }
   ],
   "source": [
    "np.mean(samples - result.best_fit)"
   ]
  },
  {
   "cell_type": "code",
   "execution_count": 144,
   "metadata": {},
   "outputs": [
    {
     "data": {
      "text/plain": [
       "0.020448113824611456"
      ]
     },
     "execution_count": 144,
     "metadata": {},
     "output_type": "execute_result"
    }
   ],
   "source": [
    "np.std(samples - result.best_fit)"
   ]
  },
  {
   "cell_type": "code",
   "execution_count": 145,
   "metadata": {},
   "outputs": [
    {
     "data": {
      "image/png": "[encoded data removed]",
      "text/plain": [
       "<Figure size 864x576 with 1 Axes>"
      ]
     },
     "metadata": {
      "needs_background": "light"
     },
     "output_type": "display_data"
    }
   ],
   "source": [
    "plt.hist(samples-result.best_fit, bins=50);"
   ]
  },
  {
   "cell_type": "code",
   "execution_count": 146,
   "metadata": {},
   "outputs": [
    {
     "data": {
      "text/plain": [
       "Datetime\n",
       "2020-09-10 12:22:48    0.0\n",
       "2020-09-10 12:22:57    0.0\n",
       "2020-09-10 12:23:06    0.0\n",
       "2020-09-10 12:23:14    0.0\n",
       "2020-09-10 12:23:23    0.0\n",
       "                      ... \n",
       "2020-09-10 16:44:01    0.0\n",
       "2020-09-10 16:44:10    0.0\n",
       "2020-09-10 16:44:19    0.0\n",
       "2020-09-10 16:44:28    0.0\n",
       "2020-09-10 16:44:36    0.0\n",
       "Name: NMR [T], Length: 1783, dtype: float64"
      ]
     },
     "execution_count": 146,
     "metadata": {},
     "output_type": "execute_result"
    }
   ],
   "source": [
    "df['NMR [T]']"
   ]
  },
  {
   "cell_type": "code",
   "execution_count": 150,
   "metadata": {},
   "outputs": [
    {
     "data": {
      "text/plain": [
       "<matplotlib.collections.PathCollection at 0x7fee16c64f70>"
      ]
     },
     "execution_count": 150,
     "metadata": {},
     "output_type": "execute_result"
    },
    {
     "data": {
      "image/png": "[encoded data removed]",
      "text/plain": [
       "<Figure size 864x576 with 1 Axes>"
      ]
     },
     "metadata": {
      "needs_background": "light"
     },
     "output_type": "display_data"
    }
   ],
   "source": [
    "plt.scatter(df[f'{probe}_Cal_Bmag'], df[f'{probe}_Raw_Bmag'], s=1)"
   ]
  },
  {
   "cell_type": "code",
   "execution_count": 151,
   "metadata": {},
   "outputs": [
    {
     "data": {
      "text/plain": [
       "<matplotlib.collections.PathCollection at 0x7fee1731ed30>"
      ]
     },
     "execution_count": 151,
     "metadata": {},
     "output_type": "execute_result"
    },
    {
     "data": {
      "image/png": "[encoded data removed]",
      "text/plain": [
       "<Figure size 864x576 with 1 Axes>"
      ]
     },
     "metadata": {
      "needs_background": "light"
     },
     "output_type": "display_data"
    }
   ],
   "source": [
    "plt.scatter(df[f'{probe}_Cal_Bmag'], df[f'{probe}_Cal_T'], c=df[f'{probe}_Raw_Bmag'], s=1)"
   ]
  },
  {
   "cell_type": "markdown",
   "metadata": {},
   "source": [
    "### Test 3: Voltage Regression (vs. Temp, B)"
   ]
  },
  {
   "cell_type": "code",
   "execution_count": 152,
   "metadata": {},
   "outputs": [],
   "source": [
    "def regress_B_t(B, t, **params):\n",
    "    return params['m1'] * B + params['m2'] * t + params['b']"
   ]
  },
  {
   "cell_type": "code",
   "execution_count": 154,
   "metadata": {},
   "outputs": [],
   "source": [
    "model = lm.Model(regress_B_t, independent_vars=['B','t'])\n",
    "params = lm.Parameters()\n",
    "params.add('m1', value=0, vary=True)\n",
    "params.add('m2', value=0, vary=True)\n",
    "params.add('b', value=0, vary=True)"
   ]
  },
  {
   "cell_type": "code",
   "execution_count": 155,
   "metadata": {},
   "outputs": [],
   "source": [
    "#samples = np.concatenate([df['SmarAct_Meas_Angle_1'].values,df['SmarAct_Meas_Angle_2'].values])\n",
    "result = model.fit(df[f'{probe}_Raw_Bmag'], B=df[f'{probe}_Cal_Bmag'],\n",
    "                         t=df[f'{probe}_Cal_T'], params=params)"
   ]
  },
  {
   "cell_type": "code",
   "execution_count": 156,
   "metadata": {},
   "outputs": [
    {
     "data": {
      "text/html": [
       "<table><tr><th> name </th><th> value </th><th> standard error </th><th> relative error </th><th> initial value </th><th> min </th><th> max </th><th> vary </th></tr><tr><td> m1 </td><td>  19612031.2 </td><td>  979733.068 </td><td> (5.00%) </td><td> 0 </td><td>        -inf </td><td>         inf </td><td> True </td></tr><tr><td> m2 </td><td>  1925.11481 </td><td>  181.528763 </td><td> (9.43%) </td><td> 0 </td><td>        -inf </td><td>         inf </td><td> True </td></tr><tr><td> b </td><td> -20388655.3 </td><td>  1186821.23 </td><td> (5.82%) </td><td> 0 </td><td>        -inf </td><td>         inf </td><td> True </td></tr></table>"
      ],
      "text/plain": [
       "Parameters([('m1',\n",
       "             <Parameter 'm1', value=19612031.192003738 +/- 9.8e+05, bounds=[-inf:inf]>),\n",
       "            ('m2',\n",
       "             <Parameter 'm2', value=1925.114807869478 +/- 182, bounds=[-inf:inf]>),\n",
       "            ('b',\n",
       "             <Parameter 'b', value=-20388655.26824849 +/- 1.19e+06, bounds=[-inf:inf]>)])"
      ]
     },
     "execution_count": 156,
     "metadata": {},
     "output_type": "execute_result"
    }
   ],
   "source": [
    "result.params"
   ]
  },
  {
   "cell_type": "code",
   "execution_count": 158,
   "metadata": {},
   "outputs": [
    {
     "name": "stdout",
     "output_type": "stream",
     "text": [
      "[[Model]]\n",
      "    Model(regress_B_t)\n",
      "[[Fit Statistics]]\n",
      "    # fitting method   = leastsq\n",
      "    # function evals   = 101\n",
      "    # data points      = 1783\n",
      "    # variables        = 3\n",
      "    chi-square         = 9.1459e+09\n",
      "    reduced chi-square = 5138156.40\n",
      "    Akaike info crit   = 27554.2788\n",
      "    Bayesian info crit = 27570.7370\n",
      "[[Variables]]\n",
      "    m1:  19612031.2 +/- 979733.068 (5.00%) (init = 0)\n",
      "    m2:  1925.11481 +/- 181.528763 (9.43%) (init = 0)\n",
      "    b:  -20388655.3 +/- 1186821.23 (5.82%) (init = 0)\n",
      "[[Correlations]] (unreported correlations are < 0.100)\n",
      "    C(m1, b)  = -1.000\n",
      "    C(m2, b)  = -0.910\n",
      "    C(m1, m2) =  0.910\n"
     ]
    }
   ],
   "source": [
    "print(result.fit_report())"
   ]
  },
  {
   "cell_type": "code",
   "execution_count": 159,
   "metadata": {},
   "outputs": [
    {
     "data": {
      "text/plain": [
       "Datetime\n",
       "2020-09-10 12:22:48    3.346266e+06\n",
       "2020-09-10 12:22:57    3.345540e+06\n",
       "2020-09-10 12:23:06    3.346128e+06\n",
       "2020-09-10 12:23:14    3.345711e+06\n",
       "2020-09-10 12:23:23    3.345309e+06\n",
       "                           ...     \n",
       "2020-09-10 16:44:01    3.342927e+06\n",
       "2020-09-10 16:44:10    3.342818e+06\n",
       "2020-09-10 16:44:19    3.343400e+06\n",
       "2020-09-10 16:44:28    3.343512e+06\n",
       "2020-09-10 16:44:36    3.342321e+06\n",
       "Length: 1783, dtype: float64"
      ]
     },
     "execution_count": 159,
     "metadata": {},
     "output_type": "execute_result"
    }
   ],
   "source": [
    "result.best_fit"
   ]
  },
  {
   "cell_type": "code",
   "execution_count": 164,
   "metadata": {},
   "outputs": [
    {
     "data": {
      "text/plain": [
       "count    1783.000000\n",
       "mean       -0.015551\n",
       "std      2265.477803\n",
       "min     -6623.588606\n",
       "25%     -1534.564065\n",
       "50%       721.142387\n",
       "75%      1655.464792\n",
       "max      4345.637408\n",
       "dtype: float64"
      ]
     },
     "execution_count": 164,
     "metadata": {},
     "output_type": "execute_result"
    }
   ],
   "source": [
    "((df[f'{probe}_Raw_Bmag'] - result.best_fit)).describe()"
   ]
  },
  {
   "cell_type": "code",
   "execution_count": 163,
   "metadata": {},
   "outputs": [
    {
     "data": {
      "text/plain": [
       "count    1.783000e+03\n",
       "mean    -4.634347e-07\n",
       "std      6.777224e-04\n",
       "min     -1.983584e-03\n",
       "25%     -4.592435e-04\n",
       "50%      2.155233e-04\n",
       "75%      4.949924e-04\n",
       "max      1.297385e-03\n",
       "dtype: float64"
      ]
     },
     "execution_count": 163,
     "metadata": {},
     "output_type": "execute_result"
    }
   ],
   "source": [
    "((df[f'{probe}_Raw_Bmag'] - result.best_fit)/df[f'{probe}_Raw_Bmag']).describe()"
   ]
  },
  {
   "cell_type": "code",
   "execution_count": null,
   "metadata": {},
   "outputs": [],
   "source": []
  },
  {
   "cell_type": "code",
   "execution_count": 92,
   "metadata": {},
   "outputs": [
    {
     "data": {
      "text/html": [
       "<table><tr><th> name </th><th> value </th><th> standard error </th><th> relative error </th><th> initial value </th><th> min </th><th> max </th><th> vary </th></tr><tr><td> m1 </td><td> -0.41437746 </td><td>  0.20950890 </td><td> (50.56%) </td><td> 0 </td><td>        -inf </td><td>         inf </td><td> True </td></tr><tr><td> m2 </td><td> -0.01093812 </td><td>  1.9621e-04 </td><td> (1.79%) </td><td> 0 </td><td>        -inf </td><td>         inf </td><td> True </td></tr><tr><td> b </td><td>  239.515641 </td><td>  74.4170067 </td><td> (31.07%) </td><td> 0 </td><td>        -inf </td><td>         inf </td><td> True </td></tr></table>"
      ],
      "text/plain": [
       "Parameters([('m1',\n",
       "             <Parameter 'm1', value=-0.41437746364963185 +/- 0.21, bounds=[-inf:inf]>),\n",
       "            ('m2',\n",
       "             <Parameter 'm2', value=-0.01093812231742936 +/- 0.000196, bounds=[-inf:inf]>),\n",
       "            ('b',\n",
       "             <Parameter 'b', value=239.5156413997584 +/- 74.4, bounds=[-inf:inf]>)])"
      ]
     },
     "execution_count": 92,
     "metadata": {},
     "output_type": "execute_result"
    }
   ],
   "source": [
    "result_theta.params"
   ]
  },
  {
   "cell_type": "code",
   "execution_count": 93,
   "metadata": {},
   "outputs": [
    {
     "data": {
      "text/html": [
       "<table><tr><th> name </th><th> value </th><th> standard error </th><th> relative error </th><th> initial value </th><th> min </th><th> max </th><th> vary </th></tr><tr><td> m1 </td><td> -0.50907667 </td><td>  0.14099727 </td><td> (27.70%) </td><td> 0 </td><td>        -inf </td><td>         inf </td><td> True </td></tr><tr><td> m2 </td><td>  0.00225845 </td><td>  1.3204e-04 </td><td> (5.85%) </td><td> 0 </td><td>        -inf </td><td>         inf </td><td> True </td></tr><tr><td> b </td><td>  182.134348 </td><td>  50.0818557 </td><td> (27.50%) </td><td> 0 </td><td>        -inf </td><td>         inf </td><td> True </td></tr></table>"
      ],
      "text/plain": [
       "Parameters([('m1',\n",
       "             <Parameter 'm1', value=-0.5090766723913306 +/- 0.141, bounds=[-inf:inf]>),\n",
       "            ('m2',\n",
       "             <Parameter 'm2', value=0.002258454690730242 +/- 0.000132, bounds=[-inf:inf]>),\n",
       "            ('b',\n",
       "             <Parameter 'b', value=182.13434839190606 +/- 50.1, bounds=[-inf:inf]>)])"
      ]
     },
     "execution_count": 93,
     "metadata": {},
     "output_type": "execute_result"
    }
   ],
   "source": [
    "result_phi.params"
   ]
  },
  {
   "cell_type": "code",
   "execution_count": 94,
   "metadata": {},
   "outputs": [
    {
     "name": "stdout",
     "output_type": "stream",
     "text": [
      "[[Model]]\n",
      "    Model(regress_2angle)\n",
      "[[Fit Statistics]]\n",
      "    # fitting method   = leastsq\n",
      "    # function evals   = 37\n",
      "    # data points      = 1783\n",
      "    # variables        = 3\n",
      "    chi-square         = 2313.07861\n",
      "    reduced chi-square = 1.29948237\n",
      "    Akaike info crit   = 470.082859\n",
      "    Bayesian info crit = 486.541017\n",
      "[[Variables]]\n",
      "    m1: -0.41437746 +/- 0.20950890 (50.56%) (init = 0)\n",
      "    m2: -0.01093812 +/- 1.9621e-04 (1.79%) (init = 0)\n",
      "    b:   239.515641 +/- 74.4170067 (31.07%) (init = 0)\n",
      "[[Correlations]] (unreported correlations are < 0.100)\n",
      "    C(m1, b) = -1.000\n"
     ]
    }
   ],
   "source": [
    "print(result_theta.fit_report())"
   ]
  },
  {
   "cell_type": "code",
   "execution_count": null,
   "metadata": {},
   "outputs": [],
   "source": []
  },
  {
   "cell_type": "code",
   "execution_count": null,
   "metadata": {},
   "outputs": [],
   "source": []
  },
  {
   "cell_type": "code",
   "execution_count": 138,
   "metadata": {},
   "outputs": [
    {
     "data": {
      "text/html": [
       "<table><tr><th> name </th><th> value </th><th> standard error </th><th> relative error </th><th> initial value </th><th> min </th><th> max </th><th> vary </th></tr><tr><td> m1 </td><td> -0.40614277 </td><td>  0.00716255 </td><td> (1.76%) </td><td> 0 </td><td>        -inf </td><td>         inf </td><td> True </td></tr><tr><td> m2 </td><td> -6.2571e-04 </td><td>  7.4586e-06 </td><td> (1.19%) </td><td> 0 </td><td>        -inf </td><td>         inf </td><td> True </td></tr><tr><td> b </td><td>  234.956181 </td><td>  2.54477282 </td><td> (1.08%) </td><td> 0 </td><td>        -inf </td><td>         inf </td><td> True </td></tr></table>"
      ],
      "text/plain": [
       "Parameters([('m1',\n",
       "             <Parameter 'm1', value=-0.40614277023288975 +/- 0.00716, bounds=[-inf:inf]>),\n",
       "            ('m2',\n",
       "             <Parameter 'm2', value=-0.0006257121935390849 +/- 7.46e-06, bounds=[-inf:inf]>),\n",
       "            ('b',\n",
       "             <Parameter 'b', value=234.95618101927016 +/- 2.54, bounds=[-inf:inf]>)])"
      ]
     },
     "execution_count": 138,
     "metadata": {},
     "output_type": "execute_result"
    }
   ],
   "source": [
    "result_theta.params"
   ]
  },
  {
   "cell_type": "code",
   "execution_count": 139,
   "metadata": {},
   "outputs": [
    {
     "data": {
      "text/html": [
       "<table><tr><th> name </th><th> value </th><th> standard error </th><th> relative error </th><th> initial value </th><th> min </th><th> max </th><th> vary </th></tr><tr><td> m1 </td><td> -0.90575413 </td><td>  0.00166454 </td><td> (0.18%) </td><td> 0 </td><td>        -inf </td><td>         inf </td><td> True </td></tr><tr><td> m2 </td><td>  1.3771e-04 </td><td>  1.7333e-06 </td><td> (1.26%) </td><td> 0 </td><td>        -inf </td><td>         inf </td><td> True </td></tr><tr><td> b </td><td>  324.316462 </td><td>  0.59139204 </td><td> (0.18%) </td><td> 0 </td><td>        -inf </td><td>         inf </td><td> True </td></tr></table>"
      ],
      "text/plain": [
       "Parameters([('m1',\n",
       "             <Parameter 'm1', value=-0.9057541263185145 +/- 0.00166, bounds=[-inf:inf]>),\n",
       "            ('m2',\n",
       "             <Parameter 'm2', value=0.00013771286523834523 +/- 1.73e-06, bounds=[-inf:inf]>),\n",
       "            ('b',\n",
       "             <Parameter 'b', value=324.31646169106386 +/- 0.591, bounds=[-inf:inf]>)])"
      ]
     },
     "execution_count": 139,
     "metadata": {},
     "output_type": "execute_result"
    }
   ],
   "source": [
    "result_phi.params"
   ]
  },
  {
   "cell_type": "code",
   "execution_count": 140,
   "metadata": {},
   "outputs": [
    {
     "name": "stdout",
     "output_type": "stream",
     "text": [
      "[[Model]]\n",
      "    Model(regress_2angle)\n",
      "[[Fit Statistics]]\n",
      "    # fitting method   = leastsq\n",
      "    # function evals   = 37\n",
      "    # data points      = 2547\n",
      "    # variables        = 3\n",
      "    chi-square         = 11.3408113\n",
      "    reduced chi-square = 0.00445787\n",
      "    Akaike info crit   = -13784.1295\n",
      "    Bayesian info crit = -13766.6015\n",
      "[[Variables]]\n",
      "    m1: -0.40614277 +/- 0.00716255 (1.76%) (init = 0)\n",
      "    m2: -6.2571e-04 +/- 7.4586e-06 (1.19%) (init = 0)\n",
      "    b:   234.956181 +/- 2.54477282 (1.08%) (init = 0)\n",
      "[[Correlations]] (unreported correlations are < 0.100)\n",
      "    C(m1, b) = -1.000\n"
     ]
    }
   ],
   "source": [
    "print(result_theta.fit_report())"
   ]
  },
  {
   "cell_type": "code",
   "execution_count": 141,
   "metadata": {},
   "outputs": [
    {
     "name": "stdout",
     "output_type": "stream",
     "text": [
      "[[Model]]\n",
      "    Model(regress_2angle)\n",
      "[[Fit Statistics]]\n",
      "    # fitting method   = leastsq\n",
      "    # function evals   = 37\n",
      "    # data points      = 2547\n",
      "    # variables        = 3\n",
      "    chi-square         = 0.61248729\n",
      "    reduced chi-square = 2.4076e-04\n",
      "    Akaike info crit   = -21217.8926\n",
      "    Bayesian info crit = -21200.3646\n",
      "[[Variables]]\n",
      "    m1: -0.90575413 +/- 0.00166454 (0.18%) (init = 0)\n",
      "    m2:  1.3771e-04 +/- 1.7333e-06 (1.26%) (init = 0)\n",
      "    b:   324.316462 +/- 0.59139204 (0.18%) (init = 0)\n",
      "[[Correlations]] (unreported correlations are < 0.100)\n",
      "    C(m1, b) = -1.000\n"
     ]
    }
   ],
   "source": [
    "print(result_phi.fit_report())"
   ]
  },
  {
   "cell_type": "code",
   "execution_count": 142,
   "metadata": {},
   "outputs": [
    {
     "data": {
      "text/plain": [
       "324.31646169106386"
      ]
     },
     "execution_count": 142,
     "metadata": {},
     "output_type": "execute_result"
    }
   ],
   "source": [
    "regress_2angle(0, 0, **result_phi.params)"
   ]
  },
  {
   "cell_type": "code",
   "execution_count": 143,
   "metadata": {},
   "outputs": [],
   "source": [
    "a1s = np.linspace(0, 180, 181)\n",
    "a2s = np.linspace(0, 360, 361)"
   ]
  },
  {
   "cell_type": "code",
   "execution_count": 144,
   "metadata": {},
   "outputs": [],
   "source": [
    "A1, A2 = np.meshgrid(a1s, a2s)"
   ]
  },
  {
   "cell_type": "code",
   "execution_count": 145,
   "metadata": {},
   "outputs": [],
   "source": [
    "TH = regress_2angle(A1, A2, **result_theta.params)\n",
    "PH = regress_2angle(A1, A2, **result_phi.params)"
   ]
  },
  {
   "cell_type": "code",
   "execution_count": 150,
   "metadata": {},
   "outputs": [
    {
     "data": {
      "text/plain": [
       "(161.62522598767595, 234.95618101927016, 161.28071895373125, 324.3660383225497)"
      ]
     },
     "execution_count": 150,
     "metadata": {},
     "output_type": "execute_result"
    }
   ],
   "source": [
    "TH.min(), TH.max(), PH.min(), PH.max()"
   ]
  },
  {
   "cell_type": "code",
   "execution_count": 152,
   "metadata": {},
   "outputs": [
    {
     "data": {
      "text/plain": [
       "(73.33095503159421, 163.08531936881843)"
      ]
     },
     "execution_count": 152,
     "metadata": {},
     "output_type": "execute_result"
    }
   ],
   "source": [
    "TH.max()-TH.min(), PH.max()-PH.min()"
   ]
  },
  {
   "cell_type": "code",
   "execution_count": null,
   "metadata": {},
   "outputs": [],
   "source": []
  },
  {
   "cell_type": "code",
   "execution_count": null,
   "metadata": {},
   "outputs": [],
   "source": []
  },
  {
   "cell_type": "code",
   "execution_count": null,
   "metadata": {},
   "outputs": [],
   "source": []
  },
  {
   "cell_type": "code",
   "execution_count": null,
   "metadata": {},
   "outputs": [],
   "source": []
  },
  {
   "cell_type": "code",
   "execution_count": null,
   "metadata": {},
   "outputs": [],
   "source": []
  },
  {
   "cell_type": "markdown",
   "metadata": {},
   "source": [
    "-------------"
   ]
  },
  {
   "cell_type": "code",
   "execution_count": 70,
   "metadata": {},
   "outputs": [],
   "source": [
    "r_phi = np.corrcoef(df[f'{probe}_Cal_Phi'], df['SmarAct_Meas_Angle_1'])\n",
    "r_theta = np.corrcoef(df[f'{probe}_Cal_Theta'], df['SmarAct_Meas_Angle_2_pm'])"
   ]
  },
  {
   "cell_type": "code",
   "execution_count": 72,
   "metadata": {},
   "outputs": [
    {
     "data": {
      "text/plain": [
       "(-0.9852445464472992, 0.8744525524711794)"
      ]
     },
     "execution_count": 72,
     "metadata": {},
     "output_type": "execute_result"
    }
   ],
   "source": [
    "r_phi[0,1], r_theta[0,1]"
   ]
  },
  {
   "cell_type": "code",
   "execution_count": null,
   "metadata": {},
   "outputs": [],
   "source": []
  },
  {
   "cell_type": "code",
   "execution_count": 8,
   "metadata": {},
   "outputs": [],
   "source": [
    "fig = scatter2d(df[f\"{probe}_Cal_T\"], df[\"NMR [T]\"], inline=False)"
   ]
  },
  {
   "cell_type": "code",
   "execution_count": 9,
   "metadata": {},
   "outputs": [],
   "source": [
    "fig = scatter2d(df[\"Yoke (center magnet)\"], df[\"NMR [T]\"], inline=False)"
   ]
  },
  {
   "cell_type": "code",
   "execution_count": 10,
   "metadata": {},
   "outputs": [],
   "source": [
    "fig = scatter2d( df[\"NMR [T]\"],df[\"DF0000000D5E803A_Cal_Bmag\"], inline=False)"
   ]
  },
  {
   "cell_type": "code",
   "execution_count": 15,
   "metadata": {},
   "outputs": [],
   "source": [
    "fig = scatter2d( df[\"DF0000000D5E803A_Cal_T\"],(df[\"DF0000000D5E803A_Cal_X\"]-df[\"NMR [T]\"])/df[\"NMR [T]\"], markers=True, lines=False, inline=False)"
   ]
  },
  {
   "cell_type": "code",
   "execution_count": 30,
   "metadata": {
    "scrolled": true
   },
   "outputs": [
    {
     "data": {
      "text/html": [
       "<div>\n",
       "<style scoped>\n",
       "    .dataframe tbody tr th:only-of-type {\n",
       "        vertical-align: middle;\n",
       "    }\n",
       "\n",
       "    .dataframe tbody tr th {\n",
       "        vertical-align: top;\n",
       "    }\n",
       "\n",
       "    .dataframe thead th {\n",
       "        text-align: right;\n",
       "    }\n",
       "</style>\n",
       "<table border=\"1\" class=\"dataframe\">\n",
       "  <thead>\n",
       "    <tr style=\"text-align: right;\">\n",
       "      <th></th>\n",
       "      <th>Time</th>\n",
       "      <th>Magnet Current [A]</th>\n",
       "      <th>Magnet Voltage [V]</th>\n",
       "      <th>Coil 1 (new)</th>\n",
       "      <th>Coil 2 (old)</th>\n",
       "      <th>LCW in Coil1</th>\n",
       "      <th>LCW out Coil 1</th>\n",
       "      <th>LCW in Coil 2</th>\n",
       "      <th>LCW out Coil 2</th>\n",
       "      <th>Yoke</th>\n",
       "      <th>...</th>\n",
       "      <th>DF0000000D5E803A_Cal_Phi</th>\n",
       "      <th>6A0000000D61333A_Raw_Transverse</th>\n",
       "      <th>6A0000000D61333A_Raw_Theta</th>\n",
       "      <th>6A0000000D61333A_Raw_Phi</th>\n",
       "      <th>C50000000D5E473A_Raw_Transverse</th>\n",
       "      <th>C50000000D5E473A_Raw_Theta</th>\n",
       "      <th>C50000000D5E473A_Raw_Phi</th>\n",
       "      <th>DF0000000D5E803A_Raw_Transverse</th>\n",
       "      <th>DF0000000D5E803A_Raw_Theta</th>\n",
       "      <th>DF0000000D5E803A_Raw_Phi</th>\n",
       "    </tr>\n",
       "    <tr>\n",
       "      <th>Datetime</th>\n",
       "      <th></th>\n",
       "      <th></th>\n",
       "      <th></th>\n",
       "      <th></th>\n",
       "      <th></th>\n",
       "      <th></th>\n",
       "      <th></th>\n",
       "      <th></th>\n",
       "      <th></th>\n",
       "      <th></th>\n",
       "      <th></th>\n",
       "      <th></th>\n",
       "      <th></th>\n",
       "      <th></th>\n",
       "      <th></th>\n",
       "      <th></th>\n",
       "      <th></th>\n",
       "      <th></th>\n",
       "      <th></th>\n",
       "      <th></th>\n",
       "      <th></th>\n",
       "    </tr>\n",
       "  </thead>\n",
       "  <tbody>\n",
       "    <tr>\n",
       "      <th>2020-02-12 11:30:27</th>\n",
       "      <td>2/12/2020 11:30:27 AM</td>\n",
       "      <td>240.0706</td>\n",
       "      <td>28.651067</td>\n",
       "      <td>32.329288</td>\n",
       "      <td>30.131769</td>\n",
       "      <td>8.32542</td>\n",
       "      <td>10.983446</td>\n",
       "      <td>13.566287</td>\n",
       "      <td>14.512237</td>\n",
       "      <td>22.224464</td>\n",
       "      <td>...</td>\n",
       "      <td>1.56294</td>\n",
       "      <td>539.726783</td>\n",
       "      <td>0.128991</td>\n",
       "      <td>0.757882</td>\n",
       "      <td>59928.373313</td>\n",
       "      <td>1.254132</td>\n",
       "      <td>1.244276</td>\n",
       "      <td>3.387744e+06</td>\n",
       "      <td>1.56076</td>\n",
       "      <td>1.113235</td>\n",
       "    </tr>\n",
       "  </tbody>\n",
       "</table>\n",
       "<p>1 rows × 150 columns</p>\n",
       "</div>"
      ],
      "text/plain": [
       "                                      Time  Magnet Current [A]  \\\n",
       "Datetime                                                         \n",
       "2020-02-12 11:30:27  2/12/2020 11:30:27 AM            240.0706   \n",
       "\n",
       "                     Magnet Voltage [V]  Coil 1 (new)  Coil 2 (old)  \\\n",
       "Datetime                                                              \n",
       "2020-02-12 11:30:27           28.651067     32.329288     30.131769   \n",
       "\n",
       "                     LCW in Coil1  LCW out Coil 1  LCW in Coil 2  \\\n",
       "Datetime                                                           \n",
       "2020-02-12 11:30:27       8.32542       10.983446      13.566287   \n",
       "\n",
       "                     LCW out Coil 2       Yoke            ...             \\\n",
       "Datetime                                                  ...              \n",
       "2020-02-12 11:30:27       14.512237  22.224464            ...              \n",
       "\n",
       "                     DF0000000D5E803A_Cal_Phi  \\\n",
       "Datetime                                        \n",
       "2020-02-12 11:30:27                   1.56294   \n",
       "\n",
       "                     6A0000000D61333A_Raw_Transverse  \\\n",
       "Datetime                                               \n",
       "2020-02-12 11:30:27                       539.726783   \n",
       "\n",
       "                     6A0000000D61333A_Raw_Theta  6A0000000D61333A_Raw_Phi  \\\n",
       "Datetime                                                                    \n",
       "2020-02-12 11:30:27                    0.128991                  0.757882   \n",
       "\n",
       "                     C50000000D5E473A_Raw_Transverse  \\\n",
       "Datetime                                               \n",
       "2020-02-12 11:30:27                     59928.373313   \n",
       "\n",
       "                     C50000000D5E473A_Raw_Theta  C50000000D5E473A_Raw_Phi  \\\n",
       "Datetime                                                                    \n",
       "2020-02-12 11:30:27                    1.254132                  1.244276   \n",
       "\n",
       "                     DF0000000D5E803A_Raw_Transverse  \\\n",
       "Datetime                                               \n",
       "2020-02-12 11:30:27                     3.387744e+06   \n",
       "\n",
       "                     DF0000000D5E803A_Raw_Theta  DF0000000D5E803A_Raw_Phi  \n",
       "Datetime                                                                   \n",
       "2020-02-12 11:30:27                     1.56076                  1.113235  \n",
       "\n",
       "[1 rows x 150 columns]"
      ]
     },
     "execution_count": 30,
     "metadata": {},
     "output_type": "execute_result"
    }
   ],
   "source": [
    "df.tail(1)"
   ]
  },
  {
   "cell_type": "code",
   "execution_count": 31,
   "metadata": {
    "scrolled": true
   },
   "outputs": [
    {
     "data": {
      "text/plain": [
       "23019"
      ]
     },
     "execution_count": 31,
     "metadata": {},
     "output_type": "execute_result"
    }
   ],
   "source": [
    "len(df)"
   ]
  },
  {
   "cell_type": "code",
   "execution_count": 32,
   "metadata": {},
   "outputs": [
    {
     "data": {
      "text/plain": [
       "13.321180555555555"
      ]
     },
     "execution_count": 32,
     "metadata": {},
     "output_type": "execute_result"
    }
   ],
   "source": [
    "len(df) * 50 / 60 / 60 / 24"
   ]
  },
  {
   "cell_type": "code",
   "execution_count": null,
   "metadata": {},
   "outputs": [],
   "source": []
  },
  {
   "cell_type": "code",
   "execution_count": 33,
   "metadata": {},
   "outputs": [],
   "source": [
    "fig = histo(df[\"NMR [T]\"], bins=50, inline=False)"
   ]
  },
  {
   "cell_type": "code",
   "execution_count": null,
   "metadata": {},
   "outputs": [],
   "source": []
  },
  {
   "cell_type": "code",
   "execution_count": 34,
   "metadata": {},
   "outputs": [],
   "source": [
    "fig = scatter2d(3*[df.index], [df[col+\"_Cal_Bmag\"] for col in probes], inline=False);"
   ]
  },
  {
   "cell_type": "code",
   "execution_count": 35,
   "metadata": {},
   "outputs": [],
   "source": [
    "fig = scatter2d(2*[df.index], [df[\"NMR [T]\"], df[f\"{probe}_Cal_Bmag\"]], show_plot=False);"
   ]
  },
  {
   "cell_type": "code",
   "execution_count": 36,
   "metadata": {},
   "outputs": [
    {
     "data": {
      "text/plain": [
       "'temp-plot.html'"
      ]
     },
     "execution_count": 36,
     "metadata": {},
     "output_type": "execute_result"
    }
   ],
   "source": [
    "plot(fig)"
   ]
  },
  {
   "cell_type": "code",
   "execution_count": 37,
   "metadata": {},
   "outputs": [],
   "source": [
    "fig = scatter2d(df.index, df[f\"{probe}_Cal_Res_Rel\"], show_plot=False);"
   ]
  },
  {
   "cell_type": "code",
   "execution_count": 38,
   "metadata": {},
   "outputs": [
    {
     "data": {
      "text/plain": [
       "'temp-plot.html'"
      ]
     },
     "execution_count": 38,
     "metadata": {},
     "output_type": "execute_result"
    }
   ],
   "source": [
    "plot(fig)"
   ]
  },
  {
   "cell_type": "code",
   "execution_count": 39,
   "metadata": {},
   "outputs": [],
   "source": [
    "fig = scatter2d(df[f\"{probe}_Cal_T\"], df[f\"{probe}_Cal_Res_Rel\"], df.days_delta, inline=False);"
   ]
  },
  {
   "cell_type": "code",
   "execution_count": 40,
   "metadata": {},
   "outputs": [],
   "source": [
    "fig = scatter2d(df[\"Roof\"], df[f\"{probe}_Cal_Res_Rel\"], df.days_delta, inline=False);"
   ]
  },
  {
   "cell_type": "markdown",
   "metadata": {},
   "source": [
    "~ -2e-4 change in residual after changing temperature (+7 deg C)."
   ]
  },
  {
   "cell_type": "markdown",
   "metadata": {},
   "source": [
    "**(old, early Run06)**\n",
    "~ -5e-5 change in residual after changing temperature (+4 deg C)."
   ]
  },
  {
   "cell_type": "code",
   "execution_count": 41,
   "metadata": {},
   "outputs": [
    {
     "data": {
      "text/plain": [
       "'temp-plot.html'"
      ]
     },
     "execution_count": 41,
     "metadata": {},
     "output_type": "execute_result"
    }
   ],
   "source": [
    "fig = histo(df[f\"{probe}_Cal_Res_Rel\"], bins=75, show_plot=False);\n",
    "plot(fig)\n",
    "#fig = histo(df[f\"{probe}_Cal_Res_Rel\"], bins=50, yscale='log')"
   ]
  },
  {
   "cell_type": "code",
   "execution_count": 42,
   "metadata": {},
   "outputs": [],
   "source": [
    "df[\"day\"] = df.index.day"
   ]
  },
  {
   "cell_type": "code",
   "execution_count": 43,
   "metadata": {},
   "outputs": [],
   "source": [
    "fig = px.histogram(df, x=f\"{probe}_Cal_Res_Rel\", color=\"day\")"
   ]
  },
  {
   "cell_type": "code",
   "execution_count": 44,
   "metadata": {},
   "outputs": [],
   "source": [
    "fig.update_layout(\n",
    "    autosize=False,\n",
    "    width=1800,\n",
    "    height=800\n",
    "    #margin=dict(l=20, r=20, t=20, b=20),\n",
    "    #padding=dict(l=20, r=20, t=20, b=20),\n",
    "    #paper_bgcolor=\"LightSteelBlue\",\n",
    ");"
   ]
  },
  {
   "cell_type": "code",
   "execution_count": 45,
   "metadata": {},
   "outputs": [],
   "source": [
    "#fig.show()"
   ]
  },
  {
   "cell_type": "code",
   "execution_count": 46,
   "metadata": {},
   "outputs": [
    {
     "data": {
      "text/plain": [
       "'temp-plot.html'"
      ]
     },
     "execution_count": 46,
     "metadata": {},
     "output_type": "execute_result"
    }
   ],
   "source": [
    "plot(fig)"
   ]
  },
  {
   "cell_type": "markdown",
   "metadata": {
    "heading_collapsed": true
   },
   "source": [
    "### Temps"
   ]
  },
  {
   "cell_type": "code",
   "execution_count": 47,
   "metadata": {
    "hidden": true
   },
   "outputs": [],
   "source": [
    "temps_ch = [a for a in df.columns if (\"CH\" in a) and int(a[-2:])<21]# or \"HVAC\" in a]\n",
    "temps_ch.append(\"Hall Element\")\n",
    "temps_ch.append(\"Floor\")\n",
    "temps_ch.append(\"Roof\")\n",
    "temps_ch.append(\"Yoke\")\n",
    "temps_ch.append(\"Yoke (center magnet)\")\n",
    "temps_ch.append(f\"{probe}_Cal_T\")"
   ]
  },
  {
   "cell_type": "code",
   "execution_count": 48,
   "metadata": {
    "hidden": true
   },
   "outputs": [],
   "source": [
    "#temps_ch"
   ]
  },
  {
   "cell_type": "code",
   "execution_count": 49,
   "metadata": {
    "hidden": true
   },
   "outputs": [],
   "source": [
    "fig = scatter2d([df.index for c in temps_ch],[df[c] for c in temps_ch],inline=True, show_plot=False);\n",
    "fig.layout.title = \"Temp vs. Datetime\"\n",
    "fig.layout.yaxis.title = \"Temp [deg. C]\";"
   ]
  },
  {
   "cell_type": "code",
   "execution_count": 50,
   "metadata": {
    "hidden": true
   },
   "outputs": [
    {
     "data": {
      "text/plain": [
       "'/home/ckampa/Coding/hallprobecalib_extras/plots/hall_probe_stability/2020-01-27/time/temps/temps_scatter_full.html'"
      ]
     },
     "execution_count": 50,
     "metadata": {},
     "output_type": "execute_result"
    }
   ],
   "source": [
    "#fname = 'temps_scatter'\n",
    "fname = 'time/temps/temps_scatter_full'\n",
    "pio.write_image(fig, plotdir+fname+'.pdf')\n",
    "pio.write_image(fig, plotdir+fname+'.png')\n",
    "plot(fig, filename=plotdir+fname+'.html', auto_open=False)"
   ]
  },
  {
   "cell_type": "code",
   "execution_count": 51,
   "metadata": {
    "hidden": true
   },
   "outputs": [
    {
     "data": {
      "text/plain": [
       "'temp-plot.html'"
      ]
     },
     "execution_count": 51,
     "metadata": {},
     "output_type": "execute_result"
    }
   ],
   "source": [
    "plot(fig)"
   ]
  },
  {
   "cell_type": "code",
   "execution_count": 56,
   "metadata": {
    "hidden": true
   },
   "outputs": [],
   "source": [
    "temps_water = [col for col in df.columns if (\"ICW\" in col) or (\"LCW\" in col)]"
   ]
  },
  {
   "cell_type": "code",
   "execution_count": 105,
   "metadata": {
    "hidden": true
   },
   "outputs": [],
   "source": [
    "#temps_water"
   ]
  },
  {
   "cell_type": "code",
   "execution_count": 57,
   "metadata": {
    "hidden": true
   },
   "outputs": [],
   "source": [
    "fig = scatter2d([df.index for c in temps_water],[df[c] for c in temps_water],inline=True, show_plot=False);\n",
    "fig.layout.title = \"Water Temp vs. Datetime\"\n",
    "fig.layout.yaxis.title = \"Temp [deg. C]\""
   ]
  },
  {
   "cell_type": "code",
   "execution_count": 58,
   "metadata": {
    "hidden": true
   },
   "outputs": [
    {
     "data": {
      "text/plain": [
       "'temp-plot.html'"
      ]
     },
     "execution_count": 58,
     "metadata": {},
     "output_type": "execute_result"
    }
   ],
   "source": [
    "#fig.show()\n",
    "plot(fig)"
   ]
  },
  {
   "cell_type": "code",
   "execution_count": 59,
   "metadata": {
    "hidden": true
   },
   "outputs": [
    {
     "data": {
      "text/plain": [
       "'/home/ckampa/Coding/hallprobecalib_extras/plots/hall_probe_stability/2020-01-27/time/temps/temps_scatter_water.html'"
      ]
     },
     "execution_count": 59,
     "metadata": {},
     "output_type": "execute_result"
    }
   ],
   "source": [
    "#fname = 'temps_scatter'\n",
    "fname = 'time/temps/temps_scatter_water'\n",
    "pio.write_image(fig, plotdir+fname+'.pdf')\n",
    "pio.write_image(fig, plotdir+fname+'.png')\n",
    "plot(fig, filename=plotdir+fname+'.html', auto_open=False)"
   ]
  },
  {
   "cell_type": "code",
   "execution_count": 60,
   "metadata": {
    "hidden": true
   },
   "outputs": [],
   "source": [
    "temps_ambient = [col for col in df.columns if (\"Ambient\" in col)]\n",
    "#temps_ambient"
   ]
  },
  {
   "cell_type": "code",
   "execution_count": 61,
   "metadata": {
    "hidden": true
   },
   "outputs": [
    {
     "data": {
      "text/plain": [
       "'temp-plot.html'"
      ]
     },
     "execution_count": 61,
     "metadata": {},
     "output_type": "execute_result"
    }
   ],
   "source": [
    "fig = scatter2d([df.index for c in temps_ambient],[df[c] for c in temps_ambient],inline=True, show_plot=False);\n",
    "fig.layout.title = \"Ambient Temp vs. Datetime\"\n",
    "fig.layout.yaxis.title = \"Temp [deg. C]\"\n",
    "#fig.show()\n",
    "plot(fig)"
   ]
  },
  {
   "cell_type": "code",
   "execution_count": 62,
   "metadata": {
    "hidden": true
   },
   "outputs": [
    {
     "data": {
      "text/plain": [
       "'/home/ckampa/Coding/hallprobecalib_extras/plots/hall_probe_stability/2020-01-27/time/temps/temps_scatter_ambient.html'"
      ]
     },
     "execution_count": 62,
     "metadata": {},
     "output_type": "execute_result"
    }
   ],
   "source": [
    "#fname = 'temps_scatter'\n",
    "fname = 'time/temps/temps_scatter_ambient'\n",
    "pio.write_image(fig, plotdir+fname+'.pdf')\n",
    "pio.write_image(fig, plotdir+fname+'.png')\n",
    "plot(fig, filename=plotdir+fname+'.html', auto_open=False)"
   ]
  },
  {
   "cell_type": "code",
   "execution_count": 63,
   "metadata": {
    "hidden": true
   },
   "outputs": [],
   "source": [
    "temps_magnet = [col for col in df.columns if ((\"PS\" in col) or (\"Coil\" in col) or (\"Yoke\" in col)) and (\"Orange\" not in col)]\n",
    "#temps_magnet"
   ]
  },
  {
   "cell_type": "code",
   "execution_count": 64,
   "metadata": {
    "hidden": true
   },
   "outputs": [
    {
     "data": {
      "text/plain": [
       "'temp-plot.html'"
      ]
     },
     "execution_count": 64,
     "metadata": {},
     "output_type": "execute_result"
    }
   ],
   "source": [
    "fig = scatter2d([df.index for c in temps_magnet],[df[c] for c in temps_magnet],inline=True, show_plot=False);\n",
    "fig.layout.title = \"Magnet Temp vs. Datetime\"\n",
    "fig.layout.yaxis.title = \"Temp [deg. C]\"\n",
    "#fig.show()\n",
    "plot(fig)"
   ]
  },
  {
   "cell_type": "code",
   "execution_count": 65,
   "metadata": {
    "hidden": true
   },
   "outputs": [
    {
     "data": {
      "text/plain": [
       "'/home/ckampa/Coding/hallprobecalib_extras/plots/hall_probe_stability/2020-01-27/time/temps/temps_scatter_magnet.html'"
      ]
     },
     "execution_count": 65,
     "metadata": {},
     "output_type": "execute_result"
    }
   ],
   "source": [
    "#fname = 'temps_scatter'\n",
    "fname = 'time/temps/temps_scatter_magnet'\n",
    "pio.write_image(fig, plotdir+fname+'.pdf')\n",
    "pio.write_image(fig, plotdir+fname+'.png')\n",
    "plot(fig, filename=plotdir+fname+'.html', auto_open=False)"
   ]
  },
  {
   "cell_type": "markdown",
   "metadata": {},
   "source": [
    "## Seeing Temperature Corrections"
   ]
  },
  {
   "cell_type": "code",
   "execution_count": 66,
   "metadata": {},
   "outputs": [],
   "source": [
    "fig = scatter2d(df[f\"{probe}_Cal_T\"], df[\"NMR [T]\"], df.days_delta, show_plot=False)"
   ]
  },
  {
   "cell_type": "code",
   "execution_count": 67,
   "metadata": {},
   "outputs": [
    {
     "data": {
      "text/plain": [
       "'temp-plot.html'"
      ]
     },
     "execution_count": 67,
     "metadata": {},
     "output_type": "execute_result"
    }
   ],
   "source": [
    "plot(fig)"
   ]
  },
  {
   "cell_type": "code",
   "execution_count": 68,
   "metadata": {},
   "outputs": [],
   "source": [
    "fig = scatter2d(df[f\"{probe}_Cal_T\"], df[f\"{probe}_Cal_Bmag\"] / df[\"NMR [T]\"], df.days_delta, inline=False)"
   ]
  },
  {
   "cell_type": "code",
   "execution_count": 69,
   "metadata": {},
   "outputs": [],
   "source": [
    "fig = scatter2d(df[f\"{probe}_Cal_T\"], df[f\"{probe}_Raw_Bmag\"] / df[\"NMR [T]\"], df.days_delta, inline=False)"
   ]
  },
  {
   "cell_type": "code",
   "execution_count": 70,
   "metadata": {},
   "outputs": [],
   "source": [
    "fig = scatter2d(df[f\"{probe}_Cal_T\"], df[f\"{probe}_Raw_Bmag\"], df.days_delta, inline=False)"
   ]
  },
  {
   "cell_type": "code",
   "execution_count": 71,
   "metadata": {},
   "outputs": [],
   "source": [
    "fig = scatter2d(3*[df[f\"{probe}_Cal_T\"]], [df[f\"{probe}_Raw_{comp}\"] / df[\"NMR [T]\"] for comp in [\"X\",\"Y\",\"Z\"]],\n",
    "                3*[df.days_delta], inline=False)"
   ]
  },
  {
   "cell_type": "code",
   "execution_count": 72,
   "metadata": {},
   "outputs": [],
   "source": [
    "fig = scatter2d(df.index, df[f\"{probe}_Raw_Theta\"], df.days_delta, inline=False)"
   ]
  },
  {
   "cell_type": "code",
   "execution_count": 73,
   "metadata": {},
   "outputs": [],
   "source": [
    "fig = scatter2d(df.index, df[f\"{probe}_Raw_Phi\"], df.days_delta, inline=False)"
   ]
  },
  {
   "cell_type": "markdown",
   "metadata": {},
   "source": [
    "### Fit!"
   ]
  },
  {
   "cell_type": "code",
   "execution_count": 52,
   "metadata": {},
   "outputs": [],
   "source": [
    "df = df[df[\"NMR [T]\"] != 0]"
   ]
  },
  {
   "cell_type": "code",
   "execution_count": 53,
   "metadata": {},
   "outputs": [],
   "source": [
    "def volt(temp, A, B):\n",
    "    return A * temp + B"
   ]
  },
  {
   "cell_type": "code",
   "execution_count": 54,
   "metadata": {},
   "outputs": [],
   "source": [
    "guess = np.array([-1300 / 3.5, 2e6]) # A, B"
   ]
  },
  {
   "cell_type": "code",
   "execution_count": 55,
   "metadata": {},
   "outputs": [],
   "source": [
    "x_dat = df[f\"{probe}_Cal_T\"]\n",
    "#x_dat = df[stable_temp][f\"{probe}_Cal_T\"]"
   ]
  },
  {
   "cell_type": "code",
   "execution_count": 56,
   "metadata": {},
   "outputs": [],
   "source": [
    "params, cov = optimization.curve_fit(volt, x_dat, df[f\"{probe}_Raw_Bmag\"] / df[\"NMR [T]\"], guess)\n",
    "#params, cov = optimization.curve_fit(volt, x_dat, \n",
    "#                                     df[stable_temp][f\"{probe}_Raw_Bmag\"] / df[stable_temp][\"NMR [T]\"], guess)"
   ]
  },
  {
   "cell_type": "code",
   "execution_count": 57,
   "metadata": {},
   "outputs": [
    {
     "data": {
      "text/plain": [
       "(array([-1.18040565e+03,  2.83879530e+06]), array([[ 0.04191652, -0.88642618],\n",
       "        [-0.88642618, 19.31005472]]))"
      ]
     },
     "execution_count": 57,
     "metadata": {},
     "output_type": "execute_result"
    }
   ],
   "source": [
    "params, cov"
   ]
  },
  {
   "cell_type": "code",
   "execution_count": 58,
   "metadata": {},
   "outputs": [
    {
     "data": {
      "text/plain": [
       "0.20473523980511196"
      ]
     },
     "execution_count": 58,
     "metadata": {},
     "output_type": "execute_result"
    }
   ],
   "source": [
    "np.sqrt(cov[0,0])"
   ]
  },
  {
   "cell_type": "code",
   "execution_count": 59,
   "metadata": {},
   "outputs": [
    {
     "data": {
      "text/plain": [
       "-0.985276720331901"
      ]
     },
     "execution_count": 59,
     "metadata": {},
     "output_type": "execute_result"
    }
   ],
   "source": [
    "cov[0,1] / (np.sqrt(cov[0,0])*np.sqrt(cov[1,1]))"
   ]
  },
  {
   "cell_type": "markdown",
   "metadata": {},
   "source": [
    "Parameters have strong correlation"
   ]
  },
  {
   "cell_type": "code",
   "execution_count": 60,
   "metadata": {},
   "outputs": [],
   "source": [
    "A_fit, B_fit = params"
   ]
  },
  {
   "cell_type": "code",
   "execution_count": 61,
   "metadata": {},
   "outputs": [],
   "source": [
    "df[\"Bmag_lsq\"] = volt(x_dat, A_fit, B_fit)"
   ]
  },
  {
   "cell_type": "code",
   "execution_count": 84,
   "metadata": {},
   "outputs": [
    {
     "data": {
      "text/plain": [
       "'temp-plot.html'"
      ]
     },
     "execution_count": 84,
     "metadata": {},
     "output_type": "execute_result"
    }
   ],
   "source": [
    "fig = scatter2d(df[f\"{probe}_Cal_T\"], df[f\"{probe}_Raw_Bmag\"] / df[\"NMR [T]\"], df.days_delta, show_plot=False)\n",
    "#d = [df[f\"{probe}_Raw_X\"].min(), df[f\"{probe}_Raw_X\"].max()]\n",
    "fig.add_trace(go.Scatter(\n",
    "                    x=df[f\"{probe}_Cal_T\"], y=df[\"Bmag_lsq\"],\n",
    "                    mode='lines', name=\"unity\",\n",
    "                    line=dict(color='deeppink', width=2,\n",
    "                              dash='dash')));\n",
    "plot(fig)"
   ]
  },
  {
   "cell_type": "code",
   "execution_count": 85,
   "metadata": {},
   "outputs": [],
   "source": [
    "fig.update_traces(marker=dict(size=5));\n",
    "plot(fig);"
   ]
  },
  {
   "cell_type": "markdown",
   "metadata": {},
   "source": [
    "Bmag fit looks pretty good so far (4 data points)."
   ]
  },
  {
   "cell_type": "markdown",
   "metadata": {},
   "source": [
    "## Aggregate data"
   ]
  },
  {
   "cell_type": "code",
   "execution_count": 86,
   "metadata": {},
   "outputs": [],
   "source": [
    "#df[\"Floor\"].diff(5).rolling(5).mean().head()"
   ]
  },
  {
   "cell_type": "code",
   "execution_count": 62,
   "metadata": {},
   "outputs": [],
   "source": [
    "#fig = scatter2d(df.index, df[\"Floor\"].diff(5).rolling(5).mean(), inline=False)\n",
    "fig = scatter2d(2*[df.index], [df[\"Floor\"],df[\"Floor\"].diff(5).rolling(5).mean()], inline=False)"
   ]
  },
  {
   "cell_type": "code",
   "execution_count": 63,
   "metadata": {},
   "outputs": [],
   "source": [
    "#stable_temp = (abs(df[\"Floor\"].diff(5).rolling(5).mean()) < 0.008) #| (np.isnan(df[\"Floor\"].diff(5)))\n",
    "stable_temp = (abs(df[\"Floor\"].diff(5).rolling(5).mean()) < 0.025) #| (np.isnan(df[\"Floor\"].diff(5)))"
   ]
  },
  {
   "cell_type": "code",
   "execution_count": 64,
   "metadata": {},
   "outputs": [],
   "source": [
    "df_ = df[stable_temp]"
   ]
  },
  {
   "cell_type": "code",
   "execution_count": 65,
   "metadata": {},
   "outputs": [
    {
     "data": {
      "text/plain": [
       "(23019, 22119)"
      ]
     },
     "execution_count": 65,
     "metadata": {},
     "output_type": "execute_result"
    }
   ],
   "source": [
    "len(df), len(df_)"
   ]
  },
  {
   "cell_type": "code",
   "execution_count": 66,
   "metadata": {},
   "outputs": [
    {
     "data": {
      "text/html": [
       "<div>\n",
       "<style scoped>\n",
       "    .dataframe tbody tr th:only-of-type {\n",
       "        vertical-align: middle;\n",
       "    }\n",
       "\n",
       "    .dataframe tbody tr th {\n",
       "        vertical-align: top;\n",
       "    }\n",
       "\n",
       "    .dataframe thead th {\n",
       "        text-align: right;\n",
       "    }\n",
       "</style>\n",
       "<table border=\"1\" class=\"dataframe\">\n",
       "  <thead>\n",
       "    <tr style=\"text-align: right;\">\n",
       "      <th></th>\n",
       "      <th>Time</th>\n",
       "      <th>Magnet Current [A]</th>\n",
       "      <th>Magnet Voltage [V]</th>\n",
       "      <th>Coil 1 (new)</th>\n",
       "      <th>Coil 2 (old)</th>\n",
       "      <th>LCW in Coil1</th>\n",
       "      <th>LCW out Coil 1</th>\n",
       "      <th>LCW in Coil 2</th>\n",
       "      <th>LCW out Coil 2</th>\n",
       "      <th>Yoke</th>\n",
       "      <th>...</th>\n",
       "      <th>6A0000000D61333A_Raw_Theta</th>\n",
       "      <th>6A0000000D61333A_Raw_Phi</th>\n",
       "      <th>C50000000D5E473A_Raw_Transverse</th>\n",
       "      <th>C50000000D5E473A_Raw_Theta</th>\n",
       "      <th>C50000000D5E473A_Raw_Phi</th>\n",
       "      <th>DF0000000D5E803A_Raw_Transverse</th>\n",
       "      <th>DF0000000D5E803A_Raw_Theta</th>\n",
       "      <th>DF0000000D5E803A_Raw_Phi</th>\n",
       "      <th>day</th>\n",
       "      <th>Bmag_lsq</th>\n",
       "    </tr>\n",
       "    <tr>\n",
       "      <th>Datetime</th>\n",
       "      <th></th>\n",
       "      <th></th>\n",
       "      <th></th>\n",
       "      <th></th>\n",
       "      <th></th>\n",
       "      <th></th>\n",
       "      <th></th>\n",
       "      <th></th>\n",
       "      <th></th>\n",
       "      <th></th>\n",
       "      <th></th>\n",
       "      <th></th>\n",
       "      <th></th>\n",
       "      <th></th>\n",
       "      <th></th>\n",
       "      <th></th>\n",
       "      <th></th>\n",
       "      <th></th>\n",
       "      <th></th>\n",
       "      <th></th>\n",
       "      <th></th>\n",
       "    </tr>\n",
       "  </thead>\n",
       "  <tbody>\n",
       "    <tr>\n",
       "      <th>2020-02-12 10:43:26</th>\n",
       "      <td>2/12/2020 10:43:26 AM</td>\n",
       "      <td>240.070883</td>\n",
       "      <td>28.632033</td>\n",
       "      <td>31.722984</td>\n",
       "      <td>29.564817</td>\n",
       "      <td>8.06336</td>\n",
       "      <td>10.695252</td>\n",
       "      <td>13.167009</td>\n",
       "      <td>14.173713</td>\n",
       "      <td>21.753210</td>\n",
       "      <td>...</td>\n",
       "      <td>0.130385</td>\n",
       "      <td>0.723302</td>\n",
       "      <td>59932.263006</td>\n",
       "      <td>1.252390</td>\n",
       "      <td>1.245125</td>\n",
       "      <td>3.391588e+06</td>\n",
       "      <td>1.562459</td>\n",
       "      <td>1.113487</td>\n",
       "      <td>12</td>\n",
       "      <td>2.809498e+06</td>\n",
       "    </tr>\n",
       "    <tr>\n",
       "      <th>2020-02-12 10:44:26</th>\n",
       "      <td>2/12/2020 10:44:26 AM</td>\n",
       "      <td>240.070940</td>\n",
       "      <td>28.632233</td>\n",
       "      <td>31.783482</td>\n",
       "      <td>29.606745</td>\n",
       "      <td>8.10455</td>\n",
       "      <td>10.739941</td>\n",
       "      <td>13.157190</td>\n",
       "      <td>14.219605</td>\n",
       "      <td>21.770008</td>\n",
       "      <td>...</td>\n",
       "      <td>0.117138</td>\n",
       "      <td>0.893853</td>\n",
       "      <td>59994.372544</td>\n",
       "      <td>1.252968</td>\n",
       "      <td>1.244613</td>\n",
       "      <td>3.391355e+06</td>\n",
       "      <td>1.562461</td>\n",
       "      <td>1.113479</td>\n",
       "      <td>12</td>\n",
       "      <td>2.809295e+06</td>\n",
       "    </tr>\n",
       "  </tbody>\n",
       "</table>\n",
       "<p>2 rows × 152 columns</p>\n",
       "</div>"
      ],
      "text/plain": [
       "                                      Time  Magnet Current [A]  \\\n",
       "Datetime                                                         \n",
       "2020-02-12 10:43:26  2/12/2020 10:43:26 AM          240.070883   \n",
       "2020-02-12 10:44:26  2/12/2020 10:44:26 AM          240.070940   \n",
       "\n",
       "                     Magnet Voltage [V]  Coil 1 (new)  Coil 2 (old)  \\\n",
       "Datetime                                                              \n",
       "2020-02-12 10:43:26           28.632033     31.722984     29.564817   \n",
       "2020-02-12 10:44:26           28.632233     31.783482     29.606745   \n",
       "\n",
       "                     LCW in Coil1  LCW out Coil 1  LCW in Coil 2  \\\n",
       "Datetime                                                           \n",
       "2020-02-12 10:43:26       8.06336       10.695252      13.167009   \n",
       "2020-02-12 10:44:26       8.10455       10.739941      13.157190   \n",
       "\n",
       "                     LCW out Coil 2       Yoke      ...       \\\n",
       "Datetime                                            ...        \n",
       "2020-02-12 10:43:26       14.173713  21.753210      ...        \n",
       "2020-02-12 10:44:26       14.219605  21.770008      ...        \n",
       "\n",
       "                     6A0000000D61333A_Raw_Theta  6A0000000D61333A_Raw_Phi  \\\n",
       "Datetime                                                                    \n",
       "2020-02-12 10:43:26                    0.130385                  0.723302   \n",
       "2020-02-12 10:44:26                    0.117138                  0.893853   \n",
       "\n",
       "                     C50000000D5E473A_Raw_Transverse  \\\n",
       "Datetime                                               \n",
       "2020-02-12 10:43:26                     59932.263006   \n",
       "2020-02-12 10:44:26                     59994.372544   \n",
       "\n",
       "                     C50000000D5E473A_Raw_Theta  C50000000D5E473A_Raw_Phi  \\\n",
       "Datetime                                                                    \n",
       "2020-02-12 10:43:26                    1.252390                  1.245125   \n",
       "2020-02-12 10:44:26                    1.252968                  1.244613   \n",
       "\n",
       "                     DF0000000D5E803A_Raw_Transverse  \\\n",
       "Datetime                                               \n",
       "2020-02-12 10:43:26                     3.391588e+06   \n",
       "2020-02-12 10:44:26                     3.391355e+06   \n",
       "\n",
       "                     DF0000000D5E803A_Raw_Theta  DF0000000D5E803A_Raw_Phi  \\\n",
       "Datetime                                                                    \n",
       "2020-02-12 10:43:26                    1.562459                  1.113487   \n",
       "2020-02-12 10:44:26                    1.562461                  1.113479   \n",
       "\n",
       "                     day      Bmag_lsq  \n",
       "Datetime                                \n",
       "2020-02-12 10:43:26   12  2.809498e+06  \n",
       "2020-02-12 10:44:26   12  2.809295e+06  \n",
       "\n",
       "[2 rows x 152 columns]"
      ]
     },
     "execution_count": 66,
     "metadata": {},
     "output_type": "execute_result"
    }
   ],
   "source": [
    "df_.tail(2)"
   ]
  },
  {
   "cell_type": "code",
   "execution_count": 67,
   "metadata": {},
   "outputs": [],
   "source": [
    "fig = scatter2d(df[stable_temp][f\"{probe}_Cal_T\"],\n",
    "                df[stable_temp][f\"{probe}_Raw_Bmag\"] / df[stable_temp][\"NMR [T]\"],\n",
    "                df[stable_temp].days_delta, show_plot=False)\n",
    "#d = [df[f\"{probe}_Raw_X\"].min(), df[f\"{probe}_Raw_X\"].max()]\n",
    "fig.add_trace(go.Scatter(\n",
    "                    x=df[stable_temp][f\"{probe}_Cal_T\"], y=df[stable_temp][\"Bmag_lsq\"],\n",
    "                    mode='lines', name=\"unity\",\n",
    "                    line=dict(color='deeppink', width=2,\n",
    "                              dash='dash')));\n",
    "#plot(fig)\n",
    "\n",
    "fig.update_traces(marker=dict(size=5));\n",
    "plot(fig);"
   ]
  },
  {
   "cell_type": "code",
   "execution_count": 68,
   "metadata": {},
   "outputs": [],
   "source": [
    "phi0 = df_.iloc[0][f\"{probe}_Raw_Phi\"]\n",
    "theta0 = df_.iloc[0][f\"{probe}_Raw_Theta\"]"
   ]
  },
  {
   "cell_type": "code",
   "execution_count": 69,
   "metadata": {},
   "outputs": [],
   "source": [
    "df_[\"ANGLE\"] = np.sqrt((df_[f\"{probe}_Raw_Theta\"]-theta0)**2 + (df_[f\"{probe}_Raw_Phi\"]-phi0)**2)"
   ]
  },
  {
   "cell_type": "code",
   "execution_count": 70,
   "metadata": {},
   "outputs": [],
   "source": [
    "fig = scatter2d(df_[\"ANGLE\"], df_[f'{probe}_Cal_Res_Rel'],df_.days_delta, inline=False)"
   ]
  },
  {
   "cell_type": "code",
   "execution_count": 71,
   "metadata": {},
   "outputs": [],
   "source": [
    "fig = scatter2d(df_[f'{probe}_Raw_Theta'], df_[f'{probe}_Cal_Res_Rel'],df_.days_delta, inline=False)"
   ]
  },
  {
   "cell_type": "code",
   "execution_count": null,
   "metadata": {},
   "outputs": [],
   "source": []
  },
  {
   "cell_type": "code",
   "execution_count": 64,
   "metadata": {},
   "outputs": [],
   "source": [
    "## NEW, do all at once"
   ]
  },
  {
   "cell_type": "code",
   "execution_count": 72,
   "metadata": {},
   "outputs": [],
   "source": [
    "df_[\"Scaled Hall Voltage\"] = df_[f\"{probe}_Raw_Bmag\"] / df_[\"NMR [T]\"] * df_[\"NMR [T]\"].iloc[0]\n",
    "df_[\"Scaled Hall X\"] = df_[f\"{probe}_Raw_X\"] / df_[\"NMR [T]\"] * df_[\"NMR [T]\"].iloc[0]\n",
    "df_[\"Scaled Hall Y\"] = df_[f\"{probe}_Raw_Y\"] / df_[\"NMR [T]\"] * df_[\"NMR [T]\"].iloc[0]\n",
    "df_[\"Scaled Hall Z\"] = df_[f\"{probe}_Raw_Z\"] / df_[\"NMR [T]\"] * df_[\"NMR [T]\"].iloc[0]"
   ]
  },
  {
   "cell_type": "code",
   "execution_count": 90,
   "metadata": {},
   "outputs": [],
   "source": [
    "w = 0.3\n",
    "ts = np.array([15.9, 17.7, 19.3, 21.2, 22.75, 24.58, 26.1])#16.0,16.8,18.6,20.3,22.0,23.8,25.35,27.0,28.0])\n",
    "ts_h = ts + w\n",
    "ts_l = ts - w"
   ]
  },
  {
   "cell_type": "code",
   "execution_count": 91,
   "metadata": {},
   "outputs": [
    {
     "data": {
      "text/plain": [
       "array([15.6 , 17.4 , 19.  , 20.9 , 22.45, 24.28, 25.8 ])"
      ]
     },
     "execution_count": 91,
     "metadata": {},
     "output_type": "execute_result"
    }
   ],
   "source": [
    "ts_l"
   ]
  },
  {
   "cell_type": "code",
   "execution_count": 92,
   "metadata": {},
   "outputs": [
    {
     "data": {
      "text/plain": [
       "array([16.2 , 18.  , 19.6 , 21.5 , 23.05, 24.88, 26.4 ])"
      ]
     },
     "execution_count": 92,
     "metadata": {},
     "output_type": "execute_result"
    }
   ],
   "source": [
    "ts_h"
   ]
  },
  {
   "cell_type": "code",
   "execution_count": 93,
   "metadata": {},
   "outputs": [],
   "source": [
    "maps = [((df_[f\"{probe}_Cal_T\"] > ts_l[i]) & (df_[f\"{probe}_Cal_T\"] < ts_h[i])) for i in range(len(ts))]"
   ]
  },
  {
   "cell_type": "code",
   "execution_count": 94,
   "metadata": {},
   "outputs": [
    {
     "data": {
      "text/plain": [
       "7"
      ]
     },
     "execution_count": 94,
     "metadata": {},
     "output_type": "execute_result"
    }
   ],
   "source": [
    "len(maps)"
   ]
  },
  {
   "cell_type": "code",
   "execution_count": 95,
   "metadata": {},
   "outputs": [],
   "source": [
    "map_full = maps[0]\n",
    "\n",
    "for m in maps[1:]:\n",
    "    map_full = map_full | m\n",
    "    "
   ]
  },
  {
   "cell_type": "code",
   "execution_count": 96,
   "metadata": {},
   "outputs": [
    {
     "data": {
      "text/plain": [
       "22113"
      ]
     },
     "execution_count": 96,
     "metadata": {},
     "output_type": "execute_result"
    }
   ],
   "source": [
    "len(df_[map_full])"
   ]
  },
  {
   "cell_type": "code",
   "execution_count": 97,
   "metadata": {},
   "outputs": [
    {
     "data": {
      "text/plain": [
       "22119"
      ]
     },
     "execution_count": 97,
     "metadata": {},
     "output_type": "execute_result"
    }
   ],
   "source": [
    "len(df_)"
   ]
  },
  {
   "cell_type": "code",
   "execution_count": 98,
   "metadata": {
    "code_folding": []
   },
   "outputs": [],
   "source": [
    "xs = np.zeros_like(ts)\n",
    "ys = np.zeros_like(ts)\n",
    "xerrs = np.zeros_like(ts)\n",
    "yerrs = np.zeros_like(ts)\n",
    "ns = np.zeros_like(ts)\n",
    "\n",
    "## calculate averages\n",
    "for i,m in enumerate(maps):\n",
    "    df_sp = df_[m]\n",
    "    ns[i] = len(df_sp)\n",
    "    xs[i] = df_sp[f\"{probe}_Cal_T\"].mean()\n",
    "    xerrs[i] = df_sp[f\"{probe}_Cal_T\"].std()\n",
    "    ys[i] = df_sp[\"Scaled Hall Voltage\"].mean()\n",
    "    yerrs[i] = df_sp[\"Scaled Hall Voltage\"].std()"
   ]
  },
  {
   "cell_type": "code",
   "execution_count": 99,
   "metadata": {},
   "outputs": [
    {
     "data": {
      "text/plain": [
       "array([15.89655233, 17.64736637, 19.34827515, 21.13672514, 22.81150658,\n",
       "       24.53801517, 26.19842398])"
      ]
     },
     "execution_count": 99,
     "metadata": {},
     "output_type": "execute_result"
    }
   ],
   "source": [
    "xs"
   ]
  },
  {
   "cell_type": "code",
   "execution_count": 100,
   "metadata": {},
   "outputs": [],
   "source": [
    "def volt(temp, A, B):\n",
    "    return A * temp + B"
   ]
  },
  {
   "cell_type": "code",
   "execution_count": 101,
   "metadata": {},
   "outputs": [],
   "source": [
    "guess = np.array([-1300 / 3.5, 2e6]) # A, B"
   ]
  },
  {
   "cell_type": "code",
   "execution_count": 102,
   "metadata": {},
   "outputs": [],
   "source": [
    "x_dat = df_[f\"{probe}_Cal_T\"]\n",
    "x_dat_avg = xs\n",
    "#x_dat = df[stable_temp][f\"{probe}_Cal_T\"]"
   ]
  },
  {
   "cell_type": "code",
   "execution_count": 103,
   "metadata": {},
   "outputs": [],
   "source": [
    "y_dat = df_[\"Scaled Hall Voltage\"]\n",
    "#y_dat = df_[\"Scaled Hall Z\"]\n",
    "#y_dat = df_[\"NMR [T]\"]"
   ]
  },
  {
   "cell_type": "code",
   "execution_count": 104,
   "metadata": {},
   "outputs": [],
   "source": [
    "params, cov = optimization.curve_fit(volt, x_dat, y_dat, guess)\n",
    "params_avg, cov_avg = optimization.curve_fit(volt, x_dat_avg, ys, guess)\n",
    "#params, cov = optimization.curve_fit(volt, x_dat, \n",
    "#                                     df[stable_temp][f\"{probe}_Raw_Bmag\"] / df[stable_temp][\"NMR [T]\"], guess)"
   ]
  },
  {
   "cell_type": "code",
   "execution_count": 105,
   "metadata": {},
   "outputs": [
    {
     "data": {
      "text/plain": [
       "(array([-1.42562616e+03,  3.42826666e+06]), array([[ 0.06097712, -1.28812275],\n",
       "        [-1.28812275, 28.03706027]]))"
      ]
     },
     "execution_count": 105,
     "metadata": {},
     "output_type": "execute_result"
    }
   ],
   "source": [
    "# stable temp\n",
    "params, cov"
   ]
  },
  {
   "cell_type": "code",
   "execution_count": 106,
   "metadata": {},
   "outputs": [
    {
     "data": {
      "text/plain": [
       "(array([-1.42392463e+03,  3.42821889e+06]),\n",
       " array([[   270.72168011,  -5707.46638385],\n",
       "        [ -5707.46638385, 123529.7055177 ]]))"
      ]
     },
     "execution_count": 106,
     "metadata": {},
     "output_type": "execute_result"
    }
   ],
   "source": [
    "# stable temp averaged\n",
    "params_avg, cov_avg"
   ]
  },
  {
   "cell_type": "code",
   "execution_count": 107,
   "metadata": {},
   "outputs": [],
   "source": [
    "A_fit, B_fit = params\n",
    "A_fit_avg, B_fit_avg = params_avg"
   ]
  },
  {
   "cell_type": "code",
   "execution_count": 108,
   "metadata": {},
   "outputs": [],
   "source": [
    "df_[\"Bmag_lsq\"] = volt(x_dat, A_fit, B_fit)\n",
    "df_[\"Bmag_lsq_avg\"] = volt(x_dat, A_fit_avg, B_fit_avg)"
   ]
  },
  {
   "cell_type": "code",
   "execution_count": 109,
   "metadata": {},
   "outputs": [],
   "source": [
    "ts = np.linspace(x_dat.min(), x_dat.max(), 25)"
   ]
  },
  {
   "cell_type": "code",
   "execution_count": 110,
   "metadata": {},
   "outputs": [],
   "source": [
    "B_lsq = volt(ts, A_fit, B_fit)\n",
    "B_lsq_avg = volt(ts, A_fit_avg, B_fit_avg)"
   ]
  },
  {
   "cell_type": "code",
   "execution_count": 111,
   "metadata": {},
   "outputs": [],
   "source": [
    "B_lsq = pd.Series(B_lsq, name=\"Stable Temp Fit\")\n",
    "B_lsq_avg = pd.Series(B_lsq_avg, name=\"Stable Temp Averaged Fit\")"
   ]
  },
  {
   "cell_type": "code",
   "execution_count": 112,
   "metadata": {},
   "outputs": [
    {
     "data": {
      "text/plain": [
       "'/home/ckampa/Coding/hallprobecalib_extras/plots/hall_probe_stability/2020-01-27/scaled_voltage_vs_temperature.html'"
      ]
     },
     "execution_count": 112,
     "metadata": {},
     "output_type": "execute_result"
    }
   ],
   "source": [
    "averaged=True\n",
    "\n",
    "fig = scatter2d(x_dat,\n",
    "                y_dat,\n",
    "                df_.days_delta, opacity=0.8, show_plot=False)\n",
    "\n",
    "fig.add_trace(go.Scatter(\n",
    "                    x=ts, y=B_lsq,\n",
    "                    mode='lines', name='Linear fit',#\"|V|/|B| = A * Temp. + B\",\n",
    "                    line=dict(color='rgb(78, 42, 132)',#'deeppink',\n",
    "                              width=1,\n",
    "                              dash='dash')));\n",
    "#fig.add_trace(go.Scatter(\n",
    "#                    x=ts, y=B_lsq_avg,\n",
    "#                    mode='lines', name=\"mean(|V|/|B|) = A * mean(Temp.) + B\",\n",
    "#                    line=dict(color='purple', width=1,\n",
    "#                              dash='dash')));\n",
    "\n",
    "fig.update_traces(marker=dict(size=1));\n",
    "\n",
    "if averaged:\n",
    "    fig.add_trace(go.Scatter(\n",
    "        x= xs,\n",
    "        y= ys,\n",
    "        mode='markers',\n",
    "        name='Averaged Data',\n",
    "        error_x=dict(\n",
    "            type='data',\n",
    "            array=xerrs,\n",
    "            width=1,\n",
    "            thickness=1.,\n",
    "            visible=True),\n",
    "        error_y=dict(\n",
    "            type='data',\n",
    "            array=yerrs,\n",
    "            width=1,\n",
    "            thickness=1.,\n",
    "            visible=True),\n",
    "        marker=dict(\n",
    "            size=3,\n",
    "            color=\"Red\",\n",
    "        )\n",
    "    ))\n",
    "\n",
    "#eqn = f\"Volt. = {A_fit:.2E} * Temp. + {B_fit:.2E}\"\n",
    "eqn = f\"y = {A_fit:.2E} * x + {B_fit:.2E}\"\n",
    "\n",
    "i = 6\n",
    "fig.add_annotation(\n",
    "    go.layout.Annotation(\n",
    "            x=ts[i],\n",
    "            y=B_lsq.iloc[i],\n",
    "            text=eqn,\n",
    "            font=dict(\n",
    "                #family=\"Courier New, monospace\",\n",
    "                size=14,\n",
    "                color=\"#ffffff\"\n",
    "            ),\n",
    "            align=\"center\",\n",
    "            arrowhead=2,\n",
    "            arrowsize=1,\n",
    "            arrowwidth=2,\n",
    "            arrowcolor=\"#636363\",\n",
    "            ax=+250,\n",
    "            ay=-25,\n",
    "            bordercolor=\"#c7c7c7\",\n",
    "            borderwidth=2,\n",
    "            borderpad=4,\n",
    "            bgcolor='rgb(78, 42, 132)',#\"#ff7f0e\",\n",
    "            opacity=0.7,\n",
    "            showarrow=True#False\n",
    "    )\n",
    ")\n",
    "\n",
    "fig.update_layout(title=\"Scaled Hall Voltage vs. Hall Probe Temperature\")\n",
    "fig.update_xaxes(title_text='Hall Probe Temperature [deg C]')\n",
    "fig.update_yaxes(title_text='|V_Hall| / NMR [micro V / T]')\n",
    "fig.update_layout( width=1000,height=600,)\n",
    "\n",
    "filename = plotdir+\"scaled_voltage_vs_temperature\"\n",
    "\n",
    "plot(fig, filename=filename+'.html')"
   ]
  },
  {
   "cell_type": "code",
   "execution_count": 113,
   "metadata": {},
   "outputs": [],
   "source": [
    "pio.write_image(fig, filename+\".pdf\")\n",
    "pio.write_image(fig, filename+\".png\")"
   ]
  },
  {
   "cell_type": "code",
   "execution_count": null,
   "metadata": {},
   "outputs": [],
   "source": []
  },
  {
   "cell_type": "code",
   "execution_count": null,
   "metadata": {},
   "outputs": [],
   "source": []
  },
  {
   "cell_type": "code",
   "execution_count": null,
   "metadata": {},
   "outputs": [],
   "source": [
    "fig = scatter2d(df_[\"NMR [T]\"],\n",
    "                df_[f\"{probe}_Raw_Bmag\"],# * df_[f\"{probe}_Cal_T\"].min() / df_[f\"{probe}_Cal_T\"],\n",
    "                df_.days_delta, opacity=1., inline=False)"
   ]
  },
  {
   "cell_type": "code",
   "execution_count": null,
   "metadata": {},
   "outputs": [],
   "source": [
    "fig = scatter2d(df_[\"NMR [T]\"],\n",
    "                df_[f\"{probes[0]}_Raw_Bmag\"],# * df_[f\"{probe}_Cal_T\"].min() / df_[f\"{probe}_Cal_T\"],\n",
    "                df_.days_delta, opacity=1., inline=False)"
   ]
  },
  {
   "cell_type": "code",
   "execution_count": null,
   "metadata": {},
   "outputs": [],
   "source": [
    "fig = scatter2d(df_[\"NMR [T]\"],\n",
    "                df_[f\"{probes[0]}_Cal_Bmag\"],# * df_[f\"{probe}_Cal_T\"].min() / df_[f\"{probe}_Cal_T\"],\n",
    "                df_.days_delta, opacity=1., inline=False)"
   ]
  },
  {
   "cell_type": "code",
   "execution_count": null,
   "metadata": {},
   "outputs": [],
   "source": [
    "fig = scatter2d(df[\"NMR [T]\"],\n",
    "                df[f\"{probe}_Raw_Bmag\"],# * df[f\"{probe}_Cal_T\"].min() / df[f\"{probe}_Cal_T\"],\n",
    "                df.days_delta, opacity=1., inline=False)"
   ]
  },
  {
   "cell_type": "code",
   "execution_count": null,
   "metadata": {},
   "outputs": [],
   "source": []
  },
  {
   "cell_type": "code",
   "execution_count": null,
   "metadata": {},
   "outputs": [],
   "source": [
    "x = np.array([6e-4, 2.36e-2, 1.2492]) # B in Tesla\n",
    "y = np.array([4.85e3, 6.43e4, 3.5e6]) # Hall voltage (Bmag), note: 3 different probes"
   ]
  },
  {
   "cell_type": "code",
   "execution_count": null,
   "metadata": {},
   "outputs": [],
   "source": [
    "fig = scatter2d(x, y, lines=False, markers=True, size_list=[8], inline=False)"
   ]
  },
  {
   "cell_type": "code",
   "execution_count": null,
   "metadata": {},
   "outputs": [],
   "source": [
    "def volt_b(mag, A, B):\n",
    "    return A * mag + B"
   ]
  },
  {
   "cell_type": "code",
   "execution_count": null,
   "metadata": {},
   "outputs": [],
   "source": [
    "guess = np.array([3e6, 0.]) # A, B"
   ]
  },
  {
   "cell_type": "code",
   "execution_count": null,
   "metadata": {},
   "outputs": [],
   "source": [
    "x_dat = x\n",
    "#x_dat_avg = xs\n",
    "#x_dat = df[stable_temp][f\"{probe}_Cal_T\"]"
   ]
  },
  {
   "cell_type": "code",
   "execution_count": null,
   "metadata": {},
   "outputs": [],
   "source": [
    "y_dat = y"
   ]
  },
  {
   "cell_type": "code",
   "execution_count": null,
   "metadata": {},
   "outputs": [],
   "source": [
    "params, cov = optimization.curve_fit(volt_b, x_dat, y_dat, guess)\n",
    "#params_avg, cov_avg = optimization.curve_fit(volt, x_dat_avg, ys, guess)\n",
    "#params, cov = optimization.curve_fit(volt, x_dat, \n",
    "#                                     df[stable_temp][f\"{probe}_Raw_Bmag\"] / df[stable_temp][\"NMR [T]\"], guess)"
   ]
  },
  {
   "cell_type": "code",
   "execution_count": null,
   "metadata": {},
   "outputs": [],
   "source": [
    "# stable temp\n",
    "params, cov"
   ]
  },
  {
   "cell_type": "code",
   "execution_count": null,
   "metadata": {},
   "outputs": [],
   "source": [
    "A_fit, B_fit = params\n",
    "#A_fit_avg, B_fit_avg = params_avg"
   ]
  },
  {
   "cell_type": "code",
   "execution_count": null,
   "metadata": {},
   "outputs": [],
   "source": [
    "B_lsq_dat = volt_b(x_dat, A_fit, B_fit)\n",
    "#df_[\"Bmag_lsq\"] = volt_b(x_dat, A_fit, B_fit)"
   ]
  },
  {
   "cell_type": "code",
   "execution_count": null,
   "metadata": {},
   "outputs": [],
   "source": [
    "ts = np.linspace(x_dat.min(), x_dat.max(), 25)"
   ]
  },
  {
   "cell_type": "code",
   "execution_count": null,
   "metadata": {},
   "outputs": [],
   "source": [
    "B_lsq = volt_b(ts, A_fit, B_fit)\n",
    "#B_lsq_avg = volt_b(ts, A_fit_avg, B_fit_avg)"
   ]
  },
  {
   "cell_type": "code",
   "execution_count": null,
   "metadata": {},
   "outputs": [],
   "source": [
    "B_lsq = pd.Series(B_lsq, name=\"Stable Temp Fit\")\n",
    "#B_lsq_avg = pd.Series(B_lsq_avg, name=\"Stable Temp Averaged Fit\")"
   ]
  },
  {
   "cell_type": "code",
   "execution_count": null,
   "metadata": {},
   "outputs": [],
   "source": [
    "fig = scatter2d(x_dat,\n",
    "                y_dat,\n",
    "                lines=False, markers=True,\n",
    "                size_list=[8], opacity=0.8, show_plot=False)\n",
    "\n",
    "fig.add_trace(go.Scatter(\n",
    "                    x=ts, y=B_lsq,\n",
    "                    mode='lines', name='Linear fit',#\"|V|/|B| = A * Temp. + B\",\n",
    "                    line=dict(color='rgb(78, 42, 132)',#'deeppink',\n",
    "                              width=1,\n",
    "                              dash='dash')));\n",
    "#fig.add_trace(go.Scatter(\n",
    "#                    x=ts, y=B_lsq_avg,\n",
    "#                    mode='lines', name=\"mean(|V|/|B|) = A * mean(Temp.) + B\",\n",
    "#                    line=dict(color='purple', width=1,\n",
    "#                              dash='dash')));\n",
    "\n",
    "#fig.update_traces(marker=dict(size=1));\n",
    "\n",
    "'''fig.add_trace(go.Scatter(\n",
    "    x= xs,\n",
    "    y= ys,\n",
    "    mode='markers',\n",
    "    name='Averaged Data',\n",
    "    error_x=dict(\n",
    "        type='data',\n",
    "        array=xerrs,\n",
    "        width=1,\n",
    "        thickness=1.,\n",
    "        visible=True),\n",
    "    error_y=dict(\n",
    "        type='data',\n",
    "        array=yerrs,\n",
    "        width=1,\n",
    "        thickness=1.,\n",
    "        visible=True),\n",
    "    marker=dict(\n",
    "        size=3,\n",
    "        color=\"Red\",\n",
    "    )\n",
    "))\n",
    "'''\n",
    "#eqn = f\"Volt. = {A_fit:.2E} * Temp. + {B_fit:.2E}\"\n",
    "eqn = f\"y = {A_fit:.2E} * x + {B_fit:.2E}\"\n",
    "\n",
    "i = 6\n",
    "fig.add_annotation(\n",
    "    go.layout.Annotation(\n",
    "            x=ts[i],\n",
    "            y=B_lsq.iloc[i],\n",
    "            text=eqn,\n",
    "            font=dict(\n",
    "                #family=\"Courier New, monospace\",\n",
    "                size=14,\n",
    "                color=\"#ffffff\"\n",
    "            ),\n",
    "            align=\"center\",\n",
    "            arrowhead=2,\n",
    "            arrowsize=1,\n",
    "            arrowwidth=2,\n",
    "            arrowcolor=\"#636363\",\n",
    "            ax=+250,\n",
    "            ay=-25,\n",
    "            bordercolor=\"#c7c7c7\",\n",
    "            borderwidth=2,\n",
    "            borderpad=4,\n",
    "            bgcolor='rgb(78, 42, 132)',#\"#ff7f0e\",\n",
    "            opacity=0.7,\n",
    "            showarrow=True#False\n",
    "    )\n",
    ")\n",
    "\n",
    "fig.update_layout(title=\"Scaled Hall Voltage vs. Hall Probe Temperature\")\n",
    "fig.update_xaxes(title_text='Hall Probe Temperature [deg C]')\n",
    "fig.update_yaxes(title_text='|V_Hall| / NMR [micro V / T]')\n",
    "fig.update_layout( width=1000,height=600,)\n",
    "\n",
    "plot(fig,) #filename=plotdir+\"temp_fit_2point_aggregate.html\")"
   ]
  },
  {
   "cell_type": "markdown",
   "metadata": {},
   "source": [
    "Nice! Looks surprisingly linear for 3 different probes."
   ]
  },
  {
   "cell_type": "code",
   "execution_count": null,
   "metadata": {},
   "outputs": [],
   "source": [
    "dof = 3 - 2"
   ]
  },
  {
   "cell_type": "code",
   "execution_count": null,
   "metadata": {},
   "outputs": [],
   "source": [
    "### pick std = 55\n",
    "std_volt = 50.#500.#45.#55."
   ]
  },
  {
   "cell_type": "code",
   "execution_count": null,
   "metadata": {},
   "outputs": [],
   "source": [
    "def chi2(f, x, std):\n",
    "    return np.sum(np.square((x-f)/std))"
   ]
  },
  {
   "cell_type": "code",
   "execution_count": null,
   "metadata": {},
   "outputs": [],
   "source": [
    "#fit_chi2 = chi2(B_lsq, y_dat, std_volt)\n",
    "fit_chi2 = chi2(B_lsq_dat, y_dat, std_volt)\n",
    "fit_chi2"
   ]
  },
  {
   "cell_type": "code",
   "execution_count": null,
   "metadata": {},
   "outputs": [],
   "source": [
    "dof = len(x_dat) - 2\n",
    "dof"
   ]
  },
  {
   "cell_type": "code",
   "execution_count": null,
   "metadata": {},
   "outputs": [],
   "source": [
    "n = np.linspace(0, 12, 100)"
   ]
  },
  {
   "cell_type": "code",
   "execution_count": null,
   "metadata": {},
   "outputs": [],
   "source": [
    "P = stats.chi2.pdf(n, dof)"
   ]
  },
  {
   "cell_type": "code",
   "execution_count": null,
   "metadata": {},
   "outputs": [],
   "source": [
    "P.max()"
   ]
  },
  {
   "cell_type": "code",
   "execution_count": null,
   "metadata": {},
   "outputs": [],
   "source": [
    "plt.plot(n,P)\n",
    "plt.plot([fit_chi2, fit_chi2],[0., 1.0], 'r--');"
   ]
  },
  {
   "cell_type": "code",
   "execution_count": null,
   "metadata": {},
   "outputs": [],
   "source": []
  },
  {
   "cell_type": "code",
   "execution_count": null,
   "metadata": {},
   "outputs": [],
   "source": []
  },
  {
   "cell_type": "code",
   "execution_count": null,
   "metadata": {},
   "outputs": [],
   "source": []
  },
  {
   "cell_type": "code",
   "execution_count": null,
   "metadata": {},
   "outputs": [],
   "source": []
  },
  {
   "cell_type": "code",
   "execution_count": null,
   "metadata": {},
   "outputs": [],
   "source": []
  },
  {
   "cell_type": "code",
   "execution_count": null,
   "metadata": {},
   "outputs": [],
   "source": []
  },
  {
   "cell_type": "code",
   "execution_count": null,
   "metadata": {},
   "outputs": [],
   "source": []
  },
  {
   "cell_type": "code",
   "execution_count": null,
   "metadata": {},
   "outputs": [],
   "source": [
    "def volt_b(mag, A, B):\n",
    "    return A * mag + B"
   ]
  },
  {
   "cell_type": "code",
   "execution_count": null,
   "metadata": {},
   "outputs": [],
   "source": [
    "guess = np.array([1e11, 0.]) # A, B"
   ]
  },
  {
   "cell_type": "code",
   "execution_count": null,
   "metadata": {},
   "outputs": [],
   "source": [
    "x_dat = df_[\"NMR [T]\"]\n",
    "#x_dat_avg = xs\n",
    "#x_dat = df[stable_temp][f\"{probe}_Cal_T\"]"
   ]
  },
  {
   "cell_type": "code",
   "execution_count": null,
   "metadata": {},
   "outputs": [],
   "source": [
    "y_dat = df_[f\"{probe}_Raw_Bmag\"] / (-1.21e03*df_[f\"{probe}_Cal_T\"])# * df_[f\"{probe}_Cal_T\"].min() / df_[f\"{probe}_Cal_T\"]"
   ]
  },
  {
   "cell_type": "code",
   "execution_count": null,
   "metadata": {},
   "outputs": [],
   "source": [
    "params, cov = optimization.curve_fit(volt_b, x_dat, y_dat, guess)\n",
    "#params_avg, cov_avg = optimization.curve_fit(volt, x_dat_avg, ys, guess)\n",
    "#params, cov = optimization.curve_fit(volt, x_dat, \n",
    "#                                     df[stable_temp][f\"{probe}_Raw_Bmag\"] / df[stable_temp][\"NMR [T]\"], guess)"
   ]
  },
  {
   "cell_type": "code",
   "execution_count": null,
   "metadata": {},
   "outputs": [],
   "source": [
    "# stable temp\n",
    "params, cov"
   ]
  },
  {
   "cell_type": "code",
   "execution_count": null,
   "metadata": {},
   "outputs": [],
   "source": [
    "A_fit, B_fit = params\n",
    "A_fit_avg, B_fit_avg = params_avg"
   ]
  },
  {
   "cell_type": "code",
   "execution_count": null,
   "metadata": {},
   "outputs": [],
   "source": [
    "df_[\"Bmag_lsq\"] = volt_b(x_dat, A_fit, B_fit)"
   ]
  },
  {
   "cell_type": "code",
   "execution_count": null,
   "metadata": {},
   "outputs": [],
   "source": [
    "ts = np.linspace(x_dat.min(), x_dat.max(), 25)"
   ]
  },
  {
   "cell_type": "code",
   "execution_count": null,
   "metadata": {},
   "outputs": [],
   "source": [
    "B_lsq = volt_b(ts, A_fit, B_fit)\n",
    "#B_lsq_avg = volt_b(ts, A_fit_avg, B_fit_avg)"
   ]
  },
  {
   "cell_type": "code",
   "execution_count": null,
   "metadata": {},
   "outputs": [],
   "source": [
    "B_lsq = pd.Series(B_lsq, name=\"Stable Temp Fit\")\n",
    "#B_lsq_avg = pd.Series(B_lsq_avg, name=\"Stable Temp Averaged Fit\")"
   ]
  },
  {
   "cell_type": "code",
   "execution_count": null,
   "metadata": {},
   "outputs": [],
   "source": [
    "fig = scatter2d(x_dat,\n",
    "                y_dat,\n",
    "                df_.days_delta, opacity=0.8, show_plot=False)\n",
    "\n",
    "fig.add_trace(go.Scatter(\n",
    "                    x=ts, y=B_lsq,\n",
    "                    mode='lines', name='Linear fit',#\"|V|/|B| = A * Temp. + B\",\n",
    "                    line=dict(color='rgb(78, 42, 132)',#'deeppink',\n",
    "                              width=1,\n",
    "                              dash='dash')));\n",
    "#fig.add_trace(go.Scatter(\n",
    "#                    x=ts, y=B_lsq_avg,\n",
    "#                    mode='lines', name=\"mean(|V|/|B|) = A * mean(Temp.) + B\",\n",
    "#                    line=dict(color='purple', width=1,\n",
    "#                              dash='dash')));\n",
    "\n",
    "fig.update_traces(marker=dict(size=1));\n",
    "\n",
    "'''fig.add_trace(go.Scatter(\n",
    "    x= xs,\n",
    "    y= ys,\n",
    "    mode='markers',\n",
    "    name='Averaged Data',\n",
    "    error_x=dict(\n",
    "        type='data',\n",
    "        array=xerrs,\n",
    "        width=1,\n",
    "        thickness=1.,\n",
    "        visible=True),\n",
    "    error_y=dict(\n",
    "        type='data',\n",
    "        array=yerrs,\n",
    "        width=1,\n",
    "        thickness=1.,\n",
    "        visible=True),\n",
    "    marker=dict(\n",
    "        size=3,\n",
    "        color=\"Red\",\n",
    "    )\n",
    "))\n",
    "'''\n",
    "#eqn = f\"Volt. = {A_fit:.2E} * Temp. + {B_fit:.2E}\"\n",
    "eqn = f\"y = {A_fit:.2E} * x + {B_fit:.2E}\"\n",
    "\n",
    "i = 6\n",
    "fig.add_annotation(\n",
    "    go.layout.Annotation(\n",
    "            x=ts[i],\n",
    "            y=B_lsq.iloc[i],\n",
    "            text=eqn,\n",
    "            font=dict(\n",
    "                #family=\"Courier New, monospace\",\n",
    "                size=14,\n",
    "                color=\"#ffffff\"\n",
    "            ),\n",
    "            align=\"center\",\n",
    "            arrowhead=2,\n",
    "            arrowsize=1,\n",
    "            arrowwidth=2,\n",
    "            arrowcolor=\"#636363\",\n",
    "            ax=+250,\n",
    "            ay=-25,\n",
    "            bordercolor=\"#c7c7c7\",\n",
    "            borderwidth=2,\n",
    "            borderpad=4,\n",
    "            bgcolor='rgb(78, 42, 132)',#\"#ff7f0e\",\n",
    "            opacity=0.7,\n",
    "            showarrow=True#False\n",
    "    )\n",
    ")\n",
    "\n",
    "fig.update_layout(title=\"Scaled Hall Voltage vs. Hall Probe Temperature\")\n",
    "fig.update_xaxes(title_text='Hall Probe Temperature [deg C]')\n",
    "fig.update_yaxes(title_text='|V_Hall| / NMR [micro V / T]')\n",
    "fig.update_layout( width=1000,height=600,)\n",
    "\n",
    "plot(fig,) #filename=plotdir+\"temp_fit_2point_aggregate.html\")"
   ]
  },
  {
   "cell_type": "code",
   "execution_count": null,
   "metadata": {},
   "outputs": [],
   "source": []
  },
  {
   "cell_type": "code",
   "execution_count": null,
   "metadata": {},
   "outputs": [],
   "source": []
  },
  {
   "cell_type": "code",
   "execution_count": null,
   "metadata": {},
   "outputs": [],
   "source": []
  },
  {
   "cell_type": "code",
   "execution_count": null,
   "metadata": {},
   "outputs": [],
   "source": []
  },
  {
   "cell_type": "code",
   "execution_count": 114,
   "metadata": {},
   "outputs": [],
   "source": [
    "### pick std = 55\n",
    "std_volt = 50.#51.#45.#55."
   ]
  },
  {
   "cell_type": "code",
   "execution_count": null,
   "metadata": {},
   "outputs": [],
   "source": [
    "def chi2(f, x, std):\n",
    "    return np.sum(np.square((x-f)/std))"
   ]
  },
  {
   "cell_type": "code",
   "execution_count": null,
   "metadata": {},
   "outputs": [],
   "source": [
    "fit_chi2 = chi2(df_[\"Bmag_lsq\"], df_[\"Scaled Hall Voltage\"], std_volt)\n",
    "fit_chi2"
   ]
  },
  {
   "cell_type": "code",
   "execution_count": null,
   "metadata": {},
   "outputs": [],
   "source": [
    "ys_fit = volt(xs, A_fit_avg, B_fit_avg)"
   ]
  },
  {
   "cell_type": "code",
   "execution_count": null,
   "metadata": {},
   "outputs": [],
   "source": [
    "fit_avg_chi2 = chi2(ys_fit, ys, yerrs)\n",
    "fit_avg_chi2"
   ]
  },
  {
   "cell_type": "code",
   "execution_count": null,
   "metadata": {},
   "outputs": [],
   "source": [
    "dof = len(xs) - 2\n",
    "dof"
   ]
  },
  {
   "cell_type": "code",
   "execution_count": null,
   "metadata": {},
   "outputs": [],
   "source": [
    "n = np.linspace(0, 12, 100)"
   ]
  },
  {
   "cell_type": "code",
   "execution_count": null,
   "metadata": {},
   "outputs": [],
   "source": [
    "P = stats.chi2.pdf(n, dof)"
   ]
  },
  {
   "cell_type": "code",
   "execution_count": null,
   "metadata": {},
   "outputs": [],
   "source": [
    "plt.plot(n,P)\n",
    "plt.plot([fit_avg_chi2, fit_avg_chi2],[0., P.max()], 'r--');"
   ]
  },
  {
   "cell_type": "code",
   "execution_count": null,
   "metadata": {},
   "outputs": [],
   "source": []
  },
  {
   "cell_type": "code",
   "execution_count": null,
   "metadata": {},
   "outputs": [],
   "source": []
  },
  {
   "cell_type": "code",
   "execution_count": null,
   "metadata": {},
   "outputs": [],
   "source": [
    "# check std\n",
    "df_2 = df_[100:500]"
   ]
  },
  {
   "cell_type": "code",
   "execution_count": null,
   "metadata": {},
   "outputs": [],
   "source": [
    "fig = scatter2d(df_2.index, df_2[f\"{probe}_Raw_Bmag\"]/df_2[\"NMR [T]\"],\n",
    "               inline=False)"
   ]
  },
  {
   "cell_type": "code",
   "execution_count": null,
   "metadata": {},
   "outputs": [],
   "source": [
    "scaled_B = df_2[f\"{probe}_Raw_Bmag\"]/df_2[\"NMR [T]\"]\n",
    "scaled_B.name = \"Scaled |V|/|B|\""
   ]
  },
  {
   "cell_type": "code",
   "execution_count": null,
   "metadata": {},
   "outputs": [],
   "source": [
    "fig = histo(scaled_B, bins=25,\n",
    "               inline=False)"
   ]
  },
  {
   "cell_type": "code",
   "execution_count": null,
   "metadata": {},
   "outputs": [],
   "source": []
  },
  {
   "cell_type": "code",
   "execution_count": null,
   "metadata": {},
   "outputs": [],
   "source": [
    "std_volt = 75."
   ]
  },
  {
   "cell_type": "code",
   "execution_count": null,
   "metadata": {},
   "outputs": [],
   "source": [
    "fit_chi2 = chi2(df_[\"Bmag_lsq\"], df_[\"Scaled Hall Voltage\"], std_volt)\n",
    "fit_chi2"
   ]
  },
  {
   "cell_type": "code",
   "execution_count": null,
   "metadata": {},
   "outputs": [],
   "source": [
    "dof = len(df_) - 2\n",
    "dof"
   ]
  },
  {
   "cell_type": "code",
   "execution_count": null,
   "metadata": {},
   "outputs": [],
   "source": [
    "n = np.linspace(1000,30000, 1000)"
   ]
  },
  {
   "cell_type": "code",
   "execution_count": null,
   "metadata": {},
   "outputs": [],
   "source": [
    "P = stats.chi2.pdf(n, dof)"
   ]
  },
  {
   "cell_type": "code",
   "execution_count": null,
   "metadata": {},
   "outputs": [],
   "source": [
    "plt.plot(n,P)\n",
    "plt.plot([fit_chi2, fit_chi2],[0., P.max()], 'r--');"
   ]
  },
  {
   "cell_type": "code",
   "execution_count": null,
   "metadata": {},
   "outputs": [],
   "source": [
    "n[P.argmax()]"
   ]
  },
  {
   "cell_type": "markdown",
   "metadata": {},
   "source": [
    "## Investigate Noise"
   ]
  },
  {
   "cell_type": "code",
   "execution_count": null,
   "metadata": {},
   "outputs": [],
   "source": [
    "t = df_.index"
   ]
  },
  {
   "cell_type": "code",
   "execution_count": null,
   "metadata": {},
   "outputs": [],
   "source": [
    "V = df_[f\"{probe}_Raw_Z\"]"
   ]
  },
  {
   "cell_type": "code",
   "execution_count": null,
   "metadata": {},
   "outputs": [],
   "source": [
    "V_mean = V.rolling(window=75).mean() # w interval = 50 s, should be ~72 for one hour average"
   ]
  },
  {
   "cell_type": "code",
   "execution_count": null,
   "metadata": {},
   "outputs": [],
   "source": [
    "#fig = scatter2d(2*[t], [V, V_mean], inline=False)"
   ]
  },
  {
   "cell_type": "code",
   "execution_count": null,
   "metadata": {},
   "outputs": [],
   "source": [
    "diff = V - V_mean"
   ]
  },
  {
   "cell_type": "code",
   "execution_count": null,
   "metadata": {},
   "outputs": [],
   "source": [
    "#fig = histo(diff, bins=50, inline=False)"
   ]
  },
  {
   "cell_type": "code",
   "execution_count": null,
   "metadata": {},
   "outputs": [],
   "source": [
    "g = np.absolute(diff) < 200."
   ]
  },
  {
   "cell_type": "code",
   "execution_count": null,
   "metadata": {},
   "outputs": [],
   "source": [
    "diff[g].std()"
   ]
  },
  {
   "cell_type": "code",
   "execution_count": null,
   "metadata": {},
   "outputs": [],
   "source": [
    "fig = histo(diff[g], bins=75, inline=False)"
   ]
  },
  {
   "cell_type": "markdown",
   "metadata": {},
   "source": [
    "Component Standard Deviation:\n",
    "- x: 54.9\n",
    "- y: 60.5\n",
    "- z: 58.47"
   ]
  },
  {
   "cell_type": "code",
   "execution_count": 119,
   "metadata": {},
   "outputs": [],
   "source": [
    "sig_x = 54.9\n",
    "sig_y = 60.5\n",
    "sig_z = 58.5"
   ]
  },
  {
   "cell_type": "code",
   "execution_count": 120,
   "metadata": {},
   "outputs": [],
   "source": [
    "# assuming no covariance\n",
    "sigma_B = np.sqrt(df_[f\"{probe}_Raw_X\"]**2*sig_x**2 + \\\n",
    "                  df_[f\"{probe}_Raw_Y\"]**2*sig_y**2 + \\\n",
    "                  df_[f\"{probe}_Raw_Z\"]**2*sig_z**2) / df_[f\"{probe}_Raw_Bmag\"]"
   ]
  },
  {
   "cell_type": "code",
   "execution_count": 121,
   "metadata": {},
   "outputs": [],
   "source": [
    "sigma_B.name = \"sigma_B\""
   ]
  },
  {
   "cell_type": "code",
   "execution_count": null,
   "metadata": {},
   "outputs": [],
   "source": [
    "fig = histo(sigma_B, bins=75, inline=False)"
   ]
  },
  {
   "cell_type": "code",
   "execution_count": null,
   "metadata": {},
   "outputs": [],
   "source": [
    "fig = scatter2d(t, sigma_B, inline=False)"
   ]
  },
  {
   "cell_type": "code",
   "execution_count": null,
   "metadata": {},
   "outputs": [],
   "source": [
    "sigma_B.describe()"
   ]
  },
  {
   "cell_type": "code",
   "execution_count": null,
   "metadata": {},
   "outputs": [],
   "source": [
    "def chi2(f, x, std):\n",
    "    return np.sum(np.square((x-f)/std))"
   ]
  },
  {
   "cell_type": "code",
   "execution_count": null,
   "metadata": {},
   "outputs": [],
   "source": [
    "len(sigma_B)"
   ]
  },
  {
   "cell_type": "code",
   "execution_count": null,
   "metadata": {},
   "outputs": [],
   "source": [
    "len(df_)"
   ]
  },
  {
   "cell_type": "code",
   "execution_count": null,
   "metadata": {},
   "outputs": [],
   "source": [
    "fit_chi2 = chi2(df_[\"Bmag_lsq\"], df_[\"Scaled Hall Voltage\"], sigma_B)\n",
    "fit_chi2"
   ]
  },
  {
   "cell_type": "code",
   "execution_count": null,
   "metadata": {},
   "outputs": [],
   "source": [
    "dof = len(df_) - 2\n",
    "dof"
   ]
  },
  {
   "cell_type": "code",
   "execution_count": null,
   "metadata": {},
   "outputs": [],
   "source": [
    "n = np.linspace(1000,20000, 1000)"
   ]
  },
  {
   "cell_type": "code",
   "execution_count": null,
   "metadata": {},
   "outputs": [],
   "source": [
    "P = stats.chi2.pdf(n, dof)"
   ]
  },
  {
   "cell_type": "code",
   "execution_count": null,
   "metadata": {},
   "outputs": [],
   "source": [
    "plt.plot(n,P)\n",
    "plt.plot([fit_chi2, fit_chi2],[0., P.max()], 'r--');"
   ]
  },
  {
   "cell_type": "markdown",
   "metadata": {},
   "source": [
    "Try adding a few more polynomial terms"
   ]
  },
  {
   "cell_type": "code",
   "execution_count": null,
   "metadata": {},
   "outputs": [],
   "source": [
    "def volt_3rd(temp, A, B, C, D):\n",
    "    #return A * temp + B * temp**2 + C * temp**3 + D\n",
    "    return A * temp + B * temp**2 + D"
   ]
  },
  {
   "cell_type": "code",
   "execution_count": null,
   "metadata": {},
   "outputs": [],
   "source": [
    "guess = np.array([-1300 / 3.5, 0, 0, 2e6]) # A, B"
   ]
  },
  {
   "cell_type": "code",
   "execution_count": null,
   "metadata": {},
   "outputs": [],
   "source": [
    "x_dat = df_[f\"{probe}_Cal_T\"]\n",
    "x_dat_avg = xs\n",
    "#x_dat = df[stable_temp][f\"{probe}_Cal_T\"]"
   ]
  },
  {
   "cell_type": "code",
   "execution_count": null,
   "metadata": {},
   "outputs": [],
   "source": [
    "y_dat = df_[\"Scaled Hall Voltage\"]\n",
    "#y_dat = df_[\"Scaled Hall Z\"]\n",
    "#y_dat = df_[\"NMR [T]\"]"
   ]
  },
  {
   "cell_type": "code",
   "execution_count": null,
   "metadata": {},
   "outputs": [],
   "source": [
    "params, cov = optimization.curve_fit(volt_3rd, x_dat, y_dat, guess)\n",
    "params_avg, cov_avg = optimization.curve_fit(volt_3rd, x_dat_avg, ys, guess)\n",
    "#params, cov = optimization.curve_fit(volt, x_dat, \n",
    "#                                     df[stable_temp][f\"{probe}_Raw_Bmag\"] / df[stable_temp][\"NMR [T]\"], guess)"
   ]
  },
  {
   "cell_type": "code",
   "execution_count": null,
   "metadata": {},
   "outputs": [],
   "source": [
    "# stable temp\n",
    "params, cov"
   ]
  },
  {
   "cell_type": "code",
   "execution_count": null,
   "metadata": {},
   "outputs": [],
   "source": [
    "# stable temp averaged\n",
    "params_avg, cov_avg"
   ]
  },
  {
   "cell_type": "code",
   "execution_count": null,
   "metadata": {},
   "outputs": [],
   "source": [
    "A_fit, B_fit, C_fit, D_fit = params\n",
    "A_fit_avg, B_fit_avg, C_fit_avg, D_fit_avg = params_avg"
   ]
  },
  {
   "cell_type": "code",
   "execution_count": null,
   "metadata": {},
   "outputs": [],
   "source": [
    "df_[\"Bmag_lsq\"] = volt_3rd(x_dat, A_fit, B_fit, C_fit, D_fit)\n",
    "df_[\"Bmag_lsq_avg\"] = volt_3rd(x_dat, A_fit_avg, B_fit_avg, C_fit_avg, D_fit_avg)"
   ]
  },
  {
   "cell_type": "code",
   "execution_count": null,
   "metadata": {},
   "outputs": [],
   "source": [
    "ts = np.linspace(x_dat.min(), x_dat.max(), 25)"
   ]
  },
  {
   "cell_type": "code",
   "execution_count": null,
   "metadata": {},
   "outputs": [],
   "source": [
    "B_lsq = volt_3rd(ts, A_fit, B_fit, C_fit, D_fit)\n",
    "B_lsq_avg = volt_3rd(ts, A_fit_avg, B_fit_avg, C_fit_avg, D_fit_avg)"
   ]
  },
  {
   "cell_type": "code",
   "execution_count": null,
   "metadata": {},
   "outputs": [],
   "source": [
    "B_lsq = pd.Series(B_lsq, name=\"Stable Temp Fit\")\n",
    "B_lsq_avg = pd.Series(B_lsq_avg, name=\"Stable Temp Averaged Fit\")"
   ]
  },
  {
   "cell_type": "code",
   "execution_count": null,
   "metadata": {},
   "outputs": [],
   "source": [
    "averaged=True\n",
    "\n",
    "fig = scatter2d(x_dat,\n",
    "                y_dat,\n",
    "                df_.days_delta, opacity=0.8, show_plot=False)\n",
    "\n",
    "fig.add_trace(go.Scatter(\n",
    "                    x=ts, y=B_lsq,\n",
    "                    mode='lines', name='Linear fit',#\"|V|/|B| = A * Temp. + B\",\n",
    "                    line=dict(color='rgb(78, 42, 132)',#'deeppink',\n",
    "                              width=1,\n",
    "                              dash='dash')));\n",
    "#fig.add_trace(go.Scatter(\n",
    "#                    x=ts, y=B_lsq_avg,\n",
    "#                    mode='lines', name=\"mean(|V|/|B|) = A * mean(Temp.) + B\",\n",
    "#                    line=dict(color='purple', width=1,\n",
    "#                              dash='dash')));\n",
    "\n",
    "fig.update_traces(marker=dict(size=1));\n",
    "\n",
    "if averaged:\n",
    "    fig.add_trace(go.Scatter(\n",
    "        x= xs,\n",
    "        y= ys,\n",
    "        mode='markers',\n",
    "        name='Averaged Data',\n",
    "        error_x=dict(\n",
    "            type='data',\n",
    "            array=xerrs,\n",
    "            width=1,\n",
    "            thickness=1.,\n",
    "            visible=True),\n",
    "        error_y=dict(\n",
    "            type='data',\n",
    "            array=yerrs,\n",
    "            width=1,\n",
    "            thickness=1.,\n",
    "            visible=True),\n",
    "        marker=dict(\n",
    "            size=3,\n",
    "            color=\"Red\",\n",
    "        )\n",
    "    ))\n",
    "\n",
    "#eqn = f\"Volt. = {A_fit:.2E} * Temp. + {B_fit:.2E}\"\n",
    "eqn = f\"y = {A_fit:.2E} * x + {B_fit:.2E} * x^2 + {C_fit:.2E} * x^3 + {D_fit:.2E}\"\n",
    "\n",
    "i = 6\n",
    "fig.add_annotation(\n",
    "    go.layout.Annotation(\n",
    "            x=ts[i],\n",
    "            y=B_lsq.iloc[i],\n",
    "            text=eqn,\n",
    "            font=dict(\n",
    "                #family=\"Courier New, monospace\",\n",
    "                size=14,\n",
    "                color=\"#ffffff\"\n",
    "            ),\n",
    "            align=\"center\",\n",
    "            arrowhead=2,\n",
    "            arrowsize=1,\n",
    "            arrowwidth=2,\n",
    "            arrowcolor=\"#636363\",\n",
    "            ax=+250,\n",
    "            ay=-25,\n",
    "            bordercolor=\"#c7c7c7\",\n",
    "            borderwidth=2,\n",
    "            borderpad=4,\n",
    "            bgcolor='rgb(78, 42, 132)',#\"#ff7f0e\",\n",
    "            opacity=0.7,\n",
    "            showarrow=True#False\n",
    "    )\n",
    ")\n",
    "\n",
    "fig.update_layout(title=\"Scaled Hall Voltage vs. Hall Probe Temperature\")\n",
    "fig.update_xaxes(title_text='Hall Probe Temperature [deg C]')\n",
    "fig.update_yaxes(title_text='|V_Hall| / NMR [micro V / T]')\n",
    "fig.update_layout( width=1000,height=600,)\n",
    "\n",
    "filename = plotdir+\"scaled_voltage_vs_temperature_3rd_order\"\n",
    "\n",
    "plot(fig, filename=filename+'.html')"
   ]
  },
  {
   "cell_type": "code",
   "execution_count": null,
   "metadata": {},
   "outputs": [],
   "source": [
    "pio.write_image(fig, filename+\".pdf\")\n",
    "pio.write_image(fig, filename+\".png\")"
   ]
  },
  {
   "cell_type": "code",
   "execution_count": null,
   "metadata": {},
   "outputs": [],
   "source": []
  },
  {
   "cell_type": "code",
   "execution_count": null,
   "metadata": {},
   "outputs": [],
   "source": [
    "def chi2(f, x, std):\n",
    "    return np.sum(np.square((x-f)/std))"
   ]
  },
  {
   "cell_type": "code",
   "execution_count": null,
   "metadata": {},
   "outputs": [],
   "source": [
    "len(sigma_B)"
   ]
  },
  {
   "cell_type": "code",
   "execution_count": null,
   "metadata": {},
   "outputs": [],
   "source": [
    "len(df_)"
   ]
  },
  {
   "cell_type": "code",
   "execution_count": null,
   "metadata": {},
   "outputs": [],
   "source": [
    "fit_chi2 = chi2(df_[\"Bmag_lsq\"], df_[\"Scaled Hall Voltage\"], sigma_B)\n",
    "fit_chi2"
   ]
  },
  {
   "cell_type": "code",
   "execution_count": null,
   "metadata": {},
   "outputs": [],
   "source": [
    "dof = len(df_) - 3#4 # 4 parameter fit\n",
    "dof"
   ]
  },
  {
   "cell_type": "code",
   "execution_count": null,
   "metadata": {},
   "outputs": [],
   "source": [
    "n = np.linspace(1000,20000, 1000)"
   ]
  },
  {
   "cell_type": "code",
   "execution_count": null,
   "metadata": {},
   "outputs": [],
   "source": [
    "P = stats.chi2.pdf(n, dof)"
   ]
  },
  {
   "cell_type": "code",
   "execution_count": null,
   "metadata": {},
   "outputs": [],
   "source": [
    "# 3rd order\n",
    "plt.plot(n,P)\n",
    "plt.plot([fit_chi2, fit_chi2],[0., P.max()], 'r--');"
   ]
  },
  {
   "cell_type": "code",
   "execution_count": null,
   "metadata": {},
   "outputs": [],
   "source": [
    "# 4th order\n",
    "plt.plot(n,P)\n",
    "plt.plot([fit_chi2, fit_chi2],[0., P.max()], 'r--');"
   ]
  },
  {
   "cell_type": "code",
   "execution_count": null,
   "metadata": {},
   "outputs": [],
   "source": []
  },
  {
   "cell_type": "code",
   "execution_count": null,
   "metadata": {},
   "outputs": [],
   "source": []
  },
  {
   "cell_type": "code",
   "execution_count": null,
   "metadata": {},
   "outputs": [],
   "source": []
  },
  {
   "cell_type": "code",
   "execution_count": null,
   "metadata": {},
   "outputs": [],
   "source": [
    "for probe in probes:\n",
    "    fig = scatter2d(df_.index, df_[f\"{probe}_Raw_Bmag\"], inline=False)"
   ]
  },
  {
   "cell_type": "markdown",
   "metadata": {},
   "source": [
    "## Fit Routine\n",
    "**IMPORTANT**\n",
    "- should add this as a tool in hallprobecalib"
   ]
  },
  {
   "cell_type": "code",
   "execution_count": null,
   "metadata": {},
   "outputs": [],
   "source": [
    "## FIT ORDER N"
   ]
  },
  {
   "cell_type": "code",
   "execution_count": null,
   "metadata": {},
   "outputs": [],
   "source": [
    "#import lmfit as lm"
   ]
  },
  {
   "cell_type": "code",
   "execution_count": 115,
   "metadata": {},
   "outputs": [],
   "source": [
    "def polyfit_order_n(N, x_dat, y_dat, std_dat):\n",
    "    # e.g. order 1 gives form y = C0 + C1*x\n",
    "    # returns lmfit result object\n",
    "    Cs = {}\n",
    "    \n",
    "    def polynomial(x, N, **Cs):\n",
    "        ys = np.zeros_like(x)\n",
    "        for n in range(N+1):\n",
    "            C = Cs[f'C_{n}']\n",
    "            ys += C * x**n\n",
    "        return ys\n",
    "    \n",
    "    # using lmfit\n",
    "    model = lm.Model(polynomial, independent_vars=['x'])\n",
    "    params = lm.Parameters()\n",
    "    params.add('N', value=N, vary=False) # just telling us when to truncate our sum\n",
    "    for n in range(N+1):\n",
    "        params.add(f'C_{n}', value=0)\n",
    "    \n",
    "    result = model.fit(y_dat.values, x=x_dat.values, params=params, weights=1/std_dat)\n",
    "    \n",
    "    print(result.fit_report())\n",
    "   \n",
    "    return result"
   ]
  },
  {
   "cell_type": "code",
   "execution_count": 116,
   "metadata": {},
   "outputs": [
    {
     "name": "stdout",
     "output_type": "stream",
     "text": [
      "[[Model]]\n",
      "    Model(polynomial)\n",
      "[[Fit Statistics]]\n",
      "    # fitting method   = leastsq\n",
      "    # function evals   = 55\n",
      "    # data points      = 22119\n",
      "    # variables        = 2\n",
      "    chi-square         = 27081.2107\n",
      "    reduced chi-square = 1.22445226\n",
      "    Akaike info crit   = 4480.95607\n",
      "    Bayesian info crit = 4496.96446\n",
      "[[Variables]]\n",
      "    N:    1 (fixed)\n",
      "    C_0:  0.25557552 +/- 5.7260e-04 (0.22%) (init = 0)\n",
      "    C_1:  0.78821941 +/- 4.7417e-04 (0.06%) (init = 0)\n",
      "[[Correlations]] (unreported correlations are < 0.100)\n",
      "    C(C_0, C_1) = -1.000\n",
      "\n"
     ]
    }
   ],
   "source": [
    "result = polyfit_order_n(1, df_[f\"{probe}_Cal_Bmag\"], df_[\"NMR [T]\"], 2e-5*np.ones_like(df_[\"NMR [T]\"]))"
   ]
  },
  {
   "cell_type": "code",
   "execution_count": 117,
   "metadata": {},
   "outputs": [
    {
     "data": {
      "text/plain": [
       "(<Figure size 864x864 with 2 Axes>, GridSpec(2, 1, height_ratios=[1, 4]))"
      ]
     },
     "execution_count": 117,
     "metadata": {},
     "output_type": "execute_result"
    },
    {
     "data": {
      "image/png": "[encoded data removed]",
      "text/plain": [
       "<Figure size 864x864 with 2 Axes>"
      ]
     },
     "metadata": {
      "needs_background": "light"
     },
     "output_type": "display_data"
    }
   ],
   "source": [
    "result.plot()"
   ]
  },
  {
   "cell_type": "code",
   "execution_count": 132,
   "metadata": {
    "scrolled": false
   },
   "outputs": [
    {
     "name": "stdout",
     "output_type": "stream",
     "text": [
      "[[Model]]\n",
      "    Model(polynomial)\n",
      "[[Fit Statistics]]\n",
      "    # fitting method   = leastsq\n",
      "    # function evals   = 332\n",
      "    # data points      = 22119\n",
      "    # variables        = 9\n",
      "    chi-square         = 20418.5485\n",
      "    reduced chi-square = 0.92349835\n",
      "    Akaike info crit   = -1751.37042\n",
      "    Bayesian info crit = -1679.33269\n",
      "[[Variables]]\n",
      "    N:    8 (fixed)\n",
      "    C_0: -50834504.7 +/- 1055699.27 (2.08%) (init = 0)\n",
      "    C_1:  15620950.6 +/- 308635.070 (1.98%) (init = 0)\n",
      "    C_2: -1738019.29 +/- 34917.8528 (2.01%) (init = 0)\n",
      "    C_3:  82236.4627 +/- 1684.54182 (2.05%) (init = 0)\n",
      "    C_4:  26.1596018 +/- 2.07267659 (7.92%) (init = 0)\n",
      "    C_5: -183.901018 +/- 3.88018188 (2.11%) (init = 0)\n",
      "    C_6:  8.55395175 +/- 0.18457209 (2.16%) (init = 0)\n",
      "    C_7: -0.16987719 +/- 0.00374814 (2.21%) (init = 0)\n",
      "    C_8:  0.00130542 +/- 2.9475e-05 (2.26%) (init = 0)\n",
      "[[Correlations]] (unreported correlations are < 0.100)\n",
      "    C(C_3, C_7) = -1.001\n",
      "    C(C_1, C_5) = -1.001\n",
      "    C(C_3, C_6) =  1.001\n",
      "    C(C_2, C_5) =  1.001\n",
      "    C(C_0, C_5) =  1.001\n",
      "    C(C_3, C_8) =  1.001\n",
      "    C(C_2, C_6) = -1.001\n",
      "    C(C_3, C_5) = -1.001\n",
      "    C(C_1, C_6) =  1.001\n",
      "    C(C_2, C_7) =  1.001\n",
      "    C(C_0, C_6) = -1.001\n",
      "    C(C_2, C_8) = -1.001\n",
      "    C(C_1, C_7) = -1.001\n",
      "    C(C_0, C_7) =  1.001\n",
      "    C(C_1, C_8) =  1.001\n",
      "    C(C_0, C_8) = -1.001\n",
      "    C(C_6, C_8) =  1.000\n",
      "    C(C_0, C_2) =  1.000\n",
      "    C(C_7, C_8) = -1.000\n",
      "    C(C_0, C_1) = -1.000\n",
      "    C(C_6, C_7) = -1.000\n",
      "    C(C_1, C_2) = -1.000\n",
      "    C(C_5, C_8) = -1.000\n",
      "    C(C_0, C_3) = -1.000\n",
      "    C(C_5, C_7) =  1.000\n",
      "    C(C_1, C_3) =  1.000\n",
      "    C(C_5, C_6) = -1.000\n",
      "    C(C_2, C_3) = -1.000\n",
      "\n"
     ]
    }
   ],
   "source": [
    "result = polyfit_order_n(8, df_[f\"{probe}_Cal_T\"], df_[\"Scaled Hall Voltage\"], sigma_B)"
   ]
  },
  {
   "cell_type": "code",
   "execution_count": 133,
   "metadata": {},
   "outputs": [
    {
     "data": {
      "text/plain": [
       "(<Figure size 864x864 with 2 Axes>, GridSpec(2, 1, height_ratios=[1, 4]))"
      ]
     },
     "execution_count": 133,
     "metadata": {},
     "output_type": "execute_result"
    },
    {
     "data": {
      "image/png": "[encoded data removed]",
      "text/plain": [
       "<Figure size 864x864 with 2 Axes>"
      ]
     },
     "metadata": {
      "needs_background": "light"
     },
     "output_type": "display_data"
    }
   ],
   "source": [
    "result.plot()"
   ]
  },
  {
   "cell_type": "code",
   "execution_count": null,
   "metadata": {},
   "outputs": [],
   "source": []
  },
  {
   "cell_type": "code",
   "execution_count": 169,
   "metadata": {},
   "outputs": [
    {
     "data": {
      "text/plain": [
       "array([35398.,  1270.,  4974.,  1439.,  1403.,  1430.,   204.,  1224.,\n",
       "        2142.])"
      ]
     },
     "execution_count": 169,
     "metadata": {},
     "output_type": "execute_result"
    }
   ],
   "source": [
    "ns"
   ]
  },
  {
   "cell_type": "code",
   "execution_count": 170,
   "metadata": {},
   "outputs": [
    {
     "data": {
      "text/plain": [
       "array([6.438081  , 0.23098375, 0.90465605, 0.26172096, 0.25517339,\n",
       "       0.26008407, 0.0371029 , 0.22261741, 0.38958047])"
      ]
     },
     "execution_count": 170,
     "metadata": {},
     "output_type": "execute_result"
    }
   ],
   "source": [
    "ns / ns.mean()"
   ]
  },
  {
   "cell_type": "code",
   "execution_count": null,
   "metadata": {},
   "outputs": [],
   "source": [
    "x_dat_avg = pd.Series(x_dat_avg)\n",
    "ys = pd.Series(ys)\n",
    "yerrs = pd.Series(yerrs)\n",
    "ns = pd.Series(ns)"
   ]
  },
  {
   "cell_type": "code",
   "execution_count": null,
   "metadata": {},
   "outputs": [],
   "source": [
    "result = polyfit_order_n(1,x_dat_avg, ys, ns.mean()*yerrs / ns)"
   ]
  },
  {
   "cell_type": "code",
   "execution_count": 171,
   "metadata": {},
   "outputs": [
    {
     "data": {
      "image/png": "[encoded data removed]",
      "text/plain": [
       "<Figure size 864x576 with 1 Axes>"
      ]
     },
     "metadata": {
      "needs_background": "light"
     },
     "output_type": "display_data"
    }
   ],
   "source": [
    "#def chi2(f, x, std):\n",
    "#        return np.sum(np.square((x-f)/std))\n",
    "\n",
    "#len(sigma_B)\n",
    "\n",
    "#len(df_)\n",
    "\n",
    "#fit_chi2 = chi2(df_[\"Bmag_lsq\"], df_[\"Scaled Hall Voltage\"], sigma_B)\n",
    "#fit_chi2\n",
    "fit_chi2 = result.chisqr#0.3247\n",
    "\n",
    "dof = len(df_) - 5#4 # 4 parameter fit\n",
    "#dof\n",
    "\n",
    "n = np.linspace(0,12, 100)\n",
    "\n",
    "P = stats.chi2.pdf(n, dof)\n",
    "\n",
    "# 3rd order\n",
    "plt.plot(n,P)\n",
    "plt.plot([fit_chi2, fit_chi2],[0., P.max()], 'r--');"
   ]
  },
  {
   "cell_type": "code",
   "execution_count": null,
   "metadata": {},
   "outputs": [],
   "source": [
    "fig = scatter2d(df_.index, df_[\"DF0000000D5E803A_Cal_Res_Rel\"], df_.days_delta, inline=False)"
   ]
  },
  {
   "cell_type": "code",
   "execution_count": null,
   "metadata": {},
   "outputs": [],
   "source": [
    "result.plot()"
   ]
  },
  {
   "cell_type": "code",
   "execution_count": 172,
   "metadata": {},
   "outputs": [],
   "source": [
    "def plot_polynomial(N, x_dat, y_dat, c_dat, result,\n",
    "                    size=5, filename=None, inline=False, show_plot=True):\n",
    "    \n",
    "    ####averaged=True\n",
    "\n",
    "    # plot the data\n",
    "    fig = scatter2d(x_dat,\n",
    "                    y_dat,\n",
    "                    c_dat, opacity=0.9, show_plot=False)\n",
    "    # add line for fit\n",
    "    xs = np.linspace(x_dat.min(), x_dat.max(), 100)\n",
    "    ys = result.eval(x=xs)\n",
    "    fig.add_trace(go.Scatter(\n",
    "                        x=xs, y=ys,\n",
    "                        mode='lines', name=f'Order {N} Polynomial fit',#\"|V|/|B| = A * Temp. + B\",\n",
    "                        line=dict(color='rgb(78, 42, 132)',#'deeppink',\n",
    "                                  width=1,\n",
    "                                  dash='dash')));\n",
    "    #fig.add_trace(go.Scatter(\n",
    "    #                    x=ts, y=B_lsq_avg,\n",
    "    #                    mode='lines', name=\"mean(|V|/|B|) = A * mean(Temp.) + B\",\n",
    "    #                    line=dict(color='purple', width=1,\n",
    "    #                              dash='dash')));\n",
    "\n",
    "    fig.update_traces(marker=dict(size=size));\n",
    "\n",
    "    '''if averaged:\n",
    "        fig.add_trace(go.Scatter(\n",
    "            x= xs,\n",
    "            y= ys,\n",
    "            mode='markers',\n",
    "            name='Averaged Data',\n",
    "            error_x=dict(\n",
    "                type='data',\n",
    "                array=xerrs,\n",
    "                width=1,\n",
    "                thickness=1.,\n",
    "                visible=True),\n",
    "            error_y=dict(\n",
    "                type='data',\n",
    "                array=yerrs,\n",
    "                width=1,\n",
    "                thickness=1.,\n",
    "                visible=True),\n",
    "            marker=dict(\n",
    "                size=3,\n",
    "                color=\"Red\",\n",
    "            )\n",
    "        ))'''\n",
    "\n",
    "    #eqn = f\"Volt. = {A_fit:.2E} * Temp. + {B_fit:.2E}\"\n",
    "    eqn = f\"y = \"\n",
    "    for n in range(N+1):\n",
    "        p = result.params[f\"C_{n}\"]\n",
    "        eqn += f\"{p:.2E} * x^{n}\"\n",
    "        if (n >= 2) and ((n+1)%3 == 0) and (n != N):\n",
    "            eqn += \"<br>    \"\n",
    "    ax = 250\n",
    "    ay = -25\n",
    "    if result.params[\"C_1\"] < 0:\n",
    "        i = 20\n",
    "        #ax= +\n",
    "        #ay= -\n",
    "    else:\n",
    "        i = -20\n",
    "        ax = -ax\n",
    "        ay = -ay\n",
    "    fig.add_annotation(\n",
    "        go.layout.Annotation(\n",
    "                x=xs[i],\n",
    "                y=ys[i],\n",
    "                text=eqn,\n",
    "                font=dict(\n",
    "                    #family=\"Courier New, monospace\",\n",
    "                    size=12,\n",
    "                    color=\"#ffffff\"\n",
    "                ),\n",
    "                align=\"center\",\n",
    "                arrowhead=2,\n",
    "                arrowsize=1,\n",
    "                arrowwidth=2,\n",
    "                arrowcolor=\"#636363\",\n",
    "                ax=ax,\n",
    "                ay=ax,\n",
    "                bordercolor=\"#c7c7c7\",\n",
    "                borderwidth=2,\n",
    "                borderpad=4,\n",
    "                bgcolor='rgb(78, 42, 132)',#\"#ff7f0e\",\n",
    "                opacity=0.65,\n",
    "                showarrow=True#False\n",
    "        )\n",
    "    )\n",
    "\n",
    "    fig.update_layout(title=\"y vs. x\")\n",
    "    fig.update_xaxes(title_text='x')\n",
    "    fig.update_yaxes(title_text='y')\n",
    "    #fig.update_layout( width=1000,height=600,)\n",
    "\n",
    "    #filename = plotdir+\"scaled_voltage_vs_temperature_3rd_order\"\n",
    "    if filename == None:\n",
    "        if show_plot:\n",
    "            if inline:\n",
    "                iplot(fig)\n",
    "            else:\n",
    "                plot(fig)\n",
    "    else:\n",
    "        if show_plot:\n",
    "            if inline:\n",
    "                iplot(fig, filename=filename+'.html')\n",
    "            else:\n",
    "                plot(fig, filename=filename+'.html')\n",
    "        pio.write_image(fig, filename+'.pdf')\n",
    "        pio.write_image(fig, filename+'.png')\n",
    "    \n",
    "    return fig"
   ]
  },
  {
   "cell_type": "code",
   "execution_count": 173,
   "metadata": {},
   "outputs": [
    {
     "ename": "NameError",
     "evalue": "name 'plot_poly_chi2' is not defined",
     "output_type": "error",
     "traceback": [
      "\u001b[0;31m---------------------------------------------------------------------------\u001b[0m",
      "\u001b[0;31mNameError\u001b[0m                                 Traceback (most recent call last)",
      "\u001b[0;32m<ipython-input-173-4993b2c748f2>\u001b[0m in \u001b[0;36m<module>\u001b[0;34m\u001b[0m\n\u001b[0;32m----> 1\u001b[0;31m \u001b[0mfig\u001b[0m \u001b[0;34m=\u001b[0m \u001b[0mplot_poly_chi2\u001b[0m\u001b[0;34m(\u001b[0m\u001b[0;36m4\u001b[0m\u001b[0;34m,\u001b[0m \u001b[0mresult\u001b[0m\u001b[0;34m)\u001b[0m\u001b[0;34m\u001b[0m\u001b[0;34m\u001b[0m\u001b[0m\n\u001b[0m",
      "\u001b[0;31mNameError\u001b[0m: name 'plot_poly_chi2' is not defined"
     ]
    }
   ],
   "source": [
    "fig = plot_poly_chi2(4, result)"
   ]
  },
  {
   "cell_type": "code",
   "execution_count": null,
   "metadata": {},
   "outputs": [],
   "source": [
    "fig = plot_poly_chi2(1, result)"
   ]
  },
  {
   "cell_type": "code",
   "execution_count": null,
   "metadata": {},
   "outputs": [],
   "source": [
    "N = 1\n",
    "len(result.data) - (N+1) # y values"
   ]
  },
  {
   "cell_type": "code",
   "execution_count": 174,
   "metadata": {},
   "outputs": [],
   "source": [
    "def plot_poly_chi2(N, result, filename=None, inline=False, show_plot=True):\n",
    "    dof = len(result.data) - (N+1)\n",
    "    fit_chi2 = result.chisqr\n",
    "    P_at_fit = 1.-stats.chi2.cdf(fit_chi2, dof)\n",
    "    print(f\"Probability of Chi2: {P_at_fit}\")\n",
    "    \n",
    "    lo = min(fit_chi2*0.5, dof / 4)\n",
    "    hi = max(fit_chi2*1.5, 2*dof*1.5)\n",
    "    \n",
    "    n = np.linspace(lo,hi, 1000)\n",
    "\n",
    "    P = stats.chi2.pdf(n, dof)\n",
    "    \n",
    "    n = pd.Series(n, name=\"Chi^2\")\n",
    "    P = pd.Series(P, name=\"p.d.f.\")\n",
    "    \n",
    "    if np.isfinite(P.max()):\n",
    "        ymax = P.max()\n",
    "    else:\n",
    "        ymax = 1.\n",
    "\n",
    "    fig = scatter2d(n,P, show_plot=False)\n",
    "    fig.add_trace(go.Scatter(\n",
    "                            x=[fit_chi2, fit_chi2], y=[0., ymax],\n",
    "                            mode='lines', name=f'Fit Chi^2 = {fit_chi2}',#\"|V|/|B| = A * Temp. + B\",\n",
    "                            line=dict(color='rgb(78, 42, 132)',#'deeppink',\n",
    "                                      width=1,\n",
    "                                      dash='dash')));\n",
    "        \n",
    "    if filename == None:\n",
    "        if show_plot:\n",
    "            if inline:\n",
    "                iplot(fig)\n",
    "            else:\n",
    "                plot(fig)\n",
    "    else:\n",
    "        if show_plot:\n",
    "            if inline:\n",
    "                iplot(fig, filename=filename+'.html')\n",
    "            else:\n",
    "                plot(fig, filename=filename+'.html')\n",
    "        pio.write_image(fig, filename+'.pdf')\n",
    "        pio.write_image(fig, filename+'.png')\n",
    "    \n",
    "    return fig"
   ]
  },
  {
   "cell_type": "code",
   "execution_count": 175,
   "metadata": {},
   "outputs": [
    {
     "name": "stdout",
     "output_type": "stream",
     "text": [
      "Probability of Chi2: 0.0\n"
     ]
    }
   ],
   "source": [
    "fig = plot_poly_chi2(4, result)"
   ]
  },
  {
   "cell_type": "code",
   "execution_count": null,
   "metadata": {},
   "outputs": [],
   "source": [
    "len(result.data)"
   ]
  },
  {
   "cell_type": "code",
   "execution_count": null,
   "metadata": {},
   "outputs": [],
   "source": [
    "len(result.params) - 2"
   ]
  },
  {
   "cell_type": "code",
   "execution_count": null,
   "metadata": {},
   "outputs": [],
   "source": [
    "result.chisqr"
   ]
  },
  {
   "cell_type": "code",
   "execution_count": null,
   "metadata": {},
   "outputs": [],
   "source": [
    "result."
   ]
  },
  {
   "cell_type": "code",
   "execution_count": null,
   "metadata": {},
   "outputs": [],
   "source": []
  },
  {
   "cell_type": "code",
   "execution_count": null,
   "metadata": {},
   "outputs": [],
   "source": []
  },
  {
   "cell_type": "code",
   "execution_count": null,
   "metadata": {},
   "outputs": [],
   "source": [
    "result.eval(x=df[f\"{probe}_Cal_T\"])"
   ]
  },
  {
   "cell_type": "raw",
   "metadata": {},
   "source": [
    "**result.params"
   ]
  },
  {
   "cell_type": "code",
   "execution_count": null,
   "metadata": {},
   "outputs": [],
   "source": [
    "polynomial(np.array([0,1,2]), len(result.params)-2, **result.params)"
   ]
  },
  {
   "cell_type": "code",
   "execution_count": null,
   "metadata": {},
   "outputs": [],
   "source": []
  },
  {
   "cell_type": "code",
   "execution_count": null,
   "metadata": {},
   "outputs": [],
   "source": []
  },
  {
   "cell_type": "code",
   "execution_count": null,
   "metadata": {},
   "outputs": [],
   "source": []
  },
  {
   "cell_type": "code",
   "execution_count": null,
   "metadata": {},
   "outputs": [],
   "source": [
    "    df_[\"Bmag_lsq\"] = volt_3rd(x_dat, A_fit, B_fit, C_fit, D_fit)\n",
    "    df_[\"Bmag_lsq_avg\"] = volt_3rd(x_dat, A_fit_avg, B_fit_avg, C_fit_avg, D_fit_avg)\n",
    "\n",
    "    ts = np.linspace(x_dat.min(), x_dat.max(), 25)\n",
    "\n",
    "    B_lsq = volt_3rd(ts, A_fit, B_fit, C_fit, D_fit)\n",
    "    B_lsq_avg = volt_3rd(ts, A_fit_avg, B_fit_avg, C_fit_avg, D_fit_avg)\n",
    "\n",
    "    B_lsq = pd.Series(B_lsq, name=\"Stable Temp Fit\")\n",
    "    B_lsq_avg = pd.Series(B_lsq_avg, name=\"Stable Temp Averaged Fit\")\n",
    "\n",
    "    averaged=True\n",
    "\n",
    "    fig = scatter2d(x_dat,\n",
    "                    y_dat,\n",
    "                    df_.days_delta, opacity=0.8, show_plot=False)\n",
    "\n",
    "    fig.add_trace(go.Scatter(\n",
    "                        x=ts, y=B_lsq,\n",
    "                        mode='lines', name='Linear fit',#\"|V|/|B| = A * Temp. + B\",\n",
    "                        line=dict(color='rgb(78, 42, 132)',#'deeppink',\n",
    "                                  width=1,\n",
    "                                  dash='dash')));\n",
    "    #fig.add_trace(go.Scatter(\n",
    "    #                    x=ts, y=B_lsq_avg,\n",
    "    #                    mode='lines', name=\"mean(|V|/|B|) = A * mean(Temp.) + B\",\n",
    "    #                    line=dict(color='purple', width=1,\n",
    "    #                              dash='dash')));\n",
    "\n",
    "    fig.update_traces(marker=dict(size=1));\n",
    "\n",
    "    if averaged:\n",
    "        fig.add_trace(go.Scatter(\n",
    "            x= xs,\n",
    "            y= ys,\n",
    "            mode='markers',\n",
    "            name='Averaged Data',\n",
    "            error_x=dict(\n",
    "                type='data',\n",
    "                array=xerrs,\n",
    "                width=1,\n",
    "                thickness=1.,\n",
    "                visible=True),\n",
    "            error_y=dict(\n",
    "                type='data',\n",
    "                array=yerrs,\n",
    "                width=1,\n",
    "                thickness=1.,\n",
    "                visible=True),\n",
    "            marker=dict(\n",
    "                size=3,\n",
    "                color=\"Red\",\n",
    "            )\n",
    "        ))\n",
    "\n",
    "    #eqn = f\"Volt. = {A_fit:.2E} * Temp. + {B_fit:.2E}\"\n",
    "    eqn = f\"y = {A_fit:.2E} * x + {B_fit:.2E} * x^2 + {C_fit:.2E} * x^3 + {D_fit:.2E}\"\n",
    "\n",
    "    i = 6\n",
    "    fig.add_annotation(\n",
    "        go.layout.Annotation(\n",
    "                x=ts[i],\n",
    "                y=B_lsq.iloc[i],\n",
    "                text=eqn,\n",
    "                font=dict(\n",
    "                    #family=\"Courier New, monospace\",\n",
    "                    size=14,\n",
    "                    color=\"#ffffff\"\n",
    "                ),\n",
    "                align=\"center\",\n",
    "                arrowhead=2,\n",
    "                arrowsize=1,\n",
    "                arrowwidth=2,\n",
    "                arrowcolor=\"#636363\",\n",
    "                ax=+250,\n",
    "                ay=-25,\n",
    "                bordercolor=\"#c7c7c7\",\n",
    "                borderwidth=2,\n",
    "                borderpad=4,\n",
    "                bgcolor='rgb(78, 42, 132)',#\"#ff7f0e\",\n",
    "                opacity=0.7,\n",
    "                showarrow=True#False\n",
    "        )\n",
    "    )\n",
    "\n",
    "    fig.update_layout(title=\"Scaled Hall Voltage vs. Hall Probe Temperature\")\n",
    "    fig.update_xaxes(title_text='Hall Probe Temperature [deg C]')\n",
    "    fig.update_yaxes(title_text='|V_Hall| / NMR [micro V / T]')\n",
    "    fig.update_layout( width=1000,height=600,)\n",
    "\n",
    "    filename = plotdir+\"scaled_voltage_vs_temperature_3rd_order\"\n",
    "\n",
    "    plot(fig, filename=filename+'.html')\n",
    "\n",
    "    pio.write_image(fig, filename+\".pdf\")\n",
    "    pio.write_image(fig, filename+\".png\")\n",
    "\n",
    "\n",
    "\n",
    "    def chi2(f, x, std):\n",
    "        return np.sum(np.square((x-f)/std))\n",
    "\n",
    "    len(sigma_B)\n",
    "\n",
    "    len(df_)\n",
    "\n",
    "    fit_chi2 = chi2(df_[\"Bmag_lsq\"], df_[\"Scaled Hall Voltage\"], sigma_B)\n",
    "    fit_chi2\n",
    "\n",
    "    dof = len(df_) - 3#4 # 4 parameter fit\n",
    "    dof\n",
    "\n",
    "    n = np.linspace(1000,20000, 1000)\n",
    "\n",
    "    P = stats.chi2.pdf(n, dof)\n",
    "\n",
    "    # 3rd order\n",
    "    plt.plot(n,P)\n",
    "    plt.plot([fit_chi2, fit_chi2],[0., P.max()], 'r--');\n",
    "\n",
    "    # 4th order\n",
    "    plt.plot(n,P)\n",
    "    plt.plot([fit_chi2, fit_chi2],[0., P.max()], 'r--');"
   ]
  },
  {
   "cell_type": "code",
   "execution_count": null,
   "metadata": {},
   "outputs": [],
   "source": []
  },
  {
   "cell_type": "code",
   "execution_count": null,
   "metadata": {},
   "outputs": [],
   "source": []
  },
  {
   "cell_type": "code",
   "execution_count": null,
   "metadata": {},
   "outputs": [],
   "source": []
  },
  {
   "cell_type": "code",
   "execution_count": null,
   "metadata": {},
   "outputs": [],
   "source": []
  },
  {
   "cell_type": "code",
   "execution_count": null,
   "metadata": {},
   "outputs": [],
   "source": []
  },
  {
   "cell_type": "code",
   "execution_count": null,
   "metadata": {},
   "outputs": [],
   "source": []
  },
  {
   "cell_type": "markdown",
   "metadata": {},
   "source": [
    "## OLD"
   ]
  },
  {
   "cell_type": "code",
   "execution_count": null,
   "metadata": {},
   "outputs": [],
   "source": []
  },
  {
   "cell_type": "code",
   "execution_count": null,
   "metadata": {},
   "outputs": [],
   "source": [
    "high_point = (df[f\"{probe}_Cal_T\"] > 20) & (df[f\"{probe}_Cal_T\"] < 21)\n",
    "low_point = (df[f\"{probe}_Cal_T\"] > 16) & (df[f\"{probe}_Cal_T\"] < 17)\n",
    "mid_point = (df[f\"{probe}_Cal_T\"] > 18) & (df[f\"{probe}_Cal_T\"] < 19)\n",
    "h = high_point & stable_temp\n",
    "l = low_point & stable_temp\n",
    "m = mid_point & stable_temp"
   ]
  },
  {
   "cell_type": "code",
   "execution_count": null,
   "metadata": {},
   "outputs": [],
   "source": [
    "plt.hist(df[h][f\"{probe}_Raw_Bmag\"]/df[h][\"NMR [T]\"], bins=50);"
   ]
  },
  {
   "cell_type": "code",
   "execution_count": null,
   "metadata": {},
   "outputs": [],
   "source": [
    "fig = scatter2d(df[h][f\"{probe}_Cal_T\"], df[h][f\"{probe}_Raw_Bmag\"]/df[h][\"NMR [T]\"],\n",
    "                df[h].days_delta, inline=False)"
   ]
  },
  {
   "cell_type": "code",
   "execution_count": null,
   "metadata": {},
   "outputs": [],
   "source": [
    "hist2 = plt.hist2d(df[h][f\"{probe}_Cal_T\"], df[h][f\"{probe}_Raw_Bmag\"]/df[h][\"NMR [T]\"], bins=35);"
   ]
  },
  {
   "cell_type": "code",
   "execution_count": null,
   "metadata": {},
   "outputs": [],
   "source": [
    "hist2[1]"
   ]
  },
  {
   "cell_type": "code",
   "execution_count": null,
   "metadata": {},
   "outputs": [],
   "source": [
    "36*36"
   ]
  },
  {
   "cell_type": "code",
   "execution_count": null,
   "metadata": {},
   "outputs": [],
   "source": [
    "len(hist2[1])"
   ]
  },
  {
   "cell_type": "code",
   "execution_count": null,
   "metadata": {},
   "outputs": [],
   "source": [
    "len(hist2[2])"
   ]
  },
  {
   "cell_type": "code",
   "execution_count": null,
   "metadata": {},
   "outputs": [],
   "source": [
    "int(np.floor(hist2[0].argmax() / 36))"
   ]
  },
  {
   "cell_type": "code",
   "execution_count": null,
   "metadata": {},
   "outputs": [],
   "source": [
    "int(round(((hist2[0].argmax() / 35) - int(np.floor(hist2[0].argmax() / 35))) * 35))"
   ]
  },
  {
   "cell_type": "code",
   "execution_count": null,
   "metadata": {},
   "outputs": [],
   "source": [
    "1296-int(np.floor(hist2[0].argmax() / 36))*36"
   ]
  },
  {
   "cell_type": "code",
   "execution_count": null,
   "metadata": {},
   "outputs": [],
   "source": [
    "hist2[0][int(np.floor(hist2[0].argmax() / 35)), int(round(((hist2[0].argmax() / 35) - int(np.floor(hist2[0].argmax() / 35))) * 35))]"
   ]
  },
  {
   "cell_type": "code",
   "execution_count": null,
   "metadata": {},
   "outputs": [],
   "source": [
    "for x, y in np.argwhere(hist2[0] == hist2[0].max()):\n",
    "    # center is between x and x+1\n",
    "    print(np.average(hist2[1][x:x + 2]), np.average(hist2[2][y:y + 2]))"
   ]
  },
  {
   "cell_type": "code",
   "execution_count": null,
   "metadata": {},
   "outputs": [],
   "source": [
    "(df[h][f\"{probe}_Raw_Bmag\"]/df[h][\"NMR [T]\"]).describe()"
   ]
  },
  {
   "cell_type": "code",
   "execution_count": null,
   "metadata": {},
   "outputs": [],
   "source": [
    "df[h][f\"{probe}_Cal_T\"].describe()"
   ]
  },
  {
   "cell_type": "code",
   "execution_count": null,
   "metadata": {},
   "outputs": [],
   "source": []
  },
  {
   "cell_type": "code",
   "execution_count": null,
   "metadata": {},
   "outputs": [],
   "source": [
    "fig = scatter2d(df[stable_temp].index, df[stable_temp][\"Floor\"], inline=False)"
   ]
  },
  {
   "cell_type": "code",
   "execution_count": null,
   "metadata": {},
   "outputs": [],
   "source": [
    "fig = scatter2d(df.index, df[\"Floor\"].diff(5).rolling(5).mean(), inline=False)"
   ]
  },
  {
   "cell_type": "code",
   "execution_count": null,
   "metadata": {},
   "outputs": [],
   "source": [
    "df[\"Roof\"].diff(4).plot()"
   ]
  },
  {
   "cell_type": "code",
   "execution_count": null,
   "metadata": {},
   "outputs": [],
   "source": [
    "df[\"NMR [T]\"].plot()\n",
    "#df[\"Roof\"].diff(1).plot();"
   ]
  },
  {
   "cell_type": "code",
   "execution_count": null,
   "metadata": {},
   "outputs": [],
   "source": []
  },
  {
   "cell_type": "code",
   "execution_count": null,
   "metadata": {},
   "outputs": [],
   "source": []
  },
  {
   "cell_type": "code",
   "execution_count": null,
   "metadata": {},
   "outputs": [],
   "source": [
    "df_ = df[l|m|h]"
   ]
  },
  {
   "cell_type": "code",
   "execution_count": null,
   "metadata": {},
   "outputs": [],
   "source": [
    "def volt(temp, A, B):\n",
    "    return A * temp + B"
   ]
  },
  {
   "cell_type": "code",
   "execution_count": null,
   "metadata": {},
   "outputs": [],
   "source": [
    "guess = np.array([-1300 / 3.5, 2e6]) # A, B"
   ]
  },
  {
   "cell_type": "code",
   "execution_count": null,
   "metadata": {},
   "outputs": [],
   "source": [
    "x_dat = df_[f\"{probe}_Cal_T\"]\n",
    "#x_dat = df[stable_temp][f\"{probe}_Cal_T\"]"
   ]
  },
  {
   "cell_type": "code",
   "execution_count": null,
   "metadata": {},
   "outputs": [],
   "source": [
    "params, cov = optimization.curve_fit(volt, x_dat, df_[f\"{probe}_Raw_Bmag\"] / df_[\"NMR [T]\"], guess)\n",
    "#params, cov = optimization.curve_fit(volt, x_dat, \n",
    "#                                     df[stable_temp][f\"{probe}_Raw_Bmag\"] / df[stable_temp][\"NMR [T]\"], guess)"
   ]
  },
  {
   "cell_type": "code",
   "execution_count": null,
   "metadata": {},
   "outputs": [],
   "source": [
    "# Bmag ### STABLE TEMP\n",
    "params, cov"
   ]
  },
  {
   "cell_type": "code",
   "execution_count": null,
   "metadata": {},
   "outputs": [],
   "source": [
    "np.sqrt(cov[0,0])"
   ]
  },
  {
   "cell_type": "code",
   "execution_count": null,
   "metadata": {},
   "outputs": [],
   "source": [
    "cov[0,1] / (np.sqrt(cov[0,0])*np.sqrt(cov[1,1]))"
   ]
  },
  {
   "cell_type": "markdown",
   "metadata": {},
   "source": [
    "Parameters have strong correlation"
   ]
  },
  {
   "cell_type": "code",
   "execution_count": null,
   "metadata": {},
   "outputs": [],
   "source": [
    "A_fit, B_fit = params"
   ]
  },
  {
   "cell_type": "code",
   "execution_count": null,
   "metadata": {},
   "outputs": [],
   "source": [
    "df_[\"Bmag_lsq\"] = volt(x_dat, A_fit, B_fit)"
   ]
  },
  {
   "cell_type": "code",
   "execution_count": null,
   "metadata": {},
   "outputs": [],
   "source": []
  },
  {
   "cell_type": "code",
   "execution_count": null,
   "metadata": {},
   "outputs": [],
   "source": [
    "p_low = [df[l][f\"{probe}_Cal_T\"].mean(), (df[l][f\"{probe}_Raw_Bmag\"]/df[l][\"NMR [T]\"]).mean()]\n",
    "p_high = [df[h][f\"{probe}_Cal_T\"].mean(), (df[h][f\"{probe}_Raw_Bmag\"]/df[h][\"NMR [T]\"]).mean()]\n",
    "p_mid = [df[m][f\"{probe}_Cal_T\"].mean(), (df[m][f\"{probe}_Raw_Bmag\"]/df[m][\"NMR [T]\"]).mean()]"
   ]
  },
  {
   "cell_type": "code",
   "execution_count": null,
   "metadata": {},
   "outputs": [],
   "source": [
    "std_low = [df[l][f\"{probe}_Cal_T\"].std(), (df[l][f\"{probe}_Raw_Bmag\"]/df[l][\"NMR [T]\"]).std()]\n",
    "std_high = [df[h][f\"{probe}_Cal_T\"].std(), (df[h][f\"{probe}_Raw_Bmag\"]/df[h][\"NMR [T]\"]).std()]\n",
    "std_mid = [df[m][f\"{probe}_Cal_T\"].std(), (df[m][f\"{probe}_Raw_Bmag\"]/df[m][\"NMR [T]\"]).std()]"
   ]
  },
  {
   "cell_type": "code",
   "execution_count": null,
   "metadata": {},
   "outputs": [],
   "source": [
    "std_low"
   ]
  },
  {
   "cell_type": "code",
   "execution_count": null,
   "metadata": {},
   "outputs": [],
   "source": [
    "fig = scatter2d(df_[f\"{probe}_Cal_T\"],\n",
    "                df_[f\"{probe}_Raw_Bmag\"] / df_[\"NMR [T]\"],\n",
    "                df_.days_delta, show_plot=False)\n",
    "#d = [df[f\"{probe}_Raw_X\"].min(), df[f\"{probe}_Raw_X\"].max()]\n",
    "fig.add_trace(go.Scatter(\n",
    "                    x=df_[f\"{probe}_Cal_T\"], y=df_[\"Bmag_lsq\"],\n",
    "                    mode='lines', name=\"|V|/|B| = A * Temp. + B\",\n",
    "                    line=dict(color='deeppink', width=1,\n",
    "                              dash='dash')));\n",
    "#plot(fig)\n",
    "\n",
    "fig.update_traces(marker=dict(size=1));\n",
    "#plot(fig);\n",
    "\n",
    "fig.add_trace(go.Scatter(\n",
    "    x= [p_low[0],p_mid[0],p_high[0]],\n",
    "    y=[p_low[1],p_mid[1],p_high[1]],\n",
    "    mode='markers',\n",
    "    name='averaged_data',\n",
    "    error_x=dict(\n",
    "        type='data',\n",
    "        array=[std_low[0], std_mid[0], std_high[0]],\n",
    "        width=1,\n",
    "        thickness=1.,\n",
    "        visible=True),\n",
    "    error_y=dict(\n",
    "        type='data',\n",
    "        array=[std_low[1], std_mid[1], std_high[1]],\n",
    "        width=1,\n",
    "        thickness=1.,\n",
    "        visible=True),\n",
    "    marker=dict(\n",
    "        size=4,\n",
    "        color=\"Red\",\n",
    "    )\n",
    "))\n",
    "\n",
    "fig.update_layout(title=\"Scaled Hall Voltage vs. Hall Probe Temperature\")\n",
    "fig.update_xaxes(title_text='Hall Probe Temperature [deg C]')\n",
    "fig.update_yaxes(title_text='|V_Hall| / NMR [micro V / T]')\n",
    "fig.update_layout( width=1200,height=900,)\n",
    "\n",
    "#fig = go.Figure(traces)\n",
    "plot(fig, filename=plotdir+\"temp_fit_2point_aggregate.html\")"
   ]
  },
  {
   "cell_type": "code",
   "execution_count": null,
   "metadata": {},
   "outputs": [],
   "source": [
    "pio.write_image(fig, plotdir+\"temp_fit_2point_aggregate.pdf\")\n",
    "pio.write_image(fig, plotdir+\"temp_fit_2point_aggregate.png\")"
   ]
  },
  {
   "cell_type": "code",
   "execution_count": null,
   "metadata": {},
   "outputs": [],
   "source": [
    "std_low"
   ]
  },
  {
   "cell_type": "code",
   "execution_count": null,
   "metadata": {},
   "outputs": [],
   "source": [
    "std_mid"
   ]
  },
  {
   "cell_type": "code",
   "execution_count": null,
   "metadata": {},
   "outputs": [],
   "source": [
    "std_high"
   ]
  },
  {
   "cell_type": "code",
   "execution_count": null,
   "metadata": {},
   "outputs": [],
   "source": [
    "### pick std = 55\n",
    "std_volt = 45.#55."
   ]
  },
  {
   "cell_type": "code",
   "execution_count": null,
   "metadata": {},
   "outputs": [],
   "source": [
    "def chi2(f, x, std):\n",
    "    return np.sum(np.square((x-f)/std))"
   ]
  },
  {
   "cell_type": "code",
   "execution_count": null,
   "metadata": {},
   "outputs": [],
   "source": [
    "fit_chi2 = chi2(df_[\"Bmag_lsq\"], df_[f\"{probe}_Raw_Bmag\"]/df_[\"NMR [T]\"], std_volt)\n",
    "fit_chi2"
   ]
  },
  {
   "cell_type": "code",
   "execution_count": null,
   "metadata": {},
   "outputs": [],
   "source": [
    "# check std\n",
    "df_2 = df_[100:500]"
   ]
  },
  {
   "cell_type": "code",
   "execution_count": null,
   "metadata": {},
   "outputs": [],
   "source": [
    "fig = scatter2d(df_2.index, df_2[f\"{probe}_Raw_Bmag\"]/df_2[\"NMR [T]\"],\n",
    "               inline=False)"
   ]
  },
  {
   "cell_type": "code",
   "execution_count": null,
   "metadata": {},
   "outputs": [],
   "source": [
    "scaled_B = df_2[f\"{probe}_Raw_Bmag\"]/df_2[\"NMR [T]\"]\n",
    "scaled_B.name = \"Scaled |V|/|B|\""
   ]
  },
  {
   "cell_type": "code",
   "execution_count": null,
   "metadata": {},
   "outputs": [],
   "source": [
    "fig = histo(scaled_B, bins=25,\n",
    "               inline=False)"
   ]
  },
  {
   "cell_type": "code",
   "execution_count": null,
   "metadata": {},
   "outputs": [],
   "source": [
    "dof = len(df_) - 2\n",
    "dof"
   ]
  },
  {
   "cell_type": "code",
   "execution_count": null,
   "metadata": {},
   "outputs": [],
   "source": [
    "stats.chi2.pdf(6300, 6325)"
   ]
  },
  {
   "cell_type": "code",
   "execution_count": null,
   "metadata": {},
   "outputs": [],
   "source": [
    "n = np.linspace(0, 7000, 1000)"
   ]
  },
  {
   "cell_type": "code",
   "execution_count": null,
   "metadata": {},
   "outputs": [],
   "source": [
    "P = stats.chi2.pdf(n, dof)"
   ]
  },
  {
   "cell_type": "code",
   "execution_count": null,
   "metadata": {},
   "outputs": [],
   "source": [
    "plt.plot(n,P)\n",
    "plt.plot([fit_chi2, fit_chi2],[0., P.max()], 'r--');"
   ]
  },
  {
   "cell_type": "code",
   "execution_count": null,
   "metadata": {},
   "outputs": [],
   "source": [
    "n[P.argmax()]"
   ]
  },
  {
   "cell_type": "markdown",
   "metadata": {},
   "source": [
    "## Magnet Behavior"
   ]
  },
  {
   "cell_type": "code",
   "execution_count": null,
   "metadata": {},
   "outputs": [],
   "source": [
    "probes"
   ]
  },
  {
   "cell_type": "code",
   "execution_count": null,
   "metadata": {},
   "outputs": [],
   "source": [
    "x_dat = df.index\n",
    "y_dat = df[f\"{probes[0]}_Raw_X\"]"
   ]
  },
  {
   "cell_type": "code",
   "execution_count": null,
   "metadata": {},
   "outputs": [],
   "source": [
    "fig = scatter2d(x_dat, y_dat, df.days_delta, inline=False)"
   ]
  },
  {
   "cell_type": "code",
   "execution_count": null,
   "metadata": {},
   "outputs": [],
   "source": []
  }
 ],
 "metadata": {
  "kernelspec": {
   "display_name": "Python [conda env:mu2e]",
   "language": "python",
   "name": "conda-env-mu2e-py"
  },
  "language_info": {
   "codemirror_mode": {
    "name": "ipython",
    "version": 3
   },
   "file_extension": ".py",
   "mimetype": "text/x-python",
   "name": "python",
   "nbconvert_exporter": "python",
   "pygments_lexer": "ipython3",
   "version": "3.8.3"
  }
 },
 "nbformat": 4,
 "nbformat_minor": 2
}
