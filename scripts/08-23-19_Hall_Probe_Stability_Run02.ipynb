{
 "cells": [
  {
   "cell_type": "markdown",
   "metadata": {},
   "source": [
    "## Imports"
   ]
  },
  {
   "cell_type": "code",
   "execution_count": null,
   "metadata": {},
   "outputs": [],
   "source": [
    "%load_ext autoreload\n",
    "%autoreload 2"
   ]
  },
  {
   "cell_type": "code",
   "execution_count": null,
   "metadata": {},
   "outputs": [],
   "source": [
    "import numpy as np\n",
    "import pandas as pd\n",
    "import pickle as pkl\n",
    "from datetime import datetime\n",
    "from dateutil import parser\n",
    "from datetime import datetime\n",
    "from sys import getsizeof\n",
    "import re\n",
    "\n",
    "import operator\n",
    "from scipy import stats\n",
    "\n",
    "import matplotlib.pyplot as plt\n",
    "from mpl_toolkits.mplot3d import Axes3D\n",
    "%matplotlib inline\n",
    "plt.rcParams['figure.figsize'] = (12.0, 8.0)\n",
    "plt.rcParams['axes.axisbelow'] = True\n",
    "\n",
    "from plotly.offline import init_notebook_mode, plot, iplot\n",
    "import plotly.graph_objs as go\n",
    "import plotly.io as pio\n",
    "from plotly.subplots import make_subplots\n",
    "init_notebook_mode(True)\n",
    "\n",
    "import seaborn as sns\n",
    "\n",
    "from hallprobecalib import hpc_ext_path\n",
    "from hallprobecalib.hpcplots import scatter2d,scatter3d,histo,py_profile"
   ]
  },
  {
   "cell_type": "code",
   "execution_count": null,
   "metadata": {},
   "outputs": [],
   "source": [
    "plotdir = hpc_ext_path+'plots/hall_probe_stability/2019-08-23/'"
   ]
  },
  {
   "cell_type": "code",
   "execution_count": null,
   "metadata": {},
   "outputs": [],
   "source": [
    "pkl_dir = hpc_ext_path+\"datafiles/hall_probe_stability/\"\n",
    "pkl_file_slow_old = \"hall_stability.run01.raw.base.pkl\"\n",
    "pkl_file_slow = \"hall_stability.run02.raw.slow.pkl\"\n",
    "pkl_file_fast = \"hall_stability.run02.raw.fast.pkl\"\n",
    "pkl_file_fast_sparse = \"hall_stability.run02.sparse.fast.pkl\""
   ]
  },
  {
   "cell_type": "code",
   "execution_count": null,
   "metadata": {},
   "outputs": [],
   "source": [
    "df_slow = pd.read_pickle(pkl_dir+pkl_file_slow)"
   ]
  },
  {
   "cell_type": "code",
   "execution_count": null,
   "metadata": {},
   "outputs": [],
   "source": [
    "df_slow_old = pd.read_pickle(pkl_dir+pkl_file_slow_old)"
   ]
  },
  {
   "cell_type": "code",
   "execution_count": null,
   "metadata": {},
   "outputs": [],
   "source": [
    "t0 = pd.to_timedelta(df_slow_old.index.values)[0] / pd.offsets.Second(1)\n",
    "\n",
    "df_slow_old[\"seconds_delta\"] = pd.to_timedelta(df_slow_old.index.values) / pd.offsets.Second(1) - t0#1565697533.416"
   ]
  },
  {
   "cell_type": "code",
   "execution_count": null,
   "metadata": {},
   "outputs": [],
   "source": [
    "df_slow_old.head()"
   ]
  },
  {
   "cell_type": "code",
   "execution_count": null,
   "metadata": {},
   "outputs": [],
   "source": [
    "df_fast = pd.read_pickle(pkl_dir+pkl_file_fast)\n",
    "#df_fast_sparse = pd.read_pickle(pkl_dir+pkl_file_fast_sparse)"
   ]
  },
  {
   "cell_type": "code",
   "execution_count": null,
   "metadata": {},
   "outputs": [],
   "source": [
    "#df_fast.tail(1)"
   ]
  },
  {
   "cell_type": "code",
   "execution_count": null,
   "metadata": {},
   "outputs": [],
   "source": [
    "#df_slow.tail(1)"
   ]
  },
  {
   "cell_type": "markdown",
   "metadata": {},
   "source": [
    "## Cleaning"
   ]
  },
  {
   "cell_type": "code",
   "execution_count": null,
   "metadata": {},
   "outputs": [],
   "source": [
    "directory = \"/home/ckampa/Dropbox/LogFiles/\"#hpc_ext_path+'datafiles/magnet_stability/nmr/'\n",
    "filename_slow = '2019-08-23 163053slow.txt' #'2019-08-23 162051slow.txt' # first file stopped Hall probe readings again\n",
    "filename_fast = '2019-08-23 162500.txt'"
   ]
  },
  {
   "cell_type": "code",
   "execution_count": null,
   "metadata": {},
   "outputs": [],
   "source": [
    "fast_cols_init = [\"Date\", \"Time\", \n",
    "                  \"1\", \"1_Bx\", \"1_By\", \"1_Bz\", \"1_T\",\n",
    "                  \"2\", \"2_Bx\", \"2_By\", \"2_Bz\", \"2_T\",\n",
    "                  \"3\", \"3_Bx\", \"3_By\", \"3_Bz\", \"3_T\",\n",
    "                  \"4\", \"4_Bx\", \"4_By\", \"4_Bz\", \"4_T\",\n",
    "                  \"5\", \"5_Bx\", \"5_By\", \"5_Bz\", \"5_T\",\n",
    "                  \"6\", \"6_Bx\", \"6_By\", \"6_Bz\", \"6_T\",]"
   ]
  },
  {
   "cell_type": "code",
   "execution_count": null,
   "metadata": {},
   "outputs": [],
   "source": [
    "df_slow = pd.read_csv(directory+filename_slow)"
   ]
  },
  {
   "cell_type": "code",
   "execution_count": null,
   "metadata": {},
   "outputs": [],
   "source": [
    "df_slow"
   ]
  },
  {
   "cell_type": "code",
   "execution_count": null,
   "metadata": {
    "code_folding": []
   },
   "outputs": [],
   "source": [
    "#df_fast = pd.read_csv(directory+filename_fast, skiprows=7, delim_whitespace=True)#, names=fast_cols_init)"
   ]
  },
  {
   "cell_type": "code",
   "execution_count": null,
   "metadata": {},
   "outputs": [],
   "source": [
    "#len(df_fast.columns)"
   ]
  },
  {
   "cell_type": "code",
   "execution_count": null,
   "metadata": {},
   "outputs": [],
   "source": [
    "# skipping many lines from first attempt which failed\n",
    "df_fast = pd.read_csv(directory+filename_fast, skiprows=32, delim_whitespace=True, names=fast_cols_init)"
   ]
  },
  {
   "cell_type": "code",
   "execution_count": null,
   "metadata": {},
   "outputs": [],
   "source": [
    "df_fast"
   ]
  },
  {
   "cell_type": "code",
   "execution_count": null,
   "metadata": {},
   "outputs": [],
   "source": [
    "for col in df_fast.columns:\n",
    "    #print(df_fast[col].dtype)\n",
    "    if type(df_fast[col].iloc[0]) is np.float64:\n",
    "        print(f\"{col}: mean: {df_fast[col].mean()}\")"
   ]
  },
  {
   "cell_type": "markdown",
   "metadata": {
    "heading_collapsed": true
   },
   "source": [
    "### Cleaning Fast Data Set"
   ]
  },
  {
   "cell_type": "code",
   "execution_count": null,
   "metadata": {
    "hidden": true
   },
   "outputs": [],
   "source": [
    "df_fast.head(1)"
   ]
  },
  {
   "cell_type": "code",
   "execution_count": null,
   "metadata": {
    "hidden": true
   },
   "outputs": [],
   "source": [
    "df_fast.tail(1)"
   ]
  },
  {
   "cell_type": "code",
   "execution_count": null,
   "metadata": {
    "hidden": true,
    "scrolled": true
   },
   "outputs": [],
   "source": [
    "df_slow.head(1)"
   ]
  },
  {
   "cell_type": "code",
   "execution_count": null,
   "metadata": {
    "hidden": true
   },
   "outputs": [],
   "source": [
    "#df_fast"
   ]
  },
  {
   "cell_type": "code",
   "execution_count": null,
   "metadata": {
    "hidden": true
   },
   "outputs": [],
   "source": [
    "'''fast_cols_init = [\"Date\", \"Time\", \n",
    "                  \"1\", \"1_Bx\", \"1_By\", \"1_Bz\", \"1_T\",\n",
    "                  \"2\", \"2_Bx\", \"2_By\", \"2_Bz\", \"2_T\",\n",
    "                  \"3\", \"3_Bx\", \"3_By\", \"3_Bz\", \"3_T\",\n",
    "                  \"4\", \"4_Bx\", \"4_By\", \"4_Bz\", \"4_T\",\n",
    "                  \"5\", \"5_Bx\", \"5_By\", \"5_Bz\", \"5_T\",]''';"
   ]
  },
  {
   "cell_type": "code",
   "execution_count": null,
   "metadata": {
    "hidden": true
   },
   "outputs": [],
   "source": [
    "#len(fast_cols_init)"
   ]
  },
  {
   "cell_type": "code",
   "execution_count": null,
   "metadata": {
    "hidden": true
   },
   "outputs": [],
   "source": [
    "#len(df_fast.columns)"
   ]
  },
  {
   "cell_type": "code",
   "execution_count": null,
   "metadata": {
    "hidden": true
   },
   "outputs": [],
   "source": [
    "# raw values on every other line....\n",
    "df_fast_cal = df_fast[::2]\n",
    "df_fast_raw = df_fast[1::2]"
   ]
  },
  {
   "cell_type": "code",
   "execution_count": null,
   "metadata": {
    "hidden": true
   },
   "outputs": [],
   "source": [
    "df_fast_cal.reset_index(drop=True, inplace=True)\n",
    "df_fast_raw.reset_index(drop=True, inplace=True)"
   ]
  },
  {
   "cell_type": "code",
   "execution_count": null,
   "metadata": {
    "hidden": true
   },
   "outputs": [],
   "source": [
    "#df_fast_cal"
   ]
  },
  {
   "cell_type": "code",
   "execution_count": null,
   "metadata": {
    "hidden": true
   },
   "outputs": [],
   "source": [
    "#df_fast_raw"
   ]
  },
  {
   "cell_type": "code",
   "execution_count": null,
   "metadata": {
    "hidden": true
   },
   "outputs": [],
   "source": [
    "#dates = [parser.parse(row.Date+\" \"+row.Time[:-4]) for row in df_fast_cal.itertuples()]\n",
    "dates = [datetime.strptime(row.Date+\" \"+row.Time, \"%Y-%m-%d %H:%M:%S:%f\") for row in df_fast_cal.itertuples()]"
   ]
  },
  {
   "cell_type": "code",
   "execution_count": null,
   "metadata": {
    "hidden": true
   },
   "outputs": [],
   "source": [
    "df_fast_cal[\"Datetime\"] = pd.to_datetime(dates)\n",
    "df_fast_cal = df_fast_cal.set_index(\"Datetime\")"
   ]
  },
  {
   "cell_type": "code",
   "execution_count": null,
   "metadata": {
    "hidden": true
   },
   "outputs": [],
   "source": [
    "#dates = [parser.parse(row.Date+\" \"+row.Time[:-4]) for row in df_fast_cal.itertuples()]\n",
    "dates = [datetime.strptime(row.Date[1:]+\" \"+row.Time, \"%Y-%m-%d %H:%M:%S:%f\") for row in df_fast_raw.itertuples()]"
   ]
  },
  {
   "cell_type": "code",
   "execution_count": null,
   "metadata": {
    "hidden": true
   },
   "outputs": [],
   "source": [
    "df_fast_raw[\"Datetime\"] = pd.to_datetime(dates)\n",
    "df_fast_raw = df_fast_raw.set_index(\"Datetime\")"
   ]
  },
  {
   "cell_type": "code",
   "execution_count": null,
   "metadata": {
    "hidden": true
   },
   "outputs": [],
   "source": [
    "df_fast_raw.drop(columns=[\"Date\",\"Time\"], inplace=True)"
   ]
  },
  {
   "cell_type": "code",
   "execution_count": null,
   "metadata": {
    "hidden": true
   },
   "outputs": [],
   "source": [
    "df_fast_cal.drop(columns=[\"Date\",\"Time\"], inplace=True)"
   ]
  },
  {
   "cell_type": "code",
   "execution_count": null,
   "metadata": {
    "hidden": true
   },
   "outputs": [],
   "source": [
    "raw_col_dict = {i: \"Raw_\"+i for i in df_fast_raw.columns}\n",
    "cal_col_dict = {i: \"Cal_\"+i for i in df_fast_cal.columns}"
   ]
  },
  {
   "cell_type": "code",
   "execution_count": null,
   "metadata": {
    "hidden": true
   },
   "outputs": [],
   "source": [
    "df_fast_cal.rename(columns=cal_col_dict, inplace=True)\n",
    "df_fast_raw.rename(columns=raw_col_dict, inplace=True)"
   ]
  },
  {
   "cell_type": "code",
   "execution_count": null,
   "metadata": {
    "hidden": true
   },
   "outputs": [],
   "source": [
    "df_fast = pd.concat([df_fast_cal, df_fast_raw], axis=1)"
   ]
  },
  {
   "cell_type": "markdown",
   "metadata": {},
   "source": [
    "### Slow Control Data Cleaning"
   ]
  },
  {
   "cell_type": "code",
   "execution_count": null,
   "metadata": {},
   "outputs": [],
   "source": [
    "dates = [parser.parse(row.Time) for row in df_slow.itertuples()]# if isdatetime(row.Time.values[0])]"
   ]
  },
  {
   "cell_type": "code",
   "execution_count": null,
   "metadata": {},
   "outputs": [],
   "source": [
    "df_slow[\"Datetime\"] = pd.to_datetime(dates)#.astype(\"str\")\n",
    "df_slow = df_slow.set_index(\"Datetime\")"
   ]
  },
  {
   "cell_type": "markdown",
   "metadata": {},
   "source": [
    "There is no Hall probe data."
   ]
  },
  {
   "cell_type": "code",
   "execution_count": null,
   "metadata": {},
   "outputs": [],
   "source": [
    "df_fast = df_fast.loc[:df_slow.index[-1]]"
   ]
  },
  {
   "cell_type": "code",
   "execution_count": null,
   "metadata": {},
   "outputs": [],
   "source": [
    "df_fast.loc[:,\"NMR\"] = [df_slow.iloc[df_slow.index.get_loc(row, method='nearest')][\" NMR [T]\"] for row in df_fast.index]"
   ]
  },
  {
   "cell_type": "code",
   "execution_count": null,
   "metadata": {
    "code_folding": []
   },
   "outputs": [],
   "source": [
    "for i in range(1,6):\n",
    "    df_fast.eval(f\"Cal_{i}_Bmag = (Cal_{i}_Bx**2+Cal_{i}_By**2+Cal_{i}_Bz**2)**(1/2)\", inplace=True)\n",
    "    df_fast.eval(f\"Cal_{i}_Res = (NMR - Cal_{i}_Bmag)\", inplace=True)\n",
    "    df_fast.eval(f\"Cal_{i}_Res_Rel = (NMR - Cal_{i}_Bmag) / NMR\", inplace=True)\n",
    "\n",
    "for i in range(1,6):\n",
    "    for B in [\"Bx\",\"By\",\"Bz\"]:\n",
    "        #df_fast.eval(f\"Cal_{i}_Bmag = (Cal_{i}_Bx**2+Cal_{i}_By**2+Cal_{i}_Bz**2)**(1/2)\", inplace=True)\n",
    "        df_fast.eval(f\"Cal_{i}_{B}_Res = (NMR - Cal_{i}_{B})\", inplace=True)\n",
    "        df_fast.eval(f\"Cal_{i}_{B}_Res_Rel = (NMR - Cal_{i}_{B}) / NMR\", inplace=True)\n",
    "\n",
    "\n",
    "t0 = pd.to_timedelta(df_fast.index.values)[0] / pd.offsets.Second(1)\n",
    "\n",
    "df_fast[\"seconds_delta\"] = pd.to_timedelta(df_fast.index.values) / pd.offsets.Second(1) - t0#1565697533.416\n",
    "df_slow[\"seconds_delta\"] = pd.to_timedelta(df_slow.index.values) / pd.offsets.Second(1) - t0#1565697533.416"
   ]
  },
  {
   "cell_type": "code",
   "execution_count": null,
   "metadata": {},
   "outputs": [],
   "source": [
    "for i in range(1,6):\n",
    "    df_fast[f\"Cal_{i}_Transverse\"] = (df_fast[f\"Cal_{i}_Bx\"]**2+df_fast[f\"Cal_{i}_By\"]**2)**(1/2)\n",
    "    df_fast[f\"Cal_{i}_Theta\"] = np.arccos(df_fast[f\"Cal_{i}_Bz\"]/df_fast[f\"Cal_{i}_Bmag\"])\n",
    "    df_fast[f\"Cal_{i}_Phi\"] = np.arccos(df_fast[f\"Cal_{i}_Bx\"]/df_fast[f\"Cal_{i}_Transverse\"])"
   ]
  },
  {
   "cell_type": "code",
   "execution_count": null,
   "metadata": {},
   "outputs": [],
   "source": [
    "df_slow.to_pickle(pkl_dir+pkl_file_slow)"
   ]
  },
  {
   "cell_type": "code",
   "execution_count": null,
   "metadata": {},
   "outputs": [],
   "source": [
    "df_fast.to_pickle(pkl_dir+pkl_file_fast)"
   ]
  },
  {
   "cell_type": "code",
   "execution_count": null,
   "metadata": {},
   "outputs": [],
   "source": [
    "col_drop = [i for i in df_fast.columns if (\"1\" not in i) and (\"NMR\" not in i)]"
   ]
  },
  {
   "cell_type": "code",
   "execution_count": null,
   "metadata": {},
   "outputs": [],
   "source": [
    "#col_drop"
   ]
  },
  {
   "cell_type": "code",
   "execution_count": null,
   "metadata": {},
   "outputs": [],
   "source": [
    "df_fast_sparse = df_fast.drop(columns=col_drop)"
   ]
  },
  {
   "cell_type": "code",
   "execution_count": null,
   "metadata": {},
   "outputs": [],
   "source": [
    "df_fast_sparse.to_pickle(pkl_dir+pkl_file_fast_sparse)"
   ]
  },
  {
   "cell_type": "code",
   "execution_count": null,
   "metadata": {},
   "outputs": [],
   "source": [
    "getsizeof(df_slow) / 1000/1000, getsizeof(df_fast) / 1000/1000, getsizeof(df_fast_sparse) / 1000/1000"
   ]
  },
  {
   "cell_type": "markdown",
   "metadata": {},
   "source": [
    "## Plotting"
   ]
  },
  {
   "cell_type": "markdown",
   "metadata": {},
   "source": [
    "### First Attempt"
   ]
  },
  {
   "cell_type": "code",
   "execution_count": null,
   "metadata": {},
   "outputs": [],
   "source": [
    "len(df_fast)"
   ]
  },
  {
   "cell_type": "code",
   "execution_count": null,
   "metadata": {},
   "outputs": [],
   "source": [
    "df_fast.columns"
   ]
  },
  {
   "cell_type": "code",
   "execution_count": null,
   "metadata": {},
   "outputs": [],
   "source": [
    "df_fast.eval(\"Cal_1_Bmag = (Cal_1_Bx**2+Cal_1_By**2+Cal_1_Bz**2)**(1/2)\", inplace = True)"
   ]
  },
  {
   "cell_type": "code",
   "execution_count": null,
   "metadata": {},
   "outputs": [],
   "source": [
    "N = 10#30#10#20#10#30#60\n",
    "df_fast.loc[:, \"Cal_1_Bmag_Avg\"] = df_fast[\"Cal_1_Bmag\"].rolling(window = N, center=True).mean()\n",
    "df_fast.loc[:, \"Cal_1_Bmag_Avg_Res_Rel\"] = (df_fast[\"NMR\"] - df_fast[\"Cal_1_Bmag_Avg\"])/df_fast[\"NMR\"]"
   ]
  },
  {
   "cell_type": "code",
   "execution_count": null,
   "metadata": {},
   "outputs": [],
   "source": [
    "df_fast_5 = df_fast[N // 2::N]"
   ]
  },
  {
   "cell_type": "code",
   "execution_count": null,
   "metadata": {},
   "outputs": [],
   "source": [
    "#df_fast_5.loc[:, \"Cal_Mag_Avg\"] = [df_fast.iloc[i- for i in range(len(df_fast_5))]"
   ]
  },
  {
   "cell_type": "code",
   "execution_count": null,
   "metadata": {},
   "outputs": [],
   "source": [
    "### 60 second"
   ]
  },
  {
   "cell_type": "code",
   "execution_count": null,
   "metadata": {},
   "outputs": [],
   "source": [
    "fig = scatter2d([df_fast.index,df_fast.index,df_fast_5.index], [df_fast.Cal_1_Bmag,df_fast.Cal_1_Bmag_Avg,df_fast_5.Cal_1_Bmag_Avg], inline=True)"
   ]
  },
  {
   "cell_type": "code",
   "execution_count": null,
   "metadata": {},
   "outputs": [],
   "source": [
    "fig = histo(df_fast.Cal_1_Bmag, bins=50, inline=True)\n",
    "fig = histo(df_fast.Cal_1_Bmag_Avg, bins=50, inline=True)\n",
    "fig = histo(df_fast_5.Cal_1_Bmag_Avg, bins=50, inline=True)"
   ]
  },
  {
   "cell_type": "code",
   "execution_count": null,
   "metadata": {},
   "outputs": [],
   "source": [
    "#df_fast.loc[:,\"NMR\"] = [df_slow.iloc[df_slow.index.get_loc(row, method='nearest')][\" NMR [T]\"] for row in df_fast.index]"
   ]
  },
  {
   "cell_type": "code",
   "execution_count": null,
   "metadata": {},
   "outputs": [],
   "source": [
    "df_slow[\" NMR [T]\"].hist(bins=50)"
   ]
  },
  {
   "cell_type": "code",
   "execution_count": null,
   "metadata": {},
   "outputs": [],
   "source": [
    "df_fast.eval(\"Cal_Res = (NMR - Cal_1_Bmag)\", inplace=True)\n",
    "df_fast.eval(\"Cal_Res_Rel = (NMR - Cal_1_Bmag) / NMR\", inplace=True)"
   ]
  },
  {
   "cell_type": "code",
   "execution_count": null,
   "metadata": {},
   "outputs": [],
   "source": [
    "fig = histo(df_fast.Cal_Res_Rel, bins=50, inline=True)\n",
    "fig = histo(df_fast.Cal_1_Bmag_Avg_Res_Rel, bins=50, inline=True)\n",
    "fig = histo(df_fast_5.Cal_1_Bmag_Avg_Res_Rel, bins=50, inline=True)\n",
    "#fig = histo(df_fast.Cal_1_Bmag_Avg_Res_Rel, bins=50, inline=True)"
   ]
  },
  {
   "cell_type": "code",
   "execution_count": null,
   "metadata": {},
   "outputs": [],
   "source": [
    "### 60 second average"
   ]
  },
  {
   "cell_type": "code",
   "execution_count": null,
   "metadata": {},
   "outputs": [],
   "source": [
    "fig = histo([df_fast.Cal_1_Bmag,df_fast.Cal_1_Bmag_Avg], bins=50,same_bins=True, show_plot=False, inline=True)\n",
    "fig.update_traces(histnorm='probability density')\n",
    "iplot(fig)\n",
    "#fig = histo([df_fast.Cal_Res_Rel,df_fast_5.Cal_1_Bmag_Avg_Res_Rel], bins=50,same_bins=True, show_plot=False, inline=True)\n",
    "#fig.update_traces(histnorm='probability density')\n",
    "#iplot(fig)"
   ]
  },
  {
   "cell_type": "code",
   "execution_count": null,
   "metadata": {},
   "outputs": [],
   "source": [
    "fig = histo([df_fast.Cal_Res_Rel,df_fast.Cal_1_Bmag_Avg_Res_Rel], bins=50,same_bins=True, show_plot=False, inline=True)\n",
    "fig.update_traces(histnorm='probability density')\n",
    "iplot(fig)\n",
    "fig = histo([df_fast.Cal_Res_Rel,df_fast_5.Cal_1_Bmag_Avg_Res_Rel], bins=50,same_bins=True, show_plot=False, inline=True)\n",
    "fig.update_traces(histnorm='probability density')\n",
    "iplot(fig)"
   ]
  },
  {
   "cell_type": "code",
   "execution_count": null,
   "metadata": {},
   "outputs": [],
   "source": [
    "fig = histo([df_fast.Cal_Res_Rel,df_fast.Cal_1_Bmag_Avg_Res_Rel], bins=50,same_bins=True, show_plot=False, inline=True)\n",
    "#fig.update_traces(histnorm='probability density')\n",
    "iplot(fig)\n",
    "fig = histo([df_fast.Cal_Res_Rel,df_fast_5.Cal_1_Bmag_Avg_Res_Rel], bins=50,same_bins=True, show_plot=False, inline=True)\n",
    "fig.update_traces(histnorm='probability density')\n",
    "iplot(fig)\n",
    "#fig = histo(df_fast.Cal_1_Bmag_Avg_Res_Rel, bins=50, inline=True)\n",
    "#fig = histo(df_fast_5.Cal_1_Bmag_Avg_Res_Rel, bins=10, inline=True)\n",
    "#fig = histo(df_fast.Cal_1_Bmag_Avg_Res_Rel, bins=50, inline=True)"
   ]
  },
  {
   "cell_type": "code",
   "execution_count": null,
   "metadata": {},
   "outputs": [],
   "source": [
    "(7.09-16.74)/((7.09+16.74)/2)"
   ]
  },
  {
   "cell_type": "code",
   "execution_count": null,
   "metadata": {},
   "outputs": [],
   "source": [
    "(7.09-16.74)/(16.74)"
   ]
  },
  {
   "cell_type": "code",
   "execution_count": null,
   "metadata": {},
   "outputs": [],
   "source": [
    "(5.77-7.09)/((5.77+7.09)/2)"
   ]
  },
  {
   "cell_type": "code",
   "execution_count": null,
   "metadata": {},
   "outputs": [],
   "source": [
    "(5.77-7.09)/(7.09)"
   ]
  },
  {
   "cell_type": "code",
   "execution_count": null,
   "metadata": {},
   "outputs": [],
   "source": [
    "fig = histo(df_slow[\" NMR [T]\"], bins=10, inline=True)"
   ]
  },
  {
   "cell_type": "code",
   "execution_count": null,
   "metadata": {},
   "outputs": [],
   "source": [
    "df_slow[\" NMR [T]\"].plot()"
   ]
  },
  {
   "cell_type": "code",
   "execution_count": null,
   "metadata": {
    "scrolled": false
   },
   "outputs": [],
   "source": [
    "fig = scatter2d(df_slow.index, df_slow[\" NMR [T]\"], inline=True)"
   ]
  },
  {
   "cell_type": "code",
   "execution_count": null,
   "metadata": {},
   "outputs": [],
   "source": [
    "import copy"
   ]
  },
  {
   "cell_type": "code",
   "execution_count": null,
   "metadata": {},
   "outputs": [],
   "source": [
    "# Seeing effect of number of points in average\n",
    "#N = 10#30#10#20#10#30#60\n",
    "Ns = [5,10,30,60, 120, 240, 480, 960, 1930,1930*2, 1930*4, 1930*8]#[5, 10, 30, 60]\n",
    "\n",
    "df_fast_N = []\n",
    "\n",
    "for N in Ns:\n",
    "    df_fast.loc[:, \"Cal_1_Bmag_Avg\"] = df_fast[\"Cal_1_Bmag\"].rolling(window = N, center=True).mean()\n",
    "    df_fast.loc[:, \"Cal_1_Bmag_Avg_Res_Rel\"] = (df_fast[\"NMR\"] - df_fast[\"Cal_1_Bmag_Avg\"])/df_fast[\"NMR\"]\n",
    "    df_fast_N.append(copy.copy(df_fast[N // 2::N]))\n",
    "    #print(df_fast_N[-1][\"Cal_1_Bmag_Avg_Res_Rel\"].describe())\n",
    "\n",
    "#df_fast_5 = df_fast[N // 2::N]\n",
    "#print([df[\"Cal_1_Bmag_Avg_Res_Rel\"].describe() for df in df_fast_N])"
   ]
  },
  {
   "cell_type": "code",
   "execution_count": null,
   "metadata": {
    "scrolled": true
   },
   "outputs": [],
   "source": [
    "df_fast_N[0][\"Cal_1_Bmag_Avg_Res_Rel\"].describe()"
   ]
  },
  {
   "cell_type": "code",
   "execution_count": null,
   "metadata": {},
   "outputs": [],
   "source": [
    "fig = scatter2d([df_fast.index, df_fast_N[-2].index, df_slow.index], [df_fast.Cal_1_Bmag,df_fast_N[-2].Cal_1_Bmag_Avg, df_slow[\" NMR [T]\"]], inline=True)"
   ]
  },
  {
   "cell_type": "code",
   "execution_count": null,
   "metadata": {},
   "outputs": [],
   "source": [
    "fig = histo([df_fast.Cal_Res_Rel]+[df.Cal_1_Bmag_Avg_Res_Rel for df in df_fast_N], bins=50,same_bins=True, show_plot=False, opacity=0.5, inline=True)\n",
    "fig.update_traces(histnorm='probability density')\n",
    "iplot(fig)"
   ]
  },
  {
   "cell_type": "code",
   "execution_count": null,
   "metadata": {},
   "outputs": [],
   "source": [
    "fig = histo([df_fast.Cal_Res_Rel]+[df.Cal_1_Bmag_Avg_Res_Rel for df in [df_fast_N[0]]], bins=50,same_bins=False, show_plot=False, opacity=0.5, inline=True)\n",
    "fig.update_traces(histnorm='probability density')\n",
    "iplot(fig)"
   ]
  },
  {
   "cell_type": "code",
   "execution_count": null,
   "metadata": {},
   "outputs": [],
   "source": [
    "fig = histo([df.Cal_1_Bmag_Avg_Res_Rel for df in [df_fast_N[0]]], bins=50,same_bins=False, show_plot=True, opacity=0.5, inline=True)"
   ]
  },
  {
   "cell_type": "code",
   "execution_count": null,
   "metadata": {},
   "outputs": [],
   "source": [
    "df_fast_N[0][\"Cal_1_Bmag_Avg_Res_Rel\"].describe()"
   ]
  },
  {
   "cell_type": "code",
   "execution_count": null,
   "metadata": {},
   "outputs": [],
   "source": [
    "getsizeof(df_fast_N[0]) / 1000 / 1000"
   ]
  },
  {
   "cell_type": "markdown",
   "metadata": {},
   "source": [
    "### Noise on all Hall probes"
   ]
  },
  {
   "cell_type": "code",
   "execution_count": null,
   "metadata": {},
   "outputs": [],
   "source": [
    "#df_fast.columns"
   ]
  },
  {
   "cell_type": "code",
   "execution_count": null,
   "metadata": {},
   "outputs": [],
   "source": [
    "'''for i in range(1,6):\n",
    "    df_fast.eval(f\"Cal_{i}_Bmag = (Cal_{i}_Bx**2+Cal_{i}_By**2+Cal_{i}_Bz**2)**(1/2)\", inplace=True)\n",
    "    df_fast.eval(f\"Cal_{i}_Res = (NMR - Cal_{i}_Bmag)\", inplace=True)\n",
    "    df_fast.eval(f\"Cal_{i}_Res_Rel = (NMR - Cal_{i}_Bmag) / NMR\", inplace=True)\n",
    "\n",
    "for i in range(1,6):\n",
    "    for B in [\"Bx\",\"By\",\"Bz\"]:\n",
    "        #df_fast.eval(f\"Cal_{i}_Bmag = (Cal_{i}_Bx**2+Cal_{i}_By**2+Cal_{i}_Bz**2)**(1/2)\", inplace=True)\n",
    "        df_fast.eval(f\"Cal_{i}_{B}_Res = (NMR - Cal_{i}_{B})\", inplace=True)\n",
    "        df_fast.eval(f\"Cal_{i}_{B}_Res_Rel = (NMR - Cal_{i}_{B}) / NMR\", inplace=True)\n",
    "\n",
    "df_fast[\"seconds_delta\"] = pd.to_timedelta(df_fast.index.values) / pd.offsets.Second(1) - 1565697533.416\n",
    "\n",
    "df_slow[\"seconds_delta\"] = pd.to_timedelta(df_slow.index.values) / pd.offsets.Second(1) - 1565697533.416''';"
   ]
  },
  {
   "cell_type": "code",
   "execution_count": null,
   "metadata": {},
   "outputs": [],
   "source": [
    "#pd.to_timedelta(df_slow.index.values) / pd.offsets.Second(1)"
   ]
  },
  {
   "cell_type": "code",
   "execution_count": null,
   "metadata": {},
   "outputs": [],
   "source": [
    "getsizeof(df_fast) / 1000 / 1000"
   ]
  },
  {
   "cell_type": "code",
   "execution_count": null,
   "metadata": {},
   "outputs": [],
   "source": [
    "# relative residual"
   ]
  },
  {
   "cell_type": "code",
   "execution_count": null,
   "metadata": {
    "scrolled": false
   },
   "outputs": [],
   "source": [
    "for i in range(1,6):\n",
    "    for B in [\"Bx\", \"By\", \"Bz\"]:\n",
    "        fig = histo(df_fast[f\"Cal_{i}_{B}_Res_Rel\"], bins=50, show_plot=False, inline=True)\n",
    "        filename = f\"histo_Cal_{i}_{B}_Res_Rel\"\n",
    "        pio.write_image(fig, plotdir+f\"relative_residuals/components/{filename}.pdf\")\n",
    "        pio.write_image(fig, plotdir+f\"relative_residuals/components/{filename}.png\")"
   ]
  },
  {
   "cell_type": "code",
   "execution_count": null,
   "metadata": {},
   "outputs": [],
   "source": [
    "for i in range(1,6):\n",
    "    fig = histo(df_fast[f\"Cal_{i}_Res_Rel\"], bins=50, show_plot=False, inline=True)\n",
    "    filename = f\"histo_Cal_{i}_Res_Rel\"\n",
    "    pio.write_image(fig, plotdir+f\"relative_residuals/magnitude/{filename}.pdf\")\n",
    "    pio.write_image(fig, plotdir+f\"relative_residuals/magnitude/{filename}.png\")"
   ]
  },
  {
   "cell_type": "code",
   "execution_count": null,
   "metadata": {},
   "outputs": [],
   "source": [
    "# residual"
   ]
  },
  {
   "cell_type": "code",
   "execution_count": null,
   "metadata": {},
   "outputs": [],
   "source": [
    "for i in range(1,6):\n",
    "    for B in [\"Bx\", \"By\", \"Bz\"]:\n",
    "        fig = histo(df_fast[f\"Cal_{i}_{B}_Res\"], bins=50, show_plot=False, inline=True)\n",
    "        filename = f\"histo_Cal_{i}_{B}_Res\"\n",
    "        pio.write_image(fig, plotdir+f\"residuals/components/{filename}.pdf\")\n",
    "        pio.write_image(fig, plotdir+f\"residuals/components/{filename}.png\")"
   ]
  },
  {
   "cell_type": "code",
   "execution_count": null,
   "metadata": {},
   "outputs": [],
   "source": [
    "for i in range(1,6):\n",
    "    fig = histo(df_fast[f\"Cal_{i}_Res\"], bins=50, show_plot=False, inline=True)\n",
    "    filename = f\"histo_Cal_{i}_Res\"\n",
    "    pio.write_image(fig, plotdir+f\"residuals/magnitude/{filename}.pdf\")\n",
    "    pio.write_image(fig, plotdir+f\"residuals/magnitude/{filename}.png\")"
   ]
  },
  {
   "cell_type": "code",
   "execution_count": null,
   "metadata": {},
   "outputs": [],
   "source": []
  },
  {
   "cell_type": "code",
   "execution_count": null,
   "metadata": {},
   "outputs": [],
   "source": []
  },
  {
   "cell_type": "code",
   "execution_count": null,
   "metadata": {},
   "outputs": [],
   "source": [
    "Ns = [5,10,30,60, 120, 240, 480, 960, 1930,1930*2, 1930*4, 1930*8]#[5, 10, 30, 60]\n",
    "\n",
    "df_fast_N = []\n",
    "\n",
    "for N in Ns:\n",
    "    df_fast.loc[:, \"Cal_1_Bmag_Avg\"] = df_fast[\"Cal_1_Bmag\"].rolling(window = N, center=True).mean()\n",
    "    df_fast.loc[:, \"Cal_1_Bmag_Avg_Res_Rel\"] = (df_fast[\"NMR\"] - df_fast[\"Cal_1_Bmag_Avg\"])/df_fast[\"NMR\"]\n",
    "    df_fast_N.append(copy.copy(df_fast[N // 2::N]))\n"
   ]
  },
  {
   "cell_type": "markdown",
   "metadata": {},
   "source": [
    "### Check Field Angle and Average\n",
    "- Leaving for historical purposes, but column names have changed"
   ]
  },
  {
   "cell_type": "code",
   "execution_count": null,
   "metadata": {},
   "outputs": [],
   "source": [
    "'''df_fast[\"Cal_1_Transverse\"] = (df_fast[\"Cal_1_Bx\"]**2+df_fast[\"Cal_1_By\"]**2)**(1/2)\n",
    "df_fast[\"theta\"] = np.arccos(df_fast[\"Cal_1_Bz\"]/df_fast[\"Cal_1_Bmag\"])\n",
    "df_fast[\"phi\"] = np.arccos(df_fast[\"Cal_1_Bx\"]/df_fast[\"Cal_1_Transverse\"])''';"
   ]
  },
  {
   "cell_type": "code",
   "execution_count": null,
   "metadata": {},
   "outputs": [],
   "source": [
    "fig = histo(df_fast.theta*180/np.pi, bins=50, inline=True)\n",
    "fig = histo(df_fast.phi*180/np.pi, bins=50, inline=True)"
   ]
  },
  {
   "cell_type": "code",
   "execution_count": null,
   "metadata": {},
   "outputs": [],
   "source": [
    "# Seeing effect of number of points in average\n",
    "#N = 10#30#10#20#10#30#60\n",
    "Ns = [5,10,30,60, 120, 240, ]#480, 960, 1930,1930*2, 1930*4, 1930*8]#[5, 10, 30, 60]\n",
    "\n",
    "df_fast_N = []\n",
    "\n",
    "for N in Ns:\n",
    "    df_fast.loc[:, \"theta_Avg\"] = df_fast[\"theta\"].rolling(window = N, center=True).mean()\n",
    "    df_fast.loc[:, \"phi_Avg\"] = df_fast[\"phi\"].rolling(window = N, center=True).mean()\n",
    "    df_fast_N.append(copy.copy(df_fast[N // 2::N]))\n",
    "    #print(df_fast_N[-1][\"Cal_1_Bmag_Avg_Res_Rel\"].describe())\n",
    "\n",
    "#df_fast_5 = df_fast[N // 2::N]\n",
    "#print([df[\"Cal_1_Bmag_Avg_Res_Rel\"].describe() for df in df_fast_N])"
   ]
  },
  {
   "cell_type": "code",
   "execution_count": null,
   "metadata": {},
   "outputs": [],
   "source": [
    "fig = histo([df_fast.theta]+[df.theta_Avg for df in df_fast_N], bins=50,same_bins=True, show_plot=False, opacity=0.5, inline=True)\n",
    "fig.update_traces(histnorm='probability density')\n",
    "iplot(fig)"
   ]
  },
  {
   "cell_type": "code",
   "execution_count": null,
   "metadata": {},
   "outputs": [],
   "source": [
    "fig = scatter2d(df_fast.index, df_fast.theta, inline=True)"
   ]
  },
  {
   "cell_type": "code",
   "execution_count": null,
   "metadata": {},
   "outputs": [],
   "source": [
    "fig = scatter2d(df_fast.index, df_fast.phi, inline=True)"
   ]
  },
  {
   "cell_type": "code",
   "execution_count": null,
   "metadata": {},
   "outputs": [],
   "source": [
    "df_fast_N[0].theta_Avg.plot()"
   ]
  },
  {
   "cell_type": "code",
   "execution_count": null,
   "metadata": {},
   "outputs": [],
   "source": [
    "fig = scatter2d([df_fast.index, df_fast_N[2].index, df_slow.index], [df_fast.Cal_1_Bmag,df_fast_N[2].Cal_1_Bmag_Avg, df_slow[\" NMR [T]\"]], inline=True)"
   ]
  },
  {
   "cell_type": "markdown",
   "metadata": {},
   "source": [
    "### Plots for Email"
   ]
  },
  {
   "cell_type": "code",
   "execution_count": null,
   "metadata": {},
   "outputs": [],
   "source": [
    "# get probe name dictionary\n",
    "directory = \"/home/ckampa/Dropbox/LogFiles/\"\n",
    "filename_fast = '2019-08-13 1155830 hallonly.txt'\n",
    "\n",
    "with open(directory+filename_fast, 'r') as file:\n",
    "    lines = file.readlines()[1:6]"
   ]
  },
  {
   "cell_type": "code",
   "execution_count": null,
   "metadata": {},
   "outputs": [],
   "source": [
    "lines"
   ]
  },
  {
   "cell_type": "code",
   "execution_count": null,
   "metadata": {},
   "outputs": [],
   "source": [
    "id_reg = re.compile(\": (.+?)  Offset\")"
   ]
  },
  {
   "cell_type": "code",
   "execution_count": null,
   "metadata": {},
   "outputs": [],
   "source": [
    "hall_ids_list = [id_reg.findall(line)[0] for line in lines]"
   ]
  },
  {
   "cell_type": "code",
   "execution_count": null,
   "metadata": {},
   "outputs": [],
   "source": [
    "hall_ids_list"
   ]
  },
  {
   "cell_type": "code",
   "execution_count": null,
   "metadata": {},
   "outputs": [],
   "source": [
    "hall_ids = {i+1: hall for i,hall in enumerate(hall_ids_list)}"
   ]
  },
  {
   "cell_type": "code",
   "execution_count": null,
   "metadata": {},
   "outputs": [],
   "source": [
    "hall_ids"
   ]
  },
  {
   "cell_type": "code",
   "execution_count": null,
   "metadata": {},
   "outputs": [],
   "source": [
    "fig = scatter2d(df_fast.index, df_fast[\"Raw_4_Bx\"], inline=True)"
   ]
  },
  {
   "cell_type": "code",
   "execution_count": null,
   "metadata": {},
   "outputs": [],
   "source": [
    "fig = scatter2d(df_fast.index, df_fast[\"Raw_4_Bz\"], inline=True)"
   ]
  },
  {
   "cell_type": "code",
   "execution_count": null,
   "metadata": {},
   "outputs": [],
   "source": [
    "fig = scatter2d(df_fast.index, df_fast[\"Cal_4_Bz\"], inline=True)"
   ]
  },
  {
   "cell_type": "code",
   "execution_count": null,
   "metadata": {},
   "outputs": [],
   "source": [
    "fig = scatter2d(5*[df_fast.index], [df_fast[f'Cal_{i}_T'] for i in range(1,6)])"
   ]
  },
  {
   "cell_type": "code",
   "execution_count": null,
   "metadata": {},
   "outputs": [],
   "source": [
    "fig = scatter2d([df_fast.seconds_delta, df_slow.seconds_delta], [df_fast[f'Cal_1_T'], df_slow[\" Hall Element\"]],show_plot=False)"
   ]
  },
  {
   "cell_type": "code",
   "execution_count": null,
   "metadata": {},
   "outputs": [],
   "source": [
    "figprof = py_profile(df_fast.seconds_delta, df_fast.Cal_1_T, x_bins=50, show_plot=False)"
   ]
  },
  {
   "cell_type": "code",
   "execution_count": null,
   "metadata": {},
   "outputs": [],
   "source": [
    "figprof2 = py_profile(df_slow.seconds_delta, df_slow[\" Hall Element\"], x_bins=50,xrange=[df_fast.seconds_delta.min(),df_fast.seconds_delta.max()], show_plot=False)"
   ]
  },
  {
   "cell_type": "code",
   "execution_count": null,
   "metadata": {},
   "outputs": [],
   "source": [
    "fig.add_traces([figprof.data[0],figprof2.data[0]])"
   ]
  },
  {
   "cell_type": "code",
   "execution_count": null,
   "metadata": {},
   "outputs": [],
   "source": [
    "df_fast.loc[:,\"HallElement\"] = [df_slow.iloc[df_slow.index.get_loc(row, method='nearest')][\" Hall Element\"] for row in df_fast.index]"
   ]
  },
  {
   "cell_type": "code",
   "execution_count": null,
   "metadata": {},
   "outputs": [],
   "source": [
    "#fig = scatter2d(df_fast.HallElement, df_fast.Cal_1_T, markers=True, lines=False)"
   ]
  },
  {
   "cell_type": "code",
   "execution_count": null,
   "metadata": {},
   "outputs": [],
   "source": [
    "fig = py_profile(df_fast.HallElement, df_fast.Cal_1_T, x_bins=12)"
   ]
  },
  {
   "cell_type": "code",
   "execution_count": null,
   "metadata": {},
   "outputs": [],
   "source": [
    "df_fast[\"Cal_4_Bmag\"].describe()"
   ]
  },
  {
   "cell_type": "code",
   "execution_count": null,
   "metadata": {},
   "outputs": [],
   "source": [
    "fig = scatter2d(df_fast.index, df_fast[\"Cal_1_Bmag\"], inline=True)"
   ]
  },
  {
   "cell_type": "code",
   "execution_count": null,
   "metadata": {},
   "outputs": [],
   "source": [
    "fig = scatter2d(df_slow_old.index, df_slow_old[\" NMR [T]\"], inline=True)"
   ]
  },
  {
   "cell_type": "code",
   "execution_count": null,
   "metadata": {},
   "outputs": [],
   "source": [
    "fig = scatter2d(df_slow.index, df_slow[\" NMR [T]\"], inline=True)"
   ]
  },
  {
   "cell_type": "code",
   "execution_count": null,
   "metadata": {},
   "outputs": [],
   "source": [
    "start = 0\n",
    "end = 600\n",
    "x_bins = 20"
   ]
  },
  {
   "cell_type": "code",
   "execution_count": null,
   "metadata": {},
   "outputs": [],
   "source": [
    "fig = scatter2d(df_fast.seconds_delta[start:end], df_fast.Cal_1_Bmag[start:end],show_plot=False)"
   ]
  },
  {
   "cell_type": "code",
   "execution_count": null,
   "metadata": {},
   "outputs": [],
   "source": [
    "figprof = py_profile(df_fast.seconds_delta[start:end], df_fast.Cal_1_Bmag[start:end], x_bins = x_bins, show_plot=False)"
   ]
  },
  {
   "cell_type": "code",
   "execution_count": null,
   "metadata": {},
   "outputs": [],
   "source": [
    "fig.add_trace(figprof.data[0])"
   ]
  },
  {
   "cell_type": "code",
   "execution_count": null,
   "metadata": {},
   "outputs": [],
   "source": [
    "#fig.update_traces(visible=False)"
   ]
  },
  {
   "cell_type": "code",
   "execution_count": null,
   "metadata": {},
   "outputs": [],
   "source": [
    "pio.write_image(fig, plotdir+\"scatter_plus_profile_test.pdf\")"
   ]
  },
  {
   "cell_type": "code",
   "execution_count": null,
   "metadata": {},
   "outputs": [],
   "source": [
    "start = 1000\n",
    "end = 1600\n",
    "x_bins = 20\n",
    "\n",
    "comp_old = \"Mag\"\n",
    "comp_new = \"Bmag\""
   ]
  },
  {
   "cell_type": "code",
   "execution_count": null,
   "metadata": {},
   "outputs": [],
   "source": [
    "# old data\n",
    "fig = scatter2d(df_slow_old.seconds_delta[start:end], df_slow_old[f\"Cal_{comp_old}\"][start:end],show_plot=False)\n",
    "figprof = py_profile(df_slow_old.seconds_delta[start:end], df_slow_old[f\"Cal_{comp_old}\"][start:end], x_bins = x_bins, show_plot=False)\n",
    "fig.add_trace(figprof.data[0])"
   ]
  },
  {
   "cell_type": "code",
   "execution_count": null,
   "metadata": {
    "scrolled": false
   },
   "outputs": [],
   "source": [
    "for i in range(1,6):\n",
    "    fig = scatter2d(df_fast.seconds_delta[start:end], df_fast[f'Cal_{i}_{comp_new}'][start:end],show_plot=False)\n",
    "    figprof = py_profile(df_fast.seconds_delta[start:end], df_fast[f'Cal_{i}_{comp_new}'][start:end], x_bins = x_bins, show_plot=False)\n",
    "    fig.add_trace(figprof.data[0])\n",
    "    iplot(fig)"
   ]
  },
  {
   "cell_type": "code",
   "execution_count": null,
   "metadata": {},
   "outputs": [],
   "source": []
  },
  {
   "cell_type": "code",
   "execution_count": null,
   "metadata": {},
   "outputs": [],
   "source": [
    "start = 1000\n",
    "end = 1120\n",
    "x_bins = 6"
   ]
  },
  {
   "cell_type": "code",
   "execution_count": null,
   "metadata": {},
   "outputs": [],
   "source": [
    "# old data\n",
    "fig = scatter2d(df_slow_old.seconds_delta[start:end], df_slow_old[f\"Cal_{comp_old}\"][start:end],show_plot=False)\n",
    "figprof = py_profile(df_slow_old.seconds_delta[start:end], df_slow_old[f\"Cal_{comp_old}\"][start:end], x_bins = x_bins, show_plot=False)\n",
    "fig.add_trace(figprof.data[0])"
   ]
  },
  {
   "cell_type": "code",
   "execution_count": null,
   "metadata": {
    "scrolled": false
   },
   "outputs": [],
   "source": [
    "for i in range(1,6):\n",
    "    fig = scatter2d(df_fast.seconds_delta[start:end], df_fast[f'Cal_{i}_{comp_new}'][start:end],show_plot=False)\n",
    "    figprof = py_profile(df_fast.seconds_delta[start:end], df_fast[f'Cal_{i}_{comp_new}'][start:end], x_bins = x_bins, show_plot=False)\n",
    "    fig.add_trace(figprof.data[0])\n",
    "    iplot(fig)"
   ]
  },
  {
   "cell_type": "code",
   "execution_count": null,
   "metadata": {},
   "outputs": [],
   "source": []
  },
  {
   "cell_type": "code",
   "execution_count": null,
   "metadata": {},
   "outputs": [],
   "source": [
    "fig = histo(df_fast.Cal_1_Res_Rel, bins=50, show_plot=False)\n",
    "fig.layout.xaxis.title = (\"(NMR - |B_hall|) / NMR\")\n",
    "iplot(fig)"
   ]
  },
  {
   "cell_type": "code",
   "execution_count": null,
   "metadata": {},
   "outputs": [],
   "source": [
    "df_slow_old[\"Cal_Res_Rel\"] = (df_slow_old[\" NMR [T]\"] - df_slow_old[\"Cal\"]) / df_slow_old[\" NMR [T]\"]"
   ]
  },
  {
   "cell_type": "code",
   "execution_count": null,
   "metadata": {},
   "outputs": [],
   "source": [
    "df_slow_old = df_slow_old.loc[\"2019-08-10 12:30:00\":]"
   ]
  },
  {
   "cell_type": "code",
   "execution_count": null,
   "metadata": {},
   "outputs": [],
   "source": [
    "fig = histo(df_slow_old.Cal_Mag_Res_Rel, bins=50, show_plot=False)\n",
    "fig.layout.xaxis.title = (\"(NMR - |B_hall|) / NMR\")\n",
    "iplot(fig)"
   ]
  },
  {
   "cell_type": "code",
   "execution_count": null,
   "metadata": {},
   "outputs": [],
   "source": [
    "df_slow_old.columns"
   ]
  },
  {
   "cell_type": "code",
   "execution_count": null,
   "metadata": {},
   "outputs": [],
   "source": []
  },
  {
   "cell_type": "code",
   "execution_count": null,
   "metadata": {},
   "outputs": [],
   "source": [
    "## AVERAGING"
   ]
  },
  {
   "cell_type": "code",
   "execution_count": null,
   "metadata": {},
   "outputs": [],
   "source": [
    "import copy"
   ]
  },
  {
   "cell_type": "code",
   "execution_count": null,
   "metadata": {},
   "outputs": [],
   "source": [
    "# Seeing effect of number of points in average\n",
    "#N = 10#30#10#20#10#30#60\n",
    "Ns = [10,60]#[5, 10, 30, 60]\n",
    "\n",
    "df_fast_N = []\n",
    "\n",
    "for N in Ns:\n",
    "    df_fast.loc[:, \"Cal_1_Bmag_Avg\"] = df_fast[\"Cal_1_Bmag\"].rolling(window = N, center=True).mean()\n",
    "    df_fast.loc[:, \"Cal_1_Bmag_Avg_Res_Rel\"] = (df_fast[\"NMR\"] - df_fast[\"Cal_1_Bmag_Avg\"])/df_fast[\"NMR\"]\n",
    "    df_fast_N.append(copy.copy(df_fast[N // 2::N]))\n",
    "    #print(df_fast_N[-1][\"Cal_1_Bmag_Avg_Res_Rel\"].describe())\n",
    "\n",
    "#df_fast_5 = df_fast[N // 2::N]\n",
    "#print([df[\"Cal_1_Bmag_Avg_Res_Rel\"].describe() for df in df_fast_N])"
   ]
  },
  {
   "cell_type": "code",
   "execution_count": null,
   "metadata": {},
   "outputs": [],
   "source": [
    "fig = histo([df_fast.Cal_1_Res_Rel]+[df.Cal_1_Bmag_Avg_Res_Rel for df in df_fast_N], bins=50,same_bins=False, show_plot=False, opacity=0.5, inline=True)\n",
    "fig.update_traces(histnorm='probability density')\n",
    "fig.layout.xaxis.title = (\"(NMR - |B_hall|) / NMR\")\n",
    "fig.layout.yaxis.title = (\"Normalized Counts\")\n",
    "iplot(fig)"
   ]
  },
  {
   "cell_type": "code",
   "execution_count": null,
   "metadata": {},
   "outputs": [],
   "source": [
    "# Seeing effect of number of points in average\n",
    "#N = 10#30#10#20#10#30#60\n",
    "Ns = [10,60]#[5, 10, 30, 60]\n",
    "\n",
    "df_fast_N = []\n",
    "\n",
    "for N in Ns:\n",
    "    df_slow_old.loc[:, \"Cal_1_Bmag_Avg\"] = df_slow_old[\"Cal_Mag\"].rolling(window = N, center=True).mean()\n",
    "    df_slow_old.loc[:, \"Cal_1_Bmag_Avg_Res_Rel\"] = (df_slow_old[\" NMR [T]\"] - df_slow_old[\"Cal_1_Bmag_Avg\"])/df_slow_old[\" NMR [T]\"]\n",
    "    df_fast_N.append(copy.copy(df_slow_old[N // 2::N]))\n",
    "    #print(df_fast_N[-1][\"Cal_1_Bmag_Avg_Res_Rel\"].describe())\n",
    "\n",
    "#df_fast_5 = df_fast[N // 2::N]\n",
    "#print([df[\"Cal_1_Bmag_Avg_Res_Rel\"].describe() for df in df_fast_N])"
   ]
  },
  {
   "cell_type": "code",
   "execution_count": null,
   "metadata": {},
   "outputs": [],
   "source": [
    "fig = histo([df_slow_old.Cal_Mag_Res_Rel]+[df.Cal_1_Bmag_Avg_Res_Rel for df in df_fast_N], bins=15,same_bins=False, show_plot=False, opacity=0.5, inline=True)\n",
    "fig.update_traces(histnorm='probability density')\n",
    "fig.layout.xaxis.title = (\"(NMR - |B_hall|) / NMR\")\n",
    "fig.layout.yaxis.title = (\"Normalized Counts\")\n",
    "iplot(fig)"
   ]
  },
  {
   "cell_type": "code",
   "execution_count": null,
   "metadata": {},
   "outputs": [],
   "source": []
  },
  {
   "cell_type": "code",
   "execution_count": null,
   "metadata": {},
   "outputs": [],
   "source": []
  },
  {
   "cell_type": "markdown",
   "metadata": {
    "heading_collapsed": true
   },
   "source": [
    "### Defining Profile Plot\n",
    "- Generate TProfile, grab points and errors, replot in Plotly"
   ]
  },
  {
   "cell_type": "code",
   "execution_count": null,
   "metadata": {
    "code_folding": [
     2
    ],
    "hidden": true
   },
   "outputs": [],
   "source": [
    "'''%%writefile /home/ckampa/Coding/py3/profile_plot.py\n",
    "\n",
    "def profile(x,y, x_bins, xrange=None, show_plot=True, compare=False):#, show_root_plot=False):\n",
    "    if xrange==None:\n",
    "        xrange= [x.min(), x.max()]\n",
    "    \n",
    "    # Generate TProfile\n",
    "    #del(tprof)\n",
    "    gDirectory.GetList().Delete()\n",
    "    tprof = TProfile('tprof', 'Profile Plot', x_bins, xrange[0], xrange[1])#, #1.249525, 1.24955)\n",
    "    for xi,yi in zip(x,y):\n",
    "        tprof.Fill(xi,yi)\n",
    "    \n",
    "    # Collect data into Pandas Series\n",
    "    bin_centers = []\n",
    "    bin_contents = []\n",
    "    bin_errors = []\n",
    "\n",
    "    for i in range(1,x_bins+1):\n",
    "        bin_centers.append(tprof.GetBinCenter(i))\n",
    "        bin_contents.append(tprof.GetBinContent(i))\n",
    "        bin_errors.append(tprof.GetBinError(i))\n",
    "    \n",
    "    bin_centers = pd.Series(bin_centers, name=x.name)\n",
    "    bin_contents = pd.Series(bin_contents, name=y.name)\n",
    "    bin_errors = pd.Series(bin_errors, name=\"bin errors\")\n",
    "    \n",
    "    x_error = tprof.GetBinWidth(1)/2\n",
    "    \n",
    "    # Plot with Plotly!\n",
    "    name = (\n",
    "        f'<br>{y.name}<br>'\n",
    "        f'entries: {len(x)}<br>'\n",
    "        f'mean: {x.mean():.3E}<br>'\n",
    "        f'mean y: {y.mean():.3E}<br>'\n",
    "        f'std dev: {x.std():.3E}<br>'\n",
    "        f'std dev y: {y.std():.3E}'\n",
    "        )\n",
    "    \n",
    "    fig = scatter2d(bin_centers, bin_contents, lines=False, markers=True, size_list=[1], \n",
    "                    title=\"Profile Plot: \",show_plot=False, inline=True)\n",
    "    fig.update_traces(\n",
    "        error_x=dict(type=\"constant\", value=x_error, width=0),\n",
    "        error_y=dict(type=\"data\", array=bin_errors, width=0, visible=True),\n",
    "        name=name,\n",
    "    )\n",
    "    \n",
    "    if show_plot:\n",
    "        iplot(fig)\n",
    "    \n",
    "    #if show_root_plot:\n",
    "    #    c1 = TCanvas(\"c1\", \"Canvas\", 200, 10, 700, 500)\n",
    "    #    tprof.Draw()\n",
    "    #    c1.Draw()\n",
    "    if compare:\n",
    "        return fig, tprof\n",
    "    else:\n",
    "        return fig''';"
   ]
  },
  {
   "cell_type": "code",
   "execution_count": null,
   "metadata": {
    "hidden": true
   },
   "outputs": [],
   "source": [
    "## TESTING py_profile (in hpc_plots)"
   ]
  },
  {
   "cell_type": "code",
   "execution_count": null,
   "metadata": {
    "hidden": true
   },
   "outputs": [],
   "source": [
    "figprof = py_profile(df_fast.seconds_delta, df_fast.Cal_1_Bmag, x_bins=2000, return_tprof=False, inline=True)"
   ]
  },
  {
   "cell_type": "markdown",
   "metadata": {
    "hidden": true
   },
   "source": [
    "It works!"
   ]
  },
  {
   "cell_type": "code",
   "execution_count": null,
   "metadata": {
    "hidden": true
   },
   "outputs": [],
   "source": [
    "# this was the comparison plot... must define function above if wanting to use again\n",
    "#figprof = profile(df_fast.seconds_delta, df_fast.Cal_1_Bmag, x_bins=2000,) #show_root_plot=True)"
   ]
  },
  {
   "cell_type": "code",
   "execution_count": null,
   "metadata": {
    "hidden": true
   },
   "outputs": [],
   "source": [
    "fig = scatter2d(df_fast.Cal_1_T, df_fast.Cal_1_Bmag, markers=True, lines=False, inline=True)"
   ]
  },
  {
   "cell_type": "code",
   "execution_count": null,
   "metadata": {
    "hidden": true
   },
   "outputs": [],
   "source": [
    "profile(df_fast.Cal_1_T, df_fast.Cal_1_Bmag-df_fast.NMR, x_bins=100,);"
   ]
  },
  {
   "cell_type": "code",
   "execution_count": null,
   "metadata": {
    "hidden": true
   },
   "outputs": [],
   "source": [
    "fig, tprof = profile(df_fast.Cal_1_T, df_fast.NMR, x_bins=100, compare=True)"
   ]
  },
  {
   "cell_type": "code",
   "execution_count": null,
   "metadata": {
    "hidden": true
   },
   "outputs": [],
   "source": [
    "figprof, tprof = profile(df_fast.seconds_delta, df_fast.Cal_1_T, x_bins=2000,)"
   ]
  },
  {
   "cell_type": "code",
   "execution_count": null,
   "metadata": {
    "hidden": true
   },
   "outputs": [],
   "source": [
    "fig = scatter2d(df_slow.seconds_delta, df_slow[\" NMR [T]\"], inline=True)"
   ]
  },
  {
   "cell_type": "code",
   "execution_count": null,
   "metadata": {
    "hidden": true
   },
   "outputs": [],
   "source": [
    "#fig.add_trace(figprof.data[0])"
   ]
  },
  {
   "cell_type": "code",
   "execution_count": null,
   "metadata": {
    "hidden": true
   },
   "outputs": [],
   "source": [
    "fig_cal_raw = scatter2d(df_fast.seconds_delta, df_fast.Cal_1_Bmag, inline=True)"
   ]
  },
  {
   "cell_type": "code",
   "execution_count": null,
   "metadata": {
    "hidden": true
   },
   "outputs": [],
   "source": [
    "fig.add_traces([fig_cal_raw.data[0],figprof.data[0],])"
   ]
  },
  {
   "cell_type": "code",
   "execution_count": null,
   "metadata": {
    "hidden": true
   },
   "outputs": [],
   "source": []
  }
 ],
 "metadata": {
  "kernelspec": {
   "display_name": "Python [conda env:Mu2E]",
   "language": "python",
   "name": "conda-env-Mu2E-py"
  },
  "language_info": {
   "codemirror_mode": {
    "name": "ipython",
    "version": 3
   },
   "file_extension": ".py",
   "mimetype": "text/x-python",
   "name": "python",
   "nbconvert_exporter": "python",
   "pygments_lexer": "ipython3",
   "version": "3.7.4"
  }
 },
 "nbformat": 4,
 "nbformat_minor": 2
}
