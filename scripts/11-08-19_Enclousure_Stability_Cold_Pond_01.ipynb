{
 "cells": [
  {
   "cell_type": "markdown",
   "metadata": {},
   "source": [
    "## Imports"
   ]
  },
  {
   "cell_type": "code",
   "execution_count": null,
   "metadata": {},
   "outputs": [],
   "source": [
    "%load_ext autoreload\n",
    "%autoreload 2"
   ]
  },
  {
   "cell_type": "code",
   "execution_count": null,
   "metadata": {},
   "outputs": [],
   "source": [
    "import numpy as np\n",
    "import pandas as pd\n",
    "import pickle as pkl\n",
    "from datetime import datetime\n",
    "from dateutil import parser\n",
    "from datetime import datetime\n",
    "from sys import getsizeof\n",
    "import re\n",
    "\n",
    "import operator\n",
    "from scipy import stats\n",
    "\n",
    "import matplotlib.pyplot as plt\n",
    "#from mpl_toolkits.mplot3d import Axes3D\n",
    "%matplotlib inline\n",
    "plt.rcParams['figure.figsize'] = (12.0, 8.0)\n",
    "plt.rcParams['axes.axisbelow'] = True\n",
    "\n",
    "from plotly.offline import init_notebook_mode, plot, iplot\n",
    "import plotly.graph_objs as go\n",
    "import plotly.io as pio\n",
    "from plotly.subplots import make_subplots\n",
    "import plotly.express as px\n",
    "init_notebook_mode(True)\n",
    "\n",
    "#import seaborn as sns\n",
    "\n",
    "from wand.image import Image as WImage\n",
    "\n",
    "from hallprobecalib import hpc_ext_path\n",
    "from hallprobecalib.hpcplots import scatter2d,scatter3d,histo,py_profile"
   ]
  },
  {
   "cell_type": "code",
   "execution_count": null,
   "metadata": {},
   "outputs": [],
   "source": [
    "plotdir = hpc_ext_path+'plots/enclosure_stability/Cold_Pond_01/'"
   ]
  },
  {
   "cell_type": "code",
   "execution_count": null,
   "metadata": {},
   "outputs": [],
   "source": [
    "pkl_dir = hpc_ext_path+\"datafiles/magnet_stability/pkl/\"#enclosure_stability/\"\n",
    "pkl_file_slow = \"enc_stability.run01.raw.slow.pkl\"\n",
    "#pkl_file_fast = \"enc_stability.run01.raw.fast.pkl\"\n",
    "#pkl_file_fast_sparse = \"hall_stability.run04.sparse.fast.pkl\""
   ]
  },
  {
   "cell_type": "code",
   "execution_count": null,
   "metadata": {},
   "outputs": [],
   "source": [
    "# after data cleaning\n",
    "df = pd.read_pickle(pkl_dir+pkl_file_slow)"
   ]
  },
  {
   "cell_type": "code",
   "execution_count": null,
   "metadata": {},
   "outputs": [],
   "source": [
    "def pplot(fig):\n",
    "    pio.write_image(fig, 'temp.pdf')\n",
    "    img = WImage(filename='temp.pdf')\n",
    "    return img"
   ]
  },
  {
   "cell_type": "markdown",
   "metadata": {},
   "source": [
    "## Cleaning"
   ]
  },
  {
   "cell_type": "code",
   "execution_count": null,
   "metadata": {},
   "outputs": [],
   "source": [
    "directory = \"/home/ckampa/Dropbox/LogFiles/\"#hpc_ext_path+'datafiles/magnet_stability/nmr/'\n",
    "filename_slow = '2019-11-08 123301slow.txt' #'2019-08-23 162051slow.txt' # first file stopped Hall probe readings again\n",
    "#filename_fast = '2019-09-04 080000.txt'"
   ]
  },
  {
   "cell_type": "code",
   "execution_count": null,
   "metadata": {},
   "outputs": [],
   "source": [
    "df = pd.read_csv(directory+filename_slow)"
   ]
  },
  {
   "cell_type": "code",
   "execution_count": null,
   "metadata": {},
   "outputs": [],
   "source": [
    "df.tail(1)"
   ]
  },
  {
   "cell_type": "code",
   "execution_count": null,
   "metadata": {},
   "outputs": [],
   "source": [
    "df.columns = df.columns.str.lstrip(\" \")"
   ]
  },
  {
   "cell_type": "code",
   "execution_count": null,
   "metadata": {},
   "outputs": [],
   "source": [
    "#df.columns"
   ]
  },
  {
   "cell_type": "code",
   "execution_count": null,
   "metadata": {},
   "outputs": [],
   "source": [
    "df.drop(\"\", axis=1, inplace=True)"
   ]
  },
  {
   "cell_type": "code",
   "execution_count": null,
   "metadata": {},
   "outputs": [],
   "source": [
    "dates = [parser.parse(row.Time) for row in df.itertuples()]# if isdatetime(row.Time.values[0])]"
   ]
  },
  {
   "cell_type": "code",
   "execution_count": null,
   "metadata": {},
   "outputs": [],
   "source": [
    "df[\"Datetime\"] = pd.to_datetime(dates)#.astype(\"str\")\n",
    "df = df.set_index(\"Datetime\")"
   ]
  },
  {
   "cell_type": "code",
   "execution_count": null,
   "metadata": {
    "scrolled": true
   },
   "outputs": [],
   "source": [
    "#df['NMR [T]']"
   ]
  },
  {
   "cell_type": "code",
   "execution_count": null,
   "metadata": {},
   "outputs": [],
   "source": [
    "df[\"NMR [T]\"].tail()"
   ]
  },
  {
   "cell_type": "code",
   "execution_count": null,
   "metadata": {},
   "outputs": [],
   "source": [
    "df = df[df[\"NMR [T]\"] > 0.01]"
   ]
  },
  {
   "cell_type": "code",
   "execution_count": null,
   "metadata": {},
   "outputs": [],
   "source": [
    "df[\"NMR [T]\"].plot()"
   ]
  },
  {
   "cell_type": "code",
   "execution_count": null,
   "metadata": {},
   "outputs": [],
   "source": [
    "nmr_change_per_sec = (df[\"NMR [T]\"].diff() / (df.index.to_series().diff().dt.total_seconds()))#[1:]\n",
    "nmr_change_per_min = (60*df[\"NMR [T]\"].diff() / (df.index.to_series().diff().dt.total_seconds()))#[1:]\n",
    "nmr_change_per_hour = (60**2*df[\"NMR [T]\"].diff() / (df.index.to_series().diff().dt.total_seconds()))#[1:]"
   ]
  },
  {
   "cell_type": "code",
   "execution_count": null,
   "metadata": {},
   "outputs": [],
   "source": [
    "#nmr_change_per_sec.plot()\n",
    "#nmr_change_per_min.plot()\n",
    "nmr_change_per_hour.plot()"
   ]
  },
  {
   "cell_type": "code",
   "execution_count": null,
   "metadata": {},
   "outputs": [],
   "source": [
    "nmr_change_per_hour = (60**2*df[\"NMR [T]\"].diff(40) / (df.index.to_series().diff(40).dt.total_seconds())) # 40 meas per hour"
   ]
  },
  {
   "cell_type": "code",
   "execution_count": null,
   "metadata": {},
   "outputs": [],
   "source": [
    "nmr_change_per_hour.plot()"
   ]
  },
  {
   "cell_type": "code",
   "execution_count": null,
   "metadata": {},
   "outputs": [],
   "source": [
    "gap_data = [\n",
    "    [9.833887043189371, 2.289915966386555],\n",
    "    [19.800664451827238, 2.0983193277310925],\n",
    "    [29.966777408637874, 1.9067226890756301],\n",
    "    [39.93355481727575, 1.750420168067227],\n",
    "    [49.900332225913616, 1.6142857142857148],\n",
    "    [69.83388704318936, 1.377310924369748],\n",
    "    [99.93355481727573, 1.094957983193277],\n",
    "    [149.96677740863785, 0.7873949579831936]\n",
    "]"
   ]
  },
  {
   "cell_type": "code",
   "execution_count": null,
   "metadata": {},
   "outputs": [],
   "source": [
    "gap_x = [p[0] for p in gap_data]\n",
    "gap_y = [p[1] for p in gap_data]"
   ]
  },
  {
   "cell_type": "code",
   "execution_count": null,
   "metadata": {},
   "outputs": [],
   "source": [
    "gap = pd.DataFrame({\"x\":gap_x, \"y\":gap_y})"
   ]
  },
  {
   "cell_type": "code",
   "execution_count": null,
   "metadata": {},
   "outputs": [],
   "source": [
    "gap"
   ]
  },
  {
   "cell_type": "code",
   "execution_count": null,
   "metadata": {},
   "outputs": [],
   "source": [
    "f = gap.iloc[6]\n",
    "i = gap.iloc[5]"
   ]
  },
  {
   "cell_type": "code",
   "execution_count": null,
   "metadata": {},
   "outputs": [],
   "source": [
    "slope = (f.y-i.y)/(f.x-i.x)"
   ]
  },
  {
   "cell_type": "code",
   "execution_count": null,
   "metadata": {},
   "outputs": [],
   "source": [
    "slope / 100"
   ]
  },
  {
   "cell_type": "markdown",
   "metadata": {},
   "source": [
    "~1 Gauss / 10 micron increase in gap size.\n",
    "\n",
    "Linear expansion coeff. of pure iron is 12.0e-6 m / m (meters) K (or C)\n",
    "\n",
    "So assuming L_0=1m (length of magnet), for a change of 4.5 deg C = 4.5 C (K) we should expect 54e-6 m = 54 micron increased length so the change in gap,\n",
    "~54 microns, should decrease the field by ~5.4 Gauss. We actually see a shift of ~3 Gauss. This seems like a reasonable explanation.\n",
    "\n",
    "Also, assuming L_0 ~ 1m (always, close for fixed gap),\n",
    "**- ~1.2 Gauss / deg C**\n",
    "\n",
    "From \"plots/magnet_stability/2019-07-16/yoke_vs_nmr [t]_fit.pdf\", we get **-1.118 Gauss / deg C in Yoke**"
   ]
  },
  {
   "cell_type": "code",
   "execution_count": null,
   "metadata": {},
   "outputs": [],
   "source": [
    "from plotly.subplots import make_subplots"
   ]
  },
  {
   "cell_type": "code",
   "execution_count": null,
   "metadata": {},
   "outputs": [],
   "source": [
    "col = \"Yoke\"#\"Roof\"#\"Yoke (center magnet)\"\n",
    "df_ = df#[\"11-12-19 09:20:00\":\"11-12-19 09:30:00\"]\n",
    "fig = make_subplots(specs=[[{\"secondary_y\": True}]])\n",
    "#fig = scatter2d(df.index, df[\"NMR [T]\"], show_plot=False)\n",
    "fig.add_trace(\n",
    "    go.Scatter(x=df_.index, y=df_[\"NMR [T]\"], name=\"NMR\", mode=\"lines\"),\n",
    "    secondary_y=False\n",
    ")\n",
    "fig.add_trace(\n",
    "    go.Scatter(x=df_.index, y=df_[col], name=col , mode=\"lines\"),\n",
    "    secondary_y=True\n",
    ")\n",
    "\n",
    "fig.update_xaxes(title_text=\"Datetime\")\n",
    "\n",
    "fig.update_yaxes(title_text=\"<b>NMR</b> |B| (T)\", secondary_y=False)\n",
    "fig.update_yaxes(title_text=f\"<b>{col}</b> Temp (deg C)\", secondary_y=True)\n",
    "\n",
    "fig.show()"
   ]
  },
  {
   "cell_type": "markdown",
   "metadata": {},
   "source": [
    "Seems that the change in temperature and Bfield effects occur at the same time (good!)."
   ]
  },
  {
   "cell_type": "code",
   "execution_count": null,
   "metadata": {},
   "outputs": [],
   "source": []
  },
  {
   "cell_type": "code",
   "execution_count": null,
   "metadata": {},
   "outputs": [],
   "source": [
    "for col in df.columns:\n",
    "    fig = scatter2d(df.index, df[col], show_plot=False)\n",
    "    fname = f\"{plotdir}time/all/{col}_vs_time\"\n",
    "    pio.write_image(fig, fname+\".pdf\")\n",
    "    pio.write_image(fig, fname+\".png\")"
   ]
  },
  {
   "cell_type": "code",
   "execution_count": null,
   "metadata": {},
   "outputs": [],
   "source": [
    "#for col in df.columns:\n",
    "#    if type(df[col].iloc[0]) is np.float64:\n",
    "#        print(f\"{col}: mean: {df[col].mean()}\")"
   ]
  },
  {
   "cell_type": "markdown",
   "metadata": {},
   "source": [
    "Looks like maybe probe 8F000... is in the field"
   ]
  },
  {
   "cell_type": "code",
   "execution_count": null,
   "metadata": {
    "scrolled": true
   },
   "outputs": [],
   "source": [
    "probes = np.array([])\n",
    "for col in df.columns:\n",
    "    #print(df_fast[col].dtype)\n",
    "    if (\"Raw\" in col) or (\"Cal\" in col):#type(df[col].iloc[0]) is np.float64:\n",
    "        #print(f\"{col}\")#\": mean: {df[col].mean()}\")\n",
    "        probes = np.append(probes, col[:16])\n",
    "probes = list(np.unique(probes))\n",
    "print(probes)"
   ]
  },
  {
   "cell_type": "markdown",
   "metadata": {},
   "source": [
    "### Slow Control Data Cleaning"
   ]
  },
  {
   "cell_type": "code",
   "execution_count": null,
   "metadata": {
    "code_folding": []
   },
   "outputs": [],
   "source": [
    "for probe in probes:\n",
    "    for t in [\"Cal\", \"Raw\"]:\n",
    "        df[f\"{probe}_{t}_Bmag\"] = (df[f\"{probe}_{t}_X\"]**2+df[f\"{probe}_{t}_Y\"]**2+df[f\"{probe}_{t}_Z\"]**2)**(1/2)\n",
    "        df[f\"{probe}_{t}_Res\"] = df[f\"{probe}_{t}_Bmag\"] - df['NMR [T]']\n",
    "        df[f\"{probe}_{t}_Res_Rel\"] = (df[f\"{probe}_{t}_Bmag\"] - df['NMR [T]']) / df['NMR [T]']"
   ]
  },
  {
   "cell_type": "code",
   "execution_count": null,
   "metadata": {},
   "outputs": [],
   "source": [
    "for B in [\"X\", \"Y\", \"Z\"]:\n",
    "    for probe in probes:\n",
    "        for t in [\"Cal\", \"Raw\"]:\n",
    "            #df[f\"{probe}_{t}_Bmag\"] = (df[f\"{probe}_{t}_X\"]**2+df[f\"{probe}_{t}_Y\"]**2+df[f\"{probe}_{t}_Z\"]**2)**(1/2)\n",
    "            df[f\"{probe}_{t}_{B}_Res\"] = df[f\"{probe}_{t}_{B}\"] - df['NMR [T]']\n",
    "            df[f\"{probe}_{t}_{B}_Res_Rel\"] = (df[f\"{probe}_{t}_{B}\"] - df['NMR [T]']) / df['NMR [T]']"
   ]
  },
  {
   "cell_type": "code",
   "execution_count": null,
   "metadata": {
    "scrolled": true
   },
   "outputs": [],
   "source": [
    "for probe in probes:\n",
    "    for t in [\"Cal\", \"Raw\"]:\n",
    "        fig = histo(df[f\"{probe}_{t}_Bmag\"], bins=50, show_plot=False)\n",
    "        pio.write_image(fig, plotdir+f\"histo/{probe}_{t}_Bmag.pdf\")\n",
    "        pio.write_image(fig, plotdir+f\"histo/{probe}_{t}_Bmag.png\")"
   ]
  },
  {
   "cell_type": "code",
   "execution_count": null,
   "metadata": {},
   "outputs": [],
   "source": [
    "for t in [\"Cal\", \"Raw\"]:\n",
    "    for probe in probes:\n",
    "        for B in [\"X\",\"Y\",\"Z\"]:\n",
    "            fig = histo(df[f\"{probe}_{t}_{B}_Res\"], bins=50, show_plot=False)\n",
    "            pio.write_image(fig, plotdir+f\"histo/residuals/component/{probe}_{t}_{B}_Res.pdf\")\n",
    "            pio.write_image(fig, plotdir+f\"histo/residuals/component/{probe}_{t}_{B}_Res.png\")"
   ]
  },
  {
   "cell_type": "code",
   "execution_count": null,
   "metadata": {},
   "outputs": [],
   "source": [
    "for t in [\"Cal\", \"Raw\"]:\n",
    "    for probe in probes:\n",
    "        for B in [\"X\",\"Y\",\"Z\"]:\n",
    "            fig = histo(df[f\"{probe}_{t}_{B}_Res_Rel\"], bins=50, show_plot=False)\n",
    "            pio.write_image(fig, plotdir+f\"histo/relative_residuals/component/{probe}_{t}_{B}_Res_Rel.pdf\")\n",
    "            pio.write_image(fig, plotdir+f\"histo/relative_residuals/component/{probe}_{t}_{B}_Res_Rel.png\")"
   ]
  },
  {
   "cell_type": "code",
   "execution_count": null,
   "metadata": {},
   "outputs": [],
   "source": [
    "for res in [\"Res\", \"Res_Rel\"]:\n",
    "    if res == \"Res\":\n",
    "        p = \"residuals\"\n",
    "    else:\n",
    "        p = \"relative_residuals\"\n",
    "    for t in [\"Cal\", \"Raw\"]:\n",
    "        for probe in probes:\n",
    "            #for B in [\"X\",\"Y\",\"Z\"]:\n",
    "            fig = histo(df[f\"{probe}_{t}_{res}\"], bins=50, show_plot=False)\n",
    "            pio.write_image(fig, plotdir+f\"histo/{p}/{probe}_{t}_Bmag_{res}.pdf\")\n",
    "            pio.write_image(fig, plotdir+f\"histo/{p}/{probe}_{t}_Bmag_{res}.png\")"
   ]
  },
  {
   "cell_type": "code",
   "execution_count": null,
   "metadata": {},
   "outputs": [],
   "source": [
    "df[\"seconds_delta\"] = (df.index - df.index[0]).total_seconds()\n",
    "df[\"hours_delta\"] = (df.index - df.index[0]).total_seconds()/60**2\n",
    "df[\"days_delta\"] = (df.index - df.index[0]).total_seconds()/(24*60**2)"
   ]
  },
  {
   "cell_type": "code",
   "execution_count": null,
   "metadata": {},
   "outputs": [],
   "source": [
    "type(df.days_delta) is not list"
   ]
  },
  {
   "cell_type": "code",
   "execution_count": null,
   "metadata": {
    "scrolled": false
   },
   "outputs": [],
   "source": [
    "# test new colors_list arg in scatter2d\n",
    "fig = scatter2d(df.index, df[\"NMR [T]\"], colors_list=df.days_delta, markers=True)"
   ]
  },
  {
   "cell_type": "code",
   "execution_count": null,
   "metadata": {
    "scrolled": true
   },
   "outputs": [],
   "source": [
    "pplot(fig)"
   ]
  },
  {
   "cell_type": "code",
   "execution_count": null,
   "metadata": {},
   "outputs": [],
   "source": []
  },
  {
   "cell_type": "code",
   "execution_count": null,
   "metadata": {},
   "outputs": [],
   "source": []
  },
  {
   "cell_type": "code",
   "execution_count": null,
   "metadata": {},
   "outputs": [],
   "source": [
    "# cal"
   ]
  },
  {
   "cell_type": "code",
   "execution_count": null,
   "metadata": {},
   "outputs": [],
   "source": [
    "for probe in probes:\n",
    "    df[f\"{probe}_Cal_Transverse\"] = (df[f\"{probe}_Cal_X\"]**2+df[f\"{probe}_Cal_Y\"]**2)**(1/2)\n",
    "    df[f\"{probe}_Cal_Theta\"] = np.arccos(df[f\"{probe}_Cal_Z\"]/df[f\"{probe}_Cal_Bmag\"])\n",
    "    df[f\"{probe}_Cal_Phi\"] = np.arccos(df[f\"{probe}_Cal_X\"]/df[f\"{probe}_Cal_Transverse\"])"
   ]
  },
  {
   "cell_type": "code",
   "execution_count": null,
   "metadata": {},
   "outputs": [],
   "source": [
    "for probe in probes:\n",
    "    for angle in [\"Transverse\", \"Theta\", \"Phi\"]:\n",
    "        fig = histo(df[f\"{probe}_Cal_{angle}\"], bins=30, show_plot=False)\n",
    "        pio.write_image(fig, plotdir+f\"histo/angles/{probe}_Cal_{angle}.pdf\")\n",
    "        pio.write_image(fig, plotdir+f\"histo/angles/{probe}_Cal_{angle}.png\")"
   ]
  },
  {
   "cell_type": "code",
   "execution_count": null,
   "metadata": {},
   "outputs": [],
   "source": [
    "for probe in probes:\n",
    "    for angle in [\"Transverse\", \"Theta\", \"Phi\"]:\n",
    "        fig = scatter2d(df.index, df[f\"{probe}_Cal_{angle}\"], show_plot=False)\n",
    "        pio.write_image(fig, plotdir+f\"time/angles/{probe}_Cal_{angle}.pdf\")\n",
    "        pio.write_image(fig, plotdir+f\"time/angles/{probe}_Cal_{angle}.png\")"
   ]
  },
  {
   "cell_type": "code",
   "execution_count": null,
   "metadata": {},
   "outputs": [],
   "source": [
    "# raw\n",
    "for probe in probes:\n",
    "    df[f\"{probe}_Raw_Bmag\"] = (df[f\"{probe}_Raw_X\"]**2+df[f\"{probe}_Raw_Y\"]**2+df[f\"{probe}_Raw_Z\"]**2)**(1/2)\n",
    "\n",
    "for probe in probes:\n",
    "    df[f\"{probe}_Raw_Transverse\"] = (df[f\"{probe}_Raw_X\"]**2+df[f\"{probe}_Raw_Y\"]**2)**(1/2)\n",
    "    df[f\"{probe}_Raw_Theta\"] = np.arccos(df[f\"{probe}_Raw_Z\"]/df[f\"{probe}_Raw_Bmag\"])\n",
    "    df[f\"{probe}_Raw_Phi\"] = np.arccos(df[f\"{probe}_Raw_X\"]/df[f\"{probe}_Raw_Transverse\"])\n",
    "\n",
    "for probe in probes:\n",
    "    for angle in [\"Transverse\", \"Theta\", \"Phi\"]:\n",
    "        fig = histo(df[f\"{probe}_Raw_{angle}\"], bins=30, show_plot=False)\n",
    "        pio.write_image(fig, plotdir+f\"histo/angles/{probe}_Raw_{angle}.pdf\")\n",
    "        pio.write_image(fig, plotdir+f\"histo/angles/{probe}_Raw_{angle}.png\")\n",
    "\n",
    "for probe in probes:\n",
    "    for angle in [\"Transverse\", \"Theta\", \"Phi\"]:\n",
    "        fig = scatter2d(df.index, df[f\"{probe}_Raw_{angle}\"], show_plot=False)\n",
    "        pio.write_image(fig, plotdir+f\"time/angles/{probe}_Raw_{angle}.pdf\")\n",
    "        pio.write_image(fig, plotdir+f\"time/angles/{probe}_Raw_{angle}.png\")"
   ]
  },
  {
   "cell_type": "code",
   "execution_count": null,
   "metadata": {},
   "outputs": [],
   "source": [
    "df.to_pickle(pkl_dir+pkl_file_slow)"
   ]
  },
  {
   "cell_type": "code",
   "execution_count": null,
   "metadata": {},
   "outputs": [],
   "source": [
    "getsizeof(df) / 1000/1000"
   ]
  },
  {
   "cell_type": "code",
   "execution_count": null,
   "metadata": {},
   "outputs": [],
   "source": [
    "df.info()"
   ]
  },
  {
   "cell_type": "markdown",
   "metadata": {},
   "source": [
    "## Plotting"
   ]
  },
  {
   "cell_type": "markdown",
   "metadata": {},
   "source": [
    "### First Attempt"
   ]
  },
  {
   "cell_type": "code",
   "execution_count": null,
   "metadata": {},
   "outputs": [],
   "source": [
    "len(df)"
   ]
  },
  {
   "cell_type": "code",
   "execution_count": null,
   "metadata": {},
   "outputs": [],
   "source": [
    "len(df) * 90 / 60 / 60 / 24"
   ]
  },
  {
   "cell_type": "markdown",
   "metadata": {},
   "source": [
    "Almost 10 days of data."
   ]
  },
  {
   "cell_type": "code",
   "execution_count": null,
   "metadata": {},
   "outputs": [],
   "source": [
    "#fig = scatter2d(df.index, df[\"NMR [T]\"], show_plot=False);"
   ]
  },
  {
   "cell_type": "code",
   "execution_count": null,
   "metadata": {},
   "outputs": [],
   "source": [
    "#pplot(fig)"
   ]
  },
  {
   "cell_type": "code",
   "execution_count": null,
   "metadata": {},
   "outputs": [],
   "source": [
    "#fig = scatter2d(df.index, df[\"NMR [T]\"])"
   ]
  },
  {
   "cell_type": "code",
   "execution_count": null,
   "metadata": {},
   "outputs": [],
   "source": [
    "#plot(fig)"
   ]
  },
  {
   "cell_type": "code",
   "execution_count": null,
   "metadata": {},
   "outputs": [],
   "source": [
    "fig = scatter2d(2*[df.index], [df[\"NMR [T]\"], df[f\"{probe}_Cal_Bmag\"]], show_plot=False);"
   ]
  },
  {
   "cell_type": "code",
   "execution_count": null,
   "metadata": {},
   "outputs": [],
   "source": [
    "plot(fig)"
   ]
  },
  {
   "cell_type": "code",
   "execution_count": null,
   "metadata": {},
   "outputs": [],
   "source": [
    "#fig = scatter2d(df.index, df[\"Chamber Wall CH13\"])"
   ]
  },
  {
   "cell_type": "code",
   "execution_count": null,
   "metadata": {},
   "outputs": [],
   "source": [
    "fig = scatter2d(df.index, df[f\"{probe}_Cal_Res_Rel\"], show_plot=False);"
   ]
  },
  {
   "cell_type": "code",
   "execution_count": null,
   "metadata": {},
   "outputs": [],
   "source": [
    "plot(fig)"
   ]
  },
  {
   "cell_type": "markdown",
   "metadata": {},
   "source": [
    "~ -3e-5 change in residual after changing temperature."
   ]
  },
  {
   "cell_type": "code",
   "execution_count": null,
   "metadata": {},
   "outputs": [],
   "source": [
    "fig = histo(df[f\"{probe}_Cal_Res_Rel\"], bins=75, show_plot=False);\n",
    "plot(fig)\n",
    "#fig = histo(df[f\"{probe}_Cal_Res_Rel\"], bins=50, yscale='log')"
   ]
  },
  {
   "cell_type": "code",
   "execution_count": null,
   "metadata": {},
   "outputs": [],
   "source": [
    "df[\"day\"] = df.index.day"
   ]
  },
  {
   "cell_type": "code",
   "execution_count": null,
   "metadata": {},
   "outputs": [],
   "source": [
    "fig = px.histogram(df, x=f\"{probe}_Cal_Res_Rel\", color=\"day\")"
   ]
  },
  {
   "cell_type": "code",
   "execution_count": null,
   "metadata": {},
   "outputs": [],
   "source": [
    "fig.update_layout(\n",
    "    autosize=False,\n",
    "    width=1800,\n",
    "    height=800\n",
    "    #margin=dict(l=20, r=20, t=20, b=20),\n",
    "    #padding=dict(l=20, r=20, t=20, b=20),\n",
    "    #paper_bgcolor=\"LightSteelBlue\",\n",
    ");"
   ]
  },
  {
   "cell_type": "code",
   "execution_count": null,
   "metadata": {},
   "outputs": [],
   "source": [
    "#fig.show()"
   ]
  },
  {
   "cell_type": "code",
   "execution_count": null,
   "metadata": {},
   "outputs": [],
   "source": [
    "plot(fig)"
   ]
  },
  {
   "cell_type": "markdown",
   "metadata": {
    "heading_collapsed": true
   },
   "source": [
    "### look soon"
   ]
  },
  {
   "cell_type": "code",
   "execution_count": null,
   "metadata": {
    "hidden": true
   },
   "outputs": [],
   "source": [
    "# look at below"
   ]
  },
  {
   "cell_type": "code",
   "execution_count": null,
   "metadata": {
    "hidden": true
   },
   "outputs": [],
   "source": []
  },
  {
   "cell_type": "code",
   "execution_count": null,
   "metadata": {
    "hidden": true
   },
   "outputs": [],
   "source": []
  },
  {
   "cell_type": "code",
   "execution_count": null,
   "metadata": {
    "hidden": true
   },
   "outputs": [],
   "source": [
    "filename = plotdir+\"NMR_vs_time\"\n",
    "pio.write_image(fig, filename+\".pdf\")\n",
    "pio.write_image(fig, filename+\".png\")"
   ]
  },
  {
   "cell_type": "code",
   "execution_count": null,
   "metadata": {
    "hidden": true
   },
   "outputs": [],
   "source": [
    "fig = scatter2d(df_fast[::10].index, df_fast[::10][\"Cal_3_Bmag\"], show_plot=False);\n",
    "fig.layout.title = \"|B_Hall]| [T] vs. Datetime\";\n",
    "fig.layout.yaxis.title = \"|B_Hall]| [T]\";"
   ]
  },
  {
   "cell_type": "code",
   "execution_count": null,
   "metadata": {
    "hidden": true
   },
   "outputs": [],
   "source": [
    "filename = plotdir+\"Hall_vs_time\"\n",
    "pio.write_image(fig, filename+\".pdf\")\n",
    "pio.write_image(fig, filename+\".png\")"
   ]
  },
  {
   "cell_type": "code",
   "execution_count": null,
   "metadata": {
    "hidden": true
   },
   "outputs": [],
   "source": [
    "P = 3\n",
    "N = 60#10#30#10#20#10#30#60\n",
    "df_fast.loc[:, f\"Cal_{P}_Bmag_Avg\"] = df_fast[f\"Cal_{P}_Bmag\"].rolling(window = N, center=True).mean()\n",
    "df_fast.loc[:, f\"Cal_{P}_Bmag_Avg_Res_Rel\"] = (df_fast[\"NMR\"] - df_fast[f\"Cal_{P}_Bmag_Avg\"])/df_fast[\"NMR\"]"
   ]
  },
  {
   "cell_type": "code",
   "execution_count": null,
   "metadata": {
    "hidden": true
   },
   "outputs": [],
   "source": [
    "df_fast_5 = df_fast[N // 2::N]"
   ]
  },
  {
   "cell_type": "code",
   "execution_count": null,
   "metadata": {
    "hidden": true
   },
   "outputs": [],
   "source": [
    "fig = scatter2d(df_fast_5.index, df_fast_5[\"Cal_3_Bmag_Avg\"], markers=True, lines=False, size_list=3, show_plot=False);\n",
    "fig.layout.title = \"|B_Hall]| [T] vs. Datetime<br> 60 s Average\";\n",
    "fig.layout.yaxis.title = \"|B_Hall]| [T]\";\n",
    "filename = plotdir+\"Hall_vs_time_avg_60s\"\n",
    "pio.write_image(fig, filename+\".pdf\")\n",
    "pio.write_image(fig, filename+\".png\")"
   ]
  },
  {
   "cell_type": "code",
   "execution_count": null,
   "metadata": {
    "hidden": true
   },
   "outputs": [],
   "source": [
    "fig = py_profile(df_fast.seconds_delta, df_fast[\"Cal_3_Bmag\"], x_bins=len(df_fast) // 1000, show_plot=True)"
   ]
  },
  {
   "cell_type": "code",
   "execution_count": null,
   "metadata": {
    "hidden": true
   },
   "outputs": [],
   "source": []
  },
  {
   "cell_type": "code",
   "execution_count": null,
   "metadata": {
    "hidden": true
   },
   "outputs": [],
   "source": [
    "fig = scatter2d(df_fast.index, df_fast[\"Cal_3_Bmag\"], show_plot=False);\n",
    "fig.layout.title = \"|B_Hall]| [T] vs. Datetime<br> 15 s Average\";\n",
    "fig.layout.yaxis.title = \"|B_Hall]| [T]\";\n",
    "filename = plotdir+\"Hall_vs_time_avg_15s\"\n",
    "pio.write_image(fig, filename+\".pdf\")\n",
    "pio.write_image(fig, filename+\".png\")"
   ]
  },
  {
   "cell_type": "code",
   "execution_count": null,
   "metadata": {
    "hidden": true
   },
   "outputs": [],
   "source": [
    "fig = scatter2d(df_slow.seconds_delta, df_slow[\" NMR [T]\"])"
   ]
  },
  {
   "cell_type": "code",
   "execution_count": null,
   "metadata": {
    "hidden": true
   },
   "outputs": [],
   "source": [
    "fighall = scatter2d(df_fast[::100].seconds_delta, df_fast[::100][\"Cal_3_Bmag\"])"
   ]
  },
  {
   "cell_type": "code",
   "execution_count": null,
   "metadata": {
    "hidden": true
   },
   "outputs": [],
   "source": [
    "figprof = py_profile(df_fast.seconds_delta, df_fast[\"Cal_3_Bmag\"], \n",
    "                     xrange=[100000, 600000],\n",
    "                     x_bins=5000, show_plot=True)"
   ]
  },
  {
   "cell_type": "code",
   "execution_count": null,
   "metadata": {
    "hidden": true
   },
   "outputs": [],
   "source": [
    "figprof = py_profile(df_fast.seconds_delta, df_fast[\"Cal_3_Bmag\"], x_bins=200, show_plot=True)"
   ]
  },
  {
   "cell_type": "code",
   "execution_count": null,
   "metadata": {
    "hidden": true
   },
   "outputs": [],
   "source": [
    "fig.add_traces([fighall.data[0],figprof.data[0]])"
   ]
  },
  {
   "cell_type": "code",
   "execution_count": null,
   "metadata": {
    "hidden": true
   },
   "outputs": [],
   "source": [
    "fig.layout.title = \"Scatter, Profile: NMR and |B_hall| Comparison\";\n",
    "fig.layout.yaxis.title = \"|B| [T]\";\n",
    "fig.layout.xaxis.title = \"$\\Delta t\\ \\\\text{[s]}$\";\n",
    "filename = plotdir+\"nmr_hall_comparison\"\n",
    "pio.write_image(fig, filename+\".pdf\")\n",
    "pio.write_image(fig, filename+\".png\")"
   ]
  },
  {
   "cell_type": "code",
   "execution_count": null,
   "metadata": {
    "hidden": true
   },
   "outputs": [],
   "source": [
    "#P = 3\n",
    "#N = 1000#10#30#10#20#10#30#60\n",
    "#df_fast.loc[:, f\"Cal_{P}_Bmag_Avg\"] = df_fast[f\"Cal_{P}_Bmag\"].rolling(window = N, center=True).mean()\n",
    "#df_fast.loc[:, f\"Cal_{P}_Bmag_Avg_Res_Rel\"] = (df_fast[\"NMR\"] - df_fast[f\"Cal_{P}_Bmag_Avg\"])/df_fast[\"NMR\"]"
   ]
  },
  {
   "cell_type": "code",
   "execution_count": null,
   "metadata": {
    "hidden": true
   },
   "outputs": [],
   "source": [
    "#df_fast_5 = df_fast[N // 2::N]"
   ]
  },
  {
   "cell_type": "code",
   "execution_count": null,
   "metadata": {
    "hidden": true
   },
   "outputs": [],
   "source": [
    "#1000 / 60 /60 "
   ]
  },
  {
   "cell_type": "code",
   "execution_count": null,
   "metadata": {
    "hidden": true
   },
   "outputs": [],
   "source": [
    "#figavg = scatter2d(df_fast_5.seconds_delta, df_fast_5[\"Cal_3_Bmag_Avg\"], markers=True, lines=False, size_list=[5])"
   ]
  },
  {
   "cell_type": "code",
   "execution_count": null,
   "metadata": {
    "hidden": true
   },
   "outputs": [],
   "source": [
    "#figavg.add_traces([figprof.data[0]])"
   ]
  },
  {
   "cell_type": "code",
   "execution_count": null,
   "metadata": {
    "hidden": true,
    "scrolled": false
   },
   "outputs": [],
   "source": [
    "fig.add_traces([figprof.data[0]])"
   ]
  },
  {
   "cell_type": "code",
   "execution_count": null,
   "metadata": {
    "hidden": true
   },
   "outputs": [],
   "source": []
  },
  {
   "cell_type": "code",
   "execution_count": null,
   "metadata": {
    "hidden": true
   },
   "outputs": [],
   "source": []
  },
  {
   "cell_type": "code",
   "execution_count": null,
   "metadata": {
    "hidden": true
   },
   "outputs": [],
   "source": [
    "P = 3\n",
    "N = 60#10#30#10#20#10#30#60\n",
    "df_fast.loc[:, f\"Cal_{P}_Bmag_Avg\"] = df_fast[f\"Cal_{P}_Bmag\"].rolling(window = N, center=True).mean()\n",
    "df_fast.loc[:, f\"Cal_{P}_Bmag_Avg_Res_Rel\"] = (df_fast[\"NMR\"] - df_fast[f\"Cal_{P}_Bmag_Avg\"])/df_fast[\"NMR\"]"
   ]
  },
  {
   "cell_type": "code",
   "execution_count": null,
   "metadata": {
    "hidden": true
   },
   "outputs": [],
   "source": [
    "df_fast_5 = df_fast[N // 2::N]"
   ]
  },
  {
   "cell_type": "code",
   "execution_count": null,
   "metadata": {
    "hidden": true
   },
   "outputs": [],
   "source": [
    "fig = scatter2d(df_fast_5[\"NMR\"], df_fast_5[\"Cal_3_Bmag_Avg\"], lines=False, markers=True)"
   ]
  },
  {
   "cell_type": "code",
   "execution_count": null,
   "metadata": {
    "hidden": true
   },
   "outputs": [],
   "source": [
    "fig.layout.title = \"|B_hall| (avg.) vs. NMR <br> 60 s Average\";\n",
    "fig.layout.yaxis.title = \"|B_Hall| [T]\";\n",
    "fig.layout.xaxis.title = \"NMR [T]\";\n",
    "filename = plotdir+\"nmr_hall_correlation\"\n",
    "pio.write_image(fig, filename+\".pdf\")\n",
    "pio.write_image(fig, filename+\".png\")"
   ]
  },
  {
   "cell_type": "code",
   "execution_count": null,
   "metadata": {
    "hidden": true
   },
   "outputs": [],
   "source": []
  },
  {
   "cell_type": "code",
   "execution_count": null,
   "metadata": {
    "hidden": true
   },
   "outputs": [],
   "source": [
    "df_fast.eval('Raw_3_Bmag = (Raw_3_Bx**2 + Raw_3_By**2 + Raw_3_Bz**2)**(1/2)',inplace=True)"
   ]
  },
  {
   "cell_type": "code",
   "execution_count": null,
   "metadata": {
    "hidden": true
   },
   "outputs": [],
   "source": [
    "fig = histo(df_fast[\"Raw_3_Bmag\"], bins=50)"
   ]
  },
  {
   "cell_type": "code",
   "execution_count": null,
   "metadata": {
    "hidden": true
   },
   "outputs": [],
   "source": [
    "df_slow.columns"
   ]
  },
  {
   "cell_type": "code",
   "execution_count": null,
   "metadata": {
    "hidden": true
   },
   "outputs": [],
   "source": []
  },
  {
   "cell_type": "code",
   "execution_count": null,
   "metadata": {
    "hidden": true
   },
   "outputs": [],
   "source": []
  },
  {
   "cell_type": "code",
   "execution_count": null,
   "metadata": {
    "hidden": true
   },
   "outputs": [],
   "source": []
  },
  {
   "cell_type": "code",
   "execution_count": null,
   "metadata": {
    "hidden": true
   },
   "outputs": [],
   "source": [
    "# look at above"
   ]
  },
  {
   "cell_type": "markdown",
   "metadata": {},
   "source": [
    "### continuing on"
   ]
  },
  {
   "cell_type": "code",
   "execution_count": null,
   "metadata": {},
   "outputs": [],
   "source": []
  },
  {
   "cell_type": "code",
   "execution_count": null,
   "metadata": {},
   "outputs": [],
   "source": []
  },
  {
   "cell_type": "code",
   "execution_count": null,
   "metadata": {},
   "outputs": [],
   "source": [
    "temps_ch = [a for a in df.columns if (\"CH\" in a) and int(a[-2:])<21]# or \"HVAC\" in a]\n",
    "temps_ch.append(\"Hall Element\")\n",
    "temps_ch.append(\"Floor\")\n",
    "temps_ch.append(\"Roof\")\n",
    "temps_ch.append(\"Yoke\")\n",
    "temps_ch.append(\"Yoke (center magnet)\")"
   ]
  },
  {
   "cell_type": "code",
   "execution_count": null,
   "metadata": {},
   "outputs": [],
   "source": [
    "#temps_ch"
   ]
  },
  {
   "cell_type": "code",
   "execution_count": null,
   "metadata": {},
   "outputs": [],
   "source": [
    "#df[temps_ch].describe()"
   ]
  },
  {
   "cell_type": "code",
   "execution_count": null,
   "metadata": {},
   "outputs": [],
   "source": [
    "#df[temps_ch].plot(kind=\"box\")"
   ]
  },
  {
   "cell_type": "code",
   "execution_count": null,
   "metadata": {},
   "outputs": [],
   "source": [
    "#fig = go.Figure()\n",
    "#[fig.add_trace(go.Box(y=df[col], name=col)) for col in temps_ch]\n",
    "\n",
    "#fig.show()"
   ]
  },
  {
   "cell_type": "code",
   "execution_count": null,
   "metadata": {},
   "outputs": [],
   "source": [
    "fig = scatter2d([df.index for c in temps_ch],[df[c] for c in temps_ch],inline=True, show_plot=False);\n",
    "fig.layout.title = \"Temp vs. Datetime\"\n",
    "fig.layout.yaxis.title = \"Temp [deg. C]\";"
   ]
  },
  {
   "cell_type": "code",
   "execution_count": null,
   "metadata": {},
   "outputs": [],
   "source": [
    "#fig.show()\n",
    "#plot(fig)"
   ]
  },
  {
   "cell_type": "code",
   "execution_count": null,
   "metadata": {},
   "outputs": [],
   "source": [
    "#fname = 'temps_scatter'\n",
    "#fname = 'time/temps/temps_scatter_full'\n",
    "#pio.write_image(fig, plotdir+fname+'.pdf')\n",
    "#pio.write_image(fig, plotdir+fname+'.png')\n",
    "#plot(fig, filename=plotdir+fname+'.html', auto_open=False)"
   ]
  },
  {
   "cell_type": "code",
   "execution_count": null,
   "metadata": {},
   "outputs": [],
   "source": [
    "probe = probes[2]"
   ]
  },
  {
   "cell_type": "code",
   "execution_count": null,
   "metadata": {},
   "outputs": [],
   "source": [
    "fig.add_trace(go.Scatter(x=df.index, y=df[f\"{probe}_Cal_T\"], mode=\"lines\", name=f\"{probe}_Cal_T\"));"
   ]
  },
  {
   "cell_type": "code",
   "execution_count": null,
   "metadata": {},
   "outputs": [],
   "source": [
    "#fname = 'temps_scatter'\n",
    "fname = 'time/temps/temps_scatter_full'\n",
    "pio.write_image(fig, plotdir+fname+'.pdf')\n",
    "pio.write_image(fig, plotdir+fname+'.png')\n",
    "plot(fig, filename=plotdir+fname+'.html', auto_open=False)"
   ]
  },
  {
   "cell_type": "code",
   "execution_count": null,
   "metadata": {},
   "outputs": [],
   "source": [
    "plot(fig)"
   ]
  },
  {
   "cell_type": "code",
   "execution_count": null,
   "metadata": {},
   "outputs": [],
   "source": [
    "temps_water = [col for col in df.columns if (\"ICW\" in col) or (\"LCW\" in col)]"
   ]
  },
  {
   "cell_type": "code",
   "execution_count": null,
   "metadata": {},
   "outputs": [],
   "source": [
    "#temps_water"
   ]
  },
  {
   "cell_type": "code",
   "execution_count": null,
   "metadata": {},
   "outputs": [],
   "source": [
    "fig = scatter2d([df.index for c in temps_water],[df[c] for c in temps_water],inline=True, show_plot=False);\n",
    "fig.layout.title = \"Water Temp vs. Datetime\"\n",
    "fig.layout.yaxis.title = \"Temp [deg. C]\""
   ]
  },
  {
   "cell_type": "code",
   "execution_count": null,
   "metadata": {},
   "outputs": [],
   "source": [
    "#fig.show()\n",
    "plot(fig)"
   ]
  },
  {
   "cell_type": "code",
   "execution_count": null,
   "metadata": {},
   "outputs": [],
   "source": [
    "#fname = 'temps_scatter'\n",
    "fname = 'time/temps/temps_scatter_water'\n",
    "pio.write_image(fig, plotdir+fname+'.pdf')\n",
    "pio.write_image(fig, plotdir+fname+'.png')\n",
    "plot(fig, filename=plotdir+fname+'.html', auto_open=False)"
   ]
  },
  {
   "cell_type": "code",
   "execution_count": null,
   "metadata": {},
   "outputs": [],
   "source": [
    "temps_ambient = [col for col in df.columns if (\"Ambient\" in col)]\n",
    "#temps_ambient"
   ]
  },
  {
   "cell_type": "code",
   "execution_count": null,
   "metadata": {},
   "outputs": [],
   "source": [
    "fig = scatter2d([df.index for c in temps_ambient],[df[c] for c in temps_ambient],inline=True, show_plot=False);\n",
    "fig.layout.title = \"Ambient Temp vs. Datetime\"\n",
    "fig.layout.yaxis.title = \"Temp [deg. C]\"\n",
    "#fig.show()\n",
    "plot(fig)"
   ]
  },
  {
   "cell_type": "code",
   "execution_count": null,
   "metadata": {},
   "outputs": [],
   "source": [
    "#fname = 'temps_scatter'\n",
    "fname = 'time/temps/temps_scatter_ambient'\n",
    "pio.write_image(fig, plotdir+fname+'.pdf')\n",
    "pio.write_image(fig, plotdir+fname+'.png')\n",
    "plot(fig, filename=plotdir+fname+'.html', auto_open=False)"
   ]
  },
  {
   "cell_type": "code",
   "execution_count": null,
   "metadata": {},
   "outputs": [],
   "source": [
    "temps_magnet = [col for col in df.columns if ((\"PS\" in col) or (\"Coil\" in col) or (\"Yoke\" in col)) and (\"Orange\" not in col)]\n",
    "#temps_magnet"
   ]
  },
  {
   "cell_type": "code",
   "execution_count": null,
   "metadata": {},
   "outputs": [],
   "source": [
    "fig = scatter2d([df.index for c in temps_magnet],[df[c] for c in temps_magnet],inline=True, show_plot=False);\n",
    "fig.layout.title = \"Magnet Temp vs. Datetime\"\n",
    "fig.layout.yaxis.title = \"Temp [deg. C]\"\n",
    "#fig.show()\n",
    "plot(fig)"
   ]
  },
  {
   "cell_type": "code",
   "execution_count": null,
   "metadata": {},
   "outputs": [],
   "source": [
    "#fname = 'temps_scatter'\n",
    "fname = 'time/temps/temps_scatter_magnet'\n",
    "pio.write_image(fig, plotdir+fname+'.pdf')\n",
    "pio.write_image(fig, plotdir+fname+'.png')\n",
    "plot(fig, filename=plotdir+fname+'.html', auto_open=False)"
   ]
  },
  {
   "cell_type": "code",
   "execution_count": null,
   "metadata": {},
   "outputs": [],
   "source": []
  },
  {
   "cell_type": "code",
   "execution_count": null,
   "metadata": {},
   "outputs": [],
   "source": [
    "#df_ = df[\"11-09-19 00:00:00\":\"11-12-19 9:25:00\"]\n",
    "#fig = scatter2d(df_[\"Yoke (center magnet)\"], df_[\"Floor\"], colors_list=df.days_delta,)"
   ]
  },
  {
   "cell_type": "code",
   "execution_count": null,
   "metadata": {},
   "outputs": [],
   "source": [
    "# correlation\n",
    "fig = scatter2d([df[\"Yoke\"], df[\"Yoke (center magnet)\"]], 2*[df[\"NMR [T]\"]], \n",
    "                colors_list=2*[df.hours_delta], #colorscale_list=[\"Viridis\", \"Aggrnyl\"],\n",
    "                lines=False, markers=True, legend_list=[\"Yoke\", \"Yoke (center magnet)\"], show_plot=False,\n",
    "                size_list=2*[5])\n",
    "#fig = scatter2d(df[\"Yoke ()\"], df[\"NMR [T]\"], lines=False, markers=True,)"
   ]
  },
  {
   "cell_type": "code",
   "execution_count": null,
   "metadata": {},
   "outputs": [],
   "source": [
    "#fname = 'temps_scatter'\n",
    "fname = 'correlation_nmr_yokes'\n",
    "pio.write_image(fig, plotdir+fname+'.pdf')\n",
    "pio.write_image(fig, plotdir+fname+'.png')\n",
    "plot(fig, filename=plotdir+fname+'.html', auto_open=False)"
   ]
  },
  {
   "cell_type": "code",
   "execution_count": null,
   "metadata": {},
   "outputs": [],
   "source": [
    "plot(fig)"
   ]
  },
  {
   "cell_type": "code",
   "execution_count": null,
   "metadata": {},
   "outputs": [],
   "source": [
    "#fig.update_traces(marker=dict(size=5));\n",
    "#plot(fig)"
   ]
  },
  {
   "cell_type": "code",
   "execution_count": null,
   "metadata": {},
   "outputs": [],
   "source": []
  },
  {
   "cell_type": "code",
   "execution_count": null,
   "metadata": {},
   "outputs": [],
   "source": [
    "# correlation\n",
    "fig = scatter2d([df[\"Coil 1 (new)\"], df[\"Coil 2 (old)\"]], 2*[df[\"NMR [T]\"]], \n",
    "                colors_list=2*[df.hours_delta], #colorscale_list=[\"Viridis\", \"Aggrnyl\"],\n",
    "                lines=False, markers=True, legend_list=[\"Coil 1 (new)\", \"Coil 2 (old)\"], show_plot=False)\n",
    "#fig = scatter2d(df[\"Yoke ()\"], df[\"NMR [T]\"], lines=False, markers=True,)"
   ]
  },
  {
   "cell_type": "code",
   "execution_count": null,
   "metadata": {},
   "outputs": [],
   "source": [
    "#fname = 'temps_scatter'\n",
    "fname = 'correlation_nmr_coils'\n",
    "pio.write_image(fig, plotdir+fname+'.pdf')\n",
    "pio.write_image(fig, plotdir+fname+'.png')\n",
    "plot(fig, filename=plotdir+fname+'.html', auto_open=False)"
   ]
  },
  {
   "cell_type": "code",
   "execution_count": null,
   "metadata": {},
   "outputs": [],
   "source": [
    "#plot(fig)"
   ]
  },
  {
   "cell_type": "code",
   "execution_count": null,
   "metadata": {},
   "outputs": [],
   "source": [
    "fig.update_traces(marker=dict(size=5));\n",
    "plot(fig)"
   ]
  },
  {
   "cell_type": "code",
   "execution_count": null,
   "metadata": {},
   "outputs": [],
   "source": []
  },
  {
   "cell_type": "code",
   "execution_count": null,
   "metadata": {},
   "outputs": [],
   "source": [
    "# correlation\n",
    "fig = scatter2d([df[\"LCW in Coil1\"], df[\"LCW in Coil 2\"]], 2*[df[\"NMR [T]\"]], \n",
    "                colors_list=2*[df.hours_delta], #colorscale_list=[\"Viridis\", \"Aggrnyl\"],\n",
    "                lines=False, markers=True, legend_list=['LCW in Coil1', \"LCW in Coil 2\"], show_plot=False)\n",
    "#fig = scatter2d(df[\"Yoke ()\"], df[\"NMR [T]\"], lines=False, markers=True,)"
   ]
  },
  {
   "cell_type": "code",
   "execution_count": null,
   "metadata": {},
   "outputs": [],
   "source": [
    "#fname = 'temps_scatter'\n",
    "fname = 'correlation_nmr_lcw_in_coils'\n",
    "pio.write_image(fig, plotdir+fname+'.pdf')\n",
    "pio.write_image(fig, plotdir+fname+'.png')\n",
    "plot(fig, filename=plotdir+fname+'.html', auto_open=False)"
   ]
  },
  {
   "cell_type": "code",
   "execution_count": null,
   "metadata": {},
   "outputs": [],
   "source": [
    "plot(fig)"
   ]
  },
  {
   "cell_type": "code",
   "execution_count": null,
   "metadata": {},
   "outputs": [],
   "source": [
    "fig.update_traces(marker=dict(size=5));\n",
    "plot(fig)"
   ]
  },
  {
   "cell_type": "code",
   "execution_count": null,
   "metadata": {},
   "outputs": [],
   "source": []
  },
  {
   "cell_type": "code",
   "execution_count": null,
   "metadata": {},
   "outputs": [],
   "source": []
  },
  {
   "cell_type": "code",
   "execution_count": null,
   "metadata": {},
   "outputs": [],
   "source": [
    "probe = probes[2]\n",
    "probe"
   ]
  },
  {
   "cell_type": "code",
   "execution_count": null,
   "metadata": {},
   "outputs": [],
   "source": [
    "fig = scatter2d(df[f\"{probe}_Cal_T\"], df[f\"{probe}_Raw_Bmag\"], df.days_delta)"
   ]
  },
  {
   "cell_type": "code",
   "execution_count": null,
   "metadata": {},
   "outputs": [],
   "source": [
    "fig = scatter2d(df[f\"{probe}_Cal_T\"], df[f\"{probe}_Raw_Bmag\"] / df[\"NMR [T]\"], df.days_delta)"
   ]
  },
  {
   "cell_type": "code",
   "execution_count": null,
   "metadata": {},
   "outputs": [],
   "source": [
    "#corr_main = \" LCW in barrel\"\n",
    "#corr_main = \"Yoke\"\n",
    "corr_main = f\"{probe}_Cal_T\"\n",
    "#corr_main = \" Floor\"\n",
    "\n",
    "filestart = corr_main.strip().lower()\n",
    "\n",
    "slope, intercept, r_value, p_value, std_err = stats.linregress(df[corr_main], df[f\"{probe}_Raw_Bmag\"]/df[\"NMR [T]\"])"
   ]
  },
  {
   "cell_type": "code",
   "execution_count": null,
   "metadata": {},
   "outputs": [],
   "source": [
    "slope"
   ]
  },
  {
   "cell_type": "code",
   "execution_count": null,
   "metadata": {},
   "outputs": [],
   "source": [
    "intercept"
   ]
  },
  {
   "cell_type": "code",
   "execution_count": null,
   "metadata": {},
   "outputs": [],
   "source": []
  },
  {
   "cell_type": "code",
   "execution_count": null,
   "metadata": {},
   "outputs": [],
   "source": []
  },
  {
   "cell_type": "code",
   "execution_count": null,
   "metadata": {},
   "outputs": [],
   "source": [
    "# rotation of axes"
   ]
  },
  {
   "cell_type": "code",
   "execution_count": null,
   "metadata": {},
   "outputs": [],
   "source": [
    "y_old = df[f\"{probe}_Raw_Bmag\"]/df[\"NMR [T]\"]"
   ]
  },
  {
   "cell_type": "code",
   "execution_count": null,
   "metadata": {},
   "outputs": [],
   "source": [
    "theta_guess = np.arctan(slope)#np.arctan(1/slope)\n",
    "theta_guess"
   ]
  },
  {
   "cell_type": "code",
   "execution_count": null,
   "metadata": {},
   "outputs": [],
   "source": [
    "theta_guess/ np.pi"
   ]
  },
  {
   "cell_type": "code",
   "execution_count": null,
   "metadata": {},
   "outputs": [],
   "source": [
    "#theta = 1.99*(np.pi/4)\n",
    "theta = -theta_guess# * 1800\n",
    "\n",
    "x = np.cos(theta) * df[corr_main] - np.sin(theta) * y_old\n",
    "y = np.sin(theta) * df[corr_main] + np.cos(theta) * y_old"
   ]
  },
  {
   "cell_type": "code",
   "execution_count": null,
   "metadata": {},
   "outputs": [],
   "source": [
    "fig = scatter2d(x, y, df.days_delta)"
   ]
  },
  {
   "cell_type": "code",
   "execution_count": null,
   "metadata": {},
   "outputs": [],
   "source": [
    "slope_new, intercept_new, r_value_new, p_value_new, std_err_new = stats.linregress(x, y)"
   ]
  },
  {
   "cell_type": "code",
   "execution_count": null,
   "metadata": {},
   "outputs": [],
   "source": [
    "slope_new, r_value_new"
   ]
  },
  {
   "cell_type": "code",
   "execution_count": null,
   "metadata": {},
   "outputs": [],
   "source": [
    "slope, r_value"
   ]
  },
  {
   "cell_type": "code",
   "execution_count": null,
   "metadata": {},
   "outputs": [],
   "source": [
    "y.name = \"y_rot\""
   ]
  },
  {
   "cell_type": "code",
   "execution_count": null,
   "metadata": {},
   "outputs": [],
   "source": [
    "fig = histo(y, bins=50)"
   ]
  },
  {
   "cell_type": "code",
   "execution_count": null,
   "metadata": {},
   "outputs": [],
   "source": [
    "x.name = \"x_rot\"\n",
    "fig = histo(x,bins=50)"
   ]
  },
  {
   "cell_type": "code",
   "execution_count": null,
   "metadata": {
    "code_folding": []
   },
   "outputs": [],
   "source": [
    "#y_old"
   ]
  },
  {
   "cell_type": "code",
   "execution_count": null,
   "metadata": {},
   "outputs": [],
   "source": [
    "fig = histo(df[f\"{probe}_Cal_T\"], bins=50)"
   ]
  },
  {
   "cell_type": "code",
   "execution_count": null,
   "metadata": {},
   "outputs": [],
   "source": [
    "y_old.name = \"y_old\"\n",
    "fig = histo(y_old, bins=50)"
   ]
  },
  {
   "cell_type": "code",
   "execution_count": null,
   "metadata": {},
   "outputs": [],
   "source": [
    "covar_rot = x.cov(y)\n",
    "corr_rot = x.corr(y)"
   ]
  },
  {
   "cell_type": "code",
   "execution_count": null,
   "metadata": {},
   "outputs": [],
   "source": [
    "covar_rot, corr_rot"
   ]
  },
  {
   "cell_type": "code",
   "execution_count": null,
   "metadata": {},
   "outputs": [],
   "source": [
    "x = np.linspace(df[corr_main].min(), df[corr_main].max(), 500)\n",
    "line = slope * x + intercept"
   ]
  },
  {
   "cell_type": "code",
   "execution_count": null,
   "metadata": {},
   "outputs": [],
   "source": [
    "fig = scatter2d([df[corr_main], x],[df[f\"{probe}_Raw_Bmag\"]/df[\"NMR [T]\"],line],lines=False,markers=True,size_list=[2,2],inline=True)"
   ]
  },
  {
   "cell_type": "code",
   "execution_count": null,
   "metadata": {},
   "outputs": [],
   "source": [
    "for B in [\"X\",\"Y\",\"Z\"]:\n",
    "    fig = scatter2d(df[f\"{probe}_Cal_T\"], df[f\"{probe}_Raw_{B}\"], df.days_delta)"
   ]
  },
  {
   "cell_type": "code",
   "execution_count": null,
   "metadata": {},
   "outputs": [],
   "source": [
    "fig = scatter2d(df[f\"NMR [T]\"], df[f\"{probe}_Raw_Bmag\"], df[f\"{probe}_Cal_T\"], colorscale_list=[\"Viridis\"])"
   ]
  },
  {
   "cell_type": "code",
   "execution_count": null,
   "metadata": {},
   "outputs": [],
   "source": []
  },
  {
   "cell_type": "code",
   "execution_count": null,
   "metadata": {},
   "outputs": [],
   "source": []
  },
  {
   "cell_type": "code",
   "execution_count": null,
   "metadata": {},
   "outputs": [],
   "source": []
  },
  {
   "cell_type": "code",
   "execution_count": null,
   "metadata": {},
   "outputs": [],
   "source": [
    "fig = scatter2d(df.index, df[f\"{probe}_Cal_T\"]-df[\"Hall Element\"], inline=False)"
   ]
  },
  {
   "cell_type": "code",
   "execution_count": null,
   "metadata": {},
   "outputs": [],
   "source": [
    "colors = ['aggrnyl', 'agsunset', 'algae', 'amp', 'armyrose', 'balance',\n",
    "          'blackbody', 'bluered', 'blues', 'blugrn', 'bluyl', 'brbg',\n",
    "          'brwnyl', 'bugn', 'bupu', 'burg', 'burgyl', 'cividis', 'curl',\n",
    "          'darkmint', 'deep', 'delta', 'dense', 'earth', 'edge', 'electric',\n",
    "          'emrld', 'fall', 'geyser', 'gnbu', 'gray', 'greens', 'greys',\n",
    "          'haline', 'hot', 'hsv', 'ice', 'icefire', 'inferno', 'jet',\n",
    "          'magenta', 'magma', 'matter', 'mint', 'mrybm', 'mygbm', 'oranges',\n",
    "          'orrd', 'oryel', 'peach', 'phase', 'picnic', 'pinkyl', 'piyg',\n",
    "          'plasma', 'plotly3', 'portland', 'prgn', 'pubu', 'pubugn', 'puor',\n",
    "          'purd', 'purp', 'purples', 'purpor', 'rainbow', 'rdbu', 'rdgy',\n",
    "          'rdpu', 'rdylbu', 'rdylgn', 'redor', 'reds', 'solar', 'spectral',\n",
    "          'speed', 'sunset', 'sunsetdark', 'teal', 'tealgrn', 'tealrose',\n",
    "          'tempo', 'temps', 'thermal', 'tropic', 'turbid', 'twilight',\n",
    "          'viridis', 'ylgn', 'ylgnbu', 'ylorbr', 'ylorrd']"
   ]
  },
  {
   "cell_type": "code",
   "execution_count": null,
   "metadata": {},
   "outputs": [],
   "source": [
    "colors"
   ]
  },
  {
   "cell_type": "code",
   "execution_count": null,
   "metadata": {},
   "outputs": [],
   "source": [
    "cs = sorted(list(px.colors.PLOTLY_SCALES.keys()))\n",
    "[print(i, c) for i,c in enumerate(cs)];"
   ]
  },
  {
   "cell_type": "code",
   "execution_count": null,
   "metadata": {},
   "outputs": [],
   "source": [
    "[15,3,8,12,4,5,0,9,10,]"
   ]
  },
  {
   "cell_type": "code",
   "execution_count": null,
   "metadata": {},
   "outputs": [],
   "source": [
    "colors = ['Viridis', 'Cividis', 'Hot', 'Electric'] + cs"
   ]
  },
  {
   "cell_type": "code",
   "execution_count": null,
   "metadata": {},
   "outputs": [],
   "source": [
    "colors"
   ]
  },
  {
   "cell_type": "code",
   "execution_count": null,
   "metadata": {},
   "outputs": [],
   "source": [
    "px.colors.sequential.swatches()"
   ]
  },
  {
   "cell_type": "code",
   "execution_count": null,
   "metadata": {},
   "outputs": [],
   "source": [
    "fname = 'correlations/nmr_vs_yoke_correlation'\n",
    "pio.write_image(fig, plotdir+fname+'.pdf')\n",
    "pio.write_image(fig, plotdir+fname+'.png')"
   ]
  },
  {
   "cell_type": "code",
   "execution_count": null,
   "metadata": {},
   "outputs": [],
   "source": [
    "fig = scatter2d(df[\"Yoke (center magnet)\"], df[\"Magnet Current [A]\"], lines=False, markers=True,)"
   ]
  },
  {
   "cell_type": "code",
   "execution_count": null,
   "metadata": {},
   "outputs": [],
   "source": [
    "df_cur = df[df[\"Magnet Current [A]\"] > 50]#df[df[\"Yoke (center magnet)\"] > 22]"
   ]
  },
  {
   "cell_type": "code",
   "execution_count": null,
   "metadata": {},
   "outputs": [],
   "source": [
    "fig = scatter2d(df_cur[\"Yoke (center magnet)\"], df_cur[\"Magnet Current [A]\"], lines=False, markers=True,)"
   ]
  },
  {
   "cell_type": "code",
   "execution_count": null,
   "metadata": {},
   "outputs": [],
   "source": [
    "#df_cur = df[df[\"Yoke (center magnet)\"] > 22]"
   ]
  },
  {
   "cell_type": "code",
   "execution_count": null,
   "metadata": {},
   "outputs": [],
   "source": [
    "fig = scatter2d(df_cur[\"Yoke (center magnet)\"], df_cur[\"NMR [T]\"], lines=False, markers=True,)"
   ]
  },
  {
   "cell_type": "code",
   "execution_count": null,
   "metadata": {},
   "outputs": [],
   "source": [
    "fig = scatter2d(df[\"Magnet Current [A]\"], df[\"NMR [T]\"], lines=False, markers=True,)\n",
    "fig = scatter2d(df_cur[\"Magnet Current [A]\"], df_cur[\"NMR [T]\"], lines=False, markers=True, size_list=[5])"
   ]
  },
  {
   "cell_type": "code",
   "execution_count": null,
   "metadata": {},
   "outputs": [],
   "source": []
  },
  {
   "cell_type": "code",
   "execution_count": null,
   "metadata": {},
   "outputs": [],
   "source": []
  },
  {
   "cell_type": "code",
   "execution_count": null,
   "metadata": {},
   "outputs": [],
   "source": [
    "#df_ = df[\"11-14-19 00:00:00\":]#[\"11-11-19 09:00:00\":\"11-12-19 9:00:00\"]#df[\"11-09-19 12:00:00\":\"11-12-19 9:00:00\"]\n",
    "#df_ = df[\"11-13-19 02:00:00\":\"11-13-19 16:00:00\"]\n",
    "df_ = df\n",
    "primary_corr = dict()\n",
    "for col in df.columns:\n",
    "    if df_[col].dtype == np.float64:\n",
    "        slope_v, intercept_v, r_value_v, p_value_v, std_err_v = stats.linregress(df_[col], df_[\"NMR [T]\"])\n",
    "        #print(col,r_value_v,p_value_v,std_err_v)\n",
    "        primary_corr[col] = r_value_v\n",
    "\n",
    "sorted_primary_corr = sorted(primary_corr.items(), key=operator.itemgetter(1))\n",
    "\n",
    "sorted_primary_corr"
   ]
  },
  {
   "cell_type": "code",
   "execution_count": null,
   "metadata": {},
   "outputs": [],
   "source": [
    "#corr_main = \" LCW in barrel\"\n",
    "#corr_main = \"Yoke\"\n",
    "#corr_main = '8F0000000D5B373A_Cal_Bmag'\n",
    "#corr_main = '140000000D5FB53A_Cal_T'\n",
    "corr_main = \"Yoke (center magnet)\"\n",
    "#corr_main = \"Floor\"\n",
    "\n",
    "filestart = corr_main.strip().lower()\n",
    "\n",
    "slope, intercept, r_value, p_value, std_err = stats.linregress(df_[corr_main], df_[\"NMR [T]\"])"
   ]
  },
  {
   "cell_type": "code",
   "execution_count": null,
   "metadata": {},
   "outputs": [],
   "source": [
    "slope"
   ]
  },
  {
   "cell_type": "code",
   "execution_count": null,
   "metadata": {},
   "outputs": [],
   "source": [
    "line = slope * df_[corr_main] + intercept"
   ]
  },
  {
   "cell_type": "code",
   "execution_count": null,
   "metadata": {},
   "outputs": [],
   "source": [
    "fig = scatter2d(2*[df_[corr_main]],[df_[\"NMR [T]\"],line],lines=False,markers=True,size_list=[2,2],inline=True)"
   ]
  },
  {
   "cell_type": "code",
   "execution_count": null,
   "metadata": {},
   "outputs": [],
   "source": [
    "pio.write_image(fig,plotdir+f\"{filestart}_vs_nmr_fit.pdf\")\n",
    "pio.write_image(fig,plotdir+f\"{filestart}_vs_nmr_fit.png\")"
   ]
  },
  {
   "cell_type": "code",
   "execution_count": null,
   "metadata": {},
   "outputs": [],
   "source": []
  },
  {
   "cell_type": "code",
   "execution_count": null,
   "metadata": {},
   "outputs": [],
   "source": [
    "# rotation of axes"
   ]
  },
  {
   "cell_type": "code",
   "execution_count": null,
   "metadata": {},
   "outputs": [],
   "source": [
    "y_old = df[\"NMR [T]\"]"
   ]
  },
  {
   "cell_type": "code",
   "execution_count": null,
   "metadata": {},
   "outputs": [],
   "source": [
    "theta_guess = np.arctan(slope)#np.arctan(1/slope)\n",
    "theta_guess"
   ]
  },
  {
   "cell_type": "code",
   "execution_count": null,
   "metadata": {},
   "outputs": [],
   "source": [
    "theta_guess/ np.pi"
   ]
  },
  {
   "cell_type": "code",
   "execution_count": null,
   "metadata": {},
   "outputs": [],
   "source": [
    "#theta = 1.99*(np.pi/4)\n",
    "theta = -theta_guess #* 0.95# * 1800\n",
    "\n",
    "x = np.cos(theta) * df[corr_main] - np.sin(theta) * y_old\n",
    "y = np.sin(theta) * df[corr_main] + np.cos(theta) * y_old"
   ]
  },
  {
   "cell_type": "code",
   "execution_count": null,
   "metadata": {},
   "outputs": [],
   "source": [
    "fig = scatter2d(x, y, df.days_delta)"
   ]
  },
  {
   "cell_type": "code",
   "execution_count": null,
   "metadata": {},
   "outputs": [],
   "source": [
    "df[\"NMR_const_rot\"] = y"
   ]
  },
  {
   "cell_type": "code",
   "execution_count": null,
   "metadata": {},
   "outputs": [],
   "source": [
    "df_ = df[:\"11-11-19 12:00:00\"]#[\"11-11-19 09:00:00\":\"11-12-19 9:00:00\"]#df[\"11-09-19 12:00:00\":\"11-12-19 9:00:00\"]\n",
    "primary_corr = dict()\n",
    "for col in df.columns:\n",
    "    if df_[col].dtype == np.float64:\n",
    "        slope_v, intercept_v, r_value_v, p_value_v, std_err_v = stats.linregress(df_[col], df_[\"NMR_const_rot\"])\n",
    "        #print(col,r_value_v,p_value_v,std_err_v)\n",
    "        primary_corr[col] = r_value_v\n",
    "\n",
    "sorted_primary_corr = sorted(primary_corr.items(), key=operator.itemgetter(1))\n",
    "\n",
    "[print(s) for s in sorted_primary_corr if (\"Yoke\" in s[0])];\n",
    "sorted_primary_corr"
   ]
  },
  {
   "cell_type": "code",
   "execution_count": null,
   "metadata": {},
   "outputs": [],
   "source": [
    "df_ = df#[\"11-11-19 09:00:00\":\"11-12-19 9:00:00\"]#df[\"11-09-19 12:00:00\":\"11-12-19 9:00:00\"]\n",
    "primary_corr = dict()\n",
    "for col in df.columns:\n",
    "    if df_[col].dtype == np.float64:\n",
    "        slope_v, intercept_v, r_value_v, p_value_v, std_err_v = stats.linregress(df_[col], df_[\"NMR_const_rot\"])\n",
    "        #print(col,r_value_v,p_value_v,std_err_v)\n",
    "        primary_corr[col] = r_value_v\n",
    "\n",
    "sorted_primary_corr = sorted(primary_corr.items(), key=operator.itemgetter(1))\n",
    "\n",
    "#sorted_primary_corr\n",
    "[print(s) for s in sorted_primary_corr if (\"Yoke\" in s[0])];"
   ]
  },
  {
   "cell_type": "code",
   "execution_count": null,
   "metadata": {},
   "outputs": [],
   "source": []
  },
  {
   "cell_type": "code",
   "execution_count": null,
   "metadata": {},
   "outputs": [],
   "source": [
    "slope_new, intercept_new, r_value_new, p_value_new, std_err_new = stats.linregress(x, y)"
   ]
  },
  {
   "cell_type": "code",
   "execution_count": null,
   "metadata": {},
   "outputs": [],
   "source": [
    "slope_new, r_value_new"
   ]
  },
  {
   "cell_type": "code",
   "execution_count": null,
   "metadata": {},
   "outputs": [],
   "source": [
    "slope, r_value"
   ]
  },
  {
   "cell_type": "code",
   "execution_count": null,
   "metadata": {},
   "outputs": [],
   "source": [
    "y.name = \"y_rot\""
   ]
  },
  {
   "cell_type": "code",
   "execution_count": null,
   "metadata": {},
   "outputs": [],
   "source": [
    "fig = histo(y, bins=50)"
   ]
  },
  {
   "cell_type": "code",
   "execution_count": null,
   "metadata": {},
   "outputs": [],
   "source": [
    "x.name = \"x_rot\"\n",
    "fig = histo(x,bins=50)"
   ]
  },
  {
   "cell_type": "code",
   "execution_count": null,
   "metadata": {
    "code_folding": []
   },
   "outputs": [],
   "source": [
    "#y_old"
   ]
  },
  {
   "cell_type": "code",
   "execution_count": null,
   "metadata": {},
   "outputs": [],
   "source": [
    "fig = histo(df[f\"{probe}_Cal_T\"], bins=50)"
   ]
  },
  {
   "cell_type": "code",
   "execution_count": null,
   "metadata": {},
   "outputs": [],
   "source": [
    "y_old.name = \"y_old\"\n",
    "fig = histo(y_old, bins=50)"
   ]
  },
  {
   "cell_type": "code",
   "execution_count": null,
   "metadata": {},
   "outputs": [],
   "source": [
    "covar_rot = x.cov(y)\n",
    "corr_rot = x.corr(y)"
   ]
  },
  {
   "cell_type": "code",
   "execution_count": null,
   "metadata": {},
   "outputs": [],
   "source": [
    "covar_rot, corr_rot"
   ]
  },
  {
   "cell_type": "code",
   "execution_count": null,
   "metadata": {},
   "outputs": [],
   "source": [
    "x = np.linspace(df[corr_main].min(), df[corr_main].max(), 500)\n",
    "line = slope * x + intercept"
   ]
  },
  {
   "cell_type": "code",
   "execution_count": null,
   "metadata": {},
   "outputs": [],
   "source": [
    "fig = scatter2d([df[corr_main], x],[df[f\"{probe}_Raw_Bmag\"]/df[\"NMR [T]\"],line],lines=False,markers=True,size_list=[2,2],inline=True)"
   ]
  },
  {
   "cell_type": "code",
   "execution_count": null,
   "metadata": {},
   "outputs": [],
   "source": []
  },
  {
   "cell_type": "code",
   "execution_count": null,
   "metadata": {},
   "outputs": [],
   "source": []
  },
  {
   "cell_type": "code",
   "execution_count": null,
   "metadata": {},
   "outputs": [],
   "source": []
  },
  {
   "cell_type": "code",
   "execution_count": null,
   "metadata": {},
   "outputs": [],
   "source": [
    "df[\"NMR_const\"] = df[\"NMR [T]\"] - slope * df[corr_main] - intercept + df[\"NMR [T]\"].mean()"
   ]
  },
  {
   "cell_type": "code",
   "execution_count": null,
   "metadata": {},
   "outputs": [],
   "source": [
    "fig = scatter2d(2*[df[corr_main]],[df[\"NMR_const\"],line],lines=False,markers=True,size_list=[2,2],inline=True)"
   ]
  },
  {
   "cell_type": "code",
   "execution_count": null,
   "metadata": {},
   "outputs": [],
   "source": [
    "pio.write_image(fig,plotdir+f\"{filestart}_vs_nmr_fit_subtract.pdf\")\n",
    "pio.write_image(fig,plotdir+f\"{filestart}_vs_nmr_fit_subtract.png\")"
   ]
  },
  {
   "cell_type": "code",
   "execution_count": null,
   "metadata": {},
   "outputs": [],
   "source": [
    "fig = histo(df[\"NMR [T]\"],bins=50,inline=True);\n",
    "pio.write_image(fig,plotdir+f\"hist_NMR.pdf\")\n",
    "pio.write_image(fig,plotdir+f\"hist_NMR.png\")\n",
    "fig = histo(df[\"NMR_const\"],bins=50,inline=True);\n",
    "pio.write_image(fig,plotdir+f\"{filestart}_correction_nmr_hist.pdf\")\n",
    "pio.write_image(fig,plotdir+f\"{filestart}_correction_nmr_hist.png\")"
   ]
  },
  {
   "cell_type": "code",
   "execution_count": null,
   "metadata": {},
   "outputs": [],
   "source": []
  },
  {
   "cell_type": "code",
   "execution_count": null,
   "metadata": {},
   "outputs": [],
   "source": [
    "df[\"Zaber_Meas_Encoder_Z\"].plot()"
   ]
  },
  {
   "cell_type": "code",
   "execution_count": null,
   "metadata": {},
   "outputs": [],
   "source": [
    "df[\"Zaber_Meas_MicroStep_Z\"].plot()"
   ]
  },
  {
   "cell_type": "code",
   "execution_count": null,
   "metadata": {},
   "outputs": [],
   "source": [
    "#df[\"8F0000000D5B373A_Cal_Transverse\"].plot()\n",
    "df[\"8F0000000D5B373A_Cal_Theta\"].plot()"
   ]
  },
  {
   "cell_type": "code",
   "execution_count": null,
   "metadata": {
    "scrolled": false
   },
   "outputs": [],
   "source": [
    "df[\"NMR [T]\"].plot()"
   ]
  },
  {
   "cell_type": "code",
   "execution_count": null,
   "metadata": {},
   "outputs": [],
   "source": [
    "df[\"Magnet Current [A]\"].plot()"
   ]
  },
  {
   "cell_type": "code",
   "execution_count": null,
   "metadata": {},
   "outputs": [],
   "source": [
    "fig = scatter2d(df.index,df[\"Magnet Current [A]\"], inline=True)"
   ]
  },
  {
   "cell_type": "code",
   "execution_count": null,
   "metadata": {},
   "outputs": [],
   "source": [
    "fig = scatter2d(df.index,df[\"NMR [T]\"], inline=True)"
   ]
  },
  {
   "cell_type": "code",
   "execution_count": null,
   "metadata": {},
   "outputs": [],
   "source": [
    "fig = scatter2d(df.index,df[\"Zaber_Meas_MicroStep_Z\"], inline=True)"
   ]
  },
  {
   "cell_type": "code",
   "execution_count": null,
   "metadata": {},
   "outputs": [],
   "source": []
  },
  {
   "cell_type": "code",
   "execution_count": null,
   "metadata": {},
   "outputs": [],
   "source": []
  },
  {
   "cell_type": "code",
   "execution_count": null,
   "metadata": {},
   "outputs": [],
   "source": []
  },
  {
   "cell_type": "code",
   "execution_count": null,
   "metadata": {
    "scrolled": true
   },
   "outputs": [],
   "source": [
    "df_ = df#[:\"11-11-19 12:00:00\"]#:\"11-12-19 9:00:00\"]#df[\"11-09-19 12:00:00\":\"11-12-19 9:00:00\"]\n",
    "primary_corr = dict()\n",
    "for col in df.columns:\n",
    "    if df_[col].dtype == np.float64:\n",
    "        slope_v, intercept_v, r_value_v, p_value_v, std_err_v = stats.linregress(df_[col], df_[\"NMR_const_rot\"])\n",
    "        #print(col,r_value_v,p_value_v,std_err_v)\n",
    "        primary_corr[col] = r_value_v\n",
    "\n",
    "sorted_primary_corr = sorted(primary_corr.items(), key=operator.itemgetter(1))\n",
    "\n",
    "#[print(s) for s in sorted_primary_corr if (\"Yoke\" in s[0])];\n",
    "sorted_primary_corr"
   ]
  },
  {
   "cell_type": "code",
   "execution_count": null,
   "metadata": {},
   "outputs": [],
   "source": [
    "#corr_main = \"LCW in Coil 2\"\n",
    "#corr_main = \"LCW from PS\"\n",
    "#corr_main = 'Zaber_Meas_MicroStep_Z'\n",
    "#corr_main = '140000000D5FB53A_Cal_T'\n",
    "#corr_main = \"Yoke\"\n",
    "#corr_main = '140000000D5FB53A_Cal_Res'\n",
    "#corr_main = \"Yoke (center magnet)\"\n",
    "#corr_main = \"Floor\"\n",
    "#corr_main = \"Roof\"\n",
    "corr_main = \"Chamber Wall CH16\"\n",
    "\n",
    "filestart = corr_main.strip().lower()\n",
    "\n",
    "slope, intercept, r_value, p_value, std_err = stats.linregress(df_[corr_main], df_[\"NMR_const_rot\"])"
   ]
  },
  {
   "cell_type": "code",
   "execution_count": null,
   "metadata": {},
   "outputs": [],
   "source": [
    "slope"
   ]
  },
  {
   "cell_type": "code",
   "execution_count": null,
   "metadata": {},
   "outputs": [],
   "source": [
    "line = slope * df_[corr_main] + intercept"
   ]
  },
  {
   "cell_type": "code",
   "execution_count": null,
   "metadata": {},
   "outputs": [],
   "source": [
    "fig = scatter2d(2*[df_[corr_main]],[df_[\"NMR_const_rot\"],line],lines=False,markers=True,size_list=[2,2],inline=True)"
   ]
  },
  {
   "cell_type": "code",
   "execution_count": null,
   "metadata": {},
   "outputs": [],
   "source": [
    "# rotation of axes"
   ]
  },
  {
   "cell_type": "code",
   "execution_count": null,
   "metadata": {},
   "outputs": [],
   "source": [
    "y_old = df[\"NMR_const_rot\"]"
   ]
  },
  {
   "cell_type": "code",
   "execution_count": null,
   "metadata": {},
   "outputs": [],
   "source": [
    "theta_guess = np.arctan(slope)#np.arctan(1/slope)\n",
    "theta_guess"
   ]
  },
  {
   "cell_type": "code",
   "execution_count": null,
   "metadata": {},
   "outputs": [],
   "source": [
    "theta_guess/ np.pi"
   ]
  },
  {
   "cell_type": "code",
   "execution_count": null,
   "metadata": {},
   "outputs": [],
   "source": [
    "#theta = 1.99*(np.pi/4)\n",
    "theta = -theta_guess#*0.6# * 1800\n",
    "\n",
    "x = np.cos(theta) * df[corr_main] - np.sin(theta) * y_old\n",
    "y = np.sin(theta) * df[corr_main] + np.cos(theta) * y_old"
   ]
  },
  {
   "cell_type": "code",
   "execution_count": null,
   "metadata": {},
   "outputs": [],
   "source": [
    "fig = scatter2d(x, y, df.days_delta)"
   ]
  },
  {
   "cell_type": "code",
   "execution_count": null,
   "metadata": {},
   "outputs": [],
   "source": [
    "df[\"NMR_const_rot2\"] = y"
   ]
  },
  {
   "cell_type": "code",
   "execution_count": null,
   "metadata": {},
   "outputs": [],
   "source": [
    "fig = histo([df[col] for col in [\"NMR [T]\", \"NMR_const_rot\", \"NMR_const_rot2\"]], bins=75)"
   ]
  },
  {
   "cell_type": "code",
   "execution_count": null,
   "metadata": {},
   "outputs": [],
   "source": [
    "df_ = df#[\"11-11-19 09:00:00\":\"11-12-19 9:00:00\"]#df[\"11-09-19 12:00:00\":\"11-12-19 9:00:00\"]\n",
    "primary_corr = dict()\n",
    "for col in df.columns:\n",
    "    if df_[col].dtype == np.float64:\n",
    "        slope_v, intercept_v, r_value_v, p_value_v, std_err_v = stats.linregress(df_[col], df_[\"NMR_const_rot2\"])\n",
    "        #print(col,r_value_v,p_value_v,std_err_v)\n",
    "        primary_corr[col] = r_value_v\n",
    "\n",
    "sorted_primary_corr = sorted(primary_corr.items(), key=operator.itemgetter(1))\n",
    "\n",
    "sorted_primary_corr"
   ]
  },
  {
   "cell_type": "code",
   "execution_count": null,
   "metadata": {},
   "outputs": [],
   "source": [
    "#corr_main = 'LCW in Coil 2'\n",
    "corr_main = \"Coil 1 (new)\"\n",
    "#corr_main = \"Yoke\"\n",
    "#corr_main = '140000000D5FB53A_Cal_Res'\n",
    "#corr_main = \"Yoke (center magnet)\"\n",
    "#corr_main = \"Floor\"\n",
    "\n",
    "filestart = corr_main.strip().lower()\n",
    "\n",
    "slope, intercept, r_value, p_value, std_err = stats.linregress(df_[corr_main], df_[\"NMR_const_rot2\"])"
   ]
  },
  {
   "cell_type": "code",
   "execution_count": null,
   "metadata": {},
   "outputs": [],
   "source": [
    "slope"
   ]
  },
  {
   "cell_type": "code",
   "execution_count": null,
   "metadata": {},
   "outputs": [],
   "source": [
    "line = slope * df_[corr_main] + intercept"
   ]
  },
  {
   "cell_type": "code",
   "execution_count": null,
   "metadata": {},
   "outputs": [],
   "source": [
    "fig = scatter2d(2*[df_[corr_main]],[df_[\"NMR_const_rot2\"],line],lines=False,markers=True,size_list=[2,2],inline=True)"
   ]
  },
  {
   "cell_type": "code",
   "execution_count": null,
   "metadata": {},
   "outputs": [],
   "source": [
    "# rotation of axes"
   ]
  },
  {
   "cell_type": "code",
   "execution_count": null,
   "metadata": {},
   "outputs": [],
   "source": [
    "y_old = df[\"NMR_const_rot2\"]"
   ]
  },
  {
   "cell_type": "code",
   "execution_count": null,
   "metadata": {},
   "outputs": [],
   "source": [
    "theta_guess = np.arctan(slope)#np.arctan(1/slope)\n",
    "theta_guess"
   ]
  },
  {
   "cell_type": "code",
   "execution_count": null,
   "metadata": {},
   "outputs": [],
   "source": [
    "theta_guess/ np.pi"
   ]
  },
  {
   "cell_type": "code",
   "execution_count": null,
   "metadata": {},
   "outputs": [],
   "source": [
    "#theta = 1.99*(np.pi/4)\n",
    "theta = -theta_guess# * 1800"
   ]
  },
  {
   "cell_type": "code",
   "execution_count": null,
   "metadata": {},
   "outputs": [],
   "source": [
    "x = np.cos(theta) * df[corr_main] - np.sin(theta) * y_old\n",
    "y = np.sin(theta) * df[corr_main] + np.cos(theta) * y_old"
   ]
  },
  {
   "cell_type": "code",
   "execution_count": null,
   "metadata": {},
   "outputs": [],
   "source": [
    "fig = scatter2d(x, y, df.days_delta, [\"Viridis\"])"
   ]
  },
  {
   "cell_type": "code",
   "execution_count": null,
   "metadata": {},
   "outputs": [],
   "source": [
    "df[\"NMR_const_rot3\"] = y"
   ]
  },
  {
   "cell_type": "code",
   "execution_count": null,
   "metadata": {},
   "outputs": [],
   "source": [
    "fig = histo([df[col] for col in [\"NMR [T]\", \"NMR_const_rot\", \"NMR_const_rot2\", \"NMR_const_rot3\"]], bins=75)"
   ]
  },
  {
   "cell_type": "code",
   "execution_count": null,
   "metadata": {
    "scrolled": false
   },
   "outputs": [],
   "source": [
    "fig = scatter2d(df.index, df[\"NMR [T]\"])\n",
    "fig = scatter2d(df.index, df[\"NMR_const_rot\"])\n",
    "fig = scatter2d(df.index, df[\"NMR_const_rot2\"])\n",
    "fig = scatter2d(df.index, df[\"NMR_const_rot3\"])"
   ]
  },
  {
   "cell_type": "code",
   "execution_count": null,
   "metadata": {},
   "outputs": [],
   "source": [
    "fig = scatter2d(df[\"Zaber_Meas_MicroStep_Z\"], df[\"NMR_const_rot3\"], df[\"days_delta\"], [\"Viridis\"])"
   ]
  },
  {
   "cell_type": "code",
   "execution_count": null,
   "metadata": {},
   "outputs": [],
   "source": []
  },
  {
   "cell_type": "markdown",
   "metadata": {},
   "source": [
    "## NMR Equation / Fitting"
   ]
  },
  {
   "cell_type": "code",
   "execution_count": null,
   "metadata": {},
   "outputs": [],
   "source": [
    "df_ = df#[\"11-11-19 09:00:00\":\"11-12-19 9:00:00\"]#df[\"11-09-19 12:00:00\":\"11-12-19 9:00:00\"]\n",
    "primary_corr = dict()\n",
    "for col in df.columns:\n",
    "    if df_[col].dtype == np.float64:\n",
    "        slope_v, intercept_v, r_value_v, p_value_v, std_err_v = stats.linregress(df_[col], df_[\"NMR [T]\"])\n",
    "        #print(col,r_value_v,p_value_v,std_err_v)\n",
    "        primary_corr[col] = r_value_v\n",
    "\n",
    "sorted_primary_corr = sorted(primary_corr.items(), key=operator.itemgetter(1))\n",
    "\n",
    "sorted_primary_corr"
   ]
  },
  {
   "cell_type": "code",
   "execution_count": null,
   "metadata": {},
   "outputs": [],
   "source": [
    "df[\"Zaber_Meas_MicroStep_Z\"].plot()"
   ]
  },
  {
   "cell_type": "code",
   "execution_count": null,
   "metadata": {},
   "outputs": [],
   "source": [
    "import scipy.optimize as optimization"
   ]
  },
  {
   "cell_type": "code",
   "execution_count": null,
   "metadata": {},
   "outputs": [],
   "source": [
    "def field_strength_func(DATA, A, B, C, D):\n",
    "    YOKE, ENC, WATER = DATA\n",
    "    return A * YOKE + B * ENC + C * WATER + D"
   ]
  },
  {
   "cell_type": "code",
   "execution_count": null,
   "metadata": {},
   "outputs": [],
   "source": [
    "guess = np.array([-1e-4, -1e-5, -1e-6, 1.249])"
   ]
  },
  {
   "cell_type": "code",
   "execution_count": null,
   "metadata": {},
   "outputs": [],
   "source": [
    "#x_dat = np.vstack([df[\"Yoke (center magnet)\"],df[\"Chamber Wall CH16\"],df[\"Coil 1 (new)\"]])\n",
    "x_dat = np.vstack([df[\"Yoke\"],df[\"Floor\"],df[\"ICW HE1 out\"]])\n",
    "#x_dat2 = np.vstack([df[\"Yoke (center magnet)\"],df[\"140000000D5FB53A_Cal_T\"],df[\"LCW in Coil 2\"]])\n",
    "x_dat2 = np.vstack([df[\"Yoke (center magnet)\"],df[\"140000000D5FB53A_Cal_T\"],df[\"LCW in Coil 2\"]])"
   ]
  },
  {
   "cell_type": "code",
   "execution_count": null,
   "metadata": {},
   "outputs": [],
   "source": [
    "x_dat[2]"
   ]
  },
  {
   "cell_type": "code",
   "execution_count": null,
   "metadata": {},
   "outputs": [],
   "source": [
    "field_strength_func(x_dat, -1e-4, -1e-5, -1e-6, 1.249)"
   ]
  },
  {
   "cell_type": "code",
   "execution_count": null,
   "metadata": {},
   "outputs": [],
   "source": [
    "params, cov = optimization.curve_fit(field_strength_func, x_dat, df[\"NMR [T]\"], guess)\n",
    "params2, cov2 = optimization.curve_fit(field_strength_func, x_dat2, df[\"NMR [T]\"], guess)"
   ]
  },
  {
   "cell_type": "code",
   "execution_count": null,
   "metadata": {},
   "outputs": [],
   "source": [
    "A_fit, B_fit, C_fit, D_fit = params\n",
    "A_fit2, B_fit2, C_fit2, D_fit2 = params2"
   ]
  },
  {
   "cell_type": "code",
   "execution_count": null,
   "metadata": {},
   "outputs": [],
   "source": [
    "params, params2"
   ]
  },
  {
   "cell_type": "code",
   "execution_count": null,
   "metadata": {},
   "outputs": [],
   "source": [
    "cov, cov2"
   ]
  },
  {
   "cell_type": "code",
   "execution_count": null,
   "metadata": {},
   "outputs": [],
   "source": [
    "df[\"NMR_lsq\"] = field_strength_func(x_dat, A_fit, B_fit, C_fit, D_fit)\n",
    "df[\"NMR_lsq2\"] = field_strength_func(x_dat2, A_fit2, B_fit2, C_fit2, D_fit2)"
   ]
  },
  {
   "cell_type": "code",
   "execution_count": null,
   "metadata": {},
   "outputs": [],
   "source": [
    "fig = scatter2d([df[\"NMR_lsq\"], df[\"NMR_lsq2\"]], 2*[df[\"NMR [T]\"]], 2*[df.days_delta], show_plot=False)\n",
    "plot(fig)"
   ]
  },
  {
   "cell_type": "code",
   "execution_count": null,
   "metadata": {},
   "outputs": [],
   "source": [
    "fig = scatter2d(df[\"NMR_lsq\"], df[\"NMR [T]\"], df.days_delta, [\"Viridis\"], show_plot=False)\n",
    "#fig = scatter2d(df[\"NMR_lsq2\"], df[\"NMR [T]\"], df.days_delta, [\"Viridis\"], show_plot=False)\n",
    "fig.update_xaxes(title=\"|B| (calculated)\")\n",
    "fig.update_yaxes(title=\"NMR [T] (measured)\")\n",
    "fig.update_layout(title=\"Measured vs. Calculated |B|\")\n",
    "plot(fig)"
   ]
  },
  {
   "cell_type": "code",
   "execution_count": null,
   "metadata": {},
   "outputs": [],
   "source": [
    "filename = \"NMR_measured_vs_calculated\"\n",
    "pio.write_image(fig, plotdir+filename+\".pdf\")\n",
    "pio.write_image(fig, plotdir+filename+\".png\")"
   ]
  },
  {
   "cell_type": "code",
   "execution_count": null,
   "metadata": {},
   "outputs": [],
   "source": [
    "df[\"LSQ_RES_REL\"] = (df[\"NMR [T]\"] - df[\"NMR_lsq\"]) / df[\"NMR [T]\"]\n",
    "df[\"LSQ2_RES_REL\"] = (df[\"NMR [T]\"] - df[\"NMR_lsq2\"]) / df[\"NMR [T]\"]\n",
    "df[\"LSQ_RES\"] = (df[\"NMR [T]\"] - df[\"NMR_lsq\"])\n",
    "df[\"LSQ2_RES\"] = (df[\"NMR [T]\"] - df[\"NMR_lsq2\"])"
   ]
  },
  {
   "cell_type": "code",
   "execution_count": null,
   "metadata": {},
   "outputs": [],
   "source": [
    "fig = scatter2d(df[\"NMR_lsq\"], df[\"LSQ_RES_REL\"], df.days_delta, [\"Viridis\"], show_plot=False)\n",
    "#fig = scatter2d(df[\"NMR_lsq2\"], df[\"LSQ2_RES_REL\"], df.days_delta, [\"Viridis\"], show_plot=False)\n",
    "plot(fig)"
   ]
  },
  {
   "cell_type": "code",
   "execution_count": null,
   "metadata": {},
   "outputs": [],
   "source": [
    "fig.update_traces(marker=dict(size=5))\n",
    "plot(fig)"
   ]
  },
  {
   "cell_type": "code",
   "execution_count": null,
   "metadata": {},
   "outputs": [],
   "source": [
    "fig = scatter2d(df.index, df[\"LSQ2_RES_REL\"], df.days_delta, [\"Viridis\"], show_plot=False)\n",
    "plot(fig)"
   ]
  },
  {
   "cell_type": "code",
   "execution_count": null,
   "metadata": {},
   "outputs": [],
   "source": [
    "fig.update_traces(marker=dict(size=5));\n",
    "plot(fig)"
   ]
  },
  {
   "cell_type": "code",
   "execution_count": null,
   "metadata": {},
   "outputs": [],
   "source": [
    "fig = histo(df[\"LSQ2_RES\"], bins=100, show_plot=False)# opacity=0.7)\n",
    "fig.update_xaxes(title=\"( NMR_Meas - |B|(calculated) )\")\n",
    "fig.update_layout(title=\"|B| Calculation Residuals\")\n",
    "plot(fig)"
   ]
  },
  {
   "cell_type": "code",
   "execution_count": null,
   "metadata": {},
   "outputs": [],
   "source": [
    "fig = histo(df[\"LSQ2_RES_REL\"], bins=100, yscale=\"log\", show_plot=False)# opacity=0.7)\n",
    "fig.update_xaxes(title=\"( NMR_Meas - |B|(calculated) ) / NMR_Meas\")\n",
    "fig.update_layout(title=\"|B| Calculation Relative Residuals\");\n",
    "plot(fig)"
   ]
  },
  {
   "cell_type": "code",
   "execution_count": null,
   "metadata": {},
   "outputs": [],
   "source": [
    "filename = \"NMR_calculation_res_hist\"\n",
    "pio.write_image(fig, plotdir+filename+\".pdf\")\n",
    "pio.write_image(fig, plotdir+filename+\".png\")"
   ]
  },
  {
   "cell_type": "code",
   "execution_count": null,
   "metadata": {},
   "outputs": [],
   "source": [
    "fig = histo([df[\"LSQ_RES_REL\"],df[\"LSQ2_RES_REL\"],], bins=75, opacity=0.7)"
   ]
  },
  {
   "cell_type": "code",
   "execution_count": null,
   "metadata": {},
   "outputs": [],
   "source": [
    "import scipy.stats as stats"
   ]
  },
  {
   "cell_type": "raw",
   "metadata": {},
   "source": []
  },
  {
   "cell_type": "code",
   "execution_count": null,
   "metadata": {},
   "outputs": [],
   "source": [
    "chi2 = np.sum(np.square((df[\"NMR [T]\"] - df[\"NMR_lsq2\"])/2.9e-6))"
   ]
  },
  {
   "cell_type": "code",
   "execution_count": null,
   "metadata": {},
   "outputs": [],
   "source": [
    "chi2"
   ]
  },
  {
   "cell_type": "code",
   "execution_count": null,
   "metadata": {},
   "outputs": [],
   "source": [
    "dof = len(df) - 4 # 4 param fit\n",
    "chis = np.linspace(0, 10000, 100000)\n",
    "pdf = stats.chi2.pdf(chis, dof)"
   ]
  },
  {
   "cell_type": "code",
   "execution_count": null,
   "metadata": {},
   "outputs": [],
   "source": [
    "dof"
   ]
  },
  {
   "cell_type": "code",
   "execution_count": null,
   "metadata": {},
   "outputs": [],
   "source": [
    "chi2 / dof"
   ]
  },
  {
   "cell_type": "code",
   "execution_count": null,
   "metadata": {},
   "outputs": [],
   "source": [
    "plt.plot(chis, pdf, label=r\"p.d.f., $\\nu = 2$\")"
   ]
  },
  {
   "cell_type": "code",
   "execution_count": null,
   "metadata": {},
   "outputs": [],
   "source": [
    "dof\n",
    "\n",
    "plt.plot(chis/dof, pdf, label=r\"p.d.f., $\\nu = 2$\")\n",
    "plt.plot([chi2/dof, chi2/dof],[0, (pdf).max()], \"r--\", label= rf\"$\\chi^2_{{min}} =${chi2/dof:.3f}\")\n",
    "plt.xlabel(r\"$\\chi^2$\")\n",
    "plt.ylabel(\"p.d.f.\")\n",
    "plt.legend();"
   ]
  },
  {
   "cell_type": "code",
   "execution_count": null,
   "metadata": {},
   "outputs": [],
   "source": []
  },
  {
   "cell_type": "markdown",
   "metadata": {},
   "source": [
    "### Checking out current (when we have DMM)"
   ]
  },
  {
   "cell_type": "code",
   "execution_count": null,
   "metadata": {},
   "outputs": [],
   "source": [
    "df_ = df[df[\"Magnet Current [A]\"] > 0]"
   ]
  },
  {
   "cell_type": "code",
   "execution_count": null,
   "metadata": {},
   "outputs": [],
   "source": [
    "len(df_)"
   ]
  },
  {
   "cell_type": "code",
   "execution_count": null,
   "metadata": {},
   "outputs": [],
   "source": [
    "len(df)"
   ]
  },
  {
   "cell_type": "code",
   "execution_count": null,
   "metadata": {},
   "outputs": [],
   "source": [
    "df_[\"NMR [T]\"].plot()"
   ]
  },
  {
   "cell_type": "code",
   "execution_count": null,
   "metadata": {
    "scrolled": true
   },
   "outputs": [],
   "source": [
    "fig = scatter2d(df_[\"Magnet Current [A]\"], df_[\"NMR [T]\"], df_.days_delta)"
   ]
  },
  {
   "cell_type": "markdown",
   "metadata": {},
   "source": [
    "### More Fitting (using current)"
   ]
  },
  {
   "cell_type": "code",
   "execution_count": null,
   "metadata": {},
   "outputs": [],
   "source": [
    "df[df[\"Magnet Current [A]\"] != 0].tail()"
   ]
  },
  {
   "cell_type": "code",
   "execution_count": null,
   "metadata": {},
   "outputs": [],
   "source": [
    "df_ = df[:\"11-11-19 02:55:00\"]#[\"11-11-19 09:00:00\":\"11-12-19 9:00:00\"]#df[\"11-09-19 12:00:00\":\"11-12-19 9:00:00\"]\n",
    "primary_corr = dict()\n",
    "for col in df.columns:\n",
    "    if df_[col].dtype == np.float64:\n",
    "        slope_v, intercept_v, r_value_v, p_value_v, std_err_v = stats.linregress(df_[col], df_[\"NMR [T]\"])\n",
    "        #print(col,r_value_v,p_value_v,std_err_v)\n",
    "        primary_corr[col] = r_value_v\n",
    "\n",
    "sorted_primary_corr = sorted(primary_corr.items(), key=operator.itemgetter(1))\n",
    "\n",
    "sorted_primary_corr"
   ]
  },
  {
   "cell_type": "code",
   "execution_count": null,
   "metadata": {},
   "outputs": [],
   "source": [
    "import scipy.optimize as optimization"
   ]
  },
  {
   "cell_type": "code",
   "execution_count": null,
   "metadata": {},
   "outputs": [],
   "source": [
    "def field_strength_func(DATA, A, B, C, D):\n",
    "    CURRENT, YOKE, ENC, WATER = DATA\n",
    "    return A * YOKE + B * ENC + C * WATER + D * CURRENT"
   ]
  },
  {
   "cell_type": "code",
   "execution_count": null,
   "metadata": {},
   "outputs": [],
   "source": [
    "guess = np.array([-1e-4, -1e-5, -1e-6, 1.249 / df_[\"Magnet Current [A]\"].max()])"
   ]
  },
  {
   "cell_type": "code",
   "execution_count": null,
   "metadata": {},
   "outputs": [],
   "source": [
    "x_dat = np.vstack([df_[\"Magnet Current [A]\"],df_[\"Yoke (center magnet)\"],df_[\"Chamber Wall CH16\"],df_[\"Coil 1 (new)\"]])\n",
    "x_dat2 = np.vstack([df_[\"Magnet Current [A]\"],df_[\"Yoke (center magnet)\"],df_[\"140000000D5FB53A_Cal_T\"],df_[\"LCW in Coil 2\"]])"
   ]
  },
  {
   "cell_type": "code",
   "execution_count": null,
   "metadata": {},
   "outputs": [],
   "source": [
    "x_dat[2]"
   ]
  },
  {
   "cell_type": "code",
   "execution_count": null,
   "metadata": {},
   "outputs": [],
   "source": [
    "field_strength_func(x_dat, -1e-4, -1e-5, -1e-6, 1.249 / 230)"
   ]
  },
  {
   "cell_type": "code",
   "execution_count": null,
   "metadata": {},
   "outputs": [],
   "source": [
    "params, cov = optimization.curve_fit(field_strength_func, x_dat, df_[\"NMR [T]\"], guess)\n",
    "params2, cov2 = optimization.curve_fit(field_strength_func, x_dat2, df_[\"NMR [T]\"], guess)"
   ]
  },
  {
   "cell_type": "code",
   "execution_count": null,
   "metadata": {},
   "outputs": [],
   "source": [
    "A_fit, B_fit, C_fit, D_fit = params\n",
    "A_fit2, B_fit2, C_fit2, D_fit2 = params2"
   ]
  },
  {
   "cell_type": "code",
   "execution_count": null,
   "metadata": {},
   "outputs": [],
   "source": [
    "params, params2"
   ]
  },
  {
   "cell_type": "code",
   "execution_count": null,
   "metadata": {},
   "outputs": [],
   "source": [
    "cov, cov2"
   ]
  },
  {
   "cell_type": "code",
   "execution_count": null,
   "metadata": {},
   "outputs": [],
   "source": [
    "df_[\"NMR_lsq\"] = field_strength_func(x_dat, A_fit, B_fit, C_fit, D_fit)\n",
    "df_[\"NMR_lsq2\"] = field_strength_func(x_dat2, A_fit2, B_fit2, C_fit2, D_fit2)"
   ]
  },
  {
   "cell_type": "code",
   "execution_count": null,
   "metadata": {},
   "outputs": [],
   "source": [
    "fig = scatter2d([df_[\"NMR_lsq\"], df_[\"NMR_lsq2\"]], 2*[df_[\"NMR [T]\"]], 2*[df_.days_delta])"
   ]
  },
  {
   "cell_type": "code",
   "execution_count": null,
   "metadata": {},
   "outputs": [],
   "source": [
    "fig = scatter2d(df_[\"NMR_lsq\"], df_[\"NMR [T]\"], df_.days_delta, [\"Viridis\"], show_plot=False)\n",
    "fig.update_xaxes(title=\"|B| (calculated)\")\n",
    "fig.update_yaxes(title=\"NMR [T] (measured)\")\n",
    "fig.update_layout(title=\"Measured vs. Calculated |B|\")"
   ]
  },
  {
   "cell_type": "code",
   "execution_count": null,
   "metadata": {},
   "outputs": [],
   "source": [
    "#filename = \"NMR_measured_vs_calculated\"\n",
    "#pio.write_image(fig, plotdir+filename+\".pdf\")\n",
    "#pio.write_image(fig, plotdir+filename+\".png\")"
   ]
  },
  {
   "cell_type": "code",
   "execution_count": null,
   "metadata": {},
   "outputs": [],
   "source": [
    "df_[\"LSQ_RES_REL\"] = (df_[\"NMR [T]\"] - df_[\"NMR_lsq\"]) / df_[\"NMR [T]\"]\n",
    "df_[\"LSQ2_RES_REL\"] = (df_[\"NMR [T]\"] - df_[\"NMR_lsq2\"]) / df_[\"NMR [T]\"]\n",
    "df_[\"LSQ_RES\"] = (df_[\"NMR [T]\"] - df_[\"NMR_lsq\"])\n",
    "df_[\"LSQ2_RES\"] = (df_[\"NMR [T]\"] - df_[\"NMR_lsq2\"])"
   ]
  },
  {
   "cell_type": "code",
   "execution_count": null,
   "metadata": {},
   "outputs": [],
   "source": [
    "fig = scatter2d(df_[\"NMR_lsq2\"], df_[\"LSQ2_RES_REL\"], df_.days_delta, [\"Viridis\"], show_plot=True)"
   ]
  },
  {
   "cell_type": "code",
   "execution_count": null,
   "metadata": {},
   "outputs": [],
   "source": [
    "fig.update_traces(marker=dict(size=5))"
   ]
  },
  {
   "cell_type": "code",
   "execution_count": null,
   "metadata": {},
   "outputs": [],
   "source": [
    "fig = scatter2d(df_.index, df_[\"LSQ_RES_REL\"], df_.days_delta, [\"Viridis\"], show_plot=True)"
   ]
  },
  {
   "cell_type": "code",
   "execution_count": null,
   "metadata": {},
   "outputs": [],
   "source": [
    "fig.update_traces(marker=dict(size=5))"
   ]
  },
  {
   "cell_type": "code",
   "execution_count": null,
   "metadata": {},
   "outputs": [],
   "source": [
    "fig = histo(df_[\"LSQ2_RES\"], bins=50, show_plot=False)# opacity=0.7)\n",
    "fig.update_xaxes(title=\"( NMR_Meas - |B|(calculated) )\")\n",
    "fig.update_layout(title=\"|B| Calculation Residuals\")"
   ]
  },
  {
   "cell_type": "code",
   "execution_count": null,
   "metadata": {},
   "outputs": [],
   "source": [
    "fig = histo(df_[\"LSQ_RES_REL\"], bins=50, show_plot=False)# opacity=0.7)\n",
    "fig.update_xaxes(title=\"( NMR_Meas - |B|(calculated) ) / NMR_Meas\")\n",
    "fig.update_layout(title=\"|B| Calculation Relative Residuals\")"
   ]
  },
  {
   "cell_type": "code",
   "execution_count": null,
   "metadata": {},
   "outputs": [],
   "source": [
    "#filename = \"NMR_calculation_res_hist\"\n",
    "#pio.write_image(fig, plotdir+filename+\".pdf\")\n",
    "#pio.write_image(fig, plotdir+filename+\".png\")"
   ]
  },
  {
   "cell_type": "code",
   "execution_count": null,
   "metadata": {},
   "outputs": [],
   "source": [
    "fig = histo([df_[\"LSQ_RES_REL\"],df_[\"LSQ2_RES_REL\"],], bins=75, opacity=0.7)"
   ]
  },
  {
   "cell_type": "code",
   "execution_count": null,
   "metadata": {},
   "outputs": [],
   "source": []
  },
  {
   "cell_type": "markdown",
   "metadata": {
    "heading_collapsed": true
   },
   "source": [
    "## Look here sometime"
   ]
  },
  {
   "cell_type": "code",
   "execution_count": null,
   "metadata": {
    "hidden": true
   },
   "outputs": [],
   "source": []
  },
  {
   "cell_type": "code",
   "execution_count": null,
   "metadata": {
    "hidden": true
   },
   "outputs": [],
   "source": [
    "df_ = df#[\"11-11-19 09:00:00\":\"11-12-19 9:00:00\"]#df[\"11-09-19 12:00:00\":\"11-12-19 9:00:00\"]\n",
    "primary_corr = dict()\n",
    "for col in df.columns:\n",
    "    if df_[col].dtype == np.float64:\n",
    "        slope_v, intercept_v, r_value_v, p_value_v, std_err_v = stats.linregress(df_[col], df_[\"NMR_const_rot3\"])\n",
    "        #print(col,r_value_v,p_value_v,std_err_v)\n",
    "        primary_corr[col] = r_value_v\n",
    "\n",
    "sorted_primary_corr = sorted(primary_corr.items(), key=operator.itemgetter(1))\n",
    "\n",
    "sorted_primary_corr"
   ]
  },
  {
   "cell_type": "code",
   "execution_count": null,
   "metadata": {
    "hidden": true
   },
   "outputs": [],
   "source": [
    "corr_main = 'LCW in Coil 2'\n",
    "#corr_main = \"Yoke\"\n",
    "#corr_main = '140000000D5FB53A_Cal_Res'\n",
    "#corr_main = \"Yoke (center magnet)\"\n",
    "#corr_main = \"Floor\"\n",
    "\n",
    "filestart = corr_main.strip().lower()\n",
    "\n",
    "slope, intercept, r_value, p_value, std_err = stats.linregress(df_[corr_main], df_[\"NMR_const_rot2\"])"
   ]
  },
  {
   "cell_type": "code",
   "execution_count": null,
   "metadata": {
    "hidden": true
   },
   "outputs": [],
   "source": [
    "slope"
   ]
  },
  {
   "cell_type": "code",
   "execution_count": null,
   "metadata": {
    "hidden": true
   },
   "outputs": [],
   "source": [
    "line = slope * df_[corr_main] + intercept"
   ]
  },
  {
   "cell_type": "code",
   "execution_count": null,
   "metadata": {
    "hidden": true
   },
   "outputs": [],
   "source": [
    "fig = scatter2d(2*[df_[corr_main]],[df_[\"NMR_const_rot2\"],line],lines=False,markers=True,size_list=[2,2],inline=True)"
   ]
  },
  {
   "cell_type": "code",
   "execution_count": null,
   "metadata": {
    "hidden": true
   },
   "outputs": [],
   "source": [
    "# rotation of axes"
   ]
  },
  {
   "cell_type": "code",
   "execution_count": null,
   "metadata": {
    "hidden": true
   },
   "outputs": [],
   "source": [
    "y_old = df[\"NMR_const_rot2\"]"
   ]
  },
  {
   "cell_type": "code",
   "execution_count": null,
   "metadata": {
    "hidden": true
   },
   "outputs": [],
   "source": [
    "theta_guess = np.arctan(slope)#np.arctan(1/slope)\n",
    "theta_guess"
   ]
  },
  {
   "cell_type": "code",
   "execution_count": null,
   "metadata": {
    "hidden": true
   },
   "outputs": [],
   "source": [
    "theta_guess/ np.pi"
   ]
  },
  {
   "cell_type": "code",
   "execution_count": null,
   "metadata": {
    "hidden": true
   },
   "outputs": [],
   "source": [
    "#theta = 1.99*(np.pi/4)\n",
    "theta = -theta_guess# * 1800"
   ]
  },
  {
   "cell_type": "code",
   "execution_count": null,
   "metadata": {
    "hidden": true
   },
   "outputs": [],
   "source": [
    "x = np.cos(theta) * df[corr_main] - np.sin(theta) * y_old\n",
    "y = np.sin(theta) * df[corr_main] + np.cos(theta) * y_old"
   ]
  },
  {
   "cell_type": "code",
   "execution_count": null,
   "metadata": {
    "hidden": true
   },
   "outputs": [],
   "source": [
    "fig = scatter2d(x, y, df.days_delta)"
   ]
  },
  {
   "cell_type": "code",
   "execution_count": null,
   "metadata": {
    "hidden": true
   },
   "outputs": [],
   "source": [
    "df[\"NMR_const_rot3\"] = y"
   ]
  },
  {
   "cell_type": "code",
   "execution_count": null,
   "metadata": {
    "hidden": true
   },
   "outputs": [],
   "source": [
    "fig = histo([df[col] for col in [\"NMR [T]\", \"NMR_const_rot\", \"NMR_const_rot2\", \"NMR_const_rot3\"]], bins=75)"
   ]
  },
  {
   "cell_type": "code",
   "execution_count": null,
   "metadata": {
    "hidden": true
   },
   "outputs": [],
   "source": []
  },
  {
   "cell_type": "code",
   "execution_count": null,
   "metadata": {
    "hidden": true
   },
   "outputs": [],
   "source": []
  },
  {
   "cell_type": "code",
   "execution_count": null,
   "metadata": {
    "hidden": true
   },
   "outputs": [],
   "source": []
  },
  {
   "cell_type": "code",
   "execution_count": null,
   "metadata": {
    "hidden": true
   },
   "outputs": [],
   "source": [
    "fig = scatter2d(df.index, df[\"Magnet Current [A]\"])"
   ]
  },
  {
   "cell_type": "code",
   "execution_count": null,
   "metadata": {
    "hidden": true
   },
   "outputs": [],
   "source": [
    "fig = scatter2d(df.index, df[\"Desk Ambient\"])"
   ]
  },
  {
   "cell_type": "code",
   "execution_count": null,
   "metadata": {
    "hidden": true
   },
   "outputs": [],
   "source": [
    "fig = scatter2d(2*[df.index], [(df[col]-df[col].mean())/df[col].std() for col in [\"Magnet Current [A]\", \"Desk Ambient\"]])"
   ]
  },
  {
   "cell_type": "code",
   "execution_count": null,
   "metadata": {
    "hidden": true
   },
   "outputs": [],
   "source": [
    "df_per = df[\"11-09-2019 12:00:00\":]"
   ]
  },
  {
   "cell_type": "code",
   "execution_count": null,
   "metadata": {
    "hidden": true
   },
   "outputs": [],
   "source": [
    "fig = scatter2d(2*[df_per.index], [(df_per[col]-df_per[col].mean())/df_per[col].std() for col in [\"Magnet Current [A]\", \"Desk Ambient\"]])"
   ]
  },
  {
   "cell_type": "code",
   "execution_count": null,
   "metadata": {
    "hidden": true
   },
   "outputs": [],
   "source": [
    "np.fft.fft(df_per[\"Magnet Current [A]\"])"
   ]
  },
  {
   "cell_type": "code",
   "execution_count": null,
   "metadata": {
    "hidden": true
   },
   "outputs": [],
   "source": [
    "import scipy.fftpack"
   ]
  },
  {
   "cell_type": "code",
   "execution_count": null,
   "metadata": {
    "hidden": true
   },
   "outputs": [],
   "source": [
    "from scipy.signal import blackman"
   ]
  },
  {
   "cell_type": "code",
   "execution_count": null,
   "metadata": {
    "hidden": true
   },
   "outputs": [],
   "source": [
    "elapsed_ = (df_per.index[-1] - df_per.index[0])\n",
    "elapsed = elapsed_.total_seconds()\n",
    "elapsed_, elapsed"
   ]
  },
  {
   "cell_type": "code",
   "execution_count": null,
   "metadata": {
    "hidden": true
   },
   "outputs": [],
   "source": [
    "N = len(df_per) # samples\n",
    "T = N / elapsed # sample per second (sampling freq)"
   ]
  },
  {
   "cell_type": "code",
   "execution_count": null,
   "metadata": {
    "hidden": true
   },
   "outputs": [],
   "source": [
    "T"
   ]
  },
  {
   "cell_type": "code",
   "execution_count": null,
   "metadata": {
    "hidden": true
   },
   "outputs": [],
   "source": [
    "1 / T"
   ]
  },
  {
   "cell_type": "code",
   "execution_count": null,
   "metadata": {
    "hidden": true
   },
   "outputs": [],
   "source": [
    "df_per[\"seconds_delta\"] = (df_per.index - df_per.index[0]).total_seconds()"
   ]
  },
  {
   "cell_type": "code",
   "execution_count": null,
   "metadata": {
    "hidden": true
   },
   "outputs": [],
   "source": [
    "df_per[\"seconds_delta\"].head()"
   ]
  },
  {
   "cell_type": "code",
   "execution_count": null,
   "metadata": {
    "hidden": true
   },
   "outputs": [],
   "source": [
    "w = blackman(N)"
   ]
  },
  {
   "cell_type": "code",
   "execution_count": null,
   "metadata": {
    "hidden": true
   },
   "outputs": [],
   "source": [
    "x = df_per[\"seconds_delta\"].values\n",
    "y = df_per[\"Magnet Current [A]\"].values\n",
    "yf = scipy.fftpack.fft(y*w)\n",
    "xf = np.linspace(0.0, 1.0/(2.0*T), N/2)"
   ]
  },
  {
   "cell_type": "code",
   "execution_count": null,
   "metadata": {
    "hidden": true
   },
   "outputs": [],
   "source": [
    "N"
   ]
  },
  {
   "cell_type": "code",
   "execution_count": null,
   "metadata": {
    "hidden": true
   },
   "outputs": [],
   "source": [
    "fig = scatter2d(xf, 2.0/N * np.abs(yf[:N//2]))"
   ]
  },
  {
   "cell_type": "code",
   "execution_count": null,
   "metadata": {
    "hidden": true
   },
   "outputs": [],
   "source": []
  },
  {
   "cell_type": "code",
   "execution_count": null,
   "metadata": {
    "hidden": true
   },
   "outputs": [],
   "source": [
    "# try 2"
   ]
  },
  {
   "cell_type": "code",
   "execution_count": null,
   "metadata": {
    "hidden": true
   },
   "outputs": [],
   "source": [
    "y = y - y.mean()"
   ]
  },
  {
   "cell_type": "code",
   "execution_count": null,
   "metadata": {
    "hidden": true
   },
   "outputs": [],
   "source": [
    "sig_fft = scipy.fftpack.fft(y)\n",
    "power = np.abs(sig_fft)\n",
    "sample_freq = scipy.fftpack.fftfreq(y.size, d=9.)"
   ]
  },
  {
   "cell_type": "code",
   "execution_count": null,
   "metadata": {
    "hidden": true
   },
   "outputs": [],
   "source": [
    "sample_freq"
   ]
  },
  {
   "cell_type": "code",
   "execution_count": null,
   "metadata": {
    "hidden": true
   },
   "outputs": [],
   "source": [
    "y.size"
   ]
  },
  {
   "cell_type": "code",
   "execution_count": null,
   "metadata": {
    "hidden": true
   },
   "outputs": [],
   "source": [
    "fig = scatter2d(x, y)"
   ]
  },
  {
   "cell_type": "code",
   "execution_count": null,
   "metadata": {
    "hidden": true
   },
   "outputs": [],
   "source": [
    "sample_freq"
   ]
  },
  {
   "cell_type": "code",
   "execution_count": null,
   "metadata": {
    "hidden": true
   },
   "outputs": [],
   "source": [
    "df_ = pd.DataFrame({\"f\":sample_freq, \"p\":power})#, columns=[\"f\", \"p\"])\n",
    "df_.sort_values(by=\"f\", inplace=True)"
   ]
  },
  {
   "cell_type": "code",
   "execution_count": null,
   "metadata": {
    "hidden": true
   },
   "outputs": [],
   "source": [
    "fig = scatter2d(df_.f, df_.p)"
   ]
  },
  {
   "cell_type": "code",
   "execution_count": null,
   "metadata": {
    "hidden": true
   },
   "outputs": [],
   "source": [
    "fig = scatter2d(sample_freq, power)"
   ]
  },
  {
   "cell_type": "code",
   "execution_count": null,
   "metadata": {
    "hidden": true
   },
   "outputs": [],
   "source": []
  },
  {
   "cell_type": "code",
   "execution_count": null,
   "metadata": {
    "hidden": true
   },
   "outputs": [],
   "source": [
    "# 6 hour period\n",
    "f_exp = 1 / (6*60*60)\n",
    "f_exp"
   ]
  },
  {
   "cell_type": "code",
   "execution_count": null,
   "metadata": {
    "hidden": true
   },
   "outputs": [],
   "source": [
    "df_per.head(1)"
   ]
  },
  {
   "cell_type": "code",
   "execution_count": null,
   "metadata": {
    "hidden": true
   },
   "outputs": [],
   "source": [
    "df_per.tail(1)"
   ]
  },
  {
   "cell_type": "code",
   "execution_count": null,
   "metadata": {
    "hidden": true
   },
   "outputs": [],
   "source": [
    "elapsed_ = (df_per.index[-1] - df_per.index[0])\n",
    "elapsed = elapsed_.total_seconds()\n",
    "elapsed_, elapsed"
   ]
  },
  {
   "cell_type": "code",
   "execution_count": null,
   "metadata": {
    "hidden": true
   },
   "outputs": [],
   "source": [
    "44001 / 60 / 60"
   ]
  },
  {
   "cell_type": "code",
   "execution_count": null,
   "metadata": {
    "hidden": true
   },
   "outputs": [],
   "source": [
    "N"
   ]
  },
  {
   "cell_type": "code",
   "execution_count": null,
   "metadata": {
    "hidden": true
   },
   "outputs": [],
   "source": [
    "elapsed / 60"
   ]
  },
  {
   "cell_type": "code",
   "execution_count": null,
   "metadata": {
    "hidden": true
   },
   "outputs": [],
   "source": [
    "df_cur.head()"
   ]
  },
  {
   "cell_type": "code",
   "execution_count": null,
   "metadata": {
    "hidden": true
   },
   "outputs": [],
   "source": [
    "df.head()"
   ]
  },
  {
   "cell_type": "code",
   "execution_count": null,
   "metadata": {
    "hidden": true
   },
   "outputs": [],
   "source": []
  },
  {
   "cell_type": "code",
   "execution_count": null,
   "metadata": {
    "hidden": true
   },
   "outputs": [],
   "source": [
    "fig = scatter2d(df_fast.iloc[299:902].seconds_delta, df_fast.iloc[299:902][\"Cal_3_Bmag\"], show_plot=False)"
   ]
  },
  {
   "cell_type": "code",
   "execution_count": null,
   "metadata": {
    "hidden": true
   },
   "outputs": [],
   "source": [
    "figprof_ = py_profile(df_fast.seconds_delta, df_fast[\"Cal_3_Bmag\"],\n",
    "                      xrange=[300.11895,900.35695],\n",
    "                      x_bins=20, show_plot=True)"
   ]
  },
  {
   "cell_type": "code",
   "execution_count": null,
   "metadata": {
    "hidden": true
   },
   "outputs": [],
   "source": [
    "figprof = py_profile(df_fast.iloc[300:901].seconds_delta, df_fast.iloc[300:901][\"Cal_3_Bmag\"],\n",
    "                     x_bins=20, show_plot=False)"
   ]
  },
  {
   "cell_type": "code",
   "execution_count": null,
   "metadata": {
    "hidden": true
   },
   "outputs": [],
   "source": [
    "figprof_.add_traces([figprof.data[0]])"
   ]
  },
  {
   "cell_type": "code",
   "execution_count": null,
   "metadata": {
    "hidden": true
   },
   "outputs": [],
   "source": [
    "fig.add_traces([figprof.data[0]])"
   ]
  },
  {
   "cell_type": "code",
   "execution_count": null,
   "metadata": {
    "hidden": true
   },
   "outputs": [],
   "source": [
    "15.00595*2"
   ]
  },
  {
   "cell_type": "code",
   "execution_count": null,
   "metadata": {
    "hidden": true
   },
   "outputs": [],
   "source": [
    "315.1249-15.00595"
   ]
  },
  {
   "cell_type": "code",
   "execution_count": null,
   "metadata": {
    "hidden": true
   },
   "outputs": [],
   "source": [
    "df_fast.iloc[300:901].seconds_delta.describe()"
   ]
  },
  {
   "cell_type": "code",
   "execution_count": null,
   "metadata": {
    "hidden": true
   },
   "outputs": [],
   "source": [
    "# bin size\n",
    "345.1368 - 315.1249"
   ]
  },
  {
   "cell_type": "code",
   "execution_count": null,
   "metadata": {
    "hidden": true
   },
   "outputs": [],
   "source": [
    "(end - start) / bins"
   ]
  },
  {
   "cell_type": "code",
   "execution_count": null,
   "metadata": {
    "hidden": true
   },
   "outputs": [],
   "source": [
    "start = 300.11895\n",
    "end = 900.35695\n",
    "\n",
    "delta_t = end - start\n",
    "\n",
    "bins = 20\n",
    "step = (end - start) / bins\n",
    "\n",
    "average_time = np.zeros(bins)\n",
    "average_cal = np.zeros(bins)\n",
    "std_cal = np.zeros(bins)"
   ]
  },
  {
   "cell_type": "code",
   "execution_count": null,
   "metadata": {
    "hidden": true
   },
   "outputs": [],
   "source": [
    "for i in range(bins):\n",
    "    minx = start + i*step\n",
    "    maxx = minx + step\n",
    "    midx = minx + step / 2\n",
    "    cal = df_fast.query(f\"(seconds_delta >= {minx}) & (seconds_delta < {maxx})\")[\"Cal_3_Bmag\"]\n",
    "    average_cal[i] = cal.mean()#cal.sum() / step\n",
    "    std_cal[i] = cal.std()\n",
    "    average_time[i] = midx"
   ]
  },
  {
   "cell_type": "code",
   "execution_count": null,
   "metadata": {
    "hidden": true
   },
   "outputs": [],
   "source": [
    "figavg = scatter2d(average_time, average_cal, lines=False, markers=True, size_list=[4])"
   ]
  },
  {
   "cell_type": "code",
   "execution_count": null,
   "metadata": {
    "hidden": true
   },
   "outputs": [],
   "source": [
    "fig.add_traces([figavg.data[0]])"
   ]
  },
  {
   "cell_type": "code",
   "execution_count": null,
   "metadata": {
    "hidden": true
   },
   "outputs": [],
   "source": [
    "(30**(1/2))"
   ]
  },
  {
   "cell_type": "code",
   "execution_count": null,
   "metadata": {
    "hidden": true
   },
   "outputs": [],
   "source": [
    "figprof, tprof = py_profile(df_fast.seconds_delta, df_fast[\"Cal_3_Bmag\"],\n",
    "                     xrange=[300,900],\n",
    "                     x_bins=20, show_plot=False, return_tprof=True)"
   ]
  },
  {
   "cell_type": "code",
   "execution_count": null,
   "metadata": {
    "hidden": true
   },
   "outputs": [],
   "source": [
    "fig.add_traces([figprof.data[0]])"
   ]
  },
  {
   "cell_type": "code",
   "execution_count": null,
   "metadata": {
    "hidden": true
   },
   "outputs": [],
   "source": [
    "df_nmr = df_slow.query(\"(seconds_delta > 299) & (seconds_delta < 901)\")"
   ]
  },
  {
   "cell_type": "code",
   "execution_count": null,
   "metadata": {
    "hidden": true
   },
   "outputs": [],
   "source": [
    "fignmr = scatter2d(df_nmr.seconds_delta, df_nmr[\" NMR [T]\"], show_plot=False)"
   ]
  },
  {
   "cell_type": "code",
   "execution_count": null,
   "metadata": {
    "hidden": true
   },
   "outputs": [],
   "source": [
    "fig.add_traces([fignmr.data[0]])"
   ]
  },
  {
   "cell_type": "code",
   "execution_count": null,
   "metadata": {
    "hidden": true
   },
   "outputs": [],
   "source": [
    "tprof"
   ]
  },
  {
   "cell_type": "code",
   "execution_count": null,
   "metadata": {
    "hidden": true
   },
   "outputs": [],
   "source": [
    "tprof.GetBinEntries(0)"
   ]
  },
  {
   "cell_type": "code",
   "execution_count": null,
   "metadata": {
    "hidden": true
   },
   "outputs": [],
   "source": []
  },
  {
   "cell_type": "code",
   "execution_count": null,
   "metadata": {
    "hidden": true
   },
   "outputs": [],
   "source": []
  },
  {
   "cell_type": "code",
   "execution_count": null,
   "metadata": {
    "hidden": true
   },
   "outputs": [],
   "source": []
  },
  {
   "cell_type": "code",
   "execution_count": null,
   "metadata": {
    "hidden": true
   },
   "outputs": [],
   "source": [
    "# test speed"
   ]
  },
  {
   "cell_type": "code",
   "execution_count": null,
   "metadata": {
    "hidden": true
   },
   "outputs": [],
   "source": [
    "%timeit figprof = py_profile(df_fast.seconds_delta, df_fast[\"Cal_3_Bmag\"],xrange=[300,900],x_bins=20, show_plot=False)"
   ]
  },
  {
   "cell_type": "code",
   "execution_count": null,
   "metadata": {
    "hidden": true
   },
   "outputs": [],
   "source": [
    "def pythonic_profile(x, y, x_bins, xrange=None, show_plot=True):\n",
    "    if xrange == None:\n",
    "        xrange = [x.min(), x.max()]\n",
    "    start = xrange[0]\n",
    "    end = xrange[1]\n",
    "\n",
    "    delta_t = end - start\n",
    "\n",
    "    bins = x_bins\n",
    "    step = (end - start) / bins\n",
    "\n",
    "    average_time = np.zeros(bins)\n",
    "    average_cal = np.zeros(bins)\n",
    "    std_cal = np.zeros(bins)\n",
    "\n",
    "    for i in range(bins):\n",
    "        minx = start + i*step\n",
    "        maxx = minx + step\n",
    "        midx = minx + step / 2\n",
    "        print(minx, midx, maxx)\n",
    "        #cal = x.query(f\"(seconds_delta >= {minx}) & (seconds_delta < {maxx})\")#[\"Cal_3_Bmag\"]\n",
    "        xmask = (x >= minx) & (x <= maxx)\n",
    "        cal = y[xmask]\n",
    "        print(i, len(cal))\n",
    "        average_cal[i] = cal.mean()#cal.sum() / step\n",
    "        std_cal[i] = cal.std() / len(cal)\n",
    "        average_time[i] = midx\n",
    "\n",
    "    fig = scatter2d(average_time, average_cal, lines=False, markers=True, size_list=[4], show_plot=False)\n",
    "    figavg.update_traces(error_y = dict(type=\"data\", array=std_cal, visible=True))\n",
    "    figavg.update_traces(error_x = dict(type=\"constant\", value=step/2, visible=True))\n",
    "    \n",
    "    return fig"
   ]
  },
  {
   "cell_type": "code",
   "execution_count": null,
   "metadata": {
    "hidden": true
   },
   "outputs": [],
   "source": [
    "figprof = pythonic_profile(df_fast.seconds_delta, df_fast[\"Cal_3_Bmag\"], x_bins=20, \n",
    "                           xrange=[300,900], show_plot=True)"
   ]
  },
  {
   "cell_type": "code",
   "execution_count": null,
   "metadata": {
    "hidden": true
   },
   "outputs": [],
   "source": [
    "df_fast.Cal_3_Bmag.describe()"
   ]
  },
  {
   "cell_type": "code",
   "execution_count": null,
   "metadata": {
    "hidden": true
   },
   "outputs": [],
   "source": [
    "figprof = py_profile(df_fast.seconds_delta, df_fast[\"Cal_3_Bmag\"],\n",
    "                     xrange=[300,900],\n",
    "                     x_bins=20, show_plot=True)"
   ]
  },
  {
   "cell_type": "code",
   "execution_count": null,
   "metadata": {
    "hidden": true
   },
   "outputs": [],
   "source": [
    "start = 300\n",
    "end = 900\n",
    "\n",
    "delta_t = end - start\n",
    "\n",
    "bins = 20\n",
    "step = (end - start) / bins\n",
    "\n",
    "average_time = np.zeros(bins)\n",
    "average_cal = np.zeros(bins)\n",
    "std_cal = np.zeros(bins)"
   ]
  },
  {
   "cell_type": "code",
   "execution_count": null,
   "metadata": {
    "hidden": true
   },
   "outputs": [],
   "source": [
    "for i in range(bins):\n",
    "    minx = start + i*step\n",
    "    maxx = minx + step\n",
    "    midx = minx + step / 2\n",
    "    cal = df_fast.query(f\"(seconds_delta >= {minx}) & (seconds_delta < {maxx})\")[\"Cal_3_Bmag\"]\n",
    "    average_cal[i] = cal.mean()#cal.sum() / step\n",
    "    std_cal[i] = cal.std() / np.sqrt(len(cal))\n",
    "    average_time[i] = midx"
   ]
  },
  {
   "cell_type": "code",
   "execution_count": null,
   "metadata": {
    "hidden": true
   },
   "outputs": [],
   "source": [
    "figavg = scatter2d(average_time, average_cal, lines=False, markers=True, size_list=[4])"
   ]
  },
  {
   "cell_type": "code",
   "execution_count": null,
   "metadata": {
    "hidden": true
   },
   "outputs": [],
   "source": [
    "#figavg.update_traces(error_y = dict(type=\"data\", array=std_cal, visible=True))\n",
    "#figavg.update_traces(error_x = dict(type=\"constant\", value=step/2, visible=True))"
   ]
  },
  {
   "cell_type": "code",
   "execution_count": null,
   "metadata": {
    "hidden": true
   },
   "outputs": [],
   "source": [
    "figprof.add_traces([figavg.data[0]])"
   ]
  },
  {
   "cell_type": "code",
   "execution_count": null,
   "metadata": {
    "hidden": true
   },
   "outputs": [],
   "source": [
    "P = 3\n",
    "N = 30#60#10#30#10#20#10#30#60\n",
    "df_fast.loc[:, f\"Cal_{P}_Bmag_Avg\"] = df_fast[f\"Cal_{P}_Bmag\"].rolling(window = N, center=True).mean()\n",
    "df_fast.loc[:, f\"Cal_{P}_Bmag_Avg_Res_Rel\"] = (df_fast[\"NMR\"] - df_fast[f\"Cal_{P}_Bmag_Avg\"])/df_fast[\"NMR\"]\n",
    "\n",
    "df_fast_5 = df_fast[N // 2::N]"
   ]
  },
  {
   "cell_type": "code",
   "execution_count": null,
   "metadata": {
    "hidden": true
   },
   "outputs": [],
   "source": [
    "figavgr = scatter2d(df_fast[300:901].seconds_delta, df_fast[300:901].Cal_3_Bmag_Avg, lines=False, markers=True, size_list=[4])"
   ]
  },
  {
   "cell_type": "code",
   "execution_count": null,
   "metadata": {
    "hidden": true
   },
   "outputs": [],
   "source": [
    "figprof.add_traces([figavgr.data[0]])"
   ]
  },
  {
   "cell_type": "code",
   "execution_count": null,
   "metadata": {
    "hidden": true
   },
   "outputs": [],
   "source": [
    "figavgr2 = scatter2d(df_fast_5[10:30].seconds_delta, df_fast_5[10:30].Cal_3_Bmag_Avg, lines=False, markers=True, size_list=[4])"
   ]
  },
  {
   "cell_type": "code",
   "execution_count": null,
   "metadata": {
    "hidden": true
   },
   "outputs": [],
   "source": [
    "figprof.add_traces([figavgr2.data[0]])"
   ]
  },
  {
   "cell_type": "code",
   "execution_count": null,
   "metadata": {
    "hidden": true
   },
   "outputs": [],
   "source": []
  },
  {
   "cell_type": "code",
   "execution_count": null,
   "metadata": {
    "hidden": true
   },
   "outputs": [],
   "source": [
    "avg_cal3 = [15+(i* 30) for i in range(20)]"
   ]
  },
  {
   "cell_type": "code",
   "execution_count": null,
   "metadata": {
    "hidden": true
   },
   "outputs": [],
   "source": [
    "df_avg = df[]"
   ]
  },
  {
   "cell_type": "code",
   "execution_count": null,
   "metadata": {
    "hidden": true
   },
   "outputs": [],
   "source": [
    "figavg = "
   ]
  },
  {
   "cell_type": "code",
   "execution_count": null,
   "metadata": {
    "hidden": true
   },
   "outputs": [],
   "source": [
    "fig.layout.yaxis.title = \"|Hall| [T]\""
   ]
  },
  {
   "cell_type": "code",
   "execution_count": null,
   "metadata": {
    "hidden": true
   },
   "outputs": [],
   "source": [
    "iplot(fig)"
   ]
  },
  {
   "cell_type": "code",
   "execution_count": null,
   "metadata": {
    "hidden": true
   },
   "outputs": [],
   "source": []
  },
  {
   "cell_type": "code",
   "execution_count": null,
   "metadata": {
    "hidden": true
   },
   "outputs": [],
   "source": []
  },
  {
   "cell_type": "code",
   "execution_count": null,
   "metadata": {
    "hidden": true
   },
   "outputs": [],
   "source": [
    "fig = scatter2d(df_fast[::10].index, df_fast[::10][\"Cal_3_Bmag\"])"
   ]
  },
  {
   "cell_type": "code",
   "execution_count": null,
   "metadata": {
    "hidden": true
   },
   "outputs": [],
   "source": [
    "fig = scatter2d(df_fast[::100].NMR, df_fast[::100].Cal_3_Bmag, lines=False, markers=True)"
   ]
  },
  {
   "cell_type": "code",
   "execution_count": null,
   "metadata": {
    "hidden": true
   },
   "outputs": [],
   "source": [
    "#for cal in [\"1\", \"2\", \"3\", \"4\", \"5\"]:\n",
    "#    fig = scatter2d(df_fast.index, df_fast[f\"Cal_{cal}_Bmag\"])"
   ]
  },
  {
   "cell_type": "markdown",
   "metadata": {
    "hidden": true
   },
   "source": [
    "Probe #4 is in the magnet."
   ]
  },
  {
   "cell_type": "code",
   "execution_count": null,
   "metadata": {
    "hidden": true
   },
   "outputs": [],
   "source": [
    "P = 3\n",
    "N = 10#30#10#20#10#30#60\n",
    "df_fast.loc[:, f\"Cal_{P}_Bmag_Avg\"] = df_fast[f\"Cal_{P}_Bmag\"].rolling(window = N, center=True).mean()\n",
    "df_fast.loc[:, f\"Cal_{P}_Bmag_Avg_Res_Rel\"] = (df_fast[\"NMR\"] - df_fast[f\"Cal_{P}_Bmag_Avg\"])/df_fast[\"NMR\"]"
   ]
  },
  {
   "cell_type": "code",
   "execution_count": null,
   "metadata": {
    "hidden": true
   },
   "outputs": [],
   "source": [
    "df_fast_5 = df_fast[N // 2::N]"
   ]
  },
  {
   "cell_type": "code",
   "execution_count": null,
   "metadata": {
    "hidden": true
   },
   "outputs": [],
   "source": [
    "#df_fast_5.loc[:, \"Cal_Mag_Avg\"] = [df_fast.iloc[i- for i in range(len(df_fast_5))]"
   ]
  },
  {
   "cell_type": "code",
   "execution_count": null,
   "metadata": {
    "hidden": true
   },
   "outputs": [],
   "source": [
    "### 60 second"
   ]
  },
  {
   "cell_type": "code",
   "execution_count": null,
   "metadata": {
    "hidden": true
   },
   "outputs": [],
   "source": [
    "fig = px.scatter_matrix(df_fast[::100], dimensions=[\"NMR\",\"Cal_1_Bmag\",\"Cal_2_Bmag\",\"Cal_3_Bmag\",])\n",
    "fig.show()"
   ]
  },
  {
   "cell_type": "code",
   "execution_count": null,
   "metadata": {
    "hidden": true
   },
   "outputs": [],
   "source": [
    "len(df_fast)"
   ]
  },
  {
   "cell_type": "code",
   "execution_count": null,
   "metadata": {
    "hidden": true
   },
   "outputs": [],
   "source": [
    "#perc = 0.001\n",
    "#bad_map = (df_fast[f\"Cal_{P}_Bmag\"] < df_fast[f\"Cal_{P}_Bmag\"].quantile(perc)) | (df_fast[f\"Cal_{P}_Bmag\"] > df_fast[f\"Cal_{P}_Bmag\"].quantile(1-perc))\n",
    "#df_fast[bad_map]"
   ]
  },
  {
   "cell_type": "code",
   "execution_count": null,
   "metadata": {
    "hidden": true
   },
   "outputs": [],
   "source": [
    "#df_fast2 = df_fast[~bad_map]"
   ]
  },
  {
   "cell_type": "code",
   "execution_count": null,
   "metadata": {
    "hidden": true
   },
   "outputs": [],
   "source": [
    "#df_fast2.loc[:, f\"Cal_{P}_Bmag_Avg\"] = df_fast2[f\"Cal_{P}_Bmag\"].rolling(window = N, center=True).mean()\n",
    "#df_fast2.loc[:, f\"Cal_{P}_Bmag_Avg_Res_Rel\"] = (df_fast2[\"NMR\"] - df_fast2[f\"Cal_{P}_Bmag_Avg\"])/df_fast2[\"NMR\"]"
   ]
  },
  {
   "cell_type": "code",
   "execution_count": null,
   "metadata": {
    "hidden": true
   },
   "outputs": [],
   "source": [
    "#df_fast2_5 = df_fast2[N // 2::N]"
   ]
  },
  {
   "cell_type": "code",
   "execution_count": null,
   "metadata": {
    "code_folding": [],
    "hidden": true
   },
   "outputs": [],
   "source": [
    "#fig = px.scatter_matrix(df_fast2, dimensions=[\"NMR\",\"Cal_1_Bmag\",\"Cal_2_Bmag\",\"Cal_3_Bmag\",\"Cal_4_Bmag\",\"Cal_5_Bmag\",])\n",
    "#fig.show()"
   ]
  },
  {
   "cell_type": "code",
   "execution_count": null,
   "metadata": {
    "hidden": true
   },
   "outputs": [],
   "source": [
    "#plot(fig)"
   ]
  },
  {
   "cell_type": "code",
   "execution_count": null,
   "metadata": {
    "hidden": true
   },
   "outputs": [],
   "source": [
    "#fig = scatter2d(df_fast2.NMR, df_fast2[f\"Cal_{P}_Bmag\"], lines=False, markers=True)"
   ]
  },
  {
   "cell_type": "code",
   "execution_count": null,
   "metadata": {
    "hidden": true
   },
   "outputs": [],
   "source": [
    "from scipy import stats"
   ]
  },
  {
   "cell_type": "code",
   "execution_count": null,
   "metadata": {
    "hidden": true,
    "scrolled": true
   },
   "outputs": [],
   "source": [
    "primary_corr = dict()\n",
    "for col in df_slow.columns:\n",
    "    if (df_slow[col].dtype == np.float64):\n",
    "        slope_v, intercept_v, r_value_v, p_value_v, std_err_v = stats.linregress(df_slow[col], df_slow[\" NMR [T]\"])\n",
    "        #print(col,r_value_v,p_value_v,std_err_v)\n",
    "        primary_corr[col] = r_value_v\n",
    "\n",
    "sorted_primary_corr = sorted(primary_corr.items(), key=operator.itemgetter(1))\n",
    "\n",
    "sorted_primary_corr"
   ]
  },
  {
   "cell_type": "code",
   "execution_count": null,
   "metadata": {
    "hidden": true,
    "scrolled": false
   },
   "outputs": [],
   "source": [
    "primary_corr = dict()\n",
    "for col in df_fast.columns:\n",
    "    if (df_fast[col].dtype == np.float64) & (\"T\" not in col): #& (\"Cal_4\" in col):\n",
    "        slope_v, intercept_v, r_value_v, p_value_v, std_err_v = stats.linregress(df_fast[col], df_fast[\"NMR\"])\n",
    "        #print(col,r_value_v,p_value_v,std_err_v)\n",
    "        primary_corr[col] = r_value_v\n",
    "\n",
    "sorted_primary_corr = sorted(primary_corr.items(), key=operator.itemgetter(1))\n",
    "\n",
    "sorted_primary_corr"
   ]
  },
  {
   "cell_type": "code",
   "execution_count": null,
   "metadata": {
    "hidden": true
   },
   "outputs": [],
   "source": [
    "df_fast[\"Cal_3_Bmag_Avg_Res_Rel\"].describe()"
   ]
  },
  {
   "cell_type": "code",
   "execution_count": null,
   "metadata": {
    "hidden": true
   },
   "outputs": [],
   "source": [
    "df_fast[\"NMR\"].describe()"
   ]
  },
  {
   "cell_type": "code",
   "execution_count": null,
   "metadata": {
    "hidden": true
   },
   "outputs": [],
   "source": [
    "len(df_fast)"
   ]
  },
  {
   "cell_type": "code",
   "execution_count": null,
   "metadata": {
    "hidden": true
   },
   "outputs": [],
   "source": [
    "df_fast[f\"Cal_{P}_Res_Rel\"].describe()"
   ]
  },
  {
   "cell_type": "code",
   "execution_count": null,
   "metadata": {
    "hidden": true
   },
   "outputs": [],
   "source": [
    "fig = histo(df_fast[f\"Cal_{P}_Res\"], bins=100, yscale='linear', cut=[0.,0.999])"
   ]
  },
  {
   "cell_type": "code",
   "execution_count": null,
   "metadata": {
    "hidden": true
   },
   "outputs": [],
   "source": [
    "fig = histo(df_fast[f\"Cal_{P}_Res_Rel\"], bins=100, yscale='linear', cut=[0.,0.999])"
   ]
  },
  {
   "cell_type": "code",
   "execution_count": null,
   "metadata": {
    "hidden": true
   },
   "outputs": [],
   "source": [
    "df_fast[df_fast[f\"Cal_{P}_Res_Rel\"] == df_fast[f\"Cal_{P}_Res_Rel\"].max()]"
   ]
  },
  {
   "cell_type": "code",
   "execution_count": null,
   "metadata": {
    "hidden": true
   },
   "outputs": [],
   "source": [
    "fig = histo(df_fast[f\"Cal_{P}_Res_Rel\"], bins=100, yscale='linear', cut=[0.,0.999], show_plot=False)"
   ]
  },
  {
   "cell_type": "code",
   "execution_count": null,
   "metadata": {
    "hidden": true
   },
   "outputs": [],
   "source": [
    "fig.layout.xaxis.title = \"(NMR [T] - |Hall| [T]) / (NMR [T])\"\n",
    "fig.layout.title = \"Histo: Relative Residuals\""
   ]
  },
  {
   "cell_type": "code",
   "execution_count": null,
   "metadata": {
    "hidden": true
   },
   "outputs": [],
   "source": [
    "filename = plotdir+\"rel_residuals\"\n",
    "pio.write_image(fig, filename+\".pdf\")\n",
    "pio.write_image(fig, filename+\".png\")"
   ]
  },
  {
   "cell_type": "code",
   "execution_count": null,
   "metadata": {
    "hidden": true
   },
   "outputs": [],
   "source": [
    "fig = histo(df_fast[f\"Cal_{P}_Bmag_Avg_Res_Rel\"], bins=100, yscale='linear', cut=[0.,0.999], show_plot=True)"
   ]
  },
  {
   "cell_type": "code",
   "execution_count": null,
   "metadata": {
    "hidden": true
   },
   "outputs": [],
   "source": []
  },
  {
   "cell_type": "code",
   "execution_count": null,
   "metadata": {
    "hidden": true
   },
   "outputs": [],
   "source": []
  },
  {
   "cell_type": "code",
   "execution_count": null,
   "metadata": {
    "hidden": true
   },
   "outputs": [],
   "source": [
    "fig = scatter2d([df_fast.index,df_fast.index,df_fast_5.index], [df_fast.Cal_1_Bmag,df_fast.Cal_1_Bmag_Avg,df_fast_5.Cal_1_Bmag_Avg], inline=True)"
   ]
  },
  {
   "cell_type": "code",
   "execution_count": null,
   "metadata": {
    "hidden": true
   },
   "outputs": [],
   "source": [
    "fig = histo(df_fast2[f'Cal_{P}_Bmag'], bins=50, inline=True)\n",
    "fig = histo(df_fast2[f'Cal_{P}_Bmag_Avg'], bins=50, inline=True)\n",
    "fig = histo(df_fast2_5[f'Cal_{P}_Bmag_Avg'], bins=50, inline=True)"
   ]
  },
  {
   "cell_type": "code",
   "execution_count": null,
   "metadata": {
    "hidden": true
   },
   "outputs": [],
   "source": [
    "df_slow[\" NMR [T]\"].hist(bins=50)"
   ]
  },
  {
   "cell_type": "code",
   "execution_count": null,
   "metadata": {
    "hidden": true
   },
   "outputs": [],
   "source": [
    "df_fast.eval(\"Cal_Res = (NMR - Cal_1_Bmag)\", inplace=True)\n",
    "df_fast.eval(\"Cal_Res_Rel = (NMR - Cal_1_Bmag) / NMR\", inplace=True)"
   ]
  },
  {
   "cell_type": "code",
   "execution_count": null,
   "metadata": {
    "hidden": true
   },
   "outputs": [],
   "source": [
    "fig = histo(df_fast2.Cal_4_Res_Rel, bins=50, inline=True)\n",
    "fig = histo(df_fast2.Cal_4_Bmag_Avg_Res_Rel, bins=50, inline=True)\n",
    "fig = histo(df_fast2_5.Cal_4_Bmag_Avg_Res_Rel, bins=50, inline=True)\n",
    "#fig = histo(df_fast.Cal_1_Bmag_Avg_Res_Rel, bins=50, inline=True)"
   ]
  },
  {
   "cell_type": "code",
   "execution_count": null,
   "metadata": {
    "hidden": true
   },
   "outputs": [],
   "source": [
    "fig = histo(df_slow[\" NMR [T]\"], bins=10, inline=True)"
   ]
  },
  {
   "cell_type": "code",
   "execution_count": null,
   "metadata": {
    "hidden": true
   },
   "outputs": [],
   "source": [
    "df_slow[\" NMR [T]\"].plot()"
   ]
  },
  {
   "cell_type": "code",
   "execution_count": null,
   "metadata": {
    "hidden": true,
    "scrolled": false
   },
   "outputs": [],
   "source": [
    "fig = scatter2d(df_slow.index, df_slow[\" NMR [T]\"], inline=True)"
   ]
  },
  {
   "cell_type": "code",
   "execution_count": null,
   "metadata": {
    "hidden": true
   },
   "outputs": [],
   "source": [
    "fig = scatter2d(df_fast2.index, df_fast2[f\"Cal_{P}_Bmag\"], inline=True)"
   ]
  },
  {
   "cell_type": "code",
   "execution_count": null,
   "metadata": {
    "hidden": true
   },
   "outputs": [],
   "source": []
  },
  {
   "cell_type": "code",
   "execution_count": null,
   "metadata": {
    "hidden": true
   },
   "outputs": [],
   "source": []
  },
  {
   "cell_type": "code",
   "execution_count": null,
   "metadata": {
    "hidden": true
   },
   "outputs": [],
   "source": []
  },
  {
   "cell_type": "code",
   "execution_count": null,
   "metadata": {
    "hidden": true
   },
   "outputs": [],
   "source": []
  },
  {
   "cell_type": "code",
   "execution_count": null,
   "metadata": {
    "hidden": true
   },
   "outputs": [],
   "source": [
    "import copy"
   ]
  },
  {
   "cell_type": "code",
   "execution_count": null,
   "metadata": {
    "hidden": true
   },
   "outputs": [],
   "source": [
    "# Seeing effect of number of points in average\n",
    "#N = 10#30#10#20#10#30#60\n",
    "P = 3\n",
    "Ns = [1,5,10,30,60, 120,]# 240, 480, 960, 1930,1930*2, 1930*4, 1930*8]#[5, 10, 30, 60]\n",
    "\n",
    "df_fast_N = []\n",
    "\n",
    "for N in Ns:\n",
    "    df_fast.loc[:, f\"Cal_{P}_Bmag_Avg\"] = df_fast[f\"Cal_{P}_Bmag\"].rolling(window = N, center=True).mean()\n",
    "    df_fast.loc[:, f\"Cal_{P}_Bmag_Avg_Res_Rel\"] = (df_fast[\"NMR\"] - df_fast[f\"Cal_{P}_Bmag_Avg\"])/df_fast[\"NMR\"]\n",
    "    df_fast_N.append(copy.copy(df_fast[N // 2::N]))\n",
    "    #print(df_fast_N[-1][\"Cal_1_Bmag_Avg_Res_Rel\"].describe())\n",
    "\n",
    "#df_fast_5 = df_fast[N // 2::N]\n",
    "#print([df[f\"Cal_{P}_Bmag_Avg_Res_Rel\"].describe() for df in df_fast_N])\n",
    "[df[f\"Cal_{P}_Bmag_Avg_Res_Rel\"].describe() for df in df_fast_N]"
   ]
  },
  {
   "cell_type": "code",
   "execution_count": null,
   "metadata": {
    "hidden": true,
    "scrolled": true
   },
   "outputs": [],
   "source": [
    "df_fast_N[0][f\"Cal_{P}_Bmag_Avg_Res_Rel\"].describe()"
   ]
  },
  {
   "cell_type": "code",
   "execution_count": null,
   "metadata": {
    "hidden": true
   },
   "outputs": [],
   "source": [
    "fig = scatter2d([df_fast2.index, df_fast_N[-2].index, df_slow.index], [df_fast2.Cal_4_Bmag,df_fast_N[-2].Cal_4_Bmag_Avg, df_slow[\" NMR [T]\"]], inline=True)"
   ]
  },
  {
   "cell_type": "code",
   "execution_count": null,
   "metadata": {
    "hidden": true
   },
   "outputs": [],
   "source": [
    "fig = histo([df_fast.Cal_Res_Rel]+[df.Cal_1_Bmag_Avg_Res_Rel for df in df_fast_N], bins=50,same_bins=True, show_plot=False, opacity=0.5, inline=True)\n",
    "fig.update_traces(histnorm='probability density')\n",
    "iplot(fig)"
   ]
  },
  {
   "cell_type": "code",
   "execution_count": null,
   "metadata": {
    "hidden": true
   },
   "outputs": [],
   "source": [
    " NMR [T]fig = histo([df_fast.Cal_Res_Rel]+[df.Cal_1_Bmag_Avg_Res_Rel for df in [df_fast_N[0]]], bins=50,same_bins=False, show_plot=False, opacity=0.5, inline=True)\n",
    "fig.update_traces(histnorm='probability density')\n",
    "iplot(fig)"
   ]
  },
  {
   "cell_type": "code",
   "execution_count": null,
   "metadata": {
    "hidden": true
   },
   "outputs": [],
   "source": [
    "fig = histo([df.Cal_1_Bmag_Avg_Res_Rel for df in [df_fast_N[0]]], bins=50,same_bins=False, show_plot=True, opacity=0.5, inline=True)"
   ]
  },
  {
   "cell_type": "code",
   "execution_count": null,
   "metadata": {
    "hidden": true
   },
   "outputs": [],
   "source": [
    "df_fast_N[0][\"Cal_1_Bmag_Avg_Res_Rel\"].describe()"
   ]
  },
  {
   "cell_type": "code",
   "execution_count": null,
   "metadata": {
    "hidden": true
   },
   "outputs": [],
   "source": [
    "getsizeof(df_fast_N[0]) / 1000 / 1000"
   ]
  },
  {
   "cell_type": "markdown",
   "metadata": {
    "heading_collapsed": true,
    "hidden": true
   },
   "source": [
    "### Noise on all Hall probes"
   ]
  },
  {
   "cell_type": "code",
   "execution_count": null,
   "metadata": {
    "hidden": true
   },
   "outputs": [],
   "source": [
    "#df_fast.columns"
   ]
  },
  {
   "cell_type": "code",
   "execution_count": null,
   "metadata": {
    "hidden": true
   },
   "outputs": [],
   "source": [
    "'''for i in range(1,6):\n",
    "    df_fast.eval(f\"Cal_{i}_Bmag = (Cal_{i}_Bx**2+Cal_{i}_By**2+Cal_{i}_Bz**2)**(1/2)\", inplace=True)\n",
    "    df_fast.eval(f\"Cal_{i}_Res = (NMR - Cal_{i}_Bmag)\", inplace=True)\n",
    "    df_fast.eval(f\"Cal_{i}_Res_Rel = (NMR - Cal_{i}_Bmag) / NMR\", inplace=True)\n",
    "\n",
    "for i in range(1,6):\n",
    "    for B in [\"Bx\",\"By\",\"Bz\"]:\n",
    "        #df_fast.eval(f\"Cal_{i}_Bmag = (Cal_{i}_Bx**2+Cal_{i}_By**2+Cal_{i}_Bz**2)**(1/2)\", inplace=True)\n",
    "        df_fast.eval(f\"Cal_{i}_{B}_Res = (NMR - Cal_{i}_{B})\", inplace=True)\n",
    "        df_fast.eval(f\"Cal_{i}_{B}_Res_Rel = (NMR - Cal_{i}_{B}) / NMR\", inplace=True)\n",
    "\n",
    "df_fast[\"seconds_delta\"] = pd.to_timedelta(df_fast.index.values) / pd.offsets.Second(1) - 1565697533.416\n",
    "\n",
    "df_slow[\"seconds_delta\"] = pd.to_timedelta(df_slow.index.values) / pd.offsets.Second(1) - 1565697533.416''';"
   ]
  },
  {
   "cell_type": "code",
   "execution_count": null,
   "metadata": {
    "hidden": true
   },
   "outputs": [],
   "source": [
    "#pd.to_timedelta(df_slow.index.values) / pd.offsets.Second(1)"
   ]
  },
  {
   "cell_type": "code",
   "execution_count": null,
   "metadata": {
    "hidden": true
   },
   "outputs": [],
   "source": [
    "getsizeof(df_fast) / 1000 / 1000"
   ]
  },
  {
   "cell_type": "code",
   "execution_count": null,
   "metadata": {
    "hidden": true
   },
   "outputs": [],
   "source": [
    "# relative residual"
   ]
  },
  {
   "cell_type": "code",
   "execution_count": null,
   "metadata": {
    "hidden": true,
    "scrolled": false
   },
   "outputs": [],
   "source": [
    "for i in range(1,6):\n",
    "    for B in [\"Bx\", \"By\", \"Bz\"]:\n",
    "        fig = histo(df_fast[f\"Cal_{i}_{B}_Res_Rel\"], bins=50, show_plot=False, inline=True)\n",
    "        filename = f\"histo_Cal_{i}_{B}_Res_Rel\"\n",
    "        pio.write_image(fig, plotdir+f\"relative_residuals/components/{filename}.pdf\")\n",
    "        pio.write_image(fig, plotdir+f\"relative_residuals/components/{filename}.png\")"
   ]
  },
  {
   "cell_type": "code",
   "execution_count": null,
   "metadata": {
    "hidden": true
   },
   "outputs": [],
   "source": [
    "for i in range(1,6):\n",
    "    fig = histo(df_fast[f\"Cal_{i}_Res_Rel\"], bins=50, show_plot=False, inline=True)\n",
    "    filename = f\"histo_Cal_{i}_Res_Rel\"\n",
    "    pio.write_image(fig, plotdir+f\"relative_residuals/magnitude/{filename}.pdf\")\n",
    "    pio.write_image(fig, plotdir+f\"relative_residuals/magnitude/{filename}.png\")"
   ]
  },
  {
   "cell_type": "code",
   "execution_count": null,
   "metadata": {
    "hidden": true
   },
   "outputs": [],
   "source": [
    "# residual"
   ]
  },
  {
   "cell_type": "code",
   "execution_count": null,
   "metadata": {
    "hidden": true
   },
   "outputs": [],
   "source": [
    "for i in range(1,6):\n",
    "    for B in [\"Bx\", \"By\", \"Bz\"]:\n",
    "        fig = histo(df_fast[f\"Cal_{i}_{B}_Res\"], bins=50, show_plot=False, inline=True)\n",
    "        filename = f\"histo_Cal_{i}_{B}_Res\"\n",
    "        pio.write_image(fig, plotdir+f\"residuals/components/{filename}.pdf\")\n",
    "        pio.write_image(fig, plotdir+f\"residuals/components/{filename}.png\")"
   ]
  },
  {
   "cell_type": "code",
   "execution_count": null,
   "metadata": {
    "hidden": true
   },
   "outputs": [],
   "source": [
    "for i in range(1,6):\n",
    "    fig = histo(df_fast[f\"Cal_{i}_Res\"], bins=50, show_plot=False, inline=True)\n",
    "    filename = f\"histo_Cal_{i}_Res\"\n",
    "    pio.write_image(fig, plotdir+f\"residuals/magnitude/{filename}.pdf\")\n",
    "    pio.write_image(fig, plotdir+f\"residuals/magnitude/{filename}.png\")"
   ]
  },
  {
   "cell_type": "code",
   "execution_count": null,
   "metadata": {
    "hidden": true
   },
   "outputs": [],
   "source": []
  },
  {
   "cell_type": "code",
   "execution_count": null,
   "metadata": {
    "hidden": true
   },
   "outputs": [],
   "source": []
  },
  {
   "cell_type": "code",
   "execution_count": null,
   "metadata": {
    "hidden": true
   },
   "outputs": [],
   "source": [
    "Ns = [5,10,30,60, 120, 240, 480, 960, 1930,1930*2, 1930*4, 1930*8]#[5, 10, 30, 60]\n",
    "\n",
    "df_fast_N = []\n",
    "\n",
    "for N in Ns:\n",
    "    df_fast.loc[:, \"Cal_1_Bmag_Avg\"] = df_fast[\"Cal_1_Bmag\"].rolling(window = N, center=True).mean()\n",
    "    df_fast.loc[:, \"Cal_1_Bmag_Avg_Res_Rel\"] = (df_fast[\"NMR\"] - df_fast[\"Cal_1_Bmag_Avg\"])/df_fast[\"NMR\"]\n",
    "    df_fast_N.append(copy.copy(df_fast[N // 2::N]))\n"
   ]
  },
  {
   "cell_type": "markdown",
   "metadata": {
    "heading_collapsed": true,
    "hidden": true
   },
   "source": [
    "### Check Field Angle and Average\n",
    "- Leaving for historical purposes, but column names have changed"
   ]
  },
  {
   "cell_type": "code",
   "execution_count": null,
   "metadata": {
    "hidden": true
   },
   "outputs": [],
   "source": [
    "'''df_fast[\"Cal_1_Transverse\"] = (df_fast[\"Cal_1_Bx\"]**2+df_fast[\"Cal_1_By\"]**2)**(1/2)\n",
    "df_fast[\"theta\"] = np.arccos(df_fast[\"Cal_1_Bz\"]/df_fast[\"Cal_1_Bmag\"])\n",
    "df_fast[\"phi\"] = np.arccos(df_fast[\"Cal_1_Bx\"]/df_fast[\"Cal_1_Transverse\"])''';"
   ]
  },
  {
   "cell_type": "code",
   "execution_count": null,
   "metadata": {
    "hidden": true
   },
   "outputs": [],
   "source": [
    "fig = histo(df_fast.theta*180/np.pi, bins=50, inline=True)\n",
    "fig = histo(df_fast.phi*180/np.pi, bins=50, inline=True)"
   ]
  },
  {
   "cell_type": "code",
   "execution_count": null,
   "metadata": {
    "hidden": true
   },
   "outputs": [],
   "source": [
    "# Seeing effect of number of points in average\n",
    "#N = 10#30#10#20#10#30#60\n",
    "Ns = [5,10,30,60, 120, 240, ]#480, 960, 1930,1930*2, 1930*4, 1930*8]#[5, 10, 30, 60]\n",
    "\n",
    "df_fast_N = []\n",
    "\n",
    "for N in Ns:\n",
    "    df_fast.loc[:, \"theta_Avg\"] = df_fast[\"theta\"].rolling(window = N, center=True).mean()\n",
    "    df_fast.loc[:, \"phi_Avg\"] = df_fast[\"phi\"].rolling(window = N, center=True).mean()\n",
    "    df_fast_N.append(copy.copy(df_fast[N // 2::N]))\n",
    "    #print(df_fast_N[-1][\"Cal_1_Bmag_Avg_Res_Rel\"].describe())\n",
    "\n",
    "#df_fast_5 = df_fast[N // 2::N]\n",
    "#print([df[\"Cal_1_Bmag_Avg_Res_Rel\"].describe() for df in df_fast_N])"
   ]
  },
  {
   "cell_type": "code",
   "execution_count": null,
   "metadata": {
    "hidden": true
   },
   "outputs": [],
   "source": [
    "fig = histo([df_fast.theta]+[df.theta_Avg for df in df_fast_N], bins=50,same_bins=True, show_plot=False, opacity=0.5, inline=True)\n",
    "fig.update_traces(histnorm='probability density')\n",
    "iplot(fig)"
   ]
  },
  {
   "cell_type": "code",
   "execution_count": null,
   "metadata": {
    "hidden": true
   },
   "outputs": [],
   "source": [
    "fig = scatter2d(df_fast.index, df_fast.theta, inline=True)"
   ]
  },
  {
   "cell_type": "code",
   "execution_count": null,
   "metadata": {
    "hidden": true
   },
   "outputs": [],
   "source": [
    "fig = scatter2d(df_fast.index, df_fast.phi, inline=True)"
   ]
  },
  {
   "cell_type": "code",
   "execution_count": null,
   "metadata": {
    "hidden": true
   },
   "outputs": [],
   "source": [
    "df_fast_N[0].theta_Avg.plot()"
   ]
  },
  {
   "cell_type": "code",
   "execution_count": null,
   "metadata": {
    "hidden": true
   },
   "outputs": [],
   "source": [
    "fig = scatter2d([df_fast.index, df_fast_N[2].index, df_slow.index], [df_fast.Cal_1_Bmag,df_fast_N[2].Cal_1_Bmag_Avg, df_slow[\" NMR [T]\"]], inline=True)"
   ]
  },
  {
   "cell_type": "markdown",
   "metadata": {
    "heading_collapsed": true,
    "hidden": true
   },
   "source": [
    "### Plots for Email"
   ]
  },
  {
   "cell_type": "code",
   "execution_count": null,
   "metadata": {
    "hidden": true
   },
   "outputs": [],
   "source": [
    "len(df_fast)"
   ]
  },
  {
   "cell_type": "markdown",
   "metadata": {
    "hidden": true
   },
   "source": [
    "Last time: 66240"
   ]
  },
  {
   "cell_type": "code",
   "execution_count": null,
   "metadata": {
    "hidden": true
   },
   "outputs": [],
   "source": [
    "795048 / 60 / 60 /24"
   ]
  },
  {
   "cell_type": "code",
   "execution_count": null,
   "metadata": {
    "hidden": true
   },
   "outputs": [],
   "source": [
    "66240 / 60 / 60"
   ]
  },
  {
   "cell_type": "code",
   "execution_count": null,
   "metadata": {
    "hidden": true
   },
   "outputs": [],
   "source": []
  },
  {
   "cell_type": "code",
   "execution_count": null,
   "metadata": {
    "hidden": true
   },
   "outputs": [],
   "source": [
    "# get probe name dictionary\n",
    "directory = \"/home/ckampa/Dropbox/LogFiles/\"\n",
    "filename_fast = '2019-09-04 080000.txt'\n",
    "\n",
    "with open(directory+filename_fast, 'r') as file:\n",
    "    lines = file.readlines()[6:9]"
   ]
  },
  {
   "cell_type": "code",
   "execution_count": null,
   "metadata": {
    "hidden": true
   },
   "outputs": [],
   "source": [
    "lines"
   ]
  },
  {
   "cell_type": "code",
   "execution_count": null,
   "metadata": {
    "hidden": true
   },
   "outputs": [],
   "source": [
    "id_reg = re.compile(\": (.+?)  Offset\")"
   ]
  },
  {
   "cell_type": "code",
   "execution_count": null,
   "metadata": {
    "hidden": true
   },
   "outputs": [],
   "source": [
    "hall_ids_list = [id_reg.findall(line)[0] for line in lines]"
   ]
  },
  {
   "cell_type": "code",
   "execution_count": null,
   "metadata": {
    "hidden": true
   },
   "outputs": [],
   "source": [
    "hall_ids_list"
   ]
  },
  {
   "cell_type": "code",
   "execution_count": null,
   "metadata": {
    "hidden": true
   },
   "outputs": [],
   "source": [
    "hall_ids = {i+1: hall for i,hall in enumerate(hall_ids_list)}"
   ]
  },
  {
   "cell_type": "code",
   "execution_count": null,
   "metadata": {
    "hidden": true
   },
   "outputs": [],
   "source": [
    "hall_ids"
   ]
  },
  {
   "cell_type": "code",
   "execution_count": null,
   "metadata": {
    "hidden": true
   },
   "outputs": [],
   "source": [
    "N = 3"
   ]
  },
  {
   "cell_type": "code",
   "execution_count": null,
   "metadata": {
    "hidden": true
   },
   "outputs": [],
   "source": [
    "len(df_fast)"
   ]
  },
  {
   "cell_type": "code",
   "execution_count": null,
   "metadata": {
    "hidden": true
   },
   "outputs": [],
   "source": [
    "fig = scatter2d(df_fast[::100].index, df_fast[::100][f\"Raw_{N}_Bx\"], inline=True)"
   ]
  },
  {
   "cell_type": "code",
   "execution_count": null,
   "metadata": {
    "hidden": true
   },
   "outputs": [],
   "source": [
    "fig = scatter2d(df_fast.index, df_fast[f\"Raw_{N}_Bz\"], inline=True)"
   ]
  },
  {
   "cell_type": "code",
   "execution_count": null,
   "metadata": {
    "hidden": true
   },
   "outputs": [],
   "source": [
    "fig = scatter2d(df_fast.index, df_fast[f\"Cal_{N}_Bz\"], inline=True)"
   ]
  },
  {
   "cell_type": "code",
   "execution_count": null,
   "metadata": {
    "hidden": true
   },
   "outputs": [],
   "source": [
    "fig = scatter2d(5*[df_fast.index], [df_fast[f'Cal_{i}_T'] for i in range(1,4)])"
   ]
  },
  {
   "cell_type": "code",
   "execution_count": null,
   "metadata": {
    "hidden": true
   },
   "outputs": [],
   "source": [
    "fig = scatter2d([df_fast.seconds_delta, df_slow.seconds_delta], [df_fast[f'Cal_1_T'], df_slow[\" Hall Element\"]],show_plot=False)"
   ]
  },
  {
   "cell_type": "code",
   "execution_count": null,
   "metadata": {
    "hidden": true
   },
   "outputs": [],
   "source": [
    "figprof = py_profile(df_fast.seconds_delta, df_fast.Cal_1_T, x_bins=50, show_plot=False)"
   ]
  },
  {
   "cell_type": "code",
   "execution_count": null,
   "metadata": {
    "hidden": true
   },
   "outputs": [],
   "source": [
    "figprof2 = py_profile(df_slow.seconds_delta, df_slow[\" Hall Element\"], x_bins=50,xrange=[df_fast.seconds_delta.min(),df_fast.seconds_delta.max()], show_plot=False)"
   ]
  },
  {
   "cell_type": "code",
   "execution_count": null,
   "metadata": {
    "hidden": true
   },
   "outputs": [],
   "source": [
    "fig.add_traces([figprof.data[0],figprof2.data[0]])"
   ]
  },
  {
   "cell_type": "code",
   "execution_count": null,
   "metadata": {
    "hidden": true
   },
   "outputs": [],
   "source": [
    "df_fast.loc[:,\"HallElement\"] = [df_slow.iloc[df_slow.index.get_loc(row, method='nearest')][\" Hall Element\"] for row in df_fast.index]"
   ]
  },
  {
   "cell_type": "code",
   "execution_count": null,
   "metadata": {
    "hidden": true
   },
   "outputs": [],
   "source": [
    "#fig = scatter2d(df_fast.HallElement, df_fast.Cal_1_T, markers=True, lines=False)"
   ]
  },
  {
   "cell_type": "code",
   "execution_count": null,
   "metadata": {
    "hidden": true
   },
   "outputs": [],
   "source": [
    "fig = py_profile(df_fast.HallElement, df_fast.Cal_1_T, x_bins=12)"
   ]
  },
  {
   "cell_type": "code",
   "execution_count": null,
   "metadata": {
    "hidden": true
   },
   "outputs": [],
   "source": [
    "df_fast[\"Cal_4_Bmag\"].describe()"
   ]
  },
  {
   "cell_type": "code",
   "execution_count": null,
   "metadata": {
    "hidden": true
   },
   "outputs": [],
   "source": [
    "fig = scatter2d(df_fast.index, df_fast[\"Cal_1_Bmag\"], inline=True)"
   ]
  },
  {
   "cell_type": "code",
   "execution_count": null,
   "metadata": {
    "hidden": true
   },
   "outputs": [],
   "source": [
    "fig = scatter2d(df_slow_old.index, df_slow_old[\" NMR [T]\"], inline=True)"
   ]
  },
  {
   "cell_type": "code",
   "execution_count": null,
   "metadata": {
    "hidden": true
   },
   "outputs": [],
   "source": [
    "fig = scatter2d(df_slow.index, df_slow[\" NMR [T]\"], inline=True)"
   ]
  },
  {
   "cell_type": "code",
   "execution_count": null,
   "metadata": {
    "hidden": true
   },
   "outputs": [],
   "source": [
    "start = 0\n",
    "end = 600\n",
    "x_bins = 20"
   ]
  },
  {
   "cell_type": "code",
   "execution_count": null,
   "metadata": {
    "hidden": true
   },
   "outputs": [],
   "source": [
    "fig = scatter2d(df_fast.seconds_delta[start:end], df_fast.Cal_1_Bmag[start:end],show_plot=False)"
   ]
  },
  {
   "cell_type": "code",
   "execution_count": null,
   "metadata": {
    "hidden": true
   },
   "outputs": [],
   "source": [
    "figprof = py_profile(df_fast.seconds_delta[start:end], df_fast.Cal_1_Bmag[start:end], x_bins = x_bins, show_plot=False)"
   ]
  },
  {
   "cell_type": "code",
   "execution_count": null,
   "metadata": {
    "hidden": true
   },
   "outputs": [],
   "source": [
    "fig.add_trace(figprof.data[0])"
   ]
  },
  {
   "cell_type": "code",
   "execution_count": null,
   "metadata": {
    "hidden": true
   },
   "outputs": [],
   "source": [
    "#fig.update_traces(visible=False)"
   ]
  },
  {
   "cell_type": "code",
   "execution_count": null,
   "metadata": {
    "hidden": true
   },
   "outputs": [],
   "source": [
    "pio.write_image(fig, plotdir+\"scatter_plus_profile_test.pdf\")"
   ]
  },
  {
   "cell_type": "code",
   "execution_count": null,
   "metadata": {
    "hidden": true
   },
   "outputs": [],
   "source": [
    "start = 1000\n",
    "end = 1600\n",
    "x_bins = 20\n",
    "\n",
    "comp_old = \"Mag\"\n",
    "comp_new = \"Bmag\""
   ]
  },
  {
   "cell_type": "code",
   "execution_count": null,
   "metadata": {
    "hidden": true
   },
   "outputs": [],
   "source": [
    "# old data\n",
    "fig = scatter2d(df_slow_old.seconds_delta[start:end], df_slow_old[f\"Cal_{comp_old}\"][start:end],show_plot=False)\n",
    "figprof = py_profile(df_slow_old.seconds_delta[start:end], df_slow_old[f\"Cal_{comp_old}\"][start:end], x_bins = x_bins, show_plot=False)\n",
    "fig.add_trace(figprof.data[0])"
   ]
  },
  {
   "cell_type": "code",
   "execution_count": null,
   "metadata": {
    "hidden": true,
    "scrolled": false
   },
   "outputs": [],
   "source": [
    "for i in range(1,6):\n",
    "    fig = scatter2d(df_fast.seconds_delta[start:end], df_fast[f'Cal_{i}_{comp_new}'][start:end],show_plot=False)\n",
    "    figprof = py_profile(df_fast.seconds_delta[start:end], df_fast[f'Cal_{i}_{comp_new}'][start:end], x_bins = x_bins, show_plot=False)\n",
    "    fig.add_trace(figprof.data[0])\n",
    "    iplot(fig)"
   ]
  },
  {
   "cell_type": "code",
   "execution_count": null,
   "metadata": {
    "hidden": true
   },
   "outputs": [],
   "source": []
  },
  {
   "cell_type": "code",
   "execution_count": null,
   "metadata": {
    "hidden": true
   },
   "outputs": [],
   "source": [
    "start = 1000\n",
    "end = 1120\n",
    "x_bins = 6"
   ]
  },
  {
   "cell_type": "code",
   "execution_count": null,
   "metadata": {
    "hidden": true
   },
   "outputs": [],
   "source": [
    "# old data\n",
    "fig = scatter2d(df_slow_old.seconds_delta[start:end], df_slow_old[f\"Cal_{comp_old}\"][start:end],show_plot=False)\n",
    "figprof = py_profile(df_slow_old.seconds_delta[start:end], df_slow_old[f\"Cal_{comp_old}\"][start:end], x_bins = x_bins, show_plot=False)\n",
    "fig.add_trace(figprof.data[0])"
   ]
  },
  {
   "cell_type": "code",
   "execution_count": null,
   "metadata": {
    "hidden": true,
    "scrolled": false
   },
   "outputs": [],
   "source": [
    "for i in range(1,6):\n",
    "    fig = scatter2d(df_fast.seconds_delta[start:end], df_fast[f'Cal_{i}_{comp_new}'][start:end],show_plot=False)\n",
    "    figprof = py_profile(df_fast.seconds_delta[start:end], df_fast[f'Cal_{i}_{comp_new}'][start:end], x_bins = x_bins, show_plot=False)\n",
    "    fig.add_trace(figprof.data[0])\n",
    "    iplot(fig)"
   ]
  },
  {
   "cell_type": "code",
   "execution_count": null,
   "metadata": {
    "hidden": true
   },
   "outputs": [],
   "source": []
  },
  {
   "cell_type": "code",
   "execution_count": null,
   "metadata": {
    "hidden": true
   },
   "outputs": [],
   "source": [
    "fig = histo(df_fast.Cal_1_Res_Rel, bins=50, show_plot=False)\n",
    "fig.layout.xaxis.title = (\"(NMR - |B_hall|) / NMR\")\n",
    "iplot(fig)"
   ]
  },
  {
   "cell_type": "code",
   "execution_count": null,
   "metadata": {
    "hidden": true
   },
   "outputs": [],
   "source": [
    "df_slow_old[\"Cal_Res_Rel\"] = (df_slow_old[\" NMR [T]\"] - df_slow_old[\"Cal\"]) / df_slow_old[\" NMR [T]\"]"
   ]
  },
  {
   "cell_type": "code",
   "execution_count": null,
   "metadata": {
    "hidden": true
   },
   "outputs": [],
   "source": [
    "df_slow_old = df_slow_old.loc[\"2019-08-10 12:30:00\":]"
   ]
  },
  {
   "cell_type": "code",
   "execution_count": null,
   "metadata": {
    "hidden": true
   },
   "outputs": [],
   "source": [
    "fig = histo(df_slow_old.Cal_Mag_Res_Rel, bins=50, show_plot=False)\n",
    "fig.layout.xaxis.title = (\"(NMR - |B_hall|) / NMR\")\n",
    "iplot(fig)"
   ]
  },
  {
   "cell_type": "code",
   "execution_count": null,
   "metadata": {
    "hidden": true
   },
   "outputs": [],
   "source": [
    "df_slow_old.columns"
   ]
  },
  {
   "cell_type": "code",
   "execution_count": null,
   "metadata": {
    "hidden": true
   },
   "outputs": [],
   "source": []
  },
  {
   "cell_type": "code",
   "execution_count": null,
   "metadata": {
    "hidden": true
   },
   "outputs": [],
   "source": [
    "## AVERAGING"
   ]
  },
  {
   "cell_type": "code",
   "execution_count": null,
   "metadata": {
    "hidden": true
   },
   "outputs": [],
   "source": [
    "df_fast[\"day\"] = df_fast.index.day"
   ]
  },
  {
   "cell_type": "code",
   "execution_count": null,
   "metadata": {
    "hidden": true
   },
   "outputs": [],
   "source": [
    "import copy"
   ]
  },
  {
   "cell_type": "markdown",
   "metadata": {
    "hidden": true
   },
   "source": [
    "Average of residuals"
   ]
  },
  {
   "cell_type": "code",
   "execution_count": null,
   "metadata": {
    "hidden": true
   },
   "outputs": [],
   "source": [
    "# Seeing effect of number of points in average\n",
    "#N = 10#30#10#20#10#30#60\n",
    "P = 3\n",
    "Ns = [10,60,120, 300, 1000]#[5, 10, 30, 60]\n",
    "\n",
    "df_fast_N = []\n",
    "\n",
    "for N in Ns:\n",
    "    #df_fast.loc[:, f\"Cal_{P}_Bmag_Avg\"] = df_fast[f\"Cal_{P}_Bmag\"].rolling(window = N, center=True).mean()\n",
    "    df_fast.loc[:, f\"Cal_{P}_Res_Rel_Avg\"] = df_fast[f\"Cal_{P}_Res_Rel\"].rolling(window = N, center=True).mean()\n",
    "    df_fast_N.append(copy.copy(df_fast[N // 2::N]))\n",
    "    #print(df_fast_N[-1][\"Cal_1_Bmag_Avg_Res_Rel\"].describe())\n",
    "\n",
    "#df_fast_5 = df_fast[N // 2::N]\n",
    "#print([df[\"Cal_1_Bmag_Avg_Res_Rel\"].describe() for df in df_fast_N])"
   ]
  },
  {
   "cell_type": "code",
   "execution_count": null,
   "metadata": {
    "hidden": true
   },
   "outputs": [],
   "source": [
    "fig = histo([df_fast[f'Cal_{P}_Res_Rel']]+[df[f'Cal_{P}_Res_Rel_Avg'] for df in df_fast_N], bins=100,\n",
    "            same_bins=False, show_plot=False, opacity=0.5, inline=True, cut=[0.,0.999])\n",
    "fig.update_traces(histnorm='probability') # \"probability density\"\n",
    "fig.layout.xaxis.title = (\"(NMR - |B_hall|) / NMR\")\n",
    "fig.layout.yaxis.title = (\"Normalized Counts\")\n",
    "#iplot(fig)"
   ]
  },
  {
   "cell_type": "code",
   "execution_count": null,
   "metadata": {
    "hidden": true
   },
   "outputs": [],
   "source": [
    "pplot(fig)"
   ]
  },
  {
   "cell_type": "markdown",
   "metadata": {
    "hidden": true
   },
   "source": [
    "Residuals of average"
   ]
  },
  {
   "cell_type": "code",
   "execution_count": null,
   "metadata": {
    "hidden": true
   },
   "outputs": [],
   "source": [
    "# Seeing effect of number of points in average\n",
    "#N = 10#30#10#20#10#30#60\n",
    "P = 3\n",
    "Ns = [10,60,120, 300, 1000]#[5, 10, 30, 60]\n",
    "\n",
    "df_fast_N = []\n",
    "\n",
    "for N in Ns:\n",
    "    df_fast.loc[:, f\"Cal_{P}_Bmag_Avg\"] = df_fast[f\"Cal_{P}_Bmag\"].rolling(window = N, center=True).mean()\n",
    "    df_fast.loc[:, f\"Cal_{P}_Bmag_Avg_Res_Rel\"] = (df_fast[\"NMR\"] - df_fast[f\"Cal_{P}_Bmag_Avg\"])/df_fast[\"NMR\"]\n",
    "    df_fast_N.append(copy.copy(df_fast[N // 2::N]))\n",
    "    #print(df_fast_N[-1][\"Cal_1_Bmag_Avg_Res_Rel\"].describe())\n",
    "\n",
    "#df_fast_5 = df_fast[N // 2::N]\n",
    "#print([df[\"Cal_1_Bmag_Avg_Res_Rel\"].describe() for df in df_fast_N])"
   ]
  },
  {
   "cell_type": "code",
   "execution_count": null,
   "metadata": {
    "hidden": true
   },
   "outputs": [],
   "source": [
    "fig = histo([df_fast[f'Cal_{P}_Res_Rel']]+[df[f'Cal_{P}_Bmag_Avg_Res_Rel'] for df in df_fast_N], bins=100,\n",
    "            same_bins=False, show_plot=False, opacity=0.5, inline=True, cut=[0.,0.999])\n",
    "fig.update_traces(histnorm='probability') # \"probability density\"\n",
    "fig.layout.xaxis.title = (\"(NMR - |B_hall|) / NMR\")\n",
    "fig.layout.yaxis.title = (\"Normalized Counts\")\n",
    "#iplot(fig)"
   ]
  },
  {
   "cell_type": "code",
   "execution_count": null,
   "metadata": {
    "hidden": true
   },
   "outputs": [],
   "source": [
    "pplot(fig)"
   ]
  },
  {
   "cell_type": "code",
   "execution_count": null,
   "metadata": {
    "hidden": true
   },
   "outputs": [],
   "source": [
    "fig.layout.xaxis.title = \"(NMR [T] - |Hall| [T]) / (NMR [T])\"\n",
    "fig.layout.title = \"Histo: Relative Residuals<br>Averaging: NONE, 10 s, 60 s\"\n",
    "\n",
    "filename = plotdir+\"rel_residuals_avg\"\n",
    "pio.write_image(fig, filename+\".pdf\")\n",
    "pio.write_image(fig, filename+\".png\")"
   ]
  },
  {
   "cell_type": "code",
   "execution_count": null,
   "metadata": {
    "hidden": true
   },
   "outputs": [],
   "source": []
  },
  {
   "cell_type": "code",
   "execution_count": null,
   "metadata": {
    "hidden": true
   },
   "outputs": [],
   "source": [
    "fig = px.histogram(df_fast_N[1], x='Cal_3_Bmag_Avg_Res_Rel', histnorm=\"probability\", color=\"day\")\n",
    "fig.show()"
   ]
  },
  {
   "cell_type": "code",
   "execution_count": null,
   "metadata": {
    "hidden": true
   },
   "outputs": [],
   "source": [
    "fig = px.histogram(df_fast_N[1], x='Cal_3_Bmag_Avg_Res_Rel', histnorm=\"probability\", color=\"day\")\n",
    "fig.show()"
   ]
  },
  {
   "cell_type": "code",
   "execution_count": null,
   "metadata": {
    "hidden": true
   },
   "outputs": [],
   "source": [
    "#df_slim = df_fast.query(\"day in [5,6,7,8,9,10]\")\n",
    "df_slim = df_fast.query(\"5 <= day <= 10\")"
   ]
  },
  {
   "cell_type": "code",
   "execution_count": null,
   "metadata": {
    "hidden": true
   },
   "outputs": [],
   "source": [
    "len(df_slim)"
   ]
  },
  {
   "cell_type": "code",
   "execution_count": null,
   "metadata": {
    "hidden": true
   },
   "outputs": [],
   "source": [
    "fig = px.histogram(df_slim, x='Cal_3_Bmag_Avg_Res_Rel', histnorm=\"probability density\", color=\"day\")\n",
    "fig.show()"
   ]
  },
  {
   "cell_type": "code",
   "execution_count": null,
   "metadata": {
    "hidden": true
   },
   "outputs": [],
   "source": [
    "# Seeing effect of number of points in average\n",
    "#N = 10#30#10#20#10#30#60\n",
    "P = 3\n",
    "Ns = [10,60,120, 300, 1000]#[5, 10, 30, 60]\n",
    "\n",
    "df_fast_N = []\n",
    "\n",
    "for N in Ns:\n",
    "    df_slim.loc[:, f\"Cal_{P}_Bmag_Avg\"] = df_slim[f\"Cal_{P}_Bmag\"].rolling(window = N, center=True).mean()\n",
    "    df_slim.loc[:, f\"Cal_{P}_Bmag_Avg_Res_Rel\"] = (df_slim[\"NMR\"] - df_slim[f\"Cal_{P}_Bmag_Avg\"])/df_slim[\"NMR\"]\n",
    "    df_fast_N.append(copy.copy(df_slim[N // 2::N]))\n",
    "    #print(df_fast_N[-1][\"Cal_1_Bmag_Avg_Res_Rel\"].describe())\n",
    "\n",
    "#df_fast_5 = df_fast[N // 2::N]\n",
    "#print([df[\"Cal_1_Bmag_Avg_Res_Rel\"].describe() for df in df_fast_N])"
   ]
  },
  {
   "cell_type": "code",
   "execution_count": null,
   "metadata": {
    "hidden": true
   },
   "outputs": [],
   "source": [
    "fig = histo([df_slim[f'Cal_{P}_Res_Rel']]+[df[f'Cal_{P}_Bmag_Avg_Res_Rel'] for df in df_fast_N], bins=100,\n",
    "            same_bins=False, show_plot=False, opacity=0.5, inline=True, cut=[0.,0.999])\n",
    "fig.update_traces(histnorm='probability') # \"probability density\"\n",
    "fig.layout.xaxis.title = (\"(NMR - |B_hall|) / NMR\")\n",
    "fig.layout.yaxis.title = (\"Normalized Counts\")\n",
    "iplot(fig)"
   ]
  },
  {
   "cell_type": "code",
   "execution_count": null,
   "metadata": {
    "hidden": true
   },
   "outputs": [],
   "source": []
  },
  {
   "cell_type": "code",
   "execution_count": null,
   "metadata": {
    "hidden": true
   },
   "outputs": [],
   "source": []
  },
  {
   "cell_type": "code",
   "execution_count": null,
   "metadata": {
    "hidden": true
   },
   "outputs": [],
   "source": [
    "# Seeing effect of number of points in average\n",
    "#N = 10#30#10#20#10#30#60\n",
    "Ns = [10,60]#[5, 10, 30, 60]\n",
    "\n",
    "df_fast_N = []\n",
    "\n",
    "for N in Ns:\n",
    "    df_slow_old.loc[:, \"Cal_1_Bmag_Avg\"] = df_slow_old[\"Cal_Mag\"].rolling(window = N, center=True).mean()\n",
    "    df_slow_old.loc[:, \"Cal_1_Bmag_Avg_Res_Rel\"] = (df_slow_old[\" NMR [T]\"] - df_slow_old[\"Cal_1_Bmag_Avg\"])/df_slow_old[\" NMR [T]\"]\n",
    "    df_fast_N.append(copy.copy(df_slow_old[N // 2::N]))\n",
    "    #print(df_fast_N[-1][\"Cal_1_Bmag_Avg_Res_Rel\"].describe())\n",
    "\n",
    "#df_fast_5 = df_fast[N // 2::N]\n",
    "#print([df[\"Cal_1_Bmag_Avg_Res_Rel\"].describe() for df in df_fast_N])"
   ]
  },
  {
   "cell_type": "code",
   "execution_count": null,
   "metadata": {
    "hidden": true
   },
   "outputs": [],
   "source": [
    "fig = histo([df_slow_old.Cal_Mag_Res_Rel]+[df.Cal_1_Bmag_Avg_Res_Rel for df in df_fast_N], bins=15,same_bins=False, show_plot=False, opacity=0.5, inline=True)\n",
    "fig.update_traces(histnorm='probability density')\n",
    "fig.layout.xaxis.title = (\"(NMR - |B_hall|) / NMR\")\n",
    "fig.layout.yaxis.title = (\"Normalized Counts\")\n",
    "iplot(fig)"
   ]
  },
  {
   "cell_type": "code",
   "execution_count": null,
   "metadata": {
    "hidden": true
   },
   "outputs": [],
   "source": []
  }
 ],
 "metadata": {
  "kernelspec": {
   "display_name": "Python [conda env:Mu2E]",
   "language": "python",
   "name": "conda-env-Mu2E-py"
  },
  "language_info": {
   "codemirror_mode": {
    "name": "ipython",
    "version": 3
   },
   "file_extension": ".py",
   "mimetype": "text/x-python",
   "name": "python",
   "nbconvert_exporter": "python",
   "pygments_lexer": "ipython3",
   "version": "3.7.4"
  }
 },
 "nbformat": 4,
 "nbformat_minor": 2
}
