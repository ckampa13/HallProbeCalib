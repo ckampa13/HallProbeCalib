{
 "cells": [
  {
   "cell_type": "code",
   "execution_count": 68,
   "metadata": {},
   "outputs": [],
   "source": [
    "import numpy as np\n",
    "from scipy.spatial.transform import Rotation\n",
    "import scipy.special\n",
    "#import scipy.optimize\n",
    "from scipy.stats import chi2\n",
    "import lmfit as lm\n",
    "import pandas as pd\n",
    "#import pickle as pkl\n",
    "#import re\n",
    "#from copy import deepcopy\n",
    "import matplotlib.pyplot as plt\n",
    "%matplotlib inline\n",
    "\n",
    "#import plotly.express as px"
   ]
  },
  {
   "cell_type": "code",
   "execution_count": 69,
   "metadata": {},
   "outputs": [],
   "source": [
    "def euler_model(phis, thetas, **params):\n",
    "    alpha0,beta0,gamma0 = params['alpha0'], params['beta0'], params['gamma0']\n",
    "    xs = np.sin(thetas)*np.cos(phis)\n",
    "    ys = np.sin(thetas)*np.sin(phis)\n",
    "    zs = np.cos(thetas)\n",
    "    pos = np.array([xs,ys,zs]).T\n",
    "    #rot = Rotation.from_euler('XYZ', np.array([alpha0,beta0,gamma0]).flatten())\n",
    "    rot = Rotation.from_euler('ZYX', -np.array([alpha0,beta0,gamma0]).flatten())\n",
    "    pos_rot = rot.apply(pos)\n",
    "    thetas_rot = np.arccos(pos_rot[:,2]) # cos(theta) = z / r, r=1\n",
    "    phis_rot = np.arctan2(pos_rot[:,1], pos_rot[:,0]) # tan(phi) = y / x\n",
    "    return np.concatenate([phis_rot, thetas_rot])"
   ]
  },
  {
   "cell_type": "markdown",
   "metadata": {},
   "source": [
    "- Ensemble of fits:\n",
    "    1. Randomly generate $\\alpha, \\beta,\\gamma$\n",
    "    2. Run the fit (starting from all set to 0)\n",
    "- From ensemble look at:\n",
    "    - Chi2\n",
    "    - Parameter pulls\n",
    "    - Parameter residuals\n",
    "    - Correlations"
   ]
  },
  {
   "cell_type": "code",
   "execution_count": 70,
   "metadata": {},
   "outputs": [],
   "source": [
    "def gen_data(phis, thetas, sigma, params):\n",
    "    # create meshgrid for all input independent variables\n",
    "    Ph, Th = np.meshgrid(phis, thetas)\n",
    "    # flatten all to 1D arrays\n",
    "    Th = Th.flatten()\n",
    "    Ph = Ph.flatten()\n",
    "    \n",
    "    # create pandas.DataFrame to store information from each data point\n",
    "    df = pd.DataFrame({\"Theta\": Th, \"Phi\": Ph})\n",
    "    # add columns for angles in degrees for convenience\n",
    "    df[\"Theta_deg\"] = np.degrees(df.Theta)\n",
    "    df[\"Phi_deg\"] = np.degrees(df.Phi)\n",
    "    # use forward function to generate voltage data and store in new column\n",
    "    #df[\"V_obs\"] = V_forward(df.B.values, df.Temp.values, df.Theta.values, df.Phi.values, **params)\n",
    "    #phiprime, thetaprime = euler_model(Th, Ph, **params).reshape((2, -1))\n",
    "    phiprime, thetaprime = euler_model(phis=Ph, thetas=Th, **params).reshape((2, -1))\n",
    "    df['phi1_exact'] = phiprime\n",
    "    df['theta1_exact'] = thetaprime\n",
    "    # inject noise\n",
    "    df[\"phi1_obs\"] = df[\"phi1_exact\"] + np.random.normal(loc=0.0, scale=sigma, size=len(df))\n",
    "    df[\"theta1_obs\"] = df[\"theta1_exact\"] + np.random.normal(loc=0.0, scale=sigma, size=len(df))\n",
    "    # set sigma as a column\n",
    "    df[\"sigma_V\"] = sigma\n",
    "    \n",
    "    return df"
   ]
  },
  {
   "cell_type": "markdown",
   "metadata": {},
   "source": [
    "## Test Generation"
   ]
  },
  {
   "cell_type": "code",
   "execution_count": 6,
   "metadata": {},
   "outputs": [],
   "source": [
    "alpha0 = np.random.uniform(low=-np.pi, high=np.pi, size=1)[0]\n",
    "beta0 = np.random.uniform(low=0, high=np.pi, size=1)[0]\n",
    "gamma0 = np.random.uniform(low=-np.pi, high=np.pi, size=1)[0]"
   ]
  },
  {
   "cell_type": "code",
   "execution_count": 71,
   "metadata": {},
   "outputs": [],
   "source": [
    "alpha0, beta0, gamma0 = 0, np.pi/2, -np.pi/2"
   ]
  },
  {
   "cell_type": "code",
   "execution_count": 72,
   "metadata": {},
   "outputs": [],
   "source": [
    "params_true = {'alpha0':alpha0, 'beta0':beta0, 'gamma0':gamma0}"
   ]
  },
  {
   "cell_type": "code",
   "execution_count": 73,
   "metadata": {},
   "outputs": [
    {
     "data": {
      "text/plain": [
       "{'alpha0': 0, 'beta0': 1.5707963267948966, 'gamma0': -1.5707963267948966}"
      ]
     },
     "execution_count": 73,
     "metadata": {},
     "output_type": "execute_result"
    }
   ],
   "source": [
    "params_true"
   ]
  },
  {
   "cell_type": "code",
   "execution_count": 74,
   "metadata": {},
   "outputs": [],
   "source": [
    "df_gen = gen_data(np.linspace(0, 2*np.pi, 200), np.linspace(0, np.pi, 100), 0.01, params_true)"
   ]
  },
  {
   "cell_type": "code",
   "execution_count": 75,
   "metadata": {},
   "outputs": [
    {
     "data": {
      "text/html": [
       "<div>\n",
       "<style scoped>\n",
       "    .dataframe tbody tr th:only-of-type {\n",
       "        vertical-align: middle;\n",
       "    }\n",
       "\n",
       "    .dataframe tbody tr th {\n",
       "        vertical-align: top;\n",
       "    }\n",
       "\n",
       "    .dataframe thead th {\n",
       "        text-align: right;\n",
       "    }\n",
       "</style>\n",
       "<table border=\"1\" class=\"dataframe\">\n",
       "  <thead>\n",
       "    <tr style=\"text-align: right;\">\n",
       "      <th></th>\n",
       "      <th>Theta</th>\n",
       "      <th>Phi</th>\n",
       "      <th>Theta_deg</th>\n",
       "      <th>Phi_deg</th>\n",
       "      <th>phi1_exact</th>\n",
       "      <th>theta1_exact</th>\n",
       "      <th>phi1_obs</th>\n",
       "      <th>theta1_obs</th>\n",
       "      <th>sigma_V</th>\n",
       "    </tr>\n",
       "  </thead>\n",
       "  <tbody>\n",
       "    <tr>\n",
       "      <th>0</th>\n",
       "      <td>0.000000</td>\n",
       "      <td>0.000000</td>\n",
       "      <td>0.0</td>\n",
       "      <td>0.000000</td>\n",
       "      <td>-1.570796</td>\n",
       "      <td>1.570796</td>\n",
       "      <td>-1.578516</td>\n",
       "      <td>1.562778</td>\n",
       "      <td>0.01</td>\n",
       "    </tr>\n",
       "    <tr>\n",
       "      <th>1</th>\n",
       "      <td>0.000000</td>\n",
       "      <td>0.031574</td>\n",
       "      <td>0.0</td>\n",
       "      <td>1.809045</td>\n",
       "      <td>-1.570796</td>\n",
       "      <td>1.570796</td>\n",
       "      <td>-1.586900</td>\n",
       "      <td>1.589680</td>\n",
       "      <td>0.01</td>\n",
       "    </tr>\n",
       "    <tr>\n",
       "      <th>2</th>\n",
       "      <td>0.000000</td>\n",
       "      <td>0.063148</td>\n",
       "      <td>0.0</td>\n",
       "      <td>3.618090</td>\n",
       "      <td>-1.570796</td>\n",
       "      <td>1.570796</td>\n",
       "      <td>-1.574841</td>\n",
       "      <td>1.570347</td>\n",
       "      <td>0.01</td>\n",
       "    </tr>\n",
       "    <tr>\n",
       "      <th>3</th>\n",
       "      <td>0.000000</td>\n",
       "      <td>0.094721</td>\n",
       "      <td>0.0</td>\n",
       "      <td>5.427136</td>\n",
       "      <td>-1.570796</td>\n",
       "      <td>1.570796</td>\n",
       "      <td>-1.559290</td>\n",
       "      <td>1.578382</td>\n",
       "      <td>0.01</td>\n",
       "    </tr>\n",
       "    <tr>\n",
       "      <th>4</th>\n",
       "      <td>0.000000</td>\n",
       "      <td>0.126295</td>\n",
       "      <td>0.0</td>\n",
       "      <td>7.236181</td>\n",
       "      <td>-1.570796</td>\n",
       "      <td>1.570796</td>\n",
       "      <td>-1.561856</td>\n",
       "      <td>1.549848</td>\n",
       "      <td>0.01</td>\n",
       "    </tr>\n",
       "    <tr>\n",
       "      <th>...</th>\n",
       "      <td>...</td>\n",
       "      <td>...</td>\n",
       "      <td>...</td>\n",
       "      <td>...</td>\n",
       "      <td>...</td>\n",
       "      <td>...</td>\n",
       "      <td>...</td>\n",
       "      <td>...</td>\n",
       "      <td>...</td>\n",
       "    </tr>\n",
       "    <tr>\n",
       "      <th>19995</th>\n",
       "      <td>3.141593</td>\n",
       "      <td>6.156890</td>\n",
       "      <td>180.0</td>\n",
       "      <td>352.763819</td>\n",
       "      <td>1.570796</td>\n",
       "      <td>1.570796</td>\n",
       "      <td>1.558396</td>\n",
       "      <td>1.552900</td>\n",
       "      <td>0.01</td>\n",
       "    </tr>\n",
       "    <tr>\n",
       "      <th>19996</th>\n",
       "      <td>3.141593</td>\n",
       "      <td>6.188464</td>\n",
       "      <td>180.0</td>\n",
       "      <td>354.572864</td>\n",
       "      <td>1.570796</td>\n",
       "      <td>1.570796</td>\n",
       "      <td>1.586788</td>\n",
       "      <td>1.557458</td>\n",
       "      <td>0.01</td>\n",
       "    </tr>\n",
       "    <tr>\n",
       "      <th>19997</th>\n",
       "      <td>3.141593</td>\n",
       "      <td>6.220038</td>\n",
       "      <td>180.0</td>\n",
       "      <td>356.381910</td>\n",
       "      <td>1.570796</td>\n",
       "      <td>1.570796</td>\n",
       "      <td>1.580907</td>\n",
       "      <td>1.566940</td>\n",
       "      <td>0.01</td>\n",
       "    </tr>\n",
       "    <tr>\n",
       "      <th>19998</th>\n",
       "      <td>3.141593</td>\n",
       "      <td>6.251612</td>\n",
       "      <td>180.0</td>\n",
       "      <td>358.190955</td>\n",
       "      <td>1.570796</td>\n",
       "      <td>1.570796</td>\n",
       "      <td>1.567899</td>\n",
       "      <td>1.552473</td>\n",
       "      <td>0.01</td>\n",
       "    </tr>\n",
       "    <tr>\n",
       "      <th>19999</th>\n",
       "      <td>3.141593</td>\n",
       "      <td>6.283185</td>\n",
       "      <td>180.0</td>\n",
       "      <td>360.000000</td>\n",
       "      <td>1.570796</td>\n",
       "      <td>1.570796</td>\n",
       "      <td>1.580767</td>\n",
       "      <td>1.569747</td>\n",
       "      <td>0.01</td>\n",
       "    </tr>\n",
       "  </tbody>\n",
       "</table>\n",
       "<p>20000 rows × 9 columns</p>\n",
       "</div>"
      ],
      "text/plain": [
       "          Theta       Phi  Theta_deg     Phi_deg  phi1_exact  theta1_exact  \\\n",
       "0      0.000000  0.000000        0.0    0.000000   -1.570796      1.570796   \n",
       "1      0.000000  0.031574        0.0    1.809045   -1.570796      1.570796   \n",
       "2      0.000000  0.063148        0.0    3.618090   -1.570796      1.570796   \n",
       "3      0.000000  0.094721        0.0    5.427136   -1.570796      1.570796   \n",
       "4      0.000000  0.126295        0.0    7.236181   -1.570796      1.570796   \n",
       "...         ...       ...        ...         ...         ...           ...   \n",
       "19995  3.141593  6.156890      180.0  352.763819    1.570796      1.570796   \n",
       "19996  3.141593  6.188464      180.0  354.572864    1.570796      1.570796   \n",
       "19997  3.141593  6.220038      180.0  356.381910    1.570796      1.570796   \n",
       "19998  3.141593  6.251612      180.0  358.190955    1.570796      1.570796   \n",
       "19999  3.141593  6.283185      180.0  360.000000    1.570796      1.570796   \n",
       "\n",
       "       phi1_obs  theta1_obs  sigma_V  \n",
       "0     -1.578516    1.562778     0.01  \n",
       "1     -1.586900    1.589680     0.01  \n",
       "2     -1.574841    1.570347     0.01  \n",
       "3     -1.559290    1.578382     0.01  \n",
       "4     -1.561856    1.549848     0.01  \n",
       "...         ...         ...      ...  \n",
       "19995  1.558396    1.552900     0.01  \n",
       "19996  1.586788    1.557458     0.01  \n",
       "19997  1.580907    1.566940     0.01  \n",
       "19998  1.567899    1.552473     0.01  \n",
       "19999  1.580767    1.569747     0.01  \n",
       "\n",
       "[20000 rows x 9 columns]"
      ]
     },
     "execution_count": 75,
     "metadata": {},
     "output_type": "execute_result"
    }
   ],
   "source": [
    "df_gen"
   ]
  },
  {
   "cell_type": "code",
   "execution_count": 76,
   "metadata": {},
   "outputs": [],
   "source": [
    "df_test = df_gen[np.isin(df_gen['Theta'],df_gen['Theta'].unique()[::10])\n",
    "                 & np.isin(df_gen['Phi'],df_gen['Phi'].unique()[::10])]"
   ]
  },
  {
   "cell_type": "code",
   "execution_count": 77,
   "metadata": {},
   "outputs": [
    {
     "data": {
      "text/html": [
       "<div>\n",
       "<style scoped>\n",
       "    .dataframe tbody tr th:only-of-type {\n",
       "        vertical-align: middle;\n",
       "    }\n",
       "\n",
       "    .dataframe tbody tr th {\n",
       "        vertical-align: top;\n",
       "    }\n",
       "\n",
       "    .dataframe thead th {\n",
       "        text-align: right;\n",
       "    }\n",
       "</style>\n",
       "<table border=\"1\" class=\"dataframe\">\n",
       "  <thead>\n",
       "    <tr style=\"text-align: right;\">\n",
       "      <th></th>\n",
       "      <th>Theta</th>\n",
       "      <th>Phi</th>\n",
       "      <th>Theta_deg</th>\n",
       "      <th>Phi_deg</th>\n",
       "      <th>phi1_exact</th>\n",
       "      <th>theta1_exact</th>\n",
       "      <th>phi1_obs</th>\n",
       "      <th>theta1_obs</th>\n",
       "      <th>sigma_V</th>\n",
       "    </tr>\n",
       "  </thead>\n",
       "  <tbody>\n",
       "    <tr>\n",
       "      <th>0</th>\n",
       "      <td>0.000000</td>\n",
       "      <td>0.000000</td>\n",
       "      <td>0.000000</td>\n",
       "      <td>0.000000</td>\n",
       "      <td>-1.570796</td>\n",
       "      <td>1.570796</td>\n",
       "      <td>-1.578516</td>\n",
       "      <td>1.562778</td>\n",
       "      <td>0.01</td>\n",
       "    </tr>\n",
       "    <tr>\n",
       "      <th>10</th>\n",
       "      <td>0.000000</td>\n",
       "      <td>0.315738</td>\n",
       "      <td>0.000000</td>\n",
       "      <td>18.090452</td>\n",
       "      <td>-1.570796</td>\n",
       "      <td>1.570796</td>\n",
       "      <td>-1.568385</td>\n",
       "      <td>1.557102</td>\n",
       "      <td>0.01</td>\n",
       "    </tr>\n",
       "    <tr>\n",
       "      <th>20</th>\n",
       "      <td>0.000000</td>\n",
       "      <td>0.631476</td>\n",
       "      <td>0.000000</td>\n",
       "      <td>36.180905</td>\n",
       "      <td>-1.570796</td>\n",
       "      <td>1.570796</td>\n",
       "      <td>-1.547928</td>\n",
       "      <td>1.599842</td>\n",
       "      <td>0.01</td>\n",
       "    </tr>\n",
       "    <tr>\n",
       "      <th>30</th>\n",
       "      <td>0.000000</td>\n",
       "      <td>0.947214</td>\n",
       "      <td>0.000000</td>\n",
       "      <td>54.271357</td>\n",
       "      <td>-1.570796</td>\n",
       "      <td>1.570796</td>\n",
       "      <td>-1.571755</td>\n",
       "      <td>1.580903</td>\n",
       "      <td>0.01</td>\n",
       "    </tr>\n",
       "    <tr>\n",
       "      <th>40</th>\n",
       "      <td>0.000000</td>\n",
       "      <td>1.262952</td>\n",
       "      <td>0.000000</td>\n",
       "      <td>72.361809</td>\n",
       "      <td>-1.570796</td>\n",
       "      <td>1.570796</td>\n",
       "      <td>-1.576435</td>\n",
       "      <td>1.566619</td>\n",
       "      <td>0.01</td>\n",
       "    </tr>\n",
       "    <tr>\n",
       "      <th>...</th>\n",
       "      <td>...</td>\n",
       "      <td>...</td>\n",
       "      <td>...</td>\n",
       "      <td>...</td>\n",
       "      <td>...</td>\n",
       "      <td>...</td>\n",
       "      <td>...</td>\n",
       "      <td>...</td>\n",
       "      <td>...</td>\n",
       "    </tr>\n",
       "    <tr>\n",
       "      <th>18150</th>\n",
       "      <td>2.855993</td>\n",
       "      <td>4.736069</td>\n",
       "      <td>163.636364</td>\n",
       "      <td>271.356784</td>\n",
       "      <td>1.285273</td>\n",
       "      <td>1.564125</td>\n",
       "      <td>1.291846</td>\n",
       "      <td>1.555125</td>\n",
       "      <td>0.01</td>\n",
       "    </tr>\n",
       "    <tr>\n",
       "      <th>18160</th>\n",
       "      <td>2.855993</td>\n",
       "      <td>5.051807</td>\n",
       "      <td>163.636364</td>\n",
       "      <td>289.447236</td>\n",
       "      <td>1.300688</td>\n",
       "      <td>1.476859</td>\n",
       "      <td>1.298168</td>\n",
       "      <td>1.470270</td>\n",
       "      <td>0.01</td>\n",
       "    </tr>\n",
       "    <tr>\n",
       "      <th>18170</th>\n",
       "      <td>2.855993</td>\n",
       "      <td>5.367545</td>\n",
       "      <td>163.636364</td>\n",
       "      <td>307.537688</td>\n",
       "      <td>1.342040</td>\n",
       "      <td>1.398287</td>\n",
       "      <td>1.338940</td>\n",
       "      <td>1.396672</td>\n",
       "      <td>0.01</td>\n",
       "    </tr>\n",
       "    <tr>\n",
       "      <th>18180</th>\n",
       "      <td>2.855993</td>\n",
       "      <td>5.683283</td>\n",
       "      <td>163.636364</td>\n",
       "      <td>325.628141</td>\n",
       "      <td>1.406520</td>\n",
       "      <td>1.336108</td>\n",
       "      <td>1.401325</td>\n",
       "      <td>1.339531</td>\n",
       "      <td>0.01</td>\n",
       "    </tr>\n",
       "    <tr>\n",
       "      <th>18190</th>\n",
       "      <td>2.855993</td>\n",
       "      <td>5.999021</td>\n",
       "      <td>163.636364</td>\n",
       "      <td>343.718593</td>\n",
       "      <td>1.488662</td>\n",
       "      <td>1.296952</td>\n",
       "      <td>1.471654</td>\n",
       "      <td>1.288869</td>\n",
       "      <td>0.01</td>\n",
       "    </tr>\n",
       "  </tbody>\n",
       "</table>\n",
       "<p>200 rows × 9 columns</p>\n",
       "</div>"
      ],
      "text/plain": [
       "          Theta       Phi   Theta_deg     Phi_deg  phi1_exact  theta1_exact  \\\n",
       "0      0.000000  0.000000    0.000000    0.000000   -1.570796      1.570796   \n",
       "10     0.000000  0.315738    0.000000   18.090452   -1.570796      1.570796   \n",
       "20     0.000000  0.631476    0.000000   36.180905   -1.570796      1.570796   \n",
       "30     0.000000  0.947214    0.000000   54.271357   -1.570796      1.570796   \n",
       "40     0.000000  1.262952    0.000000   72.361809   -1.570796      1.570796   \n",
       "...         ...       ...         ...         ...         ...           ...   \n",
       "18150  2.855993  4.736069  163.636364  271.356784    1.285273      1.564125   \n",
       "18160  2.855993  5.051807  163.636364  289.447236    1.300688      1.476859   \n",
       "18170  2.855993  5.367545  163.636364  307.537688    1.342040      1.398287   \n",
       "18180  2.855993  5.683283  163.636364  325.628141    1.406520      1.336108   \n",
       "18190  2.855993  5.999021  163.636364  343.718593    1.488662      1.296952   \n",
       "\n",
       "       phi1_obs  theta1_obs  sigma_V  \n",
       "0     -1.578516    1.562778     0.01  \n",
       "10    -1.568385    1.557102     0.01  \n",
       "20    -1.547928    1.599842     0.01  \n",
       "30    -1.571755    1.580903     0.01  \n",
       "40    -1.576435    1.566619     0.01  \n",
       "...         ...         ...      ...  \n",
       "18150  1.291846    1.555125     0.01  \n",
       "18160  1.298168    1.470270     0.01  \n",
       "18170  1.338940    1.396672     0.01  \n",
       "18180  1.401325    1.339531     0.01  \n",
       "18190  1.471654    1.288869     0.01  \n",
       "\n",
       "[200 rows x 9 columns]"
      ]
     },
     "execution_count": 77,
     "metadata": {},
     "output_type": "execute_result"
    }
   ],
   "source": [
    "df_test"
   ]
  },
  {
   "cell_type": "code",
   "execution_count": 79,
   "metadata": {},
   "outputs": [
    {
     "data": {
      "text/plain": [
       "(400,)"
      ]
     },
     "execution_count": 79,
     "metadata": {},
     "output_type": "execute_result"
    }
   ],
   "source": [
    "samples = np.concatenate([df_test['phi1_obs'].values,df_test['theta1_obs'].values])\n",
    "#samples = np.concatenate([df_test['phi1_exact'].values,df_test['theta1_exact'].values])\n",
    "samples.shape"
   ]
  },
  {
   "cell_type": "code",
   "execution_count": 83,
   "metadata": {},
   "outputs": [],
   "source": [
    "# construct model\n",
    "model = lm.Model(euler_model, independent_vars=['phis', 'thetas'])\n",
    "params = lm.Parameters()\n",
    "params.add('alpha0', vary=True, value=params_true['alpha0'], min=-np.pi, max=np.pi)\n",
    "params.add('beta0', vary=True, value=params_true['beta0'], min=0, max=np.pi)\n",
    "params.add('gamma0', vary=True, value=params_true['gamma0'], min=-np.pi, max=np.pi)\n",
    "#params.add('alpha0', vary=True, value=0, min=-np.pi, max=np.pi)\n",
    "#params.add('beta0', vary=True, value=0, min=0, max=np.pi)\n",
    "#params.add('gamma0', vary=True, value=0, min=-np.pi, max=np.pi)\n",
    "result = model.fit(samples, \n",
    "                   phis=df_test['Phi'].values, thetas=df_test['Theta'].values,\n",
    "                   params=params, weights= 1/df_test['sigma_V'].values[0], method='least_squares',\n",
    "                  )#fit_kws={'max_nfev':1})#_squares')"
   ]
  },
  {
   "cell_type": "code",
   "execution_count": 84,
   "metadata": {
    "scrolled": false
   },
   "outputs": [
    {
     "data": {
      "text/html": [
       "<h2> Model</h2> Model(euler_model) <h2>Fit Statistics</h2><table><tr><td>fitting method</td><td>least_squares</td><td></td></tr><tr><td># function evals</td><td>10</td><td></td></tr><tr><td># data points</td><td>400</td><td></td></tr><tr><td># variables</td><td>3</td><td></td></tr><tr><td>chi-square</td><td> 386.696617</td><td></td></tr><tr><td>reduced chi-square</td><td> 0.97404689</td><td></td></tr><tr><td>Akaike info crit.</td><td>-7.52963851</td><td></td></tr><tr><td>Bayesian info crit.</td><td> 4.44475513</td><td></td></tr></table><h2>Variables</h2><table><tr><th> name </th><th> value </th><th> standard error </th><th> relative error </th><th> initial value </th><th> min </th><th> max </th><th> vary </th></tr><tr><td> alpha0 </td><td>  0.92703594 </td><td>  1.24940217 </td><td> (134.77%) </td><td> 0 </td><td> -3.14159265 </td><td>  3.14159265 </td><td> True </td></tr><tr><td> beta0 </td><td>  1.57058622 </td><td>  2.3032e-04 </td><td> (0.01%) </td><td> 1.5707963267948966 </td><td>  0.00000000 </td><td>  3.14159265 </td><td> True </td></tr><tr><td> gamma0 </td><td> -2.49927669 </td><td>  1.24934200 </td><td> (49.99%) </td><td> -1.5707963267948966 </td><td> -3.14159265 </td><td>  3.14159265 </td><td> True </td></tr></table><h2>Correlations (unreported correlations are < 0.100)</h2><table><tr><td>alpha0</td><td>gamma0</td><td>-1.0000</td></tr><tr><td>alpha0</td><td>beta0</td><td>-0.7025</td></tr><tr><td>beta0</td><td>gamma0</td><td>0.7025</td></tr></table>"
      ],
      "text/plain": [
       "<lmfit.model.ModelResult at 0x7fc26c01e640>"
      ]
     },
     "execution_count": 84,
     "metadata": {},
     "output_type": "execute_result"
    }
   ],
   "source": [
    "result"
   ]
  },
  {
   "cell_type": "code",
   "execution_count": null,
   "metadata": {},
   "outputs": [],
   "source": [
    "cos(alpha + gamma), sin(alpha + gamma)"
   ]
  },
  {
   "cell_type": "code",
   "execution_count": 85,
   "metadata": {},
   "outputs": [
    {
     "data": {
      "text/plain": [
       "-1.572"
      ]
     },
     "execution_count": 85,
     "metadata": {},
     "output_type": "execute_result"
    }
   ],
   "source": [
    "-2.499+.927"
   ]
  },
  {
   "cell_type": "code",
   "execution_count": 82,
   "metadata": {},
   "outputs": [
    {
     "data": {
      "text/plain": [
       "{'alpha0': 0, 'beta0': 1.5707963267948966, 'gamma0': -1.5707963267948966}"
      ]
     },
     "execution_count": 82,
     "metadata": {},
     "output_type": "execute_result"
    }
   ],
   "source": [
    "params_true"
   ]
  },
  {
   "cell_type": "code",
   "execution_count": 20,
   "metadata": {},
   "outputs": [
    {
     "data": {
      "text/plain": [
       "337.617424"
      ]
     },
     "execution_count": 20,
     "metadata": {},
     "output_type": "execute_result"
    }
   ],
   "source": [
    "33761.7424 * .01"
   ]
  },
  {
   "cell_type": "code",
   "execution_count": 21,
   "metadata": {},
   "outputs": [
    {
     "ename": "NameError",
     "evalue": "name 'phis' is not defined",
     "output_type": "error",
     "traceback": [
      "\u001b[0;31m---------------------------------------------------------------------------\u001b[0m",
      "\u001b[0;31mNameError\u001b[0m                                 Traceback (most recent call last)",
      "\u001b[0;32m<ipython-input-21-8786a9259f4a>\u001b[0m in \u001b[0;36m<module>\u001b[0;34m\u001b[0m\n\u001b[0;32m----> 1\u001b[0;31m \u001b[0mphis\u001b[0m\u001b[0;34m,\u001b[0m \u001b[0mtheta\u001b[0m\u001b[0;34m\u001b[0m\u001b[0;34m\u001b[0m\u001b[0m\n\u001b[0m",
      "\u001b[0;31mNameError\u001b[0m: name 'phis' is not defined"
     ]
    }
   ],
   "source": [
    "phis, theta"
   ]
  },
  {
   "cell_type": "code",
   "execution_count": 22,
   "metadata": {},
   "outputs": [
    {
     "ename": "NameError",
     "evalue": "name 'p' is not defined",
     "output_type": "error",
     "traceback": [
      "\u001b[0;31m---------------------------------------------------------------------------\u001b[0m",
      "\u001b[0;31mNameError\u001b[0m                                 Traceback (most recent call last)",
      "\u001b[0;32m<ipython-input-22-6c10289a8da7>\u001b[0m in \u001b[0;36m<module>\u001b[0;34m\u001b[0m\n\u001b[0;32m----> 1\u001b[0;31m \u001b[0mp\u001b[0m\u001b[0;34m\u001b[0m\u001b[0;34m\u001b[0m\u001b[0m\n\u001b[0m",
      "\u001b[0;31mNameError\u001b[0m: name 'p' is not defined"
     ]
    }
   ],
   "source": [
    "p"
   ]
  },
  {
   "cell_type": "code",
   "execution_count": 23,
   "metadata": {},
   "outputs": [
    {
     "data": {
      "text/plain": [
       "0.5729577951308232"
      ]
     },
     "execution_count": 23,
     "metadata": {},
     "output_type": "execute_result"
    }
   ],
   "source": [
    "np.degrees(0.01)"
   ]
  },
  {
   "cell_type": "markdown",
   "metadata": {},
   "source": [
    "# Quaternions"
   ]
  },
  {
   "cell_type": "code",
   "execution_count": 86,
   "metadata": {},
   "outputs": [],
   "source": [
    "#rot = Rotation.from_euler('ZYX', -np.array([-np.pi/2,np.pi/2,0]))\n",
    "rot = Rotation.from_euler('XYZ', np.array([0,np.pi/2,-np.pi/2]))"
   ]
  },
  {
   "cell_type": "code",
   "execution_count": 87,
   "metadata": {},
   "outputs": [
    {
     "data": {
      "text/plain": [
       "array([-0.5,  0.5, -0.5,  0.5])"
      ]
     },
     "execution_count": 87,
     "metadata": {},
     "output_type": "execute_result"
    }
   ],
   "source": [
    "rot.as_quat()"
   ]
  },
  {
   "cell_type": "code",
   "execution_count": 88,
   "metadata": {},
   "outputs": [
    {
     "data": {
      "text/plain": [
       "array([[ 0.00000000e+00,  2.22044605e-16,  1.00000000e+00],\n",
       "       [-1.00000000e+00,  2.22044605e-16,  0.00000000e+00],\n",
       "       [-2.22044605e-16, -1.00000000e+00,  2.22044605e-16]])"
      ]
     },
     "execution_count": 88,
     "metadata": {},
     "output_type": "execute_result"
    }
   ],
   "source": [
    "rot.as_matrix()"
   ]
  },
  {
   "cell_type": "code",
   "execution_count": null,
   "metadata": {},
   "outputs": [],
   "source": []
  },
  {
   "cell_type": "code",
   "execution_count": 89,
   "metadata": {},
   "outputs": [],
   "source": [
    "def quat_model(phis, thetas, **params):\n",
    "    x0,y0,z0,w0 = params['x0'], params['y0'], params['z0'], params['w0'] # let scipy normalize input\n",
    "    #x0,y0,z0 = params['x0'], params['y0'], params['z0']\n",
    "    #w0 = (1-(x0**2 + y0**2 + z0**2))**(1/2) # forces w0 positive\n",
    "    xs = np.sin(thetas)*np.cos(phis)\n",
    "    ys = np.sin(thetas)*np.sin(phis)\n",
    "    zs = np.cos(thetas)\n",
    "    pos = np.array([xs,ys,zs]).T\n",
    "    #rot = Rotation.from_euler('XYZ', np.array([alpha0,beta0,gamma0]).flatten())\n",
    "    #rot = Rotation.from_euler('ZYX', -np.array([alpha0,beta0,gamma0]).flatten())\n",
    "    rot = Rotation.from_quat([x0,y0,z0,w0])\n",
    "    pos_rot = rot.apply(pos)\n",
    "    thetas_rot = np.arccos(pos_rot[:,2]) # cos(theta) = z / r, r=1\n",
    "    phis_rot = np.arctan2(pos_rot[:,1], pos_rot[:,0]) # tan(phi) = y / x\n",
    "    return np.concatenate([phis_rot, thetas_rot])"
   ]
  },
  {
   "cell_type": "code",
   "execution_count": 90,
   "metadata": {},
   "outputs": [],
   "source": [
    "def gen_data_quat(phis, thetas, sigma, params):\n",
    "    # create meshgrid for all input independent variables\n",
    "    Ph, Th = np.meshgrid(phis, thetas)\n",
    "    # flatten all to 1D arrays\n",
    "    Th = Th.flatten()\n",
    "    Ph = Ph.flatten()\n",
    "    \n",
    "    # create pandas.DataFrame to store information from each data point\n",
    "    df = pd.DataFrame({\"Theta\": Th, \"Phi\": Ph})\n",
    "    # add columns for angles in degrees for convenience\n",
    "    df[\"Theta_deg\"] = np.degrees(df.Theta)\n",
    "    df[\"Phi_deg\"] = np.degrees(df.Phi)\n",
    "    # use forward function to generate voltage data and store in new column\n",
    "    #df[\"V_obs\"] = V_forward(df.B.values, df.Temp.values, df.Theta.values, df.Phi.values, **params)\n",
    "    #phiprime, thetaprime = euler_model(Th, Ph, **params).reshape((2, -1))\n",
    "    phiprime, thetaprime = quat_model(phis=Ph, thetas=Th, **params).reshape((2, -1))\n",
    "    df['phi1_exact'] = phiprime\n",
    "    df['theta1_exact'] = thetaprime\n",
    "    # inject noise\n",
    "    df[\"phi1_obs\"] = df[\"phi1_exact\"] + np.random.normal(loc=0.0, scale=sigma, size=len(df))\n",
    "    df[\"theta1_obs\"] = df[\"theta1_exact\"] + np.random.normal(loc=0.0, scale=sigma, size=len(df))\n",
    "    # set sigma as a column\n",
    "    df[\"sigma_V\"] = sigma\n",
    "    \n",
    "    return df"
   ]
  },
  {
   "cell_type": "markdown",
   "metadata": {},
   "source": [
    "## Test Generation"
   ]
  },
  {
   "cell_type": "code",
   "execution_count": 91,
   "metadata": {},
   "outputs": [],
   "source": [
    "x0, y0, z0, w0 = [-0.5,  0.5, -0.5,  0.5]"
   ]
  },
  {
   "cell_type": "code",
   "execution_count": 92,
   "metadata": {},
   "outputs": [],
   "source": [
    "params_true = {'x0':x0, 'y0':y0, 'z0':z0, 'w0':w0}"
   ]
  },
  {
   "cell_type": "code",
   "execution_count": 93,
   "metadata": {},
   "outputs": [
    {
     "data": {
      "text/plain": [
       "{'x0': -0.5, 'y0': 0.5, 'z0': -0.5, 'w0': 0.5}"
      ]
     },
     "execution_count": 93,
     "metadata": {},
     "output_type": "execute_result"
    }
   ],
   "source": [
    "params_true"
   ]
  },
  {
   "cell_type": "code",
   "execution_count": 94,
   "metadata": {},
   "outputs": [],
   "source": [
    "df_gen = gen_data_quat(np.linspace(0, 2*np.pi, 200), np.linspace(0, np.pi, 100), 0.01, params_true)"
   ]
  },
  {
   "cell_type": "code",
   "execution_count": 95,
   "metadata": {},
   "outputs": [
    {
     "data": {
      "text/html": [
       "<div>\n",
       "<style scoped>\n",
       "    .dataframe tbody tr th:only-of-type {\n",
       "        vertical-align: middle;\n",
       "    }\n",
       "\n",
       "    .dataframe tbody tr th {\n",
       "        vertical-align: top;\n",
       "    }\n",
       "\n",
       "    .dataframe thead th {\n",
       "        text-align: right;\n",
       "    }\n",
       "</style>\n",
       "<table border=\"1\" class=\"dataframe\">\n",
       "  <thead>\n",
       "    <tr style=\"text-align: right;\">\n",
       "      <th></th>\n",
       "      <th>Theta</th>\n",
       "      <th>Phi</th>\n",
       "      <th>Theta_deg</th>\n",
       "      <th>Phi_deg</th>\n",
       "      <th>phi1_exact</th>\n",
       "      <th>theta1_exact</th>\n",
       "      <th>phi1_obs</th>\n",
       "      <th>theta1_obs</th>\n",
       "      <th>sigma_V</th>\n",
       "    </tr>\n",
       "  </thead>\n",
       "  <tbody>\n",
       "    <tr>\n",
       "      <th>0</th>\n",
       "      <td>0.000000</td>\n",
       "      <td>0.000000</td>\n",
       "      <td>0.0</td>\n",
       "      <td>0.000000</td>\n",
       "      <td>0.000000</td>\n",
       "      <td>1.570796</td>\n",
       "      <td>-0.018248</td>\n",
       "      <td>1.577416</td>\n",
       "      <td>0.01</td>\n",
       "    </tr>\n",
       "    <tr>\n",
       "      <th>1</th>\n",
       "      <td>0.000000</td>\n",
       "      <td>0.031574</td>\n",
       "      <td>0.0</td>\n",
       "      <td>1.809045</td>\n",
       "      <td>0.000000</td>\n",
       "      <td>1.570796</td>\n",
       "      <td>0.009166</td>\n",
       "      <td>1.568633</td>\n",
       "      <td>0.01</td>\n",
       "    </tr>\n",
       "    <tr>\n",
       "      <th>2</th>\n",
       "      <td>0.000000</td>\n",
       "      <td>0.063148</td>\n",
       "      <td>0.0</td>\n",
       "      <td>3.618090</td>\n",
       "      <td>0.000000</td>\n",
       "      <td>1.570796</td>\n",
       "      <td>-0.006517</td>\n",
       "      <td>1.569779</td>\n",
       "      <td>0.01</td>\n",
       "    </tr>\n",
       "    <tr>\n",
       "      <th>3</th>\n",
       "      <td>0.000000</td>\n",
       "      <td>0.094721</td>\n",
       "      <td>0.0</td>\n",
       "      <td>5.427136</td>\n",
       "      <td>0.000000</td>\n",
       "      <td>1.570796</td>\n",
       "      <td>0.024550</td>\n",
       "      <td>1.559845</td>\n",
       "      <td>0.01</td>\n",
       "    </tr>\n",
       "    <tr>\n",
       "      <th>4</th>\n",
       "      <td>0.000000</td>\n",
       "      <td>0.126295</td>\n",
       "      <td>0.0</td>\n",
       "      <td>7.236181</td>\n",
       "      <td>0.000000</td>\n",
       "      <td>1.570796</td>\n",
       "      <td>0.006481</td>\n",
       "      <td>1.584892</td>\n",
       "      <td>0.01</td>\n",
       "    </tr>\n",
       "    <tr>\n",
       "      <th>...</th>\n",
       "      <td>...</td>\n",
       "      <td>...</td>\n",
       "      <td>...</td>\n",
       "      <td>...</td>\n",
       "      <td>...</td>\n",
       "      <td>...</td>\n",
       "      <td>...</td>\n",
       "      <td>...</td>\n",
       "      <td>...</td>\n",
       "    </tr>\n",
       "    <tr>\n",
       "      <th>19995</th>\n",
       "      <td>3.141593</td>\n",
       "      <td>6.156890</td>\n",
       "      <td>180.0</td>\n",
       "      <td>352.763819</td>\n",
       "      <td>-3.141593</td>\n",
       "      <td>1.570796</td>\n",
       "      <td>-3.132158</td>\n",
       "      <td>1.576826</td>\n",
       "      <td>0.01</td>\n",
       "    </tr>\n",
       "    <tr>\n",
       "      <th>19996</th>\n",
       "      <td>3.141593</td>\n",
       "      <td>6.188464</td>\n",
       "      <td>180.0</td>\n",
       "      <td>354.572864</td>\n",
       "      <td>-3.141593</td>\n",
       "      <td>1.570796</td>\n",
       "      <td>-3.162591</td>\n",
       "      <td>1.583566</td>\n",
       "      <td>0.01</td>\n",
       "    </tr>\n",
       "    <tr>\n",
       "      <th>19997</th>\n",
       "      <td>3.141593</td>\n",
       "      <td>6.220038</td>\n",
       "      <td>180.0</td>\n",
       "      <td>356.381910</td>\n",
       "      <td>-3.141593</td>\n",
       "      <td>1.570796</td>\n",
       "      <td>-3.158117</td>\n",
       "      <td>1.570255</td>\n",
       "      <td>0.01</td>\n",
       "    </tr>\n",
       "    <tr>\n",
       "      <th>19998</th>\n",
       "      <td>3.141593</td>\n",
       "      <td>6.251612</td>\n",
       "      <td>180.0</td>\n",
       "      <td>358.190955</td>\n",
       "      <td>-3.141593</td>\n",
       "      <td>1.570796</td>\n",
       "      <td>-3.143114</td>\n",
       "      <td>1.573984</td>\n",
       "      <td>0.01</td>\n",
       "    </tr>\n",
       "    <tr>\n",
       "      <th>19999</th>\n",
       "      <td>3.141593</td>\n",
       "      <td>6.283185</td>\n",
       "      <td>180.0</td>\n",
       "      <td>360.000000</td>\n",
       "      <td>-3.141593</td>\n",
       "      <td>1.570796</td>\n",
       "      <td>-3.140913</td>\n",
       "      <td>1.564885</td>\n",
       "      <td>0.01</td>\n",
       "    </tr>\n",
       "  </tbody>\n",
       "</table>\n",
       "<p>20000 rows × 9 columns</p>\n",
       "</div>"
      ],
      "text/plain": [
       "          Theta       Phi  Theta_deg     Phi_deg  phi1_exact  theta1_exact  \\\n",
       "0      0.000000  0.000000        0.0    0.000000    0.000000      1.570796   \n",
       "1      0.000000  0.031574        0.0    1.809045    0.000000      1.570796   \n",
       "2      0.000000  0.063148        0.0    3.618090    0.000000      1.570796   \n",
       "3      0.000000  0.094721        0.0    5.427136    0.000000      1.570796   \n",
       "4      0.000000  0.126295        0.0    7.236181    0.000000      1.570796   \n",
       "...         ...       ...        ...         ...         ...           ...   \n",
       "19995  3.141593  6.156890      180.0  352.763819   -3.141593      1.570796   \n",
       "19996  3.141593  6.188464      180.0  354.572864   -3.141593      1.570796   \n",
       "19997  3.141593  6.220038      180.0  356.381910   -3.141593      1.570796   \n",
       "19998  3.141593  6.251612      180.0  358.190955   -3.141593      1.570796   \n",
       "19999  3.141593  6.283185      180.0  360.000000   -3.141593      1.570796   \n",
       "\n",
       "       phi1_obs  theta1_obs  sigma_V  \n",
       "0     -0.018248    1.577416     0.01  \n",
       "1      0.009166    1.568633     0.01  \n",
       "2     -0.006517    1.569779     0.01  \n",
       "3      0.024550    1.559845     0.01  \n",
       "4      0.006481    1.584892     0.01  \n",
       "...         ...         ...      ...  \n",
       "19995 -3.132158    1.576826     0.01  \n",
       "19996 -3.162591    1.583566     0.01  \n",
       "19997 -3.158117    1.570255     0.01  \n",
       "19998 -3.143114    1.573984     0.01  \n",
       "19999 -3.140913    1.564885     0.01  \n",
       "\n",
       "[20000 rows x 9 columns]"
      ]
     },
     "execution_count": 95,
     "metadata": {},
     "output_type": "execute_result"
    }
   ],
   "source": [
    "df_gen"
   ]
  },
  {
   "cell_type": "code",
   "execution_count": 96,
   "metadata": {},
   "outputs": [],
   "source": [
    "df_test = df_gen[np.isin(df_gen['Theta'],df_gen['Theta'].unique()[::10])\n",
    "                 & np.isin(df_gen['Phi'],df_gen['Phi'].unique()[::10])]"
   ]
  },
  {
   "cell_type": "code",
   "execution_count": 97,
   "metadata": {},
   "outputs": [
    {
     "data": {
      "text/html": [
       "<div>\n",
       "<style scoped>\n",
       "    .dataframe tbody tr th:only-of-type {\n",
       "        vertical-align: middle;\n",
       "    }\n",
       "\n",
       "    .dataframe tbody tr th {\n",
       "        vertical-align: top;\n",
       "    }\n",
       "\n",
       "    .dataframe thead th {\n",
       "        text-align: right;\n",
       "    }\n",
       "</style>\n",
       "<table border=\"1\" class=\"dataframe\">\n",
       "  <thead>\n",
       "    <tr style=\"text-align: right;\">\n",
       "      <th></th>\n",
       "      <th>Theta</th>\n",
       "      <th>Phi</th>\n",
       "      <th>Theta_deg</th>\n",
       "      <th>Phi_deg</th>\n",
       "      <th>phi1_exact</th>\n",
       "      <th>theta1_exact</th>\n",
       "      <th>phi1_obs</th>\n",
       "      <th>theta1_obs</th>\n",
       "      <th>sigma_V</th>\n",
       "    </tr>\n",
       "  </thead>\n",
       "  <tbody>\n",
       "    <tr>\n",
       "      <th>0</th>\n",
       "      <td>0.000000</td>\n",
       "      <td>0.000000</td>\n",
       "      <td>0.000000</td>\n",
       "      <td>0.000000</td>\n",
       "      <td>0.000000</td>\n",
       "      <td>1.570796</td>\n",
       "      <td>-0.018248</td>\n",
       "      <td>1.577416</td>\n",
       "      <td>0.01</td>\n",
       "    </tr>\n",
       "    <tr>\n",
       "      <th>10</th>\n",
       "      <td>0.000000</td>\n",
       "      <td>0.315738</td>\n",
       "      <td>0.000000</td>\n",
       "      <td>18.090452</td>\n",
       "      <td>0.000000</td>\n",
       "      <td>1.570796</td>\n",
       "      <td>0.007491</td>\n",
       "      <td>1.563399</td>\n",
       "      <td>0.01</td>\n",
       "    </tr>\n",
       "    <tr>\n",
       "      <th>20</th>\n",
       "      <td>0.000000</td>\n",
       "      <td>0.631476</td>\n",
       "      <td>0.000000</td>\n",
       "      <td>36.180905</td>\n",
       "      <td>0.000000</td>\n",
       "      <td>1.570796</td>\n",
       "      <td>0.003111</td>\n",
       "      <td>1.564711</td>\n",
       "      <td>0.01</td>\n",
       "    </tr>\n",
       "    <tr>\n",
       "      <th>30</th>\n",
       "      <td>0.000000</td>\n",
       "      <td>0.947214</td>\n",
       "      <td>0.000000</td>\n",
       "      <td>54.271357</td>\n",
       "      <td>0.000000</td>\n",
       "      <td>1.570796</td>\n",
       "      <td>0.005834</td>\n",
       "      <td>1.570352</td>\n",
       "      <td>0.01</td>\n",
       "    </tr>\n",
       "    <tr>\n",
       "      <th>40</th>\n",
       "      <td>0.000000</td>\n",
       "      <td>1.262952</td>\n",
       "      <td>0.000000</td>\n",
       "      <td>72.361809</td>\n",
       "      <td>0.000000</td>\n",
       "      <td>1.570796</td>\n",
       "      <td>-0.006374</td>\n",
       "      <td>1.572504</td>\n",
       "      <td>0.01</td>\n",
       "    </tr>\n",
       "    <tr>\n",
       "      <th>...</th>\n",
       "      <td>...</td>\n",
       "      <td>...</td>\n",
       "      <td>...</td>\n",
       "      <td>...</td>\n",
       "      <td>...</td>\n",
       "      <td>...</td>\n",
       "      <td>...</td>\n",
       "      <td>...</td>\n",
       "      <td>...</td>\n",
       "    </tr>\n",
       "    <tr>\n",
       "      <th>18150</th>\n",
       "      <td>2.855993</td>\n",
       "      <td>4.736069</td>\n",
       "      <td>163.636364</td>\n",
       "      <td>271.356784</td>\n",
       "      <td>-3.134640</td>\n",
       "      <td>1.285279</td>\n",
       "      <td>-3.132873</td>\n",
       "      <td>1.274939</td>\n",
       "      <td>0.01</td>\n",
       "    </tr>\n",
       "    <tr>\n",
       "      <th>18160</th>\n",
       "      <td>2.855993</td>\n",
       "      <td>5.051807</td>\n",
       "      <td>163.636364</td>\n",
       "      <td>289.447236</td>\n",
       "      <td>-3.044143</td>\n",
       "      <td>1.301909</td>\n",
       "      <td>-3.064533</td>\n",
       "      <td>1.290534</td>\n",
       "      <td>0.01</td>\n",
       "    </tr>\n",
       "    <tr>\n",
       "      <th>18170</th>\n",
       "      <td>2.855993</td>\n",
       "      <td>5.367545</td>\n",
       "      <td>163.636364</td>\n",
       "      <td>307.537688</td>\n",
       "      <td>-2.964564</td>\n",
       "      <td>1.345494</td>\n",
       "      <td>-2.945220</td>\n",
       "      <td>1.335822</td>\n",
       "      <td>0.01</td>\n",
       "    </tr>\n",
       "    <tr>\n",
       "      <th>18180</th>\n",
       "      <td>2.855993</td>\n",
       "      <td>5.683283</td>\n",
       "      <td>163.636364</td>\n",
       "      <td>325.628141</td>\n",
       "      <td>-2.903821</td>\n",
       "      <td>1.411063</td>\n",
       "      <td>-2.887188</td>\n",
       "      <td>1.413076</td>\n",
       "      <td>0.01</td>\n",
       "    </tr>\n",
       "    <tr>\n",
       "      <th>18190</th>\n",
       "      <td>2.855993</td>\n",
       "      <td>5.999021</td>\n",
       "      <td>163.636364</td>\n",
       "      <td>343.718593</td>\n",
       "      <td>-2.866868</td>\n",
       "      <td>1.491729</td>\n",
       "      <td>-2.861090</td>\n",
       "      <td>1.479047</td>\n",
       "      <td>0.01</td>\n",
       "    </tr>\n",
       "  </tbody>\n",
       "</table>\n",
       "<p>200 rows × 9 columns</p>\n",
       "</div>"
      ],
      "text/plain": [
       "          Theta       Phi   Theta_deg     Phi_deg  phi1_exact  theta1_exact  \\\n",
       "0      0.000000  0.000000    0.000000    0.000000    0.000000      1.570796   \n",
       "10     0.000000  0.315738    0.000000   18.090452    0.000000      1.570796   \n",
       "20     0.000000  0.631476    0.000000   36.180905    0.000000      1.570796   \n",
       "30     0.000000  0.947214    0.000000   54.271357    0.000000      1.570796   \n",
       "40     0.000000  1.262952    0.000000   72.361809    0.000000      1.570796   \n",
       "...         ...       ...         ...         ...         ...           ...   \n",
       "18150  2.855993  4.736069  163.636364  271.356784   -3.134640      1.285279   \n",
       "18160  2.855993  5.051807  163.636364  289.447236   -3.044143      1.301909   \n",
       "18170  2.855993  5.367545  163.636364  307.537688   -2.964564      1.345494   \n",
       "18180  2.855993  5.683283  163.636364  325.628141   -2.903821      1.411063   \n",
       "18190  2.855993  5.999021  163.636364  343.718593   -2.866868      1.491729   \n",
       "\n",
       "       phi1_obs  theta1_obs  sigma_V  \n",
       "0     -0.018248    1.577416     0.01  \n",
       "10     0.007491    1.563399     0.01  \n",
       "20     0.003111    1.564711     0.01  \n",
       "30     0.005834    1.570352     0.01  \n",
       "40    -0.006374    1.572504     0.01  \n",
       "...         ...         ...      ...  \n",
       "18150 -3.132873    1.274939     0.01  \n",
       "18160 -3.064533    1.290534     0.01  \n",
       "18170 -2.945220    1.335822     0.01  \n",
       "18180 -2.887188    1.413076     0.01  \n",
       "18190 -2.861090    1.479047     0.01  \n",
       "\n",
       "[200 rows x 9 columns]"
      ]
     },
     "execution_count": 97,
     "metadata": {},
     "output_type": "execute_result"
    }
   ],
   "source": [
    "df_test"
   ]
  },
  {
   "cell_type": "code",
   "execution_count": 98,
   "metadata": {},
   "outputs": [
    {
     "data": {
      "text/plain": [
       "(400,)"
      ]
     },
     "execution_count": 98,
     "metadata": {},
     "output_type": "execute_result"
    }
   ],
   "source": [
    "samples = np.concatenate([df_test['phi1_obs'].values,df_test['theta1_obs'].values])\n",
    "#samples = np.concatenate([df_test['phi1_exact'].values,df_test['theta1_exact'].values])\n",
    "samples.shape"
   ]
  },
  {
   "cell_type": "code",
   "execution_count": 113,
   "metadata": {},
   "outputs": [],
   "source": [
    "# construct model\n",
    "model = lm.Model(quat_model, independent_vars=['phis', 'thetas'])\n",
    "params = lm.Parameters()\n",
    "#params.add('x0', vary=True, value=-.4, min=-1, max=1)\n",
    "#params.add('y0', vary=False, value=0, min=-1, max=1)\n",
    "#params.add('z0', vary=False, value=0, min=-1, max=1)\n",
    "#params.add('w0', vary=False, value=0, min=-1, max=1)\n",
    "#params.add('x0', vary=True, value=-.5, min=-1, max=1)\n",
    "#params.add('y0', vary=True, value=.5, min=-1, max=1)\n",
    "#params.add('z0', vary=True, value=-.5, min=-1, max=1)\n",
    "#params.add('w0', vary=True, value=.5, min=-1, max=1)\n",
    "params.add('x0', vary=True, value=-.5+np.random.normal(loc=0,scale=0.01,size=1)[0], min=-.5-.1, max=-.5+.1)\n",
    "params.add('y0', vary=True, value=.5+np.random.normal(loc=0,scale=0.01,size=1)[0], min=.5-.1, max=.5+.1)\n",
    "params.add('z0', vary=True, value=-.5+np.random.normal(loc=0,scale=0.01,size=1)[0], min=-.5-.1, max=-.5+.1)\n",
    "params.add('w0', vary=True, value=.5+np.random.normal(loc=0,scale=0.01,size=1)[0], min=.5-.1, max=.5+.1)\n",
    "result = model.fit(samples, \n",
    "                   phis=df_test['Phi'].values, thetas=df_test['Theta'].values,\n",
    "                   params=params, weights= 1/df_test['sigma_V'].values[0], method='least_squares',\n",
    "                  )#fit_kws={'max_nfev':1})#_squares')"
   ]
  },
  {
   "cell_type": "code",
   "execution_count": 114,
   "metadata": {},
   "outputs": [],
   "source": [
    "#x0, y0, z0 = [-1, 1]\n",
    "#x0=1, y0=1, z0=1\n",
    "#w0 = (1 - x0**2 - y0**2 - z0**2)"
   ]
  },
  {
   "cell_type": "code",
   "execution_count": 115,
   "metadata": {
    "scrolled": true
   },
   "outputs": [
    {
     "data": {
      "text/html": [
       "<h2> Model</h2> Model(quat_model) <h2>Fit Statistics</h2><table><tr><td>fitting method</td><td>least_squares</td><td></td></tr><tr><td># function evals</td><td>26</td><td></td></tr><tr><td># data points</td><td>400</td><td></td></tr><tr><td># variables</td><td>4</td><td></td></tr><tr><td>chi-square</td><td> 1611871.78</td><td></td></tr><tr><td>reduced chi-square</td><td> 4070.38329</td><td></td></tr><tr><td>Akaike info crit.</td><td> 3328.57685</td><td></td></tr><tr><td>Bayesian info crit.</td><td> 3344.54270</td><td></td></tr></table><h2>Variables</h2><table><tr><th> name </th><th> value </th><th> standard error </th><th> relative error </th><th> initial value </th><th> min </th><th> max </th><th> vary </th></tr><tr><td> x0 </td><td> -0.50729400 </td><td>  0.02980167 </td><td> (5.87%) </td><td> -0.5131728593481101 </td><td> -0.60000000 </td><td> -0.40000000 </td><td> True </td></tr><tr><td> y0 </td><td>  0.47121541 </td><td>  0.02839811 </td><td> (6.03%) </td><td> 0.48550554630711185 </td><td>  0.40000000 </td><td>  0.60000000 </td><td> True </td></tr><tr><td> z0 </td><td> -0.49034803 </td><td>  0.02500490 </td><td> (5.10%) </td><td> -0.5090361985569576 </td><td> -0.60000000 </td><td> -0.40000000 </td><td> True </td></tr><tr><td> w0 </td><td>  0.53592703 </td><td>  1.5169e-09 </td><td> (0.00%) </td><td> 0.5134172964722407 </td><td>  0.40000000 </td><td>  0.60000000 </td><td> True </td></tr></table><h2>Correlations (unreported correlations are < 0.100)</h2><table><tr><td>y0</td><td>z0</td><td>-0.8451</td></tr><tr><td>x0</td><td>y0</td><td>-0.5864</td></tr><tr><td>x0</td><td>z0</td><td>0.4035</td></tr></table>"
      ],
      "text/plain": [
       "<lmfit.model.ModelResult at 0x7fc26400f6a0>"
      ]
     },
     "execution_count": 115,
     "metadata": {},
     "output_type": "execute_result"
    }
   ],
   "source": [
    "result"
   ]
  },
  {
   "cell_type": "code",
   "execution_count": 104,
   "metadata": {},
   "outputs": [
    {
     "data": {
      "text/plain": [
       "{'x0': -0.5, 'y0': 0.5, 'z0': -0.5, 'w0': 0.5}"
      ]
     },
     "execution_count": 104,
     "metadata": {},
     "output_type": "execute_result"
    }
   ],
   "source": [
    "params_true"
   ]
  },
  {
   "cell_type": "code",
   "execution_count": 20,
   "metadata": {},
   "outputs": [
    {
     "data": {
      "text/plain": [
       "337.617424"
      ]
     },
     "execution_count": 20,
     "metadata": {},
     "output_type": "execute_result"
    }
   ],
   "source": [
    "33761.7424 * .01"
   ]
  },
  {
   "cell_type": "code",
   "execution_count": 21,
   "metadata": {},
   "outputs": [
    {
     "ename": "NameError",
     "evalue": "name 'phis' is not defined",
     "output_type": "error",
     "traceback": [
      "\u001b[0;31m---------------------------------------------------------------------------\u001b[0m",
      "\u001b[0;31mNameError\u001b[0m                                 Traceback (most recent call last)",
      "\u001b[0;32m<ipython-input-21-8786a9259f4a>\u001b[0m in \u001b[0;36m<module>\u001b[0;34m\u001b[0m\n\u001b[0;32m----> 1\u001b[0;31m \u001b[0mphis\u001b[0m\u001b[0;34m,\u001b[0m \u001b[0mtheta\u001b[0m\u001b[0;34m\u001b[0m\u001b[0;34m\u001b[0m\u001b[0m\n\u001b[0m",
      "\u001b[0;31mNameError\u001b[0m: name 'phis' is not defined"
     ]
    }
   ],
   "source": [
    "phis, theta"
   ]
  },
  {
   "cell_type": "code",
   "execution_count": 22,
   "metadata": {},
   "outputs": [
    {
     "ename": "NameError",
     "evalue": "name 'p' is not defined",
     "output_type": "error",
     "traceback": [
      "\u001b[0;31m---------------------------------------------------------------------------\u001b[0m",
      "\u001b[0;31mNameError\u001b[0m                                 Traceback (most recent call last)",
      "\u001b[0;32m<ipython-input-22-6c10289a8da7>\u001b[0m in \u001b[0;36m<module>\u001b[0;34m\u001b[0m\n\u001b[0;32m----> 1\u001b[0;31m \u001b[0mp\u001b[0m\u001b[0;34m\u001b[0m\u001b[0;34m\u001b[0m\u001b[0m\n\u001b[0m",
      "\u001b[0;31mNameError\u001b[0m: name 'p' is not defined"
     ]
    }
   ],
   "source": [
    "p"
   ]
  },
  {
   "cell_type": "code",
   "execution_count": 23,
   "metadata": {},
   "outputs": [
    {
     "data": {
      "text/plain": [
       "0.5729577951308232"
      ]
     },
     "execution_count": 23,
     "metadata": {},
     "output_type": "execute_result"
    }
   ],
   "source": [
    "np.degrees(0.01)"
   ]
  },
  {
   "cell_type": "code",
   "execution_count": null,
   "metadata": {},
   "outputs": [],
   "source": []
  }
 ],
 "metadata": {
  "kernelspec": {
   "display_name": "Python [conda env:mu2e]",
   "language": "python",
   "name": "conda-env-mu2e-py"
  },
  "language_info": {
   "codemirror_mode": {
    "name": "ipython",
    "version": 3
   },
   "file_extension": ".py",
   "mimetype": "text/x-python",
   "name": "python",
   "nbconvert_exporter": "python",
   "pygments_lexer": "ipython3",
   "version": "3.8.3"
  }
 },
 "nbformat": 4,
 "nbformat_minor": 2
}
