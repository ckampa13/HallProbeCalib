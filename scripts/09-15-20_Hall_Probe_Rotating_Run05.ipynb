{
 "cells": [
  {
   "cell_type": "markdown",
   "metadata": {},
   "source": [
    "# Background"
   ]
  },
  {
   "cell_type": "markdown",
   "metadata": {},
   "source": [
    "- First rotating dataset, first reasonable dataset in awhile, given COVID\n",
    "- One probe in the magnet, SmarAct placed by hand in center of magnet, 3 probes outside magnet\n",
    "- NMR not working on new computer\n",
    "- NMR shipped to Europe for calibration soon...getting data while we can\n",
    "- After NMR back, need survey done of magnet & SmarAct"
   ]
  },
  {
   "cell_type": "markdown",
   "metadata": {},
   "source": [
    "# Code"
   ]
  },
  {
   "cell_type": "markdown",
   "metadata": {},
   "source": [
    "## Imports"
   ]
  },
  {
   "cell_type": "code",
   "execution_count": 2,
   "metadata": {},
   "outputs": [],
   "source": [
    "#%load_ext autoreload\n",
    "#%autoreload 2"
   ]
  },
  {
   "cell_type": "code",
   "execution_count": 3,
   "metadata": {},
   "outputs": [
    {
     "data": {
      "text/html": [
       "        <script type=\"text/javascript\">\n",
       "        window.PlotlyConfig = {MathJaxConfig: 'local'};\n",
       "        if (window.MathJax) {MathJax.Hub.Config({SVG: {font: \"STIX-Web\"}});}\n",
       "        if (typeof require !== 'undefined') {\n",
       "        require.undef(\"plotly\");\n",
       "        requirejs.config({\n",
       "            paths: {\n",
       "                'plotly': ['https://cdn.plot.ly/plotly-latest.min']\n",
       "            }\n",
       "        });\n",
       "        require(['plotly'], function(Plotly) {\n",
       "            window._Plotly = Plotly;\n",
       "        });\n",
       "        }\n",
       "        </script>\n",
       "        "
      ]
     },
     "metadata": {},
     "output_type": "display_data"
    }
   ],
   "source": [
    "import math\n",
    "import numpy as np\n",
    "import pandas as pd\n",
    "import pickle as pkl\n",
    "from datetime import datetime\n",
    "from dateutil import parser\n",
    "from datetime import datetime\n",
    "from sys import getsizeof\n",
    "import re\n",
    "\n",
    "import operator\n",
    "from scipy import stats\n",
    "import scipy.optimize as optimization\n",
    "import lmfit as lm\n",
    "\n",
    "import matplotlib.pyplot as plt\n",
    "from mpl_toolkits.mplot3d import Axes3D\n",
    "%matplotlib inline\n",
    "plt.rcParams['figure.figsize'] = (12.0, 8.0)\n",
    "plt.rcParams['axes.axisbelow'] = True\n",
    "\n",
    "from plotly.offline import init_notebook_mode, plot, iplot\n",
    "import plotly.graph_objs as go\n",
    "import plotly.io as pio\n",
    "from plotly.subplots import make_subplots\n",
    "import plotly.express as px\n",
    "init_notebook_mode(True)\n",
    "\n",
    "#import seaborn as sns\n",
    "from wand.image import Image as WImage\n",
    "\n",
    "from hallprobecalib import hpc_ext_path\n",
    "#from hallprobecalib.hpcplots import scatter2d,scatter3d,histo,py_profile\n",
    "from hallprobecalib.hpcplots import scatter2d,scatter3d,histo"
   ]
  },
  {
   "cell_type": "code",
   "execution_count": 4,
   "metadata": {},
   "outputs": [],
   "source": [
    "make_plots = True"
   ]
  },
  {
   "cell_type": "code",
   "execution_count": 5,
   "metadata": {},
   "outputs": [
    {
     "data": {
      "text/plain": [
       "'/home/ckampa/data/hallprobecalib_extras/'"
      ]
     },
     "execution_count": 5,
     "metadata": {},
     "output_type": "execute_result"
    }
   ],
   "source": [
    "hpc_ext_path"
   ]
  },
  {
   "cell_type": "code",
   "execution_count": 6,
   "metadata": {},
   "outputs": [],
   "source": [
    "plotdir = hpc_ext_path+'plots/hall_probe_rotate/2020-09-12/'"
   ]
  },
  {
   "cell_type": "code",
   "execution_count": 7,
   "metadata": {},
   "outputs": [],
   "source": [
    "pkl_dir = hpc_ext_path+\"datafiles/hall_probe_rotate/\"\n",
    "pkl_file_slow = \"hall_rotate.run05.raw.slow.pkl\""
   ]
  },
  {
   "cell_type": "code",
   "execution_count": 8,
   "metadata": {},
   "outputs": [],
   "source": [
    "df = pd.read_pickle(pkl_dir+pkl_file_slow)"
   ]
  },
  {
   "cell_type": "code",
   "execution_count": 9,
   "metadata": {},
   "outputs": [
    {
     "data": {
      "text/plain": [
       "Datetime\n",
       "2020-09-12 19:01:57     0.0\n",
       "2020-09-12 19:02:06     9.0\n",
       "2020-09-12 19:02:15    18.0\n",
       "2020-09-12 19:02:23    26.0\n",
       "2020-09-12 19:02:32    35.0\n",
       "2020-09-12 19:02:41    44.0\n",
       "2020-09-12 19:02:49    52.0\n",
       "2020-09-12 19:02:58    61.0\n",
       "2020-09-12 19:03:07    70.0\n",
       "2020-09-12 19:03:16    79.0\n",
       "Name: seconds_delta, dtype: float64"
      ]
     },
     "execution_count": 9,
     "metadata": {},
     "output_type": "execute_result"
    }
   ],
   "source": [
    "df['seconds_delta'].head(10)"
   ]
  },
  {
   "cell_type": "code",
   "execution_count": 10,
   "metadata": {},
   "outputs": [
    {
     "data": {
      "text/html": [
       "<div>\n",
       "<style scoped>\n",
       "    .dataframe tbody tr th:only-of-type {\n",
       "        vertical-align: middle;\n",
       "    }\n",
       "\n",
       "    .dataframe tbody tr th {\n",
       "        vertical-align: top;\n",
       "    }\n",
       "\n",
       "    .dataframe thead th {\n",
       "        text-align: right;\n",
       "    }\n",
       "</style>\n",
       "<table border=\"1\" class=\"dataframe\">\n",
       "  <thead>\n",
       "    <tr style=\"text-align: right;\">\n",
       "      <th></th>\n",
       "      <th>Time</th>\n",
       "      <th>Magnet Current [V]</th>\n",
       "      <th>Magnet Voltage [V]</th>\n",
       "      <th>NMR [T]</th>\n",
       "      <th>NMR [FFT]</th>\n",
       "      <th>DF0000000D5E803A_Raw_X</th>\n",
       "      <th>DF0000000D5E803A_Raw_Y</th>\n",
       "      <th>DF0000000D5E803A_Raw_Z</th>\n",
       "      <th>C90000000D53983A_Raw_X</th>\n",
       "      <th>C90000000D53983A_Raw_Y</th>\n",
       "      <th>...</th>\n",
       "      <th>6A0000000D61333A_Raw_Phi</th>\n",
       "      <th>C50000000D5E473A_Raw_Transverse</th>\n",
       "      <th>C50000000D5E473A_Raw_Theta</th>\n",
       "      <th>C50000000D5E473A_Raw_Phi</th>\n",
       "      <th>C90000000D53983A_Raw_Transverse</th>\n",
       "      <th>C90000000D53983A_Raw_Theta</th>\n",
       "      <th>C90000000D53983A_Raw_Phi</th>\n",
       "      <th>DF0000000D5E803A_Raw_Transverse</th>\n",
       "      <th>DF0000000D5E803A_Raw_Theta</th>\n",
       "      <th>DF0000000D5E803A_Raw_Phi</th>\n",
       "    </tr>\n",
       "    <tr>\n",
       "      <th>Datetime</th>\n",
       "      <th></th>\n",
       "      <th></th>\n",
       "      <th></th>\n",
       "      <th></th>\n",
       "      <th></th>\n",
       "      <th></th>\n",
       "      <th></th>\n",
       "      <th></th>\n",
       "      <th></th>\n",
       "      <th></th>\n",
       "      <th></th>\n",
       "      <th></th>\n",
       "      <th></th>\n",
       "      <th></th>\n",
       "      <th></th>\n",
       "      <th></th>\n",
       "      <th></th>\n",
       "      <th></th>\n",
       "      <th></th>\n",
       "      <th></th>\n",
       "      <th></th>\n",
       "    </tr>\n",
       "  </thead>\n",
       "  <tbody>\n",
       "    <tr>\n",
       "      <th>2020-09-14 05:02:32</th>\n",
       "      <td>9/14/2020 5:02:32 AM</td>\n",
       "      <td>240.063460</td>\n",
       "      <td>29.913783</td>\n",
       "      <td>0.0</td>\n",
       "      <td>0.0</td>\n",
       "      <td>-7269.0</td>\n",
       "      <td>56611.0</td>\n",
       "      <td>-8841.0</td>\n",
       "      <td>970.0</td>\n",
       "      <td>1432.0</td>\n",
       "      <td>...</td>\n",
       "      <td>2.661550</td>\n",
       "      <td>91513.568480</td>\n",
       "      <td>1.817334</td>\n",
       "      <td>-2.968116</td>\n",
       "      <td>1729.602266</td>\n",
       "      <td>1.333123</td>\n",
       "      <td>0.975417</td>\n",
       "      <td>57075.771410</td>\n",
       "      <td>1.724474</td>\n",
       "      <td>1.698500</td>\n",
       "    </tr>\n",
       "    <tr>\n",
       "      <th>2020-09-14 05:02:40</th>\n",
       "      <td>9/14/2020 5:02:40 AM</td>\n",
       "      <td>240.063403</td>\n",
       "      <td>29.913767</td>\n",
       "      <td>0.0</td>\n",
       "      <td>0.0</td>\n",
       "      <td>-7341.0</td>\n",
       "      <td>56722.0</td>\n",
       "      <td>-8803.0</td>\n",
       "      <td>862.0</td>\n",
       "      <td>1334.0</td>\n",
       "      <td>...</td>\n",
       "      <td>2.643150</td>\n",
       "      <td>91539.085428</td>\n",
       "      <td>1.817658</td>\n",
       "      <td>-2.968741</td>\n",
       "      <td>1588.269499</td>\n",
       "      <td>1.337744</td>\n",
       "      <td>0.997113</td>\n",
       "      <td>57195.065915</td>\n",
       "      <td>1.723510</td>\n",
       "      <td>1.699502</td>\n",
       "    </tr>\n",
       "    <tr>\n",
       "      <th>2020-09-14 05:02:49</th>\n",
       "      <td>9/14/2020 5:02:49 AM</td>\n",
       "      <td>240.063290</td>\n",
       "      <td>29.913717</td>\n",
       "      <td>0.0</td>\n",
       "      <td>0.0</td>\n",
       "      <td>-7329.0</td>\n",
       "      <td>56692.0</td>\n",
       "      <td>-8828.0</td>\n",
       "      <td>925.0</td>\n",
       "      <td>1336.0</td>\n",
       "      <td>...</td>\n",
       "      <td>2.624690</td>\n",
       "      <td>91508.969730</td>\n",
       "      <td>1.817274</td>\n",
       "      <td>-2.968783</td>\n",
       "      <td>1624.968000</td>\n",
       "      <td>1.260530</td>\n",
       "      <td>0.965213</td>\n",
       "      <td>57163.774412</td>\n",
       "      <td>1.724019</td>\n",
       "      <td>1.699361</td>\n",
       "    </tr>\n",
       "    <tr>\n",
       "      <th>2020-09-14 05:02:58</th>\n",
       "      <td>9/14/2020 5:02:58 AM</td>\n",
       "      <td>240.063233</td>\n",
       "      <td>29.913717</td>\n",
       "      <td>0.0</td>\n",
       "      <td>0.0</td>\n",
       "      <td>-7397.0</td>\n",
       "      <td>56634.0</td>\n",
       "      <td>-8760.0</td>\n",
       "      <td>954.0</td>\n",
       "      <td>1422.0</td>\n",
       "      <td>...</td>\n",
       "      <td>2.606571</td>\n",
       "      <td>91537.483230</td>\n",
       "      <td>1.816758</td>\n",
       "      <td>-2.969159</td>\n",
       "      <td>1712.366783</td>\n",
       "      <td>1.322573</td>\n",
       "      <td>0.979878</td>\n",
       "      <td>57115.020485</td>\n",
       "      <td>1.722985</td>\n",
       "      <td>1.700672</td>\n",
       "    </tr>\n",
       "    <tr>\n",
       "      <th>2020-09-14 05:03:07</th>\n",
       "      <td>9/14/2020 5:03:07 AM</td>\n",
       "      <td>240.063290</td>\n",
       "      <td>29.913683</td>\n",
       "      <td>0.0</td>\n",
       "      <td>0.0</td>\n",
       "      <td>-7336.0</td>\n",
       "      <td>56656.0</td>\n",
       "      <td>-8766.0</td>\n",
       "      <td>904.0</td>\n",
       "      <td>1388.0</td>\n",
       "      <td>...</td>\n",
       "      <td>2.588205</td>\n",
       "      <td>91549.521299</td>\n",
       "      <td>1.817128</td>\n",
       "      <td>-2.969105</td>\n",
       "      <td>1656.429896</td>\n",
       "      <td>1.292645</td>\n",
       "      <td>0.993510</td>\n",
       "      <td>57128.970164</td>\n",
       "      <td>1.723051</td>\n",
       "      <td>1.699563</td>\n",
       "    </tr>\n",
       "  </tbody>\n",
       "</table>\n",
       "<p>5 rows × 78 columns</p>\n",
       "</div>"
      ],
      "text/plain": [
       "                                     Time  Magnet Current [V]  \\\n",
       "Datetime                                                        \n",
       "2020-09-14 05:02:32  9/14/2020 5:02:32 AM          240.063460   \n",
       "2020-09-14 05:02:40  9/14/2020 5:02:40 AM          240.063403   \n",
       "2020-09-14 05:02:49  9/14/2020 5:02:49 AM          240.063290   \n",
       "2020-09-14 05:02:58  9/14/2020 5:02:58 AM          240.063233   \n",
       "2020-09-14 05:03:07  9/14/2020 5:03:07 AM          240.063290   \n",
       "\n",
       "                     Magnet Voltage [V]  NMR [T]  NMR [FFT]  \\\n",
       "Datetime                                                      \n",
       "2020-09-14 05:02:32           29.913783      0.0        0.0   \n",
       "2020-09-14 05:02:40           29.913767      0.0        0.0   \n",
       "2020-09-14 05:02:49           29.913717      0.0        0.0   \n",
       "2020-09-14 05:02:58           29.913717      0.0        0.0   \n",
       "2020-09-14 05:03:07           29.913683      0.0        0.0   \n",
       "\n",
       "                     DF0000000D5E803A_Raw_X  DF0000000D5E803A_Raw_Y  \\\n",
       "Datetime                                                              \n",
       "2020-09-14 05:02:32                 -7269.0                 56611.0   \n",
       "2020-09-14 05:02:40                 -7341.0                 56722.0   \n",
       "2020-09-14 05:02:49                 -7329.0                 56692.0   \n",
       "2020-09-14 05:02:58                 -7397.0                 56634.0   \n",
       "2020-09-14 05:03:07                 -7336.0                 56656.0   \n",
       "\n",
       "                     DF0000000D5E803A_Raw_Z  C90000000D53983A_Raw_X  \\\n",
       "Datetime                                                              \n",
       "2020-09-14 05:02:32                 -8841.0                   970.0   \n",
       "2020-09-14 05:02:40                 -8803.0                   862.0   \n",
       "2020-09-14 05:02:49                 -8828.0                   925.0   \n",
       "2020-09-14 05:02:58                 -8760.0                   954.0   \n",
       "2020-09-14 05:03:07                 -8766.0                   904.0   \n",
       "\n",
       "                     C90000000D53983A_Raw_Y  ...  6A0000000D61333A_Raw_Phi  \\\n",
       "Datetime                                     ...                             \n",
       "2020-09-14 05:02:32                  1432.0  ...                  2.661550   \n",
       "2020-09-14 05:02:40                  1334.0  ...                  2.643150   \n",
       "2020-09-14 05:02:49                  1336.0  ...                  2.624690   \n",
       "2020-09-14 05:02:58                  1422.0  ...                  2.606571   \n",
       "2020-09-14 05:03:07                  1388.0  ...                  2.588205   \n",
       "\n",
       "                     C50000000D5E473A_Raw_Transverse  \\\n",
       "Datetime                                               \n",
       "2020-09-14 05:02:32                     91513.568480   \n",
       "2020-09-14 05:02:40                     91539.085428   \n",
       "2020-09-14 05:02:49                     91508.969730   \n",
       "2020-09-14 05:02:58                     91537.483230   \n",
       "2020-09-14 05:03:07                     91549.521299   \n",
       "\n",
       "                     C50000000D5E473A_Raw_Theta  C50000000D5E473A_Raw_Phi  \\\n",
       "Datetime                                                                    \n",
       "2020-09-14 05:02:32                    1.817334                 -2.968116   \n",
       "2020-09-14 05:02:40                    1.817658                 -2.968741   \n",
       "2020-09-14 05:02:49                    1.817274                 -2.968783   \n",
       "2020-09-14 05:02:58                    1.816758                 -2.969159   \n",
       "2020-09-14 05:03:07                    1.817128                 -2.969105   \n",
       "\n",
       "                     C90000000D53983A_Raw_Transverse  \\\n",
       "Datetime                                               \n",
       "2020-09-14 05:02:32                      1729.602266   \n",
       "2020-09-14 05:02:40                      1588.269499   \n",
       "2020-09-14 05:02:49                      1624.968000   \n",
       "2020-09-14 05:02:58                      1712.366783   \n",
       "2020-09-14 05:03:07                      1656.429896   \n",
       "\n",
       "                     C90000000D53983A_Raw_Theta  C90000000D53983A_Raw_Phi  \\\n",
       "Datetime                                                                    \n",
       "2020-09-14 05:02:32                    1.333123                  0.975417   \n",
       "2020-09-14 05:02:40                    1.337744                  0.997113   \n",
       "2020-09-14 05:02:49                    1.260530                  0.965213   \n",
       "2020-09-14 05:02:58                    1.322573                  0.979878   \n",
       "2020-09-14 05:03:07                    1.292645                  0.993510   \n",
       "\n",
       "                     DF0000000D5E803A_Raw_Transverse  \\\n",
       "Datetime                                               \n",
       "2020-09-14 05:02:32                     57075.771410   \n",
       "2020-09-14 05:02:40                     57195.065915   \n",
       "2020-09-14 05:02:49                     57163.774412   \n",
       "2020-09-14 05:02:58                     57115.020485   \n",
       "2020-09-14 05:03:07                     57128.970164   \n",
       "\n",
       "                     DF0000000D5E803A_Raw_Theta  DF0000000D5E803A_Raw_Phi  \n",
       "Datetime                                                                   \n",
       "2020-09-14 05:02:32                    1.724474                  1.698500  \n",
       "2020-09-14 05:02:40                    1.723510                  1.699502  \n",
       "2020-09-14 05:02:49                    1.724019                  1.699361  \n",
       "2020-09-14 05:02:58                    1.722985                  1.700672  \n",
       "2020-09-14 05:03:07                    1.723051                  1.699563  \n",
       "\n",
       "[5 rows x 78 columns]"
      ]
     },
     "execution_count": 10,
     "metadata": {},
     "output_type": "execute_result"
    }
   ],
   "source": [
    "df.tail()"
   ]
  },
  {
   "cell_type": "code",
   "execution_count": 11,
   "metadata": {},
   "outputs": [],
   "source": [
    "def pplot(fig):\n",
    "    pio.write_image(fig, 'temp.pdf')\n",
    "    img = WImage(filename='temp.pdf')\n",
    "    return img"
   ]
  },
  {
   "cell_type": "markdown",
   "metadata": {},
   "source": [
    "## Cleaning"
   ]
  },
  {
   "cell_type": "code",
   "execution_count": 12,
   "metadata": {},
   "outputs": [],
   "source": [
    "directory = \"/home/ckampa/Dropbox/LogFiles/\"\n",
    "filename = '2020-09-12 190023.txt'\n",
    "filename_slow = '2020-09-12 190022slow.txt'"
   ]
  },
  {
   "cell_type": "code",
   "execution_count": 13,
   "metadata": {},
   "outputs": [],
   "source": [
    "df = pd.read_csv(directory+filename)\n",
    "df.columns = df.columns.str.lstrip(\" \")\n",
    "dates = [parser.parse(row.Time) for row in df.itertuples()]# if isdatetime(row.Time.values[0])]\n",
    "df[\"Datetime\"] = pd.to_datetime(dates)#.astype(\"str\")\n",
    "df = df.set_index(\"Datetime\")"
   ]
  },
  {
   "cell_type": "code",
   "execution_count": 14,
   "metadata": {},
   "outputs": [],
   "source": [
    "df_slow = pd.read_csv(directory+filename_slow)\n",
    "df_slow.columns = df_slow.columns.str.lstrip(\" \")\n",
    "dates = [parser.parse(row.Time) for row in df_slow.itertuples()]# if isdatetime(row.Time.values[0])]\n",
    "df_slow[\"Datetime\"] = pd.to_datetime(dates)#.astype(\"str\")\n",
    "df_slow = df_slow.set_index(\"Datetime\")"
   ]
  },
  {
   "cell_type": "code",
   "execution_count": 15,
   "metadata": {},
   "outputs": [
    {
     "data": {
      "text/html": [
       "<div>\n",
       "<style scoped>\n",
       "    .dataframe tbody tr th:only-of-type {\n",
       "        vertical-align: middle;\n",
       "    }\n",
       "\n",
       "    .dataframe tbody tr th {\n",
       "        vertical-align: top;\n",
       "    }\n",
       "\n",
       "    .dataframe thead th {\n",
       "        text-align: right;\n",
       "    }\n",
       "</style>\n",
       "<table border=\"1\" class=\"dataframe\">\n",
       "  <thead>\n",
       "    <tr style=\"text-align: right;\">\n",
       "      <th></th>\n",
       "      <th>Time</th>\n",
       "      <th>Magnet Current [V]</th>\n",
       "      <th>Magnet Voltage [V]</th>\n",
       "      <th>NMR [T]</th>\n",
       "      <th>NMR [FFT]</th>\n",
       "      <th>DF0000000D5E803A_Raw_X</th>\n",
       "      <th>DF0000000D5E803A_Raw_Y</th>\n",
       "      <th>DF0000000D5E803A_Raw_Z</th>\n",
       "      <th>C90000000D53983A_Raw_X</th>\n",
       "      <th>C90000000D53983A_Raw_Y</th>\n",
       "      <th>...</th>\n",
       "      <th>DF0000000D5E803A_Cal_T</th>\n",
       "      <th>C90000000D53983A_Cal_T</th>\n",
       "      <th>C50000000D5E473A_Cal_T</th>\n",
       "      <th>6A0000000D61333A_Cal_T</th>\n",
       "      <th>SmarAct_Pattern_Angle_1</th>\n",
       "      <th>SmarAct_Pattern_Angle_2</th>\n",
       "      <th>SmarAct_Meas_Angle_1</th>\n",
       "      <th>SmarAct_Meas_Rotation_Angle_1</th>\n",
       "      <th>SmarAct_Meas_Angle_2</th>\n",
       "      <th>SmarAct_Meas_Rotation_Angle_2</th>\n",
       "    </tr>\n",
       "    <tr>\n",
       "      <th>Datetime</th>\n",
       "      <th></th>\n",
       "      <th></th>\n",
       "      <th></th>\n",
       "      <th></th>\n",
       "      <th></th>\n",
       "      <th></th>\n",
       "      <th></th>\n",
       "      <th></th>\n",
       "      <th></th>\n",
       "      <th></th>\n",
       "      <th></th>\n",
       "      <th></th>\n",
       "      <th></th>\n",
       "      <th></th>\n",
       "      <th></th>\n",
       "      <th></th>\n",
       "      <th></th>\n",
       "      <th></th>\n",
       "      <th></th>\n",
       "      <th></th>\n",
       "      <th></th>\n",
       "    </tr>\n",
       "  </thead>\n",
       "  <tbody>\n",
       "    <tr>\n",
       "      <th>2020-09-12 19:01:57</th>\n",
       "      <td>9/12/2020 7:01:57 PM</td>\n",
       "      <td>240.06176</td>\n",
       "      <td>29.92315</td>\n",
       "      <td>0.0</td>\n",
       "      <td>0.0</td>\n",
       "      <td>-7344.0</td>\n",
       "      <td>56671.0</td>\n",
       "      <td>-8695.0</td>\n",
       "      <td>942.0</td>\n",
       "      <td>1386.0</td>\n",
       "      <td>...</td>\n",
       "      <td>18.457</td>\n",
       "      <td>18.644</td>\n",
       "      <td>18.607</td>\n",
       "      <td>18.891</td>\n",
       "      <td>-37.5</td>\n",
       "      <td>-90.000000</td>\n",
       "      <td>349.781573</td>\n",
       "      <td>-1.0</td>\n",
       "      <td>270.000000</td>\n",
       "      <td>-1.0</td>\n",
       "    </tr>\n",
       "    <tr>\n",
       "      <th>2020-09-12 19:02:06</th>\n",
       "      <td>9/12/2020 7:02:06 PM</td>\n",
       "      <td>240.06176</td>\n",
       "      <td>29.92320</td>\n",
       "      <td>0.0</td>\n",
       "      <td>0.0</td>\n",
       "      <td>-7227.0</td>\n",
       "      <td>56732.0</td>\n",
       "      <td>-8744.0</td>\n",
       "      <td>886.0</td>\n",
       "      <td>1260.0</td>\n",
       "      <td>...</td>\n",
       "      <td>18.462</td>\n",
       "      <td>18.640</td>\n",
       "      <td>18.612</td>\n",
       "      <td>18.903</td>\n",
       "      <td>-37.5</td>\n",
       "      <td>-88.994413</td>\n",
       "      <td>349.781887</td>\n",
       "      <td>-1.0</td>\n",
       "      <td>271.005588</td>\n",
       "      <td>-1.0</td>\n",
       "    </tr>\n",
       "    <tr>\n",
       "      <th>2020-09-12 19:02:15</th>\n",
       "      <td>9/12/2020 7:02:15 PM</td>\n",
       "      <td>240.06176</td>\n",
       "      <td>29.92320</td>\n",
       "      <td>0.0</td>\n",
       "      <td>0.0</td>\n",
       "      <td>-7249.0</td>\n",
       "      <td>56695.0</td>\n",
       "      <td>-8798.0</td>\n",
       "      <td>859.0</td>\n",
       "      <td>1339.0</td>\n",
       "      <td>...</td>\n",
       "      <td>18.467</td>\n",
       "      <td>18.639</td>\n",
       "      <td>18.612</td>\n",
       "      <td>18.907</td>\n",
       "      <td>-37.5</td>\n",
       "      <td>-87.988826</td>\n",
       "      <td>349.781870</td>\n",
       "      <td>-1.0</td>\n",
       "      <td>272.011170</td>\n",
       "      <td>-1.0</td>\n",
       "    </tr>\n",
       "    <tr>\n",
       "      <th>2020-09-12 19:02:23</th>\n",
       "      <td>9/12/2020 7:02:23 PM</td>\n",
       "      <td>240.06176</td>\n",
       "      <td>29.92320</td>\n",
       "      <td>0.0</td>\n",
       "      <td>0.0</td>\n",
       "      <td>-7377.0</td>\n",
       "      <td>56687.0</td>\n",
       "      <td>-8791.0</td>\n",
       "      <td>924.0</td>\n",
       "      <td>1344.0</td>\n",
       "      <td>...</td>\n",
       "      <td>18.469</td>\n",
       "      <td>18.637</td>\n",
       "      <td>18.611</td>\n",
       "      <td>18.907</td>\n",
       "      <td>-37.5</td>\n",
       "      <td>-86.983239</td>\n",
       "      <td>349.781880</td>\n",
       "      <td>-1.0</td>\n",
       "      <td>273.016748</td>\n",
       "      <td>-1.0</td>\n",
       "    </tr>\n",
       "    <tr>\n",
       "      <th>2020-09-12 19:02:32</th>\n",
       "      <td>9/12/2020 7:02:32 PM</td>\n",
       "      <td>240.06176</td>\n",
       "      <td>29.92320</td>\n",
       "      <td>0.0</td>\n",
       "      <td>0.0</td>\n",
       "      <td>-7426.0</td>\n",
       "      <td>56651.0</td>\n",
       "      <td>-8706.0</td>\n",
       "      <td>975.0</td>\n",
       "      <td>1369.0</td>\n",
       "      <td>...</td>\n",
       "      <td>18.473</td>\n",
       "      <td>18.636</td>\n",
       "      <td>18.611</td>\n",
       "      <td>18.904</td>\n",
       "      <td>-37.5</td>\n",
       "      <td>-85.977652</td>\n",
       "      <td>349.781890</td>\n",
       "      <td>-1.0</td>\n",
       "      <td>274.022344</td>\n",
       "      <td>-1.0</td>\n",
       "    </tr>\n",
       "  </tbody>\n",
       "</table>\n",
       "<p>5 rows × 43 columns</p>\n",
       "</div>"
      ],
      "text/plain": [
       "                                     Time  Magnet Current [V]  \\\n",
       "Datetime                                                        \n",
       "2020-09-12 19:01:57  9/12/2020 7:01:57 PM           240.06176   \n",
       "2020-09-12 19:02:06  9/12/2020 7:02:06 PM           240.06176   \n",
       "2020-09-12 19:02:15  9/12/2020 7:02:15 PM           240.06176   \n",
       "2020-09-12 19:02:23  9/12/2020 7:02:23 PM           240.06176   \n",
       "2020-09-12 19:02:32  9/12/2020 7:02:32 PM           240.06176   \n",
       "\n",
       "                     Magnet Voltage [V]  NMR [T]  NMR [FFT]  \\\n",
       "Datetime                                                      \n",
       "2020-09-12 19:01:57            29.92315      0.0        0.0   \n",
       "2020-09-12 19:02:06            29.92320      0.0        0.0   \n",
       "2020-09-12 19:02:15            29.92320      0.0        0.0   \n",
       "2020-09-12 19:02:23            29.92320      0.0        0.0   \n",
       "2020-09-12 19:02:32            29.92320      0.0        0.0   \n",
       "\n",
       "                     DF0000000D5E803A_Raw_X  DF0000000D5E803A_Raw_Y  \\\n",
       "Datetime                                                              \n",
       "2020-09-12 19:01:57                 -7344.0                 56671.0   \n",
       "2020-09-12 19:02:06                 -7227.0                 56732.0   \n",
       "2020-09-12 19:02:15                 -7249.0                 56695.0   \n",
       "2020-09-12 19:02:23                 -7377.0                 56687.0   \n",
       "2020-09-12 19:02:32                 -7426.0                 56651.0   \n",
       "\n",
       "                     DF0000000D5E803A_Raw_Z  C90000000D53983A_Raw_X  \\\n",
       "Datetime                                                              \n",
       "2020-09-12 19:01:57                 -8695.0                   942.0   \n",
       "2020-09-12 19:02:06                 -8744.0                   886.0   \n",
       "2020-09-12 19:02:15                 -8798.0                   859.0   \n",
       "2020-09-12 19:02:23                 -8791.0                   924.0   \n",
       "2020-09-12 19:02:32                 -8706.0                   975.0   \n",
       "\n",
       "                     C90000000D53983A_Raw_Y  ...  DF0000000D5E803A_Cal_T  \\\n",
       "Datetime                                     ...                           \n",
       "2020-09-12 19:01:57                  1386.0  ...                  18.457   \n",
       "2020-09-12 19:02:06                  1260.0  ...                  18.462   \n",
       "2020-09-12 19:02:15                  1339.0  ...                  18.467   \n",
       "2020-09-12 19:02:23                  1344.0  ...                  18.469   \n",
       "2020-09-12 19:02:32                  1369.0  ...                  18.473   \n",
       "\n",
       "                     C90000000D53983A_Cal_T  C50000000D5E473A_Cal_T  \\\n",
       "Datetime                                                              \n",
       "2020-09-12 19:01:57                  18.644                  18.607   \n",
       "2020-09-12 19:02:06                  18.640                  18.612   \n",
       "2020-09-12 19:02:15                  18.639                  18.612   \n",
       "2020-09-12 19:02:23                  18.637                  18.611   \n",
       "2020-09-12 19:02:32                  18.636                  18.611   \n",
       "\n",
       "                     6A0000000D61333A_Cal_T  SmarAct_Pattern_Angle_1  \\\n",
       "Datetime                                                               \n",
       "2020-09-12 19:01:57                  18.891                    -37.5   \n",
       "2020-09-12 19:02:06                  18.903                    -37.5   \n",
       "2020-09-12 19:02:15                  18.907                    -37.5   \n",
       "2020-09-12 19:02:23                  18.907                    -37.5   \n",
       "2020-09-12 19:02:32                  18.904                    -37.5   \n",
       "\n",
       "                     SmarAct_Pattern_Angle_2  SmarAct_Meas_Angle_1  \\\n",
       "Datetime                                                             \n",
       "2020-09-12 19:01:57               -90.000000            349.781573   \n",
       "2020-09-12 19:02:06               -88.994413            349.781887   \n",
       "2020-09-12 19:02:15               -87.988826            349.781870   \n",
       "2020-09-12 19:02:23               -86.983239            349.781880   \n",
       "2020-09-12 19:02:32               -85.977652            349.781890   \n",
       "\n",
       "                     SmarAct_Meas_Rotation_Angle_1  SmarAct_Meas_Angle_2  \\\n",
       "Datetime                                                                   \n",
       "2020-09-12 19:01:57                           -1.0            270.000000   \n",
       "2020-09-12 19:02:06                           -1.0            271.005588   \n",
       "2020-09-12 19:02:15                           -1.0            272.011170   \n",
       "2020-09-12 19:02:23                           -1.0            273.016748   \n",
       "2020-09-12 19:02:32                           -1.0            274.022344   \n",
       "\n",
       "                     SmarAct_Meas_Rotation_Angle_2  \n",
       "Datetime                                            \n",
       "2020-09-12 19:01:57                           -1.0  \n",
       "2020-09-12 19:02:06                           -1.0  \n",
       "2020-09-12 19:02:15                           -1.0  \n",
       "2020-09-12 19:02:23                           -1.0  \n",
       "2020-09-12 19:02:32                           -1.0  \n",
       "\n",
       "[5 rows x 43 columns]"
      ]
     },
     "execution_count": 15,
     "metadata": {},
     "output_type": "execute_result"
    }
   ],
   "source": [
    "df.head()"
   ]
  },
  {
   "cell_type": "code",
   "execution_count": 16,
   "metadata": {},
   "outputs": [],
   "source": [
    "endtime = df.index[-1]"
   ]
  },
  {
   "cell_type": "code",
   "execution_count": 17,
   "metadata": {},
   "outputs": [
    {
     "data": {
      "text/plain": [
       "Timestamp('2020-09-14 05:03:07')"
      ]
     },
     "execution_count": 17,
     "metadata": {},
     "output_type": "execute_result"
    }
   ],
   "source": [
    "endtime"
   ]
  },
  {
   "cell_type": "code",
   "execution_count": 18,
   "metadata": {},
   "outputs": [
    {
     "data": {
      "text/plain": [
       "13500"
      ]
     },
     "execution_count": 18,
     "metadata": {},
     "output_type": "execute_result"
    }
   ],
   "source": [
    "len(df)"
   ]
  },
  {
   "cell_type": "code",
   "execution_count": 19,
   "metadata": {},
   "outputs": [],
   "source": [
    "df_slow = df_slow[df_slow.index < endtime]"
   ]
  },
  {
   "cell_type": "code",
   "execution_count": 20,
   "metadata": {},
   "outputs": [
    {
     "data": {
      "text/html": [
       "<div>\n",
       "<style scoped>\n",
       "    .dataframe tbody tr th:only-of-type {\n",
       "        vertical-align: middle;\n",
       "    }\n",
       "\n",
       "    .dataframe tbody tr th {\n",
       "        vertical-align: top;\n",
       "    }\n",
       "\n",
       "    .dataframe thead th {\n",
       "        text-align: right;\n",
       "    }\n",
       "</style>\n",
       "<table border=\"1\" class=\"dataframe\">\n",
       "  <thead>\n",
       "    <tr style=\"text-align: right;\">\n",
       "      <th></th>\n",
       "      <th>Time</th>\n",
       "      <th>Magnet Current [A]</th>\n",
       "      <th>Magnet Voltage [V]</th>\n",
       "      <th>Coil 1 (new)</th>\n",
       "      <th>Coil 2 (old)</th>\n",
       "      <th>LCW in Coil1</th>\n",
       "      <th>LCW out Coil 1</th>\n",
       "      <th>LCW in Coil 2</th>\n",
       "      <th>LCW out Coil 2</th>\n",
       "      <th>Yoke</th>\n",
       "      <th>...</th>\n",
       "      <th>6A0000000D61333A_Cal_Y</th>\n",
       "      <th>6A0000000D61333A_Cal_Z</th>\n",
       "      <th>DF0000000D5E803A_Cal_T</th>\n",
       "      <th>C90000000D53983A_Cal_T</th>\n",
       "      <th>C50000000D5E473A_Cal_T</th>\n",
       "      <th>6A0000000D61333A_Cal_T</th>\n",
       "      <th>SmarAct_Meas_Angle_1</th>\n",
       "      <th>SmarAct_Meas_Rotation_Angle_1</th>\n",
       "      <th>SmarAct_Meas_Angle_2</th>\n",
       "      <th>SmarAct_Meas_Rotation_Angle_2</th>\n",
       "    </tr>\n",
       "    <tr>\n",
       "      <th>Datetime</th>\n",
       "      <th></th>\n",
       "      <th></th>\n",
       "      <th></th>\n",
       "      <th></th>\n",
       "      <th></th>\n",
       "      <th></th>\n",
       "      <th></th>\n",
       "      <th></th>\n",
       "      <th></th>\n",
       "      <th></th>\n",
       "      <th></th>\n",
       "      <th></th>\n",
       "      <th></th>\n",
       "      <th></th>\n",
       "      <th></th>\n",
       "      <th></th>\n",
       "      <th></th>\n",
       "      <th></th>\n",
       "      <th></th>\n",
       "      <th></th>\n",
       "      <th></th>\n",
       "    </tr>\n",
       "  </thead>\n",
       "  <tbody>\n",
       "    <tr>\n",
       "      <th>2020-09-12 19:01:38</th>\n",
       "      <td>9/12/2020 7:01:38 PM</td>\n",
       "      <td>240.061760</td>\n",
       "      <td>29.923167</td>\n",
       "      <td>40.558170</td>\n",
       "      <td>38.942825</td>\n",
       "      <td>18.871008</td>\n",
       "      <td>21.288820</td>\n",
       "      <td>20.954662</td>\n",
       "      <td>25.085649</td>\n",
       "      <td>22.031939</td>\n",
       "      <td>...</td>\n",
       "      <td>-0.037134</td>\n",
       "      <td>0.029023</td>\n",
       "      <td>18.467</td>\n",
       "      <td>18.648</td>\n",
       "      <td>18.613</td>\n",
       "      <td>18.924</td>\n",
       "      <td>0.000292</td>\n",
       "      <td>0.0</td>\n",
       "      <td>359.999466</td>\n",
       "      <td>-1.0</td>\n",
       "    </tr>\n",
       "    <tr>\n",
       "      <th>2020-09-12 19:18:30</th>\n",
       "      <td>9/12/2020 7:18:30 PM</td>\n",
       "      <td>240.061760</td>\n",
       "      <td>29.924183</td>\n",
       "      <td>40.493816</td>\n",
       "      <td>38.975624</td>\n",
       "      <td>18.885652</td>\n",
       "      <td>21.279921</td>\n",
       "      <td>21.015888</td>\n",
       "      <td>25.110920</td>\n",
       "      <td>22.026712</td>\n",
       "      <td>...</td>\n",
       "      <td>0.123776</td>\n",
       "      <td>-0.115695</td>\n",
       "      <td>18.446</td>\n",
       "      <td>18.685</td>\n",
       "      <td>18.586</td>\n",
       "      <td>19.110</td>\n",
       "      <td>349.781838</td>\n",
       "      <td>-1.0</td>\n",
       "      <td>22.625742</td>\n",
       "      <td>0.0</td>\n",
       "    </tr>\n",
       "    <tr>\n",
       "      <th>2020-09-12 19:35:12</th>\n",
       "      <td>9/12/2020 7:35:12 PM</td>\n",
       "      <td>240.061817</td>\n",
       "      <td>29.926300</td>\n",
       "      <td>40.588242</td>\n",
       "      <td>38.965355</td>\n",
       "      <td>18.892385</td>\n",
       "      <td>21.315929</td>\n",
       "      <td>21.013571</td>\n",
       "      <td>25.107557</td>\n",
       "      <td>22.028481</td>\n",
       "      <td>...</td>\n",
       "      <td>0.150731</td>\n",
       "      <td>0.078741</td>\n",
       "      <td>18.496</td>\n",
       "      <td>18.663</td>\n",
       "      <td>18.613</td>\n",
       "      <td>18.931</td>\n",
       "      <td>349.780026</td>\n",
       "      <td>-1.0</td>\n",
       "      <td>312.234652</td>\n",
       "      <td>-1.0</td>\n",
       "    </tr>\n",
       "    <tr>\n",
       "      <th>2020-09-12 19:51:51</th>\n",
       "      <td>9/12/2020 7:51:51 PM</td>\n",
       "      <td>240.061760</td>\n",
       "      <td>29.927133</td>\n",
       "      <td>40.604641</td>\n",
       "      <td>38.936230</td>\n",
       "      <td>18.905813</td>\n",
       "      <td>21.333393</td>\n",
       "      <td>21.028912</td>\n",
       "      <td>25.119083</td>\n",
       "      <td>22.047304</td>\n",
       "      <td>...</td>\n",
       "      <td>0.013261</td>\n",
       "      <td>-0.169127</td>\n",
       "      <td>18.502</td>\n",
       "      <td>18.655</td>\n",
       "      <td>18.604</td>\n",
       "      <td>19.385</td>\n",
       "      <td>349.780091</td>\n",
       "      <td>-1.0</td>\n",
       "      <td>64.860396</td>\n",
       "      <td>0.0</td>\n",
       "    </tr>\n",
       "    <tr>\n",
       "      <th>2020-09-12 20:08:32</th>\n",
       "      <td>9/12/2020 8:08:32 PM</td>\n",
       "      <td>240.061760</td>\n",
       "      <td>29.928733</td>\n",
       "      <td>40.539101</td>\n",
       "      <td>38.998989</td>\n",
       "      <td>18.912430</td>\n",
       "      <td>21.328051</td>\n",
       "      <td>21.050402</td>\n",
       "      <td>25.128641</td>\n",
       "      <td>22.050310</td>\n",
       "      <td>...</td>\n",
       "      <td>0.163991</td>\n",
       "      <td>-0.043228</td>\n",
       "      <td>18.483</td>\n",
       "      <td>18.673</td>\n",
       "      <td>18.623</td>\n",
       "      <td>19.208</td>\n",
       "      <td>349.779673</td>\n",
       "      <td>-1.0</td>\n",
       "      <td>354.469302</td>\n",
       "      <td>-1.0</td>\n",
       "    </tr>\n",
       "  </tbody>\n",
       "</table>\n",
       "<p>5 rows × 81 columns</p>\n",
       "</div>"
      ],
      "text/plain": [
       "                                     Time  Magnet Current [A]  \\\n",
       "Datetime                                                        \n",
       "2020-09-12 19:01:38  9/12/2020 7:01:38 PM          240.061760   \n",
       "2020-09-12 19:18:30  9/12/2020 7:18:30 PM          240.061760   \n",
       "2020-09-12 19:35:12  9/12/2020 7:35:12 PM          240.061817   \n",
       "2020-09-12 19:51:51  9/12/2020 7:51:51 PM          240.061760   \n",
       "2020-09-12 20:08:32  9/12/2020 8:08:32 PM          240.061760   \n",
       "\n",
       "                     Magnet Voltage [V]  Coil 1 (new)  Coil 2 (old)  \\\n",
       "Datetime                                                              \n",
       "2020-09-12 19:01:38           29.923167     40.558170     38.942825   \n",
       "2020-09-12 19:18:30           29.924183     40.493816     38.975624   \n",
       "2020-09-12 19:35:12           29.926300     40.588242     38.965355   \n",
       "2020-09-12 19:51:51           29.927133     40.604641     38.936230   \n",
       "2020-09-12 20:08:32           29.928733     40.539101     38.998989   \n",
       "\n",
       "                     LCW in Coil1  LCW out Coil 1  LCW in Coil 2  \\\n",
       "Datetime                                                           \n",
       "2020-09-12 19:01:38     18.871008       21.288820      20.954662   \n",
       "2020-09-12 19:18:30     18.885652       21.279921      21.015888   \n",
       "2020-09-12 19:35:12     18.892385       21.315929      21.013571   \n",
       "2020-09-12 19:51:51     18.905813       21.333393      21.028912   \n",
       "2020-09-12 20:08:32     18.912430       21.328051      21.050402   \n",
       "\n",
       "                     LCW out Coil 2       Yoke  ...  6A0000000D61333A_Cal_Y  \\\n",
       "Datetime                                        ...                           \n",
       "2020-09-12 19:01:38       25.085649  22.031939  ...               -0.037134   \n",
       "2020-09-12 19:18:30       25.110920  22.026712  ...                0.123776   \n",
       "2020-09-12 19:35:12       25.107557  22.028481  ...                0.150731   \n",
       "2020-09-12 19:51:51       25.119083  22.047304  ...                0.013261   \n",
       "2020-09-12 20:08:32       25.128641  22.050310  ...                0.163991   \n",
       "\n",
       "                     6A0000000D61333A_Cal_Z  DF0000000D5E803A_Cal_T  \\\n",
       "Datetime                                                              \n",
       "2020-09-12 19:01:38                0.029023                  18.467   \n",
       "2020-09-12 19:18:30               -0.115695                  18.446   \n",
       "2020-09-12 19:35:12                0.078741                  18.496   \n",
       "2020-09-12 19:51:51               -0.169127                  18.502   \n",
       "2020-09-12 20:08:32               -0.043228                  18.483   \n",
       "\n",
       "                     C90000000D53983A_Cal_T  C50000000D5E473A_Cal_T  \\\n",
       "Datetime                                                              \n",
       "2020-09-12 19:01:38                  18.648                  18.613   \n",
       "2020-09-12 19:18:30                  18.685                  18.586   \n",
       "2020-09-12 19:35:12                  18.663                  18.613   \n",
       "2020-09-12 19:51:51                  18.655                  18.604   \n",
       "2020-09-12 20:08:32                  18.673                  18.623   \n",
       "\n",
       "                     6A0000000D61333A_Cal_T  SmarAct_Meas_Angle_1  \\\n",
       "Datetime                                                            \n",
       "2020-09-12 19:01:38                  18.924              0.000292   \n",
       "2020-09-12 19:18:30                  19.110            349.781838   \n",
       "2020-09-12 19:35:12                  18.931            349.780026   \n",
       "2020-09-12 19:51:51                  19.385            349.780091   \n",
       "2020-09-12 20:08:32                  19.208            349.779673   \n",
       "\n",
       "                     SmarAct_Meas_Rotation_Angle_1  SmarAct_Meas_Angle_2  \\\n",
       "Datetime                                                                   \n",
       "2020-09-12 19:01:38                            0.0            359.999466   \n",
       "2020-09-12 19:18:30                           -1.0             22.625742   \n",
       "2020-09-12 19:35:12                           -1.0            312.234652   \n",
       "2020-09-12 19:51:51                           -1.0             64.860396   \n",
       "2020-09-12 20:08:32                           -1.0            354.469302   \n",
       "\n",
       "                     SmarAct_Meas_Rotation_Angle_2  \n",
       "Datetime                                            \n",
       "2020-09-12 19:01:38                           -1.0  \n",
       "2020-09-12 19:18:30                            0.0  \n",
       "2020-09-12 19:35:12                           -1.0  \n",
       "2020-09-12 19:51:51                            0.0  \n",
       "2020-09-12 20:08:32                           -1.0  \n",
       "\n",
       "[5 rows x 81 columns]"
      ]
     },
     "execution_count": 20,
     "metadata": {},
     "output_type": "execute_result"
    }
   ],
   "source": [
    "df_slow.head()"
   ]
  },
  {
   "cell_type": "code",
   "execution_count": 21,
   "metadata": {},
   "outputs": [
    {
     "data": {
      "text/html": [
       "<div>\n",
       "<style scoped>\n",
       "    .dataframe tbody tr th:only-of-type {\n",
       "        vertical-align: middle;\n",
       "    }\n",
       "\n",
       "    .dataframe tbody tr th {\n",
       "        vertical-align: top;\n",
       "    }\n",
       "\n",
       "    .dataframe thead th {\n",
       "        text-align: right;\n",
       "    }\n",
       "</style>\n",
       "<table border=\"1\" class=\"dataframe\">\n",
       "  <thead>\n",
       "    <tr style=\"text-align: right;\">\n",
       "      <th></th>\n",
       "      <th>Time</th>\n",
       "      <th>Magnet Current [A]</th>\n",
       "      <th>Magnet Voltage [V]</th>\n",
       "      <th>Coil 1 (new)</th>\n",
       "      <th>Coil 2 (old)</th>\n",
       "      <th>LCW in Coil1</th>\n",
       "      <th>LCW out Coil 1</th>\n",
       "      <th>LCW in Coil 2</th>\n",
       "      <th>LCW out Coil 2</th>\n",
       "      <th>Yoke</th>\n",
       "      <th>...</th>\n",
       "      <th>6A0000000D61333A_Cal_Y</th>\n",
       "      <th>6A0000000D61333A_Cal_Z</th>\n",
       "      <th>DF0000000D5E803A_Cal_T</th>\n",
       "      <th>C90000000D53983A_Cal_T</th>\n",
       "      <th>C50000000D5E473A_Cal_T</th>\n",
       "      <th>6A0000000D61333A_Cal_T</th>\n",
       "      <th>SmarAct_Meas_Angle_1</th>\n",
       "      <th>SmarAct_Meas_Rotation_Angle_1</th>\n",
       "      <th>SmarAct_Meas_Angle_2</th>\n",
       "      <th>SmarAct_Meas_Rotation_Angle_2</th>\n",
       "    </tr>\n",
       "    <tr>\n",
       "      <th>Datetime</th>\n",
       "      <th></th>\n",
       "      <th></th>\n",
       "      <th></th>\n",
       "      <th></th>\n",
       "      <th></th>\n",
       "      <th></th>\n",
       "      <th></th>\n",
       "      <th></th>\n",
       "      <th></th>\n",
       "      <th></th>\n",
       "      <th></th>\n",
       "      <th></th>\n",
       "      <th></th>\n",
       "      <th></th>\n",
       "      <th></th>\n",
       "      <th></th>\n",
       "      <th></th>\n",
       "      <th></th>\n",
       "      <th></th>\n",
       "      <th></th>\n",
       "      <th></th>\n",
       "    </tr>\n",
       "  </thead>\n",
       "  <tbody>\n",
       "    <tr>\n",
       "      <th>2020-09-14 03:48:27</th>\n",
       "      <td>9/14/2020 3:48:27 AM</td>\n",
       "      <td>240.063460</td>\n",
       "      <td>29.913883</td>\n",
       "      <td>40.495617</td>\n",
       "      <td>38.913319</td>\n",
       "      <td>18.793568</td>\n",
       "      <td>21.216724</td>\n",
       "      <td>20.883968</td>\n",
       "      <td>25.027082</td>\n",
       "      <td>21.992209</td>\n",
       "      <td>...</td>\n",
       "      <td>-0.161706</td>\n",
       "      <td>-0.051033</td>\n",
       "      <td>18.461</td>\n",
       "      <td>18.606</td>\n",
       "      <td>18.565</td>\n",
       "      <td>19.226</td>\n",
       "      <td>5.901297</td>\n",
       "      <td>0.0</td>\n",
       "      <td>314.245825</td>\n",
       "      <td>-1.0</td>\n",
       "    </tr>\n",
       "    <tr>\n",
       "      <th>2020-09-14 04:05:12</th>\n",
       "      <td>9/14/2020 4:05:12 AM</td>\n",
       "      <td>240.063403</td>\n",
       "      <td>29.913867</td>\n",
       "      <td>40.505611</td>\n",
       "      <td>38.868690</td>\n",
       "      <td>18.789406</td>\n",
       "      <td>21.220163</td>\n",
       "      <td>20.958847</td>\n",
       "      <td>25.019411</td>\n",
       "      <td>21.989969</td>\n",
       "      <td>...</td>\n",
       "      <td>0.013520</td>\n",
       "      <td>0.169034</td>\n",
       "      <td>18.455</td>\n",
       "      <td>18.639</td>\n",
       "      <td>18.579</td>\n",
       "      <td>19.626</td>\n",
       "      <td>5.901225</td>\n",
       "      <td>0.0</td>\n",
       "      <td>66.871572</td>\n",
       "      <td>0.0</td>\n",
       "    </tr>\n",
       "    <tr>\n",
       "      <th>2020-09-14 04:21:51</th>\n",
       "      <td>9/14/2020 4:21:51 AM</td>\n",
       "      <td>240.063460</td>\n",
       "      <td>29.914250</td>\n",
       "      <td>40.415520</td>\n",
       "      <td>38.879314</td>\n",
       "      <td>18.792959</td>\n",
       "      <td>21.213818</td>\n",
       "      <td>20.937180</td>\n",
       "      <td>25.001614</td>\n",
       "      <td>21.999380</td>\n",
       "      <td>...</td>\n",
       "      <td>-0.155905</td>\n",
       "      <td>0.067772</td>\n",
       "      <td>18.442</td>\n",
       "      <td>18.606</td>\n",
       "      <td>18.552</td>\n",
       "      <td>19.251</td>\n",
       "      <td>5.900047</td>\n",
       "      <td>0.0</td>\n",
       "      <td>355.474897</td>\n",
       "      <td>-1.0</td>\n",
       "    </tr>\n",
       "    <tr>\n",
       "      <th>2020-09-14 04:38:30</th>\n",
       "      <td>9/14/2020 4:38:30 AM</td>\n",
       "      <td>240.063403</td>\n",
       "      <td>29.913467</td>\n",
       "      <td>40.465508</td>\n",
       "      <td>38.881248</td>\n",
       "      <td>18.792782</td>\n",
       "      <td>21.219181</td>\n",
       "      <td>20.894852</td>\n",
       "      <td>25.015734</td>\n",
       "      <td>21.994429</td>\n",
       "      <td>...</td>\n",
       "      <td>-0.113871</td>\n",
       "      <td>-0.124878</td>\n",
       "      <td>18.466</td>\n",
       "      <td>18.594</td>\n",
       "      <td>18.563</td>\n",
       "      <td>19.328</td>\n",
       "      <td>5.901531</td>\n",
       "      <td>0.0</td>\n",
       "      <td>284.078222</td>\n",
       "      <td>-1.0</td>\n",
       "    </tr>\n",
       "    <tr>\n",
       "      <th>2020-09-14 04:55:06</th>\n",
       "      <td>9/14/2020 4:55:06 AM</td>\n",
       "      <td>240.063233</td>\n",
       "      <td>29.913783</td>\n",
       "      <td>40.443890</td>\n",
       "      <td>38.884487</td>\n",
       "      <td>18.796236</td>\n",
       "      <td>21.210693</td>\n",
       "      <td>20.932054</td>\n",
       "      <td>25.029186</td>\n",
       "      <td>21.996334</td>\n",
       "      <td>...</td>\n",
       "      <td>-0.075800</td>\n",
       "      <td>0.152066</td>\n",
       "      <td>18.453</td>\n",
       "      <td>18.597</td>\n",
       "      <td>18.548</td>\n",
       "      <td>19.574</td>\n",
       "      <td>5.901444</td>\n",
       "      <td>0.0</td>\n",
       "      <td>35.698368</td>\n",
       "      <td>0.0</td>\n",
       "    </tr>\n",
       "  </tbody>\n",
       "</table>\n",
       "<p>5 rows × 81 columns</p>\n",
       "</div>"
      ],
      "text/plain": [
       "                                     Time  Magnet Current [A]  \\\n",
       "Datetime                                                        \n",
       "2020-09-14 03:48:27  9/14/2020 3:48:27 AM          240.063460   \n",
       "2020-09-14 04:05:12  9/14/2020 4:05:12 AM          240.063403   \n",
       "2020-09-14 04:21:51  9/14/2020 4:21:51 AM          240.063460   \n",
       "2020-09-14 04:38:30  9/14/2020 4:38:30 AM          240.063403   \n",
       "2020-09-14 04:55:06  9/14/2020 4:55:06 AM          240.063233   \n",
       "\n",
       "                     Magnet Voltage [V]  Coil 1 (new)  Coil 2 (old)  \\\n",
       "Datetime                                                              \n",
       "2020-09-14 03:48:27           29.913883     40.495617     38.913319   \n",
       "2020-09-14 04:05:12           29.913867     40.505611     38.868690   \n",
       "2020-09-14 04:21:51           29.914250     40.415520     38.879314   \n",
       "2020-09-14 04:38:30           29.913467     40.465508     38.881248   \n",
       "2020-09-14 04:55:06           29.913783     40.443890     38.884487   \n",
       "\n",
       "                     LCW in Coil1  LCW out Coil 1  LCW in Coil 2  \\\n",
       "Datetime                                                           \n",
       "2020-09-14 03:48:27     18.793568       21.216724      20.883968   \n",
       "2020-09-14 04:05:12     18.789406       21.220163      20.958847   \n",
       "2020-09-14 04:21:51     18.792959       21.213818      20.937180   \n",
       "2020-09-14 04:38:30     18.792782       21.219181      20.894852   \n",
       "2020-09-14 04:55:06     18.796236       21.210693      20.932054   \n",
       "\n",
       "                     LCW out Coil 2       Yoke  ...  6A0000000D61333A_Cal_Y  \\\n",
       "Datetime                                        ...                           \n",
       "2020-09-14 03:48:27       25.027082  21.992209  ...               -0.161706   \n",
       "2020-09-14 04:05:12       25.019411  21.989969  ...                0.013520   \n",
       "2020-09-14 04:21:51       25.001614  21.999380  ...               -0.155905   \n",
       "2020-09-14 04:38:30       25.015734  21.994429  ...               -0.113871   \n",
       "2020-09-14 04:55:06       25.029186  21.996334  ...               -0.075800   \n",
       "\n",
       "                     6A0000000D61333A_Cal_Z  DF0000000D5E803A_Cal_T  \\\n",
       "Datetime                                                              \n",
       "2020-09-14 03:48:27               -0.051033                  18.461   \n",
       "2020-09-14 04:05:12                0.169034                  18.455   \n",
       "2020-09-14 04:21:51                0.067772                  18.442   \n",
       "2020-09-14 04:38:30               -0.124878                  18.466   \n",
       "2020-09-14 04:55:06                0.152066                  18.453   \n",
       "\n",
       "                     C90000000D53983A_Cal_T  C50000000D5E473A_Cal_T  \\\n",
       "Datetime                                                              \n",
       "2020-09-14 03:48:27                  18.606                  18.565   \n",
       "2020-09-14 04:05:12                  18.639                  18.579   \n",
       "2020-09-14 04:21:51                  18.606                  18.552   \n",
       "2020-09-14 04:38:30                  18.594                  18.563   \n",
       "2020-09-14 04:55:06                  18.597                  18.548   \n",
       "\n",
       "                     6A0000000D61333A_Cal_T  SmarAct_Meas_Angle_1  \\\n",
       "Datetime                                                            \n",
       "2020-09-14 03:48:27                  19.226              5.901297   \n",
       "2020-09-14 04:05:12                  19.626              5.901225   \n",
       "2020-09-14 04:21:51                  19.251              5.900047   \n",
       "2020-09-14 04:38:30                  19.328              5.901531   \n",
       "2020-09-14 04:55:06                  19.574              5.901444   \n",
       "\n",
       "                     SmarAct_Meas_Rotation_Angle_1  SmarAct_Meas_Angle_2  \\\n",
       "Datetime                                                                   \n",
       "2020-09-14 03:48:27                            0.0            314.245825   \n",
       "2020-09-14 04:05:12                            0.0             66.871572   \n",
       "2020-09-14 04:21:51                            0.0            355.474897   \n",
       "2020-09-14 04:38:30                            0.0            284.078222   \n",
       "2020-09-14 04:55:06                            0.0             35.698368   \n",
       "\n",
       "                     SmarAct_Meas_Rotation_Angle_2  \n",
       "Datetime                                            \n",
       "2020-09-14 03:48:27                           -1.0  \n",
       "2020-09-14 04:05:12                            0.0  \n",
       "2020-09-14 04:21:51                           -1.0  \n",
       "2020-09-14 04:38:30                           -1.0  \n",
       "2020-09-14 04:55:06                            0.0  \n",
       "\n",
       "[5 rows x 81 columns]"
      ]
     },
     "execution_count": 21,
     "metadata": {},
     "output_type": "execute_result"
    }
   ],
   "source": [
    "df_slow.tail()"
   ]
  },
  {
   "cell_type": "code",
   "execution_count": 22,
   "metadata": {
    "scrolled": true
   },
   "outputs": [
    {
     "data": {
      "text/plain": [
       "123"
      ]
     },
     "execution_count": 22,
     "metadata": {},
     "output_type": "execute_result"
    }
   ],
   "source": [
    "len(df_slow)"
   ]
  },
  {
   "cell_type": "code",
   "execution_count": 23,
   "metadata": {},
   "outputs": [
    {
     "data": {
      "text/plain": [
       "Index(['Time', 'Magnet Current [A]', 'Magnet Voltage [V]', 'Coil 1 (new)',\n",
       "       'Coil 2 (old)', 'LCW in Coil1', 'LCW out Coil 1', 'LCW in Coil 2',\n",
       "       'LCW out Coil 2', 'Yoke', 'Hall Element', 'Floor', 'Roof',\n",
       "       'Yoke (center magnet)', 'Parameter HVAC sensor', 'Chamber Wall CH13',\n",
       "       'Chamber Wall CH14', 'Chamber Wall CH15', 'Chamber Wall CH16',\n",
       "       'Chamber Wall CH17', 'Chamber Wall CH18', 'Chamber Wall CH19',\n",
       "       'Chamber Wall CH20', 'Desk Ambient', 'Outlet Strip Ambient',\n",
       "       'Top fo Orange PS Ambient', 'Spare Ambient on desk',\n",
       "       'TrippLite Ambient 3ft high', 'TrippLite Ambient Floor', 'PS internal',\n",
       "       'PS Vent1', 'PS Vent2', 'TrippLite HVAC supply',\n",
       "       'Tripplite HVAC exhaust', 'LCW to PS', 'LCW in barrel', 'ICW in',\n",
       "       'ICW HE1 out', 'ICW He2 out', 'LCW return magnet', 'LCW to barrel',\n",
       "       'LCW from PS', 'LCW to magnet', 'NMR [T]', 'NMR [FFT]',\n",
       "       'DF0000000D5E803A_Raw_X', 'DF0000000D5E803A_Raw_Y',\n",
       "       'DF0000000D5E803A_Raw_Z', 'C90000000D53983A_Raw_X',\n",
       "       'C90000000D53983A_Raw_Y', 'C90000000D53983A_Raw_Z',\n",
       "       'C50000000D5E473A_Raw_X', 'C50000000D5E473A_Raw_Y',\n",
       "       'C50000000D5E473A_Raw_Z', '6A0000000D61333A_Raw_X',\n",
       "       '6A0000000D61333A_Raw_Y', '6A0000000D61333A_Raw_Z',\n",
       "       'DF0000000D5E803A_Raw_T', 'C90000000D53983A_Raw_T',\n",
       "       'C50000000D5E473A_Raw_T', '6A0000000D61333A_Raw_T',\n",
       "       'DF0000000D5E803A_Cal_X', 'DF0000000D5E803A_Cal_Y',\n",
       "       'DF0000000D5E803A_Cal_Z', 'C90000000D53983A_Cal_X',\n",
       "       'C90000000D53983A_Cal_Y', 'C90000000D53983A_Cal_Z',\n",
       "       'C50000000D5E473A_Cal_X', 'C50000000D5E473A_Cal_Y',\n",
       "       'C50000000D5E473A_Cal_Z', '6A0000000D61333A_Cal_X',\n",
       "       '6A0000000D61333A_Cal_Y', '6A0000000D61333A_Cal_Z',\n",
       "       'DF0000000D5E803A_Cal_T', 'C90000000D53983A_Cal_T',\n",
       "       'C50000000D5E473A_Cal_T', '6A0000000D61333A_Cal_T',\n",
       "       'SmarAct_Meas_Angle_1', 'SmarAct_Meas_Rotation_Angle_1',\n",
       "       'SmarAct_Meas_Angle_2', 'SmarAct_Meas_Rotation_Angle_2'],\n",
       "      dtype='object')"
      ]
     },
     "execution_count": 23,
     "metadata": {},
     "output_type": "execute_result"
    }
   ],
   "source": [
    "df_slow.columns"
   ]
  },
  {
   "cell_type": "code",
   "execution_count": 24,
   "metadata": {},
   "outputs": [
    {
     "ename": "NameError",
     "evalue": "name 'probe' is not defined",
     "output_type": "error",
     "traceback": [
      "\u001b[0;31m---------------------------------------------------------------------------\u001b[0m",
      "\u001b[0;31mNameError\u001b[0m                                 Traceback (most recent call last)",
      "\u001b[0;32m<ipython-input-24-b80b86446287>\u001b[0m in \u001b[0;36m<module>\u001b[0;34m\u001b[0m\n\u001b[0;32m----> 1\u001b[0;31m \u001b[0mdf_slow\u001b[0m\u001b[0;34m[\u001b[0m\u001b[0;34mf'{probe}_Cal_X'\u001b[0m\u001b[0;34m]\u001b[0m\u001b[0;34m\u001b[0m\u001b[0;34m\u001b[0m\u001b[0m\n\u001b[0m",
      "\u001b[0;31mNameError\u001b[0m: name 'probe' is not defined"
     ]
    }
   ],
   "source": [
    "df_slow[f'{probe}_Cal_X']"
   ]
  },
  {
   "cell_type": "code",
   "execution_count": 25,
   "metadata": {},
   "outputs": [
    {
     "data": {
      "text/plain": [
       "Datetime\n",
       "2020-09-12 19:01:38    0.0\n",
       "2020-09-12 19:18:30    0.0\n",
       "2020-09-12 19:35:12    0.0\n",
       "2020-09-12 19:51:51    0.0\n",
       "2020-09-12 20:08:32    0.0\n",
       "                      ... \n",
       "2020-09-14 03:48:27    0.0\n",
       "2020-09-14 04:05:12    0.0\n",
       "2020-09-14 04:21:51    0.0\n",
       "2020-09-14 04:38:30    0.0\n",
       "2020-09-14 04:55:06    0.0\n",
       "Name: NMR [T], Length: 123, dtype: float64"
      ]
     },
     "execution_count": 25,
     "metadata": {},
     "output_type": "execute_result"
    }
   ],
   "source": [
    "df_slow['NMR [T]']"
   ]
  },
  {
   "cell_type": "code",
   "execution_count": 26,
   "metadata": {},
   "outputs": [
    {
     "name": "stdout",
     "output_type": "stream",
     "text": [
      "['6A0000000D61333A', 'C50000000D5E473A', 'C90000000D53983A', 'DF0000000D5E803A']\n"
     ]
    }
   ],
   "source": [
    "probes = np.array([])\n",
    "for col in df.columns:\n",
    "    #print(df_fast[col].dtype)\n",
    "    if (\"Raw\" in col) or (\"Cal\" in col):#type(df[col].iloc[0]) is np.float64:\n",
    "        #print(f\"{col}\")#\": mean: {df[col].mean()}\")\n",
    "        probes = np.append(probes, col[:16])\n",
    "probes = list(np.unique(probes))\n",
    "print(probes)"
   ]
  },
  {
   "cell_type": "code",
   "execution_count": 27,
   "metadata": {},
   "outputs": [],
   "source": [
    "probe = probes[0]"
   ]
  },
  {
   "cell_type": "code",
   "execution_count": 658,
   "metadata": {},
   "outputs": [
    {
     "data": {
      "text/plain": [
       "'6A0000000D61333A'"
      ]
     },
     "execution_count": 658,
     "metadata": {},
     "output_type": "execute_result"
    }
   ],
   "source": [
    "probe"
   ]
  },
  {
   "cell_type": "code",
   "execution_count": 659,
   "metadata": {
    "scrolled": true
   },
   "outputs": [
    {
     "name": "stdout",
     "output_type": "stream",
     "text": [
      "DF0000000D5E803A_Cal_X: mean: 0.0014198187204444445\n",
      "DF0000000D5E803A_Cal_Y: mean: 0.020187216016148146\n",
      "DF0000000D5E803A_Cal_Z: mean: 0.002248906979777778\n",
      "C90000000D53983A_Cal_X: mean: 0.000629903346\n",
      "C90000000D53983A_Cal_Y: mean: 0.00032178530577777777\n",
      "C90000000D53983A_Cal_Z: mean: 0.000579495666\n",
      "C50000000D5E473A_Cal_X: mean: 0.00810830270525926\n",
      "C50000000D5E473A_Cal_Y: mean: -0.005983816687333333\n",
      "C50000000D5E473A_Cal_Z: mean: 0.033347740870740744\n",
      "6A0000000D61333A_Cal_X: mean: 1.1977114595375555\n",
      "6A0000000D61333A_Cal_Y: mean: -0.0029825584487407383\n",
      "6A0000000D61333A_Cal_Z: mean: 0.009340577086370368\n",
      "DF0000000D5E803A_Cal_T: mean: 18.476146296296296\n",
      "C90000000D53983A_Cal_T: mean: 18.641237037037037\n",
      "C50000000D5E473A_Cal_T: mean: 18.58602888888889\n",
      "6A0000000D61333A_Cal_T: mean: 19.27257962962963\n"
     ]
    }
   ],
   "source": [
    "for col in df.columns:\n",
    "    if (type(df[col].iloc[0]) is np.float64) and ('Cal' in col):\n",
    "        print(f\"{col}: mean: {df[col].mean()}\")"
   ]
  },
  {
   "cell_type": "markdown",
   "metadata": {},
   "source": [
    "- Looks like maybe probe \"6A0000000D61333A\" is in the field"
   ]
  },
  {
   "cell_type": "markdown",
   "metadata": {},
   "source": [
    "### Slow Control Data Cleaning"
   ]
  },
  {
   "cell_type": "code",
   "execution_count": 660,
   "metadata": {
    "code_folding": []
   },
   "outputs": [],
   "source": [
    "for probe in probes:\n",
    "    for t in [\"Cal\", \"Raw\"]:\n",
    "        df[f\"{probe}_{t}_Bmag\"] = (df[f\"{probe}_{t}_X\"]**2+df[f\"{probe}_{t}_Y\"]**2+df[f\"{probe}_{t}_Z\"]**2)**(1/2)\n",
    "        #df[f\"{probe}_{t}_Res\"] = df[f\"{probe}_{t}_Bmag\"] - df['NMR [T]']\n",
    "        #df[f\"{probe}_{t}_Res_Rel\"] = (df[f\"{probe}_{t}_Bmag\"] - df['NMR [T]']) / df['NMR [T]']"
   ]
  },
  {
   "cell_type": "code",
   "execution_count": 661,
   "metadata": {},
   "outputs": [
    {
     "data": {
      "text/plain": [
       "''"
      ]
     },
     "execution_count": 661,
     "metadata": {},
     "output_type": "execute_result"
    }
   ],
   "source": [
    "'''\n",
    "for B in [\"X\", \"Y\", \"Z\"]:\n",
    "    for probe in probes:\n",
    "        for t in [\"Cal\", \"Raw\"]:\n",
    "            #df[f\"{probe}_{t}_Bmag\"] = (df[f\"{probe}_{t}_X\"]**2+df[f\"{probe}_{t}_Y\"]**2+df[f\"{probe}_{t}_Z\"]**2)**(1/2)\n",
    "            #df[f\"{probe}_{t}_{B}_Res\"] = df[f\"{probe}_{t}_{B}\"] - df['NMR [T]']\n",
    "            #df[f\"{probe}_{t}_{B}_Res_Rel\"] = (df[f\"{probe}_{t}_{B}\"] - df['NMR [T]']) / df['NMR [T]']\n",
    "'''\n",
    ";"
   ]
  },
  {
   "cell_type": "code",
   "execution_count": 662,
   "metadata": {},
   "outputs": [],
   "source": [
    "df[\"seconds_delta\"] = (df.index - df.index[0]).total_seconds()\n",
    "df[\"hours_delta\"] = (df.index - df.index[0]).total_seconds()/60**2\n",
    "df[\"days_delta\"] = (df.index - df.index[0]).total_seconds()/(24*60**2)"
   ]
  },
  {
   "cell_type": "code",
   "execution_count": 720,
   "metadata": {},
   "outputs": [],
   "source": [
    "for t in [\"Cal\", \"Raw\"]:\n",
    "    for probe in probes:\n",
    "        df[f'{probe}_{t}_Theta_old'] = df[f'{probe}_{t}_Theta']"
   ]
  },
  {
   "cell_type": "code",
   "execution_count": 721,
   "metadata": {},
   "outputs": [],
   "source": [
    "'''\n",
    "for t in [\"Cal\", \"Raw\"]:\n",
    "    for probe in probes:\n",
    "        df[f\"{probe}_{t}_Transverse\"] = (df[f\"{probe}_Cal_X\"]**2+df[f\"{probe}_Cal_Y\"]**2)**(1/2)\n",
    "        df[f\"{probe}_{t}_Theta\"] = np.arccos(df[f\"{probe}_Cal_Z\"]/df[f\"{probe}_Cal_Bmag\"])\n",
    "        df[f\"{probe}_{t}_Phi\"] = np.arccos(df[f\"{probe}_Cal_X\"]/df[f\"{probe}_Cal_Transverse\"])\n",
    "'''   \n",
    "   \n",
    "for t in [\"Cal\", \"Raw\"]:\n",
    "    for probe in probes:\n",
    "        df[f\"{probe}_{t}_Transverse\"] = (df[f\"{probe}_{t}_X\"]**2+df[f\"{probe}_{t}_Y\"]**2)**(1/2)\n",
    "        #df[f\"{probe}_{t}_Theta\"] = np.arccos(df[f\"{probe}_{t}_Z\"]/df[f\"{probe}_{t}_Bmag\"])\n",
    "        df[f\"{probe}_{t}_Theta\"] = np.arctan2(df[f\"{probe}_{t}_Transverse\"],df[f\"{probe}_{t}_Z\"])#/df[f\"{probe}_{t}_Bmag\"])\n",
    "        df[f\"{probe}_{t}_Phi\"] = np.arctan2(df[f\"{probe}_{t}_Y\"],df[f\"{probe}_{t}_X\"])"
   ]
  },
  {
   "cell_type": "code",
   "execution_count": 722,
   "metadata": {},
   "outputs": [
    {
     "data": {
      "text/plain": [
       "'DF0000000D5E803A'"
      ]
     },
     "execution_count": 722,
     "metadata": {},
     "output_type": "execute_result"
    }
   ],
   "source": [
    "probe"
   ]
  },
  {
   "cell_type": "code",
   "execution_count": 723,
   "metadata": {},
   "outputs": [],
   "source": [
    "probe = probes[0]"
   ]
  },
  {
   "cell_type": "code",
   "execution_count": 724,
   "metadata": {},
   "outputs": [
    {
     "data": {
      "text/plain": [
       "'6A0000000D61333A'"
      ]
     },
     "execution_count": 724,
     "metadata": {},
     "output_type": "execute_result"
    }
   ],
   "source": [
    "probe"
   ]
  },
  {
   "cell_type": "code",
   "execution_count": 664,
   "metadata": {},
   "outputs": [],
   "source": [
    "'''\n",
    "# raw\n",
    "for probe in probes:\n",
    "    df[f\"{probe}_Raw_Bmag\"] = (df[f\"{probe}_Raw_X\"]**2+df[f\"{probe}_Raw_Y\"]**2+df[f\"{probe}_Raw_Z\"]**2)**(1/2)\n",
    "\n",
    "for probe in probes:\n",
    "    df[f\"{probe}_Raw_Transverse\"] = (df[f\"{probe}_Raw_X\"]**2+df[f\"{probe}_Raw_Y\"]**2)**(1/2)\n",
    "    df[f\"{probe}_Raw_Theta\"] = np.arccos(df[f\"{probe}_Raw_Z\"]/df[f\"{probe}_Raw_Bmag\"])\n",
    "    df[f\"{probe}_Raw_Phi\"] = np.arccos(df[f\"{probe}_Raw_X\"]/df[f\"{probe}_Raw_Transverse\"])\n",
    "'''\n",
    "3;"
   ]
  },
  {
   "cell_type": "code",
   "execution_count": 665,
   "metadata": {
    "scrolled": true
   },
   "outputs": [],
   "source": [
    "# NOTE TAKES ~3 MINUTES TO RUN AT THIS POINT (02-03-2020)\n",
    "if make_plots:\n",
    "    ## TIME PLOTS\n",
    "    for col in df.columns:\n",
    "        fig = scatter2d(df.index, df[col], markers=False, lines=True, show_plot=False) \n",
    "        pio.write_image(fig, plotdir+f\"time/all/{col}_vs_time.pdf\")\n",
    "        pio.write_image(fig, plotdir+f\"time/all/{col}_vs_time.png\")\n",
    "    \n",
    "    ## PLOT HISTOS\n",
    "    for probe in probes:\n",
    "        for t in [\"Cal\", \"Raw\"]:\n",
    "            fig = histo(df[f\"{probe}_{t}_Bmag\"], bins=50, show_plot=False)\n",
    "            pio.write_image(fig, plotdir+f\"histo/{probe}_{t}_Bmag.pdf\")\n",
    "            pio.write_image(fig, plotdir+f\"histo/{probe}_{t}_Bmag.png\")\n",
    "\n",
    "    '''\n",
    "    ## RES HISTOS\n",
    "    for t in [\"Cal\", \"Raw\"]:\n",
    "        for probe in probes:\n",
    "            for B in [\"X\",\"Y\",\"Z\"]:\n",
    "                fig = histo(df[f\"{probe}_{t}_{B}_Res\"], bins=50, show_plot=False)\n",
    "                pio.write_image(fig, plotdir+f\"histo/residuals/component/{probe}_{t}_{B}_Res.pdf\")\n",
    "                pio.write_image(fig, plotdir+f\"histo/residuals/component/{probe}_{t}_{B}_Res.png\")\n",
    "\n",
    "    ## REL_RES HISTOS\n",
    "    for t in [\"Cal\", \"Raw\"]:\n",
    "        for probe in probes:\n",
    "            for B in [\"X\",\"Y\",\"Z\"]:\n",
    "                fig = histo(df[f\"{probe}_{t}_{B}_Res_Rel\"], bins=50, show_plot=False)\n",
    "                pio.write_image(fig, plotdir+f\"histo/relative_residuals/component/{probe}_{t}_{B}_Res_Rel.pdf\")\n",
    "                pio.write_image(fig, plotdir+f\"histo/relative_residuals/component/{probe}_{t}_{B}_Res_Rel.png\")\n",
    "\n",
    "    ## BMAG RES HISTOS\n",
    "    for res in [\"Res\", \"Res_Rel\"]:\n",
    "        if res == \"Res\":\n",
    "            p = \"residuals\"\n",
    "        else:\n",
    "            p = \"relative_residuals\"\n",
    "        for t in [\"Cal\", \"Raw\"]:\n",
    "            for probe in probes:\n",
    "                #for B in [\"X\",\"Y\",\"Z\"]:\n",
    "                fig = histo(df[f\"{probe}_{t}_{res}\"], bins=50, show_plot=False)\n",
    "                pio.write_image(fig, plotdir+f\"histo/{p}/{probe}_{t}_Bmag_{res}.pdf\")\n",
    "                pio.write_image(fig, plotdir+f\"histo/{p}/{probe}_{t}_Bmag_{res}.png\")\n",
    "    '''\n",
    "    \n",
    "    ## PLOT HISTO ANGLE\n",
    "    for probe in probes:\n",
    "        for angle in [\"Transverse\", \"Theta\", \"Phi\"]:\n",
    "            fig = histo(df[f\"{probe}_Cal_{angle}\"], bins=30, show_plot=False)\n",
    "            pio.write_image(fig, plotdir+f\"histo/angles/{probe}_Cal_{angle}.pdf\")\n",
    "            pio.write_image(fig, plotdir+f\"histo/angles/{probe}_Cal_{angle}.png\")\n",
    "\n",
    "    ## PLOT ANGLE\n",
    "    for probe in probes:\n",
    "        for angle in [\"Transverse\", \"Theta\", \"Phi\"]:\n",
    "            fig = scatter2d(df.index, df[f\"{probe}_Cal_{angle}\"], show_plot=False)\n",
    "            pio.write_image(fig, plotdir+f\"time/angles/{probe}_Cal_{angle}.pdf\")\n",
    "            pio.write_image(fig, plotdir+f\"time/angles/{probe}_Cal_{angle}.png\")\n",
    "\n",
    "    ## PLOT ANGLES RAW\n",
    "    for probe in probes:\n",
    "        for angle in [\"Transverse\", \"Theta\", \"Phi\"]:\n",
    "            fig = histo(df[f\"{probe}_Raw_{angle}\"], bins=30, show_plot=False)\n",
    "            pio.write_image(fig, plotdir+f\"histo/angles/{probe}_Raw_{angle}.pdf\")\n",
    "            pio.write_image(fig, plotdir+f\"histo/angles/{probe}_Raw_{angle}.png\")\n",
    "\n",
    "    for probe in probes:\n",
    "        for angle in [\"Transverse\", \"Theta\", \"Phi\"]:\n",
    "            fig = scatter2d(df.index, df[f\"{probe}_Raw_{angle}\"], show_plot=False)\n",
    "            pio.write_image(fig, plotdir+f\"time/angles/{probe}_Raw_{angle}.pdf\")\n",
    "            pio.write_image(fig, plotdir+f\"time/angles/{probe}_Raw_{angle}.png\")"
   ]
  },
  {
   "cell_type": "code",
   "execution_count": 666,
   "metadata": {},
   "outputs": [],
   "source": [
    "df.to_pickle(pkl_dir+pkl_file_slow)"
   ]
  },
  {
   "cell_type": "code",
   "execution_count": 667,
   "metadata": {},
   "outputs": [
    {
     "data": {
      "text/plain": [
       "9.467088"
      ]
     },
     "execution_count": 667,
     "metadata": {},
     "output_type": "execute_result"
    }
   ],
   "source": [
    "getsizeof(df) / 1000/1000"
   ]
  },
  {
   "cell_type": "code",
   "execution_count": 668,
   "metadata": {
    "scrolled": true
   },
   "outputs": [
    {
     "name": "stdout",
     "output_type": "stream",
     "text": [
      "<class 'pandas.core.frame.DataFrame'>\n",
      "DatetimeIndex: 13500 entries, 2020-09-12 19:01:57 to 2020-09-14 05:03:07\n",
      "Data columns (total 78 columns):\n",
      " #   Column                           Non-Null Count  Dtype  \n",
      "---  ------                           --------------  -----  \n",
      " 0   Time                             13500 non-null  object \n",
      " 1   Magnet Current [V]               13500 non-null  float64\n",
      " 2   Magnet Voltage [V]               13500 non-null  float64\n",
      " 3   NMR [T]                          13500 non-null  float64\n",
      " 4   NMR [FFT]                        13500 non-null  float64\n",
      " 5   DF0000000D5E803A_Raw_X           13500 non-null  float64\n",
      " 6   DF0000000D5E803A_Raw_Y           13500 non-null  float64\n",
      " 7   DF0000000D5E803A_Raw_Z           13500 non-null  float64\n",
      " 8   C90000000D53983A_Raw_X           13500 non-null  float64\n",
      " 9   C90000000D53983A_Raw_Y           13500 non-null  float64\n",
      " 10  C90000000D53983A_Raw_Z           13500 non-null  float64\n",
      " 11  C50000000D5E473A_Raw_X           13500 non-null  float64\n",
      " 12  C50000000D5E473A_Raw_Y           13500 non-null  float64\n",
      " 13  C50000000D5E473A_Raw_Z           13500 non-null  float64\n",
      " 14  6A0000000D61333A_Raw_X           13500 non-null  float64\n",
      " 15  6A0000000D61333A_Raw_Y           13500 non-null  float64\n",
      " 16  6A0000000D61333A_Raw_Z           13500 non-null  float64\n",
      " 17  DF0000000D5E803A_Raw_T           13500 non-null  float64\n",
      " 18  C90000000D53983A_Raw_T           13500 non-null  float64\n",
      " 19  C50000000D5E473A_Raw_T           13500 non-null  float64\n",
      " 20  6A0000000D61333A_Raw_T           13500 non-null  float64\n",
      " 21  DF0000000D5E803A_Cal_X           13500 non-null  float64\n",
      " 22  DF0000000D5E803A_Cal_Y           13500 non-null  float64\n",
      " 23  DF0000000D5E803A_Cal_Z           13500 non-null  float64\n",
      " 24  C90000000D53983A_Cal_X           13500 non-null  float64\n",
      " 25  C90000000D53983A_Cal_Y           13500 non-null  float64\n",
      " 26  C90000000D53983A_Cal_Z           13500 non-null  float64\n",
      " 27  C50000000D5E473A_Cal_X           13500 non-null  float64\n",
      " 28  C50000000D5E473A_Cal_Y           13500 non-null  float64\n",
      " 29  C50000000D5E473A_Cal_Z           13500 non-null  float64\n",
      " 30  6A0000000D61333A_Cal_X           13500 non-null  float64\n",
      " 31  6A0000000D61333A_Cal_Y           13500 non-null  float64\n",
      " 32  6A0000000D61333A_Cal_Z           13500 non-null  float64\n",
      " 33  DF0000000D5E803A_Cal_T           13500 non-null  float64\n",
      " 34  C90000000D53983A_Cal_T           13500 non-null  float64\n",
      " 35  C50000000D5E473A_Cal_T           13500 non-null  float64\n",
      " 36  6A0000000D61333A_Cal_T           13500 non-null  float64\n",
      " 37  SmarAct_Pattern_Angle_1          13500 non-null  float64\n",
      " 38  SmarAct_Pattern_Angle_2          13500 non-null  float64\n",
      " 39  SmarAct_Meas_Angle_1             13500 non-null  float64\n",
      " 40  SmarAct_Meas_Rotation_Angle_1    13500 non-null  float64\n",
      " 41  SmarAct_Meas_Angle_2             13500 non-null  float64\n",
      " 42  SmarAct_Meas_Rotation_Angle_2    13500 non-null  float64\n",
      " 43  6A0000000D61333A_Cal_Bmag        13500 non-null  float64\n",
      " 44  6A0000000D61333A_Raw_Bmag        13500 non-null  float64\n",
      " 45  C50000000D5E473A_Cal_Bmag        13500 non-null  float64\n",
      " 46  C50000000D5E473A_Raw_Bmag        13500 non-null  float64\n",
      " 47  C90000000D53983A_Cal_Bmag        13500 non-null  float64\n",
      " 48  C90000000D53983A_Raw_Bmag        13500 non-null  float64\n",
      " 49  DF0000000D5E803A_Cal_Bmag        13500 non-null  float64\n",
      " 50  DF0000000D5E803A_Raw_Bmag        13500 non-null  float64\n",
      " 51  seconds_delta                    13500 non-null  float64\n",
      " 52  hours_delta                      13500 non-null  float64\n",
      " 53  days_delta                       13500 non-null  float64\n",
      " 54  6A0000000D61333A_Cal_Transverse  13500 non-null  float64\n",
      " 55  6A0000000D61333A_Cal_Theta       13500 non-null  float64\n",
      " 56  6A0000000D61333A_Cal_Phi         13500 non-null  float64\n",
      " 57  C50000000D5E473A_Cal_Transverse  13500 non-null  float64\n",
      " 58  C50000000D5E473A_Cal_Theta       13500 non-null  float64\n",
      " 59  C50000000D5E473A_Cal_Phi         13500 non-null  float64\n",
      " 60  C90000000D53983A_Cal_Transverse  13500 non-null  float64\n",
      " 61  C90000000D53983A_Cal_Theta       13500 non-null  float64\n",
      " 62  C90000000D53983A_Cal_Phi         13500 non-null  float64\n",
      " 63  DF0000000D5E803A_Cal_Transverse  13500 non-null  float64\n",
      " 64  DF0000000D5E803A_Cal_Theta       13500 non-null  float64\n",
      " 65  DF0000000D5E803A_Cal_Phi         13500 non-null  float64\n",
      " 66  6A0000000D61333A_Raw_Transverse  13500 non-null  float64\n",
      " 67  6A0000000D61333A_Raw_Theta       13500 non-null  float64\n",
      " 68  6A0000000D61333A_Raw_Phi         13500 non-null  float64\n",
      " 69  C50000000D5E473A_Raw_Transverse  13500 non-null  float64\n",
      " 70  C50000000D5E473A_Raw_Theta       13500 non-null  float64\n",
      " 71  C50000000D5E473A_Raw_Phi         13500 non-null  float64\n",
      " 72  C90000000D53983A_Raw_Transverse  13500 non-null  float64\n",
      " 73  C90000000D53983A_Raw_Theta       13500 non-null  float64\n",
      " 74  C90000000D53983A_Raw_Phi         13500 non-null  float64\n",
      " 75  DF0000000D5E803A_Raw_Transverse  13500 non-null  float64\n",
      " 76  DF0000000D5E803A_Raw_Theta       13500 non-null  float64\n",
      " 77  DF0000000D5E803A_Raw_Phi         13500 non-null  float64\n",
      "dtypes: float64(77), object(1)\n",
      "memory usage: 8.1+ MB\n"
     ]
    }
   ],
   "source": [
    "df.info()"
   ]
  },
  {
   "cell_type": "markdown",
   "metadata": {},
   "source": [
    "## Plotting"
   ]
  },
  {
   "cell_type": "code",
   "execution_count": 669,
   "metadata": {},
   "outputs": [],
   "source": [
    "probe = probes[0]"
   ]
  },
  {
   "cell_type": "code",
   "execution_count": 670,
   "metadata": {},
   "outputs": [
    {
     "data": {
      "text/plain": [
       "'6A0000000D61333A'"
      ]
     },
     "execution_count": 670,
     "metadata": {},
     "output_type": "execute_result"
    }
   ],
   "source": [
    "probe"
   ]
  },
  {
   "cell_type": "code",
   "execution_count": 671,
   "metadata": {},
   "outputs": [],
   "source": [
    "fig = scatter2d(2*[df['Time']], [df[f'{probe}_Raw_Bmag'],df[f'{probe}_Raw_Bmag'].rolling(5).mean()], inline=False)"
   ]
  },
  {
   "cell_type": "code",
   "execution_count": 77,
   "metadata": {},
   "outputs": [
    {
     "data": {
      "text/plain": [
       "count    1779.000000\n",
       "mean        2.070496\n",
       "std       500.044934\n",
       "min     -5619.382234\n",
       "25%         5.891854\n",
       "50%        65.568949\n",
       "75%       118.934043\n",
       "max       294.064117\n",
       "Name: 6A0000000D61333A_Raw_Bmag, dtype: float64"
      ]
     },
     "execution_count": 77,
     "metadata": {},
     "output_type": "execute_result"
    }
   ],
   "source": [
    "(df[f'{probe}_Raw_Bmag']-df[f'{probe}_Raw_Bmag'].rolling(5).mean()).describe()"
   ]
  },
  {
   "cell_type": "code",
   "execution_count": 40,
   "metadata": {},
   "outputs": [
    {
     "data": {
      "text/plain": [
       "count    13496.000000\n",
       "mean        -0.003843\n",
       "std         44.640966\n",
       "min       -167.677763\n",
       "25%        -30.289854\n",
       "50%         -0.126212\n",
       "75%         30.322658\n",
       "max        179.092962\n",
       "Name: DF0000000D5E803A_Raw_Bmag, dtype: float64"
      ]
     },
     "execution_count": 40,
     "metadata": {},
     "output_type": "execute_result"
    }
   ],
   "source": [
    "(df[f'{probes[3]}_Raw_Bmag']-df[f'{probes[3]}_Raw_Bmag'].rolling(5).mean()).describe()"
   ]
  },
  {
   "cell_type": "code",
   "execution_count": 41,
   "metadata": {},
   "outputs": [
    {
     "data": {
      "text/plain": [
       "count    13500.000000\n",
       "mean     -7327.851111\n",
       "std         56.171717\n",
       "min      -8187.000000\n",
       "25%      -7362.000000\n",
       "50%      -7328.000000\n",
       "75%      -7293.000000\n",
       "max      -6266.000000\n",
       "Name: DF0000000D5E803A_Raw_X, dtype: float64"
      ]
     },
     "execution_count": 41,
     "metadata": {},
     "output_type": "execute_result"
    }
   ],
   "source": [
    "df['DF0000000D5E803A_Raw_X'].describe()"
   ]
  },
  {
   "cell_type": "code",
   "execution_count": 42,
   "metadata": {},
   "outputs": [
    {
     "data": {
      "text/plain": [
       "Datetime\n",
       "2020-09-12 19:01:57             NaN\n",
       "2020-09-12 19:02:06             NaN\n",
       "2020-09-12 19:02:15             NaN\n",
       "2020-09-12 19:02:23             NaN\n",
       "2020-09-12 19:02:32    3.329617e+06\n",
       "                           ...     \n",
       "2020-09-14 05:02:32    3.328944e+06\n",
       "2020-09-14 05:02:40    3.329126e+06\n",
       "2020-09-14 05:02:49    3.329298e+06\n",
       "2020-09-14 05:02:58    3.329493e+06\n",
       "2020-09-14 05:03:07    3.329682e+06\n",
       "Name: 6A0000000D61333A_Raw_Bmag, Length: 13500, dtype: float64"
      ]
     },
     "execution_count": 42,
     "metadata": {},
     "output_type": "execute_result"
    }
   ],
   "source": [
    "df[f'{probe}_Raw_Bmag'].rolling(5).mean()"
   ]
  },
  {
   "cell_type": "code",
   "execution_count": 43,
   "metadata": {},
   "outputs": [
    {
     "data": {
      "text/plain": [
       "count    1.350000e+04\n",
       "mean     3.337388e+06\n",
       "std      8.068126e+03\n",
       "min      3.324671e+06\n",
       "25%      3.329776e+06\n",
       "50%      3.337969e+06\n",
       "75%      3.344503e+06\n",
       "max      3.349708e+06\n",
       "Name: 6A0000000D61333A_Raw_Bmag, dtype: float64"
      ]
     },
     "execution_count": 43,
     "metadata": {},
     "output_type": "execute_result"
    }
   ],
   "source": [
    "df[f'{probe}_Raw_Bmag'].describe()"
   ]
  },
  {
   "cell_type": "code",
   "execution_count": 44,
   "metadata": {},
   "outputs": [],
   "source": [
    "fig = scatter2d(2*[df['Time']], [df['SmarAct_Meas_Angle_1'],df['SmarAct_Meas_Angle_2']], inline=False)"
   ]
  },
  {
   "cell_type": "code",
   "execution_count": 45,
   "metadata": {},
   "outputs": [
    {
     "data": {
      "text/plain": [
       "13500"
      ]
     },
     "execution_count": 45,
     "metadata": {},
     "output_type": "execute_result"
    }
   ],
   "source": [
    "len(df)"
   ]
  },
  {
   "cell_type": "code",
   "execution_count": 685,
   "metadata": {},
   "outputs": [],
   "source": [
    "# pick out part where angle 1 is actually changing (-10, +5)\n",
    "df = df[(df.index > '2020-09-13 07:15:30') & (df.index < '2020-09-13 14:58:00')]\n",
    "df_slow = df_slow[(df_slow.index > '2020-09-13 07:15:30') & (df_slow.index < '2020-09-13 14:58:00')]"
   ]
  },
  {
   "cell_type": "code",
   "execution_count": 673,
   "metadata": {},
   "outputs": [
    {
     "data": {
      "text/plain": [
       "3060"
      ]
     },
     "execution_count": 673,
     "metadata": {},
     "output_type": "execute_result"
    }
   ],
   "source": [
    "len(df)"
   ]
  },
  {
   "cell_type": "code",
   "execution_count": 52,
   "metadata": {},
   "outputs": [],
   "source": [
    "df['a1'] = df['SmarAct_Meas_Angle_1'] - (df['SmarAct_Meas_Angle_1'] > 180) * 360\n",
    "df['a2'] = df['SmarAct_Meas_Angle_2'] - (df['SmarAct_Meas_Angle_2'] > 180) * 360"
   ]
  },
  {
   "cell_type": "code",
   "execution_count": 59,
   "metadata": {},
   "outputs": [
    {
     "data": {
      "image/png": "[encoded data removed]",
      "text/plain": [
       "<Figure size 864x576 with 1 Axes>"
      ]
     },
     "metadata": {
      "needs_background": "light"
     },
     "output_type": "display_data"
    }
   ],
   "source": [
    "n,bins,patches = plt.hist(df['a1'], bins=50);"
   ]
  },
  {
   "cell_type": "code",
   "execution_count": 60,
   "metadata": {},
   "outputs": [
    {
     "data": {
      "text/plain": [
       "array([180.,   0.,   0., 180.,   0.,   0., 180.,   0.,   0., 180.,   0.,\n",
       "         0., 180.,   0.,   0., 180.,   0.,   0., 180.,   0.,   0.,   0.,\n",
       "       180.,   0.,   0., 180.,   0.,   0., 180.,   0.,   0., 180.,   0.,\n",
       "         0., 180.,   0.,   0., 180.,   0.,   0.,   0., 180.,   0.,   0.,\n",
       "       180.,   0.,   0., 180.,   0., 180.])"
      ]
     },
     "execution_count": 60,
     "metadata": {},
     "output_type": "execute_result"
    }
   ],
   "source": [
    "n"
   ]
  },
  {
   "cell_type": "code",
   "execution_count": 61,
   "metadata": {},
   "outputs": [
    {
     "data": {
      "image/png": "[encoded data removed]",
      "text/plain": [
       "<Figure size 864x576 with 1 Axes>"
      ]
     },
     "metadata": {
      "needs_background": "light"
     },
     "output_type": "display_data"
    }
   ],
   "source": [
    "n, bins, patches = plt.hist(df['a2'], bins=np.linspace(-100, 100, 401));"
   ]
  },
  {
   "cell_type": "code",
   "execution_count": 62,
   "metadata": {},
   "outputs": [
    {
     "data": {
      "text/plain": [
       "array([ 0.,  0.,  0.,  0.,  0.,  0.,  0.,  0.,  0.,  0.,  0.,  0.,  0.,\n",
       "        0.,  0.,  0.,  0.,  0.,  0., 15.,  2.,  0., 17.,  0., 17.,  0.,\n",
       "       17.,  0., 17.,  0., 17.,  0., 17.,  0., 17.,  0., 17.,  0., 17.,\n",
       "        0., 17.,  0., 17.,  0., 17.,  0., 17.,  0., 17.,  0., 17.,  0.,\n",
       "       17.,  0., 17.,  0., 17.,  0., 17.,  0., 17.,  0., 17.,  0., 17.,\n",
       "        0., 17.,  0., 17.,  0., 17.,  0., 17.,  0., 17.,  0., 17.,  0.,\n",
       "       17.,  0., 17.,  0., 17.,  0., 17.,  0., 17.,  0., 17.,  0., 17.,\n",
       "        0., 17.,  0., 17.,  0., 17.,  0., 17.,  0., 17.,  0., 17.,  0.,\n",
       "       17.,  0., 17.,  0., 17.,  0., 17.,  0., 17.,  0., 17.,  0., 17.,\n",
       "        0., 17.,  0., 17.,  0., 17.,  0., 17.,  0., 17.,  0., 17.,  0.,\n",
       "       17.,  0., 17.,  0., 17.,  0., 17.,  0., 17.,  0., 17.,  0., 17.,\n",
       "        0., 17.,  0., 17.,  0., 17.,  0., 17.,  0., 17.,  0., 17.,  0.,\n",
       "       17.,  0., 17.,  0., 17.,  0., 17.,  0., 17.,  0., 17.,  0., 17.,\n",
       "        0., 17.,  0., 17.,  0., 17.,  0., 17.,  0., 17.,  0., 17.,  0.,\n",
       "       17.,  0., 17.,  0., 17.,  0., 17.,  0., 17.,  0., 17.,  0., 17.,\n",
       "        0., 17.,  0., 17.,  0.,  0., 17.,  0., 17.,  0., 17.,  0., 17.,\n",
       "        0., 17.,  0., 17.,  0., 17.,  0., 17.,  0., 17.,  0., 17.,  0.,\n",
       "       17.,  0., 17.,  0., 17.,  0., 17.,  0., 17.,  0., 17.,  0., 17.,\n",
       "        0., 17.,  0., 17.,  0., 17.,  0., 17.,  0., 17.,  0., 17.,  0.,\n",
       "       17.,  0., 17.,  0., 17.,  0., 17.,  0., 17.,  0., 17.,  0., 17.,\n",
       "        0., 17.,  0., 17.,  0., 17.,  0., 17.,  0., 17.,  0., 17.,  0.,\n",
       "       17.,  0., 17.,  0., 17.,  0., 17.,  0., 17.,  0., 17.,  0., 17.,\n",
       "        0., 17.,  0., 17.,  0., 17.,  0., 17.,  0., 17.,  0., 17.,  0.,\n",
       "       17.,  0., 17.,  0., 17.,  0., 17.,  0., 17.,  0., 17.,  0., 17.,\n",
       "        0., 17.,  0., 17.,  0., 17.,  0., 17.,  0., 17.,  0., 17.,  0.,\n",
       "       17.,  0., 17.,  0., 17.,  0., 17.,  0., 17.,  0., 17.,  0., 17.,\n",
       "        0., 17.,  0., 17.,  0., 17.,  0., 17.,  0., 17.,  0., 17.,  0.,\n",
       "       17.,  0., 17.,  0., 17.,  0., 17.,  0., 17.,  0., 17.,  0., 17.,\n",
       "        0., 17.,  0., 17.,  0., 17.,  0., 17.,  0., 17.,  0., 17.,  0.,\n",
       "       17.,  0.,  0., 17.,  0.,  0.,  0.,  0.,  0.,  0.,  0.,  0.,  0.,\n",
       "        0.,  0.,  0.,  0.,  0.,  0.,  0.,  0.,  0.,  0.])"
      ]
     },
     "execution_count": 62,
     "metadata": {},
     "output_type": "execute_result"
    }
   ],
   "source": [
    "n"
   ]
  },
  {
   "cell_type": "code",
   "execution_count": 63,
   "metadata": {},
   "outputs": [
    {
     "data": {
      "text/plain": [
       "3060"
      ]
     },
     "execution_count": 63,
     "metadata": {},
     "output_type": "execute_result"
    }
   ],
   "source": [
    "# usable grid, 1 degree per step\n",
    "17 * 180"
   ]
  },
  {
   "cell_type": "code",
   "execution_count": 64,
   "metadata": {},
   "outputs": [
    {
     "data": {
      "text/plain": [
       "3060"
      ]
     },
     "execution_count": 64,
     "metadata": {},
     "output_type": "execute_result"
    }
   ],
   "source": [
    "len(df)"
   ]
  },
  {
   "cell_type": "code",
   "execution_count": 65,
   "metadata": {},
   "outputs": [
    {
     "data": {
      "text/plain": [
       "Timedelta('0 days 07:42:24')"
      ]
     },
     "execution_count": 65,
     "metadata": {},
     "output_type": "execute_result"
    }
   ],
   "source": [
    "# time for collection\n",
    "df.index[-1] - df.index[0]"
   ]
  },
  {
   "cell_type": "code",
   "execution_count": 66,
   "metadata": {},
   "outputs": [
    {
     "data": {
      "text/plain": [
       "Timedelta('0 days 15:24:48')"
      ]
     },
     "execution_count": 66,
     "metadata": {},
     "output_type": "execute_result"
    }
   ],
   "source": [
    "(df.index[-1] - df.index[0])*2"
   ]
  },
  {
   "cell_type": "markdown",
   "metadata": {},
   "source": [
    "So for full 360 in Angle 2, should be ~15.5 hours."
   ]
  },
  {
   "cell_type": "markdown",
   "metadata": {},
   "source": [
    "- Suppose we cut down to 2 deg for angle 2 --> 7:42:24 per angular measurement.\n",
    "- In a normal working day, could start a run at 8:00 am, completes at 3:45 pm, change Temp. or |B|, wait to settle (check time but hopefully an hour or two is long enough)\n",
    "- After settle time (could do delayed start), start next run -- say 8:00 pm\n",
    "- Should complete at 3:45 am.\n",
    "- With another delay (so I don't have to wake up at 4 am), change the Temp. again, so it settles by 8:00 am and can start the next day's measurement).\n",
    "- Bergsma \"first 200 card\" procedure: 3 |B| (.37, .885, 1.4 T) and 2 Temp. (20, 24 deg C)\n",
    "- So if we follow this, we could do each |B| in a day (2 Temps., 2 runs in the day), and completely calibrate/check calibration on 1 Hall probe every 3 days. Suppose we are able to stop in once on the weekend (|B| cannot be controlled remotely), we could calibrate 2 cards / week\n",
    "- 20 cards / 2 cards/week = 10 weeks for calibration.\n",
    "- **To Do**: Determine direction of magnetic field (first \"polarity\" based on current). Primary operation should be with polarity that matches how probes will be in the DS (pointing \"into\" the probes)\n",
    "- Determine what x, y, z (probe coordinates) are in Mu2e coordinates (e.g. fairly confident x (probe) = +- z (Mu2e)--need sign)"
   ]
  },
  {
   "cell_type": "markdown",
   "metadata": {},
   "source": [
    "### Gen Plots"
   ]
  },
  {
   "cell_type": "code",
   "execution_count": 674,
   "metadata": {},
   "outputs": [
    {
     "data": {
      "text/plain": [
       "Index(['Time', 'Magnet Current [V]', 'Magnet Voltage [V]', 'NMR [T]',\n",
       "       'NMR [FFT]', 'DF0000000D5E803A_Raw_X', 'DF0000000D5E803A_Raw_Y',\n",
       "       'DF0000000D5E803A_Raw_Z', 'C90000000D53983A_Raw_X',\n",
       "       'C90000000D53983A_Raw_Y', 'C90000000D53983A_Raw_Z',\n",
       "       'C50000000D5E473A_Raw_X', 'C50000000D5E473A_Raw_Y',\n",
       "       'C50000000D5E473A_Raw_Z', '6A0000000D61333A_Raw_X',\n",
       "       '6A0000000D61333A_Raw_Y', '6A0000000D61333A_Raw_Z',\n",
       "       'DF0000000D5E803A_Raw_T', 'C90000000D53983A_Raw_T',\n",
       "       'C50000000D5E473A_Raw_T', '6A0000000D61333A_Raw_T',\n",
       "       'DF0000000D5E803A_Cal_X', 'DF0000000D5E803A_Cal_Y',\n",
       "       'DF0000000D5E803A_Cal_Z', 'C90000000D53983A_Cal_X',\n",
       "       'C90000000D53983A_Cal_Y', 'C90000000D53983A_Cal_Z',\n",
       "       'C50000000D5E473A_Cal_X', 'C50000000D5E473A_Cal_Y',\n",
       "       'C50000000D5E473A_Cal_Z', '6A0000000D61333A_Cal_X',\n",
       "       '6A0000000D61333A_Cal_Y', '6A0000000D61333A_Cal_Z',\n",
       "       'DF0000000D5E803A_Cal_T', 'C90000000D53983A_Cal_T',\n",
       "       'C50000000D5E473A_Cal_T', '6A0000000D61333A_Cal_T',\n",
       "       'SmarAct_Pattern_Angle_1', 'SmarAct_Pattern_Angle_2',\n",
       "       'SmarAct_Meas_Angle_1', 'SmarAct_Meas_Rotation_Angle_1',\n",
       "       'SmarAct_Meas_Angle_2', 'SmarAct_Meas_Rotation_Angle_2',\n",
       "       '6A0000000D61333A_Cal_Bmag', '6A0000000D61333A_Raw_Bmag',\n",
       "       'C50000000D5E473A_Cal_Bmag', 'C50000000D5E473A_Raw_Bmag',\n",
       "       'C90000000D53983A_Cal_Bmag', 'C90000000D53983A_Raw_Bmag',\n",
       "       'DF0000000D5E803A_Cal_Bmag', 'DF0000000D5E803A_Raw_Bmag',\n",
       "       'seconds_delta', 'hours_delta', 'days_delta',\n",
       "       '6A0000000D61333A_Cal_Transverse', '6A0000000D61333A_Cal_Theta',\n",
       "       '6A0000000D61333A_Cal_Phi', 'C50000000D5E473A_Cal_Transverse',\n",
       "       'C50000000D5E473A_Cal_Theta', 'C50000000D5E473A_Cal_Phi',\n",
       "       'C90000000D53983A_Cal_Transverse', 'C90000000D53983A_Cal_Theta',\n",
       "       'C90000000D53983A_Cal_Phi', 'DF0000000D5E803A_Cal_Transverse',\n",
       "       'DF0000000D5E803A_Cal_Theta', 'DF0000000D5E803A_Cal_Phi',\n",
       "       '6A0000000D61333A_Raw_Transverse', '6A0000000D61333A_Raw_Theta',\n",
       "       '6A0000000D61333A_Raw_Phi', 'C50000000D5E473A_Raw_Transverse',\n",
       "       'C50000000D5E473A_Raw_Theta', 'C50000000D5E473A_Raw_Phi',\n",
       "       'C90000000D53983A_Raw_Transverse', 'C90000000D53983A_Raw_Theta',\n",
       "       'C90000000D53983A_Raw_Phi', 'DF0000000D5E803A_Raw_Transverse',\n",
       "       'DF0000000D5E803A_Raw_Theta', 'DF0000000D5E803A_Raw_Phi'],\n",
       "      dtype='object')"
      ]
     },
     "execution_count": 674,
     "metadata": {},
     "output_type": "execute_result"
    }
   ],
   "source": [
    "df.columns"
   ]
  },
  {
   "cell_type": "code",
   "execution_count": 675,
   "metadata": {},
   "outputs": [
    {
     "data": {
      "text/plain": [
       "Index(['Time', 'Magnet Current [A]', 'Magnet Voltage [V]', 'Coil 1 (new)',\n",
       "       'Coil 2 (old)', 'LCW in Coil1', 'LCW out Coil 1', 'LCW in Coil 2',\n",
       "       'LCW out Coil 2', 'Yoke', 'Hall Element', 'Floor', 'Roof',\n",
       "       'Yoke (center magnet)', 'Parameter HVAC sensor', 'Chamber Wall CH13',\n",
       "       'Chamber Wall CH14', 'Chamber Wall CH15', 'Chamber Wall CH16',\n",
       "       'Chamber Wall CH17', 'Chamber Wall CH18', 'Chamber Wall CH19',\n",
       "       'Chamber Wall CH20', 'Desk Ambient', 'Outlet Strip Ambient',\n",
       "       'Top fo Orange PS Ambient', 'Spare Ambient on desk',\n",
       "       'TrippLite Ambient 3ft high', 'TrippLite Ambient Floor', 'PS internal',\n",
       "       'PS Vent1', 'PS Vent2', 'TrippLite HVAC supply',\n",
       "       'Tripplite HVAC exhaust', 'LCW to PS', 'LCW in barrel', 'ICW in',\n",
       "       'ICW HE1 out', 'ICW He2 out', 'LCW return magnet', 'LCW to barrel',\n",
       "       'LCW from PS', 'LCW to magnet', 'NMR [T]', 'NMR [FFT]',\n",
       "       'DF0000000D5E803A_Raw_X', 'DF0000000D5E803A_Raw_Y',\n",
       "       'DF0000000D5E803A_Raw_Z', 'C90000000D53983A_Raw_X',\n",
       "       'C90000000D53983A_Raw_Y', 'C90000000D53983A_Raw_Z',\n",
       "       'C50000000D5E473A_Raw_X', 'C50000000D5E473A_Raw_Y',\n",
       "       'C50000000D5E473A_Raw_Z', '6A0000000D61333A_Raw_X',\n",
       "       '6A0000000D61333A_Raw_Y', '6A0000000D61333A_Raw_Z',\n",
       "       'DF0000000D5E803A_Raw_T', 'C90000000D53983A_Raw_T',\n",
       "       'C50000000D5E473A_Raw_T', '6A0000000D61333A_Raw_T',\n",
       "       'DF0000000D5E803A_Cal_X', 'DF0000000D5E803A_Cal_Y',\n",
       "       'DF0000000D5E803A_Cal_Z', 'C90000000D53983A_Cal_X',\n",
       "       'C90000000D53983A_Cal_Y', 'C90000000D53983A_Cal_Z',\n",
       "       'C50000000D5E473A_Cal_X', 'C50000000D5E473A_Cal_Y',\n",
       "       'C50000000D5E473A_Cal_Z', '6A0000000D61333A_Cal_X',\n",
       "       '6A0000000D61333A_Cal_Y', '6A0000000D61333A_Cal_Z',\n",
       "       'DF0000000D5E803A_Cal_T', 'C90000000D53983A_Cal_T',\n",
       "       'C50000000D5E473A_Cal_T', '6A0000000D61333A_Cal_T',\n",
       "       'SmarAct_Meas_Angle_1', 'SmarAct_Meas_Rotation_Angle_1',\n",
       "       'SmarAct_Meas_Angle_2', 'SmarAct_Meas_Rotation_Angle_2'],\n",
       "      dtype='object')"
      ]
     },
     "execution_count": 675,
     "metadata": {},
     "output_type": "execute_result"
    }
   ],
   "source": [
    "df_slow.columns"
   ]
  },
  {
   "cell_type": "code",
   "execution_count": 676,
   "metadata": {},
   "outputs": [],
   "source": [
    "fig = scatter2d(df['Time'], df[f'{probe}_Cal_Bmag'], inline=False)"
   ]
  },
  {
   "cell_type": "code",
   "execution_count": 694,
   "metadata": {},
   "outputs": [],
   "source": [
    "#A = -1.17e-4; B = -4.56e-6; C = 5.41e-5; D = 4.88e-3 # run 4\n",
    "#A = -1.74e-4; B = 3.31e-5; C = 1.80e-5; D = 4.89e-3 # run 4\n",
    "A = -0.0029268763848858408; B = 0.013243568267699473; C = 0.0003895715589591735; D = 0.004545002811220435;  E = 0 # 2020-06-18 dataset\n",
    "#A = -2.8179770776172955e-05; B = 2.2378990800837796e-05; C = -1.85176005428013e-06; D = 0.0054590623375972225; E = 0 # 2020-06-26 dataset\n",
    "df_slow['B_calc'] = A * df_slow['Yoke (center magnet)'] + B * df_slow['Floor'] + C * df_slow['LCW in Coil 2'] + D * df_slow['Magnet Current [A]'] + E"
   ]
  },
  {
   "cell_type": "code",
   "execution_count": null,
   "metadata": {},
   "outputs": [],
   "source": []
  },
  {
   "cell_type": "code",
   "execution_count": 690,
   "metadata": {},
   "outputs": [],
   "source": [
    "#A = 0.0051634366068391635; B = 1.4917265577893455;\n",
    "A = 0.005451740619843297; B = 0.028162518418453145;\n",
    "df_slow['B_calc'] = A * df_slow['Magnet Current [A]'] + B * 1/df_slow['Magnet Voltage [V]']"
   ]
  },
  {
   "cell_type": "code",
   "execution_count": null,
   "metadata": {},
   "outputs": [],
   "source": []
  },
  {
   "cell_type": "code",
   "execution_count": null,
   "metadata": {},
   "outputs": [],
   "source": []
  },
  {
   "cell_type": "code",
   "execution_count": 695,
   "metadata": {},
   "outputs": [],
   "source": [
    "df_slow['B_calc2'] = df_slow['B_calc'] + (df[f'{probe}_Cal_Bmag'].mean() - df_slow['B_calc'].mean())"
   ]
  },
  {
   "cell_type": "code",
   "execution_count": 696,
   "metadata": {},
   "outputs": [],
   "source": [
    "fig = scatter2d([df.index, df_slow.index], [df[f'{probe}_Cal_Bmag'], df_slow['B_calc']], inline=False)"
   ]
  },
  {
   "cell_type": "code",
   "execution_count": 697,
   "metadata": {},
   "outputs": [],
   "source": [
    "fig = scatter2d([df.index, df_slow.index], [df[f'{probe}_Cal_Bmag'], df_slow['B_calc2']], inline=False)"
   ]
  },
  {
   "cell_type": "code",
   "execution_count": null,
   "metadata": {},
   "outputs": [],
   "source": []
  },
  {
   "cell_type": "code",
   "execution_count": 632,
   "metadata": {},
   "outputs": [],
   "source": [
    "fig = scatter2d([df.index, df.index, df_slow.index], [df[f'{probe}_Cal_Bmag'],df[f'{probe}_Cal_Bmag'].rolling(25).mean(), df_slow['B_calc2']], inline=False)"
   ]
  },
  {
   "cell_type": "code",
   "execution_count": null,
   "metadata": {},
   "outputs": [],
   "source": []
  },
  {
   "cell_type": "code",
   "execution_count": 621,
   "metadata": {},
   "outputs": [
    {
     "data": {
      "text/plain": [
       "<matplotlib.collections.PathCollection at 0x7fa828e07130>"
      ]
     },
     "execution_count": 621,
     "metadata": {},
     "output_type": "execute_result"
    },
    {
     "data": {
      "image/png": "[encoded data removed]",
      "text/plain": [
       "<Figure size 864x576 with 1 Axes>"
      ]
     },
     "metadata": {
      "needs_background": "light"
     },
     "output_type": "display_data"
    }
   ],
   "source": [
    "#plt.scatter(df_slow['Yoke (center magnet)'],df_slow['Magnet Voltage [V]'] / df_slow['Magnet Current [A]'])\n",
    "plt.scatter(df_slow['LCW in Coil 2'],df_slow['Magnet Voltage [V]'] / df_slow['Magnet Current [A]'])"
   ]
  },
  {
   "cell_type": "code",
   "execution_count": 618,
   "metadata": {},
   "outputs": [
    {
     "data": {
      "text/plain": [
       "(array([240.06176   , 240.06176   , 240.06176   , ..., 240.06329   ,\n",
       "        240.06323333, 240.06329   ]),\n",
       " array([240.06176   , 240.06176   , 240.06181667, 240.06176   ,\n",
       "        240.06176   , 240.06176   , 240.06176   , 240.06176   ,\n",
       "        240.06181667, 240.06176   , 240.06176   , 240.06176   ,\n",
       "        240.06170333, 240.06176   , 240.06181667, 240.06176   ,\n",
       "        240.06176   , 240.06176   , 240.06176   , 240.06176   ,\n",
       "        240.06193   , 240.06187333, 240.06193   , 240.06187333,\n",
       "        240.06198667, 240.0621    , 240.06193   , 240.06198667,\n",
       "        240.0621    , 240.0621    , 240.06215667, 240.0621    ,\n",
       "        240.06221333, 240.0621    , 240.06204333, 240.06204333,\n",
       "        240.0621    , 240.06221333, 240.06221333, 240.06215667,\n",
       "        240.06227   , 240.0621    , 240.06238333, 240.06238333,\n",
       "        240.06238333, 240.06221333, 240.06232667, 240.06221333,\n",
       "        240.0621    , 240.06221333, 240.0621    , 240.06227   ,\n",
       "        240.06215667, 240.06221333, 240.0621    , 240.06238333,\n",
       "        240.06244   , 240.06221333, 240.06244   , 240.06244   ,\n",
       "        240.06244   , 240.06255333, 240.06244   , 240.06255333,\n",
       "        240.06278   , 240.06278   , 240.06295   , 240.06306333,\n",
       "        240.06312   , 240.06312   , 240.06306333, 240.06300667,\n",
       "        240.06283667, 240.06295   , 240.06278   , 240.06278   ,\n",
       "        240.06266667, 240.06244   , 240.06244   , 240.06266667,\n",
       "        240.06272333, 240.06278   , 240.06278   , 240.06289333,\n",
       "        240.06278   , 240.06295   , 240.06312   , 240.06300667,\n",
       "        240.06317667, 240.06329   , 240.06329   , 240.06329   ,\n",
       "        240.06346   , 240.06323333, 240.06317667, 240.06312   ,\n",
       "        240.06323333, 240.06312   , 240.06317667, 240.06334667,\n",
       "        240.06312   , 240.06312   , 240.06312   , 240.06312   ,\n",
       "        240.06289333, 240.06312   , 240.06306333, 240.06312   ,\n",
       "        240.06312   , 240.06312   , 240.06317667, 240.06323333,\n",
       "        240.06329   , 240.06317667, 240.06323333, 240.06317667,\n",
       "        240.06312   , 240.06317667, 240.06346   , 240.06340333,\n",
       "        240.06346   , 240.06340333, 240.06323333]))"
      ]
     },
     "execution_count": 618,
     "metadata": {},
     "output_type": "execute_result"
    }
   ],
   "source": [
    "df['Magnet Current [V]'].values, df_slow['Magnet Current [A]'].values"
   ]
  },
  {
   "cell_type": "code",
   "execution_count": null,
   "metadata": {},
   "outputs": [],
   "source": []
  },
  {
   "cell_type": "code",
   "execution_count": null,
   "metadata": {},
   "outputs": [],
   "source": []
  },
  {
   "cell_type": "code",
   "execution_count": 77,
   "metadata": {},
   "outputs": [],
   "source": [
    "fig = scatter2d(4*[df['Time']], [df[f'{probes[i]}_Cal_Bmag'] for i in range(4)], inline=False)"
   ]
  },
  {
   "cell_type": "code",
   "execution_count": 62,
   "metadata": {},
   "outputs": [],
   "source": [
    "fig = scatter2d(df['Time'], df['Magnet Current [V]'], inline=False)"
   ]
  },
  {
   "cell_type": "code",
   "execution_count": 79,
   "metadata": {},
   "outputs": [],
   "source": [
    "fig = scatter2d(2*[df['Time']], [df[f'{probe}_Cal_Theta'],df[f'{probe}_Cal_Phi']], inline=False)"
   ]
  },
  {
   "cell_type": "code",
   "execution_count": null,
   "metadata": {},
   "outputs": [],
   "source": [
    "fig = scatter2d(2*[df['Time']], [df[f'{probe}_Cal_Theta'],df[f'{probe}_Cal_Phi']], inline=False)"
   ]
  },
  {
   "cell_type": "code",
   "execution_count": 80,
   "metadata": {},
   "outputs": [],
   "source": [
    "fig = scatter2d(2*[df['Time']], [df['SmarAct_Meas_Angle_1'],df['SmarAct_Meas_Angle_2']], inline=False)"
   ]
  },
  {
   "cell_type": "code",
   "execution_count": 69,
   "metadata": {},
   "outputs": [],
   "source": [
    "fig = scatter2d(3*[df['Time']], [df[f'{probe}_Cal_{i}'] for i in ['X','Y','Z']], inline=False)"
   ]
  },
  {
   "cell_type": "code",
   "execution_count": 70,
   "metadata": {},
   "outputs": [],
   "source": [
    "fig = scatter2d(3*[df['Time']], [df[f'{probe}_Raw_{i}'] for i in ['X','Y','Z']], inline=False)"
   ]
  },
  {
   "cell_type": "code",
   "execution_count": 71,
   "metadata": {},
   "outputs": [],
   "source": [
    "fig = scatter2d(2*[df['Time']], [df[f'{probe}_Cal_Bmag'], df[f'{probe}_Cal_T']], inline=False)"
   ]
  },
  {
   "cell_type": "code",
   "execution_count": 76,
   "metadata": {},
   "outputs": [
    {
     "data": {
      "text/html": [
       "<div>\n",
       "<style scoped>\n",
       "    .dataframe tbody tr th:only-of-type {\n",
       "        vertical-align: middle;\n",
       "    }\n",
       "\n",
       "    .dataframe tbody tr th {\n",
       "        vertical-align: top;\n",
       "    }\n",
       "\n",
       "    .dataframe thead th {\n",
       "        text-align: right;\n",
       "    }\n",
       "</style>\n",
       "<table border=\"1\" class=\"dataframe\">\n",
       "  <thead>\n",
       "    <tr style=\"text-align: right;\">\n",
       "      <th></th>\n",
       "      <th>6A0000000D61333A_Cal_Bmag</th>\n",
       "      <th>6A0000000D61333A_Cal_T</th>\n",
       "    </tr>\n",
       "  </thead>\n",
       "  <tbody>\n",
       "    <tr>\n",
       "      <th>6A0000000D61333A_Cal_Bmag</th>\n",
       "      <td>1.000000</td>\n",
       "      <td>0.357302</td>\n",
       "    </tr>\n",
       "    <tr>\n",
       "      <th>6A0000000D61333A_Cal_T</th>\n",
       "      <td>0.357302</td>\n",
       "      <td>1.000000</td>\n",
       "    </tr>\n",
       "  </tbody>\n",
       "</table>\n",
       "</div>"
      ],
      "text/plain": [
       "                           6A0000000D61333A_Cal_Bmag  6A0000000D61333A_Cal_T\n",
       "6A0000000D61333A_Cal_Bmag                   1.000000                0.357302\n",
       "6A0000000D61333A_Cal_T                      0.357302                1.000000"
      ]
     },
     "execution_count": 76,
     "metadata": {},
     "output_type": "execute_result"
    }
   ],
   "source": [
    "df[[f'{probe}_Cal_Bmag',f'{probe}_Cal_T']].corr()"
   ]
  },
  {
   "cell_type": "code",
   "execution_count": 72,
   "metadata": {},
   "outputs": [
    {
     "data": {
      "text/plain": [
       "<matplotlib.collections.PathCollection at 0x7fa828995730>"
      ]
     },
     "execution_count": 72,
     "metadata": {},
     "output_type": "execute_result"
    },
    {
     "data": {
      "image/png": "[encoded data removed]",
      "text/plain": [
       "<Figure size 864x576 with 1 Axes>"
      ]
     },
     "metadata": {
      "needs_background": "light"
     },
     "output_type": "display_data"
    }
   ],
   "source": [
    "plt.scatter(df[f'{probe}_Cal_Bmag'], df[f'{probe}_Cal_T'], s=1)"
   ]
  },
  {
   "cell_type": "code",
   "execution_count": 78,
   "metadata": {},
   "outputs": [
    {
     "data": {
      "text/plain": [
       "<matplotlib.collections.PathCollection at 0x7fa823f3e7c0>"
      ]
     },
     "execution_count": 78,
     "metadata": {},
     "output_type": "execute_result"
    },
    {
     "data": {
      "image/png": "[encoded data removed]",
      "text/plain": [
       "<Figure size 864x576 with 1 Axes>"
      ]
     },
     "metadata": {
      "needs_background": "light"
     },
     "output_type": "display_data"
    }
   ],
   "source": [
    "fig = plt.figure()\n",
    "plt.scatter(df[f'{probe}_Cal_Phi'], df['SmarAct_Meas_Angle_1'])"
   ]
  },
  {
   "cell_type": "code",
   "execution_count": 79,
   "metadata": {},
   "outputs": [],
   "source": [
    "df['SmarAct_Meas_Angle_2_pm'] = [i if i <= 180 else i-360 for i in df.SmarAct_Meas_Angle_2]"
   ]
  },
  {
   "cell_type": "code",
   "execution_count": 80,
   "metadata": {},
   "outputs": [
    {
     "data": {
      "text/plain": [
       "<matplotlib.collections.PathCollection at 0x7fa822bea2b0>"
      ]
     },
     "execution_count": 80,
     "metadata": {},
     "output_type": "execute_result"
    },
    {
     "data": {
      "image/png": "[encoded data removed]",
      "text/plain": [
       "<Figure size 864x576 with 1 Axes>"
      ]
     },
     "metadata": {
      "needs_background": "light"
     },
     "output_type": "display_data"
    }
   ],
   "source": [
    "fig = plt.figure()\n",
    "plt.scatter(df[f'{probe}_Cal_Theta'], df['SmarAct_Meas_Angle_2_pm'])"
   ]
  },
  {
   "cell_type": "code",
   "execution_count": 81,
   "metadata": {},
   "outputs": [
    {
     "data": {
      "text/plain": [
       "<matplotlib.collections.PathCollection at 0x7fa82326b130>"
      ]
     },
     "execution_count": 81,
     "metadata": {},
     "output_type": "execute_result"
    },
    {
     "data": {
      "image/png": "[encoded data removed]",
      "text/plain": [
       "<Figure size 864x576 with 1 Axes>"
      ]
     },
     "metadata": {
      "needs_background": "light"
     },
     "output_type": "display_data"
    }
   ],
   "source": [
    "a = 1.00\n",
    "b = 0.01\n",
    "fig = plt.figure()\n",
    "plt.scatter(df[f'{probe}_Cal_Phi'], a*df['SmarAct_Meas_Angle_1']+b*df['SmarAct_Meas_Angle_2_pm'])"
   ]
  },
  {
   "cell_type": "code",
   "execution_count": 82,
   "metadata": {},
   "outputs": [
    {
     "data": {
      "text/plain": [
       "<matplotlib.collections.PathCollection at 0x7fa822beae80>"
      ]
     },
     "execution_count": 82,
     "metadata": {},
     "output_type": "execute_result"
    },
    {
     "data": {
      "image/png": "[encoded data removed]",
      "text/plain": [
       "<Figure size 864x576 with 1 Axes>"
      ]
     },
     "metadata": {
      "needs_background": "light"
     },
     "output_type": "display_data"
    }
   ],
   "source": [
    "a = -1\n",
    "b = .01\n",
    "fig = plt.figure()\n",
    "plt.scatter(df[f'{probe}_Cal_Theta'], a*df['SmarAct_Meas_Angle_1']+b*df['SmarAct_Meas_Angle_2_pm'])"
   ]
  },
  {
   "cell_type": "code",
   "execution_count": null,
   "metadata": {},
   "outputs": [],
   "source": []
  },
  {
   "cell_type": "markdown",
   "metadata": {},
   "source": [
    "## Fitting to find angular relationships (Regression)"
   ]
  },
  {
   "cell_type": "markdown",
   "metadata": {},
   "source": [
    "### Test 1: Fit individually"
   ]
  },
  {
   "cell_type": "code",
   "execution_count": 83,
   "metadata": {},
   "outputs": [],
   "source": [
    "df[f'{probe}_Cal_Theta_Deg'] = np.degrees(df[f'{probe}_Cal_Theta'])\n",
    "df[f'{probe}_Cal_Phi_Deg'] = np.degrees(df[f'{probe}_Cal_Phi'])"
   ]
  },
  {
   "cell_type": "code",
   "execution_count": 84,
   "metadata": {},
   "outputs": [],
   "source": [
    "def regress_2angle(angle1, angle2, **params):\n",
    "    return params['m1'] * angle1 + params['m2'] * angle2 + params['b']"
   ]
  },
  {
   "cell_type": "code",
   "execution_count": 85,
   "metadata": {},
   "outputs": [],
   "source": [
    "model = lm.Model(regress_2angle, independent_vars=['angle1','angle2'])\n",
    "params = lm.Parameters()\n",
    "params.add('m1', value=0, vary=True)\n",
    "params.add('m2', value=0, vary=True)\n",
    "params.add('b', value=0, vary=True)"
   ]
  },
  {
   "cell_type": "code",
   "execution_count": 86,
   "metadata": {},
   "outputs": [],
   "source": [
    "#samples = np.concatenate([df['SmarAct_Meas_Angle_1'].values,df['SmarAct_Meas_Angle_2'].values])\n",
    "result_theta = model.fit(df[f'{probe}_Cal_Theta_Deg'], angle1=df['SmarAct_Meas_Angle_1'],\n",
    "                         angle2=df['SmarAct_Meas_Angle_2'], params=params)\n",
    "result_phi = model.fit(df[f'{probe}_Cal_Phi_Deg'], angle1=df['SmarAct_Meas_Angle_1'],\n",
    "                         angle2=df['SmarAct_Meas_Angle_2'], params=params)"
   ]
  },
  {
   "cell_type": "code",
   "execution_count": 87,
   "metadata": {},
   "outputs": [
    {
     "data": {
      "text/html": [
       "<table><tr><th> name </th><th> value </th><th> standard error </th><th> relative error </th><th> initial value </th><th> min </th><th> max </th><th> vary </th></tr><tr><td> m1 </td><td>  0.00628010 </td><td>  3.4854e-04 </td><td> (5.55%) </td><td> 0 </td><td>        -inf </td><td>         inf </td><td> True </td></tr><tr><td> m2 </td><td> -5.5078e-04 </td><td>  4.3922e-04 </td><td> (79.74%) </td><td> 0 </td><td>        -inf </td><td>         inf </td><td> True </td></tr><tr><td> b </td><td>  88.4267444 </td><td>  0.12340270 </td><td> (0.14%) </td><td> 0 </td><td>        -inf </td><td>         inf </td><td> True </td></tr></table>"
      ],
      "text/plain": [
       "Parameters([('m1',\n",
       "             <Parameter 'm1', value=0.006280104387012694 +/- 0.000349, bounds=[-inf:inf]>),\n",
       "            ('m2',\n",
       "             <Parameter 'm2', value=-0.0005507849491310779 +/- 0.000439, bounds=[-inf:inf]>),\n",
       "            ('b',\n",
       "             <Parameter 'b', value=88.42674440464408 +/- 0.123, bounds=[-inf:inf]>)])"
      ]
     },
     "execution_count": 87,
     "metadata": {},
     "output_type": "execute_result"
    }
   ],
   "source": [
    "result_theta.params"
   ]
  },
  {
   "cell_type": "code",
   "execution_count": 88,
   "metadata": {},
   "outputs": [
    {
     "data": {
      "text/html": [
       "<table><tr><th> name </th><th> value </th><th> standard error </th><th> relative error </th><th> initial value </th><th> min </th><th> max </th><th> vary </th></tr><tr><td> m1 </td><td> -0.00271042 </td><td>  2.0497e-04 </td><td> (7.56%) </td><td> 0 </td><td>        -inf </td><td>         inf </td><td> True </td></tr><tr><td> m2 </td><td>  0.00582752 </td><td>  2.5830e-04 </td><td> (4.43%) </td><td> 0 </td><td>        -inf </td><td>         inf </td><td> True </td></tr><tr><td> b </td><td>  2.28772634 </td><td>  0.07257198 </td><td> (3.17%) </td><td> 0 </td><td>        -inf </td><td>         inf </td><td> True </td></tr></table>"
      ],
      "text/plain": [
       "Parameters([('m1',\n",
       "             <Parameter 'm1', value=-0.002710418460893536 +/- 0.000205, bounds=[-inf:inf]>),\n",
       "            ('m2',\n",
       "             <Parameter 'm2', value=0.0058275195220366125 +/- 0.000258, bounds=[-inf:inf]>),\n",
       "            ('b',\n",
       "             <Parameter 'b', value=2.2877263434126736 +/- 0.0726, bounds=[-inf:inf]>)])"
      ]
     },
     "execution_count": 88,
     "metadata": {},
     "output_type": "execute_result"
    }
   ],
   "source": [
    "result_phi.params"
   ]
  },
  {
   "cell_type": "code",
   "execution_count": 89,
   "metadata": {},
   "outputs": [
    {
     "name": "stdout",
     "output_type": "stream",
     "text": [
      "[[Model]]\n",
      "    Model(regress_2angle)\n",
      "[[Fit Statistics]]\n",
      "    # fitting method   = leastsq\n",
      "    # function evals   = 28\n",
      "    # data points      = 3060\n",
      "    # variables        = 3\n",
      "    chi-square         = 33997.9940\n",
      "    reduced chi-square = 11.1213589\n",
      "    Akaike info crit   = 7374.13302\n",
      "    Bayesian info crit = 7392.21153\n",
      "[[Variables]]\n",
      "    m1:  0.00628010 +/- 3.4854e-04 (5.55%) (init = 0)\n",
      "    m2: -5.5078e-04 +/- 4.3922e-04 (79.74%) (init = 0)\n",
      "    b:   88.4267444 +/- 0.12340270 (0.14%) (init = 0)\n",
      "[[Correlations]] (unreported correlations are < 0.100)\n",
      "    C(m2, b) = -0.641\n",
      "    C(m1, b) = -0.592\n"
     ]
    }
   ],
   "source": [
    "print(result_theta.fit_report())"
   ]
  },
  {
   "cell_type": "code",
   "execution_count": 90,
   "metadata": {},
   "outputs": [
    {
     "name": "stdout",
     "output_type": "stream",
     "text": [
      "[[Model]]\n",
      "    Model(regress_2angle)\n",
      "[[Fit Statistics]]\n",
      "    # fitting method   = leastsq\n",
      "    # function evals   = 12\n",
      "    # data points      = 3060\n",
      "    # variables        = 3\n",
      "    chi-square         = 11758.2279\n",
      "    reduced chi-square = 3.84632905\n",
      "    Akaike info crit   = 4125.18328\n",
      "    Bayesian info crit = 4143.26179\n",
      "[[Variables]]\n",
      "    m1: -0.00271042 +/- 2.0497e-04 (7.56%) (init = 0)\n",
      "    m2:  0.00582752 +/- 2.5830e-04 (4.43%) (init = 0)\n",
      "    b:   2.28772634 +/- 0.07257198 (3.17%) (init = 0)\n",
      "[[Correlations]] (unreported correlations are < 0.100)\n",
      "    C(m2, b) = -0.641\n",
      "    C(m1, b) = -0.592\n"
     ]
    }
   ],
   "source": [
    "print(result_phi.fit_report())"
   ]
  },
  {
   "cell_type": "code",
   "execution_count": 91,
   "metadata": {},
   "outputs": [
    {
     "data": {
      "text/plain": [
       "2.2877263434126736"
      ]
     },
     "execution_count": 91,
     "metadata": {},
     "output_type": "execute_result"
    }
   ],
   "source": [
    "regress_2angle(0, 0, **result_phi.params)"
   ]
  },
  {
   "cell_type": "code",
   "execution_count": 92,
   "metadata": {},
   "outputs": [],
   "source": [
    "a1s = np.linspace(0, 180, 181)\n",
    "a2s = np.linspace(0, 360, 361)"
   ]
  },
  {
   "cell_type": "code",
   "execution_count": 93,
   "metadata": {},
   "outputs": [],
   "source": [
    "A1, A2 = np.meshgrid(a1s, a2s)"
   ]
  },
  {
   "cell_type": "code",
   "execution_count": 94,
   "metadata": {},
   "outputs": [],
   "source": [
    "TH = regress_2angle(A1, A2, **result_theta.params)\n",
    "PH = regress_2angle(A1, A2, **result_phi.params)"
   ]
  },
  {
   "cell_type": "code",
   "execution_count": 95,
   "metadata": {},
   "outputs": [
    {
     "data": {
      "text/plain": [
       "(88.22846182295689, 89.55716319430637, 1.799851020451837, 4.385633371345854)"
      ]
     },
     "execution_count": 95,
     "metadata": {},
     "output_type": "execute_result"
    }
   ],
   "source": [
    "TH.min(), TH.max(), PH.min(), PH.max()"
   ]
  },
  {
   "cell_type": "code",
   "execution_count": 96,
   "metadata": {},
   "outputs": [
    {
     "data": {
      "text/plain": [
       "(1.3287013713494815, 2.585782350894017)"
      ]
     },
     "execution_count": 96,
     "metadata": {},
     "output_type": "execute_result"
    }
   ],
   "source": [
    "TH.max()-TH.min(), PH.max()-PH.min()"
   ]
  },
  {
   "cell_type": "markdown",
   "metadata": {},
   "source": [
    "-----------"
   ]
  },
  {
   "cell_type": "code",
   "execution_count": 524,
   "metadata": {
    "scrolled": false
   },
   "outputs": [
    {
     "data": {
      "text/plain": [
       "<matplotlib.collections.PathCollection at 0x7fa823163df0>"
      ]
     },
     "execution_count": 524,
     "metadata": {},
     "output_type": "execute_result"
    },
    {
     "data": {
      "image/png": "[encoded data removed]",
      "text/plain": [
       "<Figure size 864x576 with 1 Axes>"
      ]
     },
     "metadata": {
      "needs_background": "light"
     },
     "output_type": "display_data"
    }
   ],
   "source": [
    "plt.scatter(df[f'{probe}_Cal_Phi'],df['SmarAct_Meas_Angle_1_Rad'], s=1)"
   ]
  },
  {
   "cell_type": "code",
   "execution_count": 525,
   "metadata": {},
   "outputs": [
    {
     "data": {
      "text/plain": [
       "<matplotlib.collections.PathCollection at 0x7fa8291e94f0>"
      ]
     },
     "execution_count": 525,
     "metadata": {},
     "output_type": "execute_result"
    },
    {
     "data": {
      "image/png": "[encoded data removed]",
      "text/plain": [
       "<Figure size 864x576 with 1 Axes>"
      ]
     },
     "metadata": {
      "needs_background": "light"
     },
     "output_type": "display_data"
    }
   ],
   "source": [
    "plt.scatter(df[f'{probe}_Cal_Phi'],df['SmarAct_Meas_Angle_2_Rad'], s=1)"
   ]
  },
  {
   "cell_type": "code",
   "execution_count": 527,
   "metadata": {},
   "outputs": [
    {
     "data": {
      "text/plain": [
       "1.5707963267948966"
      ]
     },
     "execution_count": 527,
     "metadata": {},
     "output_type": "execute_result"
    }
   ],
   "source": [
    "np.arccos()"
   ]
  },
  {
   "cell_type": "markdown",
   "metadata": {},
   "source": [
    "### Test 2: Euler Angles"
   ]
  },
  {
   "cell_type": "code",
   "execution_count": 726,
   "metadata": {},
   "outputs": [],
   "source": [
    "from scipy.spatial.transform import Rotation"
   ]
  },
  {
   "cell_type": "code",
   "execution_count": 830,
   "metadata": {},
   "outputs": [],
   "source": [
    "df[f'{probe}_Cal_Theta_Deg'] = np.degrees(df[f'{probe}_Cal_Theta'])\n",
    "df[f'{probe}_Cal_Phi_Deg'] = np.degrees(df[f'{probe}_Cal_Phi'])\n",
    "df['SmarAct_Meas_Angle_1_Rad'] = np.radians(df['SmarAct_Meas_Angle_1'])\n",
    "df['SmarAct_Meas_Angle_2_Rad'] = np.radians(df['SmarAct_Meas_Angle_2'])\n",
    "df['SmarAct_Meas_Angle_1_Rad_pm'] =  df['SmarAct_Meas_Angle_1_Rad'] - (df['SmarAct_Meas_Angle_1_Rad'] > np.pi) * 2 * np.pi\n",
    "#df['SmarAct_Meas_Angle_1_Rad_pm'] =  df['SmarAct_Meas_Angle_1_Rad'] - (df['SmarAct_Meas_Angle_1_Rad'] > np.pi) * np.pi\n",
    "df['SmarAct_Meas_Angle_2_Rad_pm'] = df['SmarAct_Meas_Angle_2_Rad'] - (df['SmarAct_Meas_Angle_2_Rad'] > np.pi) * 2 * np.pi"
   ]
  },
  {
   "cell_type": "code",
   "execution_count": 728,
   "metadata": {},
   "outputs": [
    {
     "data": {
      "text/plain": [
       "count    3.060000e+03\n",
       "mean     5.780576e-07\n",
       "std      9.121015e-01\n",
       "min     -1.570797e+00\n",
       "25%     -7.853979e-01\n",
       "50%      5.934119e-07\n",
       "75%      7.853991e-01\n",
       "max      1.570798e+00\n",
       "Name: SmarAct_Meas_Angle_2_Rad_pm, dtype: float64"
      ]
     },
     "execution_count": 728,
     "metadata": {},
     "output_type": "execute_result"
    }
   ],
   "source": [
    "df['SmarAct_Meas_Angle_2_Rad_pm'].describe()"
   ]
  },
  {
   "cell_type": "code",
   "execution_count": 736,
   "metadata": {},
   "outputs": [
    {
     "data": {
      "text/plain": [
       "count    3.060000e+03\n",
       "mean     1.812428e+00\n",
       "std      1.473296e+00\n",
       "min      1.047198e-07\n",
       "25%      7.075683e-02\n",
       "50%      2.982391e+00\n",
       "75%      3.053147e+00\n",
       "max      3.123904e+00\n",
       "Name: SmarAct_Meas_Angle_1_Rad_pm, dtype: float64"
      ]
     },
     "execution_count": 736,
     "metadata": {},
     "output_type": "execute_result"
    }
   ],
   "source": [
    "df['SmarAct_Meas_Angle_1_Rad_pm'].describe()"
   ]
  },
  {
   "cell_type": "code",
   "execution_count": 702,
   "metadata": {},
   "outputs": [
    {
     "data": {
      "text/plain": [
       "(Datetime\n",
       " 2020-09-13 07:15:31   -0.176891\n",
       " 2020-09-13 07:15:39   -0.176891\n",
       " 2020-09-13 07:15:48   -0.176891\n",
       " 2020-09-13 07:15:57   -0.176891\n",
       " 2020-09-13 07:16:06   -0.176891\n",
       "                          ...   \n",
       " 2020-09-13 14:57:20    0.102917\n",
       " 2020-09-13 14:57:29    0.102917\n",
       " 2020-09-13 14:57:37    0.102917\n",
       " 2020-09-13 14:57:46    0.102917\n",
       " 2020-09-13 14:57:55    0.102917\n",
       " Name: SmarAct_Meas_Angle_1_Rad_pm, Length: 3060, dtype: float64,\n",
       " Datetime\n",
       " 2020-09-13 07:15:31   -1.570796\n",
       " 2020-09-13 07:15:39   -1.553246\n",
       " 2020-09-13 07:15:48   -1.535695\n",
       " 2020-09-13 07:15:57   -1.518144\n",
       " 2020-09-13 07:16:06   -1.500593\n",
       "                          ...   \n",
       " 2020-09-13 14:57:20    1.500594\n",
       " 2020-09-13 14:57:29    1.518145\n",
       " 2020-09-13 14:57:37    1.535696\n",
       " 2020-09-13 14:57:46    1.553247\n",
       " 2020-09-13 14:57:55    1.570798\n",
       " Name: SmarAct_Meas_Angle_2_Rad_pm, Length: 3060, dtype: float64)"
      ]
     },
     "execution_count": 702,
     "metadata": {},
     "output_type": "execute_result"
    }
   ],
   "source": [
    "df['SmarAct_Meas_Angle_1_Rad_pm'], df['SmarAct_Meas_Angle_2_Rad_pm']"
   ]
  },
  {
   "cell_type": "code",
   "execution_count": 824,
   "metadata": {},
   "outputs": [],
   "source": [
    "#df['Bz_cal'] = df[f'{probe}_Cal_X']\n",
    "#df['Bx_cal'] = df[f'{probe}_Cal_Y']\n",
    "#df['By_cal'] = df[f'{probe}_Cal_Z']\n",
    "df['Bz_cal'] = df[f'{probe}_Cal_X']\n",
    "df['Bx_cal'] = df[f'{probe}_Cal_Z']\n",
    "df['By_cal'] = -df[f'{probe}_Cal_Y']"
   ]
  },
  {
   "cell_type": "code",
   "execution_count": 825,
   "metadata": {},
   "outputs": [],
   "source": [
    "df['B_T_cal'] = (df[\"Bx_cal\"]**2+df[\"By_cal\"]**2)**(1/2)\n",
    "df[\"B_Theta_cal\"] = np.arctan2(df[\"B_T_cal\"],df[\"Bz_cal\"])#/df[f\"{probe}_{t}_Bmag\"])\n",
    "df[\"B_Phi_cal\"] = np.arctan2(df[\"By_cal\"],df[\"Bx_cal\"])"
   ]
  },
  {
   "cell_type": "code",
   "execution_count": 826,
   "metadata": {},
   "outputs": [
    {
     "data": {
      "text/html": [
       "<div>\n",
       "<style scoped>\n",
       "    .dataframe tbody tr th:only-of-type {\n",
       "        vertical-align: middle;\n",
       "    }\n",
       "\n",
       "    .dataframe tbody tr th {\n",
       "        vertical-align: top;\n",
       "    }\n",
       "\n",
       "    .dataframe thead th {\n",
       "        text-align: right;\n",
       "    }\n",
       "</style>\n",
       "<table border=\"1\" class=\"dataframe\">\n",
       "  <thead>\n",
       "    <tr style=\"text-align: right;\">\n",
       "      <th></th>\n",
       "      <th>B_Theta_cal</th>\n",
       "      <th>B_Phi_cal</th>\n",
       "    </tr>\n",
       "  </thead>\n",
       "  <tbody>\n",
       "    <tr>\n",
       "      <th>count</th>\n",
       "      <td>3060.000000</td>\n",
       "      <td>3060.000000</td>\n",
       "    </tr>\n",
       "    <tr>\n",
       "      <th>mean</th>\n",
       "      <td>0.076051</td>\n",
       "      <td>-0.145682</td>\n",
       "    </tr>\n",
       "    <tr>\n",
       "      <th>std</th>\n",
       "      <td>0.041992</td>\n",
       "      <td>1.656214</td>\n",
       "    </tr>\n",
       "    <tr>\n",
       "      <th>min</th>\n",
       "      <td>0.008667</td>\n",
       "      <td>-3.141156</td>\n",
       "    </tr>\n",
       "    <tr>\n",
       "      <th>25%</th>\n",
       "      <td>0.038544</td>\n",
       "      <td>-1.469598</td>\n",
       "    </tr>\n",
       "    <tr>\n",
       "      <th>50%</th>\n",
       "      <td>0.073641</td>\n",
       "      <td>-0.237870</td>\n",
       "    </tr>\n",
       "    <tr>\n",
       "      <th>75%</th>\n",
       "      <td>0.109006</td>\n",
       "      <td>1.172326</td>\n",
       "    </tr>\n",
       "    <tr>\n",
       "      <th>max</th>\n",
       "      <td>0.141180</td>\n",
       "      <td>3.140964</td>\n",
       "    </tr>\n",
       "  </tbody>\n",
       "</table>\n",
       "</div>"
      ],
      "text/plain": [
       "       B_Theta_cal    B_Phi_cal\n",
       "count  3060.000000  3060.000000\n",
       "mean      0.076051    -0.145682\n",
       "std       0.041992     1.656214\n",
       "min       0.008667    -3.141156\n",
       "25%       0.038544    -1.469598\n",
       "50%       0.073641    -0.237870\n",
       "75%       0.109006     1.172326\n",
       "max       0.141180     3.140964"
      ]
     },
     "execution_count": 826,
     "metadata": {},
     "output_type": "execute_result"
    }
   ],
   "source": [
    "df[[\"B_Theta_cal\",\"B_Phi_cal\"]].describe()"
   ]
  },
  {
   "cell_type": "code",
   "execution_count": 733,
   "metadata": {},
   "outputs": [],
   "source": [
    "fig = scatter2d(2*[df['Time']], [df['SmarAct_Meas_Angle_1_Rad_pm'], df['B_Theta_cal']], inline=False)"
   ]
  },
  {
   "cell_type": "code",
   "execution_count": 734,
   "metadata": {},
   "outputs": [],
   "source": [
    "fig = scatter2d([df['Time']], [df['B_Theta_cal']-df['SmarAct_Meas_Angle_1_Rad_pm']], inline=False)"
   ]
  },
  {
   "cell_type": "markdown",
   "metadata": {},
   "source": [
    "- Seems like negative angle 1 is basically the same as positive theta"
   ]
  },
  {
   "cell_type": "code",
   "execution_count": 832,
   "metadata": {},
   "outputs": [],
   "source": [
    "fig = scatter2d(2*[df['Time']], [df['SmarAct_Meas_Angle_1_Rad_pm'], df['B_Theta_cal']], inline=False)"
   ]
  },
  {
   "cell_type": "code",
   "execution_count": 833,
   "metadata": {},
   "outputs": [],
   "source": [
    "fig = scatter2d([df['Time']], [df['B_Theta_cal']-abs(df['SmarAct_Meas_Angle_1_Rad_pm'])], inline=False)"
   ]
  },
  {
   "cell_type": "markdown",
   "metadata": {},
   "source": [
    "- Not exactly right, but seems to be part of the issue"
   ]
  },
  {
   "cell_type": "code",
   "execution_count": 827,
   "metadata": {},
   "outputs": [],
   "source": [
    "fig = scatter2d(2*[df['Time']], [df['SmarAct_Meas_Angle_2_Rad_pm'], df['B_Phi_cal']], inline=False)"
   ]
  },
  {
   "cell_type": "code",
   "execution_count": 828,
   "metadata": {},
   "outputs": [],
   "source": [
    "fig = scatter2d(2*[df['Time']], [-df['SmarAct_Meas_Angle_2_Rad_pm'], df['B_Phi_cal']], inline=False)"
   ]
  },
  {
   "cell_type": "code",
   "execution_count": null,
   "metadata": {},
   "outputs": [],
   "source": []
  },
  {
   "cell_type": "code",
   "execution_count": null,
   "metadata": {},
   "outputs": [],
   "source": []
  },
  {
   "cell_type": "code",
   "execution_count": 747,
   "metadata": {},
   "outputs": [],
   "source": [
    "fig = scatter2d([df['B_Theta_cal']], [df['Bz_cal']], lines=False, markers=True, inline=False)"
   ]
  },
  {
   "cell_type": "code",
   "execution_count": 748,
   "metadata": {},
   "outputs": [],
   "source": [
    "fig = scatter2d([df['B_Theta_cal'], df['SmarAct_Meas_Angle_1_Rad_pm']], 2*[df['Bz_cal']], lines=False, markers=True, inline=False)"
   ]
  },
  {
   "cell_type": "code",
   "execution_count": null,
   "metadata": {},
   "outputs": [],
   "source": []
  },
  {
   "cell_type": "code",
   "execution_count": 785,
   "metadata": {},
   "outputs": [],
   "source": [
    "def smaract_to_Bangle(angle1, angle2, **params):\n",
    "    # 3 euler angles\n",
    "    sign_cos = np.sign(angle1)\n",
    "    z = np.cos(angle1)\n",
    "    x = sign_cos*np.sin(angle1)*np.cos(angle2)\n",
    "    y = sign_cos*np.sin(angle1)*np.sin(angle2)\n",
    "    pos = np.array([x,y,z]).reshape(3, -1).T\n",
    "    #print(pos.shape)\n",
    "    rot = Rotation.from_euler('XYZ', np.array([params['e1'],params['e2'],params['e3']]))\n",
    "    #rot = Rotation.from_euler('xyz', np.array([params['e1'],params['e2'],params['e3']]))\n",
    "    pos_rot = rot.apply(pos)\n",
    "    #print(pos_rot.shape)\n",
    "    #print((pos == pos_rot).all())\n",
    "    ##theta = sign_cos * np.arccos(pos_rot[:,2], np.linalg.norm(pos_rot, axis=1))\n",
    "    ##phi = np.arctan2(sign_cos*pos_rot[:,1], sign_cos*pos_rot[:,0])\n",
    "    theta = np.arccos(pos_rot[:,2]/np.linalg.norm(pos_rot, axis=1))\n",
    "    phi = np.arctan2(pos_rot[:,1], pos_rot[:,0])\n",
    "    #phi = np.arctan2(pos_rot[:,1], pos_rot[:,0])\n",
    "    return np.concatenate([theta, phi])"
   ]
  },
  {
   "cell_type": "code",
   "execution_count": 863,
   "metadata": {},
   "outputs": [],
   "source": [
    "def smaract_to_Bangle_v2(angle1, angle2, **params):\n",
    "    # 3 euler angles\n",
    "    #sign_cos = np.sign(angle1)\n",
    "    z = np.cos(angle1)\n",
    "    #x = sign_cos*np.sin(angle1)*np.cos(angle2)\n",
    "    #y = sign_cos*np.sin(angle1)*np.sin(angle2)\n",
    "    x = np.sin(angle1)*np.cos(angle2)\n",
    "    y = np.sin(angle1)*np.sin(angle2)\n",
    "    pos = np.array([x,y,z]).reshape(3, -1).T\n",
    "    #print(pos.shape)\n",
    "    #rot = Rotation.from_euler('XYZ', np.array([params['e1'],params['e2'],params['e3']]))\n",
    "    rot = Rotation.from_euler('xyz', np.array([params['e1'],params['e2'],params['e3']]))\n",
    "    pos_rot = rot.apply(pos)\n",
    "    #print(pos_rot.shape)\n",
    "    #print((pos == pos_rot).all())\n",
    "    ##theta = sign_cos * np.arccos(pos_rot[:,2], np.linalg.norm(pos_rot, axis=1))\n",
    "    ##phi = np.arctan2(sign_cos*pos_rot[:,1], sign_cos*pos_rot[:,0])\n",
    "    theta = np.arccos(pos_rot[:,2]/np.linalg.norm(pos_rot, axis=1))\n",
    "    #theta = np.arctan2(np.linalg.norm(pos[:,:2],axis=1), pos[:,2]) #, np.linalg.norm(pos_rot, axis=1))\n",
    "    phi = np.arctan2(pos_rot[:,1], pos_rot[:,0])\n",
    "    #phi = np.arctan2(pos_rot[:,1], pos_rot[:,0])\n",
    "    return np.concatenate([theta, phi])"
   ]
  },
  {
   "cell_type": "code",
   "execution_count": 913,
   "metadata": {},
   "outputs": [],
   "source": [
    "def smaract_to_Bangle_v3(angle1, angle2, **params):\n",
    "    theta = angle1 + params['e1']\n",
    "    phi = angle2 + params['e2']\n",
    "    return np.concatenate([theta, phi])"
   ]
  },
  {
   "cell_type": "code",
   "execution_count": 993,
   "metadata": {},
   "outputs": [],
   "source": [
    "def smaract_to_Bangle_v4(angle1, angle2, **params):\n",
    "    theta = np.abs(angle1+params['e1'])\n",
    "    phi = angle2 + params['e2'] + ((angle1+params['e1'])<0) * np.pi\n",
    "    #phi = angle2 + params['e2'] + (angle1<0) * np.pi\n",
    "    #phi =  phi - (phi > np.pi) * 2 * np.pi\n",
    "    return np.concatenate([theta, phi])"
   ]
  },
  {
   "cell_type": "code",
   "execution_count": null,
   "metadata": {},
   "outputs": [],
   "source": []
  },
  {
   "cell_type": "code",
   "execution_count": 1025,
   "metadata": {},
   "outputs": [],
   "source": [
    "#df_ = df\n",
    "df_ = df[df['SmarAct_Meas_Angle_1_Rad_pm'] > 0]"
   ]
  },
  {
   "cell_type": "code",
   "execution_count": 1026,
   "metadata": {},
   "outputs": [],
   "source": [
    "#model = lm.Model(smaract_to_Bangle, independent_vars=['angle1','angle2'])\n",
    "#model = lm.Model(smaract_to_Bangle_v3, independent_vars=['angle1','angle2'])\n",
    "model = lm.Model(smaract_to_Bangle_v4, independent_vars=['angle1','angle2'])\n",
    "params = lm.Parameters()\n",
    "#params.add('e1', value=np.pi/2, vary=True, min=-np.pi, max=np.pi)\n",
    "params.add('e1', value=0, vary=True, min=-np.pi, max=np.pi)\n",
    "params.add('e2', value=1., vary=True, min=-np.pi, max=np.pi)\n",
    "params.add('e3', value=0, vary=False, min=-np.pi, max=np.pi)\n",
    "#params.add('e1', value=2*np.pi, vary=True, min=0, max=2*np.pi)\n",
    "#params.add('e2', value=np.pi, vary=True, min=0, max=np.pi)\n",
    "#params.add('e3', value=2*np.pi, vary=True, min=0, max=2*np.pi)"
   ]
  },
  {
   "cell_type": "code",
   "execution_count": 1027,
   "metadata": {},
   "outputs": [],
   "source": [
    "samples = np.concatenate([df_['B_Theta_cal'].values,df_['B_Phi_cal'].values])\n",
    "#result = model.fit(samples, angle1=df_['SmarAct_Meas_Angle_1_Rad_pm'].values,\n",
    "#                   angle2=df_['SmarAct_Meas_Angle_2_Rad_pm'].values, params=params)\n",
    "result = model.fit(samples, angle1=df_['SmarAct_Meas_Angle_1_Rad_pm'].values,\n",
    "                   angle2=-df_['SmarAct_Meas_Angle_2_Rad_pm'].values, params=params,\n",
    "                   method='least_squares',) #fit_kws={'loss':'huber'})\n",
    "                   #angle2=-df_['SmarAct_Meas_Angle_2_Rad_pm'].values, params=params)"
   ]
  },
  {
   "cell_type": "code",
   "execution_count": 1028,
   "metadata": {},
   "outputs": [
    {
     "data": {
      "text/html": [
       "<h2> Model</h2> Model(smaract_to_Bangle_v4) <h2>Fit Statistics</h2><table><tr><td>fitting method</td><td>least_squares</td><td></td></tr><tr><td># function evals</td><td>4</td><td></td></tr><tr><td># data points</td><td>2520</td><td></td></tr><tr><td># variables</td><td>2</td><td></td></tr><tr><td>chi-square</td><td> 4.30864581</td><td></td></tr><tr><td>reduced chi-square</td><td> 0.00171114</td><td></td></tr><tr><td>Akaike info crit.</td><td>-16051.9041</td><td></td></tr><tr><td>Bayesian info crit.</td><td>-16040.2401</td><td></td></tr></table><h2>Variables</h2><table><tr><th> name </th><th> value </th><th> standard error </th><th> relative error </th><th> initial value </th><th> min </th><th> max </th><th> vary </th></tr><tr><td> e1 </td><td>  0.03817654 </td><td>  0.00116535 </td><td> (3.05%) </td><td> 0 </td><td> -3.14159265 </td><td>  3.14159265 </td><td> True </td></tr><tr><td> e2 </td><td>  1.02534380 </td><td>  0.00116535 </td><td> (0.11%) </td><td> 1.0 </td><td> -3.14159265 </td><td>  3.14159265 </td><td> True </td></tr><tr><td> e3 </td><td>  0.00000000 </td><td>  0.00000000 </td><td>  </td><td> 0 </td><td> -3.14159265 </td><td>  3.14159265 </td><td> False </td></tr></table>"
      ],
      "text/plain": [
       "<lmfit.model.ModelResult at 0x7fa8210a1b20>"
      ]
     },
     "execution_count": 1028,
     "metadata": {},
     "output_type": "execute_result"
    }
   ],
   "source": [
    "result"
   ]
  },
  {
   "cell_type": "code",
   "execution_count": 977,
   "metadata": {},
   "outputs": [
    {
     "data": {
      "text/html": [
       "<h2> Model</h2> Model(smaract_to_Bangle_v3) <h2>Fit Statistics</h2><table><tr><td>fitting method</td><td>leastsq</td><td></td></tr><tr><td># function evals</td><td>12</td><td></td></tr><tr><td># data points</td><td>2520</td><td></td></tr><tr><td># variables</td><td>2</td><td></td></tr><tr><td>chi-square</td><td> 4.30864581</td><td></td></tr><tr><td>reduced chi-square</td><td> 0.00171114</td><td></td></tr><tr><td>Akaike info crit.</td><td>-16051.9041</td><td></td></tr><tr><td>Bayesian info crit.</td><td>-16040.2401</td><td></td></tr></table><h2>Variables</h2><table><tr><th> name </th><th> value </th><th> standard error </th><th> relative error </th><th> initial value </th><th> min </th><th> max </th><th> vary </th></tr><tr><td> e1 </td><td>  0.03817654 </td><td>  0.00116535 </td><td> (3.05%) </td><td> 0 </td><td> -3.14159265 </td><td>  3.14159265 </td><td> True </td></tr><tr><td> e2 </td><td>  1.02534380 </td><td>  0.00116535 </td><td> (0.11%) </td><td> 0 </td><td> -3.14159265 </td><td>  3.14159265 </td><td> True </td></tr><tr><td> e3 </td><td>  0.00000000 </td><td>  0.00000000 </td><td>  </td><td> 0 </td><td> -3.14159265 </td><td>  3.14159265 </td><td> False </td></tr></table>"
      ],
      "text/plain": [
       "<lmfit.model.ModelResult at 0x7fa813c94310>"
      ]
     },
     "execution_count": 977,
     "metadata": {},
     "output_type": "execute_result"
    }
   ],
   "source": [
    "result"
   ]
  },
  {
   "cell_type": "code",
   "execution_count": 949,
   "metadata": {},
   "outputs": [
    {
     "data": {
      "text/plain": [
       "array([ 0.19458039,  0.19458041,  0.19458039, ..., -0.37731232,\n",
       "       -0.39486316, -0.41241393])"
      ]
     },
     "execution_count": 949,
     "metadata": {},
     "output_type": "execute_result"
    }
   ],
   "source": [
    "result.best_fit"
   ]
  },
  {
   "cell_type": "code",
   "execution_count": 950,
   "metadata": {},
   "outputs": [
    {
     "data": {
      "text/plain": [
       "array([ 0.14029716,  0.14027523,  0.14025013, ..., -0.44759091,\n",
       "       -0.46518222, -0.48260053])"
      ]
     },
     "execution_count": 950,
     "metadata": {},
     "output_type": "execute_result"
    }
   ],
   "source": [
    "samples"
   ]
  },
  {
   "cell_type": "code",
   "execution_count": null,
   "metadata": {},
   "outputs": [],
   "source": []
  },
  {
   "cell_type": "code",
   "execution_count": 891,
   "metadata": {},
   "outputs": [],
   "source": [
    "#model = lm.Model(smaract_to_Bangle, independent_vars=['angle1','angle2'])\n",
    "model = lm.Model(smaract_to_Bangle_v2, independent_vars=['angle1','angle2'])\n",
    "params = lm.Parameters()\n",
    "#params.add('e1', value=np.pi/2, vary=True, min=-np.pi, max=np.pi)\n",
    "params.add('e1', value=0, vary=True, min=-np.pi, max=np.pi)\n",
    "params.add('e2', value=0, vary=True, min=-np.pi, max=np.pi)\n",
    "params.add('e3', value=0, vary=True, min=-np.pi, max=np.pi)\n",
    "#params.add('e1', value=2*np.pi, vary=True, min=0, max=2*np.pi)\n",
    "#params.add('e2', value=np.pi, vary=True, min=0, max=np.pi)\n",
    "#params.add('e3', value=2*np.pi, vary=True, min=0, max=2*np.pi)"
   ]
  },
  {
   "cell_type": "code",
   "execution_count": 892,
   "metadata": {},
   "outputs": [],
   "source": [
    "samples = np.concatenate([df_['B_Theta_cal'].values,df_['B_Phi_cal'].values])\n",
    "#result = model.fit(samples, angle1=df_['SmarAct_Meas_Angle_1_Rad_pm'].values,\n",
    "#                   angle2=df_['SmarAct_Meas_Angle_2_Rad_pm'].values, params=params)\n",
    "result = model.fit(samples, angle1=df_['SmarAct_Meas_Angle_1_Rad_pm'].values,\n",
    "                   angle2=-df_['SmarAct_Meas_Angle_2_Rad_pm'].values, params=params)"
   ]
  },
  {
   "cell_type": "code",
   "execution_count": 893,
   "metadata": {},
   "outputs": [
    {
     "data": {
      "text/html": [
       "<h2> Model</h2> Model(smaract_to_Bangle_v2) <h2>Fit Statistics</h2><table><tr><td>fitting method</td><td>leastsq</td><td></td></tr><tr><td># function evals</td><td>25</td><td></td></tr><tr><td># data points</td><td>2520</td><td></td></tr><tr><td># variables</td><td>3</td><td></td></tr><tr><td>chi-square</td><td> 3.97749906</td><td></td></tr><tr><td>reduced chi-square</td><td> 0.00158025</td><td></td></tr><tr><td>Akaike info crit.</td><td>-16251.4296</td><td></td></tr><tr><td>Bayesian info crit.</td><td>-16233.9335</td><td></td></tr></table><h2>Variables</h2><table><tr><th> name </th><th> value </th><th> initial value </th><th> min </th><th> max </th><th> vary </th></tr><tr><td> e1 </td><td>  3.8890e-08 </td><td> 0 </td><td> -3.14159265 </td><td>  3.14159265 </td><td> True </td></tr><tr><td> e2 </td><td>  3.1836e-09 </td><td> 0 </td><td> -3.14159265 </td><td>  3.14159265 </td><td> True </td></tr><tr><td> e3 </td><td>  1.03971540 </td><td> 0 </td><td> -3.14159265 </td><td>  3.14159265 </td><td> True </td></tr></table>"
      ],
      "text/plain": [
       "<lmfit.model.ModelResult at 0x7fa818b00700>"
      ]
     },
     "execution_count": 893,
     "metadata": {},
     "output_type": "execute_result"
    }
   ],
   "source": [
    "result"
   ]
  },
  {
   "cell_type": "code",
   "execution_count": 868,
   "metadata": {},
   "outputs": [
    {
     "data": {
      "text/plain": [
       "array([ 2.40274005e-07,  1.01064592e-07,  2.05398332e-07, ...,\n",
       "       -4.95980578e-01, -5.13531410e-01, -5.31082173e-01])"
      ]
     },
     "execution_count": 868,
     "metadata": {},
     "output_type": "execute_result"
    }
   ],
   "source": [
    "result.best_fit"
   ]
  },
  {
   "cell_type": "code",
   "execution_count": 869,
   "metadata": {},
   "outputs": [
    {
     "data": {
      "text/plain": [
       "array([ 0.03821743,  0.03819758,  0.03822008, ..., -0.44759091,\n",
       "       -0.46518222, -0.48260053])"
      ]
     },
     "execution_count": 869,
     "metadata": {},
     "output_type": "execute_result"
    }
   ],
   "source": [
    "samples"
   ]
  },
  {
   "cell_type": "code",
   "execution_count": null,
   "metadata": {},
   "outputs": [],
   "source": []
  },
  {
   "cell_type": "code",
   "execution_count": 706,
   "metadata": {},
   "outputs": [],
   "source": [
    "samples = np.concatenate([df[f'{probe}_Cal_Theta'].values,df[f'{probe}_Cal_Phi'].values])\n",
    "#samples = np.concatenate([df[f'{probe}_Cal_Phi'].values,df[f'{probe}_Cal_Theta'].values])\n",
    "\n",
    "result = model.fit(samples, angle1=df['SmarAct_Meas_Angle_1_Rad_pm'].values,\n",
    "                   angle2=df['SmarAct_Meas_Angle_2_Rad_pm'].values, params=params)\n",
    "\n",
    "#result = model.fit(samples, angle1=df['SmarAct_Meas_Angle_1_Rad'].values,\n",
    "#                   angle2=df['SmarAct_Meas_Angle_2_Rad'].values, params=params)\n",
    "\n",
    "#result = model.fit(samples, angle1=df['SmarAct_Meas_Angle_2_Rad'].values,\n",
    "#                   angle2=df['SmarAct_Meas_Angle_1_Rad'].values, params=params)\n",
    "\n",
    "#result = model.fit(samples, angle1=df['SmarAct_Meas_Angle_2_Rad_pm'].values,\n",
    "#                   angle2=df['SmarAct_Meas_Angle_1_Rad_pm'].values, params=params)\n",
    "\n",
    "#result_theta = model.fit(df[f'{probe}_Cal_Theta_Deg'], angle1=df['SmarAct_Meas_Angle_1'],\n",
    "#                         angle2=df['SmarAct_Meas_Angle_2'], params=params)\n",
    "#result_phi = model.fit(df[f'{probe}_Cal_Phi_Deg'], angle1=df['SmarAct_Meas_Angle_1'],\n",
    "#                         angle2=df['SmarAct_Meas_Angle_2'], params=params)"
   ]
  },
  {
   "cell_type": "code",
   "execution_count": 707,
   "metadata": {
    "scrolled": true
   },
   "outputs": [
    {
     "data": {
      "text/html": [
       "<table><tr><th> name </th><th> value </th><th> standard error </th><th> relative error </th><th> initial value </th><th> min </th><th> max </th><th> vary </th></tr><tr><td> e1 </td><td> -1.35718056 </td><td>  0.01670563 </td><td> (1.23%) </td><td> 1.5707963267948966 </td><td> -3.14159265 </td><td>  3.14159265 </td><td> True </td></tr><tr><td> e2 </td><td>  1.31030779 </td><td>  0.01816724 </td><td> (1.39%) </td><td> 0 </td><td> -3.14159265 </td><td>  3.14159265 </td><td> True </td></tr><tr><td> e3 </td><td> -1.35067543 </td><td>  0.01631847 </td><td> (1.21%) </td><td> 0 </td><td> -3.14159265 </td><td>  3.14159265 </td><td> True </td></tr></table>"
      ],
      "text/plain": [
       "Parameters([('e1',\n",
       "             <Parameter 'e1', value=-1.3571805596243196 +/- 0.0167, bounds=[-3.141592653589793:3.141592653589793]>),\n",
       "            ('e2',\n",
       "             <Parameter 'e2', value=1.3103077935762082 +/- 0.0182, bounds=[-3.141592653589793:3.141592653589793]>),\n",
       "            ('e3',\n",
       "             <Parameter 'e3', value=-1.3506754327330968 +/- 0.0163, bounds=[-3.141592653589793:3.141592653589793]>)])"
      ]
     },
     "execution_count": 707,
     "metadata": {},
     "output_type": "execute_result"
    }
   ],
   "source": [
    "result.params"
   ]
  },
  {
   "cell_type": "code",
   "execution_count": 708,
   "metadata": {
    "scrolled": true
   },
   "outputs": [
    {
     "name": "stdout",
     "output_type": "stream",
     "text": [
      "[[Model]]\n",
      "    Model(smaract_to_Bangle)\n",
      "[[Fit Statistics]]\n",
      "    # fitting method   = leastsq\n",
      "    # function evals   = 489\n",
      "    # data points      = 6120\n",
      "    # variables        = 3\n",
      "    chi-square         = 40.2385492\n",
      "    reduced chi-square = 0.00657815\n",
      "    Akaike info crit   = -30743.8905\n",
      "    Bayesian info crit = -30723.7325\n",
      "[[Variables]]\n",
      "    e1: -1.35718056 +/- 0.01670563 (1.23%) (init = 1.570796)\n",
      "    e2:  1.31030779 +/- 0.01816724 (1.39%) (init = 0)\n",
      "    e3: -1.35067543 +/- 0.01631847 (1.21%) (init = 0)\n",
      "[[Correlations]] (unreported correlations are < 0.100)\n",
      "    C(e1, e3) =  0.996\n",
      "    C(e1, e2) =  0.937\n",
      "    C(e2, e3) =  0.934\n"
     ]
    }
   ],
   "source": [
    "print(result.fit_report())"
   ]
  },
  {
   "cell_type": "code",
   "execution_count": 877,
   "metadata": {
    "scrolled": false
   },
   "outputs": [
    {
     "data": {
      "text/plain": [
       "array([ 0.03817682,  0.03817668,  0.03817678, ..., -0.51035219,\n",
       "       -0.52790303, -0.5454538 ])"
      ]
     },
     "execution_count": 877,
     "metadata": {},
     "output_type": "execute_result"
    }
   ],
   "source": [
    "result.best_fit"
   ]
  },
  {
   "cell_type": "code",
   "execution_count": 878,
   "metadata": {},
   "outputs": [
    {
     "data": {
      "text/plain": [
       "array([ 0.03821743,  0.03819758,  0.03822008, ..., -0.44759091,\n",
       "       -0.46518222, -0.48260053])"
      ]
     },
     "execution_count": 878,
     "metadata": {},
     "output_type": "execute_result"
    }
   ],
   "source": [
    "samples"
   ]
  },
  {
   "cell_type": "code",
   "execution_count": 849,
   "metadata": {},
   "outputs": [
    {
     "data": {
      "text/plain": [
       "0.019530996212089945"
      ]
     },
     "execution_count": 849,
     "metadata": {},
     "output_type": "execute_result"
    }
   ],
   "source": [
    "np.mean(samples - result.best_fit)"
   ]
  },
  {
   "cell_type": "code",
   "execution_count": 850,
   "metadata": {},
   "outputs": [
    {
     "data": {
      "text/plain": [
       "0.04325038390295742"
      ]
     },
     "execution_count": 850,
     "metadata": {},
     "output_type": "execute_result"
    }
   ],
   "source": [
    "np.std(samples - result.best_fit)"
   ]
  },
  {
   "cell_type": "code",
   "execution_count": 848,
   "metadata": {},
   "outputs": [
    {
     "data": {
      "image/png": "[encoded data removed]",
      "text/plain": [
       "<Figure size 864x576 with 1 Axes>"
      ]
     },
     "metadata": {
      "needs_background": "light"
     },
     "output_type": "display_data"
    }
   ],
   "source": [
    "plt.hist(samples-result.best_fit, bins=50);"
   ]
  },
  {
   "cell_type": "code",
   "execution_count": 851,
   "metadata": {},
   "outputs": [],
   "source": [
    "B = np.mean(df[f'{probe}_Cal_Bmag'])"
   ]
  },
  {
   "cell_type": "code",
   "execution_count": 1029,
   "metadata": {},
   "outputs": [],
   "source": [
    "#theta, phi = smaract_to_Bangle(angle1=df['SmarAct_Meas_Angle_1_Rad'], angle2=df['SmarAct_Meas_Angle_2_Rad'], **result.params).reshape(2,-1)\n",
    "#theta, phi = smaract_to_Bangle_v2(angle1=df_['SmarAct_Meas_Angle_1_Rad_pm'], angle2=-df_['SmarAct_Meas_Angle_2_Rad_pm'], **result.params).reshape(2,-1)\n",
    "theta, phi = smaract_to_Bangle_v3(angle1=df_['SmarAct_Meas_Angle_1_Rad_pm'], angle2=-df_['SmarAct_Meas_Angle_2_Rad_pm'], **result.params).reshape(2,-1)\n",
    "#theta, phi = smaract_to_Bangle_v4(angle1=df_['SmarAct_Meas_Angle_1_Rad_pm'], angle2=-df_['SmarAct_Meas_Angle_2_Rad_pm'], **result.params).reshape(2,-1)"
   ]
  },
  {
   "cell_type": "code",
   "execution_count": 985,
   "metadata": {},
   "outputs": [
    {
     "data": {
      "text/plain": [
       "count    3060.000000\n",
       "mean        0.453948\n",
       "std         1.855470\n",
       "min        -2.662810\n",
       "25%        -1.175285\n",
       "50%         0.405110\n",
       "75%         2.089207\n",
       "max         3.688355\n",
       "Name: 6A0000000D61333A_Cal_Phi, dtype: float64"
      ]
     },
     "execution_count": 985,
     "metadata": {},
     "output_type": "execute_result"
    }
   ],
   "source": [
    "(df[f'{probe}_Cal_Phi'] - phi).describe()"
   ]
  },
  {
   "cell_type": "code",
   "execution_count": 986,
   "metadata": {},
   "outputs": [
    {
     "data": {
      "image/png": "[encoded data removed]",
      "text/plain": [
       "<Figure size 864x576 with 1 Axes>"
      ]
     },
     "metadata": {
      "needs_background": "light"
     },
     "output_type": "display_data"
    }
   ],
   "source": [
    "n, bins, patches = plt.hist((df[f'{probe}_Cal_Phi'] - phi), bins=50);"
   ]
  },
  {
   "cell_type": "code",
   "execution_count": 714,
   "metadata": {},
   "outputs": [
    {
     "data": {
      "text/plain": [
       "array([-0.05393917])"
      ]
     },
     "execution_count": 714,
     "metadata": {},
     "output_type": "execute_result"
    }
   ],
   "source": [
    "bins[n.argmax():n.argmax()+1]"
   ]
  },
  {
   "cell_type": "code",
   "execution_count": 715,
   "metadata": {},
   "outputs": [
    {
     "data": {
      "text/plain": [
       "count    3060.000000\n",
       "mean        0.070068\n",
       "std         0.110561\n",
       "min        -0.169036\n",
       "25%        -0.002846\n",
       "50%         0.063620\n",
       "75%         0.139910\n",
       "max         0.335355\n",
       "Name: 6A0000000D61333A_Cal_Theta, dtype: float64"
      ]
     },
     "execution_count": 715,
     "metadata": {},
     "output_type": "execute_result"
    }
   ],
   "source": [
    "(df[f'{probe}_Cal_Theta'] - theta).describe()"
   ]
  },
  {
   "cell_type": "code",
   "execution_count": 716,
   "metadata": {},
   "outputs": [
    {
     "data": {
      "text/plain": [
       "(array([1.56133983, 1.55834876, 1.55534485, ..., 1.54580881, 1.54407859,\n",
       "        1.54233978]),\n",
       " array([1.43910732, 1.44000968, 1.44094223, ..., 1.44417238, 1.4452846 ,\n",
       "        1.44643703]))"
      ]
     },
     "execution_count": 716,
     "metadata": {},
     "output_type": "execute_result"
    }
   ],
   "source": [
    "theta, df[f'{probe}_Cal_Theta'].values"
   ]
  },
  {
   "cell_type": "code",
   "execution_count": 1043,
   "metadata": {},
   "outputs": [],
   "source": [
    "#df_.loc[:, 'Bx_ideal'] = np.sign(theta)*B*np.sin(theta)*np.cos(phi)\n",
    "#df_.loc[:, 'By_ideal'] = np.sign(theta)*B*np.sin(theta)*np.sin(phi)\n",
    "#df_.loc[:, 'Bz_ideal'] = np.sign(theta)*B*np.cos(theta)\n",
    "#B = np.mean(df[f'{probe}_Cal_Bmag'])\n",
    "B = df_[f'{probe}_Cal_Bmag']\n",
    "df_.loc[:, 'Bx_ideal'] = B*np.sin(theta)*np.cos(phi)\n",
    "df_.loc[:, 'By_ideal'] = B*np.sin(theta)*np.sin(phi)\n",
    "df_.loc[:, 'Bz_ideal'] = B*np.cos(theta)\n",
    "\n",
    "df_.loc[:, 'Bx_res'] = df_['Bx_cal'] - df_['Bx_ideal']\n",
    "df_.loc[:, 'By_res'] = df_['By_cal'] - df_['By_ideal']\n",
    "df_.loc[:, 'Bz_res'] = df_['Bz_cal'] - df_['Bz_ideal']"
   ]
  },
  {
   "cell_type": "code",
   "execution_count": 1033,
   "metadata": {},
   "outputs": [],
   "source": [
    "fig = scatter2d(6*[df_['Time']], [df_[f'B{i}_cal'] for i in ['x','y','z']]+[df_[f'B{B}_ideal'] for B in ['x','y','z']], inline=False)"
   ]
  },
  {
   "cell_type": "code",
   "execution_count": 1040,
   "metadata": {},
   "outputs": [],
   "source": [
    "fig = scatter2d(6*[df['Time']], [df[f'{probe}_Cal_{B}'] for B in ['X','Y','Z']]+[df[f'B{i}_cal'] for i in ['x','y','z']], inline=False)"
   ]
  },
  {
   "cell_type": "code",
   "execution_count": 1045,
   "metadata": {},
   "outputs": [],
   "source": [
    "fig = scatter2d(3*[df_['Time']], [df_[f'B{i}_res'] for i in ['x','y','z']], inline=False)"
   ]
  },
  {
   "cell_type": "code",
   "execution_count": 1042,
   "metadata": {},
   "outputs": [],
   "source": [
    "fig = scatter2d([df['Time']], [df[f'{probe}_Cal_{B}'] for B in ['Bmag']], inline=False)"
   ]
  },
  {
   "cell_type": "code",
   "execution_count": 1046,
   "metadata": {},
   "outputs": [],
   "source": [
    "fig = scatter2d(2*[df['Time']], [df[f'{probe}_Cal_{B}'] for B in ['Bmag']] + [df['SmarAct_Meas_Angle_2_Rad_pm']], inline=False)"
   ]
  },
  {
   "cell_type": "code",
   "execution_count": 1049,
   "metadata": {},
   "outputs": [],
   "source": [
    "import plotly.graph_objects as go\n",
    "from plotly.subplots import make_subplots\n",
    "from plotly.offline import plot"
   ]
  },
  {
   "cell_type": "code",
   "execution_count": 1051,
   "metadata": {},
   "outputs": [],
   "source": [
    "fig = make_subplots(specs=[[{\"secondary_y\": True}]])\n",
    "fig.add_trace(\n",
    "    go.Scatter(x=df['Time'], y=df[f'{probe}_Cal_Bmag'], name='|B| vs. time'),\n",
    "    secondary_y = False\n",
    ")\n",
    "fig.add_trace(\n",
    "    go.Scatter(x=df['Time'], y=df['SmarAct_Meas_Angle_2_Rad_pm'], name='Angle 2 vs. time'),\n",
    "    secondary_y = True\n",
    ")\n",
    "fig.update_xaxes(title_text=\"Datetime\")\n",
    "fig.update_yaxes(title_text=\"|B| [Tesla]\", secondary_y=False)\n",
    "fig.update_yaxes(title_text=\"Angle 2 [rad]\", secondary_y=True)\n",
    "\n",
    "plot(fig);"
   ]
  },
  {
   "cell_type": "code",
   "execution_count": 1053,
   "metadata": {},
   "outputs": [],
   "source": [
    "fig = make_subplots(specs=[[{\"secondary_y\": True}]])\n",
    "fig.add_trace(\n",
    "    go.Scatter(x=df['Time'], y=df[f'{probe}_Cal_Bmag'], name='|B| vs. time'),\n",
    "    secondary_y = False\n",
    ")\n",
    "fig.add_trace(\n",
    "    #go.Scatter(x=df['Time'], y=df['SmarAct_Meas_Angle_1_Rad_pm'], name='Angle 1 vs. time'),\n",
    "    go.Scatter(x=df['Time'], y=df['B_Theta_cal'], name=r'$\\theta_\\mathrm{Cal.}$ vs. time'),\n",
    "    secondary_y = True\n",
    ")\n",
    "fig.update_xaxes(title_text=\"Datetime\")\n",
    "fig.update_yaxes(title_text=\"|B| [Tesla]\", secondary_y=False)\n",
    "#fig.update_yaxes(title_text=\"Angle 1 [rad]\", secondary_y=True)\n",
    "fig.update_yaxes(title_text=r\"$\\theta$ [rad]\", secondary_y=True)\n",
    "\n",
    "plot(fig);"
   ]
  },
  {
   "cell_type": "code",
   "execution_count": null,
   "metadata": {},
   "outputs": [],
   "source": []
  },
  {
   "cell_type": "code",
   "execution_count": 1041,
   "metadata": {},
   "outputs": [],
   "source": [
    "fig = scatter2d(2*[df['Time']], [df['SmarAct_Meas_Angle_1_Rad_pm'],df['SmarAct_Meas_Angle_2_Rad_pm']], inline=False)"
   ]
  },
  {
   "cell_type": "code",
   "execution_count": 983,
   "metadata": {},
   "outputs": [],
   "source": [
    "fig = scatter2d(2*[df_['Time']], [df_['B_Theta_cal'], theta], inline=False)"
   ]
  },
  {
   "cell_type": "code",
   "execution_count": null,
   "metadata": {},
   "outputs": [],
   "source": []
  },
  {
   "cell_type": "code",
   "execution_count": 1037,
   "metadata": {},
   "outputs": [],
   "source": [
    "fig = scatter2d(2*[df['Time']], [df['SmarAct_Meas_Angle_1_Rad_pm'], df['B_Theta_cal']], inline=False)"
   ]
  },
  {
   "cell_type": "code",
   "execution_count": 1038,
   "metadata": {},
   "outputs": [],
   "source": [
    "fig = scatter2d(2*[df['Time']], [df['SmarAct_Meas_Angle_2_Rad_pm'], df['B_Phi_cal']], inline=False)"
   ]
  },
  {
   "cell_type": "code",
   "execution_count": 1039,
   "metadata": {},
   "outputs": [],
   "source": [
    "fig = scatter2d(2*[df['Time']], [-df['SmarAct_Meas_Angle_2_Rad_pm'], df['B_Phi_cal']], inline=False)"
   ]
  },
  {
   "cell_type": "code",
   "execution_count": null,
   "metadata": {},
   "outputs": [],
   "source": []
  },
  {
   "cell_type": "code",
   "execution_count": 905,
   "metadata": {},
   "outputs": [],
   "source": [
    "fig = scatter2d(2*[df_['Time']], [df_['SmarAct_Meas_Angle_1_Rad_pm'], df['SmarAct_Meas_Angle_2_Rad_pm']], inline=False)"
   ]
  },
  {
   "cell_type": "code",
   "execution_count": null,
   "metadata": {},
   "outputs": [],
   "source": []
  },
  {
   "cell_type": "code",
   "execution_count": 718,
   "metadata": {},
   "outputs": [],
   "source": [
    "fig = scatter2d(6*[df['Time']], [df[f'{probe}_Cal_{i}'] for i in ['X','Y','Z']]+[df[f'B{B}_ideal'] for B in ['x','y','z']], inline=False)"
   ]
  },
  {
   "cell_type": "code",
   "execution_count": 719,
   "metadata": {},
   "outputs": [],
   "source": [
    "fig = scatter2d(2*[df['Time']], [df['SmarAct_Meas_Angle_1'], df['SmarAct_Meas_Angle_2']], inline=False)"
   ]
  },
  {
   "cell_type": "code",
   "execution_count": null,
   "metadata": {},
   "outputs": [],
   "source": []
  },
  {
   "cell_type": "code",
   "execution_count": 257,
   "metadata": {},
   "outputs": [
    {
     "data": {
      "text/plain": [
       "count    3060.000000\n",
       "mean        1.564595\n",
       "std         0.061211\n",
       "min         1.429979\n",
       "25%         1.524756\n",
       "50%         1.562493\n",
       "75%         1.603580\n",
       "max         1.710273\n",
       "Name: 6A0000000D61333A_Cal_Theta, dtype: float64"
      ]
     },
     "execution_count": 257,
     "metadata": {},
     "output_type": "execute_result"
    }
   ],
   "source": [
    "(df[f'{probe}_Cal_Theta']).describe()"
   ]
  },
  {
   "cell_type": "code",
   "execution_count": null,
   "metadata": {},
   "outputs": [],
   "source": []
  },
  {
   "cell_type": "code",
   "execution_count": 201,
   "metadata": {},
   "outputs": [
    {
     "data": {
      "text/plain": [
       "Datetime\n",
       "2020-09-13 07:15:31    0.0\n",
       "2020-09-13 07:15:39    0.0\n",
       "2020-09-13 07:15:48    0.0\n",
       "2020-09-13 07:15:57    0.0\n",
       "2020-09-13 07:16:06    0.0\n",
       "                      ... \n",
       "2020-09-13 14:57:20    0.0\n",
       "2020-09-13 14:57:29    0.0\n",
       "2020-09-13 14:57:37    0.0\n",
       "2020-09-13 14:57:46    0.0\n",
       "2020-09-13 14:57:55    0.0\n",
       "Name: NMR [T], Length: 3060, dtype: float64"
      ]
     },
     "execution_count": 201,
     "metadata": {},
     "output_type": "execute_result"
    }
   ],
   "source": [
    "df['NMR [T]']"
   ]
  },
  {
   "cell_type": "code",
   "execution_count": 202,
   "metadata": {},
   "outputs": [
    {
     "data": {
      "text/plain": [
       "<matplotlib.collections.PathCollection at 0x7fa82366e7c0>"
      ]
     },
     "execution_count": 202,
     "metadata": {},
     "output_type": "execute_result"
    },
    {
     "data": {
      "image/png": "[encoded data removed]",
      "text/plain": [
       "<Figure size 864x576 with 1 Axes>"
      ]
     },
     "metadata": {
      "needs_background": "light"
     },
     "output_type": "display_data"
    }
   ],
   "source": [
    "plt.scatter(df[f'{probe}_Cal_Bmag'], df[f'{probe}_Raw_Bmag'], s=1)"
   ]
  },
  {
   "cell_type": "code",
   "execution_count": 203,
   "metadata": {},
   "outputs": [
    {
     "data": {
      "text/plain": [
       "<matplotlib.collections.PathCollection at 0x7fa8235e60d0>"
      ]
     },
     "execution_count": 203,
     "metadata": {},
     "output_type": "execute_result"
    },
    {
     "data": {
      "image/png": "[encoded data removed]",
      "text/plain": [
       "<Figure size 864x576 with 1 Axes>"
      ]
     },
     "metadata": {
      "needs_background": "light"
     },
     "output_type": "display_data"
    }
   ],
   "source": [
    "plt.scatter(df[f'{probe}_Cal_Bmag'], df[f'{probe}_Cal_T'], c=df[f'{probe}_Raw_Bmag'], s=1)"
   ]
  },
  {
   "cell_type": "markdown",
   "metadata": {},
   "source": [
    "### Test 3: Voltage Regression (vs. Temp, B)"
   ]
  },
  {
   "cell_type": "code",
   "execution_count": 152,
   "metadata": {},
   "outputs": [],
   "source": [
    "def regress_B_t(B, t, **params):\n",
    "    return params['m1'] * B + params['m2'] * t + params['b']"
   ]
  },
  {
   "cell_type": "code",
   "execution_count": 154,
   "metadata": {},
   "outputs": [],
   "source": [
    "model = lm.Model(regress_B_t, independent_vars=['B','t'])\n",
    "params = lm.Parameters()\n",
    "params.add('m1', value=0, vary=True)\n",
    "params.add('m2', value=0, vary=True)\n",
    "params.add('b', value=0, vary=True)"
   ]
  },
  {
   "cell_type": "code",
   "execution_count": 155,
   "metadata": {},
   "outputs": [],
   "source": [
    "#samples = np.concatenate([df['SmarAct_Meas_Angle_1'].values,df['SmarAct_Meas_Angle_2'].values])\n",
    "result = model.fit(df[f'{probe}_Raw_Bmag'], B=df[f'{probe}_Cal_Bmag'],\n",
    "                         t=df[f'{probe}_Cal_T'], params=params)"
   ]
  },
  {
   "cell_type": "code",
   "execution_count": 156,
   "metadata": {},
   "outputs": [
    {
     "data": {
      "text/html": [
       "<table><tr><th> name </th><th> value </th><th> standard error </th><th> relative error </th><th> initial value </th><th> min </th><th> max </th><th> vary </th></tr><tr><td> m1 </td><td>  19612031.2 </td><td>  979733.068 </td><td> (5.00%) </td><td> 0 </td><td>        -inf </td><td>         inf </td><td> True </td></tr><tr><td> m2 </td><td>  1925.11481 </td><td>  181.528763 </td><td> (9.43%) </td><td> 0 </td><td>        -inf </td><td>         inf </td><td> True </td></tr><tr><td> b </td><td> -20388655.3 </td><td>  1186821.23 </td><td> (5.82%) </td><td> 0 </td><td>        -inf </td><td>         inf </td><td> True </td></tr></table>"
      ],
      "text/plain": [
       "Parameters([('m1',\n",
       "             <Parameter 'm1', value=19612031.192003738 +/- 9.8e+05, bounds=[-inf:inf]>),\n",
       "            ('m2',\n",
       "             <Parameter 'm2', value=1925.114807869478 +/- 182, bounds=[-inf:inf]>),\n",
       "            ('b',\n",
       "             <Parameter 'b', value=-20388655.26824849 +/- 1.19e+06, bounds=[-inf:inf]>)])"
      ]
     },
     "execution_count": 156,
     "metadata": {},
     "output_type": "execute_result"
    }
   ],
   "source": [
    "result.params"
   ]
  },
  {
   "cell_type": "code",
   "execution_count": 158,
   "metadata": {},
   "outputs": [
    {
     "name": "stdout",
     "output_type": "stream",
     "text": [
      "[[Model]]\n",
      "    Model(regress_B_t)\n",
      "[[Fit Statistics]]\n",
      "    # fitting method   = leastsq\n",
      "    # function evals   = 101\n",
      "    # data points      = 1783\n",
      "    # variables        = 3\n",
      "    chi-square         = 9.1459e+09\n",
      "    reduced chi-square = 5138156.40\n",
      "    Akaike info crit   = 27554.2788\n",
      "    Bayesian info crit = 27570.7370\n",
      "[[Variables]]\n",
      "    m1:  19612031.2 +/- 979733.068 (5.00%) (init = 0)\n",
      "    m2:  1925.11481 +/- 181.528763 (9.43%) (init = 0)\n",
      "    b:  -20388655.3 +/- 1186821.23 (5.82%) (init = 0)\n",
      "[[Correlations]] (unreported correlations are < 0.100)\n",
      "    C(m1, b)  = -1.000\n",
      "    C(m2, b)  = -0.910\n",
      "    C(m1, m2) =  0.910\n"
     ]
    }
   ],
   "source": [
    "print(result.fit_report())"
   ]
  },
  {
   "cell_type": "code",
   "execution_count": 159,
   "metadata": {},
   "outputs": [
    {
     "data": {
      "text/plain": [
       "Datetime\n",
       "2020-09-10 12:22:48    3.346266e+06\n",
       "2020-09-10 12:22:57    3.345540e+06\n",
       "2020-09-10 12:23:06    3.346128e+06\n",
       "2020-09-10 12:23:14    3.345711e+06\n",
       "2020-09-10 12:23:23    3.345309e+06\n",
       "                           ...     \n",
       "2020-09-10 16:44:01    3.342927e+06\n",
       "2020-09-10 16:44:10    3.342818e+06\n",
       "2020-09-10 16:44:19    3.343400e+06\n",
       "2020-09-10 16:44:28    3.343512e+06\n",
       "2020-09-10 16:44:36    3.342321e+06\n",
       "Length: 1783, dtype: float64"
      ]
     },
     "execution_count": 159,
     "metadata": {},
     "output_type": "execute_result"
    }
   ],
   "source": [
    "result.best_fit"
   ]
  },
  {
   "cell_type": "code",
   "execution_count": 164,
   "metadata": {},
   "outputs": [
    {
     "data": {
      "text/plain": [
       "count    1783.000000\n",
       "mean       -0.015551\n",
       "std      2265.477803\n",
       "min     -6623.588606\n",
       "25%     -1534.564065\n",
       "50%       721.142387\n",
       "75%      1655.464792\n",
       "max      4345.637408\n",
       "dtype: float64"
      ]
     },
     "execution_count": 164,
     "metadata": {},
     "output_type": "execute_result"
    }
   ],
   "source": [
    "((df[f'{probe}_Raw_Bmag'] - result.best_fit)).describe()"
   ]
  },
  {
   "cell_type": "code",
   "execution_count": 163,
   "metadata": {},
   "outputs": [
    {
     "data": {
      "text/plain": [
       "count    1.783000e+03\n",
       "mean    -4.634347e-07\n",
       "std      6.777224e-04\n",
       "min     -1.983584e-03\n",
       "25%     -4.592435e-04\n",
       "50%      2.155233e-04\n",
       "75%      4.949924e-04\n",
       "max      1.297385e-03\n",
       "dtype: float64"
      ]
     },
     "execution_count": 163,
     "metadata": {},
     "output_type": "execute_result"
    }
   ],
   "source": [
    "((df[f'{probe}_Raw_Bmag'] - result.best_fit)/df[f'{probe}_Raw_Bmag']).describe()"
   ]
  },
  {
   "cell_type": "code",
   "execution_count": null,
   "metadata": {},
   "outputs": [],
   "source": []
  },
  {
   "cell_type": "code",
   "execution_count": 92,
   "metadata": {},
   "outputs": [
    {
     "data": {
      "text/html": [
       "<table><tr><th> name </th><th> value </th><th> standard error </th><th> relative error </th><th> initial value </th><th> min </th><th> max </th><th> vary </th></tr><tr><td> m1 </td><td> -0.41437746 </td><td>  0.20950890 </td><td> (50.56%) </td><td> 0 </td><td>        -inf </td><td>         inf </td><td> True </td></tr><tr><td> m2 </td><td> -0.01093812 </td><td>  1.9621e-04 </td><td> (1.79%) </td><td> 0 </td><td>        -inf </td><td>         inf </td><td> True </td></tr><tr><td> b </td><td>  239.515641 </td><td>  74.4170067 </td><td> (31.07%) </td><td> 0 </td><td>        -inf </td><td>         inf </td><td> True </td></tr></table>"
      ],
      "text/plain": [
       "Parameters([('m1',\n",
       "             <Parameter 'm1', value=-0.41437746364963185 +/- 0.21, bounds=[-inf:inf]>),\n",
       "            ('m2',\n",
       "             <Parameter 'm2', value=-0.01093812231742936 +/- 0.000196, bounds=[-inf:inf]>),\n",
       "            ('b',\n",
       "             <Parameter 'b', value=239.5156413997584 +/- 74.4, bounds=[-inf:inf]>)])"
      ]
     },
     "execution_count": 92,
     "metadata": {},
     "output_type": "execute_result"
    }
   ],
   "source": [
    "result_theta.params"
   ]
  },
  {
   "cell_type": "code",
   "execution_count": 93,
   "metadata": {},
   "outputs": [
    {
     "data": {
      "text/html": [
       "<table><tr><th> name </th><th> value </th><th> standard error </th><th> relative error </th><th> initial value </th><th> min </th><th> max </th><th> vary </th></tr><tr><td> m1 </td><td> -0.50907667 </td><td>  0.14099727 </td><td> (27.70%) </td><td> 0 </td><td>        -inf </td><td>         inf </td><td> True </td></tr><tr><td> m2 </td><td>  0.00225845 </td><td>  1.3204e-04 </td><td> (5.85%) </td><td> 0 </td><td>        -inf </td><td>         inf </td><td> True </td></tr><tr><td> b </td><td>  182.134348 </td><td>  50.0818557 </td><td> (27.50%) </td><td> 0 </td><td>        -inf </td><td>         inf </td><td> True </td></tr></table>"
      ],
      "text/plain": [
       "Parameters([('m1',\n",
       "             <Parameter 'm1', value=-0.5090766723913306 +/- 0.141, bounds=[-inf:inf]>),\n",
       "            ('m2',\n",
       "             <Parameter 'm2', value=0.002258454690730242 +/- 0.000132, bounds=[-inf:inf]>),\n",
       "            ('b',\n",
       "             <Parameter 'b', value=182.13434839190606 +/- 50.1, bounds=[-inf:inf]>)])"
      ]
     },
     "execution_count": 93,
     "metadata": {},
     "output_type": "execute_result"
    }
   ],
   "source": [
    "result_phi.params"
   ]
  },
  {
   "cell_type": "code",
   "execution_count": 94,
   "metadata": {},
   "outputs": [
    {
     "name": "stdout",
     "output_type": "stream",
     "text": [
      "[[Model]]\n",
      "    Model(regress_2angle)\n",
      "[[Fit Statistics]]\n",
      "    # fitting method   = leastsq\n",
      "    # function evals   = 37\n",
      "    # data points      = 1783\n",
      "    # variables        = 3\n",
      "    chi-square         = 2313.07861\n",
      "    reduced chi-square = 1.29948237\n",
      "    Akaike info crit   = 470.082859\n",
      "    Bayesian info crit = 486.541017\n",
      "[[Variables]]\n",
      "    m1: -0.41437746 +/- 0.20950890 (50.56%) (init = 0)\n",
      "    m2: -0.01093812 +/- 1.9621e-04 (1.79%) (init = 0)\n",
      "    b:   239.515641 +/- 74.4170067 (31.07%) (init = 0)\n",
      "[[Correlations]] (unreported correlations are < 0.100)\n",
      "    C(m1, b) = -1.000\n"
     ]
    }
   ],
   "source": [
    "print(result_theta.fit_report())"
   ]
  },
  {
   "cell_type": "code",
   "execution_count": null,
   "metadata": {},
   "outputs": [],
   "source": []
  },
  {
   "cell_type": "code",
   "execution_count": null,
   "metadata": {},
   "outputs": [],
   "source": []
  },
  {
   "cell_type": "code",
   "execution_count": 138,
   "metadata": {},
   "outputs": [
    {
     "data": {
      "text/html": [
       "<table><tr><th> name </th><th> value </th><th> standard error </th><th> relative error </th><th> initial value </th><th> min </th><th> max </th><th> vary </th></tr><tr><td> m1 </td><td> -0.40614277 </td><td>  0.00716255 </td><td> (1.76%) </td><td> 0 </td><td>        -inf </td><td>         inf </td><td> True </td></tr><tr><td> m2 </td><td> -6.2571e-04 </td><td>  7.4586e-06 </td><td> (1.19%) </td><td> 0 </td><td>        -inf </td><td>         inf </td><td> True </td></tr><tr><td> b </td><td>  234.956181 </td><td>  2.54477282 </td><td> (1.08%) </td><td> 0 </td><td>        -inf </td><td>         inf </td><td> True </td></tr></table>"
      ],
      "text/plain": [
       "Parameters([('m1',\n",
       "             <Parameter 'm1', value=-0.40614277023288975 +/- 0.00716, bounds=[-inf:inf]>),\n",
       "            ('m2',\n",
       "             <Parameter 'm2', value=-0.0006257121935390849 +/- 7.46e-06, bounds=[-inf:inf]>),\n",
       "            ('b',\n",
       "             <Parameter 'b', value=234.95618101927016 +/- 2.54, bounds=[-inf:inf]>)])"
      ]
     },
     "execution_count": 138,
     "metadata": {},
     "output_type": "execute_result"
    }
   ],
   "source": [
    "result_theta.params"
   ]
  },
  {
   "cell_type": "code",
   "execution_count": 139,
   "metadata": {},
   "outputs": [
    {
     "data": {
      "text/html": [
       "<table><tr><th> name </th><th> value </th><th> standard error </th><th> relative error </th><th> initial value </th><th> min </th><th> max </th><th> vary </th></tr><tr><td> m1 </td><td> -0.90575413 </td><td>  0.00166454 </td><td> (0.18%) </td><td> 0 </td><td>        -inf </td><td>         inf </td><td> True </td></tr><tr><td> m2 </td><td>  1.3771e-04 </td><td>  1.7333e-06 </td><td> (1.26%) </td><td> 0 </td><td>        -inf </td><td>         inf </td><td> True </td></tr><tr><td> b </td><td>  324.316462 </td><td>  0.59139204 </td><td> (0.18%) </td><td> 0 </td><td>        -inf </td><td>         inf </td><td> True </td></tr></table>"
      ],
      "text/plain": [
       "Parameters([('m1',\n",
       "             <Parameter 'm1', value=-0.9057541263185145 +/- 0.00166, bounds=[-inf:inf]>),\n",
       "            ('m2',\n",
       "             <Parameter 'm2', value=0.00013771286523834523 +/- 1.73e-06, bounds=[-inf:inf]>),\n",
       "            ('b',\n",
       "             <Parameter 'b', value=324.31646169106386 +/- 0.591, bounds=[-inf:inf]>)])"
      ]
     },
     "execution_count": 139,
     "metadata": {},
     "output_type": "execute_result"
    }
   ],
   "source": [
    "result_phi.params"
   ]
  },
  {
   "cell_type": "code",
   "execution_count": 140,
   "metadata": {},
   "outputs": [
    {
     "name": "stdout",
     "output_type": "stream",
     "text": [
      "[[Model]]\n",
      "    Model(regress_2angle)\n",
      "[[Fit Statistics]]\n",
      "    # fitting method   = leastsq\n",
      "    # function evals   = 37\n",
      "    # data points      = 2547\n",
      "    # variables        = 3\n",
      "    chi-square         = 11.3408113\n",
      "    reduced chi-square = 0.00445787\n",
      "    Akaike info crit   = -13784.1295\n",
      "    Bayesian info crit = -13766.6015\n",
      "[[Variables]]\n",
      "    m1: -0.40614277 +/- 0.00716255 (1.76%) (init = 0)\n",
      "    m2: -6.2571e-04 +/- 7.4586e-06 (1.19%) (init = 0)\n",
      "    b:   234.956181 +/- 2.54477282 (1.08%) (init = 0)\n",
      "[[Correlations]] (unreported correlations are < 0.100)\n",
      "    C(m1, b) = -1.000\n"
     ]
    }
   ],
   "source": [
    "print(result_theta.fit_report())"
   ]
  },
  {
   "cell_type": "code",
   "execution_count": 141,
   "metadata": {},
   "outputs": [
    {
     "name": "stdout",
     "output_type": "stream",
     "text": [
      "[[Model]]\n",
      "    Model(regress_2angle)\n",
      "[[Fit Statistics]]\n",
      "    # fitting method   = leastsq\n",
      "    # function evals   = 37\n",
      "    # data points      = 2547\n",
      "    # variables        = 3\n",
      "    chi-square         = 0.61248729\n",
      "    reduced chi-square = 2.4076e-04\n",
      "    Akaike info crit   = -21217.8926\n",
      "    Bayesian info crit = -21200.3646\n",
      "[[Variables]]\n",
      "    m1: -0.90575413 +/- 0.00166454 (0.18%) (init = 0)\n",
      "    m2:  1.3771e-04 +/- 1.7333e-06 (1.26%) (init = 0)\n",
      "    b:   324.316462 +/- 0.59139204 (0.18%) (init = 0)\n",
      "[[Correlations]] (unreported correlations are < 0.100)\n",
      "    C(m1, b) = -1.000\n"
     ]
    }
   ],
   "source": [
    "print(result_phi.fit_report())"
   ]
  },
  {
   "cell_type": "code",
   "execution_count": 142,
   "metadata": {},
   "outputs": [
    {
     "data": {
      "text/plain": [
       "324.31646169106386"
      ]
     },
     "execution_count": 142,
     "metadata": {},
     "output_type": "execute_result"
    }
   ],
   "source": [
    "regress_2angle(0, 0, **result_phi.params)"
   ]
  },
  {
   "cell_type": "code",
   "execution_count": 143,
   "metadata": {},
   "outputs": [],
   "source": [
    "a1s = np.linspace(0, 180, 181)\n",
    "a2s = np.linspace(0, 360, 361)"
   ]
  },
  {
   "cell_type": "code",
   "execution_count": 144,
   "metadata": {},
   "outputs": [],
   "source": [
    "A1, A2 = np.meshgrid(a1s, a2s)"
   ]
  },
  {
   "cell_type": "code",
   "execution_count": 145,
   "metadata": {},
   "outputs": [],
   "source": [
    "TH = regress_2angle(A1, A2, **result_theta.params)\n",
    "PH = regress_2angle(A1, A2, **result_phi.params)"
   ]
  },
  {
   "cell_type": "code",
   "execution_count": 150,
   "metadata": {},
   "outputs": [
    {
     "data": {
      "text/plain": [
       "(161.62522598767595, 234.95618101927016, 161.28071895373125, 324.3660383225497)"
      ]
     },
     "execution_count": 150,
     "metadata": {},
     "output_type": "execute_result"
    }
   ],
   "source": [
    "TH.min(), TH.max(), PH.min(), PH.max()"
   ]
  },
  {
   "cell_type": "code",
   "execution_count": 152,
   "metadata": {},
   "outputs": [
    {
     "data": {
      "text/plain": [
       "(73.33095503159421, 163.08531936881843)"
      ]
     },
     "execution_count": 152,
     "metadata": {},
     "output_type": "execute_result"
    }
   ],
   "source": [
    "TH.max()-TH.min(), PH.max()-PH.min()"
   ]
  },
  {
   "cell_type": "code",
   "execution_count": null,
   "metadata": {},
   "outputs": [],
   "source": []
  },
  {
   "cell_type": "code",
   "execution_count": null,
   "metadata": {},
   "outputs": [],
   "source": []
  },
  {
   "cell_type": "code",
   "execution_count": null,
   "metadata": {},
   "outputs": [],
   "source": []
  },
  {
   "cell_type": "code",
   "execution_count": null,
   "metadata": {},
   "outputs": [],
   "source": []
  },
  {
   "cell_type": "code",
   "execution_count": null,
   "metadata": {},
   "outputs": [],
   "source": []
  },
  {
   "cell_type": "markdown",
   "metadata": {},
   "source": [
    "-------------"
   ]
  },
  {
   "cell_type": "code",
   "execution_count": 70,
   "metadata": {},
   "outputs": [],
   "source": [
    "r_phi = np.corrcoef(df[f'{probe}_Cal_Phi'], df['SmarAct_Meas_Angle_1'])\n",
    "r_theta = np.corrcoef(df[f'{probe}_Cal_Theta'], df['SmarAct_Meas_Angle_2_pm'])"
   ]
  },
  {
   "cell_type": "code",
   "execution_count": 72,
   "metadata": {},
   "outputs": [
    {
     "data": {
      "text/plain": [
       "(-0.9852445464472992, 0.8744525524711794)"
      ]
     },
     "execution_count": 72,
     "metadata": {},
     "output_type": "execute_result"
    }
   ],
   "source": [
    "r_phi[0,1], r_theta[0,1]"
   ]
  },
  {
   "cell_type": "code",
   "execution_count": null,
   "metadata": {},
   "outputs": [],
   "source": []
  },
  {
   "cell_type": "code",
   "execution_count": 8,
   "metadata": {},
   "outputs": [],
   "source": [
    "fig = scatter2d(df[f\"{probe}_Cal_T\"], df[\"NMR [T]\"], inline=False)"
   ]
  },
  {
   "cell_type": "code",
   "execution_count": 9,
   "metadata": {},
   "outputs": [],
   "source": [
    "fig = scatter2d(df[\"Yoke (center magnet)\"], df[\"NMR [T]\"], inline=False)"
   ]
  },
  {
   "cell_type": "code",
   "execution_count": 10,
   "metadata": {},
   "outputs": [],
   "source": [
    "fig = scatter2d( df[\"NMR [T]\"],df[\"DF0000000D5E803A_Cal_Bmag\"], inline=False)"
   ]
  },
  {
   "cell_type": "code",
   "execution_count": 15,
   "metadata": {},
   "outputs": [],
   "source": [
    "fig = scatter2d( df[\"DF0000000D5E803A_Cal_T\"],(df[\"DF0000000D5E803A_Cal_X\"]-df[\"NMR [T]\"])/df[\"NMR [T]\"], markers=True, lines=False, inline=False)"
   ]
  },
  {
   "cell_type": "code",
   "execution_count": 30,
   "metadata": {
    "scrolled": true
   },
   "outputs": [
    {
     "data": {
      "text/html": [
       "<div>\n",
       "<style scoped>\n",
       "    .dataframe tbody tr th:only-of-type {\n",
       "        vertical-align: middle;\n",
       "    }\n",
       "\n",
       "    .dataframe tbody tr th {\n",
       "        vertical-align: top;\n",
       "    }\n",
       "\n",
       "    .dataframe thead th {\n",
       "        text-align: right;\n",
       "    }\n",
       "</style>\n",
       "<table border=\"1\" class=\"dataframe\">\n",
       "  <thead>\n",
       "    <tr style=\"text-align: right;\">\n",
       "      <th></th>\n",
       "      <th>Time</th>\n",
       "      <th>Magnet Current [A]</th>\n",
       "      <th>Magnet Voltage [V]</th>\n",
       "      <th>Coil 1 (new)</th>\n",
       "      <th>Coil 2 (old)</th>\n",
       "      <th>LCW in Coil1</th>\n",
       "      <th>LCW out Coil 1</th>\n",
       "      <th>LCW in Coil 2</th>\n",
       "      <th>LCW out Coil 2</th>\n",
       "      <th>Yoke</th>\n",
       "      <th>...</th>\n",
       "      <th>DF0000000D5E803A_Cal_Phi</th>\n",
       "      <th>6A0000000D61333A_Raw_Transverse</th>\n",
       "      <th>6A0000000D61333A_Raw_Theta</th>\n",
       "      <th>6A0000000D61333A_Raw_Phi</th>\n",
       "      <th>C50000000D5E473A_Raw_Transverse</th>\n",
       "      <th>C50000000D5E473A_Raw_Theta</th>\n",
       "      <th>C50000000D5E473A_Raw_Phi</th>\n",
       "      <th>DF0000000D5E803A_Raw_Transverse</th>\n",
       "      <th>DF0000000D5E803A_Raw_Theta</th>\n",
       "      <th>DF0000000D5E803A_Raw_Phi</th>\n",
       "    </tr>\n",
       "    <tr>\n",
       "      <th>Datetime</th>\n",
       "      <th></th>\n",
       "      <th></th>\n",
       "      <th></th>\n",
       "      <th></th>\n",
       "      <th></th>\n",
       "      <th></th>\n",
       "      <th></th>\n",
       "      <th></th>\n",
       "      <th></th>\n",
       "      <th></th>\n",
       "      <th></th>\n",
       "      <th></th>\n",
       "      <th></th>\n",
       "      <th></th>\n",
       "      <th></th>\n",
       "      <th></th>\n",
       "      <th></th>\n",
       "      <th></th>\n",
       "      <th></th>\n",
       "      <th></th>\n",
       "      <th></th>\n",
       "    </tr>\n",
       "  </thead>\n",
       "  <tbody>\n",
       "    <tr>\n",
       "      <th>2020-02-12 11:30:27</th>\n",
       "      <td>2/12/2020 11:30:27 AM</td>\n",
       "      <td>240.0706</td>\n",
       "      <td>28.651067</td>\n",
       "      <td>32.329288</td>\n",
       "      <td>30.131769</td>\n",
       "      <td>8.32542</td>\n",
       "      <td>10.983446</td>\n",
       "      <td>13.566287</td>\n",
       "      <td>14.512237</td>\n",
       "      <td>22.224464</td>\n",
       "      <td>...</td>\n",
       "      <td>1.56294</td>\n",
       "      <td>539.726783</td>\n",
       "      <td>0.128991</td>\n",
       "      <td>0.757882</td>\n",
       "      <td>59928.373313</td>\n",
       "      <td>1.254132</td>\n",
       "      <td>1.244276</td>\n",
       "      <td>3.387744e+06</td>\n",
       "      <td>1.56076</td>\n",
       "      <td>1.113235</td>\n",
       "    </tr>\n",
       "  </tbody>\n",
       "</table>\n",
       "<p>1 rows × 150 columns</p>\n",
       "</div>"
      ],
      "text/plain": [
       "                                      Time  Magnet Current [A]  \\\n",
       "Datetime                                                         \n",
       "2020-02-12 11:30:27  2/12/2020 11:30:27 AM            240.0706   \n",
       "\n",
       "                     Magnet Voltage [V]  Coil 1 (new)  Coil 2 (old)  \\\n",
       "Datetime                                                              \n",
       "2020-02-12 11:30:27           28.651067     32.329288     30.131769   \n",
       "\n",
       "                     LCW in Coil1  LCW out Coil 1  LCW in Coil 2  \\\n",
       "Datetime                                                           \n",
       "2020-02-12 11:30:27       8.32542       10.983446      13.566287   \n",
       "\n",
       "                     LCW out Coil 2       Yoke            ...             \\\n",
       "Datetime                                                  ...              \n",
       "2020-02-12 11:30:27       14.512237  22.224464            ...              \n",
       "\n",
       "                     DF0000000D5E803A_Cal_Phi  \\\n",
       "Datetime                                        \n",
       "2020-02-12 11:30:27                   1.56294   \n",
       "\n",
       "                     6A0000000D61333A_Raw_Transverse  \\\n",
       "Datetime                                               \n",
       "2020-02-12 11:30:27                       539.726783   \n",
       "\n",
       "                     6A0000000D61333A_Raw_Theta  6A0000000D61333A_Raw_Phi  \\\n",
       "Datetime                                                                    \n",
       "2020-02-12 11:30:27                    0.128991                  0.757882   \n",
       "\n",
       "                     C50000000D5E473A_Raw_Transverse  \\\n",
       "Datetime                                               \n",
       "2020-02-12 11:30:27                     59928.373313   \n",
       "\n",
       "                     C50000000D5E473A_Raw_Theta  C50000000D5E473A_Raw_Phi  \\\n",
       "Datetime                                                                    \n",
       "2020-02-12 11:30:27                    1.254132                  1.244276   \n",
       "\n",
       "                     DF0000000D5E803A_Raw_Transverse  \\\n",
       "Datetime                                               \n",
       "2020-02-12 11:30:27                     3.387744e+06   \n",
       "\n",
       "                     DF0000000D5E803A_Raw_Theta  DF0000000D5E803A_Raw_Phi  \n",
       "Datetime                                                                   \n",
       "2020-02-12 11:30:27                     1.56076                  1.113235  \n",
       "\n",
       "[1 rows x 150 columns]"
      ]
     },
     "execution_count": 30,
     "metadata": {},
     "output_type": "execute_result"
    }
   ],
   "source": [
    "df.tail(1)"
   ]
  },
  {
   "cell_type": "code",
   "execution_count": 31,
   "metadata": {
    "scrolled": true
   },
   "outputs": [
    {
     "data": {
      "text/plain": [
       "23019"
      ]
     },
     "execution_count": 31,
     "metadata": {},
     "output_type": "execute_result"
    }
   ],
   "source": [
    "len(df)"
   ]
  },
  {
   "cell_type": "code",
   "execution_count": 32,
   "metadata": {},
   "outputs": [
    {
     "data": {
      "text/plain": [
       "13.321180555555555"
      ]
     },
     "execution_count": 32,
     "metadata": {},
     "output_type": "execute_result"
    }
   ],
   "source": [
    "len(df) * 50 / 60 / 60 / 24"
   ]
  },
  {
   "cell_type": "code",
   "execution_count": null,
   "metadata": {},
   "outputs": [],
   "source": []
  },
  {
   "cell_type": "code",
   "execution_count": 33,
   "metadata": {},
   "outputs": [],
   "source": [
    "fig = histo(df[\"NMR [T]\"], bins=50, inline=False)"
   ]
  },
  {
   "cell_type": "code",
   "execution_count": null,
   "metadata": {},
   "outputs": [],
   "source": []
  },
  {
   "cell_type": "code",
   "execution_count": 34,
   "metadata": {},
   "outputs": [],
   "source": [
    "fig = scatter2d(3*[df.index], [df[col+\"_Cal_Bmag\"] for col in probes], inline=False);"
   ]
  },
  {
   "cell_type": "code",
   "execution_count": 35,
   "metadata": {},
   "outputs": [],
   "source": [
    "fig = scatter2d(2*[df.index], [df[\"NMR [T]\"], df[f\"{probe}_Cal_Bmag\"]], show_plot=False);"
   ]
  },
  {
   "cell_type": "code",
   "execution_count": 36,
   "metadata": {},
   "outputs": [
    {
     "data": {
      "text/plain": [
       "'temp-plot.html'"
      ]
     },
     "execution_count": 36,
     "metadata": {},
     "output_type": "execute_result"
    }
   ],
   "source": [
    "plot(fig)"
   ]
  },
  {
   "cell_type": "code",
   "execution_count": 37,
   "metadata": {},
   "outputs": [],
   "source": [
    "fig = scatter2d(df.index, df[f\"{probe}_Cal_Res_Rel\"], show_plot=False);"
   ]
  },
  {
   "cell_type": "code",
   "execution_count": 38,
   "metadata": {},
   "outputs": [
    {
     "data": {
      "text/plain": [
       "'temp-plot.html'"
      ]
     },
     "execution_count": 38,
     "metadata": {},
     "output_type": "execute_result"
    }
   ],
   "source": [
    "plot(fig)"
   ]
  },
  {
   "cell_type": "code",
   "execution_count": 39,
   "metadata": {},
   "outputs": [],
   "source": [
    "fig = scatter2d(df[f\"{probe}_Cal_T\"], df[f\"{probe}_Cal_Res_Rel\"], df.days_delta, inline=False);"
   ]
  },
  {
   "cell_type": "code",
   "execution_count": 40,
   "metadata": {},
   "outputs": [],
   "source": [
    "fig = scatter2d(df[\"Roof\"], df[f\"{probe}_Cal_Res_Rel\"], df.days_delta, inline=False);"
   ]
  },
  {
   "cell_type": "markdown",
   "metadata": {},
   "source": [
    "~ -2e-4 change in residual after changing temperature (+7 deg C)."
   ]
  },
  {
   "cell_type": "markdown",
   "metadata": {},
   "source": [
    "**(old, early Run06)**\n",
    "~ -5e-5 change in residual after changing temperature (+4 deg C)."
   ]
  },
  {
   "cell_type": "code",
   "execution_count": 41,
   "metadata": {},
   "outputs": [
    {
     "data": {
      "text/plain": [
       "'temp-plot.html'"
      ]
     },
     "execution_count": 41,
     "metadata": {},
     "output_type": "execute_result"
    }
   ],
   "source": [
    "fig = histo(df[f\"{probe}_Cal_Res_Rel\"], bins=75, show_plot=False);\n",
    "plot(fig)\n",
    "#fig = histo(df[f\"{probe}_Cal_Res_Rel\"], bins=50, yscale='log')"
   ]
  },
  {
   "cell_type": "code",
   "execution_count": 42,
   "metadata": {},
   "outputs": [],
   "source": [
    "df[\"day\"] = df.index.day"
   ]
  },
  {
   "cell_type": "code",
   "execution_count": 43,
   "metadata": {},
   "outputs": [],
   "source": [
    "fig = px.histogram(df, x=f\"{probe}_Cal_Res_Rel\", color=\"day\")"
   ]
  },
  {
   "cell_type": "code",
   "execution_count": 44,
   "metadata": {},
   "outputs": [],
   "source": [
    "fig.update_layout(\n",
    "    autosize=False,\n",
    "    width=1800,\n",
    "    height=800\n",
    "    #margin=dict(l=20, r=20, t=20, b=20),\n",
    "    #padding=dict(l=20, r=20, t=20, b=20),\n",
    "    #paper_bgcolor=\"LightSteelBlue\",\n",
    ");"
   ]
  },
  {
   "cell_type": "code",
   "execution_count": 45,
   "metadata": {},
   "outputs": [],
   "source": [
    "#fig.show()"
   ]
  },
  {
   "cell_type": "code",
   "execution_count": 46,
   "metadata": {},
   "outputs": [
    {
     "data": {
      "text/plain": [
       "'temp-plot.html'"
      ]
     },
     "execution_count": 46,
     "metadata": {},
     "output_type": "execute_result"
    }
   ],
   "source": [
    "plot(fig)"
   ]
  },
  {
   "cell_type": "markdown",
   "metadata": {
    "heading_collapsed": true
   },
   "source": [
    "### Temps"
   ]
  },
  {
   "cell_type": "code",
   "execution_count": 47,
   "metadata": {
    "hidden": true
   },
   "outputs": [],
   "source": [
    "temps_ch = [a for a in df.columns if (\"CH\" in a) and int(a[-2:])<21]# or \"HVAC\" in a]\n",
    "temps_ch.append(\"Hall Element\")\n",
    "temps_ch.append(\"Floor\")\n",
    "temps_ch.append(\"Roof\")\n",
    "temps_ch.append(\"Yoke\")\n",
    "temps_ch.append(\"Yoke (center magnet)\")\n",
    "temps_ch.append(f\"{probe}_Cal_T\")"
   ]
  },
  {
   "cell_type": "code",
   "execution_count": 48,
   "metadata": {
    "hidden": true
   },
   "outputs": [],
   "source": [
    "#temps_ch"
   ]
  },
  {
   "cell_type": "code",
   "execution_count": 49,
   "metadata": {
    "hidden": true
   },
   "outputs": [],
   "source": [
    "fig = scatter2d([df.index for c in temps_ch],[df[c] for c in temps_ch],inline=True, show_plot=False);\n",
    "fig.layout.title = \"Temp vs. Datetime\"\n",
    "fig.layout.yaxis.title = \"Temp [deg. C]\";"
   ]
  },
  {
   "cell_type": "code",
   "execution_count": 50,
   "metadata": {
    "hidden": true
   },
   "outputs": [
    {
     "data": {
      "text/plain": [
       "'/home/ckampa/Coding/hallprobecalib_extras/plots/hall_probe_stability/2020-01-27/time/temps/temps_scatter_full.html'"
      ]
     },
     "execution_count": 50,
     "metadata": {},
     "output_type": "execute_result"
    }
   ],
   "source": [
    "#fname = 'temps_scatter'\n",
    "fname = 'time/temps/temps_scatter_full'\n",
    "pio.write_image(fig, plotdir+fname+'.pdf')\n",
    "pio.write_image(fig, plotdir+fname+'.png')\n",
    "plot(fig, filename=plotdir+fname+'.html', auto_open=False)"
   ]
  },
  {
   "cell_type": "code",
   "execution_count": 51,
   "metadata": {
    "hidden": true
   },
   "outputs": [
    {
     "data": {
      "text/plain": [
       "'temp-plot.html'"
      ]
     },
     "execution_count": 51,
     "metadata": {},
     "output_type": "execute_result"
    }
   ],
   "source": [
    "plot(fig)"
   ]
  },
  {
   "cell_type": "code",
   "execution_count": 56,
   "metadata": {
    "hidden": true
   },
   "outputs": [],
   "source": [
    "temps_water = [col for col in df.columns if (\"ICW\" in col) or (\"LCW\" in col)]"
   ]
  },
  {
   "cell_type": "code",
   "execution_count": 105,
   "metadata": {
    "hidden": true
   },
   "outputs": [],
   "source": [
    "#temps_water"
   ]
  },
  {
   "cell_type": "code",
   "execution_count": 57,
   "metadata": {
    "hidden": true
   },
   "outputs": [],
   "source": [
    "fig = scatter2d([df.index for c in temps_water],[df[c] for c in temps_water],inline=True, show_plot=False);\n",
    "fig.layout.title = \"Water Temp vs. Datetime\"\n",
    "fig.layout.yaxis.title = \"Temp [deg. C]\""
   ]
  },
  {
   "cell_type": "code",
   "execution_count": 58,
   "metadata": {
    "hidden": true
   },
   "outputs": [
    {
     "data": {
      "text/plain": [
       "'temp-plot.html'"
      ]
     },
     "execution_count": 58,
     "metadata": {},
     "output_type": "execute_result"
    }
   ],
   "source": [
    "#fig.show()\n",
    "plot(fig)"
   ]
  },
  {
   "cell_type": "code",
   "execution_count": 59,
   "metadata": {
    "hidden": true
   },
   "outputs": [
    {
     "data": {
      "text/plain": [
       "'/home/ckampa/Coding/hallprobecalib_extras/plots/hall_probe_stability/2020-01-27/time/temps/temps_scatter_water.html'"
      ]
     },
     "execution_count": 59,
     "metadata": {},
     "output_type": "execute_result"
    }
   ],
   "source": [
    "#fname = 'temps_scatter'\n",
    "fname = 'time/temps/temps_scatter_water'\n",
    "pio.write_image(fig, plotdir+fname+'.pdf')\n",
    "pio.write_image(fig, plotdir+fname+'.png')\n",
    "plot(fig, filename=plotdir+fname+'.html', auto_open=False)"
   ]
  },
  {
   "cell_type": "code",
   "execution_count": 60,
   "metadata": {
    "hidden": true
   },
   "outputs": [],
   "source": [
    "temps_ambient = [col for col in df.columns if (\"Ambient\" in col)]\n",
    "#temps_ambient"
   ]
  },
  {
   "cell_type": "code",
   "execution_count": 61,
   "metadata": {
    "hidden": true
   },
   "outputs": [
    {
     "data": {
      "text/plain": [
       "'temp-plot.html'"
      ]
     },
     "execution_count": 61,
     "metadata": {},
     "output_type": "execute_result"
    }
   ],
   "source": [
    "fig = scatter2d([df.index for c in temps_ambient],[df[c] for c in temps_ambient],inline=True, show_plot=False);\n",
    "fig.layout.title = \"Ambient Temp vs. Datetime\"\n",
    "fig.layout.yaxis.title = \"Temp [deg. C]\"\n",
    "#fig.show()\n",
    "plot(fig)"
   ]
  },
  {
   "cell_type": "code",
   "execution_count": 62,
   "metadata": {
    "hidden": true
   },
   "outputs": [
    {
     "data": {
      "text/plain": [
       "'/home/ckampa/Coding/hallprobecalib_extras/plots/hall_probe_stability/2020-01-27/time/temps/temps_scatter_ambient.html'"
      ]
     },
     "execution_count": 62,
     "metadata": {},
     "output_type": "execute_result"
    }
   ],
   "source": [
    "#fname = 'temps_scatter'\n",
    "fname = 'time/temps/temps_scatter_ambient'\n",
    "pio.write_image(fig, plotdir+fname+'.pdf')\n",
    "pio.write_image(fig, plotdir+fname+'.png')\n",
    "plot(fig, filename=plotdir+fname+'.html', auto_open=False)"
   ]
  },
  {
   "cell_type": "code",
   "execution_count": 63,
   "metadata": {
    "hidden": true
   },
   "outputs": [],
   "source": [
    "temps_magnet = [col for col in df.columns if ((\"PS\" in col) or (\"Coil\" in col) or (\"Yoke\" in col)) and (\"Orange\" not in col)]\n",
    "#temps_magnet"
   ]
  },
  {
   "cell_type": "code",
   "execution_count": 64,
   "metadata": {
    "hidden": true
   },
   "outputs": [
    {
     "data": {
      "text/plain": [
       "'temp-plot.html'"
      ]
     },
     "execution_count": 64,
     "metadata": {},
     "output_type": "execute_result"
    }
   ],
   "source": [
    "fig = scatter2d([df.index for c in temps_magnet],[df[c] for c in temps_magnet],inline=True, show_plot=False);\n",
    "fig.layout.title = \"Magnet Temp vs. Datetime\"\n",
    "fig.layout.yaxis.title = \"Temp [deg. C]\"\n",
    "#fig.show()\n",
    "plot(fig)"
   ]
  },
  {
   "cell_type": "code",
   "execution_count": 65,
   "metadata": {
    "hidden": true
   },
   "outputs": [
    {
     "data": {
      "text/plain": [
       "'/home/ckampa/Coding/hallprobecalib_extras/plots/hall_probe_stability/2020-01-27/time/temps/temps_scatter_magnet.html'"
      ]
     },
     "execution_count": 65,
     "metadata": {},
     "output_type": "execute_result"
    }
   ],
   "source": [
    "#fname = 'temps_scatter'\n",
    "fname = 'time/temps/temps_scatter_magnet'\n",
    "pio.write_image(fig, plotdir+fname+'.pdf')\n",
    "pio.write_image(fig, plotdir+fname+'.png')\n",
    "plot(fig, filename=plotdir+fname+'.html', auto_open=False)"
   ]
  },
  {
   "cell_type": "markdown",
   "metadata": {},
   "source": [
    "## Seeing Temperature Corrections"
   ]
  },
  {
   "cell_type": "code",
   "execution_count": 66,
   "metadata": {},
   "outputs": [],
   "source": [
    "fig = scatter2d(df[f\"{probe}_Cal_T\"], df[\"NMR [T]\"], df.days_delta, show_plot=False)"
   ]
  },
  {
   "cell_type": "code",
   "execution_count": 67,
   "metadata": {},
   "outputs": [
    {
     "data": {
      "text/plain": [
       "'temp-plot.html'"
      ]
     },
     "execution_count": 67,
     "metadata": {},
     "output_type": "execute_result"
    }
   ],
   "source": [
    "plot(fig)"
   ]
  },
  {
   "cell_type": "code",
   "execution_count": 68,
   "metadata": {},
   "outputs": [],
   "source": [
    "fig = scatter2d(df[f\"{probe}_Cal_T\"], df[f\"{probe}_Cal_Bmag\"] / df[\"NMR [T]\"], df.days_delta, inline=False)"
   ]
  },
  {
   "cell_type": "code",
   "execution_count": 69,
   "metadata": {},
   "outputs": [],
   "source": [
    "fig = scatter2d(df[f\"{probe}_Cal_T\"], df[f\"{probe}_Raw_Bmag\"] / df[\"NMR [T]\"], df.days_delta, inline=False)"
   ]
  },
  {
   "cell_type": "code",
   "execution_count": 70,
   "metadata": {},
   "outputs": [],
   "source": [
    "fig = scatter2d(df[f\"{probe}_Cal_T\"], df[f\"{probe}_Raw_Bmag\"], df.days_delta, inline=False)"
   ]
  },
  {
   "cell_type": "code",
   "execution_count": 71,
   "metadata": {},
   "outputs": [],
   "source": [
    "fig = scatter2d(3*[df[f\"{probe}_Cal_T\"]], [df[f\"{probe}_Raw_{comp}\"] / df[\"NMR [T]\"] for comp in [\"X\",\"Y\",\"Z\"]],\n",
    "                3*[df.days_delta], inline=False)"
   ]
  },
  {
   "cell_type": "code",
   "execution_count": 72,
   "metadata": {},
   "outputs": [],
   "source": [
    "fig = scatter2d(df.index, df[f\"{probe}_Raw_Theta\"], df.days_delta, inline=False)"
   ]
  },
  {
   "cell_type": "code",
   "execution_count": 73,
   "metadata": {},
   "outputs": [],
   "source": [
    "fig = scatter2d(df.index, df[f\"{probe}_Raw_Phi\"], df.days_delta, inline=False)"
   ]
  },
  {
   "cell_type": "markdown",
   "metadata": {},
   "source": [
    "### Fit!"
   ]
  },
  {
   "cell_type": "code",
   "execution_count": 52,
   "metadata": {},
   "outputs": [],
   "source": [
    "df = df[df[\"NMR [T]\"] != 0]"
   ]
  },
  {
   "cell_type": "code",
   "execution_count": 53,
   "metadata": {},
   "outputs": [],
   "source": [
    "def volt(temp, A, B):\n",
    "    return A * temp + B"
   ]
  },
  {
   "cell_type": "code",
   "execution_count": 54,
   "metadata": {},
   "outputs": [],
   "source": [
    "guess = np.array([-1300 / 3.5, 2e6]) # A, B"
   ]
  },
  {
   "cell_type": "code",
   "execution_count": 55,
   "metadata": {},
   "outputs": [],
   "source": [
    "x_dat = df[f\"{probe}_Cal_T\"]\n",
    "#x_dat = df[stable_temp][f\"{probe}_Cal_T\"]"
   ]
  },
  {
   "cell_type": "code",
   "execution_count": 56,
   "metadata": {},
   "outputs": [],
   "source": [
    "params, cov = optimization.curve_fit(volt, x_dat, df[f\"{probe}_Raw_Bmag\"] / df[\"NMR [T]\"], guess)\n",
    "#params, cov = optimization.curve_fit(volt, x_dat, \n",
    "#                                     df[stable_temp][f\"{probe}_Raw_Bmag\"] / df[stable_temp][\"NMR [T]\"], guess)"
   ]
  },
  {
   "cell_type": "code",
   "execution_count": 57,
   "metadata": {},
   "outputs": [
    {
     "data": {
      "text/plain": [
       "(array([-1.18040565e+03,  2.83879530e+06]), array([[ 0.04191652, -0.88642618],\n",
       "        [-0.88642618, 19.31005472]]))"
      ]
     },
     "execution_count": 57,
     "metadata": {},
     "output_type": "execute_result"
    }
   ],
   "source": [
    "params, cov"
   ]
  },
  {
   "cell_type": "code",
   "execution_count": 58,
   "metadata": {},
   "outputs": [
    {
     "data": {
      "text/plain": [
       "0.20473523980511196"
      ]
     },
     "execution_count": 58,
     "metadata": {},
     "output_type": "execute_result"
    }
   ],
   "source": [
    "np.sqrt(cov[0,0])"
   ]
  },
  {
   "cell_type": "code",
   "execution_count": 59,
   "metadata": {},
   "outputs": [
    {
     "data": {
      "text/plain": [
       "-0.985276720331901"
      ]
     },
     "execution_count": 59,
     "metadata": {},
     "output_type": "execute_result"
    }
   ],
   "source": [
    "cov[0,1] / (np.sqrt(cov[0,0])*np.sqrt(cov[1,1]))"
   ]
  },
  {
   "cell_type": "markdown",
   "metadata": {},
   "source": [
    "Parameters have strong correlation"
   ]
  },
  {
   "cell_type": "code",
   "execution_count": 60,
   "metadata": {},
   "outputs": [],
   "source": [
    "A_fit, B_fit = params"
   ]
  },
  {
   "cell_type": "code",
   "execution_count": 61,
   "metadata": {},
   "outputs": [],
   "source": [
    "df[\"Bmag_lsq\"] = volt(x_dat, A_fit, B_fit)"
   ]
  },
  {
   "cell_type": "code",
   "execution_count": 84,
   "metadata": {},
   "outputs": [
    {
     "data": {
      "text/plain": [
       "'temp-plot.html'"
      ]
     },
     "execution_count": 84,
     "metadata": {},
     "output_type": "execute_result"
    }
   ],
   "source": [
    "fig = scatter2d(df[f\"{probe}_Cal_T\"], df[f\"{probe}_Raw_Bmag\"] / df[\"NMR [T]\"], df.days_delta, show_plot=False)\n",
    "#d = [df[f\"{probe}_Raw_X\"].min(), df[f\"{probe}_Raw_X\"].max()]\n",
    "fig.add_trace(go.Scatter(\n",
    "                    x=df[f\"{probe}_Cal_T\"], y=df[\"Bmag_lsq\"],\n",
    "                    mode='lines', name=\"unity\",\n",
    "                    line=dict(color='deeppink', width=2,\n",
    "                              dash='dash')));\n",
    "plot(fig)"
   ]
  },
  {
   "cell_type": "code",
   "execution_count": 85,
   "metadata": {},
   "outputs": [],
   "source": [
    "fig.update_traces(marker=dict(size=5));\n",
    "plot(fig);"
   ]
  },
  {
   "cell_type": "markdown",
   "metadata": {},
   "source": [
    "Bmag fit looks pretty good so far (4 data points)."
   ]
  },
  {
   "cell_type": "markdown",
   "metadata": {},
   "source": [
    "## Aggregate data"
   ]
  },
  {
   "cell_type": "code",
   "execution_count": 86,
   "metadata": {},
   "outputs": [],
   "source": [
    "#df[\"Floor\"].diff(5).rolling(5).mean().head()"
   ]
  },
  {
   "cell_type": "code",
   "execution_count": 62,
   "metadata": {},
   "outputs": [],
   "source": [
    "#fig = scatter2d(df.index, df[\"Floor\"].diff(5).rolling(5).mean(), inline=False)\n",
    "fig = scatter2d(2*[df.index], [df[\"Floor\"],df[\"Floor\"].diff(5).rolling(5).mean()], inline=False)"
   ]
  },
  {
   "cell_type": "code",
   "execution_count": 63,
   "metadata": {},
   "outputs": [],
   "source": [
    "#stable_temp = (abs(df[\"Floor\"].diff(5).rolling(5).mean()) < 0.008) #| (np.isnan(df[\"Floor\"].diff(5)))\n",
    "stable_temp = (abs(df[\"Floor\"].diff(5).rolling(5).mean()) < 0.025) #| (np.isnan(df[\"Floor\"].diff(5)))"
   ]
  },
  {
   "cell_type": "code",
   "execution_count": 64,
   "metadata": {},
   "outputs": [],
   "source": [
    "df_ = df[stable_temp]"
   ]
  },
  {
   "cell_type": "code",
   "execution_count": 65,
   "metadata": {},
   "outputs": [
    {
     "data": {
      "text/plain": [
       "(23019, 22119)"
      ]
     },
     "execution_count": 65,
     "metadata": {},
     "output_type": "execute_result"
    }
   ],
   "source": [
    "len(df), len(df_)"
   ]
  },
  {
   "cell_type": "code",
   "execution_count": 66,
   "metadata": {},
   "outputs": [
    {
     "data": {
      "text/html": [
       "<div>\n",
       "<style scoped>\n",
       "    .dataframe tbody tr th:only-of-type {\n",
       "        vertical-align: middle;\n",
       "    }\n",
       "\n",
       "    .dataframe tbody tr th {\n",
       "        vertical-align: top;\n",
       "    }\n",
       "\n",
       "    .dataframe thead th {\n",
       "        text-align: right;\n",
       "    }\n",
       "</style>\n",
       "<table border=\"1\" class=\"dataframe\">\n",
       "  <thead>\n",
       "    <tr style=\"text-align: right;\">\n",
       "      <th></th>\n",
       "      <th>Time</th>\n",
       "      <th>Magnet Current [A]</th>\n",
       "      <th>Magnet Voltage [V]</th>\n",
       "      <th>Coil 1 (new)</th>\n",
       "      <th>Coil 2 (old)</th>\n",
       "      <th>LCW in Coil1</th>\n",
       "      <th>LCW out Coil 1</th>\n",
       "      <th>LCW in Coil 2</th>\n",
       "      <th>LCW out Coil 2</th>\n",
       "      <th>Yoke</th>\n",
       "      <th>...</th>\n",
       "      <th>6A0000000D61333A_Raw_Theta</th>\n",
       "      <th>6A0000000D61333A_Raw_Phi</th>\n",
       "      <th>C50000000D5E473A_Raw_Transverse</th>\n",
       "      <th>C50000000D5E473A_Raw_Theta</th>\n",
       "      <th>C50000000D5E473A_Raw_Phi</th>\n",
       "      <th>DF0000000D5E803A_Raw_Transverse</th>\n",
       "      <th>DF0000000D5E803A_Raw_Theta</th>\n",
       "      <th>DF0000000D5E803A_Raw_Phi</th>\n",
       "      <th>day</th>\n",
       "      <th>Bmag_lsq</th>\n",
       "    </tr>\n",
       "    <tr>\n",
       "      <th>Datetime</th>\n",
       "      <th></th>\n",
       "      <th></th>\n",
       "      <th></th>\n",
       "      <th></th>\n",
       "      <th></th>\n",
       "      <th></th>\n",
       "      <th></th>\n",
       "      <th></th>\n",
       "      <th></th>\n",
       "      <th></th>\n",
       "      <th></th>\n",
       "      <th></th>\n",
       "      <th></th>\n",
       "      <th></th>\n",
       "      <th></th>\n",
       "      <th></th>\n",
       "      <th></th>\n",
       "      <th></th>\n",
       "      <th></th>\n",
       "      <th></th>\n",
       "      <th></th>\n",
       "    </tr>\n",
       "  </thead>\n",
       "  <tbody>\n",
       "    <tr>\n",
       "      <th>2020-02-12 10:43:26</th>\n",
       "      <td>2/12/2020 10:43:26 AM</td>\n",
       "      <td>240.070883</td>\n",
       "      <td>28.632033</td>\n",
       "      <td>31.722984</td>\n",
       "      <td>29.564817</td>\n",
       "      <td>8.06336</td>\n",
       "      <td>10.695252</td>\n",
       "      <td>13.167009</td>\n",
       "      <td>14.173713</td>\n",
       "      <td>21.753210</td>\n",
       "      <td>...</td>\n",
       "      <td>0.130385</td>\n",
       "      <td>0.723302</td>\n",
       "      <td>59932.263006</td>\n",
       "      <td>1.252390</td>\n",
       "      <td>1.245125</td>\n",
       "      <td>3.391588e+06</td>\n",
       "      <td>1.562459</td>\n",
       "      <td>1.113487</td>\n",
       "      <td>12</td>\n",
       "      <td>2.809498e+06</td>\n",
       "    </tr>\n",
       "    <tr>\n",
       "      <th>2020-02-12 10:44:26</th>\n",
       "      <td>2/12/2020 10:44:26 AM</td>\n",
       "      <td>240.070940</td>\n",
       "      <td>28.632233</td>\n",
       "      <td>31.783482</td>\n",
       "      <td>29.606745</td>\n",
       "      <td>8.10455</td>\n",
       "      <td>10.739941</td>\n",
       "      <td>13.157190</td>\n",
       "      <td>14.219605</td>\n",
       "      <td>21.770008</td>\n",
       "      <td>...</td>\n",
       "      <td>0.117138</td>\n",
       "      <td>0.893853</td>\n",
       "      <td>59994.372544</td>\n",
       "      <td>1.252968</td>\n",
       "      <td>1.244613</td>\n",
       "      <td>3.391355e+06</td>\n",
       "      <td>1.562461</td>\n",
       "      <td>1.113479</td>\n",
       "      <td>12</td>\n",
       "      <td>2.809295e+06</td>\n",
       "    </tr>\n",
       "  </tbody>\n",
       "</table>\n",
       "<p>2 rows × 152 columns</p>\n",
       "</div>"
      ],
      "text/plain": [
       "                                      Time  Magnet Current [A]  \\\n",
       "Datetime                                                         \n",
       "2020-02-12 10:43:26  2/12/2020 10:43:26 AM          240.070883   \n",
       "2020-02-12 10:44:26  2/12/2020 10:44:26 AM          240.070940   \n",
       "\n",
       "                     Magnet Voltage [V]  Coil 1 (new)  Coil 2 (old)  \\\n",
       "Datetime                                                              \n",
       "2020-02-12 10:43:26           28.632033     31.722984     29.564817   \n",
       "2020-02-12 10:44:26           28.632233     31.783482     29.606745   \n",
       "\n",
       "                     LCW in Coil1  LCW out Coil 1  LCW in Coil 2  \\\n",
       "Datetime                                                           \n",
       "2020-02-12 10:43:26       8.06336       10.695252      13.167009   \n",
       "2020-02-12 10:44:26       8.10455       10.739941      13.157190   \n",
       "\n",
       "                     LCW out Coil 2       Yoke      ...       \\\n",
       "Datetime                                            ...        \n",
       "2020-02-12 10:43:26       14.173713  21.753210      ...        \n",
       "2020-02-12 10:44:26       14.219605  21.770008      ...        \n",
       "\n",
       "                     6A0000000D61333A_Raw_Theta  6A0000000D61333A_Raw_Phi  \\\n",
       "Datetime                                                                    \n",
       "2020-02-12 10:43:26                    0.130385                  0.723302   \n",
       "2020-02-12 10:44:26                    0.117138                  0.893853   \n",
       "\n",
       "                     C50000000D5E473A_Raw_Transverse  \\\n",
       "Datetime                                               \n",
       "2020-02-12 10:43:26                     59932.263006   \n",
       "2020-02-12 10:44:26                     59994.372544   \n",
       "\n",
       "                     C50000000D5E473A_Raw_Theta  C50000000D5E473A_Raw_Phi  \\\n",
       "Datetime                                                                    \n",
       "2020-02-12 10:43:26                    1.252390                  1.245125   \n",
       "2020-02-12 10:44:26                    1.252968                  1.244613   \n",
       "\n",
       "                     DF0000000D5E803A_Raw_Transverse  \\\n",
       "Datetime                                               \n",
       "2020-02-12 10:43:26                     3.391588e+06   \n",
       "2020-02-12 10:44:26                     3.391355e+06   \n",
       "\n",
       "                     DF0000000D5E803A_Raw_Theta  DF0000000D5E803A_Raw_Phi  \\\n",
       "Datetime                                                                    \n",
       "2020-02-12 10:43:26                    1.562459                  1.113487   \n",
       "2020-02-12 10:44:26                    1.562461                  1.113479   \n",
       "\n",
       "                     day      Bmag_lsq  \n",
       "Datetime                                \n",
       "2020-02-12 10:43:26   12  2.809498e+06  \n",
       "2020-02-12 10:44:26   12  2.809295e+06  \n",
       "\n",
       "[2 rows x 152 columns]"
      ]
     },
     "execution_count": 66,
     "metadata": {},
     "output_type": "execute_result"
    }
   ],
   "source": [
    "df_.tail(2)"
   ]
  },
  {
   "cell_type": "code",
   "execution_count": 67,
   "metadata": {},
   "outputs": [],
   "source": [
    "fig = scatter2d(df[stable_temp][f\"{probe}_Cal_T\"],\n",
    "                df[stable_temp][f\"{probe}_Raw_Bmag\"] / df[stable_temp][\"NMR [T]\"],\n",
    "                df[stable_temp].days_delta, show_plot=False)\n",
    "#d = [df[f\"{probe}_Raw_X\"].min(), df[f\"{probe}_Raw_X\"].max()]\n",
    "fig.add_trace(go.Scatter(\n",
    "                    x=df[stable_temp][f\"{probe}_Cal_T\"], y=df[stable_temp][\"Bmag_lsq\"],\n",
    "                    mode='lines', name=\"unity\",\n",
    "                    line=dict(color='deeppink', width=2,\n",
    "                              dash='dash')));\n",
    "#plot(fig)\n",
    "\n",
    "fig.update_traces(marker=dict(size=5));\n",
    "plot(fig);"
   ]
  },
  {
   "cell_type": "code",
   "execution_count": 68,
   "metadata": {},
   "outputs": [],
   "source": [
    "phi0 = df_.iloc[0][f\"{probe}_Raw_Phi\"]\n",
    "theta0 = df_.iloc[0][f\"{probe}_Raw_Theta\"]"
   ]
  },
  {
   "cell_type": "code",
   "execution_count": 69,
   "metadata": {},
   "outputs": [],
   "source": [
    "df_[\"ANGLE\"] = np.sqrt((df_[f\"{probe}_Raw_Theta\"]-theta0)**2 + (df_[f\"{probe}_Raw_Phi\"]-phi0)**2)"
   ]
  },
  {
   "cell_type": "code",
   "execution_count": 70,
   "metadata": {},
   "outputs": [],
   "source": [
    "fig = scatter2d(df_[\"ANGLE\"], df_[f'{probe}_Cal_Res_Rel'],df_.days_delta, inline=False)"
   ]
  },
  {
   "cell_type": "code",
   "execution_count": 71,
   "metadata": {},
   "outputs": [],
   "source": [
    "fig = scatter2d(df_[f'{probe}_Raw_Theta'], df_[f'{probe}_Cal_Res_Rel'],df_.days_delta, inline=False)"
   ]
  },
  {
   "cell_type": "code",
   "execution_count": null,
   "metadata": {},
   "outputs": [],
   "source": []
  },
  {
   "cell_type": "code",
   "execution_count": 64,
   "metadata": {},
   "outputs": [],
   "source": [
    "## NEW, do all at once"
   ]
  },
  {
   "cell_type": "code",
   "execution_count": 72,
   "metadata": {},
   "outputs": [],
   "source": [
    "df_[\"Scaled Hall Voltage\"] = df_[f\"{probe}_Raw_Bmag\"] / df_[\"NMR [T]\"] * df_[\"NMR [T]\"].iloc[0]\n",
    "df_[\"Scaled Hall X\"] = df_[f\"{probe}_Raw_X\"] / df_[\"NMR [T]\"] * df_[\"NMR [T]\"].iloc[0]\n",
    "df_[\"Scaled Hall Y\"] = df_[f\"{probe}_Raw_Y\"] / df_[\"NMR [T]\"] * df_[\"NMR [T]\"].iloc[0]\n",
    "df_[\"Scaled Hall Z\"] = df_[f\"{probe}_Raw_Z\"] / df_[\"NMR [T]\"] * df_[\"NMR [T]\"].iloc[0]"
   ]
  },
  {
   "cell_type": "code",
   "execution_count": 90,
   "metadata": {},
   "outputs": [],
   "source": [
    "w = 0.3\n",
    "ts = np.array([15.9, 17.7, 19.3, 21.2, 22.75, 24.58, 26.1])#16.0,16.8,18.6,20.3,22.0,23.8,25.35,27.0,28.0])\n",
    "ts_h = ts + w\n",
    "ts_l = ts - w"
   ]
  },
  {
   "cell_type": "code",
   "execution_count": 91,
   "metadata": {},
   "outputs": [
    {
     "data": {
      "text/plain": [
       "array([15.6 , 17.4 , 19.  , 20.9 , 22.45, 24.28, 25.8 ])"
      ]
     },
     "execution_count": 91,
     "metadata": {},
     "output_type": "execute_result"
    }
   ],
   "source": [
    "ts_l"
   ]
  },
  {
   "cell_type": "code",
   "execution_count": 92,
   "metadata": {},
   "outputs": [
    {
     "data": {
      "text/plain": [
       "array([16.2 , 18.  , 19.6 , 21.5 , 23.05, 24.88, 26.4 ])"
      ]
     },
     "execution_count": 92,
     "metadata": {},
     "output_type": "execute_result"
    }
   ],
   "source": [
    "ts_h"
   ]
  },
  {
   "cell_type": "code",
   "execution_count": 93,
   "metadata": {},
   "outputs": [],
   "source": [
    "maps = [((df_[f\"{probe}_Cal_T\"] > ts_l[i]) & (df_[f\"{probe}_Cal_T\"] < ts_h[i])) for i in range(len(ts))]"
   ]
  },
  {
   "cell_type": "code",
   "execution_count": 94,
   "metadata": {},
   "outputs": [
    {
     "data": {
      "text/plain": [
       "7"
      ]
     },
     "execution_count": 94,
     "metadata": {},
     "output_type": "execute_result"
    }
   ],
   "source": [
    "len(maps)"
   ]
  },
  {
   "cell_type": "code",
   "execution_count": 95,
   "metadata": {},
   "outputs": [],
   "source": [
    "map_full = maps[0]\n",
    "\n",
    "for m in maps[1:]:\n",
    "    map_full = map_full | m\n",
    "    "
   ]
  },
  {
   "cell_type": "code",
   "execution_count": 96,
   "metadata": {},
   "outputs": [
    {
     "data": {
      "text/plain": [
       "22113"
      ]
     },
     "execution_count": 96,
     "metadata": {},
     "output_type": "execute_result"
    }
   ],
   "source": [
    "len(df_[map_full])"
   ]
  },
  {
   "cell_type": "code",
   "execution_count": 97,
   "metadata": {},
   "outputs": [
    {
     "data": {
      "text/plain": [
       "22119"
      ]
     },
     "execution_count": 97,
     "metadata": {},
     "output_type": "execute_result"
    }
   ],
   "source": [
    "len(df_)"
   ]
  },
  {
   "cell_type": "code",
   "execution_count": 98,
   "metadata": {
    "code_folding": []
   },
   "outputs": [],
   "source": [
    "xs = np.zeros_like(ts)\n",
    "ys = np.zeros_like(ts)\n",
    "xerrs = np.zeros_like(ts)\n",
    "yerrs = np.zeros_like(ts)\n",
    "ns = np.zeros_like(ts)\n",
    "\n",
    "## calculate averages\n",
    "for i,m in enumerate(maps):\n",
    "    df_sp = df_[m]\n",
    "    ns[i] = len(df_sp)\n",
    "    xs[i] = df_sp[f\"{probe}_Cal_T\"].mean()\n",
    "    xerrs[i] = df_sp[f\"{probe}_Cal_T\"].std()\n",
    "    ys[i] = df_sp[\"Scaled Hall Voltage\"].mean()\n",
    "    yerrs[i] = df_sp[\"Scaled Hall Voltage\"].std()"
   ]
  },
  {
   "cell_type": "code",
   "execution_count": 99,
   "metadata": {},
   "outputs": [
    {
     "data": {
      "text/plain": [
       "array([15.89655233, 17.64736637, 19.34827515, 21.13672514, 22.81150658,\n",
       "       24.53801517, 26.19842398])"
      ]
     },
     "execution_count": 99,
     "metadata": {},
     "output_type": "execute_result"
    }
   ],
   "source": [
    "xs"
   ]
  },
  {
   "cell_type": "code",
   "execution_count": 100,
   "metadata": {},
   "outputs": [],
   "source": [
    "def volt(temp, A, B):\n",
    "    return A * temp + B"
   ]
  },
  {
   "cell_type": "code",
   "execution_count": 101,
   "metadata": {},
   "outputs": [],
   "source": [
    "guess = np.array([-1300 / 3.5, 2e6]) # A, B"
   ]
  },
  {
   "cell_type": "code",
   "execution_count": 102,
   "metadata": {},
   "outputs": [],
   "source": [
    "x_dat = df_[f\"{probe}_Cal_T\"]\n",
    "x_dat_avg = xs\n",
    "#x_dat = df[stable_temp][f\"{probe}_Cal_T\"]"
   ]
  },
  {
   "cell_type": "code",
   "execution_count": 103,
   "metadata": {},
   "outputs": [],
   "source": [
    "y_dat = df_[\"Scaled Hall Voltage\"]\n",
    "#y_dat = df_[\"Scaled Hall Z\"]\n",
    "#y_dat = df_[\"NMR [T]\"]"
   ]
  },
  {
   "cell_type": "code",
   "execution_count": 104,
   "metadata": {},
   "outputs": [],
   "source": [
    "params, cov = optimization.curve_fit(volt, x_dat, y_dat, guess)\n",
    "params_avg, cov_avg = optimization.curve_fit(volt, x_dat_avg, ys, guess)\n",
    "#params, cov = optimization.curve_fit(volt, x_dat, \n",
    "#                                     df[stable_temp][f\"{probe}_Raw_Bmag\"] / df[stable_temp][\"NMR [T]\"], guess)"
   ]
  },
  {
   "cell_type": "code",
   "execution_count": 105,
   "metadata": {},
   "outputs": [
    {
     "data": {
      "text/plain": [
       "(array([-1.42562616e+03,  3.42826666e+06]), array([[ 0.06097712, -1.28812275],\n",
       "        [-1.28812275, 28.03706027]]))"
      ]
     },
     "execution_count": 105,
     "metadata": {},
     "output_type": "execute_result"
    }
   ],
   "source": [
    "# stable temp\n",
    "params, cov"
   ]
  },
  {
   "cell_type": "code",
   "execution_count": 106,
   "metadata": {},
   "outputs": [
    {
     "data": {
      "text/plain": [
       "(array([-1.42392463e+03,  3.42821889e+06]),\n",
       " array([[   270.72168011,  -5707.46638385],\n",
       "        [ -5707.46638385, 123529.7055177 ]]))"
      ]
     },
     "execution_count": 106,
     "metadata": {},
     "output_type": "execute_result"
    }
   ],
   "source": [
    "# stable temp averaged\n",
    "params_avg, cov_avg"
   ]
  },
  {
   "cell_type": "code",
   "execution_count": 107,
   "metadata": {},
   "outputs": [],
   "source": [
    "A_fit, B_fit = params\n",
    "A_fit_avg, B_fit_avg = params_avg"
   ]
  },
  {
   "cell_type": "code",
   "execution_count": 108,
   "metadata": {},
   "outputs": [],
   "source": [
    "df_[\"Bmag_lsq\"] = volt(x_dat, A_fit, B_fit)\n",
    "df_[\"Bmag_lsq_avg\"] = volt(x_dat, A_fit_avg, B_fit_avg)"
   ]
  },
  {
   "cell_type": "code",
   "execution_count": 109,
   "metadata": {},
   "outputs": [],
   "source": [
    "ts = np.linspace(x_dat.min(), x_dat.max(), 25)"
   ]
  },
  {
   "cell_type": "code",
   "execution_count": 110,
   "metadata": {},
   "outputs": [],
   "source": [
    "B_lsq = volt(ts, A_fit, B_fit)\n",
    "B_lsq_avg = volt(ts, A_fit_avg, B_fit_avg)"
   ]
  },
  {
   "cell_type": "code",
   "execution_count": 111,
   "metadata": {},
   "outputs": [],
   "source": [
    "B_lsq = pd.Series(B_lsq, name=\"Stable Temp Fit\")\n",
    "B_lsq_avg = pd.Series(B_lsq_avg, name=\"Stable Temp Averaged Fit\")"
   ]
  },
  {
   "cell_type": "code",
   "execution_count": 112,
   "metadata": {},
   "outputs": [
    {
     "data": {
      "text/plain": [
       "'/home/ckampa/Coding/hallprobecalib_extras/plots/hall_probe_stability/2020-01-27/scaled_voltage_vs_temperature.html'"
      ]
     },
     "execution_count": 112,
     "metadata": {},
     "output_type": "execute_result"
    }
   ],
   "source": [
    "averaged=True\n",
    "\n",
    "fig = scatter2d(x_dat,\n",
    "                y_dat,\n",
    "                df_.days_delta, opacity=0.8, show_plot=False)\n",
    "\n",
    "fig.add_trace(go.Scatter(\n",
    "                    x=ts, y=B_lsq,\n",
    "                    mode='lines', name='Linear fit',#\"|V|/|B| = A * Temp. + B\",\n",
    "                    line=dict(color='rgb(78, 42, 132)',#'deeppink',\n",
    "                              width=1,\n",
    "                              dash='dash')));\n",
    "#fig.add_trace(go.Scatter(\n",
    "#                    x=ts, y=B_lsq_avg,\n",
    "#                    mode='lines', name=\"mean(|V|/|B|) = A * mean(Temp.) + B\",\n",
    "#                    line=dict(color='purple', width=1,\n",
    "#                              dash='dash')));\n",
    "\n",
    "fig.update_traces(marker=dict(size=1));\n",
    "\n",
    "if averaged:\n",
    "    fig.add_trace(go.Scatter(\n",
    "        x= xs,\n",
    "        y= ys,\n",
    "        mode='markers',\n",
    "        name='Averaged Data',\n",
    "        error_x=dict(\n",
    "            type='data',\n",
    "            array=xerrs,\n",
    "            width=1,\n",
    "            thickness=1.,\n",
    "            visible=True),\n",
    "        error_y=dict(\n",
    "            type='data',\n",
    "            array=yerrs,\n",
    "            width=1,\n",
    "            thickness=1.,\n",
    "            visible=True),\n",
    "        marker=dict(\n",
    "            size=3,\n",
    "            color=\"Red\",\n",
    "        )\n",
    "    ))\n",
    "\n",
    "#eqn = f\"Volt. = {A_fit:.2E} * Temp. + {B_fit:.2E}\"\n",
    "eqn = f\"y = {A_fit:.2E} * x + {B_fit:.2E}\"\n",
    "\n",
    "i = 6\n",
    "fig.add_annotation(\n",
    "    go.layout.Annotation(\n",
    "            x=ts[i],\n",
    "            y=B_lsq.iloc[i],\n",
    "            text=eqn,\n",
    "            font=dict(\n",
    "                #family=\"Courier New, monospace\",\n",
    "                size=14,\n",
    "                color=\"#ffffff\"\n",
    "            ),\n",
    "            align=\"center\",\n",
    "            arrowhead=2,\n",
    "            arrowsize=1,\n",
    "            arrowwidth=2,\n",
    "            arrowcolor=\"#636363\",\n",
    "            ax=+250,\n",
    "            ay=-25,\n",
    "            bordercolor=\"#c7c7c7\",\n",
    "            borderwidth=2,\n",
    "            borderpad=4,\n",
    "            bgcolor='rgb(78, 42, 132)',#\"#ff7f0e\",\n",
    "            opacity=0.7,\n",
    "            showarrow=True#False\n",
    "    )\n",
    ")\n",
    "\n",
    "fig.update_layout(title=\"Scaled Hall Voltage vs. Hall Probe Temperature\")\n",
    "fig.update_xaxes(title_text='Hall Probe Temperature [deg C]')\n",
    "fig.update_yaxes(title_text='|V_Hall| / NMR [micro V / T]')\n",
    "fig.update_layout( width=1000,height=600,)\n",
    "\n",
    "filename = plotdir+\"scaled_voltage_vs_temperature\"\n",
    "\n",
    "plot(fig, filename=filename+'.html')"
   ]
  },
  {
   "cell_type": "code",
   "execution_count": 113,
   "metadata": {},
   "outputs": [],
   "source": [
    "pio.write_image(fig, filename+\".pdf\")\n",
    "pio.write_image(fig, filename+\".png\")"
   ]
  },
  {
   "cell_type": "code",
   "execution_count": null,
   "metadata": {},
   "outputs": [],
   "source": []
  },
  {
   "cell_type": "code",
   "execution_count": null,
   "metadata": {},
   "outputs": [],
   "source": []
  },
  {
   "cell_type": "code",
   "execution_count": null,
   "metadata": {},
   "outputs": [],
   "source": [
    "fig = scatter2d(df_[\"NMR [T]\"],\n",
    "                df_[f\"{probe}_Raw_Bmag\"],# * df_[f\"{probe}_Cal_T\"].min() / df_[f\"{probe}_Cal_T\"],\n",
    "                df_.days_delta, opacity=1., inline=False)"
   ]
  },
  {
   "cell_type": "code",
   "execution_count": null,
   "metadata": {},
   "outputs": [],
   "source": [
    "fig = scatter2d(df_[\"NMR [T]\"],\n",
    "                df_[f\"{probes[0]}_Raw_Bmag\"],# * df_[f\"{probe}_Cal_T\"].min() / df_[f\"{probe}_Cal_T\"],\n",
    "                df_.days_delta, opacity=1., inline=False)"
   ]
  },
  {
   "cell_type": "code",
   "execution_count": null,
   "metadata": {},
   "outputs": [],
   "source": [
    "fig = scatter2d(df_[\"NMR [T]\"],\n",
    "                df_[f\"{probes[0]}_Cal_Bmag\"],# * df_[f\"{probe}_Cal_T\"].min() / df_[f\"{probe}_Cal_T\"],\n",
    "                df_.days_delta, opacity=1., inline=False)"
   ]
  },
  {
   "cell_type": "code",
   "execution_count": null,
   "metadata": {},
   "outputs": [],
   "source": [
    "fig = scatter2d(df[\"NMR [T]\"],\n",
    "                df[f\"{probe}_Raw_Bmag\"],# * df[f\"{probe}_Cal_T\"].min() / df[f\"{probe}_Cal_T\"],\n",
    "                df.days_delta, opacity=1., inline=False)"
   ]
  },
  {
   "cell_type": "code",
   "execution_count": null,
   "metadata": {},
   "outputs": [],
   "source": []
  },
  {
   "cell_type": "code",
   "execution_count": null,
   "metadata": {},
   "outputs": [],
   "source": [
    "x = np.array([6e-4, 2.36e-2, 1.2492]) # B in Tesla\n",
    "y = np.array([4.85e3, 6.43e4, 3.5e6]) # Hall voltage (Bmag), note: 3 different probes"
   ]
  },
  {
   "cell_type": "code",
   "execution_count": null,
   "metadata": {},
   "outputs": [],
   "source": [
    "fig = scatter2d(x, y, lines=False, markers=True, size_list=[8], inline=False)"
   ]
  },
  {
   "cell_type": "code",
   "execution_count": null,
   "metadata": {},
   "outputs": [],
   "source": [
    "def volt_b(mag, A, B):\n",
    "    return A * mag + B"
   ]
  },
  {
   "cell_type": "code",
   "execution_count": null,
   "metadata": {},
   "outputs": [],
   "source": [
    "guess = np.array([3e6, 0.]) # A, B"
   ]
  },
  {
   "cell_type": "code",
   "execution_count": null,
   "metadata": {},
   "outputs": [],
   "source": [
    "x_dat = x\n",
    "#x_dat_avg = xs\n",
    "#x_dat = df[stable_temp][f\"{probe}_Cal_T\"]"
   ]
  },
  {
   "cell_type": "code",
   "execution_count": null,
   "metadata": {},
   "outputs": [],
   "source": [
    "y_dat = y"
   ]
  },
  {
   "cell_type": "code",
   "execution_count": null,
   "metadata": {},
   "outputs": [],
   "source": [
    "params, cov = optimization.curve_fit(volt_b, x_dat, y_dat, guess)\n",
    "#params_avg, cov_avg = optimization.curve_fit(volt, x_dat_avg, ys, guess)\n",
    "#params, cov = optimization.curve_fit(volt, x_dat, \n",
    "#                                     df[stable_temp][f\"{probe}_Raw_Bmag\"] / df[stable_temp][\"NMR [T]\"], guess)"
   ]
  },
  {
   "cell_type": "code",
   "execution_count": null,
   "metadata": {},
   "outputs": [],
   "source": [
    "# stable temp\n",
    "params, cov"
   ]
  },
  {
   "cell_type": "code",
   "execution_count": null,
   "metadata": {},
   "outputs": [],
   "source": [
    "A_fit, B_fit = params\n",
    "#A_fit_avg, B_fit_avg = params_avg"
   ]
  },
  {
   "cell_type": "code",
   "execution_count": null,
   "metadata": {},
   "outputs": [],
   "source": [
    "B_lsq_dat = volt_b(x_dat, A_fit, B_fit)\n",
    "#df_[\"Bmag_lsq\"] = volt_b(x_dat, A_fit, B_fit)"
   ]
  },
  {
   "cell_type": "code",
   "execution_count": null,
   "metadata": {},
   "outputs": [],
   "source": [
    "ts = np.linspace(x_dat.min(), x_dat.max(), 25)"
   ]
  },
  {
   "cell_type": "code",
   "execution_count": null,
   "metadata": {},
   "outputs": [],
   "source": [
    "B_lsq = volt_b(ts, A_fit, B_fit)\n",
    "#B_lsq_avg = volt_b(ts, A_fit_avg, B_fit_avg)"
   ]
  },
  {
   "cell_type": "code",
   "execution_count": null,
   "metadata": {},
   "outputs": [],
   "source": [
    "B_lsq = pd.Series(B_lsq, name=\"Stable Temp Fit\")\n",
    "#B_lsq_avg = pd.Series(B_lsq_avg, name=\"Stable Temp Averaged Fit\")"
   ]
  },
  {
   "cell_type": "code",
   "execution_count": null,
   "metadata": {},
   "outputs": [],
   "source": [
    "fig = scatter2d(x_dat,\n",
    "                y_dat,\n",
    "                lines=False, markers=True,\n",
    "                size_list=[8], opacity=0.8, show_plot=False)\n",
    "\n",
    "fig.add_trace(go.Scatter(\n",
    "                    x=ts, y=B_lsq,\n",
    "                    mode='lines', name='Linear fit',#\"|V|/|B| = A * Temp. + B\",\n",
    "                    line=dict(color='rgb(78, 42, 132)',#'deeppink',\n",
    "                              width=1,\n",
    "                              dash='dash')));\n",
    "#fig.add_trace(go.Scatter(\n",
    "#                    x=ts, y=B_lsq_avg,\n",
    "#                    mode='lines', name=\"mean(|V|/|B|) = A * mean(Temp.) + B\",\n",
    "#                    line=dict(color='purple', width=1,\n",
    "#                              dash='dash')));\n",
    "\n",
    "#fig.update_traces(marker=dict(size=1));\n",
    "\n",
    "'''fig.add_trace(go.Scatter(\n",
    "    x= xs,\n",
    "    y= ys,\n",
    "    mode='markers',\n",
    "    name='Averaged Data',\n",
    "    error_x=dict(\n",
    "        type='data',\n",
    "        array=xerrs,\n",
    "        width=1,\n",
    "        thickness=1.,\n",
    "        visible=True),\n",
    "    error_y=dict(\n",
    "        type='data',\n",
    "        array=yerrs,\n",
    "        width=1,\n",
    "        thickness=1.,\n",
    "        visible=True),\n",
    "    marker=dict(\n",
    "        size=3,\n",
    "        color=\"Red\",\n",
    "    )\n",
    "))\n",
    "'''\n",
    "#eqn = f\"Volt. = {A_fit:.2E} * Temp. + {B_fit:.2E}\"\n",
    "eqn = f\"y = {A_fit:.2E} * x + {B_fit:.2E}\"\n",
    "\n",
    "i = 6\n",
    "fig.add_annotation(\n",
    "    go.layout.Annotation(\n",
    "            x=ts[i],\n",
    "            y=B_lsq.iloc[i],\n",
    "            text=eqn,\n",
    "            font=dict(\n",
    "                #family=\"Courier New, monospace\",\n",
    "                size=14,\n",
    "                color=\"#ffffff\"\n",
    "            ),\n",
    "            align=\"center\",\n",
    "            arrowhead=2,\n",
    "            arrowsize=1,\n",
    "            arrowwidth=2,\n",
    "            arrowcolor=\"#636363\",\n",
    "            ax=+250,\n",
    "            ay=-25,\n",
    "            bordercolor=\"#c7c7c7\",\n",
    "            borderwidth=2,\n",
    "            borderpad=4,\n",
    "            bgcolor='rgb(78, 42, 132)',#\"#ff7f0e\",\n",
    "            opacity=0.7,\n",
    "            showarrow=True#False\n",
    "    )\n",
    ")\n",
    "\n",
    "fig.update_layout(title=\"Scaled Hall Voltage vs. Hall Probe Temperature\")\n",
    "fig.update_xaxes(title_text='Hall Probe Temperature [deg C]')\n",
    "fig.update_yaxes(title_text='|V_Hall| / NMR [micro V / T]')\n",
    "fig.update_layout( width=1000,height=600,)\n",
    "\n",
    "plot(fig,) #filename=plotdir+\"temp_fit_2point_aggregate.html\")"
   ]
  },
  {
   "cell_type": "markdown",
   "metadata": {},
   "source": [
    "Nice! Looks surprisingly linear for 3 different probes."
   ]
  },
  {
   "cell_type": "code",
   "execution_count": null,
   "metadata": {},
   "outputs": [],
   "source": [
    "dof = 3 - 2"
   ]
  },
  {
   "cell_type": "code",
   "execution_count": null,
   "metadata": {},
   "outputs": [],
   "source": [
    "### pick std = 55\n",
    "std_volt = 50.#500.#45.#55."
   ]
  },
  {
   "cell_type": "code",
   "execution_count": null,
   "metadata": {},
   "outputs": [],
   "source": [
    "def chi2(f, x, std):\n",
    "    return np.sum(np.square((x-f)/std))"
   ]
  },
  {
   "cell_type": "code",
   "execution_count": null,
   "metadata": {},
   "outputs": [],
   "source": [
    "#fit_chi2 = chi2(B_lsq, y_dat, std_volt)\n",
    "fit_chi2 = chi2(B_lsq_dat, y_dat, std_volt)\n",
    "fit_chi2"
   ]
  },
  {
   "cell_type": "code",
   "execution_count": null,
   "metadata": {},
   "outputs": [],
   "source": [
    "dof = len(x_dat) - 2\n",
    "dof"
   ]
  },
  {
   "cell_type": "code",
   "execution_count": null,
   "metadata": {},
   "outputs": [],
   "source": [
    "n = np.linspace(0, 12, 100)"
   ]
  },
  {
   "cell_type": "code",
   "execution_count": null,
   "metadata": {},
   "outputs": [],
   "source": [
    "P = stats.chi2.pdf(n, dof)"
   ]
  },
  {
   "cell_type": "code",
   "execution_count": null,
   "metadata": {},
   "outputs": [],
   "source": [
    "P.max()"
   ]
  },
  {
   "cell_type": "code",
   "execution_count": null,
   "metadata": {},
   "outputs": [],
   "source": [
    "plt.plot(n,P)\n",
    "plt.plot([fit_chi2, fit_chi2],[0., 1.0], 'r--');"
   ]
  },
  {
   "cell_type": "code",
   "execution_count": null,
   "metadata": {},
   "outputs": [],
   "source": []
  },
  {
   "cell_type": "code",
   "execution_count": null,
   "metadata": {},
   "outputs": [],
   "source": []
  },
  {
   "cell_type": "code",
   "execution_count": null,
   "metadata": {},
   "outputs": [],
   "source": []
  },
  {
   "cell_type": "code",
   "execution_count": null,
   "metadata": {},
   "outputs": [],
   "source": []
  },
  {
   "cell_type": "code",
   "execution_count": null,
   "metadata": {},
   "outputs": [],
   "source": []
  },
  {
   "cell_type": "code",
   "execution_count": null,
   "metadata": {},
   "outputs": [],
   "source": []
  },
  {
   "cell_type": "code",
   "execution_count": null,
   "metadata": {},
   "outputs": [],
   "source": []
  },
  {
   "cell_type": "code",
   "execution_count": null,
   "metadata": {},
   "outputs": [],
   "source": [
    "def volt_b(mag, A, B):\n",
    "    return A * mag + B"
   ]
  },
  {
   "cell_type": "code",
   "execution_count": null,
   "metadata": {},
   "outputs": [],
   "source": [
    "guess = np.array([1e11, 0.]) # A, B"
   ]
  },
  {
   "cell_type": "code",
   "execution_count": null,
   "metadata": {},
   "outputs": [],
   "source": [
    "x_dat = df_[\"NMR [T]\"]\n",
    "#x_dat_avg = xs\n",
    "#x_dat = df[stable_temp][f\"{probe}_Cal_T\"]"
   ]
  },
  {
   "cell_type": "code",
   "execution_count": null,
   "metadata": {},
   "outputs": [],
   "source": [
    "y_dat = df_[f\"{probe}_Raw_Bmag\"] / (-1.21e03*df_[f\"{probe}_Cal_T\"])# * df_[f\"{probe}_Cal_T\"].min() / df_[f\"{probe}_Cal_T\"]"
   ]
  },
  {
   "cell_type": "code",
   "execution_count": null,
   "metadata": {},
   "outputs": [],
   "source": [
    "params, cov = optimization.curve_fit(volt_b, x_dat, y_dat, guess)\n",
    "#params_avg, cov_avg = optimization.curve_fit(volt, x_dat_avg, ys, guess)\n",
    "#params, cov = optimization.curve_fit(volt, x_dat, \n",
    "#                                     df[stable_temp][f\"{probe}_Raw_Bmag\"] / df[stable_temp][\"NMR [T]\"], guess)"
   ]
  },
  {
   "cell_type": "code",
   "execution_count": null,
   "metadata": {},
   "outputs": [],
   "source": [
    "# stable temp\n",
    "params, cov"
   ]
  },
  {
   "cell_type": "code",
   "execution_count": null,
   "metadata": {},
   "outputs": [],
   "source": [
    "A_fit, B_fit = params\n",
    "A_fit_avg, B_fit_avg = params_avg"
   ]
  },
  {
   "cell_type": "code",
   "execution_count": null,
   "metadata": {},
   "outputs": [],
   "source": [
    "df_[\"Bmag_lsq\"] = volt_b(x_dat, A_fit, B_fit)"
   ]
  },
  {
   "cell_type": "code",
   "execution_count": null,
   "metadata": {},
   "outputs": [],
   "source": [
    "ts = np.linspace(x_dat.min(), x_dat.max(), 25)"
   ]
  },
  {
   "cell_type": "code",
   "execution_count": null,
   "metadata": {},
   "outputs": [],
   "source": [
    "B_lsq = volt_b(ts, A_fit, B_fit)\n",
    "#B_lsq_avg = volt_b(ts, A_fit_avg, B_fit_avg)"
   ]
  },
  {
   "cell_type": "code",
   "execution_count": null,
   "metadata": {},
   "outputs": [],
   "source": [
    "B_lsq = pd.Series(B_lsq, name=\"Stable Temp Fit\")\n",
    "#B_lsq_avg = pd.Series(B_lsq_avg, name=\"Stable Temp Averaged Fit\")"
   ]
  },
  {
   "cell_type": "code",
   "execution_count": null,
   "metadata": {},
   "outputs": [],
   "source": [
    "fig = scatter2d(x_dat,\n",
    "                y_dat,\n",
    "                df_.days_delta, opacity=0.8, show_plot=False)\n",
    "\n",
    "fig.add_trace(go.Scatter(\n",
    "                    x=ts, y=B_lsq,\n",
    "                    mode='lines', name='Linear fit',#\"|V|/|B| = A * Temp. + B\",\n",
    "                    line=dict(color='rgb(78, 42, 132)',#'deeppink',\n",
    "                              width=1,\n",
    "                              dash='dash')));\n",
    "#fig.add_trace(go.Scatter(\n",
    "#                    x=ts, y=B_lsq_avg,\n",
    "#                    mode='lines', name=\"mean(|V|/|B|) = A * mean(Temp.) + B\",\n",
    "#                    line=dict(color='purple', width=1,\n",
    "#                              dash='dash')));\n",
    "\n",
    "fig.update_traces(marker=dict(size=1));\n",
    "\n",
    "'''fig.add_trace(go.Scatter(\n",
    "    x= xs,\n",
    "    y= ys,\n",
    "    mode='markers',\n",
    "    name='Averaged Data',\n",
    "    error_x=dict(\n",
    "        type='data',\n",
    "        array=xerrs,\n",
    "        width=1,\n",
    "        thickness=1.,\n",
    "        visible=True),\n",
    "    error_y=dict(\n",
    "        type='data',\n",
    "        array=yerrs,\n",
    "        width=1,\n",
    "        thickness=1.,\n",
    "        visible=True),\n",
    "    marker=dict(\n",
    "        size=3,\n",
    "        color=\"Red\",\n",
    "    )\n",
    "))\n",
    "'''\n",
    "#eqn = f\"Volt. = {A_fit:.2E} * Temp. + {B_fit:.2E}\"\n",
    "eqn = f\"y = {A_fit:.2E} * x + {B_fit:.2E}\"\n",
    "\n",
    "i = 6\n",
    "fig.add_annotation(\n",
    "    go.layout.Annotation(\n",
    "            x=ts[i],\n",
    "            y=B_lsq.iloc[i],\n",
    "            text=eqn,\n",
    "            font=dict(\n",
    "                #family=\"Courier New, monospace\",\n",
    "                size=14,\n",
    "                color=\"#ffffff\"\n",
    "            ),\n",
    "            align=\"center\",\n",
    "            arrowhead=2,\n",
    "            arrowsize=1,\n",
    "            arrowwidth=2,\n",
    "            arrowcolor=\"#636363\",\n",
    "            ax=+250,\n",
    "            ay=-25,\n",
    "            bordercolor=\"#c7c7c7\",\n",
    "            borderwidth=2,\n",
    "            borderpad=4,\n",
    "            bgcolor='rgb(78, 42, 132)',#\"#ff7f0e\",\n",
    "            opacity=0.7,\n",
    "            showarrow=True#False\n",
    "    )\n",
    ")\n",
    "\n",
    "fig.update_layout(title=\"Scaled Hall Voltage vs. Hall Probe Temperature\")\n",
    "fig.update_xaxes(title_text='Hall Probe Temperature [deg C]')\n",
    "fig.update_yaxes(title_text='|V_Hall| / NMR [micro V / T]')\n",
    "fig.update_layout( width=1000,height=600,)\n",
    "\n",
    "plot(fig,) #filename=plotdir+\"temp_fit_2point_aggregate.html\")"
   ]
  },
  {
   "cell_type": "code",
   "execution_count": null,
   "metadata": {},
   "outputs": [],
   "source": []
  },
  {
   "cell_type": "code",
   "execution_count": null,
   "metadata": {},
   "outputs": [],
   "source": []
  },
  {
   "cell_type": "code",
   "execution_count": null,
   "metadata": {},
   "outputs": [],
   "source": []
  },
  {
   "cell_type": "code",
   "execution_count": null,
   "metadata": {},
   "outputs": [],
   "source": []
  },
  {
   "cell_type": "code",
   "execution_count": 114,
   "metadata": {},
   "outputs": [],
   "source": [
    "### pick std = 55\n",
    "std_volt = 50.#51.#45.#55."
   ]
  },
  {
   "cell_type": "code",
   "execution_count": null,
   "metadata": {},
   "outputs": [],
   "source": [
    "def chi2(f, x, std):\n",
    "    return np.sum(np.square((x-f)/std))"
   ]
  },
  {
   "cell_type": "code",
   "execution_count": null,
   "metadata": {},
   "outputs": [],
   "source": [
    "fit_chi2 = chi2(df_[\"Bmag_lsq\"], df_[\"Scaled Hall Voltage\"], std_volt)\n",
    "fit_chi2"
   ]
  },
  {
   "cell_type": "code",
   "execution_count": null,
   "metadata": {},
   "outputs": [],
   "source": [
    "ys_fit = volt(xs, A_fit_avg, B_fit_avg)"
   ]
  },
  {
   "cell_type": "code",
   "execution_count": null,
   "metadata": {},
   "outputs": [],
   "source": [
    "fit_avg_chi2 = chi2(ys_fit, ys, yerrs)\n",
    "fit_avg_chi2"
   ]
  },
  {
   "cell_type": "code",
   "execution_count": null,
   "metadata": {},
   "outputs": [],
   "source": [
    "dof = len(xs) - 2\n",
    "dof"
   ]
  },
  {
   "cell_type": "code",
   "execution_count": null,
   "metadata": {},
   "outputs": [],
   "source": [
    "n = np.linspace(0, 12, 100)"
   ]
  },
  {
   "cell_type": "code",
   "execution_count": null,
   "metadata": {},
   "outputs": [],
   "source": [
    "P = stats.chi2.pdf(n, dof)"
   ]
  },
  {
   "cell_type": "code",
   "execution_count": null,
   "metadata": {},
   "outputs": [],
   "source": [
    "plt.plot(n,P)\n",
    "plt.plot([fit_avg_chi2, fit_avg_chi2],[0., P.max()], 'r--');"
   ]
  },
  {
   "cell_type": "code",
   "execution_count": null,
   "metadata": {},
   "outputs": [],
   "source": []
  },
  {
   "cell_type": "code",
   "execution_count": null,
   "metadata": {},
   "outputs": [],
   "source": []
  },
  {
   "cell_type": "code",
   "execution_count": null,
   "metadata": {},
   "outputs": [],
   "source": [
    "# check std\n",
    "df_2 = df_[100:500]"
   ]
  },
  {
   "cell_type": "code",
   "execution_count": null,
   "metadata": {},
   "outputs": [],
   "source": [
    "fig = scatter2d(df_2.index, df_2[f\"{probe}_Raw_Bmag\"]/df_2[\"NMR [T]\"],\n",
    "               inline=False)"
   ]
  },
  {
   "cell_type": "code",
   "execution_count": null,
   "metadata": {},
   "outputs": [],
   "source": [
    "scaled_B = df_2[f\"{probe}_Raw_Bmag\"]/df_2[\"NMR [T]\"]\n",
    "scaled_B.name = \"Scaled |V|/|B|\""
   ]
  },
  {
   "cell_type": "code",
   "execution_count": null,
   "metadata": {},
   "outputs": [],
   "source": [
    "fig = histo(scaled_B, bins=25,\n",
    "               inline=False)"
   ]
  },
  {
   "cell_type": "code",
   "execution_count": null,
   "metadata": {},
   "outputs": [],
   "source": []
  },
  {
   "cell_type": "code",
   "execution_count": null,
   "metadata": {},
   "outputs": [],
   "source": [
    "std_volt = 75."
   ]
  },
  {
   "cell_type": "code",
   "execution_count": null,
   "metadata": {},
   "outputs": [],
   "source": [
    "fit_chi2 = chi2(df_[\"Bmag_lsq\"], df_[\"Scaled Hall Voltage\"], std_volt)\n",
    "fit_chi2"
   ]
  },
  {
   "cell_type": "code",
   "execution_count": null,
   "metadata": {},
   "outputs": [],
   "source": [
    "dof = len(df_) - 2\n",
    "dof"
   ]
  },
  {
   "cell_type": "code",
   "execution_count": null,
   "metadata": {},
   "outputs": [],
   "source": [
    "n = np.linspace(1000,30000, 1000)"
   ]
  },
  {
   "cell_type": "code",
   "execution_count": null,
   "metadata": {},
   "outputs": [],
   "source": [
    "P = stats.chi2.pdf(n, dof)"
   ]
  },
  {
   "cell_type": "code",
   "execution_count": null,
   "metadata": {},
   "outputs": [],
   "source": [
    "plt.plot(n,P)\n",
    "plt.plot([fit_chi2, fit_chi2],[0., P.max()], 'r--');"
   ]
  },
  {
   "cell_type": "code",
   "execution_count": null,
   "metadata": {},
   "outputs": [],
   "source": [
    "n[P.argmax()]"
   ]
  },
  {
   "cell_type": "markdown",
   "metadata": {},
   "source": [
    "## Investigate Noise"
   ]
  },
  {
   "cell_type": "code",
   "execution_count": null,
   "metadata": {},
   "outputs": [],
   "source": [
    "t = df_.index"
   ]
  },
  {
   "cell_type": "code",
   "execution_count": null,
   "metadata": {},
   "outputs": [],
   "source": [
    "V = df_[f\"{probe}_Raw_Z\"]"
   ]
  },
  {
   "cell_type": "code",
   "execution_count": null,
   "metadata": {},
   "outputs": [],
   "source": [
    "V_mean = V.rolling(window=75).mean() # w interval = 50 s, should be ~72 for one hour average"
   ]
  },
  {
   "cell_type": "code",
   "execution_count": null,
   "metadata": {},
   "outputs": [],
   "source": [
    "#fig = scatter2d(2*[t], [V, V_mean], inline=False)"
   ]
  },
  {
   "cell_type": "code",
   "execution_count": null,
   "metadata": {},
   "outputs": [],
   "source": [
    "diff = V - V_mean"
   ]
  },
  {
   "cell_type": "code",
   "execution_count": null,
   "metadata": {},
   "outputs": [],
   "source": [
    "#fig = histo(diff, bins=50, inline=False)"
   ]
  },
  {
   "cell_type": "code",
   "execution_count": null,
   "metadata": {},
   "outputs": [],
   "source": [
    "g = np.absolute(diff) < 200."
   ]
  },
  {
   "cell_type": "code",
   "execution_count": null,
   "metadata": {},
   "outputs": [],
   "source": [
    "diff[g].std()"
   ]
  },
  {
   "cell_type": "code",
   "execution_count": null,
   "metadata": {},
   "outputs": [],
   "source": [
    "fig = histo(diff[g], bins=75, inline=False)"
   ]
  },
  {
   "cell_type": "markdown",
   "metadata": {},
   "source": [
    "Component Standard Deviation:\n",
    "- x: 54.9\n",
    "- y: 60.5\n",
    "- z: 58.47"
   ]
  },
  {
   "cell_type": "code",
   "execution_count": 119,
   "metadata": {},
   "outputs": [],
   "source": [
    "sig_x = 54.9\n",
    "sig_y = 60.5\n",
    "sig_z = 58.5"
   ]
  },
  {
   "cell_type": "code",
   "execution_count": 120,
   "metadata": {},
   "outputs": [],
   "source": [
    "# assuming no covariance\n",
    "sigma_B = np.sqrt(df_[f\"{probe}_Raw_X\"]**2*sig_x**2 + \\\n",
    "                  df_[f\"{probe}_Raw_Y\"]**2*sig_y**2 + \\\n",
    "                  df_[f\"{probe}_Raw_Z\"]**2*sig_z**2) / df_[f\"{probe}_Raw_Bmag\"]"
   ]
  },
  {
   "cell_type": "code",
   "execution_count": 121,
   "metadata": {},
   "outputs": [],
   "source": [
    "sigma_B.name = \"sigma_B\""
   ]
  },
  {
   "cell_type": "code",
   "execution_count": null,
   "metadata": {},
   "outputs": [],
   "source": [
    "fig = histo(sigma_B, bins=75, inline=False)"
   ]
  },
  {
   "cell_type": "code",
   "execution_count": null,
   "metadata": {},
   "outputs": [],
   "source": [
    "fig = scatter2d(t, sigma_B, inline=False)"
   ]
  },
  {
   "cell_type": "code",
   "execution_count": null,
   "metadata": {},
   "outputs": [],
   "source": [
    "sigma_B.describe()"
   ]
  },
  {
   "cell_type": "code",
   "execution_count": null,
   "metadata": {},
   "outputs": [],
   "source": [
    "def chi2(f, x, std):\n",
    "    return np.sum(np.square((x-f)/std))"
   ]
  },
  {
   "cell_type": "code",
   "execution_count": null,
   "metadata": {},
   "outputs": [],
   "source": [
    "len(sigma_B)"
   ]
  },
  {
   "cell_type": "code",
   "execution_count": null,
   "metadata": {},
   "outputs": [],
   "source": [
    "len(df_)"
   ]
  },
  {
   "cell_type": "code",
   "execution_count": null,
   "metadata": {},
   "outputs": [],
   "source": [
    "fit_chi2 = chi2(df_[\"Bmag_lsq\"], df_[\"Scaled Hall Voltage\"], sigma_B)\n",
    "fit_chi2"
   ]
  },
  {
   "cell_type": "code",
   "execution_count": null,
   "metadata": {},
   "outputs": [],
   "source": [
    "dof = len(df_) - 2\n",
    "dof"
   ]
  },
  {
   "cell_type": "code",
   "execution_count": null,
   "metadata": {},
   "outputs": [],
   "source": [
    "n = np.linspace(1000,20000, 1000)"
   ]
  },
  {
   "cell_type": "code",
   "execution_count": null,
   "metadata": {},
   "outputs": [],
   "source": [
    "P = stats.chi2.pdf(n, dof)"
   ]
  },
  {
   "cell_type": "code",
   "execution_count": null,
   "metadata": {},
   "outputs": [],
   "source": [
    "plt.plot(n,P)\n",
    "plt.plot([fit_chi2, fit_chi2],[0., P.max()], 'r--');"
   ]
  },
  {
   "cell_type": "markdown",
   "metadata": {},
   "source": [
    "Try adding a few more polynomial terms"
   ]
  },
  {
   "cell_type": "code",
   "execution_count": null,
   "metadata": {},
   "outputs": [],
   "source": [
    "def volt_3rd(temp, A, B, C, D):\n",
    "    #return A * temp + B * temp**2 + C * temp**3 + D\n",
    "    return A * temp + B * temp**2 + D"
   ]
  },
  {
   "cell_type": "code",
   "execution_count": null,
   "metadata": {},
   "outputs": [],
   "source": [
    "guess = np.array([-1300 / 3.5, 0, 0, 2e6]) # A, B"
   ]
  },
  {
   "cell_type": "code",
   "execution_count": null,
   "metadata": {},
   "outputs": [],
   "source": [
    "x_dat = df_[f\"{probe}_Cal_T\"]\n",
    "x_dat_avg = xs\n",
    "#x_dat = df[stable_temp][f\"{probe}_Cal_T\"]"
   ]
  },
  {
   "cell_type": "code",
   "execution_count": null,
   "metadata": {},
   "outputs": [],
   "source": [
    "y_dat = df_[\"Scaled Hall Voltage\"]\n",
    "#y_dat = df_[\"Scaled Hall Z\"]\n",
    "#y_dat = df_[\"NMR [T]\"]"
   ]
  },
  {
   "cell_type": "code",
   "execution_count": null,
   "metadata": {},
   "outputs": [],
   "source": [
    "params, cov = optimization.curve_fit(volt_3rd, x_dat, y_dat, guess)\n",
    "params_avg, cov_avg = optimization.curve_fit(volt_3rd, x_dat_avg, ys, guess)\n",
    "#params, cov = optimization.curve_fit(volt, x_dat, \n",
    "#                                     df[stable_temp][f\"{probe}_Raw_Bmag\"] / df[stable_temp][\"NMR [T]\"], guess)"
   ]
  },
  {
   "cell_type": "code",
   "execution_count": null,
   "metadata": {},
   "outputs": [],
   "source": [
    "# stable temp\n",
    "params, cov"
   ]
  },
  {
   "cell_type": "code",
   "execution_count": null,
   "metadata": {},
   "outputs": [],
   "source": [
    "# stable temp averaged\n",
    "params_avg, cov_avg"
   ]
  },
  {
   "cell_type": "code",
   "execution_count": null,
   "metadata": {},
   "outputs": [],
   "source": [
    "A_fit, B_fit, C_fit, D_fit = params\n",
    "A_fit_avg, B_fit_avg, C_fit_avg, D_fit_avg = params_avg"
   ]
  },
  {
   "cell_type": "code",
   "execution_count": null,
   "metadata": {},
   "outputs": [],
   "source": [
    "df_[\"Bmag_lsq\"] = volt_3rd(x_dat, A_fit, B_fit, C_fit, D_fit)\n",
    "df_[\"Bmag_lsq_avg\"] = volt_3rd(x_dat, A_fit_avg, B_fit_avg, C_fit_avg, D_fit_avg)"
   ]
  },
  {
   "cell_type": "code",
   "execution_count": null,
   "metadata": {},
   "outputs": [],
   "source": [
    "ts = np.linspace(x_dat.min(), x_dat.max(), 25)"
   ]
  },
  {
   "cell_type": "code",
   "execution_count": null,
   "metadata": {},
   "outputs": [],
   "source": [
    "B_lsq = volt_3rd(ts, A_fit, B_fit, C_fit, D_fit)\n",
    "B_lsq_avg = volt_3rd(ts, A_fit_avg, B_fit_avg, C_fit_avg, D_fit_avg)"
   ]
  },
  {
   "cell_type": "code",
   "execution_count": null,
   "metadata": {},
   "outputs": [],
   "source": [
    "B_lsq = pd.Series(B_lsq, name=\"Stable Temp Fit\")\n",
    "B_lsq_avg = pd.Series(B_lsq_avg, name=\"Stable Temp Averaged Fit\")"
   ]
  },
  {
   "cell_type": "code",
   "execution_count": null,
   "metadata": {},
   "outputs": [],
   "source": [
    "averaged=True\n",
    "\n",
    "fig = scatter2d(x_dat,\n",
    "                y_dat,\n",
    "                df_.days_delta, opacity=0.8, show_plot=False)\n",
    "\n",
    "fig.add_trace(go.Scatter(\n",
    "                    x=ts, y=B_lsq,\n",
    "                    mode='lines', name='Linear fit',#\"|V|/|B| = A * Temp. + B\",\n",
    "                    line=dict(color='rgb(78, 42, 132)',#'deeppink',\n",
    "                              width=1,\n",
    "                              dash='dash')));\n",
    "#fig.add_trace(go.Scatter(\n",
    "#                    x=ts, y=B_lsq_avg,\n",
    "#                    mode='lines', name=\"mean(|V|/|B|) = A * mean(Temp.) + B\",\n",
    "#                    line=dict(color='purple', width=1,\n",
    "#                              dash='dash')));\n",
    "\n",
    "fig.update_traces(marker=dict(size=1));\n",
    "\n",
    "if averaged:\n",
    "    fig.add_trace(go.Scatter(\n",
    "        x= xs,\n",
    "        y= ys,\n",
    "        mode='markers',\n",
    "        name='Averaged Data',\n",
    "        error_x=dict(\n",
    "            type='data',\n",
    "            array=xerrs,\n",
    "            width=1,\n",
    "            thickness=1.,\n",
    "            visible=True),\n",
    "        error_y=dict(\n",
    "            type='data',\n",
    "            array=yerrs,\n",
    "            width=1,\n",
    "            thickness=1.,\n",
    "            visible=True),\n",
    "        marker=dict(\n",
    "            size=3,\n",
    "            color=\"Red\",\n",
    "        )\n",
    "    ))\n",
    "\n",
    "#eqn = f\"Volt. = {A_fit:.2E} * Temp. + {B_fit:.2E}\"\n",
    "eqn = f\"y = {A_fit:.2E} * x + {B_fit:.2E} * x^2 + {C_fit:.2E} * x^3 + {D_fit:.2E}\"\n",
    "\n",
    "i = 6\n",
    "fig.add_annotation(\n",
    "    go.layout.Annotation(\n",
    "            x=ts[i],\n",
    "            y=B_lsq.iloc[i],\n",
    "            text=eqn,\n",
    "            font=dict(\n",
    "                #family=\"Courier New, monospace\",\n",
    "                size=14,\n",
    "                color=\"#ffffff\"\n",
    "            ),\n",
    "            align=\"center\",\n",
    "            arrowhead=2,\n",
    "            arrowsize=1,\n",
    "            arrowwidth=2,\n",
    "            arrowcolor=\"#636363\",\n",
    "            ax=+250,\n",
    "            ay=-25,\n",
    "            bordercolor=\"#c7c7c7\",\n",
    "            borderwidth=2,\n",
    "            borderpad=4,\n",
    "            bgcolor='rgb(78, 42, 132)',#\"#ff7f0e\",\n",
    "            opacity=0.7,\n",
    "            showarrow=True#False\n",
    "    )\n",
    ")\n",
    "\n",
    "fig.update_layout(title=\"Scaled Hall Voltage vs. Hall Probe Temperature\")\n",
    "fig.update_xaxes(title_text='Hall Probe Temperature [deg C]')\n",
    "fig.update_yaxes(title_text='|V_Hall| / NMR [micro V / T]')\n",
    "fig.update_layout( width=1000,height=600,)\n",
    "\n",
    "filename = plotdir+\"scaled_voltage_vs_temperature_3rd_order\"\n",
    "\n",
    "plot(fig, filename=filename+'.html')"
   ]
  },
  {
   "cell_type": "code",
   "execution_count": null,
   "metadata": {},
   "outputs": [],
   "source": [
    "pio.write_image(fig, filename+\".pdf\")\n",
    "pio.write_image(fig, filename+\".png\")"
   ]
  },
  {
   "cell_type": "code",
   "execution_count": null,
   "metadata": {},
   "outputs": [],
   "source": []
  },
  {
   "cell_type": "code",
   "execution_count": null,
   "metadata": {},
   "outputs": [],
   "source": [
    "def chi2(f, x, std):\n",
    "    return np.sum(np.square((x-f)/std))"
   ]
  },
  {
   "cell_type": "code",
   "execution_count": null,
   "metadata": {},
   "outputs": [],
   "source": [
    "len(sigma_B)"
   ]
  },
  {
   "cell_type": "code",
   "execution_count": null,
   "metadata": {},
   "outputs": [],
   "source": [
    "len(df_)"
   ]
  },
  {
   "cell_type": "code",
   "execution_count": null,
   "metadata": {},
   "outputs": [],
   "source": [
    "fit_chi2 = chi2(df_[\"Bmag_lsq\"], df_[\"Scaled Hall Voltage\"], sigma_B)\n",
    "fit_chi2"
   ]
  },
  {
   "cell_type": "code",
   "execution_count": null,
   "metadata": {},
   "outputs": [],
   "source": [
    "dof = len(df_) - 3#4 # 4 parameter fit\n",
    "dof"
   ]
  },
  {
   "cell_type": "code",
   "execution_count": null,
   "metadata": {},
   "outputs": [],
   "source": [
    "n = np.linspace(1000,20000, 1000)"
   ]
  },
  {
   "cell_type": "code",
   "execution_count": null,
   "metadata": {},
   "outputs": [],
   "source": [
    "P = stats.chi2.pdf(n, dof)"
   ]
  },
  {
   "cell_type": "code",
   "execution_count": null,
   "metadata": {},
   "outputs": [],
   "source": [
    "# 3rd order\n",
    "plt.plot(n,P)\n",
    "plt.plot([fit_chi2, fit_chi2],[0., P.max()], 'r--');"
   ]
  },
  {
   "cell_type": "code",
   "execution_count": null,
   "metadata": {},
   "outputs": [],
   "source": [
    "# 4th order\n",
    "plt.plot(n,P)\n",
    "plt.plot([fit_chi2, fit_chi2],[0., P.max()], 'r--');"
   ]
  },
  {
   "cell_type": "code",
   "execution_count": null,
   "metadata": {},
   "outputs": [],
   "source": []
  },
  {
   "cell_type": "code",
   "execution_count": null,
   "metadata": {},
   "outputs": [],
   "source": []
  },
  {
   "cell_type": "code",
   "execution_count": null,
   "metadata": {},
   "outputs": [],
   "source": []
  },
  {
   "cell_type": "code",
   "execution_count": null,
   "metadata": {},
   "outputs": [],
   "source": [
    "for probe in probes:\n",
    "    fig = scatter2d(df_.index, df_[f\"{probe}_Raw_Bmag\"], inline=False)"
   ]
  },
  {
   "cell_type": "markdown",
   "metadata": {},
   "source": [
    "## Fit Routine\n",
    "**IMPORTANT**\n",
    "- should add this as a tool in hallprobecalib"
   ]
  },
  {
   "cell_type": "code",
   "execution_count": null,
   "metadata": {},
   "outputs": [],
   "source": [
    "## FIT ORDER N"
   ]
  },
  {
   "cell_type": "code",
   "execution_count": null,
   "metadata": {},
   "outputs": [],
   "source": [
    "#import lmfit as lm"
   ]
  },
  {
   "cell_type": "code",
   "execution_count": 115,
   "metadata": {},
   "outputs": [],
   "source": [
    "def polyfit_order_n(N, x_dat, y_dat, std_dat):\n",
    "    # e.g. order 1 gives form y = C0 + C1*x\n",
    "    # returns lmfit result object\n",
    "    Cs = {}\n",
    "    \n",
    "    def polynomial(x, N, **Cs):\n",
    "        ys = np.zeros_like(x)\n",
    "        for n in range(N+1):\n",
    "            C = Cs[f'C_{n}']\n",
    "            ys += C * x**n\n",
    "        return ys\n",
    "    \n",
    "    # using lmfit\n",
    "    model = lm.Model(polynomial, independent_vars=['x'])\n",
    "    params = lm.Parameters()\n",
    "    params.add('N', value=N, vary=False) # just telling us when to truncate our sum\n",
    "    for n in range(N+1):\n",
    "        params.add(f'C_{n}', value=0)\n",
    "    \n",
    "    result = model.fit(y_dat.values, x=x_dat.values, params=params, weights=1/std_dat)\n",
    "    \n",
    "    print(result.fit_report())\n",
    "   \n",
    "    return result"
   ]
  },
  {
   "cell_type": "code",
   "execution_count": 116,
   "metadata": {},
   "outputs": [
    {
     "name": "stdout",
     "output_type": "stream",
     "text": [
      "[[Model]]\n",
      "    Model(polynomial)\n",
      "[[Fit Statistics]]\n",
      "    # fitting method   = leastsq\n",
      "    # function evals   = 55\n",
      "    # data points      = 22119\n",
      "    # variables        = 2\n",
      "    chi-square         = 27081.2107\n",
      "    reduced chi-square = 1.22445226\n",
      "    Akaike info crit   = 4480.95607\n",
      "    Bayesian info crit = 4496.96446\n",
      "[[Variables]]\n",
      "    N:    1 (fixed)\n",
      "    C_0:  0.25557552 +/- 5.7260e-04 (0.22%) (init = 0)\n",
      "    C_1:  0.78821941 +/- 4.7417e-04 (0.06%) (init = 0)\n",
      "[[Correlations]] (unreported correlations are < 0.100)\n",
      "    C(C_0, C_1) = -1.000\n",
      "\n"
     ]
    }
   ],
   "source": [
    "result = polyfit_order_n(1, df_[f\"{probe}_Cal_Bmag\"], df_[\"NMR [T]\"], 2e-5*np.ones_like(df_[\"NMR [T]\"]))"
   ]
  },
  {
   "cell_type": "code",
   "execution_count": 117,
   "metadata": {},
   "outputs": [
    {
     "data": {
      "text/plain": [
       "(<Figure size 864x864 with 2 Axes>, GridSpec(2, 1, height_ratios=[1, 4]))"
      ]
     },
     "execution_count": 117,
     "metadata": {},
     "output_type": "execute_result"
    },
    {
     "data": {
      "image/png": "[encoded data removed]",
      "text/plain": [
       "<Figure size 864x864 with 2 Axes>"
      ]
     },
     "metadata": {
      "needs_background": "light"
     },
     "output_type": "display_data"
    }
   ],
   "source": [
    "result.plot()"
   ]
  },
  {
   "cell_type": "code",
   "execution_count": 132,
   "metadata": {
    "scrolled": false
   },
   "outputs": [
    {
     "name": "stdout",
     "output_type": "stream",
     "text": [
      "[[Model]]\n",
      "    Model(polynomial)\n",
      "[[Fit Statistics]]\n",
      "    # fitting method   = leastsq\n",
      "    # function evals   = 332\n",
      "    # data points      = 22119\n",
      "    # variables        = 9\n",
      "    chi-square         = 20418.5485\n",
      "    reduced chi-square = 0.92349835\n",
      "    Akaike info crit   = -1751.37042\n",
      "    Bayesian info crit = -1679.33269\n",
      "[[Variables]]\n",
      "    N:    8 (fixed)\n",
      "    C_0: -50834504.7 +/- 1055699.27 (2.08%) (init = 0)\n",
      "    C_1:  15620950.6 +/- 308635.070 (1.98%) (init = 0)\n",
      "    C_2: -1738019.29 +/- 34917.8528 (2.01%) (init = 0)\n",
      "    C_3:  82236.4627 +/- 1684.54182 (2.05%) (init = 0)\n",
      "    C_4:  26.1596018 +/- 2.07267659 (7.92%) (init = 0)\n",
      "    C_5: -183.901018 +/- 3.88018188 (2.11%) (init = 0)\n",
      "    C_6:  8.55395175 +/- 0.18457209 (2.16%) (init = 0)\n",
      "    C_7: -0.16987719 +/- 0.00374814 (2.21%) (init = 0)\n",
      "    C_8:  0.00130542 +/- 2.9475e-05 (2.26%) (init = 0)\n",
      "[[Correlations]] (unreported correlations are < 0.100)\n",
      "    C(C_3, C_7) = -1.001\n",
      "    C(C_1, C_5) = -1.001\n",
      "    C(C_3, C_6) =  1.001\n",
      "    C(C_2, C_5) =  1.001\n",
      "    C(C_0, C_5) =  1.001\n",
      "    C(C_3, C_8) =  1.001\n",
      "    C(C_2, C_6) = -1.001\n",
      "    C(C_3, C_5) = -1.001\n",
      "    C(C_1, C_6) =  1.001\n",
      "    C(C_2, C_7) =  1.001\n",
      "    C(C_0, C_6) = -1.001\n",
      "    C(C_2, C_8) = -1.001\n",
      "    C(C_1, C_7) = -1.001\n",
      "    C(C_0, C_7) =  1.001\n",
      "    C(C_1, C_8) =  1.001\n",
      "    C(C_0, C_8) = -1.001\n",
      "    C(C_6, C_8) =  1.000\n",
      "    C(C_0, C_2) =  1.000\n",
      "    C(C_7, C_8) = -1.000\n",
      "    C(C_0, C_1) = -1.000\n",
      "    C(C_6, C_7) = -1.000\n",
      "    C(C_1, C_2) = -1.000\n",
      "    C(C_5, C_8) = -1.000\n",
      "    C(C_0, C_3) = -1.000\n",
      "    C(C_5, C_7) =  1.000\n",
      "    C(C_1, C_3) =  1.000\n",
      "    C(C_5, C_6) = -1.000\n",
      "    C(C_2, C_3) = -1.000\n",
      "\n"
     ]
    }
   ],
   "source": [
    "result = polyfit_order_n(8, df_[f\"{probe}_Cal_T\"], df_[\"Scaled Hall Voltage\"], sigma_B)"
   ]
  },
  {
   "cell_type": "code",
   "execution_count": 133,
   "metadata": {},
   "outputs": [
    {
     "data": {
      "text/plain": [
       "(<Figure size 864x864 with 2 Axes>, GridSpec(2, 1, height_ratios=[1, 4]))"
      ]
     },
     "execution_count": 133,
     "metadata": {},
     "output_type": "execute_result"
    },
    {
     "data": {
      "image/png": "[encoded data removed]",
      "text/plain": [
       "<Figure size 864x864 with 2 Axes>"
      ]
     },
     "metadata": {
      "needs_background": "light"
     },
     "output_type": "display_data"
    }
   ],
   "source": [
    "result.plot()"
   ]
  },
  {
   "cell_type": "code",
   "execution_count": null,
   "metadata": {},
   "outputs": [],
   "source": []
  },
  {
   "cell_type": "code",
   "execution_count": 169,
   "metadata": {},
   "outputs": [
    {
     "data": {
      "text/plain": [
       "array([35398.,  1270.,  4974.,  1439.,  1403.,  1430.,   204.,  1224.,\n",
       "        2142.])"
      ]
     },
     "execution_count": 169,
     "metadata": {},
     "output_type": "execute_result"
    }
   ],
   "source": [
    "ns"
   ]
  },
  {
   "cell_type": "code",
   "execution_count": 170,
   "metadata": {},
   "outputs": [
    {
     "data": {
      "text/plain": [
       "array([6.438081  , 0.23098375, 0.90465605, 0.26172096, 0.25517339,\n",
       "       0.26008407, 0.0371029 , 0.22261741, 0.38958047])"
      ]
     },
     "execution_count": 170,
     "metadata": {},
     "output_type": "execute_result"
    }
   ],
   "source": [
    "ns / ns.mean()"
   ]
  },
  {
   "cell_type": "code",
   "execution_count": null,
   "metadata": {},
   "outputs": [],
   "source": [
    "x_dat_avg = pd.Series(x_dat_avg)\n",
    "ys = pd.Series(ys)\n",
    "yerrs = pd.Series(yerrs)\n",
    "ns = pd.Series(ns)"
   ]
  },
  {
   "cell_type": "code",
   "execution_count": null,
   "metadata": {},
   "outputs": [],
   "source": [
    "result = polyfit_order_n(1,x_dat_avg, ys, ns.mean()*yerrs / ns)"
   ]
  },
  {
   "cell_type": "code",
   "execution_count": 171,
   "metadata": {},
   "outputs": [
    {
     "data": {
      "image/png": "[encoded data removed]",
      "text/plain": [
       "<Figure size 864x576 with 1 Axes>"
      ]
     },
     "metadata": {
      "needs_background": "light"
     },
     "output_type": "display_data"
    }
   ],
   "source": [
    "#def chi2(f, x, std):\n",
    "#        return np.sum(np.square((x-f)/std))\n",
    "\n",
    "#len(sigma_B)\n",
    "\n",
    "#len(df_)\n",
    "\n",
    "#fit_chi2 = chi2(df_[\"Bmag_lsq\"], df_[\"Scaled Hall Voltage\"], sigma_B)\n",
    "#fit_chi2\n",
    "fit_chi2 = result.chisqr#0.3247\n",
    "\n",
    "dof = len(df_) - 5#4 # 4 parameter fit\n",
    "#dof\n",
    "\n",
    "n = np.linspace(0,12, 100)\n",
    "\n",
    "P = stats.chi2.pdf(n, dof)\n",
    "\n",
    "# 3rd order\n",
    "plt.plot(n,P)\n",
    "plt.plot([fit_chi2, fit_chi2],[0., P.max()], 'r--');"
   ]
  },
  {
   "cell_type": "code",
   "execution_count": null,
   "metadata": {},
   "outputs": [],
   "source": [
    "fig = scatter2d(df_.index, df_[\"DF0000000D5E803A_Cal_Res_Rel\"], df_.days_delta, inline=False)"
   ]
  },
  {
   "cell_type": "code",
   "execution_count": null,
   "metadata": {},
   "outputs": [],
   "source": [
    "result.plot()"
   ]
  },
  {
   "cell_type": "code",
   "execution_count": 172,
   "metadata": {},
   "outputs": [],
   "source": [
    "def plot_polynomial(N, x_dat, y_dat, c_dat, result,\n",
    "                    size=5, filename=None, inline=False, show_plot=True):\n",
    "    \n",
    "    ####averaged=True\n",
    "\n",
    "    # plot the data\n",
    "    fig = scatter2d(x_dat,\n",
    "                    y_dat,\n",
    "                    c_dat, opacity=0.9, show_plot=False)\n",
    "    # add line for fit\n",
    "    xs = np.linspace(x_dat.min(), x_dat.max(), 100)\n",
    "    ys = result.eval(x=xs)\n",
    "    fig.add_trace(go.Scatter(\n",
    "                        x=xs, y=ys,\n",
    "                        mode='lines', name=f'Order {N} Polynomial fit',#\"|V|/|B| = A * Temp. + B\",\n",
    "                        line=dict(color='rgb(78, 42, 132)',#'deeppink',\n",
    "                                  width=1,\n",
    "                                  dash='dash')));\n",
    "    #fig.add_trace(go.Scatter(\n",
    "    #                    x=ts, y=B_lsq_avg,\n",
    "    #                    mode='lines', name=\"mean(|V|/|B|) = A * mean(Temp.) + B\",\n",
    "    #                    line=dict(color='purple', width=1,\n",
    "    #                              dash='dash')));\n",
    "\n",
    "    fig.update_traces(marker=dict(size=size));\n",
    "\n",
    "    '''if averaged:\n",
    "        fig.add_trace(go.Scatter(\n",
    "            x= xs,\n",
    "            y= ys,\n",
    "            mode='markers',\n",
    "            name='Averaged Data',\n",
    "            error_x=dict(\n",
    "                type='data',\n",
    "                array=xerrs,\n",
    "                width=1,\n",
    "                thickness=1.,\n",
    "                visible=True),\n",
    "            error_y=dict(\n",
    "                type='data',\n",
    "                array=yerrs,\n",
    "                width=1,\n",
    "                thickness=1.,\n",
    "                visible=True),\n",
    "            marker=dict(\n",
    "                size=3,\n",
    "                color=\"Red\",\n",
    "            )\n",
    "        ))'''\n",
    "\n",
    "    #eqn = f\"Volt. = {A_fit:.2E} * Temp. + {B_fit:.2E}\"\n",
    "    eqn = f\"y = \"\n",
    "    for n in range(N+1):\n",
    "        p = result.params[f\"C_{n}\"]\n",
    "        eqn += f\"{p:.2E} * x^{n}\"\n",
    "        if (n >= 2) and ((n+1)%3 == 0) and (n != N):\n",
    "            eqn += \"<br>    \"\n",
    "    ax = 250\n",
    "    ay = -25\n",
    "    if result.params[\"C_1\"] < 0:\n",
    "        i = 20\n",
    "        #ax= +\n",
    "        #ay= -\n",
    "    else:\n",
    "        i = -20\n",
    "        ax = -ax\n",
    "        ay = -ay\n",
    "    fig.add_annotation(\n",
    "        go.layout.Annotation(\n",
    "                x=xs[i],\n",
    "                y=ys[i],\n",
    "                text=eqn,\n",
    "                font=dict(\n",
    "                    #family=\"Courier New, monospace\",\n",
    "                    size=12,\n",
    "                    color=\"#ffffff\"\n",
    "                ),\n",
    "                align=\"center\",\n",
    "                arrowhead=2,\n",
    "                arrowsize=1,\n",
    "                arrowwidth=2,\n",
    "                arrowcolor=\"#636363\",\n",
    "                ax=ax,\n",
    "                ay=ax,\n",
    "                bordercolor=\"#c7c7c7\",\n",
    "                borderwidth=2,\n",
    "                borderpad=4,\n",
    "                bgcolor='rgb(78, 42, 132)',#\"#ff7f0e\",\n",
    "                opacity=0.65,\n",
    "                showarrow=True#False\n",
    "        )\n",
    "    )\n",
    "\n",
    "    fig.update_layout(title=\"y vs. x\")\n",
    "    fig.update_xaxes(title_text='x')\n",
    "    fig.update_yaxes(title_text='y')\n",
    "    #fig.update_layout( width=1000,height=600,)\n",
    "\n",
    "    #filename = plotdir+\"scaled_voltage_vs_temperature_3rd_order\"\n",
    "    if filename == None:\n",
    "        if show_plot:\n",
    "            if inline:\n",
    "                iplot(fig)\n",
    "            else:\n",
    "                plot(fig)\n",
    "    else:\n",
    "        if show_plot:\n",
    "            if inline:\n",
    "                iplot(fig, filename=filename+'.html')\n",
    "            else:\n",
    "                plot(fig, filename=filename+'.html')\n",
    "        pio.write_image(fig, filename+'.pdf')\n",
    "        pio.write_image(fig, filename+'.png')\n",
    "    \n",
    "    return fig"
   ]
  },
  {
   "cell_type": "code",
   "execution_count": 173,
   "metadata": {},
   "outputs": [
    {
     "ename": "NameError",
     "evalue": "name 'plot_poly_chi2' is not defined",
     "output_type": "error",
     "traceback": [
      "\u001b[0;31m---------------------------------------------------------------------------\u001b[0m",
      "\u001b[0;31mNameError\u001b[0m                                 Traceback (most recent call last)",
      "\u001b[0;32m<ipython-input-173-4993b2c748f2>\u001b[0m in \u001b[0;36m<module>\u001b[0;34m\u001b[0m\n\u001b[0;32m----> 1\u001b[0;31m \u001b[0mfig\u001b[0m \u001b[0;34m=\u001b[0m \u001b[0mplot_poly_chi2\u001b[0m\u001b[0;34m(\u001b[0m\u001b[0;36m4\u001b[0m\u001b[0;34m,\u001b[0m \u001b[0mresult\u001b[0m\u001b[0;34m)\u001b[0m\u001b[0;34m\u001b[0m\u001b[0;34m\u001b[0m\u001b[0m\n\u001b[0m",
      "\u001b[0;31mNameError\u001b[0m: name 'plot_poly_chi2' is not defined"
     ]
    }
   ],
   "source": [
    "fig = plot_poly_chi2(4, result)"
   ]
  },
  {
   "cell_type": "code",
   "execution_count": null,
   "metadata": {},
   "outputs": [],
   "source": [
    "fig = plot_poly_chi2(1, result)"
   ]
  },
  {
   "cell_type": "code",
   "execution_count": null,
   "metadata": {},
   "outputs": [],
   "source": [
    "N = 1\n",
    "len(result.data) - (N+1) # y values"
   ]
  },
  {
   "cell_type": "code",
   "execution_count": 174,
   "metadata": {},
   "outputs": [],
   "source": [
    "def plot_poly_chi2(N, result, filename=None, inline=False, show_plot=True):\n",
    "    dof = len(result.data) - (N+1)\n",
    "    fit_chi2 = result.chisqr\n",
    "    P_at_fit = 1.-stats.chi2.cdf(fit_chi2, dof)\n",
    "    print(f\"Probability of Chi2: {P_at_fit}\")\n",
    "    \n",
    "    lo = min(fit_chi2*0.5, dof / 4)\n",
    "    hi = max(fit_chi2*1.5, 2*dof*1.5)\n",
    "    \n",
    "    n = np.linspace(lo,hi, 1000)\n",
    "\n",
    "    P = stats.chi2.pdf(n, dof)\n",
    "    \n",
    "    n = pd.Series(n, name=\"Chi^2\")\n",
    "    P = pd.Series(P, name=\"p.d.f.\")\n",
    "    \n",
    "    if np.isfinite(P.max()):\n",
    "        ymax = P.max()\n",
    "    else:\n",
    "        ymax = 1.\n",
    "\n",
    "    fig = scatter2d(n,P, show_plot=False)\n",
    "    fig.add_trace(go.Scatter(\n",
    "                            x=[fit_chi2, fit_chi2], y=[0., ymax],\n",
    "                            mode='lines', name=f'Fit Chi^2 = {fit_chi2}',#\"|V|/|B| = A * Temp. + B\",\n",
    "                            line=dict(color='rgb(78, 42, 132)',#'deeppink',\n",
    "                                      width=1,\n",
    "                                      dash='dash')));\n",
    "        \n",
    "    if filename == None:\n",
    "        if show_plot:\n",
    "            if inline:\n",
    "                iplot(fig)\n",
    "            else:\n",
    "                plot(fig)\n",
    "    else:\n",
    "        if show_plot:\n",
    "            if inline:\n",
    "                iplot(fig, filename=filename+'.html')\n",
    "            else:\n",
    "                plot(fig, filename=filename+'.html')\n",
    "        pio.write_image(fig, filename+'.pdf')\n",
    "        pio.write_image(fig, filename+'.png')\n",
    "    \n",
    "    return fig"
   ]
  },
  {
   "cell_type": "code",
   "execution_count": 175,
   "metadata": {},
   "outputs": [
    {
     "name": "stdout",
     "output_type": "stream",
     "text": [
      "Probability of Chi2: 0.0\n"
     ]
    }
   ],
   "source": [
    "fig = plot_poly_chi2(4, result)"
   ]
  },
  {
   "cell_type": "code",
   "execution_count": null,
   "metadata": {},
   "outputs": [],
   "source": [
    "len(result.data)"
   ]
  },
  {
   "cell_type": "code",
   "execution_count": null,
   "metadata": {},
   "outputs": [],
   "source": [
    "len(result.params) - 2"
   ]
  },
  {
   "cell_type": "code",
   "execution_count": null,
   "metadata": {},
   "outputs": [],
   "source": [
    "result.chisqr"
   ]
  },
  {
   "cell_type": "code",
   "execution_count": null,
   "metadata": {},
   "outputs": [],
   "source": [
    "result."
   ]
  },
  {
   "cell_type": "code",
   "execution_count": null,
   "metadata": {},
   "outputs": [],
   "source": []
  },
  {
   "cell_type": "code",
   "execution_count": null,
   "metadata": {},
   "outputs": [],
   "source": []
  },
  {
   "cell_type": "code",
   "execution_count": null,
   "metadata": {},
   "outputs": [],
   "source": [
    "result.eval(x=df[f\"{probe}_Cal_T\"])"
   ]
  },
  {
   "cell_type": "raw",
   "metadata": {},
   "source": [
    "**result.params"
   ]
  },
  {
   "cell_type": "code",
   "execution_count": null,
   "metadata": {},
   "outputs": [],
   "source": [
    "polynomial(np.array([0,1,2]), len(result.params)-2, **result.params)"
   ]
  },
  {
   "cell_type": "code",
   "execution_count": null,
   "metadata": {},
   "outputs": [],
   "source": []
  },
  {
   "cell_type": "code",
   "execution_count": null,
   "metadata": {},
   "outputs": [],
   "source": []
  },
  {
   "cell_type": "code",
   "execution_count": null,
   "metadata": {},
   "outputs": [],
   "source": []
  },
  {
   "cell_type": "code",
   "execution_count": null,
   "metadata": {},
   "outputs": [],
   "source": [
    "    df_[\"Bmag_lsq\"] = volt_3rd(x_dat, A_fit, B_fit, C_fit, D_fit)\n",
    "    df_[\"Bmag_lsq_avg\"] = volt_3rd(x_dat, A_fit_avg, B_fit_avg, C_fit_avg, D_fit_avg)\n",
    "\n",
    "    ts = np.linspace(x_dat.min(), x_dat.max(), 25)\n",
    "\n",
    "    B_lsq = volt_3rd(ts, A_fit, B_fit, C_fit, D_fit)\n",
    "    B_lsq_avg = volt_3rd(ts, A_fit_avg, B_fit_avg, C_fit_avg, D_fit_avg)\n",
    "\n",
    "    B_lsq = pd.Series(B_lsq, name=\"Stable Temp Fit\")\n",
    "    B_lsq_avg = pd.Series(B_lsq_avg, name=\"Stable Temp Averaged Fit\")\n",
    "\n",
    "    averaged=True\n",
    "\n",
    "    fig = scatter2d(x_dat,\n",
    "                    y_dat,\n",
    "                    df_.days_delta, opacity=0.8, show_plot=False)\n",
    "\n",
    "    fig.add_trace(go.Scatter(\n",
    "                        x=ts, y=B_lsq,\n",
    "                        mode='lines', name='Linear fit',#\"|V|/|B| = A * Temp. + B\",\n",
    "                        line=dict(color='rgb(78, 42, 132)',#'deeppink',\n",
    "                                  width=1,\n",
    "                                  dash='dash')));\n",
    "    #fig.add_trace(go.Scatter(\n",
    "    #                    x=ts, y=B_lsq_avg,\n",
    "    #                    mode='lines', name=\"mean(|V|/|B|) = A * mean(Temp.) + B\",\n",
    "    #                    line=dict(color='purple', width=1,\n",
    "    #                              dash='dash')));\n",
    "\n",
    "    fig.update_traces(marker=dict(size=1));\n",
    "\n",
    "    if averaged:\n",
    "        fig.add_trace(go.Scatter(\n",
    "            x= xs,\n",
    "            y= ys,\n",
    "            mode='markers',\n",
    "            name='Averaged Data',\n",
    "            error_x=dict(\n",
    "                type='data',\n",
    "                array=xerrs,\n",
    "                width=1,\n",
    "                thickness=1.,\n",
    "                visible=True),\n",
    "            error_y=dict(\n",
    "                type='data',\n",
    "                array=yerrs,\n",
    "                width=1,\n",
    "                thickness=1.,\n",
    "                visible=True),\n",
    "            marker=dict(\n",
    "                size=3,\n",
    "                color=\"Red\",\n",
    "            )\n",
    "        ))\n",
    "\n",
    "    #eqn = f\"Volt. = {A_fit:.2E} * Temp. + {B_fit:.2E}\"\n",
    "    eqn = f\"y = {A_fit:.2E} * x + {B_fit:.2E} * x^2 + {C_fit:.2E} * x^3 + {D_fit:.2E}\"\n",
    "\n",
    "    i = 6\n",
    "    fig.add_annotation(\n",
    "        go.layout.Annotation(\n",
    "                x=ts[i],\n",
    "                y=B_lsq.iloc[i],\n",
    "                text=eqn,\n",
    "                font=dict(\n",
    "                    #family=\"Courier New, monospace\",\n",
    "                    size=14,\n",
    "                    color=\"#ffffff\"\n",
    "                ),\n",
    "                align=\"center\",\n",
    "                arrowhead=2,\n",
    "                arrowsize=1,\n",
    "                arrowwidth=2,\n",
    "                arrowcolor=\"#636363\",\n",
    "                ax=+250,\n",
    "                ay=-25,\n",
    "                bordercolor=\"#c7c7c7\",\n",
    "                borderwidth=2,\n",
    "                borderpad=4,\n",
    "                bgcolor='rgb(78, 42, 132)',#\"#ff7f0e\",\n",
    "                opacity=0.7,\n",
    "                showarrow=True#False\n",
    "        )\n",
    "    )\n",
    "\n",
    "    fig.update_layout(title=\"Scaled Hall Voltage vs. Hall Probe Temperature\")\n",
    "    fig.update_xaxes(title_text='Hall Probe Temperature [deg C]')\n",
    "    fig.update_yaxes(title_text='|V_Hall| / NMR [micro V / T]')\n",
    "    fig.update_layout( width=1000,height=600,)\n",
    "\n",
    "    filename = plotdir+\"scaled_voltage_vs_temperature_3rd_order\"\n",
    "\n",
    "    plot(fig, filename=filename+'.html')\n",
    "\n",
    "    pio.write_image(fig, filename+\".pdf\")\n",
    "    pio.write_image(fig, filename+\".png\")\n",
    "\n",
    "\n",
    "\n",
    "    def chi2(f, x, std):\n",
    "        return np.sum(np.square((x-f)/std))\n",
    "\n",
    "    len(sigma_B)\n",
    "\n",
    "    len(df_)\n",
    "\n",
    "    fit_chi2 = chi2(df_[\"Bmag_lsq\"], df_[\"Scaled Hall Voltage\"], sigma_B)\n",
    "    fit_chi2\n",
    "\n",
    "    dof = len(df_) - 3#4 # 4 parameter fit\n",
    "    dof\n",
    "\n",
    "    n = np.linspace(1000,20000, 1000)\n",
    "\n",
    "    P = stats.chi2.pdf(n, dof)\n",
    "\n",
    "    # 3rd order\n",
    "    plt.plot(n,P)\n",
    "    plt.plot([fit_chi2, fit_chi2],[0., P.max()], 'r--');\n",
    "\n",
    "    # 4th order\n",
    "    plt.plot(n,P)\n",
    "    plt.plot([fit_chi2, fit_chi2],[0., P.max()], 'r--');"
   ]
  },
  {
   "cell_type": "code",
   "execution_count": null,
   "metadata": {},
   "outputs": [],
   "source": []
  },
  {
   "cell_type": "code",
   "execution_count": null,
   "metadata": {},
   "outputs": [],
   "source": []
  },
  {
   "cell_type": "code",
   "execution_count": null,
   "metadata": {},
   "outputs": [],
   "source": []
  },
  {
   "cell_type": "code",
   "execution_count": null,
   "metadata": {},
   "outputs": [],
   "source": []
  },
  {
   "cell_type": "code",
   "execution_count": null,
   "metadata": {},
   "outputs": [],
   "source": []
  },
  {
   "cell_type": "code",
   "execution_count": null,
   "metadata": {},
   "outputs": [],
   "source": []
  },
  {
   "cell_type": "markdown",
   "metadata": {},
   "source": [
    "## OLD"
   ]
  },
  {
   "cell_type": "code",
   "execution_count": null,
   "metadata": {},
   "outputs": [],
   "source": []
  },
  {
   "cell_type": "code",
   "execution_count": null,
   "metadata": {},
   "outputs": [],
   "source": [
    "high_point = (df[f\"{probe}_Cal_T\"] > 20) & (df[f\"{probe}_Cal_T\"] < 21)\n",
    "low_point = (df[f\"{probe}_Cal_T\"] > 16) & (df[f\"{probe}_Cal_T\"] < 17)\n",
    "mid_point = (df[f\"{probe}_Cal_T\"] > 18) & (df[f\"{probe}_Cal_T\"] < 19)\n",
    "h = high_point & stable_temp\n",
    "l = low_point & stable_temp\n",
    "m = mid_point & stable_temp"
   ]
  },
  {
   "cell_type": "code",
   "execution_count": null,
   "metadata": {},
   "outputs": [],
   "source": [
    "plt.hist(df[h][f\"{probe}_Raw_Bmag\"]/df[h][\"NMR [T]\"], bins=50);"
   ]
  },
  {
   "cell_type": "code",
   "execution_count": null,
   "metadata": {},
   "outputs": [],
   "source": [
    "fig = scatter2d(df[h][f\"{probe}_Cal_T\"], df[h][f\"{probe}_Raw_Bmag\"]/df[h][\"NMR [T]\"],\n",
    "                df[h].days_delta, inline=False)"
   ]
  },
  {
   "cell_type": "code",
   "execution_count": null,
   "metadata": {},
   "outputs": [],
   "source": [
    "hist2 = plt.hist2d(df[h][f\"{probe}_Cal_T\"], df[h][f\"{probe}_Raw_Bmag\"]/df[h][\"NMR [T]\"], bins=35);"
   ]
  },
  {
   "cell_type": "code",
   "execution_count": null,
   "metadata": {},
   "outputs": [],
   "source": [
    "hist2[1]"
   ]
  },
  {
   "cell_type": "code",
   "execution_count": null,
   "metadata": {},
   "outputs": [],
   "source": [
    "36*36"
   ]
  },
  {
   "cell_type": "code",
   "execution_count": null,
   "metadata": {},
   "outputs": [],
   "source": [
    "len(hist2[1])"
   ]
  },
  {
   "cell_type": "code",
   "execution_count": null,
   "metadata": {},
   "outputs": [],
   "source": [
    "len(hist2[2])"
   ]
  },
  {
   "cell_type": "code",
   "execution_count": null,
   "metadata": {},
   "outputs": [],
   "source": [
    "int(np.floor(hist2[0].argmax() / 36))"
   ]
  },
  {
   "cell_type": "code",
   "execution_count": null,
   "metadata": {},
   "outputs": [],
   "source": [
    "int(round(((hist2[0].argmax() / 35) - int(np.floor(hist2[0].argmax() / 35))) * 35))"
   ]
  },
  {
   "cell_type": "code",
   "execution_count": null,
   "metadata": {},
   "outputs": [],
   "source": [
    "1296-int(np.floor(hist2[0].argmax() / 36))*36"
   ]
  },
  {
   "cell_type": "code",
   "execution_count": null,
   "metadata": {},
   "outputs": [],
   "source": [
    "hist2[0][int(np.floor(hist2[0].argmax() / 35)), int(round(((hist2[0].argmax() / 35) - int(np.floor(hist2[0].argmax() / 35))) * 35))]"
   ]
  },
  {
   "cell_type": "code",
   "execution_count": null,
   "metadata": {},
   "outputs": [],
   "source": [
    "for x, y in np.argwhere(hist2[0] == hist2[0].max()):\n",
    "    # center is between x and x+1\n",
    "    print(np.average(hist2[1][x:x + 2]), np.average(hist2[2][y:y + 2]))"
   ]
  },
  {
   "cell_type": "code",
   "execution_count": null,
   "metadata": {},
   "outputs": [],
   "source": [
    "(df[h][f\"{probe}_Raw_Bmag\"]/df[h][\"NMR [T]\"]).describe()"
   ]
  },
  {
   "cell_type": "code",
   "execution_count": null,
   "metadata": {},
   "outputs": [],
   "source": [
    "df[h][f\"{probe}_Cal_T\"].describe()"
   ]
  },
  {
   "cell_type": "code",
   "execution_count": null,
   "metadata": {},
   "outputs": [],
   "source": []
  },
  {
   "cell_type": "code",
   "execution_count": null,
   "metadata": {},
   "outputs": [],
   "source": [
    "fig = scatter2d(df[stable_temp].index, df[stable_temp][\"Floor\"], inline=False)"
   ]
  },
  {
   "cell_type": "code",
   "execution_count": null,
   "metadata": {},
   "outputs": [],
   "source": [
    "fig = scatter2d(df.index, df[\"Floor\"].diff(5).rolling(5).mean(), inline=False)"
   ]
  },
  {
   "cell_type": "code",
   "execution_count": null,
   "metadata": {},
   "outputs": [],
   "source": [
    "df[\"Roof\"].diff(4).plot()"
   ]
  },
  {
   "cell_type": "code",
   "execution_count": null,
   "metadata": {},
   "outputs": [],
   "source": [
    "df[\"NMR [T]\"].plot()\n",
    "#df[\"Roof\"].diff(1).plot();"
   ]
  },
  {
   "cell_type": "code",
   "execution_count": null,
   "metadata": {},
   "outputs": [],
   "source": []
  },
  {
   "cell_type": "code",
   "execution_count": null,
   "metadata": {},
   "outputs": [],
   "source": []
  },
  {
   "cell_type": "code",
   "execution_count": null,
   "metadata": {},
   "outputs": [],
   "source": [
    "df_ = df[l|m|h]"
   ]
  },
  {
   "cell_type": "code",
   "execution_count": null,
   "metadata": {},
   "outputs": [],
   "source": [
    "def volt(temp, A, B):\n",
    "    return A * temp + B"
   ]
  },
  {
   "cell_type": "code",
   "execution_count": null,
   "metadata": {},
   "outputs": [],
   "source": [
    "guess = np.array([-1300 / 3.5, 2e6]) # A, B"
   ]
  },
  {
   "cell_type": "code",
   "execution_count": null,
   "metadata": {},
   "outputs": [],
   "source": [
    "x_dat = df_[f\"{probe}_Cal_T\"]\n",
    "#x_dat = df[stable_temp][f\"{probe}_Cal_T\"]"
   ]
  },
  {
   "cell_type": "code",
   "execution_count": null,
   "metadata": {},
   "outputs": [],
   "source": [
    "params, cov = optimization.curve_fit(volt, x_dat, df_[f\"{probe}_Raw_Bmag\"] / df_[\"NMR [T]\"], guess)\n",
    "#params, cov = optimization.curve_fit(volt, x_dat, \n",
    "#                                     df[stable_temp][f\"{probe}_Raw_Bmag\"] / df[stable_temp][\"NMR [T]\"], guess)"
   ]
  },
  {
   "cell_type": "code",
   "execution_count": null,
   "metadata": {},
   "outputs": [],
   "source": [
    "# Bmag ### STABLE TEMP\n",
    "params, cov"
   ]
  },
  {
   "cell_type": "code",
   "execution_count": null,
   "metadata": {},
   "outputs": [],
   "source": [
    "np.sqrt(cov[0,0])"
   ]
  },
  {
   "cell_type": "code",
   "execution_count": null,
   "metadata": {},
   "outputs": [],
   "source": [
    "cov[0,1] / (np.sqrt(cov[0,0])*np.sqrt(cov[1,1]))"
   ]
  },
  {
   "cell_type": "markdown",
   "metadata": {},
   "source": [
    "Parameters have strong correlation"
   ]
  },
  {
   "cell_type": "code",
   "execution_count": null,
   "metadata": {},
   "outputs": [],
   "source": [
    "A_fit, B_fit = params"
   ]
  },
  {
   "cell_type": "code",
   "execution_count": null,
   "metadata": {},
   "outputs": [],
   "source": [
    "df_[\"Bmag_lsq\"] = volt(x_dat, A_fit, B_fit)"
   ]
  },
  {
   "cell_type": "code",
   "execution_count": null,
   "metadata": {},
   "outputs": [],
   "source": []
  },
  {
   "cell_type": "code",
   "execution_count": null,
   "metadata": {},
   "outputs": [],
   "source": [
    "p_low = [df[l][f\"{probe}_Cal_T\"].mean(), (df[l][f\"{probe}_Raw_Bmag\"]/df[l][\"NMR [T]\"]).mean()]\n",
    "p_high = [df[h][f\"{probe}_Cal_T\"].mean(), (df[h][f\"{probe}_Raw_Bmag\"]/df[h][\"NMR [T]\"]).mean()]\n",
    "p_mid = [df[m][f\"{probe}_Cal_T\"].mean(), (df[m][f\"{probe}_Raw_Bmag\"]/df[m][\"NMR [T]\"]).mean()]"
   ]
  },
  {
   "cell_type": "code",
   "execution_count": null,
   "metadata": {},
   "outputs": [],
   "source": [
    "std_low = [df[l][f\"{probe}_Cal_T\"].std(), (df[l][f\"{probe}_Raw_Bmag\"]/df[l][\"NMR [T]\"]).std()]\n",
    "std_high = [df[h][f\"{probe}_Cal_T\"].std(), (df[h][f\"{probe}_Raw_Bmag\"]/df[h][\"NMR [T]\"]).std()]\n",
    "std_mid = [df[m][f\"{probe}_Cal_T\"].std(), (df[m][f\"{probe}_Raw_Bmag\"]/df[m][\"NMR [T]\"]).std()]"
   ]
  },
  {
   "cell_type": "code",
   "execution_count": null,
   "metadata": {},
   "outputs": [],
   "source": [
    "std_low"
   ]
  },
  {
   "cell_type": "code",
   "execution_count": null,
   "metadata": {},
   "outputs": [],
   "source": [
    "fig = scatter2d(df_[f\"{probe}_Cal_T\"],\n",
    "                df_[f\"{probe}_Raw_Bmag\"] / df_[\"NMR [T]\"],\n",
    "                df_.days_delta, show_plot=False)\n",
    "#d = [df[f\"{probe}_Raw_X\"].min(), df[f\"{probe}_Raw_X\"].max()]\n",
    "fig.add_trace(go.Scatter(\n",
    "                    x=df_[f\"{probe}_Cal_T\"], y=df_[\"Bmag_lsq\"],\n",
    "                    mode='lines', name=\"|V|/|B| = A * Temp. + B\",\n",
    "                    line=dict(color='deeppink', width=1,\n",
    "                              dash='dash')));\n",
    "#plot(fig)\n",
    "\n",
    "fig.update_traces(marker=dict(size=1));\n",
    "#plot(fig);\n",
    "\n",
    "fig.add_trace(go.Scatter(\n",
    "    x= [p_low[0],p_mid[0],p_high[0]],\n",
    "    y=[p_low[1],p_mid[1],p_high[1]],\n",
    "    mode='markers',\n",
    "    name='averaged_data',\n",
    "    error_x=dict(\n",
    "        type='data',\n",
    "        array=[std_low[0], std_mid[0], std_high[0]],\n",
    "        width=1,\n",
    "        thickness=1.,\n",
    "        visible=True),\n",
    "    error_y=dict(\n",
    "        type='data',\n",
    "        array=[std_low[1], std_mid[1], std_high[1]],\n",
    "        width=1,\n",
    "        thickness=1.,\n",
    "        visible=True),\n",
    "    marker=dict(\n",
    "        size=4,\n",
    "        color=\"Red\",\n",
    "    )\n",
    "))\n",
    "\n",
    "fig.update_layout(title=\"Scaled Hall Voltage vs. Hall Probe Temperature\")\n",
    "fig.update_xaxes(title_text='Hall Probe Temperature [deg C]')\n",
    "fig.update_yaxes(title_text='|V_Hall| / NMR [micro V / T]')\n",
    "fig.update_layout( width=1200,height=900,)\n",
    "\n",
    "#fig = go.Figure(traces)\n",
    "plot(fig, filename=plotdir+\"temp_fit_2point_aggregate.html\")"
   ]
  },
  {
   "cell_type": "code",
   "execution_count": null,
   "metadata": {},
   "outputs": [],
   "source": [
    "pio.write_image(fig, plotdir+\"temp_fit_2point_aggregate.pdf\")\n",
    "pio.write_image(fig, plotdir+\"temp_fit_2point_aggregate.png\")"
   ]
  },
  {
   "cell_type": "code",
   "execution_count": null,
   "metadata": {},
   "outputs": [],
   "source": [
    "std_low"
   ]
  },
  {
   "cell_type": "code",
   "execution_count": null,
   "metadata": {},
   "outputs": [],
   "source": [
    "std_mid"
   ]
  },
  {
   "cell_type": "code",
   "execution_count": null,
   "metadata": {},
   "outputs": [],
   "source": [
    "std_high"
   ]
  },
  {
   "cell_type": "code",
   "execution_count": null,
   "metadata": {},
   "outputs": [],
   "source": [
    "### pick std = 55\n",
    "std_volt = 45.#55."
   ]
  },
  {
   "cell_type": "code",
   "execution_count": null,
   "metadata": {},
   "outputs": [],
   "source": [
    "def chi2(f, x, std):\n",
    "    return np.sum(np.square((x-f)/std))"
   ]
  },
  {
   "cell_type": "code",
   "execution_count": null,
   "metadata": {},
   "outputs": [],
   "source": [
    "fit_chi2 = chi2(df_[\"Bmag_lsq\"], df_[f\"{probe}_Raw_Bmag\"]/df_[\"NMR [T]\"], std_volt)\n",
    "fit_chi2"
   ]
  },
  {
   "cell_type": "code",
   "execution_count": null,
   "metadata": {},
   "outputs": [],
   "source": [
    "# check std\n",
    "df_2 = df_[100:500]"
   ]
  },
  {
   "cell_type": "code",
   "execution_count": null,
   "metadata": {},
   "outputs": [],
   "source": [
    "fig = scatter2d(df_2.index, df_2[f\"{probe}_Raw_Bmag\"]/df_2[\"NMR [T]\"],\n",
    "               inline=False)"
   ]
  },
  {
   "cell_type": "code",
   "execution_count": null,
   "metadata": {},
   "outputs": [],
   "source": [
    "scaled_B = df_2[f\"{probe}_Raw_Bmag\"]/df_2[\"NMR [T]\"]\n",
    "scaled_B.name = \"Scaled |V|/|B|\""
   ]
  },
  {
   "cell_type": "code",
   "execution_count": null,
   "metadata": {},
   "outputs": [],
   "source": [
    "fig = histo(scaled_B, bins=25,\n",
    "               inline=False)"
   ]
  },
  {
   "cell_type": "code",
   "execution_count": null,
   "metadata": {},
   "outputs": [],
   "source": [
    "dof = len(df_) - 2\n",
    "dof"
   ]
  },
  {
   "cell_type": "code",
   "execution_count": null,
   "metadata": {},
   "outputs": [],
   "source": [
    "stats.chi2.pdf(6300, 6325)"
   ]
  },
  {
   "cell_type": "code",
   "execution_count": null,
   "metadata": {},
   "outputs": [],
   "source": [
    "n = np.linspace(0, 7000, 1000)"
   ]
  },
  {
   "cell_type": "code",
   "execution_count": null,
   "metadata": {},
   "outputs": [],
   "source": [
    "P = stats.chi2.pdf(n, dof)"
   ]
  },
  {
   "cell_type": "code",
   "execution_count": null,
   "metadata": {},
   "outputs": [],
   "source": [
    "plt.plot(n,P)\n",
    "plt.plot([fit_chi2, fit_chi2],[0., P.max()], 'r--');"
   ]
  },
  {
   "cell_type": "code",
   "execution_count": null,
   "metadata": {},
   "outputs": [],
   "source": [
    "n[P.argmax()]"
   ]
  },
  {
   "cell_type": "markdown",
   "metadata": {},
   "source": [
    "## Magnet Behavior"
   ]
  },
  {
   "cell_type": "code",
   "execution_count": null,
   "metadata": {},
   "outputs": [],
   "source": [
    "probes"
   ]
  },
  {
   "cell_type": "code",
   "execution_count": null,
   "metadata": {},
   "outputs": [],
   "source": [
    "x_dat = df.index\n",
    "y_dat = df[f\"{probes[0]}_Raw_X\"]"
   ]
  },
  {
   "cell_type": "code",
   "execution_count": null,
   "metadata": {},
   "outputs": [],
   "source": [
    "fig = scatter2d(x_dat, y_dat, df.days_delta, inline=False)"
   ]
  },
  {
   "cell_type": "code",
   "execution_count": null,
   "metadata": {},
   "outputs": [],
   "source": []
  }
 ],
 "metadata": {
  "kernelspec": {
   "display_name": "Python [conda env:mu2e]",
   "language": "python",
   "name": "conda-env-mu2e-py"
  },
  "language_info": {
   "codemirror_mode": {
    "name": "ipython",
    "version": 3
   },
   "file_extension": ".py",
   "mimetype": "text/x-python",
   "name": "python",
   "nbconvert_exporter": "python",
   "pygments_lexer": "ipython3",
   "version": "3.8.3"
  }
 },
 "nbformat": 4,
 "nbformat_minor": 2
}
