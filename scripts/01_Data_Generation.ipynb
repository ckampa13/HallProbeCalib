{
 "cells": [
  {
   "cell_type": "markdown",
   "metadata": {},
   "source": [
    "# Background\n",
    "- Need data to fit to, but don't have any data yet (still missing some equipment)\n",
    "- Generate some synthetic data (with noise?) and do a linear fit to find the constants."
   ]
  },
  {
   "cell_type": "markdown",
   "metadata": {},
   "source": [
    "# Imports"
   ]
  },
  {
   "cell_type": "code",
   "execution_count": 1,
   "metadata": {},
   "outputs": [],
   "source": [
    "import numpy as np\n",
    "import scipy.special\n",
    "import scipy.optimize\n",
    "import lmfit as lm\n",
    "import pandas as pd\n",
    "import pickle as pkl\n",
    "import re\n",
    "import matplotlib.pyplot as plt\n",
    "%matplotlib inline\n",
    "\n",
    "import plotly.express as px\n",
    "\n",
    "from hallprobecalib.hpcplots import spherical_scatter3d"
   ]
  },
  {
   "cell_type": "code",
   "execution_count": 2,
   "metadata": {},
   "outputs": [],
   "source": [
    "# nicer plot formatting\n",
    "def config_plots():\n",
    "    #must run twice for some reason (glitch in Jupyter)\n",
    "    for i in range(2):\n",
    "        plt.rcParams['figure.figsize'] = [10, 8]\n",
    "        plt.rcParams['axes.grid'] = True\n",
    "        plt.rcParams['axes.axisbelow'] = True\n",
    "        plt.rcParams['grid.linestyle'] = '--'\n",
    "        plt.rcParams.update({'font.size': 18})\n",
    "        \n",
    "config_plots()"
   ]
  },
  {
   "cell_type": "code",
   "execution_count": 3,
   "metadata": {},
   "outputs": [],
   "source": [
    "#plotdir = \"/home/ckampa/Dropbox/assignments/inverse methods/final_project/paper/figures/\"\n",
    "plotdir = \"/home/ckampa/Dropbox/assignments/w20/inverse methods/final_project/paper/figures/\""
   ]
  },
  {
   "cell_type": "markdown",
   "metadata": {},
   "source": [
    "## Testing with OOP"
   ]
  },
  {
   "cell_type": "code",
   "execution_count": 4,
   "metadata": {},
   "outputs": [],
   "source": [
    "class HallElement:\n",
    "    def __init__(self, constant):\n",
    "        self.constant = constant\n",
    "    \n",
    "    def getBPerp(self, voltage):\n",
    "        return self.constant*voltage"
   ]
  },
  {
   "cell_type": "code",
   "execution_count": 5,
   "metadata": {},
   "outputs": [],
   "source": [
    "e1 = HallElement(1e-6)"
   ]
  },
  {
   "cell_type": "code",
   "execution_count": 6,
   "metadata": {},
   "outputs": [
    {
     "data": {
      "text/plain": [
       "<__main__.HallElement at 0x7f906c78d8e0>"
      ]
     },
     "execution_count": 6,
     "metadata": {},
     "output_type": "execute_result"
    }
   ],
   "source": [
    "e1"
   ]
  },
  {
   "cell_type": "code",
   "execution_count": 7,
   "metadata": {},
   "outputs": [
    {
     "data": {
      "text/plain": [
       "8.0"
      ]
     },
     "execution_count": 7,
     "metadata": {},
     "output_type": "execute_result"
    }
   ],
   "source": [
    "e1.getBPerp(8e6)"
   ]
  },
  {
   "cell_type": "code",
   "execution_count": 8,
   "metadata": {},
   "outputs": [],
   "source": [
    "class HallProbe:\n",
    "    def __init__(self, constant_x, position_x, angle_x, constant_y, position_y, angle_y, constant_z, position_z, angle_z):\n",
    "        he1 = HallElement(constant_x)"
   ]
  },
  {
   "cell_type": "markdown",
   "metadata": {
    "heading_collapsed": true
   },
   "source": [
    "# Model Setup"
   ]
  },
  {
   "cell_type": "code",
   "execution_count": 9,
   "metadata": {
    "hidden": true
   },
   "outputs": [],
   "source": [
    "k_max = 5 # |B| = 5 (Bergsma)\n",
    "n_max = 2 # T = 2 (Bergsma)\n",
    "l_max = 4 # from subtraction plots (Bergsma) to get to 5e-5."
   ]
  },
  {
   "cell_type": "code",
   "execution_count": 10,
   "metadata": {
    "hidden": true
   },
   "outputs": [],
   "source": [
    "\n",
    "\n",
    "#cklm = {f\"c_{}_{}_{}\": 0 for }"
   ]
  },
  {
   "cell_type": "code",
   "execution_count": 11,
   "metadata": {
    "hidden": true
   },
   "outputs": [],
   "source": [
    "#cklm = {}\n",
    "#dnlm = {}\n",
    "params = {}\n",
    "\n",
    "for k in range(k_max+1):\n",
    "    for l in range(l_max+1):\n",
    "        for m in range(0, l+1):\n",
    "            #cklm[f\"c_{k}_{l}_{m}\"] = 0\n",
    "            params[f\"c_{k}_{l}_{m}\"] = 0\n",
    "for n in range(n_max+1):\n",
    "    for l in range(l_max+1):\n",
    "        for m in range(0, l+1):\n",
    "            params[f\"d_{n}_{l}_{m}\"] = 0"
   ]
  },
  {
   "cell_type": "code",
   "execution_count": 12,
   "metadata": {
    "hidden": true
   },
   "outputs": [
    {
     "data": {
      "text/plain": [
       "{'c_0_0_0': 0,\n",
       " 'c_0_1_0': 0,\n",
       " 'c_0_1_1': 0,\n",
       " 'c_0_2_0': 0,\n",
       " 'c_0_2_1': 0,\n",
       " 'c_0_2_2': 0,\n",
       " 'c_0_3_0': 0,\n",
       " 'c_0_3_1': 0,\n",
       " 'c_0_3_2': 0,\n",
       " 'c_0_3_3': 0,\n",
       " 'c_0_4_0': 0,\n",
       " 'c_0_4_1': 0,\n",
       " 'c_0_4_2': 0,\n",
       " 'c_0_4_3': 0,\n",
       " 'c_0_4_4': 0,\n",
       " 'c_1_0_0': 0,\n",
       " 'c_1_1_0': 0,\n",
       " 'c_1_1_1': 0,\n",
       " 'c_1_2_0': 0,\n",
       " 'c_1_2_1': 0,\n",
       " 'c_1_2_2': 0,\n",
       " 'c_1_3_0': 0,\n",
       " 'c_1_3_1': 0,\n",
       " 'c_1_3_2': 0,\n",
       " 'c_1_3_3': 0,\n",
       " 'c_1_4_0': 0,\n",
       " 'c_1_4_1': 0,\n",
       " 'c_1_4_2': 0,\n",
       " 'c_1_4_3': 0,\n",
       " 'c_1_4_4': 0,\n",
       " 'c_2_0_0': 0,\n",
       " 'c_2_1_0': 0,\n",
       " 'c_2_1_1': 0,\n",
       " 'c_2_2_0': 0,\n",
       " 'c_2_2_1': 0,\n",
       " 'c_2_2_2': 0,\n",
       " 'c_2_3_0': 0,\n",
       " 'c_2_3_1': 0,\n",
       " 'c_2_3_2': 0,\n",
       " 'c_2_3_3': 0,\n",
       " 'c_2_4_0': 0,\n",
       " 'c_2_4_1': 0,\n",
       " 'c_2_4_2': 0,\n",
       " 'c_2_4_3': 0,\n",
       " 'c_2_4_4': 0,\n",
       " 'c_3_0_0': 0,\n",
       " 'c_3_1_0': 0,\n",
       " 'c_3_1_1': 0,\n",
       " 'c_3_2_0': 0,\n",
       " 'c_3_2_1': 0,\n",
       " 'c_3_2_2': 0,\n",
       " 'c_3_3_0': 0,\n",
       " 'c_3_3_1': 0,\n",
       " 'c_3_3_2': 0,\n",
       " 'c_3_3_3': 0,\n",
       " 'c_3_4_0': 0,\n",
       " 'c_3_4_1': 0,\n",
       " 'c_3_4_2': 0,\n",
       " 'c_3_4_3': 0,\n",
       " 'c_3_4_4': 0,\n",
       " 'c_4_0_0': 0,\n",
       " 'c_4_1_0': 0,\n",
       " 'c_4_1_1': 0,\n",
       " 'c_4_2_0': 0,\n",
       " 'c_4_2_1': 0,\n",
       " 'c_4_2_2': 0,\n",
       " 'c_4_3_0': 0,\n",
       " 'c_4_3_1': 0,\n",
       " 'c_4_3_2': 0,\n",
       " 'c_4_3_3': 0,\n",
       " 'c_4_4_0': 0,\n",
       " 'c_4_4_1': 0,\n",
       " 'c_4_4_2': 0,\n",
       " 'c_4_4_3': 0,\n",
       " 'c_4_4_4': 0,\n",
       " 'c_5_0_0': 0,\n",
       " 'c_5_1_0': 0,\n",
       " 'c_5_1_1': 0,\n",
       " 'c_5_2_0': 0,\n",
       " 'c_5_2_1': 0,\n",
       " 'c_5_2_2': 0,\n",
       " 'c_5_3_0': 0,\n",
       " 'c_5_3_1': 0,\n",
       " 'c_5_3_2': 0,\n",
       " 'c_5_3_3': 0,\n",
       " 'c_5_4_0': 0,\n",
       " 'c_5_4_1': 0,\n",
       " 'c_5_4_2': 0,\n",
       " 'c_5_4_3': 0,\n",
       " 'c_5_4_4': 0,\n",
       " 'd_0_0_0': 0,\n",
       " 'd_0_1_0': 0,\n",
       " 'd_0_1_1': 0,\n",
       " 'd_0_2_0': 0,\n",
       " 'd_0_2_1': 0,\n",
       " 'd_0_2_2': 0,\n",
       " 'd_0_3_0': 0,\n",
       " 'd_0_3_1': 0,\n",
       " 'd_0_3_2': 0,\n",
       " 'd_0_3_3': 0,\n",
       " 'd_0_4_0': 0,\n",
       " 'd_0_4_1': 0,\n",
       " 'd_0_4_2': 0,\n",
       " 'd_0_4_3': 0,\n",
       " 'd_0_4_4': 0,\n",
       " 'd_1_0_0': 0,\n",
       " 'd_1_1_0': 0,\n",
       " 'd_1_1_1': 0,\n",
       " 'd_1_2_0': 0,\n",
       " 'd_1_2_1': 0,\n",
       " 'd_1_2_2': 0,\n",
       " 'd_1_3_0': 0,\n",
       " 'd_1_3_1': 0,\n",
       " 'd_1_3_2': 0,\n",
       " 'd_1_3_3': 0,\n",
       " 'd_1_4_0': 0,\n",
       " 'd_1_4_1': 0,\n",
       " 'd_1_4_2': 0,\n",
       " 'd_1_4_3': 0,\n",
       " 'd_1_4_4': 0,\n",
       " 'd_2_0_0': 0,\n",
       " 'd_2_1_0': 0,\n",
       " 'd_2_1_1': 0,\n",
       " 'd_2_2_0': 0,\n",
       " 'd_2_2_1': 0,\n",
       " 'd_2_2_2': 0,\n",
       " 'd_2_3_0': 0,\n",
       " 'd_2_3_1': 0,\n",
       " 'd_2_3_2': 0,\n",
       " 'd_2_3_3': 0,\n",
       " 'd_2_4_0': 0,\n",
       " 'd_2_4_1': 0,\n",
       " 'd_2_4_2': 0,\n",
       " 'd_2_4_3': 0,\n",
       " 'd_2_4_4': 0}"
      ]
     },
     "execution_count": 12,
     "metadata": {},
     "output_type": "execute_result"
    }
   ],
   "source": [
    "params"
   ]
  },
  {
   "cell_type": "markdown",
   "metadata": {
    "hidden": true
   },
   "source": [
    "- Should get to 1% error with $\\cos{\\theta}$ contribution.\n",
    "- 10^-3 error with cos (Y10) and planar Hall Effect (Y22)"
   ]
  },
  {
   "cell_type": "code",
   "execution_count": 13,
   "metadata": {
    "hidden": true
   },
   "outputs": [],
   "source": [
    "# first order\n",
    "first_order = [\"_1_0$\"]\n",
    "second_order = [\"_2_2$\"]"
   ]
  },
  {
   "cell_type": "code",
   "execution_count": null,
   "metadata": {
    "hidden": true
   },
   "outputs": [],
   "source": []
  },
  {
   "cell_type": "code",
   "execution_count": 14,
   "metadata": {
    "hidden": true
   },
   "outputs": [
    {
     "name": "stdout",
     "output_type": "stream",
     "text": [
      "First Order:\n",
      "c_0_1_0\n",
      "c_1_1_0\n",
      "c_2_1_0\n",
      "c_3_1_0\n",
      "c_4_1_0\n",
      "c_5_1_0\n",
      "d_0_1_0\n",
      "d_1_1_0\n",
      "d_2_1_0\n",
      "Second Order:\n",
      "c_0_2_2\n",
      "c_1_2_2\n",
      "c_2_2_2\n",
      "c_3_2_2\n",
      "c_4_2_2\n",
      "c_5_2_2\n",
      "d_0_2_2\n",
      "d_1_2_2\n",
      "d_2_2_2\n"
     ]
    }
   ],
   "source": [
    "print('First Order:')\n",
    "for key, value in params.items():\n",
    "    #print(key,value)\n",
    "    if re.search(first_order[0], key):\n",
    "        print(key)\n",
    "        params[key] = 1e3 * (6-int(key[2]))/6\n",
    "print('Second Order:')\n",
    "for key, value in params.items():\n",
    "    if re.search(second_order[0], key):\n",
    "        print(key)\n",
    "        params[key] = 1e2 * (6-int(key[2]))/6"
   ]
  },
  {
   "cell_type": "code",
   "execution_count": 15,
   "metadata": {
    "hidden": true
   },
   "outputs": [
    {
     "data": {
      "text/plain": [
       "{'c_0_0_0': 0,\n",
       " 'c_0_1_0': 1000.0,\n",
       " 'c_0_1_1': 0,\n",
       " 'c_0_2_0': 0,\n",
       " 'c_0_2_1': 0,\n",
       " 'c_0_2_2': 100.0,\n",
       " 'c_0_3_0': 0,\n",
       " 'c_0_3_1': 0,\n",
       " 'c_0_3_2': 0,\n",
       " 'c_0_3_3': 0,\n",
       " 'c_0_4_0': 0,\n",
       " 'c_0_4_1': 0,\n",
       " 'c_0_4_2': 0,\n",
       " 'c_0_4_3': 0,\n",
       " 'c_0_4_4': 0,\n",
       " 'c_1_0_0': 0,\n",
       " 'c_1_1_0': 833.3333333333334,\n",
       " 'c_1_1_1': 0,\n",
       " 'c_1_2_0': 0,\n",
       " 'c_1_2_1': 0,\n",
       " 'c_1_2_2': 83.33333333333333,\n",
       " 'c_1_3_0': 0,\n",
       " 'c_1_3_1': 0,\n",
       " 'c_1_3_2': 0,\n",
       " 'c_1_3_3': 0,\n",
       " 'c_1_4_0': 0,\n",
       " 'c_1_4_1': 0,\n",
       " 'c_1_4_2': 0,\n",
       " 'c_1_4_3': 0,\n",
       " 'c_1_4_4': 0,\n",
       " 'c_2_0_0': 0,\n",
       " 'c_2_1_0': 666.6666666666666,\n",
       " 'c_2_1_1': 0,\n",
       " 'c_2_2_0': 0,\n",
       " 'c_2_2_1': 0,\n",
       " 'c_2_2_2': 66.66666666666667,\n",
       " 'c_2_3_0': 0,\n",
       " 'c_2_3_1': 0,\n",
       " 'c_2_3_2': 0,\n",
       " 'c_2_3_3': 0,\n",
       " 'c_2_4_0': 0,\n",
       " 'c_2_4_1': 0,\n",
       " 'c_2_4_2': 0,\n",
       " 'c_2_4_3': 0,\n",
       " 'c_2_4_4': 0,\n",
       " 'c_3_0_0': 0,\n",
       " 'c_3_1_0': 500.0,\n",
       " 'c_3_1_1': 0,\n",
       " 'c_3_2_0': 0,\n",
       " 'c_3_2_1': 0,\n",
       " 'c_3_2_2': 50.0,\n",
       " 'c_3_3_0': 0,\n",
       " 'c_3_3_1': 0,\n",
       " 'c_3_3_2': 0,\n",
       " 'c_3_3_3': 0,\n",
       " 'c_3_4_0': 0,\n",
       " 'c_3_4_1': 0,\n",
       " 'c_3_4_2': 0,\n",
       " 'c_3_4_3': 0,\n",
       " 'c_3_4_4': 0,\n",
       " 'c_4_0_0': 0,\n",
       " 'c_4_1_0': 333.3333333333333,\n",
       " 'c_4_1_1': 0,\n",
       " 'c_4_2_0': 0,\n",
       " 'c_4_2_1': 0,\n",
       " 'c_4_2_2': 33.333333333333336,\n",
       " 'c_4_3_0': 0,\n",
       " 'c_4_3_1': 0,\n",
       " 'c_4_3_2': 0,\n",
       " 'c_4_3_3': 0,\n",
       " 'c_4_4_0': 0,\n",
       " 'c_4_4_1': 0,\n",
       " 'c_4_4_2': 0,\n",
       " 'c_4_4_3': 0,\n",
       " 'c_4_4_4': 0,\n",
       " 'c_5_0_0': 0,\n",
       " 'c_5_1_0': 166.66666666666666,\n",
       " 'c_5_1_1': 0,\n",
       " 'c_5_2_0': 0,\n",
       " 'c_5_2_1': 0,\n",
       " 'c_5_2_2': 16.666666666666668,\n",
       " 'c_5_3_0': 0,\n",
       " 'c_5_3_1': 0,\n",
       " 'c_5_3_2': 0,\n",
       " 'c_5_3_3': 0,\n",
       " 'c_5_4_0': 0,\n",
       " 'c_5_4_1': 0,\n",
       " 'c_5_4_2': 0,\n",
       " 'c_5_4_3': 0,\n",
       " 'c_5_4_4': 0,\n",
       " 'd_0_0_0': 0,\n",
       " 'd_0_1_0': 1000.0,\n",
       " 'd_0_1_1': 0,\n",
       " 'd_0_2_0': 0,\n",
       " 'd_0_2_1': 0,\n",
       " 'd_0_2_2': 100.0,\n",
       " 'd_0_3_0': 0,\n",
       " 'd_0_3_1': 0,\n",
       " 'd_0_3_2': 0,\n",
       " 'd_0_3_3': 0,\n",
       " 'd_0_4_0': 0,\n",
       " 'd_0_4_1': 0,\n",
       " 'd_0_4_2': 0,\n",
       " 'd_0_4_3': 0,\n",
       " 'd_0_4_4': 0,\n",
       " 'd_1_0_0': 0,\n",
       " 'd_1_1_0': 833.3333333333334,\n",
       " 'd_1_1_1': 0,\n",
       " 'd_1_2_0': 0,\n",
       " 'd_1_2_1': 0,\n",
       " 'd_1_2_2': 83.33333333333333,\n",
       " 'd_1_3_0': 0,\n",
       " 'd_1_3_1': 0,\n",
       " 'd_1_3_2': 0,\n",
       " 'd_1_3_3': 0,\n",
       " 'd_1_4_0': 0,\n",
       " 'd_1_4_1': 0,\n",
       " 'd_1_4_2': 0,\n",
       " 'd_1_4_3': 0,\n",
       " 'd_1_4_4': 0,\n",
       " 'd_2_0_0': 0,\n",
       " 'd_2_1_0': 666.6666666666666,\n",
       " 'd_2_1_1': 0,\n",
       " 'd_2_2_0': 0,\n",
       " 'd_2_2_1': 0,\n",
       " 'd_2_2_2': 66.66666666666667,\n",
       " 'd_2_3_0': 0,\n",
       " 'd_2_3_1': 0,\n",
       " 'd_2_3_2': 0,\n",
       " 'd_2_3_3': 0,\n",
       " 'd_2_4_0': 0,\n",
       " 'd_2_4_1': 0,\n",
       " 'd_2_4_2': 0,\n",
       " 'd_2_4_3': 0,\n",
       " 'd_2_4_4': 0}"
      ]
     },
     "execution_count": 15,
     "metadata": {},
     "output_type": "execute_result"
    }
   ],
   "source": [
    "params"
   ]
  },
  {
   "cell_type": "code",
   "execution_count": 16,
   "metadata": {
    "hidden": true
   },
   "outputs": [
    {
     "data": {
      "text/plain": [
       "array([0., 1., 2., 3., 4.])"
      ]
     },
     "execution_count": 16,
     "metadata": {},
     "output_type": "execute_result"
    }
   ],
   "source": [
    "np.polynomial.chebyshev.chebval([0,1,2,3,4], [0, 1, 0])"
   ]
  },
  {
   "cell_type": "code",
   "execution_count": 17,
   "metadata": {
    "hidden": true
   },
   "outputs": [
    {
     "data": {
      "text/plain": [
       "(0.4886025119029199+0j)"
      ]
     },
     "execution_count": 17,
     "metadata": {},
     "output_type": "execute_result"
    }
   ],
   "source": [
    "scipy.special.sph_harm(0, 1, 0, 0)"
   ]
  },
  {
   "cell_type": "code",
   "execution_count": 18,
   "metadata": {
    "hidden": true
   },
   "outputs": [
    {
     "data": {
      "text/plain": [
       "(0.38627420202318963+0j)"
      ]
     },
     "execution_count": 18,
     "metadata": {},
     "output_type": "execute_result"
    }
   ],
   "source": [
    "# (m, l, phi, theta)\n",
    "scipy.special.sph_harm(2, 2, 0, np.pi/2)"
   ]
  },
  {
   "cell_type": "code",
   "execution_count": 19,
   "metadata": {
    "hidden": true
   },
   "outputs": [],
   "source": [
    "thetas = np.linspace(0, np.pi, 10)\n",
    "phis = np.linspace(0, 2*np.pi, 10)"
   ]
  },
  {
   "cell_type": "code",
   "execution_count": 20,
   "metadata": {
    "hidden": true
   },
   "outputs": [
    {
     "data": {
      "text/plain": [
       "array([ 0.48860251,  0.45913617,  0.37429124,  0.24430126,  0.08484494,\n",
       "       -0.08484494, -0.24430126, -0.37429124, -0.45913617, -0.48860251])"
      ]
     },
     "execution_count": 20,
     "metadata": {},
     "output_type": "execute_result"
    }
   ],
   "source": [
    "np.real(scipy.special.sph_harm(0, 1, phis, thetas))"
   ]
  },
  {
   "cell_type": "code",
   "execution_count": 21,
   "metadata": {
    "hidden": true
   },
   "outputs": [
    {
     "data": {
      "text/plain": [
       "0.4886025119029199"
      ]
     },
     "execution_count": 21,
     "metadata": {},
     "output_type": "execute_result"
    }
   ],
   "source": [
    "np.real(scipy.special.sph_harm(0, 1, 0, 0))"
   ]
  },
  {
   "cell_type": "code",
   "execution_count": 22,
   "metadata": {
    "hidden": true
   },
   "outputs": [],
   "source": [
    "def hallVoltage(Bmag,t,theta,phi, **params):#**params):\n",
    "    V = np.zeros_like(Bmag)\n",
    "    \n",
    "    # extract k, n, and l parameters\n",
    "    ks = set()\n",
    "    ns = set()\n",
    "    ls = set()\n",
    "    for key, value in params.items():\n",
    "        #if key[0] == \"c\":\n",
    "        if \"c\" in key:\n",
    "            ks.add(int(key[2]))#append(key[2])\n",
    "            ls.add(int(key[4]))\n",
    "        #if key[0] == \"d\":\n",
    "        if \"d\" in key:\n",
    "            ns.add(int(key[2]))\n",
    "\n",
    "    ks = np.array(sorted(list(ks)))\n",
    "    ns = np.array(sorted(list(ns)))\n",
    "    ls = np.array(sorted(list(ls)))\n",
    "    kmax = np.max(ks)\n",
    "    nmax = np.max(ns)\n",
    "    #print(ks, ns, ls)\n",
    "    #print(kmax, nmax)\n",
    "    \n",
    "    for k in ks:\n",
    "        cs_k = np.zeros(kmax+1)\n",
    "        cs_k[k] = 1\n",
    "        Tk_B = np.polynomial.chebyshev.chebval(Bmag, cs_k)\n",
    "        for n in ns:\n",
    "            cs_t = np.zeros(nmax+1)\n",
    "            cs_t[n] = 1\n",
    "            Tn_t = np.polynomial.chebyshev.chebval(t, cs_t)\n",
    "            for l in ls:\n",
    "                for m in range(l+1):\n",
    "                    cklm = params[f\"c_{k}_{l}_{m}\"]\n",
    "                    dnlm = params[f\"d_{n}_{l}_{m}\"]\n",
    "                    Ylm = np.real(scipy.special.sph_harm(m, l, phi, theta))\n",
    "                    V += cklm*Tk_B*dnlm*Tn_t*Ylm\n",
    "    \n",
    "    return V"
   ]
  },
  {
   "cell_type": "code",
   "execution_count": 23,
   "metadata": {
    "hidden": true
   },
   "outputs": [],
   "source": [
    "N = 180 # num theta angles\n",
    "M = 180 # num phi angles\n",
    "Bmags = np.ones(N*M) # Tesla\n",
    "#ts = 20 * np.ones(N*M) # deg C\n",
    "ts = np.linspace(20, 23, N*M)# deg C\n",
    "thetas = np.linspace(0, np.pi, N)\n",
    "phis = np.linspace(0, 2*np.pi, M)\n",
    "\n",
    "PH, TH = np.meshgrid(phis, thetas)\n",
    "TH = TH.flatten()\n",
    "PH = PH.flatten()"
   ]
  },
  {
   "cell_type": "code",
   "execution_count": 24,
   "metadata": {
    "hidden": true
   },
   "outputs": [],
   "source": [
    "V = hallVoltage(Bmags, ts, TH, PH, **params)"
   ]
  },
  {
   "cell_type": "code",
   "execution_count": 25,
   "metadata": {
    "hidden": true
   },
   "outputs": [
    {
     "data": {
      "text/plain": [
       "array([ 9.41129872e+08,  9.41138449e+08,  9.41147026e+08, ...,\n",
       "       -1.23952417e+09, -1.23953401e+09, -1.23954386e+09])"
      ]
     },
     "execution_count": 25,
     "metadata": {},
     "output_type": "execute_result"
    }
   ],
   "source": [
    "V"
   ]
  },
  {
   "cell_type": "code",
   "execution_count": 26,
   "metadata": {
    "hidden": true
   },
   "outputs": [],
   "source": [
    "PH = pd.Series(np.degrees(PH))\n",
    "TH = pd.Series(np.degrees(TH))\n",
    "V = pd.Series(V)"
   ]
  },
  {
   "cell_type": "code",
   "execution_count": 32,
   "metadata": {
    "hidden": true
   },
   "outputs": [],
   "source": [
    "#spherical_scatter3d(PH, TH, V)"
   ]
  },
  {
   "cell_type": "code",
   "execution_count": 33,
   "metadata": {
    "hidden": true
   },
   "outputs": [],
   "source": [
    "m = PH == 0"
   ]
  },
  {
   "cell_type": "code",
   "execution_count": 34,
   "metadata": {
    "hidden": true
   },
   "outputs": [
    {
     "data": {
      "text/plain": [
       "180"
      ]
     },
     "execution_count": 34,
     "metadata": {},
     "output_type": "execute_result"
    }
   ],
   "source": [
    "len(TH[m])"
   ]
  },
  {
   "cell_type": "code",
   "execution_count": 30,
   "metadata": {
    "hidden": true
   },
   "outputs": [
    {
     "data": {
      "text/plain": [
       "<matplotlib.collections.PathCollection at 0x7f9039cad550>"
      ]
     },
     "execution_count": 30,
     "metadata": {},
     "output_type": "execute_result"
    },
    {
     "data": {
      "image/png": "[encoded data removed]",
      "text/plain": [
       "<Figure size 720x576 with 1 Axes>"
      ]
     },
     "metadata": {
      "needs_background": "light"
     },
     "output_type": "display_data"
    }
   ],
   "source": [
    "plt.scatter(TH[m], V[m], s=1)"
   ]
  },
  {
   "cell_type": "code",
   "execution_count": 31,
   "metadata": {
    "hidden": true
   },
   "outputs": [],
   "source": [
    "ks = set()#[]\n",
    "ns = set()#[]\n",
    "ls = set()#[]\n",
    "for key, value in params.items():\n",
    "    #if key[0] == \"c\":\n",
    "    if \"c\" in key:\n",
    "        ks.add(int(key[2]))#append(key[2])\n",
    "        ls.add(int(key[4]))\n",
    "    #if key[0] == \"d\":\n",
    "    if \"d\" in key:\n",
    "        ns.add(int(key[2]))\n",
    "    \n",
    "ks = np.array(list(ks))\n",
    "ns = np.array(list(ns))\n",
    "ls = np.array(list(ls))"
   ]
  },
  {
   "cell_type": "code",
   "execution_count": null,
   "metadata": {
    "hidden": true
   },
   "outputs": [],
   "source": [
    "ks, ns, ls"
   ]
  },
  {
   "cell_type": "code",
   "execution_count": null,
   "metadata": {
    "hidden": true
   },
   "outputs": [],
   "source": [
    "for k in ks:\n",
    "    for l in ls:\n",
    "        for m in"
   ]
  },
  {
   "cell_type": "code",
   "execution_count": null,
   "metadata": {
    "hidden": true
   },
   "outputs": [],
   "source": [
    "params"
   ]
  },
  {
   "cell_type": "code",
   "execution_count": null,
   "metadata": {
    "hidden": true
   },
   "outputs": [],
   "source": []
  },
  {
   "cell_type": "code",
   "execution_count": null,
   "metadata": {
    "hidden": true
   },
   "outputs": [],
   "source": [
    "text = \"c_0_1_0_0\"\n",
    "\n",
    "x = re.search('_1_0$', text)"
   ]
  },
  {
   "cell_type": "code",
   "execution_count": null,
   "metadata": {
    "hidden": true
   },
   "outputs": [],
   "source": [
    "x"
   ]
  },
  {
   "cell_type": "code",
   "execution_count": null,
   "metadata": {
    "hidden": true
   },
   "outputs": [],
   "source": [
    "if x:\n",
    "    print(\"mathed!\")"
   ]
  },
  {
   "cell_type": "code",
   "execution_count": null,
   "metadata": {
    "hidden": true
   },
   "outputs": [],
   "source": [
    "Ts = [1, x]\n",
    "for n in ns[1:]:\n",
    "    Ts.append(2)\n"
   ]
  },
  {
   "cell_type": "code",
   "execution_count": null,
   "metadata": {
    "hidden": true
   },
   "outputs": [],
   "source": [
    "Ts = [1, x]\n",
    "\n",
    "for n in range(2, 10):\n",
    "    Ts.append(2*x*Ts[-1] - Ts[-2])"
   ]
  },
  {
   "cell_type": "code",
   "execution_count": null,
   "metadata": {
    "hidden": true
   },
   "outputs": [],
   "source": [
    "180*180"
   ]
  },
  {
   "cell_type": "markdown",
   "metadata": {
    "heading_collapsed": true
   },
   "source": [
    "# Least-Squares Solutions"
   ]
  },
  {
   "cell_type": "markdown",
   "metadata": {
    "heading_collapsed": true,
    "hidden": true
   },
   "source": [
    "## lmfit"
   ]
  },
  {
   "cell_type": "code",
   "execution_count": null,
   "metadata": {
    "hidden": true
   },
   "outputs": [],
   "source": [
    "model = lm.Model(hallVoltage, independent_vars=['Bmag','t','theta','phi'])"
   ]
  },
  {
   "cell_type": "code",
   "execution_count": null,
   "metadata": {
    "hidden": true
   },
   "outputs": [],
   "source": [
    "model"
   ]
  },
  {
   "cell_type": "code",
   "execution_count": null,
   "metadata": {
    "hidden": true
   },
   "outputs": [],
   "source": [
    "params_lm = lm.Parameters()\n",
    "\n",
    "# extract k, n, and l parameters\n",
    "ks = set()\n",
    "ns = set()\n",
    "ls = set()\n",
    "for key, value in params.items():\n",
    "    #if key[0] == \"c\":\n",
    "    if \"c\" in key:\n",
    "        ks.add(int(key[2]))#append(key[2])\n",
    "        ls.add(int(key[4]))\n",
    "    #if key[0] == \"d\":\n",
    "    if \"d\" in key:\n",
    "        ns.add(int(key[2]))\n",
    "\n",
    "ks = np.array(sorted(list(ks)))\n",
    "ns = np.array(sorted(list(ns)))\n",
    "ls = np.array(sorted(list(ls)))\n",
    "kmax = np.max(ks)\n",
    "nmax = np.max(ns)\n",
    "#print(ks, ns, ls)\n",
    "#print(kmax, nmax)\n",
    "\n",
    "for k in ks:\n",
    "    #cs_k = np.zeros(kmax+1)\n",
    "    #cs_k[k] = 1\n",
    "    #Tk_B = np.polynomial.chebyshev.chebval(Bmag, cs_k)\n",
    "    for n in ns:\n",
    "        #cs_t = np.zeros(nmax+1)\n",
    "        #cs_t[n] = 1\n",
    "        #Tn_t = np.polynomial.chebyshev.chebval(t, cs_t)\n",
    "        for l in ls:\n",
    "            for m in range(l+1):\n",
    "                #cklm = params[f\"c_{k}_{l}_{m}\"]\n",
    "                #dnlm = params[f\"d_{n}_{l}_{m}\"]\n",
    "                #Ylm = np.real(scipy.special.sph_harm(m, l, phi, theta))\n",
    "                #V += cklm*Tk_B*dnlm*Tn_t*Ylm\n",
    "                params_lm.add(f\"c_{k}_{l}_{m}\", value=0, min=0)\n",
    "                params_lm.add(f\"d_{n}_{l}_{m}\", value=0, min=0)"
   ]
  },
  {
   "cell_type": "code",
   "execution_count": null,
   "metadata": {
    "hidden": true
   },
   "outputs": [],
   "source": [
    "params_lm"
   ]
  },
  {
   "cell_type": "code",
   "execution_count": null,
   "metadata": {
    "hidden": true
   },
   "outputs": [],
   "source": [
    "result = model.fit(V,Bmag=Bmags,t=ts,theta=TH,phi=PH, params=params_lm)"
   ]
  },
  {
   "cell_type": "code",
   "execution_count": null,
   "metadata": {
    "hidden": true
   },
   "outputs": [],
   "source": [
    "print(result.fit_report())"
   ]
  },
  {
   "cell_type": "code",
   "execution_count": null,
   "metadata": {
    "hidden": true
   },
   "outputs": [],
   "source": [
    "params"
   ]
  },
  {
   "cell_type": "code",
   "execution_count": null,
   "metadata": {
    "hidden": true
   },
   "outputs": [],
   "source": []
  },
  {
   "cell_type": "code",
   "execution_count": null,
   "metadata": {
    "hidden": true
   },
   "outputs": [],
   "source": []
  },
  {
   "cell_type": "code",
   "execution_count": null,
   "metadata": {
    "hidden": true
   },
   "outputs": [],
   "source": []
  },
  {
   "cell_type": "code",
   "execution_count": null,
   "metadata": {
    "hidden": true
   },
   "outputs": [],
   "source": []
  },
  {
   "cell_type": "markdown",
   "metadata": {
    "heading_collapsed": true,
    "hidden": true
   },
   "source": [
    "## Matrix Formulation"
   ]
  },
  {
   "cell_type": "code",
   "execution_count": null,
   "metadata": {
    "hidden": true
   },
   "outputs": [],
   "source": [
    "len(params)"
   ]
  },
  {
   "cell_type": "code",
   "execution_count": null,
   "metadata": {
    "hidden": true
   },
   "outputs": [],
   "source": [
    "N = 180*180\n",
    "M = len(params)"
   ]
  },
  {
   "cell_type": "code",
   "execution_count": null,
   "metadata": {
    "hidden": true
   },
   "outputs": [],
   "source": [
    "G = np.random.rand(N,M)"
   ]
  },
  {
   "cell_type": "code",
   "execution_count": null,
   "metadata": {
    "hidden": true
   },
   "outputs": [],
   "source": [
    "G"
   ]
  },
  {
   "cell_type": "code",
   "execution_count": null,
   "metadata": {
    "hidden": true
   },
   "outputs": [],
   "source": []
  },
  {
   "cell_type": "code",
   "execution_count": null,
   "metadata": {
    "hidden": true
   },
   "outputs": [],
   "source": [
    "G.shape"
   ]
  },
  {
   "cell_type": "code",
   "execution_count": null,
   "metadata": {
    "hidden": true
   },
   "outputs": [],
   "source": []
  },
  {
   "cell_type": "code",
   "execution_count": null,
   "metadata": {
    "hidden": true
   },
   "outputs": [],
   "source": [
    "(np.linalg.inv(G.T @ G) @ G.T).shape"
   ]
  },
  {
   "cell_type": "code",
   "execution_count": null,
   "metadata": {
    "hidden": true
   },
   "outputs": [],
   "source": [
    "# data\n",
    "V"
   ]
  },
  {
   "cell_type": "code",
   "execution_count": null,
   "metadata": {
    "hidden": true
   },
   "outputs": [],
   "source": [
    "V.shape"
   ]
  },
  {
   "cell_type": "code",
   "execution_count": null,
   "metadata": {
    "hidden": true
   },
   "outputs": [],
   "source": [
    "m = (np.linalg.inv(G.T @ G) @ G.T) @ V"
   ]
  },
  {
   "cell_type": "code",
   "execution_count": null,
   "metadata": {
    "hidden": true
   },
   "outputs": [],
   "source": [
    "m"
   ]
  },
  {
   "cell_type": "markdown",
   "metadata": {
    "heading_collapsed": true
   },
   "source": [
    "# Limited Model + Least Squares"
   ]
  },
  {
   "cell_type": "code",
   "execution_count": null,
   "metadata": {
    "hidden": true
   },
   "outputs": [],
   "source": [
    "Nphi, Ntheta, NB, Nt = (18, 10, 4, 3)#(360, 181, 4, 3)#(18, 9, 4, 3)\n",
    "phis = np.linspace(0, 2*np.pi - 2*np.pi/Nphi, Nphi) # every 20 deg\n",
    "#thetas = np.linspace(0, np.pi - np.pi/Ntheta, Ntheta) # every 20 deg\n",
    "thetas = np.linspace(0, np.pi, Ntheta) # every 20 deg\n",
    "Bs = np.linspace(0.5, 1.25, NB)\n",
    "ts = np.linspace(21, 25, Nt)\n",
    "#phis = np.linspace(0, 2*np.pi, Nphi) # every 20 deg\n",
    "#thetas = "
   ]
  },
  {
   "cell_type": "code",
   "execution_count": null,
   "metadata": {
    "hidden": true
   },
   "outputs": [],
   "source": [
    "np.degrees(thetas)"
   ]
  },
  {
   "cell_type": "code",
   "execution_count": null,
   "metadata": {
    "hidden": true
   },
   "outputs": [],
   "source": []
  },
  {
   "cell_type": "code",
   "execution_count": null,
   "metadata": {
    "hidden": true
   },
   "outputs": [],
   "source": []
  },
  {
   "cell_type": "code",
   "execution_count": null,
   "metadata": {
    "hidden": true
   },
   "outputs": [],
   "source": [
    "B, Te, Th, Ph = np.meshgrid(Bs, ts, thetas, phis)\n",
    "B = B.flatten()\n",
    "Te = Te.flatten()\n",
    "Th = Th.flatten()\n",
    "Ph = Ph.flatten()"
   ]
  },
  {
   "cell_type": "code",
   "execution_count": null,
   "metadata": {
    "hidden": true
   },
   "outputs": [],
   "source": [
    "Te.shape"
   ]
  },
  {
   "cell_type": "code",
   "execution_count": null,
   "metadata": {
    "hidden": true
   },
   "outputs": [],
   "source": [
    "df = pd.DataFrame({\"B\":B, \"Temp\":Te, \"Theta\": Th, \"Phi\": Ph})"
   ]
  },
  {
   "cell_type": "code",
   "execution_count": null,
   "metadata": {
    "hidden": true
   },
   "outputs": [],
   "source": [
    "df[\"Theta_deg\"] = np.degrees(df.Theta)\n",
    "df[\"Phi_deg\"] = np.degrees(df.Phi)"
   ]
  },
  {
   "cell_type": "code",
   "execution_count": null,
   "metadata": {
    "hidden": true
   },
   "outputs": [],
   "source": [
    "df.head()"
   ]
  },
  {
   "cell_type": "code",
   "execution_count": null,
   "metadata": {
    "hidden": true
   },
   "outputs": [],
   "source": [
    "params_knlm = [\"1110\", \"1122\", \"1210\", \"1222\", \"2110\", \"2122\",\n",
    "               \"2210\", \"2222\", \"3110\", \"3122\", \"3210\", \"3222\",]"
   ]
  },
  {
   "cell_type": "code",
   "execution_count": null,
   "metadata": {
    "hidden": true
   },
   "outputs": [],
   "source": [
    "base = 1e5#6\n",
    "params_vals = [base, base*1e-2, base*1e-2, base*1e-3, base*1e-2, base*1e-3,\n",
    "               base*1e-3, base*1e-4, base*1e-3, base*1e-4, base*1e-4, base*1e-5]"
   ]
  },
  {
   "cell_type": "code",
   "execution_count": null,
   "metadata": {
    "hidden": true
   },
   "outputs": [],
   "source": [
    "params = {f\"c_{p}\":v for p,v in zip(params_knlm, params_vals)}"
   ]
  },
  {
   "cell_type": "code",
   "execution_count": null,
   "metadata": {
    "hidden": true
   },
   "outputs": [],
   "source": [
    "params"
   ]
  },
  {
   "cell_type": "code",
   "execution_count": null,
   "metadata": {
    "hidden": true
   },
   "outputs": [],
   "source": [
    "len(params)"
   ]
  },
  {
   "cell_type": "code",
   "execution_count": null,
   "metadata": {
    "hidden": true
   },
   "outputs": [],
   "source": [
    "def V_forward(Bs, ts, thetas, phis, **params):\n",
    "    #V = 0.\n",
    "    ks = list(set(int(i[2]) for i in params.keys()))\n",
    "    ns = list(set(int(i[3]) for i in params.keys()))\n",
    "    kmax = np.max(np.array(ks))\n",
    "    nmax = np.max(np.array(ns))\n",
    "    lms = list(set((i[4:]) for i in params.keys()))\n",
    "    Ylms = {}\n",
    "    for lm_ in lms:\n",
    "        l, m = [int(i) for i in list(lm_)]\n",
    "        Ylms[lm_] = np.real(scipy.special.sph_harm(m, l, phis, thetas))\n",
    "    cs_B = [np.zeros_like(Bs)] # want T_0(B) to be 0\n",
    "    for k in ks:\n",
    "        cs = np.zeros_like(Bs) # 0\n",
    "        for n in ns:\n",
    "            cs_t = np.zeros(nmax+1)\n",
    "            cs_t[n] = 1\n",
    "            Tn_t = np.polynomial.chebyshev.chebval(ts, cs_t)\n",
    "            params_ylms = np.zeros_like(Bs)\n",
    "            for lm_ in lms:\n",
    "                params_ylms += params[f\"c_{k}{n}{lm_}\"] * Ylms[lm_]\n",
    "            cs += Tn_t * params_ylms\n",
    "        cs_B.append(cs)\n",
    "    \n",
    "    cs_B = np.array(cs_B)#.T\n",
    "    #print(cs_B)\n",
    "    V = np.polynomial.chebyshev.chebval(Bs, cs_B)\n",
    "    \n",
    "    '''\n",
    "    for p, v in params.items():\n",
    "        k = p[2]\n",
    "        l = p[3]\n",
    "        m = p[4]\n",
    "        n = p[5]\n",
    "        cs_k = np.zeros(kmax+1)\n",
    "        cs_k[k] = 1\n",
    "        Tk_B = np.polynomial.chebyshev.chebval(Bs, k)\n",
    "        Tn_t = np.polynomial.chebyshev.chebval(ts, t)\n",
    "        Ylm = np.real(scipy.special.sph_harm(m, l, phis, thetas))\n",
    "        V += v * Tk_B * Tn_t * Ylm\n",
    "    '''\n",
    "    return V"
   ]
  },
  {
   "cell_type": "code",
   "execution_count": null,
   "metadata": {
    "hidden": true
   },
   "outputs": [],
   "source": [
    "df[\"V_truth\"] = V_forward(df.B, df.Temp, df.Theta, df.Phi, **params)"
   ]
  },
  {
   "cell_type": "code",
   "execution_count": null,
   "metadata": {
    "hidden": true
   },
   "outputs": [],
   "source": [
    "df[\"V_truth\"]"
   ]
  },
  {
   "cell_type": "code",
   "execution_count": null,
   "metadata": {
    "hidden": true
   },
   "outputs": [],
   "source": [
    "# plot"
   ]
  },
  {
   "cell_type": "code",
   "execution_count": null,
   "metadata": {
    "hidden": true
   },
   "outputs": [],
   "source": [
    "df_ = df.query(\"B == 1.0 & Temp == 21.0\")"
   ]
  },
  {
   "cell_type": "code",
   "execution_count": null,
   "metadata": {
    "hidden": true,
    "scrolled": true
   },
   "outputs": [],
   "source": [
    "df_"
   ]
  },
  {
   "cell_type": "code",
   "execution_count": null,
   "metadata": {
    "hidden": true
   },
   "outputs": [],
   "source": [
    "fig = spherical_scatter3d(df.Phi_deg, df.Theta_deg, df.V_truth)"
   ]
  },
  {
   "cell_type": "code",
   "execution_count": null,
   "metadata": {
    "hidden": true
   },
   "outputs": [],
   "source": [
    "fig = spherical_scatter3d(df_.Phi_deg, df_.Theta_deg, df_.V_truth)"
   ]
  },
  {
   "cell_type": "code",
   "execution_count": null,
   "metadata": {
    "hidden": true
   },
   "outputs": [],
   "source": [
    "df_ph = df_.query(\"Phi == 0\")"
   ]
  },
  {
   "cell_type": "code",
   "execution_count": null,
   "metadata": {
    "hidden": true
   },
   "outputs": [],
   "source": [
    "plt.scatter(df_ph.Theta_deg, df_ph.V_truth, s=15);"
   ]
  },
  {
   "cell_type": "code",
   "execution_count": null,
   "metadata": {
    "hidden": true
   },
   "outputs": [],
   "source": [
    "df_phth = df.query(\"Phi == 0 & Theta == 0\")"
   ]
  },
  {
   "cell_type": "code",
   "execution_count": null,
   "metadata": {
    "hidden": true
   },
   "outputs": [],
   "source": [
    "df_phth"
   ]
  },
  {
   "cell_type": "code",
   "execution_count": null,
   "metadata": {
    "hidden": true
   },
   "outputs": [],
   "source": [
    "px.scatter(df_phth, x=\"Temp\", y=\"V_truth\", color=\"B\")"
   ]
  },
  {
   "cell_type": "code",
   "execution_count": null,
   "metadata": {
    "hidden": true
   },
   "outputs": [],
   "source": [
    "plt.scatter(df_phth.B, df_phth.V_truth, s=15);"
   ]
  },
  {
   "cell_type": "code",
   "execution_count": null,
   "metadata": {
    "hidden": true
   },
   "outputs": [],
   "source": []
  },
  {
   "cell_type": "code",
   "execution_count": null,
   "metadata": {
    "hidden": true
   },
   "outputs": [],
   "source": [
    "def G_j(Bs, ts, thetas, phis, k, n, l, m):\n",
    "    # jth column of G\n",
    "    cs_k = np.zeros(k+1)\n",
    "    cs_k[-1] = 1\n",
    "    cs_n = np.zeros(n+1)\n",
    "    cs_n[-1] = 1\n",
    "    Tk = np.polynomial.chebyshev.chebval(Bs, cs_k)\n",
    "    Tn = np.polynomial.chebyshev.chebval(ts, cs_n)\n",
    "    Ylm = np.real(scipy.special.sph_harm(m, l, phis, thetas))\n",
    "    \n",
    "    return Tk * Tn * Ylm"
   ]
  },
  {
   "cell_type": "code",
   "execution_count": null,
   "metadata": {
    "hidden": true
   },
   "outputs": [],
   "source": [
    "ks = list(set(int(i[2]) for i in params.keys()))\n",
    "ns = list(set(int(i[3]) for i in params.keys()))\n",
    "kmax = np.max(np.array(ks))\n",
    "nmax = np.max(np.array(ns))\n",
    "lms = list(set((i[4:]) for i in params.keys()))"
   ]
  },
  {
   "cell_type": "code",
   "execution_count": null,
   "metadata": {
    "hidden": true
   },
   "outputs": [],
   "source": [
    "ks"
   ]
  },
  {
   "cell_type": "code",
   "execution_count": null,
   "metadata": {
    "hidden": true
   },
   "outputs": [],
   "source": [
    "ns"
   ]
  },
  {
   "cell_type": "code",
   "execution_count": null,
   "metadata": {
    "hidden": true
   },
   "outputs": [],
   "source": [
    "lms"
   ]
  },
  {
   "cell_type": "code",
   "execution_count": null,
   "metadata": {
    "hidden": true
   },
   "outputs": [],
   "source": [
    "js = []\n",
    "for k in ks:\n",
    "    for n in ns:\n",
    "        for lm_ in lms:\n",
    "            js.append({\"k\":k, \"n\":n, \"l\":int(lm_[0]), \"m\":int(lm_[1])})"
   ]
  },
  {
   "cell_type": "code",
   "execution_count": null,
   "metadata": {
    "hidden": true
   },
   "outputs": [],
   "source": [
    "js"
   ]
  },
  {
   "cell_type": "code",
   "execution_count": null,
   "metadata": {
    "hidden": true
   },
   "outputs": [],
   "source": [
    "js[0]"
   ]
  },
  {
   "cell_type": "code",
   "execution_count": null,
   "metadata": {
    "hidden": true
   },
   "outputs": [],
   "source": [
    "G = []\n",
    "for j in js:\n",
    "    G.append(G_j(df.B, df.Temp, df.Theta, df.Phi, **j).values)"
   ]
  },
  {
   "cell_type": "code",
   "execution_count": null,
   "metadata": {
    "hidden": true
   },
   "outputs": [],
   "source": [
    "np.array(G).T.shape"
   ]
  },
  {
   "cell_type": "code",
   "execution_count": null,
   "metadata": {
    "hidden": true
   },
   "outputs": [],
   "source": [
    "G = np.array(G).T"
   ]
  },
  {
   "cell_type": "code",
   "execution_count": null,
   "metadata": {
    "hidden": true
   },
   "outputs": [],
   "source": [
    "G"
   ]
  },
  {
   "cell_type": "code",
   "execution_count": null,
   "metadata": {
    "hidden": true
   },
   "outputs": [],
   "source": [
    "# data vector\n",
    "d = df.V_truth.values"
   ]
  },
  {
   "cell_type": "code",
   "execution_count": null,
   "metadata": {
    "hidden": true
   },
   "outputs": [],
   "source": [
    "m = np.linalg.inv(G.T @ G) @ G.T @ d"
   ]
  },
  {
   "cell_type": "code",
   "execution_count": null,
   "metadata": {
    "hidden": true
   },
   "outputs": [],
   "source": [
    "m"
   ]
  },
  {
   "cell_type": "code",
   "execution_count": null,
   "metadata": {
    "hidden": true
   },
   "outputs": [],
   "source": [
    "m_dict = {}\n",
    "i = 0\n",
    "for k in ks:\n",
    "    for n in ns:\n",
    "        for lm_ in lms:\n",
    "            m_dict[f\"c_{k}{n}{lm_[0]}{lm_[1]}\"] = m[i]\n",
    "            i += 1"
   ]
  },
  {
   "cell_type": "code",
   "execution_count": null,
   "metadata": {
    "hidden": true
   },
   "outputs": [],
   "source": [
    "m_dict"
   ]
  },
  {
   "cell_type": "code",
   "execution_count": null,
   "metadata": {
    "hidden": true
   },
   "outputs": [],
   "source": [
    "params"
   ]
  },
  {
   "cell_type": "code",
   "execution_count": null,
   "metadata": {
    "hidden": true
   },
   "outputs": [],
   "source": [
    "df[\"V_syn\"] = V_forward(df.B, df.Temp, df.Theta, df.Phi, **m_dict)"
   ]
  },
  {
   "cell_type": "code",
   "execution_count": null,
   "metadata": {
    "hidden": true
   },
   "outputs": [],
   "source": [
    "df[\"res\"] = df.V_truth - df.V_syn\n",
    "df[\"res_rel\"] = df.res / df.V_truth"
   ]
  },
  {
   "cell_type": "code",
   "execution_count": null,
   "metadata": {
    "hidden": true
   },
   "outputs": [],
   "source": [
    "plt.hist(df[\"res\"], bins=50);\n",
    "plt.ticklabel_format(axis=\"x\", style=\"sci\", scilimits=(0,0))"
   ]
  },
  {
   "cell_type": "code",
   "execution_count": null,
   "metadata": {
    "hidden": true
   },
   "outputs": [],
   "source": [
    "plt.hist(df[\"res_rel\"], bins=50);\n",
    "plt.ticklabel_format(axis=\"x\", style=\"sci\", scilimits=(0,0))"
   ]
  },
  {
   "cell_type": "code",
   "execution_count": null,
   "metadata": {
    "hidden": true
   },
   "outputs": [],
   "source": [
    "cols = [\"B\", \"Temp\", \"Theta\", \"Phi\", \"V_truth\", \"V_syn\", \"res\", \"res_rel\"]"
   ]
  },
  {
   "cell_type": "code",
   "execution_count": null,
   "metadata": {
    "hidden": true
   },
   "outputs": [],
   "source": [
    "px.scatter_matrix(df[cols])"
   ]
  },
  {
   "cell_type": "markdown",
   "metadata": {},
   "source": [
    "# All Together"
   ]
  },
  {
   "cell_type": "code",
   "execution_count": 5,
   "metadata": {},
   "outputs": [],
   "source": [
    "def V_forward(Bs, ts, thetas, phis, **params):\n",
    "    '''\n",
    "    Parameters: \n",
    "    length-N numpy.arrays -- Bs (magnetic field), \n",
    "    ts (temperature), thetas (polar), phis (azimuthal)\n",
    "    dictionary -- params where key is of form \"c_knlm\"\n",
    "    and value is a float\n",
    "    \n",
    "    Return: V (Hall voltage), a length-N numpy.array\n",
    "    '''\n",
    "    # first determine ks, ns, and lms in use\n",
    "    ks = list(set(int(i[2]) for i in params.keys()))\n",
    "    ns = list(set(int(i[3]) for i in params.keys()))\n",
    "    kmax = np.max(np.array(ks))\n",
    "    nmax = np.max(np.array(ns))\n",
    "    lms = list(set((i[4:]) for i in params.keys()))\n",
    "    # loop through each lm and split into l and m\n",
    "    # to store needed spherical harmonics in a dict\n",
    "    Ylms = {}\n",
    "    for lm_ in lms:\n",
    "        l, m = [int(i) for i in list(lm_)]\n",
    "        # store spherical harmonic for each lm\n",
    "        Ylms[lm_] = np.real(scipy.special.sph_harm(m, l, phis, thetas))\n",
    "    \n",
    "    # initialize coefficient array for Chebyshev (B)\n",
    "    # starting with T_0(B) = 0 for all N data points\n",
    "    cs_B = [np.zeros_like(Bs)]\n",
    "    # loop through all terms in model\n",
    "    #### B ####\n",
    "    for k in ks:\n",
    "        # initialize coefficients to add to cs_B as zero\n",
    "        cs = np.zeros_like(Bs)\n",
    "        #### t ####\n",
    "        for n in ns:\n",
    "            # initialize another coeff array for Chebyshev (t)\n",
    "            cs_t = np.zeros(nmax+1)\n",
    "            # set the term we care about (n) to 1\n",
    "            # and keep the rest = 0\n",
    "            cs_t[n] = 1\n",
    "            # generate Chebyshev (t)\n",
    "            Tn_t = np.polynomial.chebyshev.chebval(ts, cs_t)\n",
    "            \n",
    "            # prepare array to store c_knlm * Y_lm\n",
    "            params_ylms = np.zeros_like(Bs)\n",
    "            #### theta, phi ####\n",
    "            for lm_ in lms:\n",
    "                params_ylms += params[f\"c_{k}{n}{lm_}\"] * Ylms[lm_]\n",
    "            # add to cs (iteratively) as: T_n(t) * c_knlm * Y_lm\n",
    "            cs += Tn_t * params_ylms\n",
    "        # add completed cs array into cs_B\n",
    "        cs_B.append(cs)\n",
    "    cs_B = np.array(cs_B)\n",
    "    # calculate V from all prepared terms\n",
    "    V = np.polynomial.chebyshev.chebval(Bs, cs_B)\n",
    "    return V"
   ]
  },
  {
   "cell_type": "code",
   "execution_count": 6,
   "metadata": {},
   "outputs": [],
   "source": [
    "def gen_data(Bs, ts, thetas, phis, sigma):\n",
    "    '''\n",
    "    Parameters: \n",
    "    length-N numpy.arrays -- Bs (magnetic field), \n",
    "    ts (temperature), thetas (polar), phis (azimuthal)\n",
    "    float -- sigma (noise standard deviation)\n",
    "    \n",
    "    Return: df, pandas.DataFrame\n",
    "    '''\n",
    "    # create meshgrid for all input independent variables\n",
    "    B, Te, Th, Ph = np.meshgrid(Bs, ts, thetas, phis)\n",
    "    # flatten all to 1D arrays\n",
    "    B = B.flatten()\n",
    "    Te = Te.flatten()\n",
    "    Th = Th.flatten()\n",
    "    Ph = Ph.flatten()\n",
    "    \n",
    "    # create pandas.DataFrame to store information from each data point\n",
    "    df = pd.DataFrame({\"B\":B, \"Temp\":Te, \"Theta\": Th, \"Phi\": Ph})\n",
    "    # add columns for angles in degrees for convenience\n",
    "    df[\"Theta_deg\"] = np.degrees(df.Theta)\n",
    "    df[\"Phi_deg\"] = np.degrees(df.Phi)\n",
    "    # use forward function to generate voltage data and store in new column\n",
    "    df[\"V_obs\"] = V_forward(df.B, df.Temp, df.Theta, df.Phi, **params)\n",
    "    # inject noise\n",
    "    df[\"V_obs\"] = df[\"V_obs\"] + np.random.normal(loc=0.0, scale=sigma, size=len(df))\n",
    "    # set sigma as a column\n",
    "    df[\"sigma_V\"] = sigma\n",
    "    \n",
    "    return df"
   ]
  },
  {
   "cell_type": "code",
   "execution_count": 7,
   "metadata": {},
   "outputs": [],
   "source": [
    "def G_j(Bs, ts, thetas, phis, k, n, l, m):\n",
    "    '''\n",
    "    Parameters: \n",
    "    length-N numpy.arrays -- Bs (magnetic field), \n",
    "    ts (temperature), thetas (polar), phis (azimuthal)\n",
    "    int -- k, n, l, m (parameters needed in that column)\n",
    "    \n",
    "    Return: length-N numpy.array -- G_j (column j of G matrix)\n",
    "    '''\n",
    "    # initialize Chebyshev coefficients\n",
    "    cs_k = np.zeros(k+1)\n",
    "    cs_k[-1] = 1\n",
    "    cs_n = np.zeros(n+1)\n",
    "    cs_n[-1] = 1\n",
    "    # calculate Chebyshev and Spherical\n",
    "    Tk = np.polynomial.chebyshev.chebval(Bs, cs_k)\n",
    "    Tn = np.polynomial.chebyshev.chebval(ts, cs_n)\n",
    "    Ylm = np.real(scipy.special.sph_harm(m, l, phis, thetas))\n",
    "    return Tk * Tn * Ylm"
   ]
  },
  {
   "cell_type": "code",
   "execution_count": 8,
   "metadata": {},
   "outputs": [],
   "source": [
    "def hall_cal_least_squares(df):\n",
    "    '''\n",
    "    Parameters: \n",
    "    pandas.DataFrame -- df\n",
    "    \n",
    "    Return: \n",
    "    pandas.DataFrame -- df\n",
    "    dictionary -- m_dict (parameters with names)\n",
    "    length-M numpy.array -- m (parameters)\n",
    "    M x M numpy.ndarray -- m_cov (parameters covariance matrix)\n",
    "    '''\n",
    "    # determine which parameters are in parameter set\n",
    "    ks = list(set(int(i[2]) for i in params.keys()))\n",
    "    ns = list(set(int(i[3]) for i in params.keys()))\n",
    "    kmax = np.max(np.array(ks))\n",
    "    nmax = np.max(np.array(ns))\n",
    "    lms = list(set((i[4:]) for i in params.keys()))\n",
    "\n",
    "    # generate G matrix\n",
    "    # determine which knlm to use for each column of G\n",
    "    js = []\n",
    "    for k in ks:\n",
    "        for n in ns:\n",
    "            for lm_ in lms:\n",
    "                js.append({\"k\":k, \"n\":n, \"l\":int(lm_[0]), \"m\":int(lm_[1])})\n",
    "    # generate G matrix one column at a time\n",
    "    # usig G_j function\n",
    "    G = []\n",
    "    for j in js:\n",
    "        G.append(G_j(df.B, df.Temp, df.Theta, df.Phi, **j).values)\n",
    "    # combine to full G matrix\n",
    "    G = np.array(G).T\n",
    "\n",
    "    # data vector\n",
    "    d = df.V_obs.values\n",
    "    # least squares solution\n",
    "    GtG_inv = np.linalg.inv(G.T @ G)\n",
    "    m = GtG_inv @ G.T @ d\n",
    "    # calculate m_cov\n",
    "    m_cov = df.sigma_V.iloc[0]**2 * GtG_inv\n",
    "    \n",
    "    # construct m_dict\n",
    "    m_dict = {}\n",
    "    i = 0\n",
    "    for k in ks:\n",
    "        for n in ns:\n",
    "            for lm_ in lms:\n",
    "                m_dict[f\"c_{k}{n}{lm_[0]}{lm_[1]}\"] = m[i]\n",
    "                i += 1\n",
    "\n",
    "    # generate synthetic data from model vector m after least squares solution\n",
    "    df[\"V_syn\"] = V_forward(df.B, df.Temp, df.Theta, df.Phi, **m_dict)\n",
    "    # calculatate residual and relative residual\n",
    "    df[\"res\"] = df.V_obs - df.V_syn\n",
    "    df[\"res_rel\"] = df.res / df.V_obs\n",
    "    \n",
    "    return df, m_dict, m, m_cov"
   ]
  },
  {
   "cell_type": "markdown",
   "metadata": {},
   "source": [
    "# For Paper"
   ]
  },
  {
   "cell_type": "markdown",
   "metadata": {},
   "source": [
    "## Construct Parameters"
   ]
  },
  {
   "cell_type": "code",
   "execution_count": 9,
   "metadata": {},
   "outputs": [],
   "source": [
    "# parameter keys\n",
    "params_knlm = [\"1110\", \"1122\", \"1210\", \"1222\", \"2110\", \"2122\",\n",
    "               \"2210\", \"2222\", \"3110\", \"3122\", \"3210\", \"3222\",]\n",
    "base = 1e5\n",
    "# pick realistic values\n",
    "params_vals = [base, base*1e-2, base*1e-2, base*1e-3, base*1e-2, base*1e-3,\n",
    "               base*1e-3, base*1e-4, base*1e-3, base*1e-4, base*1e-4, base*1e-5]\n",
    "scale_factors = list(1 + np.random.normal(scale=1e-1, size=len(params_vals)))\n",
    "params_vals = [p*sf for p, sf in zip(params_vals, scale_factors)]\n",
    "# generate dictionary\n",
    "params = {f\"c_{p}\":v for p,v in zip(params_knlm, params_vals)}"
   ]
  },
  {
   "cell_type": "code",
   "execution_count": 10,
   "metadata": {},
   "outputs": [
    {
     "data": {
      "text/plain": [
       "{'c_1110': 123654.49962814417,\n",
       " 'c_1122': 842.454841279633,\n",
       " 'c_1210': 1067.2833900826565,\n",
       " 'c_1222': 95.65245367005953,\n",
       " 'c_2110': 968.9991047380223,\n",
       " 'c_2122': 97.89987294820975,\n",
       " 'c_2210': 92.51734943543316,\n",
       " 'c_2222': 9.915202881587499,\n",
       " 'c_3110': 99.53440659519957,\n",
       " 'c_3122': 10.492094629125951,\n",
       " 'c_3210': 8.580117890672687,\n",
       " 'c_3222': 0.8614998601333107}"
      ]
     },
     "execution_count": 10,
     "metadata": {},
     "output_type": "execute_result"
    }
   ],
   "source": [
    "params"
   ]
  },
  {
   "cell_type": "code",
   "execution_count": 11,
   "metadata": {},
   "outputs": [],
   "source": [
    "ks = [int(p[0]) for p in params_knlm]\n",
    "ns = [int(p[1]) for p in params_knlm]\n",
    "ls = [int(p[2]) for p in params_knlm]\n",
    "ms = [int(p[3]) for p in params_knlm]"
   ]
  },
  {
   "cell_type": "code",
   "execution_count": 12,
   "metadata": {},
   "outputs": [],
   "source": [
    "df_params = pd.DataFrame({'k':ks, 'n': ns, 'l': ls, 'm': ms, 'val': params_vals})"
   ]
  },
  {
   "cell_type": "code",
   "execution_count": 13,
   "metadata": {},
   "outputs": [
    {
     "data": {
      "text/html": [
       "<div>\n",
       "<style scoped>\n",
       "    .dataframe tbody tr th:only-of-type {\n",
       "        vertical-align: middle;\n",
       "    }\n",
       "\n",
       "    .dataframe tbody tr th {\n",
       "        vertical-align: top;\n",
       "    }\n",
       "\n",
       "    .dataframe thead th {\n",
       "        text-align: right;\n",
       "    }\n",
       "</style>\n",
       "<table border=\"1\" class=\"dataframe\">\n",
       "  <thead>\n",
       "    <tr style=\"text-align: right;\">\n",
       "      <th></th>\n",
       "      <th>k</th>\n",
       "      <th>n</th>\n",
       "      <th>l</th>\n",
       "      <th>m</th>\n",
       "      <th>val</th>\n",
       "    </tr>\n",
       "  </thead>\n",
       "  <tbody>\n",
       "    <tr>\n",
       "      <th>0</th>\n",
       "      <td>1</td>\n",
       "      <td>1</td>\n",
       "      <td>1</td>\n",
       "      <td>0</td>\n",
       "      <td>123654.499628</td>\n",
       "    </tr>\n",
       "    <tr>\n",
       "      <th>1</th>\n",
       "      <td>1</td>\n",
       "      <td>1</td>\n",
       "      <td>2</td>\n",
       "      <td>2</td>\n",
       "      <td>842.454841</td>\n",
       "    </tr>\n",
       "    <tr>\n",
       "      <th>2</th>\n",
       "      <td>1</td>\n",
       "      <td>2</td>\n",
       "      <td>1</td>\n",
       "      <td>0</td>\n",
       "      <td>1067.283390</td>\n",
       "    </tr>\n",
       "    <tr>\n",
       "      <th>3</th>\n",
       "      <td>1</td>\n",
       "      <td>2</td>\n",
       "      <td>2</td>\n",
       "      <td>2</td>\n",
       "      <td>95.652454</td>\n",
       "    </tr>\n",
       "    <tr>\n",
       "      <th>4</th>\n",
       "      <td>2</td>\n",
       "      <td>1</td>\n",
       "      <td>1</td>\n",
       "      <td>0</td>\n",
       "      <td>968.999105</td>\n",
       "    </tr>\n",
       "    <tr>\n",
       "      <th>5</th>\n",
       "      <td>2</td>\n",
       "      <td>1</td>\n",
       "      <td>2</td>\n",
       "      <td>2</td>\n",
       "      <td>97.899873</td>\n",
       "    </tr>\n",
       "    <tr>\n",
       "      <th>6</th>\n",
       "      <td>2</td>\n",
       "      <td>2</td>\n",
       "      <td>1</td>\n",
       "      <td>0</td>\n",
       "      <td>92.517349</td>\n",
       "    </tr>\n",
       "    <tr>\n",
       "      <th>7</th>\n",
       "      <td>2</td>\n",
       "      <td>2</td>\n",
       "      <td>2</td>\n",
       "      <td>2</td>\n",
       "      <td>9.915203</td>\n",
       "    </tr>\n",
       "    <tr>\n",
       "      <th>8</th>\n",
       "      <td>3</td>\n",
       "      <td>1</td>\n",
       "      <td>1</td>\n",
       "      <td>0</td>\n",
       "      <td>99.534407</td>\n",
       "    </tr>\n",
       "    <tr>\n",
       "      <th>9</th>\n",
       "      <td>3</td>\n",
       "      <td>1</td>\n",
       "      <td>2</td>\n",
       "      <td>2</td>\n",
       "      <td>10.492095</td>\n",
       "    </tr>\n",
       "    <tr>\n",
       "      <th>10</th>\n",
       "      <td>3</td>\n",
       "      <td>2</td>\n",
       "      <td>1</td>\n",
       "      <td>0</td>\n",
       "      <td>8.580118</td>\n",
       "    </tr>\n",
       "    <tr>\n",
       "      <th>11</th>\n",
       "      <td>3</td>\n",
       "      <td>2</td>\n",
       "      <td>2</td>\n",
       "      <td>2</td>\n",
       "      <td>0.861500</td>\n",
       "    </tr>\n",
       "  </tbody>\n",
       "</table>\n",
       "</div>"
      ],
      "text/plain": [
       "    k  n  l  m            val\n",
       "0   1  1  1  0  123654.499628\n",
       "1   1  1  2  2     842.454841\n",
       "2   1  2  1  0    1067.283390\n",
       "3   1  2  2  2      95.652454\n",
       "4   2  1  1  0     968.999105\n",
       "5   2  1  2  2      97.899873\n",
       "6   2  2  1  0      92.517349\n",
       "7   2  2  2  2       9.915203\n",
       "8   3  1  1  0      99.534407\n",
       "9   3  1  2  2      10.492095\n",
       "10  3  2  1  0       8.580118\n",
       "11  3  2  2  2       0.861500"
      ]
     },
     "execution_count": 13,
     "metadata": {},
     "output_type": "execute_result"
    }
   ],
   "source": [
    "df_params"
   ]
  },
  {
   "cell_type": "code",
   "execution_count": 14,
   "metadata": {},
   "outputs": [],
   "source": [
    "#df_params.to_pickle('fake_data/hall_voltage_01_params.p')\n",
    "#df_params.to_pickle('/home/ckampa/data/pickles/hallcalib/fake_data/hall_voltage_02_params.p')\n",
    "df_params.to_pickle('/home/ckampa/data/pickles/hallcalib/fake_data/hall_voltage_04_params.p')"
   ]
  },
  {
   "cell_type": "code",
   "execution_count": 15,
   "metadata": {},
   "outputs": [
    {
     "data": {
      "text/plain": [
       "k           3.000000\n",
       "n           2.000000\n",
       "l           2.000000\n",
       "m           2.000000\n",
       "val    123654.499628\n",
       "dtype: float64"
      ]
     },
     "execution_count": 15,
     "metadata": {},
     "output_type": "execute_result"
    }
   ],
   "source": [
    "df_params.max()"
   ]
  },
  {
   "cell_type": "markdown",
   "metadata": {},
   "source": [
    "## Construct Params (one non-zero term)"
   ]
  },
  {
   "cell_type": "code",
   "execution_count": 50,
   "metadata": {},
   "outputs": [],
   "source": [
    "# parameter keys\n",
    "params_knlm = [\"1110\"]#, \"1122\", \"1210\", \"1222\", \"2110\", \"2122\",\n",
    "               #\"2210\", \"2222\", \"3110\", \"3122\", \"3210\", \"3222\",]\n",
    "base = 1e5\n",
    "# pick realistic values\n",
    "params_vals = [base]#, base*1e-2, base*1e-2, base*1e-3, base*1e-2, base*1e-3,\n",
    "               #base*1e-3, base*1e-4, base*1e-3, base*1e-4, base*1e-4, base*1e-5]\n",
    "scale_factors = list(1 + np.random.normal(scale=1e-1, size=len(params_vals)))\n",
    "params_vals = [p*sf for p, sf in zip(params_vals, scale_factors)]\n",
    "# generate dictionary\n",
    "params = {f\"c_{p}\":v for p,v in zip(params_knlm, params_vals)}"
   ]
  },
  {
   "cell_type": "code",
   "execution_count": 51,
   "metadata": {},
   "outputs": [
    {
     "data": {
      "text/plain": [
       "{'c_1110': 96604.63268777147}"
      ]
     },
     "execution_count": 51,
     "metadata": {},
     "output_type": "execute_result"
    }
   ],
   "source": [
    "params"
   ]
  },
  {
   "cell_type": "code",
   "execution_count": 52,
   "metadata": {},
   "outputs": [],
   "source": [
    "ks = [int(p[0]) for p in params_knlm]\n",
    "ns = [int(p[1]) for p in params_knlm]\n",
    "ls = [int(p[2]) for p in params_knlm]\n",
    "ms = [int(p[3]) for p in params_knlm]"
   ]
  },
  {
   "cell_type": "code",
   "execution_count": 53,
   "metadata": {},
   "outputs": [],
   "source": [
    "df_params = pd.DataFrame({'k':ks, 'n': ns, 'l': ls, 'm': ms, 'val': params_vals})"
   ]
  },
  {
   "cell_type": "code",
   "execution_count": 54,
   "metadata": {},
   "outputs": [
    {
     "data": {
      "text/html": [
       "<div>\n",
       "<style scoped>\n",
       "    .dataframe tbody tr th:only-of-type {\n",
       "        vertical-align: middle;\n",
       "    }\n",
       "\n",
       "    .dataframe tbody tr th {\n",
       "        vertical-align: top;\n",
       "    }\n",
       "\n",
       "    .dataframe thead th {\n",
       "        text-align: right;\n",
       "    }\n",
       "</style>\n",
       "<table border=\"1\" class=\"dataframe\">\n",
       "  <thead>\n",
       "    <tr style=\"text-align: right;\">\n",
       "      <th></th>\n",
       "      <th>k</th>\n",
       "      <th>n</th>\n",
       "      <th>l</th>\n",
       "      <th>m</th>\n",
       "      <th>val</th>\n",
       "    </tr>\n",
       "  </thead>\n",
       "  <tbody>\n",
       "    <tr>\n",
       "      <th>0</th>\n",
       "      <td>1</td>\n",
       "      <td>1</td>\n",
       "      <td>1</td>\n",
       "      <td>0</td>\n",
       "      <td>96604.632688</td>\n",
       "    </tr>\n",
       "  </tbody>\n",
       "</table>\n",
       "</div>"
      ],
      "text/plain": [
       "   k  n  l  m           val\n",
       "0  1  1  1  0  96604.632688"
      ]
     },
     "execution_count": 54,
     "metadata": {},
     "output_type": "execute_result"
    }
   ],
   "source": [
    "df_params"
   ]
  },
  {
   "cell_type": "code",
   "execution_count": 55,
   "metadata": {},
   "outputs": [],
   "source": [
    "#df_params.to_pickle('fake_data/hall_voltage_01_params.p')\n",
    "#df_params.to_pickle('/home/ckampa/data/pickles/hallcalib/fake_data/hall_voltage_02_params.p')\n",
    "df_params.to_pickle('/home/ckampa/data/pickles/hallcalib/fake_data/hall_voltage_03_params.p')"
   ]
  },
  {
   "cell_type": "code",
   "execution_count": 56,
   "metadata": {},
   "outputs": [
    {
     "data": {
      "text/plain": [
       "k          1.000000\n",
       "n          1.000000\n",
       "l          1.000000\n",
       "m          0.000000\n",
       "val    96604.632688\n",
       "dtype: float64"
      ]
     },
     "execution_count": 56,
     "metadata": {},
     "output_type": "execute_result"
    }
   ],
   "source": [
    "df_params.max()"
   ]
  },
  {
   "cell_type": "code",
   "execution_count": null,
   "metadata": {},
   "outputs": [],
   "source": []
  },
  {
   "cell_type": "code",
   "execution_count": null,
   "metadata": {},
   "outputs": [],
   "source": []
  },
  {
   "cell_type": "markdown",
   "metadata": {},
   "source": [
    "## Generate Validation Data"
   ]
  },
  {
   "cell_type": "code",
   "execution_count": 57,
   "metadata": {},
   "outputs": [],
   "source": [
    "# generate starting conditions\n",
    "#Nphi, Ntheta, NB, Nt = (360, 181, 4, 3)\n",
    "Nphi, Ntheta, NB, Nt = (360, 361, 4, 3)\n",
    "phis = np.linspace(0, 2*np.pi - 2*np.pi/Nphi, Nphi)\n",
    "thetas = np.linspace(0, np.pi, Ntheta)\n",
    "Bs = np.linspace(0.5, 1.25, NB)\n",
    "ts = np.linspace(21, 25, Nt)\n",
    "sigma = 25. # 0.\n",
    "\n",
    "# call forward data generation function and store in dataframe\n",
    "df = gen_data(Bs, ts, thetas, phis, sigma)"
   ]
  },
  {
   "cell_type": "code",
   "execution_count": 17,
   "metadata": {},
   "outputs": [],
   "source": [
    "# MORE |B|, t, less theta, phi\n",
    "# generate starting conditions\n",
    "Nphi, Ntheta, NB, Nt = (180, 91, 8, 6)\n",
    "#Nphi, Ntheta, NB, Nt = (360, 361, 4, 3)\n",
    "phis = np.linspace(0, 2*np.pi - 2*np.pi/Nphi, Nphi)\n",
    "thetas = np.linspace(0, np.pi, Ntheta)\n",
    "Bs = np.linspace(0.5, 1.25, NB)\n",
    "ts = np.linspace(21, 25, Nt)\n",
    "sigma = 50. # 0.\n",
    "\n",
    "# call forward data generation function and store in dataframe\n",
    "df = gen_data(Bs, ts, thetas, phis, sigma)"
   ]
  },
  {
   "cell_type": "code",
   "execution_count": 18,
   "metadata": {
    "scrolled": true
   },
   "outputs": [
    {
     "data": {
      "text/html": [
       "<div>\n",
       "<style scoped>\n",
       "    .dataframe tbody tr th:only-of-type {\n",
       "        vertical-align: middle;\n",
       "    }\n",
       "\n",
       "    .dataframe tbody tr th {\n",
       "        vertical-align: top;\n",
       "    }\n",
       "\n",
       "    .dataframe thead th {\n",
       "        text-align: right;\n",
       "    }\n",
       "</style>\n",
       "<table border=\"1\" class=\"dataframe\">\n",
       "  <thead>\n",
       "    <tr style=\"text-align: right;\">\n",
       "      <th></th>\n",
       "      <th>B</th>\n",
       "      <th>Temp</th>\n",
       "      <th>Theta</th>\n",
       "      <th>Phi</th>\n",
       "      <th>Theta_deg</th>\n",
       "      <th>Phi_deg</th>\n",
       "      <th>V_obs</th>\n",
       "      <th>sigma_V</th>\n",
       "    </tr>\n",
       "  </thead>\n",
       "  <tbody>\n",
       "    <tr>\n",
       "      <th>0</th>\n",
       "      <td>0.50</td>\n",
       "      <td>21.0</td>\n",
       "      <td>0.000000</td>\n",
       "      <td>0.000000</td>\n",
       "      <td>0.0</td>\n",
       "      <td>0.0</td>\n",
       "      <td>8.346260e+05</td>\n",
       "      <td>50.0</td>\n",
       "    </tr>\n",
       "    <tr>\n",
       "      <th>1</th>\n",
       "      <td>0.50</td>\n",
       "      <td>21.0</td>\n",
       "      <td>0.000000</td>\n",
       "      <td>0.034907</td>\n",
       "      <td>0.0</td>\n",
       "      <td>2.0</td>\n",
       "      <td>8.345115e+05</td>\n",
       "      <td>50.0</td>\n",
       "    </tr>\n",
       "    <tr>\n",
       "      <th>2</th>\n",
       "      <td>0.50</td>\n",
       "      <td>21.0</td>\n",
       "      <td>0.000000</td>\n",
       "      <td>0.069813</td>\n",
       "      <td>0.0</td>\n",
       "      <td>4.0</td>\n",
       "      <td>8.345252e+05</td>\n",
       "      <td>50.0</td>\n",
       "    </tr>\n",
       "    <tr>\n",
       "      <th>3</th>\n",
       "      <td>0.50</td>\n",
       "      <td>21.0</td>\n",
       "      <td>0.000000</td>\n",
       "      <td>0.104720</td>\n",
       "      <td>0.0</td>\n",
       "      <td>6.0</td>\n",
       "      <td>8.344838e+05</td>\n",
       "      <td>50.0</td>\n",
       "    </tr>\n",
       "    <tr>\n",
       "      <th>4</th>\n",
       "      <td>0.50</td>\n",
       "      <td>21.0</td>\n",
       "      <td>0.000000</td>\n",
       "      <td>0.139626</td>\n",
       "      <td>0.0</td>\n",
       "      <td>8.0</td>\n",
       "      <td>8.345347e+05</td>\n",
       "      <td>50.0</td>\n",
       "    </tr>\n",
       "    <tr>\n",
       "      <th>...</th>\n",
       "      <td>...</td>\n",
       "      <td>...</td>\n",
       "      <td>...</td>\n",
       "      <td>...</td>\n",
       "      <td>...</td>\n",
       "      <td>...</td>\n",
       "      <td>...</td>\n",
       "      <td>...</td>\n",
       "    </tr>\n",
       "    <tr>\n",
       "      <th>786235</th>\n",
       "      <td>1.25</td>\n",
       "      <td>25.0</td>\n",
       "      <td>3.141593</td>\n",
       "      <td>6.108652</td>\n",
       "      <td>180.0</td>\n",
       "      <td>350.0</td>\n",
       "      <td>-2.873566e+06</td>\n",
       "      <td>50.0</td>\n",
       "    </tr>\n",
       "    <tr>\n",
       "      <th>786236</th>\n",
       "      <td>1.25</td>\n",
       "      <td>25.0</td>\n",
       "      <td>3.141593</td>\n",
       "      <td>6.143559</td>\n",
       "      <td>180.0</td>\n",
       "      <td>352.0</td>\n",
       "      <td>-2.873587e+06</td>\n",
       "      <td>50.0</td>\n",
       "    </tr>\n",
       "    <tr>\n",
       "      <th>786237</th>\n",
       "      <td>1.25</td>\n",
       "      <td>25.0</td>\n",
       "      <td>3.141593</td>\n",
       "      <td>6.178466</td>\n",
       "      <td>180.0</td>\n",
       "      <td>354.0</td>\n",
       "      <td>-2.873593e+06</td>\n",
       "      <td>50.0</td>\n",
       "    </tr>\n",
       "    <tr>\n",
       "      <th>786238</th>\n",
       "      <td>1.25</td>\n",
       "      <td>25.0</td>\n",
       "      <td>3.141593</td>\n",
       "      <td>6.213372</td>\n",
       "      <td>180.0</td>\n",
       "      <td>356.0</td>\n",
       "      <td>-2.873531e+06</td>\n",
       "      <td>50.0</td>\n",
       "    </tr>\n",
       "    <tr>\n",
       "      <th>786239</th>\n",
       "      <td>1.25</td>\n",
       "      <td>25.0</td>\n",
       "      <td>3.141593</td>\n",
       "      <td>6.248279</td>\n",
       "      <td>180.0</td>\n",
       "      <td>358.0</td>\n",
       "      <td>-2.873616e+06</td>\n",
       "      <td>50.0</td>\n",
       "    </tr>\n",
       "  </tbody>\n",
       "</table>\n",
       "<p>786240 rows × 8 columns</p>\n",
       "</div>"
      ],
      "text/plain": [
       "           B  Temp     Theta       Phi  Theta_deg  Phi_deg         V_obs  \\\n",
       "0       0.50  21.0  0.000000  0.000000        0.0      0.0  8.346260e+05   \n",
       "1       0.50  21.0  0.000000  0.034907        0.0      2.0  8.345115e+05   \n",
       "2       0.50  21.0  0.000000  0.069813        0.0      4.0  8.345252e+05   \n",
       "3       0.50  21.0  0.000000  0.104720        0.0      6.0  8.344838e+05   \n",
       "4       0.50  21.0  0.000000  0.139626        0.0      8.0  8.345347e+05   \n",
       "...      ...   ...       ...       ...        ...      ...           ...   \n",
       "786235  1.25  25.0  3.141593  6.108652      180.0    350.0 -2.873566e+06   \n",
       "786236  1.25  25.0  3.141593  6.143559      180.0    352.0 -2.873587e+06   \n",
       "786237  1.25  25.0  3.141593  6.178466      180.0    354.0 -2.873593e+06   \n",
       "786238  1.25  25.0  3.141593  6.213372      180.0    356.0 -2.873531e+06   \n",
       "786239  1.25  25.0  3.141593  6.248279      180.0    358.0 -2.873616e+06   \n",
       "\n",
       "        sigma_V  \n",
       "0          50.0  \n",
       "1          50.0  \n",
       "2          50.0  \n",
       "3          50.0  \n",
       "4          50.0  \n",
       "...         ...  \n",
       "786235     50.0  \n",
       "786236     50.0  \n",
       "786237     50.0  \n",
       "786238     50.0  \n",
       "786239     50.0  \n",
       "\n",
       "[786240 rows x 8 columns]"
      ]
     },
     "execution_count": 18,
     "metadata": {},
     "output_type": "execute_result"
    }
   ],
   "source": [
    "df"
   ]
  },
  {
   "cell_type": "code",
   "execution_count": 19,
   "metadata": {},
   "outputs": [],
   "source": [
    "#df.to_pickle('fake_data/hall_voltage_01_data.p')\n",
    "#df.to_pickle('/home/ckampa/data/pickles/hallcalib/fake_data/hall_voltage_02_data.p')\n",
    "#df.to_pickle('/home/ckampa/data/pickles/hallcalib/fake_data/hall_voltage_03_data.p')\n",
    "df.to_pickle('/home/ckampa/data/pickles/hallcalib/fake_data/hall_voltage_04_data.p')"
   ]
  },
  {
   "cell_type": "markdown",
   "metadata": {
    "heading_collapsed": true
   },
   "source": [
    "## Filter Validation Data for Two Tests"
   ]
  },
  {
   "cell_type": "code",
   "execution_count": 23,
   "metadata": {
    "hidden": true
   },
   "outputs": [
    {
     "data": {
      "text/plain": [
       "'n, bins, patches = plt.hist(df[\"res_rel_FNAL\"], bins=100, alpha=0.7, histtype=\\'step\\', linewidth=2);\\nplt.hist(df[\"res_rel_full\"], bins=bins, alpha=0.7, histtype=\\'step\\', linewidth=2);# bins=100, alpha=0.5);\\nplt.ticklabel_format(axis=\"x\", style=\"sci\", scilimits=(0,0));\\nplt.yscale(\\'log\\');\\n'"
      ]
     },
     "execution_count": 23,
     "metadata": {},
     "output_type": "execute_result"
    },
    {
     "data": {
      "image/png": "[encoded data removed]",
      "text/plain": [
       "<Figure size 720x576 with 1 Axes>"
      ]
     },
     "metadata": {
      "needs_background": "light"
     },
     "output_type": "display_data"
    }
   ],
   "source": [
    "# all theta\n",
    "df_full = df[np.isin(df.Theta_deg, df.Theta_deg.unique()[::4]) \\\n",
    "             & np.isin(df.Phi_deg, df.Phi_deg.unique()[::4])]\n",
    "df_full, m_dict, m, m_cov = hall_cal_least_squares(df_full)\n",
    "\n",
    "df[\"V_syn_full\"] = V_forward(df.B, df.Temp, df.Theta, df.Phi, **m_dict)\n",
    "df[\"res_full\"] = df.V_obs - df.V_syn_full\n",
    "df[\"res_rel_full\"] = df.res_full / df.V_obs\n",
    "\n",
    "# limited theta\n",
    "max_theta_deg = 15 # deg\n",
    "max_theta = np.radians(max_theta_deg)\n",
    "\n",
    "df_FNAL = df[np.isin(df.Theta_deg, df.Theta_deg.unique()[::4]) \\\n",
    "             & np.isin(df.Phi_deg, df.Phi_deg.unique()[::4])]\n",
    "\n",
    "df_FNAL = df_FNAL.query(f\"Theta <= {max_theta} or Theta >= {np.pi - max_theta}\")\n",
    "\n",
    "cols = [\"B\", \"Temp\", \"Theta\", \"Phi\", \"Theta_deg\", \"Phi_deg\", \"V_obs\", \"sigma_V\"]\n",
    "\n",
    "df_FNAL = df_FNAL[cols]\n",
    "df_FNAL, m_dict, m, m_cov = hall_cal_least_squares(df_FNAL)\n",
    "\n",
    "df[\"V_syn_FNAL\"] = V_forward(df.B, df.Temp, df.Theta, df.Phi, **m_dict)\n",
    "df[\"res_FNAL\"] = df.V_obs - df.V_syn_FNAL\n",
    "df[\"res_rel_FNAL\"] = df.res_FNAL / df.V_obs\n",
    "\n",
    "# residual plot\n",
    "n, bins, patches = plt.hist(df[\"res_FNAL\"], bins=100, alpha=0.7, histtype='step',\\\n",
    "                            linewidth=2, label=r\"Limited $\\theta$\");\n",
    "plt.hist(df[\"res_full\"], bins=bins, alpha=0.7, histtype='step', linewidth=2, label=r\"Full $\\theta$\");\n",
    "plt.ticklabel_format(axis=\"x\", style=\"sci\", scilimits=(0,0));\n",
    "\n",
    "plt.xlabel(\"Residual Voltage (Fit - Observed)\")\n",
    "plt.ylabel(\"Counts\")\n",
    "plt.legend()\n",
    "\n",
    "plt.savefig(plotdir+\"res_hist.pdf\")\n",
    "plt.savefig(plotdir+\"res_hist.png\");"
   ]
  },
  {
   "cell_type": "markdown",
   "metadata": {},
   "source": [
    "## Full Dataset"
   ]
  },
  {
   "cell_type": "code",
   "execution_count": 17,
   "metadata": {},
   "outputs": [],
   "source": [
    "# parameter keys\n",
    "params_knlm = [\"1110\", \"1122\", \"1210\", \"1222\", \"2110\", \"2122\",\n",
    "               \"2210\", \"2222\", \"3110\", \"3122\", \"3210\", \"3222\",]\n",
    "base = 1e5\n",
    "# pick realistic values\n",
    "params_vals = [base, base*1e-2, base*1e-2, base*1e-3, base*1e-2, base*1e-3,\n",
    "               base*1e-3, base*1e-4, base*1e-3, base*1e-4, base*1e-4, base*1e-5]\n",
    "# generate dictionary\n",
    "params = {f\"c_{p}\":v for p,v in zip(params_knlm, params_vals)}"
   ]
  },
  {
   "cell_type": "code",
   "execution_count": 14,
   "metadata": {},
   "outputs": [],
   "source": [
    "# generate starting conditions\n",
    "Nphi, Ntheta, NB, Nt = (360, 181, 4, 3)\n",
    "phis = np.linspace(0, 2*np.pi - 2*np.pi/Nphi, Nphi)\n",
    "thetas = np.linspace(0, np.pi, Ntheta)\n",
    "Bs = np.linspace(0.5, 1.25, NB)\n",
    "ts = np.linspace(21, 25, Nt)\n",
    "sigma = 0."
   ]
  },
  {
   "cell_type": "code",
   "execution_count": 15,
   "metadata": {},
   "outputs": [],
   "source": [
    "# call forward data generation function and store in dataframe\n",
    "df = gen_data(Bs, ts, thetas, phis, sigma)"
   ]
  },
  {
   "cell_type": "code",
   "execution_count": 16,
   "metadata": {
    "scrolled": true
   },
   "outputs": [
    {
     "data": {
      "text/html": [
       "<div>\n",
       "<style scoped>\n",
       "    .dataframe tbody tr th:only-of-type {\n",
       "        vertical-align: middle;\n",
       "    }\n",
       "\n",
       "    .dataframe tbody tr th {\n",
       "        vertical-align: top;\n",
       "    }\n",
       "\n",
       "    .dataframe thead th {\n",
       "        text-align: right;\n",
       "    }\n",
       "</style>\n",
       "<table border=\"1\" class=\"dataframe\">\n",
       "  <thead>\n",
       "    <tr style=\"text-align: right;\">\n",
       "      <th></th>\n",
       "      <th>B</th>\n",
       "      <th>Temp</th>\n",
       "      <th>Theta</th>\n",
       "      <th>Phi</th>\n",
       "      <th>Theta_deg</th>\n",
       "      <th>Phi_deg</th>\n",
       "      <th>V_obs</th>\n",
       "      <th>sigma_V</th>\n",
       "    </tr>\n",
       "  </thead>\n",
       "  <tbody>\n",
       "    <tr>\n",
       "      <th>0</th>\n",
       "      <td>0.5</td>\n",
       "      <td>21.0</td>\n",
       "      <td>0.0</td>\n",
       "      <td>0.000000</td>\n",
       "      <td>0.0</td>\n",
       "      <td>0.0</td>\n",
       "      <td>696278.123562</td>\n",
       "      <td>0.0</td>\n",
       "    </tr>\n",
       "    <tr>\n",
       "      <th>1</th>\n",
       "      <td>0.5</td>\n",
       "      <td>21.0</td>\n",
       "      <td>0.0</td>\n",
       "      <td>0.017453</td>\n",
       "      <td>0.0</td>\n",
       "      <td>1.0</td>\n",
       "      <td>696278.123562</td>\n",
       "      <td>0.0</td>\n",
       "    </tr>\n",
       "    <tr>\n",
       "      <th>2</th>\n",
       "      <td>0.5</td>\n",
       "      <td>21.0</td>\n",
       "      <td>0.0</td>\n",
       "      <td>0.034907</td>\n",
       "      <td>0.0</td>\n",
       "      <td>2.0</td>\n",
       "      <td>696278.123562</td>\n",
       "      <td>0.0</td>\n",
       "    </tr>\n",
       "    <tr>\n",
       "      <th>3</th>\n",
       "      <td>0.5</td>\n",
       "      <td>21.0</td>\n",
       "      <td>0.0</td>\n",
       "      <td>0.052360</td>\n",
       "      <td>0.0</td>\n",
       "      <td>3.0</td>\n",
       "      <td>696278.123562</td>\n",
       "      <td>0.0</td>\n",
       "    </tr>\n",
       "    <tr>\n",
       "      <th>4</th>\n",
       "      <td>0.5</td>\n",
       "      <td>21.0</td>\n",
       "      <td>0.0</td>\n",
       "      <td>0.069813</td>\n",
       "      <td>0.0</td>\n",
       "      <td>4.0</td>\n",
       "      <td>696278.123562</td>\n",
       "      <td>0.0</td>\n",
       "    </tr>\n",
       "  </tbody>\n",
       "</table>\n",
       "</div>"
      ],
      "text/plain": [
       "     B  Temp  Theta       Phi  Theta_deg  Phi_deg          V_obs  sigma_V\n",
       "0  0.5  21.0    0.0  0.000000        0.0      0.0  696278.123562      0.0\n",
       "1  0.5  21.0    0.0  0.017453        0.0      1.0  696278.123562      0.0\n",
       "2  0.5  21.0    0.0  0.034907        0.0      2.0  696278.123562      0.0\n",
       "3  0.5  21.0    0.0  0.052360        0.0      3.0  696278.123562      0.0\n",
       "4  0.5  21.0    0.0  0.069813        0.0      4.0  696278.123562      0.0"
      ]
     },
     "execution_count": 16,
     "metadata": {},
     "output_type": "execute_result"
    }
   ],
   "source": [
    "df.head()"
   ]
  },
  {
   "cell_type": "code",
   "execution_count": null,
   "metadata": {},
   "outputs": [],
   "source": [
    "len(df)"
   ]
  },
  {
   "cell_type": "code",
   "execution_count": null,
   "metadata": {},
   "outputs": [],
   "source": [
    "# take 1/4 of all data\n",
    "df_full = df[np.isin(df.Theta_deg, df.Theta_deg.unique()[::4]) & np.isin(df.Phi_deg, df.Phi_deg.unique()[::4])]"
   ]
  },
  {
   "cell_type": "code",
   "execution_count": null,
   "metadata": {},
   "outputs": [],
   "source": [
    "len(df_full)"
   ]
  },
  {
   "cell_type": "code",
   "execution_count": null,
   "metadata": {},
   "outputs": [],
   "source": [
    "len(df_full) / len(df)"
   ]
  },
  {
   "cell_type": "code",
   "execution_count": null,
   "metadata": {},
   "outputs": [],
   "source": [
    "df_full, m_dict, m, m_cov = hall_cal_least_squares(df_full)"
   ]
  },
  {
   "cell_type": "code",
   "execution_count": null,
   "metadata": {},
   "outputs": [],
   "source": [
    "df[\"V_syn_full\"] = V_forward(df.B, df.Temp, df.Theta, df.Phi, **m_dict)\n",
    "df[\"res_full\"] = df.V_obs - df.V_syn_full\n",
    "df[\"res_rel_full\"] = df.res_full / df.V_obs"
   ]
  },
  {
   "cell_type": "code",
   "execution_count": null,
   "metadata": {},
   "outputs": [],
   "source": [
    "#m_cov"
   ]
  },
  {
   "cell_type": "code",
   "execution_count": null,
   "metadata": {},
   "outputs": [],
   "source": [
    "m"
   ]
  },
  {
   "cell_type": "code",
   "execution_count": null,
   "metadata": {},
   "outputs": [],
   "source": [
    "m_dict"
   ]
  },
  {
   "cell_type": "code",
   "execution_count": null,
   "metadata": {},
   "outputs": [],
   "source": [
    "params"
   ]
  },
  {
   "cell_type": "code",
   "execution_count": null,
   "metadata": {},
   "outputs": [],
   "source": [
    "# param uncertainties\n",
    "np.sqrt(np.diag(m_cov))"
   ]
  },
  {
   "cell_type": "code",
   "execution_count": null,
   "metadata": {},
   "outputs": [],
   "source": [
    "plt.hist(df_full[\"res\"], bins=50);\n",
    "plt.ticklabel_format(axis=\"x\", style=\"sci\", scilimits=(0,0))"
   ]
  },
  {
   "cell_type": "code",
   "execution_count": null,
   "metadata": {},
   "outputs": [],
   "source": [
    "plt.hist(df_full[\"res_rel\"], bins=50);\n",
    "plt.ticklabel_format(axis=\"x\", style=\"sci\", scilimits=(0,0))\n",
    "plt.yscale('log');"
   ]
  },
  {
   "cell_type": "code",
   "execution_count": null,
   "metadata": {},
   "outputs": [],
   "source": [
    "df_full[df_full[\"res_rel\"] == df_full[\"res_rel\"].min()]"
   ]
  },
  {
   "cell_type": "code",
   "execution_count": null,
   "metadata": {},
   "outputs": [],
   "source": [
    "cols = [\"B\", \"Temp\", \"Theta\", \"Phi\", \"V_obs\", \"V_syn\", \"res\", \"res_rel\"]"
   ]
  },
  {
   "cell_type": "code",
   "execution_count": null,
   "metadata": {},
   "outputs": [],
   "source": [
    "# takes too long\n",
    "#px.scatter_matrix(df_full[cols])"
   ]
  },
  {
   "cell_type": "markdown",
   "metadata": {},
   "source": [
    "## FNAL Dataset"
   ]
  },
  {
   "cell_type": "code",
   "execution_count": null,
   "metadata": {},
   "outputs": [],
   "source": [
    "## DONT CHANGE N from above\n",
    "#Nphi, Ntheta, NB, Nt = (18, 10, 4, 3)#(360, 181, 4, 3)#(18, 9, 4, 3)\n",
    "phis = np.linspace(0, 2*np.pi - 2*np.pi/Nphi, Nphi) # every 20 deg\n",
    "#thetas = np.linspace(0, np.pi - np.pi/Ntheta, Ntheta) # every 20 deg\n",
    "thetas = np.linspace(0, np.pi, Ntheta) # every 20 deg\n",
    "max_theta_deg = 15 # deg\n",
    "max_theta = np.radians(max_theta_deg)\n",
    "tmask = (thetas <= max_theta) | (thetas >= np.pi - max_theta)\n",
    "thetas = thetas[tmask]\n",
    "Bs = np.linspace(0.5, 1.25, NB)\n",
    "ts = np.linspace(21, 25, Nt)\n",
    "#phis = np.linspace(0, 2*np.pi, Nphi) # every 20 deg\n",
    "#thetas = "
   ]
  },
  {
   "cell_type": "code",
   "execution_count": null,
   "metadata": {},
   "outputs": [],
   "source": [
    "#df_FNAL = gen_data(Bs, ts, thetas, phis, sigma)"
   ]
  },
  {
   "cell_type": "code",
   "execution_count": null,
   "metadata": {},
   "outputs": [],
   "source": [
    "# take from validation\n",
    "df_FNAL = df[np.isin(df.Theta_deg, df.Theta_deg.unique()[::4]) & np.isin(df.Phi_deg, df.Phi_deg.unique()[::4])]"
   ]
  },
  {
   "cell_type": "code",
   "execution_count": null,
   "metadata": {},
   "outputs": [],
   "source": [
    "df_FNAL = df_FNAL.query(f\"Theta <= {max_theta} or Theta >= {np.pi - max_theta}\")"
   ]
  },
  {
   "cell_type": "code",
   "execution_count": null,
   "metadata": {},
   "outputs": [],
   "source": [
    "cols = [\"B\", \"Temp\", \"Theta\", \"Phi\", \"Theta_deg\", \"Phi_deg\", \"V_obs\", \"sigma_V\"]"
   ]
  },
  {
   "cell_type": "code",
   "execution_count": null,
   "metadata": {},
   "outputs": [],
   "source": [
    "df_FNAL = df_FNAL[cols]"
   ]
  },
  {
   "cell_type": "code",
   "execution_count": null,
   "metadata": {
    "scrolled": true
   },
   "outputs": [],
   "source": [
    "df_FNAL.head()"
   ]
  },
  {
   "cell_type": "code",
   "execution_count": null,
   "metadata": {},
   "outputs": [],
   "source": [
    "len(df_FNAL)"
   ]
  },
  {
   "cell_type": "code",
   "execution_count": null,
   "metadata": {},
   "outputs": [],
   "source": [
    "df_FNAL, m_dict, m, m_cov = hall_cal_least_squares(df_FNAL)"
   ]
  },
  {
   "cell_type": "code",
   "execution_count": null,
   "metadata": {},
   "outputs": [],
   "source": [
    "df[\"V_syn_FNAL\"] = V_forward(df.B, df.Temp, df.Theta, df.Phi, **m_dict)\n",
    "df[\"res_FNAL\"] = df.V_obs - df.V_syn_FNAL\n",
    "df[\"res_rel_FNAL\"] = df.res_FNAL / df.V_obs"
   ]
  },
  {
   "cell_type": "code",
   "execution_count": null,
   "metadata": {},
   "outputs": [],
   "source": [
    "#m_cov"
   ]
  },
  {
   "cell_type": "code",
   "execution_count": null,
   "metadata": {},
   "outputs": [],
   "source": [
    "m"
   ]
  },
  {
   "cell_type": "code",
   "execution_count": null,
   "metadata": {},
   "outputs": [],
   "source": [
    "m_dict"
   ]
  },
  {
   "cell_type": "code",
   "execution_count": null,
   "metadata": {},
   "outputs": [],
   "source": [
    "params"
   ]
  },
  {
   "cell_type": "code",
   "execution_count": null,
   "metadata": {},
   "outputs": [],
   "source": [
    "# param uncertainties\n",
    "np.sqrt(np.diag(m_cov))"
   ]
  },
  {
   "cell_type": "code",
   "execution_count": null,
   "metadata": {},
   "outputs": [],
   "source": [
    "plt.hist(df_FNAL[\"res\"], bins=50);\n",
    "plt.ticklabel_format(axis=\"x\", style=\"sci\", scilimits=(0,0))"
   ]
  },
  {
   "cell_type": "code",
   "execution_count": null,
   "metadata": {},
   "outputs": [],
   "source": [
    "plt.hist(df_FNAL[\"res_rel\"], bins=50);\n",
    "plt.ticklabel_format(axis=\"x\", style=\"sci\", scilimits=(0,0))\n",
    "plt.yscale('log');"
   ]
  },
  {
   "cell_type": "code",
   "execution_count": null,
   "metadata": {},
   "outputs": [],
   "source": [
    "df_FNAL[df_FNAL[\"res_rel\"] == df_FNAL[\"res_rel\"].min()]"
   ]
  },
  {
   "cell_type": "code",
   "execution_count": null,
   "metadata": {},
   "outputs": [],
   "source": [
    "cols = [\"B\", \"Temp\", \"Theta\", \"Phi\", \"V_obs\", \"V_syn\", \"res\", \"res_rel\"]"
   ]
  },
  {
   "cell_type": "code",
   "execution_count": null,
   "metadata": {},
   "outputs": [],
   "source": [
    "px.scatter_matrix(df_FNAL[cols])"
   ]
  },
  {
   "cell_type": "markdown",
   "metadata": {},
   "source": [
    "## Comparison"
   ]
  },
  {
   "cell_type": "code",
   "execution_count": null,
   "metadata": {},
   "outputs": [],
   "source": [
    "n, bins, patches = plt.hist(df[\"res_FNAL\"], bins=100, alpha=0.7, histtype='step', linewidth=2);\n",
    "plt.hist(df[\"res_full\"], bins=bins, alpha=0.7, histtype='step', linewidth=2);# bins=100, alpha=0.5);\n",
    "#plt.hist(df[\"res_full\"], bins=100, alpha=0.7, histtype='step', linewidth=2);# bins=100, alpha=0.5);\n",
    "plt.ticklabel_format(axis=\"x\", style=\"sci\", scilimits=(0,0));"
   ]
  },
  {
   "cell_type": "code",
   "execution_count": null,
   "metadata": {},
   "outputs": [],
   "source": [
    "df[\"res_full\"].describe()"
   ]
  },
  {
   "cell_type": "code",
   "execution_count": null,
   "metadata": {},
   "outputs": [],
   "source": [
    "df[\"res_FNAL\"].describe()"
   ]
  },
  {
   "cell_type": "code",
   "execution_count": null,
   "metadata": {},
   "outputs": [],
   "source": [
    "n, bins, patches = plt.hist(df[\"res_rel_FNAL\"], bins=100, alpha=0.7, histtype='step', linewidth=2);\n",
    "plt.hist(df[\"res_rel_full\"], bins=bins, alpha=0.7, histtype='step', linewidth=2);# bins=100, alpha=0.5);\n",
    "plt.ticklabel_format(axis=\"x\", style=\"sci\", scilimits=(0,0));\n",
    "plt.yscale('log');"
   ]
  },
  {
   "cell_type": "code",
   "execution_count": null,
   "metadata": {},
   "outputs": [],
   "source": [
    "df[\"res_rel_full\"].describe()"
   ]
  },
  {
   "cell_type": "code",
   "execution_count": null,
   "metadata": {},
   "outputs": [],
   "source": [
    "df[\"res_rel_FNAL\"].describe()"
   ]
  },
  {
   "cell_type": "markdown",
   "metadata": {},
   "source": [
    "## Comparing Different Max Theta"
   ]
  },
  {
   "cell_type": "code",
   "execution_count": 39,
   "metadata": {},
   "outputs": [],
   "source": [
    "params_knlm = [\"1110\", \"1122\", \"1210\", \"1222\", \"2110\", \"2122\",\n",
    "               \"2210\", \"2222\", \"3110\", \"3122\", \"3210\", \"3222\",]\n",
    "base = 1e5#6\n",
    "params_vals = [base, base*1e-2, base*1e-2, base*1e-3, base*1e-2, base*1e-3,\n",
    "               base*1e-3, base*1e-4, base*1e-3, base*1e-4, base*1e-4, base*1e-5]\n",
    "params = {f\"c_{p}\":v for p,v in zip(params_knlm, params_vals)}"
   ]
  },
  {
   "cell_type": "code",
   "execution_count": 52,
   "metadata": {},
   "outputs": [],
   "source": [
    "Nphi, Ntheta, NB, Nt = (360, 181, 4, 3)#(18, 10, 4, 3)#(360, 181, 4, 3)#(18, 9, 4, 3)\n",
    "phis = np.linspace(0, 2*np.pi - 2*np.pi/Nphi, Nphi) # every 20 deg\n",
    "#thetas = np.linspace(0, np.pi - np.pi/Ntheta, Ntheta) # every 20 deg\n",
    "thetas = np.linspace(0, np.pi, Ntheta) # every 20 deg\n",
    "Bs = np.linspace(0.5, 1.25, NB)\n",
    "ts = np.linspace(21, 25, Nt)\n",
    "#phis = np.linspace(0, 2*np.pi, Nphi) # every 20 deg\n",
    "#thetas = \n",
    "sigma = 120. # 0."
   ]
  },
  {
   "cell_type": "code",
   "execution_count": 53,
   "metadata": {},
   "outputs": [],
   "source": [
    "df = gen_data(Bs, ts, thetas, phis, sigma)"
   ]
  },
  {
   "cell_type": "code",
   "execution_count": 54,
   "metadata": {},
   "outputs": [],
   "source": [
    "#max_thetas_deg = [5, 15, 25, 30, 60, 89, 180]\n",
    "max_thetas_deg = [5, 15, 30, 60, 90]\n",
    "max_thetas_deg_string = [str(t) for t in max_thetas_deg]\n",
    "max_thetas = [np.radians(t) for t in max_thetas_deg]"
   ]
  },
  {
   "cell_type": "code",
   "execution_count": 55,
   "metadata": {},
   "outputs": [],
   "source": [
    "max_points = 1000"
   ]
  },
  {
   "cell_type": "code",
   "execution_count": 56,
   "metadata": {},
   "outputs": [
    {
     "data": {
      "text/plain": [
       "781.92"
      ]
     },
     "execution_count": 56,
     "metadata": {},
     "output_type": "execute_result"
    }
   ],
   "source": [
    "len(df) / max_points"
   ]
  },
  {
   "cell_type": "code",
   "execution_count": 57,
   "metadata": {
    "scrolled": false
   },
   "outputs": [],
   "source": [
    "plot = False\n",
    "\n",
    "for half, hs in zip([False, True], [\"\", \"_half\"]):\n",
    "    for max_theta, tstr in zip(max_thetas, max_thetas_deg_string):\n",
    "        # get proper thetas\n",
    "        #thetas = np.linspace(0, np.pi, Ntheta) # every 20 deg\n",
    "        #if half:\n",
    "        #    tmask = (thetas <= max_theta)# | (thetas >= np.pi - max_theta)\n",
    "        #else:\n",
    "        #    tmask = (thetas <= max_theta) | (thetas >= np.pi - max_theta)\n",
    "        #thetas = thetas[tmask]\n",
    "\n",
    "        # take from validation\n",
    "        df_ = df[np.isin(df.Theta_deg, df.Theta_deg.unique()[::4]) & np.isin(df.Phi_deg, df.Phi_deg.unique()[::4])]\n",
    "        if half:\n",
    "            df_ = df_.query(f\"Theta <= {max_theta}\")\n",
    "        else:\n",
    "            df_ = df_.query(f\"Theta <= {max_theta} or Theta >= {np.pi - max_theta}\")\n",
    "        #df_ = df_[np.isin(df_[\"Theta\"], thetas)]\n",
    "        cols = [\"B\", \"Temp\", \"Theta\", \"Phi\", \"Theta_deg\", \"Phi_deg\", \"V_obs\", \"sigma_V\"]\n",
    "        df_ = df_[cols]\n",
    "        # plot\n",
    "        if plot:\n",
    "            stride = int(len(df_) / max_points)\n",
    "            fig = spherical_scatter3d(df_[::stride].Phi_deg, df_[::stride].Theta_deg, df_[::stride].V_obs)\n",
    "        # least squares\n",
    "        df_, m_dict, m, m_cov = hall_cal_least_squares(df_)\n",
    "        \n",
    "        #if half:\n",
    "        df[f\"V_syn_Th_{tstr}{hs}\"] = V_forward(df.B, df.Temp, df.Theta, df.Phi, **m_dict)\n",
    "        df[f\"res_Th_{tstr}{hs}\"] = df.V_obs - df[f\"V_syn_Th_{tstr}{hs}\"]\n",
    "        df[f\"res_rel_Th_{tstr}{hs}\"] = df[f\"res_Th_{tstr}{hs}\"] / df.V_obs\n",
    "        #else:\n",
    "        #    df[f\"V_syn_Th_{tstr}\"] = V_forward(df.B, df.Temp, df.Theta, df.Phi, **m_dict)\n",
    "        #    df[f\"res_Th_{tstr}\"] = df.V_obs - df[f\"V_syn_Th_{tstr}\"]\n",
    "        #    df[f\"res_rel_Th_{tstr}\"] = df[f\"res_Th_{tstr}\"] / df.V_obs"
   ]
  },
  {
   "cell_type": "code",
   "execution_count": 58,
   "metadata": {},
   "outputs": [
    {
     "data": {
      "text/plain": [
       "Index(['B', 'Temp', 'Theta', 'Phi', 'Theta_deg', 'Phi_deg', 'V_obs', 'sigma_V',\n",
       "       'V_syn_Th_5', 'res_Th_5', 'res_rel_Th_5', 'V_syn_Th_15', 'res_Th_15',\n",
       "       'res_rel_Th_15', 'V_syn_Th_30', 'res_Th_30', 'res_rel_Th_30',\n",
       "       'V_syn_Th_60', 'res_Th_60', 'res_rel_Th_60', 'V_syn_Th_90', 'res_Th_90',\n",
       "       'res_rel_Th_90', 'V_syn_Th_5_half', 'res_Th_5_half',\n",
       "       'res_rel_Th_5_half', 'V_syn_Th_15_half', 'res_Th_15_half',\n",
       "       'res_rel_Th_15_half', 'V_syn_Th_30_half', 'res_Th_30_half',\n",
       "       'res_rel_Th_30_half', 'V_syn_Th_60_half', 'res_Th_60_half',\n",
       "       'res_rel_Th_60_half', 'V_syn_Th_90_half', 'res_Th_90_half',\n",
       "       'res_rel_Th_90_half'],\n",
       "      dtype='object')"
      ]
     },
     "execution_count": 58,
     "metadata": {},
     "output_type": "execute_result"
    }
   ],
   "source": [
    "df.columns"
   ]
  },
  {
   "cell_type": "code",
   "execution_count": 59,
   "metadata": {},
   "outputs": [
    {
     "data": {
      "image/png": "[encoded data removed]",
      "text/plain": [
       "<Figure size 720x576 with 1 Axes>"
      ]
     },
     "metadata": {
      "needs_background": "light"
     },
     "output_type": "display_data"
    }
   ],
   "source": [
    "#n, bins, patches = plt.hist(df[\"res_Th_5\"], bins=100, alpha=0.7, histtype='step', linewidth=2,\\\n",
    "#                           label=r\"$\\theta_{\\mathrm{max}}=$\"+f\"{5} deg\");\n",
    "n, bins, patches = plt.hist(df[\"res_Th_15\"], bins=75, alpha=0.7, histtype='step', linewidth=2,)#\\\n",
    "                           #label=r\"$\\theta_{\\mathrm{max}}=$\"+f\"{15} deg\");\n",
    "\n",
    "max_b = bins.max()\n",
    "min_b = bins.min()\n",
    "\n",
    "#for max_theta, tstr in zip(max_thetas, max_thetas_deg_string):\n",
    "for tstr in max_thetas_deg_string:\n",
    "    #plt.hist(df[f\"res_Th_{tstr}\"], bins=bins, alpha=0.7, histtype='step', linewidth=2,\\\n",
    "    plt.hist(np.clip(df[f\"res_Th_{tstr}\"], min_b, max_b), bins=bins, alpha=0.7, histtype='step', linewidth=2,\\\n",
    "             label=r\"$\\theta_{\\mathrm{max}}=$\"+f\"{tstr} deg\");\n",
    "\n",
    "plt.ticklabel_format(axis=\"x\", style=\"sci\", scilimits=(0,0));\n",
    "\n",
    "plt.xlabel(r'Residual ($V_{\\mathrm{obs}} - V_{\\mathrm{syn}}$)')\n",
    "plt.ylabel(\"Counts\")\n",
    "\n",
    "#plt.yscale('log')\n",
    "\n",
    "plt.legend();"
   ]
  },
  {
   "cell_type": "code",
   "execution_count": 60,
   "metadata": {},
   "outputs": [
    {
     "data": {
      "image/png": "[encoded data removed]",
      "text/plain": [
       "<Figure size 720x576 with 1 Axes>"
      ]
     },
     "metadata": {
      "needs_background": "light"
     },
     "output_type": "display_data"
    },
    {
     "data": {
      "image/png": "[encoded data removed]",
      "text/plain": [
       "<Figure size 720x576 with 1 Axes>"
      ]
     },
     "metadata": {
      "needs_background": "light"
     },
     "output_type": "display_data"
    },
    {
     "data": {
      "image/png": "[encoded data removed]",
      "text/plain": [
       "<Figure size 720x576 with 1 Axes>"
      ]
     },
     "metadata": {
      "needs_background": "light"
     },
     "output_type": "display_data"
    },
    {
     "data": {
      "image/png": "[encoded data removed]",
      "text/plain": [
       "<Figure size 720x576 with 1 Axes>"
      ]
     },
     "metadata": {
      "needs_background": "light"
     },
     "output_type": "display_data"
    },
    {
     "data": {
      "image/png": "[encoded data removed]",
      "text/plain": [
       "<Figure size 720x576 with 1 Axes>"
      ]
     },
     "metadata": {
      "needs_background": "light"
     },
     "output_type": "display_data"
    }
   ],
   "source": [
    "for tstr in max_thetas_deg_string:\n",
    "    fig = plt.figure()\n",
    "    tstr1 = '90' #tstr\n",
    "    n, bins, patches = plt.hist(df[f\"res_Th_{tstr1}\"], bins=100, alpha=0.7, histtype='step', linewidth=2,\\\n",
    "                               label=r\"$\\theta_{\\mathrm{max}}=$\"+f\"{tstr1} deg\");\n",
    "\n",
    "    max_b = bins.max()\n",
    "    min_b = bins.min()\n",
    "\n",
    "    #for max_theta, tstr in zip(max_thetas, max_thetas_deg_string):\n",
    "    #for tstr in max_thetas_deg_string:\n",
    "        #plt.hist(df[f\"res_Th_{tstr}\"], bins=bins, alpha=0.7, histtype='step', linewidth=2,\\\n",
    "    tstr2 = tstr #'15' # tstr\n",
    "    plt.hist(np.clip(df[f\"res_Th_{tstr2}\"], min_b, max_b), bins=bins, alpha=0.7, histtype='step', linewidth=2,\\\n",
    "             label=r\"$\\theta_{\\mathrm{max}}=$\"+f\"{tstr2} deg\");\n",
    "\n",
    "    plt.ticklabel_format(axis=\"x\", style=\"sci\", scilimits=(0,0));\n",
    "\n",
    "    plt.xlabel(r'Residual ($V_{\\mathrm{obs}} - V_{\\mathrm{syn}}$)')\n",
    "    plt.ylabel(\"Counts\")\n",
    "\n",
    "    #plt.yscale('log')\n",
    "\n",
    "    plt.legend();"
   ]
  },
  {
   "cell_type": "code",
   "execution_count": null,
   "metadata": {},
   "outputs": [],
   "source": []
  },
  {
   "cell_type": "code",
   "execution_count": 61,
   "metadata": {
    "scrolled": false
   },
   "outputs": [
    {
     "data": {
      "image/png": "[encoded data removed]",
      "text/plain": [
       "<Figure size 720x576 with 1 Axes>"
      ]
     },
     "metadata": {
      "needs_background": "light"
     },
     "output_type": "display_data"
    },
    {
     "data": {
      "image/png": "[encoded data removed]",
      "text/plain": [
       "<Figure size 720x576 with 1 Axes>"
      ]
     },
     "metadata": {
      "needs_background": "light"
     },
     "output_type": "display_data"
    },
    {
     "data": {
      "image/png": "[encoded data removed]",
      "text/plain": [
       "<Figure size 720x576 with 1 Axes>"
      ]
     },
     "metadata": {
      "needs_background": "light"
     },
     "output_type": "display_data"
    },
    {
     "data": {
      "image/png": "[encoded data removed]",
      "text/plain": [
       "<Figure size 720x576 with 1 Axes>"
      ]
     },
     "metadata": {
      "needs_background": "light"
     },
     "output_type": "display_data"
    },
    {
     "data": {
      "image/png": "[encoded data removed]",
      "text/plain": [
       "<Figure size 720x576 with 1 Axes>"
      ]
     },
     "metadata": {
      "needs_background": "light"
     },
     "output_type": "display_data"
    }
   ],
   "source": [
    "# compare theta half vs. no half\n",
    "for tstr in max_thetas_deg_string:\n",
    "    fig = plt.figure()\n",
    "    tstr1 = tstr#+\"_half\"\n",
    "    n, bins, patches = plt.hist(df[f\"res_Th_{tstr1}\"], bins=100, alpha=0.7, histtype='step', linewidth=2,\\\n",
    "                               label=r\"$\\theta_{\\mathrm{max}}=$\"+f\"{tstr1} deg\");\n",
    "\n",
    "    max_b = bins.max()\n",
    "    min_b = bins.min()\n",
    "\n",
    "    #for max_theta, tstr in zip(max_thetas, max_thetas_deg_string):\n",
    "    #for tstr in max_thetas_deg_string:\n",
    "        #plt.hist(df[f\"res_Th_{tstr}\"], bins=bins, alpha=0.7, histtype='step', linewidth=2,\\\n",
    "    tstr2 = tstr+\"_half\" #'15' # tstr\n",
    "    #print(tstr1, tstr2)\n",
    "    plt.hist(np.clip(df[f\"res_Th_{tstr2}\"], min_b, max_b), bins=bins, alpha=0.7, histtype='step', linewidth=2,\\\n",
    "             label=r\"$\\theta_{\\mathrm{max}}=$\"+f\"{tstr2} deg\");\n",
    "\n",
    "    plt.ticklabel_format(axis=\"x\", style=\"sci\", scilimits=(0,0));\n",
    "\n",
    "    plt.xlabel(r'Residual ($V_{\\mathrm{obs}} - V_{\\mathrm{syn}}$)')\n",
    "    plt.ylabel(\"Counts\")\n",
    "\n",
    "    #plt.yscale('log')\n",
    "\n",
    "    plt.legend();"
   ]
  },
  {
   "cell_type": "code",
   "execution_count": 63,
   "metadata": {
    "scrolled": false
   },
   "outputs": [
    {
     "data": {
      "image/png": "[encoded data removed]",
      "text/plain": [
       "<Figure size 720x576 with 1 Axes>"
      ]
     },
     "metadata": {
      "needs_background": "light"
     },
     "output_type": "display_data"
    },
    {
     "data": {
      "image/png": "[encoded data removed]",
      "text/plain": [
       "<Figure size 720x576 with 1 Axes>"
      ]
     },
     "metadata": {
      "needs_background": "light"
     },
     "output_type": "display_data"
    },
    {
     "data": {
      "image/png": "[encoded data removed]",
      "text/plain": [
       "<Figure size 720x576 with 1 Axes>"
      ]
     },
     "metadata": {
      "needs_background": "light"
     },
     "output_type": "display_data"
    },
    {
     "data": {
      "image/png": "[encoded data removed]",
      "text/plain": [
       "<Figure size 720x576 with 1 Axes>"
      ]
     },
     "metadata": {
      "needs_background": "light"
     },
     "output_type": "display_data"
    },
    {
     "data": {
      "image/png": "[encoded data removed]",
      "text/plain": [
       "<Figure size 720x576 with 1 Axes>"
      ]
     },
     "metadata": {
      "needs_background": "light"
     },
     "output_type": "display_data"
    }
   ],
   "source": [
    "# compare theta half vs. no half\n",
    "for tstr in max_thetas_deg_string:\n",
    "    fig = plt.figure()\n",
    "    tstr1 = tstr#+\"_half\"\n",
    "    n, bins, patches = plt.hist(df[f\"res_rel_Th_{tstr1}\"], bins=100, alpha=0.7, histtype='step', linewidth=2,\\\n",
    "                               label=r\"$\\theta_{\\mathrm{max}}=$\"+f\"{tstr1} deg\");\n",
    "\n",
    "    max_b = bins.max()\n",
    "    min_b = bins.min()\n",
    "\n",
    "    #for max_theta, tstr in zip(max_thetas, max_thetas_deg_string):\n",
    "    #for tstr in max_thetas_deg_string:\n",
    "        #plt.hist(df[f\"res_Th_{tstr}\"], bins=bins, alpha=0.7, histtype='step', linewidth=2,\\\n",
    "    tstr2 = tstr+\"_half\" #'15' # tstr\n",
    "    #print(tstr1, tstr2)\n",
    "    plt.hist(np.clip(df[f\"res_rel_Th_{tstr2}\"], min_b, max_b), bins=bins, alpha=0.7, histtype='step', linewidth=2,\\\n",
    "             label=r\"$\\theta_{\\mathrm{max}}=$\"+f\"{tstr2} deg\");\n",
    "\n",
    "    plt.ticklabel_format(axis=\"x\", style=\"sci\", scilimits=(0,0));\n",
    "\n",
    "    plt.xlabel(r'Relative Residual $(V_{\\mathrm{obs}} - V_{\\mathrm{syn}})/V_{\\mathrm{obs}}$')\n",
    "    plt.ylabel(\"Counts\")\n",
    "\n",
    "    plt.yscale('log')\n",
    "\n",
    "    plt.legend();"
   ]
  },
  {
   "cell_type": "code",
   "execution_count": null,
   "metadata": {},
   "outputs": [],
   "source": []
  },
  {
   "cell_type": "code",
   "execution_count": null,
   "metadata": {},
   "outputs": [],
   "source": []
  },
  {
   "cell_type": "code",
   "execution_count": null,
   "metadata": {},
   "outputs": [],
   "source": [
    "for tstr in max_thetas_deg_string:\n",
    "    tstr1 = tstr+\"_half\"\n",
    "    tstr2 = tstr#+\"_half\"\n",
    "    print(df[f\"res_Th_{tstr1}\"].describe())\n",
    "    print()\n",
    "    print(df[f\"res_Th_{tstr2}\"].describe())\n",
    "    print()"
   ]
  },
  {
   "cell_type": "code",
   "execution_count": null,
   "metadata": {},
   "outputs": [],
   "source": []
  },
  {
   "cell_type": "code",
   "execution_count": null,
   "metadata": {},
   "outputs": [],
   "source": []
  },
  {
   "cell_type": "code",
   "execution_count": null,
   "metadata": {},
   "outputs": [],
   "source": [
    "bins.min()"
   ]
  },
  {
   "cell_type": "code",
   "execution_count": null,
   "metadata": {},
   "outputs": [],
   "source": [
    "bins.max()"
   ]
  },
  {
   "cell_type": "code",
   "execution_count": null,
   "metadata": {},
   "outputs": [],
   "source": [
    "tstr=\"5\"\n",
    "np.clip(df[f\"res_Th_{tstr}\"], bins.min(), bins.max())"
   ]
  },
  {
   "cell_type": "code",
   "execution_count": null,
   "metadata": {},
   "outputs": [],
   "source": []
  }
 ],
 "metadata": {
  "kernelspec": {
   "display_name": "Python [conda env:mu2e]",
   "language": "python",
   "name": "conda-env-mu2e-py"
  },
  "language_info": {
   "codemirror_mode": {
    "name": "ipython",
    "version": 3
   },
   "file_extension": ".py",
   "mimetype": "text/x-python",
   "name": "python",
   "nbconvert_exporter": "python",
   "pygments_lexer": "ipython3",
   "version": "3.8.6"
  }
 },
 "nbformat": 4,
 "nbformat_minor": 4
}
