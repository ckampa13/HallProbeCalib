{
 "cells": [
  {
   "cell_type": "markdown",
   "metadata": {},
   "source": [
    "## Imports"
   ]
  },
  {
   "cell_type": "code",
   "execution_count": 1,
   "metadata": {},
   "outputs": [],
   "source": [
    "%load_ext autoreload\n",
    "%autoreload 2"
   ]
  },
  {
   "cell_type": "code",
   "execution_count": 3,
   "metadata": {},
   "outputs": [
    {
     "data": {
      "text/html": [
       "<script type=\"text/javascript\">window.PlotlyConfig = {MathJaxConfig: 'local'};</script><script type=\"text/javascript\">if (window.MathJax) {MathJax.Hub.Config({SVG: {font: \"STIX-Web\"}});}</script><script>requirejs.config({paths: { 'plotly': ['https://cdn.plot.ly/plotly-latest.min']},});if(!window._Plotly) {require(['plotly'],function(plotly) {window._Plotly=plotly;});}</script>"
      ],
      "text/vnd.plotly.v1+html": [
       "<script type=\"text/javascript\">window.PlotlyConfig = {MathJaxConfig: 'local'};</script><script type=\"text/javascript\">if (window.MathJax) {MathJax.Hub.Config({SVG: {font: \"STIX-Web\"}});}</script><script>requirejs.config({paths: { 'plotly': ['https://cdn.plot.ly/plotly-latest.min']},});if(!window._Plotly) {require(['plotly'],function(plotly) {window._Plotly=plotly;});}</script>"
      ]
     },
     "metadata": {},
     "output_type": "display_data"
    }
   ],
   "source": [
    "import numpy as np\n",
    "import pandas as pd\n",
    "import pickle as pkl\n",
    "from datetime import datetime\n",
    "from dateutil import parser\n",
    "\n",
    "import matplotlib.pyplot as plt\n",
    "from mpl_toolkits.mplot3d import Axes3D\n",
    "%matplotlib inline\n",
    "plt.rcParams['figure.figsize'] = (12.0, 8.0)\n",
    "plt.rcParams['axes.axisbelow'] = True\n",
    "\n",
    "from plotly.offline import init_notebook_mode, plot, iplot\n",
    "import plotly.graph_objs as go\n",
    "import plotly.io as pio\n",
    "init_notebook_mode(True)\n",
    "\n",
    "from hallprobecalib import hpc_ext_path\n",
    "from hallprobecalib.hpcplots import scatter2d,scatter3d,histo"
   ]
  },
  {
   "cell_type": "markdown",
   "metadata": {},
   "source": [
    "## Load Data From Temp Sensors"
   ]
  },
  {
   "cell_type": "code",
   "execution_count": 4,
   "metadata": {},
   "outputs": [],
   "source": [
    "plotdir = hpc_ext_path+'plots/temp_cross_check/2019-07-02/'"
   ]
  },
  {
   "cell_type": "code",
   "execution_count": 5,
   "metadata": {},
   "outputs": [],
   "source": [
    "directory = hpc_ext_path+'datafiles/magnet_stability/nmr/'\n",
    "filename = '2019-06-26 145723slow.txt'"
   ]
  },
  {
   "cell_type": "code",
   "execution_count": 31,
   "metadata": {},
   "outputs": [],
   "source": [
    "df = pd.read_csv(directory+filename)"
   ]
  },
  {
   "cell_type": "code",
   "execution_count": 32,
   "metadata": {},
   "outputs": [],
   "source": [
    "df.columns = df.columns.str.strip().str.replace(\" \",\"_\")"
   ]
  },
  {
   "cell_type": "code",
   "execution_count": 34,
   "metadata": {},
   "outputs": [],
   "source": [
    "df = df[df[\"NMR_[T]\"] != 0]"
   ]
  },
  {
   "cell_type": "code",
   "execution_count": 35,
   "metadata": {},
   "outputs": [],
   "source": [
    "dates = [parser.parse(row.Time) for row in df.itertuples()]# if isdatetime(row.Time.values[0])]\n",
    "df[\"Datetime\"] = pd.to_datetime(dates).astype(\"str\")\n",
    "df = df.set_index(\"Datetime\")"
   ]
  },
  {
   "cell_type": "code",
   "execution_count": 36,
   "metadata": {},
   "outputs": [
    {
     "data": {
      "text/html": [
       "<div>\n",
       "<style scoped>\n",
       "    .dataframe tbody tr th:only-of-type {\n",
       "        vertical-align: middle;\n",
       "    }\n",
       "\n",
       "    .dataframe tbody tr th {\n",
       "        vertical-align: top;\n",
       "    }\n",
       "\n",
       "    .dataframe thead th {\n",
       "        text-align: right;\n",
       "    }\n",
       "</style>\n",
       "<table border=\"1\" class=\"dataframe\">\n",
       "  <thead>\n",
       "    <tr style=\"text-align: right;\">\n",
       "      <th></th>\n",
       "      <th>Time</th>\n",
       "      <th>Magnet_Current_[V]</th>\n",
       "      <th>Magnet_Voltage_[V]</th>\n",
       "      <th>Coil_1_(new)</th>\n",
       "      <th>Coil_2_(old)</th>\n",
       "      <th>LCW_in_Coil1</th>\n",
       "      <th>LCW_out_Coil_1</th>\n",
       "      <th>LCW_in_Coil_2</th>\n",
       "      <th>LCW_out_Coil_2</th>\n",
       "      <th>Yoke</th>\n",
       "      <th>...</th>\n",
       "      <th>LCW_to_magnet</th>\n",
       "      <th>NMR_[T]</th>\n",
       "      <th>NMR_[FFT]</th>\n",
       "      <th>Zaber_Meas_MicroStep_X</th>\n",
       "      <th>Zaber_Meas_Encoder_X</th>\n",
       "      <th>Zaber_Meas_MicroStep_Y</th>\n",
       "      <th>Zaber_Meas_Encoder_Y</th>\n",
       "      <th>Zaber_Meas_MicroStep_Z</th>\n",
       "      <th>Zaber_Meas_Encoder_Z</th>\n",
       "      <th></th>\n",
       "    </tr>\n",
       "    <tr>\n",
       "      <th>Datetime</th>\n",
       "      <th></th>\n",
       "      <th></th>\n",
       "      <th></th>\n",
       "      <th></th>\n",
       "      <th></th>\n",
       "      <th></th>\n",
       "      <th></th>\n",
       "      <th></th>\n",
       "      <th></th>\n",
       "      <th></th>\n",
       "      <th></th>\n",
       "      <th></th>\n",
       "      <th></th>\n",
       "      <th></th>\n",
       "      <th></th>\n",
       "      <th></th>\n",
       "      <th></th>\n",
       "      <th></th>\n",
       "      <th></th>\n",
       "      <th></th>\n",
       "      <th></th>\n",
       "    </tr>\n",
       "  </thead>\n",
       "  <tbody>\n",
       "    <tr>\n",
       "      <th>2019-06-26 15:00:06</th>\n",
       "      <td>6/26/2019 3:00:06 PM</td>\n",
       "      <td>8.002305</td>\n",
       "      <td>31.615983</td>\n",
       "      <td>22.041468</td>\n",
       "      <td>22.047934</td>\n",
       "      <td>21.945110</td>\n",
       "      <td>21.784292</td>\n",
       "      <td>21.049597</td>\n",
       "      <td>21.597803</td>\n",
       "      <td>18.285326</td>\n",
       "      <td>...</td>\n",
       "      <td>22.738647</td>\n",
       "      <td>1.287840</td>\n",
       "      <td>0.0</td>\n",
       "      <td>210351.5625</td>\n",
       "      <td>538500.0</td>\n",
       "      <td>178906.25</td>\n",
       "      <td>458000.0</td>\n",
       "      <td>642578.125</td>\n",
       "      <td>1645000.0</td>\n",
       "      <td>NaN</td>\n",
       "    </tr>\n",
       "    <tr>\n",
       "      <th>2019-06-26 15:00:58</th>\n",
       "      <td>6/26/2019 3:00:58 PM</td>\n",
       "      <td>8.002302</td>\n",
       "      <td>31.914550</td>\n",
       "      <td>24.031439</td>\n",
       "      <td>23.957378</td>\n",
       "      <td>22.953541</td>\n",
       "      <td>22.887306</td>\n",
       "      <td>21.926348</td>\n",
       "      <td>22.837366</td>\n",
       "      <td>18.282087</td>\n",
       "      <td>...</td>\n",
       "      <td>23.425533</td>\n",
       "      <td>1.287847</td>\n",
       "      <td>0.0</td>\n",
       "      <td>210351.5625</td>\n",
       "      <td>538500.0</td>\n",
       "      <td>178906.25</td>\n",
       "      <td>458000.0</td>\n",
       "      <td>642578.125</td>\n",
       "      <td>1645000.0</td>\n",
       "      <td>NaN</td>\n",
       "    </tr>\n",
       "    <tr>\n",
       "      <th>2019-06-26 15:01:58</th>\n",
       "      <td>6/26/2019 3:01:58 PM</td>\n",
       "      <td>8.002302</td>\n",
       "      <td>32.230983</td>\n",
       "      <td>26.320379</td>\n",
       "      <td>26.059217</td>\n",
       "      <td>23.160232</td>\n",
       "      <td>23.463196</td>\n",
       "      <td>22.373749</td>\n",
       "      <td>23.804209</td>\n",
       "      <td>18.286640</td>\n",
       "      <td>...</td>\n",
       "      <td>23.507189</td>\n",
       "      <td>1.287852</td>\n",
       "      <td>0.0</td>\n",
       "      <td>210351.5625</td>\n",
       "      <td>538500.0</td>\n",
       "      <td>178906.25</td>\n",
       "      <td>458000.0</td>\n",
       "      <td>642578.125</td>\n",
       "      <td>1645000.0</td>\n",
       "      <td>NaN</td>\n",
       "    </tr>\n",
       "    <tr>\n",
       "      <th>2019-06-26 15:02:58</th>\n",
       "      <td>6/26/2019 3:02:58 PM</td>\n",
       "      <td>8.002300</td>\n",
       "      <td>32.518083</td>\n",
       "      <td>28.448761</td>\n",
       "      <td>28.072731</td>\n",
       "      <td>23.223169</td>\n",
       "      <td>23.803284</td>\n",
       "      <td>22.808573</td>\n",
       "      <td>24.539762</td>\n",
       "      <td>18.296003</td>\n",
       "      <td>...</td>\n",
       "      <td>23.518631</td>\n",
       "      <td>1.287859</td>\n",
       "      <td>0.0</td>\n",
       "      <td>210351.5625</td>\n",
       "      <td>538500.0</td>\n",
       "      <td>178906.25</td>\n",
       "      <td>458000.0</td>\n",
       "      <td>642578.125</td>\n",
       "      <td>1645000.0</td>\n",
       "      <td>NaN</td>\n",
       "    </tr>\n",
       "    <tr>\n",
       "      <th>2019-06-26 15:03:59</th>\n",
       "      <td>6/26/2019 3:03:59 PM</td>\n",
       "      <td>8.002300</td>\n",
       "      <td>32.779867</td>\n",
       "      <td>30.429256</td>\n",
       "      <td>29.907967</td>\n",
       "      <td>23.226059</td>\n",
       "      <td>24.071350</td>\n",
       "      <td>23.205204</td>\n",
       "      <td>25.178616</td>\n",
       "      <td>18.299869</td>\n",
       "      <td>...</td>\n",
       "      <td>23.494000</td>\n",
       "      <td>1.287863</td>\n",
       "      <td>0.0</td>\n",
       "      <td>210351.5625</td>\n",
       "      <td>538500.0</td>\n",
       "      <td>178906.25</td>\n",
       "      <td>458000.0</td>\n",
       "      <td>642578.125</td>\n",
       "      <td>1645000.0</td>\n",
       "      <td>NaN</td>\n",
       "    </tr>\n",
       "  </tbody>\n",
       "</table>\n",
       "<p>5 rows × 52 columns</p>\n",
       "</div>"
      ],
      "text/plain": [
       "                                     Time  Magnet_Current_[V]  \\\n",
       "Datetime                                                        \n",
       "2019-06-26 15:00:06  6/26/2019 3:00:06 PM            8.002305   \n",
       "2019-06-26 15:00:58  6/26/2019 3:00:58 PM            8.002302   \n",
       "2019-06-26 15:01:58  6/26/2019 3:01:58 PM            8.002302   \n",
       "2019-06-26 15:02:58  6/26/2019 3:02:58 PM            8.002300   \n",
       "2019-06-26 15:03:59  6/26/2019 3:03:59 PM            8.002300   \n",
       "\n",
       "                     Magnet_Voltage_[V]  Coil_1_(new)  Coil_2_(old)  \\\n",
       "Datetime                                                              \n",
       "2019-06-26 15:00:06           31.615983     22.041468     22.047934   \n",
       "2019-06-26 15:00:58           31.914550     24.031439     23.957378   \n",
       "2019-06-26 15:01:58           32.230983     26.320379     26.059217   \n",
       "2019-06-26 15:02:58           32.518083     28.448761     28.072731   \n",
       "2019-06-26 15:03:59           32.779867     30.429256     29.907967   \n",
       "\n",
       "                     LCW_in_Coil1  LCW_out_Coil_1  LCW_in_Coil_2  \\\n",
       "Datetime                                                           \n",
       "2019-06-26 15:00:06     21.945110       21.784292      21.049597   \n",
       "2019-06-26 15:00:58     22.953541       22.887306      21.926348   \n",
       "2019-06-26 15:01:58     23.160232       23.463196      22.373749   \n",
       "2019-06-26 15:02:58     23.223169       23.803284      22.808573   \n",
       "2019-06-26 15:03:59     23.226059       24.071350      23.205204   \n",
       "\n",
       "                     LCW_out_Coil_2       Yoke ...  LCW_to_magnet   NMR_[T]  \\\n",
       "Datetime                                       ...                            \n",
       "2019-06-26 15:00:06       21.597803  18.285326 ...      22.738647  1.287840   \n",
       "2019-06-26 15:00:58       22.837366  18.282087 ...      23.425533  1.287847   \n",
       "2019-06-26 15:01:58       23.804209  18.286640 ...      23.507189  1.287852   \n",
       "2019-06-26 15:02:58       24.539762  18.296003 ...      23.518631  1.287859   \n",
       "2019-06-26 15:03:59       25.178616  18.299869 ...      23.494000  1.287863   \n",
       "\n",
       "                     NMR_[FFT]  Zaber_Meas_MicroStep_X  Zaber_Meas_Encoder_X  \\\n",
       "Datetime                                                                       \n",
       "2019-06-26 15:00:06        0.0             210351.5625              538500.0   \n",
       "2019-06-26 15:00:58        0.0             210351.5625              538500.0   \n",
       "2019-06-26 15:01:58        0.0             210351.5625              538500.0   \n",
       "2019-06-26 15:02:58        0.0             210351.5625              538500.0   \n",
       "2019-06-26 15:03:59        0.0             210351.5625              538500.0   \n",
       "\n",
       "                     Zaber_Meas_MicroStep_Y  Zaber_Meas_Encoder_Y  \\\n",
       "Datetime                                                            \n",
       "2019-06-26 15:00:06               178906.25              458000.0   \n",
       "2019-06-26 15:00:58               178906.25              458000.0   \n",
       "2019-06-26 15:01:58               178906.25              458000.0   \n",
       "2019-06-26 15:02:58               178906.25              458000.0   \n",
       "2019-06-26 15:03:59               178906.25              458000.0   \n",
       "\n",
       "                     Zaber_Meas_MicroStep_Z  Zaber_Meas_Encoder_Z      \n",
       "Datetime                                                               \n",
       "2019-06-26 15:00:06              642578.125             1645000.0 NaN  \n",
       "2019-06-26 15:00:58              642578.125             1645000.0 NaN  \n",
       "2019-06-26 15:01:58              642578.125             1645000.0 NaN  \n",
       "2019-06-26 15:02:58              642578.125             1645000.0 NaN  \n",
       "2019-06-26 15:03:59              642578.125             1645000.0 NaN  \n",
       "\n",
       "[5 rows x 52 columns]"
      ]
     },
     "execution_count": 36,
     "metadata": {},
     "output_type": "execute_result"
    }
   ],
   "source": [
    "df.head()"
   ]
  },
  {
   "cell_type": "code",
   "execution_count": 180,
   "metadata": {},
   "outputs": [],
   "source": [
    "#df_temp = df.loc['2019-07-02 11:00:00':'2019-07-02 11:30:00']\n",
    "df_temp = df.loc['2019-07-02 11:11:00':'2019-07-02 11:24:00']"
   ]
  },
  {
   "cell_type": "code",
   "execution_count": 181,
   "metadata": {},
   "outputs": [
    {
     "data": {
      "text/plain": [
       "Datetime\n",
       "2019-07-02 11:11:07    1.286470\n",
       "2019-07-02 11:12:07    1.286486\n",
       "2019-07-02 11:13:07    1.286480\n",
       "2019-07-02 11:14:07    1.286465\n",
       "2019-07-02 11:15:07    1.286465\n",
       "2019-07-02 11:16:07    1.286464\n",
       "2019-07-02 11:17:08    1.286464\n",
       "2019-07-02 11:18:07    1.286464\n",
       "2019-07-02 11:19:07    1.286464\n",
       "2019-07-02 11:20:07    1.286510\n",
       "2019-07-02 11:21:07    1.286545\n",
       "2019-07-02 11:22:07    1.286542\n",
       "2019-07-02 11:23:07    1.286504\n",
       "Name: NMR_[T], dtype: float64"
      ]
     },
     "execution_count": 181,
     "metadata": {},
     "output_type": "execute_result"
    }
   ],
   "source": [
    "df_temp[\"NMR_[T]\"]"
   ]
  },
  {
   "cell_type": "markdown",
   "metadata": {},
   "source": [
    "## Input Hand Measured Data"
   ]
  },
  {
   "cell_type": "code",
   "execution_count": 117,
   "metadata": {},
   "outputs": [],
   "source": [
    "meas_dict = {\n",
    " 'Coil_1_(new)':48.8,\n",
    " 'Coil_2_(old)':40.7,\n",
    " 'Yoke':26.2,\n",
    " 'Hall_Element':26.0,\n",
    " 'Roof':21.13,\n",
    " 'Parameter_HVAC_sensor':19.1,\n",
    " 'CH13':21.3,\n",
    " 'CH14':23.3,\n",
    " 'CH15':23.3,\n",
    " 'CH17':23.2,\n",
    " 'CH18':21.3,\n",
    " 'CH19':21.4,\n",
    " 'CH20':21.0}"
   ]
  },
  {
   "cell_type": "code",
   "execution_count": 122,
   "metadata": {},
   "outputs": [],
   "source": [
    "dt = parser.parse(\"2019-07-02 11:15:00\")"
   ]
  },
  {
   "cell_type": "code",
   "execution_count": 124,
   "metadata": {},
   "outputs": [],
   "source": [
    "df_meas = pd.DataFrame(meas_dict,index=[dt])"
   ]
  },
  {
   "cell_type": "code",
   "execution_count": 125,
   "metadata": {},
   "outputs": [
    {
     "data": {
      "text/html": [
       "<div>\n",
       "<style scoped>\n",
       "    .dataframe tbody tr th:only-of-type {\n",
       "        vertical-align: middle;\n",
       "    }\n",
       "\n",
       "    .dataframe tbody tr th {\n",
       "        vertical-align: top;\n",
       "    }\n",
       "\n",
       "    .dataframe thead th {\n",
       "        text-align: right;\n",
       "    }\n",
       "</style>\n",
       "<table border=\"1\" class=\"dataframe\">\n",
       "  <thead>\n",
       "    <tr style=\"text-align: right;\">\n",
       "      <th></th>\n",
       "      <th>Coil_1_(new)</th>\n",
       "      <th>Coil_2_(old)</th>\n",
       "      <th>Yoke</th>\n",
       "      <th>Hall_Element</th>\n",
       "      <th>Roof</th>\n",
       "      <th>Parameter_HVAC_sensor</th>\n",
       "      <th>CH13</th>\n",
       "      <th>CH14</th>\n",
       "      <th>CH15</th>\n",
       "      <th>CH17</th>\n",
       "      <th>CH18</th>\n",
       "      <th>CH19</th>\n",
       "      <th>CH20</th>\n",
       "    </tr>\n",
       "  </thead>\n",
       "  <tbody>\n",
       "    <tr>\n",
       "      <th>2019-07-02 11:15:00</th>\n",
       "      <td>48.8</td>\n",
       "      <td>40.7</td>\n",
       "      <td>26.2</td>\n",
       "      <td>26.0</td>\n",
       "      <td>21.13</td>\n",
       "      <td>19.1</td>\n",
       "      <td>21.3</td>\n",
       "      <td>23.3</td>\n",
       "      <td>23.3</td>\n",
       "      <td>23.2</td>\n",
       "      <td>21.3</td>\n",
       "      <td>21.4</td>\n",
       "      <td>21.0</td>\n",
       "    </tr>\n",
       "  </tbody>\n",
       "</table>\n",
       "</div>"
      ],
      "text/plain": [
       "                     Coil_1_(new)  Coil_2_(old)  Yoke  Hall_Element   Roof  \\\n",
       "2019-07-02 11:15:00          48.8          40.7  26.2          26.0  21.13   \n",
       "\n",
       "                     Parameter_HVAC_sensor  CH13  CH14  CH15  CH17  CH18  \\\n",
       "2019-07-02 11:15:00                   19.1  21.3  23.3  23.3  23.2  21.3   \n",
       "\n",
       "                     CH19  CH20  \n",
       "2019-07-02 11:15:00  21.4  21.0  "
      ]
     },
     "execution_count": 125,
     "metadata": {},
     "output_type": "execute_result"
    }
   ],
   "source": [
    "df_meas"
   ]
  },
  {
   "cell_type": "code",
   "execution_count": 134,
   "metadata": {},
   "outputs": [],
   "source": [
    "dt2 = [\"2019-07-02 11:17:00\"]\n",
    "df_meas[\"Datetime\"] = pd.to_datetime(dt2).astype(\"str\")\n",
    "df_meas = df_meas.set_index(\"Datetime\")"
   ]
  },
  {
   "cell_type": "code",
   "execution_count": 135,
   "metadata": {},
   "outputs": [
    {
     "data": {
      "text/html": [
       "<div>\n",
       "<style scoped>\n",
       "    .dataframe tbody tr th:only-of-type {\n",
       "        vertical-align: middle;\n",
       "    }\n",
       "\n",
       "    .dataframe tbody tr th {\n",
       "        vertical-align: top;\n",
       "    }\n",
       "\n",
       "    .dataframe thead th {\n",
       "        text-align: right;\n",
       "    }\n",
       "</style>\n",
       "<table border=\"1\" class=\"dataframe\">\n",
       "  <thead>\n",
       "    <tr style=\"text-align: right;\">\n",
       "      <th></th>\n",
       "      <th>Coil_1_(new)</th>\n",
       "      <th>Coil_2_(old)</th>\n",
       "      <th>Yoke</th>\n",
       "      <th>Hall_Element</th>\n",
       "      <th>Roof</th>\n",
       "      <th>Parameter_HVAC_sensor</th>\n",
       "      <th>CH13</th>\n",
       "      <th>CH14</th>\n",
       "      <th>CH15</th>\n",
       "      <th>CH17</th>\n",
       "      <th>CH18</th>\n",
       "      <th>CH19</th>\n",
       "      <th>CH20</th>\n",
       "    </tr>\n",
       "    <tr>\n",
       "      <th>Datetime</th>\n",
       "      <th></th>\n",
       "      <th></th>\n",
       "      <th></th>\n",
       "      <th></th>\n",
       "      <th></th>\n",
       "      <th></th>\n",
       "      <th></th>\n",
       "      <th></th>\n",
       "      <th></th>\n",
       "      <th></th>\n",
       "      <th></th>\n",
       "      <th></th>\n",
       "      <th></th>\n",
       "    </tr>\n",
       "  </thead>\n",
       "  <tbody>\n",
       "    <tr>\n",
       "      <th>2019-07-02 11:17:00</th>\n",
       "      <td>48.8</td>\n",
       "      <td>40.7</td>\n",
       "      <td>26.2</td>\n",
       "      <td>26.0</td>\n",
       "      <td>21.13</td>\n",
       "      <td>19.1</td>\n",
       "      <td>21.3</td>\n",
       "      <td>23.3</td>\n",
       "      <td>23.3</td>\n",
       "      <td>23.2</td>\n",
       "      <td>21.3</td>\n",
       "      <td>21.4</td>\n",
       "      <td>21.0</td>\n",
       "    </tr>\n",
       "  </tbody>\n",
       "</table>\n",
       "</div>"
      ],
      "text/plain": [
       "                     Coil_1_(new)  Coil_2_(old)  Yoke  Hall_Element   Roof  \\\n",
       "Datetime                                                                     \n",
       "2019-07-02 11:17:00          48.8          40.7  26.2          26.0  21.13   \n",
       "\n",
       "                     Parameter_HVAC_sensor  CH13  CH14  CH15  CH17  CH18  \\\n",
       "Datetime                                                                   \n",
       "2019-07-02 11:17:00                   19.1  21.3  23.3  23.3  23.2  21.3   \n",
       "\n",
       "                     CH19  CH20  \n",
       "Datetime                         \n",
       "2019-07-02 11:17:00  21.4  21.0  "
      ]
     },
     "execution_count": 135,
     "metadata": {},
     "output_type": "execute_result"
    }
   ],
   "source": [
    "df_meas"
   ]
  },
  {
   "cell_type": "markdown",
   "metadata": {},
   "source": [
    "## Plots"
   ]
  },
  {
   "cell_type": "code",
   "execution_count": 174,
   "metadata": {},
   "outputs": [
    {
     "ename": "TypeError",
     "evalue": "'getset_descriptor' object is not callable",
     "output_type": "error",
     "traceback": [
      "\u001b[0;31m---------------------------------------------------------------------------\u001b[0m",
      "\u001b[0;31mTypeError\u001b[0m                                 Traceback (most recent call last)",
      "\u001b[0;32m<ipython-input-174-0fc1b25f4e2b>\u001b[0m in \u001b[0;36m<module>\u001b[0;34m\u001b[0m\n\u001b[1;32m      8\u001b[0m             \u001b[0;31m#value = 5,\u001b[0m\u001b[0;34m\u001b[0m\u001b[0;34m\u001b[0m\u001b[0;34m\u001b[0m\u001b[0m\n\u001b[1;32m      9\u001b[0m             \u001b[0mtype\u001b[0m\u001b[0;34m=\u001b[0m\u001b[0;34m'data'\u001b[0m\u001b[0;34m,\u001b[0m\u001b[0;34m\u001b[0m\u001b[0;34m\u001b[0m\u001b[0m\n\u001b[0;32m---> 10\u001b[0;31m             \u001b[0marray\u001b[0m\u001b[0;34m=\u001b[0m\u001b[0;34m[\u001b[0m\u001b[0mdatetime\u001b[0m\u001b[0;34m.\u001b[0m\u001b[0mminute\u001b[0m\u001b[0;34m(\u001b[0m\u001b[0;36m6\u001b[0m\u001b[0;34m)\u001b[0m\u001b[0;34m]\u001b[0m\u001b[0;34m,\u001b[0m\u001b[0;34m\u001b[0m\u001b[0;34m\u001b[0m\u001b[0m\n\u001b[0m\u001b[1;32m     11\u001b[0m             \u001b[0;31m#visible = True\u001b[0m\u001b[0;34m\u001b[0m\u001b[0;34m\u001b[0m\u001b[0;34m\u001b[0m\u001b[0m\n\u001b[1;32m     12\u001b[0m         )\n",
      "\u001b[0;31mTypeError\u001b[0m: 'getset_descriptor' object is not callable"
     ]
    }
   ],
   "source": [
    "data = [\n",
    "    go.Scatter(\n",
    "        x=df_meas.index,\n",
    "        y=df_meas[col],\n",
    "        #mode='markers',\n",
    "        error_x = dict(\n",
    "            #type = 'percent',\n",
    "            #value = 5,\n",
    "            type='data',\n",
    "            array=[datetime.minute(6)],\n",
    "            #visible = True\n",
    "        )\n",
    "    )\n",
    "]"
   ]
  },
  {
   "cell_type": "code",
   "execution_count": 173,
   "metadata": {},
   "outputs": [
    {
     "data": {
      "application/vnd.plotly.v1+json": {
       "data": [
        {
         "error_y": {
          "type": "percent",
          "value": 5
         },
         "type": "scatter",
         "uid": "c146a446-ec1d-4f40-a0eb-e2077fc526c6",
         "x": [
          "2019-07-02 11:17:00"
         ],
         "y": [
          21.3
         ]
        }
       ],
       "layout": {}
      },
      "text/html": [
       "<div id=\"23b0375b-69ad-4b83-95b3-e6ae643f6ea5\" style=\"height: 525px; width: 100%;\" class=\"plotly-graph-div\"></div><script type=\"text/javascript\">require([\"plotly\"], function(Plotly) { window.PLOTLYENV=window.PLOTLYENV || {};window.PLOTLYENV.BASE_URL=\"https://plot.ly\";Plotly.newPlot(\"23b0375b-69ad-4b83-95b3-e6ae643f6ea5\", [{\"error_y\": {\"type\": \"percent\", \"value\": 5}, \"x\": [\"2019-07-02 11:17:00\"], \"y\": [21.3], \"type\": \"scatter\", \"uid\": \"4a89ae23-82c3-49cd-8a69-45ac108d8729\"}], {}, {\"showLink\": true, \"linkText\": \"Export to plot.ly\"})});</script><script type=\"text/javascript\">window.addEventListener(\"resize\", function(){window._Plotly.Plots.resize(document.getElementById(\"23b0375b-69ad-4b83-95b3-e6ae643f6ea5\"));});</script>"
      ],
      "text/vnd.plotly.v1+html": [
       "<div id=\"23b0375b-69ad-4b83-95b3-e6ae643f6ea5\" style=\"height: 525px; width: 100%;\" class=\"plotly-graph-div\"></div><script type=\"text/javascript\">require([\"plotly\"], function(Plotly) { window.PLOTLYENV=window.PLOTLYENV || {};window.PLOTLYENV.BASE_URL=\"https://plot.ly\";Plotly.newPlot(\"23b0375b-69ad-4b83-95b3-e6ae643f6ea5\", [{\"error_y\": {\"type\": \"percent\", \"value\": 5}, \"x\": [\"2019-07-02 11:17:00\"], \"y\": [21.3], \"type\": \"scatter\", \"uid\": \"4a89ae23-82c3-49cd-8a69-45ac108d8729\"}], {}, {\"showLink\": true, \"linkText\": \"Export to plot.ly\"})});</script><script type=\"text/javascript\">window.addEventListener(\"resize\", function(){window._Plotly.Plots.resize(document.getElementById(\"23b0375b-69ad-4b83-95b3-e6ae643f6ea5\"));});</script>"
      ]
     },
     "metadata": {},
     "output_type": "display_data"
    }
   ],
   "source": [
    "iplot(data)"
   ]
  },
  {
   "cell_type": "code",
   "execution_count": 182,
   "metadata": {},
   "outputs": [
    {
     "data": {
      "application/vnd.plotly.v1+json": {
       "data": [
        {
         "marker": {
          "size": 6
         },
         "mode": "markers",
         "name": "CH13",
         "type": "scatter",
         "uid": "a42b4bb1-f6da-43a9-bc6e-207b54d2203a",
         "x": [
          "2019-07-02 11:11:07",
          "2019-07-02 11:12:07",
          "2019-07-02 11:13:07",
          "2019-07-02 11:14:07",
          "2019-07-02 11:15:07",
          "2019-07-02 11:16:07",
          "2019-07-02 11:17:08",
          "2019-07-02 11:18:07",
          "2019-07-02 11:19:07",
          "2019-07-02 11:20:07",
          "2019-07-02 11:21:07",
          "2019-07-02 11:22:07",
          "2019-07-02 11:23:07"
         ],
         "y": [
          19.7616425,
          19.8923988,
          20.0174065,
          20.191946,
          20.4275742,
          20.6616859,
          20.790062,
          20.8737946,
          21.0323696,
          20.9098377,
          20.745533,
          20.7503853,
          20.9297943
         ]
        },
        {
         "marker": {
          "size": 6
         },
         "mode": "markers",
         "name": "CH13",
         "type": "scatter",
         "uid": "a447e47e-cedd-4852-8355-892e50c7f5af",
         "x": [
          "2019-07-02 11:17:00"
         ],
         "y": [
          21.3
         ]
        }
       ],
       "layout": {
        "showlegend": true,
        "title": "CH13 vs. Datetime",
        "xaxis": {
         "title": "Datetime"
        },
        "yaxis": {
         "title": "CH13"
        }
       }
      },
      "text/html": [
       "<div id=\"302ef99b-fdcb-4dd4-944d-93f0f8fdb2fe\" style=\"height: 525px; width: 100%;\" class=\"plotly-graph-div\"></div><script type=\"text/javascript\">require([\"plotly\"], function(Plotly) { window.PLOTLYENV=window.PLOTLYENV || {};window.PLOTLYENV.BASE_URL=\"https://plot.ly\";Plotly.newPlot(\"302ef99b-fdcb-4dd4-944d-93f0f8fdb2fe\", [{\"marker\": {\"size\": 6}, \"mode\": \"markers\", \"name\": \"CH13\", \"x\": [\"2019-07-02 11:11:07\", \"2019-07-02 11:12:07\", \"2019-07-02 11:13:07\", \"2019-07-02 11:14:07\", \"2019-07-02 11:15:07\", \"2019-07-02 11:16:07\", \"2019-07-02 11:17:08\", \"2019-07-02 11:18:07\", \"2019-07-02 11:19:07\", \"2019-07-02 11:20:07\", \"2019-07-02 11:21:07\", \"2019-07-02 11:22:07\", \"2019-07-02 11:23:07\"], \"y\": [19.7616425, 19.8923988, 20.0174065, 20.191946, 20.4275742, 20.6616859, 20.790062, 20.8737946, 21.0323696, 20.9098377, 20.745533, 20.7503853, 20.9297943], \"type\": \"scatter\", \"uid\": \"a42b4bb1-f6da-43a9-bc6e-207b54d2203a\"}, {\"marker\": {\"size\": 6}, \"mode\": \"markers\", \"name\": \"CH13\", \"x\": [\"2019-07-02 11:17:00\"], \"y\": [21.3], \"type\": \"scatter\", \"uid\": \"a447e47e-cedd-4852-8355-892e50c7f5af\"}], {\"showlegend\": true, \"title\": \"CH13 vs. Datetime\", \"xaxis\": {\"title\": \"Datetime\"}, \"yaxis\": {\"title\": \"CH13\"}}, {\"showLink\": true, \"linkText\": \"Export to plot.ly\"})});</script><script type=\"text/javascript\">window.addEventListener(\"resize\", function(){window._Plotly.Plots.resize(document.getElementById(\"302ef99b-fdcb-4dd4-944d-93f0f8fdb2fe\"));});</script>"
      ],
      "text/vnd.plotly.v1+html": [
       "<div id=\"302ef99b-fdcb-4dd4-944d-93f0f8fdb2fe\" style=\"height: 525px; width: 100%;\" class=\"plotly-graph-div\"></div><script type=\"text/javascript\">require([\"plotly\"], function(Plotly) { window.PLOTLYENV=window.PLOTLYENV || {};window.PLOTLYENV.BASE_URL=\"https://plot.ly\";Plotly.newPlot(\"302ef99b-fdcb-4dd4-944d-93f0f8fdb2fe\", [{\"marker\": {\"size\": 6}, \"mode\": \"markers\", \"name\": \"CH13\", \"x\": [\"2019-07-02 11:11:07\", \"2019-07-02 11:12:07\", \"2019-07-02 11:13:07\", \"2019-07-02 11:14:07\", \"2019-07-02 11:15:07\", \"2019-07-02 11:16:07\", \"2019-07-02 11:17:08\", \"2019-07-02 11:18:07\", \"2019-07-02 11:19:07\", \"2019-07-02 11:20:07\", \"2019-07-02 11:21:07\", \"2019-07-02 11:22:07\", \"2019-07-02 11:23:07\"], \"y\": [19.7616425, 19.8923988, 20.0174065, 20.191946, 20.4275742, 20.6616859, 20.790062, 20.8737946, 21.0323696, 20.9098377, 20.745533, 20.7503853, 20.9297943], \"type\": \"scatter\", \"uid\": \"a42b4bb1-f6da-43a9-bc6e-207b54d2203a\"}, {\"marker\": {\"size\": 6}, \"mode\": \"markers\", \"name\": \"CH13\", \"x\": [\"2019-07-02 11:17:00\"], \"y\": [21.3], \"type\": \"scatter\", \"uid\": \"a447e47e-cedd-4852-8355-892e50c7f5af\"}], {\"showlegend\": true, \"title\": \"CH13 vs. Datetime\", \"xaxis\": {\"title\": \"Datetime\"}, \"yaxis\": {\"title\": \"CH13\"}}, {\"showLink\": true, \"linkText\": \"Export to plot.ly\"})});</script><script type=\"text/javascript\">window.addEventListener(\"resize\", function(){window._Plotly.Plots.resize(document.getElementById(\"302ef99b-fdcb-4dd4-944d-93f0f8fdb2fe\"));});</script>"
      ]
     },
     "metadata": {},
     "output_type": "display_data"
    }
   ],
   "source": [
    "col = \"CH13\"\n",
    "fig = scatter2d([df_temp.index,df_meas.index],[df_temp[col],df_meas[col]],markers=True,lines=False,size_list=[6,6],show_plot=False,inline=True)\n",
    "'''\n",
    "fig = scatter2d([df_temp.index],[df_temp[col]],markers= True,lines=False,size_list=[6],show_plot=False,inline=True)\n",
    "fig.add_scatter(\n",
    "    x=[df_meas.index],\n",
    "    y=[df_meas[col]],\n",
    "    #mode='markers',\n",
    "    error_x = dict(\n",
    "        type='data',\n",
    "        value=6,\n",
    "        #visible = True\n",
    "    )\n",
    ")\n",
    "'''\n",
    "iplot(fig)"
   ]
  },
  {
   "cell_type": "code",
   "execution_count": 183,
   "metadata": {},
   "outputs": [],
   "source": [
    "for col in df_meas.columns:\n",
    "    fig = scatter2d([df_temp.index,df_meas.index],[df_temp[col],df_meas[col]],markers=True,lines=False,size_list=[6,6],show_plot=False,inline=True)\n",
    "    pio.write_image(fig,plotdir+f\"time_series/{col}_vs_time.pdf\")\n",
    "    pio.write_image(fig,plotdir+f\"time_series/{col}_vs_time.png\")"
   ]
  },
  {
   "cell_type": "code",
   "execution_count": 192,
   "metadata": {},
   "outputs": [
    {
     "data": {
      "application/vnd.plotly.v1+json": {
       "data": [
        {
         "name": "<br>Measured Temp<br>mean: 2.5902308E+01<br>std:     8.756E+00<br>range: 2.970E+01<br>count: 13",
         "nbinsx": 5,
         "opacity": 0.9,
         "type": "histogram",
         "uid": "36f0fb89-86ef-4125-8827-23199160ca14",
         "x": [
          48.8,
          40.7,
          26.2,
          26,
          21.13,
          19.1,
          21.3,
          23.3,
          23.3,
          23.2,
          21.3,
          21.4,
          21
         ]
        }
       ],
       "layout": {
        "barmode": "overlay",
        "showlegend": true,
        "title": "Histo: Measured Temp",
        "xaxis": {
         "title": "B (T)"
        },
        "yaxis": {
         "autorange": true,
         "title": "Counts",
         "type": "linear"
        }
       }
      },
      "text/html": [
       "<div id=\"f3e6204f-b483-4559-b67d-087f06bbb5e8\" style=\"height: 525px; width: 100%;\" class=\"plotly-graph-div\"></div><script type=\"text/javascript\">require([\"plotly\"], function(Plotly) { window.PLOTLYENV=window.PLOTLYENV || {};window.PLOTLYENV.BASE_URL=\"https://plot.ly\";Plotly.newPlot(\"f3e6204f-b483-4559-b67d-087f06bbb5e8\", [{\"name\": \"<br>Measured Temp<br>mean: 2.5902308E+01<br>std:     8.756E+00<br>range: 2.970E+01<br>count: 13\", \"nbinsx\": 5, \"opacity\": 0.9, \"x\": [48.8, 40.7, 26.2, 26.0, 21.13, 19.1, 21.3, 23.3, 23.3, 23.2, 21.3, 21.4, 21.0], \"type\": \"histogram\", \"uid\": \"36f0fb89-86ef-4125-8827-23199160ca14\"}], {\"barmode\": \"overlay\", \"showlegend\": true, \"title\": \"Histo: Measured Temp\", \"xaxis\": {\"title\": \"B (T)\"}, \"yaxis\": {\"autorange\": true, \"title\": \"Counts\", \"type\": \"linear\"}}, {\"showLink\": true, \"linkText\": \"Export to plot.ly\"})});</script><script type=\"text/javascript\">window.addEventListener(\"resize\", function(){window._Plotly.Plots.resize(document.getElementById(\"f3e6204f-b483-4559-b67d-087f06bbb5e8\"));});</script>"
      ],
      "text/vnd.plotly.v1+html": [
       "<div id=\"f3e6204f-b483-4559-b67d-087f06bbb5e8\" style=\"height: 525px; width: 100%;\" class=\"plotly-graph-div\"></div><script type=\"text/javascript\">require([\"plotly\"], function(Plotly) { window.PLOTLYENV=window.PLOTLYENV || {};window.PLOTLYENV.BASE_URL=\"https://plot.ly\";Plotly.newPlot(\"f3e6204f-b483-4559-b67d-087f06bbb5e8\", [{\"name\": \"<br>Measured Temp<br>mean: 2.5902308E+01<br>std:     8.756E+00<br>range: 2.970E+01<br>count: 13\", \"nbinsx\": 5, \"opacity\": 0.9, \"x\": [48.8, 40.7, 26.2, 26.0, 21.13, 19.1, 21.3, 23.3, 23.3, 23.2, 21.3, 21.4, 21.0], \"type\": \"histogram\", \"uid\": \"36f0fb89-86ef-4125-8827-23199160ca14\"}], {\"barmode\": \"overlay\", \"showlegend\": true, \"title\": \"Histo: Measured Temp\", \"xaxis\": {\"title\": \"B (T)\"}, \"yaxis\": {\"autorange\": true, \"title\": \"Counts\", \"type\": \"linear\"}}, {\"showLink\": true, \"linkText\": \"Export to plot.ly\"})});</script><script type=\"text/javascript\">window.addEventListener(\"resize\", function(){window._Plotly.Plots.resize(document.getElementById(\"f3e6204f-b483-4559-b67d-087f06bbb5e8\"));});</script>"
      ]
     },
     "metadata": {},
     "output_type": "display_data"
    }
   ],
   "source": [
    "meas = list(meas_dict.values())\n",
    "meas = pd.Series(meas,name=\"Measured Temp\")\n",
    "histo(meas,bins=5,inline=True);"
   ]
  },
  {
   "cell_type": "code",
   "execution_count": 198,
   "metadata": {},
   "outputs": [
    {
     "data": {
      "text/plain": [
       "Index(['Coil_1_(new)', 'Coil_2_(old)', 'Yoke', 'Hall_Element', 'Roof',\n",
       "       'Parameter_HVAC_sensor', 'CH13', 'CH14', 'CH15', 'CH17', 'CH18', 'CH19',\n",
       "       'CH20'],\n",
       "      dtype='object')"
      ]
     },
     "execution_count": 198,
     "metadata": {},
     "output_type": "execute_result"
    }
   ],
   "source": [
    "df_meas.columns"
   ]
  },
  {
   "cell_type": "code",
   "execution_count": 205,
   "metadata": {},
   "outputs": [],
   "source": [
    "error = dict()\n",
    "for col in list(df_meas.columns):\n",
    "    error[col] = df_meas[col].values[0] - df_temp[col].mean()"
   ]
  },
  {
   "cell_type": "code",
   "execution_count": 206,
   "metadata": {},
   "outputs": [
    {
     "data": {
      "text/plain": [
       "{'Coil_1_(new)': -8.54930245384616,\n",
       " 'Coil_2_(old)': -13.606960469230778,\n",
       " 'Yoke': -2.5120259999999988,\n",
       " 'Hall_Element': 1.6040416076923094,\n",
       " 'Roof': 2.540484153846151,\n",
       " 'Parameter_HVAC_sensor': 0.12156975384615265,\n",
       " 'CH13': 0.7627361230769232,\n",
       " 'CH14': 1.6855697923076889,\n",
       " 'CH15': 1.6527968538461586,\n",
       " 'CH17': 3.9035736615384593,\n",
       " 'CH18': 1.6903638538461543,\n",
       " 'CH19': 2.226615846153841,\n",
       " 'CH20': 2.2719367153846157}"
      ]
     },
     "execution_count": 206,
     "metadata": {},
     "output_type": "execute_result"
    }
   ],
   "source": [
    "error"
   ]
  },
  {
   "cell_type": "code",
   "execution_count": 212,
   "metadata": {},
   "outputs": [],
   "source": [
    "error_series = pd.Series(list(error.values()),name=\"error\")"
   ]
  },
  {
   "cell_type": "code",
   "execution_count": 214,
   "metadata": {},
   "outputs": [
    {
     "data": {
      "application/vnd.plotly.v1+json": {
       "data": [
        {
         "name": "<br>error<br>mean: -4.7758466E-01<br>std:     5.041E+00<br>range: 1.751E+01<br>count: 13",
         "nbinsx": 10,
         "opacity": 0.9,
         "type": "histogram",
         "uid": "a3d33fcb-ff1a-46ac-a3f9-fcf37c3e276c",
         "x": [
          -8.54930245384616,
          -13.606960469230778,
          -2.5120259999999988,
          1.6040416076923094,
          2.540484153846151,
          0.12156975384615265,
          0.7627361230769232,
          1.6855697923076889,
          1.6527968538461586,
          3.9035736615384593,
          1.6903638538461543,
          2.226615846153841,
          2.2719367153846157
         ]
        }
       ],
       "layout": {
        "barmode": "overlay",
        "showlegend": true,
        "title": "Histo: error",
        "xaxis": {
         "title": "B (T)"
        },
        "yaxis": {
         "autorange": true,
         "title": "Counts",
         "type": "linear"
        }
       }
      },
      "text/html": [
       "<div id=\"573f21cd-5716-439d-8e09-f0c8919c4a4b\" style=\"height: 525px; width: 100%;\" class=\"plotly-graph-div\"></div><script type=\"text/javascript\">require([\"plotly\"], function(Plotly) { window.PLOTLYENV=window.PLOTLYENV || {};window.PLOTLYENV.BASE_URL=\"https://plot.ly\";Plotly.newPlot(\"573f21cd-5716-439d-8e09-f0c8919c4a4b\", [{\"name\": \"<br>error<br>mean: -4.7758466E-01<br>std:     5.041E+00<br>range: 1.751E+01<br>count: 13\", \"nbinsx\": 10, \"opacity\": 0.9, \"x\": [-8.54930245384616, -13.606960469230778, -2.5120259999999988, 1.6040416076923094, 2.540484153846151, 0.12156975384615265, 0.7627361230769232, 1.6855697923076889, 1.6527968538461586, 3.9035736615384593, 1.6903638538461543, 2.226615846153841, 2.2719367153846157], \"type\": \"histogram\", \"uid\": \"a3d33fcb-ff1a-46ac-a3f9-fcf37c3e276c\"}], {\"barmode\": \"overlay\", \"showlegend\": true, \"title\": \"Histo: error\", \"xaxis\": {\"title\": \"B (T)\"}, \"yaxis\": {\"autorange\": true, \"title\": \"Counts\", \"type\": \"linear\"}}, {\"showLink\": true, \"linkText\": \"Export to plot.ly\"})});</script><script type=\"text/javascript\">window.addEventListener(\"resize\", function(){window._Plotly.Plots.resize(document.getElementById(\"573f21cd-5716-439d-8e09-f0c8919c4a4b\"));});</script>"
      ],
      "text/vnd.plotly.v1+html": [
       "<div id=\"573f21cd-5716-439d-8e09-f0c8919c4a4b\" style=\"height: 525px; width: 100%;\" class=\"plotly-graph-div\"></div><script type=\"text/javascript\">require([\"plotly\"], function(Plotly) { window.PLOTLYENV=window.PLOTLYENV || {};window.PLOTLYENV.BASE_URL=\"https://plot.ly\";Plotly.newPlot(\"573f21cd-5716-439d-8e09-f0c8919c4a4b\", [{\"name\": \"<br>error<br>mean: -4.7758466E-01<br>std:     5.041E+00<br>range: 1.751E+01<br>count: 13\", \"nbinsx\": 10, \"opacity\": 0.9, \"x\": [-8.54930245384616, -13.606960469230778, -2.5120259999999988, 1.6040416076923094, 2.540484153846151, 0.12156975384615265, 0.7627361230769232, 1.6855697923076889, 1.6527968538461586, 3.9035736615384593, 1.6903638538461543, 2.226615846153841, 2.2719367153846157], \"type\": \"histogram\", \"uid\": \"a3d33fcb-ff1a-46ac-a3f9-fcf37c3e276c\"}], {\"barmode\": \"overlay\", \"showlegend\": true, \"title\": \"Histo: error\", \"xaxis\": {\"title\": \"B (T)\"}, \"yaxis\": {\"autorange\": true, \"title\": \"Counts\", \"type\": \"linear\"}}, {\"showLink\": true, \"linkText\": \"Export to plot.ly\"})});</script><script type=\"text/javascript\">window.addEventListener(\"resize\", function(){window._Plotly.Plots.resize(document.getElementById(\"573f21cd-5716-439d-8e09-f0c8919c4a4b\"));});</script>"
      ]
     },
     "metadata": {},
     "output_type": "display_data"
    }
   ],
   "source": [
    "histo(error_series,inline=True);"
   ]
  },
  {
   "cell_type": "code",
   "execution_count": null,
   "metadata": {},
   "outputs": [],
   "source": []
  }
 ],
 "metadata": {
  "kernelspec": {
   "display_name": "Python [conda env:Mu2E]",
   "language": "python",
   "name": "conda-env-Mu2E-py"
  },
  "language_info": {
   "codemirror_mode": {
    "name": "ipython",
    "version": 3
   },
   "file_extension": ".py",
   "mimetype": "text/x-python",
   "name": "python",
   "nbconvert_exporter": "python",
   "pygments_lexer": "ipython3",
   "version": "3.7.3"
  }
 },
 "nbformat": 4,
 "nbformat_minor": 2
}
