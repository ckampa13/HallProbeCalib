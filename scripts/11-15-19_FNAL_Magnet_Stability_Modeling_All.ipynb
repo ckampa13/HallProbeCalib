{
 "cells": [
  {
   "cell_type": "markdown",
   "metadata": {},
   "source": [
    "## Imports"
   ]
  },
  {
   "cell_type": "code",
   "execution_count": 2,
   "metadata": {},
   "outputs": [
    {
     "name": "stdout",
     "output_type": "stream",
     "text": [
      "The autoreload extension is already loaded. To reload it, use:\n",
      "  %reload_ext autoreload\n"
     ]
    }
   ],
   "source": [
    "%load_ext autoreload\n",
    "%autoreload 2"
   ]
  },
  {
   "cell_type": "code",
   "execution_count": 4,
   "metadata": {},
   "outputs": [
    {
     "data": {
      "text/html": [
       "        <script type=\"text/javascript\">\n",
       "        window.PlotlyConfig = {MathJaxConfig: 'local'};\n",
       "        if (window.MathJax) {MathJax.Hub.Config({SVG: {font: \"STIX-Web\"}});}\n",
       "        if (typeof require !== 'undefined') {\n",
       "        require.undef(\"plotly\");\n",
       "        requirejs.config({\n",
       "            paths: {\n",
       "                'plotly': ['https://cdn.plot.ly/plotly-latest.min']\n",
       "            }\n",
       "        });\n",
       "        require(['plotly'], function(Plotly) {\n",
       "            window._Plotly = Plotly;\n",
       "        });\n",
       "        }\n",
       "        </script>\n",
       "        "
      ]
     },
     "metadata": {},
     "output_type": "display_data"
    }
   ],
   "source": [
    "import os\n",
    "import re\n",
    "import csv\n",
    "import numpy as np\n",
    "import pandas as pd\n",
    "import pickle as pkl\n",
    "from datetime import datetime\n",
    "from dateutil import parser\n",
    "\n",
    "import operator\n",
    "from scipy import stats\n",
    "\n",
    "import matplotlib.pyplot as plt\n",
    "from mpl_toolkits.mplot3d import Axes3D\n",
    "%matplotlib inline\n",
    "plt.rcParams['figure.figsize'] = (12.0, 8.0)\n",
    "plt.rcParams['axes.axisbelow'] = True\n",
    "\n",
    "from plotly.offline import init_notebook_mode, plot, iplot\n",
    "import plotly.graph_objs as go\n",
    "import plotly.io as pio\n",
    "from plotly.subplots import make_subplots\n",
    "init_notebook_mode(True)\n",
    "\n",
    "from hallprobecalib import hpc_ext_path\n",
    "from hallprobecalib.hpcplots import scatter2d,scatter3d,histo,py_profile"
   ]
  },
  {
   "cell_type": "code",
   "execution_count": 5,
   "metadata": {},
   "outputs": [],
   "source": [
    "plotdir = hpc_ext_path+'plots/magnet_modeling/linear/'"
   ]
  },
  {
   "cell_type": "code",
   "execution_count": 6,
   "metadata": {},
   "outputs": [],
   "source": [
    "datadir = \"/home/ckampa/Dropbox/LogFiles/\"\n",
    "pkldir = hpc_ext_path+\"datafiles/magnet_stability/pkl/\""
   ]
  },
  {
   "cell_type": "code",
   "execution_count": 7,
   "metadata": {},
   "outputs": [],
   "source": [
    "df = pd.read_pickle(pkldir+\"magnet_stability_all.pkl\")"
   ]
  },
  {
   "cell_type": "markdown",
   "metadata": {
    "heading_collapsed": true
   },
   "source": [
    "## Data processing / cleaning"
   ]
  },
  {
   "cell_type": "code",
   "execution_count": null,
   "metadata": {
    "hidden": true
   },
   "outputs": [],
   "source": [
    "regex = re.compile(\"^2019.*[6-9].\\d{2} .*slow\\.txt$\")\n",
    "regex2 = re.compile(\"^2019-1.*.\\d{2} .*slow\\.txt$\")\n",
    "#regex = re.compile(\"^2019.*\\b1?[0-9]\\b.\\d{2} .*slow\\.txt$\")"
   ]
  },
  {
   "cell_type": "code",
   "execution_count": null,
   "metadata": {
    "hidden": true
   },
   "outputs": [],
   "source": [
    "files_list = sorted([f for f in os.listdir(datadir) if regex.match(f) or regex2.match(f)])"
   ]
  },
  {
   "cell_type": "code",
   "execution_count": null,
   "metadata": {
    "hidden": true
   },
   "outputs": [],
   "source": [
    "# bad but fine for now\n",
    "files_list.remove('2019-06-12 115902slow.txt')\n",
    "files_list = np.array(files_list)"
   ]
  },
  {
   "cell_type": "code",
   "execution_count": null,
   "metadata": {
    "hidden": true
   },
   "outputs": [],
   "source": [
    "files_list"
   ]
  },
  {
   "cell_type": "code",
   "execution_count": null,
   "metadata": {
    "hidden": true
   },
   "outputs": [],
   "source": [
    "len(files_list)"
   ]
  },
  {
   "cell_type": "code",
   "execution_count": null,
   "metadata": {
    "hidden": true
   },
   "outputs": [],
   "source": [
    "first = parser.parse('2019-06-12 11:59:02')\n",
    "last = parser.parse('2019-11-18 12:18:31')\n",
    "#last = datetime.now()"
   ]
  },
  {
   "cell_type": "code",
   "execution_count": null,
   "metadata": {
    "hidden": true
   },
   "outputs": [],
   "source": [
    "first, last"
   ]
  },
  {
   "cell_type": "code",
   "execution_count": null,
   "metadata": {
    "hidden": true
   },
   "outputs": [],
   "source": [
    "runtime = last - first\n",
    "runtime"
   ]
  },
  {
   "cell_type": "code",
   "execution_count": null,
   "metadata": {
    "hidden": true
   },
   "outputs": [],
   "source": [
    "runtime.total_seconds()"
   ]
  },
  {
   "cell_type": "code",
   "execution_count": null,
   "metadata": {
    "hidden": true
   },
   "outputs": [],
   "source": [
    "sizes_mb = np.array([os.stat(datadir+file).st_size / 1e6 for file in files_list])"
   ]
  },
  {
   "cell_type": "code",
   "execution_count": null,
   "metadata": {
    "hidden": true
   },
   "outputs": [],
   "source": [
    "sizes_mb"
   ]
  },
  {
   "cell_type": "code",
   "execution_count": null,
   "metadata": {
    "hidden": true
   },
   "outputs": [],
   "source": [
    "sizes_mb.sum()"
   ]
  },
  {
   "cell_type": "code",
   "execution_count": null,
   "metadata": {
    "hidden": true
   },
   "outputs": [],
   "source": [
    "# find length of each file\n",
    "def file_len(fname):\n",
    "    with open(fname) as f:\n",
    "        for i, l in enumerate(f):\n",
    "            pass\n",
    "    return i + 1"
   ]
  },
  {
   "cell_type": "code",
   "execution_count": null,
   "metadata": {
    "hidden": true
   },
   "outputs": [],
   "source": [
    "nlines = np.array([file_len(datadir+file) for file in files_list])"
   ]
  },
  {
   "cell_type": "code",
   "execution_count": null,
   "metadata": {
    "hidden": true
   },
   "outputs": [],
   "source": [
    "nlines"
   ]
  },
  {
   "cell_type": "code",
   "execution_count": null,
   "metadata": {
    "hidden": true
   },
   "outputs": [],
   "source": [
    "short_files = files_list[nlines < 10]"
   ]
  },
  {
   "cell_type": "code",
   "execution_count": null,
   "metadata": {
    "hidden": true
   },
   "outputs": [],
   "source": [
    "short_files"
   ]
  },
  {
   "cell_type": "code",
   "execution_count": null,
   "metadata": {
    "hidden": true
   },
   "outputs": [],
   "source": [
    "files_good = files_list[nlines > 10]\n",
    "sizes_good = sizes_mb[nlines > 10]\n",
    "nlines_good = nlines[nlines > 10]"
   ]
  },
  {
   "cell_type": "code",
   "execution_count": null,
   "metadata": {
    "hidden": true
   },
   "outputs": [],
   "source": [
    "files_good"
   ]
  },
  {
   "cell_type": "code",
   "execution_count": null,
   "metadata": {
    "hidden": true
   },
   "outputs": [],
   "source": [
    "# number of data points\n",
    "nlines_good.sum(), nlines_good.sum() - len(nlines_good)"
   ]
  },
  {
   "cell_type": "code",
   "execution_count": null,
   "metadata": {
    "hidden": true
   },
   "outputs": [],
   "source": [
    "npoints = nlines_good.sum() - len(nlines_good) # 1 header line"
   ]
  },
  {
   "cell_type": "code",
   "execution_count": null,
   "metadata": {
    "hidden": true
   },
   "outputs": [],
   "source": [
    "npoints"
   ]
  },
  {
   "cell_type": "code",
   "execution_count": null,
   "metadata": {
    "hidden": true
   },
   "outputs": [],
   "source": [
    "# active runtime in days\n",
    "npoints * 90 / 60**2 / 24 "
   ]
  },
  {
   "cell_type": "code",
   "execution_count": null,
   "metadata": {
    "hidden": true
   },
   "outputs": [],
   "source": [
    "# uptime\n",
    "npoints * 90 / runtime.total_seconds()"
   ]
  },
  {
   "cell_type": "markdown",
   "metadata": {
    "hidden": true
   },
   "source": [
    "**Uptime: 73% utilization!**\n",
    "- Hopefully nearly 100% during calibration"
   ]
  },
  {
   "cell_type": "code",
   "execution_count": null,
   "metadata": {
    "hidden": true
   },
   "outputs": [],
   "source": [
    "# get headers\n",
    "def get_header(fname, N):\n",
    "    with open(fname) as myfile:\n",
    "        head = [[s.strip(\" \") for s in str.split(next(myfile), ',')] for x in range(N)]\n",
    "        #for h in head:\n",
    "        #    h.remove('\\n')\n",
    "        #head = [np.array(h) for h in head]\n",
    "        #head = [next(myfile).str for x in range(N)]\n",
    "    if N == 1:\n",
    "        return head[0]\n",
    "    else:\n",
    "        return head"
   ]
  },
  {
   "cell_type": "code",
   "execution_count": null,
   "metadata": {
    "hidden": true
   },
   "outputs": [],
   "source": [
    "headers = [get_header(datadir+file, 1) for file in files_good]"
   ]
  },
  {
   "cell_type": "code",
   "execution_count": null,
   "metadata": {
    "hidden": true
   },
   "outputs": [],
   "source": [
    "ncols = [len(header) for header in headers]"
   ]
  },
  {
   "cell_type": "code",
   "execution_count": null,
   "metadata": {
    "hidden": true,
    "scrolled": true
   },
   "outputs": [],
   "source": [
    "#ncols"
   ]
  },
  {
   "cell_type": "code",
   "execution_count": null,
   "metadata": {
    "hidden": true
   },
   "outputs": [],
   "source": [
    "for i,header in enumerate(headers):\n",
    "    for j,item in enumerate(header):\n",
    "        if item in [\"CH13\",\"CH14\",\"CH15\",\"CH16\",\"CH17\",\"CH18\",\"CH19\",\"CH20\"]:\n",
    "            headers[i][j] = \"Chamber Wall \"+item"
   ]
  },
  {
   "cell_type": "code",
   "execution_count": null,
   "metadata": {
    "hidden": true
   },
   "outputs": [],
   "source": [
    "headers_flat = [item for sublist in headers for item in sublist]"
   ]
  },
  {
   "cell_type": "code",
   "execution_count": null,
   "metadata": {
    "code_folding": [],
    "hidden": true
   },
   "outputs": [],
   "source": [
    "for i,f in enumerate(headers):\n",
    "    if \"Magnet Current [V]\" in f:\n",
    "        print(files_good[i])"
   ]
  },
  {
   "cell_type": "code",
   "execution_count": null,
   "metadata": {
    "hidden": true
   },
   "outputs": [],
   "source": [
    "for i,f in enumerate(headers):\n",
    "    if \"Yoke (center magnet)\" not in f:\n",
    "        print(files_good[i])"
   ]
  },
  {
   "cell_type": "code",
   "execution_count": null,
   "metadata": {
    "hidden": true
   },
   "outputs": [],
   "source": [
    "unique_cols = sorted(list(set(headers_flat)))"
   ]
  },
  {
   "cell_type": "code",
   "execution_count": null,
   "metadata": {
    "hidden": true,
    "scrolled": true
   },
   "outputs": [],
   "source": [
    "unique_cols"
   ]
  },
  {
   "cell_type": "code",
   "execution_count": null,
   "metadata": {
    "hidden": true,
    "scrolled": true
   },
   "outputs": [],
   "source": [
    "for col in unique_cols:\n",
    "    if (\"Raw\" in col) or (\"Cal\" in col):\n",
    "        print(col)"
   ]
  },
  {
   "cell_type": "code",
   "execution_count": null,
   "metadata": {
    "hidden": true
   },
   "outputs": [],
   "source": []
  },
  {
   "cell_type": "code",
   "execution_count": null,
   "metadata": {
    "hidden": true
   },
   "outputs": [],
   "source": [
    "df = pd.read_csv(datadir+files_good[-4], names=headers[-4], skiprows=1)"
   ]
  },
  {
   "cell_type": "code",
   "execution_count": null,
   "metadata": {
    "hidden": true
   },
   "outputs": [],
   "source": [
    "df.head()"
   ]
  },
  {
   "cell_type": "code",
   "execution_count": null,
   "metadata": {
    "hidden": true
   },
   "outputs": [],
   "source": [
    "df.drop('\\n',axis=1, inplace=True)"
   ]
  },
  {
   "cell_type": "code",
   "execution_count": null,
   "metadata": {
    "hidden": true
   },
   "outputs": [],
   "source": [
    "cols_norm = df.columns"
   ]
  },
  {
   "cell_type": "code",
   "execution_count": null,
   "metadata": {
    "hidden": true
   },
   "outputs": [],
   "source": []
  },
  {
   "cell_type": "code",
   "execution_count": null,
   "metadata": {
    "hidden": true
   },
   "outputs": [],
   "source": [
    "i = 1\n",
    "df = pd.read_csv(datadir+files_good[i], names=headers[i], skiprows=1)"
   ]
  },
  {
   "cell_type": "code",
   "execution_count": null,
   "metadata": {
    "hidden": true
   },
   "outputs": [],
   "source": [
    "df"
   ]
  },
  {
   "cell_type": "code",
   "execution_count": null,
   "metadata": {
    "hidden": true
   },
   "outputs": [],
   "source": [
    "df.drop('\\n',axis=1, inplace=True)"
   ]
  },
  {
   "cell_type": "code",
   "execution_count": null,
   "metadata": {
    "hidden": true
   },
   "outputs": [],
   "source": [
    "cols_short = df.columns"
   ]
  },
  {
   "cell_type": "code",
   "execution_count": null,
   "metadata": {
    "hidden": true
   },
   "outputs": [],
   "source": []
  },
  {
   "cell_type": "code",
   "execution_count": null,
   "metadata": {
    "hidden": true
   },
   "outputs": [],
   "source": [
    "sorted(cols_short)"
   ]
  },
  {
   "cell_type": "code",
   "execution_count": null,
   "metadata": {
    "hidden": true
   },
   "outputs": [],
   "source": [
    "cols_norm = list(cols_norm)\n",
    "sorted(cols_norm)"
   ]
  },
  {
   "cell_type": "code",
   "execution_count": null,
   "metadata": {
    "hidden": true
   },
   "outputs": [],
   "source": [
    "list(set(cols_norm) - set(cols_short))"
   ]
  },
  {
   "cell_type": "code",
   "execution_count": null,
   "metadata": {
    "hidden": true
   },
   "outputs": [],
   "source": []
  },
  {
   "cell_type": "code",
   "execution_count": null,
   "metadata": {
    "hidden": true
   },
   "outputs": [],
   "source": [
    "cols_norm.append(\"run\")"
   ]
  },
  {
   "cell_type": "code",
   "execution_count": null,
   "metadata": {
    "hidden": true
   },
   "outputs": [],
   "source": [
    "cols_short = list(cols_short)"
   ]
  },
  {
   "cell_type": "markdown",
   "metadata": {
    "hidden": true
   },
   "source": [
    "One file, with a fair amount of data, is missing Zaber info. So leave out for now."
   ]
  },
  {
   "cell_type": "markdown",
   "metadata": {
    "hidden": true
   },
   "source": [
    "### Load all files into a list of pd.DataFrames"
   ]
  },
  {
   "cell_type": "code",
   "execution_count": null,
   "metadata": {
    "hidden": true
   },
   "outputs": [],
   "source": [
    "# trial and error...\n",
    "#removes = ['Yoke (center magnet)', 'Desk Ambient', 'Outlet Strip Ambient', \n",
    "#           'Top fo Orange PS Ambient', 'Spare Ambient on desk',\n",
    "#           'TrippLite Ambient 3ft high', 'TrippLite Ambient Floor']\n",
    "#[cols_short.remove(r) for r in removes];"
   ]
  },
  {
   "cell_type": "code",
   "execution_count": null,
   "metadata": {
    "hidden": true
   },
   "outputs": [],
   "source": [
    "#cols_short"
   ]
  },
  {
   "cell_type": "code",
   "execution_count": null,
   "metadata": {
    "hidden": true
   },
   "outputs": [],
   "source": [
    "df = []\n",
    "for i,file in enumerate(files_good):\n",
    "    if (\"Yoke (center magnet)\" in headers[i]) and ('Zaber_Meas_MicroStep_X' in headers[i]):\n",
    "        print(f\"Processing #{i}: {file}\")\n",
    "        df_ = pd.read_csv(datadir+file, names=headers[i], skiprows=1)\n",
    "        df_[\"run\"] = i\n",
    "        #df_.drop('\\n',axis=1, inplace=True)\n",
    "        # convert magnet current...important!\n",
    "        if \"Magnet Current [V]\" in df_.columns:\n",
    "            df_[\"Magnet Current [A]\"] = df_[\"Magnet Current [V]\"] / 10 * 340 # measured voltage / 10 V * 340 A\n",
    "        df.append(df_[cols_norm])#cols_short])\n",
    "        #df.append(df_[sorted(df_.columns)])"
   ]
  },
  {
   "cell_type": "code",
   "execution_count": null,
   "metadata": {
    "hidden": true
   },
   "outputs": [],
   "source": [
    "# concatenate!\n",
    "df = pd.concat(df, ignore_index=True,)# sort=False, axis=0)#, axis=0, join='outer', ignore_index=False, keys=None,\n",
    "              #levels=None, names=None, verify_integrity=False, copy=True)"
   ]
  },
  {
   "cell_type": "code",
   "execution_count": null,
   "metadata": {
    "hidden": true
   },
   "outputs": [],
   "source": [
    "df.head()"
   ]
  },
  {
   "cell_type": "code",
   "execution_count": null,
   "metadata": {
    "hidden": true
   },
   "outputs": [],
   "source": [
    "df.columns"
   ]
  },
  {
   "cell_type": "code",
   "execution_count": null,
   "metadata": {
    "hidden": true
   },
   "outputs": [],
   "source": [
    "dates = [parser.parse(row.Time) for row in df.itertuples()]"
   ]
  },
  {
   "cell_type": "code",
   "execution_count": null,
   "metadata": {
    "hidden": true
   },
   "outputs": [],
   "source": [
    "df[\"Datetime\"] = pd.to_datetime(dates)#.astype(\"str\")\n",
    "df = df.set_index(\"Datetime\")"
   ]
  },
  {
   "cell_type": "code",
   "execution_count": null,
   "metadata": {
    "hidden": true
   },
   "outputs": [],
   "source": [
    "df[\"seconds_delta\"] = (df.index - df.index[0]).total_seconds()\n",
    "df[\"hours_delta\"] = (df.index - df.index[0]).total_seconds()/60**2\n",
    "df[\"days_delta\"] = (df.index - df.index[0]).total_seconds()/(24*60**2)"
   ]
  },
  {
   "cell_type": "code",
   "execution_count": null,
   "metadata": {
    "hidden": true
   },
   "outputs": [],
   "source": []
  },
  {
   "cell_type": "code",
   "execution_count": null,
   "metadata": {
    "hidden": true
   },
   "outputs": [],
   "source": [
    "df.head()"
   ]
  },
  {
   "cell_type": "code",
   "execution_count": null,
   "metadata": {
    "hidden": true
   },
   "outputs": [],
   "source": [
    "df.to_pickle(pkldir+\"magnet_stability_all.pkl\")\n",
    "#df.to_pickle(pkldir+\"magnet_stability_all_raw.pkl\")"
   ]
  },
  {
   "cell_type": "code",
   "execution_count": null,
   "metadata": {
    "hidden": true
   },
   "outputs": [],
   "source": []
  },
  {
   "cell_type": "code",
   "execution_count": null,
   "metadata": {
    "hidden": true
   },
   "outputs": [],
   "source": [
    "df = pd.read_pickle(pkldir+\"magnet_stability_all.pkl\")\n",
    "#df = pd.read_pickle(pkldir+\"magnet_stability_all_raw.pkl\")"
   ]
  },
  {
   "cell_type": "code",
   "execution_count": null,
   "metadata": {
    "hidden": true
   },
   "outputs": [],
   "source": [
    "df.head()"
   ]
  },
  {
   "cell_type": "code",
   "execution_count": null,
   "metadata": {
    "hidden": true
   },
   "outputs": [],
   "source": [
    "df.tail()"
   ]
  },
  {
   "cell_type": "code",
   "execution_count": null,
   "metadata": {
    "hidden": true
   },
   "outputs": [],
   "source": []
  },
  {
   "cell_type": "code",
   "execution_count": null,
   "metadata": {
    "hidden": true
   },
   "outputs": [],
   "source": [
    "len(df)"
   ]
  },
  {
   "cell_type": "code",
   "execution_count": null,
   "metadata": {
    "hidden": true
   },
   "outputs": [],
   "source": [
    "# active runtime in days (GOOD)\n",
    "len(df) * 90 / 60**2 / 24 "
   ]
  },
  {
   "cell_type": "code",
   "execution_count": null,
   "metadata": {
    "hidden": true
   },
   "outputs": [],
   "source": [
    "# uptime (GOOD)\n",
    "len(df) * 90 / runtime.total_seconds()"
   ]
  },
  {
   "cell_type": "markdown",
   "metadata": {
    "hidden": true
   },
   "source": [
    "**Uptime: 46% utilization (GOOD DATA)!**\n",
    "- Hopefully nearly 100% during calibration"
   ]
  },
  {
   "cell_type": "code",
   "execution_count": null,
   "metadata": {
    "hidden": true
   },
   "outputs": [],
   "source": [
    "len(files_good)"
   ]
  },
  {
   "cell_type": "code",
   "execution_count": null,
   "metadata": {
    "hidden": true
   },
   "outputs": [],
   "source": [
    "df.info()"
   ]
  },
  {
   "cell_type": "markdown",
   "metadata": {},
   "source": [
    "## Analysis"
   ]
  },
  {
   "cell_type": "code",
   "execution_count": 8,
   "metadata": {},
   "outputs": [
    {
     "data": {
      "text/plain": [
       "DatetimeIndex(['2019-09-18 00:01:26', '2019-09-18 00:02:56',\n",
       "               '2019-09-18 00:04:26', '2019-09-18 00:05:56',\n",
       "               '2019-09-18 00:07:26', '2019-09-18 00:08:56',\n",
       "               '2019-09-18 00:10:26', '2019-09-18 00:11:56',\n",
       "               '2019-09-18 00:13:26', '2019-09-18 00:14:56',\n",
       "               ...\n",
       "               '2019-09-18 09:13:27', '2019-09-18 09:14:57',\n",
       "               '2019-09-18 09:16:27', '2019-09-18 09:17:57',\n",
       "               '2019-09-18 09:19:27', '2019-09-18 09:20:57',\n",
       "               '2019-09-18 09:22:27', '2019-09-18 09:23:57',\n",
       "               '2019-09-18 09:25:27', '2019-09-18 09:26:57'],\n",
       "              dtype='datetime64[ns]', name='Datetime', length=378, freq=None)"
      ]
     },
     "execution_count": 8,
     "metadata": {},
     "output_type": "execute_result"
    }
   ],
   "source": [
    "df[\"2019-09-18\":\"2019-09-22\"].index"
   ]
  },
  {
   "cell_type": "markdown",
   "metadata": {},
   "source": [
    "Notes:\n",
    "- NMR dismounted 9/21/19, so last chunked data should be anything after that."
   ]
  },
  {
   "cell_type": "code",
   "execution_count": 9,
   "metadata": {},
   "outputs": [],
   "source": [
    "#mask_nodmm = (df[\"NMR [T]\"] > 1.) & (df[\"Magnet Current [A]\"] < 10)\n",
    "mask_nodmm = (df[\"NMR [T]\"] < 1.) | (df[\"Magnet Current [A]\"] < 10)\n",
    "#mask_time = (df[\"\"])\n",
    "df_dmm = df[(~mask_nodmm)]\n",
    "#df_dmm_1 = df_dmm[:\"2019-08-01 00:00:00\"]\n",
    "df_dmm_1 = df_dmm[:\"2019-08-01 00:00:00\"]\n",
    "#df_dmm_2 = df_dmm[\"2019-08-01 00:00:00\":\"2019-09-22 00:00:00\"]\n",
    "df_dmm_2 = df_dmm[\"2019-08-02 09:00:00\":\"2019-09-22 00:00:00\"]\n",
    "#df_dmm_2 = pd.concat([df_dmm[:\"2019-08-01 00:00:00\"], df_dmm[\"2019-08-15 00:00:00\":]])\n",
    "#df_dmm_2 = df_dmm[\"2019-08-01 00:00:00\":]\n",
    "df_dmm_3 = df_dmm[\"2019-09-22 00:00:00\":]#[\"2019-08-01 00:00:00\":]\n",
    "\n",
    "df_dmm_weird = df_dmm[\"2019-08-01 00:00:00\":\"2019-08-02 01:00:00\"]"
   ]
  },
  {
   "cell_type": "markdown",
   "metadata": {
    "heading_collapsed": true
   },
   "source": [
    "## Stuff"
   ]
  },
  {
   "cell_type": "code",
   "execution_count": null,
   "metadata": {
    "hidden": true
   },
   "outputs": [],
   "source": [
    "fig = scatter2d(df_dmm_weird.index, df_dmm_weird[\"NMR [T]\"], inline=False)"
   ]
  },
  {
   "cell_type": "code",
   "execution_count": null,
   "metadata": {
    "hidden": true
   },
   "outputs": [],
   "source": [
    "fig = scatter2d(df_dmm_1.index, df_dmm_1[\"NMR [T]\"], inline=False)"
   ]
  },
  {
   "cell_type": "code",
   "execution_count": null,
   "metadata": {
    "hidden": true
   },
   "outputs": [],
   "source": [
    "fig = scatter2d(3*[df_dmm_1.index],\n",
    "                [df_dmm_1[col] for col in \n",
    "                [\"Zaber_Meas_Encoder_X\",\"Zaber_Meas_Encoder_Y\",\"Zaber_Meas_Encoder_Z\"]],\n",
    "                inline=False)"
   ]
  },
  {
   "cell_type": "code",
   "execution_count": null,
   "metadata": {
    "hidden": true
   },
   "outputs": [],
   "source": [
    "len(df)"
   ]
  },
  {
   "cell_type": "code",
   "execution_count": null,
   "metadata": {
    "hidden": true
   },
   "outputs": [],
   "source": [
    "len(df_dmm)"
   ]
  },
  {
   "cell_type": "code",
   "execution_count": null,
   "metadata": {
    "hidden": true
   },
   "outputs": [],
   "source": [
    "df_dmm_1.head(1)"
   ]
  },
  {
   "cell_type": "code",
   "execution_count": null,
   "metadata": {
    "hidden": true
   },
   "outputs": [],
   "source": [
    "df_dmm_3.tail(1)"
   ]
  },
  {
   "cell_type": "code",
   "execution_count": null,
   "metadata": {
    "hidden": true
   },
   "outputs": [],
   "source": [
    "len(df_dmm_1), len(df_dmm_2), len(df_dmm_3)"
   ]
  },
  {
   "cell_type": "code",
   "execution_count": null,
   "metadata": {
    "hidden": true
   },
   "outputs": [],
   "source": [
    "(len(df_dmm_1)+len(df_dmm_2)+len(df_dmm_3)) * 90 / 60 / 60 / 24"
   ]
  },
  {
   "cell_type": "code",
   "execution_count": null,
   "metadata": {
    "hidden": true
   },
   "outputs": [],
   "source": [
    "df_dmm_2.index[0:10]"
   ]
  },
  {
   "cell_type": "code",
   "execution_count": null,
   "metadata": {
    "hidden": true
   },
   "outputs": [],
   "source": [
    "df_ = df_dmm_weird#2#[:\"11-11-19 12:00:00\"]#[\"11-11-19 09:00:00\":\"11-12-19 9:00:00\"]#df[\"11-09-19 12:00:00\":\"11-12-19 9:00:00\"]\n",
    "primary_corr = dict()\n",
    "for col in df_.columns:\n",
    "    if df_[col].dtype == np.float64:\n",
    "        slope_v, intercept_v, r_value_v, p_value_v, std_err_v = stats.linregress(df_[col], df_[\"NMR [T]\"])\n",
    "        #print(col,r_value_v,p_value_v,std_err_v)\n",
    "        primary_corr[col] = r_value_v\n",
    "\n",
    "sorted_primary_corr = sorted(primary_corr.items(), key=operator.itemgetter(1))\n",
    "\n",
    "#[print(s) for s in sorted_primary_corr if (\"Yoke\" in s[0])];\n",
    "sorted_primary_corr"
   ]
  },
  {
   "cell_type": "code",
   "execution_count": null,
   "metadata": {
    "hidden": true
   },
   "outputs": [],
   "source": [
    "df_dmm.plot.scatter(x=\"days_delta\", y=\"NMR [T]\")"
   ]
  },
  {
   "cell_type": "code",
   "execution_count": null,
   "metadata": {
    "hidden": true
   },
   "outputs": [],
   "source": [
    "df_dmm_2[\"Zaber_Meas_MicroStep_Y\"].plot()"
   ]
  },
  {
   "cell_type": "code",
   "execution_count": null,
   "metadata": {
    "hidden": true
   },
   "outputs": [],
   "source": [
    "df_dmm_2[\"Zaber_Meas_MicroStep_Z\"].plot()"
   ]
  },
  {
   "cell_type": "code",
   "execution_count": null,
   "metadata": {
    "hidden": true
   },
   "outputs": [],
   "source": [
    "df_dmm_2[\"NMR [T]\"].plot()"
   ]
  },
  {
   "cell_type": "code",
   "execution_count": null,
   "metadata": {
    "hidden": true
   },
   "outputs": [],
   "source": [
    "df_[\"NMR [T]\"].plot()"
   ]
  },
  {
   "cell_type": "code",
   "execution_count": null,
   "metadata": {
    "hidden": true
   },
   "outputs": [],
   "source": []
  },
  {
   "cell_type": "code",
   "execution_count": null,
   "metadata": {
    "hidden": true
   },
   "outputs": [],
   "source": [
    "nmr_change = df_dmm[\"NMR [T]\"].diff(periods=1) / df_dmm.seconds_delta.diff(periods=1)"
   ]
  },
  {
   "cell_type": "code",
   "execution_count": null,
   "metadata": {
    "hidden": true
   },
   "outputs": [],
   "source": [
    "nmr_change.name = \"nmr_rate_of_change\""
   ]
  },
  {
   "cell_type": "code",
   "execution_count": null,
   "metadata": {
    "hidden": true
   },
   "outputs": [],
   "source": [
    "nmr_change[nmr_change.notna()]"
   ]
  },
  {
   "cell_type": "code",
   "execution_count": null,
   "metadata": {
    "hidden": true
   },
   "outputs": [],
   "source": [
    "plt.scatter(df_dmm.days_delta, nmr_change)\n",
    "plt.ylim([-0.00025, 0.00025])"
   ]
  },
  {
   "cell_type": "code",
   "execution_count": null,
   "metadata": {
    "hidden": true
   },
   "outputs": [],
   "source": [
    "plt.hist(nmr_change[nmr_change.notna()], bins=500);\n",
    "plt.yscale('log');"
   ]
  },
  {
   "cell_type": "code",
   "execution_count": null,
   "metadata": {
    "hidden": true
   },
   "outputs": [],
   "source": []
  },
  {
   "cell_type": "code",
   "execution_count": null,
   "metadata": {
    "hidden": true
   },
   "outputs": [],
   "source": [
    "fig = py_profile(x=df_dmm_1[\"days_delta\"], y=df_dmm_1[\"Magnet Current [A]\"], x_bins=20)"
   ]
  },
  {
   "cell_type": "code",
   "execution_count": null,
   "metadata": {
    "hidden": true
   },
   "outputs": [],
   "source": [
    "fig = scatter2d(df_[::40].index, df_[::40][\"Magnet Current [A]\"], df_[::40][\"days_delta\"], size_list=[5])"
   ]
  },
  {
   "cell_type": "code",
   "execution_count": null,
   "metadata": {
    "hidden": true
   },
   "outputs": [],
   "source": [
    "fig = scatter2d(df_dmm_2.index, df_dmm_2[\"NMR [T]\"], df_dmm_2[\"days_delta\"],size_list=[5], inline=False)\n",
    "#fig = scatter2d(df_[::100].index, df_[::100][\"NMR [T]\"], df_[::100][\"days_delta\"])"
   ]
  },
  {
   "cell_type": "code",
   "execution_count": null,
   "metadata": {
    "hidden": true
   },
   "outputs": [],
   "source": [
    "fig = scatter2d(df_dmm_2.index, df_dmm_2[\"Yoke (center magnet)\"], df_dmm_2[\"days_delta\"],size_list=[3], inline=False)"
   ]
  },
  {
   "cell_type": "code",
   "execution_count": null,
   "metadata": {
    "hidden": true
   },
   "outputs": [],
   "source": [
    "fig = scatter2d(df.index, df[\"Yoke (center magnet)\"], df[\"days_delta\"],size_list=[3], inline=False)"
   ]
  },
  {
   "cell_type": "code",
   "execution_count": null,
   "metadata": {
    "hidden": true
   },
   "outputs": [],
   "source": [
    "fig = scatter2d(df.index, df[\"ICW in\"], df[\"days_delta\"],size_list=[3], inline=False)"
   ]
  },
  {
   "cell_type": "code",
   "execution_count": null,
   "metadata": {
    "hidden": true
   },
   "outputs": [],
   "source": [
    "fig = scatter2d(df.index, df[\"Chamber Wall CH16\"], df[\"days_delta\"],size_list=[3], inline=False)"
   ]
  },
  {
   "cell_type": "code",
   "execution_count": null,
   "metadata": {
    "hidden": true
   },
   "outputs": [],
   "source": [
    "fig = scatter2d(df.index, df[\"Yoke (center magnet)\"], df[\"NMR [T]\"],size_list=[3], inline=False)"
   ]
  },
  {
   "cell_type": "code",
   "execution_count": null,
   "metadata": {
    "hidden": true
   },
   "outputs": [],
   "source": []
  },
  {
   "cell_type": "code",
   "execution_count": null,
   "metadata": {
    "hidden": true
   },
   "outputs": [],
   "source": [
    "fig = scatter2d(df[::140].index, df[::140][\"NMR [T]\"], lines=False, markers=True, inline=False)"
   ]
  },
  {
   "cell_type": "code",
   "execution_count": null,
   "metadata": {
    "hidden": true
   },
   "outputs": [],
   "source": [
    "fig = scatter2d(df[::140].index, df[::140][\"Magnet Current [A]\"], lines=False, markers=True, inline=False)"
   ]
  },
  {
   "cell_type": "code",
   "execution_count": null,
   "metadata": {
    "hidden": true
   },
   "outputs": [],
   "source": []
  },
  {
   "cell_type": "code",
   "execution_count": null,
   "metadata": {
    "hidden": true
   },
   "outputs": [],
   "source": [
    "#mask_nodmm = (df[\"NMR [T]\"] > 1.) & (df[\"Magnet Current [A]\"] < 10)\n",
    "mask_nodmm = (df[\"NMR [T]\"] < 1.) | (df[\"Magnet Current [A]\"] < 10)"
   ]
  },
  {
   "cell_type": "code",
   "execution_count": null,
   "metadata": {
    "hidden": true
   },
   "outputs": [],
   "source": [
    "df_dmm = df[~mask_nodmm]"
   ]
  },
  {
   "cell_type": "code",
   "execution_count": null,
   "metadata": {
    "hidden": true
   },
   "outputs": [],
   "source": [
    "len(df_dmm)"
   ]
  },
  {
   "cell_type": "code",
   "execution_count": null,
   "metadata": {
    "hidden": true
   },
   "outputs": [],
   "source": [
    "len(df)"
   ]
  },
  {
   "cell_type": "code",
   "execution_count": null,
   "metadata": {
    "hidden": true
   },
   "outputs": [],
   "source": [
    "len(df_dmm) / len(df)"
   ]
  },
  {
   "cell_type": "code",
   "execution_count": null,
   "metadata": {
    "hidden": true
   },
   "outputs": [],
   "source": [
    "fig = scatter2d(df_dmm[::140].index, df_dmm[::140][\"NMR [T]\"], lines=False, markers=True, inline=False)\n",
    "fig = scatter2d(df_dmm[::140].index, df_dmm[::140][\"Magnet Current [A]\"], lines=False, markers=True, inline=False)"
   ]
  },
  {
   "cell_type": "code",
   "execution_count": null,
   "metadata": {
    "hidden": true
   },
   "outputs": [],
   "source": [
    "fig = scatter2d(2*[df_dmm[::140].index],\n",
    "                [df_dmm[::140][\"Magnet Current [A]\"]/df_dmm[\"Magnet Current [A]\"].max(),\n",
    "                 df_dmm[::140][\"NMR [T]\"]/df_dmm[\"NMR [T]\"].max()],\n",
    "                lines=False, markers=True, inline=False)"
   ]
  },
  {
   "cell_type": "code",
   "execution_count": null,
   "metadata": {
    "hidden": true
   },
   "outputs": [],
   "source": [
    "fig = scatter2d(df_dmm[\"Magnet Current [A]\"], df_dmm[\"NMR [T]\"], df_dmm[\"days_delta\"], inline=False)\n",
    "fig = scatter2d(df_dmm[\"Yoke\"], df_dmm[\"NMR [T]\"], df_dmm[\"days_delta\"], inline=False)"
   ]
  },
  {
   "cell_type": "markdown",
   "metadata": {
    "heading_collapsed": true,
    "hidden": true
   },
   "source": [
    "### Fitting"
   ]
  },
  {
   "cell_type": "code",
   "execution_count": 8,
   "metadata": {
    "hidden": true
   },
   "outputs": [],
   "source": [
    "import scipy.optimize as optimization"
   ]
  },
  {
   "cell_type": "code",
   "execution_count": null,
   "metadata": {
    "hidden": true
   },
   "outputs": [],
   "source": [
    "df_ = df_dmm_1"
   ]
  },
  {
   "cell_type": "code",
   "execution_count": null,
   "metadata": {
    "hidden": true
   },
   "outputs": [],
   "source": [
    "def field_strength_current_func(DATA, D,):# E):\n",
    "    CURRENT = DATA\n",
    "    return D * CURRENT# + E"
   ]
  },
  {
   "cell_type": "code",
   "execution_count": null,
   "metadata": {
    "hidden": true
   },
   "outputs": [],
   "source": [
    "guess = np.array([1.2 / 250,])# 1])#, -1e-5, -1e-6, 1.249 / 250,]) #1.249])"
   ]
  },
  {
   "cell_type": "code",
   "execution_count": null,
   "metadata": {
    "hidden": true
   },
   "outputs": [],
   "source": [
    "x_dat = df_[\"Magnet Current [A]\"]#df_dmm[\"Yoke\"],df_dmm[\"Chamber Wall CH16\"],df_dmm[\"Coil 1 (new)\"]])"
   ]
  },
  {
   "cell_type": "code",
   "execution_count": null,
   "metadata": {
    "hidden": true
   },
   "outputs": [],
   "source": [
    "params, cov = optimization.curve_fit(field_strength_current_func, x_dat, df_[\"NMR [T]\"], guess)\n",
    "#params2, cov2 = optimization.curve_fit(field_strength_func, x_dat2, df[\"NMR [T]\"], guess)"
   ]
  },
  {
   "cell_type": "code",
   "execution_count": null,
   "metadata": {
    "hidden": true
   },
   "outputs": [],
   "source": [
    "D_fit = params[0]\n",
    "#raspberry yogurt E_fit = params[1]\n",
    "#A_fit, B_fit, C_fit, D_fit, E_fit = params\n",
    "#A_fit2, B_fit2, C_fit2, D_fit2 = params2"
   ]
  },
  {
   "cell_type": "code",
   "execution_count": null,
   "metadata": {
    "hidden": true
   },
   "outputs": [],
   "source": [
    "params#, params2"
   ]
  },
  {
   "cell_type": "code",
   "execution_count": null,
   "metadata": {
    "hidden": true
   },
   "outputs": [],
   "source": [
    "1.2 / 250"
   ]
  },
  {
   "cell_type": "code",
   "execution_count": null,
   "metadata": {
    "hidden": true
   },
   "outputs": [],
   "source": [
    "cov#, cov2"
   ]
  },
  {
   "cell_type": "code",
   "execution_count": null,
   "metadata": {
    "hidden": true
   },
   "outputs": [],
   "source": [
    "df_[\"NMR_lsq\"] = field_strength_current_func(x_dat, D_fit,)# E_fit) #E_fit)\n",
    "#df_dmm[\"NMR_lsq\"] = field_strength_func(x_dat, A_fit, B_fit, C_fit, D_fit)\n",
    "#df_dmm[\"NMR_lsq\"] = field_strength_func(x_dat, A_fit, B_fit, C_fit, D_fit, E_fit)\n",
    "#df[\"NMR_lsq2\"] = field_strength_func(x_dat2, A_fit2, B_fit2, C_fit2, D_fit2)"
   ]
  },
  {
   "cell_type": "code",
   "execution_count": null,
   "metadata": {
    "hidden": true
   },
   "outputs": [],
   "source": [
    "#fig = scatter2d([df_dmm[\"NMR_lsq\"], df_dmm[\"NMR_lsq2\"]], 2*[df[\"NMR [T]\"]], 2*[df.days_delta])"
   ]
  },
  {
   "cell_type": "code",
   "execution_count": null,
   "metadata": {
    "hidden": true
   },
   "outputs": [],
   "source": []
  },
  {
   "cell_type": "code",
   "execution_count": null,
   "metadata": {
    "hidden": true
   },
   "outputs": [],
   "source": [
    "fig = scatter2d(df_[\"NMR_lsq\"], df_[\"NMR [T]\"], df_.days_delta, [\"Viridis\"], show_plot=False)\n",
    "fig.update_xaxes(title=\"|B| (calculated)\")\n",
    "fig.update_yaxes(title=\"NMR [T] (measured)\")\n",
    "fig.update_layout(title=\"Measured vs. Calculated |B|\");\n",
    "plot(fig)"
   ]
  },
  {
   "cell_type": "code",
   "execution_count": null,
   "metadata": {
    "hidden": true
   },
   "outputs": [],
   "source": [
    "df_[\"LSQ_RES_REL\"] = (df_[\"NMR [T]\"] - df_[\"NMR_lsq\"]) / df_[\"NMR [T]\"]\n",
    "#df_[\"LSQ2_RES_REL\"] = (df[\"NMR [T]\"] - df[\"NMR_lsq2\"]) / df[\"NMR [T]\"]\n",
    "df_[\"LSQ_RES\"] = (df_[\"NMR [T]\"] - df_[\"NMR_lsq\"])\n",
    "#f[\"LSQ2_RES\"] = (df[\"NMR [T]\"] - df[\"NMR_lsq2\"])"
   ]
  },
  {
   "cell_type": "code",
   "execution_count": null,
   "metadata": {
    "hidden": true
   },
   "outputs": [],
   "source": [
    "fig = scatter2d(df_[\"NMR_lsq\"], df_[\"LSQ_RES_REL\"], df_.days_delta, [\"Viridis\"], show_plot=False)\n",
    "plot(fig)"
   ]
  },
  {
   "cell_type": "code",
   "execution_count": null,
   "metadata": {
    "hidden": true
   },
   "outputs": [],
   "source": []
  },
  {
   "cell_type": "code",
   "execution_count": null,
   "metadata": {
    "hidden": true
   },
   "outputs": [],
   "source": []
  },
  {
   "cell_type": "code",
   "execution_count": null,
   "metadata": {
    "hidden": true
   },
   "outputs": [],
   "source": [
    "df_ = df_dmm_weird#[:\"11-11-19 12:00:00\"]#[\"11-11-19 09:00:00\":\"11-12-19 9:00:00\"]#df[\"11-09-19 12:00:00\":\"11-12-19 9:00:00\"]\n",
    "primary_corr = dict()\n",
    "for col in df_.columns:\n",
    "    if df_[col].dtype == np.float64:\n",
    "        slope_v, intercept_v, r_value_v, p_value_v, std_err_v = stats.linregress(df_[col], df_[\"NMR_lsq\"])\n",
    "        #print(col,r_value_v,p_value_v,std_err_v)\n",
    "        primary_corr[col] = r_value_v\n",
    "\n",
    "sorted_primary_corr = sorted(primary_corr.items(), key=operator.itemgetter(1))\n",
    "\n",
    "#[print(s) for s in sorted_primary_corr if (\"Yoke\" in s[0])];\n",
    "sorted_primary_corr"
   ]
  },
  {
   "cell_type": "code",
   "execution_count": null,
   "metadata": {
    "hidden": true
   },
   "outputs": [],
   "source": []
  },
  {
   "cell_type": "code",
   "execution_count": null,
   "metadata": {
    "hidden": true
   },
   "outputs": [],
   "source": []
  },
  {
   "cell_type": "code",
   "execution_count": null,
   "metadata": {
    "hidden": true
   },
   "outputs": [],
   "source": [
    "filename = \"NMR_measured_vs_calculated\"\n",
    "pio.write_image(fig, plotdir+filename+\".pdf\")\n",
    "pio.write_image(fig, plotdir+filename+\".png\")"
   ]
  },
  {
   "cell_type": "code",
   "execution_count": null,
   "metadata": {
    "hidden": true
   },
   "outputs": [],
   "source": [
    "fig = scatter2d(df_dmm[\"Yoke\"], df_dmm[\"NMR_lsq\"], df_dmm[\"days_delta\"], inline=False)"
   ]
  },
  {
   "cell_type": "code",
   "execution_count": null,
   "metadata": {
    "hidden": true
   },
   "outputs": [],
   "source": []
  },
  {
   "cell_type": "code",
   "execution_count": null,
   "metadata": {
    "hidden": true
   },
   "outputs": [],
   "source": []
  },
  {
   "cell_type": "code",
   "execution_count": null,
   "metadata": {
    "hidden": true
   },
   "outputs": [],
   "source": []
  },
  {
   "cell_type": "code",
   "execution_count": null,
   "metadata": {
    "hidden": true
   },
   "outputs": [],
   "source": []
  },
  {
   "cell_type": "code",
   "execution_count": null,
   "metadata": {
    "hidden": true
   },
   "outputs": [],
   "source": [
    "df_ = df_dmm_1#_2"
   ]
  },
  {
   "cell_type": "code",
   "execution_count": null,
   "metadata": {
    "hidden": true
   },
   "outputs": [],
   "source": [
    "df_[\"Zab_Dist\"] = (df_[\"Zaber_Meas_MicroStep_X\"]**2 + df_[\"Zaber_Meas_MicroStep_Y\"]**2 + df_[\"Zaber_Meas_MicroStep_Z\"]**2)**(1/2)"
   ]
  },
  {
   "cell_type": "markdown",
   "metadata": {},
   "source": [
    "## FMS #61"
   ]
  },
  {
   "cell_type": "markdown",
   "metadata": {},
   "source": [
    "### New Variables"
   ]
  },
  {
   "cell_type": "markdown",
   "metadata": {},
   "source": [
    "- Idea: new var (Yoke - Chamber CH16)"
   ]
  },
  {
   "cell_type": "code",
   "execution_count": 13,
   "metadata": {},
   "outputs": [
    {
     "data": {
      "text/html": [
       "<div>\n",
       "<style scoped>\n",
       "    .dataframe tbody tr th:only-of-type {\n",
       "        vertical-align: middle;\n",
       "    }\n",
       "\n",
       "    .dataframe tbody tr th {\n",
       "        vertical-align: top;\n",
       "    }\n",
       "\n",
       "    .dataframe thead th {\n",
       "        text-align: right;\n",
       "    }\n",
       "</style>\n",
       "<table border=\"1\" class=\"dataframe\">\n",
       "  <thead>\n",
       "    <tr style=\"text-align: right;\">\n",
       "      <th></th>\n",
       "      <th>Time</th>\n",
       "      <th>Magnet Current [A]</th>\n",
       "      <th>Magnet Voltage [V]</th>\n",
       "      <th>Coil 1 (new)</th>\n",
       "      <th>Coil 2 (old)</th>\n",
       "      <th>LCW in Coil1</th>\n",
       "      <th>LCW out Coil 1</th>\n",
       "      <th>LCW in Coil 2</th>\n",
       "      <th>LCW out Coil 2</th>\n",
       "      <th>Yoke</th>\n",
       "      <th>...</th>\n",
       "      <th>Zaber_Meas_MicroStep_X</th>\n",
       "      <th>Zaber_Meas_Encoder_X</th>\n",
       "      <th>Zaber_Meas_MicroStep_Y</th>\n",
       "      <th>Zaber_Meas_Encoder_Y</th>\n",
       "      <th>Zaber_Meas_MicroStep_Z</th>\n",
       "      <th>Zaber_Meas_Encoder_Z</th>\n",
       "      <th>run</th>\n",
       "      <th>seconds_delta</th>\n",
       "      <th>hours_delta</th>\n",
       "      <th>days_delta</th>\n",
       "    </tr>\n",
       "    <tr>\n",
       "      <th>Datetime</th>\n",
       "      <th></th>\n",
       "      <th></th>\n",
       "      <th></th>\n",
       "      <th></th>\n",
       "      <th></th>\n",
       "      <th></th>\n",
       "      <th></th>\n",
       "      <th></th>\n",
       "      <th></th>\n",
       "      <th></th>\n",
       "      <th></th>\n",
       "      <th></th>\n",
       "      <th></th>\n",
       "      <th></th>\n",
       "      <th></th>\n",
       "      <th></th>\n",
       "      <th></th>\n",
       "      <th></th>\n",
       "      <th></th>\n",
       "      <th></th>\n",
       "      <th></th>\n",
       "    </tr>\n",
       "  </thead>\n",
       "  <tbody>\n",
       "    <tr>\n",
       "      <th>2019-11-08 12:33:49</th>\n",
       "      <td>11/8/2019 12:33:49 PM</td>\n",
       "      <td>256.074400</td>\n",
       "      <td>31.276900</td>\n",
       "      <td>35.151032</td>\n",
       "      <td>34.447445</td>\n",
       "      <td>19.959066</td>\n",
       "      <td>21.814058</td>\n",
       "      <td>22.372099</td>\n",
       "      <td>24.462584</td>\n",
       "      <td>24.933077</td>\n",
       "      <td>...</td>\n",
       "      <td>249952.34375</td>\n",
       "      <td>639878.0</td>\n",
       "      <td>750000.0</td>\n",
       "      <td>1920000.0</td>\n",
       "      <td>750000.0</td>\n",
       "      <td>1920000.0</td>\n",
       "      <td>20</td>\n",
       "      <td>9944469.0</td>\n",
       "      <td>2762.352500</td>\n",
       "      <td>115.098021</td>\n",
       "    </tr>\n",
       "    <tr>\n",
       "      <th>2019-11-08 12:35:19</th>\n",
       "      <td>11/8/2019 12:35:19 PM</td>\n",
       "      <td>256.074400</td>\n",
       "      <td>31.432483</td>\n",
       "      <td>36.439224</td>\n",
       "      <td>35.549778</td>\n",
       "      <td>19.981903</td>\n",
       "      <td>21.998850</td>\n",
       "      <td>22.456932</td>\n",
       "      <td>24.887590</td>\n",
       "      <td>24.905584</td>\n",
       "      <td>...</td>\n",
       "      <td>249952.34375</td>\n",
       "      <td>639878.0</td>\n",
       "      <td>750000.0</td>\n",
       "      <td>1920000.0</td>\n",
       "      <td>750000.0</td>\n",
       "      <td>1920000.0</td>\n",
       "      <td>20</td>\n",
       "      <td>9944559.0</td>\n",
       "      <td>2762.377500</td>\n",
       "      <td>115.099063</td>\n",
       "    </tr>\n",
       "    <tr>\n",
       "      <th>2019-11-08 12:36:49</th>\n",
       "      <td>11/8/2019 12:36:49 PM</td>\n",
       "      <td>256.074400</td>\n",
       "      <td>31.567833</td>\n",
       "      <td>37.553742</td>\n",
       "      <td>36.548729</td>\n",
       "      <td>20.034805</td>\n",
       "      <td>22.191668</td>\n",
       "      <td>22.610453</td>\n",
       "      <td>25.243853</td>\n",
       "      <td>24.871288</td>\n",
       "      <td>...</td>\n",
       "      <td>249952.34375</td>\n",
       "      <td>639878.0</td>\n",
       "      <td>750000.0</td>\n",
       "      <td>1920000.0</td>\n",
       "      <td>750000.0</td>\n",
       "      <td>1920000.0</td>\n",
       "      <td>20</td>\n",
       "      <td>9944649.0</td>\n",
       "      <td>2762.402500</td>\n",
       "      <td>115.100104</td>\n",
       "    </tr>\n",
       "    <tr>\n",
       "      <th>2019-11-08 12:38:19</th>\n",
       "      <td>11/8/2019 12:38:19 PM</td>\n",
       "      <td>256.074400</td>\n",
       "      <td>31.685683</td>\n",
       "      <td>38.551891</td>\n",
       "      <td>37.365566</td>\n",
       "      <td>20.093031</td>\n",
       "      <td>22.362549</td>\n",
       "      <td>22.723967</td>\n",
       "      <td>25.570019</td>\n",
       "      <td>24.844877</td>\n",
       "      <td>...</td>\n",
       "      <td>249952.34375</td>\n",
       "      <td>639878.0</td>\n",
       "      <td>750000.0</td>\n",
       "      <td>1920000.0</td>\n",
       "      <td>750000.0</td>\n",
       "      <td>1920000.0</td>\n",
       "      <td>20</td>\n",
       "      <td>9944739.0</td>\n",
       "      <td>2762.427500</td>\n",
       "      <td>115.101146</td>\n",
       "    </tr>\n",
       "    <tr>\n",
       "      <th>2019-11-08 12:39:49</th>\n",
       "      <td>11/8/2019 12:39:49 PM</td>\n",
       "      <td>256.074400</td>\n",
       "      <td>31.789067</td>\n",
       "      <td>39.414150</td>\n",
       "      <td>38.138889</td>\n",
       "      <td>20.141634</td>\n",
       "      <td>22.508911</td>\n",
       "      <td>22.888407</td>\n",
       "      <td>25.866650</td>\n",
       "      <td>24.815359</td>\n",
       "      <td>...</td>\n",
       "      <td>249952.34375</td>\n",
       "      <td>639878.0</td>\n",
       "      <td>750000.0</td>\n",
       "      <td>1920000.0</td>\n",
       "      <td>750000.0</td>\n",
       "      <td>1920000.0</td>\n",
       "      <td>20</td>\n",
       "      <td>9944829.0</td>\n",
       "      <td>2762.452500</td>\n",
       "      <td>115.102187</td>\n",
       "    </tr>\n",
       "    <tr>\n",
       "      <th>2019-11-08 12:41:19</th>\n",
       "      <td>11/8/2019 12:41:19 PM</td>\n",
       "      <td>256.074513</td>\n",
       "      <td>31.879683</td>\n",
       "      <td>40.198971</td>\n",
       "      <td>38.786617</td>\n",
       "      <td>20.185642</td>\n",
       "      <td>22.637867</td>\n",
       "      <td>22.971603</td>\n",
       "      <td>26.102793</td>\n",
       "      <td>24.791487</td>\n",
       "      <td>...</td>\n",
       "      <td>249952.34375</td>\n",
       "      <td>639878.0</td>\n",
       "      <td>750000.0</td>\n",
       "      <td>1920000.0</td>\n",
       "      <td>750000.0</td>\n",
       "      <td>1920000.0</td>\n",
       "      <td>20</td>\n",
       "      <td>9944919.0</td>\n",
       "      <td>2762.477500</td>\n",
       "      <td>115.103229</td>\n",
       "    </tr>\n",
       "    <tr>\n",
       "      <th>2019-11-08 12:42:49</th>\n",
       "      <td>11/8/2019 12:42:49 PM</td>\n",
       "      <td>256.074513</td>\n",
       "      <td>31.959100</td>\n",
       "      <td>40.846626</td>\n",
       "      <td>39.348164</td>\n",
       "      <td>20.211172</td>\n",
       "      <td>22.752817</td>\n",
       "      <td>23.062761</td>\n",
       "      <td>26.318728</td>\n",
       "      <td>24.775812</td>\n",
       "      <td>...</td>\n",
       "      <td>249952.34375</td>\n",
       "      <td>639878.0</td>\n",
       "      <td>750000.0</td>\n",
       "      <td>1920000.0</td>\n",
       "      <td>750000.0</td>\n",
       "      <td>1920000.0</td>\n",
       "      <td>20</td>\n",
       "      <td>9945009.0</td>\n",
       "      <td>2762.502500</td>\n",
       "      <td>115.104271</td>\n",
       "    </tr>\n",
       "    <tr>\n",
       "      <th>2019-11-08 12:44:19</th>\n",
       "      <td>11/8/2019 12:44:19 PM</td>\n",
       "      <td>256.074740</td>\n",
       "      <td>32.028283</td>\n",
       "      <td>41.382408</td>\n",
       "      <td>39.787960</td>\n",
       "      <td>20.184837</td>\n",
       "      <td>22.803463</td>\n",
       "      <td>23.096254</td>\n",
       "      <td>26.491234</td>\n",
       "      <td>24.773256</td>\n",
       "      <td>...</td>\n",
       "      <td>249952.34375</td>\n",
       "      <td>639878.0</td>\n",
       "      <td>750000.0</td>\n",
       "      <td>1920000.0</td>\n",
       "      <td>750000.0</td>\n",
       "      <td>1920000.0</td>\n",
       "      <td>20</td>\n",
       "      <td>9945099.0</td>\n",
       "      <td>2762.527500</td>\n",
       "      <td>115.105312</td>\n",
       "    </tr>\n",
       "    <tr>\n",
       "      <th>2019-11-08 12:45:49</th>\n",
       "      <td>11/8/2019 12:45:49 PM</td>\n",
       "      <td>256.074570</td>\n",
       "      <td>32.087417</td>\n",
       "      <td>41.831230</td>\n",
       "      <td>40.215427</td>\n",
       "      <td>20.086845</td>\n",
       "      <td>22.786444</td>\n",
       "      <td>23.122650</td>\n",
       "      <td>26.559860</td>\n",
       "      <td>24.733435</td>\n",
       "      <td>...</td>\n",
       "      <td>249952.34375</td>\n",
       "      <td>639878.0</td>\n",
       "      <td>750000.0</td>\n",
       "      <td>1920000.0</td>\n",
       "      <td>750000.0</td>\n",
       "      <td>1920000.0</td>\n",
       "      <td>20</td>\n",
       "      <td>9945189.0</td>\n",
       "      <td>2762.552500</td>\n",
       "      <td>115.106354</td>\n",
       "    </tr>\n",
       "    <tr>\n",
       "      <th>2019-11-08 12:47:20</th>\n",
       "      <td>11/8/2019 12:47:20 PM</td>\n",
       "      <td>256.074513</td>\n",
       "      <td>32.136950</td>\n",
       "      <td>42.282227</td>\n",
       "      <td>40.568542</td>\n",
       "      <td>19.908304</td>\n",
       "      <td>22.676270</td>\n",
       "      <td>22.985617</td>\n",
       "      <td>26.564602</td>\n",
       "      <td>24.726454</td>\n",
       "      <td>...</td>\n",
       "      <td>249952.34375</td>\n",
       "      <td>639878.0</td>\n",
       "      <td>750000.0</td>\n",
       "      <td>1920000.0</td>\n",
       "      <td>750000.0</td>\n",
       "      <td>1920000.0</td>\n",
       "      <td>20</td>\n",
       "      <td>9945280.0</td>\n",
       "      <td>2762.577778</td>\n",
       "      <td>115.107407</td>\n",
       "    </tr>\n",
       "    <tr>\n",
       "      <th>2019-11-08 12:48:49</th>\n",
       "      <td>11/8/2019 12:48:49 PM</td>\n",
       "      <td>256.074457</td>\n",
       "      <td>32.176400</td>\n",
       "      <td>42.660767</td>\n",
       "      <td>40.882866</td>\n",
       "      <td>19.693390</td>\n",
       "      <td>22.541414</td>\n",
       "      <td>22.865452</td>\n",
       "      <td>26.519939</td>\n",
       "      <td>24.716524</td>\n",
       "      <td>...</td>\n",
       "      <td>249952.34375</td>\n",
       "      <td>639878.0</td>\n",
       "      <td>750000.0</td>\n",
       "      <td>1920000.0</td>\n",
       "      <td>750000.0</td>\n",
       "      <td>1920000.0</td>\n",
       "      <td>20</td>\n",
       "      <td>9945369.0</td>\n",
       "      <td>2762.602500</td>\n",
       "      <td>115.108437</td>\n",
       "    </tr>\n",
       "    <tr>\n",
       "      <th>2019-11-08 12:50:19</th>\n",
       "      <td>11/8/2019 12:50:19 PM</td>\n",
       "      <td>256.074400</td>\n",
       "      <td>32.207117</td>\n",
       "      <td>42.955929</td>\n",
       "      <td>41.090328</td>\n",
       "      <td>19.420961</td>\n",
       "      <td>22.345530</td>\n",
       "      <td>22.690025</td>\n",
       "      <td>26.400375</td>\n",
       "      <td>24.681088</td>\n",
       "      <td>...</td>\n",
       "      <td>249952.34375</td>\n",
       "      <td>639878.0</td>\n",
       "      <td>750000.0</td>\n",
       "      <td>1920000.0</td>\n",
       "      <td>750000.0</td>\n",
       "      <td>1920000.0</td>\n",
       "      <td>20</td>\n",
       "      <td>9945459.0</td>\n",
       "      <td>2762.627500</td>\n",
       "      <td>115.109479</td>\n",
       "    </tr>\n",
       "    <tr>\n",
       "      <th>2019-11-08 12:51:49</th>\n",
       "      <td>11/8/2019 12:51:49 PM</td>\n",
       "      <td>256.074287</td>\n",
       "      <td>32.229550</td>\n",
       "      <td>43.183609</td>\n",
       "      <td>41.240398</td>\n",
       "      <td>19.144276</td>\n",
       "      <td>22.124369</td>\n",
       "      <td>22.466267</td>\n",
       "      <td>26.276310</td>\n",
       "      <td>24.676880</td>\n",
       "      <td>...</td>\n",
       "      <td>249952.34375</td>\n",
       "      <td>639878.0</td>\n",
       "      <td>750000.0</td>\n",
       "      <td>1920000.0</td>\n",
       "      <td>750000.0</td>\n",
       "      <td>1920000.0</td>\n",
       "      <td>20</td>\n",
       "      <td>9945549.0</td>\n",
       "      <td>2762.652500</td>\n",
       "      <td>115.110521</td>\n",
       "    </tr>\n",
       "    <tr>\n",
       "      <th>2019-11-08 12:53:19</th>\n",
       "      <td>11/8/2019 12:53:19 PM</td>\n",
       "      <td>256.074173</td>\n",
       "      <td>32.245467</td>\n",
       "      <td>43.414532</td>\n",
       "      <td>41.318398</td>\n",
       "      <td>18.930332</td>\n",
       "      <td>21.937763</td>\n",
       "      <td>22.245804</td>\n",
       "      <td>26.178534</td>\n",
       "      <td>24.661030</td>\n",
       "      <td>...</td>\n",
       "      <td>249952.34375</td>\n",
       "      <td>639878.0</td>\n",
       "      <td>750000.0</td>\n",
       "      <td>1920000.0</td>\n",
       "      <td>750000.0</td>\n",
       "      <td>1920000.0</td>\n",
       "      <td>20</td>\n",
       "      <td>9945639.0</td>\n",
       "      <td>2762.677500</td>\n",
       "      <td>115.111563</td>\n",
       "    </tr>\n",
       "    <tr>\n",
       "      <th>2019-11-08 12:54:49</th>\n",
       "      <td>11/8/2019 12:54:49 PM</td>\n",
       "      <td>256.074287</td>\n",
       "      <td>32.256600</td>\n",
       "      <td>43.490547</td>\n",
       "      <td>41.393040</td>\n",
       "      <td>18.773270</td>\n",
       "      <td>21.808617</td>\n",
       "      <td>22.183495</td>\n",
       "      <td>26.050266</td>\n",
       "      <td>24.648268</td>\n",
       "      <td>...</td>\n",
       "      <td>249952.34375</td>\n",
       "      <td>639878.0</td>\n",
       "      <td>750000.0</td>\n",
       "      <td>1920000.0</td>\n",
       "      <td>750000.0</td>\n",
       "      <td>1920000.0</td>\n",
       "      <td>20</td>\n",
       "      <td>9945729.0</td>\n",
       "      <td>2762.702500</td>\n",
       "      <td>115.112604</td>\n",
       "    </tr>\n",
       "    <tr>\n",
       "      <th>2019-11-08 12:56:19</th>\n",
       "      <td>11/8/2019 12:56:19 PM</td>\n",
       "      <td>256.074173</td>\n",
       "      <td>32.263983</td>\n",
       "      <td>43.630775</td>\n",
       "      <td>41.431618</td>\n",
       "      <td>18.647621</td>\n",
       "      <td>21.710241</td>\n",
       "      <td>22.113914</td>\n",
       "      <td>25.981356</td>\n",
       "      <td>24.615076</td>\n",
       "      <td>...</td>\n",
       "      <td>249952.34375</td>\n",
       "      <td>639878.0</td>\n",
       "      <td>750000.0</td>\n",
       "      <td>1920000.0</td>\n",
       "      <td>750000.0</td>\n",
       "      <td>1920000.0</td>\n",
       "      <td>20</td>\n",
       "      <td>9945819.0</td>\n",
       "      <td>2762.727500</td>\n",
       "      <td>115.113646</td>\n",
       "    </tr>\n",
       "    <tr>\n",
       "      <th>2019-11-08 12:57:49</th>\n",
       "      <td>11/8/2019 12:57:49 PM</td>\n",
       "      <td>256.074060</td>\n",
       "      <td>32.268700</td>\n",
       "      <td>43.637421</td>\n",
       "      <td>41.447311</td>\n",
       "      <td>18.553127</td>\n",
       "      <td>21.620632</td>\n",
       "      <td>22.068800</td>\n",
       "      <td>25.899029</td>\n",
       "      <td>24.606344</td>\n",
       "      <td>...</td>\n",
       "      <td>249952.34375</td>\n",
       "      <td>639878.0</td>\n",
       "      <td>750000.0</td>\n",
       "      <td>1920000.0</td>\n",
       "      <td>750000.0</td>\n",
       "      <td>1920000.0</td>\n",
       "      <td>20</td>\n",
       "      <td>9945909.0</td>\n",
       "      <td>2762.752500</td>\n",
       "      <td>115.114688</td>\n",
       "    </tr>\n",
       "    <tr>\n",
       "      <th>2019-11-08 12:59:19</th>\n",
       "      <td>11/8/2019 12:59:19 PM</td>\n",
       "      <td>256.074060</td>\n",
       "      <td>32.271283</td>\n",
       "      <td>43.640072</td>\n",
       "      <td>41.443653</td>\n",
       "      <td>18.453749</td>\n",
       "      <td>21.550732</td>\n",
       "      <td>21.939177</td>\n",
       "      <td>25.837929</td>\n",
       "      <td>24.580271</td>\n",
       "      <td>...</td>\n",
       "      <td>249952.34375</td>\n",
       "      <td>639878.0</td>\n",
       "      <td>750000.0</td>\n",
       "      <td>1920000.0</td>\n",
       "      <td>750000.0</td>\n",
       "      <td>1920000.0</td>\n",
       "      <td>20</td>\n",
       "      <td>9945999.0</td>\n",
       "      <td>2762.777500</td>\n",
       "      <td>115.115729</td>\n",
       "    </tr>\n",
       "    <tr>\n",
       "      <th>2019-11-08 13:00:49</th>\n",
       "      <td>11/8/2019 1:00:49 PM</td>\n",
       "      <td>256.074060</td>\n",
       "      <td>32.272650</td>\n",
       "      <td>43.716701</td>\n",
       "      <td>41.453930</td>\n",
       "      <td>18.399792</td>\n",
       "      <td>21.483740</td>\n",
       "      <td>21.842686</td>\n",
       "      <td>25.792784</td>\n",
       "      <td>24.562277</td>\n",
       "      <td>...</td>\n",
       "      <td>249952.34375</td>\n",
       "      <td>639878.0</td>\n",
       "      <td>750000.0</td>\n",
       "      <td>1920000.0</td>\n",
       "      <td>750000.0</td>\n",
       "      <td>1920000.0</td>\n",
       "      <td>20</td>\n",
       "      <td>9946089.0</td>\n",
       "      <td>2762.802500</td>\n",
       "      <td>115.116771</td>\n",
       "    </tr>\n",
       "    <tr>\n",
       "      <th>2019-11-08 13:02:19</th>\n",
       "      <td>11/8/2019 1:02:19 PM</td>\n",
       "      <td>256.074060</td>\n",
       "      <td>32.273383</td>\n",
       "      <td>43.698826</td>\n",
       "      <td>41.430668</td>\n",
       "      <td>18.338436</td>\n",
       "      <td>21.429359</td>\n",
       "      <td>21.741324</td>\n",
       "      <td>25.758930</td>\n",
       "      <td>24.547529</td>\n",
       "      <td>...</td>\n",
       "      <td>249952.34375</td>\n",
       "      <td>639878.0</td>\n",
       "      <td>750000.0</td>\n",
       "      <td>1920000.0</td>\n",
       "      <td>750000.0</td>\n",
       "      <td>1920000.0</td>\n",
       "      <td>20</td>\n",
       "      <td>9946179.0</td>\n",
       "      <td>2762.827500</td>\n",
       "      <td>115.117812</td>\n",
       "    </tr>\n",
       "    <tr>\n",
       "      <th>2019-11-08 13:03:49</th>\n",
       "      <td>11/8/2019 1:03:49 PM</td>\n",
       "      <td>256.074060</td>\n",
       "      <td>32.273067</td>\n",
       "      <td>43.731041</td>\n",
       "      <td>41.408337</td>\n",
       "      <td>18.308270</td>\n",
       "      <td>21.409086</td>\n",
       "      <td>21.777258</td>\n",
       "      <td>25.721438</td>\n",
       "      <td>24.530266</td>\n",
       "      <td>...</td>\n",
       "      <td>249952.34375</td>\n",
       "      <td>639878.0</td>\n",
       "      <td>750000.0</td>\n",
       "      <td>1920000.0</td>\n",
       "      <td>750000.0</td>\n",
       "      <td>1920000.0</td>\n",
       "      <td>20</td>\n",
       "      <td>9946269.0</td>\n",
       "      <td>2762.852500</td>\n",
       "      <td>115.118854</td>\n",
       "    </tr>\n",
       "    <tr>\n",
       "      <th>2019-11-08 13:05:19</th>\n",
       "      <td>11/8/2019 1:05:19 PM</td>\n",
       "      <td>256.073947</td>\n",
       "      <td>32.271733</td>\n",
       "      <td>43.761437</td>\n",
       "      <td>41.391540</td>\n",
       "      <td>18.225445</td>\n",
       "      <td>21.344021</td>\n",
       "      <td>21.713209</td>\n",
       "      <td>25.664002</td>\n",
       "      <td>24.499727</td>\n",
       "      <td>...</td>\n",
       "      <td>249952.34375</td>\n",
       "      <td>639878.0</td>\n",
       "      <td>750000.0</td>\n",
       "      <td>1920000.0</td>\n",
       "      <td>750000.0</td>\n",
       "      <td>1920000.0</td>\n",
       "      <td>20</td>\n",
       "      <td>9946359.0</td>\n",
       "      <td>2762.877500</td>\n",
       "      <td>115.119896</td>\n",
       "    </tr>\n",
       "    <tr>\n",
       "      <th>2019-11-08 13:06:49</th>\n",
       "      <td>11/8/2019 1:06:49 PM</td>\n",
       "      <td>256.073947</td>\n",
       "      <td>32.269650</td>\n",
       "      <td>43.668369</td>\n",
       "      <td>41.313221</td>\n",
       "      <td>18.178850</td>\n",
       "      <td>21.290529</td>\n",
       "      <td>21.612658</td>\n",
       "      <td>25.623617</td>\n",
       "      <td>24.477665</td>\n",
       "      <td>...</td>\n",
       "      <td>249952.34375</td>\n",
       "      <td>639878.0</td>\n",
       "      <td>750000.0</td>\n",
       "      <td>1920000.0</td>\n",
       "      <td>750000.0</td>\n",
       "      <td>1920000.0</td>\n",
       "      <td>20</td>\n",
       "      <td>9946449.0</td>\n",
       "      <td>2762.902500</td>\n",
       "      <td>115.120937</td>\n",
       "    </tr>\n",
       "    <tr>\n",
       "      <th>2019-11-08 13:08:19</th>\n",
       "      <td>11/8/2019 1:08:19 PM</td>\n",
       "      <td>256.073720</td>\n",
       "      <td>32.266950</td>\n",
       "      <td>43.518211</td>\n",
       "      <td>41.335869</td>\n",
       "      <td>18.136673</td>\n",
       "      <td>21.238785</td>\n",
       "      <td>21.621773</td>\n",
       "      <td>25.553829</td>\n",
       "      <td>24.462191</td>\n",
       "      <td>...</td>\n",
       "      <td>249952.34375</td>\n",
       "      <td>639878.0</td>\n",
       "      <td>750000.0</td>\n",
       "      <td>1920000.0</td>\n",
       "      <td>750000.0</td>\n",
       "      <td>1920000.0</td>\n",
       "      <td>20</td>\n",
       "      <td>9946539.0</td>\n",
       "      <td>2762.927500</td>\n",
       "      <td>115.121979</td>\n",
       "    </tr>\n",
       "    <tr>\n",
       "      <th>2019-11-08 13:09:49</th>\n",
       "      <td>11/8/2019 1:09:49 PM</td>\n",
       "      <td>256.073720</td>\n",
       "      <td>32.263783</td>\n",
       "      <td>43.673374</td>\n",
       "      <td>41.264149</td>\n",
       "      <td>18.077070</td>\n",
       "      <td>21.185078</td>\n",
       "      <td>21.565054</td>\n",
       "      <td>25.521906</td>\n",
       "      <td>24.435646</td>\n",
       "      <td>...</td>\n",
       "      <td>249952.34375</td>\n",
       "      <td>639878.0</td>\n",
       "      <td>750000.0</td>\n",
       "      <td>1920000.0</td>\n",
       "      <td>750000.0</td>\n",
       "      <td>1920000.0</td>\n",
       "      <td>20</td>\n",
       "      <td>9946629.0</td>\n",
       "      <td>2762.952500</td>\n",
       "      <td>115.123021</td>\n",
       "    </tr>\n",
       "    <tr>\n",
       "      <th>2019-11-08 13:11:19</th>\n",
       "      <td>11/8/2019 1:11:19 PM</td>\n",
       "      <td>256.073720</td>\n",
       "      <td>32.260217</td>\n",
       "      <td>43.681915</td>\n",
       "      <td>41.239822</td>\n",
       "      <td>18.031519</td>\n",
       "      <td>21.146538</td>\n",
       "      <td>21.583895</td>\n",
       "      <td>25.456566</td>\n",
       "      <td>24.421705</td>\n",
       "      <td>...</td>\n",
       "      <td>249952.34375</td>\n",
       "      <td>639878.0</td>\n",
       "      <td>750000.0</td>\n",
       "      <td>1920000.0</td>\n",
       "      <td>750000.0</td>\n",
       "      <td>1920000.0</td>\n",
       "      <td>20</td>\n",
       "      <td>9946719.0</td>\n",
       "      <td>2762.977500</td>\n",
       "      <td>115.124062</td>\n",
       "    </tr>\n",
       "    <tr>\n",
       "      <th>2019-11-08 13:12:49</th>\n",
       "      <td>11/8/2019 1:12:49 PM</td>\n",
       "      <td>256.073720</td>\n",
       "      <td>32.256583</td>\n",
       "      <td>43.556595</td>\n",
       "      <td>41.219410</td>\n",
       "      <td>17.979296</td>\n",
       "      <td>21.103517</td>\n",
       "      <td>21.441443</td>\n",
       "      <td>25.449053</td>\n",
       "      <td>24.398817</td>\n",
       "      <td>...</td>\n",
       "      <td>249952.34375</td>\n",
       "      <td>639878.0</td>\n",
       "      <td>750000.0</td>\n",
       "      <td>1920000.0</td>\n",
       "      <td>750000.0</td>\n",
       "      <td>1920000.0</td>\n",
       "      <td>20</td>\n",
       "      <td>9946809.0</td>\n",
       "      <td>2763.002500</td>\n",
       "      <td>115.125104</td>\n",
       "    </tr>\n",
       "    <tr>\n",
       "      <th>2019-11-08 13:14:19</th>\n",
       "      <td>11/8/2019 1:14:19 PM</td>\n",
       "      <td>256.073607</td>\n",
       "      <td>32.252650</td>\n",
       "      <td>43.429878</td>\n",
       "      <td>41.160206</td>\n",
       "      <td>17.928545</td>\n",
       "      <td>21.035002</td>\n",
       "      <td>21.346712</td>\n",
       "      <td>25.365166</td>\n",
       "      <td>24.361635</td>\n",
       "      <td>...</td>\n",
       "      <td>249952.34375</td>\n",
       "      <td>639878.0</td>\n",
       "      <td>750000.0</td>\n",
       "      <td>1920000.0</td>\n",
       "      <td>750000.0</td>\n",
       "      <td>1920000.0</td>\n",
       "      <td>20</td>\n",
       "      <td>9946899.0</td>\n",
       "      <td>2763.027500</td>\n",
       "      <td>115.126146</td>\n",
       "    </tr>\n",
       "    <tr>\n",
       "      <th>2019-11-08 13:15:49</th>\n",
       "      <td>11/8/2019 1:15:49 PM</td>\n",
       "      <td>256.073663</td>\n",
       "      <td>32.248633</td>\n",
       "      <td>43.468578</td>\n",
       "      <td>41.147694</td>\n",
       "      <td>17.879227</td>\n",
       "      <td>20.997484</td>\n",
       "      <td>21.272377</td>\n",
       "      <td>25.338043</td>\n",
       "      <td>24.337568</td>\n",
       "      <td>...</td>\n",
       "      <td>249952.34375</td>\n",
       "      <td>639878.0</td>\n",
       "      <td>750000.0</td>\n",
       "      <td>1920000.0</td>\n",
       "      <td>750100.0</td>\n",
       "      <td>1920256.0</td>\n",
       "      <td>20</td>\n",
       "      <td>9946989.0</td>\n",
       "      <td>2763.052500</td>\n",
       "      <td>115.127188</td>\n",
       "    </tr>\n",
       "    <tr>\n",
       "      <th>2019-11-08 13:17:19</th>\n",
       "      <td>11/8/2019 1:17:19 PM</td>\n",
       "      <td>256.073607</td>\n",
       "      <td>32.244700</td>\n",
       "      <td>43.508247</td>\n",
       "      <td>41.103569</td>\n",
       "      <td>17.854244</td>\n",
       "      <td>20.971790</td>\n",
       "      <td>21.274342</td>\n",
       "      <td>25.336863</td>\n",
       "      <td>24.336447</td>\n",
       "      <td>...</td>\n",
       "      <td>249952.34375</td>\n",
       "      <td>639878.0</td>\n",
       "      <td>750000.0</td>\n",
       "      <td>1920000.0</td>\n",
       "      <td>750100.0</td>\n",
       "      <td>1920256.0</td>\n",
       "      <td>20</td>\n",
       "      <td>9947079.0</td>\n",
       "      <td>2763.077500</td>\n",
       "      <td>115.128229</td>\n",
       "    </tr>\n",
       "    <tr>\n",
       "      <th>...</th>\n",
       "      <td>...</td>\n",
       "      <td>...</td>\n",
       "      <td>...</td>\n",
       "      <td>...</td>\n",
       "      <td>...</td>\n",
       "      <td>...</td>\n",
       "      <td>...</td>\n",
       "      <td>...</td>\n",
       "      <td>...</td>\n",
       "      <td>...</td>\n",
       "      <td>...</td>\n",
       "      <td>...</td>\n",
       "      <td>...</td>\n",
       "      <td>...</td>\n",
       "      <td>...</td>\n",
       "      <td>...</td>\n",
       "      <td>...</td>\n",
       "      <td>...</td>\n",
       "      <td>...</td>\n",
       "      <td>...</td>\n",
       "      <td>...</td>\n",
       "    </tr>\n",
       "    <tr>\n",
       "      <th>2019-11-11 14:11:22</th>\n",
       "      <td>11/11/2019 2:11:22 PM</td>\n",
       "      <td>256.071340</td>\n",
       "      <td>31.921950</td>\n",
       "      <td>40.839710</td>\n",
       "      <td>38.529674</td>\n",
       "      <td>15.465530</td>\n",
       "      <td>18.552206</td>\n",
       "      <td>18.871578</td>\n",
       "      <td>22.811029</td>\n",
       "      <td>20.653358</td>\n",
       "      <td>...</td>\n",
       "      <td>249952.34375</td>\n",
       "      <td>639878.0</td>\n",
       "      <td>750000.0</td>\n",
       "      <td>1920000.0</td>\n",
       "      <td>750100.0</td>\n",
       "      <td>1920256.0</td>\n",
       "      <td>20</td>\n",
       "      <td>10209522.0</td>\n",
       "      <td>2835.978333</td>\n",
       "      <td>118.165764</td>\n",
       "    </tr>\n",
       "    <tr>\n",
       "      <th>2019-11-11 14:12:52</th>\n",
       "      <td>11/11/2019 2:12:52 PM</td>\n",
       "      <td>256.071397</td>\n",
       "      <td>31.922200</td>\n",
       "      <td>40.886005</td>\n",
       "      <td>38.510147</td>\n",
       "      <td>15.460451</td>\n",
       "      <td>18.543215</td>\n",
       "      <td>18.841896</td>\n",
       "      <td>22.850061</td>\n",
       "      <td>20.642281</td>\n",
       "      <td>...</td>\n",
       "      <td>249952.34375</td>\n",
       "      <td>639878.0</td>\n",
       "      <td>750000.0</td>\n",
       "      <td>1920000.0</td>\n",
       "      <td>750100.0</td>\n",
       "      <td>1920256.0</td>\n",
       "      <td>20</td>\n",
       "      <td>10209612.0</td>\n",
       "      <td>2836.003333</td>\n",
       "      <td>118.166806</td>\n",
       "    </tr>\n",
       "    <tr>\n",
       "      <th>2019-11-11 14:14:22</th>\n",
       "      <td>11/11/2019 2:14:22 PM</td>\n",
       "      <td>256.071397</td>\n",
       "      <td>31.922583</td>\n",
       "      <td>40.771935</td>\n",
       "      <td>38.491093</td>\n",
       "      <td>15.480729</td>\n",
       "      <td>18.568615</td>\n",
       "      <td>18.869045</td>\n",
       "      <td>22.825888</td>\n",
       "      <td>20.637821</td>\n",
       "      <td>...</td>\n",
       "      <td>249952.34375</td>\n",
       "      <td>639878.0</td>\n",
       "      <td>750000.0</td>\n",
       "      <td>1920000.0</td>\n",
       "      <td>750100.0</td>\n",
       "      <td>1920256.0</td>\n",
       "      <td>20</td>\n",
       "      <td>10209702.0</td>\n",
       "      <td>2836.028333</td>\n",
       "      <td>118.167847</td>\n",
       "    </tr>\n",
       "    <tr>\n",
       "      <th>2019-11-11 14:15:52</th>\n",
       "      <td>11/11/2019 2:15:52 PM</td>\n",
       "      <td>256.071453</td>\n",
       "      <td>31.923050</td>\n",
       "      <td>40.935070</td>\n",
       "      <td>38.547939</td>\n",
       "      <td>15.476924</td>\n",
       "      <td>18.558996</td>\n",
       "      <td>18.912409</td>\n",
       "      <td>22.834084</td>\n",
       "      <td>20.645796</td>\n",
       "      <td>...</td>\n",
       "      <td>249952.34375</td>\n",
       "      <td>639878.0</td>\n",
       "      <td>750000.0</td>\n",
       "      <td>1920000.0</td>\n",
       "      <td>750100.0</td>\n",
       "      <td>1920256.0</td>\n",
       "      <td>20</td>\n",
       "      <td>10209792.0</td>\n",
       "      <td>2836.053333</td>\n",
       "      <td>118.168889</td>\n",
       "    </tr>\n",
       "    <tr>\n",
       "      <th>2019-11-11 14:17:22</th>\n",
       "      <td>11/11/2019 2:17:22 PM</td>\n",
       "      <td>256.071340</td>\n",
       "      <td>31.923033</td>\n",
       "      <td>40.922245</td>\n",
       "      <td>38.525845</td>\n",
       "      <td>15.458981</td>\n",
       "      <td>18.555916</td>\n",
       "      <td>18.836439</td>\n",
       "      <td>22.823334</td>\n",
       "      <td>20.638569</td>\n",
       "      <td>...</td>\n",
       "      <td>249952.34375</td>\n",
       "      <td>639878.0</td>\n",
       "      <td>750000.0</td>\n",
       "      <td>1920000.0</td>\n",
       "      <td>750100.0</td>\n",
       "      <td>1920256.0</td>\n",
       "      <td>20</td>\n",
       "      <td>10209882.0</td>\n",
       "      <td>2836.078333</td>\n",
       "      <td>118.169931</td>\n",
       "    </tr>\n",
       "    <tr>\n",
       "      <th>2019-11-11 14:18:52</th>\n",
       "      <td>11/11/2019 2:18:52 PM</td>\n",
       "      <td>256.071340</td>\n",
       "      <td>31.922867</td>\n",
       "      <td>40.929813</td>\n",
       "      <td>38.514610</td>\n",
       "      <td>15.442762</td>\n",
       "      <td>18.535168</td>\n",
       "      <td>18.836342</td>\n",
       "      <td>22.808476</td>\n",
       "      <td>20.644735</td>\n",
       "      <td>...</td>\n",
       "      <td>249952.34375</td>\n",
       "      <td>639878.0</td>\n",
       "      <td>750000.0</td>\n",
       "      <td>1920000.0</td>\n",
       "      <td>750100.0</td>\n",
       "      <td>1920256.0</td>\n",
       "      <td>20</td>\n",
       "      <td>10209972.0</td>\n",
       "      <td>2836.103333</td>\n",
       "      <td>118.170972</td>\n",
       "    </tr>\n",
       "    <tr>\n",
       "      <th>2019-11-11 14:20:22</th>\n",
       "      <td>11/11/2019 2:20:22 PM</td>\n",
       "      <td>256.071340</td>\n",
       "      <td>31.922617</td>\n",
       "      <td>40.936237</td>\n",
       "      <td>38.498970</td>\n",
       "      <td>15.446587</td>\n",
       "      <td>18.550478</td>\n",
       "      <td>18.811451</td>\n",
       "      <td>22.820110</td>\n",
       "      <td>20.645010</td>\n",
       "      <td>...</td>\n",
       "      <td>249952.34375</td>\n",
       "      <td>639878.0</td>\n",
       "      <td>750000.0</td>\n",
       "      <td>1920000.0</td>\n",
       "      <td>750100.0</td>\n",
       "      <td>1920256.0</td>\n",
       "      <td>20</td>\n",
       "      <td>10210062.0</td>\n",
       "      <td>2836.128333</td>\n",
       "      <td>118.172014</td>\n",
       "    </tr>\n",
       "    <tr>\n",
       "      <th>2019-11-11 14:21:52</th>\n",
       "      <td>11/11/2019 2:21:52 PM</td>\n",
       "      <td>256.071340</td>\n",
       "      <td>31.922433</td>\n",
       "      <td>40.902329</td>\n",
       "      <td>38.520336</td>\n",
       "      <td>15.454863</td>\n",
       "      <td>18.549988</td>\n",
       "      <td>18.836695</td>\n",
       "      <td>22.809929</td>\n",
       "      <td>20.640945</td>\n",
       "      <td>...</td>\n",
       "      <td>249952.34375</td>\n",
       "      <td>639878.0</td>\n",
       "      <td>750000.0</td>\n",
       "      <td>1920000.0</td>\n",
       "      <td>750100.0</td>\n",
       "      <td>1920256.0</td>\n",
       "      <td>20</td>\n",
       "      <td>10210152.0</td>\n",
       "      <td>2836.153333</td>\n",
       "      <td>118.173056</td>\n",
       "    </tr>\n",
       "    <tr>\n",
       "      <th>2019-11-11 14:23:22</th>\n",
       "      <td>11/11/2019 2:23:22 PM</td>\n",
       "      <td>256.071340</td>\n",
       "      <td>31.922317</td>\n",
       "      <td>40.926868</td>\n",
       "      <td>38.499783</td>\n",
       "      <td>15.446273</td>\n",
       "      <td>18.536875</td>\n",
       "      <td>18.854322</td>\n",
       "      <td>22.815197</td>\n",
       "      <td>20.645561</td>\n",
       "      <td>...</td>\n",
       "      <td>249952.34375</td>\n",
       "      <td>639878.0</td>\n",
       "      <td>750000.0</td>\n",
       "      <td>1920000.0</td>\n",
       "      <td>750100.0</td>\n",
       "      <td>1920256.0</td>\n",
       "      <td>20</td>\n",
       "      <td>10210242.0</td>\n",
       "      <td>2836.178333</td>\n",
       "      <td>118.174097</td>\n",
       "    </tr>\n",
       "    <tr>\n",
       "      <th>2019-11-11 14:24:52</th>\n",
       "      <td>11/11/2019 2:24:52 PM</td>\n",
       "      <td>256.071283</td>\n",
       "      <td>31.922100</td>\n",
       "      <td>40.895351</td>\n",
       "      <td>38.513542</td>\n",
       "      <td>15.439155</td>\n",
       "      <td>18.532538</td>\n",
       "      <td>18.874464</td>\n",
       "      <td>22.812189</td>\n",
       "      <td>20.641514</td>\n",
       "      <td>...</td>\n",
       "      <td>249952.34375</td>\n",
       "      <td>639878.0</td>\n",
       "      <td>750000.0</td>\n",
       "      <td>1920000.0</td>\n",
       "      <td>750100.0</td>\n",
       "      <td>1920256.0</td>\n",
       "      <td>20</td>\n",
       "      <td>10210332.0</td>\n",
       "      <td>2836.203333</td>\n",
       "      <td>118.175139</td>\n",
       "    </tr>\n",
       "    <tr>\n",
       "      <th>2019-11-11 14:26:22</th>\n",
       "      <td>11/11/2019 2:26:22 PM</td>\n",
       "      <td>256.071283</td>\n",
       "      <td>31.921783</td>\n",
       "      <td>40.820938</td>\n",
       "      <td>38.480885</td>\n",
       "      <td>15.445489</td>\n",
       "      <td>18.544001</td>\n",
       "      <td>18.954203</td>\n",
       "      <td>22.798512</td>\n",
       "      <td>20.634621</td>\n",
       "      <td>...</td>\n",
       "      <td>249952.34375</td>\n",
       "      <td>639878.0</td>\n",
       "      <td>750000.0</td>\n",
       "      <td>1920000.0</td>\n",
       "      <td>750100.0</td>\n",
       "      <td>1920256.0</td>\n",
       "      <td>20</td>\n",
       "      <td>10210422.0</td>\n",
       "      <td>2836.228333</td>\n",
       "      <td>118.176181</td>\n",
       "    </tr>\n",
       "    <tr>\n",
       "      <th>2019-11-11 14:27:52</th>\n",
       "      <td>11/11/2019 2:27:52 PM</td>\n",
       "      <td>256.071340</td>\n",
       "      <td>31.921533</td>\n",
       "      <td>40.896202</td>\n",
       "      <td>38.498222</td>\n",
       "      <td>15.439567</td>\n",
       "      <td>18.536600</td>\n",
       "      <td>18.814591</td>\n",
       "      <td>22.800417</td>\n",
       "      <td>20.646719</td>\n",
       "      <td>...</td>\n",
       "      <td>249952.34375</td>\n",
       "      <td>639878.0</td>\n",
       "      <td>750000.0</td>\n",
       "      <td>1920000.0</td>\n",
       "      <td>750100.0</td>\n",
       "      <td>1920256.0</td>\n",
       "      <td>20</td>\n",
       "      <td>10210512.0</td>\n",
       "      <td>2836.253333</td>\n",
       "      <td>118.177222</td>\n",
       "    </tr>\n",
       "    <tr>\n",
       "      <th>2019-11-11 14:29:22</th>\n",
       "      <td>11/11/2019 2:29:22 PM</td>\n",
       "      <td>256.071340</td>\n",
       "      <td>31.921267</td>\n",
       "      <td>40.818092</td>\n",
       "      <td>38.498913</td>\n",
       "      <td>15.435546</td>\n",
       "      <td>18.534460</td>\n",
       "      <td>18.860859</td>\n",
       "      <td>22.805468</td>\n",
       "      <td>20.640335</td>\n",
       "      <td>...</td>\n",
       "      <td>249952.34375</td>\n",
       "      <td>639878.0</td>\n",
       "      <td>750000.0</td>\n",
       "      <td>1920000.0</td>\n",
       "      <td>750100.0</td>\n",
       "      <td>1920256.0</td>\n",
       "      <td>20</td>\n",
       "      <td>10210602.0</td>\n",
       "      <td>2836.278333</td>\n",
       "      <td>118.178264</td>\n",
       "    </tr>\n",
       "    <tr>\n",
       "      <th>2019-11-11 14:30:52</th>\n",
       "      <td>11/11/2019 2:30:52 PM</td>\n",
       "      <td>256.071340</td>\n",
       "      <td>31.921100</td>\n",
       "      <td>40.895470</td>\n",
       "      <td>38.503452</td>\n",
       "      <td>15.430996</td>\n",
       "      <td>18.531006</td>\n",
       "      <td>18.852222</td>\n",
       "      <td>22.806982</td>\n",
       "      <td>20.640297</td>\n",
       "      <td>...</td>\n",
       "      <td>249952.34375</td>\n",
       "      <td>639878.0</td>\n",
       "      <td>750000.0</td>\n",
       "      <td>1920000.0</td>\n",
       "      <td>750100.0</td>\n",
       "      <td>1920256.0</td>\n",
       "      <td>20</td>\n",
       "      <td>10210692.0</td>\n",
       "      <td>2836.303333</td>\n",
       "      <td>118.179306</td>\n",
       "    </tr>\n",
       "    <tr>\n",
       "      <th>2019-11-11 14:32:22</th>\n",
       "      <td>11/11/2019 2:32:22 PM</td>\n",
       "      <td>256.071340</td>\n",
       "      <td>31.921333</td>\n",
       "      <td>40.922916</td>\n",
       "      <td>38.470833</td>\n",
       "      <td>15.448450</td>\n",
       "      <td>18.549673</td>\n",
       "      <td>18.806856</td>\n",
       "      <td>22.817221</td>\n",
       "      <td>20.631714</td>\n",
       "      <td>...</td>\n",
       "      <td>249952.34375</td>\n",
       "      <td>639878.0</td>\n",
       "      <td>750000.0</td>\n",
       "      <td>1920000.0</td>\n",
       "      <td>750100.0</td>\n",
       "      <td>1920256.0</td>\n",
       "      <td>20</td>\n",
       "      <td>10210782.0</td>\n",
       "      <td>2836.328333</td>\n",
       "      <td>118.180347</td>\n",
       "    </tr>\n",
       "    <tr>\n",
       "      <th>2019-11-11 14:33:52</th>\n",
       "      <td>11/11/2019 2:33:52 PM</td>\n",
       "      <td>256.071340</td>\n",
       "      <td>31.921650</td>\n",
       "      <td>40.866840</td>\n",
       "      <td>38.491249</td>\n",
       "      <td>15.452176</td>\n",
       "      <td>18.543764</td>\n",
       "      <td>18.881786</td>\n",
       "      <td>22.822979</td>\n",
       "      <td>20.636938</td>\n",
       "      <td>...</td>\n",
       "      <td>249952.34375</td>\n",
       "      <td>639878.0</td>\n",
       "      <td>750000.0</td>\n",
       "      <td>1920000.0</td>\n",
       "      <td>750100.0</td>\n",
       "      <td>1920256.0</td>\n",
       "      <td>20</td>\n",
       "      <td>10210872.0</td>\n",
       "      <td>2836.353333</td>\n",
       "      <td>118.181389</td>\n",
       "    </tr>\n",
       "    <tr>\n",
       "      <th>2019-11-11 14:35:22</th>\n",
       "      <td>11/11/2019 2:35:22 PM</td>\n",
       "      <td>256.071340</td>\n",
       "      <td>31.921783</td>\n",
       "      <td>40.898556</td>\n",
       "      <td>38.484516</td>\n",
       "      <td>15.430682</td>\n",
       "      <td>18.520288</td>\n",
       "      <td>18.807779</td>\n",
       "      <td>22.820326</td>\n",
       "      <td>20.637842</td>\n",
       "      <td>...</td>\n",
       "      <td>249952.34375</td>\n",
       "      <td>639878.0</td>\n",
       "      <td>750000.0</td>\n",
       "      <td>1920000.0</td>\n",
       "      <td>750100.0</td>\n",
       "      <td>1920256.0</td>\n",
       "      <td>20</td>\n",
       "      <td>10210962.0</td>\n",
       "      <td>2836.378333</td>\n",
       "      <td>118.182431</td>\n",
       "    </tr>\n",
       "    <tr>\n",
       "      <th>2019-11-11 14:36:52</th>\n",
       "      <td>11/11/2019 2:36:52 PM</td>\n",
       "      <td>256.071283</td>\n",
       "      <td>31.921583</td>\n",
       "      <td>40.954079</td>\n",
       "      <td>38.486275</td>\n",
       "      <td>15.435291</td>\n",
       "      <td>18.517324</td>\n",
       "      <td>18.956305</td>\n",
       "      <td>22.790512</td>\n",
       "      <td>20.637920</td>\n",
       "      <td>...</td>\n",
       "      <td>249952.34375</td>\n",
       "      <td>639878.0</td>\n",
       "      <td>750000.0</td>\n",
       "      <td>1920000.0</td>\n",
       "      <td>750100.0</td>\n",
       "      <td>1920256.0</td>\n",
       "      <td>20</td>\n",
       "      <td>10211052.0</td>\n",
       "      <td>2836.403333</td>\n",
       "      <td>118.183472</td>\n",
       "    </tr>\n",
       "    <tr>\n",
       "      <th>2019-11-11 14:38:22</th>\n",
       "      <td>11/11/2019 2:38:22 PM</td>\n",
       "      <td>256.071170</td>\n",
       "      <td>31.921317</td>\n",
       "      <td>40.849648</td>\n",
       "      <td>38.489731</td>\n",
       "      <td>15.431918</td>\n",
       "      <td>18.527533</td>\n",
       "      <td>18.923933</td>\n",
       "      <td>22.809988</td>\n",
       "      <td>20.637213</td>\n",
       "      <td>...</td>\n",
       "      <td>249952.34375</td>\n",
       "      <td>639878.0</td>\n",
       "      <td>750000.0</td>\n",
       "      <td>1920000.0</td>\n",
       "      <td>750100.0</td>\n",
       "      <td>1920256.0</td>\n",
       "      <td>20</td>\n",
       "      <td>10211142.0</td>\n",
       "      <td>2836.428333</td>\n",
       "      <td>118.184514</td>\n",
       "    </tr>\n",
       "    <tr>\n",
       "      <th>2019-11-11 14:39:52</th>\n",
       "      <td>11/11/2019 2:39:52 PM</td>\n",
       "      <td>256.071340</td>\n",
       "      <td>31.921000</td>\n",
       "      <td>40.885414</td>\n",
       "      <td>38.482719</td>\n",
       "      <td>15.435134</td>\n",
       "      <td>18.525745</td>\n",
       "      <td>18.914000</td>\n",
       "      <td>22.801243</td>\n",
       "      <td>20.645639</td>\n",
       "      <td>...</td>\n",
       "      <td>249952.34375</td>\n",
       "      <td>639878.0</td>\n",
       "      <td>750000.0</td>\n",
       "      <td>1920000.0</td>\n",
       "      <td>750100.0</td>\n",
       "      <td>1920256.0</td>\n",
       "      <td>20</td>\n",
       "      <td>10211232.0</td>\n",
       "      <td>2836.453333</td>\n",
       "      <td>118.185556</td>\n",
       "    </tr>\n",
       "    <tr>\n",
       "      <th>2019-11-11 14:41:22</th>\n",
       "      <td>11/11/2019 2:41:22 PM</td>\n",
       "      <td>256.071113</td>\n",
       "      <td>31.920883</td>\n",
       "      <td>40.713825</td>\n",
       "      <td>38.477528</td>\n",
       "      <td>15.438409</td>\n",
       "      <td>18.531183</td>\n",
       "      <td>18.892406</td>\n",
       "      <td>22.817635</td>\n",
       "      <td>20.640690</td>\n",
       "      <td>...</td>\n",
       "      <td>249952.34375</td>\n",
       "      <td>639878.0</td>\n",
       "      <td>750000.0</td>\n",
       "      <td>1920000.0</td>\n",
       "      <td>750100.0</td>\n",
       "      <td>1920256.0</td>\n",
       "      <td>20</td>\n",
       "      <td>10211322.0</td>\n",
       "      <td>2836.478333</td>\n",
       "      <td>118.186597</td>\n",
       "    </tr>\n",
       "    <tr>\n",
       "      <th>2019-11-11 14:42:52</th>\n",
       "      <td>11/11/2019 2:42:52 PM</td>\n",
       "      <td>256.071340</td>\n",
       "      <td>31.920783</td>\n",
       "      <td>40.867928</td>\n",
       "      <td>38.491726</td>\n",
       "      <td>15.439370</td>\n",
       "      <td>18.529299</td>\n",
       "      <td>18.912350</td>\n",
       "      <td>22.814863</td>\n",
       "      <td>20.638451</td>\n",
       "      <td>...</td>\n",
       "      <td>249952.34375</td>\n",
       "      <td>639878.0</td>\n",
       "      <td>750000.0</td>\n",
       "      <td>1920000.0</td>\n",
       "      <td>750100.0</td>\n",
       "      <td>1920256.0</td>\n",
       "      <td>20</td>\n",
       "      <td>10211412.0</td>\n",
       "      <td>2836.503333</td>\n",
       "      <td>118.187639</td>\n",
       "    </tr>\n",
       "    <tr>\n",
       "      <th>2019-11-11 14:44:22</th>\n",
       "      <td>11/11/2019 2:44:22 PM</td>\n",
       "      <td>256.071227</td>\n",
       "      <td>31.920633</td>\n",
       "      <td>40.835068</td>\n",
       "      <td>38.488426</td>\n",
       "      <td>15.432585</td>\n",
       "      <td>18.522154</td>\n",
       "      <td>18.828724</td>\n",
       "      <td>22.813074</td>\n",
       "      <td>20.636505</td>\n",
       "      <td>...</td>\n",
       "      <td>249952.34375</td>\n",
       "      <td>639878.0</td>\n",
       "      <td>750000.0</td>\n",
       "      <td>1920000.0</td>\n",
       "      <td>750100.0</td>\n",
       "      <td>1920256.0</td>\n",
       "      <td>20</td>\n",
       "      <td>10211502.0</td>\n",
       "      <td>2836.528333</td>\n",
       "      <td>118.188681</td>\n",
       "    </tr>\n",
       "    <tr>\n",
       "      <th>2019-11-11 14:45:52</th>\n",
       "      <td>11/11/2019 2:45:52 PM</td>\n",
       "      <td>256.071227</td>\n",
       "      <td>31.920500</td>\n",
       "      <td>40.856918</td>\n",
       "      <td>38.482128</td>\n",
       "      <td>15.437193</td>\n",
       "      <td>18.523193</td>\n",
       "      <td>18.819832</td>\n",
       "      <td>22.803640</td>\n",
       "      <td>20.644186</td>\n",
       "      <td>...</td>\n",
       "      <td>249952.34375</td>\n",
       "      <td>639878.0</td>\n",
       "      <td>750000.0</td>\n",
       "      <td>1920000.0</td>\n",
       "      <td>750100.0</td>\n",
       "      <td>1920256.0</td>\n",
       "      <td>20</td>\n",
       "      <td>10211592.0</td>\n",
       "      <td>2836.553333</td>\n",
       "      <td>118.189722</td>\n",
       "    </tr>\n",
       "    <tr>\n",
       "      <th>2019-11-11 14:47:22</th>\n",
       "      <td>11/11/2019 2:47:22 PM</td>\n",
       "      <td>256.071057</td>\n",
       "      <td>31.920383</td>\n",
       "      <td>40.877449</td>\n",
       "      <td>38.482029</td>\n",
       "      <td>15.454196</td>\n",
       "      <td>18.536953</td>\n",
       "      <td>18.884258</td>\n",
       "      <td>22.808201</td>\n",
       "      <td>20.636055</td>\n",
       "      <td>...</td>\n",
       "      <td>249952.34375</td>\n",
       "      <td>639878.0</td>\n",
       "      <td>750000.0</td>\n",
       "      <td>1920000.0</td>\n",
       "      <td>750100.0</td>\n",
       "      <td>1920256.0</td>\n",
       "      <td>20</td>\n",
       "      <td>10211682.0</td>\n",
       "      <td>2836.578333</td>\n",
       "      <td>118.190764</td>\n",
       "    </tr>\n",
       "    <tr>\n",
       "      <th>2019-11-11 14:48:52</th>\n",
       "      <td>11/11/2019 2:48:52 PM</td>\n",
       "      <td>256.071340</td>\n",
       "      <td>31.920417</td>\n",
       "      <td>40.893318</td>\n",
       "      <td>38.524956</td>\n",
       "      <td>15.444567</td>\n",
       "      <td>18.530869</td>\n",
       "      <td>18.914156</td>\n",
       "      <td>22.795366</td>\n",
       "      <td>20.631105</td>\n",
       "      <td>...</td>\n",
       "      <td>249952.34375</td>\n",
       "      <td>639878.0</td>\n",
       "      <td>750000.0</td>\n",
       "      <td>1920000.0</td>\n",
       "      <td>750100.0</td>\n",
       "      <td>1920256.0</td>\n",
       "      <td>20</td>\n",
       "      <td>10211772.0</td>\n",
       "      <td>2836.603333</td>\n",
       "      <td>118.191806</td>\n",
       "    </tr>\n",
       "    <tr>\n",
       "      <th>2019-11-11 14:50:22</th>\n",
       "      <td>11/11/2019 2:50:22 PM</td>\n",
       "      <td>256.071340</td>\n",
       "      <td>31.920767</td>\n",
       "      <td>40.868797</td>\n",
       "      <td>38.519920</td>\n",
       "      <td>15.475002</td>\n",
       "      <td>18.563158</td>\n",
       "      <td>18.856600</td>\n",
       "      <td>22.825909</td>\n",
       "      <td>20.630339</td>\n",
       "      <td>...</td>\n",
       "      <td>249952.34375</td>\n",
       "      <td>639878.0</td>\n",
       "      <td>750000.0</td>\n",
       "      <td>1920000.0</td>\n",
       "      <td>750100.0</td>\n",
       "      <td>1920256.0</td>\n",
       "      <td>20</td>\n",
       "      <td>10211862.0</td>\n",
       "      <td>2836.628333</td>\n",
       "      <td>118.192847</td>\n",
       "    </tr>\n",
       "    <tr>\n",
       "      <th>2019-11-11 14:51:52</th>\n",
       "      <td>11/11/2019 2:51:52 PM</td>\n",
       "      <td>256.071283</td>\n",
       "      <td>31.921467</td>\n",
       "      <td>40.909718</td>\n",
       "      <td>38.472057</td>\n",
       "      <td>15.467217</td>\n",
       "      <td>18.551891</td>\n",
       "      <td>18.827036</td>\n",
       "      <td>22.838644</td>\n",
       "      <td>20.641142</td>\n",
       "      <td>...</td>\n",
       "      <td>249952.34375</td>\n",
       "      <td>639878.0</td>\n",
       "      <td>750000.0</td>\n",
       "      <td>1920000.0</td>\n",
       "      <td>750100.0</td>\n",
       "      <td>1920256.0</td>\n",
       "      <td>20</td>\n",
       "      <td>10211952.0</td>\n",
       "      <td>2836.653333</td>\n",
       "      <td>118.193889</td>\n",
       "    </tr>\n",
       "    <tr>\n",
       "      <th>2019-11-11 14:53:22</th>\n",
       "      <td>11/11/2019 2:53:22 PM</td>\n",
       "      <td>256.071340</td>\n",
       "      <td>31.922000</td>\n",
       "      <td>40.858322</td>\n",
       "      <td>38.499187</td>\n",
       "      <td>15.458490</td>\n",
       "      <td>18.542410</td>\n",
       "      <td>18.920380</td>\n",
       "      <td>22.816887</td>\n",
       "      <td>20.639355</td>\n",
       "      <td>...</td>\n",
       "      <td>249952.34375</td>\n",
       "      <td>639878.0</td>\n",
       "      <td>750000.0</td>\n",
       "      <td>1920000.0</td>\n",
       "      <td>750100.0</td>\n",
       "      <td>1920256.0</td>\n",
       "      <td>20</td>\n",
       "      <td>10212042.0</td>\n",
       "      <td>2836.678333</td>\n",
       "      <td>118.194931</td>\n",
       "    </tr>\n",
       "    <tr>\n",
       "      <th>2019-11-11 14:54:52</th>\n",
       "      <td>11/11/2019 2:54:52 PM</td>\n",
       "      <td>256.071340</td>\n",
       "      <td>31.922083</td>\n",
       "      <td>40.841190</td>\n",
       "      <td>38.514195</td>\n",
       "      <td>15.459725</td>\n",
       "      <td>18.562628</td>\n",
       "      <td>18.922794</td>\n",
       "      <td>22.818243</td>\n",
       "      <td>20.627647</td>\n",
       "      <td>...</td>\n",
       "      <td>249952.34375</td>\n",
       "      <td>639878.0</td>\n",
       "      <td>750000.0</td>\n",
       "      <td>1920000.0</td>\n",
       "      <td>750100.0</td>\n",
       "      <td>1920256.0</td>\n",
       "      <td>20</td>\n",
       "      <td>10212132.0</td>\n",
       "      <td>2836.703333</td>\n",
       "      <td>118.195972</td>\n",
       "    </tr>\n",
       "  </tbody>\n",
       "</table>\n",
       "<p>2975 rows × 55 columns</p>\n",
       "</div>"
      ],
      "text/plain": [
       "                                      Time  Magnet Current [A]  \\\n",
       "Datetime                                                         \n",
       "2019-11-08 12:33:49  11/8/2019 12:33:49 PM          256.074400   \n",
       "2019-11-08 12:35:19  11/8/2019 12:35:19 PM          256.074400   \n",
       "2019-11-08 12:36:49  11/8/2019 12:36:49 PM          256.074400   \n",
       "2019-11-08 12:38:19  11/8/2019 12:38:19 PM          256.074400   \n",
       "2019-11-08 12:39:49  11/8/2019 12:39:49 PM          256.074400   \n",
       "2019-11-08 12:41:19  11/8/2019 12:41:19 PM          256.074513   \n",
       "2019-11-08 12:42:49  11/8/2019 12:42:49 PM          256.074513   \n",
       "2019-11-08 12:44:19  11/8/2019 12:44:19 PM          256.074740   \n",
       "2019-11-08 12:45:49  11/8/2019 12:45:49 PM          256.074570   \n",
       "2019-11-08 12:47:20  11/8/2019 12:47:20 PM          256.074513   \n",
       "2019-11-08 12:48:49  11/8/2019 12:48:49 PM          256.074457   \n",
       "2019-11-08 12:50:19  11/8/2019 12:50:19 PM          256.074400   \n",
       "2019-11-08 12:51:49  11/8/2019 12:51:49 PM          256.074287   \n",
       "2019-11-08 12:53:19  11/8/2019 12:53:19 PM          256.074173   \n",
       "2019-11-08 12:54:49  11/8/2019 12:54:49 PM          256.074287   \n",
       "2019-11-08 12:56:19  11/8/2019 12:56:19 PM          256.074173   \n",
       "2019-11-08 12:57:49  11/8/2019 12:57:49 PM          256.074060   \n",
       "2019-11-08 12:59:19  11/8/2019 12:59:19 PM          256.074060   \n",
       "2019-11-08 13:00:49   11/8/2019 1:00:49 PM          256.074060   \n",
       "2019-11-08 13:02:19   11/8/2019 1:02:19 PM          256.074060   \n",
       "2019-11-08 13:03:49   11/8/2019 1:03:49 PM          256.074060   \n",
       "2019-11-08 13:05:19   11/8/2019 1:05:19 PM          256.073947   \n",
       "2019-11-08 13:06:49   11/8/2019 1:06:49 PM          256.073947   \n",
       "2019-11-08 13:08:19   11/8/2019 1:08:19 PM          256.073720   \n",
       "2019-11-08 13:09:49   11/8/2019 1:09:49 PM          256.073720   \n",
       "2019-11-08 13:11:19   11/8/2019 1:11:19 PM          256.073720   \n",
       "2019-11-08 13:12:49   11/8/2019 1:12:49 PM          256.073720   \n",
       "2019-11-08 13:14:19   11/8/2019 1:14:19 PM          256.073607   \n",
       "2019-11-08 13:15:49   11/8/2019 1:15:49 PM          256.073663   \n",
       "2019-11-08 13:17:19   11/8/2019 1:17:19 PM          256.073607   \n",
       "...                                    ...                 ...   \n",
       "2019-11-11 14:11:22  11/11/2019 2:11:22 PM          256.071340   \n",
       "2019-11-11 14:12:52  11/11/2019 2:12:52 PM          256.071397   \n",
       "2019-11-11 14:14:22  11/11/2019 2:14:22 PM          256.071397   \n",
       "2019-11-11 14:15:52  11/11/2019 2:15:52 PM          256.071453   \n",
       "2019-11-11 14:17:22  11/11/2019 2:17:22 PM          256.071340   \n",
       "2019-11-11 14:18:52  11/11/2019 2:18:52 PM          256.071340   \n",
       "2019-11-11 14:20:22  11/11/2019 2:20:22 PM          256.071340   \n",
       "2019-11-11 14:21:52  11/11/2019 2:21:52 PM          256.071340   \n",
       "2019-11-11 14:23:22  11/11/2019 2:23:22 PM          256.071340   \n",
       "2019-11-11 14:24:52  11/11/2019 2:24:52 PM          256.071283   \n",
       "2019-11-11 14:26:22  11/11/2019 2:26:22 PM          256.071283   \n",
       "2019-11-11 14:27:52  11/11/2019 2:27:52 PM          256.071340   \n",
       "2019-11-11 14:29:22  11/11/2019 2:29:22 PM          256.071340   \n",
       "2019-11-11 14:30:52  11/11/2019 2:30:52 PM          256.071340   \n",
       "2019-11-11 14:32:22  11/11/2019 2:32:22 PM          256.071340   \n",
       "2019-11-11 14:33:52  11/11/2019 2:33:52 PM          256.071340   \n",
       "2019-11-11 14:35:22  11/11/2019 2:35:22 PM          256.071340   \n",
       "2019-11-11 14:36:52  11/11/2019 2:36:52 PM          256.071283   \n",
       "2019-11-11 14:38:22  11/11/2019 2:38:22 PM          256.071170   \n",
       "2019-11-11 14:39:52  11/11/2019 2:39:52 PM          256.071340   \n",
       "2019-11-11 14:41:22  11/11/2019 2:41:22 PM          256.071113   \n",
       "2019-11-11 14:42:52  11/11/2019 2:42:52 PM          256.071340   \n",
       "2019-11-11 14:44:22  11/11/2019 2:44:22 PM          256.071227   \n",
       "2019-11-11 14:45:52  11/11/2019 2:45:52 PM          256.071227   \n",
       "2019-11-11 14:47:22  11/11/2019 2:47:22 PM          256.071057   \n",
       "2019-11-11 14:48:52  11/11/2019 2:48:52 PM          256.071340   \n",
       "2019-11-11 14:50:22  11/11/2019 2:50:22 PM          256.071340   \n",
       "2019-11-11 14:51:52  11/11/2019 2:51:52 PM          256.071283   \n",
       "2019-11-11 14:53:22  11/11/2019 2:53:22 PM          256.071340   \n",
       "2019-11-11 14:54:52  11/11/2019 2:54:52 PM          256.071340   \n",
       "\n",
       "                     Magnet Voltage [V]  Coil 1 (new)  Coil 2 (old)  \\\n",
       "Datetime                                                              \n",
       "2019-11-08 12:33:49           31.276900     35.151032     34.447445   \n",
       "2019-11-08 12:35:19           31.432483     36.439224     35.549778   \n",
       "2019-11-08 12:36:49           31.567833     37.553742     36.548729   \n",
       "2019-11-08 12:38:19           31.685683     38.551891     37.365566   \n",
       "2019-11-08 12:39:49           31.789067     39.414150     38.138889   \n",
       "2019-11-08 12:41:19           31.879683     40.198971     38.786617   \n",
       "2019-11-08 12:42:49           31.959100     40.846626     39.348164   \n",
       "2019-11-08 12:44:19           32.028283     41.382408     39.787960   \n",
       "2019-11-08 12:45:49           32.087417     41.831230     40.215427   \n",
       "2019-11-08 12:47:20           32.136950     42.282227     40.568542   \n",
       "2019-11-08 12:48:49           32.176400     42.660767     40.882866   \n",
       "2019-11-08 12:50:19           32.207117     42.955929     41.090328   \n",
       "2019-11-08 12:51:49           32.229550     43.183609     41.240398   \n",
       "2019-11-08 12:53:19           32.245467     43.414532     41.318398   \n",
       "2019-11-08 12:54:49           32.256600     43.490547     41.393040   \n",
       "2019-11-08 12:56:19           32.263983     43.630775     41.431618   \n",
       "2019-11-08 12:57:49           32.268700     43.637421     41.447311   \n",
       "2019-11-08 12:59:19           32.271283     43.640072     41.443653   \n",
       "2019-11-08 13:00:49           32.272650     43.716701     41.453930   \n",
       "2019-11-08 13:02:19           32.273383     43.698826     41.430668   \n",
       "2019-11-08 13:03:49           32.273067     43.731041     41.408337   \n",
       "2019-11-08 13:05:19           32.271733     43.761437     41.391540   \n",
       "2019-11-08 13:06:49           32.269650     43.668369     41.313221   \n",
       "2019-11-08 13:08:19           32.266950     43.518211     41.335869   \n",
       "2019-11-08 13:09:49           32.263783     43.673374     41.264149   \n",
       "2019-11-08 13:11:19           32.260217     43.681915     41.239822   \n",
       "2019-11-08 13:12:49           32.256583     43.556595     41.219410   \n",
       "2019-11-08 13:14:19           32.252650     43.429878     41.160206   \n",
       "2019-11-08 13:15:49           32.248633     43.468578     41.147694   \n",
       "2019-11-08 13:17:19           32.244700     43.508247     41.103569   \n",
       "...                                 ...           ...           ...   \n",
       "2019-11-11 14:11:22           31.921950     40.839710     38.529674   \n",
       "2019-11-11 14:12:52           31.922200     40.886005     38.510147   \n",
       "2019-11-11 14:14:22           31.922583     40.771935     38.491093   \n",
       "2019-11-11 14:15:52           31.923050     40.935070     38.547939   \n",
       "2019-11-11 14:17:22           31.923033     40.922245     38.525845   \n",
       "2019-11-11 14:18:52           31.922867     40.929813     38.514610   \n",
       "2019-11-11 14:20:22           31.922617     40.936237     38.498970   \n",
       "2019-11-11 14:21:52           31.922433     40.902329     38.520336   \n",
       "2019-11-11 14:23:22           31.922317     40.926868     38.499783   \n",
       "2019-11-11 14:24:52           31.922100     40.895351     38.513542   \n",
       "2019-11-11 14:26:22           31.921783     40.820938     38.480885   \n",
       "2019-11-11 14:27:52           31.921533     40.896202     38.498222   \n",
       "2019-11-11 14:29:22           31.921267     40.818092     38.498913   \n",
       "2019-11-11 14:30:52           31.921100     40.895470     38.503452   \n",
       "2019-11-11 14:32:22           31.921333     40.922916     38.470833   \n",
       "2019-11-11 14:33:52           31.921650     40.866840     38.491249   \n",
       "2019-11-11 14:35:22           31.921783     40.898556     38.484516   \n",
       "2019-11-11 14:36:52           31.921583     40.954079     38.486275   \n",
       "2019-11-11 14:38:22           31.921317     40.849648     38.489731   \n",
       "2019-11-11 14:39:52           31.921000     40.885414     38.482719   \n",
       "2019-11-11 14:41:22           31.920883     40.713825     38.477528   \n",
       "2019-11-11 14:42:52           31.920783     40.867928     38.491726   \n",
       "2019-11-11 14:44:22           31.920633     40.835068     38.488426   \n",
       "2019-11-11 14:45:52           31.920500     40.856918     38.482128   \n",
       "2019-11-11 14:47:22           31.920383     40.877449     38.482029   \n",
       "2019-11-11 14:48:52           31.920417     40.893318     38.524956   \n",
       "2019-11-11 14:50:22           31.920767     40.868797     38.519920   \n",
       "2019-11-11 14:51:52           31.921467     40.909718     38.472057   \n",
       "2019-11-11 14:53:22           31.922000     40.858322     38.499187   \n",
       "2019-11-11 14:54:52           31.922083     40.841190     38.514195   \n",
       "\n",
       "                     LCW in Coil1  LCW out Coil 1  LCW in Coil 2  \\\n",
       "Datetime                                                           \n",
       "2019-11-08 12:33:49     19.959066       21.814058      22.372099   \n",
       "2019-11-08 12:35:19     19.981903       21.998850      22.456932   \n",
       "2019-11-08 12:36:49     20.034805       22.191668      22.610453   \n",
       "2019-11-08 12:38:19     20.093031       22.362549      22.723967   \n",
       "2019-11-08 12:39:49     20.141634       22.508911      22.888407   \n",
       "2019-11-08 12:41:19     20.185642       22.637867      22.971603   \n",
       "2019-11-08 12:42:49     20.211172       22.752817      23.062761   \n",
       "2019-11-08 12:44:19     20.184837       22.803463      23.096254   \n",
       "2019-11-08 12:45:49     20.086845       22.786444      23.122650   \n",
       "2019-11-08 12:47:20     19.908304       22.676270      22.985617   \n",
       "2019-11-08 12:48:49     19.693390       22.541414      22.865452   \n",
       "2019-11-08 12:50:19     19.420961       22.345530      22.690025   \n",
       "2019-11-08 12:51:49     19.144276       22.124369      22.466267   \n",
       "2019-11-08 12:53:19     18.930332       21.937763      22.245804   \n",
       "2019-11-08 12:54:49     18.773270       21.808617      22.183495   \n",
       "2019-11-08 12:56:19     18.647621       21.710241      22.113914   \n",
       "2019-11-08 12:57:49     18.553127       21.620632      22.068800   \n",
       "2019-11-08 12:59:19     18.453749       21.550732      21.939177   \n",
       "2019-11-08 13:00:49     18.399792       21.483740      21.842686   \n",
       "2019-11-08 13:02:19     18.338436       21.429359      21.741324   \n",
       "2019-11-08 13:03:49     18.308270       21.409086      21.777258   \n",
       "2019-11-08 13:05:19     18.225445       21.344021      21.713209   \n",
       "2019-11-08 13:06:49     18.178850       21.290529      21.612658   \n",
       "2019-11-08 13:08:19     18.136673       21.238785      21.621773   \n",
       "2019-11-08 13:09:49     18.077070       21.185078      21.565054   \n",
       "2019-11-08 13:11:19     18.031519       21.146538      21.583895   \n",
       "2019-11-08 13:12:49     17.979296       21.103517      21.441443   \n",
       "2019-11-08 13:14:19     17.928545       21.035002      21.346712   \n",
       "2019-11-08 13:15:49     17.879227       20.997484      21.272377   \n",
       "2019-11-08 13:17:19     17.854244       20.971790      21.274342   \n",
       "...                           ...             ...            ...   \n",
       "2019-11-11 14:11:22     15.465530       18.552206      18.871578   \n",
       "2019-11-11 14:12:52     15.460451       18.543215      18.841896   \n",
       "2019-11-11 14:14:22     15.480729       18.568615      18.869045   \n",
       "2019-11-11 14:15:52     15.476924       18.558996      18.912409   \n",
       "2019-11-11 14:17:22     15.458981       18.555916      18.836439   \n",
       "2019-11-11 14:18:52     15.442762       18.535168      18.836342   \n",
       "2019-11-11 14:20:22     15.446587       18.550478      18.811451   \n",
       "2019-11-11 14:21:52     15.454863       18.549988      18.836695   \n",
       "2019-11-11 14:23:22     15.446273       18.536875      18.854322   \n",
       "2019-11-11 14:24:52     15.439155       18.532538      18.874464   \n",
       "2019-11-11 14:26:22     15.445489       18.544001      18.954203   \n",
       "2019-11-11 14:27:52     15.439567       18.536600      18.814591   \n",
       "2019-11-11 14:29:22     15.435546       18.534460      18.860859   \n",
       "2019-11-11 14:30:52     15.430996       18.531006      18.852222   \n",
       "2019-11-11 14:32:22     15.448450       18.549673      18.806856   \n",
       "2019-11-11 14:33:52     15.452176       18.543764      18.881786   \n",
       "2019-11-11 14:35:22     15.430682       18.520288      18.807779   \n",
       "2019-11-11 14:36:52     15.435291       18.517324      18.956305   \n",
       "2019-11-11 14:38:22     15.431918       18.527533      18.923933   \n",
       "2019-11-11 14:39:52     15.435134       18.525745      18.914000   \n",
       "2019-11-11 14:41:22     15.438409       18.531183      18.892406   \n",
       "2019-11-11 14:42:52     15.439370       18.529299      18.912350   \n",
       "2019-11-11 14:44:22     15.432585       18.522154      18.828724   \n",
       "2019-11-11 14:45:52     15.437193       18.523193      18.819832   \n",
       "2019-11-11 14:47:22     15.454196       18.536953      18.884258   \n",
       "2019-11-11 14:48:52     15.444567       18.530869      18.914156   \n",
       "2019-11-11 14:50:22     15.475002       18.563158      18.856600   \n",
       "2019-11-11 14:51:52     15.467217       18.551891      18.827036   \n",
       "2019-11-11 14:53:22     15.458490       18.542410      18.920380   \n",
       "2019-11-11 14:54:52     15.459725       18.562628      18.922794   \n",
       "\n",
       "                     LCW out Coil 2       Yoke     ...      \\\n",
       "Datetime                                           ...       \n",
       "2019-11-08 12:33:49       24.462584  24.933077     ...       \n",
       "2019-11-08 12:35:19       24.887590  24.905584     ...       \n",
       "2019-11-08 12:36:49       25.243853  24.871288     ...       \n",
       "2019-11-08 12:38:19       25.570019  24.844877     ...       \n",
       "2019-11-08 12:39:49       25.866650  24.815359     ...       \n",
       "2019-11-08 12:41:19       26.102793  24.791487     ...       \n",
       "2019-11-08 12:42:49       26.318728  24.775812     ...       \n",
       "2019-11-08 12:44:19       26.491234  24.773256     ...       \n",
       "2019-11-08 12:45:49       26.559860  24.733435     ...       \n",
       "2019-11-08 12:47:20       26.564602  24.726454     ...       \n",
       "2019-11-08 12:48:49       26.519939  24.716524     ...       \n",
       "2019-11-08 12:50:19       26.400375  24.681088     ...       \n",
       "2019-11-08 12:51:49       26.276310  24.676880     ...       \n",
       "2019-11-08 12:53:19       26.178534  24.661030     ...       \n",
       "2019-11-08 12:54:49       26.050266  24.648268     ...       \n",
       "2019-11-08 12:56:19       25.981356  24.615076     ...       \n",
       "2019-11-08 12:57:49       25.899029  24.606344     ...       \n",
       "2019-11-08 12:59:19       25.837929  24.580271     ...       \n",
       "2019-11-08 13:00:49       25.792784  24.562277     ...       \n",
       "2019-11-08 13:02:19       25.758930  24.547529     ...       \n",
       "2019-11-08 13:03:49       25.721438  24.530266     ...       \n",
       "2019-11-08 13:05:19       25.664002  24.499727     ...       \n",
       "2019-11-08 13:06:49       25.623617  24.477665     ...       \n",
       "2019-11-08 13:08:19       25.553829  24.462191     ...       \n",
       "2019-11-08 13:09:49       25.521906  24.435646     ...       \n",
       "2019-11-08 13:11:19       25.456566  24.421705     ...       \n",
       "2019-11-08 13:12:49       25.449053  24.398817     ...       \n",
       "2019-11-08 13:14:19       25.365166  24.361635     ...       \n",
       "2019-11-08 13:15:49       25.338043  24.337568     ...       \n",
       "2019-11-08 13:17:19       25.336863  24.336447     ...       \n",
       "...                             ...        ...     ...       \n",
       "2019-11-11 14:11:22       22.811029  20.653358     ...       \n",
       "2019-11-11 14:12:52       22.850061  20.642281     ...       \n",
       "2019-11-11 14:14:22       22.825888  20.637821     ...       \n",
       "2019-11-11 14:15:52       22.834084  20.645796     ...       \n",
       "2019-11-11 14:17:22       22.823334  20.638569     ...       \n",
       "2019-11-11 14:18:52       22.808476  20.644735     ...       \n",
       "2019-11-11 14:20:22       22.820110  20.645010     ...       \n",
       "2019-11-11 14:21:52       22.809929  20.640945     ...       \n",
       "2019-11-11 14:23:22       22.815197  20.645561     ...       \n",
       "2019-11-11 14:24:52       22.812189  20.641514     ...       \n",
       "2019-11-11 14:26:22       22.798512  20.634621     ...       \n",
       "2019-11-11 14:27:52       22.800417  20.646719     ...       \n",
       "2019-11-11 14:29:22       22.805468  20.640335     ...       \n",
       "2019-11-11 14:30:52       22.806982  20.640297     ...       \n",
       "2019-11-11 14:32:22       22.817221  20.631714     ...       \n",
       "2019-11-11 14:33:52       22.822979  20.636938     ...       \n",
       "2019-11-11 14:35:22       22.820326  20.637842     ...       \n",
       "2019-11-11 14:36:52       22.790512  20.637920     ...       \n",
       "2019-11-11 14:38:22       22.809988  20.637213     ...       \n",
       "2019-11-11 14:39:52       22.801243  20.645639     ...       \n",
       "2019-11-11 14:41:22       22.817635  20.640690     ...       \n",
       "2019-11-11 14:42:52       22.814863  20.638451     ...       \n",
       "2019-11-11 14:44:22       22.813074  20.636505     ...       \n",
       "2019-11-11 14:45:52       22.803640  20.644186     ...       \n",
       "2019-11-11 14:47:22       22.808201  20.636055     ...       \n",
       "2019-11-11 14:48:52       22.795366  20.631105     ...       \n",
       "2019-11-11 14:50:22       22.825909  20.630339     ...       \n",
       "2019-11-11 14:51:52       22.838644  20.641142     ...       \n",
       "2019-11-11 14:53:22       22.816887  20.639355     ...       \n",
       "2019-11-11 14:54:52       22.818243  20.627647     ...       \n",
       "\n",
       "                     Zaber_Meas_MicroStep_X  Zaber_Meas_Encoder_X  \\\n",
       "Datetime                                                            \n",
       "2019-11-08 12:33:49            249952.34375              639878.0   \n",
       "2019-11-08 12:35:19            249952.34375              639878.0   \n",
       "2019-11-08 12:36:49            249952.34375              639878.0   \n",
       "2019-11-08 12:38:19            249952.34375              639878.0   \n",
       "2019-11-08 12:39:49            249952.34375              639878.0   \n",
       "2019-11-08 12:41:19            249952.34375              639878.0   \n",
       "2019-11-08 12:42:49            249952.34375              639878.0   \n",
       "2019-11-08 12:44:19            249952.34375              639878.0   \n",
       "2019-11-08 12:45:49            249952.34375              639878.0   \n",
       "2019-11-08 12:47:20            249952.34375              639878.0   \n",
       "2019-11-08 12:48:49            249952.34375              639878.0   \n",
       "2019-11-08 12:50:19            249952.34375              639878.0   \n",
       "2019-11-08 12:51:49            249952.34375              639878.0   \n",
       "2019-11-08 12:53:19            249952.34375              639878.0   \n",
       "2019-11-08 12:54:49            249952.34375              639878.0   \n",
       "2019-11-08 12:56:19            249952.34375              639878.0   \n",
       "2019-11-08 12:57:49            249952.34375              639878.0   \n",
       "2019-11-08 12:59:19            249952.34375              639878.0   \n",
       "2019-11-08 13:00:49            249952.34375              639878.0   \n",
       "2019-11-08 13:02:19            249952.34375              639878.0   \n",
       "2019-11-08 13:03:49            249952.34375              639878.0   \n",
       "2019-11-08 13:05:19            249952.34375              639878.0   \n",
       "2019-11-08 13:06:49            249952.34375              639878.0   \n",
       "2019-11-08 13:08:19            249952.34375              639878.0   \n",
       "2019-11-08 13:09:49            249952.34375              639878.0   \n",
       "2019-11-08 13:11:19            249952.34375              639878.0   \n",
       "2019-11-08 13:12:49            249952.34375              639878.0   \n",
       "2019-11-08 13:14:19            249952.34375              639878.0   \n",
       "2019-11-08 13:15:49            249952.34375              639878.0   \n",
       "2019-11-08 13:17:19            249952.34375              639878.0   \n",
       "...                                     ...                   ...   \n",
       "2019-11-11 14:11:22            249952.34375              639878.0   \n",
       "2019-11-11 14:12:52            249952.34375              639878.0   \n",
       "2019-11-11 14:14:22            249952.34375              639878.0   \n",
       "2019-11-11 14:15:52            249952.34375              639878.0   \n",
       "2019-11-11 14:17:22            249952.34375              639878.0   \n",
       "2019-11-11 14:18:52            249952.34375              639878.0   \n",
       "2019-11-11 14:20:22            249952.34375              639878.0   \n",
       "2019-11-11 14:21:52            249952.34375              639878.0   \n",
       "2019-11-11 14:23:22            249952.34375              639878.0   \n",
       "2019-11-11 14:24:52            249952.34375              639878.0   \n",
       "2019-11-11 14:26:22            249952.34375              639878.0   \n",
       "2019-11-11 14:27:52            249952.34375              639878.0   \n",
       "2019-11-11 14:29:22            249952.34375              639878.0   \n",
       "2019-11-11 14:30:52            249952.34375              639878.0   \n",
       "2019-11-11 14:32:22            249952.34375              639878.0   \n",
       "2019-11-11 14:33:52            249952.34375              639878.0   \n",
       "2019-11-11 14:35:22            249952.34375              639878.0   \n",
       "2019-11-11 14:36:52            249952.34375              639878.0   \n",
       "2019-11-11 14:38:22            249952.34375              639878.0   \n",
       "2019-11-11 14:39:52            249952.34375              639878.0   \n",
       "2019-11-11 14:41:22            249952.34375              639878.0   \n",
       "2019-11-11 14:42:52            249952.34375              639878.0   \n",
       "2019-11-11 14:44:22            249952.34375              639878.0   \n",
       "2019-11-11 14:45:52            249952.34375              639878.0   \n",
       "2019-11-11 14:47:22            249952.34375              639878.0   \n",
       "2019-11-11 14:48:52            249952.34375              639878.0   \n",
       "2019-11-11 14:50:22            249952.34375              639878.0   \n",
       "2019-11-11 14:51:52            249952.34375              639878.0   \n",
       "2019-11-11 14:53:22            249952.34375              639878.0   \n",
       "2019-11-11 14:54:52            249952.34375              639878.0   \n",
       "\n",
       "                     Zaber_Meas_MicroStep_Y  Zaber_Meas_Encoder_Y  \\\n",
       "Datetime                                                            \n",
       "2019-11-08 12:33:49                750000.0             1920000.0   \n",
       "2019-11-08 12:35:19                750000.0             1920000.0   \n",
       "2019-11-08 12:36:49                750000.0             1920000.0   \n",
       "2019-11-08 12:38:19                750000.0             1920000.0   \n",
       "2019-11-08 12:39:49                750000.0             1920000.0   \n",
       "2019-11-08 12:41:19                750000.0             1920000.0   \n",
       "2019-11-08 12:42:49                750000.0             1920000.0   \n",
       "2019-11-08 12:44:19                750000.0             1920000.0   \n",
       "2019-11-08 12:45:49                750000.0             1920000.0   \n",
       "2019-11-08 12:47:20                750000.0             1920000.0   \n",
       "2019-11-08 12:48:49                750000.0             1920000.0   \n",
       "2019-11-08 12:50:19                750000.0             1920000.0   \n",
       "2019-11-08 12:51:49                750000.0             1920000.0   \n",
       "2019-11-08 12:53:19                750000.0             1920000.0   \n",
       "2019-11-08 12:54:49                750000.0             1920000.0   \n",
       "2019-11-08 12:56:19                750000.0             1920000.0   \n",
       "2019-11-08 12:57:49                750000.0             1920000.0   \n",
       "2019-11-08 12:59:19                750000.0             1920000.0   \n",
       "2019-11-08 13:00:49                750000.0             1920000.0   \n",
       "2019-11-08 13:02:19                750000.0             1920000.0   \n",
       "2019-11-08 13:03:49                750000.0             1920000.0   \n",
       "2019-11-08 13:05:19                750000.0             1920000.0   \n",
       "2019-11-08 13:06:49                750000.0             1920000.0   \n",
       "2019-11-08 13:08:19                750000.0             1920000.0   \n",
       "2019-11-08 13:09:49                750000.0             1920000.0   \n",
       "2019-11-08 13:11:19                750000.0             1920000.0   \n",
       "2019-11-08 13:12:49                750000.0             1920000.0   \n",
       "2019-11-08 13:14:19                750000.0             1920000.0   \n",
       "2019-11-08 13:15:49                750000.0             1920000.0   \n",
       "2019-11-08 13:17:19                750000.0             1920000.0   \n",
       "...                                     ...                   ...   \n",
       "2019-11-11 14:11:22                750000.0             1920000.0   \n",
       "2019-11-11 14:12:52                750000.0             1920000.0   \n",
       "2019-11-11 14:14:22                750000.0             1920000.0   \n",
       "2019-11-11 14:15:52                750000.0             1920000.0   \n",
       "2019-11-11 14:17:22                750000.0             1920000.0   \n",
       "2019-11-11 14:18:52                750000.0             1920000.0   \n",
       "2019-11-11 14:20:22                750000.0             1920000.0   \n",
       "2019-11-11 14:21:52                750000.0             1920000.0   \n",
       "2019-11-11 14:23:22                750000.0             1920000.0   \n",
       "2019-11-11 14:24:52                750000.0             1920000.0   \n",
       "2019-11-11 14:26:22                750000.0             1920000.0   \n",
       "2019-11-11 14:27:52                750000.0             1920000.0   \n",
       "2019-11-11 14:29:22                750000.0             1920000.0   \n",
       "2019-11-11 14:30:52                750000.0             1920000.0   \n",
       "2019-11-11 14:32:22                750000.0             1920000.0   \n",
       "2019-11-11 14:33:52                750000.0             1920000.0   \n",
       "2019-11-11 14:35:22                750000.0             1920000.0   \n",
       "2019-11-11 14:36:52                750000.0             1920000.0   \n",
       "2019-11-11 14:38:22                750000.0             1920000.0   \n",
       "2019-11-11 14:39:52                750000.0             1920000.0   \n",
       "2019-11-11 14:41:22                750000.0             1920000.0   \n",
       "2019-11-11 14:42:52                750000.0             1920000.0   \n",
       "2019-11-11 14:44:22                750000.0             1920000.0   \n",
       "2019-11-11 14:45:52                750000.0             1920000.0   \n",
       "2019-11-11 14:47:22                750000.0             1920000.0   \n",
       "2019-11-11 14:48:52                750000.0             1920000.0   \n",
       "2019-11-11 14:50:22                750000.0             1920000.0   \n",
       "2019-11-11 14:51:52                750000.0             1920000.0   \n",
       "2019-11-11 14:53:22                750000.0             1920000.0   \n",
       "2019-11-11 14:54:52                750000.0             1920000.0   \n",
       "\n",
       "                     Zaber_Meas_MicroStep_Z  Zaber_Meas_Encoder_Z  run  \\\n",
       "Datetime                                                                 \n",
       "2019-11-08 12:33:49                750000.0             1920000.0   20   \n",
       "2019-11-08 12:35:19                750000.0             1920000.0   20   \n",
       "2019-11-08 12:36:49                750000.0             1920000.0   20   \n",
       "2019-11-08 12:38:19                750000.0             1920000.0   20   \n",
       "2019-11-08 12:39:49                750000.0             1920000.0   20   \n",
       "2019-11-08 12:41:19                750000.0             1920000.0   20   \n",
       "2019-11-08 12:42:49                750000.0             1920000.0   20   \n",
       "2019-11-08 12:44:19                750000.0             1920000.0   20   \n",
       "2019-11-08 12:45:49                750000.0             1920000.0   20   \n",
       "2019-11-08 12:47:20                750000.0             1920000.0   20   \n",
       "2019-11-08 12:48:49                750000.0             1920000.0   20   \n",
       "2019-11-08 12:50:19                750000.0             1920000.0   20   \n",
       "2019-11-08 12:51:49                750000.0             1920000.0   20   \n",
       "2019-11-08 12:53:19                750000.0             1920000.0   20   \n",
       "2019-11-08 12:54:49                750000.0             1920000.0   20   \n",
       "2019-11-08 12:56:19                750000.0             1920000.0   20   \n",
       "2019-11-08 12:57:49                750000.0             1920000.0   20   \n",
       "2019-11-08 12:59:19                750000.0             1920000.0   20   \n",
       "2019-11-08 13:00:49                750000.0             1920000.0   20   \n",
       "2019-11-08 13:02:19                750000.0             1920000.0   20   \n",
       "2019-11-08 13:03:49                750000.0             1920000.0   20   \n",
       "2019-11-08 13:05:19                750000.0             1920000.0   20   \n",
       "2019-11-08 13:06:49                750000.0             1920000.0   20   \n",
       "2019-11-08 13:08:19                750000.0             1920000.0   20   \n",
       "2019-11-08 13:09:49                750000.0             1920000.0   20   \n",
       "2019-11-08 13:11:19                750000.0             1920000.0   20   \n",
       "2019-11-08 13:12:49                750000.0             1920000.0   20   \n",
       "2019-11-08 13:14:19                750000.0             1920000.0   20   \n",
       "2019-11-08 13:15:49                750100.0             1920256.0   20   \n",
       "2019-11-08 13:17:19                750100.0             1920256.0   20   \n",
       "...                                     ...                   ...  ...   \n",
       "2019-11-11 14:11:22                750100.0             1920256.0   20   \n",
       "2019-11-11 14:12:52                750100.0             1920256.0   20   \n",
       "2019-11-11 14:14:22                750100.0             1920256.0   20   \n",
       "2019-11-11 14:15:52                750100.0             1920256.0   20   \n",
       "2019-11-11 14:17:22                750100.0             1920256.0   20   \n",
       "2019-11-11 14:18:52                750100.0             1920256.0   20   \n",
       "2019-11-11 14:20:22                750100.0             1920256.0   20   \n",
       "2019-11-11 14:21:52                750100.0             1920256.0   20   \n",
       "2019-11-11 14:23:22                750100.0             1920256.0   20   \n",
       "2019-11-11 14:24:52                750100.0             1920256.0   20   \n",
       "2019-11-11 14:26:22                750100.0             1920256.0   20   \n",
       "2019-11-11 14:27:52                750100.0             1920256.0   20   \n",
       "2019-11-11 14:29:22                750100.0             1920256.0   20   \n",
       "2019-11-11 14:30:52                750100.0             1920256.0   20   \n",
       "2019-11-11 14:32:22                750100.0             1920256.0   20   \n",
       "2019-11-11 14:33:52                750100.0             1920256.0   20   \n",
       "2019-11-11 14:35:22                750100.0             1920256.0   20   \n",
       "2019-11-11 14:36:52                750100.0             1920256.0   20   \n",
       "2019-11-11 14:38:22                750100.0             1920256.0   20   \n",
       "2019-11-11 14:39:52                750100.0             1920256.0   20   \n",
       "2019-11-11 14:41:22                750100.0             1920256.0   20   \n",
       "2019-11-11 14:42:52                750100.0             1920256.0   20   \n",
       "2019-11-11 14:44:22                750100.0             1920256.0   20   \n",
       "2019-11-11 14:45:52                750100.0             1920256.0   20   \n",
       "2019-11-11 14:47:22                750100.0             1920256.0   20   \n",
       "2019-11-11 14:48:52                750100.0             1920256.0   20   \n",
       "2019-11-11 14:50:22                750100.0             1920256.0   20   \n",
       "2019-11-11 14:51:52                750100.0             1920256.0   20   \n",
       "2019-11-11 14:53:22                750100.0             1920256.0   20   \n",
       "2019-11-11 14:54:52                750100.0             1920256.0   20   \n",
       "\n",
       "                     seconds_delta  hours_delta  days_delta  \n",
       "Datetime                                                     \n",
       "2019-11-08 12:33:49      9944469.0  2762.352500  115.098021  \n",
       "2019-11-08 12:35:19      9944559.0  2762.377500  115.099063  \n",
       "2019-11-08 12:36:49      9944649.0  2762.402500  115.100104  \n",
       "2019-11-08 12:38:19      9944739.0  2762.427500  115.101146  \n",
       "2019-11-08 12:39:49      9944829.0  2762.452500  115.102187  \n",
       "2019-11-08 12:41:19      9944919.0  2762.477500  115.103229  \n",
       "2019-11-08 12:42:49      9945009.0  2762.502500  115.104271  \n",
       "2019-11-08 12:44:19      9945099.0  2762.527500  115.105312  \n",
       "2019-11-08 12:45:49      9945189.0  2762.552500  115.106354  \n",
       "2019-11-08 12:47:20      9945280.0  2762.577778  115.107407  \n",
       "2019-11-08 12:48:49      9945369.0  2762.602500  115.108437  \n",
       "2019-11-08 12:50:19      9945459.0  2762.627500  115.109479  \n",
       "2019-11-08 12:51:49      9945549.0  2762.652500  115.110521  \n",
       "2019-11-08 12:53:19      9945639.0  2762.677500  115.111563  \n",
       "2019-11-08 12:54:49      9945729.0  2762.702500  115.112604  \n",
       "2019-11-08 12:56:19      9945819.0  2762.727500  115.113646  \n",
       "2019-11-08 12:57:49      9945909.0  2762.752500  115.114688  \n",
       "2019-11-08 12:59:19      9945999.0  2762.777500  115.115729  \n",
       "2019-11-08 13:00:49      9946089.0  2762.802500  115.116771  \n",
       "2019-11-08 13:02:19      9946179.0  2762.827500  115.117812  \n",
       "2019-11-08 13:03:49      9946269.0  2762.852500  115.118854  \n",
       "2019-11-08 13:05:19      9946359.0  2762.877500  115.119896  \n",
       "2019-11-08 13:06:49      9946449.0  2762.902500  115.120937  \n",
       "2019-11-08 13:08:19      9946539.0  2762.927500  115.121979  \n",
       "2019-11-08 13:09:49      9946629.0  2762.952500  115.123021  \n",
       "2019-11-08 13:11:19      9946719.0  2762.977500  115.124062  \n",
       "2019-11-08 13:12:49      9946809.0  2763.002500  115.125104  \n",
       "2019-11-08 13:14:19      9946899.0  2763.027500  115.126146  \n",
       "2019-11-08 13:15:49      9946989.0  2763.052500  115.127188  \n",
       "2019-11-08 13:17:19      9947079.0  2763.077500  115.128229  \n",
       "...                            ...          ...         ...  \n",
       "2019-11-11 14:11:22     10209522.0  2835.978333  118.165764  \n",
       "2019-11-11 14:12:52     10209612.0  2836.003333  118.166806  \n",
       "2019-11-11 14:14:22     10209702.0  2836.028333  118.167847  \n",
       "2019-11-11 14:15:52     10209792.0  2836.053333  118.168889  \n",
       "2019-11-11 14:17:22     10209882.0  2836.078333  118.169931  \n",
       "2019-11-11 14:18:52     10209972.0  2836.103333  118.170972  \n",
       "2019-11-11 14:20:22     10210062.0  2836.128333  118.172014  \n",
       "2019-11-11 14:21:52     10210152.0  2836.153333  118.173056  \n",
       "2019-11-11 14:23:22     10210242.0  2836.178333  118.174097  \n",
       "2019-11-11 14:24:52     10210332.0  2836.203333  118.175139  \n",
       "2019-11-11 14:26:22     10210422.0  2836.228333  118.176181  \n",
       "2019-11-11 14:27:52     10210512.0  2836.253333  118.177222  \n",
       "2019-11-11 14:29:22     10210602.0  2836.278333  118.178264  \n",
       "2019-11-11 14:30:52     10210692.0  2836.303333  118.179306  \n",
       "2019-11-11 14:32:22     10210782.0  2836.328333  118.180347  \n",
       "2019-11-11 14:33:52     10210872.0  2836.353333  118.181389  \n",
       "2019-11-11 14:35:22     10210962.0  2836.378333  118.182431  \n",
       "2019-11-11 14:36:52     10211052.0  2836.403333  118.183472  \n",
       "2019-11-11 14:38:22     10211142.0  2836.428333  118.184514  \n",
       "2019-11-11 14:39:52     10211232.0  2836.453333  118.185556  \n",
       "2019-11-11 14:41:22     10211322.0  2836.478333  118.186597  \n",
       "2019-11-11 14:42:52     10211412.0  2836.503333  118.187639  \n",
       "2019-11-11 14:44:22     10211502.0  2836.528333  118.188681  \n",
       "2019-11-11 14:45:52     10211592.0  2836.553333  118.189722  \n",
       "2019-11-11 14:47:22     10211682.0  2836.578333  118.190764  \n",
       "2019-11-11 14:48:52     10211772.0  2836.603333  118.191806  \n",
       "2019-11-11 14:50:22     10211862.0  2836.628333  118.192847  \n",
       "2019-11-11 14:51:52     10211952.0  2836.653333  118.193889  \n",
       "2019-11-11 14:53:22     10212042.0  2836.678333  118.194931  \n",
       "2019-11-11 14:54:52     10212132.0  2836.703333  118.195972  \n",
       "\n",
       "[2975 rows x 55 columns]"
      ]
     },
     "execution_count": 13,
     "metadata": {},
     "output_type": "execute_result"
    }
   ],
   "source": [
    "df_dmm_3"
   ]
  },
  {
   "cell_type": "code",
   "execution_count": 22,
   "metadata": {},
   "outputs": [],
   "source": [
    "df_ = df_dmm_3"
   ]
  },
  {
   "cell_type": "code",
   "execution_count": 23,
   "metadata": {},
   "outputs": [
    {
     "data": {
      "text/plain": [
       "Datetime\n",
       "2019-11-08 12:33:49    22.355905\n",
       "2019-11-08 12:35:19    22.082123\n",
       "2019-11-08 12:36:49    21.848816\n",
       "2019-11-08 12:38:19    21.620279\n",
       "2019-11-08 12:39:49    21.399735\n",
       "2019-11-08 12:41:19    21.210203\n",
       "2019-11-08 12:42:49    21.018383\n",
       "2019-11-08 12:44:19    20.835197\n",
       "2019-11-08 12:45:49    20.666006\n",
       "2019-11-08 12:47:20    20.478872\n",
       "2019-11-08 12:48:49    20.318340\n",
       "2019-11-08 12:50:19    20.157875\n",
       "2019-11-08 12:51:49    20.014677\n",
       "2019-11-08 12:53:19    19.838419\n",
       "2019-11-08 12:54:49    19.682943\n",
       "2019-11-08 12:56:19    19.552706\n",
       "2019-11-08 12:57:49    19.421963\n",
       "2019-11-08 12:59:19    19.292383\n",
       "2019-11-08 13:00:49    19.166420\n",
       "2019-11-08 13:02:19    19.043663\n",
       "2019-11-08 13:03:49    18.928722\n",
       "2019-11-08 13:05:19    18.823601\n",
       "2019-11-08 13:06:49    18.717110\n",
       "2019-11-08 13:08:19    18.614370\n",
       "2019-11-08 13:09:49    18.517816\n",
       "2019-11-08 13:11:19    18.429588\n",
       "2019-11-08 13:12:49    18.355120\n",
       "2019-11-08 13:14:19    18.269133\n",
       "2019-11-08 13:15:49    18.201597\n",
       "2019-11-08 13:17:19    18.152611\n",
       "                         ...    \n",
       "2019-11-11 14:11:22    16.498110\n",
       "2019-11-11 14:12:52    16.492716\n",
       "2019-11-11 14:14:22    16.483063\n",
       "2019-11-11 14:15:52    16.478807\n",
       "2019-11-11 14:17:22    16.484123\n",
       "2019-11-11 14:18:52    16.500404\n",
       "2019-11-11 14:20:22    16.496187\n",
       "2019-11-11 14:21:52    16.490322\n",
       "2019-11-11 14:23:22    16.487732\n",
       "2019-11-11 14:24:52    16.488850\n",
       "2019-11-11 14:26:22    16.481789\n",
       "2019-11-11 14:27:52    16.477219\n",
       "2019-11-11 14:29:22    16.488459\n",
       "2019-11-11 14:30:52    16.478100\n",
       "2019-11-11 14:32:22    16.477924\n",
       "2019-11-11 14:33:52    16.484299\n",
       "2019-11-11 14:35:22    16.492735\n",
       "2019-11-11 14:36:52    16.487635\n",
       "2019-11-11 14:38:22    16.493185\n",
       "2019-11-11 14:39:52    16.483358\n",
       "2019-11-11 14:41:22    16.486162\n",
       "2019-11-11 14:42:52    16.488085\n",
       "2019-11-11 14:44:22    16.486908\n",
       "2019-11-11 14:45:52    16.487476\n",
       "2019-11-11 14:47:22    16.483534\n",
       "2019-11-11 14:48:52    16.500385\n",
       "2019-11-11 14:50:22    16.496050\n",
       "2019-11-11 14:51:52    16.510683\n",
       "2019-11-11 14:53:22    16.500326\n",
       "2019-11-11 14:54:52    16.499071\n",
       "Name: Chamber Wall CH16, Length: 2975, dtype: float64"
      ]
     },
     "execution_count": 23,
     "metadata": {},
     "output_type": "execute_result"
    }
   ],
   "source": [
    "df_[\"Chamber Wall CH16\"]"
   ]
  },
  {
   "cell_type": "code",
   "execution_count": 24,
   "metadata": {},
   "outputs": [],
   "source": [
    "fig = scatter2d(2*[df_.index],[df_[col] for col in [\"Yoke (center magnet)\",\"Chamber Wall CH16\"]], inline=False)"
   ]
  },
  {
   "cell_type": "code",
   "execution_count": 25,
   "metadata": {},
   "outputs": [],
   "source": [
    "df_[\"Yoke_minus_CH16\"] = df_[\"Yoke (center magnet)\"] - df_[\"Chamber Wall CH16\"]"
   ]
  },
  {
   "cell_type": "code",
   "execution_count": 26,
   "metadata": {},
   "outputs": [],
   "source": [
    "fig = scatter2d([df_.index],[df_[col] for col in [\"Yoke_minus_CH16\"]], inline=False)"
   ]
  },
  {
   "cell_type": "code",
   "execution_count": 27,
   "metadata": {},
   "outputs": [],
   "source": [
    "fig = scatter2d(df_.Yoke_minus_CH16, df_[\"NMR [T]\"], df_.days_delta, inline=False)"
   ]
  },
  {
   "cell_type": "code",
   "execution_count": 28,
   "metadata": {},
   "outputs": [],
   "source": [
    "fig = scatter2d(df_[\"Yoke (center magnet)\"], df_[\"NMR [T]\"], df_.days_delta, inline=False)"
   ]
  },
  {
   "cell_type": "code",
   "execution_count": null,
   "metadata": {},
   "outputs": [],
   "source": []
  },
  {
   "cell_type": "code",
   "execution_count": 29,
   "metadata": {},
   "outputs": [],
   "source": [
    "import scipy.optimize as optimization"
   ]
  },
  {
   "cell_type": "code",
   "execution_count": 61,
   "metadata": {},
   "outputs": [],
   "source": [
    "def field_strength_func(DATA, A, B, C, D,): #E):\n",
    "    CURRENT, YOKE, ENC, WATER = DATA\n",
    "    return 1* \\\n",
    "            A * YOKE \\\n",
    "          + C * WATER \\\n",
    "          + D * CURRENT# + E\n",
    "#+ B * ENC \\"
   ]
  },
  {
   "cell_type": "code",
   "execution_count": 62,
   "metadata": {},
   "outputs": [],
   "source": [
    "guess = np.array([-1e-4, -1e-5, -1e-6, 1.249 / 250,]) #1.249])"
   ]
  },
  {
   "cell_type": "code",
   "execution_count": 63,
   "metadata": {},
   "outputs": [
    {
     "name": "stderr",
     "output_type": "stream",
     "text": [
      "/home/ckampa/anaconda3/envs/Mu2E/lib/python3.7/site-packages/scipy/optimize/minpack.py:794: OptimizeWarning:\n",
      "\n",
      "Covariance of the parameters could not be estimated\n",
      "\n"
     ]
    }
   ],
   "source": [
    "NMR = []\n",
    "NMR_lsq = []\n",
    "DAYS = []\n",
    "params_dict = {}\n",
    "params2_dict = {}\n",
    "figs = []\n",
    "\n",
    "for df_ in [df_[200:]]:\n",
    "    x_dat = np.vstack([df_[\"Magnet Current [A]\"],df_[\"Yoke (center magnet)\"],df_[\"Chamber Wall CH16\"],df_[\"LCW in Coil 2\"]])\n",
    "    x_dat2 = np.vstack([df_[\"Magnet Current [A]\"],df_[\"Yoke_minus_CH16\"],df_[\"Floor\"],df_[\"LCW in Coil 2\"]])\n",
    "    params, cov = optimization.curve_fit(field_strength_func, x_dat, df_[\"NMR [T]\"], guess)\n",
    "    params2, cov2 = optimization.curve_fit(field_strength_func, x_dat2, df_[\"NMR [T]\"], guess)\n",
    "    params_dict[str(df_.index[0])] = params\n",
    "    params2_dict[str(df_.index[0])] = params2\n",
    "    A_fit, B_fit, C_fit, D_fit = params\n",
    "    #A_fit, B_fit, C_fit, D_fit, E_fit = params\n",
    "    A_fit2, B_fit2, C_fit2, D_fit2 = params2\n",
    "    df_[\"NMR_lsq\"] = field_strength_func(x_dat, A_fit, B_fit, C_fit, D_fit)\n",
    "    #df_dmm[\"NMR_lsq\"] = field_strength_func(x_dat, A_fit, B_fit, C_fit, D_fit, E_fit)\n",
    "    df_[\"NMR_lsq2\"] = field_strength_func(x_dat2, A_fit2, B_fit2, C_fit2, D_fit2)\n",
    "    NMR.append(df_[\"NMR [T]\"])\n",
    "    NMR_lsq.append(df_[\"NMR_lsq\"])\n",
    "    DAYS.append(df_.days_delta)\n",
    "    #fig = scatter2d([df_[\"NMR_lsq\"],df_[\"NMR_lsq2\"]], 2*[df_[\"NMR [T]\"]], 2*[df_.days_delta],\n",
    "    #            [\"Viridis\", \"agsunset\"], size_list=2*[5], inline=False, show_plot=False);\n",
    "    fig = scatter2d([df_[\"NMR_lsq\"],df_[\"NMR_lsq2\"]], 2*[df_[\"NMR [T]\"]], 2*[df_.days_delta],\n",
    "                [\"Viridis\", \"Jet\"], size_list=2*[5], inline=False, show_plot=False);\n",
    "    fig.update_layout(title=f\"Start: {str(df_.index[0])}, End: {str(df_.index[-1])}\")\n",
    "    d = [df_[\"NMR [T]\"].min(), df_[\"NMR [T]\"].max()]\n",
    "    fig.add_trace(go.Scatter(\n",
    "                    x=d, y=d,\n",
    "                    mode='lines', name=\"unity\",\n",
    "                    line=dict(color='deeppink', width=2,\n",
    "                              dash='dash')))\n",
    "    #pio.write_image(fig, plotdir+f\"nmr_vs_nmrlsq_{str(df_.index[0])}.pdf\")\n",
    "    plot(fig)\n",
    "    figs.append(fig)"
   ]
  },
  {
   "cell_type": "code",
   "execution_count": 64,
   "metadata": {},
   "outputs": [
    {
     "data": {
      "text/plain": [
       "{'2019-11-10 02:03:51': array([-5.89478852e-05, -1.00000000e-05,  4.92218470e-06,  4.88424420e-03])}"
      ]
     },
     "execution_count": 64,
     "metadata": {},
     "output_type": "execute_result"
    }
   ],
   "source": [
    "params_dict"
   ]
  },
  {
   "cell_type": "code",
   "execution_count": 65,
   "metadata": {},
   "outputs": [
    {
     "data": {
      "text/plain": [
       "{'2019-11-10 02:03:51': array([-5.02200387e-05, -1.00000000e-05, -1.66778196e-05,  4.88191123e-03])}"
      ]
     },
     "execution_count": 65,
     "metadata": {},
     "output_type": "execute_result"
    }
   ],
   "source": [
    "params2_dict"
   ]
  },
  {
   "cell_type": "code",
   "execution_count": 12,
   "metadata": {},
   "outputs": [],
   "source": [
    "NMR = pd.concat(NMR, ignore_index=True,)\n",
    "NMR_lsq = pd.concat(NMR_lsq, ignore_index=True,)\n",
    "DAYS = pd.concat(DAYS, ignore_index=True,)"
   ]
  },
  {
   "cell_type": "code",
   "execution_count": 13,
   "metadata": {},
   "outputs": [
    {
     "data": {
      "text/plain": [
       "'temp-plot.html'"
      ]
     },
     "execution_count": 13,
     "metadata": {},
     "output_type": "execute_result"
    }
   ],
   "source": [
    "fig = scatter2d([NMR_lsq], [NMR], [DAYS],\n",
    "                [\"Viridis\"], size_list=[6], inline=False, show_plot=False);\n",
    "fig.update_layout(title=f\"All Data\")\n",
    "d = [NMR_lsq.min(), NMR_lsq.max()]\n",
    "fig.add_trace(go.Scatter(\n",
    "            x=d, y=d,\n",
    "            mode='lines', name=\"unity\",\n",
    "            line=dict(color='deeppink', width=2,\n",
    "            dash='dash')))\n",
    "plot(fig)"
   ]
  },
  {
   "cell_type": "code",
   "execution_count": null,
   "metadata": {},
   "outputs": [],
   "source": []
  },
  {
   "cell_type": "code",
   "execution_count": null,
   "metadata": {},
   "outputs": [],
   "source": []
  },
  {
   "cell_type": "code",
   "execution_count": null,
   "metadata": {},
   "outputs": [],
   "source": []
  },
  {
   "cell_type": "markdown",
   "metadata": {},
   "source": [
    "### In Slides v1"
   ]
  },
  {
   "cell_type": "code",
   "execution_count": 10,
   "metadata": {},
   "outputs": [],
   "source": [
    "import scipy.optimize as optimization"
   ]
  },
  {
   "cell_type": "code",
   "execution_count": 11,
   "metadata": {},
   "outputs": [],
   "source": [
    "def field_strength_func(DATA, A, B, C, D,): #E):\n",
    "    CURRENT, YOKE, ENC, WATER = DATA\n",
    "    return A * YOKE + B * ENC + C * WATER + D * CURRENT# + E"
   ]
  },
  {
   "cell_type": "code",
   "execution_count": 12,
   "metadata": {},
   "outputs": [],
   "source": [
    "guess = np.array([-1e-4, -1e-5, -1e-6, 1.249 / 250,]) #1.249])"
   ]
  },
  {
   "cell_type": "code",
   "execution_count": 15,
   "metadata": {},
   "outputs": [],
   "source": [
    "NMR = []\n",
    "NMR_lsq = []\n",
    "DAYS = []\n",
    "params_dict = {}\n",
    "params2_dict = {}\n",
    "figs = []\n",
    "\n",
    "for df_ in [df_dmm_1, df_dmm_2, df_dmm_3, df_dmm_weird]:\n",
    "    x_dat = np.vstack([df_[\"Magnet Current [A]\"],df_[\"Yoke (center magnet)\"],df_[\"Chamber Wall CH16\"],df_[\"LCW in Coil 2\"]])\n",
    "    x_dat2 = np.vstack([df_[\"Magnet Current [A]\"],df_[\"Yoke (center magnet)\"],df_[\"Floor\"],df_[\"LCW in Coil 2\"]])\n",
    "    params, cov = optimization.curve_fit(field_strength_func, x_dat, df_[\"NMR [T]\"], guess)\n",
    "    params2, cov2 = optimization.curve_fit(field_strength_func, x_dat2, df_[\"NMR [T]\"], guess)\n",
    "    params_dict[str(df_.index[0])] = params\n",
    "    params2_dict[str(df_.index[0])] = params2\n",
    "    A_fit, B_fit, C_fit, D_fit = params\n",
    "    #A_fit, B_fit, C_fit, D_fit, E_fit = params\n",
    "    A_fit2, B_fit2, C_fit2, D_fit2 = params2\n",
    "    df_[\"NMR_lsq\"] = field_strength_func(x_dat, A_fit, B_fit, C_fit, D_fit)\n",
    "    #df_dmm[\"NMR_lsq\"] = field_strength_func(x_dat, A_fit, B_fit, C_fit, D_fit, E_fit)\n",
    "    df_[\"NMR_lsq2\"] = field_strength_func(x_dat2, A_fit2, B_fit2, C_fit2, D_fit2)\n",
    "    NMR.append(df_[\"NMR [T]\"])\n",
    "    NMR_lsq.append(df_[\"NMR_lsq\"])\n",
    "    DAYS.append(df_.days_delta)\n",
    "    #fig = scatter2d([df_[\"NMR_lsq\"],df_[\"NMR_lsq2\"]], 2*[df_[\"NMR [T]\"]], 2*[df_.days_delta],\n",
    "    #            [\"Viridis\", \"agsunset\"], size_list=2*[5], inline=False, show_plot=False);\n",
    "    fig = scatter2d([df_[\"NMR_lsq2\"]], [df_[\"NMR [T]\"]], [df_.days_delta],\n",
    "                [\"Viridis\"], size_list=[5], inline=False, show_plot=False);\n",
    "    fig.update_layout(title=f\"Start: {str(df_.index[0])}, End: {str(df_.index[-1])}\")\n",
    "    d = [df_[\"NMR [T]\"].min(), df_[\"NMR [T]\"].max()]\n",
    "    fig.add_trace(go.Scatter(\n",
    "                    x=d, y=d,\n",
    "                    mode='lines', name=\"unity\",\n",
    "                    line=dict(color='deeppink', width=2,\n",
    "                              dash='dash')))\n",
    "    #pio.write_image(fig, plotdir+f\"nmr_vs_nmrlsq_{str(df_.index[0])}.pdf\")\n",
    "    plot(fig)\n",
    "    figs.append(fig)"
   ]
  },
  {
   "cell_type": "code",
   "execution_count": 12,
   "metadata": {},
   "outputs": [],
   "source": [
    "NMR = pd.concat(NMR, ignore_index=True,)\n",
    "NMR_lsq = pd.concat(NMR_lsq, ignore_index=True,)\n",
    "DAYS = pd.concat(DAYS, ignore_index=True,)"
   ]
  },
  {
   "cell_type": "code",
   "execution_count": 13,
   "metadata": {},
   "outputs": [
    {
     "data": {
      "text/plain": [
       "'temp-plot.html'"
      ]
     },
     "execution_count": 13,
     "metadata": {},
     "output_type": "execute_result"
    }
   ],
   "source": [
    "fig = scatter2d([NMR_lsq], [NMR], [DAYS],\n",
    "                [\"Viridis\"], size_list=[6], inline=False, show_plot=False);\n",
    "fig.update_layout(title=f\"All Data\")\n",
    "d = [NMR_lsq.min(), NMR_lsq.max()]\n",
    "fig.add_trace(go.Scatter(\n",
    "            x=d, y=d,\n",
    "            mode='lines', name=\"unity\",\n",
    "            line=dict(color='deeppink', width=2,\n",
    "            dash='dash')))\n",
    "plot(fig)"
   ]
  },
  {
   "cell_type": "code",
   "execution_count": 14,
   "metadata": {},
   "outputs": [],
   "source": [
    "pio.write_image(fig, plotdir+f\"nmr_vs_nmrlsq_all.pdf\")"
   ]
  },
  {
   "cell_type": "code",
   "execution_count": 17,
   "metadata": {},
   "outputs": [],
   "source": [
    "for i,fig in enumerate(figs):\n",
    "    pio.write_image(fig, plotdir+f\"nmr_vs_nmrlsq_{i}.pdf\")"
   ]
  },
  {
   "cell_type": "code",
   "execution_count": null,
   "metadata": {},
   "outputs": [],
   "source": [
    "params_dict"
   ]
  },
  {
   "cell_type": "code",
   "execution_count": null,
   "metadata": {},
   "outputs": [],
   "source": [
    "params2_dict"
   ]
  },
  {
   "cell_type": "code",
   "execution_count": null,
   "metadata": {},
   "outputs": [],
   "source": [
    "df_params = pd.DataFrame(params2_dict,)# columns=[\"A\",\"B\",\"C\",\"D\",])"
   ]
  },
  {
   "cell_type": "code",
   "execution_count": null,
   "metadata": {},
   "outputs": [],
   "source": [
    "df_params = df_params.T"
   ]
  },
  {
   "cell_type": "code",
   "execution_count": null,
   "metadata": {},
   "outputs": [],
   "source": [
    "df_params.columns = [\"A\",\"B\",\"C\",\"D\",]"
   ]
  },
  {
   "cell_type": "code",
   "execution_count": null,
   "metadata": {},
   "outputs": [],
   "source": [
    "df_params[\"Start Time\"] = df_params.index"
   ]
  },
  {
   "cell_type": "code",
   "execution_count": null,
   "metadata": {},
   "outputs": [],
   "source": [
    "df_params = df_params[[\"Start Time\", \"A\", \"B\", \"C\", \"D\"]]"
   ]
  },
  {
   "cell_type": "code",
   "execution_count": null,
   "metadata": {},
   "outputs": [],
   "source": [
    "df_params"
   ]
  },
  {
   "cell_type": "code",
   "execution_count": null,
   "metadata": {},
   "outputs": [],
   "source": [
    "latex_table = df_params.to_latex(float_format=\"{:0.2E}\".format, index=False)"
   ]
  },
  {
   "cell_type": "code",
   "execution_count": null,
   "metadata": {},
   "outputs": [],
   "source": [
    "print(latex_table)"
   ]
  },
  {
   "cell_type": "code",
   "execution_count": null,
   "metadata": {},
   "outputs": [],
   "source": []
  },
  {
   "cell_type": "code",
   "execution_count": null,
   "metadata": {},
   "outputs": [],
   "source": []
  },
  {
   "cell_type": "code",
   "execution_count": null,
   "metadata": {},
   "outputs": [],
   "source": [
    "x_dat = np.vstack([df_[\"Magnet Current [A]\"],df_[\"Yoke\"],df_[\"Floor\"],df_[\"LCW in Coil 2\"]])\n",
    "x_dat2 = np.vstack([df_[\"Magnet Current [A]\"],df_[\"PS Vent1\"],df_[\"Floor\"],df_[\"LCW in Coil 2\"]])"
   ]
  },
  {
   "cell_type": "code",
   "execution_count": null,
   "metadata": {},
   "outputs": [],
   "source": [
    "x_dat[2]"
   ]
  },
  {
   "cell_type": "code",
   "execution_count": null,
   "metadata": {},
   "outputs": [],
   "source": [
    "field_strength_func(x_dat, -1e-4, -1e-5, -1e-6, 1.249 / 250,)# 1.2)"
   ]
  },
  {
   "cell_type": "code",
   "execution_count": null,
   "metadata": {},
   "outputs": [],
   "source": [
    "params, cov = optimization.curve_fit(field_strength_func, x_dat, df_[\"NMR [T]\"], guess)\n",
    "params2, cov2 = optimization.curve_fit(field_strength_func, x_dat2, df_[\"NMR [T]\"], guess)"
   ]
  },
  {
   "cell_type": "code",
   "execution_count": null,
   "metadata": {},
   "outputs": [],
   "source": [
    "A_fit, B_fit, C_fit, D_fit = params\n",
    "#A_fit, B_fit, C_fit, D_fit, E_fit = params\n",
    "A_fit2, B_fit2, C_fit2, D_fit2 = params2"
   ]
  },
  {
   "cell_type": "code",
   "execution_count": null,
   "metadata": {},
   "outputs": [],
   "source": [
    "params, params2"
   ]
  },
  {
   "cell_type": "code",
   "execution_count": null,
   "metadata": {},
   "outputs": [],
   "source": [
    "cov, cov2"
   ]
  },
  {
   "cell_type": "code",
   "execution_count": null,
   "metadata": {},
   "outputs": [],
   "source": [
    "df_[\"NMR_lsq\"] = field_strength_func(x_dat, A_fit, B_fit, C_fit, D_fit)\n",
    "#df_dmm[\"NMR_lsq\"] = field_strength_func(x_dat, A_fit, B_fit, C_fit, D_fit, E_fit)\n",
    "df_[\"NMR_lsq2\"] = field_strength_func(x_dat2, A_fit2, B_fit2, C_fit2, D_fit2)"
   ]
  },
  {
   "cell_type": "code",
   "execution_count": null,
   "metadata": {},
   "outputs": [],
   "source": [
    "#fig = scatter2d([df_dmm[\"NMR_lsq\"], df_dmm[\"NMR_lsq2\"]], 2*[df[\"NMR [T]\"]], 2*[df.days_delta])"
   ]
  },
  {
   "cell_type": "code",
   "execution_count": null,
   "metadata": {},
   "outputs": [],
   "source": [
    "fig = scatter2d([df_[\"NMR_lsq\"],df_[\"NMR_lsq2\"]], 2*[df_[\"NMR [T]\"]], 2*[df_.days_delta],\n",
    "                [\"Viridis\", \"agsunset\"], size_list=2*[5], inline=False, show_plot=False);\n",
    "fig.update_layout(title=f\"Start: {str(df_.index[0])}, End: {str(df_.index[0])}\")\n",
    "plot(fig)"
   ]
  },
  {
   "cell_type": "code",
   "execution_count": null,
   "metadata": {},
   "outputs": [],
   "source": [
    "fig = scatter2d(df_[\"NMR_lsq\"], df_[\"NMR [T]\"], df_.days_delta, [\"Viridis\"], show_plot=False)\n",
    "fig.update_xaxes(title=\"|B| (calculated)\")\n",
    "fig.update_yaxes(title=\"NMR [T] (measured)\")\n",
    "fig.update_layout(title=\"Measured vs. Calculated |B|\");\n",
    "plot(fig)"
   ]
  },
  {
   "cell_type": "code",
   "execution_count": null,
   "metadata": {},
   "outputs": [],
   "source": [
    "filename = \"NMR_measured_vs_calculated\"\n",
    "pio.write_image(fig, plotdir+filename+\".pdf\")\n",
    "pio.write_image(fig, plotdir+filename+\".png\")"
   ]
  },
  {
   "cell_type": "code",
   "execution_count": null,
   "metadata": {},
   "outputs": [],
   "source": [
    "df_[\"LSQ_RES_REL\"] = (df_[\"NMR [T]\"] - df_[\"NMR_lsq\"]) / df_[\"NMR [T]\"]\n",
    "df_[\"LSQ2_RES_REL\"] = (df_[\"NMR [T]\"] - df_[\"NMR_lsq2\"]) / df_[\"NMR [T]\"]\n",
    "df_[\"LSQ_RES\"] = (df_[\"NMR [T]\"] - df_[\"NMR_lsq\"])\n",
    "df_[\"LSQ2_RES\"] = (df_[\"NMR [T]\"] - df_[\"NMR_lsq2\"])"
   ]
  },
  {
   "cell_type": "code",
   "execution_count": null,
   "metadata": {},
   "outputs": [],
   "source": []
  },
  {
   "cell_type": "code",
   "execution_count": null,
   "metadata": {},
   "outputs": [],
   "source": [
    "fig = scatter2d(df_[\"Zab_Dist\"], df_[\"LSQ_RES\"], df_[\"days_delta\"], inline=False)"
   ]
  },
  {
   "cell_type": "code",
   "execution_count": null,
   "metadata": {},
   "outputs": [],
   "source": [
    "fig = scatter2d(df_[\"Zab_Dist\"], df_[\"NMR [T]\"], df_[\"days_delta\"], inline=False)"
   ]
  },
  {
   "cell_type": "code",
   "execution_count": null,
   "metadata": {},
   "outputs": [],
   "source": []
  },
  {
   "cell_type": "code",
   "execution_count": null,
   "metadata": {},
   "outputs": [],
   "source": [
    "fig = scatter2d(df_[\"NMR_lsq2\"], df_[\"LSQ2_RES_REL\"], df_.days_delta, [\"Viridis\"], show_plot=True, inline=False)"
   ]
  },
  {
   "cell_type": "code",
   "execution_count": null,
   "metadata": {},
   "outputs": [],
   "source": [
    "fig.update_traces(marker=dict(size=5))"
   ]
  },
  {
   "cell_type": "code",
   "execution_count": null,
   "metadata": {},
   "outputs": [],
   "source": [
    "fig = scatter2d(df.index, df[\"LSQ2_RES_REL\"], df.days_delta, [\"Viridis\"], show_plot=True)"
   ]
  },
  {
   "cell_type": "code",
   "execution_count": null,
   "metadata": {},
   "outputs": [],
   "source": [
    "fig.update_traces(marker=dict(size=5))"
   ]
  },
  {
   "cell_type": "code",
   "execution_count": null,
   "metadata": {},
   "outputs": [],
   "source": [
    "fig = histo(df[\"LSQ2_RES\"], bins=100, show_plot=False)# opacity=0.7)\n",
    "fig.update_xaxes(title=\"( NMR_Meas - |B|(calculated) )\")\n",
    "fig.update_layout(title=\"|B| Calculation Residuals\")"
   ]
  },
  {
   "cell_type": "code",
   "execution_count": null,
   "metadata": {},
   "outputs": [],
   "source": [
    "fig = histo(df[\"LSQ2_RES_REL\"], bins=100, show_plot=False)# opacity=0.7)\n",
    "fig.update_xaxes(title=\"( NMR_Meas - |B|(calculated) ) / NMR_Meas\")\n",
    "fig.update_layout(title=\"|B| Calculation Relative Residuals\")"
   ]
  },
  {
   "cell_type": "code",
   "execution_count": null,
   "metadata": {},
   "outputs": [],
   "source": [
    "filename = \"NMR_calculation_res_hist\"\n",
    "pio.write_image(fig, plotdir+filename+\".pdf\")\n",
    "pio.write_image(fig, plotdir+filename+\".png\")"
   ]
  },
  {
   "cell_type": "code",
   "execution_count": null,
   "metadata": {},
   "outputs": [],
   "source": [
    "fig = histo([df[\"LSQ_RES_REL\"],df[\"LSQ2_RES_REL\"],], bins=75, opacity=0.7)"
   ]
  },
  {
   "cell_type": "code",
   "execution_count": null,
   "metadata": {},
   "outputs": [],
   "source": [
    "import scipy.stats as stats"
   ]
  },
  {
   "cell_type": "raw",
   "metadata": {},
   "source": []
  },
  {
   "cell_type": "code",
   "execution_count": null,
   "metadata": {},
   "outputs": [],
   "source": [
    "chi2 = np.sum(np.square((df[\"NMR [T]\"] - df[\"NMR_lsq2\"])/2.9e-6))"
   ]
  },
  {
   "cell_type": "code",
   "execution_count": null,
   "metadata": {},
   "outputs": [],
   "source": [
    "chi2"
   ]
  },
  {
   "cell_type": "code",
   "execution_count": null,
   "metadata": {},
   "outputs": [],
   "source": [
    "dof = len(df) - 4 # 4 param fit\n",
    "chis = np.linspace(0, 10000, 100000)\n",
    "pdf = stats.chi2.pdf(chis, dof)"
   ]
  },
  {
   "cell_type": "code",
   "execution_count": null,
   "metadata": {},
   "outputs": [],
   "source": [
    "dof"
   ]
  },
  {
   "cell_type": "code",
   "execution_count": null,
   "metadata": {},
   "outputs": [],
   "source": [
    "chi2 / dof"
   ]
  },
  {
   "cell_type": "code",
   "execution_count": null,
   "metadata": {},
   "outputs": [],
   "source": [
    "plt.plot(chis, pdf, label=r\"p.d.f., $\\nu = 2$\")"
   ]
  },
  {
   "cell_type": "code",
   "execution_count": null,
   "metadata": {},
   "outputs": [],
   "source": [
    "dof\n",
    "\n",
    "plt.plot(chis/dof, pdf, label=r\"p.d.f., $\\nu = 2$\")\n",
    "plt.plot([chi2/dof, chi2/dof],[0, (pdf).max()], \"r--\", label= rf\"$\\chi^2_{{min}} =${chi2/dof:.3f}\")\n",
    "plt.xlabel(r\"$\\chi^2$\")\n",
    "plt.ylabel(\"p.d.f.\")\n",
    "plt.legend();"
   ]
  },
  {
   "cell_type": "code",
   "execution_count": null,
   "metadata": {},
   "outputs": [],
   "source": []
  },
  {
   "cell_type": "code",
   "execution_count": null,
   "metadata": {},
   "outputs": [],
   "source": []
  },
  {
   "cell_type": "code",
   "execution_count": null,
   "metadata": {},
   "outputs": [],
   "source": []
  },
  {
   "cell_type": "code",
   "execution_count": null,
   "metadata": {},
   "outputs": [],
   "source": []
  },
  {
   "cell_type": "markdown",
   "metadata": {},
   "source": [
    "### Old"
   ]
  },
  {
   "cell_type": "code",
   "execution_count": null,
   "metadata": {},
   "outputs": [],
   "source": [
    "# remove empty runs\n",
    "files_list.remove('2019-06-19 075455slow.txt')\n",
    "files_list.remove('2019-07-02 112857slow.txt')\n",
    "\n",
    "files_list.remove('2019-07-02 150753slow.txt') # unsure..."
   ]
  },
  {
   "cell_type": "code",
   "execution_count": null,
   "metadata": {},
   "outputs": [],
   "source": [
    "files_list"
   ]
  },
  {
   "cell_type": "code",
   "execution_count": null,
   "metadata": {},
   "outputs": [],
   "source": [
    "len(files_list)"
   ]
  },
  {
   "cell_type": "code",
   "execution_count": null,
   "metadata": {},
   "outputs": [],
   "source": [
    "df = []\n",
    "df_full = []\n",
    "durations = []\n",
    "\n",
    "for i,f in enumerate(files_list):\n",
    "    df_ = pd.read_csv(directory+f)\n",
    "    df_full_ = pd.read_csv(directory+f)\n",
    "    run = i+1\n",
    "    df_[\"run\"] = run\n",
    "    df_full_[\"run\"] = run\n",
    "    print(len(df_))\n",
    "    dates = [parser.parse(row.Time) for row in df_.itertuples()]\n",
    "    df_[\"Datetime\"] = pd.to_datetime(dates)#.astype(\"str\")\n",
    "    df_ = df_.set_index(\"Datetime\")\n",
    "    df_full_[\"Datetime\"] = pd.to_datetime(dates)#.astype(\"str\")\n",
    "    df_full_ = df_full_.set_index(\"Datetime\")\n",
    "    \n",
    "    df_ = df_[df_[\" NMR [T]\"] != 0]\n",
    "    # remove outliers\n",
    "    df_[\"outlier\"] = (df_[\" NMR [T]\"] < df_[\" NMR [T]\"].mean()-10*df_[\" NMR [T]\"].std()) | (df_[\" NMR [T]\"] > df_[\" NMR [T]\"].mean()+10*df_[\" NMR [T]\"].std())\n",
    "    df_ = df_[df_[\"outlier\"] == False]\n",
    "    \n",
    "    durations.append(df_.index[-1] - df_.index[0])\n",
    "    print(f\"File: {f}, Duration: {durations[-1]}, Mean: {df_[' NMR [T]'].mean()}, Std: {df_[' NMR [T]'].std()}\")\n",
    "    df.append(df_)\n",
    "    df_full.append(df_full_)\n",
    "    \n",
    "    df_full_.to_pickle(pkldir+f\"run{i+1:02d}_full.pkl\")\n",
    "    df_.to_pickle(pkldir+f\"run{i+1:02d}.pkl\")"
   ]
  },
  {
   "cell_type": "code",
   "execution_count": null,
   "metadata": {},
   "outputs": [],
   "source": [
    "df[11-1] = df[11-1].loc['2019-08-02 05:00:00':]"
   ]
  },
  {
   "cell_type": "code",
   "execution_count": null,
   "metadata": {},
   "outputs": [],
   "source": [
    "df[11-1].to_pickle(pkldir+f\"run11.pkl\")"
   ]
  },
  {
   "cell_type": "code",
   "execution_count": null,
   "metadata": {},
   "outputs": [],
   "source": []
  },
  {
   "cell_type": "code",
   "execution_count": null,
   "metadata": {},
   "outputs": [],
   "source": []
  },
  {
   "cell_type": "code",
   "execution_count": null,
   "metadata": {},
   "outputs": [],
   "source": [
    "# test pickled files\n",
    "df = []\n",
    "df_full = []\n",
    "durations = []\n",
    "\n",
    "for i in range(len(files_list)):\n",
    "    f = f\"run{i+1:02d}\"\n",
    "    df_ = pd.read_pickle(pkldir+f+\".pkl\")\n",
    "    df_full_ = pd.read_pickle(pkldir+f+\"_full.pkl\")\n",
    "    print(len(df_full_))\n",
    "    #dates = [parser.parse(row.Time) for row in df_.itertuples()]\n",
    "    #df_[\"Datetime\"] = pd.to_datetime(dates)#.astype(\"str\")\n",
    "    #df_ = df_.set_index(\"Datetime\")\n",
    "    #df_full_[\"Datetime\"] = pd.to_datetime(dates)#.astype(\"str\")\n",
    "    #df_full_ = df_full_.set_index(\"Datetime\")\n",
    "    \n",
    "    #df_ = df_[df_[\" NMR [T]\"] != 0]\n",
    "    durations.append(df_.index[-1] - df_.index[0])\n",
    "    print(f\"File: {f}, Duration: {durations[-1]}, Mean: {df_[' NMR [T]'].mean()}, Std: {df_[' NMR [T]'].std()}\")\n",
    "    df.append(df_)\n",
    "    df_full.append(df_full_)\n",
    "    \n",
    "    #df_full_.to_pickle(pkldir+f\"run{i+1:02d}_full.pkl\")\n",
    "    #df_.to_pickle(pkldir+f\"run{i+1:02d}.pkl\")"
   ]
  },
  {
   "cell_type": "code",
   "execution_count": null,
   "metadata": {},
   "outputs": [],
   "source": [
    "files_dict = {f\"run{i+1:02d}\": f for i,f in enumerate(files_list)}"
   ]
  },
  {
   "cell_type": "code",
   "execution_count": null,
   "metadata": {},
   "outputs": [],
   "source": [
    "files_dict"
   ]
  },
  {
   "cell_type": "code",
   "execution_count": null,
   "metadata": {},
   "outputs": [],
   "source": [
    "csv_columns = [\"Run Name\", \"Filename\"]"
   ]
  },
  {
   "cell_type": "code",
   "execution_count": null,
   "metadata": {},
   "outputs": [],
   "source": [
    "csv_file = hpc_ext_path+\"datafiles/magnet_stability/runs_list.csv\""
   ]
  },
  {
   "cell_type": "code",
   "execution_count": null,
   "metadata": {},
   "outputs": [],
   "source": [
    "with open(csv_file, \"w\") as csvfile:\n",
    "    writer = csv.writer(csvfile, delimiter=',', quotechar='\"', quoting=csv.QUOTE_MINIMAL)\n",
    "    writer.writerow(csv_columns)\n",
    "    for row,data in files_dict.items():\n",
    "        writer.writerow([row,data])"
   ]
  },
  {
   "cell_type": "code",
   "execution_count": null,
   "metadata": {},
   "outputs": [],
   "source": [
    "for row,data in files_dict.items():\n",
    "    print ({row:data})"
   ]
  },
  {
   "cell_type": "markdown",
   "metadata": {},
   "source": [
    "## Analyze!"
   ]
  },
  {
   "cell_type": "code",
   "execution_count": null,
   "metadata": {},
   "outputs": [],
   "source": [
    "for df_ in df:\n",
    "    df_[\" NMR [T]\"].plot()\n",
    "\n",
    "plt.legend()"
   ]
  },
  {
   "cell_type": "code",
   "execution_count": null,
   "metadata": {},
   "outputs": [],
   "source": [
    "legends = [f\"run{df_.iloc[0].run:02d}\" for df_ in df]\n",
    "fig = scatter2d([df_.index for df_ in df], [df_[\"NMR_const\"] for df_ in df], legend_list=legends, inline=True)"
   ]
  },
  {
   "cell_type": "code",
   "execution_count": null,
   "metadata": {},
   "outputs": [],
   "source": [
    "fname = \"NMR_const_all_runs\"\n",
    "pio.write_image(fig,plotdir+f\"{fname}.pdf\")\n",
    "pio.write_image(fig,plotdir+f\"{fname}.png\")"
   ]
  },
  {
   "cell_type": "code",
   "execution_count": null,
   "metadata": {},
   "outputs": [],
   "source": [
    "legends = [f\"run{df_.iloc[0].run:02d}\" for df_ in df]\n",
    "fig = scatter2d([df_.index for df_ in df], [df_[\" NMR [T]\"] for df_ in df], legend_list=legends, inline=True)"
   ]
  },
  {
   "cell_type": "code",
   "execution_count": null,
   "metadata": {},
   "outputs": [],
   "source": [
    "fname = \"NMR_all_runs\"\n",
    "pio.write_image(fig,plotdir+f\"{fname}.pdf\")\n",
    "pio.write_image(fig,plotdir+f\"{fname}.png\")"
   ]
  },
  {
   "cell_type": "code",
   "execution_count": null,
   "metadata": {},
   "outputs": [],
   "source": [
    "df[9].head()"
   ]
  },
  {
   "cell_type": "code",
   "execution_count": null,
   "metadata": {},
   "outputs": [],
   "source": [
    "df[4].tail()"
   ]
  },
  {
   "cell_type": "code",
   "execution_count": null,
   "metadata": {},
   "outputs": [],
   "source": [
    "for df_, duration in zip(df, durations):\n",
    "    print(len(df_), duration.days*24*60 + duration.seconds/60)"
   ]
  },
  {
   "cell_type": "markdown",
   "metadata": {},
   "source": [
    "This shows that only the last dataset is messy....should probably just cut off the first chunk of that dataset."
   ]
  },
  {
   "cell_type": "code",
   "execution_count": null,
   "metadata": {},
   "outputs": [],
   "source": [
    "for i,df_ in enumerate(df):\n",
    "    #outliers_mask = (df_[\" NMR [T]\"] < df_[\" NMR [T]\"].mean()-10*df_[\" NMR [T]\"].std()) | (df_[\" NMR [T]\"] > df_[\" NMR [T]\"].mean()+10*df_[\" NMR [T]\"].std())\n",
    "    df_[\"outlier\"] = (df_[\" NMR [T]\"] < df_[\" NMR [T]\"].mean()-10*df_[\" NMR [T]\"].std()) | (df_[\" NMR [T]\"] > df_[\" NMR [T]\"].mean()+10*df_[\" NMR [T]\"].std())\n",
    "    print(f\"run{df_.iloc[10].run:02d}: {df_['outlier'].sum()}\")\n",
    "    df_ = df_[df_[\"outlier\"] == False]\n",
    "    df[i] = df_\n",
    "    print(f\"run{df_.iloc[10].run:02d}: {df_['outlier'].sum()}\")"
   ]
  },
  {
   "cell_type": "code",
   "execution_count": null,
   "metadata": {},
   "outputs": [],
   "source": [
    "num_points = []\n",
    "\n",
    "for df_ in df:\n",
    "    num_points.append(len(df_))"
   ]
  },
  {
   "cell_type": "code",
   "execution_count": null,
   "metadata": {},
   "outputs": [],
   "source": [
    "sum(num_points)"
   ]
  },
  {
   "cell_type": "code",
   "execution_count": null,
   "metadata": {},
   "outputs": [],
   "source": [
    "total_minutes = []\n",
    "for d in durations:\n",
    "    total_minutes.append(d.days * 24 * 60 + d.seconds / 60)"
   ]
  },
  {
   "cell_type": "code",
   "execution_count": null,
   "metadata": {},
   "outputs": [],
   "source": [
    "sum(total_minutes)/60/24"
   ]
  },
  {
   "cell_type": "code",
   "execution_count": null,
   "metadata": {},
   "outputs": [],
   "source": [
    "sum(total_minutes)/60"
   ]
  },
  {
   "cell_type": "code",
   "execution_count": null,
   "metadata": {},
   "outputs": [],
   "source": [
    "sum(total_minutes)"
   ]
  },
  {
   "cell_type": "markdown",
   "metadata": {},
   "source": [
    "### Correlations"
   ]
  },
  {
   "cell_type": "code",
   "execution_count": null,
   "metadata": {},
   "outputs": [],
   "source": [
    "for i,df_ in enumerate(df):\n",
    "    primary_corr = dict()\n",
    "    for col in df_.columns:\n",
    "        if df_[col].dtype == np.float64:\n",
    "            slope_v, intercept_v, r_value_v, p_value_v, std_err_v = stats.linregress(df_[col], df_[\" NMR [T]\"])\n",
    "            #print(col,r_value_v,p_value_v,std_err_v)\n",
    "            primary_corr[col] = [r_value_v, slope_v]\n",
    "    sorted_primary_corr = sorted(primary_corr.items(), key=operator.itemgetter(1))\n",
    "    \n",
    "    _ = sorted_primary_corr[0]\n",
    "    df[i][\"corr_var\"] = _[0]\n",
    "    print(f\"run{df_.iloc[0].run:02d}: {sorted_primary_corr[0]}\")#,sorted_primary_corr[-3:]}\")"
   ]
  },
  {
   "cell_type": "code",
   "execution_count": null,
   "metadata": {},
   "outputs": [],
   "source": [
    "df[0].iloc[0].corr_var"
   ]
  },
  {
   "cell_type": "code",
   "execution_count": null,
   "metadata": {},
   "outputs": [],
   "source": [
    "for i,df_ in enumerate(df):\n",
    "    corr_main = df_.iloc[0].corr_var\n",
    "    slope, intercept, r_value, p_value, std_err = stats.linregress(df_[corr_main], df_[\" NMR [T]\"])\n",
    "    line = slope * df_[corr_main] + intercept\n",
    "    df[i][\"NMR_const\"] = df_[\" NMR [T]\"] - slope * df_[corr_main] - intercept + df_[\" NMR [T]\"].mean()"
   ]
  },
  {
   "cell_type": "code",
   "execution_count": null,
   "metadata": {},
   "outputs": [],
   "source": [
    "for i,df_ in enumerate(df):\n",
    "    print(f\"run{i+1:02d}: Mean: {df_['NMR_const'].mean()}, Std: {df_['NMR_const'].std()}\")"
   ]
  },
  {
   "cell_type": "code",
   "execution_count": null,
   "metadata": {},
   "outputs": [],
   "source": [
    "df[9].head()"
   ]
  },
  {
   "cell_type": "code",
   "execution_count": null,
   "metadata": {},
   "outputs": [],
   "source": [
    "df[8].tail()"
   ]
  },
  {
   "cell_type": "code",
   "execution_count": null,
   "metadata": {},
   "outputs": [],
   "source": []
  },
  {
   "cell_type": "code",
   "execution_count": null,
   "metadata": {},
   "outputs": [],
   "source": []
  },
  {
   "cell_type": "code",
   "execution_count": null,
   "metadata": {},
   "outputs": [],
   "source": []
  },
  {
   "cell_type": "code",
   "execution_count": null,
   "metadata": {},
   "outputs": [],
   "source": [
    "fig = scatter2d(df[9].index, df[9].NMR_const, inline=True)"
   ]
  },
  {
   "cell_type": "code",
   "execution_count": null,
   "metadata": {},
   "outputs": [],
   "source": [
    "fig = scatter2d(2*[df[9].index], [df[9][\" NMR [T]\"],df[9].NMR_const], inline=True)"
   ]
  },
  {
   "cell_type": "code",
   "execution_count": null,
   "metadata": {},
   "outputs": [],
   "source": []
  }
 ],
 "metadata": {
  "kernelspec": {
   "display_name": "Python [conda env:Mu2E]",
   "language": "python",
   "name": "conda-env-Mu2E-py"
  },
  "language_info": {
   "codemirror_mode": {
    "name": "ipython",
    "version": 3
   },
   "file_extension": ".py",
   "mimetype": "text/x-python",
   "name": "python",
   "nbconvert_exporter": "python",
   "pygments_lexer": "ipython3",
   "version": "3.7.4"
  }
 },
 "nbformat": 4,
 "nbformat_minor": 2
}
