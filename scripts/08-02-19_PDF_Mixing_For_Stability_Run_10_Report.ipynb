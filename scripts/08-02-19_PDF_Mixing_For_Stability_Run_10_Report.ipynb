{
 "cells": [
  {
   "cell_type": "markdown",
   "metadata": {},
   "source": [
    "# PDF Mixing"
   ]
  },
  {
   "cell_type": "code",
   "execution_count": 2,
   "metadata": {},
   "outputs": [],
   "source": [
    "import os\n",
    "import re\n",
    "from PyPDF2 import PdfFileReader, PdfFileWriter, PdfFileMerger\n",
    "\n",
    "from hallprobecalib import hpc_ext_path"
   ]
  },
  {
   "cell_type": "code",
   "execution_count": 3,
   "metadata": {},
   "outputs": [],
   "source": [
    "plot_dir = hpc_ext_path+\"plots/magnet_stability/\""
   ]
  },
  {
   "cell_type": "code",
   "execution_count": 6,
   "metadata": {},
   "outputs": [],
   "source": [
    "plot_file = plot_dir+\"2019-07-16_summary.pdf\"\n",
    "title_file = plot_dir+\"reports/2019-07-16/2019-07-16_title_page.pdf\"\n",
    "notes_file = plot_dir+\"reports/2019-07-16/2019-07-16_summary_notes.pdf\""
   ]
  },
  {
   "cell_type": "code",
   "execution_count": 18,
   "metadata": {},
   "outputs": [],
   "source": [
    "output_file = plot_dir+\"magnet_stability_report_run_10.pdf\""
   ]
  },
  {
   "cell_type": "code",
   "execution_count": null,
   "metadata": {},
   "outputs": [],
   "source": []
  },
  {
   "cell_type": "code",
   "execution_count": null,
   "metadata": {},
   "outputs": [],
   "source": []
  },
  {
   "cell_type": "code",
   "execution_count": 90,
   "metadata": {},
   "outputs": [],
   "source": [
    "pdf_plot = PdfFileReader(plot_file)\n",
    "pdf_title = PdfFileReader(title_file)\n",
    "pdf_notes = PdfFileReader(notes_file)"
   ]
  },
  {
   "cell_type": "code",
   "execution_count": 91,
   "metadata": {},
   "outputs": [],
   "source": [
    "pdf_plot_pages = []\n",
    "pdf_title_pages = []\n",
    "pdf_notes_pages = []\n",
    "\n",
    "for pr, pdf_list in zip([pdf_plot,pdf_title,pdf_notes],[pdf_plot_pages,pdf_title_pages,pdf_notes_pages]):\n",
    "    for page in range(pr.getNumPages()):\n",
    "        pdf_list.append(pr.getPage(page))"
   ]
  },
  {
   "cell_type": "code",
   "execution_count": 92,
   "metadata": {},
   "outputs": [],
   "source": [
    "#pdf_plot_pages"
   ]
  },
  {
   "cell_type": "code",
   "execution_count": 93,
   "metadata": {},
   "outputs": [],
   "source": [
    "combined_pdf = [pdf_title_pages[0]]\n",
    "for plot, notes in zip(pdf_plot_pages, pdf_notes_pages):\n",
    "    combined_pdf.append(plot)\n",
    "    combined_pdf.append(notes)"
   ]
  },
  {
   "cell_type": "code",
   "execution_count": 94,
   "metadata": {},
   "outputs": [],
   "source": [
    "pdf_writer = PdfFileWriter()"
   ]
  },
  {
   "cell_type": "code",
   "execution_count": 95,
   "metadata": {},
   "outputs": [],
   "source": [
    "for page in combined_pdf:\n",
    "    pdf_writer.addPage(page)"
   ]
  },
  {
   "cell_type": "code",
   "execution_count": 96,
   "metadata": {},
   "outputs": [],
   "source": [
    "with open(output_file, 'wb') as fh:\n",
    "    pdf_writer.write(fh)"
   ]
  },
  {
   "cell_type": "code",
   "execution_count": null,
   "metadata": {},
   "outputs": [],
   "source": []
  }
 ],
 "metadata": {
  "kernelspec": {
   "display_name": "Python [conda env:Mu2E]",
   "language": "python",
   "name": "conda-env-Mu2E-py"
  },
  "language_info": {
   "codemirror_mode": {
    "name": "ipython",
    "version": 3
   },
   "file_extension": ".py",
   "mimetype": "text/x-python",
   "name": "python",
   "nbconvert_exporter": "python",
   "pygments_lexer": "ipython3",
   "version": "3.7.3"
  }
 },
 "nbformat": 4,
 "nbformat_minor": 2
}
