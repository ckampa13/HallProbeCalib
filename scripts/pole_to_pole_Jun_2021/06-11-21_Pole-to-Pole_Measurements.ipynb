{
 "cells": [
  {
   "cell_type": "markdown",
   "metadata": {},
   "source": [
    "# Overview"
   ]
  },
  {
   "cell_type": "markdown",
   "metadata": {},
   "source": [
    "- With a few coarse maps completed, ran a few pole-to-pole measurments at the same magnet current\n",
    "- 1. Used last coarse map and picked a line that appeared to have measurments for all X\n",
    "- 2. First run was off-center, so did another with where I think the center of the pole is ($y=z=125$ mm)\n",
    "- 3. 3D grid with 1 cm x 1 cm in YZ, step size 1 mm, and the same X values as before. YZ is centered on the pole center."
   ]
  },
  {
   "cell_type": "code",
   "execution_count": null,
   "metadata": {},
   "outputs": [],
   "source": []
  }
 ],
 "metadata": {
  "kernelspec": {
   "display_name": "Python [conda env:mu2e]",
   "language": "python",
   "name": "conda-env-mu2e-py"
  },
  "language_info": {
   "codemirror_mode": {
    "name": "ipython",
    "version": 3
   },
   "file_extension": ".py",
   "mimetype": "text/x-python",
   "name": "python",
   "nbconvert_exporter": "python",
   "pygments_lexer": "ipython3",
   "version": "3.8.6"
  }
 },
 "nbformat": 4,
 "nbformat_minor": 2
}
