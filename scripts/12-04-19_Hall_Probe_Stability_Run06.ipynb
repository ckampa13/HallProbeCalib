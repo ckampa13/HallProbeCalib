{
 "cells": [
  {
   "cell_type": "markdown",
   "metadata": {},
   "source": [
    "# Background"
   ]
  },
  {
   "cell_type": "markdown",
   "metadata": {},
   "source": [
    "- Uses two datafiles starting 2019-12-04 and 2019-12-13\n",
    "- These are for the temperature tests of Hall probes\n",
    "- Second file stopped 2019-01-08"
   ]
  },
  {
   "cell_type": "markdown",
   "metadata": {},
   "source": [
    "# Code"
   ]
  },
  {
   "cell_type": "markdown",
   "metadata": {},
   "source": [
    "## Imports"
   ]
  },
  {
   "cell_type": "code",
   "execution_count": 1,
   "metadata": {},
   "outputs": [],
   "source": [
    "%load_ext autoreload\n",
    "%autoreload 2"
   ]
  },
  {
   "cell_type": "code",
   "execution_count": 3,
   "metadata": {},
   "outputs": [
    {
     "data": {
      "text/html": [
       "        <script type=\"text/javascript\">\n",
       "        window.PlotlyConfig = {MathJaxConfig: 'local'};\n",
       "        if (window.MathJax) {MathJax.Hub.Config({SVG: {font: \"STIX-Web\"}});}\n",
       "        if (typeof require !== 'undefined') {\n",
       "        require.undef(\"plotly\");\n",
       "        requirejs.config({\n",
       "            paths: {\n",
       "                'plotly': ['https://cdn.plot.ly/plotly-latest.min']\n",
       "            }\n",
       "        });\n",
       "        require(['plotly'], function(Plotly) {\n",
       "            window._Plotly = Plotly;\n",
       "        });\n",
       "        }\n",
       "        </script>\n",
       "        "
      ]
     },
     "metadata": {},
     "output_type": "display_data"
    }
   ],
   "source": [
    "import math\n",
    "import numpy as np\n",
    "import pandas as pd\n",
    "import pickle as pkl\n",
    "from datetime import datetime\n",
    "from dateutil import parser\n",
    "from datetime import datetime\n",
    "from sys import getsizeof\n",
    "import re\n",
    "\n",
    "import operator\n",
    "from scipy import stats\n",
    "import scipy.optimize as optimization\n",
    "import lmfit as lm\n",
    "\n",
    "import matplotlib.pyplot as plt\n",
    "from mpl_toolkits.mplot3d import Axes3D\n",
    "%matplotlib inline\n",
    "plt.rcParams['figure.figsize'] = (12.0, 8.0)\n",
    "plt.rcParams['axes.axisbelow'] = True\n",
    "\n",
    "from plotly.offline import init_notebook_mode, plot, iplot\n",
    "import plotly.graph_objs as go\n",
    "import plotly.io as pio\n",
    "from plotly.subplots import make_subplots\n",
    "import plotly.express as px\n",
    "init_notebook_mode(True)\n",
    "\n",
    "import seaborn as sns\n",
    "\n",
    "from wand.image import Image as WImage\n",
    "\n",
    "from hallprobecalib import hpc_ext_path\n",
    "from hallprobecalib.hpcplots import scatter2d,scatter3d,histo,py_profile"
   ]
  },
  {
   "cell_type": "code",
   "execution_count": 5,
   "metadata": {},
   "outputs": [],
   "source": [
    "make_plots = False#True # False"
   ]
  },
  {
   "cell_type": "code",
   "execution_count": 6,
   "metadata": {},
   "outputs": [],
   "source": [
    "plotdir = hpc_ext_path+'plots/hall_probe_stability/2019-12-04/'"
   ]
  },
  {
   "cell_type": "code",
   "execution_count": 7,
   "metadata": {},
   "outputs": [],
   "source": [
    "pkl_dir = hpc_ext_path+\"datafiles/hall_probe_stability/\"\n",
    "pkl_file_slow = \"hall_stability.run06.raw.slow.pkl\"\n",
    "#pkl_file_fast = \"hall_stability.run06.raw.fast.pkl\"\n",
    "#pkl_file_fast_sparse = \"hall_stability.run06.sparse.fast.pkl\""
   ]
  },
  {
   "cell_type": "code",
   "execution_count": 8,
   "metadata": {},
   "outputs": [],
   "source": [
    "df = pd.read_pickle(pkl_dir+pkl_file_slow)"
   ]
  },
  {
   "cell_type": "code",
   "execution_count": 8,
   "metadata": {},
   "outputs": [],
   "source": [
    "#df_fast = pd.read_pickle(pkl_dir+pkl_file_fast)\n",
    "#df_fast_sparse = pd.read_pickle(pkl_dir+pkl_file_fast_sparse)"
   ]
  },
  {
   "cell_type": "code",
   "execution_count": 9,
   "metadata": {},
   "outputs": [],
   "source": [
    "#df_fast['seconds_delta'].iloc[60:75]"
   ]
  },
  {
   "cell_type": "code",
   "execution_count": 10,
   "metadata": {},
   "outputs": [
    {
     "data": {
      "text/plain": [
       "Datetime\n",
       "2019-12-04 14:38:18      0.0\n",
       "2019-12-04 14:39:08     50.0\n",
       "2019-12-04 14:39:58    100.0\n",
       "2019-12-04 14:40:48    150.0\n",
       "2019-12-04 14:41:38    200.0\n",
       "2019-12-04 14:42:28    250.0\n",
       "2019-12-04 14:43:18    300.0\n",
       "2019-12-04 14:44:09    351.0\n",
       "2019-12-04 14:44:58    400.0\n",
       "2019-12-04 14:45:48    450.0\n",
       "Name: seconds_delta, dtype: float64"
      ]
     },
     "execution_count": 10,
     "metadata": {},
     "output_type": "execute_result"
    }
   ],
   "source": [
    "df['seconds_delta'].head(10)"
   ]
  },
  {
   "cell_type": "code",
   "execution_count": 9,
   "metadata": {},
   "outputs": [],
   "source": [
    "def pplot(fig):\n",
    "    pio.write_image(fig, 'temp.pdf')\n",
    "    img = WImage(filename='temp.pdf')\n",
    "    return img"
   ]
  },
  {
   "cell_type": "markdown",
   "metadata": {
    "heading_collapsed": true
   },
   "source": [
    "## Cleaning"
   ]
  },
  {
   "cell_type": "code",
   "execution_count": 12,
   "metadata": {
    "hidden": true
   },
   "outputs": [],
   "source": [
    "directory = \"/home/ckampa/Dropbox/LogFiles/\"#hpc_ext_path+'datafiles/magnet_stability/nmr/'\n",
    "filename_slow = '2019-12-04 143741slow.txt'#'2019-12-03 162209slow.txt' ## NO NMR IN FIRST FILE\n",
    "filename_slow_2 = '2019-12-13 111933slow.txt'"
   ]
  },
  {
   "cell_type": "code",
   "execution_count": 13,
   "metadata": {
    "hidden": true
   },
   "outputs": [],
   "source": [
    "df = pd.read_csv(directory+filename_slow)\n",
    "df.columns = df.columns.str.lstrip(\" \")\n",
    "df.drop(\"\", axis=1, inplace=True)\n",
    "dates = [parser.parse(row.Time) for row in df.itertuples()]# if isdatetime(row.Time.values[0])]\n",
    "df[\"Datetime\"] = pd.to_datetime(dates)#.astype(\"str\")\n",
    "df = df.set_index(\"Datetime\")\n",
    "## THOMAS WORKING ON WATER CHILLER INSTALLATION\n",
    "## MAGNET OFF AND TEMPS GET WEIRD\n",
    "df = df[:\"2019-12-12 14:26:00\"]"
   ]
  },
  {
   "cell_type": "code",
   "execution_count": 14,
   "metadata": {
    "hidden": true
   },
   "outputs": [],
   "source": [
    "df2 = pd.read_csv(directory+filename_slow_2)\n",
    "df2.columns = df2.columns.str.lstrip(\" \")\n",
    "df2.drop(\"\", axis=1, inplace=True)\n",
    "dates = [parser.parse(row.Time) for row in df2.itertuples()]# if isdatetime(row.Time.values[0])]\n",
    "df2[\"Datetime\"] = pd.to_datetime(dates)#.astype(\"str\")\n",
    "df2 = df2.set_index(\"Datetime\")"
   ]
  },
  {
   "cell_type": "code",
   "execution_count": 15,
   "metadata": {
    "hidden": true
   },
   "outputs": [
    {
     "data": {
      "text/html": [
       "<div>\n",
       "<style scoped>\n",
       "    .dataframe tbody tr th:only-of-type {\n",
       "        vertical-align: middle;\n",
       "    }\n",
       "\n",
       "    .dataframe tbody tr th {\n",
       "        vertical-align: top;\n",
       "    }\n",
       "\n",
       "    .dataframe thead th {\n",
       "        text-align: right;\n",
       "    }\n",
       "</style>\n",
       "<table border=\"1\" class=\"dataframe\">\n",
       "  <thead>\n",
       "    <tr style=\"text-align: right;\">\n",
       "      <th></th>\n",
       "      <th>Time</th>\n",
       "      <th>Magnet Current [A]</th>\n",
       "      <th>Magnet Voltage [V]</th>\n",
       "      <th>Coil 1 (new)</th>\n",
       "      <th>Coil 2 (old)</th>\n",
       "      <th>LCW in Coil1</th>\n",
       "      <th>LCW out Coil 1</th>\n",
       "      <th>LCW in Coil 2</th>\n",
       "      <th>LCW out Coil 2</th>\n",
       "      <th>Yoke</th>\n",
       "      <th>...</th>\n",
       "      <th>C50000000D5E473A_Cal_Z</th>\n",
       "      <th>DF0000000D5E803A_Cal_T</th>\n",
       "      <th>6A0000000D61333A_Cal_T</th>\n",
       "      <th>C50000000D5E473A_Cal_T</th>\n",
       "      <th>Zaber_Meas_MicroStep_X</th>\n",
       "      <th>Zaber_Meas_Encoder_X</th>\n",
       "      <th>Zaber_Meas_MicroStep_Y</th>\n",
       "      <th>Zaber_Meas_Encoder_Y</th>\n",
       "      <th>Zaber_Meas_MicroStep_Z</th>\n",
       "      <th>Zaber_Meas_Encoder_Z</th>\n",
       "    </tr>\n",
       "    <tr>\n",
       "      <th>Datetime</th>\n",
       "      <th></th>\n",
       "      <th></th>\n",
       "      <th></th>\n",
       "      <th></th>\n",
       "      <th></th>\n",
       "      <th></th>\n",
       "      <th></th>\n",
       "      <th></th>\n",
       "      <th></th>\n",
       "      <th></th>\n",
       "      <th></th>\n",
       "      <th></th>\n",
       "      <th></th>\n",
       "      <th></th>\n",
       "      <th></th>\n",
       "      <th></th>\n",
       "      <th></th>\n",
       "      <th></th>\n",
       "      <th></th>\n",
       "      <th></th>\n",
       "      <th></th>\n",
       "    </tr>\n",
       "  </thead>\n",
       "  <tbody>\n",
       "    <tr>\n",
       "      <th>2019-12-13 11:20:10</th>\n",
       "      <td>12/13/2019 11:20:10 AM</td>\n",
       "      <td>256.071510</td>\n",
       "      <td>30.961017</td>\n",
       "      <td>33.549297</td>\n",
       "      <td>31.119984</td>\n",
       "      <td>7.549104</td>\n",
       "      <td>10.463340</td>\n",
       "      <td>12.334523</td>\n",
       "      <td>14.516138</td>\n",
       "      <td>20.578840</td>\n",
       "      <td>...</td>\n",
       "      <td>-0.004689</td>\n",
       "      <td>16.668</td>\n",
       "      <td>17.473</td>\n",
       "      <td>16.992</td>\n",
       "      <td>249952.34375</td>\n",
       "      <td>639878.0</td>\n",
       "      <td>184468.359375</td>\n",
       "      <td>472239.0</td>\n",
       "      <td>750100.0</td>\n",
       "      <td>1920256.0</td>\n",
       "    </tr>\n",
       "    <tr>\n",
       "      <th>2019-12-13 11:21:00</th>\n",
       "      <td>12/13/2019 11:21:00 AM</td>\n",
       "      <td>256.071397</td>\n",
       "      <td>30.958833</td>\n",
       "      <td>33.572384</td>\n",
       "      <td>31.076975</td>\n",
       "      <td>7.546639</td>\n",
       "      <td>10.444542</td>\n",
       "      <td>12.321710</td>\n",
       "      <td>14.500689</td>\n",
       "      <td>20.559849</td>\n",
       "      <td>...</td>\n",
       "      <td>-0.004700</td>\n",
       "      <td>16.602</td>\n",
       "      <td>17.491</td>\n",
       "      <td>16.973</td>\n",
       "      <td>249952.34375</td>\n",
       "      <td>639878.0</td>\n",
       "      <td>184468.359375</td>\n",
       "      <td>472239.0</td>\n",
       "      <td>750100.0</td>\n",
       "      <td>1920256.0</td>\n",
       "    </tr>\n",
       "    <tr>\n",
       "      <th>2019-12-13 11:21:50</th>\n",
       "      <td>12/13/2019 11:21:50 AM</td>\n",
       "      <td>256.071453</td>\n",
       "      <td>30.956683</td>\n",
       "      <td>33.515110</td>\n",
       "      <td>31.088324</td>\n",
       "      <td>7.504282</td>\n",
       "      <td>10.426469</td>\n",
       "      <td>12.294535</td>\n",
       "      <td>14.481849</td>\n",
       "      <td>20.536831</td>\n",
       "      <td>...</td>\n",
       "      <td>-0.004701</td>\n",
       "      <td>16.608</td>\n",
       "      <td>17.493</td>\n",
       "      <td>16.972</td>\n",
       "      <td>249952.34375</td>\n",
       "      <td>639878.0</td>\n",
       "      <td>184468.359375</td>\n",
       "      <td>472239.0</td>\n",
       "      <td>750100.0</td>\n",
       "      <td>1920256.0</td>\n",
       "    </tr>\n",
       "    <tr>\n",
       "      <th>2019-12-13 11:22:40</th>\n",
       "      <td>12/13/2019 11:22:40 AM</td>\n",
       "      <td>256.071453</td>\n",
       "      <td>30.954517</td>\n",
       "      <td>33.549179</td>\n",
       "      <td>31.075892</td>\n",
       "      <td>7.492641</td>\n",
       "      <td>10.419066</td>\n",
       "      <td>12.282623</td>\n",
       "      <td>14.467204</td>\n",
       "      <td>20.528875</td>\n",
       "      <td>...</td>\n",
       "      <td>-0.004674</td>\n",
       "      <td>16.630</td>\n",
       "      <td>17.486</td>\n",
       "      <td>16.981</td>\n",
       "      <td>249952.34375</td>\n",
       "      <td>639878.0</td>\n",
       "      <td>184468.359375</td>\n",
       "      <td>472239.0</td>\n",
       "      <td>750100.0</td>\n",
       "      <td>1920256.0</td>\n",
       "    </tr>\n",
       "    <tr>\n",
       "      <th>2019-12-13 11:23:30</th>\n",
       "      <td>12/13/2019 11:23:30 AM</td>\n",
       "      <td>256.071453</td>\n",
       "      <td>30.952550</td>\n",
       "      <td>33.496910</td>\n",
       "      <td>31.055244</td>\n",
       "      <td>7.472020</td>\n",
       "      <td>10.411821</td>\n",
       "      <td>12.273101</td>\n",
       "      <td>14.450148</td>\n",
       "      <td>20.508961</td>\n",
       "      <td>...</td>\n",
       "      <td>-0.004699</td>\n",
       "      <td>16.599</td>\n",
       "      <td>17.472</td>\n",
       "      <td>16.948</td>\n",
       "      <td>249952.34375</td>\n",
       "      <td>639878.0</td>\n",
       "      <td>184468.359375</td>\n",
       "      <td>472239.0</td>\n",
       "      <td>750100.0</td>\n",
       "      <td>1920256.0</td>\n",
       "    </tr>\n",
       "    <tr>\n",
       "      <th>2019-12-13 11:24:20</th>\n",
       "      <td>12/13/2019 11:24:20 AM</td>\n",
       "      <td>256.071397</td>\n",
       "      <td>30.950333</td>\n",
       "      <td>33.482323</td>\n",
       "      <td>31.040310</td>\n",
       "      <td>7.478202</td>\n",
       "      <td>10.385602</td>\n",
       "      <td>12.247592</td>\n",
       "      <td>14.435091</td>\n",
       "      <td>20.490322</td>\n",
       "      <td>...</td>\n",
       "      <td>-0.004709</td>\n",
       "      <td>16.604</td>\n",
       "      <td>17.472</td>\n",
       "      <td>16.963</td>\n",
       "      <td>249952.34375</td>\n",
       "      <td>639878.0</td>\n",
       "      <td>184468.359375</td>\n",
       "      <td>472239.0</td>\n",
       "      <td>750100.0</td>\n",
       "      <td>1920256.0</td>\n",
       "    </tr>\n",
       "    <tr>\n",
       "      <th>2019-12-13 11:25:10</th>\n",
       "      <td>12/13/2019 11:25:10 AM</td>\n",
       "      <td>256.071567</td>\n",
       "      <td>30.948300</td>\n",
       "      <td>33.464439</td>\n",
       "      <td>31.019918</td>\n",
       "      <td>7.466934</td>\n",
       "      <td>10.388030</td>\n",
       "      <td>12.240971</td>\n",
       "      <td>14.422956</td>\n",
       "      <td>20.474533</td>\n",
       "      <td>...</td>\n",
       "      <td>-0.004710</td>\n",
       "      <td>16.575</td>\n",
       "      <td>17.453</td>\n",
       "      <td>16.944</td>\n",
       "      <td>249952.34375</td>\n",
       "      <td>639878.0</td>\n",
       "      <td>184468.359375</td>\n",
       "      <td>472239.0</td>\n",
       "      <td>750100.0</td>\n",
       "      <td>1920256.0</td>\n",
       "    </tr>\n",
       "    <tr>\n",
       "      <th>2019-12-13 11:26:00</th>\n",
       "      <td>12/13/2019 11:26:00 AM</td>\n",
       "      <td>256.071623</td>\n",
       "      <td>30.946300</td>\n",
       "      <td>33.429817</td>\n",
       "      <td>31.011446</td>\n",
       "      <td>7.465701</td>\n",
       "      <td>10.371524</td>\n",
       "      <td>12.243831</td>\n",
       "      <td>14.411193</td>\n",
       "      <td>20.455461</td>\n",
       "      <td>...</td>\n",
       "      <td>-0.004717</td>\n",
       "      <td>16.574</td>\n",
       "      <td>17.448</td>\n",
       "      <td>16.927</td>\n",
       "      <td>249952.34375</td>\n",
       "      <td>639878.0</td>\n",
       "      <td>184468.359375</td>\n",
       "      <td>472239.0</td>\n",
       "      <td>750100.0</td>\n",
       "      <td>1920256.0</td>\n",
       "    </tr>\n",
       "    <tr>\n",
       "      <th>2019-12-13 11:26:50</th>\n",
       "      <td>12/13/2019 11:26:50 AM</td>\n",
       "      <td>256.071567</td>\n",
       "      <td>30.944400</td>\n",
       "      <td>33.453201</td>\n",
       "      <td>30.982565</td>\n",
       "      <td>7.443418</td>\n",
       "      <td>10.356134</td>\n",
       "      <td>12.226747</td>\n",
       "      <td>14.400058</td>\n",
       "      <td>20.440203</td>\n",
       "      <td>...</td>\n",
       "      <td>-0.004687</td>\n",
       "      <td>16.557</td>\n",
       "      <td>17.442</td>\n",
       "      <td>16.917</td>\n",
       "      <td>249952.34375</td>\n",
       "      <td>639878.0</td>\n",
       "      <td>184468.359375</td>\n",
       "      <td>472239.0</td>\n",
       "      <td>750100.0</td>\n",
       "      <td>1920256.0</td>\n",
       "    </tr>\n",
       "    <tr>\n",
       "      <th>2019-12-13 11:27:40</th>\n",
       "      <td>12/13/2019 11:27:40 AM</td>\n",
       "      <td>256.071567</td>\n",
       "      <td>30.942533</td>\n",
       "      <td>33.422878</td>\n",
       "      <td>30.976280</td>\n",
       "      <td>7.431992</td>\n",
       "      <td>10.350885</td>\n",
       "      <td>12.217675</td>\n",
       "      <td>14.389746</td>\n",
       "      <td>20.430403</td>\n",
       "      <td>...</td>\n",
       "      <td>-0.004690</td>\n",
       "      <td>16.568</td>\n",
       "      <td>17.450</td>\n",
       "      <td>16.905</td>\n",
       "      <td>249952.34375</td>\n",
       "      <td>639878.0</td>\n",
       "      <td>184468.359375</td>\n",
       "      <td>472239.0</td>\n",
       "      <td>750100.0</td>\n",
       "      <td>1920256.0</td>\n",
       "    </tr>\n",
       "    <tr>\n",
       "      <th>2019-12-13 11:28:30</th>\n",
       "      <td>12/13/2019 11:28:30 AM</td>\n",
       "      <td>256.071623</td>\n",
       "      <td>30.940683</td>\n",
       "      <td>33.415287</td>\n",
       "      <td>30.954056</td>\n",
       "      <td>7.425164</td>\n",
       "      <td>10.344032</td>\n",
       "      <td>12.194930</td>\n",
       "      <td>14.377669</td>\n",
       "      <td>20.406933</td>\n",
       "      <td>...</td>\n",
       "      <td>-0.004691</td>\n",
       "      <td>16.578</td>\n",
       "      <td>17.436</td>\n",
       "      <td>16.919</td>\n",
       "      <td>249952.34375</td>\n",
       "      <td>639878.0</td>\n",
       "      <td>184468.359375</td>\n",
       "      <td>472239.0</td>\n",
       "      <td>750100.0</td>\n",
       "      <td>1920256.0</td>\n",
       "    </tr>\n",
       "    <tr>\n",
       "      <th>2019-12-13 11:29:21</th>\n",
       "      <td>12/13/2019 11:29:21 AM</td>\n",
       "      <td>256.071567</td>\n",
       "      <td>30.938867</td>\n",
       "      <td>33.375107</td>\n",
       "      <td>30.938631</td>\n",
       "      <td>7.411548</td>\n",
       "      <td>10.320339</td>\n",
       "      <td>12.189013</td>\n",
       "      <td>14.366632</td>\n",
       "      <td>20.397623</td>\n",
       "      <td>...</td>\n",
       "      <td>-0.004712</td>\n",
       "      <td>16.567</td>\n",
       "      <td>17.420</td>\n",
       "      <td>16.898</td>\n",
       "      <td>249952.34375</td>\n",
       "      <td>639878.0</td>\n",
       "      <td>184468.359375</td>\n",
       "      <td>472239.0</td>\n",
       "      <td>750100.0</td>\n",
       "      <td>1920256.0</td>\n",
       "    </tr>\n",
       "    <tr>\n",
       "      <th>2019-12-13 11:30:10</th>\n",
       "      <td>12/13/2019 11:30:10 AM</td>\n",
       "      <td>256.071510</td>\n",
       "      <td>30.937100</td>\n",
       "      <td>33.386524</td>\n",
       "      <td>30.931519</td>\n",
       "      <td>7.400103</td>\n",
       "      <td>10.310569</td>\n",
       "      <td>12.183292</td>\n",
       "      <td>14.349871</td>\n",
       "      <td>20.369127</td>\n",
       "      <td>...</td>\n",
       "      <td>-0.004692</td>\n",
       "      <td>16.559</td>\n",
       "      <td>17.408</td>\n",
       "      <td>16.881</td>\n",
       "      <td>249952.34375</td>\n",
       "      <td>639878.0</td>\n",
       "      <td>184468.359375</td>\n",
       "      <td>472239.0</td>\n",
       "      <td>750100.0</td>\n",
       "      <td>1920256.0</td>\n",
       "    </tr>\n",
       "    <tr>\n",
       "      <th>2019-12-13 11:31:00</th>\n",
       "      <td>12/13/2019 11:31:00 AM</td>\n",
       "      <td>256.071680</td>\n",
       "      <td>30.935317</td>\n",
       "      <td>33.345848</td>\n",
       "      <td>30.923658</td>\n",
       "      <td>7.396523</td>\n",
       "      <td>10.291575</td>\n",
       "      <td>12.168344</td>\n",
       "      <td>14.340383</td>\n",
       "      <td>20.353672</td>\n",
       "      <td>...</td>\n",
       "      <td>-0.004720</td>\n",
       "      <td>16.544</td>\n",
       "      <td>17.418</td>\n",
       "      <td>16.896</td>\n",
       "      <td>249952.34375</td>\n",
       "      <td>639878.0</td>\n",
       "      <td>184468.359375</td>\n",
       "      <td>472239.0</td>\n",
       "      <td>750100.0</td>\n",
       "      <td>1920256.0</td>\n",
       "    </tr>\n",
       "    <tr>\n",
       "      <th>2019-12-13 11:31:50</th>\n",
       "      <td>12/13/2019 11:31:50 AM</td>\n",
       "      <td>256.071623</td>\n",
       "      <td>30.933533</td>\n",
       "      <td>33.379444</td>\n",
       "      <td>30.922161</td>\n",
       "      <td>7.385626</td>\n",
       "      <td>10.285701</td>\n",
       "      <td>12.152769</td>\n",
       "      <td>14.319700</td>\n",
       "      <td>20.341358</td>\n",
       "      <td>...</td>\n",
       "      <td>-0.004717</td>\n",
       "      <td>16.550</td>\n",
       "      <td>17.399</td>\n",
       "      <td>16.875</td>\n",
       "      <td>249952.34375</td>\n",
       "      <td>639878.0</td>\n",
       "      <td>184468.359375</td>\n",
       "      <td>472239.0</td>\n",
       "      <td>750100.0</td>\n",
       "      <td>1920256.0</td>\n",
       "    </tr>\n",
       "    <tr>\n",
       "      <th>2019-12-13 11:32:40</th>\n",
       "      <td>12/13/2019 11:32:40 AM</td>\n",
       "      <td>256.071623</td>\n",
       "      <td>30.931667</td>\n",
       "      <td>33.359177</td>\n",
       "      <td>30.898006</td>\n",
       "      <td>7.369701</td>\n",
       "      <td>10.269685</td>\n",
       "      <td>12.147323</td>\n",
       "      <td>14.308017</td>\n",
       "      <td>20.324606</td>\n",
       "      <td>...</td>\n",
       "      <td>-0.004684</td>\n",
       "      <td>16.535</td>\n",
       "      <td>17.375</td>\n",
       "      <td>16.867</td>\n",
       "      <td>249952.34375</td>\n",
       "      <td>639878.0</td>\n",
       "      <td>184468.359375</td>\n",
       "      <td>472239.0</td>\n",
       "      <td>750100.0</td>\n",
       "      <td>1920256.0</td>\n",
       "    </tr>\n",
       "    <tr>\n",
       "      <th>2019-12-13 11:33:30</th>\n",
       "      <td>12/13/2019 11:33:30 AM</td>\n",
       "      <td>256.071567</td>\n",
       "      <td>30.929950</td>\n",
       "      <td>33.347366</td>\n",
       "      <td>30.867964</td>\n",
       "      <td>7.336698</td>\n",
       "      <td>10.259229</td>\n",
       "      <td>12.146990</td>\n",
       "      <td>14.294117</td>\n",
       "      <td>20.302452</td>\n",
       "      <td>...</td>\n",
       "      <td>-0.004725</td>\n",
       "      <td>16.542</td>\n",
       "      <td>17.376</td>\n",
       "      <td>16.850</td>\n",
       "      <td>249952.34375</td>\n",
       "      <td>639878.0</td>\n",
       "      <td>184468.359375</td>\n",
       "      <td>472239.0</td>\n",
       "      <td>750100.0</td>\n",
       "      <td>1920256.0</td>\n",
       "    </tr>\n",
       "    <tr>\n",
       "      <th>2019-12-13 11:34:20</th>\n",
       "      <td>12/13/2019 11:34:20 AM</td>\n",
       "      <td>256.071623</td>\n",
       "      <td>30.928233</td>\n",
       "      <td>33.340900</td>\n",
       "      <td>30.858900</td>\n",
       "      <td>7.337245</td>\n",
       "      <td>10.250379</td>\n",
       "      <td>12.129553</td>\n",
       "      <td>14.283394</td>\n",
       "      <td>20.291004</td>\n",
       "      <td>...</td>\n",
       "      <td>-0.004696</td>\n",
       "      <td>16.546</td>\n",
       "      <td>17.370</td>\n",
       "      <td>16.879</td>\n",
       "      <td>249952.34375</td>\n",
       "      <td>639878.0</td>\n",
       "      <td>184468.359375</td>\n",
       "      <td>472239.0</td>\n",
       "      <td>750100.0</td>\n",
       "      <td>1920256.0</td>\n",
       "    </tr>\n",
       "    <tr>\n",
       "      <th>2019-12-13 11:35:10</th>\n",
       "      <td>12/13/2019 11:35:10 AM</td>\n",
       "      <td>256.071453</td>\n",
       "      <td>30.926500</td>\n",
       "      <td>33.336346</td>\n",
       "      <td>30.866999</td>\n",
       "      <td>7.318230</td>\n",
       "      <td>10.238885</td>\n",
       "      <td>12.120150</td>\n",
       "      <td>14.274945</td>\n",
       "      <td>20.272091</td>\n",
       "      <td>...</td>\n",
       "      <td>-0.004675</td>\n",
       "      <td>16.530</td>\n",
       "      <td>17.366</td>\n",
       "      <td>16.858</td>\n",
       "      <td>249952.34375</td>\n",
       "      <td>639878.0</td>\n",
       "      <td>184468.359375</td>\n",
       "      <td>472239.0</td>\n",
       "      <td>750100.0</td>\n",
       "      <td>1920256.0</td>\n",
       "    </tr>\n",
       "    <tr>\n",
       "      <th>2019-12-13 11:36:00</th>\n",
       "      <td>12/13/2019 11:36:00 AM</td>\n",
       "      <td>256.071680</td>\n",
       "      <td>30.924767</td>\n",
       "      <td>33.307190</td>\n",
       "      <td>30.843357</td>\n",
       "      <td>7.330652</td>\n",
       "      <td>10.233148</td>\n",
       "      <td>12.105985</td>\n",
       "      <td>14.254675</td>\n",
       "      <td>20.257578</td>\n",
       "      <td>...</td>\n",
       "      <td>-0.004695</td>\n",
       "      <td>16.549</td>\n",
       "      <td>17.361</td>\n",
       "      <td>16.845</td>\n",
       "      <td>249952.34375</td>\n",
       "      <td>639878.0</td>\n",
       "      <td>184468.359375</td>\n",
       "      <td>472239.0</td>\n",
       "      <td>750100.0</td>\n",
       "      <td>1920256.0</td>\n",
       "    </tr>\n",
       "    <tr>\n",
       "      <th>2019-12-13 11:36:50</th>\n",
       "      <td>12/13/2019 11:36:50 AM</td>\n",
       "      <td>256.071623</td>\n",
       "      <td>30.923067</td>\n",
       "      <td>33.297234</td>\n",
       "      <td>30.816486</td>\n",
       "      <td>7.333059</td>\n",
       "      <td>10.220303</td>\n",
       "      <td>12.091330</td>\n",
       "      <td>14.249891</td>\n",
       "      <td>20.246483</td>\n",
       "      <td>...</td>\n",
       "      <td>-0.004696</td>\n",
       "      <td>16.571</td>\n",
       "      <td>17.345</td>\n",
       "      <td>16.872</td>\n",
       "      <td>249952.34375</td>\n",
       "      <td>639878.0</td>\n",
       "      <td>184468.359375</td>\n",
       "      <td>472239.0</td>\n",
       "      <td>750100.0</td>\n",
       "      <td>1920256.0</td>\n",
       "    </tr>\n",
       "    <tr>\n",
       "      <th>2019-12-13 11:37:40</th>\n",
       "      <td>12/13/2019 11:37:40 AM</td>\n",
       "      <td>256.071680</td>\n",
       "      <td>30.921433</td>\n",
       "      <td>33.286762</td>\n",
       "      <td>30.805237</td>\n",
       "      <td>7.326133</td>\n",
       "      <td>10.219069</td>\n",
       "      <td>12.073777</td>\n",
       "      <td>14.239502</td>\n",
       "      <td>20.229162</td>\n",
       "      <td>...</td>\n",
       "      <td>-0.004697</td>\n",
       "      <td>16.560</td>\n",
       "      <td>17.349</td>\n",
       "      <td>16.838</td>\n",
       "      <td>249952.34375</td>\n",
       "      <td>639878.0</td>\n",
       "      <td>184468.359375</td>\n",
       "      <td>472239.0</td>\n",
       "      <td>750100.0</td>\n",
       "      <td>1920256.0</td>\n",
       "    </tr>\n",
       "    <tr>\n",
       "      <th>2019-12-13 11:38:30</th>\n",
       "      <td>12/13/2019 11:38:30 AM</td>\n",
       "      <td>256.071623</td>\n",
       "      <td>30.919933</td>\n",
       "      <td>33.253326</td>\n",
       "      <td>30.802578</td>\n",
       "      <td>7.307920</td>\n",
       "      <td>10.203249</td>\n",
       "      <td>12.090175</td>\n",
       "      <td>14.228484</td>\n",
       "      <td>20.211193</td>\n",
       "      <td>...</td>\n",
       "      <td>-0.004710</td>\n",
       "      <td>16.519</td>\n",
       "      <td>17.345</td>\n",
       "      <td>16.854</td>\n",
       "      <td>249952.34375</td>\n",
       "      <td>639878.0</td>\n",
       "      <td>184468.359375</td>\n",
       "      <td>472239.0</td>\n",
       "      <td>750100.0</td>\n",
       "      <td>1920256.0</td>\n",
       "    </tr>\n",
       "    <tr>\n",
       "      <th>2019-12-13 11:39:20</th>\n",
       "      <td>12/13/2019 11:39:20 AM</td>\n",
       "      <td>256.071623</td>\n",
       "      <td>30.918417</td>\n",
       "      <td>33.232666</td>\n",
       "      <td>30.781202</td>\n",
       "      <td>7.275269</td>\n",
       "      <td>10.186743</td>\n",
       "      <td>12.082907</td>\n",
       "      <td>14.216390</td>\n",
       "      <td>20.193951</td>\n",
       "      <td>...</td>\n",
       "      <td>-0.004729</td>\n",
       "      <td>16.533</td>\n",
       "      <td>17.349</td>\n",
       "      <td>16.820</td>\n",
       "      <td>249952.34375</td>\n",
       "      <td>639878.0</td>\n",
       "      <td>184468.359375</td>\n",
       "      <td>472239.0</td>\n",
       "      <td>750100.0</td>\n",
       "      <td>1920256.0</td>\n",
       "    </tr>\n",
       "    <tr>\n",
       "      <th>2019-12-13 11:40:10</th>\n",
       "      <td>12/13/2019 11:40:10 AM</td>\n",
       "      <td>256.071680</td>\n",
       "      <td>30.916900</td>\n",
       "      <td>33.248417</td>\n",
       "      <td>30.787565</td>\n",
       "      <td>7.260225</td>\n",
       "      <td>10.183003</td>\n",
       "      <td>12.081555</td>\n",
       "      <td>14.209724</td>\n",
       "      <td>20.175745</td>\n",
       "      <td>...</td>\n",
       "      <td>-0.004727</td>\n",
       "      <td>16.516</td>\n",
       "      <td>17.351</td>\n",
       "      <td>16.846</td>\n",
       "      <td>249952.34375</td>\n",
       "      <td>639878.0</td>\n",
       "      <td>184468.359375</td>\n",
       "      <td>472239.0</td>\n",
       "      <td>750100.0</td>\n",
       "      <td>1920256.0</td>\n",
       "    </tr>\n",
       "    <tr>\n",
       "      <th>2019-12-13 11:41:00</th>\n",
       "      <td>12/13/2019 11:41:00 AM</td>\n",
       "      <td>256.071623</td>\n",
       "      <td>30.915583</td>\n",
       "      <td>33.252678</td>\n",
       "      <td>30.775982</td>\n",
       "      <td>7.275856</td>\n",
       "      <td>10.186977</td>\n",
       "      <td>12.063727</td>\n",
       "      <td>14.208666</td>\n",
       "      <td>20.156029</td>\n",
       "      <td>...</td>\n",
       "      <td>-0.004712</td>\n",
       "      <td>16.499</td>\n",
       "      <td>17.350</td>\n",
       "      <td>16.832</td>\n",
       "      <td>249952.34375</td>\n",
       "      <td>639878.0</td>\n",
       "      <td>184468.359375</td>\n",
       "      <td>472239.0</td>\n",
       "      <td>750100.0</td>\n",
       "      <td>1920256.0</td>\n",
       "    </tr>\n",
       "    <tr>\n",
       "      <th>2019-12-13 11:41:50</th>\n",
       "      <td>12/13/2019 11:41:50 AM</td>\n",
       "      <td>256.071680</td>\n",
       "      <td>30.914333</td>\n",
       "      <td>33.219734</td>\n",
       "      <td>30.770802</td>\n",
       "      <td>7.281784</td>\n",
       "      <td>10.181926</td>\n",
       "      <td>12.062631</td>\n",
       "      <td>14.202196</td>\n",
       "      <td>20.147093</td>\n",
       "      <td>...</td>\n",
       "      <td>-0.004686</td>\n",
       "      <td>16.497</td>\n",
       "      <td>17.350</td>\n",
       "      <td>16.833</td>\n",
       "      <td>249952.34375</td>\n",
       "      <td>639878.0</td>\n",
       "      <td>184468.359375</td>\n",
       "      <td>472239.0</td>\n",
       "      <td>750100.0</td>\n",
       "      <td>1920256.0</td>\n",
       "    </tr>\n",
       "    <tr>\n",
       "      <th>2019-12-13 11:42:40</th>\n",
       "      <td>12/13/2019 11:42:40 AM</td>\n",
       "      <td>256.071680</td>\n",
       "      <td>30.913117</td>\n",
       "      <td>33.200512</td>\n",
       "      <td>30.755356</td>\n",
       "      <td>7.283173</td>\n",
       "      <td>10.179752</td>\n",
       "      <td>12.061808</td>\n",
       "      <td>14.202647</td>\n",
       "      <td>20.135330</td>\n",
       "      <td>...</td>\n",
       "      <td>-0.004697</td>\n",
       "      <td>16.504</td>\n",
       "      <td>17.335</td>\n",
       "      <td>16.866</td>\n",
       "      <td>249952.34375</td>\n",
       "      <td>639878.0</td>\n",
       "      <td>184468.359375</td>\n",
       "      <td>472239.0</td>\n",
       "      <td>750100.0</td>\n",
       "      <td>1920256.0</td>\n",
       "    </tr>\n",
       "    <tr>\n",
       "      <th>2019-12-13 11:43:30</th>\n",
       "      <td>12/13/2019 11:43:30 AM</td>\n",
       "      <td>256.071680</td>\n",
       "      <td>30.911950</td>\n",
       "      <td>33.197277</td>\n",
       "      <td>30.736799</td>\n",
       "      <td>7.269009</td>\n",
       "      <td>10.159155</td>\n",
       "      <td>12.055088</td>\n",
       "      <td>14.187925</td>\n",
       "      <td>20.113846</td>\n",
       "      <td>...</td>\n",
       "      <td>-0.004674</td>\n",
       "      <td>16.499</td>\n",
       "      <td>17.331</td>\n",
       "      <td>16.850</td>\n",
       "      <td>249952.34375</td>\n",
       "      <td>639878.0</td>\n",
       "      <td>184468.359375</td>\n",
       "      <td>472239.0</td>\n",
       "      <td>750100.0</td>\n",
       "      <td>1920256.0</td>\n",
       "    </tr>\n",
       "    <tr>\n",
       "      <th>2019-12-13 11:44:21</th>\n",
       "      <td>12/13/2019 11:44:21 AM</td>\n",
       "      <td>256.071623</td>\n",
       "      <td>30.910667</td>\n",
       "      <td>33.202660</td>\n",
       "      <td>30.727797</td>\n",
       "      <td>7.264920</td>\n",
       "      <td>10.162738</td>\n",
       "      <td>12.048564</td>\n",
       "      <td>14.180280</td>\n",
       "      <td>20.103949</td>\n",
       "      <td>...</td>\n",
       "      <td>-0.004687</td>\n",
       "      <td>16.522</td>\n",
       "      <td>17.324</td>\n",
       "      <td>16.838</td>\n",
       "      <td>249952.34375</td>\n",
       "      <td>639878.0</td>\n",
       "      <td>184468.359375</td>\n",
       "      <td>472239.0</td>\n",
       "      <td>750100.0</td>\n",
       "      <td>1920256.0</td>\n",
       "    </tr>\n",
       "    <tr>\n",
       "      <th>...</th>\n",
       "      <td>...</td>\n",
       "      <td>...</td>\n",
       "      <td>...</td>\n",
       "      <td>...</td>\n",
       "      <td>...</td>\n",
       "      <td>...</td>\n",
       "      <td>...</td>\n",
       "      <td>...</td>\n",
       "      <td>...</td>\n",
       "      <td>...</td>\n",
       "      <td>...</td>\n",
       "      <td>...</td>\n",
       "      <td>...</td>\n",
       "      <td>...</td>\n",
       "      <td>...</td>\n",
       "      <td>...</td>\n",
       "      <td>...</td>\n",
       "      <td>...</td>\n",
       "      <td>...</td>\n",
       "      <td>...</td>\n",
       "      <td>...</td>\n",
       "    </tr>\n",
       "    <tr>\n",
       "      <th>2020-01-08 11:44:30</th>\n",
       "      <td>1/8/2020 11:44:30 AM</td>\n",
       "      <td>256.072530</td>\n",
       "      <td>30.872900</td>\n",
       "      <td>32.875515</td>\n",
       "      <td>30.417280</td>\n",
       "      <td>7.016049</td>\n",
       "      <td>9.943393</td>\n",
       "      <td>11.638594</td>\n",
       "      <td>13.933583</td>\n",
       "      <td>16.702187</td>\n",
       "      <td>...</td>\n",
       "      <td>-0.004672</td>\n",
       "      <td>16.075</td>\n",
       "      <td>16.884</td>\n",
       "      <td>16.499</td>\n",
       "      <td>249952.34375</td>\n",
       "      <td>639878.0</td>\n",
       "      <td>184468.359375</td>\n",
       "      <td>472239.0</td>\n",
       "      <td>750100.0</td>\n",
       "      <td>1920256.0</td>\n",
       "    </tr>\n",
       "    <tr>\n",
       "      <th>2020-01-08 11:45:20</th>\n",
       "      <td>1/8/2020 11:45:20 AM</td>\n",
       "      <td>256.072643</td>\n",
       "      <td>30.872217</td>\n",
       "      <td>32.858070</td>\n",
       "      <td>30.435955</td>\n",
       "      <td>7.023893</td>\n",
       "      <td>9.947739</td>\n",
       "      <td>11.619084</td>\n",
       "      <td>13.927742</td>\n",
       "      <td>16.701618</td>\n",
       "      <td>...</td>\n",
       "      <td>-0.004707</td>\n",
       "      <td>16.085</td>\n",
       "      <td>16.894</td>\n",
       "      <td>16.482</td>\n",
       "      <td>249952.34375</td>\n",
       "      <td>639878.0</td>\n",
       "      <td>184468.359375</td>\n",
       "      <td>472239.0</td>\n",
       "      <td>750100.0</td>\n",
       "      <td>1920256.0</td>\n",
       "    </tr>\n",
       "    <tr>\n",
       "      <th>2020-01-08 11:46:10</th>\n",
       "      <td>1/8/2020 11:46:10 AM</td>\n",
       "      <td>256.072700</td>\n",
       "      <td>30.871600</td>\n",
       "      <td>32.848393</td>\n",
       "      <td>30.409145</td>\n",
       "      <td>7.016577</td>\n",
       "      <td>9.940632</td>\n",
       "      <td>11.631758</td>\n",
       "      <td>13.926312</td>\n",
       "      <td>16.701147</td>\n",
       "      <td>...</td>\n",
       "      <td>-0.004678</td>\n",
       "      <td>16.092</td>\n",
       "      <td>16.890</td>\n",
       "      <td>16.492</td>\n",
       "      <td>249952.34375</td>\n",
       "      <td>639878.0</td>\n",
       "      <td>184468.359375</td>\n",
       "      <td>472239.0</td>\n",
       "      <td>750100.0</td>\n",
       "      <td>1920256.0</td>\n",
       "    </tr>\n",
       "    <tr>\n",
       "      <th>2020-01-08 11:47:00</th>\n",
       "      <td>1/8/2020 11:47:00 AM</td>\n",
       "      <td>256.072700</td>\n",
       "      <td>30.870983</td>\n",
       "      <td>32.825665</td>\n",
       "      <td>30.399513</td>\n",
       "      <td>7.009593</td>\n",
       "      <td>9.937441</td>\n",
       "      <td>11.613462</td>\n",
       "      <td>13.922391</td>\n",
       "      <td>16.699657</td>\n",
       "      <td>...</td>\n",
       "      <td>-0.004702</td>\n",
       "      <td>16.082</td>\n",
       "      <td>16.893</td>\n",
       "      <td>16.500</td>\n",
       "      <td>249952.34375</td>\n",
       "      <td>639878.0</td>\n",
       "      <td>184468.359375</td>\n",
       "      <td>472239.0</td>\n",
       "      <td>750100.0</td>\n",
       "      <td>1920256.0</td>\n",
       "    </tr>\n",
       "    <tr>\n",
       "      <th>2020-01-08 11:47:50</th>\n",
       "      <td>1/8/2020 11:47:50 AM</td>\n",
       "      <td>256.072700</td>\n",
       "      <td>30.870267</td>\n",
       "      <td>32.828503</td>\n",
       "      <td>30.412237</td>\n",
       "      <td>7.005701</td>\n",
       "      <td>9.929708</td>\n",
       "      <td>11.599927</td>\n",
       "      <td>13.908454</td>\n",
       "      <td>16.701462</td>\n",
       "      <td>...</td>\n",
       "      <td>-0.004706</td>\n",
       "      <td>16.076</td>\n",
       "      <td>16.887</td>\n",
       "      <td>16.494</td>\n",
       "      <td>249952.34375</td>\n",
       "      <td>639878.0</td>\n",
       "      <td>184468.359375</td>\n",
       "      <td>472239.0</td>\n",
       "      <td>750100.0</td>\n",
       "      <td>1920256.0</td>\n",
       "    </tr>\n",
       "    <tr>\n",
       "      <th>2020-01-08 11:48:40</th>\n",
       "      <td>1/8/2020 11:48:40 AM</td>\n",
       "      <td>256.072700</td>\n",
       "      <td>30.869500</td>\n",
       "      <td>32.806187</td>\n",
       "      <td>30.399572</td>\n",
       "      <td>6.980760</td>\n",
       "      <td>9.909169</td>\n",
       "      <td>11.601964</td>\n",
       "      <td>13.897987</td>\n",
       "      <td>16.699068</td>\n",
       "      <td>...</td>\n",
       "      <td>-0.004722</td>\n",
       "      <td>16.081</td>\n",
       "      <td>16.882</td>\n",
       "      <td>16.484</td>\n",
       "      <td>249952.34375</td>\n",
       "      <td>639878.0</td>\n",
       "      <td>184468.359375</td>\n",
       "      <td>472239.0</td>\n",
       "      <td>750100.0</td>\n",
       "      <td>1920256.0</td>\n",
       "    </tr>\n",
       "    <tr>\n",
       "      <th>2020-01-08 11:49:30</th>\n",
       "      <td>1/8/2020 11:49:30 AM</td>\n",
       "      <td>256.072700</td>\n",
       "      <td>30.868517</td>\n",
       "      <td>32.782455</td>\n",
       "      <td>30.391416</td>\n",
       "      <td>6.967067</td>\n",
       "      <td>9.898754</td>\n",
       "      <td>11.566901</td>\n",
       "      <td>13.878582</td>\n",
       "      <td>16.697126</td>\n",
       "      <td>...</td>\n",
       "      <td>-0.004630</td>\n",
       "      <td>16.075</td>\n",
       "      <td>16.880</td>\n",
       "      <td>16.494</td>\n",
       "      <td>249952.34375</td>\n",
       "      <td>639878.0</td>\n",
       "      <td>184468.359375</td>\n",
       "      <td>472239.0</td>\n",
       "      <td>750100.0</td>\n",
       "      <td>1920256.0</td>\n",
       "    </tr>\n",
       "    <tr>\n",
       "      <th>2020-01-08 11:50:20</th>\n",
       "      <td>1/8/2020 11:50:20 AM</td>\n",
       "      <td>256.072700</td>\n",
       "      <td>30.867483</td>\n",
       "      <td>32.794201</td>\n",
       "      <td>30.376545</td>\n",
       "      <td>6.947037</td>\n",
       "      <td>9.870326</td>\n",
       "      <td>11.567685</td>\n",
       "      <td>13.861136</td>\n",
       "      <td>16.698263</td>\n",
       "      <td>...</td>\n",
       "      <td>-0.004713</td>\n",
       "      <td>16.089</td>\n",
       "      <td>16.887</td>\n",
       "      <td>16.492</td>\n",
       "      <td>249952.34375</td>\n",
       "      <td>639878.0</td>\n",
       "      <td>184468.359375</td>\n",
       "      <td>472239.0</td>\n",
       "      <td>750100.0</td>\n",
       "      <td>1920256.0</td>\n",
       "    </tr>\n",
       "    <tr>\n",
       "      <th>2020-01-08 11:51:10</th>\n",
       "      <td>1/8/2020 11:51:10 AM</td>\n",
       "      <td>256.072700</td>\n",
       "      <td>30.866333</td>\n",
       "      <td>32.783714</td>\n",
       "      <td>30.374575</td>\n",
       "      <td>6.935515</td>\n",
       "      <td>9.851571</td>\n",
       "      <td>11.542867</td>\n",
       "      <td>13.848553</td>\n",
       "      <td>16.698618</td>\n",
       "      <td>...</td>\n",
       "      <td>-0.004722</td>\n",
       "      <td>16.078</td>\n",
       "      <td>16.888</td>\n",
       "      <td>16.482</td>\n",
       "      <td>249952.34375</td>\n",
       "      <td>639878.0</td>\n",
       "      <td>184468.359375</td>\n",
       "      <td>472239.0</td>\n",
       "      <td>750100.0</td>\n",
       "      <td>1920256.0</td>\n",
       "    </tr>\n",
       "    <tr>\n",
       "      <th>2020-01-08 11:52:00</th>\n",
       "      <td>1/8/2020 11:52:00 AM</td>\n",
       "      <td>256.072700</td>\n",
       "      <td>30.865167</td>\n",
       "      <td>32.754070</td>\n",
       "      <td>30.374596</td>\n",
       "      <td>6.919944</td>\n",
       "      <td>9.846715</td>\n",
       "      <td>11.569938</td>\n",
       "      <td>13.844162</td>\n",
       "      <td>16.697872</td>\n",
       "      <td>...</td>\n",
       "      <td>-0.004708</td>\n",
       "      <td>16.089</td>\n",
       "      <td>16.890</td>\n",
       "      <td>16.480</td>\n",
       "      <td>249952.34375</td>\n",
       "      <td>639878.0</td>\n",
       "      <td>184468.359375</td>\n",
       "      <td>472239.0</td>\n",
       "      <td>750100.0</td>\n",
       "      <td>1920256.0</td>\n",
       "    </tr>\n",
       "    <tr>\n",
       "      <th>2020-01-08 11:52:50</th>\n",
       "      <td>1/8/2020 11:52:50 AM</td>\n",
       "      <td>256.072643</td>\n",
       "      <td>30.864317</td>\n",
       "      <td>32.720440</td>\n",
       "      <td>30.342547</td>\n",
       "      <td>6.939369</td>\n",
       "      <td>9.858873</td>\n",
       "      <td>11.572190</td>\n",
       "      <td>13.848964</td>\n",
       "      <td>16.699480</td>\n",
       "      <td>...</td>\n",
       "      <td>-0.004702</td>\n",
       "      <td>16.083</td>\n",
       "      <td>16.898</td>\n",
       "      <td>16.455</td>\n",
       "      <td>249952.34375</td>\n",
       "      <td>639878.0</td>\n",
       "      <td>184468.359375</td>\n",
       "      <td>472239.0</td>\n",
       "      <td>750100.0</td>\n",
       "      <td>1920256.0</td>\n",
       "    </tr>\n",
       "    <tr>\n",
       "      <th>2020-01-08 11:53:40</th>\n",
       "      <td>1/8/2020 11:53:40 AM</td>\n",
       "      <td>256.072700</td>\n",
       "      <td>30.863467</td>\n",
       "      <td>32.707115</td>\n",
       "      <td>30.342153</td>\n",
       "      <td>6.922918</td>\n",
       "      <td>9.859617</td>\n",
       "      <td>11.563885</td>\n",
       "      <td>13.849964</td>\n",
       "      <td>16.698029</td>\n",
       "      <td>...</td>\n",
       "      <td>-0.004699</td>\n",
       "      <td>16.089</td>\n",
       "      <td>16.889</td>\n",
       "      <td>16.487</td>\n",
       "      <td>249952.34375</td>\n",
       "      <td>639878.0</td>\n",
       "      <td>184468.359375</td>\n",
       "      <td>472239.0</td>\n",
       "      <td>750100.0</td>\n",
       "      <td>1920256.0</td>\n",
       "    </tr>\n",
       "    <tr>\n",
       "      <th>2020-01-08 11:54:30</th>\n",
       "      <td>1/8/2020 11:54:30 AM</td>\n",
       "      <td>256.072700</td>\n",
       "      <td>30.862783</td>\n",
       "      <td>32.759964</td>\n",
       "      <td>30.342508</td>\n",
       "      <td>6.908521</td>\n",
       "      <td>9.852862</td>\n",
       "      <td>11.574619</td>\n",
       "      <td>13.848787</td>\n",
       "      <td>16.695047</td>\n",
       "      <td>...</td>\n",
       "      <td>-0.004675</td>\n",
       "      <td>16.083</td>\n",
       "      <td>16.883</td>\n",
       "      <td>16.451</td>\n",
       "      <td>249952.34375</td>\n",
       "      <td>639878.0</td>\n",
       "      <td>184468.359375</td>\n",
       "      <td>472239.0</td>\n",
       "      <td>750100.0</td>\n",
       "      <td>1920256.0</td>\n",
       "    </tr>\n",
       "    <tr>\n",
       "      <th>2020-01-08 11:55:20</th>\n",
       "      <td>1/8/2020 11:55:20 AM</td>\n",
       "      <td>256.072643</td>\n",
       "      <td>30.862233</td>\n",
       "      <td>32.774471</td>\n",
       "      <td>30.334866</td>\n",
       "      <td>6.944298</td>\n",
       "      <td>9.870483</td>\n",
       "      <td>11.549957</td>\n",
       "      <td>13.846376</td>\n",
       "      <td>16.693281</td>\n",
       "      <td>...</td>\n",
       "      <td>-0.004672</td>\n",
       "      <td>16.102</td>\n",
       "      <td>16.862</td>\n",
       "      <td>16.474</td>\n",
       "      <td>249952.34375</td>\n",
       "      <td>639878.0</td>\n",
       "      <td>184468.359375</td>\n",
       "      <td>472239.0</td>\n",
       "      <td>750100.0</td>\n",
       "      <td>1920256.0</td>\n",
       "    </tr>\n",
       "    <tr>\n",
       "      <th>2020-01-08 11:56:10</th>\n",
       "      <td>1/8/2020 11:56:10 AM</td>\n",
       "      <td>256.072587</td>\n",
       "      <td>30.861683</td>\n",
       "      <td>32.734730</td>\n",
       "      <td>30.325390</td>\n",
       "      <td>6.924659</td>\n",
       "      <td>9.867801</td>\n",
       "      <td>11.570290</td>\n",
       "      <td>13.849827</td>\n",
       "      <td>16.693653</td>\n",
       "      <td>...</td>\n",
       "      <td>-0.004658</td>\n",
       "      <td>16.085</td>\n",
       "      <td>16.886</td>\n",
       "      <td>16.473</td>\n",
       "      <td>249952.34375</td>\n",
       "      <td>639878.0</td>\n",
       "      <td>184468.359375</td>\n",
       "      <td>472239.0</td>\n",
       "      <td>750100.0</td>\n",
       "      <td>1920256.0</td>\n",
       "    </tr>\n",
       "    <tr>\n",
       "      <th>2020-01-08 11:57:00</th>\n",
       "      <td>1/8/2020 11:57:00 AM</td>\n",
       "      <td>256.072700</td>\n",
       "      <td>30.861217</td>\n",
       "      <td>32.715080</td>\n",
       "      <td>30.316763</td>\n",
       "      <td>6.931916</td>\n",
       "      <td>9.857444</td>\n",
       "      <td>11.581671</td>\n",
       "      <td>13.853688</td>\n",
       "      <td>16.694006</td>\n",
       "      <td>...</td>\n",
       "      <td>-0.004705</td>\n",
       "      <td>16.081</td>\n",
       "      <td>16.893</td>\n",
       "      <td>16.458</td>\n",
       "      <td>249952.34375</td>\n",
       "      <td>639878.0</td>\n",
       "      <td>184468.359375</td>\n",
       "      <td>472239.0</td>\n",
       "      <td>750100.0</td>\n",
       "      <td>1920256.0</td>\n",
       "    </tr>\n",
       "    <tr>\n",
       "      <th>2020-01-08 11:57:50</th>\n",
       "      <td>1/8/2020 11:57:50 AM</td>\n",
       "      <td>256.072700</td>\n",
       "      <td>30.860817</td>\n",
       "      <td>32.741749</td>\n",
       "      <td>30.317018</td>\n",
       "      <td>6.971468</td>\n",
       "      <td>9.891980</td>\n",
       "      <td>11.587038</td>\n",
       "      <td>13.860960</td>\n",
       "      <td>16.696203</td>\n",
       "      <td>...</td>\n",
       "      <td>-0.004711</td>\n",
       "      <td>16.082</td>\n",
       "      <td>16.879</td>\n",
       "      <td>16.479</td>\n",
       "      <td>249952.34375</td>\n",
       "      <td>639878.0</td>\n",
       "      <td>184468.359375</td>\n",
       "      <td>472239.0</td>\n",
       "      <td>750100.0</td>\n",
       "      <td>1920256.0</td>\n",
       "    </tr>\n",
       "    <tr>\n",
       "      <th>2020-01-08 11:58:40</th>\n",
       "      <td>1/8/2020 11:58:40 AM</td>\n",
       "      <td>256.072700</td>\n",
       "      <td>30.860700</td>\n",
       "      <td>32.728088</td>\n",
       "      <td>30.320328</td>\n",
       "      <td>6.975752</td>\n",
       "      <td>9.902317</td>\n",
       "      <td>11.595422</td>\n",
       "      <td>13.878111</td>\n",
       "      <td>16.692535</td>\n",
       "      <td>...</td>\n",
       "      <td>-0.004719</td>\n",
       "      <td>16.069</td>\n",
       "      <td>16.897</td>\n",
       "      <td>16.476</td>\n",
       "      <td>249952.34375</td>\n",
       "      <td>639878.0</td>\n",
       "      <td>184468.359375</td>\n",
       "      <td>472239.0</td>\n",
       "      <td>750100.0</td>\n",
       "      <td>1920256.0</td>\n",
       "    </tr>\n",
       "    <tr>\n",
       "      <th>2020-01-08 11:59:30</th>\n",
       "      <td>1/8/2020 11:59:30 AM</td>\n",
       "      <td>256.072700</td>\n",
       "      <td>30.860633</td>\n",
       "      <td>32.753811</td>\n",
       "      <td>30.310303</td>\n",
       "      <td>7.004292</td>\n",
       "      <td>9.914299</td>\n",
       "      <td>11.608330</td>\n",
       "      <td>13.883874</td>\n",
       "      <td>16.690907</td>\n",
       "      <td>...</td>\n",
       "      <td>-0.004724</td>\n",
       "      <td>16.065</td>\n",
       "      <td>16.873</td>\n",
       "      <td>16.455</td>\n",
       "      <td>249952.34375</td>\n",
       "      <td>639878.0</td>\n",
       "      <td>184468.359375</td>\n",
       "      <td>472239.0</td>\n",
       "      <td>750100.0</td>\n",
       "      <td>1920256.0</td>\n",
       "    </tr>\n",
       "    <tr>\n",
       "      <th>2020-01-08 12:00:20</th>\n",
       "      <td>1/8/2020 12:00:20 PM</td>\n",
       "      <td>256.072643</td>\n",
       "      <td>30.860717</td>\n",
       "      <td>32.742539</td>\n",
       "      <td>30.308155</td>\n",
       "      <td>7.007813</td>\n",
       "      <td>9.922463</td>\n",
       "      <td>11.610073</td>\n",
       "      <td>13.885540</td>\n",
       "      <td>16.690241</td>\n",
       "      <td>...</td>\n",
       "      <td>-0.004661</td>\n",
       "      <td>16.059</td>\n",
       "      <td>16.867</td>\n",
       "      <td>16.463</td>\n",
       "      <td>249952.34375</td>\n",
       "      <td>639878.0</td>\n",
       "      <td>184468.359375</td>\n",
       "      <td>472239.0</td>\n",
       "      <td>750100.0</td>\n",
       "      <td>1920256.0</td>\n",
       "    </tr>\n",
       "    <tr>\n",
       "      <th>2020-01-08 12:01:10</th>\n",
       "      <td>1/8/2020 12:01:10 PM</td>\n",
       "      <td>256.072700</td>\n",
       "      <td>30.860783</td>\n",
       "      <td>32.745022</td>\n",
       "      <td>30.314615</td>\n",
       "      <td>7.020763</td>\n",
       "      <td>9.920545</td>\n",
       "      <td>11.590622</td>\n",
       "      <td>13.888147</td>\n",
       "      <td>16.690201</td>\n",
       "      <td>...</td>\n",
       "      <td>-0.004719</td>\n",
       "      <td>16.077</td>\n",
       "      <td>16.858</td>\n",
       "      <td>16.470</td>\n",
       "      <td>249952.34375</td>\n",
       "      <td>639878.0</td>\n",
       "      <td>184468.359375</td>\n",
       "      <td>472239.0</td>\n",
       "      <td>750100.0</td>\n",
       "      <td>1920256.0</td>\n",
       "    </tr>\n",
       "    <tr>\n",
       "      <th>2020-01-08 12:02:00</th>\n",
       "      <td>1/8/2020 12:02:00 PM</td>\n",
       "      <td>256.072587</td>\n",
       "      <td>30.860983</td>\n",
       "      <td>32.710705</td>\n",
       "      <td>30.308588</td>\n",
       "      <td>7.017653</td>\n",
       "      <td>9.928102</td>\n",
       "      <td>11.603884</td>\n",
       "      <td>13.897144</td>\n",
       "      <td>16.690416</td>\n",
       "      <td>...</td>\n",
       "      <td>-0.004684</td>\n",
       "      <td>16.072</td>\n",
       "      <td>16.852</td>\n",
       "      <td>16.469</td>\n",
       "      <td>249952.34375</td>\n",
       "      <td>639878.0</td>\n",
       "      <td>184468.359375</td>\n",
       "      <td>472239.0</td>\n",
       "      <td>750100.0</td>\n",
       "      <td>1920256.0</td>\n",
       "    </tr>\n",
       "    <tr>\n",
       "      <th>2020-01-08 12:02:50</th>\n",
       "      <td>1/8/2020 12:02:50 PM</td>\n",
       "      <td>256.072473</td>\n",
       "      <td>30.861133</td>\n",
       "      <td>32.718468</td>\n",
       "      <td>30.327911</td>\n",
       "      <td>7.023678</td>\n",
       "      <td>9.940710</td>\n",
       "      <td>11.600906</td>\n",
       "      <td>13.900359</td>\n",
       "      <td>16.690769</td>\n",
       "      <td>...</td>\n",
       "      <td>-0.004699</td>\n",
       "      <td>16.087</td>\n",
       "      <td>16.881</td>\n",
       "      <td>16.473</td>\n",
       "      <td>249952.34375</td>\n",
       "      <td>639878.0</td>\n",
       "      <td>184468.359375</td>\n",
       "      <td>472239.0</td>\n",
       "      <td>750100.0</td>\n",
       "      <td>1920256.0</td>\n",
       "    </tr>\n",
       "    <tr>\n",
       "      <th>2020-01-08 12:03:40</th>\n",
       "      <td>1/8/2020 12:03:40 PM</td>\n",
       "      <td>256.072700</td>\n",
       "      <td>30.861333</td>\n",
       "      <td>32.700848</td>\n",
       "      <td>30.339336</td>\n",
       "      <td>6.979019</td>\n",
       "      <td>9.912146</td>\n",
       "      <td>11.621846</td>\n",
       "      <td>13.893577</td>\n",
       "      <td>16.688063</td>\n",
       "      <td>...</td>\n",
       "      <td>-0.004677</td>\n",
       "      <td>16.087</td>\n",
       "      <td>16.889</td>\n",
       "      <td>16.455</td>\n",
       "      <td>249952.34375</td>\n",
       "      <td>639878.0</td>\n",
       "      <td>184468.359375</td>\n",
       "      <td>472239.0</td>\n",
       "      <td>750100.0</td>\n",
       "      <td>1920256.0</td>\n",
       "    </tr>\n",
       "    <tr>\n",
       "      <th>2020-01-08 12:04:30</th>\n",
       "      <td>1/8/2020 12:04:30 PM</td>\n",
       "      <td>256.072700</td>\n",
       "      <td>30.861483</td>\n",
       "      <td>32.765835</td>\n",
       "      <td>30.312942</td>\n",
       "      <td>6.988585</td>\n",
       "      <td>9.927730</td>\n",
       "      <td>11.611797</td>\n",
       "      <td>13.904534</td>\n",
       "      <td>16.690632</td>\n",
       "      <td>...</td>\n",
       "      <td>-0.004688</td>\n",
       "      <td>16.085</td>\n",
       "      <td>16.900</td>\n",
       "      <td>16.429</td>\n",
       "      <td>249952.34375</td>\n",
       "      <td>639878.0</td>\n",
       "      <td>184468.359375</td>\n",
       "      <td>472239.0</td>\n",
       "      <td>750100.0</td>\n",
       "      <td>1920256.0</td>\n",
       "    </tr>\n",
       "    <tr>\n",
       "      <th>2020-01-08 12:05:20</th>\n",
       "      <td>1/8/2020 12:05:20 PM</td>\n",
       "      <td>256.072643</td>\n",
       "      <td>30.861500</td>\n",
       "      <td>32.767826</td>\n",
       "      <td>30.331595</td>\n",
       "      <td>7.014288</td>\n",
       "      <td>9.919742</td>\n",
       "      <td>11.603178</td>\n",
       "      <td>13.895027</td>\n",
       "      <td>16.688475</td>\n",
       "      <td>...</td>\n",
       "      <td>-0.004697</td>\n",
       "      <td>16.069</td>\n",
       "      <td>16.907</td>\n",
       "      <td>16.463</td>\n",
       "      <td>249952.34375</td>\n",
       "      <td>639878.0</td>\n",
       "      <td>184468.359375</td>\n",
       "      <td>472239.0</td>\n",
       "      <td>750100.0</td>\n",
       "      <td>1920256.0</td>\n",
       "    </tr>\n",
       "    <tr>\n",
       "      <th>2020-01-08 12:06:10</th>\n",
       "      <td>1/8/2020 12:06:10 PM</td>\n",
       "      <td>256.072587</td>\n",
       "      <td>30.861617</td>\n",
       "      <td>32.755428</td>\n",
       "      <td>30.336756</td>\n",
       "      <td>7.022622</td>\n",
       "      <td>9.924323</td>\n",
       "      <td>11.611268</td>\n",
       "      <td>13.897635</td>\n",
       "      <td>16.689396</td>\n",
       "      <td>...</td>\n",
       "      <td>-0.004692</td>\n",
       "      <td>16.081</td>\n",
       "      <td>16.887</td>\n",
       "      <td>16.455</td>\n",
       "      <td>249952.34375</td>\n",
       "      <td>639878.0</td>\n",
       "      <td>184468.359375</td>\n",
       "      <td>472239.0</td>\n",
       "      <td>750100.0</td>\n",
       "      <td>1920256.0</td>\n",
       "    </tr>\n",
       "    <tr>\n",
       "      <th>2020-01-08 12:07:00</th>\n",
       "      <td>1/8/2020 12:07:00 PM</td>\n",
       "      <td>256.072700</td>\n",
       "      <td>30.861750</td>\n",
       "      <td>32.760178</td>\n",
       "      <td>30.322298</td>\n",
       "      <td>7.014328</td>\n",
       "      <td>9.934719</td>\n",
       "      <td>11.617850</td>\n",
       "      <td>13.901810</td>\n",
       "      <td>16.685551</td>\n",
       "      <td>...</td>\n",
       "      <td>-0.004675</td>\n",
       "      <td>16.062</td>\n",
       "      <td>16.897</td>\n",
       "      <td>16.452</td>\n",
       "      <td>249952.34375</td>\n",
       "      <td>639878.0</td>\n",
       "      <td>184468.359375</td>\n",
       "      <td>472239.0</td>\n",
       "      <td>750100.0</td>\n",
       "      <td>1920256.0</td>\n",
       "    </tr>\n",
       "    <tr>\n",
       "      <th>2020-01-08 12:07:50</th>\n",
       "      <td>1/8/2020 12:07:50 PM</td>\n",
       "      <td>256.072700</td>\n",
       "      <td>30.861933</td>\n",
       "      <td>32.744152</td>\n",
       "      <td>30.321610</td>\n",
       "      <td>6.998229</td>\n",
       "      <td>9.924500</td>\n",
       "      <td>11.627017</td>\n",
       "      <td>13.901711</td>\n",
       "      <td>16.685768</td>\n",
       "      <td>...</td>\n",
       "      <td>-0.004682</td>\n",
       "      <td>16.073</td>\n",
       "      <td>16.897</td>\n",
       "      <td>16.437</td>\n",
       "      <td>249952.34375</td>\n",
       "      <td>639878.0</td>\n",
       "      <td>184468.359375</td>\n",
       "      <td>472239.0</td>\n",
       "      <td>750100.0</td>\n",
       "      <td>1920256.0</td>\n",
       "    </tr>\n",
       "    <tr>\n",
       "      <th>2020-01-08 12:08:40</th>\n",
       "      <td>1/8/2020 12:08:40 PM</td>\n",
       "      <td>256.072700</td>\n",
       "      <td>30.862050</td>\n",
       "      <td>32.741650</td>\n",
       "      <td>30.332678</td>\n",
       "      <td>7.005564</td>\n",
       "      <td>9.925889</td>\n",
       "      <td>11.626900</td>\n",
       "      <td>13.902221</td>\n",
       "      <td>16.686592</td>\n",
       "      <td>...</td>\n",
       "      <td>-0.004687</td>\n",
       "      <td>16.070</td>\n",
       "      <td>16.905</td>\n",
       "      <td>16.464</td>\n",
       "      <td>249952.34375</td>\n",
       "      <td>639878.0</td>\n",
       "      <td>184468.359375</td>\n",
       "      <td>472239.0</td>\n",
       "      <td>750100.0</td>\n",
       "      <td>1920256.0</td>\n",
       "    </tr>\n",
       "  </tbody>\n",
       "</table>\n",
       "<p>44986 rows × 75 columns</p>\n",
       "</div>"
      ],
      "text/plain": [
       "                                       Time  Magnet Current [A]  \\\n",
       "Datetime                                                          \n",
       "2019-12-13 11:20:10  12/13/2019 11:20:10 AM          256.071510   \n",
       "2019-12-13 11:21:00  12/13/2019 11:21:00 AM          256.071397   \n",
       "2019-12-13 11:21:50  12/13/2019 11:21:50 AM          256.071453   \n",
       "2019-12-13 11:22:40  12/13/2019 11:22:40 AM          256.071453   \n",
       "2019-12-13 11:23:30  12/13/2019 11:23:30 AM          256.071453   \n",
       "2019-12-13 11:24:20  12/13/2019 11:24:20 AM          256.071397   \n",
       "2019-12-13 11:25:10  12/13/2019 11:25:10 AM          256.071567   \n",
       "2019-12-13 11:26:00  12/13/2019 11:26:00 AM          256.071623   \n",
       "2019-12-13 11:26:50  12/13/2019 11:26:50 AM          256.071567   \n",
       "2019-12-13 11:27:40  12/13/2019 11:27:40 AM          256.071567   \n",
       "2019-12-13 11:28:30  12/13/2019 11:28:30 AM          256.071623   \n",
       "2019-12-13 11:29:21  12/13/2019 11:29:21 AM          256.071567   \n",
       "2019-12-13 11:30:10  12/13/2019 11:30:10 AM          256.071510   \n",
       "2019-12-13 11:31:00  12/13/2019 11:31:00 AM          256.071680   \n",
       "2019-12-13 11:31:50  12/13/2019 11:31:50 AM          256.071623   \n",
       "2019-12-13 11:32:40  12/13/2019 11:32:40 AM          256.071623   \n",
       "2019-12-13 11:33:30  12/13/2019 11:33:30 AM          256.071567   \n",
       "2019-12-13 11:34:20  12/13/2019 11:34:20 AM          256.071623   \n",
       "2019-12-13 11:35:10  12/13/2019 11:35:10 AM          256.071453   \n",
       "2019-12-13 11:36:00  12/13/2019 11:36:00 AM          256.071680   \n",
       "2019-12-13 11:36:50  12/13/2019 11:36:50 AM          256.071623   \n",
       "2019-12-13 11:37:40  12/13/2019 11:37:40 AM          256.071680   \n",
       "2019-12-13 11:38:30  12/13/2019 11:38:30 AM          256.071623   \n",
       "2019-12-13 11:39:20  12/13/2019 11:39:20 AM          256.071623   \n",
       "2019-12-13 11:40:10  12/13/2019 11:40:10 AM          256.071680   \n",
       "2019-12-13 11:41:00  12/13/2019 11:41:00 AM          256.071623   \n",
       "2019-12-13 11:41:50  12/13/2019 11:41:50 AM          256.071680   \n",
       "2019-12-13 11:42:40  12/13/2019 11:42:40 AM          256.071680   \n",
       "2019-12-13 11:43:30  12/13/2019 11:43:30 AM          256.071680   \n",
       "2019-12-13 11:44:21  12/13/2019 11:44:21 AM          256.071623   \n",
       "...                                     ...                 ...   \n",
       "2020-01-08 11:44:30    1/8/2020 11:44:30 AM          256.072530   \n",
       "2020-01-08 11:45:20    1/8/2020 11:45:20 AM          256.072643   \n",
       "2020-01-08 11:46:10    1/8/2020 11:46:10 AM          256.072700   \n",
       "2020-01-08 11:47:00    1/8/2020 11:47:00 AM          256.072700   \n",
       "2020-01-08 11:47:50    1/8/2020 11:47:50 AM          256.072700   \n",
       "2020-01-08 11:48:40    1/8/2020 11:48:40 AM          256.072700   \n",
       "2020-01-08 11:49:30    1/8/2020 11:49:30 AM          256.072700   \n",
       "2020-01-08 11:50:20    1/8/2020 11:50:20 AM          256.072700   \n",
       "2020-01-08 11:51:10    1/8/2020 11:51:10 AM          256.072700   \n",
       "2020-01-08 11:52:00    1/8/2020 11:52:00 AM          256.072700   \n",
       "2020-01-08 11:52:50    1/8/2020 11:52:50 AM          256.072643   \n",
       "2020-01-08 11:53:40    1/8/2020 11:53:40 AM          256.072700   \n",
       "2020-01-08 11:54:30    1/8/2020 11:54:30 AM          256.072700   \n",
       "2020-01-08 11:55:20    1/8/2020 11:55:20 AM          256.072643   \n",
       "2020-01-08 11:56:10    1/8/2020 11:56:10 AM          256.072587   \n",
       "2020-01-08 11:57:00    1/8/2020 11:57:00 AM          256.072700   \n",
       "2020-01-08 11:57:50    1/8/2020 11:57:50 AM          256.072700   \n",
       "2020-01-08 11:58:40    1/8/2020 11:58:40 AM          256.072700   \n",
       "2020-01-08 11:59:30    1/8/2020 11:59:30 AM          256.072700   \n",
       "2020-01-08 12:00:20    1/8/2020 12:00:20 PM          256.072643   \n",
       "2020-01-08 12:01:10    1/8/2020 12:01:10 PM          256.072700   \n",
       "2020-01-08 12:02:00    1/8/2020 12:02:00 PM          256.072587   \n",
       "2020-01-08 12:02:50    1/8/2020 12:02:50 PM          256.072473   \n",
       "2020-01-08 12:03:40    1/8/2020 12:03:40 PM          256.072700   \n",
       "2020-01-08 12:04:30    1/8/2020 12:04:30 PM          256.072700   \n",
       "2020-01-08 12:05:20    1/8/2020 12:05:20 PM          256.072643   \n",
       "2020-01-08 12:06:10    1/8/2020 12:06:10 PM          256.072587   \n",
       "2020-01-08 12:07:00    1/8/2020 12:07:00 PM          256.072700   \n",
       "2020-01-08 12:07:50    1/8/2020 12:07:50 PM          256.072700   \n",
       "2020-01-08 12:08:40    1/8/2020 12:08:40 PM          256.072700   \n",
       "\n",
       "                     Magnet Voltage [V]  Coil 1 (new)  Coil 2 (old)  \\\n",
       "Datetime                                                              \n",
       "2019-12-13 11:20:10           30.961017     33.549297     31.119984   \n",
       "2019-12-13 11:21:00           30.958833     33.572384     31.076975   \n",
       "2019-12-13 11:21:50           30.956683     33.515110     31.088324   \n",
       "2019-12-13 11:22:40           30.954517     33.549179     31.075892   \n",
       "2019-12-13 11:23:30           30.952550     33.496910     31.055244   \n",
       "2019-12-13 11:24:20           30.950333     33.482323     31.040310   \n",
       "2019-12-13 11:25:10           30.948300     33.464439     31.019918   \n",
       "2019-12-13 11:26:00           30.946300     33.429817     31.011446   \n",
       "2019-12-13 11:26:50           30.944400     33.453201     30.982565   \n",
       "2019-12-13 11:27:40           30.942533     33.422878     30.976280   \n",
       "2019-12-13 11:28:30           30.940683     33.415287     30.954056   \n",
       "2019-12-13 11:29:21           30.938867     33.375107     30.938631   \n",
       "2019-12-13 11:30:10           30.937100     33.386524     30.931519   \n",
       "2019-12-13 11:31:00           30.935317     33.345848     30.923658   \n",
       "2019-12-13 11:31:50           30.933533     33.379444     30.922161   \n",
       "2019-12-13 11:32:40           30.931667     33.359177     30.898006   \n",
       "2019-12-13 11:33:30           30.929950     33.347366     30.867964   \n",
       "2019-12-13 11:34:20           30.928233     33.340900     30.858900   \n",
       "2019-12-13 11:35:10           30.926500     33.336346     30.866999   \n",
       "2019-12-13 11:36:00           30.924767     33.307190     30.843357   \n",
       "2019-12-13 11:36:50           30.923067     33.297234     30.816486   \n",
       "2019-12-13 11:37:40           30.921433     33.286762     30.805237   \n",
       "2019-12-13 11:38:30           30.919933     33.253326     30.802578   \n",
       "2019-12-13 11:39:20           30.918417     33.232666     30.781202   \n",
       "2019-12-13 11:40:10           30.916900     33.248417     30.787565   \n",
       "2019-12-13 11:41:00           30.915583     33.252678     30.775982   \n",
       "2019-12-13 11:41:50           30.914333     33.219734     30.770802   \n",
       "2019-12-13 11:42:40           30.913117     33.200512     30.755356   \n",
       "2019-12-13 11:43:30           30.911950     33.197277     30.736799   \n",
       "2019-12-13 11:44:21           30.910667     33.202660     30.727797   \n",
       "...                                 ...           ...           ...   \n",
       "2020-01-08 11:44:30           30.872900     32.875515     30.417280   \n",
       "2020-01-08 11:45:20           30.872217     32.858070     30.435955   \n",
       "2020-01-08 11:46:10           30.871600     32.848393     30.409145   \n",
       "2020-01-08 11:47:00           30.870983     32.825665     30.399513   \n",
       "2020-01-08 11:47:50           30.870267     32.828503     30.412237   \n",
       "2020-01-08 11:48:40           30.869500     32.806187     30.399572   \n",
       "2020-01-08 11:49:30           30.868517     32.782455     30.391416   \n",
       "2020-01-08 11:50:20           30.867483     32.794201     30.376545   \n",
       "2020-01-08 11:51:10           30.866333     32.783714     30.374575   \n",
       "2020-01-08 11:52:00           30.865167     32.754070     30.374596   \n",
       "2020-01-08 11:52:50           30.864317     32.720440     30.342547   \n",
       "2020-01-08 11:53:40           30.863467     32.707115     30.342153   \n",
       "2020-01-08 11:54:30           30.862783     32.759964     30.342508   \n",
       "2020-01-08 11:55:20           30.862233     32.774471     30.334866   \n",
       "2020-01-08 11:56:10           30.861683     32.734730     30.325390   \n",
       "2020-01-08 11:57:00           30.861217     32.715080     30.316763   \n",
       "2020-01-08 11:57:50           30.860817     32.741749     30.317018   \n",
       "2020-01-08 11:58:40           30.860700     32.728088     30.320328   \n",
       "2020-01-08 11:59:30           30.860633     32.753811     30.310303   \n",
       "2020-01-08 12:00:20           30.860717     32.742539     30.308155   \n",
       "2020-01-08 12:01:10           30.860783     32.745022     30.314615   \n",
       "2020-01-08 12:02:00           30.860983     32.710705     30.308588   \n",
       "2020-01-08 12:02:50           30.861133     32.718468     30.327911   \n",
       "2020-01-08 12:03:40           30.861333     32.700848     30.339336   \n",
       "2020-01-08 12:04:30           30.861483     32.765835     30.312942   \n",
       "2020-01-08 12:05:20           30.861500     32.767826     30.331595   \n",
       "2020-01-08 12:06:10           30.861617     32.755428     30.336756   \n",
       "2020-01-08 12:07:00           30.861750     32.760178     30.322298   \n",
       "2020-01-08 12:07:50           30.861933     32.744152     30.321610   \n",
       "2020-01-08 12:08:40           30.862050     32.741650     30.332678   \n",
       "\n",
       "                     LCW in Coil1  LCW out Coil 1  LCW in Coil 2  \\\n",
       "Datetime                                                           \n",
       "2019-12-13 11:20:10      7.549104       10.463340      12.334523   \n",
       "2019-12-13 11:21:00      7.546639       10.444542      12.321710   \n",
       "2019-12-13 11:21:50      7.504282       10.426469      12.294535   \n",
       "2019-12-13 11:22:40      7.492641       10.419066      12.282623   \n",
       "2019-12-13 11:23:30      7.472020       10.411821      12.273101   \n",
       "2019-12-13 11:24:20      7.478202       10.385602      12.247592   \n",
       "2019-12-13 11:25:10      7.466934       10.388030      12.240971   \n",
       "2019-12-13 11:26:00      7.465701       10.371524      12.243831   \n",
       "2019-12-13 11:26:50      7.443418       10.356134      12.226747   \n",
       "2019-12-13 11:27:40      7.431992       10.350885      12.217675   \n",
       "2019-12-13 11:28:30      7.425164       10.344032      12.194930   \n",
       "2019-12-13 11:29:21      7.411548       10.320339      12.189013   \n",
       "2019-12-13 11:30:10      7.400103       10.310569      12.183292   \n",
       "2019-12-13 11:31:00      7.396523       10.291575      12.168344   \n",
       "2019-12-13 11:31:50      7.385626       10.285701      12.152769   \n",
       "2019-12-13 11:32:40      7.369701       10.269685      12.147323   \n",
       "2019-12-13 11:33:30      7.336698       10.259229      12.146990   \n",
       "2019-12-13 11:34:20      7.337245       10.250379      12.129553   \n",
       "2019-12-13 11:35:10      7.318230       10.238885      12.120150   \n",
       "2019-12-13 11:36:00      7.330652       10.233148      12.105985   \n",
       "2019-12-13 11:36:50      7.333059       10.220303      12.091330   \n",
       "2019-12-13 11:37:40      7.326133       10.219069      12.073777   \n",
       "2019-12-13 11:38:30      7.307920       10.203249      12.090175   \n",
       "2019-12-13 11:39:20      7.275269       10.186743      12.082907   \n",
       "2019-12-13 11:40:10      7.260225       10.183003      12.081555   \n",
       "2019-12-13 11:41:00      7.275856       10.186977      12.063727   \n",
       "2019-12-13 11:41:50      7.281784       10.181926      12.062631   \n",
       "2019-12-13 11:42:40      7.283173       10.179752      12.061808   \n",
       "2019-12-13 11:43:30      7.269009       10.159155      12.055088   \n",
       "2019-12-13 11:44:21      7.264920       10.162738      12.048564   \n",
       "...                           ...             ...            ...   \n",
       "2020-01-08 11:44:30      7.016049        9.943393      11.638594   \n",
       "2020-01-08 11:45:20      7.023893        9.947739      11.619084   \n",
       "2020-01-08 11:46:10      7.016577        9.940632      11.631758   \n",
       "2020-01-08 11:47:00      7.009593        9.937441      11.613462   \n",
       "2020-01-08 11:47:50      7.005701        9.929708      11.599927   \n",
       "2020-01-08 11:48:40      6.980760        9.909169      11.601964   \n",
       "2020-01-08 11:49:30      6.967067        9.898754      11.566901   \n",
       "2020-01-08 11:50:20      6.947037        9.870326      11.567685   \n",
       "2020-01-08 11:51:10      6.935515        9.851571      11.542867   \n",
       "2020-01-08 11:52:00      6.919944        9.846715      11.569938   \n",
       "2020-01-08 11:52:50      6.939369        9.858873      11.572190   \n",
       "2020-01-08 11:53:40      6.922918        9.859617      11.563885   \n",
       "2020-01-08 11:54:30      6.908521        9.852862      11.574619   \n",
       "2020-01-08 11:55:20      6.944298        9.870483      11.549957   \n",
       "2020-01-08 11:56:10      6.924659        9.867801      11.570290   \n",
       "2020-01-08 11:57:00      6.931916        9.857444      11.581671   \n",
       "2020-01-08 11:57:50      6.971468        9.891980      11.587038   \n",
       "2020-01-08 11:58:40      6.975752        9.902317      11.595422   \n",
       "2020-01-08 11:59:30      7.004292        9.914299      11.608330   \n",
       "2020-01-08 12:00:20      7.007813        9.922463      11.610073   \n",
       "2020-01-08 12:01:10      7.020763        9.920545      11.590622   \n",
       "2020-01-08 12:02:00      7.017653        9.928102      11.603884   \n",
       "2020-01-08 12:02:50      7.023678        9.940710      11.600906   \n",
       "2020-01-08 12:03:40      6.979019        9.912146      11.621846   \n",
       "2020-01-08 12:04:30      6.988585        9.927730      11.611797   \n",
       "2020-01-08 12:05:20      7.014288        9.919742      11.603178   \n",
       "2020-01-08 12:06:10      7.022622        9.924323      11.611268   \n",
       "2020-01-08 12:07:00      7.014328        9.934719      11.617850   \n",
       "2020-01-08 12:07:50      6.998229        9.924500      11.627017   \n",
       "2020-01-08 12:08:40      7.005564        9.925889      11.626900   \n",
       "\n",
       "                     LCW out Coil 2       Yoke          ...           \\\n",
       "Datetime                                                ...            \n",
       "2019-12-13 11:20:10       14.516138  20.578840          ...            \n",
       "2019-12-13 11:21:00       14.500689  20.559849          ...            \n",
       "2019-12-13 11:21:50       14.481849  20.536831          ...            \n",
       "2019-12-13 11:22:40       14.467204  20.528875          ...            \n",
       "2019-12-13 11:23:30       14.450148  20.508961          ...            \n",
       "2019-12-13 11:24:20       14.435091  20.490322          ...            \n",
       "2019-12-13 11:25:10       14.422956  20.474533          ...            \n",
       "2019-12-13 11:26:00       14.411193  20.455461          ...            \n",
       "2019-12-13 11:26:50       14.400058  20.440203          ...            \n",
       "2019-12-13 11:27:40       14.389746  20.430403          ...            \n",
       "2019-12-13 11:28:30       14.377669  20.406933          ...            \n",
       "2019-12-13 11:29:21       14.366632  20.397623          ...            \n",
       "2019-12-13 11:30:10       14.349871  20.369127          ...            \n",
       "2019-12-13 11:31:00       14.340383  20.353672          ...            \n",
       "2019-12-13 11:31:50       14.319700  20.341358          ...            \n",
       "2019-12-13 11:32:40       14.308017  20.324606          ...            \n",
       "2019-12-13 11:33:30       14.294117  20.302452          ...            \n",
       "2019-12-13 11:34:20       14.283394  20.291004          ...            \n",
       "2019-12-13 11:35:10       14.274945  20.272091          ...            \n",
       "2019-12-13 11:36:00       14.254675  20.257578          ...            \n",
       "2019-12-13 11:36:50       14.249891  20.246483          ...            \n",
       "2019-12-13 11:37:40       14.239502  20.229162          ...            \n",
       "2019-12-13 11:38:30       14.228484  20.211193          ...            \n",
       "2019-12-13 11:39:20       14.216390  20.193951          ...            \n",
       "2019-12-13 11:40:10       14.209724  20.175745          ...            \n",
       "2019-12-13 11:41:00       14.208666  20.156029          ...            \n",
       "2019-12-13 11:41:50       14.202196  20.147093          ...            \n",
       "2019-12-13 11:42:40       14.202647  20.135330          ...            \n",
       "2019-12-13 11:43:30       14.187925  20.113846          ...            \n",
       "2019-12-13 11:44:21       14.180280  20.103949          ...            \n",
       "...                             ...        ...          ...            \n",
       "2020-01-08 11:44:30       13.933583  16.702187          ...            \n",
       "2020-01-08 11:45:20       13.927742  16.701618          ...            \n",
       "2020-01-08 11:46:10       13.926312  16.701147          ...            \n",
       "2020-01-08 11:47:00       13.922391  16.699657          ...            \n",
       "2020-01-08 11:47:50       13.908454  16.701462          ...            \n",
       "2020-01-08 11:48:40       13.897987  16.699068          ...            \n",
       "2020-01-08 11:49:30       13.878582  16.697126          ...            \n",
       "2020-01-08 11:50:20       13.861136  16.698263          ...            \n",
       "2020-01-08 11:51:10       13.848553  16.698618          ...            \n",
       "2020-01-08 11:52:00       13.844162  16.697872          ...            \n",
       "2020-01-08 11:52:50       13.848964  16.699480          ...            \n",
       "2020-01-08 11:53:40       13.849964  16.698029          ...            \n",
       "2020-01-08 11:54:30       13.848787  16.695047          ...            \n",
       "2020-01-08 11:55:20       13.846376  16.693281          ...            \n",
       "2020-01-08 11:56:10       13.849827  16.693653          ...            \n",
       "2020-01-08 11:57:00       13.853688  16.694006          ...            \n",
       "2020-01-08 11:57:50       13.860960  16.696203          ...            \n",
       "2020-01-08 11:58:40       13.878111  16.692535          ...            \n",
       "2020-01-08 11:59:30       13.883874  16.690907          ...            \n",
       "2020-01-08 12:00:20       13.885540  16.690241          ...            \n",
       "2020-01-08 12:01:10       13.888147  16.690201          ...            \n",
       "2020-01-08 12:02:00       13.897144  16.690416          ...            \n",
       "2020-01-08 12:02:50       13.900359  16.690769          ...            \n",
       "2020-01-08 12:03:40       13.893577  16.688063          ...            \n",
       "2020-01-08 12:04:30       13.904534  16.690632          ...            \n",
       "2020-01-08 12:05:20       13.895027  16.688475          ...            \n",
       "2020-01-08 12:06:10       13.897635  16.689396          ...            \n",
       "2020-01-08 12:07:00       13.901810  16.685551          ...            \n",
       "2020-01-08 12:07:50       13.901711  16.685768          ...            \n",
       "2020-01-08 12:08:40       13.902221  16.686592          ...            \n",
       "\n",
       "                     C50000000D5E473A_Cal_Z  DF0000000D5E803A_Cal_T  \\\n",
       "Datetime                                                              \n",
       "2019-12-13 11:20:10               -0.004689                  16.668   \n",
       "2019-12-13 11:21:00               -0.004700                  16.602   \n",
       "2019-12-13 11:21:50               -0.004701                  16.608   \n",
       "2019-12-13 11:22:40               -0.004674                  16.630   \n",
       "2019-12-13 11:23:30               -0.004699                  16.599   \n",
       "2019-12-13 11:24:20               -0.004709                  16.604   \n",
       "2019-12-13 11:25:10               -0.004710                  16.575   \n",
       "2019-12-13 11:26:00               -0.004717                  16.574   \n",
       "2019-12-13 11:26:50               -0.004687                  16.557   \n",
       "2019-12-13 11:27:40               -0.004690                  16.568   \n",
       "2019-12-13 11:28:30               -0.004691                  16.578   \n",
       "2019-12-13 11:29:21               -0.004712                  16.567   \n",
       "2019-12-13 11:30:10               -0.004692                  16.559   \n",
       "2019-12-13 11:31:00               -0.004720                  16.544   \n",
       "2019-12-13 11:31:50               -0.004717                  16.550   \n",
       "2019-12-13 11:32:40               -0.004684                  16.535   \n",
       "2019-12-13 11:33:30               -0.004725                  16.542   \n",
       "2019-12-13 11:34:20               -0.004696                  16.546   \n",
       "2019-12-13 11:35:10               -0.004675                  16.530   \n",
       "2019-12-13 11:36:00               -0.004695                  16.549   \n",
       "2019-12-13 11:36:50               -0.004696                  16.571   \n",
       "2019-12-13 11:37:40               -0.004697                  16.560   \n",
       "2019-12-13 11:38:30               -0.004710                  16.519   \n",
       "2019-12-13 11:39:20               -0.004729                  16.533   \n",
       "2019-12-13 11:40:10               -0.004727                  16.516   \n",
       "2019-12-13 11:41:00               -0.004712                  16.499   \n",
       "2019-12-13 11:41:50               -0.004686                  16.497   \n",
       "2019-12-13 11:42:40               -0.004697                  16.504   \n",
       "2019-12-13 11:43:30               -0.004674                  16.499   \n",
       "2019-12-13 11:44:21               -0.004687                  16.522   \n",
       "...                                     ...                     ...   \n",
       "2020-01-08 11:44:30               -0.004672                  16.075   \n",
       "2020-01-08 11:45:20               -0.004707                  16.085   \n",
       "2020-01-08 11:46:10               -0.004678                  16.092   \n",
       "2020-01-08 11:47:00               -0.004702                  16.082   \n",
       "2020-01-08 11:47:50               -0.004706                  16.076   \n",
       "2020-01-08 11:48:40               -0.004722                  16.081   \n",
       "2020-01-08 11:49:30               -0.004630                  16.075   \n",
       "2020-01-08 11:50:20               -0.004713                  16.089   \n",
       "2020-01-08 11:51:10               -0.004722                  16.078   \n",
       "2020-01-08 11:52:00               -0.004708                  16.089   \n",
       "2020-01-08 11:52:50               -0.004702                  16.083   \n",
       "2020-01-08 11:53:40               -0.004699                  16.089   \n",
       "2020-01-08 11:54:30               -0.004675                  16.083   \n",
       "2020-01-08 11:55:20               -0.004672                  16.102   \n",
       "2020-01-08 11:56:10               -0.004658                  16.085   \n",
       "2020-01-08 11:57:00               -0.004705                  16.081   \n",
       "2020-01-08 11:57:50               -0.004711                  16.082   \n",
       "2020-01-08 11:58:40               -0.004719                  16.069   \n",
       "2020-01-08 11:59:30               -0.004724                  16.065   \n",
       "2020-01-08 12:00:20               -0.004661                  16.059   \n",
       "2020-01-08 12:01:10               -0.004719                  16.077   \n",
       "2020-01-08 12:02:00               -0.004684                  16.072   \n",
       "2020-01-08 12:02:50               -0.004699                  16.087   \n",
       "2020-01-08 12:03:40               -0.004677                  16.087   \n",
       "2020-01-08 12:04:30               -0.004688                  16.085   \n",
       "2020-01-08 12:05:20               -0.004697                  16.069   \n",
       "2020-01-08 12:06:10               -0.004692                  16.081   \n",
       "2020-01-08 12:07:00               -0.004675                  16.062   \n",
       "2020-01-08 12:07:50               -0.004682                  16.073   \n",
       "2020-01-08 12:08:40               -0.004687                  16.070   \n",
       "\n",
       "                     6A0000000D61333A_Cal_T  C50000000D5E473A_Cal_T  \\\n",
       "Datetime                                                              \n",
       "2019-12-13 11:20:10                  17.473                  16.992   \n",
       "2019-12-13 11:21:00                  17.491                  16.973   \n",
       "2019-12-13 11:21:50                  17.493                  16.972   \n",
       "2019-12-13 11:22:40                  17.486                  16.981   \n",
       "2019-12-13 11:23:30                  17.472                  16.948   \n",
       "2019-12-13 11:24:20                  17.472                  16.963   \n",
       "2019-12-13 11:25:10                  17.453                  16.944   \n",
       "2019-12-13 11:26:00                  17.448                  16.927   \n",
       "2019-12-13 11:26:50                  17.442                  16.917   \n",
       "2019-12-13 11:27:40                  17.450                  16.905   \n",
       "2019-12-13 11:28:30                  17.436                  16.919   \n",
       "2019-12-13 11:29:21                  17.420                  16.898   \n",
       "2019-12-13 11:30:10                  17.408                  16.881   \n",
       "2019-12-13 11:31:00                  17.418                  16.896   \n",
       "2019-12-13 11:31:50                  17.399                  16.875   \n",
       "2019-12-13 11:32:40                  17.375                  16.867   \n",
       "2019-12-13 11:33:30                  17.376                  16.850   \n",
       "2019-12-13 11:34:20                  17.370                  16.879   \n",
       "2019-12-13 11:35:10                  17.366                  16.858   \n",
       "2019-12-13 11:36:00                  17.361                  16.845   \n",
       "2019-12-13 11:36:50                  17.345                  16.872   \n",
       "2019-12-13 11:37:40                  17.349                  16.838   \n",
       "2019-12-13 11:38:30                  17.345                  16.854   \n",
       "2019-12-13 11:39:20                  17.349                  16.820   \n",
       "2019-12-13 11:40:10                  17.351                  16.846   \n",
       "2019-12-13 11:41:00                  17.350                  16.832   \n",
       "2019-12-13 11:41:50                  17.350                  16.833   \n",
       "2019-12-13 11:42:40                  17.335                  16.866   \n",
       "2019-12-13 11:43:30                  17.331                  16.850   \n",
       "2019-12-13 11:44:21                  17.324                  16.838   \n",
       "...                                     ...                     ...   \n",
       "2020-01-08 11:44:30                  16.884                  16.499   \n",
       "2020-01-08 11:45:20                  16.894                  16.482   \n",
       "2020-01-08 11:46:10                  16.890                  16.492   \n",
       "2020-01-08 11:47:00                  16.893                  16.500   \n",
       "2020-01-08 11:47:50                  16.887                  16.494   \n",
       "2020-01-08 11:48:40                  16.882                  16.484   \n",
       "2020-01-08 11:49:30                  16.880                  16.494   \n",
       "2020-01-08 11:50:20                  16.887                  16.492   \n",
       "2020-01-08 11:51:10                  16.888                  16.482   \n",
       "2020-01-08 11:52:00                  16.890                  16.480   \n",
       "2020-01-08 11:52:50                  16.898                  16.455   \n",
       "2020-01-08 11:53:40                  16.889                  16.487   \n",
       "2020-01-08 11:54:30                  16.883                  16.451   \n",
       "2020-01-08 11:55:20                  16.862                  16.474   \n",
       "2020-01-08 11:56:10                  16.886                  16.473   \n",
       "2020-01-08 11:57:00                  16.893                  16.458   \n",
       "2020-01-08 11:57:50                  16.879                  16.479   \n",
       "2020-01-08 11:58:40                  16.897                  16.476   \n",
       "2020-01-08 11:59:30                  16.873                  16.455   \n",
       "2020-01-08 12:00:20                  16.867                  16.463   \n",
       "2020-01-08 12:01:10                  16.858                  16.470   \n",
       "2020-01-08 12:02:00                  16.852                  16.469   \n",
       "2020-01-08 12:02:50                  16.881                  16.473   \n",
       "2020-01-08 12:03:40                  16.889                  16.455   \n",
       "2020-01-08 12:04:30                  16.900                  16.429   \n",
       "2020-01-08 12:05:20                  16.907                  16.463   \n",
       "2020-01-08 12:06:10                  16.887                  16.455   \n",
       "2020-01-08 12:07:00                  16.897                  16.452   \n",
       "2020-01-08 12:07:50                  16.897                  16.437   \n",
       "2020-01-08 12:08:40                  16.905                  16.464   \n",
       "\n",
       "                     Zaber_Meas_MicroStep_X  Zaber_Meas_Encoder_X  \\\n",
       "Datetime                                                            \n",
       "2019-12-13 11:20:10            249952.34375              639878.0   \n",
       "2019-12-13 11:21:00            249952.34375              639878.0   \n",
       "2019-12-13 11:21:50            249952.34375              639878.0   \n",
       "2019-12-13 11:22:40            249952.34375              639878.0   \n",
       "2019-12-13 11:23:30            249952.34375              639878.0   \n",
       "2019-12-13 11:24:20            249952.34375              639878.0   \n",
       "2019-12-13 11:25:10            249952.34375              639878.0   \n",
       "2019-12-13 11:26:00            249952.34375              639878.0   \n",
       "2019-12-13 11:26:50            249952.34375              639878.0   \n",
       "2019-12-13 11:27:40            249952.34375              639878.0   \n",
       "2019-12-13 11:28:30            249952.34375              639878.0   \n",
       "2019-12-13 11:29:21            249952.34375              639878.0   \n",
       "2019-12-13 11:30:10            249952.34375              639878.0   \n",
       "2019-12-13 11:31:00            249952.34375              639878.0   \n",
       "2019-12-13 11:31:50            249952.34375              639878.0   \n",
       "2019-12-13 11:32:40            249952.34375              639878.0   \n",
       "2019-12-13 11:33:30            249952.34375              639878.0   \n",
       "2019-12-13 11:34:20            249952.34375              639878.0   \n",
       "2019-12-13 11:35:10            249952.34375              639878.0   \n",
       "2019-12-13 11:36:00            249952.34375              639878.0   \n",
       "2019-12-13 11:36:50            249952.34375              639878.0   \n",
       "2019-12-13 11:37:40            249952.34375              639878.0   \n",
       "2019-12-13 11:38:30            249952.34375              639878.0   \n",
       "2019-12-13 11:39:20            249952.34375              639878.0   \n",
       "2019-12-13 11:40:10            249952.34375              639878.0   \n",
       "2019-12-13 11:41:00            249952.34375              639878.0   \n",
       "2019-12-13 11:41:50            249952.34375              639878.0   \n",
       "2019-12-13 11:42:40            249952.34375              639878.0   \n",
       "2019-12-13 11:43:30            249952.34375              639878.0   \n",
       "2019-12-13 11:44:21            249952.34375              639878.0   \n",
       "...                                     ...                   ...   \n",
       "2020-01-08 11:44:30            249952.34375              639878.0   \n",
       "2020-01-08 11:45:20            249952.34375              639878.0   \n",
       "2020-01-08 11:46:10            249952.34375              639878.0   \n",
       "2020-01-08 11:47:00            249952.34375              639878.0   \n",
       "2020-01-08 11:47:50            249952.34375              639878.0   \n",
       "2020-01-08 11:48:40            249952.34375              639878.0   \n",
       "2020-01-08 11:49:30            249952.34375              639878.0   \n",
       "2020-01-08 11:50:20            249952.34375              639878.0   \n",
       "2020-01-08 11:51:10            249952.34375              639878.0   \n",
       "2020-01-08 11:52:00            249952.34375              639878.0   \n",
       "2020-01-08 11:52:50            249952.34375              639878.0   \n",
       "2020-01-08 11:53:40            249952.34375              639878.0   \n",
       "2020-01-08 11:54:30            249952.34375              639878.0   \n",
       "2020-01-08 11:55:20            249952.34375              639878.0   \n",
       "2020-01-08 11:56:10            249952.34375              639878.0   \n",
       "2020-01-08 11:57:00            249952.34375              639878.0   \n",
       "2020-01-08 11:57:50            249952.34375              639878.0   \n",
       "2020-01-08 11:58:40            249952.34375              639878.0   \n",
       "2020-01-08 11:59:30            249952.34375              639878.0   \n",
       "2020-01-08 12:00:20            249952.34375              639878.0   \n",
       "2020-01-08 12:01:10            249952.34375              639878.0   \n",
       "2020-01-08 12:02:00            249952.34375              639878.0   \n",
       "2020-01-08 12:02:50            249952.34375              639878.0   \n",
       "2020-01-08 12:03:40            249952.34375              639878.0   \n",
       "2020-01-08 12:04:30            249952.34375              639878.0   \n",
       "2020-01-08 12:05:20            249952.34375              639878.0   \n",
       "2020-01-08 12:06:10            249952.34375              639878.0   \n",
       "2020-01-08 12:07:00            249952.34375              639878.0   \n",
       "2020-01-08 12:07:50            249952.34375              639878.0   \n",
       "2020-01-08 12:08:40            249952.34375              639878.0   \n",
       "\n",
       "                     Zaber_Meas_MicroStep_Y  Zaber_Meas_Encoder_Y  \\\n",
       "Datetime                                                            \n",
       "2019-12-13 11:20:10           184468.359375              472239.0   \n",
       "2019-12-13 11:21:00           184468.359375              472239.0   \n",
       "2019-12-13 11:21:50           184468.359375              472239.0   \n",
       "2019-12-13 11:22:40           184468.359375              472239.0   \n",
       "2019-12-13 11:23:30           184468.359375              472239.0   \n",
       "2019-12-13 11:24:20           184468.359375              472239.0   \n",
       "2019-12-13 11:25:10           184468.359375              472239.0   \n",
       "2019-12-13 11:26:00           184468.359375              472239.0   \n",
       "2019-12-13 11:26:50           184468.359375              472239.0   \n",
       "2019-12-13 11:27:40           184468.359375              472239.0   \n",
       "2019-12-13 11:28:30           184468.359375              472239.0   \n",
       "2019-12-13 11:29:21           184468.359375              472239.0   \n",
       "2019-12-13 11:30:10           184468.359375              472239.0   \n",
       "2019-12-13 11:31:00           184468.359375              472239.0   \n",
       "2019-12-13 11:31:50           184468.359375              472239.0   \n",
       "2019-12-13 11:32:40           184468.359375              472239.0   \n",
       "2019-12-13 11:33:30           184468.359375              472239.0   \n",
       "2019-12-13 11:34:20           184468.359375              472239.0   \n",
       "2019-12-13 11:35:10           184468.359375              472239.0   \n",
       "2019-12-13 11:36:00           184468.359375              472239.0   \n",
       "2019-12-13 11:36:50           184468.359375              472239.0   \n",
       "2019-12-13 11:37:40           184468.359375              472239.0   \n",
       "2019-12-13 11:38:30           184468.359375              472239.0   \n",
       "2019-12-13 11:39:20           184468.359375              472239.0   \n",
       "2019-12-13 11:40:10           184468.359375              472239.0   \n",
       "2019-12-13 11:41:00           184468.359375              472239.0   \n",
       "2019-12-13 11:41:50           184468.359375              472239.0   \n",
       "2019-12-13 11:42:40           184468.359375              472239.0   \n",
       "2019-12-13 11:43:30           184468.359375              472239.0   \n",
       "2019-12-13 11:44:21           184468.359375              472239.0   \n",
       "...                                     ...                   ...   \n",
       "2020-01-08 11:44:30           184468.359375              472239.0   \n",
       "2020-01-08 11:45:20           184468.359375              472239.0   \n",
       "2020-01-08 11:46:10           184468.359375              472239.0   \n",
       "2020-01-08 11:47:00           184468.359375              472239.0   \n",
       "2020-01-08 11:47:50           184468.359375              472239.0   \n",
       "2020-01-08 11:48:40           184468.359375              472239.0   \n",
       "2020-01-08 11:49:30           184468.359375              472239.0   \n",
       "2020-01-08 11:50:20           184468.359375              472239.0   \n",
       "2020-01-08 11:51:10           184468.359375              472239.0   \n",
       "2020-01-08 11:52:00           184468.359375              472239.0   \n",
       "2020-01-08 11:52:50           184468.359375              472239.0   \n",
       "2020-01-08 11:53:40           184468.359375              472239.0   \n",
       "2020-01-08 11:54:30           184468.359375              472239.0   \n",
       "2020-01-08 11:55:20           184468.359375              472239.0   \n",
       "2020-01-08 11:56:10           184468.359375              472239.0   \n",
       "2020-01-08 11:57:00           184468.359375              472239.0   \n",
       "2020-01-08 11:57:50           184468.359375              472239.0   \n",
       "2020-01-08 11:58:40           184468.359375              472239.0   \n",
       "2020-01-08 11:59:30           184468.359375              472239.0   \n",
       "2020-01-08 12:00:20           184468.359375              472239.0   \n",
       "2020-01-08 12:01:10           184468.359375              472239.0   \n",
       "2020-01-08 12:02:00           184468.359375              472239.0   \n",
       "2020-01-08 12:02:50           184468.359375              472239.0   \n",
       "2020-01-08 12:03:40           184468.359375              472239.0   \n",
       "2020-01-08 12:04:30           184468.359375              472239.0   \n",
       "2020-01-08 12:05:20           184468.359375              472239.0   \n",
       "2020-01-08 12:06:10           184468.359375              472239.0   \n",
       "2020-01-08 12:07:00           184468.359375              472239.0   \n",
       "2020-01-08 12:07:50           184468.359375              472239.0   \n",
       "2020-01-08 12:08:40           184468.359375              472239.0   \n",
       "\n",
       "                     Zaber_Meas_MicroStep_Z  Zaber_Meas_Encoder_Z  \n",
       "Datetime                                                           \n",
       "2019-12-13 11:20:10                750100.0             1920256.0  \n",
       "2019-12-13 11:21:00                750100.0             1920256.0  \n",
       "2019-12-13 11:21:50                750100.0             1920256.0  \n",
       "2019-12-13 11:22:40                750100.0             1920256.0  \n",
       "2019-12-13 11:23:30                750100.0             1920256.0  \n",
       "2019-12-13 11:24:20                750100.0             1920256.0  \n",
       "2019-12-13 11:25:10                750100.0             1920256.0  \n",
       "2019-12-13 11:26:00                750100.0             1920256.0  \n",
       "2019-12-13 11:26:50                750100.0             1920256.0  \n",
       "2019-12-13 11:27:40                750100.0             1920256.0  \n",
       "2019-12-13 11:28:30                750100.0             1920256.0  \n",
       "2019-12-13 11:29:21                750100.0             1920256.0  \n",
       "2019-12-13 11:30:10                750100.0             1920256.0  \n",
       "2019-12-13 11:31:00                750100.0             1920256.0  \n",
       "2019-12-13 11:31:50                750100.0             1920256.0  \n",
       "2019-12-13 11:32:40                750100.0             1920256.0  \n",
       "2019-12-13 11:33:30                750100.0             1920256.0  \n",
       "2019-12-13 11:34:20                750100.0             1920256.0  \n",
       "2019-12-13 11:35:10                750100.0             1920256.0  \n",
       "2019-12-13 11:36:00                750100.0             1920256.0  \n",
       "2019-12-13 11:36:50                750100.0             1920256.0  \n",
       "2019-12-13 11:37:40                750100.0             1920256.0  \n",
       "2019-12-13 11:38:30                750100.0             1920256.0  \n",
       "2019-12-13 11:39:20                750100.0             1920256.0  \n",
       "2019-12-13 11:40:10                750100.0             1920256.0  \n",
       "2019-12-13 11:41:00                750100.0             1920256.0  \n",
       "2019-12-13 11:41:50                750100.0             1920256.0  \n",
       "2019-12-13 11:42:40                750100.0             1920256.0  \n",
       "2019-12-13 11:43:30                750100.0             1920256.0  \n",
       "2019-12-13 11:44:21                750100.0             1920256.0  \n",
       "...                                     ...                   ...  \n",
       "2020-01-08 11:44:30                750100.0             1920256.0  \n",
       "2020-01-08 11:45:20                750100.0             1920256.0  \n",
       "2020-01-08 11:46:10                750100.0             1920256.0  \n",
       "2020-01-08 11:47:00                750100.0             1920256.0  \n",
       "2020-01-08 11:47:50                750100.0             1920256.0  \n",
       "2020-01-08 11:48:40                750100.0             1920256.0  \n",
       "2020-01-08 11:49:30                750100.0             1920256.0  \n",
       "2020-01-08 11:50:20                750100.0             1920256.0  \n",
       "2020-01-08 11:51:10                750100.0             1920256.0  \n",
       "2020-01-08 11:52:00                750100.0             1920256.0  \n",
       "2020-01-08 11:52:50                750100.0             1920256.0  \n",
       "2020-01-08 11:53:40                750100.0             1920256.0  \n",
       "2020-01-08 11:54:30                750100.0             1920256.0  \n",
       "2020-01-08 11:55:20                750100.0             1920256.0  \n",
       "2020-01-08 11:56:10                750100.0             1920256.0  \n",
       "2020-01-08 11:57:00                750100.0             1920256.0  \n",
       "2020-01-08 11:57:50                750100.0             1920256.0  \n",
       "2020-01-08 11:58:40                750100.0             1920256.0  \n",
       "2020-01-08 11:59:30                750100.0             1920256.0  \n",
       "2020-01-08 12:00:20                750100.0             1920256.0  \n",
       "2020-01-08 12:01:10                750100.0             1920256.0  \n",
       "2020-01-08 12:02:00                750100.0             1920256.0  \n",
       "2020-01-08 12:02:50                750100.0             1920256.0  \n",
       "2020-01-08 12:03:40                750100.0             1920256.0  \n",
       "2020-01-08 12:04:30                750100.0             1920256.0  \n",
       "2020-01-08 12:05:20                750100.0             1920256.0  \n",
       "2020-01-08 12:06:10                750100.0             1920256.0  \n",
       "2020-01-08 12:07:00                750100.0             1920256.0  \n",
       "2020-01-08 12:07:50                750100.0             1920256.0  \n",
       "2020-01-08 12:08:40                750100.0             1920256.0  \n",
       "\n",
       "[44986 rows x 75 columns]"
      ]
     },
     "execution_count": 15,
     "metadata": {},
     "output_type": "execute_result"
    }
   ],
   "source": [
    "df2"
   ]
  },
  {
   "cell_type": "code",
   "execution_count": 16,
   "metadata": {
    "hidden": true
   },
   "outputs": [],
   "source": [
    "df = pd.concat([df,df2], axis=0)"
   ]
  },
  {
   "cell_type": "code",
   "execution_count": 17,
   "metadata": {
    "hidden": true
   },
   "outputs": [],
   "source": [
    "## PLOT ALL\n",
    "#for col in df.columns:\n",
    "#    fig = scatter2d(df.index, df[col], show_plot=False)\n",
    "#    fname = f\"{plotdir}time/all/{col}_vs_time\"\n",
    "#    pio.write_image(fig, fname+\".pdf\")\n",
    "#    pio.write_image(fig, fname+\".png\")"
   ]
  },
  {
   "cell_type": "code",
   "execution_count": 18,
   "metadata": {
    "hidden": true
   },
   "outputs": [],
   "source": [
    "probes = np.array([])\n",
    "for col in df.columns:\n",
    "    #print(df_fast[col].dtype)\n",
    "    if (\"Raw\" in col) or (\"Cal\" in col):#type(df[col].iloc[0]) is np.float64:\n",
    "        #print(f\"{col}\")#\": mean: {df[col].mean()}\")\n",
    "        probes = np.append(probes, col[:16])\n",
    "probes = list(np.unique(probes))\n",
    "#print(probes)"
   ]
  },
  {
   "cell_type": "code",
   "execution_count": 19,
   "metadata": {
    "hidden": true
   },
   "outputs": [],
   "source": [
    "probe = probes[2]"
   ]
  },
  {
   "cell_type": "code",
   "execution_count": 20,
   "metadata": {
    "hidden": true
   },
   "outputs": [
    {
     "data": {
      "text/plain": [
       "'DF0000000D5E803A'"
      ]
     },
     "execution_count": 20,
     "metadata": {},
     "output_type": "execute_result"
    }
   ],
   "source": [
    "probe"
   ]
  },
  {
   "cell_type": "code",
   "execution_count": 21,
   "metadata": {
    "hidden": true,
    "scrolled": true
   },
   "outputs": [],
   "source": [
    "#for col in df.columns:\n",
    "    #print(df_fast[col].dtype)\n",
    "#    if type(df[col].iloc[0]) is np.float64:\n",
    "#        print(f\"{col}: mean: {df[col].mean()}\")"
   ]
  },
  {
   "cell_type": "markdown",
   "metadata": {
    "hidden": true
   },
   "source": [
    "- Looks like maybe probe \"DF0000000D5E803A\" is in the field\n",
    "- NMR [T] = 0?"
   ]
  },
  {
   "cell_type": "markdown",
   "metadata": {
    "heading_collapsed": true,
    "hidden": true
   },
   "source": [
    "### Slow Control Data Cleaning"
   ]
  },
  {
   "cell_type": "code",
   "execution_count": 22,
   "metadata": {
    "code_folding": [],
    "hidden": true
   },
   "outputs": [],
   "source": [
    "for probe in probes:\n",
    "    for t in [\"Cal\", \"Raw\"]:\n",
    "        df[f\"{probe}_{t}_Bmag\"] = (df[f\"{probe}_{t}_X\"]**2+df[f\"{probe}_{t}_Y\"]**2+df[f\"{probe}_{t}_Z\"]**2)**(1/2)\n",
    "        df[f\"{probe}_{t}_Res\"] = df[f\"{probe}_{t}_Bmag\"] - df['NMR [T]']\n",
    "        df[f\"{probe}_{t}_Res_Rel\"] = (df[f\"{probe}_{t}_Bmag\"] - df['NMR [T]']) / df['NMR [T]']"
   ]
  },
  {
   "cell_type": "code",
   "execution_count": 23,
   "metadata": {
    "hidden": true
   },
   "outputs": [],
   "source": [
    "for B in [\"X\", \"Y\", \"Z\"]:\n",
    "    for probe in probes:\n",
    "        for t in [\"Cal\", \"Raw\"]:\n",
    "            #df[f\"{probe}_{t}_Bmag\"] = (df[f\"{probe}_{t}_X\"]**2+df[f\"{probe}_{t}_Y\"]**2+df[f\"{probe}_{t}_Z\"]**2)**(1/2)\n",
    "            df[f\"{probe}_{t}_{B}_Res\"] = df[f\"{probe}_{t}_{B}\"] - df['NMR [T]']\n",
    "            df[f\"{probe}_{t}_{B}_Res_Rel\"] = (df[f\"{probe}_{t}_{B}\"] - df['NMR [T]']) / df['NMR [T]']"
   ]
  },
  {
   "cell_type": "code",
   "execution_count": 24,
   "metadata": {
    "hidden": true
   },
   "outputs": [],
   "source": [
    "df[\"seconds_delta\"] = (df.index - df.index[0]).total_seconds()\n",
    "df[\"hours_delta\"] = (df.index - df.index[0]).total_seconds()/60**2\n",
    "df[\"days_delta\"] = (df.index - df.index[0]).total_seconds()/(24*60**2)"
   ]
  },
  {
   "cell_type": "code",
   "execution_count": 25,
   "metadata": {
    "hidden": true
   },
   "outputs": [],
   "source": [
    "for t in [\"Cal\", \"Raw\"]:\n",
    "    for probe in probes:\n",
    "        df[f\"{probe}_{t}_Transverse\"] = (df[f\"{probe}_Cal_X\"]**2+df[f\"{probe}_Cal_Y\"]**2)**(1/2)\n",
    "        df[f\"{probe}_{t}_Theta\"] = np.arccos(df[f\"{probe}_Cal_Z\"]/df[f\"{probe}_Cal_Bmag\"])\n",
    "        df[f\"{probe}_{t}_Phi\"] = np.arccos(df[f\"{probe}_Cal_X\"]/df[f\"{probe}_Cal_Transverse\"])"
   ]
  },
  {
   "cell_type": "code",
   "execution_count": 26,
   "metadata": {
    "hidden": true
   },
   "outputs": [],
   "source": [
    "# raw\n",
    "for probe in probes:\n",
    "    df[f\"{probe}_Raw_Bmag\"] = (df[f\"{probe}_Raw_X\"]**2+df[f\"{probe}_Raw_Y\"]**2+df[f\"{probe}_Raw_Z\"]**2)**(1/2)\n",
    "\n",
    "for probe in probes:\n",
    "    df[f\"{probe}_Raw_Transverse\"] = (df[f\"{probe}_Raw_X\"]**2+df[f\"{probe}_Raw_Y\"]**2)**(1/2)\n",
    "    df[f\"{probe}_Raw_Theta\"] = np.arccos(df[f\"{probe}_Raw_Z\"]/df[f\"{probe}_Raw_Bmag\"])\n",
    "    df[f\"{probe}_Raw_Phi\"] = np.arccos(df[f\"{probe}_Raw_X\"]/df[f\"{probe}_Raw_Transverse\"])"
   ]
  },
  {
   "cell_type": "code",
   "execution_count": 28,
   "metadata": {
    "hidden": true,
    "scrolled": true
   },
   "outputs": [
    {
     "name": "stderr",
     "output_type": "stream",
     "text": [
      "/home/ckampa/anaconda3/envs/Mu2E/lib/python3.7/site-packages/numpy/lib/function_base.py:3768: RuntimeWarning:\n",
      "\n",
      "invalid value encountered in multiply\n",
      "\n"
     ]
    }
   ],
   "source": [
    "if make_plots:\n",
    "    ## TIME PLOTS\n",
    "    for col in df.columns:\n",
    "        fig = scatter2d(df.index, df[col], markers=False, lines=True, show_plot=False) \n",
    "        pio.write_image(fig, plotdir+f\"time/all/{col}_vs_time.pdf\")\n",
    "        pio.write_image(fig, plotdir+f\"time/all/{col}_vs_time.png\")\n",
    "    \n",
    "    ## PLOT HISTOS\n",
    "    for probe in probes:\n",
    "        for t in [\"Cal\", \"Raw\"]:\n",
    "            fig = histo(df[f\"{probe}_{t}_Bmag\"], bins=50, show_plot=False)\n",
    "            pio.write_image(fig, plotdir+f\"histo/{probe}_{t}_Bmag.pdf\")\n",
    "            pio.write_image(fig, plotdir+f\"histo/{probe}_{t}_Bmag.png\")\n",
    "\n",
    "    ## RES HISTOS\n",
    "    for t in [\"Cal\", \"Raw\"]:\n",
    "        for probe in probes:\n",
    "            for B in [\"X\",\"Y\",\"Z\"]:\n",
    "                fig = histo(df[f\"{probe}_{t}_{B}_Res\"], bins=50, show_plot=False)\n",
    "                pio.write_image(fig, plotdir+f\"histo/residuals/component/{probe}_{t}_{B}_Res.pdf\")\n",
    "                pio.write_image(fig, plotdir+f\"histo/residuals/component/{probe}_{t}_{B}_Res.png\")\n",
    "\n",
    "    ## REL_RES HISTOS\n",
    "    for t in [\"Cal\", \"Raw\"]:\n",
    "        for probe in probes:\n",
    "            for B in [\"X\",\"Y\",\"Z\"]:\n",
    "                fig = histo(df[f\"{probe}_{t}_{B}_Res_Rel\"], bins=50, show_plot=False)\n",
    "                pio.write_image(fig, plotdir+f\"histo/relative_residuals/component/{probe}_{t}_{B}_Res_Rel.pdf\")\n",
    "                pio.write_image(fig, plotdir+f\"histo/relative_residuals/component/{probe}_{t}_{B}_Res_Rel.png\")\n",
    "\n",
    "    ## BMAG RES HISTOS\n",
    "    for res in [\"Res\", \"Res_Rel\"]:\n",
    "        if res == \"Res\":\n",
    "            p = \"residuals\"\n",
    "        else:\n",
    "            p = \"relative_residuals\"\n",
    "        for t in [\"Cal\", \"Raw\"]:\n",
    "            for probe in probes:\n",
    "                #for B in [\"X\",\"Y\",\"Z\"]:\n",
    "                fig = histo(df[f\"{probe}_{t}_{res}\"], bins=50, show_plot=False)\n",
    "                pio.write_image(fig, plotdir+f\"histo/{p}/{probe}_{t}_Bmag_{res}.pdf\")\n",
    "                pio.write_image(fig, plotdir+f\"histo/{p}/{probe}_{t}_Bmag_{res}.png\")\n",
    "\n",
    "    ## PLOT HISTO ANGLE\n",
    "    for probe in probes:\n",
    "        for angle in [\"Transverse\", \"Theta\", \"Phi\"]:\n",
    "            fig = histo(df[f\"{probe}_Cal_{angle}\"], bins=30, show_plot=False)\n",
    "            pio.write_image(fig, plotdir+f\"histo/angles/{probe}_Cal_{angle}.pdf\")\n",
    "            pio.write_image(fig, plotdir+f\"histo/angles/{probe}_Cal_{angle}.png\")\n",
    "\n",
    "    ## PLOT ANGLE\n",
    "    for probe in probes:\n",
    "        for angle in [\"Transverse\", \"Theta\", \"Phi\"]:\n",
    "            fig = scatter2d(df.index, df[f\"{probe}_Cal_{angle}\"], show_plot=False)\n",
    "            pio.write_image(fig, plotdir+f\"time/angles/{probe}_Cal_{angle}.pdf\")\n",
    "            pio.write_image(fig, plotdir+f\"time/angles/{probe}_Cal_{angle}.png\")\n",
    "\n",
    "    ## PLOT ANGLES RAW\n",
    "    for probe in probes:\n",
    "        for angle in [\"Transverse\", \"Theta\", \"Phi\"]:\n",
    "            fig = histo(df[f\"{probe}_Raw_{angle}\"], bins=30, show_plot=False)\n",
    "            pio.write_image(fig, plotdir+f\"histo/angles/{probe}_Raw_{angle}.pdf\")\n",
    "            pio.write_image(fig, plotdir+f\"histo/angles/{probe}_Raw_{angle}.png\")\n",
    "\n",
    "    for probe in probes:\n",
    "        for angle in [\"Transverse\", \"Theta\", \"Phi\"]:\n",
    "            fig = scatter2d(df.index, df[f\"{probe}_Raw_{angle}\"], show_plot=False)\n",
    "            pio.write_image(fig, plotdir+f\"time/angles/{probe}_Raw_{angle}.pdf\")\n",
    "            pio.write_image(fig, plotdir+f\"time/angles/{probe}_Raw_{angle}.png\")"
   ]
  },
  {
   "cell_type": "code",
   "execution_count": 30,
   "metadata": {
    "hidden": true
   },
   "outputs": [],
   "source": [
    "df.to_pickle(pkl_dir+pkl_file_slow)"
   ]
  },
  {
   "cell_type": "code",
   "execution_count": 31,
   "metadata": {
    "hidden": true
   },
   "outputs": [
    {
     "data": {
      "text/plain": [
       "75.11953299999999"
      ]
     },
     "execution_count": 31,
     "metadata": {},
     "output_type": "execute_result"
    }
   ],
   "source": [
    "getsizeof(df) / 1000/1000"
   ]
  },
  {
   "cell_type": "code",
   "execution_count": 32,
   "metadata": {
    "hidden": true
   },
   "outputs": [
    {
     "name": "stdout",
     "output_type": "stream",
     "text": [
      "<class 'pandas.core.frame.DataFrame'>\n",
      "DatetimeIndex: 58795 entries, 2019-12-04 14:38:18 to 2020-01-08 12:08:40\n",
      "Columns: 150 entries, Time to DF0000000D5E803A_Raw_Phi\n",
      "dtypes: float64(149), object(1)\n",
      "memory usage: 67.7+ MB\n"
     ]
    }
   ],
   "source": [
    "df.info()"
   ]
  },
  {
   "cell_type": "markdown",
   "metadata": {},
   "source": [
    "## Plotting"
   ]
  },
  {
   "cell_type": "markdown",
   "metadata": {},
   "source": [
    "### First Attempt"
   ]
  },
  {
   "cell_type": "code",
   "execution_count": 10,
   "metadata": {},
   "outputs": [
    {
     "data": {
      "text/html": [
       "<div>\n",
       "<style scoped>\n",
       "    .dataframe tbody tr th:only-of-type {\n",
       "        vertical-align: middle;\n",
       "    }\n",
       "\n",
       "    .dataframe tbody tr th {\n",
       "        vertical-align: top;\n",
       "    }\n",
       "\n",
       "    .dataframe thead th {\n",
       "        text-align: right;\n",
       "    }\n",
       "</style>\n",
       "<table border=\"1\" class=\"dataframe\">\n",
       "  <thead>\n",
       "    <tr style=\"text-align: right;\">\n",
       "      <th></th>\n",
       "      <th>Time</th>\n",
       "      <th>Magnet Current [A]</th>\n",
       "      <th>Magnet Voltage [V]</th>\n",
       "      <th>Coil 1 (new)</th>\n",
       "      <th>Coil 2 (old)</th>\n",
       "      <th>LCW in Coil1</th>\n",
       "      <th>LCW out Coil 1</th>\n",
       "      <th>LCW in Coil 2</th>\n",
       "      <th>LCW out Coil 2</th>\n",
       "      <th>Yoke</th>\n",
       "      <th>...</th>\n",
       "      <th>DF0000000D5E803A_Cal_Phi</th>\n",
       "      <th>6A0000000D61333A_Raw_Transverse</th>\n",
       "      <th>6A0000000D61333A_Raw_Theta</th>\n",
       "      <th>6A0000000D61333A_Raw_Phi</th>\n",
       "      <th>C50000000D5E473A_Raw_Transverse</th>\n",
       "      <th>C50000000D5E473A_Raw_Theta</th>\n",
       "      <th>C50000000D5E473A_Raw_Phi</th>\n",
       "      <th>DF0000000D5E803A_Raw_Transverse</th>\n",
       "      <th>DF0000000D5E803A_Raw_Theta</th>\n",
       "      <th>DF0000000D5E803A_Raw_Phi</th>\n",
       "    </tr>\n",
       "    <tr>\n",
       "      <th>Datetime</th>\n",
       "      <th></th>\n",
       "      <th></th>\n",
       "      <th></th>\n",
       "      <th></th>\n",
       "      <th></th>\n",
       "      <th></th>\n",
       "      <th></th>\n",
       "      <th></th>\n",
       "      <th></th>\n",
       "      <th></th>\n",
       "      <th></th>\n",
       "      <th></th>\n",
       "      <th></th>\n",
       "      <th></th>\n",
       "      <th></th>\n",
       "      <th></th>\n",
       "      <th></th>\n",
       "      <th></th>\n",
       "      <th></th>\n",
       "      <th></th>\n",
       "      <th></th>\n",
       "    </tr>\n",
       "  </thead>\n",
       "  <tbody>\n",
       "    <tr>\n",
       "      <th>2020-01-08 12:08:40</th>\n",
       "      <td>1/8/2020 12:08:40 PM</td>\n",
       "      <td>256.0727</td>\n",
       "      <td>30.86205</td>\n",
       "      <td>32.74165</td>\n",
       "      <td>30.332678</td>\n",
       "      <td>7.005564</td>\n",
       "      <td>9.925889</td>\n",
       "      <td>11.6269</td>\n",
       "      <td>13.902221</td>\n",
       "      <td>16.686592</td>\n",
       "      <td>...</td>\n",
       "      <td>1.595403</td>\n",
       "      <td>140.003571</td>\n",
       "      <td>0.030308</td>\n",
       "      <td>1.563654</td>\n",
       "      <td>60728.119097</td>\n",
       "      <td>1.231013</td>\n",
       "      <td>1.365834</td>\n",
       "      <td>3.515507e+06</td>\n",
       "      <td>1.531121</td>\n",
       "      <td>1.108786</td>\n",
       "    </tr>\n",
       "  </tbody>\n",
       "</table>\n",
       "<p>1 rows × 150 columns</p>\n",
       "</div>"
      ],
      "text/plain": [
       "                                     Time  Magnet Current [A]  \\\n",
       "Datetime                                                        \n",
       "2020-01-08 12:08:40  1/8/2020 12:08:40 PM            256.0727   \n",
       "\n",
       "                     Magnet Voltage [V]  Coil 1 (new)  Coil 2 (old)  \\\n",
       "Datetime                                                              \n",
       "2020-01-08 12:08:40            30.86205      32.74165     30.332678   \n",
       "\n",
       "                     LCW in Coil1  LCW out Coil 1  LCW in Coil 2  \\\n",
       "Datetime                                                           \n",
       "2020-01-08 12:08:40      7.005564        9.925889        11.6269   \n",
       "\n",
       "                     LCW out Coil 2       Yoke            ...             \\\n",
       "Datetime                                                  ...              \n",
       "2020-01-08 12:08:40       13.902221  16.686592            ...              \n",
       "\n",
       "                     DF0000000D5E803A_Cal_Phi  \\\n",
       "Datetime                                        \n",
       "2020-01-08 12:08:40                  1.595403   \n",
       "\n",
       "                     6A0000000D61333A_Raw_Transverse  \\\n",
       "Datetime                                               \n",
       "2020-01-08 12:08:40                       140.003571   \n",
       "\n",
       "                     6A0000000D61333A_Raw_Theta  6A0000000D61333A_Raw_Phi  \\\n",
       "Datetime                                                                    \n",
       "2020-01-08 12:08:40                    0.030308                  1.563654   \n",
       "\n",
       "                     C50000000D5E473A_Raw_Transverse  \\\n",
       "Datetime                                               \n",
       "2020-01-08 12:08:40                     60728.119097   \n",
       "\n",
       "                     C50000000D5E473A_Raw_Theta  C50000000D5E473A_Raw_Phi  \\\n",
       "Datetime                                                                    \n",
       "2020-01-08 12:08:40                    1.231013                  1.365834   \n",
       "\n",
       "                     DF0000000D5E803A_Raw_Transverse  \\\n",
       "Datetime                                               \n",
       "2020-01-08 12:08:40                     3.515507e+06   \n",
       "\n",
       "                     DF0000000D5E803A_Raw_Theta  DF0000000D5E803A_Raw_Phi  \n",
       "Datetime                                                                   \n",
       "2020-01-08 12:08:40                    1.531121                  1.108786  \n",
       "\n",
       "[1 rows x 150 columns]"
      ]
     },
     "execution_count": 10,
     "metadata": {},
     "output_type": "execute_result"
    }
   ],
   "source": [
    "df.tail(1)"
   ]
  },
  {
   "cell_type": "code",
   "execution_count": 11,
   "metadata": {
    "scrolled": true
   },
   "outputs": [
    {
     "data": {
      "text/plain": [
       "58795"
      ]
     },
     "execution_count": 11,
     "metadata": {},
     "output_type": "execute_result"
    }
   ],
   "source": [
    "len(df)"
   ]
  },
  {
   "cell_type": "code",
   "execution_count": 12,
   "metadata": {},
   "outputs": [
    {
     "data": {
      "text/plain": [
       "34.02488425925926"
      ]
     },
     "execution_count": 12,
     "metadata": {},
     "output_type": "execute_result"
    }
   ],
   "source": [
    "len(df) * 50 / 60 / 60 / 24"
   ]
  },
  {
   "cell_type": "code",
   "execution_count": 13,
   "metadata": {},
   "outputs": [],
   "source": [
    "df = df[df[\"NMR [T]\"] > 0.1]"
   ]
  },
  {
   "cell_type": "code",
   "execution_count": 16,
   "metadata": {},
   "outputs": [],
   "source": [
    "fig = histo(df[\"NMR [T]\"], bins=50, inline=False)"
   ]
  },
  {
   "cell_type": "code",
   "execution_count": null,
   "metadata": {},
   "outputs": [],
   "source": [
    "#fig = scatter2d(df.index, df[\"NMR [T]\"], show_plot=False);"
   ]
  },
  {
   "cell_type": "code",
   "execution_count": null,
   "metadata": {},
   "outputs": [],
   "source": [
    "#pplot(fig)"
   ]
  },
  {
   "cell_type": "code",
   "execution_count": null,
   "metadata": {},
   "outputs": [],
   "source": [
    "#fig = scatter2d(df.index, df[\"NMR [T]\"])"
   ]
  },
  {
   "cell_type": "code",
   "execution_count": null,
   "metadata": {},
   "outputs": [],
   "source": [
    "#plot(fig)"
   ]
  },
  {
   "cell_type": "code",
   "execution_count": 65,
   "metadata": {},
   "outputs": [],
   "source": [
    "# magnet off 12-13 to 12-16\n",
    "df_ = df[\"12-13-2019 17:10:00\":\"12-16-2019 07:56:00\"]"
   ]
  },
  {
   "cell_type": "code",
   "execution_count": 66,
   "metadata": {},
   "outputs": [],
   "source": [
    "###### take out magnet off\n",
    "df = pd.concat([df[:\"12-13-2019 17:08:00\"], df[\"12-16-2019 07:57:00\":]])"
   ]
  },
  {
   "cell_type": "code",
   "execution_count": 37,
   "metadata": {},
   "outputs": [],
   "source": [
    "fig = scatter2d(3*[df.index], [df[col+\"_Cal_Bmag\"] for col in probes], inline=False);"
   ]
  },
  {
   "cell_type": "code",
   "execution_count": 176,
   "metadata": {},
   "outputs": [],
   "source": [
    "fig = scatter2d(2*[df.index], [df[\"NMR [T]\"], df[f\"{probe}_Cal_Bmag\"]], show_plot=False);"
   ]
  },
  {
   "cell_type": "code",
   "execution_count": 177,
   "metadata": {},
   "outputs": [
    {
     "data": {
      "text/plain": [
       "'temp-plot.html'"
      ]
     },
     "execution_count": 177,
     "metadata": {},
     "output_type": "execute_result"
    }
   ],
   "source": [
    "plot(fig)"
   ]
  },
  {
   "cell_type": "code",
   "execution_count": 41,
   "metadata": {},
   "outputs": [],
   "source": [
    "###### take out magnet off\n",
    "#df = pd.concat([df[:\"12-13-2019 17:10:00\"], df[\"12-16-2019 07:56:00\":]])"
   ]
  },
  {
   "cell_type": "code",
   "execution_count": 42,
   "metadata": {},
   "outputs": [],
   "source": [
    "#fig = scatter2d(3*[df_.index], [df_[col+\"_Cal_Bmag\"] for col in probes], inline=False);"
   ]
  },
  {
   "cell_type": "code",
   "execution_count": null,
   "metadata": {},
   "outputs": [],
   "source": []
  },
  {
   "cell_type": "code",
   "execution_count": 43,
   "metadata": {},
   "outputs": [],
   "source": [
    "#fig = scatter2d(df.index, df[\"Chamber Wall CH13\"])"
   ]
  },
  {
   "cell_type": "code",
   "execution_count": 44,
   "metadata": {},
   "outputs": [],
   "source": [
    "fig = scatter2d(df.index, df[f\"{probe}_Cal_Res_Rel\"], show_plot=False);"
   ]
  },
  {
   "cell_type": "code",
   "execution_count": 45,
   "metadata": {},
   "outputs": [
    {
     "data": {
      "text/plain": [
       "'temp-plot.html'"
      ]
     },
     "execution_count": 45,
     "metadata": {},
     "output_type": "execute_result"
    }
   ],
   "source": [
    "plot(fig)"
   ]
  },
  {
   "cell_type": "code",
   "execution_count": 46,
   "metadata": {},
   "outputs": [],
   "source": [
    "fig = scatter2d(df[f\"{probe}_Cal_T\"], df[f\"{probe}_Cal_Res_Rel\"], df.days_delta, inline=False);"
   ]
  },
  {
   "cell_type": "code",
   "execution_count": 47,
   "metadata": {},
   "outputs": [],
   "source": [
    "fig = scatter2d(df[\"Roof\"], df[f\"{probe}_Cal_Res_Rel\"], df.days_delta, inline=False);"
   ]
  },
  {
   "cell_type": "markdown",
   "metadata": {},
   "source": [
    "~ -5e-5 change in residual after changing temperature (+4 deg C)."
   ]
  },
  {
   "cell_type": "code",
   "execution_count": 48,
   "metadata": {},
   "outputs": [
    {
     "data": {
      "text/plain": [
       "'temp-plot.html'"
      ]
     },
     "execution_count": 48,
     "metadata": {},
     "output_type": "execute_result"
    }
   ],
   "source": [
    "fig = histo(df[f\"{probe}_Cal_Res_Rel\"], bins=75, show_plot=False);\n",
    "plot(fig)\n",
    "#fig = histo(df[f\"{probe}_Cal_Res_Rel\"], bins=50, yscale='log')"
   ]
  },
  {
   "cell_type": "code",
   "execution_count": 49,
   "metadata": {},
   "outputs": [],
   "source": [
    "df[\"day\"] = df.index.day"
   ]
  },
  {
   "cell_type": "code",
   "execution_count": 50,
   "metadata": {},
   "outputs": [],
   "source": [
    "fig = px.histogram(df, x=f\"{probe}_Cal_Res_Rel\", color=\"day\")"
   ]
  },
  {
   "cell_type": "code",
   "execution_count": 51,
   "metadata": {},
   "outputs": [],
   "source": [
    "fig.update_layout(\n",
    "    autosize=False,\n",
    "    width=1800,\n",
    "    height=800\n",
    "    #margin=dict(l=20, r=20, t=20, b=20),\n",
    "    #padding=dict(l=20, r=20, t=20, b=20),\n",
    "    #paper_bgcolor=\"LightSteelBlue\",\n",
    ");"
   ]
  },
  {
   "cell_type": "code",
   "execution_count": 52,
   "metadata": {},
   "outputs": [],
   "source": [
    "#fig.show()"
   ]
  },
  {
   "cell_type": "code",
   "execution_count": 53,
   "metadata": {},
   "outputs": [
    {
     "data": {
      "text/plain": [
       "'temp-plot.html'"
      ]
     },
     "execution_count": 53,
     "metadata": {},
     "output_type": "execute_result"
    }
   ],
   "source": [
    "plot(fig)"
   ]
  },
  {
   "cell_type": "code",
   "execution_count": 54,
   "metadata": {},
   "outputs": [],
   "source": [
    "# temps"
   ]
  },
  {
   "cell_type": "code",
   "execution_count": 55,
   "metadata": {},
   "outputs": [],
   "source": [
    "temps_ch = [a for a in df.columns if (\"CH\" in a) and int(a[-2:])<21]# or \"HVAC\" in a]\n",
    "temps_ch.append(\"Hall Element\")\n",
    "temps_ch.append(\"Floor\")\n",
    "temps_ch.append(\"Roof\")\n",
    "temps_ch.append(\"Yoke\")\n",
    "temps_ch.append(\"Yoke (center magnet)\")"
   ]
  },
  {
   "cell_type": "code",
   "execution_count": 56,
   "metadata": {},
   "outputs": [],
   "source": [
    "#temps_ch"
   ]
  },
  {
   "cell_type": "code",
   "execution_count": 67,
   "metadata": {},
   "outputs": [
    {
     "data": {
      "text/plain": [
       "'temp-plot.html'"
      ]
     },
     "execution_count": 67,
     "metadata": {},
     "output_type": "execute_result"
    }
   ],
   "source": [
    "### MAGNET OFF\n",
    "fig = scatter2d([df_.index for c in temps_ch],[df_[c] for c in temps_ch],inline=True, show_plot=False);\n",
    "fig.layout.title = \"Temp vs. Datetime (magnet off)\"\n",
    "fig.layout.yaxis.title = \"Temp [deg. C]\";\n",
    "\n",
    "#fig.show()\n",
    "#plot(fig)\n",
    "\n",
    "#fname = 'temps_scatter'\n",
    "#fname = 'time/temps/temps_scatter_full'\n",
    "#pio.write_image(fig, plotdir+fname+'.pdf')\n",
    "#pio.write_image(fig, plotdir+fname+'.png')\n",
    "#plot(fig, filename=plotdir+fname+'.html', auto_open=False)\n",
    "\n",
    "probe = probes[2]\n",
    "\n",
    "fig.add_trace(go.Scatter(x=df_.index, y=df_[f\"{probe}_Cal_T\"], mode=\"lines\", name=f\"{probe}_Cal_T\"));\n",
    "\n",
    "#fname = 'temps_scatter'\n",
    "fname = 'time/temps/temps_scatter_full_magnet_off'\n",
    "pio.write_image(fig, plotdir+fname+'.pdf')\n",
    "pio.write_image(fig, plotdir+fname+'.png')\n",
    "plot(fig, filename=plotdir+fname+'.html', auto_open=False)\n",
    "\n",
    "plot(fig)"
   ]
  },
  {
   "cell_type": "code",
   "execution_count": 68,
   "metadata": {},
   "outputs": [
    {
     "data": {
      "text/plain": [
       "17.2656002"
      ]
     },
     "execution_count": 68,
     "metadata": {},
     "output_type": "execute_result"
    }
   ],
   "source": [
    "df_[\"Yoke\"].max()"
   ]
  },
  {
   "cell_type": "code",
   "execution_count": 69,
   "metadata": {},
   "outputs": [
    {
     "data": {
      "text/plain": [
       "2.1621295255215482"
      ]
     },
     "execution_count": 69,
     "metadata": {},
     "output_type": "execute_result"
    }
   ],
   "source": [
    "(df_[\"Yoke\"].max() - df_[\"Yoke\"].min()) / np.exp(1)"
   ]
  },
  {
   "cell_type": "code",
   "execution_count": 70,
   "metadata": {},
   "outputs": [
    {
     "data": {
      "text/plain": [
       "6.351659353065544"
      ]
     },
     "execution_count": 70,
     "metadata": {},
     "output_type": "execute_result"
    }
   ],
   "source": [
    "df_[\"Yoke\"].max()/np.exp(1)"
   ]
  },
  {
   "cell_type": "code",
   "execution_count": 71,
   "metadata": {},
   "outputs": [
    {
     "data": {
      "text/plain": [
       "'temp-plot.html'"
      ]
     },
     "execution_count": 71,
     "metadata": {},
     "output_type": "execute_result"
    }
   ],
   "source": [
    "### MAGNET OFF\n",
    "ys = [\"Yoke\", \"Yoke (center magnet)\"]\n",
    "fig = scatter2d([df_.index for c in ys],[df_[c] for c in ys],inline=True, show_plot=False);\n",
    "fig.layout.title = \"Temp vs. Datetime (magnet off)\"\n",
    "fig.layout.yaxis.title = \"Temp [deg. C]\";\n",
    "\n",
    "y = df_[\"Yoke\"].max() - (df_[\"Yoke\"].max() - df_[\"Yoke\"].min()) / np.exp(1)\n",
    "\n",
    "xs = pd.to_datetime([df_.iloc[0]['Time'], df_.iloc[-1]['Time']]) #np.linspace(x_dat.min(), x_dat.max(), 100)\n",
    "ys = [y, y]#result.eval(x=xs)\n",
    "fig.add_trace(go.Scatter(\n",
    "                    x=xs, y=ys,\n",
    "                    mode='lines', name=f'1/e point',#\"|V|/|B| = A * Temp. + B\",\n",
    "                    line=dict(color='rgb(78, 42, 132)',#'deeppink',\n",
    "                              width=2,\n",
    "                              dash='dash')));\n",
    "    \n",
    "fname = 'time/temps/yoke_temp_magnet_off'\n",
    "pio.write_image(fig, plotdir+fname+'.pdf')\n",
    "pio.write_image(fig, plotdir+fname+'.png')\n",
    "plot(fig, filename=plotdir+fname+'.html', auto_open=False)\n",
    "\n",
    "plot(fig)"
   ]
  },
  {
   "cell_type": "code",
   "execution_count": null,
   "metadata": {},
   "outputs": [],
   "source": []
  },
  {
   "cell_type": "code",
   "execution_count": 72,
   "metadata": {},
   "outputs": [],
   "source": [
    "def exp(t, y0, tau, C):\n",
    "    return y0 * np.exp(- t / tau) + C"
   ]
  },
  {
   "cell_type": "code",
   "execution_count": 73,
   "metadata": {},
   "outputs": [],
   "source": [
    "guess = np.array([5., 6, 11.4])"
   ]
  },
  {
   "cell_type": "code",
   "execution_count": 74,
   "metadata": {},
   "outputs": [],
   "source": [
    "#df_[\"t\"] = df_.seconds_delta - df_.seconds_delta.min()\n",
    "df_[\"dt [hours]\"] = df_.hours_delta - df_.hours_delta.min()"
   ]
  },
  {
   "cell_type": "code",
   "execution_count": 75,
   "metadata": {},
   "outputs": [],
   "source": [
    "x_dat = df_[\"dt [hours]\"]#[\"t\"]\n",
    "y_dat = df_[\"Yoke (center magnet)\"]"
   ]
  },
  {
   "cell_type": "code",
   "execution_count": 76,
   "metadata": {},
   "outputs": [],
   "source": [
    "params, cov = optimization.curve_fit(exp, x_dat, y_dat, guess)"
   ]
  },
  {
   "cell_type": "code",
   "execution_count": 77,
   "metadata": {},
   "outputs": [
    {
     "data": {
      "text/plain": [
       "(array([ 5.43184745,  3.31925669, 12.47172496]),\n",
       " array([[ 2.46686714e-06, -1.50655291e-06, -3.48425597e-10],\n",
       "        [-1.50655291e-06,  2.09817468e-06, -1.01741129e-07],\n",
       "        [-3.48425597e-10, -1.01741129e-07,  4.17109574e-08]]))"
      ]
     },
     "execution_count": 77,
     "metadata": {},
     "output_type": "execute_result"
    }
   ],
   "source": [
    "# yoke (center magnet)\n",
    "params, cov"
   ]
  },
  {
   "cell_type": "code",
   "execution_count": 78,
   "metadata": {},
   "outputs": [],
   "source": [
    "#ts = np.linspace(df_[\"t\"].min(), df_[\"t\"].max(), 1000)\n",
    "ts = np.linspace(df_[\"dt [hours]\"].min(), df_[\"dt [hours]\"].max(), 2000)"
   ]
  },
  {
   "cell_type": "code",
   "execution_count": 79,
   "metadata": {},
   "outputs": [],
   "source": [
    "ys = exp(ts, params[0], params[1], params[2])"
   ]
  },
  {
   "cell_type": "code",
   "execution_count": 80,
   "metadata": {},
   "outputs": [
    {
     "data": {
      "text/plain": [
       "12.471724996316706"
      ]
     },
     "execution_count": 80,
     "metadata": {},
     "output_type": "execute_result"
    }
   ],
   "source": [
    "ys.min()"
   ]
  },
  {
   "cell_type": "code",
   "execution_count": 81,
   "metadata": {},
   "outputs": [],
   "source": [
    "ep = y_dat.max() - (y_dat.max()-y_dat.min()) / np.exp(1)"
   ]
  },
  {
   "cell_type": "code",
   "execution_count": 82,
   "metadata": {},
   "outputs": [
    {
     "data": {
      "text/plain": [
       "15.764020423189548"
      ]
     },
     "execution_count": 82,
     "metadata": {},
     "output_type": "execute_result"
    }
   ],
   "source": [
    "ep"
   ]
  },
  {
   "cell_type": "code",
   "execution_count": 83,
   "metadata": {},
   "outputs": [],
   "source": [
    "e_deg_t = ts[np.isclose(ys, ep, atol=1e-2,)][0]#rtol=0.00000001)]\n",
    "e_deg_y = ys[np.isclose(ys, ep, atol=1e-2,)][0]#rtol=0.00000001)]"
   ]
  },
  {
   "cell_type": "code",
   "execution_count": 84,
   "metadata": {},
   "outputs": [
    {
     "data": {
      "text/plain": [
       "1.663751042187762"
      ]
     },
     "execution_count": 84,
     "metadata": {},
     "output_type": "execute_result"
    }
   ],
   "source": [
    "e_deg_t"
   ]
  },
  {
   "cell_type": "code",
   "execution_count": 85,
   "metadata": {
    "scrolled": true
   },
   "outputs": [],
   "source": [
    "half_deg_t = ts[np.isclose(ys, ys.min()+0.5, atol=1e-3,)][0]#rtol=0.00000001)]\n",
    "half_deg_y = ys[np.isclose(ys, ys.min()+0.5, atol=1e-3,)][0]#rtol=0.00000001)]"
   ]
  },
  {
   "cell_type": "code",
   "execution_count": 86,
   "metadata": {},
   "outputs": [],
   "source": [
    "tenth_deg_t = ts[np.isclose(ys, ys.min()+0.1, atol=1e-3,)][0]#rtol=0.00000001)]\n",
    "tenth_deg_y = ys[np.isclose(ys, ys.min()+0.1, atol=1e-3,)][0]#rtol=0.00000001)]"
   ]
  },
  {
   "cell_type": "code",
   "execution_count": 87,
   "metadata": {},
   "outputs": [
    {
     "data": {
      "text/plain": [
       "'temp-plot.html'"
      ]
     },
     "execution_count": 87,
     "metadata": {},
     "output_type": "execute_result"
    }
   ],
   "source": [
    "### MAGNET OFF\n",
    "### FINAL PLOT\n",
    "ys = [\"Yoke\", \"Yoke (center magnet)\"]\n",
    "fig = scatter2d([df_[\"dt [hours]\"] for c in ys],[df_[c] for c in ys],inline=True, show_plot=False);\n",
    "fig.layout.title = \"Temp vs. Datetime (magnet off)\"\n",
    "fig.layout.yaxis.title = \"Temp [deg. C]\";\n",
    "\n",
    "x_e = params[1]\n",
    "x_p5 = half_deg_t\n",
    "x_p1 = tenth_deg_t\n",
    "y0 = df_['Yoke'].min()#y_dat.min()\n",
    "yf = y_dat.max()\n",
    "\n",
    "xs1 = [x_e, x_e]\n",
    "ys1 = [y0, yf]\n",
    "xs2 = [x_p5, x_p5]\n",
    "ys2 = [y0, yf]\n",
    "xs3 = [x_p1, x_p1]\n",
    "ys3 = [y0, yf]\n",
    "\n",
    "#xs = pd.to_datetime([df_.iloc[0]['Time'], df_.iloc[-1]['Time']]) #np.linspace(x_dat.min(), x_dat.max(), 100)\n",
    "#ys = [y, y]#result.eval(x=xs)\n",
    "fig.add_trace(go.Scatter(\n",
    "                    x=xs1, y=ys1,\n",
    "                    mode='lines', name=f'1/e @ dt = {x_e:.2f} hours',#\"|V|/|B| = A * Temp. + B\",\n",
    "                    line=dict(color='rgb(78, 42, 132)',#'deeppink',\n",
    "                              width=2,\n",
    "                              dash='dash')));\n",
    "\n",
    "fig.add_trace(go.Scatter(\n",
    "                    x=xs2, y=ys2,\n",
    "                    mode='lines', name=f'0.5 deg from final<br>temp @ dt = {x_p5:.2f} hours',#\"|V|/|B| = A * Temp. + B\",\n",
    "                    line=dict(color=\"deeppink\",#'rgb(78, 42, 132)',#'deeppink',\n",
    "                              width=2,\n",
    "                              dash='dash')));\n",
    "\n",
    "fig.add_trace(go.Scatter(\n",
    "                    x=xs3, y=ys3,\n",
    "                    mode='lines', name=f'0.1 deg from final<br>temp @ dt = {x_p1:.2f} hours',#\"|V|/|B| = A * Temp. + B\",\n",
    "                    line=dict(color=\"green\",#'rgb(78, 42, 132)',#'deeppink',\n",
    "                              width=2,\n",
    "                              dash='dash')));\n",
    "\n",
    "    \n",
    "fname = 'time/temps/yoke_temp_magnet_off'\n",
    "pio.write_image(fig, plotdir+fname+'.pdf')\n",
    "pio.write_image(fig, plotdir+fname+'.png')\n",
    "plot(fig, filename=plotdir+fname+'.html', auto_open=False)\n",
    "\n",
    "plot(fig)"
   ]
  },
  {
   "cell_type": "code",
   "execution_count": null,
   "metadata": {},
   "outputs": [],
   "source": []
  },
  {
   "cell_type": "code",
   "execution_count": 89,
   "metadata": {},
   "outputs": [],
   "source": [
    "#plt.plot(x_dat, y_dat)\n",
    "#plt.plot(ts, ys);\n",
    "#plt.plot([params[1],params[1]], [11,17], 'r--')\n",
    "#plt.plot([2*params[1],2*params[1]], [11,17], 'g--')"
   ]
  },
  {
   "cell_type": "code",
   "execution_count": 91,
   "metadata": {},
   "outputs": [],
   "source": [
    "#ys.min()"
   ]
  },
  {
   "cell_type": "code",
   "execution_count": 93,
   "metadata": {},
   "outputs": [
    {
     "data": {
      "text/plain": [
       "['Yoke', 'Yoke (center magnet)']"
      ]
     },
     "execution_count": 93,
     "metadata": {},
     "output_type": "execute_result"
    }
   ],
   "source": [
    "ys"
   ]
  },
  {
   "cell_type": "code",
   "execution_count": 94,
   "metadata": {},
   "outputs": [],
   "source": [
    "#half_deg_t = ts[np.isclose(ys, ys.min()+0.5, atol=1e-3,)][0]#rtol=0.00000001)]\n",
    "#half_deg_y = ys[np.isclose(ys, ys.min()+0.5, atol=1e-3,)][0]#rtol=0.00000001)]"
   ]
  },
  {
   "cell_type": "code",
   "execution_count": 95,
   "metadata": {},
   "outputs": [],
   "source": [
    "# yoke\n",
    "#half_deg_t / 60 / 60"
   ]
  },
  {
   "cell_type": "code",
   "execution_count": 96,
   "metadata": {},
   "outputs": [],
   "source": [
    "# yoke center magnet\n",
    "#half_deg_t / 60 / 60"
   ]
  },
  {
   "cell_type": "code",
   "execution_count": 97,
   "metadata": {},
   "outputs": [],
   "source": [
    "#plt.plot(x_dat, y_dat)\n",
    "#plt.plot(ts, ys);\n",
    "#plt.plot([params[1],params[1]], [11,17], 'r--')\n",
    "#plt.plot([2*params[1],2*params[1]], [11,17], 'g--')\n",
    "#plt.plot([half_deg_t,half_deg_t], [11,17], 'p--')"
   ]
  },
  {
   "cell_type": "code",
   "execution_count": null,
   "metadata": {},
   "outputs": [],
   "source": []
  },
  {
   "cell_type": "code",
   "execution_count": 98,
   "metadata": {},
   "outputs": [],
   "source": [
    "#pd.to_datetime(xs)"
   ]
  },
  {
   "cell_type": "code",
   "execution_count": null,
   "metadata": {},
   "outputs": [],
   "source": []
  },
  {
   "cell_type": "code",
   "execution_count": null,
   "metadata": {},
   "outputs": [],
   "source": [
    "#df[temps_ch].describe()"
   ]
  },
  {
   "cell_type": "code",
   "execution_count": null,
   "metadata": {},
   "outputs": [],
   "source": [
    "#df[temps_ch].plot(kind=\"box\")"
   ]
  },
  {
   "cell_type": "code",
   "execution_count": null,
   "metadata": {},
   "outputs": [],
   "source": [
    "#fig = go.Figure()\n",
    "#[fig.add_trace(go.Box(y=df[col], name=col)) for col in temps_ch]\n",
    "\n",
    "#fig.show()"
   ]
  },
  {
   "cell_type": "code",
   "execution_count": 99,
   "metadata": {},
   "outputs": [],
   "source": [
    "fig = scatter2d([df.index for c in temps_ch],[df[c] for c in temps_ch],inline=True, show_plot=False);\n",
    "fig.layout.title = \"Temp vs. Datetime\"\n",
    "fig.layout.yaxis.title = \"Temp [deg. C]\";"
   ]
  },
  {
   "cell_type": "code",
   "execution_count": null,
   "metadata": {},
   "outputs": [],
   "source": [
    "#fig.show()\n",
    "#plot(fig)"
   ]
  },
  {
   "cell_type": "code",
   "execution_count": null,
   "metadata": {},
   "outputs": [],
   "source": [
    "#fname = 'temps_scatter'\n",
    "#fname = 'time/temps/temps_scatter_full'\n",
    "#pio.write_image(fig, plotdir+fname+'.pdf')\n",
    "#pio.write_image(fig, plotdir+fname+'.png')\n",
    "#plot(fig, filename=plotdir+fname+'.html', auto_open=False)"
   ]
  },
  {
   "cell_type": "code",
   "execution_count": 100,
   "metadata": {},
   "outputs": [],
   "source": [
    "probe = probes[2]"
   ]
  },
  {
   "cell_type": "code",
   "execution_count": 101,
   "metadata": {},
   "outputs": [],
   "source": [
    "fig.add_trace(go.Scatter(x=df.index, y=df[f\"{probe}_Cal_T\"], mode=\"lines\", name=f\"{probe}_Cal_T\"));"
   ]
  },
  {
   "cell_type": "code",
   "execution_count": 102,
   "metadata": {},
   "outputs": [
    {
     "data": {
      "text/plain": [
       "'/home/ckampa/Coding/hallprobecalib_extras/plots/hall_probe_stability/2019-12-04/time/temps/temps_scatter_full.html'"
      ]
     },
     "execution_count": 102,
     "metadata": {},
     "output_type": "execute_result"
    }
   ],
   "source": [
    "#fname = 'temps_scatter'\n",
    "fname = 'time/temps/temps_scatter_full'\n",
    "pio.write_image(fig, plotdir+fname+'.pdf')\n",
    "pio.write_image(fig, plotdir+fname+'.png')\n",
    "plot(fig, filename=plotdir+fname+'.html', auto_open=False)"
   ]
  },
  {
   "cell_type": "code",
   "execution_count": 103,
   "metadata": {},
   "outputs": [
    {
     "data": {
      "text/plain": [
       "'temp-plot.html'"
      ]
     },
     "execution_count": 103,
     "metadata": {},
     "output_type": "execute_result"
    }
   ],
   "source": [
    "plot(fig)"
   ]
  },
  {
   "cell_type": "code",
   "execution_count": 104,
   "metadata": {},
   "outputs": [],
   "source": [
    "temps_water = [col for col in df.columns if (\"ICW\" in col) or (\"LCW\" in col)]"
   ]
  },
  {
   "cell_type": "code",
   "execution_count": 105,
   "metadata": {},
   "outputs": [],
   "source": [
    "#temps_water"
   ]
  },
  {
   "cell_type": "code",
   "execution_count": 106,
   "metadata": {},
   "outputs": [],
   "source": [
    "fig = scatter2d([df.index for c in temps_water],[df[c] for c in temps_water],inline=True, show_plot=False);\n",
    "fig.layout.title = \"Water Temp vs. Datetime\"\n",
    "fig.layout.yaxis.title = \"Temp [deg. C]\""
   ]
  },
  {
   "cell_type": "code",
   "execution_count": 107,
   "metadata": {},
   "outputs": [
    {
     "data": {
      "text/plain": [
       "'temp-plot.html'"
      ]
     },
     "execution_count": 107,
     "metadata": {},
     "output_type": "execute_result"
    }
   ],
   "source": [
    "#fig.show()\n",
    "plot(fig)"
   ]
  },
  {
   "cell_type": "code",
   "execution_count": 108,
   "metadata": {},
   "outputs": [
    {
     "data": {
      "text/plain": [
       "'/home/ckampa/Coding/hallprobecalib_extras/plots/hall_probe_stability/2019-12-04/time/temps/temps_scatter_water.html'"
      ]
     },
     "execution_count": 108,
     "metadata": {},
     "output_type": "execute_result"
    }
   ],
   "source": [
    "#fname = 'temps_scatter'\n",
    "fname = 'time/temps/temps_scatter_water'\n",
    "pio.write_image(fig, plotdir+fname+'.pdf')\n",
    "pio.write_image(fig, plotdir+fname+'.png')\n",
    "plot(fig, filename=plotdir+fname+'.html', auto_open=False)"
   ]
  },
  {
   "cell_type": "code",
   "execution_count": 109,
   "metadata": {},
   "outputs": [],
   "source": [
    "temps_ambient = [col for col in df.columns if (\"Ambient\" in col)]\n",
    "#temps_ambient"
   ]
  },
  {
   "cell_type": "code",
   "execution_count": 110,
   "metadata": {},
   "outputs": [
    {
     "data": {
      "text/plain": [
       "'temp-plot.html'"
      ]
     },
     "execution_count": 110,
     "metadata": {},
     "output_type": "execute_result"
    }
   ],
   "source": [
    "fig = scatter2d([df.index for c in temps_ambient],[df[c] for c in temps_ambient],inline=True, show_plot=False);\n",
    "fig.layout.title = \"Ambient Temp vs. Datetime\"\n",
    "fig.layout.yaxis.title = \"Temp [deg. C]\"\n",
    "#fig.show()\n",
    "plot(fig)"
   ]
  },
  {
   "cell_type": "code",
   "execution_count": 111,
   "metadata": {},
   "outputs": [
    {
     "data": {
      "text/plain": [
       "'/home/ckampa/Coding/hallprobecalib_extras/plots/hall_probe_stability/2019-12-04/time/temps/temps_scatter_ambient.html'"
      ]
     },
     "execution_count": 111,
     "metadata": {},
     "output_type": "execute_result"
    }
   ],
   "source": [
    "#fname = 'temps_scatter'\n",
    "fname = 'time/temps/temps_scatter_ambient'\n",
    "pio.write_image(fig, plotdir+fname+'.pdf')\n",
    "pio.write_image(fig, plotdir+fname+'.png')\n",
    "plot(fig, filename=plotdir+fname+'.html', auto_open=False)"
   ]
  },
  {
   "cell_type": "code",
   "execution_count": 112,
   "metadata": {},
   "outputs": [],
   "source": [
    "temps_magnet = [col for col in df.columns if ((\"PS\" in col) or (\"Coil\" in col) or (\"Yoke\" in col)) and (\"Orange\" not in col)]\n",
    "#temps_magnet"
   ]
  },
  {
   "cell_type": "code",
   "execution_count": 113,
   "metadata": {},
   "outputs": [
    {
     "data": {
      "text/plain": [
       "'temp-plot.html'"
      ]
     },
     "execution_count": 113,
     "metadata": {},
     "output_type": "execute_result"
    }
   ],
   "source": [
    "fig = scatter2d([df.index for c in temps_magnet],[df[c] for c in temps_magnet],inline=True, show_plot=False);\n",
    "fig.layout.title = \"Magnet Temp vs. Datetime\"\n",
    "fig.layout.yaxis.title = \"Temp [deg. C]\"\n",
    "#fig.show()\n",
    "plot(fig)"
   ]
  },
  {
   "cell_type": "code",
   "execution_count": 114,
   "metadata": {},
   "outputs": [
    {
     "data": {
      "text/plain": [
       "'/home/ckampa/Coding/hallprobecalib_extras/plots/hall_probe_stability/2019-12-04/time/temps/temps_scatter_magnet.html'"
      ]
     },
     "execution_count": 114,
     "metadata": {},
     "output_type": "execute_result"
    }
   ],
   "source": [
    "#fname = 'temps_scatter'\n",
    "fname = 'time/temps/temps_scatter_magnet'\n",
    "pio.write_image(fig, plotdir+fname+'.pdf')\n",
    "pio.write_image(fig, plotdir+fname+'.png')\n",
    "plot(fig, filename=plotdir+fname+'.html', auto_open=False)"
   ]
  },
  {
   "cell_type": "markdown",
   "metadata": {},
   "source": [
    "## Seeing Temperature Corrections"
   ]
  },
  {
   "cell_type": "code",
   "execution_count": 115,
   "metadata": {},
   "outputs": [],
   "source": [
    "fig = scatter2d(df[f\"{probe}_Cal_T\"], df[\"NMR [T]\"], df.days_delta, show_plot=False)"
   ]
  },
  {
   "cell_type": "code",
   "execution_count": 116,
   "metadata": {},
   "outputs": [
    {
     "data": {
      "text/plain": [
       "'temp-plot.html'"
      ]
     },
     "execution_count": 116,
     "metadata": {},
     "output_type": "execute_result"
    }
   ],
   "source": [
    "plot(fig)"
   ]
  },
  {
   "cell_type": "code",
   "execution_count": null,
   "metadata": {},
   "outputs": [],
   "source": [
    "fig = scatter2d(df[f\"{probe}_Cal_T\"], df[f\"{probe}_Cal_Bmag\"] / df[\"NMR [T]\"], df.days_delta, inline=False)"
   ]
  },
  {
   "cell_type": "code",
   "execution_count": null,
   "metadata": {},
   "outputs": [],
   "source": [
    "fig = scatter2d(df[f\"{probe}_Cal_T\"], df[f\"{probe}_Raw_Bmag\"] / df[\"NMR [T]\"], df.days_delta, inline=False)"
   ]
  },
  {
   "cell_type": "code",
   "execution_count": null,
   "metadata": {},
   "outputs": [],
   "source": [
    "fig = scatter2d(df[f\"{probe}_Cal_T\"], df[f\"{probe}_Raw_Bmag\"], df.days_delta, inline=False)"
   ]
  },
  {
   "cell_type": "code",
   "execution_count": null,
   "metadata": {},
   "outputs": [],
   "source": [
    "fig = scatter2d(3*[df[f\"{probe}_Cal_T\"]], [df[f\"{probe}_Raw_{comp}\"] / df[\"NMR [T]\"] for comp in [\"X\",\"Y\",\"Z\"]],\n",
    "                3*[df.days_delta], inline=False)"
   ]
  },
  {
   "cell_type": "code",
   "execution_count": null,
   "metadata": {},
   "outputs": [],
   "source": [
    "fig = scatter2d(df.index, df[f\"{probe}_Raw_Theta\"], df.days_delta, inline=False)"
   ]
  },
  {
   "cell_type": "code",
   "execution_count": null,
   "metadata": {},
   "outputs": [],
   "source": [
    "fig = scatter2d(df.index, df[f\"{probe}_Raw_Phi\"], df.days_delta, inline=False)"
   ]
  },
  {
   "cell_type": "code",
   "execution_count": null,
   "metadata": {},
   "outputs": [],
   "source": []
  },
  {
   "cell_type": "code",
   "execution_count": null,
   "metadata": {},
   "outputs": [],
   "source": []
  },
  {
   "cell_type": "code",
   "execution_count": 117,
   "metadata": {},
   "outputs": [],
   "source": [
    "df = df[df[\"NMR [T]\"] != 0]"
   ]
  },
  {
   "cell_type": "code",
   "execution_count": 118,
   "metadata": {},
   "outputs": [],
   "source": [
    "def volt(temp, A, B):\n",
    "    return A * temp + B"
   ]
  },
  {
   "cell_type": "code",
   "execution_count": 119,
   "metadata": {},
   "outputs": [],
   "source": [
    "guess = np.array([-1300 / 3.5, 2e6]) # A, B"
   ]
  },
  {
   "cell_type": "code",
   "execution_count": 120,
   "metadata": {},
   "outputs": [],
   "source": [
    "x_dat = df[f\"{probe}_Cal_T\"]\n",
    "#x_dat = df[stable_temp][f\"{probe}_Cal_T\"]"
   ]
  },
  {
   "cell_type": "code",
   "execution_count": 121,
   "metadata": {},
   "outputs": [],
   "source": [
    "params, cov = optimization.curve_fit(volt, x_dat, df[f\"{probe}_Raw_Bmag\"] / df[\"NMR [T]\"], guess)\n",
    "#params, cov = optimization.curve_fit(volt, x_dat, \n",
    "#                                     df[stable_temp][f\"{probe}_Raw_Bmag\"] / df[stable_temp][\"NMR [T]\"], guess)"
   ]
  },
  {
   "cell_type": "code",
   "execution_count": 122,
   "metadata": {},
   "outputs": [
    {
     "data": {
      "text/plain": [
       "(array([-1.18647266e+03,  2.83298108e+06]), array([[ 0.05316051, -0.96113615],\n",
       "        [-0.96113615, 18.07916218]]))"
      ]
     },
     "execution_count": 122,
     "metadata": {},
     "output_type": "execute_result"
    }
   ],
   "source": [
    "params, cov"
   ]
  },
  {
   "cell_type": "code",
   "execution_count": 123,
   "metadata": {},
   "outputs": [
    {
     "data": {
      "text/plain": [
       "0.23056562538079417"
      ]
     },
     "execution_count": 123,
     "metadata": {},
     "output_type": "execute_result"
    }
   ],
   "source": [
    "np.sqrt(cov[0,0])"
   ]
  },
  {
   "cell_type": "code",
   "execution_count": 124,
   "metadata": {},
   "outputs": [
    {
     "data": {
      "text/plain": [
       "-0.9803952588601322"
      ]
     },
     "execution_count": 124,
     "metadata": {},
     "output_type": "execute_result"
    }
   ],
   "source": [
    "cov[0,1] / (np.sqrt(cov[0,0])*np.sqrt(cov[1,1]))"
   ]
  },
  {
   "cell_type": "markdown",
   "metadata": {},
   "source": [
    "Parameters have strong correlation"
   ]
  },
  {
   "cell_type": "code",
   "execution_count": 125,
   "metadata": {},
   "outputs": [],
   "source": [
    "A_fit, B_fit = params"
   ]
  },
  {
   "cell_type": "code",
   "execution_count": 126,
   "metadata": {},
   "outputs": [],
   "source": [
    "df[\"Bmag_lsq\"] = volt(x_dat, A_fit, B_fit)"
   ]
  },
  {
   "cell_type": "code",
   "execution_count": 127,
   "metadata": {},
   "outputs": [
    {
     "data": {
      "text/plain": [
       "'temp-plot.html'"
      ]
     },
     "execution_count": 127,
     "metadata": {},
     "output_type": "execute_result"
    }
   ],
   "source": [
    "fig = scatter2d(df[f\"{probe}_Cal_T\"], df[f\"{probe}_Raw_Bmag\"] / df[\"NMR [T]\"], df.days_delta, show_plot=False)\n",
    "#d = [df[f\"{probe}_Raw_X\"].min(), df[f\"{probe}_Raw_X\"].max()]\n",
    "fig.add_trace(go.Scatter(\n",
    "                    x=df[f\"{probe}_Cal_T\"], y=df[\"Bmag_lsq\"],\n",
    "                    mode='lines', name=\"unity\",\n",
    "                    line=dict(color='deeppink', width=2,\n",
    "                              dash='dash')));\n",
    "plot(fig)"
   ]
  },
  {
   "cell_type": "code",
   "execution_count": 128,
   "metadata": {},
   "outputs": [],
   "source": [
    "fig.update_traces(marker=dict(size=5));\n",
    "plot(fig);"
   ]
  },
  {
   "cell_type": "markdown",
   "metadata": {},
   "source": [
    "Bmag fit looks pretty good so far (6 data points)."
   ]
  },
  {
   "cell_type": "markdown",
   "metadata": {
    "heading_collapsed": true
   },
   "source": [
    "## Profile Plot"
   ]
  },
  {
   "cell_type": "code",
   "execution_count": null,
   "metadata": {
    "hidden": true
   },
   "outputs": [],
   "source": [
    "stable_temp = (abs(df[\"Floor\"].diff(5).rolling(5).mean()) < 0.008) #| (np.isnan(df[\"Floor\"].diff(5)))"
   ]
  },
  {
   "cell_type": "code",
   "execution_count": null,
   "metadata": {
    "hidden": true
   },
   "outputs": [],
   "source": [
    "df_ = df[stable_temp]"
   ]
  },
  {
   "cell_type": "code",
   "execution_count": null,
   "metadata": {
    "hidden": true
   },
   "outputs": [],
   "source": [
    "fig = histo(df[f\"{probe}_Cal_T\"], bins=50, inline=False)"
   ]
  },
  {
   "cell_type": "code",
   "execution_count": null,
   "metadata": {
    "hidden": true
   },
   "outputs": [],
   "source": [
    "fig = histo(df_[f\"{probe}_Cal_T\"], bins=50, inline=False)"
   ]
  },
  {
   "cell_type": "code",
   "execution_count": null,
   "metadata": {
    "hidden": true
   },
   "outputs": [],
   "source": [
    "len(df[stable_temp])"
   ]
  },
  {
   "cell_type": "code",
   "execution_count": null,
   "metadata": {
    "hidden": true
   },
   "outputs": [],
   "source": [
    "len(df)"
   ]
  },
  {
   "cell_type": "code",
   "execution_count": null,
   "metadata": {
    "hidden": true
   },
   "outputs": [],
   "source": [
    "fig = scatter2d(df_[f\"{probe}_Cal_T\"],\n",
    "                df_[f\"{probe}_Raw_Bmag\"] / df_[\"NMR [T]\"],\n",
    "                df_.days_delta, show_plot=False)\n",
    "#d = [df[f\"{probe}_Raw_X\"].min(), df[f\"{probe}_Raw_X\"].max()]\n",
    "fig.add_trace(go.Scatter(\n",
    "                    x=df_[f\"{probe}_Cal_T\"], y=df_[\"Bmag_lsq\"],\n",
    "                    mode='lines', name=\"unity\",\n",
    "                    line=dict(color='deeppink', width=2,\n",
    "                              dash='dash')));\n",
    "#plot(fig)\n",
    "\n",
    "fig.update_traces(marker=dict(size=5));\n",
    "plot(fig);"
   ]
  },
  {
   "cell_type": "code",
   "execution_count": null,
   "metadata": {
    "hidden": true
   },
   "outputs": [],
   "source": [
    "nbins = 15"
   ]
  },
  {
   "cell_type": "code",
   "execution_count": null,
   "metadata": {
    "hidden": true
   },
   "outputs": [],
   "source": [
    "fig, tprof = py_profile(df_[f\"{probe}_Cal_T\"],df_[f\"{probe}_Raw_Bmag\"] / df_[\"NMR [T]\"], x_bins=nbins,\n",
    "                        return_tprof=True, inline=False)"
   ]
  },
  {
   "cell_type": "code",
   "execution_count": null,
   "metadata": {
    "hidden": true
   },
   "outputs": [],
   "source": [
    "bin_centers = []\n",
    "bin_contents = []\n",
    "bin_errors = []"
   ]
  },
  {
   "cell_type": "code",
   "execution_count": null,
   "metadata": {
    "hidden": true
   },
   "outputs": [],
   "source": [
    "for i in range(1, nbins+1):\n",
    "    bin_centers.append(tprof.GetBinCenter(i))\n",
    "    bin_contents.append(tprof.GetBinContent(i))\n",
    "    bin_errors.append(tprof.GetBinError(i))"
   ]
  },
  {
   "cell_type": "code",
   "execution_count": null,
   "metadata": {
    "hidden": true
   },
   "outputs": [],
   "source": [
    "bin_centers = pd.Series(bin_centers, name=\"Temp\")\n",
    "bin_contents = pd.Series(bin_contents, name=\"Voltage Magnitude / NMR\")\n",
    "bin_errors = pd.Series(bin_errors, name=\"Errors\")"
   ]
  },
  {
   "cell_type": "code",
   "execution_count": null,
   "metadata": {
    "hidden": true
   },
   "outputs": [],
   "source": [
    "def volt(temp, A, B):\n",
    "    return A * temp + B"
   ]
  },
  {
   "cell_type": "code",
   "execution_count": null,
   "metadata": {
    "hidden": true
   },
   "outputs": [],
   "source": [
    "guess = np.array([-1300 / 3.5, 2e6]) # A, B"
   ]
  },
  {
   "cell_type": "code",
   "execution_count": null,
   "metadata": {
    "hidden": true
   },
   "outputs": [],
   "source": [
    "x_dat = df_[f\"{probe}_Cal_T\"]\n",
    "###x_dat = bin_centers#df[f\"{probe}_Cal_T\"]\n",
    "#x_dat = df[stable_temp][f\"{probe}_Cal_T\"]"
   ]
  },
  {
   "cell_type": "code",
   "execution_count": null,
   "metadata": {
    "hidden": true
   },
   "outputs": [],
   "source": [
    "params, cov = optimization.curve_fit(volt, x_dat, df_[f\"{probe}_Raw_Bmag\"]/df_[\"NMR [T]\"], guess)\n",
    "###params, cov = optimization.curve_fit(volt, x_dat, bin_contents, guess, sigma=bin_errors)\n",
    "#params, cov = optimization.curve_fit(volt, x_dat, \n",
    "#                                     df[stable_temp][f\"{probe}_Raw_Bmag\"] / df[stable_temp][\"NMR [T]\"], guess)"
   ]
  },
  {
   "cell_type": "code",
   "execution_count": null,
   "metadata": {
    "hidden": true
   },
   "outputs": [],
   "source": [
    "# Bmag ### STABLE TEMP\n",
    "params, cov"
   ]
  },
  {
   "cell_type": "code",
   "execution_count": null,
   "metadata": {
    "hidden": true
   },
   "outputs": [],
   "source": [
    "np.sqrt(cov[0,0])"
   ]
  },
  {
   "cell_type": "code",
   "execution_count": null,
   "metadata": {
    "hidden": true
   },
   "outputs": [],
   "source": [
    "cov[0,1] / (np.sqrt(cov[0,0])*np.sqrt(cov[1,1]))"
   ]
  },
  {
   "cell_type": "markdown",
   "metadata": {
    "hidden": true
   },
   "source": [
    "Parameters have strong correlation"
   ]
  },
  {
   "cell_type": "code",
   "execution_count": null,
   "metadata": {
    "hidden": true
   },
   "outputs": [],
   "source": [
    "A_fit, B_fit = params"
   ]
  },
  {
   "cell_type": "code",
   "execution_count": null,
   "metadata": {
    "hidden": true
   },
   "outputs": [],
   "source": [
    "df_[\"Bmag_lsq_stable\"] = volt(x_dat, A_fit, B_fit)"
   ]
  },
  {
   "cell_type": "code",
   "execution_count": null,
   "metadata": {
    "hidden": true
   },
   "outputs": [],
   "source": [
    "fig = scatter2d(df[f\"{probe}_Cal_T\"], df[f\"{probe}_Raw_Bmag\"] / df[\"NMR [T]\"], df.days_delta, show_plot=False)\n",
    "#d = [df[f\"{probe}_Raw_X\"].min(), df[f\"{probe}_Raw_X\"].max()]\n",
    "fig.add_trace(go.Scatter(\n",
    "                    x=df_[f\"{probe}_Cal_T\"], y=df_[\"Bmag_lsq_stable\"],\n",
    "                    mode='lines', name=\"unity\",\n",
    "                    line=dict(color='blue', width=2,\n",
    "                              dash='dash')));\n",
    "fig.add_trace(go.Scatter(\n",
    "                    x=df_[f\"{probe}_Cal_T\"], y=df_[\"Bmag_lsq\"],\n",
    "                    mode='lines', name=\"unity\",\n",
    "                    line=dict(color='deeppink', width=2,\n",
    "                              dash='dash')));\n",
    "\n",
    "plot(fig)"
   ]
  },
  {
   "cell_type": "code",
   "execution_count": null,
   "metadata": {
    "hidden": true
   },
   "outputs": [],
   "source": [
    "fig.update_traces(marker=dict(size=5));\n",
    "plot(fig);"
   ]
  },
  {
   "cell_type": "code",
   "execution_count": null,
   "metadata": {
    "hidden": true
   },
   "outputs": [],
   "source": []
  },
  {
   "cell_type": "code",
   "execution_count": null,
   "metadata": {
    "hidden": true
   },
   "outputs": [],
   "source": []
  },
  {
   "cell_type": "code",
   "execution_count": null,
   "metadata": {
    "hidden": true
   },
   "outputs": [],
   "source": []
  },
  {
   "cell_type": "markdown",
   "metadata": {},
   "source": [
    "## Aggregate data"
   ]
  },
  {
   "cell_type": "code",
   "execution_count": null,
   "metadata": {},
   "outputs": [],
   "source": [
    "#df[\"Floor\"].diff(5).rolling(5).mean().head()"
   ]
  },
  {
   "cell_type": "code",
   "execution_count": 129,
   "metadata": {},
   "outputs": [],
   "source": [
    "fig = scatter2d(df.index, df[\"Floor\"].diff(5).rolling(5).mean(), inline=False)"
   ]
  },
  {
   "cell_type": "code",
   "execution_count": 130,
   "metadata": {},
   "outputs": [],
   "source": [
    "stable_temp = (abs(df[\"Floor\"].diff(5).rolling(5).mean()) < 0.008) #| (np.isnan(df[\"Floor\"].diff(5)))"
   ]
  },
  {
   "cell_type": "code",
   "execution_count": 131,
   "metadata": {},
   "outputs": [],
   "source": [
    "df_ = df[stable_temp]"
   ]
  },
  {
   "cell_type": "code",
   "execution_count": 132,
   "metadata": {},
   "outputs": [
    {
     "data": {
      "text/html": [
       "<div>\n",
       "<style scoped>\n",
       "    .dataframe tbody tr th:only-of-type {\n",
       "        vertical-align: middle;\n",
       "    }\n",
       "\n",
       "    .dataframe tbody tr th {\n",
       "        vertical-align: top;\n",
       "    }\n",
       "\n",
       "    .dataframe thead th {\n",
       "        text-align: right;\n",
       "    }\n",
       "</style>\n",
       "<table border=\"1\" class=\"dataframe\">\n",
       "  <thead>\n",
       "    <tr style=\"text-align: right;\">\n",
       "      <th></th>\n",
       "      <th>Time</th>\n",
       "      <th>Magnet Current [A]</th>\n",
       "      <th>Magnet Voltage [V]</th>\n",
       "      <th>Coil 1 (new)</th>\n",
       "      <th>Coil 2 (old)</th>\n",
       "      <th>LCW in Coil1</th>\n",
       "      <th>LCW out Coil 1</th>\n",
       "      <th>LCW in Coil 2</th>\n",
       "      <th>LCW out Coil 2</th>\n",
       "      <th>Yoke</th>\n",
       "      <th>...</th>\n",
       "      <th>6A0000000D61333A_Raw_Transverse</th>\n",
       "      <th>6A0000000D61333A_Raw_Theta</th>\n",
       "      <th>6A0000000D61333A_Raw_Phi</th>\n",
       "      <th>C50000000D5E473A_Raw_Transverse</th>\n",
       "      <th>C50000000D5E473A_Raw_Theta</th>\n",
       "      <th>C50000000D5E473A_Raw_Phi</th>\n",
       "      <th>DF0000000D5E803A_Raw_Transverse</th>\n",
       "      <th>DF0000000D5E803A_Raw_Theta</th>\n",
       "      <th>DF0000000D5E803A_Raw_Phi</th>\n",
       "      <th>Bmag_lsq</th>\n",
       "    </tr>\n",
       "    <tr>\n",
       "      <th>Datetime</th>\n",
       "      <th></th>\n",
       "      <th></th>\n",
       "      <th></th>\n",
       "      <th></th>\n",
       "      <th></th>\n",
       "      <th></th>\n",
       "      <th></th>\n",
       "      <th></th>\n",
       "      <th></th>\n",
       "      <th></th>\n",
       "      <th></th>\n",
       "      <th></th>\n",
       "      <th></th>\n",
       "      <th></th>\n",
       "      <th></th>\n",
       "      <th></th>\n",
       "      <th></th>\n",
       "      <th></th>\n",
       "      <th></th>\n",
       "      <th></th>\n",
       "      <th></th>\n",
       "    </tr>\n",
       "  </thead>\n",
       "  <tbody>\n",
       "    <tr>\n",
       "      <th>2020-01-08 12:07:50</th>\n",
       "      <td>1/8/2020 12:07:50 PM</td>\n",
       "      <td>256.0727</td>\n",
       "      <td>30.861933</td>\n",
       "      <td>32.744152</td>\n",
       "      <td>30.321610</td>\n",
       "      <td>6.998229</td>\n",
       "      <td>9.924500</td>\n",
       "      <td>11.627017</td>\n",
       "      <td>13.901711</td>\n",
       "      <td>16.685768</td>\n",
       "      <td>...</td>\n",
       "      <td>145.784087</td>\n",
       "      <td>0.031855</td>\n",
       "      <td>1.242538</td>\n",
       "      <td>60618.755456</td>\n",
       "      <td>1.231414</td>\n",
       "      <td>1.365678</td>\n",
       "      <td>3.515481e+06</td>\n",
       "      <td>1.531187</td>\n",
       "      <td>1.108796</td>\n",
       "      <td>2.813911e+06</td>\n",
       "    </tr>\n",
       "    <tr>\n",
       "      <th>2020-01-08 12:08:40</th>\n",
       "      <td>1/8/2020 12:08:40 PM</td>\n",
       "      <td>256.0727</td>\n",
       "      <td>30.862050</td>\n",
       "      <td>32.741650</td>\n",
       "      <td>30.332678</td>\n",
       "      <td>7.005564</td>\n",
       "      <td>9.925889</td>\n",
       "      <td>11.626900</td>\n",
       "      <td>13.902221</td>\n",
       "      <td>16.686592</td>\n",
       "      <td>...</td>\n",
       "      <td>140.003571</td>\n",
       "      <td>0.030308</td>\n",
       "      <td>1.563654</td>\n",
       "      <td>60728.119097</td>\n",
       "      <td>1.231013</td>\n",
       "      <td>1.365834</td>\n",
       "      <td>3.515507e+06</td>\n",
       "      <td>1.531121</td>\n",
       "      <td>1.108786</td>\n",
       "      <td>2.813914e+06</td>\n",
       "    </tr>\n",
       "  </tbody>\n",
       "</table>\n",
       "<p>2 rows × 151 columns</p>\n",
       "</div>"
      ],
      "text/plain": [
       "                                     Time  Magnet Current [A]  \\\n",
       "Datetime                                                        \n",
       "2020-01-08 12:07:50  1/8/2020 12:07:50 PM            256.0727   \n",
       "2020-01-08 12:08:40  1/8/2020 12:08:40 PM            256.0727   \n",
       "\n",
       "                     Magnet Voltage [V]  Coil 1 (new)  Coil 2 (old)  \\\n",
       "Datetime                                                              \n",
       "2020-01-08 12:07:50           30.861933     32.744152     30.321610   \n",
       "2020-01-08 12:08:40           30.862050     32.741650     30.332678   \n",
       "\n",
       "                     LCW in Coil1  LCW out Coil 1  LCW in Coil 2  \\\n",
       "Datetime                                                           \n",
       "2020-01-08 12:07:50      6.998229        9.924500      11.627017   \n",
       "2020-01-08 12:08:40      7.005564        9.925889      11.626900   \n",
       "\n",
       "                     LCW out Coil 2       Yoke      ...       \\\n",
       "Datetime                                            ...        \n",
       "2020-01-08 12:07:50       13.901711  16.685768      ...        \n",
       "2020-01-08 12:08:40       13.902221  16.686592      ...        \n",
       "\n",
       "                     6A0000000D61333A_Raw_Transverse  \\\n",
       "Datetime                                               \n",
       "2020-01-08 12:07:50                       145.784087   \n",
       "2020-01-08 12:08:40                       140.003571   \n",
       "\n",
       "                     6A0000000D61333A_Raw_Theta  6A0000000D61333A_Raw_Phi  \\\n",
       "Datetime                                                                    \n",
       "2020-01-08 12:07:50                    0.031855                  1.242538   \n",
       "2020-01-08 12:08:40                    0.030308                  1.563654   \n",
       "\n",
       "                     C50000000D5E473A_Raw_Transverse  \\\n",
       "Datetime                                               \n",
       "2020-01-08 12:07:50                     60618.755456   \n",
       "2020-01-08 12:08:40                     60728.119097   \n",
       "\n",
       "                     C50000000D5E473A_Raw_Theta  C50000000D5E473A_Raw_Phi  \\\n",
       "Datetime                                                                    \n",
       "2020-01-08 12:07:50                    1.231414                  1.365678   \n",
       "2020-01-08 12:08:40                    1.231013                  1.365834   \n",
       "\n",
       "                     DF0000000D5E803A_Raw_Transverse  \\\n",
       "Datetime                                               \n",
       "2020-01-08 12:07:50                     3.515481e+06   \n",
       "2020-01-08 12:08:40                     3.515507e+06   \n",
       "\n",
       "                     DF0000000D5E803A_Raw_Theta  DF0000000D5E803A_Raw_Phi  \\\n",
       "Datetime                                                                    \n",
       "2020-01-08 12:07:50                    1.531187                  1.108796   \n",
       "2020-01-08 12:08:40                    1.531121                  1.108786   \n",
       "\n",
       "                         Bmag_lsq  \n",
       "Datetime                           \n",
       "2020-01-08 12:07:50  2.813911e+06  \n",
       "2020-01-08 12:08:40  2.813914e+06  \n",
       "\n",
       "[2 rows x 151 columns]"
      ]
     },
     "execution_count": 132,
     "metadata": {},
     "output_type": "execute_result"
    }
   ],
   "source": [
    "df_.tail(2)"
   ]
  },
  {
   "cell_type": "code",
   "execution_count": 133,
   "metadata": {},
   "outputs": [],
   "source": [
    "fig = scatter2d(df[stable_temp][f\"{probe}_Cal_T\"],\n",
    "                df[stable_temp][f\"{probe}_Raw_Bmag\"] / df[stable_temp][\"NMR [T]\"],\n",
    "                df[stable_temp].days_delta, show_plot=False)\n",
    "#d = [df[f\"{probe}_Raw_X\"].min(), df[f\"{probe}_Raw_X\"].max()]\n",
    "fig.add_trace(go.Scatter(\n",
    "                    x=df[stable_temp][f\"{probe}_Cal_T\"], y=df[stable_temp][\"Bmag_lsq\"],\n",
    "                    mode='lines', name=\"unity\",\n",
    "                    line=dict(color='deeppink', width=2,\n",
    "                              dash='dash')));\n",
    "#plot(fig)\n",
    "\n",
    "fig.update_traces(marker=dict(size=5));\n",
    "plot(fig);"
   ]
  },
  {
   "cell_type": "code",
   "execution_count": 134,
   "metadata": {},
   "outputs": [],
   "source": [
    "phi0 = df_.iloc[0][f\"{probe}_Raw_Phi\"]\n",
    "theta0 = df_.iloc[0][f\"{probe}_Raw_Theta\"]"
   ]
  },
  {
   "cell_type": "code",
   "execution_count": 135,
   "metadata": {},
   "outputs": [],
   "source": [
    "df_[\"ANGLE\"] = np.sqrt((df_[f\"{probe}_Raw_Theta\"]-theta0)**2 + (df_[f\"{probe}_Raw_Phi\"]-phi0)**2)"
   ]
  },
  {
   "cell_type": "code",
   "execution_count": 136,
   "metadata": {},
   "outputs": [],
   "source": [
    "fig = scatter2d(df_[\"ANGLE\"], df_[f'{probe}_Cal_Res_Rel'],df_.days_delta, inline=False)"
   ]
  },
  {
   "cell_type": "code",
   "execution_count": 137,
   "metadata": {},
   "outputs": [],
   "source": [
    "fig = scatter2d(df_[f'{probe}_Raw_Theta'], df_[f'{probe}_Cal_Res_Rel'],df_.days_delta, inline=False)"
   ]
  },
  {
   "cell_type": "code",
   "execution_count": null,
   "metadata": {},
   "outputs": [],
   "source": []
  },
  {
   "cell_type": "code",
   "execution_count": null,
   "metadata": {},
   "outputs": [],
   "source": [
    "## NEW, do all at once"
   ]
  },
  {
   "cell_type": "code",
   "execution_count": 138,
   "metadata": {},
   "outputs": [],
   "source": [
    "df_[\"Scaled Hall Voltage\"] = df_[f\"{probe}_Raw_Bmag\"] / df_[\"NMR [T]\"] * df_[\"NMR [T]\"].iloc[0]\n",
    "df_[\"Scaled Hall X\"] = df_[f\"{probe}_Raw_X\"] / df_[\"NMR [T]\"] * df_[\"NMR [T]\"].iloc[0]\n",
    "df_[\"Scaled Hall Y\"] = df_[f\"{probe}_Raw_Y\"] / df_[\"NMR [T]\"] * df_[\"NMR [T]\"].iloc[0]\n",
    "df_[\"Scaled Hall Z\"] = df_[f\"{probe}_Raw_Z\"] / df_[\"NMR [T]\"] * df_[\"NMR [T]\"].iloc[0]"
   ]
  },
  {
   "cell_type": "code",
   "execution_count": 139,
   "metadata": {},
   "outputs": [],
   "source": [
    "w = 0.3\n",
    "ts = np.array([16.0,16.8,18.6,20.3,22.0,23.8,25.35,27.0,28.0])\n",
    "ts_h = ts + w\n",
    "ts_l = ts - w"
   ]
  },
  {
   "cell_type": "code",
   "execution_count": 140,
   "metadata": {},
   "outputs": [
    {
     "data": {
      "text/plain": [
       "array([15.7 , 16.5 , 18.3 , 20.  , 21.7 , 23.5 , 25.05, 26.7 , 27.7 ])"
      ]
     },
     "execution_count": 140,
     "metadata": {},
     "output_type": "execute_result"
    }
   ],
   "source": [
    "ts_l"
   ]
  },
  {
   "cell_type": "code",
   "execution_count": 141,
   "metadata": {},
   "outputs": [
    {
     "data": {
      "text/plain": [
       "array([16.3 , 17.1 , 18.9 , 20.6 , 22.3 , 24.1 , 25.65, 27.3 , 28.3 ])"
      ]
     },
     "execution_count": 141,
     "metadata": {},
     "output_type": "execute_result"
    }
   ],
   "source": [
    "ts_h"
   ]
  },
  {
   "cell_type": "code",
   "execution_count": 142,
   "metadata": {},
   "outputs": [],
   "source": [
    "maps = [((df_[f\"{probe}_Cal_T\"] > ts_l[i]) & (df_[f\"{probe}_Cal_T\"] < ts_h[i])) for i in range(len(ts))]"
   ]
  },
  {
   "cell_type": "code",
   "execution_count": 143,
   "metadata": {},
   "outputs": [
    {
     "data": {
      "text/plain": [
       "9"
      ]
     },
     "execution_count": 143,
     "metadata": {},
     "output_type": "execute_result"
    }
   ],
   "source": [
    "len(maps)"
   ]
  },
  {
   "cell_type": "code",
   "execution_count": 144,
   "metadata": {},
   "outputs": [],
   "source": [
    "map_full = maps[0]\n",
    "\n",
    "for m in maps[1:]:\n",
    "    map_full = map_full | m\n",
    "    "
   ]
  },
  {
   "cell_type": "code",
   "execution_count": 145,
   "metadata": {},
   "outputs": [
    {
     "data": {
      "text/plain": [
       "49484"
      ]
     },
     "execution_count": 145,
     "metadata": {},
     "output_type": "execute_result"
    }
   ],
   "source": [
    "len(df_[map_full])"
   ]
  },
  {
   "cell_type": "code",
   "execution_count": 146,
   "metadata": {},
   "outputs": [
    {
     "data": {
      "text/plain": [
       "49535"
      ]
     },
     "execution_count": 146,
     "metadata": {},
     "output_type": "execute_result"
    }
   ],
   "source": [
    "len(df_)"
   ]
  },
  {
   "cell_type": "code",
   "execution_count": 147,
   "metadata": {
    "code_folding": []
   },
   "outputs": [],
   "source": [
    "xs = np.zeros_like(ts)\n",
    "ys = np.zeros_like(ts)\n",
    "xerrs = np.zeros_like(ts)\n",
    "yerrs = np.zeros_like(ts)\n",
    "ns = np.zeros_like(ts)\n",
    "\n",
    "## calculate averages\n",
    "for i,m in enumerate(maps):\n",
    "    df_sp = df_[m]\n",
    "    ns[i] = len(df_sp)\n",
    "    xs[i] = df_sp[f\"{probe}_Cal_T\"].mean()\n",
    "    xerrs[i] = df_sp[f\"{probe}_Cal_T\"].std()\n",
    "    ys[i] = df_sp[\"Scaled Hall Voltage\"].mean()\n",
    "    yerrs[i] = df_sp[\"Scaled Hall Voltage\"].std()"
   ]
  },
  {
   "cell_type": "code",
   "execution_count": 148,
   "metadata": {},
   "outputs": [
    {
     "data": {
      "text/plain": [
       "array([16.12634821, 16.81069449, 18.56322236, 20.33548436, 21.97341696,\n",
       "       23.81749021, 25.38289706, 27.05840686, 28.05888189])"
      ]
     },
     "execution_count": 148,
     "metadata": {},
     "output_type": "execute_result"
    }
   ],
   "source": [
    "xs"
   ]
  },
  {
   "cell_type": "code",
   "execution_count": 149,
   "metadata": {},
   "outputs": [],
   "source": [
    "def volt(temp, A, B):\n",
    "    return A * temp + B"
   ]
  },
  {
   "cell_type": "code",
   "execution_count": 150,
   "metadata": {},
   "outputs": [],
   "source": [
    "guess = np.array([-1300 / 3.5, 2e6]) # A, B"
   ]
  },
  {
   "cell_type": "code",
   "execution_count": 151,
   "metadata": {},
   "outputs": [],
   "source": [
    "x_dat = df_[f\"{probe}_Cal_T\"]\n",
    "x_dat_avg = xs\n",
    "#x_dat = df[stable_temp][f\"{probe}_Cal_T\"]"
   ]
  },
  {
   "cell_type": "code",
   "execution_count": 152,
   "metadata": {},
   "outputs": [],
   "source": [
    "y_dat = df_[\"Scaled Hall Voltage\"]\n",
    "#y_dat = df_[\"Scaled Hall Z\"]\n",
    "#y_dat = df_[\"NMR [T]\"]"
   ]
  },
  {
   "cell_type": "code",
   "execution_count": 153,
   "metadata": {},
   "outputs": [],
   "source": [
    "params, cov = optimization.curve_fit(volt, x_dat, y_dat, guess)\n",
    "params_avg, cov_avg = optimization.curve_fit(volt, x_dat_avg, ys, guess)\n",
    "#params, cov = optimization.curve_fit(volt, x_dat, \n",
    "#                                     df[stable_temp][f\"{probe}_Raw_Bmag\"] / df[stable_temp][\"NMR [T]\"], guess)"
   ]
  },
  {
   "cell_type": "code",
   "execution_count": 154,
   "metadata": {},
   "outputs": [
    {
     "data": {
      "text/plain": [
       "(array([-1.48643932e+03,  3.54090819e+06]), array([[ 0.0959935 , -1.70130826],\n",
       "        [-1.70130826, 31.1813677 ]]))"
      ]
     },
     "execution_count": 154,
     "metadata": {},
     "output_type": "execute_result"
    }
   ],
   "source": [
    "# stable temp\n",
    "params, cov"
   ]
  },
  {
   "cell_type": "code",
   "execution_count": 155,
   "metadata": {},
   "outputs": [
    {
     "data": {
      "text/plain": [
       "(array([-1.46852643e+03,  3.54035991e+06]),\n",
       " array([[   861.33638237, -18961.53690542],\n",
       "        [-18961.53690542, 432068.88318888]]))"
      ]
     },
     "execution_count": 155,
     "metadata": {},
     "output_type": "execute_result"
    }
   ],
   "source": [
    "# stable temp averaged\n",
    "params_avg, cov_avg"
   ]
  },
  {
   "cell_type": "code",
   "execution_count": 156,
   "metadata": {},
   "outputs": [],
   "source": [
    "A_fit, B_fit = params\n",
    "A_fit_avg, B_fit_avg = params_avg"
   ]
  },
  {
   "cell_type": "code",
   "execution_count": 157,
   "metadata": {},
   "outputs": [],
   "source": [
    "df_[\"Bmag_lsq\"] = volt(x_dat, A_fit, B_fit)\n",
    "df_[\"Bmag_lsq_avg\"] = volt(x_dat, A_fit_avg, B_fit_avg)"
   ]
  },
  {
   "cell_type": "code",
   "execution_count": 158,
   "metadata": {},
   "outputs": [],
   "source": [
    "ts = np.linspace(x_dat.min(), x_dat.max(), 25)"
   ]
  },
  {
   "cell_type": "code",
   "execution_count": 159,
   "metadata": {},
   "outputs": [],
   "source": [
    "B_lsq = volt(ts, A_fit, B_fit)\n",
    "B_lsq_avg = volt(ts, A_fit_avg, B_fit_avg)"
   ]
  },
  {
   "cell_type": "code",
   "execution_count": 160,
   "metadata": {},
   "outputs": [],
   "source": [
    "B_lsq = pd.Series(B_lsq, name=\"Stable Temp Fit\")\n",
    "B_lsq_avg = pd.Series(B_lsq_avg, name=\"Stable Temp Averaged Fit\")"
   ]
  },
  {
   "cell_type": "code",
   "execution_count": 161,
   "metadata": {},
   "outputs": [
    {
     "data": {
      "text/plain": [
       "'/home/ckampa/Coding/hallprobecalib_extras/plots/hall_probe_stability/2019-12-04/scaled_voltage_vs_temperature.html'"
      ]
     },
     "execution_count": 161,
     "metadata": {},
     "output_type": "execute_result"
    }
   ],
   "source": [
    "averaged=True\n",
    "\n",
    "fig = scatter2d(x_dat,\n",
    "                y_dat,\n",
    "                df_.days_delta, opacity=0.8, show_plot=False)\n",
    "\n",
    "fig.add_trace(go.Scatter(\n",
    "                    x=ts, y=B_lsq,\n",
    "                    mode='lines', name='Linear fit',#\"|V|/|B| = A * Temp. + B\",\n",
    "                    line=dict(color='rgb(78, 42, 132)',#'deeppink',\n",
    "                              width=1,\n",
    "                              dash='dash')));\n",
    "#fig.add_trace(go.Scatter(\n",
    "#                    x=ts, y=B_lsq_avg,\n",
    "#                    mode='lines', name=\"mean(|V|/|B|) = A * mean(Temp.) + B\",\n",
    "#                    line=dict(color='purple', width=1,\n",
    "#                              dash='dash')));\n",
    "\n",
    "fig.update_traces(marker=dict(size=1));\n",
    "\n",
    "if averaged:\n",
    "    fig.add_trace(go.Scatter(\n",
    "        x= xs,\n",
    "        y= ys,\n",
    "        mode='markers',\n",
    "        name='Averaged Data',\n",
    "        error_x=dict(\n",
    "            type='data',\n",
    "            array=xerrs,\n",
    "            width=1,\n",
    "            thickness=1.,\n",
    "            visible=True),\n",
    "        error_y=dict(\n",
    "            type='data',\n",
    "            array=yerrs,\n",
    "            width=1,\n",
    "            thickness=1.,\n",
    "            visible=True),\n",
    "        marker=dict(\n",
    "            size=3,\n",
    "            color=\"Red\",\n",
    "        )\n",
    "    ))\n",
    "\n",
    "#eqn = f\"Volt. = {A_fit:.2E} * Temp. + {B_fit:.2E}\"\n",
    "eqn = f\"y = {A_fit:.2E} * x + {B_fit:.2E}\"\n",
    "\n",
    "i = 6\n",
    "fig.add_annotation(\n",
    "    go.layout.Annotation(\n",
    "            x=ts[i],\n",
    "            y=B_lsq.iloc[i],\n",
    "            text=eqn,\n",
    "            font=dict(\n",
    "                #family=\"Courier New, monospace\",\n",
    "                size=14,\n",
    "                color=\"#ffffff\"\n",
    "            ),\n",
    "            align=\"center\",\n",
    "            arrowhead=2,\n",
    "            arrowsize=1,\n",
    "            arrowwidth=2,\n",
    "            arrowcolor=\"#636363\",\n",
    "            ax=+250,\n",
    "            ay=-25,\n",
    "            bordercolor=\"#c7c7c7\",\n",
    "            borderwidth=2,\n",
    "            borderpad=4,\n",
    "            bgcolor='rgb(78, 42, 132)',#\"#ff7f0e\",\n",
    "            opacity=0.7,\n",
    "            showarrow=True#False\n",
    "    )\n",
    ")\n",
    "\n",
    "fig.update_layout(title=\"Scaled Hall Voltage vs. Hall Probe Temperature\")\n",
    "fig.update_xaxes(title_text='Hall Probe Temperature [deg C]')\n",
    "fig.update_yaxes(title_text='|V_Hall| / NMR [micro V / T]')\n",
    "fig.update_layout( width=1000,height=600,)\n",
    "\n",
    "filename = plotdir+\"scaled_voltage_vs_temperature\"\n",
    "\n",
    "plot(fig, filename=filename+'.html')"
   ]
  },
  {
   "cell_type": "code",
   "execution_count": 162,
   "metadata": {},
   "outputs": [],
   "source": [
    "pio.write_image(fig, filename+\".pdf\")\n",
    "pio.write_image(fig, filename+\".png\")"
   ]
  },
  {
   "cell_type": "code",
   "execution_count": null,
   "metadata": {},
   "outputs": [],
   "source": []
  },
  {
   "cell_type": "code",
   "execution_count": null,
   "metadata": {},
   "outputs": [],
   "source": []
  },
  {
   "cell_type": "code",
   "execution_count": null,
   "metadata": {},
   "outputs": [],
   "source": [
    "fig = scatter2d(df_[\"NMR [T]\"],\n",
    "                df_[f\"{probe}_Raw_Bmag\"],# * df_[f\"{probe}_Cal_T\"].min() / df_[f\"{probe}_Cal_T\"],\n",
    "                df_.days_delta, opacity=1., inline=False)"
   ]
  },
  {
   "cell_type": "code",
   "execution_count": null,
   "metadata": {},
   "outputs": [],
   "source": [
    "fig = scatter2d(df_[\"NMR [T]\"],\n",
    "                df_[f\"{probes[0]}_Raw_Bmag\"],# * df_[f\"{probe}_Cal_T\"].min() / df_[f\"{probe}_Cal_T\"],\n",
    "                df_.days_delta, opacity=1., inline=False)"
   ]
  },
  {
   "cell_type": "code",
   "execution_count": null,
   "metadata": {},
   "outputs": [],
   "source": [
    "fig = scatter2d(df_[\"NMR [T]\"],\n",
    "                df_[f\"{probes[0]}_Cal_Bmag\"],# * df_[f\"{probe}_Cal_T\"].min() / df_[f\"{probe}_Cal_T\"],\n",
    "                df_.days_delta, opacity=1., inline=False)"
   ]
  },
  {
   "cell_type": "code",
   "execution_count": null,
   "metadata": {},
   "outputs": [],
   "source": [
    "fig = scatter2d(df[\"NMR [T]\"],\n",
    "                df[f\"{probe}_Raw_Bmag\"],# * df[f\"{probe}_Cal_T\"].min() / df[f\"{probe}_Cal_T\"],\n",
    "                df.days_delta, opacity=1., inline=False)"
   ]
  },
  {
   "cell_type": "code",
   "execution_count": null,
   "metadata": {},
   "outputs": [],
   "source": []
  },
  {
   "cell_type": "code",
   "execution_count": null,
   "metadata": {},
   "outputs": [],
   "source": [
    "x = np.array([6e-4, 2.36e-2, 1.2492]) # B in Tesla\n",
    "y = np.array([4.85e3, 6.43e4, 3.5e6]) # Hall voltage (Bmag), note: 3 different probes"
   ]
  },
  {
   "cell_type": "code",
   "execution_count": null,
   "metadata": {},
   "outputs": [],
   "source": [
    "fig = scatter2d(x, y, lines=False, markers=True, size_list=[8], inline=False)"
   ]
  },
  {
   "cell_type": "code",
   "execution_count": null,
   "metadata": {},
   "outputs": [],
   "source": [
    "def volt_b(mag, A, B):\n",
    "    return A * mag + B"
   ]
  },
  {
   "cell_type": "code",
   "execution_count": null,
   "metadata": {},
   "outputs": [],
   "source": [
    "guess = np.array([3e6, 0.]) # A, B"
   ]
  },
  {
   "cell_type": "code",
   "execution_count": null,
   "metadata": {},
   "outputs": [],
   "source": [
    "x_dat = x\n",
    "#x_dat_avg = xs\n",
    "#x_dat = df[stable_temp][f\"{probe}_Cal_T\"]"
   ]
  },
  {
   "cell_type": "code",
   "execution_count": null,
   "metadata": {},
   "outputs": [],
   "source": [
    "y_dat = y"
   ]
  },
  {
   "cell_type": "code",
   "execution_count": null,
   "metadata": {},
   "outputs": [],
   "source": [
    "params, cov = optimization.curve_fit(volt_b, x_dat, y_dat, guess)\n",
    "#params_avg, cov_avg = optimization.curve_fit(volt, x_dat_avg, ys, guess)\n",
    "#params, cov = optimization.curve_fit(volt, x_dat, \n",
    "#                                     df[stable_temp][f\"{probe}_Raw_Bmag\"] / df[stable_temp][\"NMR [T]\"], guess)"
   ]
  },
  {
   "cell_type": "code",
   "execution_count": null,
   "metadata": {},
   "outputs": [],
   "source": [
    "# stable temp\n",
    "params, cov"
   ]
  },
  {
   "cell_type": "code",
   "execution_count": null,
   "metadata": {},
   "outputs": [],
   "source": [
    "A_fit, B_fit = params\n",
    "#A_fit_avg, B_fit_avg = params_avg"
   ]
  },
  {
   "cell_type": "code",
   "execution_count": null,
   "metadata": {},
   "outputs": [],
   "source": [
    "B_lsq_dat = volt_b(x_dat, A_fit, B_fit)\n",
    "#df_[\"Bmag_lsq\"] = volt_b(x_dat, A_fit, B_fit)"
   ]
  },
  {
   "cell_type": "code",
   "execution_count": null,
   "metadata": {},
   "outputs": [],
   "source": [
    "ts = np.linspace(x_dat.min(), x_dat.max(), 25)"
   ]
  },
  {
   "cell_type": "code",
   "execution_count": null,
   "metadata": {},
   "outputs": [],
   "source": [
    "B_lsq = volt_b(ts, A_fit, B_fit)\n",
    "#B_lsq_avg = volt_b(ts, A_fit_avg, B_fit_avg)"
   ]
  },
  {
   "cell_type": "code",
   "execution_count": null,
   "metadata": {},
   "outputs": [],
   "source": [
    "B_lsq = pd.Series(B_lsq, name=\"Stable Temp Fit\")\n",
    "#B_lsq_avg = pd.Series(B_lsq_avg, name=\"Stable Temp Averaged Fit\")"
   ]
  },
  {
   "cell_type": "code",
   "execution_count": null,
   "metadata": {},
   "outputs": [],
   "source": [
    "fig = scatter2d(x_dat,\n",
    "                y_dat,\n",
    "                lines=False, markers=True,\n",
    "                size_list=[8], opacity=0.8, show_plot=False)\n",
    "\n",
    "fig.add_trace(go.Scatter(\n",
    "                    x=ts, y=B_lsq,\n",
    "                    mode='lines', name='Linear fit',#\"|V|/|B| = A * Temp. + B\",\n",
    "                    line=dict(color='rgb(78, 42, 132)',#'deeppink',\n",
    "                              width=1,\n",
    "                              dash='dash')));\n",
    "#fig.add_trace(go.Scatter(\n",
    "#                    x=ts, y=B_lsq_avg,\n",
    "#                    mode='lines', name=\"mean(|V|/|B|) = A * mean(Temp.) + B\",\n",
    "#                    line=dict(color='purple', width=1,\n",
    "#                              dash='dash')));\n",
    "\n",
    "#fig.update_traces(marker=dict(size=1));\n",
    "\n",
    "'''fig.add_trace(go.Scatter(\n",
    "    x= xs,\n",
    "    y= ys,\n",
    "    mode='markers',\n",
    "    name='Averaged Data',\n",
    "    error_x=dict(\n",
    "        type='data',\n",
    "        array=xerrs,\n",
    "        width=1,\n",
    "        thickness=1.,\n",
    "        visible=True),\n",
    "    error_y=dict(\n",
    "        type='data',\n",
    "        array=yerrs,\n",
    "        width=1,\n",
    "        thickness=1.,\n",
    "        visible=True),\n",
    "    marker=dict(\n",
    "        size=3,\n",
    "        color=\"Red\",\n",
    "    )\n",
    "))\n",
    "'''\n",
    "#eqn = f\"Volt. = {A_fit:.2E} * Temp. + {B_fit:.2E}\"\n",
    "eqn = f\"y = {A_fit:.2E} * x + {B_fit:.2E}\"\n",
    "\n",
    "i = 6\n",
    "fig.add_annotation(\n",
    "    go.layout.Annotation(\n",
    "            x=ts[i],\n",
    "            y=B_lsq.iloc[i],\n",
    "            text=eqn,\n",
    "            font=dict(\n",
    "                #family=\"Courier New, monospace\",\n",
    "                size=14,\n",
    "                color=\"#ffffff\"\n",
    "            ),\n",
    "            align=\"center\",\n",
    "            arrowhead=2,\n",
    "            arrowsize=1,\n",
    "            arrowwidth=2,\n",
    "            arrowcolor=\"#636363\",\n",
    "            ax=+250,\n",
    "            ay=-25,\n",
    "            bordercolor=\"#c7c7c7\",\n",
    "            borderwidth=2,\n",
    "            borderpad=4,\n",
    "            bgcolor='rgb(78, 42, 132)',#\"#ff7f0e\",\n",
    "            opacity=0.7,\n",
    "            showarrow=True#False\n",
    "    )\n",
    ")\n",
    "\n",
    "fig.update_layout(title=\"Scaled Hall Voltage vs. Hall Probe Temperature\")\n",
    "fig.update_xaxes(title_text='Hall Probe Temperature [deg C]')\n",
    "fig.update_yaxes(title_text='|V_Hall| / NMR [micro V / T]')\n",
    "fig.update_layout( width=1000,height=600,)\n",
    "\n",
    "plot(fig,) #filename=plotdir+\"temp_fit_2point_aggregate.html\")"
   ]
  },
  {
   "cell_type": "markdown",
   "metadata": {},
   "source": [
    "Nice! Looks surprisingly linear for 3 different probes."
   ]
  },
  {
   "cell_type": "code",
   "execution_count": null,
   "metadata": {},
   "outputs": [],
   "source": [
    "dof = 3 - 2"
   ]
  },
  {
   "cell_type": "code",
   "execution_count": null,
   "metadata": {},
   "outputs": [],
   "source": [
    "### pick std = 55\n",
    "std_volt = 50.#500.#45.#55."
   ]
  },
  {
   "cell_type": "code",
   "execution_count": null,
   "metadata": {},
   "outputs": [],
   "source": [
    "def chi2(f, x, std):\n",
    "    return np.sum(np.square((x-f)/std))"
   ]
  },
  {
   "cell_type": "code",
   "execution_count": null,
   "metadata": {},
   "outputs": [],
   "source": [
    "#fit_chi2 = chi2(B_lsq, y_dat, std_volt)\n",
    "fit_chi2 = chi2(B_lsq_dat, y_dat, std_volt)\n",
    "fit_chi2"
   ]
  },
  {
   "cell_type": "code",
   "execution_count": null,
   "metadata": {},
   "outputs": [],
   "source": [
    "dof = len(x_dat) - 2\n",
    "dof"
   ]
  },
  {
   "cell_type": "code",
   "execution_count": null,
   "metadata": {},
   "outputs": [],
   "source": [
    "n = np.linspace(0, 12, 100)"
   ]
  },
  {
   "cell_type": "code",
   "execution_count": null,
   "metadata": {},
   "outputs": [],
   "source": [
    "P = stats.chi2.pdf(n, dof)"
   ]
  },
  {
   "cell_type": "code",
   "execution_count": null,
   "metadata": {},
   "outputs": [],
   "source": [
    "P.max()"
   ]
  },
  {
   "cell_type": "code",
   "execution_count": null,
   "metadata": {},
   "outputs": [],
   "source": [
    "plt.plot(n,P)\n",
    "plt.plot([fit_chi2, fit_chi2],[0., 1.0], 'r--');"
   ]
  },
  {
   "cell_type": "code",
   "execution_count": null,
   "metadata": {},
   "outputs": [],
   "source": []
  },
  {
   "cell_type": "code",
   "execution_count": null,
   "metadata": {},
   "outputs": [],
   "source": []
  },
  {
   "cell_type": "code",
   "execution_count": null,
   "metadata": {},
   "outputs": [],
   "source": []
  },
  {
   "cell_type": "code",
   "execution_count": null,
   "metadata": {},
   "outputs": [],
   "source": []
  },
  {
   "cell_type": "code",
   "execution_count": null,
   "metadata": {},
   "outputs": [],
   "source": []
  },
  {
   "cell_type": "code",
   "execution_count": null,
   "metadata": {},
   "outputs": [],
   "source": []
  },
  {
   "cell_type": "code",
   "execution_count": null,
   "metadata": {},
   "outputs": [],
   "source": []
  },
  {
   "cell_type": "code",
   "execution_count": null,
   "metadata": {},
   "outputs": [],
   "source": [
    "def volt_b(mag, A, B):\n",
    "    return A * mag + B"
   ]
  },
  {
   "cell_type": "code",
   "execution_count": null,
   "metadata": {},
   "outputs": [],
   "source": [
    "guess = np.array([1e11, 0.]) # A, B"
   ]
  },
  {
   "cell_type": "code",
   "execution_count": null,
   "metadata": {},
   "outputs": [],
   "source": [
    "x_dat = df_[\"NMR [T]\"]\n",
    "#x_dat_avg = xs\n",
    "#x_dat = df[stable_temp][f\"{probe}_Cal_T\"]"
   ]
  },
  {
   "cell_type": "code",
   "execution_count": null,
   "metadata": {},
   "outputs": [],
   "source": [
    "y_dat = df_[f\"{probe}_Raw_Bmag\"] / (-1.21e03*df_[f\"{probe}_Cal_T\"])# * df_[f\"{probe}_Cal_T\"].min() / df_[f\"{probe}_Cal_T\"]"
   ]
  },
  {
   "cell_type": "code",
   "execution_count": null,
   "metadata": {},
   "outputs": [],
   "source": [
    "params, cov = optimization.curve_fit(volt_b, x_dat, y_dat, guess)\n",
    "#params_avg, cov_avg = optimization.curve_fit(volt, x_dat_avg, ys, guess)\n",
    "#params, cov = optimization.curve_fit(volt, x_dat, \n",
    "#                                     df[stable_temp][f\"{probe}_Raw_Bmag\"] / df[stable_temp][\"NMR [T]\"], guess)"
   ]
  },
  {
   "cell_type": "code",
   "execution_count": null,
   "metadata": {},
   "outputs": [],
   "source": [
    "# stable temp\n",
    "params, cov"
   ]
  },
  {
   "cell_type": "code",
   "execution_count": null,
   "metadata": {},
   "outputs": [],
   "source": [
    "A_fit, B_fit = params\n",
    "A_fit_avg, B_fit_avg = params_avg"
   ]
  },
  {
   "cell_type": "code",
   "execution_count": null,
   "metadata": {},
   "outputs": [],
   "source": [
    "df_[\"Bmag_lsq\"] = volt_b(x_dat, A_fit, B_fit)"
   ]
  },
  {
   "cell_type": "code",
   "execution_count": null,
   "metadata": {},
   "outputs": [],
   "source": [
    "ts = np.linspace(x_dat.min(), x_dat.max(), 25)"
   ]
  },
  {
   "cell_type": "code",
   "execution_count": null,
   "metadata": {},
   "outputs": [],
   "source": [
    "B_lsq = volt_b(ts, A_fit, B_fit)\n",
    "#B_lsq_avg = volt_b(ts, A_fit_avg, B_fit_avg)"
   ]
  },
  {
   "cell_type": "code",
   "execution_count": null,
   "metadata": {},
   "outputs": [],
   "source": [
    "B_lsq = pd.Series(B_lsq, name=\"Stable Temp Fit\")\n",
    "#B_lsq_avg = pd.Series(B_lsq_avg, name=\"Stable Temp Averaged Fit\")"
   ]
  },
  {
   "cell_type": "code",
   "execution_count": null,
   "metadata": {},
   "outputs": [],
   "source": [
    "fig = scatter2d(x_dat,\n",
    "                y_dat,\n",
    "                df_.days_delta, opacity=0.8, show_plot=False)\n",
    "\n",
    "fig.add_trace(go.Scatter(\n",
    "                    x=ts, y=B_lsq,\n",
    "                    mode='lines', name='Linear fit',#\"|V|/|B| = A * Temp. + B\",\n",
    "                    line=dict(color='rgb(78, 42, 132)',#'deeppink',\n",
    "                              width=1,\n",
    "                              dash='dash')));\n",
    "#fig.add_trace(go.Scatter(\n",
    "#                    x=ts, y=B_lsq_avg,\n",
    "#                    mode='lines', name=\"mean(|V|/|B|) = A * mean(Temp.) + B\",\n",
    "#                    line=dict(color='purple', width=1,\n",
    "#                              dash='dash')));\n",
    "\n",
    "fig.update_traces(marker=dict(size=1));\n",
    "\n",
    "'''fig.add_trace(go.Scatter(\n",
    "    x= xs,\n",
    "    y= ys,\n",
    "    mode='markers',\n",
    "    name='Averaged Data',\n",
    "    error_x=dict(\n",
    "        type='data',\n",
    "        array=xerrs,\n",
    "        width=1,\n",
    "        thickness=1.,\n",
    "        visible=True),\n",
    "    error_y=dict(\n",
    "        type='data',\n",
    "        array=yerrs,\n",
    "        width=1,\n",
    "        thickness=1.,\n",
    "        visible=True),\n",
    "    marker=dict(\n",
    "        size=3,\n",
    "        color=\"Red\",\n",
    "    )\n",
    "))\n",
    "'''\n",
    "#eqn = f\"Volt. = {A_fit:.2E} * Temp. + {B_fit:.2E}\"\n",
    "eqn = f\"y = {A_fit:.2E} * x + {B_fit:.2E}\"\n",
    "\n",
    "i = 6\n",
    "fig.add_annotation(\n",
    "    go.layout.Annotation(\n",
    "            x=ts[i],\n",
    "            y=B_lsq.iloc[i],\n",
    "            text=eqn,\n",
    "            font=dict(\n",
    "                #family=\"Courier New, monospace\",\n",
    "                size=14,\n",
    "                color=\"#ffffff\"\n",
    "            ),\n",
    "            align=\"center\",\n",
    "            arrowhead=2,\n",
    "            arrowsize=1,\n",
    "            arrowwidth=2,\n",
    "            arrowcolor=\"#636363\",\n",
    "            ax=+250,\n",
    "            ay=-25,\n",
    "            bordercolor=\"#c7c7c7\",\n",
    "            borderwidth=2,\n",
    "            borderpad=4,\n",
    "            bgcolor='rgb(78, 42, 132)',#\"#ff7f0e\",\n",
    "            opacity=0.7,\n",
    "            showarrow=True#False\n",
    "    )\n",
    ")\n",
    "\n",
    "fig.update_layout(title=\"Scaled Hall Voltage vs. Hall Probe Temperature\")\n",
    "fig.update_xaxes(title_text='Hall Probe Temperature [deg C]')\n",
    "fig.update_yaxes(title_text='|V_Hall| / NMR [micro V / T]')\n",
    "fig.update_layout( width=1000,height=600,)\n",
    "\n",
    "plot(fig,) #filename=plotdir+\"temp_fit_2point_aggregate.html\")"
   ]
  },
  {
   "cell_type": "code",
   "execution_count": null,
   "metadata": {},
   "outputs": [],
   "source": []
  },
  {
   "cell_type": "code",
   "execution_count": null,
   "metadata": {},
   "outputs": [],
   "source": []
  },
  {
   "cell_type": "code",
   "execution_count": null,
   "metadata": {},
   "outputs": [],
   "source": []
  },
  {
   "cell_type": "code",
   "execution_count": null,
   "metadata": {},
   "outputs": [],
   "source": []
  },
  {
   "cell_type": "code",
   "execution_count": null,
   "metadata": {},
   "outputs": [],
   "source": [
    "### pick std = 55\n",
    "std_volt = 50.#51.#45.#55."
   ]
  },
  {
   "cell_type": "code",
   "execution_count": null,
   "metadata": {},
   "outputs": [],
   "source": [
    "def chi2(f, x, std):\n",
    "    return np.sum(np.square((x-f)/std))"
   ]
  },
  {
   "cell_type": "code",
   "execution_count": null,
   "metadata": {},
   "outputs": [],
   "source": [
    "fit_chi2 = chi2(df_[\"Bmag_lsq\"], df_[\"Scaled Hall Voltage\"], std_volt)\n",
    "fit_chi2"
   ]
  },
  {
   "cell_type": "code",
   "execution_count": null,
   "metadata": {},
   "outputs": [],
   "source": [
    "ys_fit = volt(xs, A_fit_avg, B_fit_avg)"
   ]
  },
  {
   "cell_type": "code",
   "execution_count": null,
   "metadata": {},
   "outputs": [],
   "source": [
    "fit_avg_chi2 = chi2(ys_fit, ys, yerrs)\n",
    "fit_avg_chi2"
   ]
  },
  {
   "cell_type": "code",
   "execution_count": null,
   "metadata": {},
   "outputs": [],
   "source": [
    "dof = len(xs) - 2\n",
    "dof"
   ]
  },
  {
   "cell_type": "code",
   "execution_count": null,
   "metadata": {},
   "outputs": [],
   "source": [
    "n = np.linspace(0, 12, 100)"
   ]
  },
  {
   "cell_type": "code",
   "execution_count": null,
   "metadata": {},
   "outputs": [],
   "source": [
    "P = stats.chi2.pdf(n, dof)"
   ]
  },
  {
   "cell_type": "code",
   "execution_count": null,
   "metadata": {},
   "outputs": [],
   "source": [
    "plt.plot(n,P)\n",
    "plt.plot([fit_avg_chi2, fit_avg_chi2],[0., P.max()], 'r--');"
   ]
  },
  {
   "cell_type": "code",
   "execution_count": null,
   "metadata": {},
   "outputs": [],
   "source": []
  },
  {
   "cell_type": "code",
   "execution_count": null,
   "metadata": {},
   "outputs": [],
   "source": []
  },
  {
   "cell_type": "code",
   "execution_count": null,
   "metadata": {},
   "outputs": [],
   "source": [
    "# check std\n",
    "df_2 = df_[100:500]"
   ]
  },
  {
   "cell_type": "code",
   "execution_count": null,
   "metadata": {},
   "outputs": [],
   "source": [
    "fig = scatter2d(df_2.index, df_2[f\"{probe}_Raw_Bmag\"]/df_2[\"NMR [T]\"],\n",
    "               inline=False)"
   ]
  },
  {
   "cell_type": "code",
   "execution_count": null,
   "metadata": {},
   "outputs": [],
   "source": [
    "scaled_B = df_2[f\"{probe}_Raw_Bmag\"]/df_2[\"NMR [T]\"]\n",
    "scaled_B.name = \"Scaled |V|/|B|\""
   ]
  },
  {
   "cell_type": "code",
   "execution_count": null,
   "metadata": {},
   "outputs": [],
   "source": [
    "fig = histo(scaled_B, bins=25,\n",
    "               inline=False)"
   ]
  },
  {
   "cell_type": "code",
   "execution_count": null,
   "metadata": {},
   "outputs": [],
   "source": []
  },
  {
   "cell_type": "code",
   "execution_count": null,
   "metadata": {},
   "outputs": [],
   "source": [
    "std_volt = 75."
   ]
  },
  {
   "cell_type": "code",
   "execution_count": null,
   "metadata": {},
   "outputs": [],
   "source": [
    "fit_chi2 = chi2(df_[\"Bmag_lsq\"], df_[\"Scaled Hall Voltage\"], std_volt)\n",
    "fit_chi2"
   ]
  },
  {
   "cell_type": "code",
   "execution_count": null,
   "metadata": {},
   "outputs": [],
   "source": [
    "dof = len(df_) - 2\n",
    "dof"
   ]
  },
  {
   "cell_type": "code",
   "execution_count": null,
   "metadata": {},
   "outputs": [],
   "source": [
    "n = np.linspace(1000,30000, 1000)"
   ]
  },
  {
   "cell_type": "code",
   "execution_count": null,
   "metadata": {},
   "outputs": [],
   "source": [
    "P = stats.chi2.pdf(n, dof)"
   ]
  },
  {
   "cell_type": "code",
   "execution_count": null,
   "metadata": {},
   "outputs": [],
   "source": [
    "plt.plot(n,P)\n",
    "plt.plot([fit_chi2, fit_chi2],[0., P.max()], 'r--');"
   ]
  },
  {
   "cell_type": "code",
   "execution_count": null,
   "metadata": {},
   "outputs": [],
   "source": [
    "n[P.argmax()]"
   ]
  },
  {
   "cell_type": "markdown",
   "metadata": {},
   "source": [
    "## Investigate Noise"
   ]
  },
  {
   "cell_type": "code",
   "execution_count": null,
   "metadata": {},
   "outputs": [],
   "source": [
    "t = df_.index"
   ]
  },
  {
   "cell_type": "code",
   "execution_count": null,
   "metadata": {},
   "outputs": [],
   "source": [
    "V = df_[f\"{probe}_Raw_Z\"]"
   ]
  },
  {
   "cell_type": "code",
   "execution_count": null,
   "metadata": {},
   "outputs": [],
   "source": [
    "V_mean = V.rolling(window=75).mean() # w interval = 50 s, should be ~72 for one hour average"
   ]
  },
  {
   "cell_type": "code",
   "execution_count": null,
   "metadata": {},
   "outputs": [],
   "source": [
    "#fig = scatter2d(2*[t], [V, V_mean], inline=False)"
   ]
  },
  {
   "cell_type": "code",
   "execution_count": null,
   "metadata": {},
   "outputs": [],
   "source": [
    "diff = V - V_mean"
   ]
  },
  {
   "cell_type": "code",
   "execution_count": null,
   "metadata": {},
   "outputs": [],
   "source": [
    "#fig = histo(diff, bins=50, inline=False)"
   ]
  },
  {
   "cell_type": "code",
   "execution_count": null,
   "metadata": {},
   "outputs": [],
   "source": [
    "g = np.absolute(diff) < 200."
   ]
  },
  {
   "cell_type": "code",
   "execution_count": null,
   "metadata": {},
   "outputs": [],
   "source": [
    "diff[g].std()"
   ]
  },
  {
   "cell_type": "code",
   "execution_count": null,
   "metadata": {},
   "outputs": [],
   "source": [
    "fig = histo(diff[g], bins=75, inline=False)"
   ]
  },
  {
   "cell_type": "markdown",
   "metadata": {},
   "source": [
    "Component Standard Deviation:\n",
    "- x: 54.9\n",
    "- y: 60.5\n",
    "- z: 58.47"
   ]
  },
  {
   "cell_type": "code",
   "execution_count": 163,
   "metadata": {},
   "outputs": [],
   "source": [
    "sig_x = 54.9\n",
    "sig_y = 60.5\n",
    "sig_z = 58.5"
   ]
  },
  {
   "cell_type": "code",
   "execution_count": 164,
   "metadata": {},
   "outputs": [],
   "source": [
    "# assuming no covariance\n",
    "sigma_B = np.sqrt(df_[f\"{probe}_Raw_X\"]**2*sig_x**2 + \\\n",
    "                  df_[f\"{probe}_Raw_Y\"]**2*sig_y**2 + \\\n",
    "                  df_[f\"{probe}_Raw_Z\"]**2*sig_z**2) / df_[f\"{probe}_Raw_Bmag\"]"
   ]
  },
  {
   "cell_type": "code",
   "execution_count": 165,
   "metadata": {},
   "outputs": [],
   "source": [
    "sigma_B.name = \"sigma_B\""
   ]
  },
  {
   "cell_type": "code",
   "execution_count": null,
   "metadata": {},
   "outputs": [],
   "source": [
    "fig = histo(sigma_B, bins=75, inline=False)"
   ]
  },
  {
   "cell_type": "code",
   "execution_count": null,
   "metadata": {},
   "outputs": [],
   "source": [
    "fig = scatter2d(t, sigma_B, inline=False)"
   ]
  },
  {
   "cell_type": "code",
   "execution_count": null,
   "metadata": {},
   "outputs": [],
   "source": [
    "sigma_B.describe()"
   ]
  },
  {
   "cell_type": "code",
   "execution_count": null,
   "metadata": {},
   "outputs": [],
   "source": [
    "def chi2(f, x, std):\n",
    "    return np.sum(np.square((x-f)/std))"
   ]
  },
  {
   "cell_type": "code",
   "execution_count": null,
   "metadata": {},
   "outputs": [],
   "source": [
    "len(sigma_B)"
   ]
  },
  {
   "cell_type": "code",
   "execution_count": null,
   "metadata": {},
   "outputs": [],
   "source": [
    "len(df_)"
   ]
  },
  {
   "cell_type": "code",
   "execution_count": null,
   "metadata": {},
   "outputs": [],
   "source": [
    "fit_chi2 = chi2(df_[\"Bmag_lsq\"], df_[\"Scaled Hall Voltage\"], sigma_B)\n",
    "fit_chi2"
   ]
  },
  {
   "cell_type": "code",
   "execution_count": null,
   "metadata": {},
   "outputs": [],
   "source": [
    "dof = len(df_) - 2\n",
    "dof"
   ]
  },
  {
   "cell_type": "code",
   "execution_count": null,
   "metadata": {},
   "outputs": [],
   "source": [
    "n = np.linspace(1000,20000, 1000)"
   ]
  },
  {
   "cell_type": "code",
   "execution_count": null,
   "metadata": {},
   "outputs": [],
   "source": [
    "P = stats.chi2.pdf(n, dof)"
   ]
  },
  {
   "cell_type": "code",
   "execution_count": null,
   "metadata": {},
   "outputs": [],
   "source": [
    "plt.plot(n,P)\n",
    "plt.plot([fit_chi2, fit_chi2],[0., P.max()], 'r--');"
   ]
  },
  {
   "cell_type": "markdown",
   "metadata": {},
   "source": [
    "Try adding a few more polynomial terms"
   ]
  },
  {
   "cell_type": "code",
   "execution_count": null,
   "metadata": {},
   "outputs": [],
   "source": [
    "def volt_3rd(temp, A, B, C, D):\n",
    "    #return A * temp + B * temp**2 + C * temp**3 + D\n",
    "    return A * temp + B * temp**2 + D"
   ]
  },
  {
   "cell_type": "code",
   "execution_count": null,
   "metadata": {},
   "outputs": [],
   "source": [
    "guess = np.array([-1300 / 3.5, 0, 0, 2e6]) # A, B"
   ]
  },
  {
   "cell_type": "code",
   "execution_count": null,
   "metadata": {},
   "outputs": [],
   "source": [
    "x_dat = df_[f\"{probe}_Cal_T\"]\n",
    "x_dat_avg = xs\n",
    "#x_dat = df[stable_temp][f\"{probe}_Cal_T\"]"
   ]
  },
  {
   "cell_type": "code",
   "execution_count": null,
   "metadata": {},
   "outputs": [],
   "source": [
    "y_dat = df_[\"Scaled Hall Voltage\"]\n",
    "#y_dat = df_[\"Scaled Hall Z\"]\n",
    "#y_dat = df_[\"NMR [T]\"]"
   ]
  },
  {
   "cell_type": "code",
   "execution_count": null,
   "metadata": {},
   "outputs": [],
   "source": [
    "params, cov = optimization.curve_fit(volt_3rd, x_dat, y_dat, guess)\n",
    "params_avg, cov_avg = optimization.curve_fit(volt_3rd, x_dat_avg, ys, guess)\n",
    "#params, cov = optimization.curve_fit(volt, x_dat, \n",
    "#                                     df[stable_temp][f\"{probe}_Raw_Bmag\"] / df[stable_temp][\"NMR [T]\"], guess)"
   ]
  },
  {
   "cell_type": "code",
   "execution_count": null,
   "metadata": {},
   "outputs": [],
   "source": [
    "# stable temp\n",
    "params, cov"
   ]
  },
  {
   "cell_type": "code",
   "execution_count": null,
   "metadata": {},
   "outputs": [],
   "source": [
    "# stable temp averaged\n",
    "params_avg, cov_avg"
   ]
  },
  {
   "cell_type": "code",
   "execution_count": null,
   "metadata": {},
   "outputs": [],
   "source": [
    "A_fit, B_fit, C_fit, D_fit = params\n",
    "A_fit_avg, B_fit_avg, C_fit_avg, D_fit_avg = params_avg"
   ]
  },
  {
   "cell_type": "code",
   "execution_count": null,
   "metadata": {},
   "outputs": [],
   "source": [
    "df_[\"Bmag_lsq\"] = volt_3rd(x_dat, A_fit, B_fit, C_fit, D_fit)\n",
    "df_[\"Bmag_lsq_avg\"] = volt_3rd(x_dat, A_fit_avg, B_fit_avg, C_fit_avg, D_fit_avg)"
   ]
  },
  {
   "cell_type": "code",
   "execution_count": null,
   "metadata": {},
   "outputs": [],
   "source": [
    "ts = np.linspace(x_dat.min(), x_dat.max(), 25)"
   ]
  },
  {
   "cell_type": "code",
   "execution_count": null,
   "metadata": {},
   "outputs": [],
   "source": [
    "B_lsq = volt_3rd(ts, A_fit, B_fit, C_fit, D_fit)\n",
    "B_lsq_avg = volt_3rd(ts, A_fit_avg, B_fit_avg, C_fit_avg, D_fit_avg)"
   ]
  },
  {
   "cell_type": "code",
   "execution_count": null,
   "metadata": {},
   "outputs": [],
   "source": [
    "B_lsq = pd.Series(B_lsq, name=\"Stable Temp Fit\")\n",
    "B_lsq_avg = pd.Series(B_lsq_avg, name=\"Stable Temp Averaged Fit\")"
   ]
  },
  {
   "cell_type": "code",
   "execution_count": null,
   "metadata": {},
   "outputs": [],
   "source": [
    "averaged=True\n",
    "\n",
    "fig = scatter2d(x_dat,\n",
    "                y_dat,\n",
    "                df_.days_delta, opacity=0.8, show_plot=False)\n",
    "\n",
    "fig.add_trace(go.Scatter(\n",
    "                    x=ts, y=B_lsq,\n",
    "                    mode='lines', name='Linear fit',#\"|V|/|B| = A * Temp. + B\",\n",
    "                    line=dict(color='rgb(78, 42, 132)',#'deeppink',\n",
    "                              width=1,\n",
    "                              dash='dash')));\n",
    "#fig.add_trace(go.Scatter(\n",
    "#                    x=ts, y=B_lsq_avg,\n",
    "#                    mode='lines', name=\"mean(|V|/|B|) = A * mean(Temp.) + B\",\n",
    "#                    line=dict(color='purple', width=1,\n",
    "#                              dash='dash')));\n",
    "\n",
    "fig.update_traces(marker=dict(size=1));\n",
    "\n",
    "if averaged:\n",
    "    fig.add_trace(go.Scatter(\n",
    "        x= xs,\n",
    "        y= ys,\n",
    "        mode='markers',\n",
    "        name='Averaged Data',\n",
    "        error_x=dict(\n",
    "            type='data',\n",
    "            array=xerrs,\n",
    "            width=1,\n",
    "            thickness=1.,\n",
    "            visible=True),\n",
    "        error_y=dict(\n",
    "            type='data',\n",
    "            array=yerrs,\n",
    "            width=1,\n",
    "            thickness=1.,\n",
    "            visible=True),\n",
    "        marker=dict(\n",
    "            size=3,\n",
    "            color=\"Red\",\n",
    "        )\n",
    "    ))\n",
    "\n",
    "#eqn = f\"Volt. = {A_fit:.2E} * Temp. + {B_fit:.2E}\"\n",
    "eqn = f\"y = {A_fit:.2E} * x + {B_fit:.2E} * x^2 + {C_fit:.2E} * x^3 + {D_fit:.2E}\"\n",
    "\n",
    "i = 6\n",
    "fig.add_annotation(\n",
    "    go.layout.Annotation(\n",
    "            x=ts[i],\n",
    "            y=B_lsq.iloc[i],\n",
    "            text=eqn,\n",
    "            font=dict(\n",
    "                #family=\"Courier New, monospace\",\n",
    "                size=14,\n",
    "                color=\"#ffffff\"\n",
    "            ),\n",
    "            align=\"center\",\n",
    "            arrowhead=2,\n",
    "            arrowsize=1,\n",
    "            arrowwidth=2,\n",
    "            arrowcolor=\"#636363\",\n",
    "            ax=+250,\n",
    "            ay=-25,\n",
    "            bordercolor=\"#c7c7c7\",\n",
    "            borderwidth=2,\n",
    "            borderpad=4,\n",
    "            bgcolor='rgb(78, 42, 132)',#\"#ff7f0e\",\n",
    "            opacity=0.7,\n",
    "            showarrow=True#False\n",
    "    )\n",
    ")\n",
    "\n",
    "fig.update_layout(title=\"Scaled Hall Voltage vs. Hall Probe Temperature\")\n",
    "fig.update_xaxes(title_text='Hall Probe Temperature [deg C]')\n",
    "fig.update_yaxes(title_text='|V_Hall| / NMR [micro V / T]')\n",
    "fig.update_layout( width=1000,height=600,)\n",
    "\n",
    "filename = plotdir+\"scaled_voltage_vs_temperature_3rd_order\"\n",
    "\n",
    "plot(fig, filename=filename+'.html')"
   ]
  },
  {
   "cell_type": "code",
   "execution_count": null,
   "metadata": {},
   "outputs": [],
   "source": [
    "pio.write_image(fig, filename+\".pdf\")\n",
    "pio.write_image(fig, filename+\".png\")"
   ]
  },
  {
   "cell_type": "code",
   "execution_count": null,
   "metadata": {},
   "outputs": [],
   "source": []
  },
  {
   "cell_type": "code",
   "execution_count": null,
   "metadata": {},
   "outputs": [],
   "source": [
    "def chi2(f, x, std):\n",
    "    return np.sum(np.square((x-f)/std))"
   ]
  },
  {
   "cell_type": "code",
   "execution_count": null,
   "metadata": {},
   "outputs": [],
   "source": [
    "len(sigma_B)"
   ]
  },
  {
   "cell_type": "code",
   "execution_count": null,
   "metadata": {},
   "outputs": [],
   "source": [
    "len(df_)"
   ]
  },
  {
   "cell_type": "code",
   "execution_count": null,
   "metadata": {},
   "outputs": [],
   "source": [
    "fit_chi2 = chi2(df_[\"Bmag_lsq\"], df_[\"Scaled Hall Voltage\"], sigma_B)\n",
    "fit_chi2"
   ]
  },
  {
   "cell_type": "code",
   "execution_count": null,
   "metadata": {},
   "outputs": [],
   "source": [
    "dof = len(df_) - 3#4 # 4 parameter fit\n",
    "dof"
   ]
  },
  {
   "cell_type": "code",
   "execution_count": null,
   "metadata": {},
   "outputs": [],
   "source": [
    "n = np.linspace(1000,20000, 1000)"
   ]
  },
  {
   "cell_type": "code",
   "execution_count": null,
   "metadata": {},
   "outputs": [],
   "source": [
    "P = stats.chi2.pdf(n, dof)"
   ]
  },
  {
   "cell_type": "code",
   "execution_count": null,
   "metadata": {},
   "outputs": [],
   "source": [
    "# 3rd order\n",
    "plt.plot(n,P)\n",
    "plt.plot([fit_chi2, fit_chi2],[0., P.max()], 'r--');"
   ]
  },
  {
   "cell_type": "code",
   "execution_count": null,
   "metadata": {},
   "outputs": [],
   "source": [
    "# 4th order\n",
    "plt.plot(n,P)\n",
    "plt.plot([fit_chi2, fit_chi2],[0., P.max()], 'r--');"
   ]
  },
  {
   "cell_type": "code",
   "execution_count": null,
   "metadata": {},
   "outputs": [],
   "source": []
  },
  {
   "cell_type": "code",
   "execution_count": null,
   "metadata": {},
   "outputs": [],
   "source": []
  },
  {
   "cell_type": "code",
   "execution_count": null,
   "metadata": {},
   "outputs": [],
   "source": []
  },
  {
   "cell_type": "code",
   "execution_count": null,
   "metadata": {},
   "outputs": [],
   "source": [
    "for probe in probes:\n",
    "    fig = scatter2d(df_.index, df_[f\"{probe}_Raw_Bmag\"], inline=False)"
   ]
  },
  {
   "cell_type": "markdown",
   "metadata": {},
   "source": [
    "## Fit Routine\n",
    "**IMPORTANT**\n",
    "- should add this as a tool in hallprobecalib"
   ]
  },
  {
   "cell_type": "code",
   "execution_count": null,
   "metadata": {},
   "outputs": [],
   "source": [
    "## FIT ORDER N"
   ]
  },
  {
   "cell_type": "code",
   "execution_count": null,
   "metadata": {},
   "outputs": [],
   "source": [
    "#import lmfit as lm"
   ]
  },
  {
   "cell_type": "code",
   "execution_count": 166,
   "metadata": {},
   "outputs": [],
   "source": [
    "def polyfit_order_n(N, x_dat, y_dat, std_dat):\n",
    "    # e.g. order 1 gives form y = C0 + C1*x\n",
    "    # returns lmfit result object\n",
    "    Cs = {}\n",
    "    \n",
    "    def polynomial(x, N, **Cs):\n",
    "        ys = np.zeros_like(x)\n",
    "        for n in range(N+1):\n",
    "            C = Cs[f'C_{n}']\n",
    "            ys += C * x**n\n",
    "        return ys\n",
    "    \n",
    "    # using lmfit\n",
    "    model = lm.Model(polynomial, independent_vars=['x'])\n",
    "    params = lm.Parameters()\n",
    "    params.add('N', value=N, vary=False) # just telling us when to truncate our sum\n",
    "    for n in range(N+1):\n",
    "        params.add(f'C_{n}', value=0)\n",
    "    \n",
    "    result = model.fit(y_dat.values, x=x_dat.values, params=params, weights=1/std_dat)\n",
    "    \n",
    "    print(result.fit_report())\n",
    "   \n",
    "    return result"
   ]
  },
  {
   "cell_type": "code",
   "execution_count": null,
   "metadata": {},
   "outputs": [],
   "source": [
    "result = polyfit_order_n(1, df_[f\"{probe}_Cal_Bmag\"], df_[\"NMR [T]\"], 2e-5*np.ones_like(df_[\"NMR [T]\"]))"
   ]
  },
  {
   "cell_type": "code",
   "execution_count": null,
   "metadata": {},
   "outputs": [],
   "source": [
    "result.plot()"
   ]
  },
  {
   "cell_type": "code",
   "execution_count": 167,
   "metadata": {
    "scrolled": false
   },
   "outputs": [
    {
     "name": "stdout",
     "output_type": "stream",
     "text": [
      "[[Model]]\n",
      "    Model(polynomial)\n",
      "[[Fit Statistics]]\n",
      "    # fitting method   = leastsq\n",
      "    # function evals   = 115\n",
      "    # data points      = 49535\n",
      "    # variables        = 5\n",
      "    chi-square         = 93312.3245\n",
      "    reduced chi-square = 1.88395567\n",
      "    Akaike info crit   = 31379.1634\n",
      "    Bayesian info crit = 31423.2156\n",
      "[[Variables]]\n",
      "    N:    4 (fixed)\n",
      "    C_0:  3788800.77 +/- 1153.30457 (0.03%) (init = 0)\n",
      "    C_1: -49318.2717 +/- 221.342439 (0.45%) (init = 0)\n",
      "    C_2:  3430.42856 +/- 15.7171489 (0.46%) (init = 0)\n",
      "    C_3: -108.425703 +/- 0.48940591 (0.45%) (init = 0)\n",
      "    C_4:  1.27337953 +/- 0.00563952 (0.44%) (init = 0)\n",
      "[[Correlations]] (unreported correlations are < 0.100)\n",
      "    C(C_0, C_1) = -1.000\n",
      "    C(C_3, C_4) = -1.000\n",
      "    C(C_1, C_2) = -1.000\n",
      "    C(C_2, C_3) = -1.000\n",
      "    C(C_0, C_2) =  0.998\n",
      "    C(C_2, C_4) =  0.998\n",
      "    C(C_1, C_3) =  0.998\n",
      "    C(C_0, C_3) = -0.996\n",
      "    C(C_1, C_4) = -0.996\n",
      "    C(C_0, C_4) =  0.993\n",
      "\n"
     ]
    }
   ],
   "source": [
    "result = polyfit_order_n(4, df_[f\"{probe}_Cal_T\"], df_[\"Scaled Hall Voltage\"], sigma_B)"
   ]
  },
  {
   "cell_type": "code",
   "execution_count": 168,
   "metadata": {},
   "outputs": [
    {
     "data": {
      "text/plain": [
       "(<Figure size 864x864 with 2 Axes>, GridSpec(2, 1, height_ratios=[1, 4]))"
      ]
     },
     "execution_count": 168,
     "metadata": {},
     "output_type": "execute_result"
    },
    {
     "data": {
      "image/png": "[encoded data removed]",
      "text/plain": [
       "<Figure size 864x864 with 2 Axes>"
      ]
     },
     "metadata": {
      "needs_background": "light"
     },
     "output_type": "display_data"
    }
   ],
   "source": [
    "result.plot()"
   ]
  },
  {
   "cell_type": "code",
   "execution_count": null,
   "metadata": {},
   "outputs": [],
   "source": []
  },
  {
   "cell_type": "code",
   "execution_count": 169,
   "metadata": {},
   "outputs": [
    {
     "data": {
      "text/plain": [
       "array([35398.,  1270.,  4974.,  1439.,  1403.,  1430.,   204.,  1224.,\n",
       "        2142.])"
      ]
     },
     "execution_count": 169,
     "metadata": {},
     "output_type": "execute_result"
    }
   ],
   "source": [
    "ns"
   ]
  },
  {
   "cell_type": "code",
   "execution_count": 170,
   "metadata": {},
   "outputs": [
    {
     "data": {
      "text/plain": [
       "array([6.438081  , 0.23098375, 0.90465605, 0.26172096, 0.25517339,\n",
       "       0.26008407, 0.0371029 , 0.22261741, 0.38958047])"
      ]
     },
     "execution_count": 170,
     "metadata": {},
     "output_type": "execute_result"
    }
   ],
   "source": [
    "ns / ns.mean()"
   ]
  },
  {
   "cell_type": "code",
   "execution_count": null,
   "metadata": {},
   "outputs": [],
   "source": [
    "x_dat_avg = pd.Series(x_dat_avg)\n",
    "ys = pd.Series(ys)\n",
    "yerrs = pd.Series(yerrs)\n",
    "ns = pd.Series(ns)"
   ]
  },
  {
   "cell_type": "code",
   "execution_count": null,
   "metadata": {},
   "outputs": [],
   "source": [
    "result = polyfit_order_n(1,x_dat_avg, ys, ns.mean()*yerrs / ns)"
   ]
  },
  {
   "cell_type": "code",
   "execution_count": 171,
   "metadata": {},
   "outputs": [
    {
     "data": {
      "image/png": "[encoded data removed]",
      "text/plain": [
       "<Figure size 864x576 with 1 Axes>"
      ]
     },
     "metadata": {
      "needs_background": "light"
     },
     "output_type": "display_data"
    }
   ],
   "source": [
    "#def chi2(f, x, std):\n",
    "#        return np.sum(np.square((x-f)/std))\n",
    "\n",
    "#len(sigma_B)\n",
    "\n",
    "#len(df_)\n",
    "\n",
    "#fit_chi2 = chi2(df_[\"Bmag_lsq\"], df_[\"Scaled Hall Voltage\"], sigma_B)\n",
    "#fit_chi2\n",
    "fit_chi2 = result.chisqr#0.3247\n",
    "\n",
    "dof = len(df_) - 5#4 # 4 parameter fit\n",
    "#dof\n",
    "\n",
    "n = np.linspace(0,12, 100)\n",
    "\n",
    "P = stats.chi2.pdf(n, dof)\n",
    "\n",
    "# 3rd order\n",
    "plt.plot(n,P)\n",
    "plt.plot([fit_chi2, fit_chi2],[0., P.max()], 'r--');"
   ]
  },
  {
   "cell_type": "code",
   "execution_count": null,
   "metadata": {},
   "outputs": [],
   "source": [
    "fig = scatter2d(df_.index, df_[\"DF0000000D5E803A_Cal_Res_Rel\"], df_.days_delta, inline=False)"
   ]
  },
  {
   "cell_type": "code",
   "execution_count": null,
   "metadata": {},
   "outputs": [],
   "source": [
    "result.plot()"
   ]
  },
  {
   "cell_type": "code",
   "execution_count": 172,
   "metadata": {},
   "outputs": [],
   "source": [
    "def plot_polynomial(N, x_dat, y_dat, c_dat, result,\n",
    "                    size=5, filename=None, inline=False, show_plot=True):\n",
    "    \n",
    "    ####averaged=True\n",
    "\n",
    "    # plot the data\n",
    "    fig = scatter2d(x_dat,\n",
    "                    y_dat,\n",
    "                    c_dat, opacity=0.9, show_plot=False)\n",
    "    # add line for fit\n",
    "    xs = np.linspace(x_dat.min(), x_dat.max(), 100)\n",
    "    ys = result.eval(x=xs)\n",
    "    fig.add_trace(go.Scatter(\n",
    "                        x=xs, y=ys,\n",
    "                        mode='lines', name=f'Order {N} Polynomial fit',#\"|V|/|B| = A * Temp. + B\",\n",
    "                        line=dict(color='rgb(78, 42, 132)',#'deeppink',\n",
    "                                  width=1,\n",
    "                                  dash='dash')));\n",
    "    #fig.add_trace(go.Scatter(\n",
    "    #                    x=ts, y=B_lsq_avg,\n",
    "    #                    mode='lines', name=\"mean(|V|/|B|) = A * mean(Temp.) + B\",\n",
    "    #                    line=dict(color='purple', width=1,\n",
    "    #                              dash='dash')));\n",
    "\n",
    "    fig.update_traces(marker=dict(size=size));\n",
    "\n",
    "    '''if averaged:\n",
    "        fig.add_trace(go.Scatter(\n",
    "            x= xs,\n",
    "            y= ys,\n",
    "            mode='markers',\n",
    "            name='Averaged Data',\n",
    "            error_x=dict(\n",
    "                type='data',\n",
    "                array=xerrs,\n",
    "                width=1,\n",
    "                thickness=1.,\n",
    "                visible=True),\n",
    "            error_y=dict(\n",
    "                type='data',\n",
    "                array=yerrs,\n",
    "                width=1,\n",
    "                thickness=1.,\n",
    "                visible=True),\n",
    "            marker=dict(\n",
    "                size=3,\n",
    "                color=\"Red\",\n",
    "            )\n",
    "        ))'''\n",
    "\n",
    "    #eqn = f\"Volt. = {A_fit:.2E} * Temp. + {B_fit:.2E}\"\n",
    "    eqn = f\"y = \"\n",
    "    for n in range(N+1):\n",
    "        p = result.params[f\"C_{n}\"]\n",
    "        eqn += f\"{p:.2E} * x^{n}\"\n",
    "        if (n >= 2) and ((n+1)%3 == 0) and (n != N):\n",
    "            eqn += \"<br>    \"\n",
    "    ax = 250\n",
    "    ay = -25\n",
    "    if result.params[\"C_1\"] < 0:\n",
    "        i = 20\n",
    "        #ax= +\n",
    "        #ay= -\n",
    "    else:\n",
    "        i = -20\n",
    "        ax = -ax\n",
    "        ay = -ay\n",
    "    fig.add_annotation(\n",
    "        go.layout.Annotation(\n",
    "                x=xs[i],\n",
    "                y=ys[i],\n",
    "                text=eqn,\n",
    "                font=dict(\n",
    "                    #family=\"Courier New, monospace\",\n",
    "                    size=12,\n",
    "                    color=\"#ffffff\"\n",
    "                ),\n",
    "                align=\"center\",\n",
    "                arrowhead=2,\n",
    "                arrowsize=1,\n",
    "                arrowwidth=2,\n",
    "                arrowcolor=\"#636363\",\n",
    "                ax=ax,\n",
    "                ay=ax,\n",
    "                bordercolor=\"#c7c7c7\",\n",
    "                borderwidth=2,\n",
    "                borderpad=4,\n",
    "                bgcolor='rgb(78, 42, 132)',#\"#ff7f0e\",\n",
    "                opacity=0.65,\n",
    "                showarrow=True#False\n",
    "        )\n",
    "    )\n",
    "\n",
    "    fig.update_layout(title=\"y vs. x\")\n",
    "    fig.update_xaxes(title_text='x')\n",
    "    fig.update_yaxes(title_text='y')\n",
    "    #fig.update_layout( width=1000,height=600,)\n",
    "\n",
    "    #filename = plotdir+\"scaled_voltage_vs_temperature_3rd_order\"\n",
    "    if filename == None:\n",
    "        if show_plot:\n",
    "            if inline:\n",
    "                iplot(fig)\n",
    "            else:\n",
    "                plot(fig)\n",
    "    else:\n",
    "        if show_plot:\n",
    "            if inline:\n",
    "                iplot(fig, filename=filename+'.html')\n",
    "            else:\n",
    "                plot(fig, filename=filename+'.html')\n",
    "        pio.write_image(fig, filename+'.pdf')\n",
    "        pio.write_image(fig, filename+'.png')\n",
    "    \n",
    "    return fig"
   ]
  },
  {
   "cell_type": "code",
   "execution_count": 173,
   "metadata": {},
   "outputs": [
    {
     "ename": "NameError",
     "evalue": "name 'plot_poly_chi2' is not defined",
     "output_type": "error",
     "traceback": [
      "\u001b[0;31m---------------------------------------------------------------------------\u001b[0m",
      "\u001b[0;31mNameError\u001b[0m                                 Traceback (most recent call last)",
      "\u001b[0;32m<ipython-input-173-4993b2c748f2>\u001b[0m in \u001b[0;36m<module>\u001b[0;34m\u001b[0m\n\u001b[0;32m----> 1\u001b[0;31m \u001b[0mfig\u001b[0m \u001b[0;34m=\u001b[0m \u001b[0mplot_poly_chi2\u001b[0m\u001b[0;34m(\u001b[0m\u001b[0;36m4\u001b[0m\u001b[0;34m,\u001b[0m \u001b[0mresult\u001b[0m\u001b[0;34m)\u001b[0m\u001b[0;34m\u001b[0m\u001b[0;34m\u001b[0m\u001b[0m\n\u001b[0m",
      "\u001b[0;31mNameError\u001b[0m: name 'plot_poly_chi2' is not defined"
     ]
    }
   ],
   "source": [
    "fig = plot_poly_chi2(4, result)"
   ]
  },
  {
   "cell_type": "code",
   "execution_count": null,
   "metadata": {},
   "outputs": [],
   "source": [
    "fig = plot_poly_chi2(1, result)"
   ]
  },
  {
   "cell_type": "code",
   "execution_count": null,
   "metadata": {},
   "outputs": [],
   "source": [
    "N = 1\n",
    "len(result.data) - (N+1) # y values"
   ]
  },
  {
   "cell_type": "code",
   "execution_count": 174,
   "metadata": {},
   "outputs": [],
   "source": [
    "def plot_poly_chi2(N, result, filename=None, inline=False, show_plot=True):\n",
    "    dof = len(result.data) - (N+1)\n",
    "    fit_chi2 = result.chisqr\n",
    "    P_at_fit = 1.-stats.chi2.cdf(fit_chi2, dof)\n",
    "    print(f\"Probability of Chi2: {P_at_fit}\")\n",
    "    \n",
    "    lo = min(fit_chi2*0.5, dof / 4)\n",
    "    hi = max(fit_chi2*1.5, 2*dof*1.5)\n",
    "    \n",
    "    n = np.linspace(lo,hi, 1000)\n",
    "\n",
    "    P = stats.chi2.pdf(n, dof)\n",
    "    \n",
    "    n = pd.Series(n, name=\"Chi^2\")\n",
    "    P = pd.Series(P, name=\"p.d.f.\")\n",
    "    \n",
    "    if np.isfinite(P.max()):\n",
    "        ymax = P.max()\n",
    "    else:\n",
    "        ymax = 1.\n",
    "\n",
    "    fig = scatter2d(n,P, show_plot=False)\n",
    "    fig.add_trace(go.Scatter(\n",
    "                            x=[fit_chi2, fit_chi2], y=[0., ymax],\n",
    "                            mode='lines', name=f'Fit Chi^2 = {fit_chi2}',#\"|V|/|B| = A * Temp. + B\",\n",
    "                            line=dict(color='rgb(78, 42, 132)',#'deeppink',\n",
    "                                      width=1,\n",
    "                                      dash='dash')));\n",
    "        \n",
    "    if filename == None:\n",
    "        if show_plot:\n",
    "            if inline:\n",
    "                iplot(fig)\n",
    "            else:\n",
    "                plot(fig)\n",
    "    else:\n",
    "        if show_plot:\n",
    "            if inline:\n",
    "                iplot(fig, filename=filename+'.html')\n",
    "            else:\n",
    "                plot(fig, filename=filename+'.html')\n",
    "        pio.write_image(fig, filename+'.pdf')\n",
    "        pio.write_image(fig, filename+'.png')\n",
    "    \n",
    "    return fig"
   ]
  },
  {
   "cell_type": "code",
   "execution_count": 175,
   "metadata": {},
   "outputs": [
    {
     "name": "stdout",
     "output_type": "stream",
     "text": [
      "Probability of Chi2: 0.0\n"
     ]
    }
   ],
   "source": [
    "fig = plot_poly_chi2(4, result)"
   ]
  },
  {
   "cell_type": "code",
   "execution_count": null,
   "metadata": {},
   "outputs": [],
   "source": [
    "len(result.data)"
   ]
  },
  {
   "cell_type": "code",
   "execution_count": null,
   "metadata": {},
   "outputs": [],
   "source": [
    "len(result.params) - 2"
   ]
  },
  {
   "cell_type": "code",
   "execution_count": null,
   "metadata": {},
   "outputs": [],
   "source": [
    "result.chisqr"
   ]
  },
  {
   "cell_type": "code",
   "execution_count": null,
   "metadata": {},
   "outputs": [],
   "source": [
    "result."
   ]
  },
  {
   "cell_type": "code",
   "execution_count": null,
   "metadata": {},
   "outputs": [],
   "source": []
  },
  {
   "cell_type": "code",
   "execution_count": null,
   "metadata": {},
   "outputs": [],
   "source": []
  },
  {
   "cell_type": "code",
   "execution_count": null,
   "metadata": {},
   "outputs": [],
   "source": [
    "result.eval(x=df[f\"{probe}_Cal_T\"])"
   ]
  },
  {
   "cell_type": "raw",
   "metadata": {},
   "source": [
    "**result.params"
   ]
  },
  {
   "cell_type": "code",
   "execution_count": null,
   "metadata": {},
   "outputs": [],
   "source": [
    "polynomial(np.array([0,1,2]), len(result.params)-2, **result.params)"
   ]
  },
  {
   "cell_type": "code",
   "execution_count": null,
   "metadata": {},
   "outputs": [],
   "source": []
  },
  {
   "cell_type": "code",
   "execution_count": null,
   "metadata": {},
   "outputs": [],
   "source": []
  },
  {
   "cell_type": "code",
   "execution_count": null,
   "metadata": {},
   "outputs": [],
   "source": []
  },
  {
   "cell_type": "code",
   "execution_count": null,
   "metadata": {},
   "outputs": [],
   "source": [
    "    df_[\"Bmag_lsq\"] = volt_3rd(x_dat, A_fit, B_fit, C_fit, D_fit)\n",
    "    df_[\"Bmag_lsq_avg\"] = volt_3rd(x_dat, A_fit_avg, B_fit_avg, C_fit_avg, D_fit_avg)\n",
    "\n",
    "    ts = np.linspace(x_dat.min(), x_dat.max(), 25)\n",
    "\n",
    "    B_lsq = volt_3rd(ts, A_fit, B_fit, C_fit, D_fit)\n",
    "    B_lsq_avg = volt_3rd(ts, A_fit_avg, B_fit_avg, C_fit_avg, D_fit_avg)\n",
    "\n",
    "    B_lsq = pd.Series(B_lsq, name=\"Stable Temp Fit\")\n",
    "    B_lsq_avg = pd.Series(B_lsq_avg, name=\"Stable Temp Averaged Fit\")\n",
    "\n",
    "    averaged=True\n",
    "\n",
    "    fig = scatter2d(x_dat,\n",
    "                    y_dat,\n",
    "                    df_.days_delta, opacity=0.8, show_plot=False)\n",
    "\n",
    "    fig.add_trace(go.Scatter(\n",
    "                        x=ts, y=B_lsq,\n",
    "                        mode='lines', name='Linear fit',#\"|V|/|B| = A * Temp. + B\",\n",
    "                        line=dict(color='rgb(78, 42, 132)',#'deeppink',\n",
    "                                  width=1,\n",
    "                                  dash='dash')));\n",
    "    #fig.add_trace(go.Scatter(\n",
    "    #                    x=ts, y=B_lsq_avg,\n",
    "    #                    mode='lines', name=\"mean(|V|/|B|) = A * mean(Temp.) + B\",\n",
    "    #                    line=dict(color='purple', width=1,\n",
    "    #                              dash='dash')));\n",
    "\n",
    "    fig.update_traces(marker=dict(size=1));\n",
    "\n",
    "    if averaged:\n",
    "        fig.add_trace(go.Scatter(\n",
    "            x= xs,\n",
    "            y= ys,\n",
    "            mode='markers',\n",
    "            name='Averaged Data',\n",
    "            error_x=dict(\n",
    "                type='data',\n",
    "                array=xerrs,\n",
    "                width=1,\n",
    "                thickness=1.,\n",
    "                visible=True),\n",
    "            error_y=dict(\n",
    "                type='data',\n",
    "                array=yerrs,\n",
    "                width=1,\n",
    "                thickness=1.,\n",
    "                visible=True),\n",
    "            marker=dict(\n",
    "                size=3,\n",
    "                color=\"Red\",\n",
    "            )\n",
    "        ))\n",
    "\n",
    "    #eqn = f\"Volt. = {A_fit:.2E} * Temp. + {B_fit:.2E}\"\n",
    "    eqn = f\"y = {A_fit:.2E} * x + {B_fit:.2E} * x^2 + {C_fit:.2E} * x^3 + {D_fit:.2E}\"\n",
    "\n",
    "    i = 6\n",
    "    fig.add_annotation(\n",
    "        go.layout.Annotation(\n",
    "                x=ts[i],\n",
    "                y=B_lsq.iloc[i],\n",
    "                text=eqn,\n",
    "                font=dict(\n",
    "                    #family=\"Courier New, monospace\",\n",
    "                    size=14,\n",
    "                    color=\"#ffffff\"\n",
    "                ),\n",
    "                align=\"center\",\n",
    "                arrowhead=2,\n",
    "                arrowsize=1,\n",
    "                arrowwidth=2,\n",
    "                arrowcolor=\"#636363\",\n",
    "                ax=+250,\n",
    "                ay=-25,\n",
    "                bordercolor=\"#c7c7c7\",\n",
    "                borderwidth=2,\n",
    "                borderpad=4,\n",
    "                bgcolor='rgb(78, 42, 132)',#\"#ff7f0e\",\n",
    "                opacity=0.7,\n",
    "                showarrow=True#False\n",
    "        )\n",
    "    )\n",
    "\n",
    "    fig.update_layout(title=\"Scaled Hall Voltage vs. Hall Probe Temperature\")\n",
    "    fig.update_xaxes(title_text='Hall Probe Temperature [deg C]')\n",
    "    fig.update_yaxes(title_text='|V_Hall| / NMR [micro V / T]')\n",
    "    fig.update_layout( width=1000,height=600,)\n",
    "\n",
    "    filename = plotdir+\"scaled_voltage_vs_temperature_3rd_order\"\n",
    "\n",
    "    plot(fig, filename=filename+'.html')\n",
    "\n",
    "    pio.write_image(fig, filename+\".pdf\")\n",
    "    pio.write_image(fig, filename+\".png\")\n",
    "\n",
    "\n",
    "\n",
    "    def chi2(f, x, std):\n",
    "        return np.sum(np.square((x-f)/std))\n",
    "\n",
    "    len(sigma_B)\n",
    "\n",
    "    len(df_)\n",
    "\n",
    "    fit_chi2 = chi2(df_[\"Bmag_lsq\"], df_[\"Scaled Hall Voltage\"], sigma_B)\n",
    "    fit_chi2\n",
    "\n",
    "    dof = len(df_) - 3#4 # 4 parameter fit\n",
    "    dof\n",
    "\n",
    "    n = np.linspace(1000,20000, 1000)\n",
    "\n",
    "    P = stats.chi2.pdf(n, dof)\n",
    "\n",
    "    # 3rd order\n",
    "    plt.plot(n,P)\n",
    "    plt.plot([fit_chi2, fit_chi2],[0., P.max()], 'r--');\n",
    "\n",
    "    # 4th order\n",
    "    plt.plot(n,P)\n",
    "    plt.plot([fit_chi2, fit_chi2],[0., P.max()], 'r--');"
   ]
  },
  {
   "cell_type": "code",
   "execution_count": null,
   "metadata": {},
   "outputs": [],
   "source": []
  },
  {
   "cell_type": "code",
   "execution_count": null,
   "metadata": {},
   "outputs": [],
   "source": []
  },
  {
   "cell_type": "code",
   "execution_count": null,
   "metadata": {},
   "outputs": [],
   "source": []
  },
  {
   "cell_type": "code",
   "execution_count": null,
   "metadata": {},
   "outputs": [],
   "source": []
  },
  {
   "cell_type": "code",
   "execution_count": null,
   "metadata": {},
   "outputs": [],
   "source": []
  },
  {
   "cell_type": "code",
   "execution_count": null,
   "metadata": {},
   "outputs": [],
   "source": []
  },
  {
   "cell_type": "markdown",
   "metadata": {},
   "source": [
    "## OLD"
   ]
  },
  {
   "cell_type": "code",
   "execution_count": null,
   "metadata": {},
   "outputs": [],
   "source": []
  },
  {
   "cell_type": "code",
   "execution_count": null,
   "metadata": {},
   "outputs": [],
   "source": [
    "high_point = (df[f\"{probe}_Cal_T\"] > 20) & (df[f\"{probe}_Cal_T\"] < 21)\n",
    "low_point = (df[f\"{probe}_Cal_T\"] > 16) & (df[f\"{probe}_Cal_T\"] < 17)\n",
    "mid_point = (df[f\"{probe}_Cal_T\"] > 18) & (df[f\"{probe}_Cal_T\"] < 19)\n",
    "h = high_point & stable_temp\n",
    "l = low_point & stable_temp\n",
    "m = mid_point & stable_temp"
   ]
  },
  {
   "cell_type": "code",
   "execution_count": null,
   "metadata": {},
   "outputs": [],
   "source": [
    "plt.hist(df[h][f\"{probe}_Raw_Bmag\"]/df[h][\"NMR [T]\"], bins=50);"
   ]
  },
  {
   "cell_type": "code",
   "execution_count": null,
   "metadata": {},
   "outputs": [],
   "source": [
    "fig = scatter2d(df[h][f\"{probe}_Cal_T\"], df[h][f\"{probe}_Raw_Bmag\"]/df[h][\"NMR [T]\"],\n",
    "                df[h].days_delta, inline=False)"
   ]
  },
  {
   "cell_type": "code",
   "execution_count": null,
   "metadata": {},
   "outputs": [],
   "source": [
    "hist2 = plt.hist2d(df[h][f\"{probe}_Cal_T\"], df[h][f\"{probe}_Raw_Bmag\"]/df[h][\"NMR [T]\"], bins=35);"
   ]
  },
  {
   "cell_type": "code",
   "execution_count": null,
   "metadata": {},
   "outputs": [],
   "source": [
    "hist2[1]"
   ]
  },
  {
   "cell_type": "code",
   "execution_count": null,
   "metadata": {},
   "outputs": [],
   "source": [
    "36*36"
   ]
  },
  {
   "cell_type": "code",
   "execution_count": null,
   "metadata": {},
   "outputs": [],
   "source": [
    "len(hist2[1])"
   ]
  },
  {
   "cell_type": "code",
   "execution_count": null,
   "metadata": {},
   "outputs": [],
   "source": [
    "len(hist2[2])"
   ]
  },
  {
   "cell_type": "code",
   "execution_count": null,
   "metadata": {},
   "outputs": [],
   "source": [
    "int(np.floor(hist2[0].argmax() / 36))"
   ]
  },
  {
   "cell_type": "code",
   "execution_count": null,
   "metadata": {},
   "outputs": [],
   "source": [
    "int(round(((hist2[0].argmax() / 35) - int(np.floor(hist2[0].argmax() / 35))) * 35))"
   ]
  },
  {
   "cell_type": "code",
   "execution_count": null,
   "metadata": {},
   "outputs": [],
   "source": [
    "1296-int(np.floor(hist2[0].argmax() / 36))*36"
   ]
  },
  {
   "cell_type": "code",
   "execution_count": null,
   "metadata": {},
   "outputs": [],
   "source": [
    "hist2[0][int(np.floor(hist2[0].argmax() / 35)), int(round(((hist2[0].argmax() / 35) - int(np.floor(hist2[0].argmax() / 35))) * 35))]"
   ]
  },
  {
   "cell_type": "code",
   "execution_count": null,
   "metadata": {},
   "outputs": [],
   "source": [
    "for x, y in np.argwhere(hist2[0] == hist2[0].max()):\n",
    "    # center is between x and x+1\n",
    "    print(np.average(hist2[1][x:x + 2]), np.average(hist2[2][y:y + 2]))"
   ]
  },
  {
   "cell_type": "code",
   "execution_count": null,
   "metadata": {},
   "outputs": [],
   "source": [
    "(df[h][f\"{probe}_Raw_Bmag\"]/df[h][\"NMR [T]\"]).describe()"
   ]
  },
  {
   "cell_type": "code",
   "execution_count": null,
   "metadata": {},
   "outputs": [],
   "source": [
    "df[h][f\"{probe}_Cal_T\"].describe()"
   ]
  },
  {
   "cell_type": "code",
   "execution_count": null,
   "metadata": {},
   "outputs": [],
   "source": []
  },
  {
   "cell_type": "code",
   "execution_count": null,
   "metadata": {},
   "outputs": [],
   "source": [
    "fig = scatter2d(df[stable_temp].index, df[stable_temp][\"Floor\"], inline=False)"
   ]
  },
  {
   "cell_type": "code",
   "execution_count": null,
   "metadata": {},
   "outputs": [],
   "source": [
    "fig = scatter2d(df.index, df[\"Floor\"].diff(5).rolling(5).mean(), inline=False)"
   ]
  },
  {
   "cell_type": "code",
   "execution_count": null,
   "metadata": {},
   "outputs": [],
   "source": [
    "df[\"Roof\"].diff(4).plot()"
   ]
  },
  {
   "cell_type": "code",
   "execution_count": null,
   "metadata": {},
   "outputs": [],
   "source": [
    "df[\"NMR [T]\"].plot()\n",
    "#df[\"Roof\"].diff(1).plot();"
   ]
  },
  {
   "cell_type": "code",
   "execution_count": null,
   "metadata": {},
   "outputs": [],
   "source": []
  },
  {
   "cell_type": "code",
   "execution_count": null,
   "metadata": {},
   "outputs": [],
   "source": []
  },
  {
   "cell_type": "code",
   "execution_count": null,
   "metadata": {},
   "outputs": [],
   "source": [
    "df_ = df[l|m|h]"
   ]
  },
  {
   "cell_type": "code",
   "execution_count": null,
   "metadata": {},
   "outputs": [],
   "source": [
    "def volt(temp, A, B):\n",
    "    return A * temp + B"
   ]
  },
  {
   "cell_type": "code",
   "execution_count": null,
   "metadata": {},
   "outputs": [],
   "source": [
    "guess = np.array([-1300 / 3.5, 2e6]) # A, B"
   ]
  },
  {
   "cell_type": "code",
   "execution_count": null,
   "metadata": {},
   "outputs": [],
   "source": [
    "x_dat = df_[f\"{probe}_Cal_T\"]\n",
    "#x_dat = df[stable_temp][f\"{probe}_Cal_T\"]"
   ]
  },
  {
   "cell_type": "code",
   "execution_count": null,
   "metadata": {},
   "outputs": [],
   "source": [
    "params, cov = optimization.curve_fit(volt, x_dat, df_[f\"{probe}_Raw_Bmag\"] / df_[\"NMR [T]\"], guess)\n",
    "#params, cov = optimization.curve_fit(volt, x_dat, \n",
    "#                                     df[stable_temp][f\"{probe}_Raw_Bmag\"] / df[stable_temp][\"NMR [T]\"], guess)"
   ]
  },
  {
   "cell_type": "code",
   "execution_count": null,
   "metadata": {},
   "outputs": [],
   "source": [
    "# Bmag ### STABLE TEMP\n",
    "params, cov"
   ]
  },
  {
   "cell_type": "code",
   "execution_count": null,
   "metadata": {},
   "outputs": [],
   "source": [
    "np.sqrt(cov[0,0])"
   ]
  },
  {
   "cell_type": "code",
   "execution_count": null,
   "metadata": {},
   "outputs": [],
   "source": [
    "cov[0,1] / (np.sqrt(cov[0,0])*np.sqrt(cov[1,1]))"
   ]
  },
  {
   "cell_type": "markdown",
   "metadata": {},
   "source": [
    "Parameters have strong correlation"
   ]
  },
  {
   "cell_type": "code",
   "execution_count": null,
   "metadata": {},
   "outputs": [],
   "source": [
    "A_fit, B_fit = params"
   ]
  },
  {
   "cell_type": "code",
   "execution_count": null,
   "metadata": {},
   "outputs": [],
   "source": [
    "df_[\"Bmag_lsq\"] = volt(x_dat, A_fit, B_fit)"
   ]
  },
  {
   "cell_type": "code",
   "execution_count": null,
   "metadata": {},
   "outputs": [],
   "source": []
  },
  {
   "cell_type": "code",
   "execution_count": null,
   "metadata": {},
   "outputs": [],
   "source": [
    "p_low = [df[l][f\"{probe}_Cal_T\"].mean(), (df[l][f\"{probe}_Raw_Bmag\"]/df[l][\"NMR [T]\"]).mean()]\n",
    "p_high = [df[h][f\"{probe}_Cal_T\"].mean(), (df[h][f\"{probe}_Raw_Bmag\"]/df[h][\"NMR [T]\"]).mean()]\n",
    "p_mid = [df[m][f\"{probe}_Cal_T\"].mean(), (df[m][f\"{probe}_Raw_Bmag\"]/df[m][\"NMR [T]\"]).mean()]"
   ]
  },
  {
   "cell_type": "code",
   "execution_count": null,
   "metadata": {},
   "outputs": [],
   "source": [
    "std_low = [df[l][f\"{probe}_Cal_T\"].std(), (df[l][f\"{probe}_Raw_Bmag\"]/df[l][\"NMR [T]\"]).std()]\n",
    "std_high = [df[h][f\"{probe}_Cal_T\"].std(), (df[h][f\"{probe}_Raw_Bmag\"]/df[h][\"NMR [T]\"]).std()]\n",
    "std_mid = [df[m][f\"{probe}_Cal_T\"].std(), (df[m][f\"{probe}_Raw_Bmag\"]/df[m][\"NMR [T]\"]).std()]"
   ]
  },
  {
   "cell_type": "code",
   "execution_count": null,
   "metadata": {},
   "outputs": [],
   "source": [
    "std_low"
   ]
  },
  {
   "cell_type": "code",
   "execution_count": null,
   "metadata": {},
   "outputs": [],
   "source": [
    "fig = scatter2d(df_[f\"{probe}_Cal_T\"],\n",
    "                df_[f\"{probe}_Raw_Bmag\"] / df_[\"NMR [T]\"],\n",
    "                df_.days_delta, show_plot=False)\n",
    "#d = [df[f\"{probe}_Raw_X\"].min(), df[f\"{probe}_Raw_X\"].max()]\n",
    "fig.add_trace(go.Scatter(\n",
    "                    x=df_[f\"{probe}_Cal_T\"], y=df_[\"Bmag_lsq\"],\n",
    "                    mode='lines', name=\"|V|/|B| = A * Temp. + B\",\n",
    "                    line=dict(color='deeppink', width=1,\n",
    "                              dash='dash')));\n",
    "#plot(fig)\n",
    "\n",
    "fig.update_traces(marker=dict(size=1));\n",
    "#plot(fig);\n",
    "\n",
    "fig.add_trace(go.Scatter(\n",
    "    x= [p_low[0],p_mid[0],p_high[0]],\n",
    "    y=[p_low[1],p_mid[1],p_high[1]],\n",
    "    mode='markers',\n",
    "    name='averaged_data',\n",
    "    error_x=dict(\n",
    "        type='data',\n",
    "        array=[std_low[0], std_mid[0], std_high[0]],\n",
    "        width=1,\n",
    "        thickness=1.,\n",
    "        visible=True),\n",
    "    error_y=dict(\n",
    "        type='data',\n",
    "        array=[std_low[1], std_mid[1], std_high[1]],\n",
    "        width=1,\n",
    "        thickness=1.,\n",
    "        visible=True),\n",
    "    marker=dict(\n",
    "        size=4,\n",
    "        color=\"Red\",\n",
    "    )\n",
    "))\n",
    "\n",
    "fig.update_layout(title=\"Scaled Hall Voltage vs. Hall Probe Temperature\")\n",
    "fig.update_xaxes(title_text='Hall Probe Temperature [deg C]')\n",
    "fig.update_yaxes(title_text='|V_Hall| / NMR [micro V / T]')\n",
    "fig.update_layout( width=1200,height=900,)\n",
    "\n",
    "#fig = go.Figure(traces)\n",
    "plot(fig, filename=plotdir+\"temp_fit_2point_aggregate.html\")"
   ]
  },
  {
   "cell_type": "code",
   "execution_count": null,
   "metadata": {},
   "outputs": [],
   "source": [
    "pio.write_image(fig, plotdir+\"temp_fit_2point_aggregate.pdf\")\n",
    "pio.write_image(fig, plotdir+\"temp_fit_2point_aggregate.png\")"
   ]
  },
  {
   "cell_type": "code",
   "execution_count": null,
   "metadata": {},
   "outputs": [],
   "source": [
    "std_low"
   ]
  },
  {
   "cell_type": "code",
   "execution_count": null,
   "metadata": {},
   "outputs": [],
   "source": [
    "std_mid"
   ]
  },
  {
   "cell_type": "code",
   "execution_count": null,
   "metadata": {},
   "outputs": [],
   "source": [
    "std_high"
   ]
  },
  {
   "cell_type": "code",
   "execution_count": null,
   "metadata": {},
   "outputs": [],
   "source": [
    "### pick std = 55\n",
    "std_volt = 45.#55."
   ]
  },
  {
   "cell_type": "code",
   "execution_count": null,
   "metadata": {},
   "outputs": [],
   "source": [
    "def chi2(f, x, std):\n",
    "    return np.sum(np.square((x-f)/std))"
   ]
  },
  {
   "cell_type": "code",
   "execution_count": null,
   "metadata": {},
   "outputs": [],
   "source": [
    "fit_chi2 = chi2(df_[\"Bmag_lsq\"], df_[f\"{probe}_Raw_Bmag\"]/df_[\"NMR [T]\"], std_volt)\n",
    "fit_chi2"
   ]
  },
  {
   "cell_type": "code",
   "execution_count": null,
   "metadata": {},
   "outputs": [],
   "source": [
    "# check std\n",
    "df_2 = df_[100:500]"
   ]
  },
  {
   "cell_type": "code",
   "execution_count": null,
   "metadata": {},
   "outputs": [],
   "source": [
    "fig = scatter2d(df_2.index, df_2[f\"{probe}_Raw_Bmag\"]/df_2[\"NMR [T]\"],\n",
    "               inline=False)"
   ]
  },
  {
   "cell_type": "code",
   "execution_count": null,
   "metadata": {},
   "outputs": [],
   "source": [
    "scaled_B = df_2[f\"{probe}_Raw_Bmag\"]/df_2[\"NMR [T]\"]\n",
    "scaled_B.name = \"Scaled |V|/|B|\""
   ]
  },
  {
   "cell_type": "code",
   "execution_count": null,
   "metadata": {},
   "outputs": [],
   "source": [
    "fig = histo(scaled_B, bins=25,\n",
    "               inline=False)"
   ]
  },
  {
   "cell_type": "code",
   "execution_count": null,
   "metadata": {},
   "outputs": [],
   "source": [
    "dof = len(df_) - 2\n",
    "dof"
   ]
  },
  {
   "cell_type": "code",
   "execution_count": null,
   "metadata": {},
   "outputs": [],
   "source": [
    "stats.chi2.pdf(6300, 6325)"
   ]
  },
  {
   "cell_type": "code",
   "execution_count": null,
   "metadata": {},
   "outputs": [],
   "source": [
    "n = np.linspace(0, 7000, 1000)"
   ]
  },
  {
   "cell_type": "code",
   "execution_count": null,
   "metadata": {},
   "outputs": [],
   "source": [
    "P = stats.chi2.pdf(n, dof)"
   ]
  },
  {
   "cell_type": "code",
   "execution_count": null,
   "metadata": {},
   "outputs": [],
   "source": [
    "plt.plot(n,P)\n",
    "plt.plot([fit_chi2, fit_chi2],[0., P.max()], 'r--');"
   ]
  },
  {
   "cell_type": "code",
   "execution_count": null,
   "metadata": {},
   "outputs": [],
   "source": [
    "n[P.argmax()]"
   ]
  },
  {
   "cell_type": "markdown",
   "metadata": {},
   "source": [
    "## Magnet Behavior"
   ]
  },
  {
   "cell_type": "code",
   "execution_count": null,
   "metadata": {},
   "outputs": [],
   "source": [
    "probes"
   ]
  },
  {
   "cell_type": "code",
   "execution_count": null,
   "metadata": {},
   "outputs": [],
   "source": [
    "x_dat = df.index\n",
    "y_dat = df[f\"{probes[0]}_Raw_X\"]"
   ]
  },
  {
   "cell_type": "code",
   "execution_count": null,
   "metadata": {},
   "outputs": [],
   "source": [
    "fig = scatter2d(x_dat, y_dat, df.days_delta, inline=False)"
   ]
  },
  {
   "cell_type": "code",
   "execution_count": null,
   "metadata": {},
   "outputs": [],
   "source": []
  }
 ],
 "metadata": {
  "kernelspec": {
   "display_name": "Python [conda env:Mu2E]",
   "language": "python",
   "name": "conda-env-Mu2E-py"
  },
  "language_info": {
   "codemirror_mode": {
    "name": "ipython",
    "version": 3
   },
   "file_extension": ".py",
   "mimetype": "text/x-python",
   "name": "python",
   "nbconvert_exporter": "python",
   "pygments_lexer": "ipython3",
   "version": "3.7.4"
  }
 },
 "nbformat": 4,
 "nbformat_minor": 2
}
