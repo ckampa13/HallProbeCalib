{
 "cells": [
  {
   "cell_type": "markdown",
   "metadata": {},
   "source": [
    "## Imports"
   ]
  },
  {
   "cell_type": "code",
   "execution_count": 1,
   "metadata": {},
   "outputs": [],
   "source": [
    "%load_ext autoreload\n",
    "%autoreload 2"
   ]
  },
  {
   "cell_type": "code",
   "execution_count": 3,
   "metadata": {},
   "outputs": [
    {
     "data": {
      "text/html": [
       "        <script type=\"text/javascript\">\n",
       "        window.PlotlyConfig = {MathJaxConfig: 'local'};\n",
       "        if (window.MathJax) {MathJax.Hub.Config({SVG: {font: \"STIX-Web\"}});}\n",
       "        if (typeof require !== 'undefined') {\n",
       "        require.undef(\"plotly\");\n",
       "        requirejs.config({\n",
       "            paths: {\n",
       "                'plotly': ['https://cdn.plot.ly/plotly-latest.min']\n",
       "            }\n",
       "        });\n",
       "        require(['plotly'], function(Plotly) {\n",
       "            window._Plotly = Plotly;\n",
       "        });\n",
       "        }\n",
       "        </script>\n",
       "        "
      ]
     },
     "metadata": {},
     "output_type": "display_data"
    }
   ],
   "source": [
    "import numpy as np\n",
    "import pandas as pd\n",
    "import pickle as pkl\n",
    "from datetime import datetime\n",
    "from dateutil import parser\n",
    "from datetime import datetime\n",
    "from sys import getsizeof\n",
    "import re\n",
    "\n",
    "import operator\n",
    "from scipy import stats\n",
    "import scipy.optimize as optimization\n",
    "\n",
    "import matplotlib.pyplot as plt\n",
    "from mpl_toolkits.mplot3d import Axes3D\n",
    "%matplotlib inline\n",
    "plt.rcParams['figure.figsize'] = (12.0, 8.0)\n",
    "plt.rcParams['axes.axisbelow'] = True\n",
    "\n",
    "from plotly.offline import init_notebook_mode, plot, iplot\n",
    "import plotly.graph_objs as go\n",
    "import plotly.io as pio\n",
    "from plotly.subplots import make_subplots\n",
    "import plotly.express as px\n",
    "init_notebook_mode(True)\n",
    "\n",
    "import seaborn as sns\n",
    "\n",
    "from wand.image import Image as WImage\n",
    "\n",
    "from hallprobecalib import hpc_ext_path\n",
    "from hallprobecalib.hpcplots import scatter2d,scatter3d,histo,py_profile"
   ]
  },
  {
   "cell_type": "code",
   "execution_count": 4,
   "metadata": {},
   "outputs": [],
   "source": [
    "plotdir = hpc_ext_path+'plots/hall_probe_stability/2019-12-04/'"
   ]
  },
  {
   "cell_type": "code",
   "execution_count": 5,
   "metadata": {},
   "outputs": [],
   "source": [
    "pkl_dir = hpc_ext_path+\"datafiles/hall_probe_stability/\"\n",
    "pkl_file_slow = \"hall_stability.run06.raw.slow.pkl\"\n",
    "#pkl_file_fast = \"hall_stability.run06.raw.fast.pkl\"\n",
    "#pkl_file_fast_sparse = \"hall_stability.run06.sparse.fast.pkl\""
   ]
  },
  {
   "cell_type": "code",
   "execution_count": 6,
   "metadata": {},
   "outputs": [],
   "source": [
    "df = pd.read_pickle(pkl_dir+pkl_file_slow)"
   ]
  },
  {
   "cell_type": "code",
   "execution_count": 7,
   "metadata": {},
   "outputs": [],
   "source": [
    "#df_fast = pd.read_pickle(pkl_dir+pkl_file_fast)\n",
    "#df_fast_sparse = pd.read_pickle(pkl_dir+pkl_file_fast_sparse)"
   ]
  },
  {
   "cell_type": "code",
   "execution_count": 8,
   "metadata": {},
   "outputs": [],
   "source": [
    "#df_fast['seconds_delta'].iloc[60:75]"
   ]
  },
  {
   "cell_type": "code",
   "execution_count": 9,
   "metadata": {},
   "outputs": [
    {
     "data": {
      "text/plain": [
       "Datetime\n",
       "2019-12-04 14:38:18      0.0\n",
       "2019-12-04 14:39:08     50.0\n",
       "2019-12-04 14:39:58    100.0\n",
       "2019-12-04 14:40:48    150.0\n",
       "2019-12-04 14:41:38    200.0\n",
       "2019-12-04 14:42:28    250.0\n",
       "2019-12-04 14:43:18    300.0\n",
       "2019-12-04 14:44:09    351.0\n",
       "2019-12-04 14:44:58    400.0\n",
       "2019-12-04 14:45:48    450.0\n",
       "Name: seconds_delta, dtype: float64"
      ]
     },
     "execution_count": 9,
     "metadata": {},
     "output_type": "execute_result"
    }
   ],
   "source": [
    "df['seconds_delta'].head(10)"
   ]
  },
  {
   "cell_type": "code",
   "execution_count": 10,
   "metadata": {},
   "outputs": [],
   "source": [
    "def pplot(fig):\n",
    "    pio.write_image(fig, 'temp.pdf')\n",
    "    img = WImage(filename='temp.pdf')\n",
    "    return img"
   ]
  },
  {
   "cell_type": "markdown",
   "metadata": {},
   "source": [
    "## Cleaning"
   ]
  },
  {
   "cell_type": "code",
   "execution_count": 11,
   "metadata": {},
   "outputs": [],
   "source": [
    "directory = \"/home/ckampa/Dropbox/LogFiles/\"#hpc_ext_path+'datafiles/magnet_stability/nmr/'\n",
    "filename_slow = '2019-12-04 143741slow.txt'#'2019-12-03 162209slow.txt' ## NO NMR IN FIRST FILE"
   ]
  },
  {
   "cell_type": "code",
   "execution_count": 12,
   "metadata": {},
   "outputs": [],
   "source": [
    "df = pd.read_csv(directory+filename_slow)"
   ]
  },
  {
   "cell_type": "code",
   "execution_count": null,
   "metadata": {},
   "outputs": [],
   "source": [
    "df"
   ]
  },
  {
   "cell_type": "code",
   "execution_count": 13,
   "metadata": {},
   "outputs": [],
   "source": [
    "df.columns = df.columns.str.lstrip(\" \")"
   ]
  },
  {
   "cell_type": "code",
   "execution_count": 14,
   "metadata": {},
   "outputs": [],
   "source": [
    "df.drop(\"\", axis=1, inplace=True)"
   ]
  },
  {
   "cell_type": "code",
   "execution_count": null,
   "metadata": {},
   "outputs": [],
   "source": [
    "#df[\"NMR [T]\"]"
   ]
  },
  {
   "cell_type": "code",
   "execution_count": 15,
   "metadata": {},
   "outputs": [],
   "source": [
    "dates = [parser.parse(row.Time) for row in df.itertuples()]# if isdatetime(row.Time.values[0])]"
   ]
  },
  {
   "cell_type": "code",
   "execution_count": 16,
   "metadata": {},
   "outputs": [],
   "source": [
    "df[\"Datetime\"] = pd.to_datetime(dates)#.astype(\"str\")\n",
    "df = df.set_index(\"Datetime\")"
   ]
  },
  {
   "cell_type": "code",
   "execution_count": null,
   "metadata": {},
   "outputs": [],
   "source": [
    "## PLOT ALL\n",
    "#for col in df.columns:\n",
    "#    fig = scatter2d(df.index, df[col], show_plot=False)\n",
    "#    fname = f\"{plotdir}time/all/{col}_vs_time\"\n",
    "#    pio.write_image(fig, fname+\".pdf\")\n",
    "#    pio.write_image(fig, fname+\".png\")"
   ]
  },
  {
   "cell_type": "code",
   "execution_count": 17,
   "metadata": {},
   "outputs": [
    {
     "name": "stdout",
     "output_type": "stream",
     "text": [
      "['6A0000000D61333A', 'C50000000D5E473A', 'DF0000000D5E803A']\n"
     ]
    }
   ],
   "source": [
    "probes = np.array([])\n",
    "for col in df.columns:\n",
    "    #print(df_fast[col].dtype)\n",
    "    if (\"Raw\" in col) or (\"Cal\" in col):#type(df[col].iloc[0]) is np.float64:\n",
    "        #print(f\"{col}\")#\": mean: {df[col].mean()}\")\n",
    "        probes = np.append(probes, col[:16])\n",
    "probes = list(np.unique(probes))\n",
    "print(probes)"
   ]
  },
  {
   "cell_type": "code",
   "execution_count": 18,
   "metadata": {},
   "outputs": [],
   "source": [
    "probe = probes[2]"
   ]
  },
  {
   "cell_type": "code",
   "execution_count": null,
   "metadata": {},
   "outputs": [],
   "source": [
    "probe"
   ]
  },
  {
   "cell_type": "code",
   "execution_count": null,
   "metadata": {
    "scrolled": true
   },
   "outputs": [],
   "source": [
    "for col in df.columns:\n",
    "    #print(df_fast[col].dtype)\n",
    "    if type(df[col].iloc[0]) is np.float64:\n",
    "        print(f\"{col}: mean: {df[col].mean()}\")"
   ]
  },
  {
   "cell_type": "markdown",
   "metadata": {},
   "source": [
    "- Looks like maybe probe \"DF0000000D5E803A\" is in the field\n",
    "- NMR [T] = 0?"
   ]
  },
  {
   "cell_type": "markdown",
   "metadata": {},
   "source": [
    "### Slow Control Data Cleaning"
   ]
  },
  {
   "cell_type": "code",
   "execution_count": 19,
   "metadata": {
    "code_folding": []
   },
   "outputs": [],
   "source": [
    "for probe in probes:\n",
    "    for t in [\"Cal\", \"Raw\"]:\n",
    "        df[f\"{probe}_{t}_Bmag\"] = (df[f\"{probe}_{t}_X\"]**2+df[f\"{probe}_{t}_Y\"]**2+df[f\"{probe}_{t}_Z\"]**2)**(1/2)\n",
    "        df[f\"{probe}_{t}_Res\"] = df[f\"{probe}_{t}_Bmag\"] - df['NMR [T]']\n",
    "        df[f\"{probe}_{t}_Res_Rel\"] = (df[f\"{probe}_{t}_Bmag\"] - df['NMR [T]']) / df['NMR [T]']"
   ]
  },
  {
   "cell_type": "code",
   "execution_count": 20,
   "metadata": {},
   "outputs": [],
   "source": [
    "for B in [\"X\", \"Y\", \"Z\"]:\n",
    "    for probe in probes:\n",
    "        for t in [\"Cal\", \"Raw\"]:\n",
    "            #df[f\"{probe}_{t}_Bmag\"] = (df[f\"{probe}_{t}_X\"]**2+df[f\"{probe}_{t}_Y\"]**2+df[f\"{probe}_{t}_Z\"]**2)**(1/2)\n",
    "            df[f\"{probe}_{t}_{B}_Res\"] = df[f\"{probe}_{t}_{B}\"] - df['NMR [T]']\n",
    "            df[f\"{probe}_{t}_{B}_Res_Rel\"] = (df[f\"{probe}_{t}_{B}\"] - df['NMR [T]']) / df['NMR [T]']"
   ]
  },
  {
   "cell_type": "code",
   "execution_count": null,
   "metadata": {
    "scrolled": true
   },
   "outputs": [],
   "source": [
    "## PLOT HISTOS\n",
    "for probe in probes:\n",
    "    for t in [\"Cal\", \"Raw\"]:\n",
    "        fig = histo(df[f\"{probe}_{t}_Bmag\"], bins=50, show_plot=False)\n",
    "        pio.write_image(fig, plotdir+f\"histo/{probe}_{t}_Bmag.pdf\")\n",
    "        pio.write_image(fig, plotdir+f\"histo/{probe}_{t}_Bmag.png\")"
   ]
  },
  {
   "cell_type": "code",
   "execution_count": null,
   "metadata": {},
   "outputs": [],
   "source": [
    "## RES HISTOS\n",
    "for t in [\"Cal\", \"Raw\"]:\n",
    "    for probe in probes:\n",
    "        for B in [\"X\",\"Y\",\"Z\"]:\n",
    "            fig = histo(df[f\"{probe}_{t}_{B}_Res\"], bins=50, show_plot=False)\n",
    "            pio.write_image(fig, plotdir+f\"histo/residuals/component/{probe}_{t}_{B}_Res.pdf\")\n",
    "            pio.write_image(fig, plotdir+f\"histo/residuals/component/{probe}_{t}_{B}_Res.png\")"
   ]
  },
  {
   "cell_type": "code",
   "execution_count": null,
   "metadata": {},
   "outputs": [],
   "source": [
    "## REL_RES HISTOS\n",
    "for t in [\"Cal\", \"Raw\"]:\n",
    "    for probe in probes:\n",
    "        for B in [\"X\",\"Y\",\"Z\"]:\n",
    "            fig = histo(df[f\"{probe}_{t}_{B}_Res_Rel\"], bins=50, show_plot=False)\n",
    "            pio.write_image(fig, plotdir+f\"histo/relative_residuals/component/{probe}_{t}_{B}_Res_Rel.pdf\")\n",
    "            pio.write_image(fig, plotdir+f\"histo/relative_residuals/component/{probe}_{t}_{B}_Res_Rel.png\")"
   ]
  },
  {
   "cell_type": "code",
   "execution_count": null,
   "metadata": {},
   "outputs": [],
   "source": [
    "## BMAG RES HISTOS\n",
    "for res in [\"Res\", \"Res_Rel\"]:\n",
    "    if res == \"Res\":\n",
    "        p = \"residuals\"\n",
    "    else:\n",
    "        p = \"relative_residuals\"\n",
    "    for t in [\"Cal\", \"Raw\"]:\n",
    "        for probe in probes:\n",
    "            #for B in [\"X\",\"Y\",\"Z\"]:\n",
    "            fig = histo(df[f\"{probe}_{t}_{res}\"], bins=50, show_plot=False)\n",
    "            pio.write_image(fig, plotdir+f\"histo/{p}/{probe}_{t}_Bmag_{res}.pdf\")\n",
    "            pio.write_image(fig, plotdir+f\"histo/{p}/{probe}_{t}_Bmag_{res}.png\")"
   ]
  },
  {
   "cell_type": "code",
   "execution_count": 21,
   "metadata": {},
   "outputs": [],
   "source": [
    "df[\"seconds_delta\"] = (df.index - df.index[0]).total_seconds()\n",
    "df[\"hours_delta\"] = (df.index - df.index[0]).total_seconds()/60**2\n",
    "df[\"days_delta\"] = (df.index - df.index[0]).total_seconds()/(24*60**2)"
   ]
  },
  {
   "cell_type": "code",
   "execution_count": 22,
   "metadata": {},
   "outputs": [
    {
     "data": {
      "text/plain": [
       "True"
      ]
     },
     "execution_count": 22,
     "metadata": {},
     "output_type": "execute_result"
    }
   ],
   "source": [
    "type(df.days_delta) is not list"
   ]
  },
  {
   "cell_type": "code",
   "execution_count": null,
   "metadata": {
    "scrolled": false
   },
   "outputs": [],
   "source": [
    "# test new colors_list arg in scatter2d\n",
    "fig = scatter2d(df.index, df[\"NMR [T]\"], colors_list=df.days_delta, markers=True)"
   ]
  },
  {
   "cell_type": "code",
   "execution_count": null,
   "metadata": {
    "scrolled": false
   },
   "outputs": [],
   "source": [
    "pplot(fig)"
   ]
  },
  {
   "cell_type": "code",
   "execution_count": null,
   "metadata": {},
   "outputs": [],
   "source": [
    "# cal"
   ]
  },
  {
   "cell_type": "code",
   "execution_count": 23,
   "metadata": {},
   "outputs": [],
   "source": [
    "for t in [\"Cal\", \"Raw\"]:\n",
    "    for probe in probes:\n",
    "        df[f\"{probe}_{t}_Transverse\"] = (df[f\"{probe}_Cal_X\"]**2+df[f\"{probe}_Cal_Y\"]**2)**(1/2)\n",
    "        df[f\"{probe}_{t}_Theta\"] = np.arccos(df[f\"{probe}_Cal_Z\"]/df[f\"{probe}_Cal_Bmag\"])\n",
    "        df[f\"{probe}_{t}_Phi\"] = np.arccos(df[f\"{probe}_Cal_X\"]/df[f\"{probe}_Cal_Transverse\"])"
   ]
  },
  {
   "cell_type": "code",
   "execution_count": null,
   "metadata": {},
   "outputs": [],
   "source": [
    "## PLOT HISTO ANGLE\n",
    "for probe in probes:\n",
    "    for angle in [\"Transverse\", \"Theta\", \"Phi\"]:\n",
    "        fig = histo(df[f\"{probe}_Cal_{angle}\"], bins=30, show_plot=False)\n",
    "        pio.write_image(fig, plotdir+f\"histo/angles/{probe}_Cal_{angle}.pdf\")\n",
    "        pio.write_image(fig, plotdir+f\"histo/angles/{probe}_Cal_{angle}.png\")"
   ]
  },
  {
   "cell_type": "code",
   "execution_count": null,
   "metadata": {},
   "outputs": [],
   "source": [
    "## PLOT ANGLE\n",
    "for probe in probes:\n",
    "    for angle in [\"Transverse\", \"Theta\", \"Phi\"]:\n",
    "        fig = scatter2d(df.index, df[f\"{probe}_Cal_{angle}\"], show_plot=False)\n",
    "        pio.write_image(fig, plotdir+f\"time/angles/{probe}_Cal_{angle}.pdf\")\n",
    "        pio.write_image(fig, plotdir+f\"time/angles/{probe}_Cal_{angle}.png\")"
   ]
  },
  {
   "cell_type": "code",
   "execution_count": 24,
   "metadata": {},
   "outputs": [],
   "source": [
    "# raw\n",
    "for probe in probes:\n",
    "    df[f\"{probe}_Raw_Bmag\"] = (df[f\"{probe}_Raw_X\"]**2+df[f\"{probe}_Raw_Y\"]**2+df[f\"{probe}_Raw_Z\"]**2)**(1/2)\n",
    "\n",
    "for probe in probes:\n",
    "    df[f\"{probe}_Raw_Transverse\"] = (df[f\"{probe}_Raw_X\"]**2+df[f\"{probe}_Raw_Y\"]**2)**(1/2)\n",
    "    df[f\"{probe}_Raw_Theta\"] = np.arccos(df[f\"{probe}_Raw_Z\"]/df[f\"{probe}_Raw_Bmag\"])\n",
    "    df[f\"{probe}_Raw_Phi\"] = np.arccos(df[f\"{probe}_Raw_X\"]/df[f\"{probe}_Raw_Transverse\"])"
   ]
  },
  {
   "cell_type": "code",
   "execution_count": null,
   "metadata": {},
   "outputs": [],
   "source": [
    "## PLOT ANGLES RAW\n",
    "for probe in probes:\n",
    "    for angle in [\"Transverse\", \"Theta\", \"Phi\"]:\n",
    "        fig = histo(df[f\"{probe}_Raw_{angle}\"], bins=30, show_plot=False)\n",
    "        pio.write_image(fig, plotdir+f\"histo/angles/{probe}_Raw_{angle}.pdf\")\n",
    "        pio.write_image(fig, plotdir+f\"histo/angles/{probe}_Raw_{angle}.png\")\n",
    "\n",
    "for probe in probes:\n",
    "    for angle in [\"Transverse\", \"Theta\", \"Phi\"]:\n",
    "        fig = scatter2d(df.index, df[f\"{probe}_Raw_{angle}\"], show_plot=False)\n",
    "        pio.write_image(fig, plotdir+f\"time/angles/{probe}_Raw_{angle}.pdf\")\n",
    "        pio.write_image(fig, plotdir+f\"time/angles/{probe}_Raw_{angle}.png\")"
   ]
  },
  {
   "cell_type": "code",
   "execution_count": 25,
   "metadata": {},
   "outputs": [],
   "source": [
    "df.to_pickle(pkl_dir+pkl_file_slow)"
   ]
  },
  {
   "cell_type": "code",
   "execution_count": 26,
   "metadata": {},
   "outputs": [
    {
     "data": {
      "text/plain": [
       "4.084602"
      ]
     },
     "execution_count": 26,
     "metadata": {},
     "output_type": "execute_result"
    }
   ],
   "source": [
    "getsizeof(df) / 1000/1000"
   ]
  },
  {
   "cell_type": "code",
   "execution_count": 27,
   "metadata": {},
   "outputs": [
    {
     "name": "stdout",
     "output_type": "stream",
     "text": [
      "<class 'pandas.core.frame.DataFrame'>\n",
      "DatetimeIndex: 3198 entries, 2019-12-04 14:38:18 to 2019-12-06 11:02:32\n",
      "Columns: 150 entries, Time to DF0000000D5E803A_Raw_Phi\n",
      "dtypes: float64(149), object(1)\n",
      "memory usage: 3.7+ MB\n"
     ]
    }
   ],
   "source": [
    "df.info()"
   ]
  },
  {
   "cell_type": "markdown",
   "metadata": {},
   "source": [
    "## Plotting"
   ]
  },
  {
   "cell_type": "markdown",
   "metadata": {},
   "source": [
    "### First Attempt"
   ]
  },
  {
   "cell_type": "code",
   "execution_count": 28,
   "metadata": {
    "scrolled": true
   },
   "outputs": [
    {
     "data": {
      "text/plain": [
       "3198"
      ]
     },
     "execution_count": 28,
     "metadata": {},
     "output_type": "execute_result"
    }
   ],
   "source": [
    "len(df)"
   ]
  },
  {
   "cell_type": "code",
   "execution_count": 29,
   "metadata": {},
   "outputs": [
    {
     "data": {
      "text/plain": [
       "1.8506944444444444"
      ]
     },
     "execution_count": 29,
     "metadata": {},
     "output_type": "execute_result"
    }
   ],
   "source": [
    "len(df) * 50 / 60 / 60 / 24"
   ]
  },
  {
   "cell_type": "code",
   "execution_count": null,
   "metadata": {},
   "outputs": [],
   "source": [
    "#fig = scatter2d(df.index, df[\"NMR [T]\"], show_plot=False);"
   ]
  },
  {
   "cell_type": "code",
   "execution_count": null,
   "metadata": {},
   "outputs": [],
   "source": [
    "#pplot(fig)"
   ]
  },
  {
   "cell_type": "code",
   "execution_count": null,
   "metadata": {},
   "outputs": [],
   "source": [
    "#fig = scatter2d(df.index, df[\"NMR [T]\"])"
   ]
  },
  {
   "cell_type": "code",
   "execution_count": null,
   "metadata": {},
   "outputs": [],
   "source": [
    "#plot(fig)"
   ]
  },
  {
   "cell_type": "code",
   "execution_count": null,
   "metadata": {},
   "outputs": [],
   "source": [
    "fig = scatter2d(2*[df.index], [df[\"NMR [T]\"], df[f\"{probe}_Cal_Bmag\"]], show_plot=False);"
   ]
  },
  {
   "cell_type": "code",
   "execution_count": null,
   "metadata": {},
   "outputs": [],
   "source": [
    "plot(fig)"
   ]
  },
  {
   "cell_type": "code",
   "execution_count": null,
   "metadata": {},
   "outputs": [],
   "source": [
    "#fig = scatter2d(df.index, df[\"Chamber Wall CH13\"])"
   ]
  },
  {
   "cell_type": "code",
   "execution_count": null,
   "metadata": {},
   "outputs": [],
   "source": [
    "fig = scatter2d(df.index, df[f\"{probe}_Cal_Res_Rel\"], show_plot=False);"
   ]
  },
  {
   "cell_type": "code",
   "execution_count": null,
   "metadata": {},
   "outputs": [],
   "source": [
    "plot(fig)"
   ]
  },
  {
   "cell_type": "markdown",
   "metadata": {},
   "source": [
    "~ -5e-5 change in residual after changing temperature (+4 deg C)."
   ]
  },
  {
   "cell_type": "code",
   "execution_count": null,
   "metadata": {},
   "outputs": [],
   "source": [
    "fig = histo(df[f\"{probe}_Cal_Res_Rel\"], bins=75, show_plot=False);\n",
    "plot(fig)\n",
    "#fig = histo(df[f\"{probe}_Cal_Res_Rel\"], bins=50, yscale='log')"
   ]
  },
  {
   "cell_type": "code",
   "execution_count": null,
   "metadata": {},
   "outputs": [],
   "source": [
    "df[\"day\"] = df.index.day"
   ]
  },
  {
   "cell_type": "code",
   "execution_count": null,
   "metadata": {},
   "outputs": [],
   "source": [
    "fig = px.histogram(df, x=f\"{probe}_Cal_Res_Rel\", color=\"day\")"
   ]
  },
  {
   "cell_type": "code",
   "execution_count": null,
   "metadata": {},
   "outputs": [],
   "source": [
    "fig.update_layout(\n",
    "    autosize=False,\n",
    "    width=1800,\n",
    "    height=800\n",
    "    #margin=dict(l=20, r=20, t=20, b=20),\n",
    "    #padding=dict(l=20, r=20, t=20, b=20),\n",
    "    #paper_bgcolor=\"LightSteelBlue\",\n",
    ");"
   ]
  },
  {
   "cell_type": "code",
   "execution_count": null,
   "metadata": {},
   "outputs": [],
   "source": [
    "#fig.show()"
   ]
  },
  {
   "cell_type": "code",
   "execution_count": null,
   "metadata": {},
   "outputs": [],
   "source": [
    "plot(fig)"
   ]
  },
  {
   "cell_type": "code",
   "execution_count": null,
   "metadata": {},
   "outputs": [],
   "source": [
    "# temps"
   ]
  },
  {
   "cell_type": "code",
   "execution_count": null,
   "metadata": {},
   "outputs": [],
   "source": [
    "temps_ch = [a for a in df.columns if (\"CH\" in a) and int(a[-2:])<21]# or \"HVAC\" in a]\n",
    "temps_ch.append(\"Hall Element\")\n",
    "temps_ch.append(\"Floor\")\n",
    "temps_ch.append(\"Roof\")\n",
    "temps_ch.append(\"Yoke\")\n",
    "temps_ch.append(\"Yoke (center magnet)\")"
   ]
  },
  {
   "cell_type": "code",
   "execution_count": null,
   "metadata": {},
   "outputs": [],
   "source": [
    "#temps_ch"
   ]
  },
  {
   "cell_type": "code",
   "execution_count": null,
   "metadata": {},
   "outputs": [],
   "source": [
    "#df[temps_ch].describe()"
   ]
  },
  {
   "cell_type": "code",
   "execution_count": null,
   "metadata": {},
   "outputs": [],
   "source": [
    "#df[temps_ch].plot(kind=\"box\")"
   ]
  },
  {
   "cell_type": "code",
   "execution_count": null,
   "metadata": {},
   "outputs": [],
   "source": [
    "#fig = go.Figure()\n",
    "#[fig.add_trace(go.Box(y=df[col], name=col)) for col in temps_ch]\n",
    "\n",
    "#fig.show()"
   ]
  },
  {
   "cell_type": "code",
   "execution_count": null,
   "metadata": {},
   "outputs": [],
   "source": [
    "fig = scatter2d([df.index for c in temps_ch],[df[c] for c in temps_ch],inline=True, show_plot=False);\n",
    "fig.layout.title = \"Temp vs. Datetime\"\n",
    "fig.layout.yaxis.title = \"Temp [deg. C]\";"
   ]
  },
  {
   "cell_type": "code",
   "execution_count": null,
   "metadata": {},
   "outputs": [],
   "source": [
    "#fig.show()\n",
    "#plot(fig)"
   ]
  },
  {
   "cell_type": "code",
   "execution_count": null,
   "metadata": {},
   "outputs": [],
   "source": [
    "#fname = 'temps_scatter'\n",
    "#fname = 'time/temps/temps_scatter_full'\n",
    "#pio.write_image(fig, plotdir+fname+'.pdf')\n",
    "#pio.write_image(fig, plotdir+fname+'.png')\n",
    "#plot(fig, filename=plotdir+fname+'.html', auto_open=False)"
   ]
  },
  {
   "cell_type": "code",
   "execution_count": null,
   "metadata": {},
   "outputs": [],
   "source": [
    "probe = probes[2]"
   ]
  },
  {
   "cell_type": "code",
   "execution_count": null,
   "metadata": {},
   "outputs": [],
   "source": [
    "fig.add_trace(go.Scatter(x=df.index, y=df[f\"{probe}_Cal_T\"], mode=\"lines\", name=f\"{probe}_Cal_T\"));"
   ]
  },
  {
   "cell_type": "code",
   "execution_count": null,
   "metadata": {},
   "outputs": [],
   "source": [
    "#fname = 'temps_scatter'\n",
    "fname = 'time/temps/temps_scatter_full'\n",
    "pio.write_image(fig, plotdir+fname+'.pdf')\n",
    "pio.write_image(fig, plotdir+fname+'.png')\n",
    "plot(fig, filename=plotdir+fname+'.html', auto_open=False)"
   ]
  },
  {
   "cell_type": "code",
   "execution_count": null,
   "metadata": {},
   "outputs": [],
   "source": [
    "plot(fig)"
   ]
  },
  {
   "cell_type": "code",
   "execution_count": null,
   "metadata": {},
   "outputs": [],
   "source": [
    "temps_water = [col for col in df.columns if (\"ICW\" in col) or (\"LCW\" in col)]"
   ]
  },
  {
   "cell_type": "code",
   "execution_count": null,
   "metadata": {},
   "outputs": [],
   "source": [
    "#temps_water"
   ]
  },
  {
   "cell_type": "code",
   "execution_count": null,
   "metadata": {},
   "outputs": [],
   "source": [
    "fig = scatter2d([df.index for c in temps_water],[df[c] for c in temps_water],inline=True, show_plot=False);\n",
    "fig.layout.title = \"Water Temp vs. Datetime\"\n",
    "fig.layout.yaxis.title = \"Temp [deg. C]\""
   ]
  },
  {
   "cell_type": "code",
   "execution_count": null,
   "metadata": {},
   "outputs": [],
   "source": [
    "#fig.show()\n",
    "plot(fig)"
   ]
  },
  {
   "cell_type": "code",
   "execution_count": null,
   "metadata": {},
   "outputs": [],
   "source": [
    "#fname = 'temps_scatter'\n",
    "fname = 'time/temps/temps_scatter_water'\n",
    "pio.write_image(fig, plotdir+fname+'.pdf')\n",
    "pio.write_image(fig, plotdir+fname+'.png')\n",
    "plot(fig, filename=plotdir+fname+'.html', auto_open=False)"
   ]
  },
  {
   "cell_type": "code",
   "execution_count": null,
   "metadata": {},
   "outputs": [],
   "source": [
    "temps_ambient = [col for col in df.columns if (\"Ambient\" in col)]\n",
    "#temps_ambient"
   ]
  },
  {
   "cell_type": "code",
   "execution_count": null,
   "metadata": {},
   "outputs": [],
   "source": [
    "fig = scatter2d([df.index for c in temps_ambient],[df[c] for c in temps_ambient],inline=True, show_plot=False);\n",
    "fig.layout.title = \"Ambient Temp vs. Datetime\"\n",
    "fig.layout.yaxis.title = \"Temp [deg. C]\"\n",
    "#fig.show()\n",
    "plot(fig)"
   ]
  },
  {
   "cell_type": "code",
   "execution_count": null,
   "metadata": {},
   "outputs": [],
   "source": [
    "#fname = 'temps_scatter'\n",
    "fname = 'time/temps/temps_scatter_ambient'\n",
    "pio.write_image(fig, plotdir+fname+'.pdf')\n",
    "pio.write_image(fig, plotdir+fname+'.png')\n",
    "plot(fig, filename=plotdir+fname+'.html', auto_open=False)"
   ]
  },
  {
   "cell_type": "code",
   "execution_count": null,
   "metadata": {},
   "outputs": [],
   "source": [
    "temps_magnet = [col for col in df.columns if ((\"PS\" in col) or (\"Coil\" in col) or (\"Yoke\" in col)) and (\"Orange\" not in col)]\n",
    "#temps_magnet"
   ]
  },
  {
   "cell_type": "code",
   "execution_count": null,
   "metadata": {},
   "outputs": [],
   "source": [
    "fig = scatter2d([df.index for c in temps_magnet],[df[c] for c in temps_magnet],inline=True, show_plot=False);\n",
    "fig.layout.title = \"Magnet Temp vs. Datetime\"\n",
    "fig.layout.yaxis.title = \"Temp [deg. C]\"\n",
    "#fig.show()\n",
    "plot(fig)"
   ]
  },
  {
   "cell_type": "code",
   "execution_count": null,
   "metadata": {},
   "outputs": [],
   "source": [
    "#fname = 'temps_scatter'\n",
    "fname = 'time/temps/temps_scatter_magnet'\n",
    "pio.write_image(fig, plotdir+fname+'.pdf')\n",
    "pio.write_image(fig, plotdir+fname+'.png')\n",
    "plot(fig, filename=plotdir+fname+'.html', auto_open=False)"
   ]
  },
  {
   "cell_type": "markdown",
   "metadata": {},
   "source": [
    "## Seeing Temperature Corrections"
   ]
  },
  {
   "cell_type": "code",
   "execution_count": null,
   "metadata": {},
   "outputs": [],
   "source": [
    "fig = scatter2d(df[f\"{probe}_Cal_T\"], df[\"NMR [T]\"], df.days_delta, show_plot=False)"
   ]
  },
  {
   "cell_type": "code",
   "execution_count": null,
   "metadata": {},
   "outputs": [],
   "source": [
    "plot(fig)"
   ]
  },
  {
   "cell_type": "code",
   "execution_count": null,
   "metadata": {},
   "outputs": [],
   "source": [
    "fig = scatter2d(df[f\"{probe}_Cal_T\"], df[f\"{probe}_Cal_Bmag\"] / df[\"NMR [T]\"], df.days_delta, inline=False)"
   ]
  },
  {
   "cell_type": "code",
   "execution_count": null,
   "metadata": {},
   "outputs": [],
   "source": [
    "fig = scatter2d(df[f\"{probe}_Cal_T\"], df[f\"{probe}_Raw_Bmag\"] / df[\"NMR [T]\"], df.days_delta, inline=False)"
   ]
  },
  {
   "cell_type": "code",
   "execution_count": null,
   "metadata": {},
   "outputs": [],
   "source": [
    "fig = scatter2d(df[f\"{probe}_Cal_T\"], df[f\"{probe}_Raw_Bmag\"], df.days_delta, inline=False)"
   ]
  },
  {
   "cell_type": "code",
   "execution_count": null,
   "metadata": {},
   "outputs": [],
   "source": [
    "fig = scatter2d(3*[df[f\"{probe}_Cal_T\"]], [df[f\"{probe}_Raw_{comp}\"] / df[\"NMR [T]\"] for comp in [\"X\",\"Y\",\"Z\"]],\n",
    "                3*[df.days_delta], inline=False)"
   ]
  },
  {
   "cell_type": "code",
   "execution_count": null,
   "metadata": {},
   "outputs": [],
   "source": [
    "fig = scatter2d(df.index, df[f\"{probe}_Raw_Theta\"], df.days_delta, inline=False)"
   ]
  },
  {
   "cell_type": "code",
   "execution_count": null,
   "metadata": {},
   "outputs": [],
   "source": [
    "fig = scatter2d(df.index, df[f\"{probe}_Raw_Phi\"], df.days_delta, inline=False)"
   ]
  },
  {
   "cell_type": "code",
   "execution_count": 30,
   "metadata": {},
   "outputs": [],
   "source": [
    "def volt(temp, A, B):\n",
    "    return A * temp + B"
   ]
  },
  {
   "cell_type": "code",
   "execution_count": 33,
   "metadata": {},
   "outputs": [],
   "source": [
    "guess = np.array([-1300 / 3.5, 2e6]) # A, B"
   ]
  },
  {
   "cell_type": "code",
   "execution_count": 34,
   "metadata": {},
   "outputs": [],
   "source": [
    "x_dat = df[f\"{probe}_Cal_T\"]\n",
    "#x_dat = df[stable_temp][f\"{probe}_Cal_T\"]"
   ]
  },
  {
   "cell_type": "code",
   "execution_count": 35,
   "metadata": {},
   "outputs": [],
   "source": [
    "params, cov = optimization.curve_fit(volt, x_dat, df[f\"{probe}_Raw_Bmag\"] / df[\"NMR [T]\"], guess)\n",
    "#params, cov = optimization.curve_fit(volt, x_dat, \n",
    "#                                     df[stable_temp][f\"{probe}_Raw_Bmag\"] / df[stable_temp][\"NMR [T]\"], guess)"
   ]
  },
  {
   "cell_type": "code",
   "execution_count": null,
   "metadata": {},
   "outputs": [],
   "source": [
    "# Bmag ### STABLE TEMP\n",
    "params, cov"
   ]
  },
  {
   "cell_type": "code",
   "execution_count": 36,
   "metadata": {
    "code_folding": []
   },
   "outputs": [
    {
     "data": {
      "text/plain": [
       "(array([-1.22617251e+03,  2.83351965e+06]), array([[ 0.24127382, -4.53719568],\n",
       "        [-4.53719568, 85.99842428]]))"
      ]
     },
     "execution_count": 36,
     "metadata": {},
     "output_type": "execute_result"
    }
   ],
   "source": [
    "# Bmag\n",
    "params, cov"
   ]
  },
  {
   "cell_type": "code",
   "execution_count": null,
   "metadata": {},
   "outputs": [],
   "source": [
    "# Bx\n",
    "params, cov"
   ]
  },
  {
   "cell_type": "code",
   "execution_count": null,
   "metadata": {},
   "outputs": [],
   "source": [
    "# By\n",
    "params, cov"
   ]
  },
  {
   "cell_type": "code",
   "execution_count": null,
   "metadata": {},
   "outputs": [],
   "source": [
    "# Bz\n",
    "params, cov"
   ]
  },
  {
   "cell_type": "code",
   "execution_count": 37,
   "metadata": {},
   "outputs": [
    {
     "data": {
      "text/plain": [
       "0.4911963170619433"
      ]
     },
     "execution_count": 37,
     "metadata": {},
     "output_type": "execute_result"
    }
   ],
   "source": [
    "np.sqrt(cov[0,0])"
   ]
  },
  {
   "cell_type": "code",
   "execution_count": 38,
   "metadata": {},
   "outputs": [
    {
     "data": {
      "text/plain": [
       "-0.9960638093495933"
      ]
     },
     "execution_count": 38,
     "metadata": {},
     "output_type": "execute_result"
    }
   ],
   "source": [
    "cov[0,1] / (np.sqrt(cov[0,0])*np.sqrt(cov[1,1]))"
   ]
  },
  {
   "cell_type": "markdown",
   "metadata": {},
   "source": [
    "Parameters have strong correlation"
   ]
  },
  {
   "cell_type": "code",
   "execution_count": 39,
   "metadata": {},
   "outputs": [],
   "source": [
    "A_fit, B_fit = params"
   ]
  },
  {
   "cell_type": "code",
   "execution_count": 40,
   "metadata": {},
   "outputs": [],
   "source": [
    "df[\"Bmag_lsq\"] = volt(x_dat, A_fit, B_fit)"
   ]
  },
  {
   "cell_type": "code",
   "execution_count": null,
   "metadata": {},
   "outputs": [],
   "source": [
    "fig = scatter2d(df[f\"{probe}_Cal_T\"], df[f\"{probe}_Raw_Bmag\"] / df[\"NMR [T]\"], df.days_delta, show_plot=False)\n",
    "#d = [df[f\"{probe}_Raw_X\"].min(), df[f\"{probe}_Raw_X\"].max()]\n",
    "fig.add_trace(go.Scatter(\n",
    "                    x=df[f\"{probe}_Cal_T\"], y=df[\"Bmag_lsq\"],\n",
    "                    mode='lines', name=\"unity\",\n",
    "                    line=dict(color='deeppink', width=2,\n",
    "                              dash='dash')));\n",
    "plot(fig)"
   ]
  },
  {
   "cell_type": "code",
   "execution_count": null,
   "metadata": {},
   "outputs": [],
   "source": [
    "fig.update_traces(marker=dict(size=5));\n",
    "plot(fig);"
   ]
  },
  {
   "cell_type": "markdown",
   "metadata": {},
   "source": [
    "Bmag fit looks pretty good so far (only two data points...)."
   ]
  },
  {
   "cell_type": "code",
   "execution_count": null,
   "metadata": {},
   "outputs": [],
   "source": []
  },
  {
   "cell_type": "code",
   "execution_count": null,
   "metadata": {},
   "outputs": [],
   "source": []
  },
  {
   "cell_type": "markdown",
   "metadata": {},
   "source": [
    "## Aggregate data"
   ]
  },
  {
   "cell_type": "code",
   "execution_count": 44,
   "metadata": {},
   "outputs": [
    {
     "data": {
      "text/plain": [
       "Datetime\n",
       "2019-12-04 14:38:18   NaN\n",
       "2019-12-04 14:39:08   NaN\n",
       "2019-12-04 14:39:58   NaN\n",
       "2019-12-04 14:40:48   NaN\n",
       "2019-12-04 14:41:38   NaN\n",
       "Name: Floor, dtype: float64"
      ]
     },
     "execution_count": 44,
     "metadata": {},
     "output_type": "execute_result"
    }
   ],
   "source": [
    "df[\"Floor\"].diff(5).rolling(5).mean().head()"
   ]
  },
  {
   "cell_type": "code",
   "execution_count": 41,
   "metadata": {},
   "outputs": [],
   "source": [
    "stable_temp = (abs(df[\"Floor\"].diff(5).rolling(5).mean()) < 0.008) #| (np.isnan(df[\"Floor\"].diff(5)))"
   ]
  },
  {
   "cell_type": "code",
   "execution_count": 42,
   "metadata": {},
   "outputs": [],
   "source": [
    "fig = scatter2d(df[stable_temp][f\"{probe}_Cal_T\"],\n",
    "                df[stable_temp][f\"{probe}_Raw_Bmag\"] / df[stable_temp][\"NMR [T]\"],\n",
    "                df[stable_temp].days_delta, show_plot=False)\n",
    "#d = [df[f\"{probe}_Raw_X\"].min(), df[f\"{probe}_Raw_X\"].max()]\n",
    "fig.add_trace(go.Scatter(\n",
    "                    x=df[stable_temp][f\"{probe}_Cal_T\"], y=df[stable_temp][\"Bmag_lsq\"],\n",
    "                    mode='lines', name=\"unity\",\n",
    "                    line=dict(color='deeppink', width=2,\n",
    "                              dash='dash')));\n",
    "#plot(fig)\n",
    "\n",
    "fig.update_traces(marker=dict(size=5));\n",
    "plot(fig);"
   ]
  },
  {
   "cell_type": "code",
   "execution_count": 46,
   "metadata": {},
   "outputs": [],
   "source": [
    "high_point = (df[f\"{probe}_Cal_T\"] > 20) & (df[f\"{probe}_Cal_T\"] < 21)\n",
    "low_point = (df[f\"{probe}_Cal_T\"] > 16) & (df[f\"{probe}_Cal_T\"] < 17)\n",
    "mid_point = (df[f\"{probe}_Cal_T\"] > 18) & (df[f\"{probe}_Cal_T\"] < 19)\n",
    "h = high_point & stable_temp\n",
    "l = low_point & stable_temp\n",
    "m = mid_point & stable_temp"
   ]
  },
  {
   "cell_type": "code",
   "execution_count": null,
   "metadata": {},
   "outputs": [],
   "source": [
    "plt.hist(df[h][f\"{probe}_Raw_Bmag\"]/df[h][\"NMR [T]\"], bins=50);"
   ]
  },
  {
   "cell_type": "code",
   "execution_count": null,
   "metadata": {},
   "outputs": [],
   "source": [
    "fig = scatter2d(df[h][f\"{probe}_Cal_T\"], df[h][f\"{probe}_Raw_Bmag\"]/df[h][\"NMR [T]\"],\n",
    "                df[h].days_delta, inline=False)"
   ]
  },
  {
   "cell_type": "code",
   "execution_count": null,
   "metadata": {},
   "outputs": [],
   "source": [
    "hist2 = plt.hist2d(df[h][f\"{probe}_Cal_T\"], df[h][f\"{probe}_Raw_Bmag\"]/df[h][\"NMR [T]\"], bins=35);"
   ]
  },
  {
   "cell_type": "code",
   "execution_count": null,
   "metadata": {},
   "outputs": [],
   "source": [
    "hist2[1]"
   ]
  },
  {
   "cell_type": "code",
   "execution_count": null,
   "metadata": {},
   "outputs": [],
   "source": [
    "36*36"
   ]
  },
  {
   "cell_type": "code",
   "execution_count": null,
   "metadata": {},
   "outputs": [],
   "source": [
    "len(hist2[1])"
   ]
  },
  {
   "cell_type": "code",
   "execution_count": null,
   "metadata": {},
   "outputs": [],
   "source": [
    "len(hist2[2])"
   ]
  },
  {
   "cell_type": "code",
   "execution_count": null,
   "metadata": {},
   "outputs": [],
   "source": [
    "int(np.floor(hist2[0].argmax() / 36))"
   ]
  },
  {
   "cell_type": "code",
   "execution_count": null,
   "metadata": {},
   "outputs": [],
   "source": [
    "int(round(((hist2[0].argmax() / 35) - int(np.floor(hist2[0].argmax() / 35))) * 35))"
   ]
  },
  {
   "cell_type": "code",
   "execution_count": null,
   "metadata": {},
   "outputs": [],
   "source": [
    "1296-int(np.floor(hist2[0].argmax() / 36))*36"
   ]
  },
  {
   "cell_type": "code",
   "execution_count": null,
   "metadata": {},
   "outputs": [],
   "source": [
    "hist2[0][int(np.floor(hist2[0].argmax() / 35)), int(round(((hist2[0].argmax() / 35) - int(np.floor(hist2[0].argmax() / 35))) * 35))]"
   ]
  },
  {
   "cell_type": "code",
   "execution_count": null,
   "metadata": {},
   "outputs": [],
   "source": [
    "for x, y in np.argwhere(hist2[0] == hist2[0].max()):\n",
    "    # center is between x and x+1\n",
    "    print(np.average(hist2[1][x:x + 2]), np.average(hist2[2][y:y + 2]))"
   ]
  },
  {
   "cell_type": "code",
   "execution_count": null,
   "metadata": {},
   "outputs": [],
   "source": [
    "(df[h][f\"{probe}_Raw_Bmag\"]/df[h][\"NMR [T]\"]).describe()"
   ]
  },
  {
   "cell_type": "code",
   "execution_count": null,
   "metadata": {},
   "outputs": [],
   "source": [
    "df[h][f\"{probe}_Cal_T\"].describe()"
   ]
  },
  {
   "cell_type": "code",
   "execution_count": null,
   "metadata": {},
   "outputs": [],
   "source": []
  },
  {
   "cell_type": "code",
   "execution_count": null,
   "metadata": {},
   "outputs": [],
   "source": [
    "fig = scatter2d(df[stable_temp].index, df[stable_temp][\"Floor\"], inline=False)"
   ]
  },
  {
   "cell_type": "code",
   "execution_count": null,
   "metadata": {},
   "outputs": [],
   "source": [
    "fig = scatter2d(df.index, df[\"Floor\"].diff(5).rolling(5).mean(), inline=False)"
   ]
  },
  {
   "cell_type": "code",
   "execution_count": null,
   "metadata": {},
   "outputs": [],
   "source": [
    "df[\"Roof\"].diff(4).plot()"
   ]
  },
  {
   "cell_type": "code",
   "execution_count": null,
   "metadata": {},
   "outputs": [],
   "source": [
    "df[\"NMR [T]\"].plot()\n",
    "#df[\"Roof\"].diff(1).plot();"
   ]
  },
  {
   "cell_type": "code",
   "execution_count": null,
   "metadata": {},
   "outputs": [],
   "source": []
  },
  {
   "cell_type": "code",
   "execution_count": null,
   "metadata": {},
   "outputs": [],
   "source": []
  },
  {
   "cell_type": "code",
   "execution_count": null,
   "metadata": {},
   "outputs": [],
   "source": []
  },
  {
   "cell_type": "code",
   "execution_count": 47,
   "metadata": {},
   "outputs": [],
   "source": [
    "p_low = [df[l][f\"{probe}_Cal_T\"].mean(), (df[l][f\"{probe}_Raw_Bmag\"]/df[l][\"NMR [T]\"]).mean()]\n",
    "p_high = [df[h][f\"{probe}_Cal_T\"].mean(), (df[h][f\"{probe}_Raw_Bmag\"]/df[h][\"NMR [T]\"]).mean()]\n",
    "p_mid = [df[m][f\"{probe}_Cal_T\"].mean(), (df[m][f\"{probe}_Raw_Bmag\"]/df[m][\"NMR [T]\"]).mean()]"
   ]
  },
  {
   "cell_type": "code",
   "execution_count": 48,
   "metadata": {},
   "outputs": [],
   "source": [
    "std_low = [df[l][f\"{probe}_Cal_T\"].std(), (df[l][f\"{probe}_Raw_Bmag\"]/df[l][\"NMR [T]\"]).std()]\n",
    "std_high = [df[h][f\"{probe}_Cal_T\"].std(), (df[h][f\"{probe}_Raw_Bmag\"]/df[h][\"NMR [T]\"]).std()]\n",
    "std_mid = [df[m][f\"{probe}_Cal_T\"].std(), (df[m][f\"{probe}_Raw_Bmag\"]/df[m][\"NMR [T]\"]).std()]"
   ]
  },
  {
   "cell_type": "code",
   "execution_count": 49,
   "metadata": {},
   "outputs": [
    {
     "data": {
      "text/plain": [
       "[0.021367943656077457, 54.51474064649545]"
      ]
     },
     "execution_count": 49,
     "metadata": {},
     "output_type": "execute_result"
    }
   ],
   "source": [
    "std_low"
   ]
  },
  {
   "cell_type": "code",
   "execution_count": 52,
   "metadata": {},
   "outputs": [],
   "source": [
    "fig = scatter2d(df[stable_temp][f\"{probe}_Cal_T\"],\n",
    "                df[stable_temp][f\"{probe}_Raw_Bmag\"] / df[stable_temp][\"NMR [T]\"],\n",
    "                df[stable_temp].days_delta, show_plot=False)\n",
    "#d = [df[f\"{probe}_Raw_X\"].min(), df[f\"{probe}_Raw_X\"].max()]\n",
    "fig.add_trace(go.Scatter(\n",
    "                    x=df[stable_temp][f\"{probe}_Cal_T\"], y=df[stable_temp][\"Bmag_lsq\"],\n",
    "                    mode='lines', name=\"unity\",\n",
    "                    line=dict(color='deeppink', width=2,\n",
    "                              dash='dash')));\n",
    "#plot(fig)\n",
    "\n",
    "fig.update_traces(marker=dict(size=5));\n",
    "#plot(fig);"
   ]
  },
  {
   "cell_type": "code",
   "execution_count": 53,
   "metadata": {},
   "outputs": [
    {
     "data": {
      "text/plain": [
       "'/home/ckampa/Coding/hallprobecalib_extras/plots/hall_probe_stability/2019-12-04/temp_fit_2point_aggregate.html'"
      ]
     },
     "execution_count": 53,
     "metadata": {},
     "output_type": "execute_result"
    }
   ],
   "source": [
    "fig.add_trace(go.Scatter(\n",
    "    x= [p_low[0],p_mid[0],p_high[0]],\n",
    "    y=[p_low[1],p_mid[1],p_high[1]],\n",
    "    mode='markers',\n",
    "    error_x=dict(\n",
    "        type='data',\n",
    "        array=[std_low[0], std_mid[0], std_high[0]],\n",
    "        visible=True),\n",
    "    error_y=dict(\n",
    "        type='data',\n",
    "        array=[std_low[1], std_mid[1], std_high[1]],\n",
    "        visible=True),\n",
    "    marker=dict(\n",
    "        size=6,\n",
    "        color=\"Red\",\n",
    "    )\n",
    "))\n",
    "\n",
    "#fig = go.Figure(traces)\n",
    "plot(fig, filename=plotdir+\"temp_fit_2point_aggregate.html\")"
   ]
  },
  {
   "cell_type": "code",
   "execution_count": 54,
   "metadata": {},
   "outputs": [],
   "source": [
    "pio.write_image(fig, plotdir+\"temp_fit_2point_aggregate.pdf\")\n",
    "pio.write_image(fig, plotdir+\"temp_fit_2point_aggregate.png\")"
   ]
  },
  {
   "cell_type": "code",
   "execution_count": null,
   "metadata": {},
   "outputs": [],
   "source": []
  }
 ],
 "metadata": {
  "kernelspec": {
   "display_name": "Python [conda env:Mu2E]",
   "language": "python",
   "name": "conda-env-Mu2E-py"
  },
  "language_info": {
   "codemirror_mode": {
    "name": "ipython",
    "version": 3
   },
   "file_extension": ".py",
   "mimetype": "text/x-python",
   "name": "python",
   "nbconvert_exporter": "python",
   "pygments_lexer": "ipython3",
   "version": "3.7.4"
  }
 },
 "nbformat": 4,
 "nbformat_minor": 2
}
