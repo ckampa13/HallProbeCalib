{
 "cells": [
  {
   "cell_type": "markdown",
   "metadata": {},
   "source": [
    "## Imports"
   ]
  },
  {
   "cell_type": "code",
   "execution_count": 1,
   "metadata": {},
   "outputs": [],
   "source": [
    "%load_ext autoreload\n",
    "%autoreload 2"
   ]
  },
  {
   "cell_type": "code",
   "execution_count": 3,
   "metadata": {},
   "outputs": [
    {
     "data": {
      "text/html": [
       "        <script type=\"text/javascript\">\n",
       "        window.PlotlyConfig = {MathJaxConfig: 'local'};\n",
       "        if (window.MathJax) {MathJax.Hub.Config({SVG: {font: \"STIX-Web\"}});}\n",
       "        if (typeof require !== 'undefined') {\n",
       "        require.undef(\"plotly\");\n",
       "        requirejs.config({\n",
       "            paths: {\n",
       "                'plotly': ['https://cdn.plot.ly/plotly-latest.min']\n",
       "            }\n",
       "        });\n",
       "        require(['plotly'], function(Plotly) {\n",
       "            window._Plotly = Plotly;\n",
       "        });\n",
       "        }\n",
       "        </script>\n",
       "        "
      ]
     },
     "metadata": {},
     "output_type": "display_data"
    }
   ],
   "source": [
    "import math\n",
    "import numpy as np\n",
    "import pandas as pd\n",
    "import pickle as pkl\n",
    "from datetime import datetime\n",
    "from dateutil import parser\n",
    "from datetime import datetime\n",
    "from sys import getsizeof\n",
    "import re\n",
    "\n",
    "import operator\n",
    "from scipy import stats\n",
    "import scipy.optimize as optimization\n",
    "import lmfit as lm\n",
    "\n",
    "import matplotlib.pyplot as plt\n",
    "from mpl_toolkits.mplot3d import Axes3D\n",
    "%matplotlib inline\n",
    "plt.rcParams['figure.figsize'] = (12.0, 8.0)\n",
    "plt.rcParams['axes.axisbelow'] = True\n",
    "\n",
    "from plotly.offline import init_notebook_mode, plot, iplot\n",
    "import plotly.graph_objs as go\n",
    "import plotly.io as pio\n",
    "from plotly.subplots import make_subplots\n",
    "import plotly.express as px\n",
    "init_notebook_mode(True)\n",
    "\n",
    "import seaborn as sns\n",
    "\n",
    "from wand.image import Image as WImage\n",
    "\n",
    "from hallprobecalib import hpc_ext_path\n",
    "from hallprobecalib.hpcplots import scatter2d,scatter3d,histo,py_profile"
   ]
  },
  {
   "cell_type": "code",
   "execution_count": 4,
   "metadata": {},
   "outputs": [],
   "source": [
    "make_plots = False"
   ]
  },
  {
   "cell_type": "code",
   "execution_count": 5,
   "metadata": {},
   "outputs": [],
   "source": [
    "plotdir = hpc_ext_path+'plots/hall_probe_stability/2019-12-04/'"
   ]
  },
  {
   "cell_type": "code",
   "execution_count": 6,
   "metadata": {},
   "outputs": [],
   "source": [
    "pkl_dir = hpc_ext_path+\"datafiles/hall_probe_stability/\"\n",
    "pkl_file_slow = \"hall_stability.run06.raw.slow.pkl\"\n",
    "#pkl_file_fast = \"hall_stability.run06.raw.fast.pkl\"\n",
    "#pkl_file_fast_sparse = \"hall_stability.run06.sparse.fast.pkl\""
   ]
  },
  {
   "cell_type": "code",
   "execution_count": 64,
   "metadata": {},
   "outputs": [],
   "source": [
    "df = pd.read_pickle(pkl_dir+pkl_file_slow)"
   ]
  },
  {
   "cell_type": "code",
   "execution_count": 8,
   "metadata": {},
   "outputs": [],
   "source": [
    "#df_fast = pd.read_pickle(pkl_dir+pkl_file_fast)\n",
    "#df_fast_sparse = pd.read_pickle(pkl_dir+pkl_file_fast_sparse)"
   ]
  },
  {
   "cell_type": "code",
   "execution_count": 9,
   "metadata": {},
   "outputs": [],
   "source": [
    "#df_fast['seconds_delta'].iloc[60:75]"
   ]
  },
  {
   "cell_type": "code",
   "execution_count": 8,
   "metadata": {},
   "outputs": [
    {
     "data": {
      "text/plain": [
       "Datetime\n",
       "2019-12-04 14:38:18      0.0\n",
       "2019-12-04 14:39:08     50.0\n",
       "2019-12-04 14:39:58    100.0\n",
       "2019-12-04 14:40:48    150.0\n",
       "2019-12-04 14:41:38    200.0\n",
       "2019-12-04 14:42:28    250.0\n",
       "2019-12-04 14:43:18    300.0\n",
       "2019-12-04 14:44:09    351.0\n",
       "2019-12-04 14:44:58    400.0\n",
       "2019-12-04 14:45:48    450.0\n",
       "Name: seconds_delta, dtype: float64"
      ]
     },
     "execution_count": 8,
     "metadata": {},
     "output_type": "execute_result"
    }
   ],
   "source": [
    "df['seconds_delta'].head(10)"
   ]
  },
  {
   "cell_type": "code",
   "execution_count": 9,
   "metadata": {},
   "outputs": [],
   "source": [
    "def pplot(fig):\n",
    "    pio.write_image(fig, 'temp.pdf')\n",
    "    img = WImage(filename='temp.pdf')\n",
    "    return img"
   ]
  },
  {
   "cell_type": "markdown",
   "metadata": {},
   "source": [
    "## Cleaning"
   ]
  },
  {
   "cell_type": "code",
   "execution_count": 10,
   "metadata": {},
   "outputs": [],
   "source": [
    "directory = \"/home/ckampa/Dropbox/LogFiles/\"#hpc_ext_path+'datafiles/magnet_stability/nmr/'\n",
    "filename_slow = '2019-12-04 143741slow.txt'#'2019-12-03 162209slow.txt' ## NO NMR IN FIRST FILE\n",
    "filename_slow_2 = '2019-12-13 111933slow.txt'"
   ]
  },
  {
   "cell_type": "code",
   "execution_count": 11,
   "metadata": {},
   "outputs": [],
   "source": [
    "df = pd.read_csv(directory+filename_slow)\n",
    "df.columns = df.columns.str.lstrip(\" \")\n",
    "df.drop(\"\", axis=1, inplace=True)\n",
    "dates = [parser.parse(row.Time) for row in df.itertuples()]# if isdatetime(row.Time.values[0])]\n",
    "df[\"Datetime\"] = pd.to_datetime(dates)#.astype(\"str\")\n",
    "df = df.set_index(\"Datetime\")\n",
    "## THOMAS WORKING ON WATER CHILLER INSTALLATION\n",
    "## MAGNET OFF AND TEMPS GET WEIRD\n",
    "df = df[:\"2019-12-12 14:26:00\"]"
   ]
  },
  {
   "cell_type": "code",
   "execution_count": 12,
   "metadata": {},
   "outputs": [],
   "source": [
    "df2 = pd.read_csv(directory+filename_slow_2)\n",
    "df2.columns = df2.columns.str.lstrip(\" \")\n",
    "df2.drop(\"\", axis=1, inplace=True)\n",
    "dates = [parser.parse(row.Time) for row in df2.itertuples()]# if isdatetime(row.Time.values[0])]\n",
    "df2[\"Datetime\"] = pd.to_datetime(dates)#.astype(\"str\")\n",
    "df2 = df2.set_index(\"Datetime\")"
   ]
  },
  {
   "cell_type": "code",
   "execution_count": 13,
   "metadata": {},
   "outputs": [
    {
     "data": {
      "text/html": [
       "<div>\n",
       "<style scoped>\n",
       "    .dataframe tbody tr th:only-of-type {\n",
       "        vertical-align: middle;\n",
       "    }\n",
       "\n",
       "    .dataframe tbody tr th {\n",
       "        vertical-align: top;\n",
       "    }\n",
       "\n",
       "    .dataframe thead th {\n",
       "        text-align: right;\n",
       "    }\n",
       "</style>\n",
       "<table border=\"1\" class=\"dataframe\">\n",
       "  <thead>\n",
       "    <tr style=\"text-align: right;\">\n",
       "      <th></th>\n",
       "      <th>Time</th>\n",
       "      <th>Magnet Current [A]</th>\n",
       "      <th>Magnet Voltage [V]</th>\n",
       "      <th>Coil 1 (new)</th>\n",
       "      <th>Coil 2 (old)</th>\n",
       "      <th>LCW in Coil1</th>\n",
       "      <th>LCW out Coil 1</th>\n",
       "      <th>LCW in Coil 2</th>\n",
       "      <th>LCW out Coil 2</th>\n",
       "      <th>Yoke</th>\n",
       "      <th>...</th>\n",
       "      <th>C50000000D5E473A_Cal_Z</th>\n",
       "      <th>DF0000000D5E803A_Cal_T</th>\n",
       "      <th>6A0000000D61333A_Cal_T</th>\n",
       "      <th>C50000000D5E473A_Cal_T</th>\n",
       "      <th>Zaber_Meas_MicroStep_X</th>\n",
       "      <th>Zaber_Meas_Encoder_X</th>\n",
       "      <th>Zaber_Meas_MicroStep_Y</th>\n",
       "      <th>Zaber_Meas_Encoder_Y</th>\n",
       "      <th>Zaber_Meas_MicroStep_Z</th>\n",
       "      <th>Zaber_Meas_Encoder_Z</th>\n",
       "    </tr>\n",
       "    <tr>\n",
       "      <th>Datetime</th>\n",
       "      <th></th>\n",
       "      <th></th>\n",
       "      <th></th>\n",
       "      <th></th>\n",
       "      <th></th>\n",
       "      <th></th>\n",
       "      <th></th>\n",
       "      <th></th>\n",
       "      <th></th>\n",
       "      <th></th>\n",
       "      <th></th>\n",
       "      <th></th>\n",
       "      <th></th>\n",
       "      <th></th>\n",
       "      <th></th>\n",
       "      <th></th>\n",
       "      <th></th>\n",
       "      <th></th>\n",
       "      <th></th>\n",
       "      <th></th>\n",
       "      <th></th>\n",
       "    </tr>\n",
       "  </thead>\n",
       "  <tbody>\n",
       "    <tr>\n",
       "      <th>2019-12-13 11:20:10</th>\n",
       "      <td>12/13/2019 11:20:10 AM</td>\n",
       "      <td>256.071510</td>\n",
       "      <td>30.961017</td>\n",
       "      <td>33.549297</td>\n",
       "      <td>31.119984</td>\n",
       "      <td>7.549104</td>\n",
       "      <td>10.463340</td>\n",
       "      <td>12.334523</td>\n",
       "      <td>14.516138</td>\n",
       "      <td>20.578840</td>\n",
       "      <td>...</td>\n",
       "      <td>-0.004689</td>\n",
       "      <td>16.668</td>\n",
       "      <td>17.473</td>\n",
       "      <td>16.992</td>\n",
       "      <td>249952.34375</td>\n",
       "      <td>639878.0</td>\n",
       "      <td>184468.359375</td>\n",
       "      <td>472239.0</td>\n",
       "      <td>750100.0</td>\n",
       "      <td>1920256.0</td>\n",
       "    </tr>\n",
       "    <tr>\n",
       "      <th>2019-12-13 11:21:00</th>\n",
       "      <td>12/13/2019 11:21:00 AM</td>\n",
       "      <td>256.071397</td>\n",
       "      <td>30.958833</td>\n",
       "      <td>33.572384</td>\n",
       "      <td>31.076975</td>\n",
       "      <td>7.546639</td>\n",
       "      <td>10.444542</td>\n",
       "      <td>12.321710</td>\n",
       "      <td>14.500689</td>\n",
       "      <td>20.559849</td>\n",
       "      <td>...</td>\n",
       "      <td>-0.004700</td>\n",
       "      <td>16.602</td>\n",
       "      <td>17.491</td>\n",
       "      <td>16.973</td>\n",
       "      <td>249952.34375</td>\n",
       "      <td>639878.0</td>\n",
       "      <td>184468.359375</td>\n",
       "      <td>472239.0</td>\n",
       "      <td>750100.0</td>\n",
       "      <td>1920256.0</td>\n",
       "    </tr>\n",
       "    <tr>\n",
       "      <th>2019-12-13 11:21:50</th>\n",
       "      <td>12/13/2019 11:21:50 AM</td>\n",
       "      <td>256.071453</td>\n",
       "      <td>30.956683</td>\n",
       "      <td>33.515110</td>\n",
       "      <td>31.088324</td>\n",
       "      <td>7.504282</td>\n",
       "      <td>10.426469</td>\n",
       "      <td>12.294535</td>\n",
       "      <td>14.481849</td>\n",
       "      <td>20.536831</td>\n",
       "      <td>...</td>\n",
       "      <td>-0.004701</td>\n",
       "      <td>16.608</td>\n",
       "      <td>17.493</td>\n",
       "      <td>16.972</td>\n",
       "      <td>249952.34375</td>\n",
       "      <td>639878.0</td>\n",
       "      <td>184468.359375</td>\n",
       "      <td>472239.0</td>\n",
       "      <td>750100.0</td>\n",
       "      <td>1920256.0</td>\n",
       "    </tr>\n",
       "    <tr>\n",
       "      <th>2019-12-13 11:22:40</th>\n",
       "      <td>12/13/2019 11:22:40 AM</td>\n",
       "      <td>256.071453</td>\n",
       "      <td>30.954517</td>\n",
       "      <td>33.549179</td>\n",
       "      <td>31.075892</td>\n",
       "      <td>7.492641</td>\n",
       "      <td>10.419066</td>\n",
       "      <td>12.282623</td>\n",
       "      <td>14.467204</td>\n",
       "      <td>20.528875</td>\n",
       "      <td>...</td>\n",
       "      <td>-0.004674</td>\n",
       "      <td>16.630</td>\n",
       "      <td>17.486</td>\n",
       "      <td>16.981</td>\n",
       "      <td>249952.34375</td>\n",
       "      <td>639878.0</td>\n",
       "      <td>184468.359375</td>\n",
       "      <td>472239.0</td>\n",
       "      <td>750100.0</td>\n",
       "      <td>1920256.0</td>\n",
       "    </tr>\n",
       "    <tr>\n",
       "      <th>2019-12-13 11:23:30</th>\n",
       "      <td>12/13/2019 11:23:30 AM</td>\n",
       "      <td>256.071453</td>\n",
       "      <td>30.952550</td>\n",
       "      <td>33.496910</td>\n",
       "      <td>31.055244</td>\n",
       "      <td>7.472020</td>\n",
       "      <td>10.411821</td>\n",
       "      <td>12.273101</td>\n",
       "      <td>14.450148</td>\n",
       "      <td>20.508961</td>\n",
       "      <td>...</td>\n",
       "      <td>-0.004699</td>\n",
       "      <td>16.599</td>\n",
       "      <td>17.472</td>\n",
       "      <td>16.948</td>\n",
       "      <td>249952.34375</td>\n",
       "      <td>639878.0</td>\n",
       "      <td>184468.359375</td>\n",
       "      <td>472239.0</td>\n",
       "      <td>750100.0</td>\n",
       "      <td>1920256.0</td>\n",
       "    </tr>\n",
       "    <tr>\n",
       "      <th>2019-12-13 11:24:20</th>\n",
       "      <td>12/13/2019 11:24:20 AM</td>\n",
       "      <td>256.071397</td>\n",
       "      <td>30.950333</td>\n",
       "      <td>33.482323</td>\n",
       "      <td>31.040310</td>\n",
       "      <td>7.478202</td>\n",
       "      <td>10.385602</td>\n",
       "      <td>12.247592</td>\n",
       "      <td>14.435091</td>\n",
       "      <td>20.490322</td>\n",
       "      <td>...</td>\n",
       "      <td>-0.004709</td>\n",
       "      <td>16.604</td>\n",
       "      <td>17.472</td>\n",
       "      <td>16.963</td>\n",
       "      <td>249952.34375</td>\n",
       "      <td>639878.0</td>\n",
       "      <td>184468.359375</td>\n",
       "      <td>472239.0</td>\n",
       "      <td>750100.0</td>\n",
       "      <td>1920256.0</td>\n",
       "    </tr>\n",
       "    <tr>\n",
       "      <th>2019-12-13 11:25:10</th>\n",
       "      <td>12/13/2019 11:25:10 AM</td>\n",
       "      <td>256.071567</td>\n",
       "      <td>30.948300</td>\n",
       "      <td>33.464439</td>\n",
       "      <td>31.019918</td>\n",
       "      <td>7.466934</td>\n",
       "      <td>10.388030</td>\n",
       "      <td>12.240971</td>\n",
       "      <td>14.422956</td>\n",
       "      <td>20.474533</td>\n",
       "      <td>...</td>\n",
       "      <td>-0.004710</td>\n",
       "      <td>16.575</td>\n",
       "      <td>17.453</td>\n",
       "      <td>16.944</td>\n",
       "      <td>249952.34375</td>\n",
       "      <td>639878.0</td>\n",
       "      <td>184468.359375</td>\n",
       "      <td>472239.0</td>\n",
       "      <td>750100.0</td>\n",
       "      <td>1920256.0</td>\n",
       "    </tr>\n",
       "    <tr>\n",
       "      <th>2019-12-13 11:26:00</th>\n",
       "      <td>12/13/2019 11:26:00 AM</td>\n",
       "      <td>256.071623</td>\n",
       "      <td>30.946300</td>\n",
       "      <td>33.429817</td>\n",
       "      <td>31.011446</td>\n",
       "      <td>7.465701</td>\n",
       "      <td>10.371524</td>\n",
       "      <td>12.243831</td>\n",
       "      <td>14.411193</td>\n",
       "      <td>20.455461</td>\n",
       "      <td>...</td>\n",
       "      <td>-0.004717</td>\n",
       "      <td>16.574</td>\n",
       "      <td>17.448</td>\n",
       "      <td>16.927</td>\n",
       "      <td>249952.34375</td>\n",
       "      <td>639878.0</td>\n",
       "      <td>184468.359375</td>\n",
       "      <td>472239.0</td>\n",
       "      <td>750100.0</td>\n",
       "      <td>1920256.0</td>\n",
       "    </tr>\n",
       "    <tr>\n",
       "      <th>2019-12-13 11:26:50</th>\n",
       "      <td>12/13/2019 11:26:50 AM</td>\n",
       "      <td>256.071567</td>\n",
       "      <td>30.944400</td>\n",
       "      <td>33.453201</td>\n",
       "      <td>30.982565</td>\n",
       "      <td>7.443418</td>\n",
       "      <td>10.356134</td>\n",
       "      <td>12.226747</td>\n",
       "      <td>14.400058</td>\n",
       "      <td>20.440203</td>\n",
       "      <td>...</td>\n",
       "      <td>-0.004687</td>\n",
       "      <td>16.557</td>\n",
       "      <td>17.442</td>\n",
       "      <td>16.917</td>\n",
       "      <td>249952.34375</td>\n",
       "      <td>639878.0</td>\n",
       "      <td>184468.359375</td>\n",
       "      <td>472239.0</td>\n",
       "      <td>750100.0</td>\n",
       "      <td>1920256.0</td>\n",
       "    </tr>\n",
       "    <tr>\n",
       "      <th>2019-12-13 11:27:40</th>\n",
       "      <td>12/13/2019 11:27:40 AM</td>\n",
       "      <td>256.071567</td>\n",
       "      <td>30.942533</td>\n",
       "      <td>33.422878</td>\n",
       "      <td>30.976280</td>\n",
       "      <td>7.431992</td>\n",
       "      <td>10.350885</td>\n",
       "      <td>12.217675</td>\n",
       "      <td>14.389746</td>\n",
       "      <td>20.430403</td>\n",
       "      <td>...</td>\n",
       "      <td>-0.004690</td>\n",
       "      <td>16.568</td>\n",
       "      <td>17.450</td>\n",
       "      <td>16.905</td>\n",
       "      <td>249952.34375</td>\n",
       "      <td>639878.0</td>\n",
       "      <td>184468.359375</td>\n",
       "      <td>472239.0</td>\n",
       "      <td>750100.0</td>\n",
       "      <td>1920256.0</td>\n",
       "    </tr>\n",
       "    <tr>\n",
       "      <th>2019-12-13 11:28:30</th>\n",
       "      <td>12/13/2019 11:28:30 AM</td>\n",
       "      <td>256.071623</td>\n",
       "      <td>30.940683</td>\n",
       "      <td>33.415287</td>\n",
       "      <td>30.954056</td>\n",
       "      <td>7.425164</td>\n",
       "      <td>10.344032</td>\n",
       "      <td>12.194930</td>\n",
       "      <td>14.377669</td>\n",
       "      <td>20.406933</td>\n",
       "      <td>...</td>\n",
       "      <td>-0.004691</td>\n",
       "      <td>16.578</td>\n",
       "      <td>17.436</td>\n",
       "      <td>16.919</td>\n",
       "      <td>249952.34375</td>\n",
       "      <td>639878.0</td>\n",
       "      <td>184468.359375</td>\n",
       "      <td>472239.0</td>\n",
       "      <td>750100.0</td>\n",
       "      <td>1920256.0</td>\n",
       "    </tr>\n",
       "    <tr>\n",
       "      <th>2019-12-13 11:29:21</th>\n",
       "      <td>12/13/2019 11:29:21 AM</td>\n",
       "      <td>256.071567</td>\n",
       "      <td>30.938867</td>\n",
       "      <td>33.375107</td>\n",
       "      <td>30.938631</td>\n",
       "      <td>7.411548</td>\n",
       "      <td>10.320339</td>\n",
       "      <td>12.189013</td>\n",
       "      <td>14.366632</td>\n",
       "      <td>20.397623</td>\n",
       "      <td>...</td>\n",
       "      <td>-0.004712</td>\n",
       "      <td>16.567</td>\n",
       "      <td>17.420</td>\n",
       "      <td>16.898</td>\n",
       "      <td>249952.34375</td>\n",
       "      <td>639878.0</td>\n",
       "      <td>184468.359375</td>\n",
       "      <td>472239.0</td>\n",
       "      <td>750100.0</td>\n",
       "      <td>1920256.0</td>\n",
       "    </tr>\n",
       "    <tr>\n",
       "      <th>2019-12-13 11:30:10</th>\n",
       "      <td>12/13/2019 11:30:10 AM</td>\n",
       "      <td>256.071510</td>\n",
       "      <td>30.937100</td>\n",
       "      <td>33.386524</td>\n",
       "      <td>30.931519</td>\n",
       "      <td>7.400103</td>\n",
       "      <td>10.310569</td>\n",
       "      <td>12.183292</td>\n",
       "      <td>14.349871</td>\n",
       "      <td>20.369127</td>\n",
       "      <td>...</td>\n",
       "      <td>-0.004692</td>\n",
       "      <td>16.559</td>\n",
       "      <td>17.408</td>\n",
       "      <td>16.881</td>\n",
       "      <td>249952.34375</td>\n",
       "      <td>639878.0</td>\n",
       "      <td>184468.359375</td>\n",
       "      <td>472239.0</td>\n",
       "      <td>750100.0</td>\n",
       "      <td>1920256.0</td>\n",
       "    </tr>\n",
       "    <tr>\n",
       "      <th>2019-12-13 11:31:00</th>\n",
       "      <td>12/13/2019 11:31:00 AM</td>\n",
       "      <td>256.071680</td>\n",
       "      <td>30.935317</td>\n",
       "      <td>33.345848</td>\n",
       "      <td>30.923658</td>\n",
       "      <td>7.396523</td>\n",
       "      <td>10.291575</td>\n",
       "      <td>12.168344</td>\n",
       "      <td>14.340383</td>\n",
       "      <td>20.353672</td>\n",
       "      <td>...</td>\n",
       "      <td>-0.004720</td>\n",
       "      <td>16.544</td>\n",
       "      <td>17.418</td>\n",
       "      <td>16.896</td>\n",
       "      <td>249952.34375</td>\n",
       "      <td>639878.0</td>\n",
       "      <td>184468.359375</td>\n",
       "      <td>472239.0</td>\n",
       "      <td>750100.0</td>\n",
       "      <td>1920256.0</td>\n",
       "    </tr>\n",
       "    <tr>\n",
       "      <th>2019-12-13 11:31:50</th>\n",
       "      <td>12/13/2019 11:31:50 AM</td>\n",
       "      <td>256.071623</td>\n",
       "      <td>30.933533</td>\n",
       "      <td>33.379444</td>\n",
       "      <td>30.922161</td>\n",
       "      <td>7.385626</td>\n",
       "      <td>10.285701</td>\n",
       "      <td>12.152769</td>\n",
       "      <td>14.319700</td>\n",
       "      <td>20.341358</td>\n",
       "      <td>...</td>\n",
       "      <td>-0.004717</td>\n",
       "      <td>16.550</td>\n",
       "      <td>17.399</td>\n",
       "      <td>16.875</td>\n",
       "      <td>249952.34375</td>\n",
       "      <td>639878.0</td>\n",
       "      <td>184468.359375</td>\n",
       "      <td>472239.0</td>\n",
       "      <td>750100.0</td>\n",
       "      <td>1920256.0</td>\n",
       "    </tr>\n",
       "    <tr>\n",
       "      <th>2019-12-13 11:32:40</th>\n",
       "      <td>12/13/2019 11:32:40 AM</td>\n",
       "      <td>256.071623</td>\n",
       "      <td>30.931667</td>\n",
       "      <td>33.359177</td>\n",
       "      <td>30.898006</td>\n",
       "      <td>7.369701</td>\n",
       "      <td>10.269685</td>\n",
       "      <td>12.147323</td>\n",
       "      <td>14.308017</td>\n",
       "      <td>20.324606</td>\n",
       "      <td>...</td>\n",
       "      <td>-0.004684</td>\n",
       "      <td>16.535</td>\n",
       "      <td>17.375</td>\n",
       "      <td>16.867</td>\n",
       "      <td>249952.34375</td>\n",
       "      <td>639878.0</td>\n",
       "      <td>184468.359375</td>\n",
       "      <td>472239.0</td>\n",
       "      <td>750100.0</td>\n",
       "      <td>1920256.0</td>\n",
       "    </tr>\n",
       "    <tr>\n",
       "      <th>2019-12-13 11:33:30</th>\n",
       "      <td>12/13/2019 11:33:30 AM</td>\n",
       "      <td>256.071567</td>\n",
       "      <td>30.929950</td>\n",
       "      <td>33.347366</td>\n",
       "      <td>30.867964</td>\n",
       "      <td>7.336698</td>\n",
       "      <td>10.259229</td>\n",
       "      <td>12.146990</td>\n",
       "      <td>14.294117</td>\n",
       "      <td>20.302452</td>\n",
       "      <td>...</td>\n",
       "      <td>-0.004725</td>\n",
       "      <td>16.542</td>\n",
       "      <td>17.376</td>\n",
       "      <td>16.850</td>\n",
       "      <td>249952.34375</td>\n",
       "      <td>639878.0</td>\n",
       "      <td>184468.359375</td>\n",
       "      <td>472239.0</td>\n",
       "      <td>750100.0</td>\n",
       "      <td>1920256.0</td>\n",
       "    </tr>\n",
       "    <tr>\n",
       "      <th>2019-12-13 11:34:20</th>\n",
       "      <td>12/13/2019 11:34:20 AM</td>\n",
       "      <td>256.071623</td>\n",
       "      <td>30.928233</td>\n",
       "      <td>33.340900</td>\n",
       "      <td>30.858900</td>\n",
       "      <td>7.337245</td>\n",
       "      <td>10.250379</td>\n",
       "      <td>12.129553</td>\n",
       "      <td>14.283394</td>\n",
       "      <td>20.291004</td>\n",
       "      <td>...</td>\n",
       "      <td>-0.004696</td>\n",
       "      <td>16.546</td>\n",
       "      <td>17.370</td>\n",
       "      <td>16.879</td>\n",
       "      <td>249952.34375</td>\n",
       "      <td>639878.0</td>\n",
       "      <td>184468.359375</td>\n",
       "      <td>472239.0</td>\n",
       "      <td>750100.0</td>\n",
       "      <td>1920256.0</td>\n",
       "    </tr>\n",
       "    <tr>\n",
       "      <th>2019-12-13 11:35:10</th>\n",
       "      <td>12/13/2019 11:35:10 AM</td>\n",
       "      <td>256.071453</td>\n",
       "      <td>30.926500</td>\n",
       "      <td>33.336346</td>\n",
       "      <td>30.866999</td>\n",
       "      <td>7.318230</td>\n",
       "      <td>10.238885</td>\n",
       "      <td>12.120150</td>\n",
       "      <td>14.274945</td>\n",
       "      <td>20.272091</td>\n",
       "      <td>...</td>\n",
       "      <td>-0.004675</td>\n",
       "      <td>16.530</td>\n",
       "      <td>17.366</td>\n",
       "      <td>16.858</td>\n",
       "      <td>249952.34375</td>\n",
       "      <td>639878.0</td>\n",
       "      <td>184468.359375</td>\n",
       "      <td>472239.0</td>\n",
       "      <td>750100.0</td>\n",
       "      <td>1920256.0</td>\n",
       "    </tr>\n",
       "    <tr>\n",
       "      <th>2019-12-13 11:36:00</th>\n",
       "      <td>12/13/2019 11:36:00 AM</td>\n",
       "      <td>256.071680</td>\n",
       "      <td>30.924767</td>\n",
       "      <td>33.307190</td>\n",
       "      <td>30.843357</td>\n",
       "      <td>7.330652</td>\n",
       "      <td>10.233148</td>\n",
       "      <td>12.105985</td>\n",
       "      <td>14.254675</td>\n",
       "      <td>20.257578</td>\n",
       "      <td>...</td>\n",
       "      <td>-0.004695</td>\n",
       "      <td>16.549</td>\n",
       "      <td>17.361</td>\n",
       "      <td>16.845</td>\n",
       "      <td>249952.34375</td>\n",
       "      <td>639878.0</td>\n",
       "      <td>184468.359375</td>\n",
       "      <td>472239.0</td>\n",
       "      <td>750100.0</td>\n",
       "      <td>1920256.0</td>\n",
       "    </tr>\n",
       "    <tr>\n",
       "      <th>2019-12-13 11:36:50</th>\n",
       "      <td>12/13/2019 11:36:50 AM</td>\n",
       "      <td>256.071623</td>\n",
       "      <td>30.923067</td>\n",
       "      <td>33.297234</td>\n",
       "      <td>30.816486</td>\n",
       "      <td>7.333059</td>\n",
       "      <td>10.220303</td>\n",
       "      <td>12.091330</td>\n",
       "      <td>14.249891</td>\n",
       "      <td>20.246483</td>\n",
       "      <td>...</td>\n",
       "      <td>-0.004696</td>\n",
       "      <td>16.571</td>\n",
       "      <td>17.345</td>\n",
       "      <td>16.872</td>\n",
       "      <td>249952.34375</td>\n",
       "      <td>639878.0</td>\n",
       "      <td>184468.359375</td>\n",
       "      <td>472239.0</td>\n",
       "      <td>750100.0</td>\n",
       "      <td>1920256.0</td>\n",
       "    </tr>\n",
       "    <tr>\n",
       "      <th>2019-12-13 11:37:40</th>\n",
       "      <td>12/13/2019 11:37:40 AM</td>\n",
       "      <td>256.071680</td>\n",
       "      <td>30.921433</td>\n",
       "      <td>33.286762</td>\n",
       "      <td>30.805237</td>\n",
       "      <td>7.326133</td>\n",
       "      <td>10.219069</td>\n",
       "      <td>12.073777</td>\n",
       "      <td>14.239502</td>\n",
       "      <td>20.229162</td>\n",
       "      <td>...</td>\n",
       "      <td>-0.004697</td>\n",
       "      <td>16.560</td>\n",
       "      <td>17.349</td>\n",
       "      <td>16.838</td>\n",
       "      <td>249952.34375</td>\n",
       "      <td>639878.0</td>\n",
       "      <td>184468.359375</td>\n",
       "      <td>472239.0</td>\n",
       "      <td>750100.0</td>\n",
       "      <td>1920256.0</td>\n",
       "    </tr>\n",
       "    <tr>\n",
       "      <th>2019-12-13 11:38:30</th>\n",
       "      <td>12/13/2019 11:38:30 AM</td>\n",
       "      <td>256.071623</td>\n",
       "      <td>30.919933</td>\n",
       "      <td>33.253326</td>\n",
       "      <td>30.802578</td>\n",
       "      <td>7.307920</td>\n",
       "      <td>10.203249</td>\n",
       "      <td>12.090175</td>\n",
       "      <td>14.228484</td>\n",
       "      <td>20.211193</td>\n",
       "      <td>...</td>\n",
       "      <td>-0.004710</td>\n",
       "      <td>16.519</td>\n",
       "      <td>17.345</td>\n",
       "      <td>16.854</td>\n",
       "      <td>249952.34375</td>\n",
       "      <td>639878.0</td>\n",
       "      <td>184468.359375</td>\n",
       "      <td>472239.0</td>\n",
       "      <td>750100.0</td>\n",
       "      <td>1920256.0</td>\n",
       "    </tr>\n",
       "    <tr>\n",
       "      <th>2019-12-13 11:39:20</th>\n",
       "      <td>12/13/2019 11:39:20 AM</td>\n",
       "      <td>256.071623</td>\n",
       "      <td>30.918417</td>\n",
       "      <td>33.232666</td>\n",
       "      <td>30.781202</td>\n",
       "      <td>7.275269</td>\n",
       "      <td>10.186743</td>\n",
       "      <td>12.082907</td>\n",
       "      <td>14.216390</td>\n",
       "      <td>20.193951</td>\n",
       "      <td>...</td>\n",
       "      <td>-0.004729</td>\n",
       "      <td>16.533</td>\n",
       "      <td>17.349</td>\n",
       "      <td>16.820</td>\n",
       "      <td>249952.34375</td>\n",
       "      <td>639878.0</td>\n",
       "      <td>184468.359375</td>\n",
       "      <td>472239.0</td>\n",
       "      <td>750100.0</td>\n",
       "      <td>1920256.0</td>\n",
       "    </tr>\n",
       "    <tr>\n",
       "      <th>2019-12-13 11:40:10</th>\n",
       "      <td>12/13/2019 11:40:10 AM</td>\n",
       "      <td>256.071680</td>\n",
       "      <td>30.916900</td>\n",
       "      <td>33.248417</td>\n",
       "      <td>30.787565</td>\n",
       "      <td>7.260225</td>\n",
       "      <td>10.183003</td>\n",
       "      <td>12.081555</td>\n",
       "      <td>14.209724</td>\n",
       "      <td>20.175745</td>\n",
       "      <td>...</td>\n",
       "      <td>-0.004727</td>\n",
       "      <td>16.516</td>\n",
       "      <td>17.351</td>\n",
       "      <td>16.846</td>\n",
       "      <td>249952.34375</td>\n",
       "      <td>639878.0</td>\n",
       "      <td>184468.359375</td>\n",
       "      <td>472239.0</td>\n",
       "      <td>750100.0</td>\n",
       "      <td>1920256.0</td>\n",
       "    </tr>\n",
       "    <tr>\n",
       "      <th>2019-12-13 11:41:00</th>\n",
       "      <td>12/13/2019 11:41:00 AM</td>\n",
       "      <td>256.071623</td>\n",
       "      <td>30.915583</td>\n",
       "      <td>33.252678</td>\n",
       "      <td>30.775982</td>\n",
       "      <td>7.275856</td>\n",
       "      <td>10.186977</td>\n",
       "      <td>12.063727</td>\n",
       "      <td>14.208666</td>\n",
       "      <td>20.156029</td>\n",
       "      <td>...</td>\n",
       "      <td>-0.004712</td>\n",
       "      <td>16.499</td>\n",
       "      <td>17.350</td>\n",
       "      <td>16.832</td>\n",
       "      <td>249952.34375</td>\n",
       "      <td>639878.0</td>\n",
       "      <td>184468.359375</td>\n",
       "      <td>472239.0</td>\n",
       "      <td>750100.0</td>\n",
       "      <td>1920256.0</td>\n",
       "    </tr>\n",
       "    <tr>\n",
       "      <th>2019-12-13 11:41:50</th>\n",
       "      <td>12/13/2019 11:41:50 AM</td>\n",
       "      <td>256.071680</td>\n",
       "      <td>30.914333</td>\n",
       "      <td>33.219734</td>\n",
       "      <td>30.770802</td>\n",
       "      <td>7.281784</td>\n",
       "      <td>10.181926</td>\n",
       "      <td>12.062631</td>\n",
       "      <td>14.202196</td>\n",
       "      <td>20.147093</td>\n",
       "      <td>...</td>\n",
       "      <td>-0.004686</td>\n",
       "      <td>16.497</td>\n",
       "      <td>17.350</td>\n",
       "      <td>16.833</td>\n",
       "      <td>249952.34375</td>\n",
       "      <td>639878.0</td>\n",
       "      <td>184468.359375</td>\n",
       "      <td>472239.0</td>\n",
       "      <td>750100.0</td>\n",
       "      <td>1920256.0</td>\n",
       "    </tr>\n",
       "    <tr>\n",
       "      <th>2019-12-13 11:42:40</th>\n",
       "      <td>12/13/2019 11:42:40 AM</td>\n",
       "      <td>256.071680</td>\n",
       "      <td>30.913117</td>\n",
       "      <td>33.200512</td>\n",
       "      <td>30.755356</td>\n",
       "      <td>7.283173</td>\n",
       "      <td>10.179752</td>\n",
       "      <td>12.061808</td>\n",
       "      <td>14.202647</td>\n",
       "      <td>20.135330</td>\n",
       "      <td>...</td>\n",
       "      <td>-0.004697</td>\n",
       "      <td>16.504</td>\n",
       "      <td>17.335</td>\n",
       "      <td>16.866</td>\n",
       "      <td>249952.34375</td>\n",
       "      <td>639878.0</td>\n",
       "      <td>184468.359375</td>\n",
       "      <td>472239.0</td>\n",
       "      <td>750100.0</td>\n",
       "      <td>1920256.0</td>\n",
       "    </tr>\n",
       "    <tr>\n",
       "      <th>2019-12-13 11:43:30</th>\n",
       "      <td>12/13/2019 11:43:30 AM</td>\n",
       "      <td>256.071680</td>\n",
       "      <td>30.911950</td>\n",
       "      <td>33.197277</td>\n",
       "      <td>30.736799</td>\n",
       "      <td>7.269009</td>\n",
       "      <td>10.159155</td>\n",
       "      <td>12.055088</td>\n",
       "      <td>14.187925</td>\n",
       "      <td>20.113846</td>\n",
       "      <td>...</td>\n",
       "      <td>-0.004674</td>\n",
       "      <td>16.499</td>\n",
       "      <td>17.331</td>\n",
       "      <td>16.850</td>\n",
       "      <td>249952.34375</td>\n",
       "      <td>639878.0</td>\n",
       "      <td>184468.359375</td>\n",
       "      <td>472239.0</td>\n",
       "      <td>750100.0</td>\n",
       "      <td>1920256.0</td>\n",
       "    </tr>\n",
       "    <tr>\n",
       "      <th>2019-12-13 11:44:21</th>\n",
       "      <td>12/13/2019 11:44:21 AM</td>\n",
       "      <td>256.071623</td>\n",
       "      <td>30.910667</td>\n",
       "      <td>33.202660</td>\n",
       "      <td>30.727797</td>\n",
       "      <td>7.264920</td>\n",
       "      <td>10.162738</td>\n",
       "      <td>12.048564</td>\n",
       "      <td>14.180280</td>\n",
       "      <td>20.103949</td>\n",
       "      <td>...</td>\n",
       "      <td>-0.004687</td>\n",
       "      <td>16.522</td>\n",
       "      <td>17.324</td>\n",
       "      <td>16.838</td>\n",
       "      <td>249952.34375</td>\n",
       "      <td>639878.0</td>\n",
       "      <td>184468.359375</td>\n",
       "      <td>472239.0</td>\n",
       "      <td>750100.0</td>\n",
       "      <td>1920256.0</td>\n",
       "    </tr>\n",
       "    <tr>\n",
       "      <th>...</th>\n",
       "      <td>...</td>\n",
       "      <td>...</td>\n",
       "      <td>...</td>\n",
       "      <td>...</td>\n",
       "      <td>...</td>\n",
       "      <td>...</td>\n",
       "      <td>...</td>\n",
       "      <td>...</td>\n",
       "      <td>...</td>\n",
       "      <td>...</td>\n",
       "      <td>...</td>\n",
       "      <td>...</td>\n",
       "      <td>...</td>\n",
       "      <td>...</td>\n",
       "      <td>...</td>\n",
       "      <td>...</td>\n",
       "      <td>...</td>\n",
       "      <td>...</td>\n",
       "      <td>...</td>\n",
       "      <td>...</td>\n",
       "      <td>...</td>\n",
       "    </tr>\n",
       "    <tr>\n",
       "      <th>2019-12-27 11:04:51</th>\n",
       "      <td>12/27/2019 11:04:51 AM</td>\n",
       "      <td>256.072700</td>\n",
       "      <td>30.992300</td>\n",
       "      <td>33.712772</td>\n",
       "      <td>31.298805</td>\n",
       "      <td>8.067665</td>\n",
       "      <td>10.983838</td>\n",
       "      <td>12.453608</td>\n",
       "      <td>14.967870</td>\n",
       "      <td>16.915459</td>\n",
       "      <td>...</td>\n",
       "      <td>-0.004710</td>\n",
       "      <td>16.187</td>\n",
       "      <td>16.947</td>\n",
       "      <td>16.622</td>\n",
       "      <td>249952.34375</td>\n",
       "      <td>639878.0</td>\n",
       "      <td>184468.359375</td>\n",
       "      <td>472239.0</td>\n",
       "      <td>750100.0</td>\n",
       "      <td>1920256.0</td>\n",
       "    </tr>\n",
       "    <tr>\n",
       "      <th>2019-12-27 11:05:41</th>\n",
       "      <td>12/27/2019 11:05:41 AM</td>\n",
       "      <td>256.072700</td>\n",
       "      <td>30.991917</td>\n",
       "      <td>33.679588</td>\n",
       "      <td>31.293348</td>\n",
       "      <td>8.066844</td>\n",
       "      <td>10.967426</td>\n",
       "      <td>12.439285</td>\n",
       "      <td>14.955164</td>\n",
       "      <td>16.918207</td>\n",
       "      <td>...</td>\n",
       "      <td>-0.004721</td>\n",
       "      <td>16.201</td>\n",
       "      <td>16.947</td>\n",
       "      <td>16.643</td>\n",
       "      <td>249952.34375</td>\n",
       "      <td>639878.0</td>\n",
       "      <td>184468.359375</td>\n",
       "      <td>472239.0</td>\n",
       "      <td>750100.0</td>\n",
       "      <td>1920256.0</td>\n",
       "    </tr>\n",
       "    <tr>\n",
       "      <th>2019-12-27 11:06:31</th>\n",
       "      <td>12/27/2019 11:06:31 AM</td>\n",
       "      <td>256.072700</td>\n",
       "      <td>30.991600</td>\n",
       "      <td>33.710838</td>\n",
       "      <td>31.283438</td>\n",
       "      <td>8.033246</td>\n",
       "      <td>10.952797</td>\n",
       "      <td>12.429958</td>\n",
       "      <td>14.941046</td>\n",
       "      <td>16.918991</td>\n",
       "      <td>...</td>\n",
       "      <td>-0.004705</td>\n",
       "      <td>16.189</td>\n",
       "      <td>16.945</td>\n",
       "      <td>16.599</td>\n",
       "      <td>249952.34375</td>\n",
       "      <td>639878.0</td>\n",
       "      <td>184468.359375</td>\n",
       "      <td>472239.0</td>\n",
       "      <td>750100.0</td>\n",
       "      <td>1920256.0</td>\n",
       "    </tr>\n",
       "    <tr>\n",
       "      <th>2019-12-27 11:07:20</th>\n",
       "      <td>12/27/2019 11:07:20 AM</td>\n",
       "      <td>256.072757</td>\n",
       "      <td>30.991067</td>\n",
       "      <td>33.712021</td>\n",
       "      <td>31.290865</td>\n",
       "      <td>8.015498</td>\n",
       "      <td>10.936973</td>\n",
       "      <td>12.417890</td>\n",
       "      <td>14.927047</td>\n",
       "      <td>16.921070</td>\n",
       "      <td>...</td>\n",
       "      <td>-0.004706</td>\n",
       "      <td>16.199</td>\n",
       "      <td>16.937</td>\n",
       "      <td>16.613</td>\n",
       "      <td>249952.34375</td>\n",
       "      <td>639878.0</td>\n",
       "      <td>184468.359375</td>\n",
       "      <td>472239.0</td>\n",
       "      <td>750100.0</td>\n",
       "      <td>1920256.0</td>\n",
       "    </tr>\n",
       "    <tr>\n",
       "      <th>2019-12-27 11:08:11</th>\n",
       "      <td>12/27/2019 11:08:11 AM</td>\n",
       "      <td>256.072587</td>\n",
       "      <td>30.990400</td>\n",
       "      <td>33.686390</td>\n",
       "      <td>31.290276</td>\n",
       "      <td>7.998710</td>\n",
       "      <td>10.925849</td>\n",
       "      <td>12.405507</td>\n",
       "      <td>14.913674</td>\n",
       "      <td>16.923660</td>\n",
       "      <td>...</td>\n",
       "      <td>-0.004670</td>\n",
       "      <td>16.215</td>\n",
       "      <td>16.936</td>\n",
       "      <td>16.615</td>\n",
       "      <td>249952.34375</td>\n",
       "      <td>639878.0</td>\n",
       "      <td>184468.359375</td>\n",
       "      <td>472239.0</td>\n",
       "      <td>750100.0</td>\n",
       "      <td>1920256.0</td>\n",
       "    </tr>\n",
       "    <tr>\n",
       "      <th>2019-12-27 11:09:01</th>\n",
       "      <td>12/27/2019 11:09:01 AM</td>\n",
       "      <td>256.072700</td>\n",
       "      <td>30.989633</td>\n",
       "      <td>33.700603</td>\n",
       "      <td>31.272718</td>\n",
       "      <td>7.972373</td>\n",
       "      <td>10.907439</td>\n",
       "      <td>12.394966</td>\n",
       "      <td>14.899008</td>\n",
       "      <td>16.923838</td>\n",
       "      <td>...</td>\n",
       "      <td>-0.004680</td>\n",
       "      <td>16.183</td>\n",
       "      <td>16.940</td>\n",
       "      <td>16.618</td>\n",
       "      <td>249952.34375</td>\n",
       "      <td>639878.0</td>\n",
       "      <td>184468.359375</td>\n",
       "      <td>472239.0</td>\n",
       "      <td>750100.0</td>\n",
       "      <td>1920256.0</td>\n",
       "    </tr>\n",
       "    <tr>\n",
       "      <th>2019-12-27 11:09:51</th>\n",
       "      <td>12/27/2019 11:09:51 AM</td>\n",
       "      <td>256.072700</td>\n",
       "      <td>30.988833</td>\n",
       "      <td>33.704884</td>\n",
       "      <td>31.272877</td>\n",
       "      <td>7.966756</td>\n",
       "      <td>10.889168</td>\n",
       "      <td>12.373139</td>\n",
       "      <td>14.886126</td>\n",
       "      <td>16.924641</td>\n",
       "      <td>...</td>\n",
       "      <td>-0.004670</td>\n",
       "      <td>16.184</td>\n",
       "      <td>16.945</td>\n",
       "      <td>16.616</td>\n",
       "      <td>249952.34375</td>\n",
       "      <td>639878.0</td>\n",
       "      <td>184468.359375</td>\n",
       "      <td>472239.0</td>\n",
       "      <td>750100.0</td>\n",
       "      <td>1920256.0</td>\n",
       "    </tr>\n",
       "    <tr>\n",
       "      <th>2019-12-27 11:10:41</th>\n",
       "      <td>12/27/2019 11:10:41 AM</td>\n",
       "      <td>256.072643</td>\n",
       "      <td>30.987933</td>\n",
       "      <td>33.697392</td>\n",
       "      <td>31.265745</td>\n",
       "      <td>7.926351</td>\n",
       "      <td>10.875381</td>\n",
       "      <td>12.376510</td>\n",
       "      <td>14.877930</td>\n",
       "      <td>16.924856</td>\n",
       "      <td>...</td>\n",
       "      <td>-0.004672</td>\n",
       "      <td>16.177</td>\n",
       "      <td>16.948</td>\n",
       "      <td>16.607</td>\n",
       "      <td>249952.34375</td>\n",
       "      <td>639878.0</td>\n",
       "      <td>184468.359375</td>\n",
       "      <td>472239.0</td>\n",
       "      <td>750100.0</td>\n",
       "      <td>1920256.0</td>\n",
       "    </tr>\n",
       "    <tr>\n",
       "      <th>2019-12-27 11:11:31</th>\n",
       "      <td>12/27/2019 11:11:31 AM</td>\n",
       "      <td>256.072700</td>\n",
       "      <td>30.986967</td>\n",
       "      <td>33.700291</td>\n",
       "      <td>31.261232</td>\n",
       "      <td>7.939265</td>\n",
       "      <td>10.865843</td>\n",
       "      <td>12.363500</td>\n",
       "      <td>14.864655</td>\n",
       "      <td>16.927820</td>\n",
       "      <td>...</td>\n",
       "      <td>-0.004661</td>\n",
       "      <td>16.178</td>\n",
       "      <td>16.939</td>\n",
       "      <td>16.599</td>\n",
       "      <td>249952.34375</td>\n",
       "      <td>639878.0</td>\n",
       "      <td>184468.359375</td>\n",
       "      <td>472239.0</td>\n",
       "      <td>750100.0</td>\n",
       "      <td>1920256.0</td>\n",
       "    </tr>\n",
       "    <tr>\n",
       "      <th>2019-12-27 11:12:21</th>\n",
       "      <td>12/27/2019 11:12:21 AM</td>\n",
       "      <td>256.072700</td>\n",
       "      <td>30.986033</td>\n",
       "      <td>33.649498</td>\n",
       "      <td>31.255972</td>\n",
       "      <td>7.915393</td>\n",
       "      <td>10.845770</td>\n",
       "      <td>12.349217</td>\n",
       "      <td>14.848657</td>\n",
       "      <td>16.927977</td>\n",
       "      <td>...</td>\n",
       "      <td>-0.004692</td>\n",
       "      <td>16.196</td>\n",
       "      <td>16.946</td>\n",
       "      <td>16.624</td>\n",
       "      <td>249952.34375</td>\n",
       "      <td>639878.0</td>\n",
       "      <td>184468.359375</td>\n",
       "      <td>472239.0</td>\n",
       "      <td>750100.0</td>\n",
       "      <td>1920256.0</td>\n",
       "    </tr>\n",
       "    <tr>\n",
       "      <th>2019-12-27 11:13:11</th>\n",
       "      <td>12/27/2019 11:13:11 AM</td>\n",
       "      <td>256.072757</td>\n",
       "      <td>30.984967</td>\n",
       "      <td>33.670773</td>\n",
       "      <td>31.243204</td>\n",
       "      <td>7.923846</td>\n",
       "      <td>10.835156</td>\n",
       "      <td>12.331740</td>\n",
       "      <td>14.836206</td>\n",
       "      <td>16.929369</td>\n",
       "      <td>...</td>\n",
       "      <td>-0.004703</td>\n",
       "      <td>16.190</td>\n",
       "      <td>16.941</td>\n",
       "      <td>16.636</td>\n",
       "      <td>249952.34375</td>\n",
       "      <td>639878.0</td>\n",
       "      <td>184468.359375</td>\n",
       "      <td>472239.0</td>\n",
       "      <td>750100.0</td>\n",
       "      <td>1920256.0</td>\n",
       "    </tr>\n",
       "    <tr>\n",
       "      <th>2019-12-27 11:14:02</th>\n",
       "      <td>12/27/2019 11:14:02 AM</td>\n",
       "      <td>256.072700</td>\n",
       "      <td>30.983833</td>\n",
       "      <td>33.651054</td>\n",
       "      <td>31.228584</td>\n",
       "      <td>7.904064</td>\n",
       "      <td>10.826069</td>\n",
       "      <td>12.330330</td>\n",
       "      <td>14.822226</td>\n",
       "      <td>16.926838</td>\n",
       "      <td>...</td>\n",
       "      <td>-0.004704</td>\n",
       "      <td>16.197</td>\n",
       "      <td>16.956</td>\n",
       "      <td>16.645</td>\n",
       "      <td>249952.34375</td>\n",
       "      <td>639878.0</td>\n",
       "      <td>184468.359375</td>\n",
       "      <td>472239.0</td>\n",
       "      <td>750100.0</td>\n",
       "      <td>1920256.0</td>\n",
       "    </tr>\n",
       "    <tr>\n",
       "      <th>2019-12-27 11:14:51</th>\n",
       "      <td>12/27/2019 11:14:51 AM</td>\n",
       "      <td>256.072643</td>\n",
       "      <td>30.982717</td>\n",
       "      <td>33.609985</td>\n",
       "      <td>31.216862</td>\n",
       "      <td>7.880330</td>\n",
       "      <td>10.816512</td>\n",
       "      <td>12.312226</td>\n",
       "      <td>14.811795</td>\n",
       "      <td>16.928389</td>\n",
       "      <td>...</td>\n",
       "      <td>-0.004693</td>\n",
       "      <td>16.191</td>\n",
       "      <td>16.942</td>\n",
       "      <td>16.629</td>\n",
       "      <td>249952.34375</td>\n",
       "      <td>639878.0</td>\n",
       "      <td>184468.359375</td>\n",
       "      <td>472239.0</td>\n",
       "      <td>750100.0</td>\n",
       "      <td>1920256.0</td>\n",
       "    </tr>\n",
       "    <tr>\n",
       "      <th>2019-12-27 11:15:41</th>\n",
       "      <td>12/27/2019 11:15:41 AM</td>\n",
       "      <td>256.072700</td>\n",
       "      <td>30.981550</td>\n",
       "      <td>33.665115</td>\n",
       "      <td>31.214615</td>\n",
       "      <td>7.877865</td>\n",
       "      <td>10.808463</td>\n",
       "      <td>12.310502</td>\n",
       "      <td>14.808286</td>\n",
       "      <td>16.931194</td>\n",
       "      <td>...</td>\n",
       "      <td>-0.004657</td>\n",
       "      <td>16.198</td>\n",
       "      <td>16.944</td>\n",
       "      <td>16.641</td>\n",
       "      <td>249952.34375</td>\n",
       "      <td>639878.0</td>\n",
       "      <td>184468.359375</td>\n",
       "      <td>472239.0</td>\n",
       "      <td>750100.0</td>\n",
       "      <td>1920256.0</td>\n",
       "    </tr>\n",
       "    <tr>\n",
       "      <th>2019-12-27 11:16:31</th>\n",
       "      <td>12/27/2019 11:16:31 AM</td>\n",
       "      <td>256.072700</td>\n",
       "      <td>30.980400</td>\n",
       "      <td>33.599556</td>\n",
       "      <td>31.196882</td>\n",
       "      <td>7.854287</td>\n",
       "      <td>10.790935</td>\n",
       "      <td>12.302744</td>\n",
       "      <td>14.792914</td>\n",
       "      <td>16.930683</td>\n",
       "      <td>...</td>\n",
       "      <td>-0.004649</td>\n",
       "      <td>16.182</td>\n",
       "      <td>16.935</td>\n",
       "      <td>16.610</td>\n",
       "      <td>249952.34375</td>\n",
       "      <td>639878.0</td>\n",
       "      <td>184468.359375</td>\n",
       "      <td>472239.0</td>\n",
       "      <td>750100.0</td>\n",
       "      <td>1920256.0</td>\n",
       "    </tr>\n",
       "    <tr>\n",
       "      <th>2019-12-27 11:17:21</th>\n",
       "      <td>12/27/2019 11:17:21 AM</td>\n",
       "      <td>256.072700</td>\n",
       "      <td>30.979267</td>\n",
       "      <td>33.639561</td>\n",
       "      <td>31.185987</td>\n",
       "      <td>7.845071</td>\n",
       "      <td>10.780478</td>\n",
       "      <td>12.305076</td>\n",
       "      <td>14.784150</td>\n",
       "      <td>16.933294</td>\n",
       "      <td>...</td>\n",
       "      <td>-0.004675</td>\n",
       "      <td>16.189</td>\n",
       "      <td>16.939</td>\n",
       "      <td>16.619</td>\n",
       "      <td>249952.34375</td>\n",
       "      <td>639878.0</td>\n",
       "      <td>184468.359375</td>\n",
       "      <td>472239.0</td>\n",
       "      <td>750100.0</td>\n",
       "      <td>1920256.0</td>\n",
       "    </tr>\n",
       "    <tr>\n",
       "      <th>2019-12-27 11:18:11</th>\n",
       "      <td>12/27/2019 11:18:11 AM</td>\n",
       "      <td>256.072700</td>\n",
       "      <td>30.978117</td>\n",
       "      <td>33.628143</td>\n",
       "      <td>31.179348</td>\n",
       "      <td>7.832392</td>\n",
       "      <td>10.768317</td>\n",
       "      <td>12.297238</td>\n",
       "      <td>14.774465</td>\n",
       "      <td>16.932724</td>\n",
       "      <td>...</td>\n",
       "      <td>-0.004672</td>\n",
       "      <td>16.185</td>\n",
       "      <td>16.938</td>\n",
       "      <td>16.613</td>\n",
       "      <td>249952.34375</td>\n",
       "      <td>639878.0</td>\n",
       "      <td>184468.359375</td>\n",
       "      <td>472239.0</td>\n",
       "      <td>750100.0</td>\n",
       "      <td>1920256.0</td>\n",
       "    </tr>\n",
       "    <tr>\n",
       "      <th>2019-12-27 11:19:01</th>\n",
       "      <td>12/27/2019 11:19:01 AM</td>\n",
       "      <td>256.072643</td>\n",
       "      <td>30.976917</td>\n",
       "      <td>33.604446</td>\n",
       "      <td>31.169556</td>\n",
       "      <td>7.830729</td>\n",
       "      <td>10.761287</td>\n",
       "      <td>12.287247</td>\n",
       "      <td>14.765799</td>\n",
       "      <td>16.932489</td>\n",
       "      <td>...</td>\n",
       "      <td>-0.004678</td>\n",
       "      <td>16.167</td>\n",
       "      <td>16.946</td>\n",
       "      <td>16.616</td>\n",
       "      <td>249952.34375</td>\n",
       "      <td>639878.0</td>\n",
       "      <td>184468.359375</td>\n",
       "      <td>472239.0</td>\n",
       "      <td>750100.0</td>\n",
       "      <td>1920256.0</td>\n",
       "    </tr>\n",
       "    <tr>\n",
       "      <th>2019-12-27 11:19:51</th>\n",
       "      <td>12/27/2019 11:19:51 AM</td>\n",
       "      <td>256.072700</td>\n",
       "      <td>30.975783</td>\n",
       "      <td>33.629959</td>\n",
       "      <td>31.169556</td>\n",
       "      <td>7.819244</td>\n",
       "      <td>10.753512</td>\n",
       "      <td>12.272807</td>\n",
       "      <td>14.754799</td>\n",
       "      <td>16.933647</td>\n",
       "      <td>...</td>\n",
       "      <td>-0.004657</td>\n",
       "      <td>16.184</td>\n",
       "      <td>16.930</td>\n",
       "      <td>16.589</td>\n",
       "      <td>249952.34375</td>\n",
       "      <td>639878.0</td>\n",
       "      <td>184468.359375</td>\n",
       "      <td>472239.0</td>\n",
       "      <td>750100.0</td>\n",
       "      <td>1920256.0</td>\n",
       "    </tr>\n",
       "    <tr>\n",
       "      <th>2019-12-27 11:20:41</th>\n",
       "      <td>12/27/2019 11:20:41 AM</td>\n",
       "      <td>256.072700</td>\n",
       "      <td>30.974633</td>\n",
       "      <td>33.544724</td>\n",
       "      <td>31.155153</td>\n",
       "      <td>7.794258</td>\n",
       "      <td>10.747540</td>\n",
       "      <td>12.276784</td>\n",
       "      <td>14.747878</td>\n",
       "      <td>16.931665</td>\n",
       "      <td>...</td>\n",
       "      <td>-0.004706</td>\n",
       "      <td>16.198</td>\n",
       "      <td>16.956</td>\n",
       "      <td>16.585</td>\n",
       "      <td>249952.34375</td>\n",
       "      <td>639878.0</td>\n",
       "      <td>184468.359375</td>\n",
       "      <td>472239.0</td>\n",
       "      <td>750100.0</td>\n",
       "      <td>1920256.0</td>\n",
       "    </tr>\n",
       "    <tr>\n",
       "      <th>2019-12-27 11:21:31</th>\n",
       "      <td>12/27/2019 11:21:31 AM</td>\n",
       "      <td>256.072700</td>\n",
       "      <td>30.973483</td>\n",
       "      <td>33.571991</td>\n",
       "      <td>31.147686</td>\n",
       "      <td>7.808756</td>\n",
       "      <td>10.740215</td>\n",
       "      <td>12.257330</td>\n",
       "      <td>14.741251</td>\n",
       "      <td>16.932745</td>\n",
       "      <td>...</td>\n",
       "      <td>-0.004708</td>\n",
       "      <td>16.173</td>\n",
       "      <td>16.931</td>\n",
       "      <td>16.622</td>\n",
       "      <td>249952.34375</td>\n",
       "      <td>639878.0</td>\n",
       "      <td>184468.359375</td>\n",
       "      <td>472239.0</td>\n",
       "      <td>750100.0</td>\n",
       "      <td>1920256.0</td>\n",
       "    </tr>\n",
       "    <tr>\n",
       "      <th>2019-12-27 11:22:21</th>\n",
       "      <td>12/27/2019 11:22:21 AM</td>\n",
       "      <td>256.072700</td>\n",
       "      <td>30.972350</td>\n",
       "      <td>33.535870</td>\n",
       "      <td>31.154129</td>\n",
       "      <td>7.796019</td>\n",
       "      <td>10.728034</td>\n",
       "      <td>12.257878</td>\n",
       "      <td>14.731428</td>\n",
       "      <td>16.932901</td>\n",
       "      <td>...</td>\n",
       "      <td>-0.004664</td>\n",
       "      <td>16.189</td>\n",
       "      <td>16.941</td>\n",
       "      <td>16.596</td>\n",
       "      <td>249952.34375</td>\n",
       "      <td>639878.0</td>\n",
       "      <td>184468.359375</td>\n",
       "      <td>472239.0</td>\n",
       "      <td>750100.0</td>\n",
       "      <td>1920256.0</td>\n",
       "    </tr>\n",
       "    <tr>\n",
       "      <th>2019-12-27 11:23:11</th>\n",
       "      <td>12/27/2019 11:23:11 AM</td>\n",
       "      <td>256.072700</td>\n",
       "      <td>30.971250</td>\n",
       "      <td>33.561878</td>\n",
       "      <td>31.137480</td>\n",
       "      <td>7.789895</td>\n",
       "      <td>10.726134</td>\n",
       "      <td>12.239599</td>\n",
       "      <td>14.720350</td>\n",
       "      <td>16.932097</td>\n",
       "      <td>...</td>\n",
       "      <td>-0.004696</td>\n",
       "      <td>16.195</td>\n",
       "      <td>16.932</td>\n",
       "      <td>16.627</td>\n",
       "      <td>249952.34375</td>\n",
       "      <td>639878.0</td>\n",
       "      <td>184468.359375</td>\n",
       "      <td>472239.0</td>\n",
       "      <td>750100.0</td>\n",
       "      <td>1920256.0</td>\n",
       "    </tr>\n",
       "    <tr>\n",
       "      <th>2019-12-27 11:24:01</th>\n",
       "      <td>12/27/2019 11:24:01 AM</td>\n",
       "      <td>256.072700</td>\n",
       "      <td>30.970117</td>\n",
       "      <td>33.553005</td>\n",
       "      <td>31.107750</td>\n",
       "      <td>7.807974</td>\n",
       "      <td>10.722669</td>\n",
       "      <td>12.240677</td>\n",
       "      <td>14.717899</td>\n",
       "      <td>16.934549</td>\n",
       "      <td>...</td>\n",
       "      <td>-0.004694</td>\n",
       "      <td>16.178</td>\n",
       "      <td>16.930</td>\n",
       "      <td>16.620</td>\n",
       "      <td>249952.34375</td>\n",
       "      <td>639878.0</td>\n",
       "      <td>184468.359375</td>\n",
       "      <td>472239.0</td>\n",
       "      <td>750100.0</td>\n",
       "      <td>1920256.0</td>\n",
       "    </tr>\n",
       "    <tr>\n",
       "      <th>2019-12-27 11:24:51</th>\n",
       "      <td>12/27/2019 11:24:51 AM</td>\n",
       "      <td>256.072643</td>\n",
       "      <td>30.969083</td>\n",
       "      <td>33.567852</td>\n",
       "      <td>31.123274</td>\n",
       "      <td>7.799560</td>\n",
       "      <td>10.713249</td>\n",
       "      <td>12.227902</td>\n",
       "      <td>14.709077</td>\n",
       "      <td>16.933254</td>\n",
       "      <td>...</td>\n",
       "      <td>-0.004701</td>\n",
       "      <td>16.185</td>\n",
       "      <td>16.935</td>\n",
       "      <td>16.623</td>\n",
       "      <td>249952.34375</td>\n",
       "      <td>639878.0</td>\n",
       "      <td>184468.359375</td>\n",
       "      <td>472239.0</td>\n",
       "      <td>750100.0</td>\n",
       "      <td>1920256.0</td>\n",
       "    </tr>\n",
       "    <tr>\n",
       "      <th>2019-12-27 11:25:41</th>\n",
       "      <td>12/27/2019 11:25:41 AM</td>\n",
       "      <td>256.072700</td>\n",
       "      <td>30.968117</td>\n",
       "      <td>33.544369</td>\n",
       "      <td>31.117010</td>\n",
       "      <td>7.799032</td>\n",
       "      <td>10.712290</td>\n",
       "      <td>12.222770</td>\n",
       "      <td>14.701529</td>\n",
       "      <td>16.934549</td>\n",
       "      <td>...</td>\n",
       "      <td>-0.004662</td>\n",
       "      <td>16.184</td>\n",
       "      <td>16.930</td>\n",
       "      <td>16.629</td>\n",
       "      <td>249952.34375</td>\n",
       "      <td>639878.0</td>\n",
       "      <td>184468.359375</td>\n",
       "      <td>472239.0</td>\n",
       "      <td>750100.0</td>\n",
       "      <td>1920256.0</td>\n",
       "    </tr>\n",
       "    <tr>\n",
       "      <th>2019-12-27 11:26:31</th>\n",
       "      <td>12/27/2019 11:26:31 AM</td>\n",
       "      <td>256.072700</td>\n",
       "      <td>30.967150</td>\n",
       "      <td>33.565819</td>\n",
       "      <td>31.101524</td>\n",
       "      <td>7.772598</td>\n",
       "      <td>10.700833</td>\n",
       "      <td>12.227118</td>\n",
       "      <td>14.700392</td>\n",
       "      <td>16.933235</td>\n",
       "      <td>...</td>\n",
       "      <td>-0.004692</td>\n",
       "      <td>16.176</td>\n",
       "      <td>16.926</td>\n",
       "      <td>16.601</td>\n",
       "      <td>249952.34375</td>\n",
       "      <td>639878.0</td>\n",
       "      <td>184468.359375</td>\n",
       "      <td>472239.0</td>\n",
       "      <td>750100.0</td>\n",
       "      <td>1920256.0</td>\n",
       "    </tr>\n",
       "    <tr>\n",
       "      <th>2019-12-27 11:27:21</th>\n",
       "      <td>12/27/2019 11:27:21 AM</td>\n",
       "      <td>256.072700</td>\n",
       "      <td>30.966150</td>\n",
       "      <td>33.545258</td>\n",
       "      <td>31.085978</td>\n",
       "      <td>7.761485</td>\n",
       "      <td>10.698013</td>\n",
       "      <td>12.222907</td>\n",
       "      <td>14.689158</td>\n",
       "      <td>16.934921</td>\n",
       "      <td>...</td>\n",
       "      <td>-0.004682</td>\n",
       "      <td>16.181</td>\n",
       "      <td>16.933</td>\n",
       "      <td>16.591</td>\n",
       "      <td>249952.34375</td>\n",
       "      <td>639878.0</td>\n",
       "      <td>184468.359375</td>\n",
       "      <td>472239.0</td>\n",
       "      <td>750100.0</td>\n",
       "      <td>1920256.0</td>\n",
       "    </tr>\n",
       "    <tr>\n",
       "      <th>2019-12-27 11:28:11</th>\n",
       "      <td>12/27/2019 11:28:11 AM</td>\n",
       "      <td>256.072700</td>\n",
       "      <td>30.965217</td>\n",
       "      <td>33.462921</td>\n",
       "      <td>31.083595</td>\n",
       "      <td>7.752289</td>\n",
       "      <td>10.692882</td>\n",
       "      <td>12.223123</td>\n",
       "      <td>14.688001</td>\n",
       "      <td>16.935392</td>\n",
       "      <td>...</td>\n",
       "      <td>-0.004703</td>\n",
       "      <td>16.163</td>\n",
       "      <td>16.954</td>\n",
       "      <td>16.598</td>\n",
       "      <td>249952.34375</td>\n",
       "      <td>639878.0</td>\n",
       "      <td>184468.359375</td>\n",
       "      <td>472239.0</td>\n",
       "      <td>750100.0</td>\n",
       "      <td>1920256.0</td>\n",
       "    </tr>\n",
       "    <tr>\n",
       "      <th>2019-12-27 11:29:02</th>\n",
       "      <td>12/27/2019 11:29:02 AM</td>\n",
       "      <td>256.072757</td>\n",
       "      <td>30.964317</td>\n",
       "      <td>33.513336</td>\n",
       "      <td>31.086805</td>\n",
       "      <td>7.760722</td>\n",
       "      <td>10.688633</td>\n",
       "      <td>12.222573</td>\n",
       "      <td>14.682413</td>\n",
       "      <td>16.937099</td>\n",
       "      <td>...</td>\n",
       "      <td>-0.004697</td>\n",
       "      <td>16.185</td>\n",
       "      <td>16.962</td>\n",
       "      <td>16.611</td>\n",
       "      <td>249952.34375</td>\n",
       "      <td>639878.0</td>\n",
       "      <td>184468.359375</td>\n",
       "      <td>472239.0</td>\n",
       "      <td>750100.0</td>\n",
       "      <td>1920256.0</td>\n",
       "    </tr>\n",
       "  </tbody>\n",
       "</table>\n",
       "<p>24203 rows × 75 columns</p>\n",
       "</div>"
      ],
      "text/plain": [
       "                                       Time  Magnet Current [A]  \\\n",
       "Datetime                                                          \n",
       "2019-12-13 11:20:10  12/13/2019 11:20:10 AM          256.071510   \n",
       "2019-12-13 11:21:00  12/13/2019 11:21:00 AM          256.071397   \n",
       "2019-12-13 11:21:50  12/13/2019 11:21:50 AM          256.071453   \n",
       "2019-12-13 11:22:40  12/13/2019 11:22:40 AM          256.071453   \n",
       "2019-12-13 11:23:30  12/13/2019 11:23:30 AM          256.071453   \n",
       "2019-12-13 11:24:20  12/13/2019 11:24:20 AM          256.071397   \n",
       "2019-12-13 11:25:10  12/13/2019 11:25:10 AM          256.071567   \n",
       "2019-12-13 11:26:00  12/13/2019 11:26:00 AM          256.071623   \n",
       "2019-12-13 11:26:50  12/13/2019 11:26:50 AM          256.071567   \n",
       "2019-12-13 11:27:40  12/13/2019 11:27:40 AM          256.071567   \n",
       "2019-12-13 11:28:30  12/13/2019 11:28:30 AM          256.071623   \n",
       "2019-12-13 11:29:21  12/13/2019 11:29:21 AM          256.071567   \n",
       "2019-12-13 11:30:10  12/13/2019 11:30:10 AM          256.071510   \n",
       "2019-12-13 11:31:00  12/13/2019 11:31:00 AM          256.071680   \n",
       "2019-12-13 11:31:50  12/13/2019 11:31:50 AM          256.071623   \n",
       "2019-12-13 11:32:40  12/13/2019 11:32:40 AM          256.071623   \n",
       "2019-12-13 11:33:30  12/13/2019 11:33:30 AM          256.071567   \n",
       "2019-12-13 11:34:20  12/13/2019 11:34:20 AM          256.071623   \n",
       "2019-12-13 11:35:10  12/13/2019 11:35:10 AM          256.071453   \n",
       "2019-12-13 11:36:00  12/13/2019 11:36:00 AM          256.071680   \n",
       "2019-12-13 11:36:50  12/13/2019 11:36:50 AM          256.071623   \n",
       "2019-12-13 11:37:40  12/13/2019 11:37:40 AM          256.071680   \n",
       "2019-12-13 11:38:30  12/13/2019 11:38:30 AM          256.071623   \n",
       "2019-12-13 11:39:20  12/13/2019 11:39:20 AM          256.071623   \n",
       "2019-12-13 11:40:10  12/13/2019 11:40:10 AM          256.071680   \n",
       "2019-12-13 11:41:00  12/13/2019 11:41:00 AM          256.071623   \n",
       "2019-12-13 11:41:50  12/13/2019 11:41:50 AM          256.071680   \n",
       "2019-12-13 11:42:40  12/13/2019 11:42:40 AM          256.071680   \n",
       "2019-12-13 11:43:30  12/13/2019 11:43:30 AM          256.071680   \n",
       "2019-12-13 11:44:21  12/13/2019 11:44:21 AM          256.071623   \n",
       "...                                     ...                 ...   \n",
       "2019-12-27 11:04:51  12/27/2019 11:04:51 AM          256.072700   \n",
       "2019-12-27 11:05:41  12/27/2019 11:05:41 AM          256.072700   \n",
       "2019-12-27 11:06:31  12/27/2019 11:06:31 AM          256.072700   \n",
       "2019-12-27 11:07:20  12/27/2019 11:07:20 AM          256.072757   \n",
       "2019-12-27 11:08:11  12/27/2019 11:08:11 AM          256.072587   \n",
       "2019-12-27 11:09:01  12/27/2019 11:09:01 AM          256.072700   \n",
       "2019-12-27 11:09:51  12/27/2019 11:09:51 AM          256.072700   \n",
       "2019-12-27 11:10:41  12/27/2019 11:10:41 AM          256.072643   \n",
       "2019-12-27 11:11:31  12/27/2019 11:11:31 AM          256.072700   \n",
       "2019-12-27 11:12:21  12/27/2019 11:12:21 AM          256.072700   \n",
       "2019-12-27 11:13:11  12/27/2019 11:13:11 AM          256.072757   \n",
       "2019-12-27 11:14:02  12/27/2019 11:14:02 AM          256.072700   \n",
       "2019-12-27 11:14:51  12/27/2019 11:14:51 AM          256.072643   \n",
       "2019-12-27 11:15:41  12/27/2019 11:15:41 AM          256.072700   \n",
       "2019-12-27 11:16:31  12/27/2019 11:16:31 AM          256.072700   \n",
       "2019-12-27 11:17:21  12/27/2019 11:17:21 AM          256.072700   \n",
       "2019-12-27 11:18:11  12/27/2019 11:18:11 AM          256.072700   \n",
       "2019-12-27 11:19:01  12/27/2019 11:19:01 AM          256.072643   \n",
       "2019-12-27 11:19:51  12/27/2019 11:19:51 AM          256.072700   \n",
       "2019-12-27 11:20:41  12/27/2019 11:20:41 AM          256.072700   \n",
       "2019-12-27 11:21:31  12/27/2019 11:21:31 AM          256.072700   \n",
       "2019-12-27 11:22:21  12/27/2019 11:22:21 AM          256.072700   \n",
       "2019-12-27 11:23:11  12/27/2019 11:23:11 AM          256.072700   \n",
       "2019-12-27 11:24:01  12/27/2019 11:24:01 AM          256.072700   \n",
       "2019-12-27 11:24:51  12/27/2019 11:24:51 AM          256.072643   \n",
       "2019-12-27 11:25:41  12/27/2019 11:25:41 AM          256.072700   \n",
       "2019-12-27 11:26:31  12/27/2019 11:26:31 AM          256.072700   \n",
       "2019-12-27 11:27:21  12/27/2019 11:27:21 AM          256.072700   \n",
       "2019-12-27 11:28:11  12/27/2019 11:28:11 AM          256.072700   \n",
       "2019-12-27 11:29:02  12/27/2019 11:29:02 AM          256.072757   \n",
       "\n",
       "                     Magnet Voltage [V]  Coil 1 (new)  Coil 2 (old)  \\\n",
       "Datetime                                                              \n",
       "2019-12-13 11:20:10           30.961017     33.549297     31.119984   \n",
       "2019-12-13 11:21:00           30.958833     33.572384     31.076975   \n",
       "2019-12-13 11:21:50           30.956683     33.515110     31.088324   \n",
       "2019-12-13 11:22:40           30.954517     33.549179     31.075892   \n",
       "2019-12-13 11:23:30           30.952550     33.496910     31.055244   \n",
       "2019-12-13 11:24:20           30.950333     33.482323     31.040310   \n",
       "2019-12-13 11:25:10           30.948300     33.464439     31.019918   \n",
       "2019-12-13 11:26:00           30.946300     33.429817     31.011446   \n",
       "2019-12-13 11:26:50           30.944400     33.453201     30.982565   \n",
       "2019-12-13 11:27:40           30.942533     33.422878     30.976280   \n",
       "2019-12-13 11:28:30           30.940683     33.415287     30.954056   \n",
       "2019-12-13 11:29:21           30.938867     33.375107     30.938631   \n",
       "2019-12-13 11:30:10           30.937100     33.386524     30.931519   \n",
       "2019-12-13 11:31:00           30.935317     33.345848     30.923658   \n",
       "2019-12-13 11:31:50           30.933533     33.379444     30.922161   \n",
       "2019-12-13 11:32:40           30.931667     33.359177     30.898006   \n",
       "2019-12-13 11:33:30           30.929950     33.347366     30.867964   \n",
       "2019-12-13 11:34:20           30.928233     33.340900     30.858900   \n",
       "2019-12-13 11:35:10           30.926500     33.336346     30.866999   \n",
       "2019-12-13 11:36:00           30.924767     33.307190     30.843357   \n",
       "2019-12-13 11:36:50           30.923067     33.297234     30.816486   \n",
       "2019-12-13 11:37:40           30.921433     33.286762     30.805237   \n",
       "2019-12-13 11:38:30           30.919933     33.253326     30.802578   \n",
       "2019-12-13 11:39:20           30.918417     33.232666     30.781202   \n",
       "2019-12-13 11:40:10           30.916900     33.248417     30.787565   \n",
       "2019-12-13 11:41:00           30.915583     33.252678     30.775982   \n",
       "2019-12-13 11:41:50           30.914333     33.219734     30.770802   \n",
       "2019-12-13 11:42:40           30.913117     33.200512     30.755356   \n",
       "2019-12-13 11:43:30           30.911950     33.197277     30.736799   \n",
       "2019-12-13 11:44:21           30.910667     33.202660     30.727797   \n",
       "...                                 ...           ...           ...   \n",
       "2019-12-27 11:04:51           30.992300     33.712772     31.298805   \n",
       "2019-12-27 11:05:41           30.991917     33.679588     31.293348   \n",
       "2019-12-27 11:06:31           30.991600     33.710838     31.283438   \n",
       "2019-12-27 11:07:20           30.991067     33.712021     31.290865   \n",
       "2019-12-27 11:08:11           30.990400     33.686390     31.290276   \n",
       "2019-12-27 11:09:01           30.989633     33.700603     31.272718   \n",
       "2019-12-27 11:09:51           30.988833     33.704884     31.272877   \n",
       "2019-12-27 11:10:41           30.987933     33.697392     31.265745   \n",
       "2019-12-27 11:11:31           30.986967     33.700291     31.261232   \n",
       "2019-12-27 11:12:21           30.986033     33.649498     31.255972   \n",
       "2019-12-27 11:13:11           30.984967     33.670773     31.243204   \n",
       "2019-12-27 11:14:02           30.983833     33.651054     31.228584   \n",
       "2019-12-27 11:14:51           30.982717     33.609985     31.216862   \n",
       "2019-12-27 11:15:41           30.981550     33.665115     31.214615   \n",
       "2019-12-27 11:16:31           30.980400     33.599556     31.196882   \n",
       "2019-12-27 11:17:21           30.979267     33.639561     31.185987   \n",
       "2019-12-27 11:18:11           30.978117     33.628143     31.179348   \n",
       "2019-12-27 11:19:01           30.976917     33.604446     31.169556   \n",
       "2019-12-27 11:19:51           30.975783     33.629959     31.169556   \n",
       "2019-12-27 11:20:41           30.974633     33.544724     31.155153   \n",
       "2019-12-27 11:21:31           30.973483     33.571991     31.147686   \n",
       "2019-12-27 11:22:21           30.972350     33.535870     31.154129   \n",
       "2019-12-27 11:23:11           30.971250     33.561878     31.137480   \n",
       "2019-12-27 11:24:01           30.970117     33.553005     31.107750   \n",
       "2019-12-27 11:24:51           30.969083     33.567852     31.123274   \n",
       "2019-12-27 11:25:41           30.968117     33.544369     31.117010   \n",
       "2019-12-27 11:26:31           30.967150     33.565819     31.101524   \n",
       "2019-12-27 11:27:21           30.966150     33.545258     31.085978   \n",
       "2019-12-27 11:28:11           30.965217     33.462921     31.083595   \n",
       "2019-12-27 11:29:02           30.964317     33.513336     31.086805   \n",
       "\n",
       "                     LCW in Coil1  LCW out Coil 1  LCW in Coil 2  \\\n",
       "Datetime                                                           \n",
       "2019-12-13 11:20:10      7.549104       10.463340      12.334523   \n",
       "2019-12-13 11:21:00      7.546639       10.444542      12.321710   \n",
       "2019-12-13 11:21:50      7.504282       10.426469      12.294535   \n",
       "2019-12-13 11:22:40      7.492641       10.419066      12.282623   \n",
       "2019-12-13 11:23:30      7.472020       10.411821      12.273101   \n",
       "2019-12-13 11:24:20      7.478202       10.385602      12.247592   \n",
       "2019-12-13 11:25:10      7.466934       10.388030      12.240971   \n",
       "2019-12-13 11:26:00      7.465701       10.371524      12.243831   \n",
       "2019-12-13 11:26:50      7.443418       10.356134      12.226747   \n",
       "2019-12-13 11:27:40      7.431992       10.350885      12.217675   \n",
       "2019-12-13 11:28:30      7.425164       10.344032      12.194930   \n",
       "2019-12-13 11:29:21      7.411548       10.320339      12.189013   \n",
       "2019-12-13 11:30:10      7.400103       10.310569      12.183292   \n",
       "2019-12-13 11:31:00      7.396523       10.291575      12.168344   \n",
       "2019-12-13 11:31:50      7.385626       10.285701      12.152769   \n",
       "2019-12-13 11:32:40      7.369701       10.269685      12.147323   \n",
       "2019-12-13 11:33:30      7.336698       10.259229      12.146990   \n",
       "2019-12-13 11:34:20      7.337245       10.250379      12.129553   \n",
       "2019-12-13 11:35:10      7.318230       10.238885      12.120150   \n",
       "2019-12-13 11:36:00      7.330652       10.233148      12.105985   \n",
       "2019-12-13 11:36:50      7.333059       10.220303      12.091330   \n",
       "2019-12-13 11:37:40      7.326133       10.219069      12.073777   \n",
       "2019-12-13 11:38:30      7.307920       10.203249      12.090175   \n",
       "2019-12-13 11:39:20      7.275269       10.186743      12.082907   \n",
       "2019-12-13 11:40:10      7.260225       10.183003      12.081555   \n",
       "2019-12-13 11:41:00      7.275856       10.186977      12.063727   \n",
       "2019-12-13 11:41:50      7.281784       10.181926      12.062631   \n",
       "2019-12-13 11:42:40      7.283173       10.179752      12.061808   \n",
       "2019-12-13 11:43:30      7.269009       10.159155      12.055088   \n",
       "2019-12-13 11:44:21      7.264920       10.162738      12.048564   \n",
       "...                           ...             ...            ...   \n",
       "2019-12-27 11:04:51      8.067665       10.983838      12.453608   \n",
       "2019-12-27 11:05:41      8.066844       10.967426      12.439285   \n",
       "2019-12-27 11:06:31      8.033246       10.952797      12.429958   \n",
       "2019-12-27 11:07:20      8.015498       10.936973      12.417890   \n",
       "2019-12-27 11:08:11      7.998710       10.925849      12.405507   \n",
       "2019-12-27 11:09:01      7.972373       10.907439      12.394966   \n",
       "2019-12-27 11:09:51      7.966756       10.889168      12.373139   \n",
       "2019-12-27 11:10:41      7.926351       10.875381      12.376510   \n",
       "2019-12-27 11:11:31      7.939265       10.865843      12.363500   \n",
       "2019-12-27 11:12:21      7.915393       10.845770      12.349217   \n",
       "2019-12-27 11:13:11      7.923846       10.835156      12.331740   \n",
       "2019-12-27 11:14:02      7.904064       10.826069      12.330330   \n",
       "2019-12-27 11:14:51      7.880330       10.816512      12.312226   \n",
       "2019-12-27 11:15:41      7.877865       10.808463      12.310502   \n",
       "2019-12-27 11:16:31      7.854287       10.790935      12.302744   \n",
       "2019-12-27 11:17:21      7.845071       10.780478      12.305076   \n",
       "2019-12-27 11:18:11      7.832392       10.768317      12.297238   \n",
       "2019-12-27 11:19:01      7.830729       10.761287      12.287247   \n",
       "2019-12-27 11:19:51      7.819244       10.753512      12.272807   \n",
       "2019-12-27 11:20:41      7.794258       10.747540      12.276784   \n",
       "2019-12-27 11:21:31      7.808756       10.740215      12.257330   \n",
       "2019-12-27 11:22:21      7.796019       10.728034      12.257878   \n",
       "2019-12-27 11:23:11      7.789895       10.726134      12.239599   \n",
       "2019-12-27 11:24:01      7.807974       10.722669      12.240677   \n",
       "2019-12-27 11:24:51      7.799560       10.713249      12.227902   \n",
       "2019-12-27 11:25:41      7.799032       10.712290      12.222770   \n",
       "2019-12-27 11:26:31      7.772598       10.700833      12.227118   \n",
       "2019-12-27 11:27:21      7.761485       10.698013      12.222907   \n",
       "2019-12-27 11:28:11      7.752289       10.692882      12.223123   \n",
       "2019-12-27 11:29:02      7.760722       10.688633      12.222573   \n",
       "\n",
       "                     LCW out Coil 2       Yoke          ...           \\\n",
       "Datetime                                                ...            \n",
       "2019-12-13 11:20:10       14.516138  20.578840          ...            \n",
       "2019-12-13 11:21:00       14.500689  20.559849          ...            \n",
       "2019-12-13 11:21:50       14.481849  20.536831          ...            \n",
       "2019-12-13 11:22:40       14.467204  20.528875          ...            \n",
       "2019-12-13 11:23:30       14.450148  20.508961          ...            \n",
       "2019-12-13 11:24:20       14.435091  20.490322          ...            \n",
       "2019-12-13 11:25:10       14.422956  20.474533          ...            \n",
       "2019-12-13 11:26:00       14.411193  20.455461          ...            \n",
       "2019-12-13 11:26:50       14.400058  20.440203          ...            \n",
       "2019-12-13 11:27:40       14.389746  20.430403          ...            \n",
       "2019-12-13 11:28:30       14.377669  20.406933          ...            \n",
       "2019-12-13 11:29:21       14.366632  20.397623          ...            \n",
       "2019-12-13 11:30:10       14.349871  20.369127          ...            \n",
       "2019-12-13 11:31:00       14.340383  20.353672          ...            \n",
       "2019-12-13 11:31:50       14.319700  20.341358          ...            \n",
       "2019-12-13 11:32:40       14.308017  20.324606          ...            \n",
       "2019-12-13 11:33:30       14.294117  20.302452          ...            \n",
       "2019-12-13 11:34:20       14.283394  20.291004          ...            \n",
       "2019-12-13 11:35:10       14.274945  20.272091          ...            \n",
       "2019-12-13 11:36:00       14.254675  20.257578          ...            \n",
       "2019-12-13 11:36:50       14.249891  20.246483          ...            \n",
       "2019-12-13 11:37:40       14.239502  20.229162          ...            \n",
       "2019-12-13 11:38:30       14.228484  20.211193          ...            \n",
       "2019-12-13 11:39:20       14.216390  20.193951          ...            \n",
       "2019-12-13 11:40:10       14.209724  20.175745          ...            \n",
       "2019-12-13 11:41:00       14.208666  20.156029          ...            \n",
       "2019-12-13 11:41:50       14.202196  20.147093          ...            \n",
       "2019-12-13 11:42:40       14.202647  20.135330          ...            \n",
       "2019-12-13 11:43:30       14.187925  20.113846          ...            \n",
       "2019-12-13 11:44:21       14.180280  20.103949          ...            \n",
       "...                             ...        ...          ...            \n",
       "2019-12-27 11:04:51       14.967870  16.915459          ...            \n",
       "2019-12-27 11:05:41       14.955164  16.918207          ...            \n",
       "2019-12-27 11:06:31       14.941046  16.918991          ...            \n",
       "2019-12-27 11:07:20       14.927047  16.921070          ...            \n",
       "2019-12-27 11:08:11       14.913674  16.923660          ...            \n",
       "2019-12-27 11:09:01       14.899008  16.923838          ...            \n",
       "2019-12-27 11:09:51       14.886126  16.924641          ...            \n",
       "2019-12-27 11:10:41       14.877930  16.924856          ...            \n",
       "2019-12-27 11:11:31       14.864655  16.927820          ...            \n",
       "2019-12-27 11:12:21       14.848657  16.927977          ...            \n",
       "2019-12-27 11:13:11       14.836206  16.929369          ...            \n",
       "2019-12-27 11:14:02       14.822226  16.926838          ...            \n",
       "2019-12-27 11:14:51       14.811795  16.928389          ...            \n",
       "2019-12-27 11:15:41       14.808286  16.931194          ...            \n",
       "2019-12-27 11:16:31       14.792914  16.930683          ...            \n",
       "2019-12-27 11:17:21       14.784150  16.933294          ...            \n",
       "2019-12-27 11:18:11       14.774465  16.932724          ...            \n",
       "2019-12-27 11:19:01       14.765799  16.932489          ...            \n",
       "2019-12-27 11:19:51       14.754799  16.933647          ...            \n",
       "2019-12-27 11:20:41       14.747878  16.931665          ...            \n",
       "2019-12-27 11:21:31       14.741251  16.932745          ...            \n",
       "2019-12-27 11:22:21       14.731428  16.932901          ...            \n",
       "2019-12-27 11:23:11       14.720350  16.932097          ...            \n",
       "2019-12-27 11:24:01       14.717899  16.934549          ...            \n",
       "2019-12-27 11:24:51       14.709077  16.933254          ...            \n",
       "2019-12-27 11:25:41       14.701529  16.934549          ...            \n",
       "2019-12-27 11:26:31       14.700392  16.933235          ...            \n",
       "2019-12-27 11:27:21       14.689158  16.934921          ...            \n",
       "2019-12-27 11:28:11       14.688001  16.935392          ...            \n",
       "2019-12-27 11:29:02       14.682413  16.937099          ...            \n",
       "\n",
       "                     C50000000D5E473A_Cal_Z  DF0000000D5E803A_Cal_T  \\\n",
       "Datetime                                                              \n",
       "2019-12-13 11:20:10               -0.004689                  16.668   \n",
       "2019-12-13 11:21:00               -0.004700                  16.602   \n",
       "2019-12-13 11:21:50               -0.004701                  16.608   \n",
       "2019-12-13 11:22:40               -0.004674                  16.630   \n",
       "2019-12-13 11:23:30               -0.004699                  16.599   \n",
       "2019-12-13 11:24:20               -0.004709                  16.604   \n",
       "2019-12-13 11:25:10               -0.004710                  16.575   \n",
       "2019-12-13 11:26:00               -0.004717                  16.574   \n",
       "2019-12-13 11:26:50               -0.004687                  16.557   \n",
       "2019-12-13 11:27:40               -0.004690                  16.568   \n",
       "2019-12-13 11:28:30               -0.004691                  16.578   \n",
       "2019-12-13 11:29:21               -0.004712                  16.567   \n",
       "2019-12-13 11:30:10               -0.004692                  16.559   \n",
       "2019-12-13 11:31:00               -0.004720                  16.544   \n",
       "2019-12-13 11:31:50               -0.004717                  16.550   \n",
       "2019-12-13 11:32:40               -0.004684                  16.535   \n",
       "2019-12-13 11:33:30               -0.004725                  16.542   \n",
       "2019-12-13 11:34:20               -0.004696                  16.546   \n",
       "2019-12-13 11:35:10               -0.004675                  16.530   \n",
       "2019-12-13 11:36:00               -0.004695                  16.549   \n",
       "2019-12-13 11:36:50               -0.004696                  16.571   \n",
       "2019-12-13 11:37:40               -0.004697                  16.560   \n",
       "2019-12-13 11:38:30               -0.004710                  16.519   \n",
       "2019-12-13 11:39:20               -0.004729                  16.533   \n",
       "2019-12-13 11:40:10               -0.004727                  16.516   \n",
       "2019-12-13 11:41:00               -0.004712                  16.499   \n",
       "2019-12-13 11:41:50               -0.004686                  16.497   \n",
       "2019-12-13 11:42:40               -0.004697                  16.504   \n",
       "2019-12-13 11:43:30               -0.004674                  16.499   \n",
       "2019-12-13 11:44:21               -0.004687                  16.522   \n",
       "...                                     ...                     ...   \n",
       "2019-12-27 11:04:51               -0.004710                  16.187   \n",
       "2019-12-27 11:05:41               -0.004721                  16.201   \n",
       "2019-12-27 11:06:31               -0.004705                  16.189   \n",
       "2019-12-27 11:07:20               -0.004706                  16.199   \n",
       "2019-12-27 11:08:11               -0.004670                  16.215   \n",
       "2019-12-27 11:09:01               -0.004680                  16.183   \n",
       "2019-12-27 11:09:51               -0.004670                  16.184   \n",
       "2019-12-27 11:10:41               -0.004672                  16.177   \n",
       "2019-12-27 11:11:31               -0.004661                  16.178   \n",
       "2019-12-27 11:12:21               -0.004692                  16.196   \n",
       "2019-12-27 11:13:11               -0.004703                  16.190   \n",
       "2019-12-27 11:14:02               -0.004704                  16.197   \n",
       "2019-12-27 11:14:51               -0.004693                  16.191   \n",
       "2019-12-27 11:15:41               -0.004657                  16.198   \n",
       "2019-12-27 11:16:31               -0.004649                  16.182   \n",
       "2019-12-27 11:17:21               -0.004675                  16.189   \n",
       "2019-12-27 11:18:11               -0.004672                  16.185   \n",
       "2019-12-27 11:19:01               -0.004678                  16.167   \n",
       "2019-12-27 11:19:51               -0.004657                  16.184   \n",
       "2019-12-27 11:20:41               -0.004706                  16.198   \n",
       "2019-12-27 11:21:31               -0.004708                  16.173   \n",
       "2019-12-27 11:22:21               -0.004664                  16.189   \n",
       "2019-12-27 11:23:11               -0.004696                  16.195   \n",
       "2019-12-27 11:24:01               -0.004694                  16.178   \n",
       "2019-12-27 11:24:51               -0.004701                  16.185   \n",
       "2019-12-27 11:25:41               -0.004662                  16.184   \n",
       "2019-12-27 11:26:31               -0.004692                  16.176   \n",
       "2019-12-27 11:27:21               -0.004682                  16.181   \n",
       "2019-12-27 11:28:11               -0.004703                  16.163   \n",
       "2019-12-27 11:29:02               -0.004697                  16.185   \n",
       "\n",
       "                     6A0000000D61333A_Cal_T  C50000000D5E473A_Cal_T  \\\n",
       "Datetime                                                              \n",
       "2019-12-13 11:20:10                  17.473                  16.992   \n",
       "2019-12-13 11:21:00                  17.491                  16.973   \n",
       "2019-12-13 11:21:50                  17.493                  16.972   \n",
       "2019-12-13 11:22:40                  17.486                  16.981   \n",
       "2019-12-13 11:23:30                  17.472                  16.948   \n",
       "2019-12-13 11:24:20                  17.472                  16.963   \n",
       "2019-12-13 11:25:10                  17.453                  16.944   \n",
       "2019-12-13 11:26:00                  17.448                  16.927   \n",
       "2019-12-13 11:26:50                  17.442                  16.917   \n",
       "2019-12-13 11:27:40                  17.450                  16.905   \n",
       "2019-12-13 11:28:30                  17.436                  16.919   \n",
       "2019-12-13 11:29:21                  17.420                  16.898   \n",
       "2019-12-13 11:30:10                  17.408                  16.881   \n",
       "2019-12-13 11:31:00                  17.418                  16.896   \n",
       "2019-12-13 11:31:50                  17.399                  16.875   \n",
       "2019-12-13 11:32:40                  17.375                  16.867   \n",
       "2019-12-13 11:33:30                  17.376                  16.850   \n",
       "2019-12-13 11:34:20                  17.370                  16.879   \n",
       "2019-12-13 11:35:10                  17.366                  16.858   \n",
       "2019-12-13 11:36:00                  17.361                  16.845   \n",
       "2019-12-13 11:36:50                  17.345                  16.872   \n",
       "2019-12-13 11:37:40                  17.349                  16.838   \n",
       "2019-12-13 11:38:30                  17.345                  16.854   \n",
       "2019-12-13 11:39:20                  17.349                  16.820   \n",
       "2019-12-13 11:40:10                  17.351                  16.846   \n",
       "2019-12-13 11:41:00                  17.350                  16.832   \n",
       "2019-12-13 11:41:50                  17.350                  16.833   \n",
       "2019-12-13 11:42:40                  17.335                  16.866   \n",
       "2019-12-13 11:43:30                  17.331                  16.850   \n",
       "2019-12-13 11:44:21                  17.324                  16.838   \n",
       "...                                     ...                     ...   \n",
       "2019-12-27 11:04:51                  16.947                  16.622   \n",
       "2019-12-27 11:05:41                  16.947                  16.643   \n",
       "2019-12-27 11:06:31                  16.945                  16.599   \n",
       "2019-12-27 11:07:20                  16.937                  16.613   \n",
       "2019-12-27 11:08:11                  16.936                  16.615   \n",
       "2019-12-27 11:09:01                  16.940                  16.618   \n",
       "2019-12-27 11:09:51                  16.945                  16.616   \n",
       "2019-12-27 11:10:41                  16.948                  16.607   \n",
       "2019-12-27 11:11:31                  16.939                  16.599   \n",
       "2019-12-27 11:12:21                  16.946                  16.624   \n",
       "2019-12-27 11:13:11                  16.941                  16.636   \n",
       "2019-12-27 11:14:02                  16.956                  16.645   \n",
       "2019-12-27 11:14:51                  16.942                  16.629   \n",
       "2019-12-27 11:15:41                  16.944                  16.641   \n",
       "2019-12-27 11:16:31                  16.935                  16.610   \n",
       "2019-12-27 11:17:21                  16.939                  16.619   \n",
       "2019-12-27 11:18:11                  16.938                  16.613   \n",
       "2019-12-27 11:19:01                  16.946                  16.616   \n",
       "2019-12-27 11:19:51                  16.930                  16.589   \n",
       "2019-12-27 11:20:41                  16.956                  16.585   \n",
       "2019-12-27 11:21:31                  16.931                  16.622   \n",
       "2019-12-27 11:22:21                  16.941                  16.596   \n",
       "2019-12-27 11:23:11                  16.932                  16.627   \n",
       "2019-12-27 11:24:01                  16.930                  16.620   \n",
       "2019-12-27 11:24:51                  16.935                  16.623   \n",
       "2019-12-27 11:25:41                  16.930                  16.629   \n",
       "2019-12-27 11:26:31                  16.926                  16.601   \n",
       "2019-12-27 11:27:21                  16.933                  16.591   \n",
       "2019-12-27 11:28:11                  16.954                  16.598   \n",
       "2019-12-27 11:29:02                  16.962                  16.611   \n",
       "\n",
       "                     Zaber_Meas_MicroStep_X  Zaber_Meas_Encoder_X  \\\n",
       "Datetime                                                            \n",
       "2019-12-13 11:20:10            249952.34375              639878.0   \n",
       "2019-12-13 11:21:00            249952.34375              639878.0   \n",
       "2019-12-13 11:21:50            249952.34375              639878.0   \n",
       "2019-12-13 11:22:40            249952.34375              639878.0   \n",
       "2019-12-13 11:23:30            249952.34375              639878.0   \n",
       "2019-12-13 11:24:20            249952.34375              639878.0   \n",
       "2019-12-13 11:25:10            249952.34375              639878.0   \n",
       "2019-12-13 11:26:00            249952.34375              639878.0   \n",
       "2019-12-13 11:26:50            249952.34375              639878.0   \n",
       "2019-12-13 11:27:40            249952.34375              639878.0   \n",
       "2019-12-13 11:28:30            249952.34375              639878.0   \n",
       "2019-12-13 11:29:21            249952.34375              639878.0   \n",
       "2019-12-13 11:30:10            249952.34375              639878.0   \n",
       "2019-12-13 11:31:00            249952.34375              639878.0   \n",
       "2019-12-13 11:31:50            249952.34375              639878.0   \n",
       "2019-12-13 11:32:40            249952.34375              639878.0   \n",
       "2019-12-13 11:33:30            249952.34375              639878.0   \n",
       "2019-12-13 11:34:20            249952.34375              639878.0   \n",
       "2019-12-13 11:35:10            249952.34375              639878.0   \n",
       "2019-12-13 11:36:00            249952.34375              639878.0   \n",
       "2019-12-13 11:36:50            249952.34375              639878.0   \n",
       "2019-12-13 11:37:40            249952.34375              639878.0   \n",
       "2019-12-13 11:38:30            249952.34375              639878.0   \n",
       "2019-12-13 11:39:20            249952.34375              639878.0   \n",
       "2019-12-13 11:40:10            249952.34375              639878.0   \n",
       "2019-12-13 11:41:00            249952.34375              639878.0   \n",
       "2019-12-13 11:41:50            249952.34375              639878.0   \n",
       "2019-12-13 11:42:40            249952.34375              639878.0   \n",
       "2019-12-13 11:43:30            249952.34375              639878.0   \n",
       "2019-12-13 11:44:21            249952.34375              639878.0   \n",
       "...                                     ...                   ...   \n",
       "2019-12-27 11:04:51            249952.34375              639878.0   \n",
       "2019-12-27 11:05:41            249952.34375              639878.0   \n",
       "2019-12-27 11:06:31            249952.34375              639878.0   \n",
       "2019-12-27 11:07:20            249952.34375              639878.0   \n",
       "2019-12-27 11:08:11            249952.34375              639878.0   \n",
       "2019-12-27 11:09:01            249952.34375              639878.0   \n",
       "2019-12-27 11:09:51            249952.34375              639878.0   \n",
       "2019-12-27 11:10:41            249952.34375              639878.0   \n",
       "2019-12-27 11:11:31            249952.34375              639878.0   \n",
       "2019-12-27 11:12:21            249952.34375              639878.0   \n",
       "2019-12-27 11:13:11            249952.34375              639878.0   \n",
       "2019-12-27 11:14:02            249952.34375              639878.0   \n",
       "2019-12-27 11:14:51            249952.34375              639878.0   \n",
       "2019-12-27 11:15:41            249952.34375              639878.0   \n",
       "2019-12-27 11:16:31            249952.34375              639878.0   \n",
       "2019-12-27 11:17:21            249952.34375              639878.0   \n",
       "2019-12-27 11:18:11            249952.34375              639878.0   \n",
       "2019-12-27 11:19:01            249952.34375              639878.0   \n",
       "2019-12-27 11:19:51            249952.34375              639878.0   \n",
       "2019-12-27 11:20:41            249952.34375              639878.0   \n",
       "2019-12-27 11:21:31            249952.34375              639878.0   \n",
       "2019-12-27 11:22:21            249952.34375              639878.0   \n",
       "2019-12-27 11:23:11            249952.34375              639878.0   \n",
       "2019-12-27 11:24:01            249952.34375              639878.0   \n",
       "2019-12-27 11:24:51            249952.34375              639878.0   \n",
       "2019-12-27 11:25:41            249952.34375              639878.0   \n",
       "2019-12-27 11:26:31            249952.34375              639878.0   \n",
       "2019-12-27 11:27:21            249952.34375              639878.0   \n",
       "2019-12-27 11:28:11            249952.34375              639878.0   \n",
       "2019-12-27 11:29:02            249952.34375              639878.0   \n",
       "\n",
       "                     Zaber_Meas_MicroStep_Y  Zaber_Meas_Encoder_Y  \\\n",
       "Datetime                                                            \n",
       "2019-12-13 11:20:10           184468.359375              472239.0   \n",
       "2019-12-13 11:21:00           184468.359375              472239.0   \n",
       "2019-12-13 11:21:50           184468.359375              472239.0   \n",
       "2019-12-13 11:22:40           184468.359375              472239.0   \n",
       "2019-12-13 11:23:30           184468.359375              472239.0   \n",
       "2019-12-13 11:24:20           184468.359375              472239.0   \n",
       "2019-12-13 11:25:10           184468.359375              472239.0   \n",
       "2019-12-13 11:26:00           184468.359375              472239.0   \n",
       "2019-12-13 11:26:50           184468.359375              472239.0   \n",
       "2019-12-13 11:27:40           184468.359375              472239.0   \n",
       "2019-12-13 11:28:30           184468.359375              472239.0   \n",
       "2019-12-13 11:29:21           184468.359375              472239.0   \n",
       "2019-12-13 11:30:10           184468.359375              472239.0   \n",
       "2019-12-13 11:31:00           184468.359375              472239.0   \n",
       "2019-12-13 11:31:50           184468.359375              472239.0   \n",
       "2019-12-13 11:32:40           184468.359375              472239.0   \n",
       "2019-12-13 11:33:30           184468.359375              472239.0   \n",
       "2019-12-13 11:34:20           184468.359375              472239.0   \n",
       "2019-12-13 11:35:10           184468.359375              472239.0   \n",
       "2019-12-13 11:36:00           184468.359375              472239.0   \n",
       "2019-12-13 11:36:50           184468.359375              472239.0   \n",
       "2019-12-13 11:37:40           184468.359375              472239.0   \n",
       "2019-12-13 11:38:30           184468.359375              472239.0   \n",
       "2019-12-13 11:39:20           184468.359375              472239.0   \n",
       "2019-12-13 11:40:10           184468.359375              472239.0   \n",
       "2019-12-13 11:41:00           184468.359375              472239.0   \n",
       "2019-12-13 11:41:50           184468.359375              472239.0   \n",
       "2019-12-13 11:42:40           184468.359375              472239.0   \n",
       "2019-12-13 11:43:30           184468.359375              472239.0   \n",
       "2019-12-13 11:44:21           184468.359375              472239.0   \n",
       "...                                     ...                   ...   \n",
       "2019-12-27 11:04:51           184468.359375              472239.0   \n",
       "2019-12-27 11:05:41           184468.359375              472239.0   \n",
       "2019-12-27 11:06:31           184468.359375              472239.0   \n",
       "2019-12-27 11:07:20           184468.359375              472239.0   \n",
       "2019-12-27 11:08:11           184468.359375              472239.0   \n",
       "2019-12-27 11:09:01           184468.359375              472239.0   \n",
       "2019-12-27 11:09:51           184468.359375              472239.0   \n",
       "2019-12-27 11:10:41           184468.359375              472239.0   \n",
       "2019-12-27 11:11:31           184468.359375              472239.0   \n",
       "2019-12-27 11:12:21           184468.359375              472239.0   \n",
       "2019-12-27 11:13:11           184468.359375              472239.0   \n",
       "2019-12-27 11:14:02           184468.359375              472239.0   \n",
       "2019-12-27 11:14:51           184468.359375              472239.0   \n",
       "2019-12-27 11:15:41           184468.359375              472239.0   \n",
       "2019-12-27 11:16:31           184468.359375              472239.0   \n",
       "2019-12-27 11:17:21           184468.359375              472239.0   \n",
       "2019-12-27 11:18:11           184468.359375              472239.0   \n",
       "2019-12-27 11:19:01           184468.359375              472239.0   \n",
       "2019-12-27 11:19:51           184468.359375              472239.0   \n",
       "2019-12-27 11:20:41           184468.359375              472239.0   \n",
       "2019-12-27 11:21:31           184468.359375              472239.0   \n",
       "2019-12-27 11:22:21           184468.359375              472239.0   \n",
       "2019-12-27 11:23:11           184468.359375              472239.0   \n",
       "2019-12-27 11:24:01           184468.359375              472239.0   \n",
       "2019-12-27 11:24:51           184468.359375              472239.0   \n",
       "2019-12-27 11:25:41           184468.359375              472239.0   \n",
       "2019-12-27 11:26:31           184468.359375              472239.0   \n",
       "2019-12-27 11:27:21           184468.359375              472239.0   \n",
       "2019-12-27 11:28:11           184468.359375              472239.0   \n",
       "2019-12-27 11:29:02           184468.359375              472239.0   \n",
       "\n",
       "                     Zaber_Meas_MicroStep_Z  Zaber_Meas_Encoder_Z  \n",
       "Datetime                                                           \n",
       "2019-12-13 11:20:10                750100.0             1920256.0  \n",
       "2019-12-13 11:21:00                750100.0             1920256.0  \n",
       "2019-12-13 11:21:50                750100.0             1920256.0  \n",
       "2019-12-13 11:22:40                750100.0             1920256.0  \n",
       "2019-12-13 11:23:30                750100.0             1920256.0  \n",
       "2019-12-13 11:24:20                750100.0             1920256.0  \n",
       "2019-12-13 11:25:10                750100.0             1920256.0  \n",
       "2019-12-13 11:26:00                750100.0             1920256.0  \n",
       "2019-12-13 11:26:50                750100.0             1920256.0  \n",
       "2019-12-13 11:27:40                750100.0             1920256.0  \n",
       "2019-12-13 11:28:30                750100.0             1920256.0  \n",
       "2019-12-13 11:29:21                750100.0             1920256.0  \n",
       "2019-12-13 11:30:10                750100.0             1920256.0  \n",
       "2019-12-13 11:31:00                750100.0             1920256.0  \n",
       "2019-12-13 11:31:50                750100.0             1920256.0  \n",
       "2019-12-13 11:32:40                750100.0             1920256.0  \n",
       "2019-12-13 11:33:30                750100.0             1920256.0  \n",
       "2019-12-13 11:34:20                750100.0             1920256.0  \n",
       "2019-12-13 11:35:10                750100.0             1920256.0  \n",
       "2019-12-13 11:36:00                750100.0             1920256.0  \n",
       "2019-12-13 11:36:50                750100.0             1920256.0  \n",
       "2019-12-13 11:37:40                750100.0             1920256.0  \n",
       "2019-12-13 11:38:30                750100.0             1920256.0  \n",
       "2019-12-13 11:39:20                750100.0             1920256.0  \n",
       "2019-12-13 11:40:10                750100.0             1920256.0  \n",
       "2019-12-13 11:41:00                750100.0             1920256.0  \n",
       "2019-12-13 11:41:50                750100.0             1920256.0  \n",
       "2019-12-13 11:42:40                750100.0             1920256.0  \n",
       "2019-12-13 11:43:30                750100.0             1920256.0  \n",
       "2019-12-13 11:44:21                750100.0             1920256.0  \n",
       "...                                     ...                   ...  \n",
       "2019-12-27 11:04:51                750100.0             1920256.0  \n",
       "2019-12-27 11:05:41                750100.0             1920256.0  \n",
       "2019-12-27 11:06:31                750100.0             1920256.0  \n",
       "2019-12-27 11:07:20                750100.0             1920256.0  \n",
       "2019-12-27 11:08:11                750100.0             1920256.0  \n",
       "2019-12-27 11:09:01                750100.0             1920256.0  \n",
       "2019-12-27 11:09:51                750100.0             1920256.0  \n",
       "2019-12-27 11:10:41                750100.0             1920256.0  \n",
       "2019-12-27 11:11:31                750100.0             1920256.0  \n",
       "2019-12-27 11:12:21                750100.0             1920256.0  \n",
       "2019-12-27 11:13:11                750100.0             1920256.0  \n",
       "2019-12-27 11:14:02                750100.0             1920256.0  \n",
       "2019-12-27 11:14:51                750100.0             1920256.0  \n",
       "2019-12-27 11:15:41                750100.0             1920256.0  \n",
       "2019-12-27 11:16:31                750100.0             1920256.0  \n",
       "2019-12-27 11:17:21                750100.0             1920256.0  \n",
       "2019-12-27 11:18:11                750100.0             1920256.0  \n",
       "2019-12-27 11:19:01                750100.0             1920256.0  \n",
       "2019-12-27 11:19:51                750100.0             1920256.0  \n",
       "2019-12-27 11:20:41                750100.0             1920256.0  \n",
       "2019-12-27 11:21:31                750100.0             1920256.0  \n",
       "2019-12-27 11:22:21                750100.0             1920256.0  \n",
       "2019-12-27 11:23:11                750100.0             1920256.0  \n",
       "2019-12-27 11:24:01                750100.0             1920256.0  \n",
       "2019-12-27 11:24:51                750100.0             1920256.0  \n",
       "2019-12-27 11:25:41                750100.0             1920256.0  \n",
       "2019-12-27 11:26:31                750100.0             1920256.0  \n",
       "2019-12-27 11:27:21                750100.0             1920256.0  \n",
       "2019-12-27 11:28:11                750100.0             1920256.0  \n",
       "2019-12-27 11:29:02                750100.0             1920256.0  \n",
       "\n",
       "[24203 rows x 75 columns]"
      ]
     },
     "execution_count": 13,
     "metadata": {},
     "output_type": "execute_result"
    }
   ],
   "source": [
    "df2"
   ]
  },
  {
   "cell_type": "code",
   "execution_count": 14,
   "metadata": {},
   "outputs": [],
   "source": [
    "df = pd.concat([df,df2], axis=0)"
   ]
  },
  {
   "cell_type": "code",
   "execution_count": 15,
   "metadata": {},
   "outputs": [],
   "source": [
    "## PLOT ALL\n",
    "#for col in df.columns:\n",
    "#    fig = scatter2d(df.index, df[col], show_plot=False)\n",
    "#    fname = f\"{plotdir}time/all/{col}_vs_time\"\n",
    "#    pio.write_image(fig, fname+\".pdf\")\n",
    "#    pio.write_image(fig, fname+\".png\")"
   ]
  },
  {
   "cell_type": "code",
   "execution_count": 16,
   "metadata": {},
   "outputs": [],
   "source": [
    "probes = np.array([])\n",
    "for col in df.columns:\n",
    "    #print(df_fast[col].dtype)\n",
    "    if (\"Raw\" in col) or (\"Cal\" in col):#type(df[col].iloc[0]) is np.float64:\n",
    "        #print(f\"{col}\")#\": mean: {df[col].mean()}\")\n",
    "        probes = np.append(probes, col[:16])\n",
    "probes = list(np.unique(probes))\n",
    "#print(probes)"
   ]
  },
  {
   "cell_type": "code",
   "execution_count": 17,
   "metadata": {},
   "outputs": [],
   "source": [
    "probe = probes[2]"
   ]
  },
  {
   "cell_type": "code",
   "execution_count": 18,
   "metadata": {},
   "outputs": [
    {
     "data": {
      "text/plain": [
       "'DF0000000D5E803A'"
      ]
     },
     "execution_count": 18,
     "metadata": {},
     "output_type": "execute_result"
    }
   ],
   "source": [
    "probe"
   ]
  },
  {
   "cell_type": "code",
   "execution_count": 19,
   "metadata": {
    "scrolled": true
   },
   "outputs": [],
   "source": [
    "#for col in df.columns:\n",
    "    #print(df_fast[col].dtype)\n",
    "#    if type(df[col].iloc[0]) is np.float64:\n",
    "#        print(f\"{col}: mean: {df[col].mean()}\")"
   ]
  },
  {
   "cell_type": "markdown",
   "metadata": {},
   "source": [
    "- Looks like maybe probe \"DF0000000D5E803A\" is in the field\n",
    "- NMR [T] = 0?"
   ]
  },
  {
   "cell_type": "markdown",
   "metadata": {},
   "source": [
    "### Slow Control Data Cleaning"
   ]
  },
  {
   "cell_type": "code",
   "execution_count": 20,
   "metadata": {
    "code_folding": []
   },
   "outputs": [],
   "source": [
    "for probe in probes:\n",
    "    for t in [\"Cal\", \"Raw\"]:\n",
    "        df[f\"{probe}_{t}_Bmag\"] = (df[f\"{probe}_{t}_X\"]**2+df[f\"{probe}_{t}_Y\"]**2+df[f\"{probe}_{t}_Z\"]**2)**(1/2)\n",
    "        df[f\"{probe}_{t}_Res\"] = df[f\"{probe}_{t}_Bmag\"] - df['NMR [T]']\n",
    "        df[f\"{probe}_{t}_Res_Rel\"] = (df[f\"{probe}_{t}_Bmag\"] - df['NMR [T]']) / df['NMR [T]']"
   ]
  },
  {
   "cell_type": "code",
   "execution_count": 21,
   "metadata": {},
   "outputs": [],
   "source": [
    "for B in [\"X\", \"Y\", \"Z\"]:\n",
    "    for probe in probes:\n",
    "        for t in [\"Cal\", \"Raw\"]:\n",
    "            #df[f\"{probe}_{t}_Bmag\"] = (df[f\"{probe}_{t}_X\"]**2+df[f\"{probe}_{t}_Y\"]**2+df[f\"{probe}_{t}_Z\"]**2)**(1/2)\n",
    "            df[f\"{probe}_{t}_{B}_Res\"] = df[f\"{probe}_{t}_{B}\"] - df['NMR [T]']\n",
    "            df[f\"{probe}_{t}_{B}_Res_Rel\"] = (df[f\"{probe}_{t}_{B}\"] - df['NMR [T]']) / df['NMR [T]']"
   ]
  },
  {
   "cell_type": "code",
   "execution_count": 22,
   "metadata": {},
   "outputs": [],
   "source": [
    "df[\"seconds_delta\"] = (df.index - df.index[0]).total_seconds()\n",
    "df[\"hours_delta\"] = (df.index - df.index[0]).total_seconds()/60**2\n",
    "df[\"days_delta\"] = (df.index - df.index[0]).total_seconds()/(24*60**2)"
   ]
  },
  {
   "cell_type": "code",
   "execution_count": 23,
   "metadata": {},
   "outputs": [],
   "source": [
    "for t in [\"Cal\", \"Raw\"]:\n",
    "    for probe in probes:\n",
    "        df[f\"{probe}_{t}_Transverse\"] = (df[f\"{probe}_Cal_X\"]**2+df[f\"{probe}_Cal_Y\"]**2)**(1/2)\n",
    "        df[f\"{probe}_{t}_Theta\"] = np.arccos(df[f\"{probe}_Cal_Z\"]/df[f\"{probe}_Cal_Bmag\"])\n",
    "        df[f\"{probe}_{t}_Phi\"] = np.arccos(df[f\"{probe}_Cal_X\"]/df[f\"{probe}_Cal_Transverse\"])"
   ]
  },
  {
   "cell_type": "code",
   "execution_count": 24,
   "metadata": {},
   "outputs": [],
   "source": [
    "# raw\n",
    "for probe in probes:\n",
    "    df[f\"{probe}_Raw_Bmag\"] = (df[f\"{probe}_Raw_X\"]**2+df[f\"{probe}_Raw_Y\"]**2+df[f\"{probe}_Raw_Z\"]**2)**(1/2)\n",
    "\n",
    "for probe in probes:\n",
    "    df[f\"{probe}_Raw_Transverse\"] = (df[f\"{probe}_Raw_X\"]**2+df[f\"{probe}_Raw_Y\"]**2)**(1/2)\n",
    "    df[f\"{probe}_Raw_Theta\"] = np.arccos(df[f\"{probe}_Raw_Z\"]/df[f\"{probe}_Raw_Bmag\"])\n",
    "    df[f\"{probe}_Raw_Phi\"] = np.arccos(df[f\"{probe}_Raw_X\"]/df[f\"{probe}_Raw_Transverse\"])"
   ]
  },
  {
   "cell_type": "code",
   "execution_count": 25,
   "metadata": {
    "scrolled": true
   },
   "outputs": [],
   "source": [
    "if make_plots:\n",
    "    ## PLOT HISTOS\n",
    "    for probe in probes:\n",
    "        for t in [\"Cal\", \"Raw\"]:\n",
    "            fig = histo(df[f\"{probe}_{t}_Bmag\"], bins=50, show_plot=False)\n",
    "            pio.write_image(fig, plotdir+f\"histo/{probe}_{t}_Bmag.pdf\")\n",
    "            pio.write_image(fig, plotdir+f\"histo/{probe}_{t}_Bmag.png\")\n",
    "\n",
    "    ## RES HISTOS\n",
    "    for t in [\"Cal\", \"Raw\"]:\n",
    "        for probe in probes:\n",
    "            for B in [\"X\",\"Y\",\"Z\"]:\n",
    "                fig = histo(df[f\"{probe}_{t}_{B}_Res\"], bins=50, show_plot=False)\n",
    "                pio.write_image(fig, plotdir+f\"histo/residuals/component/{probe}_{t}_{B}_Res.pdf\")\n",
    "                pio.write_image(fig, plotdir+f\"histo/residuals/component/{probe}_{t}_{B}_Res.png\")\n",
    "\n",
    "    ## REL_RES HISTOS\n",
    "    for t in [\"Cal\", \"Raw\"]:\n",
    "        for probe in probes:\n",
    "            for B in [\"X\",\"Y\",\"Z\"]:\n",
    "                fig = histo(df[f\"{probe}_{t}_{B}_Res_Rel\"], bins=50, show_plot=False)\n",
    "                pio.write_image(fig, plotdir+f\"histo/relative_residuals/component/{probe}_{t}_{B}_Res_Rel.pdf\")\n",
    "                pio.write_image(fig, plotdir+f\"histo/relative_residuals/component/{probe}_{t}_{B}_Res_Rel.png\")\n",
    "\n",
    "    ## BMAG RES HISTOS\n",
    "    for res in [\"Res\", \"Res_Rel\"]:\n",
    "        if res == \"Res\":\n",
    "            p = \"residuals\"\n",
    "        else:\n",
    "            p = \"relative_residuals\"\n",
    "        for t in [\"Cal\", \"Raw\"]:\n",
    "            for probe in probes:\n",
    "                #for B in [\"X\",\"Y\",\"Z\"]:\n",
    "                fig = histo(df[f\"{probe}_{t}_{res}\"], bins=50, show_plot=False)\n",
    "                pio.write_image(fig, plotdir+f\"histo/{p}/{probe}_{t}_Bmag_{res}.pdf\")\n",
    "                pio.write_image(fig, plotdir+f\"histo/{p}/{probe}_{t}_Bmag_{res}.png\")\n",
    "\n",
    "    ## PLOT HISTO ANGLE\n",
    "    for probe in probes:\n",
    "        for angle in [\"Transverse\", \"Theta\", \"Phi\"]:\n",
    "            fig = histo(df[f\"{probe}_Cal_{angle}\"], bins=30, show_plot=False)\n",
    "            pio.write_image(fig, plotdir+f\"histo/angles/{probe}_Cal_{angle}.pdf\")\n",
    "            pio.write_image(fig, plotdir+f\"histo/angles/{probe}_Cal_{angle}.png\")\n",
    "\n",
    "    ## PLOT ANGLE\n",
    "    for probe in probes:\n",
    "        for angle in [\"Transverse\", \"Theta\", \"Phi\"]:\n",
    "            fig = scatter2d(df.index, df[f\"{probe}_Cal_{angle}\"], show_plot=False)\n",
    "            pio.write_image(fig, plotdir+f\"time/angles/{probe}_Cal_{angle}.pdf\")\n",
    "            pio.write_image(fig, plotdir+f\"time/angles/{probe}_Cal_{angle}.png\")\n",
    "\n",
    "    ## PLOT ANGLES RAW\n",
    "    for probe in probes:\n",
    "        for angle in [\"Transverse\", \"Theta\", \"Phi\"]:\n",
    "            fig = histo(df[f\"{probe}_Raw_{angle}\"], bins=30, show_plot=False)\n",
    "            pio.write_image(fig, plotdir+f\"histo/angles/{probe}_Raw_{angle}.pdf\")\n",
    "            pio.write_image(fig, plotdir+f\"histo/angles/{probe}_Raw_{angle}.png\")\n",
    "\n",
    "    for probe in probes:\n",
    "        for angle in [\"Transverse\", \"Theta\", \"Phi\"]:\n",
    "            fig = scatter2d(df.index, df[f\"{probe}_Raw_{angle}\"], show_plot=False)\n",
    "            pio.write_image(fig, plotdir+f\"time/angles/{probe}_Raw_{angle}.pdf\")\n",
    "            pio.write_image(fig, plotdir+f\"time/angles/{probe}_Raw_{angle}.png\")"
   ]
  },
  {
   "cell_type": "code",
   "execution_count": 26,
   "metadata": {},
   "outputs": [],
   "source": [
    "df.to_pickle(pkl_dir+pkl_file_slow)"
   ]
  },
  {
   "cell_type": "code",
   "execution_count": 65,
   "metadata": {},
   "outputs": [
    {
     "data": {
      "text/plain": [
       "48.579569000000006"
      ]
     },
     "execution_count": 65,
     "metadata": {},
     "output_type": "execute_result"
    }
   ],
   "source": [
    "getsizeof(df) / 1000/1000"
   ]
  },
  {
   "cell_type": "code",
   "execution_count": 28,
   "metadata": {},
   "outputs": [
    {
     "name": "stdout",
     "output_type": "stream",
     "text": [
      "<class 'pandas.core.frame.DataFrame'>\n",
      "DatetimeIndex: 38012 entries, 2019-12-04 14:38:18 to 2019-12-27 11:29:02\n",
      "Columns: 150 entries, Time to DF0000000D5E803A_Raw_Phi\n",
      "dtypes: float64(149), object(1)\n",
      "memory usage: 43.8+ MB\n"
     ]
    }
   ],
   "source": [
    "df.info()"
   ]
  },
  {
   "cell_type": "markdown",
   "metadata": {},
   "source": [
    "## Plotting"
   ]
  },
  {
   "cell_type": "markdown",
   "metadata": {},
   "source": [
    "### First Attempt"
   ]
  },
  {
   "cell_type": "code",
   "execution_count": 29,
   "metadata": {},
   "outputs": [
    {
     "data": {
      "text/html": [
       "<div>\n",
       "<style scoped>\n",
       "    .dataframe tbody tr th:only-of-type {\n",
       "        vertical-align: middle;\n",
       "    }\n",
       "\n",
       "    .dataframe tbody tr th {\n",
       "        vertical-align: top;\n",
       "    }\n",
       "\n",
       "    .dataframe thead th {\n",
       "        text-align: right;\n",
       "    }\n",
       "</style>\n",
       "<table border=\"1\" class=\"dataframe\">\n",
       "  <thead>\n",
       "    <tr style=\"text-align: right;\">\n",
       "      <th></th>\n",
       "      <th>Time</th>\n",
       "      <th>Magnet Current [A]</th>\n",
       "      <th>Magnet Voltage [V]</th>\n",
       "      <th>Coil 1 (new)</th>\n",
       "      <th>Coil 2 (old)</th>\n",
       "      <th>LCW in Coil1</th>\n",
       "      <th>LCW out Coil 1</th>\n",
       "      <th>LCW in Coil 2</th>\n",
       "      <th>LCW out Coil 2</th>\n",
       "      <th>Yoke</th>\n",
       "      <th>...</th>\n",
       "      <th>DF0000000D5E803A_Cal_Phi</th>\n",
       "      <th>6A0000000D61333A_Raw_Transverse</th>\n",
       "      <th>6A0000000D61333A_Raw_Theta</th>\n",
       "      <th>6A0000000D61333A_Raw_Phi</th>\n",
       "      <th>C50000000D5E473A_Raw_Transverse</th>\n",
       "      <th>C50000000D5E473A_Raw_Theta</th>\n",
       "      <th>C50000000D5E473A_Raw_Phi</th>\n",
       "      <th>DF0000000D5E803A_Raw_Transverse</th>\n",
       "      <th>DF0000000D5E803A_Raw_Theta</th>\n",
       "      <th>DF0000000D5E803A_Raw_Phi</th>\n",
       "    </tr>\n",
       "    <tr>\n",
       "      <th>Datetime</th>\n",
       "      <th></th>\n",
       "      <th></th>\n",
       "      <th></th>\n",
       "      <th></th>\n",
       "      <th></th>\n",
       "      <th></th>\n",
       "      <th></th>\n",
       "      <th></th>\n",
       "      <th></th>\n",
       "      <th></th>\n",
       "      <th></th>\n",
       "      <th></th>\n",
       "      <th></th>\n",
       "      <th></th>\n",
       "      <th></th>\n",
       "      <th></th>\n",
       "      <th></th>\n",
       "      <th></th>\n",
       "      <th></th>\n",
       "      <th></th>\n",
       "      <th></th>\n",
       "    </tr>\n",
       "  </thead>\n",
       "  <tbody>\n",
       "    <tr>\n",
       "      <th>2019-12-27 11:29:02</th>\n",
       "      <td>12/27/2019 11:29:02 AM</td>\n",
       "      <td>256.072757</td>\n",
       "      <td>30.964317</td>\n",
       "      <td>33.513336</td>\n",
       "      <td>31.086805</td>\n",
       "      <td>7.760722</td>\n",
       "      <td>10.688633</td>\n",
       "      <td>12.222573</td>\n",
       "      <td>14.682413</td>\n",
       "      <td>16.937099</td>\n",
       "      <td>...</td>\n",
       "      <td>1.595283</td>\n",
       "      <td>91.350972</td>\n",
       "      <td>0.019861</td>\n",
       "      <td>0.731188</td>\n",
       "      <td>60637.887702</td>\n",
       "      <td>1.230281</td>\n",
       "      <td>1.365053</td>\n",
       "      <td>3.515079e+06</td>\n",
       "      <td>1.531235</td>\n",
       "      <td>1.108638</td>\n",
       "    </tr>\n",
       "  </tbody>\n",
       "</table>\n",
       "<p>1 rows × 150 columns</p>\n",
       "</div>"
      ],
      "text/plain": [
       "                                       Time  Magnet Current [A]  \\\n",
       "Datetime                                                          \n",
       "2019-12-27 11:29:02  12/27/2019 11:29:02 AM          256.072757   \n",
       "\n",
       "                     Magnet Voltage [V]  Coil 1 (new)  Coil 2 (old)  \\\n",
       "Datetime                                                              \n",
       "2019-12-27 11:29:02           30.964317     33.513336     31.086805   \n",
       "\n",
       "                     LCW in Coil1  LCW out Coil 1  LCW in Coil 2  \\\n",
       "Datetime                                                           \n",
       "2019-12-27 11:29:02      7.760722       10.688633      12.222573   \n",
       "\n",
       "                     LCW out Coil 2       Yoke            ...             \\\n",
       "Datetime                                                  ...              \n",
       "2019-12-27 11:29:02       14.682413  16.937099            ...              \n",
       "\n",
       "                     DF0000000D5E803A_Cal_Phi  \\\n",
       "Datetime                                        \n",
       "2019-12-27 11:29:02                  1.595283   \n",
       "\n",
       "                     6A0000000D61333A_Raw_Transverse  \\\n",
       "Datetime                                               \n",
       "2019-12-27 11:29:02                        91.350972   \n",
       "\n",
       "                     6A0000000D61333A_Raw_Theta  6A0000000D61333A_Raw_Phi  \\\n",
       "Datetime                                                                    \n",
       "2019-12-27 11:29:02                    0.019861                  0.731188   \n",
       "\n",
       "                     C50000000D5E473A_Raw_Transverse  \\\n",
       "Datetime                                               \n",
       "2019-12-27 11:29:02                     60637.887702   \n",
       "\n",
       "                     C50000000D5E473A_Raw_Theta  C50000000D5E473A_Raw_Phi  \\\n",
       "Datetime                                                                    \n",
       "2019-12-27 11:29:02                    1.230281                  1.365053   \n",
       "\n",
       "                     DF0000000D5E803A_Raw_Transverse  \\\n",
       "Datetime                                               \n",
       "2019-12-27 11:29:02                     3.515079e+06   \n",
       "\n",
       "                     DF0000000D5E803A_Raw_Theta  DF0000000D5E803A_Raw_Phi  \n",
       "Datetime                                                                   \n",
       "2019-12-27 11:29:02                    1.531235                  1.108638  \n",
       "\n",
       "[1 rows x 150 columns]"
      ]
     },
     "execution_count": 29,
     "metadata": {},
     "output_type": "execute_result"
    }
   ],
   "source": [
    "df.tail(1)"
   ]
  },
  {
   "cell_type": "code",
   "execution_count": 30,
   "metadata": {
    "scrolled": true
   },
   "outputs": [
    {
     "data": {
      "text/plain": [
       "38012"
      ]
     },
     "execution_count": 30,
     "metadata": {},
     "output_type": "execute_result"
    }
   ],
   "source": [
    "len(df)"
   ]
  },
  {
   "cell_type": "code",
   "execution_count": 31,
   "metadata": {},
   "outputs": [
    {
     "data": {
      "text/plain": [
       "21.997685185185187"
      ]
     },
     "execution_count": 31,
     "metadata": {},
     "output_type": "execute_result"
    }
   ],
   "source": [
    "len(df) * 50 / 60 / 60 / 24"
   ]
  },
  {
   "cell_type": "code",
   "execution_count": null,
   "metadata": {},
   "outputs": [],
   "source": [
    "#fig = scatter2d(df.index, df[\"NMR [T]\"], show_plot=False);"
   ]
  },
  {
   "cell_type": "code",
   "execution_count": null,
   "metadata": {},
   "outputs": [],
   "source": [
    "#pplot(fig)"
   ]
  },
  {
   "cell_type": "code",
   "execution_count": null,
   "metadata": {},
   "outputs": [],
   "source": [
    "#fig = scatter2d(df.index, df[\"NMR [T]\"])"
   ]
  },
  {
   "cell_type": "code",
   "execution_count": null,
   "metadata": {},
   "outputs": [],
   "source": [
    "#plot(fig)"
   ]
  },
  {
   "cell_type": "code",
   "execution_count": 89,
   "metadata": {},
   "outputs": [],
   "source": [
    "###### take out magnet off\n",
    "df = pd.concat([df[:\"12-13-2019 17:08:00\"], df[\"12-16-2019 07:57:00\":]])"
   ]
  },
  {
   "cell_type": "code",
   "execution_count": 90,
   "metadata": {},
   "outputs": [],
   "source": [
    "fig = scatter2d(3*[df.index], [df[col+\"_Cal_Bmag\"] for col in probes], inline=False);"
   ]
  },
  {
   "cell_type": "code",
   "execution_count": 91,
   "metadata": {},
   "outputs": [],
   "source": [
    "fig = scatter2d(2*[df.index], [df[\"NMR [T]\"], df[f\"{probe}_Cal_Bmag\"]], show_plot=False);"
   ]
  },
  {
   "cell_type": "code",
   "execution_count": 92,
   "metadata": {},
   "outputs": [
    {
     "data": {
      "text/plain": [
       "'temp-plot.html'"
      ]
     },
     "execution_count": 92,
     "metadata": {},
     "output_type": "execute_result"
    }
   ],
   "source": [
    "plot(fig)"
   ]
  },
  {
   "cell_type": "code",
   "execution_count": 35,
   "metadata": {},
   "outputs": [],
   "source": [
    "# magnet off 12-13 to 12-16\n",
    "df_ = df[\"12-13-2019 17:10:00\":\"12-16-2019 07:56:00\"]"
   ]
  },
  {
   "cell_type": "code",
   "execution_count": 81,
   "metadata": {},
   "outputs": [],
   "source": [
    "###### take out magnet off\n",
    "#df = pd.concat([df[:\"12-13-2019 17:10:00\"], df[\"12-16-2019 07:56:00\":]])"
   ]
  },
  {
   "cell_type": "code",
   "execution_count": 36,
   "metadata": {},
   "outputs": [],
   "source": [
    "#fig = scatter2d(3*[df_.index], [df_[col+\"_Cal_Bmag\"] for col in probes], inline=False);"
   ]
  },
  {
   "cell_type": "code",
   "execution_count": null,
   "metadata": {},
   "outputs": [],
   "source": []
  },
  {
   "cell_type": "code",
   "execution_count": 37,
   "metadata": {},
   "outputs": [],
   "source": [
    "#fig = scatter2d(df.index, df[\"Chamber Wall CH13\"])"
   ]
  },
  {
   "cell_type": "code",
   "execution_count": 93,
   "metadata": {},
   "outputs": [],
   "source": [
    "fig = scatter2d(df.index, df[f\"{probe}_Cal_Res_Rel\"], show_plot=False);"
   ]
  },
  {
   "cell_type": "code",
   "execution_count": 94,
   "metadata": {},
   "outputs": [
    {
     "data": {
      "text/plain": [
       "'temp-plot.html'"
      ]
     },
     "execution_count": 94,
     "metadata": {},
     "output_type": "execute_result"
    }
   ],
   "source": [
    "plot(fig)"
   ]
  },
  {
   "cell_type": "code",
   "execution_count": 95,
   "metadata": {},
   "outputs": [],
   "source": [
    "fig = scatter2d(df[f\"{probe}_Cal_T\"], df[f\"{probe}_Cal_Res_Rel\"], df.days_delta, inline=False);"
   ]
  },
  {
   "cell_type": "code",
   "execution_count": 96,
   "metadata": {},
   "outputs": [],
   "source": [
    "fig = scatter2d(df[\"Roof\"], df[f\"{probe}_Cal_Res_Rel\"], df.days_delta, inline=False);"
   ]
  },
  {
   "cell_type": "markdown",
   "metadata": {},
   "source": [
    "~ -5e-5 change in residual after changing temperature (+4 deg C)."
   ]
  },
  {
   "cell_type": "code",
   "execution_count": 97,
   "metadata": {},
   "outputs": [
    {
     "data": {
      "text/plain": [
       "'temp-plot.html'"
      ]
     },
     "execution_count": 97,
     "metadata": {},
     "output_type": "execute_result"
    }
   ],
   "source": [
    "fig = histo(df[f\"{probe}_Cal_Res_Rel\"], bins=75, show_plot=False);\n",
    "plot(fig)\n",
    "#fig = histo(df[f\"{probe}_Cal_Res_Rel\"], bins=50, yscale='log')"
   ]
  },
  {
   "cell_type": "code",
   "execution_count": 98,
   "metadata": {},
   "outputs": [],
   "source": [
    "df[\"day\"] = df.index.day"
   ]
  },
  {
   "cell_type": "code",
   "execution_count": 99,
   "metadata": {},
   "outputs": [],
   "source": [
    "fig = px.histogram(df, x=f\"{probe}_Cal_Res_Rel\", color=\"day\")"
   ]
  },
  {
   "cell_type": "code",
   "execution_count": 100,
   "metadata": {},
   "outputs": [],
   "source": [
    "fig.update_layout(\n",
    "    autosize=False,\n",
    "    width=1800,\n",
    "    height=800\n",
    "    #margin=dict(l=20, r=20, t=20, b=20),\n",
    "    #padding=dict(l=20, r=20, t=20, b=20),\n",
    "    #paper_bgcolor=\"LightSteelBlue\",\n",
    ");"
   ]
  },
  {
   "cell_type": "code",
   "execution_count": 101,
   "metadata": {},
   "outputs": [],
   "source": [
    "#fig.show()"
   ]
  },
  {
   "cell_type": "code",
   "execution_count": 102,
   "metadata": {},
   "outputs": [
    {
     "data": {
      "text/plain": [
       "'temp-plot.html'"
      ]
     },
     "execution_count": 102,
     "metadata": {},
     "output_type": "execute_result"
    }
   ],
   "source": [
    "plot(fig)"
   ]
  },
  {
   "cell_type": "code",
   "execution_count": 103,
   "metadata": {},
   "outputs": [],
   "source": [
    "# temps"
   ]
  },
  {
   "cell_type": "code",
   "execution_count": 104,
   "metadata": {},
   "outputs": [],
   "source": [
    "temps_ch = [a for a in df.columns if (\"CH\" in a) and int(a[-2:])<21]# or \"HVAC\" in a]\n",
    "temps_ch.append(\"Hall Element\")\n",
    "temps_ch.append(\"Floor\")\n",
    "temps_ch.append(\"Roof\")\n",
    "temps_ch.append(\"Yoke\")\n",
    "temps_ch.append(\"Yoke (center magnet)\")"
   ]
  },
  {
   "cell_type": "code",
   "execution_count": null,
   "metadata": {},
   "outputs": [],
   "source": [
    "#temps_ch"
   ]
  },
  {
   "cell_type": "code",
   "execution_count": null,
   "metadata": {},
   "outputs": [],
   "source": [
    "### MAGNET OFF\n",
    "fig = scatter2d([df_.index for c in temps_ch],[df_[c] for c in temps_ch],inline=True, show_plot=False);\n",
    "fig.layout.title = \"Temp vs. Datetime (magnet off)\"\n",
    "fig.layout.yaxis.title = \"Temp [deg. C]\";\n",
    "\n",
    "#fig.show()\n",
    "#plot(fig)\n",
    "\n",
    "#fname = 'temps_scatter'\n",
    "#fname = 'time/temps/temps_scatter_full'\n",
    "#pio.write_image(fig, plotdir+fname+'.pdf')\n",
    "#pio.write_image(fig, plotdir+fname+'.png')\n",
    "#plot(fig, filename=plotdir+fname+'.html', auto_open=False)\n",
    "\n",
    "probe = probes[2]\n",
    "\n",
    "fig.add_trace(go.Scatter(x=df_.index, y=df_[f\"{probe}_Cal_T\"], mode=\"lines\", name=f\"{probe}_Cal_T\"));\n",
    "\n",
    "#fname = 'temps_scatter'\n",
    "fname = 'time/temps/temps_scatter_full_magnet_off'\n",
    "pio.write_image(fig, plotdir+fname+'.pdf')\n",
    "pio.write_image(fig, plotdir+fname+'.png')\n",
    "plot(fig, filename=plotdir+fname+'.html', auto_open=False)\n",
    "\n",
    "plot(fig)"
   ]
  },
  {
   "cell_type": "code",
   "execution_count": null,
   "metadata": {},
   "outputs": [],
   "source": [
    "df_[\"Yoke\"].max()"
   ]
  },
  {
   "cell_type": "code",
   "execution_count": null,
   "metadata": {},
   "outputs": [],
   "source": [
    "(df_[\"Yoke\"].max() - df_[\"Yoke\"].min()) / np.exp(1)"
   ]
  },
  {
   "cell_type": "code",
   "execution_count": null,
   "metadata": {},
   "outputs": [],
   "source": [
    "df_[\"Yoke\"].max()/np.exp(1)"
   ]
  },
  {
   "cell_type": "code",
   "execution_count": null,
   "metadata": {},
   "outputs": [],
   "source": [
    "### MAGNET OFF\n",
    "ys = [\"Yoke\", \"Yoke (center magnet)\"]\n",
    "fig = scatter2d([df_.index for c in ys],[df_[c] for c in ys],inline=True, show_plot=False);\n",
    "fig.layout.title = \"Temp vs. Datetime (magnet off)\"\n",
    "fig.layout.yaxis.title = \"Temp [deg. C]\";\n",
    "\n",
    "y = df_[\"Yoke\"].max() - (df_[\"Yoke\"].max() - df_[\"Yoke\"].min()) / np.exp(1)\n",
    "\n",
    "xs = pd.to_datetime([df_.iloc[0]['Time'], df_.iloc[-1]['Time']]) #np.linspace(x_dat.min(), x_dat.max(), 100)\n",
    "ys = [y, y]#result.eval(x=xs)\n",
    "fig.add_trace(go.Scatter(\n",
    "                    x=xs, y=ys,\n",
    "                    mode='lines', name=f'1/e point',#\"|V|/|B| = A * Temp. + B\",\n",
    "                    line=dict(color='rgb(78, 42, 132)',#'deeppink',\n",
    "                              width=2,\n",
    "                              dash='dash')));\n",
    "    \n",
    "fname = 'time/temps/yoke_temp_magnet_off'\n",
    "pio.write_image(fig, plotdir+fname+'.pdf')\n",
    "pio.write_image(fig, plotdir+fname+'.png')\n",
    "plot(fig, filename=plotdir+fname+'.html', auto_open=False)\n",
    "\n",
    "plot(fig)"
   ]
  },
  {
   "cell_type": "code",
   "execution_count": null,
   "metadata": {},
   "outputs": [],
   "source": []
  },
  {
   "cell_type": "code",
   "execution_count": null,
   "metadata": {},
   "outputs": [],
   "source": [
    "def exp(t, y0, tau, C):\n",
    "    return y0 * np.exp(- t / tau) + C"
   ]
  },
  {
   "cell_type": "code",
   "execution_count": null,
   "metadata": {},
   "outputs": [],
   "source": [
    "guess = np.array([5., 6, 11.4])"
   ]
  },
  {
   "cell_type": "code",
   "execution_count": null,
   "metadata": {},
   "outputs": [],
   "source": [
    "#df_[\"t\"] = df_.seconds_delta - df_.seconds_delta.min()\n",
    "df_[\"dt [hours]\"] = df_.hours_delta - df_.hours_delta.min()"
   ]
  },
  {
   "cell_type": "code",
   "execution_count": null,
   "metadata": {},
   "outputs": [],
   "source": [
    "x_dat = df_[\"dt [hours]\"]#[\"t\"]\n",
    "y_dat = df_[\"Yoke (center magnet)\"]"
   ]
  },
  {
   "cell_type": "code",
   "execution_count": null,
   "metadata": {},
   "outputs": [],
   "source": [
    "params, cov = optimization.curve_fit(exp, x_dat, y_dat, guess)"
   ]
  },
  {
   "cell_type": "code",
   "execution_count": null,
   "metadata": {},
   "outputs": [],
   "source": [
    "# yoke (center magnet)\n",
    "params, cov"
   ]
  },
  {
   "cell_type": "code",
   "execution_count": null,
   "metadata": {},
   "outputs": [],
   "source": [
    "#ts = np.linspace(df_[\"t\"].min(), df_[\"t\"].max(), 1000)\n",
    "ts = np.linspace(df_[\"dt [hours]\"].min(), df_[\"dt [hours]\"].max(), 2000)"
   ]
  },
  {
   "cell_type": "code",
   "execution_count": null,
   "metadata": {},
   "outputs": [],
   "source": [
    "ys = exp(ts, params[0], params[1], params[2])"
   ]
  },
  {
   "cell_type": "code",
   "execution_count": null,
   "metadata": {},
   "outputs": [],
   "source": [
    "ys.min()"
   ]
  },
  {
   "cell_type": "code",
   "execution_count": null,
   "metadata": {},
   "outputs": [],
   "source": [
    "ep = y_dat.max() - (y_dat.max()-y_dat.min()) / np.exp(1)"
   ]
  },
  {
   "cell_type": "code",
   "execution_count": null,
   "metadata": {},
   "outputs": [],
   "source": [
    "ep"
   ]
  },
  {
   "cell_type": "code",
   "execution_count": null,
   "metadata": {},
   "outputs": [],
   "source": [
    "e_deg_t = ts[np.isclose(ys, ep, atol=1e-2,)][0]#rtol=0.00000001)]\n",
    "e_deg_y = ys[np.isclose(ys, ep, atol=1e-2,)][0]#rtol=0.00000001)]"
   ]
  },
  {
   "cell_type": "code",
   "execution_count": null,
   "metadata": {},
   "outputs": [],
   "source": [
    "e_deg_t"
   ]
  },
  {
   "cell_type": "code",
   "execution_count": null,
   "metadata": {
    "scrolled": true
   },
   "outputs": [],
   "source": [
    "half_deg_t = ts[np.isclose(ys, ys.min()+0.5, atol=1e-3,)][0]#rtol=0.00000001)]\n",
    "half_deg_y = ys[np.isclose(ys, ys.min()+0.5, atol=1e-3,)][0]#rtol=0.00000001)]"
   ]
  },
  {
   "cell_type": "code",
   "execution_count": null,
   "metadata": {},
   "outputs": [],
   "source": [
    "tenth_deg_t = ts[np.isclose(ys, ys.min()+0.1, atol=1e-3,)][0]#rtol=0.00000001)]\n",
    "tenth_deg_y = ys[np.isclose(ys, ys.min()+0.1, atol=1e-3,)][0]#rtol=0.00000001)]"
   ]
  },
  {
   "cell_type": "code",
   "execution_count": null,
   "metadata": {},
   "outputs": [],
   "source": [
    "### MAGNET OFF\n",
    "### FINAL PLOT\n",
    "ys = [\"Yoke\", \"Yoke (center magnet)\"]\n",
    "fig = scatter2d([df_[\"dt [hours]\"] for c in ys],[df_[c] for c in ys],inline=True, show_plot=False);\n",
    "fig.layout.title = \"Temp vs. Datetime (magnet off)\"\n",
    "fig.layout.yaxis.title = \"Temp [deg. C]\";\n",
    "\n",
    "x_e = params[1]\n",
    "x_p5 = half_deg_t\n",
    "x_p1 = tenth_deg_t\n",
    "y0 = df_['Yoke'].min()#y_dat.min()\n",
    "yf = y_dat.max()\n",
    "\n",
    "xs1 = [x_e, x_e]\n",
    "ys1 = [y0, yf]\n",
    "xs2 = [x_p5, x_p5]\n",
    "ys2 = [y0, yf]\n",
    "xs3 = [x_p1, x_p1]\n",
    "ys3 = [y0, yf]\n",
    "\n",
    "#xs = pd.to_datetime([df_.iloc[0]['Time'], df_.iloc[-1]['Time']]) #np.linspace(x_dat.min(), x_dat.max(), 100)\n",
    "#ys = [y, y]#result.eval(x=xs)\n",
    "fig.add_trace(go.Scatter(\n",
    "                    x=xs1, y=ys1,\n",
    "                    mode='lines', name=f'1/e @ dt = {x_e:.2f} hours',#\"|V|/|B| = A * Temp. + B\",\n",
    "                    line=dict(color='rgb(78, 42, 132)',#'deeppink',\n",
    "                              width=2,\n",
    "                              dash='dash')));\n",
    "\n",
    "fig.add_trace(go.Scatter(\n",
    "                    x=xs2, y=ys2,\n",
    "                    mode='lines', name=f'0.5 deg from final<br>temp @ dt = {x_p5:.2f} hours',#\"|V|/|B| = A * Temp. + B\",\n",
    "                    line=dict(color=\"deeppink\",#'rgb(78, 42, 132)',#'deeppink',\n",
    "                              width=2,\n",
    "                              dash='dash')));\n",
    "\n",
    "fig.add_trace(go.Scatter(\n",
    "                    x=xs3, y=ys3,\n",
    "                    mode='lines', name=f'0.1 deg from final<br>temp @ dt = {x_p1:.2f} hours',#\"|V|/|B| = A * Temp. + B\",\n",
    "                    line=dict(color=\"green\",#'rgb(78, 42, 132)',#'deeppink',\n",
    "                              width=2,\n",
    "                              dash='dash')));\n",
    "\n",
    "    \n",
    "fname = 'time/temps/yoke_temp_magnet_off'\n",
    "pio.write_image(fig, plotdir+fname+'.pdf')\n",
    "pio.write_image(fig, plotdir+fname+'.png')\n",
    "plot(fig, filename=plotdir+fname+'.html', auto_open=False)\n",
    "\n",
    "plot(fig)"
   ]
  },
  {
   "cell_type": "code",
   "execution_count": null,
   "metadata": {},
   "outputs": [],
   "source": []
  },
  {
   "cell_type": "code",
   "execution_count": null,
   "metadata": {},
   "outputs": [],
   "source": [
    "plt.plot(x_dat, y_dat)\n",
    "plt.plot(ts, ys);\n",
    "plt.plot([params[1],params[1]], [11,17], 'r--')\n",
    "plt.plot([2*params[1],2*params[1]], [11,17], 'g--')"
   ]
  },
  {
   "cell_type": "code",
   "execution_count": null,
   "metadata": {},
   "outputs": [],
   "source": [
    "ys.min()"
   ]
  },
  {
   "cell_type": "code",
   "execution_count": null,
   "metadata": {},
   "outputs": [],
   "source": [
    "half_deg_t = ts[np.isclose(ys, ys.min()+0.5, atol=1e-3,)][0]#rtol=0.00000001)]\n",
    "half_deg_y = ys[np.isclose(ys, ys.min()+0.5, atol=1e-3,)][0]#rtol=0.00000001)]"
   ]
  },
  {
   "cell_type": "code",
   "execution_count": null,
   "metadata": {},
   "outputs": [],
   "source": [
    "# yoke\n",
    "half_deg_t / 60 / 60"
   ]
  },
  {
   "cell_type": "code",
   "execution_count": null,
   "metadata": {},
   "outputs": [],
   "source": [
    "# yoke center magnet\n",
    "half_deg_t / 60 / 60"
   ]
  },
  {
   "cell_type": "code",
   "execution_count": null,
   "metadata": {},
   "outputs": [],
   "source": [
    "plt.plot(x_dat, y_dat)\n",
    "plt.plot(ts, ys);\n",
    "plt.plot([params[1],params[1]], [11,17], 'r--')\n",
    "plt.plot([2*params[1],2*params[1]], [11,17], 'g--')\n",
    "plt.plot([half_deg_t,half_deg_t], [11,17], 'p--')"
   ]
  },
  {
   "cell_type": "code",
   "execution_count": null,
   "metadata": {},
   "outputs": [],
   "source": []
  },
  {
   "cell_type": "code",
   "execution_count": null,
   "metadata": {},
   "outputs": [],
   "source": [
    "pd.to_datetime(xs)"
   ]
  },
  {
   "cell_type": "code",
   "execution_count": null,
   "metadata": {},
   "outputs": [],
   "source": []
  },
  {
   "cell_type": "code",
   "execution_count": null,
   "metadata": {},
   "outputs": [],
   "source": [
    "#df[temps_ch].describe()"
   ]
  },
  {
   "cell_type": "code",
   "execution_count": null,
   "metadata": {},
   "outputs": [],
   "source": [
    "#df[temps_ch].plot(kind=\"box\")"
   ]
  },
  {
   "cell_type": "code",
   "execution_count": null,
   "metadata": {},
   "outputs": [],
   "source": [
    "#fig = go.Figure()\n",
    "#[fig.add_trace(go.Box(y=df[col], name=col)) for col in temps_ch]\n",
    "\n",
    "#fig.show()"
   ]
  },
  {
   "cell_type": "code",
   "execution_count": 105,
   "metadata": {},
   "outputs": [],
   "source": [
    "fig = scatter2d([df.index for c in temps_ch],[df[c] for c in temps_ch],inline=True, show_plot=False);\n",
    "fig.layout.title = \"Temp vs. Datetime\"\n",
    "fig.layout.yaxis.title = \"Temp [deg. C]\";"
   ]
  },
  {
   "cell_type": "code",
   "execution_count": 106,
   "metadata": {},
   "outputs": [],
   "source": [
    "#fig.show()\n",
    "#plot(fig)"
   ]
  },
  {
   "cell_type": "code",
   "execution_count": 107,
   "metadata": {},
   "outputs": [],
   "source": [
    "#fname = 'temps_scatter'\n",
    "#fname = 'time/temps/temps_scatter_full'\n",
    "#pio.write_image(fig, plotdir+fname+'.pdf')\n",
    "#pio.write_image(fig, plotdir+fname+'.png')\n",
    "#plot(fig, filename=plotdir+fname+'.html', auto_open=False)"
   ]
  },
  {
   "cell_type": "code",
   "execution_count": 108,
   "metadata": {},
   "outputs": [],
   "source": [
    "probe = probes[2]"
   ]
  },
  {
   "cell_type": "code",
   "execution_count": 109,
   "metadata": {},
   "outputs": [],
   "source": [
    "fig.add_trace(go.Scatter(x=df.index, y=df[f\"{probe}_Cal_T\"], mode=\"lines\", name=f\"{probe}_Cal_T\"));"
   ]
  },
  {
   "cell_type": "code",
   "execution_count": 110,
   "metadata": {},
   "outputs": [
    {
     "data": {
      "text/plain": [
       "'/home/ckampa/Coding/hallprobecalib_extras/plots/hall_probe_stability/2019-12-04/time/temps/temps_scatter_full.html'"
      ]
     },
     "execution_count": 110,
     "metadata": {},
     "output_type": "execute_result"
    }
   ],
   "source": [
    "#fname = 'temps_scatter'\n",
    "fname = 'time/temps/temps_scatter_full'\n",
    "pio.write_image(fig, plotdir+fname+'.pdf')\n",
    "pio.write_image(fig, plotdir+fname+'.png')\n",
    "plot(fig, filename=plotdir+fname+'.html', auto_open=False)"
   ]
  },
  {
   "cell_type": "code",
   "execution_count": 111,
   "metadata": {},
   "outputs": [
    {
     "data": {
      "text/plain": [
       "'temp-plot.html'"
      ]
     },
     "execution_count": 111,
     "metadata": {},
     "output_type": "execute_result"
    }
   ],
   "source": [
    "plot(fig)"
   ]
  },
  {
   "cell_type": "code",
   "execution_count": 112,
   "metadata": {},
   "outputs": [],
   "source": [
    "temps_water = [col for col in df.columns if (\"ICW\" in col) or (\"LCW\" in col)]"
   ]
  },
  {
   "cell_type": "code",
   "execution_count": 113,
   "metadata": {},
   "outputs": [],
   "source": [
    "#temps_water"
   ]
  },
  {
   "cell_type": "code",
   "execution_count": 114,
   "metadata": {},
   "outputs": [],
   "source": [
    "fig = scatter2d([df.index for c in temps_water],[df[c] for c in temps_water],inline=True, show_plot=False);\n",
    "fig.layout.title = \"Water Temp vs. Datetime\"\n",
    "fig.layout.yaxis.title = \"Temp [deg. C]\""
   ]
  },
  {
   "cell_type": "code",
   "execution_count": 115,
   "metadata": {},
   "outputs": [
    {
     "data": {
      "text/plain": [
       "'temp-plot.html'"
      ]
     },
     "execution_count": 115,
     "metadata": {},
     "output_type": "execute_result"
    }
   ],
   "source": [
    "#fig.show()\n",
    "plot(fig)"
   ]
  },
  {
   "cell_type": "code",
   "execution_count": 116,
   "metadata": {},
   "outputs": [
    {
     "data": {
      "text/plain": [
       "'/home/ckampa/Coding/hallprobecalib_extras/plots/hall_probe_stability/2019-12-04/time/temps/temps_scatter_water.html'"
      ]
     },
     "execution_count": 116,
     "metadata": {},
     "output_type": "execute_result"
    }
   ],
   "source": [
    "#fname = 'temps_scatter'\n",
    "fname = 'time/temps/temps_scatter_water'\n",
    "pio.write_image(fig, plotdir+fname+'.pdf')\n",
    "pio.write_image(fig, plotdir+fname+'.png')\n",
    "plot(fig, filename=plotdir+fname+'.html', auto_open=False)"
   ]
  },
  {
   "cell_type": "code",
   "execution_count": 117,
   "metadata": {},
   "outputs": [],
   "source": [
    "temps_ambient = [col for col in df.columns if (\"Ambient\" in col)]\n",
    "#temps_ambient"
   ]
  },
  {
   "cell_type": "code",
   "execution_count": 118,
   "metadata": {},
   "outputs": [
    {
     "data": {
      "text/plain": [
       "'temp-plot.html'"
      ]
     },
     "execution_count": 118,
     "metadata": {},
     "output_type": "execute_result"
    }
   ],
   "source": [
    "fig = scatter2d([df.index for c in temps_ambient],[df[c] for c in temps_ambient],inline=True, show_plot=False);\n",
    "fig.layout.title = \"Ambient Temp vs. Datetime\"\n",
    "fig.layout.yaxis.title = \"Temp [deg. C]\"\n",
    "#fig.show()\n",
    "plot(fig)"
   ]
  },
  {
   "cell_type": "code",
   "execution_count": 119,
   "metadata": {},
   "outputs": [
    {
     "data": {
      "text/plain": [
       "'/home/ckampa/Coding/hallprobecalib_extras/plots/hall_probe_stability/2019-12-04/time/temps/temps_scatter_ambient.html'"
      ]
     },
     "execution_count": 119,
     "metadata": {},
     "output_type": "execute_result"
    }
   ],
   "source": [
    "#fname = 'temps_scatter'\n",
    "fname = 'time/temps/temps_scatter_ambient'\n",
    "pio.write_image(fig, plotdir+fname+'.pdf')\n",
    "pio.write_image(fig, plotdir+fname+'.png')\n",
    "plot(fig, filename=plotdir+fname+'.html', auto_open=False)"
   ]
  },
  {
   "cell_type": "code",
   "execution_count": 120,
   "metadata": {},
   "outputs": [],
   "source": [
    "temps_magnet = [col for col in df.columns if ((\"PS\" in col) or (\"Coil\" in col) or (\"Yoke\" in col)) and (\"Orange\" not in col)]\n",
    "#temps_magnet"
   ]
  },
  {
   "cell_type": "code",
   "execution_count": 121,
   "metadata": {},
   "outputs": [
    {
     "data": {
      "text/plain": [
       "'temp-plot.html'"
      ]
     },
     "execution_count": 121,
     "metadata": {},
     "output_type": "execute_result"
    }
   ],
   "source": [
    "fig = scatter2d([df.index for c in temps_magnet],[df[c] for c in temps_magnet],inline=True, show_plot=False);\n",
    "fig.layout.title = \"Magnet Temp vs. Datetime\"\n",
    "fig.layout.yaxis.title = \"Temp [deg. C]\"\n",
    "#fig.show()\n",
    "plot(fig)"
   ]
  },
  {
   "cell_type": "code",
   "execution_count": 122,
   "metadata": {},
   "outputs": [
    {
     "data": {
      "text/plain": [
       "'/home/ckampa/Coding/hallprobecalib_extras/plots/hall_probe_stability/2019-12-04/time/temps/temps_scatter_magnet.html'"
      ]
     },
     "execution_count": 122,
     "metadata": {},
     "output_type": "execute_result"
    }
   ],
   "source": [
    "#fname = 'temps_scatter'\n",
    "fname = 'time/temps/temps_scatter_magnet'\n",
    "pio.write_image(fig, plotdir+fname+'.pdf')\n",
    "pio.write_image(fig, plotdir+fname+'.png')\n",
    "plot(fig, filename=plotdir+fname+'.html', auto_open=False)"
   ]
  },
  {
   "cell_type": "markdown",
   "metadata": {},
   "source": [
    "## Seeing Temperature Corrections"
   ]
  },
  {
   "cell_type": "code",
   "execution_count": null,
   "metadata": {},
   "outputs": [],
   "source": [
    "fig = scatter2d(df[f\"{probe}_Cal_T\"], df[\"NMR [T]\"], df.days_delta, show_plot=False)"
   ]
  },
  {
   "cell_type": "code",
   "execution_count": null,
   "metadata": {},
   "outputs": [],
   "source": [
    "plot(fig)"
   ]
  },
  {
   "cell_type": "code",
   "execution_count": null,
   "metadata": {},
   "outputs": [],
   "source": [
    "fig = scatter2d(df[f\"{probe}_Cal_T\"], df[f\"{probe}_Cal_Bmag\"] / df[\"NMR [T]\"], df.days_delta, inline=False)"
   ]
  },
  {
   "cell_type": "code",
   "execution_count": null,
   "metadata": {},
   "outputs": [],
   "source": [
    "fig = scatter2d(df[f\"{probe}_Cal_T\"], df[f\"{probe}_Raw_Bmag\"] / df[\"NMR [T]\"], df.days_delta, inline=False)"
   ]
  },
  {
   "cell_type": "code",
   "execution_count": null,
   "metadata": {},
   "outputs": [],
   "source": [
    "fig = scatter2d(df[f\"{probe}_Cal_T\"], df[f\"{probe}_Raw_Bmag\"], df.days_delta, inline=False)"
   ]
  },
  {
   "cell_type": "code",
   "execution_count": null,
   "metadata": {},
   "outputs": [],
   "source": [
    "fig = scatter2d(3*[df[f\"{probe}_Cal_T\"]], [df[f\"{probe}_Raw_{comp}\"] / df[\"NMR [T]\"] for comp in [\"X\",\"Y\",\"Z\"]],\n",
    "                3*[df.days_delta], inline=False)"
   ]
  },
  {
   "cell_type": "code",
   "execution_count": null,
   "metadata": {},
   "outputs": [],
   "source": [
    "fig = scatter2d(df.index, df[f\"{probe}_Raw_Theta\"], df.days_delta, inline=False)"
   ]
  },
  {
   "cell_type": "code",
   "execution_count": null,
   "metadata": {},
   "outputs": [],
   "source": [
    "fig = scatter2d(df.index, df[f\"{probe}_Raw_Phi\"], df.days_delta, inline=False)"
   ]
  },
  {
   "cell_type": "code",
   "execution_count": null,
   "metadata": {},
   "outputs": [],
   "source": []
  },
  {
   "cell_type": "code",
   "execution_count": null,
   "metadata": {},
   "outputs": [],
   "source": []
  },
  {
   "cell_type": "code",
   "execution_count": 123,
   "metadata": {},
   "outputs": [],
   "source": [
    "df = df[df[\"NMR [T]\"] != 0]"
   ]
  },
  {
   "cell_type": "code",
   "execution_count": 124,
   "metadata": {},
   "outputs": [],
   "source": [
    "def volt(temp, A, B):\n",
    "    return A * temp + B"
   ]
  },
  {
   "cell_type": "code",
   "execution_count": 125,
   "metadata": {},
   "outputs": [],
   "source": [
    "guess = np.array([-1300 / 3.5, 2e6]) # A, B"
   ]
  },
  {
   "cell_type": "code",
   "execution_count": 126,
   "metadata": {},
   "outputs": [],
   "source": [
    "x_dat = df[f\"{probe}_Cal_T\"]\n",
    "#x_dat = df[stable_temp][f\"{probe}_Cal_T\"]"
   ]
  },
  {
   "cell_type": "code",
   "execution_count": 127,
   "metadata": {},
   "outputs": [],
   "source": [
    "params, cov = optimization.curve_fit(volt, x_dat, df[f\"{probe}_Raw_Bmag\"] / df[\"NMR [T]\"], guess)\n",
    "#params, cov = optimization.curve_fit(volt, x_dat, \n",
    "#                                     df[stable_temp][f\"{probe}_Raw_Bmag\"] / df[stable_temp][\"NMR [T]\"], guess)"
   ]
  },
  {
   "cell_type": "code",
   "execution_count": 128,
   "metadata": {},
   "outputs": [
    {
     "data": {
      "text/plain": [
       "(array([-1.18105593e+03,  2.83284664e+06]), array([[ 0.09502397, -1.83203198],\n",
       "        [-1.83203198, 36.99691865]]))"
      ]
     },
     "execution_count": 128,
     "metadata": {},
     "output_type": "execute_result"
    }
   ],
   "source": [
    "params, cov"
   ]
  },
  {
   "cell_type": "code",
   "execution_count": 129,
   "metadata": {},
   "outputs": [
    {
     "data": {
      "text/plain": [
       "0.3082595806883153"
      ]
     },
     "execution_count": 129,
     "metadata": {},
     "output_type": "execute_result"
    }
   ],
   "source": [
    "np.sqrt(cov[0,0])"
   ]
  },
  {
   "cell_type": "code",
   "execution_count": 130,
   "metadata": {},
   "outputs": [
    {
     "data": {
      "text/plain": [
       "-0.9770880237199217"
      ]
     },
     "execution_count": 130,
     "metadata": {},
     "output_type": "execute_result"
    }
   ],
   "source": [
    "cov[0,1] / (np.sqrt(cov[0,0])*np.sqrt(cov[1,1]))"
   ]
  },
  {
   "cell_type": "markdown",
   "metadata": {},
   "source": [
    "Parameters have strong correlation"
   ]
  },
  {
   "cell_type": "code",
   "execution_count": 131,
   "metadata": {},
   "outputs": [],
   "source": [
    "A_fit, B_fit = params"
   ]
  },
  {
   "cell_type": "code",
   "execution_count": 132,
   "metadata": {},
   "outputs": [],
   "source": [
    "df[\"Bmag_lsq\"] = volt(x_dat, A_fit, B_fit)"
   ]
  },
  {
   "cell_type": "code",
   "execution_count": null,
   "metadata": {},
   "outputs": [],
   "source": [
    "fig = scatter2d(df[f\"{probe}_Cal_T\"], df[f\"{probe}_Raw_Bmag\"] / df[\"NMR [T]\"], df.days_delta, show_plot=False)\n",
    "#d = [df[f\"{probe}_Raw_X\"].min(), df[f\"{probe}_Raw_X\"].max()]\n",
    "fig.add_trace(go.Scatter(\n",
    "                    x=df[f\"{probe}_Cal_T\"], y=df[\"Bmag_lsq\"],\n",
    "                    mode='lines', name=\"unity\",\n",
    "                    line=dict(color='deeppink', width=2,\n",
    "                              dash='dash')));\n",
    "plot(fig)"
   ]
  },
  {
   "cell_type": "code",
   "execution_count": null,
   "metadata": {},
   "outputs": [],
   "source": [
    "fig.update_traces(marker=dict(size=5));\n",
    "plot(fig);"
   ]
  },
  {
   "cell_type": "markdown",
   "metadata": {},
   "source": [
    "Bmag fit looks pretty good so far (6 data points)."
   ]
  },
  {
   "cell_type": "markdown",
   "metadata": {
    "heading_collapsed": true
   },
   "source": [
    "## Profile Plot"
   ]
  },
  {
   "cell_type": "code",
   "execution_count": null,
   "metadata": {
    "hidden": true
   },
   "outputs": [],
   "source": [
    "stable_temp = (abs(df[\"Floor\"].diff(5).rolling(5).mean()) < 0.008) #| (np.isnan(df[\"Floor\"].diff(5)))"
   ]
  },
  {
   "cell_type": "code",
   "execution_count": null,
   "metadata": {
    "hidden": true
   },
   "outputs": [],
   "source": [
    "df_ = df[stable_temp]"
   ]
  },
  {
   "cell_type": "code",
   "execution_count": null,
   "metadata": {
    "hidden": true
   },
   "outputs": [],
   "source": [
    "fig = histo(df[f\"{probe}_Cal_T\"], bins=50, inline=False)"
   ]
  },
  {
   "cell_type": "code",
   "execution_count": null,
   "metadata": {
    "hidden": true
   },
   "outputs": [],
   "source": [
    "fig = histo(df_[f\"{probe}_Cal_T\"], bins=50, inline=False)"
   ]
  },
  {
   "cell_type": "code",
   "execution_count": null,
   "metadata": {
    "hidden": true
   },
   "outputs": [],
   "source": [
    "len(df[stable_temp])"
   ]
  },
  {
   "cell_type": "code",
   "execution_count": null,
   "metadata": {
    "hidden": true
   },
   "outputs": [],
   "source": [
    "len(df)"
   ]
  },
  {
   "cell_type": "code",
   "execution_count": null,
   "metadata": {
    "hidden": true
   },
   "outputs": [],
   "source": [
    "fig = scatter2d(df_[f\"{probe}_Cal_T\"],\n",
    "                df_[f\"{probe}_Raw_Bmag\"] / df_[\"NMR [T]\"],\n",
    "                df_.days_delta, show_plot=False)\n",
    "#d = [df[f\"{probe}_Raw_X\"].min(), df[f\"{probe}_Raw_X\"].max()]\n",
    "fig.add_trace(go.Scatter(\n",
    "                    x=df_[f\"{probe}_Cal_T\"], y=df_[\"Bmag_lsq\"],\n",
    "                    mode='lines', name=\"unity\",\n",
    "                    line=dict(color='deeppink', width=2,\n",
    "                              dash='dash')));\n",
    "#plot(fig)\n",
    "\n",
    "fig.update_traces(marker=dict(size=5));\n",
    "plot(fig);"
   ]
  },
  {
   "cell_type": "code",
   "execution_count": null,
   "metadata": {
    "hidden": true
   },
   "outputs": [],
   "source": [
    "nbins = 15"
   ]
  },
  {
   "cell_type": "code",
   "execution_count": null,
   "metadata": {
    "hidden": true
   },
   "outputs": [],
   "source": [
    "fig, tprof = py_profile(df_[f\"{probe}_Cal_T\"],df_[f\"{probe}_Raw_Bmag\"] / df_[\"NMR [T]\"], x_bins=nbins,\n",
    "                        return_tprof=True, inline=False)"
   ]
  },
  {
   "cell_type": "code",
   "execution_count": null,
   "metadata": {
    "hidden": true
   },
   "outputs": [],
   "source": [
    "bin_centers = []\n",
    "bin_contents = []\n",
    "bin_errors = []"
   ]
  },
  {
   "cell_type": "code",
   "execution_count": null,
   "metadata": {
    "hidden": true
   },
   "outputs": [],
   "source": [
    "for i in range(1, nbins+1):\n",
    "    bin_centers.append(tprof.GetBinCenter(i))\n",
    "    bin_contents.append(tprof.GetBinContent(i))\n",
    "    bin_errors.append(tprof.GetBinError(i))"
   ]
  },
  {
   "cell_type": "code",
   "execution_count": null,
   "metadata": {
    "hidden": true
   },
   "outputs": [],
   "source": [
    "bin_centers = pd.Series(bin_centers, name=\"Temp\")\n",
    "bin_contents = pd.Series(bin_contents, name=\"Voltage Magnitude / NMR\")\n",
    "bin_errors = pd.Series(bin_errors, name=\"Errors\")"
   ]
  },
  {
   "cell_type": "code",
   "execution_count": null,
   "metadata": {
    "hidden": true
   },
   "outputs": [],
   "source": [
    "def volt(temp, A, B):\n",
    "    return A * temp + B"
   ]
  },
  {
   "cell_type": "code",
   "execution_count": null,
   "metadata": {
    "hidden": true
   },
   "outputs": [],
   "source": [
    "guess = np.array([-1300 / 3.5, 2e6]) # A, B"
   ]
  },
  {
   "cell_type": "code",
   "execution_count": null,
   "metadata": {
    "hidden": true
   },
   "outputs": [],
   "source": [
    "x_dat = df_[f\"{probe}_Cal_T\"]\n",
    "###x_dat = bin_centers#df[f\"{probe}_Cal_T\"]\n",
    "#x_dat = df[stable_temp][f\"{probe}_Cal_T\"]"
   ]
  },
  {
   "cell_type": "code",
   "execution_count": null,
   "metadata": {
    "hidden": true
   },
   "outputs": [],
   "source": [
    "params, cov = optimization.curve_fit(volt, x_dat, df_[f\"{probe}_Raw_Bmag\"]/df_[\"NMR [T]\"], guess)\n",
    "###params, cov = optimization.curve_fit(volt, x_dat, bin_contents, guess, sigma=bin_errors)\n",
    "#params, cov = optimization.curve_fit(volt, x_dat, \n",
    "#                                     df[stable_temp][f\"{probe}_Raw_Bmag\"] / df[stable_temp][\"NMR [T]\"], guess)"
   ]
  },
  {
   "cell_type": "code",
   "execution_count": null,
   "metadata": {
    "hidden": true
   },
   "outputs": [],
   "source": [
    "# Bmag ### STABLE TEMP\n",
    "params, cov"
   ]
  },
  {
   "cell_type": "code",
   "execution_count": null,
   "metadata": {
    "hidden": true
   },
   "outputs": [],
   "source": [
    "np.sqrt(cov[0,0])"
   ]
  },
  {
   "cell_type": "code",
   "execution_count": null,
   "metadata": {
    "hidden": true
   },
   "outputs": [],
   "source": [
    "cov[0,1] / (np.sqrt(cov[0,0])*np.sqrt(cov[1,1]))"
   ]
  },
  {
   "cell_type": "markdown",
   "metadata": {
    "hidden": true
   },
   "source": [
    "Parameters have strong correlation"
   ]
  },
  {
   "cell_type": "code",
   "execution_count": null,
   "metadata": {
    "hidden": true
   },
   "outputs": [],
   "source": [
    "A_fit, B_fit = params"
   ]
  },
  {
   "cell_type": "code",
   "execution_count": null,
   "metadata": {
    "hidden": true
   },
   "outputs": [],
   "source": [
    "df_[\"Bmag_lsq_stable\"] = volt(x_dat, A_fit, B_fit)"
   ]
  },
  {
   "cell_type": "code",
   "execution_count": null,
   "metadata": {
    "hidden": true
   },
   "outputs": [],
   "source": [
    "fig = scatter2d(df[f\"{probe}_Cal_T\"], df[f\"{probe}_Raw_Bmag\"] / df[\"NMR [T]\"], df.days_delta, show_plot=False)\n",
    "#d = [df[f\"{probe}_Raw_X\"].min(), df[f\"{probe}_Raw_X\"].max()]\n",
    "fig.add_trace(go.Scatter(\n",
    "                    x=df_[f\"{probe}_Cal_T\"], y=df_[\"Bmag_lsq_stable\"],\n",
    "                    mode='lines', name=\"unity\",\n",
    "                    line=dict(color='blue', width=2,\n",
    "                              dash='dash')));\n",
    "fig.add_trace(go.Scatter(\n",
    "                    x=df_[f\"{probe}_Cal_T\"], y=df_[\"Bmag_lsq\"],\n",
    "                    mode='lines', name=\"unity\",\n",
    "                    line=dict(color='deeppink', width=2,\n",
    "                              dash='dash')));\n",
    "\n",
    "plot(fig)"
   ]
  },
  {
   "cell_type": "code",
   "execution_count": null,
   "metadata": {
    "hidden": true
   },
   "outputs": [],
   "source": [
    "fig.update_traces(marker=dict(size=5));\n",
    "plot(fig);"
   ]
  },
  {
   "cell_type": "code",
   "execution_count": null,
   "metadata": {
    "hidden": true
   },
   "outputs": [],
   "source": []
  },
  {
   "cell_type": "code",
   "execution_count": null,
   "metadata": {
    "hidden": true
   },
   "outputs": [],
   "source": []
  },
  {
   "cell_type": "code",
   "execution_count": null,
   "metadata": {
    "hidden": true
   },
   "outputs": [],
   "source": []
  },
  {
   "cell_type": "markdown",
   "metadata": {},
   "source": [
    "## Aggregate data"
   ]
  },
  {
   "cell_type": "code",
   "execution_count": null,
   "metadata": {},
   "outputs": [],
   "source": [
    "#df[\"Floor\"].diff(5).rolling(5).mean().head()"
   ]
  },
  {
   "cell_type": "code",
   "execution_count": 133,
   "metadata": {},
   "outputs": [],
   "source": [
    "fig = scatter2d(df.index, df[\"Floor\"].diff(5).rolling(5).mean(), inline=False)"
   ]
  },
  {
   "cell_type": "code",
   "execution_count": 134,
   "metadata": {},
   "outputs": [],
   "source": [
    "stable_temp = (abs(df[\"Floor\"].diff(5).rolling(5).mean()) < 0.008) #| (np.isnan(df[\"Floor\"].diff(5)))"
   ]
  },
  {
   "cell_type": "code",
   "execution_count": 135,
   "metadata": {},
   "outputs": [],
   "source": [
    "df_ = df[stable_temp]"
   ]
  },
  {
   "cell_type": "code",
   "execution_count": 136,
   "metadata": {},
   "outputs": [
    {
     "data": {
      "text/html": [
       "<div>\n",
       "<style scoped>\n",
       "    .dataframe tbody tr th:only-of-type {\n",
       "        vertical-align: middle;\n",
       "    }\n",
       "\n",
       "    .dataframe tbody tr th {\n",
       "        vertical-align: top;\n",
       "    }\n",
       "\n",
       "    .dataframe thead th {\n",
       "        text-align: right;\n",
       "    }\n",
       "</style>\n",
       "<table border=\"1\" class=\"dataframe\">\n",
       "  <thead>\n",
       "    <tr style=\"text-align: right;\">\n",
       "      <th></th>\n",
       "      <th>Time</th>\n",
       "      <th>Magnet Current [A]</th>\n",
       "      <th>Magnet Voltage [V]</th>\n",
       "      <th>Coil 1 (new)</th>\n",
       "      <th>Coil 2 (old)</th>\n",
       "      <th>LCW in Coil1</th>\n",
       "      <th>LCW out Coil 1</th>\n",
       "      <th>LCW in Coil 2</th>\n",
       "      <th>LCW out Coil 2</th>\n",
       "      <th>Yoke</th>\n",
       "      <th>...</th>\n",
       "      <th>6A0000000D61333A_Raw_Theta</th>\n",
       "      <th>6A0000000D61333A_Raw_Phi</th>\n",
       "      <th>C50000000D5E473A_Raw_Transverse</th>\n",
       "      <th>C50000000D5E473A_Raw_Theta</th>\n",
       "      <th>C50000000D5E473A_Raw_Phi</th>\n",
       "      <th>DF0000000D5E803A_Raw_Transverse</th>\n",
       "      <th>DF0000000D5E803A_Raw_Theta</th>\n",
       "      <th>DF0000000D5E803A_Raw_Phi</th>\n",
       "      <th>day</th>\n",
       "      <th>Bmag_lsq</th>\n",
       "    </tr>\n",
       "    <tr>\n",
       "      <th>Datetime</th>\n",
       "      <th></th>\n",
       "      <th></th>\n",
       "      <th></th>\n",
       "      <th></th>\n",
       "      <th></th>\n",
       "      <th></th>\n",
       "      <th></th>\n",
       "      <th></th>\n",
       "      <th></th>\n",
       "      <th></th>\n",
       "      <th></th>\n",
       "      <th></th>\n",
       "      <th></th>\n",
       "      <th></th>\n",
       "      <th></th>\n",
       "      <th></th>\n",
       "      <th></th>\n",
       "      <th></th>\n",
       "      <th></th>\n",
       "      <th></th>\n",
       "      <th></th>\n",
       "    </tr>\n",
       "  </thead>\n",
       "  <tbody>\n",
       "    <tr>\n",
       "      <th>2019-12-27 11:28:11</th>\n",
       "      <td>12/27/2019 11:28:11 AM</td>\n",
       "      <td>256.072700</td>\n",
       "      <td>30.965217</td>\n",
       "      <td>33.462921</td>\n",
       "      <td>31.083595</td>\n",
       "      <td>7.752289</td>\n",
       "      <td>10.692882</td>\n",
       "      <td>12.223123</td>\n",
       "      <td>14.688001</td>\n",
       "      <td>16.935392</td>\n",
       "      <td>...</td>\n",
       "      <td>0.003664</td>\n",
       "      <td>2.191046</td>\n",
       "      <td>60594.174118</td>\n",
       "      <td>1.231594</td>\n",
       "      <td>1.364633</td>\n",
       "      <td>3.515094e+06</td>\n",
       "      <td>1.531202</td>\n",
       "      <td>1.108624</td>\n",
       "      <td>27</td>\n",
       "      <td>2.813757e+06</td>\n",
       "    </tr>\n",
       "    <tr>\n",
       "      <th>2019-12-27 11:29:02</th>\n",
       "      <td>12/27/2019 11:29:02 AM</td>\n",
       "      <td>256.072757</td>\n",
       "      <td>30.964317</td>\n",
       "      <td>33.513336</td>\n",
       "      <td>31.086805</td>\n",
       "      <td>7.760722</td>\n",
       "      <td>10.688633</td>\n",
       "      <td>12.222573</td>\n",
       "      <td>14.682413</td>\n",
       "      <td>16.937099</td>\n",
       "      <td>...</td>\n",
       "      <td>0.019861</td>\n",
       "      <td>0.731188</td>\n",
       "      <td>60637.887702</td>\n",
       "      <td>1.230281</td>\n",
       "      <td>1.365053</td>\n",
       "      <td>3.515079e+06</td>\n",
       "      <td>1.531235</td>\n",
       "      <td>1.108638</td>\n",
       "      <td>27</td>\n",
       "      <td>2.813731e+06</td>\n",
       "    </tr>\n",
       "  </tbody>\n",
       "</table>\n",
       "<p>2 rows × 152 columns</p>\n",
       "</div>"
      ],
      "text/plain": [
       "                                       Time  Magnet Current [A]  \\\n",
       "Datetime                                                          \n",
       "2019-12-27 11:28:11  12/27/2019 11:28:11 AM          256.072700   \n",
       "2019-12-27 11:29:02  12/27/2019 11:29:02 AM          256.072757   \n",
       "\n",
       "                     Magnet Voltage [V]  Coil 1 (new)  Coil 2 (old)  \\\n",
       "Datetime                                                              \n",
       "2019-12-27 11:28:11           30.965217     33.462921     31.083595   \n",
       "2019-12-27 11:29:02           30.964317     33.513336     31.086805   \n",
       "\n",
       "                     LCW in Coil1  LCW out Coil 1  LCW in Coil 2  \\\n",
       "Datetime                                                           \n",
       "2019-12-27 11:28:11      7.752289       10.692882      12.223123   \n",
       "2019-12-27 11:29:02      7.760722       10.688633      12.222573   \n",
       "\n",
       "                     LCW out Coil 2       Yoke      ...       \\\n",
       "Datetime                                            ...        \n",
       "2019-12-27 11:28:11       14.688001  16.935392      ...        \n",
       "2019-12-27 11:29:02       14.682413  16.937099      ...        \n",
       "\n",
       "                     6A0000000D61333A_Raw_Theta  6A0000000D61333A_Raw_Phi  \\\n",
       "Datetime                                                                    \n",
       "2019-12-27 11:28:11                    0.003664                  2.191046   \n",
       "2019-12-27 11:29:02                    0.019861                  0.731188   \n",
       "\n",
       "                     C50000000D5E473A_Raw_Transverse  \\\n",
       "Datetime                                               \n",
       "2019-12-27 11:28:11                     60594.174118   \n",
       "2019-12-27 11:29:02                     60637.887702   \n",
       "\n",
       "                     C50000000D5E473A_Raw_Theta  C50000000D5E473A_Raw_Phi  \\\n",
       "Datetime                                                                    \n",
       "2019-12-27 11:28:11                    1.231594                  1.364633   \n",
       "2019-12-27 11:29:02                    1.230281                  1.365053   \n",
       "\n",
       "                     DF0000000D5E803A_Raw_Transverse  \\\n",
       "Datetime                                               \n",
       "2019-12-27 11:28:11                     3.515094e+06   \n",
       "2019-12-27 11:29:02                     3.515079e+06   \n",
       "\n",
       "                     DF0000000D5E803A_Raw_Theta  DF0000000D5E803A_Raw_Phi  \\\n",
       "Datetime                                                                    \n",
       "2019-12-27 11:28:11                    1.531202                  1.108624   \n",
       "2019-12-27 11:29:02                    1.531235                  1.108638   \n",
       "\n",
       "                     day      Bmag_lsq  \n",
       "Datetime                                \n",
       "2019-12-27 11:28:11   27  2.813757e+06  \n",
       "2019-12-27 11:29:02   27  2.813731e+06  \n",
       "\n",
       "[2 rows x 152 columns]"
      ]
     },
     "execution_count": 136,
     "metadata": {},
     "output_type": "execute_result"
    }
   ],
   "source": [
    "df_.tail(2)"
   ]
  },
  {
   "cell_type": "code",
   "execution_count": 137,
   "metadata": {},
   "outputs": [],
   "source": [
    "fig = scatter2d(df[stable_temp][f\"{probe}_Cal_T\"],\n",
    "                df[stable_temp][f\"{probe}_Raw_Bmag\"] / df[stable_temp][\"NMR [T]\"],\n",
    "                df[stable_temp].days_delta, show_plot=False)\n",
    "#d = [df[f\"{probe}_Raw_X\"].min(), df[f\"{probe}_Raw_X\"].max()]\n",
    "fig.add_trace(go.Scatter(\n",
    "                    x=df[stable_temp][f\"{probe}_Cal_T\"], y=df[stable_temp][\"Bmag_lsq\"],\n",
    "                    mode='lines', name=\"unity\",\n",
    "                    line=dict(color='deeppink', width=2,\n",
    "                              dash='dash')));\n",
    "#plot(fig)\n",
    "\n",
    "fig.update_traces(marker=dict(size=5));\n",
    "plot(fig);"
   ]
  },
  {
   "cell_type": "code",
   "execution_count": 138,
   "metadata": {},
   "outputs": [],
   "source": [
    "phi0 = df_.iloc[0][f\"{probe}_Raw_Phi\"]\n",
    "theta0 = df_.iloc[0][f\"{probe}_Raw_Theta\"]"
   ]
  },
  {
   "cell_type": "code",
   "execution_count": 139,
   "metadata": {},
   "outputs": [],
   "source": [
    "df_[\"ANGLE\"] = np.sqrt((df_[f\"{probe}_Raw_Theta\"]-theta0)**2 + (df_[f\"{probe}_Raw_Phi\"]-phi0)**2)"
   ]
  },
  {
   "cell_type": "code",
   "execution_count": 140,
   "metadata": {},
   "outputs": [],
   "source": [
    "fig = scatter2d(df_[\"ANGLE\"], df_[f'{probe}_Cal_Res_Rel'],df_.days_delta, inline=False)"
   ]
  },
  {
   "cell_type": "code",
   "execution_count": 141,
   "metadata": {},
   "outputs": [],
   "source": [
    "fig = scatter2d(df_[f'{probe}_Raw_Theta'], df_[f'{probe}_Cal_Res_Rel'],df_.days_delta, inline=False)"
   ]
  },
  {
   "cell_type": "code",
   "execution_count": null,
   "metadata": {},
   "outputs": [],
   "source": []
  },
  {
   "cell_type": "code",
   "execution_count": 142,
   "metadata": {},
   "outputs": [],
   "source": [
    "## NEW, do all at once"
   ]
  },
  {
   "cell_type": "code",
   "execution_count": 143,
   "metadata": {},
   "outputs": [],
   "source": [
    "df_[\"Scaled Hall Voltage\"] = df_[f\"{probe}_Raw_Bmag\"] / df_[\"NMR [T]\"] * df_[\"NMR [T]\"].iloc[0]\n",
    "df_[\"Scaled Hall X\"] = df_[f\"{probe}_Raw_X\"] / df_[\"NMR [T]\"] * df_[\"NMR [T]\"].iloc[0]\n",
    "df_[\"Scaled Hall Y\"] = df_[f\"{probe}_Raw_Y\"] / df_[\"NMR [T]\"] * df_[\"NMR [T]\"].iloc[0]\n",
    "df_[\"Scaled Hall Z\"] = df_[f\"{probe}_Raw_Z\"] / df_[\"NMR [T]\"] * df_[\"NMR [T]\"].iloc[0]"
   ]
  },
  {
   "cell_type": "code",
   "execution_count": 167,
   "metadata": {},
   "outputs": [],
   "source": [
    "w = 0.3\n",
    "ts = np.array([16.0,16.8,18.6,20.3,22.0,23.8,25.35,27.0,28.0])\n",
    "ts_h = ts + w\n",
    "ts_l = ts - w"
   ]
  },
  {
   "cell_type": "code",
   "execution_count": 168,
   "metadata": {},
   "outputs": [
    {
     "data": {
      "text/plain": [
       "array([15.7 , 16.5 , 18.3 , 20.  , 21.7 , 23.5 , 25.05, 26.7 , 27.7 ])"
      ]
     },
     "execution_count": 168,
     "metadata": {},
     "output_type": "execute_result"
    }
   ],
   "source": [
    "ts_l"
   ]
  },
  {
   "cell_type": "code",
   "execution_count": 169,
   "metadata": {},
   "outputs": [
    {
     "data": {
      "text/plain": [
       "array([16.3 , 17.1 , 18.9 , 20.6 , 22.3 , 24.1 , 25.65, 27.3 , 28.3 ])"
      ]
     },
     "execution_count": 169,
     "metadata": {},
     "output_type": "execute_result"
    }
   ],
   "source": [
    "ts_h"
   ]
  },
  {
   "cell_type": "code",
   "execution_count": 170,
   "metadata": {},
   "outputs": [],
   "source": [
    "maps = [((df_[f\"{probe}_Cal_T\"] > ts_l[i]) & (df_[f\"{probe}_Cal_T\"] < ts_h[i])) for i in range(len(ts))]"
   ]
  },
  {
   "cell_type": "code",
   "execution_count": 171,
   "metadata": {},
   "outputs": [
    {
     "data": {
      "text/plain": [
       "9"
      ]
     },
     "execution_count": 171,
     "metadata": {},
     "output_type": "execute_result"
    }
   ],
   "source": [
    "len(maps)"
   ]
  },
  {
   "cell_type": "code",
   "execution_count": 172,
   "metadata": {},
   "outputs": [],
   "source": [
    "map_full = maps[0]\n",
    "\n",
    "for m in maps[1:]:\n",
    "    map_full = map_full | m\n",
    "    "
   ]
  },
  {
   "cell_type": "code",
   "execution_count": 173,
   "metadata": {},
   "outputs": [
    {
     "data": {
      "text/plain": [
       "29097"
      ]
     },
     "execution_count": 173,
     "metadata": {},
     "output_type": "execute_result"
    }
   ],
   "source": [
    "len(df_[map_full])"
   ]
  },
  {
   "cell_type": "code",
   "execution_count": 174,
   "metadata": {},
   "outputs": [
    {
     "data": {
      "text/plain": [
       "29100"
      ]
     },
     "execution_count": 174,
     "metadata": {},
     "output_type": "execute_result"
    }
   ],
   "source": [
    "len(df_)"
   ]
  },
  {
   "cell_type": "code",
   "execution_count": 175,
   "metadata": {
    "code_folding": []
   },
   "outputs": [],
   "source": [
    "xs = np.zeros_like(ts)\n",
    "ys = np.zeros_like(ts)\n",
    "xerrs = np.zeros_like(ts)\n",
    "yerrs = np.zeros_like(ts)\n",
    "ns = np.zeros_like(ts)\n",
    "\n",
    "## calculate averages\n",
    "for i,m in enumerate(maps):\n",
    "    df_sp = df_[m]\n",
    "    ns[i] = len(df_sp)\n",
    "    xs[i] = df_sp[f\"{probe}_Cal_T\"].mean()\n",
    "    xerrs[i] = df_sp[f\"{probe}_Cal_T\"].std()\n",
    "    ys[i] = df_sp[\"Scaled Hall Voltage\"].mean()\n",
    "    yerrs[i] = df_sp[\"Scaled Hall Voltage\"].std()"
   ]
  },
  {
   "cell_type": "code",
   "execution_count": 176,
   "metadata": {},
   "outputs": [
    {
     "data": {
      "text/plain": [
       "array([16.09906076, 16.81069449, 18.56322236, 20.33548436, 21.97341696,\n",
       "       23.81749021, 25.38289706, 27.05840686, 28.05888189])"
      ]
     },
     "execution_count": 176,
     "metadata": {},
     "output_type": "execute_result"
    }
   ],
   "source": [
    "xs"
   ]
  },
  {
   "cell_type": "code",
   "execution_count": 177,
   "metadata": {},
   "outputs": [],
   "source": [
    "def volt(temp, A, B):\n",
    "    return A * temp + B"
   ]
  },
  {
   "cell_type": "code",
   "execution_count": 178,
   "metadata": {},
   "outputs": [],
   "source": [
    "guess = np.array([-1300 / 3.5, 2e6]) # A, B"
   ]
  },
  {
   "cell_type": "code",
   "execution_count": 179,
   "metadata": {},
   "outputs": [],
   "source": [
    "x_dat = df_[f\"{probe}_Cal_T\"]\n",
    "x_dat_avg = xs\n",
    "#x_dat = df[stable_temp][f\"{probe}_Cal_T\"]"
   ]
  },
  {
   "cell_type": "code",
   "execution_count": 180,
   "metadata": {},
   "outputs": [],
   "source": [
    "y_dat = df_[\"Scaled Hall Voltage\"]\n",
    "#y_dat = df_[\"Scaled Hall Z\"]\n",
    "#y_dat = df_[\"NMR [T]\"]"
   ]
  },
  {
   "cell_type": "code",
   "execution_count": 181,
   "metadata": {},
   "outputs": [],
   "source": [
    "params, cov = optimization.curve_fit(volt, x_dat, y_dat, guess)\n",
    "params_avg, cov_avg = optimization.curve_fit(volt, x_dat_avg, ys, guess)\n",
    "#params, cov = optimization.curve_fit(volt, x_dat, \n",
    "#                                     df[stable_temp][f\"{probe}_Raw_Bmag\"] / df[stable_temp][\"NMR [T]\"], guess)"
   ]
  },
  {
   "cell_type": "code",
   "execution_count": 182,
   "metadata": {},
   "outputs": [
    {
     "data": {
      "text/plain": [
       "(array([-1.47938285e+03,  3.54073596e+06]), array([[ 0.17417422, -3.2797219 ],\n",
       "        [-3.2797219 , 64.4173483 ]]))"
      ]
     },
     "execution_count": 182,
     "metadata": {},
     "output_type": "execute_result"
    }
   ],
   "source": [
    "# stable temp\n",
    "params, cov"
   ]
  },
  {
   "cell_type": "code",
   "execution_count": 183,
   "metadata": {},
   "outputs": [
    {
     "data": {
      "text/plain": [
       "(array([-1.46863320e+03,  3.54036241e+06]),\n",
       " array([[   860.29808873, -18936.07315396],\n",
       "        [-18936.07315396, 431464.1185576 ]]))"
      ]
     },
     "execution_count": 183,
     "metadata": {},
     "output_type": "execute_result"
    }
   ],
   "source": [
    "# stable temp averaged\n",
    "params_avg, cov_avg"
   ]
  },
  {
   "cell_type": "code",
   "execution_count": 184,
   "metadata": {},
   "outputs": [],
   "source": [
    "A_fit, B_fit = params\n",
    "A_fit_avg, B_fit_avg = params_avg"
   ]
  },
  {
   "cell_type": "code",
   "execution_count": 185,
   "metadata": {},
   "outputs": [],
   "source": [
    "df_[\"Bmag_lsq\"] = volt(x_dat, A_fit, B_fit)\n",
    "df_[\"Bmag_lsq_avg\"] = volt(x_dat, A_fit_avg, B_fit_avg)"
   ]
  },
  {
   "cell_type": "code",
   "execution_count": 186,
   "metadata": {},
   "outputs": [],
   "source": [
    "ts = np.linspace(x_dat.min(), x_dat.max(), 25)"
   ]
  },
  {
   "cell_type": "code",
   "execution_count": 187,
   "metadata": {},
   "outputs": [],
   "source": [
    "B_lsq = volt(ts, A_fit, B_fit)\n",
    "B_lsq_avg = volt(ts, A_fit_avg, B_fit_avg)"
   ]
  },
  {
   "cell_type": "code",
   "execution_count": 188,
   "metadata": {},
   "outputs": [],
   "source": [
    "B_lsq = pd.Series(B_lsq, name=\"Stable Temp Fit\")\n",
    "B_lsq_avg = pd.Series(B_lsq_avg, name=\"Stable Temp Averaged Fit\")"
   ]
  },
  {
   "cell_type": "code",
   "execution_count": 189,
   "metadata": {},
   "outputs": [
    {
     "data": {
      "text/plain": [
       "'/home/ckampa/Coding/hallprobecalib_extras/plots/hall_probe_stability/2019-12-04/scaled_voltage_vs_temperature.html'"
      ]
     },
     "execution_count": 189,
     "metadata": {},
     "output_type": "execute_result"
    }
   ],
   "source": [
    "averaged=True\n",
    "\n",
    "fig = scatter2d(x_dat,\n",
    "                y_dat,\n",
    "                df_.days_delta, opacity=0.8, show_plot=False)\n",
    "\n",
    "fig.add_trace(go.Scatter(\n",
    "                    x=ts, y=B_lsq,\n",
    "                    mode='lines', name='Linear fit',#\"|V|/|B| = A * Temp. + B\",\n",
    "                    line=dict(color='rgb(78, 42, 132)',#'deeppink',\n",
    "                              width=1,\n",
    "                              dash='dash')));\n",
    "#fig.add_trace(go.Scatter(\n",
    "#                    x=ts, y=B_lsq_avg,\n",
    "#                    mode='lines', name=\"mean(|V|/|B|) = A * mean(Temp.) + B\",\n",
    "#                    line=dict(color='purple', width=1,\n",
    "#                              dash='dash')));\n",
    "\n",
    "fig.update_traces(marker=dict(size=1));\n",
    "\n",
    "if averaged:\n",
    "    fig.add_trace(go.Scatter(\n",
    "        x= xs,\n",
    "        y= ys,\n",
    "        mode='markers',\n",
    "        name='Averaged Data',\n",
    "        error_x=dict(\n",
    "            type='data',\n",
    "            array=xerrs,\n",
    "            width=1,\n",
    "            thickness=1.,\n",
    "            visible=True),\n",
    "        error_y=dict(\n",
    "            type='data',\n",
    "            array=yerrs,\n",
    "            width=1,\n",
    "            thickness=1.,\n",
    "            visible=True),\n",
    "        marker=dict(\n",
    "            size=3,\n",
    "            color=\"Red\",\n",
    "        )\n",
    "    ))\n",
    "\n",
    "#eqn = f\"Volt. = {A_fit:.2E} * Temp. + {B_fit:.2E}\"\n",
    "eqn = f\"y = {A_fit:.2E} * x + {B_fit:.2E}\"\n",
    "\n",
    "i = 6\n",
    "fig.add_annotation(\n",
    "    go.layout.Annotation(\n",
    "            x=ts[i],\n",
    "            y=B_lsq.iloc[i],\n",
    "            text=eqn,\n",
    "            font=dict(\n",
    "                #family=\"Courier New, monospace\",\n",
    "                size=14,\n",
    "                color=\"#ffffff\"\n",
    "            ),\n",
    "            align=\"center\",\n",
    "            arrowhead=2,\n",
    "            arrowsize=1,\n",
    "            arrowwidth=2,\n",
    "            arrowcolor=\"#636363\",\n",
    "            ax=+250,\n",
    "            ay=-25,\n",
    "            bordercolor=\"#c7c7c7\",\n",
    "            borderwidth=2,\n",
    "            borderpad=4,\n",
    "            bgcolor='rgb(78, 42, 132)',#\"#ff7f0e\",\n",
    "            opacity=0.7,\n",
    "            showarrow=True#False\n",
    "    )\n",
    ")\n",
    "\n",
    "fig.update_layout(title=\"Scaled Hall Voltage vs. Hall Probe Temperature\")\n",
    "fig.update_xaxes(title_text='Hall Probe Temperature [deg C]')\n",
    "fig.update_yaxes(title_text='|V_Hall| / NMR [micro V / T]')\n",
    "fig.update_layout( width=1000,height=600,)\n",
    "\n",
    "filename = plotdir+\"scaled_voltage_vs_temperature\"\n",
    "\n",
    "plot(fig, filename=filename+'.html')"
   ]
  },
  {
   "cell_type": "code",
   "execution_count": 190,
   "metadata": {},
   "outputs": [],
   "source": [
    "pio.write_image(fig, filename+\".pdf\")\n",
    "pio.write_image(fig, filename+\".png\")"
   ]
  },
  {
   "cell_type": "code",
   "execution_count": null,
   "metadata": {},
   "outputs": [],
   "source": []
  },
  {
   "cell_type": "code",
   "execution_count": null,
   "metadata": {},
   "outputs": [],
   "source": []
  },
  {
   "cell_type": "code",
   "execution_count": null,
   "metadata": {},
   "outputs": [],
   "source": [
    "fig = scatter2d(df_[\"NMR [T]\"],\n",
    "                df_[f\"{probe}_Raw_Bmag\"],# * df_[f\"{probe}_Cal_T\"].min() / df_[f\"{probe}_Cal_T\"],\n",
    "                df_.days_delta, opacity=1., inline=False)"
   ]
  },
  {
   "cell_type": "code",
   "execution_count": null,
   "metadata": {},
   "outputs": [],
   "source": [
    "fig = scatter2d(df_[\"NMR [T]\"],\n",
    "                df_[f\"{probes[0]}_Raw_Bmag\"],# * df_[f\"{probe}_Cal_T\"].min() / df_[f\"{probe}_Cal_T\"],\n",
    "                df_.days_delta, opacity=1., inline=False)"
   ]
  },
  {
   "cell_type": "code",
   "execution_count": null,
   "metadata": {},
   "outputs": [],
   "source": [
    "fig = scatter2d(df_[\"NMR [T]\"],\n",
    "                df_[f\"{probes[0]}_Cal_Bmag\"],# * df_[f\"{probe}_Cal_T\"].min() / df_[f\"{probe}_Cal_T\"],\n",
    "                df_.days_delta, opacity=1., inline=False)"
   ]
  },
  {
   "cell_type": "code",
   "execution_count": null,
   "metadata": {},
   "outputs": [],
   "source": [
    "fig = scatter2d(df[\"NMR [T]\"],\n",
    "                df[f\"{probe}_Raw_Bmag\"],# * df[f\"{probe}_Cal_T\"].min() / df[f\"{probe}_Cal_T\"],\n",
    "                df.days_delta, opacity=1., inline=False)"
   ]
  },
  {
   "cell_type": "code",
   "execution_count": null,
   "metadata": {},
   "outputs": [],
   "source": []
  },
  {
   "cell_type": "code",
   "execution_count": null,
   "metadata": {},
   "outputs": [],
   "source": [
    "x = np.array([6e-4, 2.36e-2, 1.2492]) # B in Tesla\n",
    "y = np.array([4.85e3, 6.43e4, 3.5e6]) # Hall voltage (Bmag), note: 3 different probes"
   ]
  },
  {
   "cell_type": "code",
   "execution_count": null,
   "metadata": {},
   "outputs": [],
   "source": [
    "fig = scatter2d(x, y, lines=False, markers=True, size_list=[8], inline=False)"
   ]
  },
  {
   "cell_type": "code",
   "execution_count": null,
   "metadata": {},
   "outputs": [],
   "source": [
    "def volt_b(mag, A, B):\n",
    "    return A * mag + B"
   ]
  },
  {
   "cell_type": "code",
   "execution_count": null,
   "metadata": {},
   "outputs": [],
   "source": [
    "guess = np.array([3e6, 0.]) # A, B"
   ]
  },
  {
   "cell_type": "code",
   "execution_count": null,
   "metadata": {},
   "outputs": [],
   "source": [
    "x_dat = x\n",
    "#x_dat_avg = xs\n",
    "#x_dat = df[stable_temp][f\"{probe}_Cal_T\"]"
   ]
  },
  {
   "cell_type": "code",
   "execution_count": null,
   "metadata": {},
   "outputs": [],
   "source": [
    "y_dat = y"
   ]
  },
  {
   "cell_type": "code",
   "execution_count": null,
   "metadata": {},
   "outputs": [],
   "source": [
    "params, cov = optimization.curve_fit(volt_b, x_dat, y_dat, guess)\n",
    "#params_avg, cov_avg = optimization.curve_fit(volt, x_dat_avg, ys, guess)\n",
    "#params, cov = optimization.curve_fit(volt, x_dat, \n",
    "#                                     df[stable_temp][f\"{probe}_Raw_Bmag\"] / df[stable_temp][\"NMR [T]\"], guess)"
   ]
  },
  {
   "cell_type": "code",
   "execution_count": null,
   "metadata": {},
   "outputs": [],
   "source": [
    "# stable temp\n",
    "params, cov"
   ]
  },
  {
   "cell_type": "code",
   "execution_count": null,
   "metadata": {},
   "outputs": [],
   "source": [
    "A_fit, B_fit = params\n",
    "#A_fit_avg, B_fit_avg = params_avg"
   ]
  },
  {
   "cell_type": "code",
   "execution_count": null,
   "metadata": {},
   "outputs": [],
   "source": [
    "B_lsq_dat = volt_b(x_dat, A_fit, B_fit)\n",
    "#df_[\"Bmag_lsq\"] = volt_b(x_dat, A_fit, B_fit)"
   ]
  },
  {
   "cell_type": "code",
   "execution_count": null,
   "metadata": {},
   "outputs": [],
   "source": [
    "ts = np.linspace(x_dat.min(), x_dat.max(), 25)"
   ]
  },
  {
   "cell_type": "code",
   "execution_count": null,
   "metadata": {},
   "outputs": [],
   "source": [
    "B_lsq = volt_b(ts, A_fit, B_fit)\n",
    "#B_lsq_avg = volt_b(ts, A_fit_avg, B_fit_avg)"
   ]
  },
  {
   "cell_type": "code",
   "execution_count": null,
   "metadata": {},
   "outputs": [],
   "source": [
    "B_lsq = pd.Series(B_lsq, name=\"Stable Temp Fit\")\n",
    "#B_lsq_avg = pd.Series(B_lsq_avg, name=\"Stable Temp Averaged Fit\")"
   ]
  },
  {
   "cell_type": "code",
   "execution_count": null,
   "metadata": {},
   "outputs": [],
   "source": [
    "fig = scatter2d(x_dat,\n",
    "                y_dat,\n",
    "                lines=False, markers=True,\n",
    "                size_list=[8], opacity=0.8, show_plot=False)\n",
    "\n",
    "fig.add_trace(go.Scatter(\n",
    "                    x=ts, y=B_lsq,\n",
    "                    mode='lines', name='Linear fit',#\"|V|/|B| = A * Temp. + B\",\n",
    "                    line=dict(color='rgb(78, 42, 132)',#'deeppink',\n",
    "                              width=1,\n",
    "                              dash='dash')));\n",
    "#fig.add_trace(go.Scatter(\n",
    "#                    x=ts, y=B_lsq_avg,\n",
    "#                    mode='lines', name=\"mean(|V|/|B|) = A * mean(Temp.) + B\",\n",
    "#                    line=dict(color='purple', width=1,\n",
    "#                              dash='dash')));\n",
    "\n",
    "#fig.update_traces(marker=dict(size=1));\n",
    "\n",
    "'''fig.add_trace(go.Scatter(\n",
    "    x= xs,\n",
    "    y= ys,\n",
    "    mode='markers',\n",
    "    name='Averaged Data',\n",
    "    error_x=dict(\n",
    "        type='data',\n",
    "        array=xerrs,\n",
    "        width=1,\n",
    "        thickness=1.,\n",
    "        visible=True),\n",
    "    error_y=dict(\n",
    "        type='data',\n",
    "        array=yerrs,\n",
    "        width=1,\n",
    "        thickness=1.,\n",
    "        visible=True),\n",
    "    marker=dict(\n",
    "        size=3,\n",
    "        color=\"Red\",\n",
    "    )\n",
    "))\n",
    "'''\n",
    "#eqn = f\"Volt. = {A_fit:.2E} * Temp. + {B_fit:.2E}\"\n",
    "eqn = f\"y = {A_fit:.2E} * x + {B_fit:.2E}\"\n",
    "\n",
    "i = 6\n",
    "fig.add_annotation(\n",
    "    go.layout.Annotation(\n",
    "            x=ts[i],\n",
    "            y=B_lsq.iloc[i],\n",
    "            text=eqn,\n",
    "            font=dict(\n",
    "                #family=\"Courier New, monospace\",\n",
    "                size=14,\n",
    "                color=\"#ffffff\"\n",
    "            ),\n",
    "            align=\"center\",\n",
    "            arrowhead=2,\n",
    "            arrowsize=1,\n",
    "            arrowwidth=2,\n",
    "            arrowcolor=\"#636363\",\n",
    "            ax=+250,\n",
    "            ay=-25,\n",
    "            bordercolor=\"#c7c7c7\",\n",
    "            borderwidth=2,\n",
    "            borderpad=4,\n",
    "            bgcolor='rgb(78, 42, 132)',#\"#ff7f0e\",\n",
    "            opacity=0.7,\n",
    "            showarrow=True#False\n",
    "    )\n",
    ")\n",
    "\n",
    "fig.update_layout(title=\"Scaled Hall Voltage vs. Hall Probe Temperature\")\n",
    "fig.update_xaxes(title_text='Hall Probe Temperature [deg C]')\n",
    "fig.update_yaxes(title_text='|V_Hall| / NMR [micro V / T]')\n",
    "fig.update_layout( width=1000,height=600,)\n",
    "\n",
    "plot(fig,) #filename=plotdir+\"temp_fit_2point_aggregate.html\")"
   ]
  },
  {
   "cell_type": "markdown",
   "metadata": {},
   "source": [
    "Nice! Looks surprisingly linear for 3 different probes."
   ]
  },
  {
   "cell_type": "code",
   "execution_count": null,
   "metadata": {},
   "outputs": [],
   "source": [
    "dof = 3 - 2"
   ]
  },
  {
   "cell_type": "code",
   "execution_count": null,
   "metadata": {},
   "outputs": [],
   "source": [
    "### pick std = 55\n",
    "std_volt = 50.#500.#45.#55."
   ]
  },
  {
   "cell_type": "code",
   "execution_count": null,
   "metadata": {},
   "outputs": [],
   "source": [
    "def chi2(f, x, std):\n",
    "    return np.sum(np.square((x-f)/std))"
   ]
  },
  {
   "cell_type": "code",
   "execution_count": null,
   "metadata": {},
   "outputs": [],
   "source": [
    "#fit_chi2 = chi2(B_lsq, y_dat, std_volt)\n",
    "fit_chi2 = chi2(B_lsq_dat, y_dat, std_volt)\n",
    "fit_chi2"
   ]
  },
  {
   "cell_type": "code",
   "execution_count": null,
   "metadata": {},
   "outputs": [],
   "source": [
    "dof = len(x_dat) - 2\n",
    "dof"
   ]
  },
  {
   "cell_type": "code",
   "execution_count": null,
   "metadata": {},
   "outputs": [],
   "source": [
    "n = np.linspace(0, 12, 100)"
   ]
  },
  {
   "cell_type": "code",
   "execution_count": null,
   "metadata": {},
   "outputs": [],
   "source": [
    "P = stats.chi2.pdf(n, dof)"
   ]
  },
  {
   "cell_type": "code",
   "execution_count": null,
   "metadata": {},
   "outputs": [],
   "source": [
    "P.max()"
   ]
  },
  {
   "cell_type": "code",
   "execution_count": null,
   "metadata": {},
   "outputs": [],
   "source": [
    "plt.plot(n,P)\n",
    "plt.plot([fit_chi2, fit_chi2],[0., 1.0], 'r--');"
   ]
  },
  {
   "cell_type": "code",
   "execution_count": null,
   "metadata": {},
   "outputs": [],
   "source": []
  },
  {
   "cell_type": "code",
   "execution_count": null,
   "metadata": {},
   "outputs": [],
   "source": []
  },
  {
   "cell_type": "code",
   "execution_count": null,
   "metadata": {},
   "outputs": [],
   "source": []
  },
  {
   "cell_type": "code",
   "execution_count": null,
   "metadata": {},
   "outputs": [],
   "source": []
  },
  {
   "cell_type": "code",
   "execution_count": null,
   "metadata": {},
   "outputs": [],
   "source": []
  },
  {
   "cell_type": "code",
   "execution_count": null,
   "metadata": {},
   "outputs": [],
   "source": []
  },
  {
   "cell_type": "code",
   "execution_count": null,
   "metadata": {},
   "outputs": [],
   "source": []
  },
  {
   "cell_type": "code",
   "execution_count": null,
   "metadata": {},
   "outputs": [],
   "source": [
    "def volt_b(mag, A, B):\n",
    "    return A * mag + B"
   ]
  },
  {
   "cell_type": "code",
   "execution_count": null,
   "metadata": {},
   "outputs": [],
   "source": [
    "guess = np.array([1e11, 0.]) # A, B"
   ]
  },
  {
   "cell_type": "code",
   "execution_count": null,
   "metadata": {},
   "outputs": [],
   "source": [
    "x_dat = df_[\"NMR [T]\"]\n",
    "#x_dat_avg = xs\n",
    "#x_dat = df[stable_temp][f\"{probe}_Cal_T\"]"
   ]
  },
  {
   "cell_type": "code",
   "execution_count": null,
   "metadata": {},
   "outputs": [],
   "source": [
    "y_dat = df_[f\"{probe}_Raw_Bmag\"] / (-1.21e03*df_[f\"{probe}_Cal_T\"])# * df_[f\"{probe}_Cal_T\"].min() / df_[f\"{probe}_Cal_T\"]"
   ]
  },
  {
   "cell_type": "code",
   "execution_count": null,
   "metadata": {},
   "outputs": [],
   "source": [
    "params, cov = optimization.curve_fit(volt_b, x_dat, y_dat, guess)\n",
    "#params_avg, cov_avg = optimization.curve_fit(volt, x_dat_avg, ys, guess)\n",
    "#params, cov = optimization.curve_fit(volt, x_dat, \n",
    "#                                     df[stable_temp][f\"{probe}_Raw_Bmag\"] / df[stable_temp][\"NMR [T]\"], guess)"
   ]
  },
  {
   "cell_type": "code",
   "execution_count": null,
   "metadata": {},
   "outputs": [],
   "source": [
    "# stable temp\n",
    "params, cov"
   ]
  },
  {
   "cell_type": "code",
   "execution_count": null,
   "metadata": {},
   "outputs": [],
   "source": [
    "A_fit, B_fit = params\n",
    "A_fit_avg, B_fit_avg = params_avg"
   ]
  },
  {
   "cell_type": "code",
   "execution_count": null,
   "metadata": {},
   "outputs": [],
   "source": [
    "df_[\"Bmag_lsq\"] = volt_b(x_dat, A_fit, B_fit)"
   ]
  },
  {
   "cell_type": "code",
   "execution_count": null,
   "metadata": {},
   "outputs": [],
   "source": [
    "ts = np.linspace(x_dat.min(), x_dat.max(), 25)"
   ]
  },
  {
   "cell_type": "code",
   "execution_count": null,
   "metadata": {},
   "outputs": [],
   "source": [
    "B_lsq = volt_b(ts, A_fit, B_fit)\n",
    "#B_lsq_avg = volt_b(ts, A_fit_avg, B_fit_avg)"
   ]
  },
  {
   "cell_type": "code",
   "execution_count": null,
   "metadata": {},
   "outputs": [],
   "source": [
    "B_lsq = pd.Series(B_lsq, name=\"Stable Temp Fit\")\n",
    "#B_lsq_avg = pd.Series(B_lsq_avg, name=\"Stable Temp Averaged Fit\")"
   ]
  },
  {
   "cell_type": "code",
   "execution_count": null,
   "metadata": {},
   "outputs": [],
   "source": [
    "fig = scatter2d(x_dat,\n",
    "                y_dat,\n",
    "                df_.days_delta, opacity=0.8, show_plot=False)\n",
    "\n",
    "fig.add_trace(go.Scatter(\n",
    "                    x=ts, y=B_lsq,\n",
    "                    mode='lines', name='Linear fit',#\"|V|/|B| = A * Temp. + B\",\n",
    "                    line=dict(color='rgb(78, 42, 132)',#'deeppink',\n",
    "                              width=1,\n",
    "                              dash='dash')));\n",
    "#fig.add_trace(go.Scatter(\n",
    "#                    x=ts, y=B_lsq_avg,\n",
    "#                    mode='lines', name=\"mean(|V|/|B|) = A * mean(Temp.) + B\",\n",
    "#                    line=dict(color='purple', width=1,\n",
    "#                              dash='dash')));\n",
    "\n",
    "fig.update_traces(marker=dict(size=1));\n",
    "\n",
    "'''fig.add_trace(go.Scatter(\n",
    "    x= xs,\n",
    "    y= ys,\n",
    "    mode='markers',\n",
    "    name='Averaged Data',\n",
    "    error_x=dict(\n",
    "        type='data',\n",
    "        array=xerrs,\n",
    "        width=1,\n",
    "        thickness=1.,\n",
    "        visible=True),\n",
    "    error_y=dict(\n",
    "        type='data',\n",
    "        array=yerrs,\n",
    "        width=1,\n",
    "        thickness=1.,\n",
    "        visible=True),\n",
    "    marker=dict(\n",
    "        size=3,\n",
    "        color=\"Red\",\n",
    "    )\n",
    "))\n",
    "'''\n",
    "#eqn = f\"Volt. = {A_fit:.2E} * Temp. + {B_fit:.2E}\"\n",
    "eqn = f\"y = {A_fit:.2E} * x + {B_fit:.2E}\"\n",
    "\n",
    "i = 6\n",
    "fig.add_annotation(\n",
    "    go.layout.Annotation(\n",
    "            x=ts[i],\n",
    "            y=B_lsq.iloc[i],\n",
    "            text=eqn,\n",
    "            font=dict(\n",
    "                #family=\"Courier New, monospace\",\n",
    "                size=14,\n",
    "                color=\"#ffffff\"\n",
    "            ),\n",
    "            align=\"center\",\n",
    "            arrowhead=2,\n",
    "            arrowsize=1,\n",
    "            arrowwidth=2,\n",
    "            arrowcolor=\"#636363\",\n",
    "            ax=+250,\n",
    "            ay=-25,\n",
    "            bordercolor=\"#c7c7c7\",\n",
    "            borderwidth=2,\n",
    "            borderpad=4,\n",
    "            bgcolor='rgb(78, 42, 132)',#\"#ff7f0e\",\n",
    "            opacity=0.7,\n",
    "            showarrow=True#False\n",
    "    )\n",
    ")\n",
    "\n",
    "fig.update_layout(title=\"Scaled Hall Voltage vs. Hall Probe Temperature\")\n",
    "fig.update_xaxes(title_text='Hall Probe Temperature [deg C]')\n",
    "fig.update_yaxes(title_text='|V_Hall| / NMR [micro V / T]')\n",
    "fig.update_layout( width=1000,height=600,)\n",
    "\n",
    "plot(fig,) #filename=plotdir+\"temp_fit_2point_aggregate.html\")"
   ]
  },
  {
   "cell_type": "code",
   "execution_count": null,
   "metadata": {},
   "outputs": [],
   "source": []
  },
  {
   "cell_type": "code",
   "execution_count": null,
   "metadata": {},
   "outputs": [],
   "source": []
  },
  {
   "cell_type": "code",
   "execution_count": null,
   "metadata": {},
   "outputs": [],
   "source": []
  },
  {
   "cell_type": "code",
   "execution_count": null,
   "metadata": {},
   "outputs": [],
   "source": []
  },
  {
   "cell_type": "code",
   "execution_count": null,
   "metadata": {},
   "outputs": [],
   "source": [
    "### pick std = 55\n",
    "std_volt = 50.#51.#45.#55."
   ]
  },
  {
   "cell_type": "code",
   "execution_count": null,
   "metadata": {},
   "outputs": [],
   "source": [
    "def chi2(f, x, std):\n",
    "    return np.sum(np.square((x-f)/std))"
   ]
  },
  {
   "cell_type": "code",
   "execution_count": null,
   "metadata": {},
   "outputs": [],
   "source": [
    "fit_chi2 = chi2(df_[\"Bmag_lsq\"], df_[\"Scaled Hall Voltage\"], std_volt)\n",
    "fit_chi2"
   ]
  },
  {
   "cell_type": "code",
   "execution_count": null,
   "metadata": {},
   "outputs": [],
   "source": [
    "ys_fit = volt(xs, A_fit_avg, B_fit_avg)"
   ]
  },
  {
   "cell_type": "code",
   "execution_count": null,
   "metadata": {},
   "outputs": [],
   "source": [
    "fit_avg_chi2 = chi2(ys_fit, ys, yerrs)\n",
    "fit_avg_chi2"
   ]
  },
  {
   "cell_type": "code",
   "execution_count": null,
   "metadata": {},
   "outputs": [],
   "source": [
    "dof = len(xs) - 2\n",
    "dof"
   ]
  },
  {
   "cell_type": "code",
   "execution_count": null,
   "metadata": {},
   "outputs": [],
   "source": [
    "n = np.linspace(0, 12, 100)"
   ]
  },
  {
   "cell_type": "code",
   "execution_count": null,
   "metadata": {},
   "outputs": [],
   "source": [
    "P = stats.chi2.pdf(n, dof)"
   ]
  },
  {
   "cell_type": "code",
   "execution_count": null,
   "metadata": {},
   "outputs": [],
   "source": [
    "plt.plot(n,P)\n",
    "plt.plot([fit_avg_chi2, fit_avg_chi2],[0., P.max()], 'r--');"
   ]
  },
  {
   "cell_type": "code",
   "execution_count": null,
   "metadata": {},
   "outputs": [],
   "source": []
  },
  {
   "cell_type": "code",
   "execution_count": null,
   "metadata": {},
   "outputs": [],
   "source": []
  },
  {
   "cell_type": "code",
   "execution_count": null,
   "metadata": {},
   "outputs": [],
   "source": [
    "# check std\n",
    "df_2 = df_[100:500]"
   ]
  },
  {
   "cell_type": "code",
   "execution_count": null,
   "metadata": {},
   "outputs": [],
   "source": [
    "fig = scatter2d(df_2.index, df_2[f\"{probe}_Raw_Bmag\"]/df_2[\"NMR [T]\"],\n",
    "               inline=False)"
   ]
  },
  {
   "cell_type": "code",
   "execution_count": null,
   "metadata": {},
   "outputs": [],
   "source": [
    "scaled_B = df_2[f\"{probe}_Raw_Bmag\"]/df_2[\"NMR [T]\"]\n",
    "scaled_B.name = \"Scaled |V|/|B|\""
   ]
  },
  {
   "cell_type": "code",
   "execution_count": null,
   "metadata": {},
   "outputs": [],
   "source": [
    "fig = histo(scaled_B, bins=25,\n",
    "               inline=False)"
   ]
  },
  {
   "cell_type": "code",
   "execution_count": null,
   "metadata": {},
   "outputs": [],
   "source": []
  },
  {
   "cell_type": "code",
   "execution_count": null,
   "metadata": {},
   "outputs": [],
   "source": [
    "std_volt = 75."
   ]
  },
  {
   "cell_type": "code",
   "execution_count": null,
   "metadata": {},
   "outputs": [],
   "source": [
    "fit_chi2 = chi2(df_[\"Bmag_lsq\"], df_[\"Scaled Hall Voltage\"], std_volt)\n",
    "fit_chi2"
   ]
  },
  {
   "cell_type": "code",
   "execution_count": null,
   "metadata": {},
   "outputs": [],
   "source": [
    "dof = len(df_) - 2\n",
    "dof"
   ]
  },
  {
   "cell_type": "code",
   "execution_count": null,
   "metadata": {},
   "outputs": [],
   "source": [
    "n = np.linspace(1000,30000, 1000)"
   ]
  },
  {
   "cell_type": "code",
   "execution_count": null,
   "metadata": {},
   "outputs": [],
   "source": [
    "P = stats.chi2.pdf(n, dof)"
   ]
  },
  {
   "cell_type": "code",
   "execution_count": null,
   "metadata": {},
   "outputs": [],
   "source": [
    "plt.plot(n,P)\n",
    "plt.plot([fit_chi2, fit_chi2],[0., P.max()], 'r--');"
   ]
  },
  {
   "cell_type": "code",
   "execution_count": null,
   "metadata": {},
   "outputs": [],
   "source": [
    "n[P.argmax()]"
   ]
  },
  {
   "cell_type": "markdown",
   "metadata": {},
   "source": [
    "## Investigate Noise"
   ]
  },
  {
   "cell_type": "code",
   "execution_count": 105,
   "metadata": {},
   "outputs": [],
   "source": [
    "t = df_.index"
   ]
  },
  {
   "cell_type": "code",
   "execution_count": 106,
   "metadata": {},
   "outputs": [],
   "source": [
    "V = df_[f\"{probe}_Raw_Z\"]"
   ]
  },
  {
   "cell_type": "code",
   "execution_count": 107,
   "metadata": {},
   "outputs": [],
   "source": [
    "V_mean = V.rolling(window=75).mean() # w interval = 50 s, should be ~72 for one hour average"
   ]
  },
  {
   "cell_type": "code",
   "execution_count": 108,
   "metadata": {},
   "outputs": [],
   "source": [
    "#fig = scatter2d(2*[t], [V, V_mean], inline=False)"
   ]
  },
  {
   "cell_type": "code",
   "execution_count": 109,
   "metadata": {},
   "outputs": [],
   "source": [
    "diff = V - V_mean"
   ]
  },
  {
   "cell_type": "code",
   "execution_count": 110,
   "metadata": {},
   "outputs": [],
   "source": [
    "#fig = histo(diff, bins=50, inline=False)"
   ]
  },
  {
   "cell_type": "code",
   "execution_count": 111,
   "metadata": {},
   "outputs": [],
   "source": [
    "g = np.absolute(diff) < 200."
   ]
  },
  {
   "cell_type": "code",
   "execution_count": 112,
   "metadata": {},
   "outputs": [
    {
     "data": {
      "text/plain": [
       "61.56164920644358"
      ]
     },
     "execution_count": 112,
     "metadata": {},
     "output_type": "execute_result"
    }
   ],
   "source": [
    "diff[g].std()"
   ]
  },
  {
   "cell_type": "code",
   "execution_count": 113,
   "metadata": {},
   "outputs": [],
   "source": [
    "fig = histo(diff[g], bins=75, inline=False)"
   ]
  },
  {
   "cell_type": "markdown",
   "metadata": {},
   "source": [
    "Component Standard Deviation:\n",
    "- x: 54.9\n",
    "- y: 60.5\n",
    "- z: 58.47"
   ]
  },
  {
   "cell_type": "code",
   "execution_count": 191,
   "metadata": {},
   "outputs": [],
   "source": [
    "sig_x = 54.9\n",
    "sig_y = 60.5\n",
    "sig_z = 58.5"
   ]
  },
  {
   "cell_type": "code",
   "execution_count": 192,
   "metadata": {},
   "outputs": [],
   "source": [
    "# assuming no covariance\n",
    "sigma_B = np.sqrt(df_[f\"{probe}_Raw_X\"]**2*sig_x**2 + \\\n",
    "                  df_[f\"{probe}_Raw_Y\"]**2*sig_y**2 + \\\n",
    "                  df_[f\"{probe}_Raw_Z\"]**2*sig_z**2) / df_[f\"{probe}_Raw_Bmag\"]"
   ]
  },
  {
   "cell_type": "code",
   "execution_count": 193,
   "metadata": {},
   "outputs": [],
   "source": [
    "sigma_B.name = \"sigma_B\""
   ]
  },
  {
   "cell_type": "code",
   "execution_count": null,
   "metadata": {},
   "outputs": [],
   "source": [
    "fig = histo(sigma_B, bins=75, inline=False)"
   ]
  },
  {
   "cell_type": "code",
   "execution_count": null,
   "metadata": {},
   "outputs": [],
   "source": [
    "fig = scatter2d(t, sigma_B, inline=False)"
   ]
  },
  {
   "cell_type": "code",
   "execution_count": null,
   "metadata": {},
   "outputs": [],
   "source": [
    "sigma_B.describe()"
   ]
  },
  {
   "cell_type": "code",
   "execution_count": 117,
   "metadata": {},
   "outputs": [],
   "source": [
    "def chi2(f, x, std):\n",
    "    return np.sum(np.square((x-f)/std))"
   ]
  },
  {
   "cell_type": "code",
   "execution_count": 118,
   "metadata": {},
   "outputs": [
    {
     "data": {
      "text/plain": [
       "13680"
      ]
     },
     "execution_count": 118,
     "metadata": {},
     "output_type": "execute_result"
    }
   ],
   "source": [
    "len(sigma_B)"
   ]
  },
  {
   "cell_type": "code",
   "execution_count": 119,
   "metadata": {},
   "outputs": [
    {
     "data": {
      "text/plain": [
       "13680"
      ]
     },
     "execution_count": 119,
     "metadata": {},
     "output_type": "execute_result"
    }
   ],
   "source": [
    "len(df_)"
   ]
  },
  {
   "cell_type": "code",
   "execution_count": null,
   "metadata": {},
   "outputs": [],
   "source": [
    "fit_chi2 = chi2(df_[\"Bmag_lsq\"], df_[\"Scaled Hall Voltage\"], sigma_B)\n",
    "fit_chi2"
   ]
  },
  {
   "cell_type": "code",
   "execution_count": null,
   "metadata": {},
   "outputs": [],
   "source": [
    "dof = len(df_) - 2\n",
    "dof"
   ]
  },
  {
   "cell_type": "code",
   "execution_count": null,
   "metadata": {},
   "outputs": [],
   "source": [
    "n = np.linspace(1000,20000, 1000)"
   ]
  },
  {
   "cell_type": "code",
   "execution_count": null,
   "metadata": {},
   "outputs": [],
   "source": [
    "P = stats.chi2.pdf(n, dof)"
   ]
  },
  {
   "cell_type": "code",
   "execution_count": null,
   "metadata": {},
   "outputs": [],
   "source": [
    "plt.plot(n,P)\n",
    "plt.plot([fit_chi2, fit_chi2],[0., P.max()], 'r--');"
   ]
  },
  {
   "cell_type": "markdown",
   "metadata": {},
   "source": [
    "Try adding a few more polynomial terms"
   ]
  },
  {
   "cell_type": "code",
   "execution_count": null,
   "metadata": {},
   "outputs": [],
   "source": [
    "def volt_3rd(temp, A, B, C, D):\n",
    "    #return A * temp + B * temp**2 + C * temp**3 + D\n",
    "    return A * temp + B * temp**2 + D"
   ]
  },
  {
   "cell_type": "code",
   "execution_count": null,
   "metadata": {},
   "outputs": [],
   "source": [
    "guess = np.array([-1300 / 3.5, 0, 0, 2e6]) # A, B"
   ]
  },
  {
   "cell_type": "code",
   "execution_count": null,
   "metadata": {},
   "outputs": [],
   "source": [
    "x_dat = df_[f\"{probe}_Cal_T\"]\n",
    "x_dat_avg = xs\n",
    "#x_dat = df[stable_temp][f\"{probe}_Cal_T\"]"
   ]
  },
  {
   "cell_type": "code",
   "execution_count": null,
   "metadata": {},
   "outputs": [],
   "source": [
    "y_dat = df_[\"Scaled Hall Voltage\"]\n",
    "#y_dat = df_[\"Scaled Hall Z\"]\n",
    "#y_dat = df_[\"NMR [T]\"]"
   ]
  },
  {
   "cell_type": "code",
   "execution_count": null,
   "metadata": {},
   "outputs": [],
   "source": [
    "params, cov = optimization.curve_fit(volt_3rd, x_dat, y_dat, guess)\n",
    "params_avg, cov_avg = optimization.curve_fit(volt_3rd, x_dat_avg, ys, guess)\n",
    "#params, cov = optimization.curve_fit(volt, x_dat, \n",
    "#                                     df[stable_temp][f\"{probe}_Raw_Bmag\"] / df[stable_temp][\"NMR [T]\"], guess)"
   ]
  },
  {
   "cell_type": "code",
   "execution_count": null,
   "metadata": {},
   "outputs": [],
   "source": [
    "# stable temp\n",
    "params, cov"
   ]
  },
  {
   "cell_type": "code",
   "execution_count": null,
   "metadata": {},
   "outputs": [],
   "source": [
    "# stable temp averaged\n",
    "params_avg, cov_avg"
   ]
  },
  {
   "cell_type": "code",
   "execution_count": null,
   "metadata": {},
   "outputs": [],
   "source": [
    "A_fit, B_fit, C_fit, D_fit = params\n",
    "A_fit_avg, B_fit_avg, C_fit_avg, D_fit_avg = params_avg"
   ]
  },
  {
   "cell_type": "code",
   "execution_count": null,
   "metadata": {},
   "outputs": [],
   "source": [
    "df_[\"Bmag_lsq\"] = volt_3rd(x_dat, A_fit, B_fit, C_fit, D_fit)\n",
    "df_[\"Bmag_lsq_avg\"] = volt_3rd(x_dat, A_fit_avg, B_fit_avg, C_fit_avg, D_fit_avg)"
   ]
  },
  {
   "cell_type": "code",
   "execution_count": null,
   "metadata": {},
   "outputs": [],
   "source": [
    "ts = np.linspace(x_dat.min(), x_dat.max(), 25)"
   ]
  },
  {
   "cell_type": "code",
   "execution_count": null,
   "metadata": {},
   "outputs": [],
   "source": [
    "B_lsq = volt_3rd(ts, A_fit, B_fit, C_fit, D_fit)\n",
    "B_lsq_avg = volt_3rd(ts, A_fit_avg, B_fit_avg, C_fit_avg, D_fit_avg)"
   ]
  },
  {
   "cell_type": "code",
   "execution_count": null,
   "metadata": {},
   "outputs": [],
   "source": [
    "B_lsq = pd.Series(B_lsq, name=\"Stable Temp Fit\")\n",
    "B_lsq_avg = pd.Series(B_lsq_avg, name=\"Stable Temp Averaged Fit\")"
   ]
  },
  {
   "cell_type": "code",
   "execution_count": null,
   "metadata": {},
   "outputs": [],
   "source": [
    "averaged=True\n",
    "\n",
    "fig = scatter2d(x_dat,\n",
    "                y_dat,\n",
    "                df_.days_delta, opacity=0.8, show_plot=False)\n",
    "\n",
    "fig.add_trace(go.Scatter(\n",
    "                    x=ts, y=B_lsq,\n",
    "                    mode='lines', name='Linear fit',#\"|V|/|B| = A * Temp. + B\",\n",
    "                    line=dict(color='rgb(78, 42, 132)',#'deeppink',\n",
    "                              width=1,\n",
    "                              dash='dash')));\n",
    "#fig.add_trace(go.Scatter(\n",
    "#                    x=ts, y=B_lsq_avg,\n",
    "#                    mode='lines', name=\"mean(|V|/|B|) = A * mean(Temp.) + B\",\n",
    "#                    line=dict(color='purple', width=1,\n",
    "#                              dash='dash')));\n",
    "\n",
    "fig.update_traces(marker=dict(size=1));\n",
    "\n",
    "if averaged:\n",
    "    fig.add_trace(go.Scatter(\n",
    "        x= xs,\n",
    "        y= ys,\n",
    "        mode='markers',\n",
    "        name='Averaged Data',\n",
    "        error_x=dict(\n",
    "            type='data',\n",
    "            array=xerrs,\n",
    "            width=1,\n",
    "            thickness=1.,\n",
    "            visible=True),\n",
    "        error_y=dict(\n",
    "            type='data',\n",
    "            array=yerrs,\n",
    "            width=1,\n",
    "            thickness=1.,\n",
    "            visible=True),\n",
    "        marker=dict(\n",
    "            size=3,\n",
    "            color=\"Red\",\n",
    "        )\n",
    "    ))\n",
    "\n",
    "#eqn = f\"Volt. = {A_fit:.2E} * Temp. + {B_fit:.2E}\"\n",
    "eqn = f\"y = {A_fit:.2E} * x + {B_fit:.2E} * x^2 + {C_fit:.2E} * x^3 + {D_fit:.2E}\"\n",
    "\n",
    "i = 6\n",
    "fig.add_annotation(\n",
    "    go.layout.Annotation(\n",
    "            x=ts[i],\n",
    "            y=B_lsq.iloc[i],\n",
    "            text=eqn,\n",
    "            font=dict(\n",
    "                #family=\"Courier New, monospace\",\n",
    "                size=14,\n",
    "                color=\"#ffffff\"\n",
    "            ),\n",
    "            align=\"center\",\n",
    "            arrowhead=2,\n",
    "            arrowsize=1,\n",
    "            arrowwidth=2,\n",
    "            arrowcolor=\"#636363\",\n",
    "            ax=+250,\n",
    "            ay=-25,\n",
    "            bordercolor=\"#c7c7c7\",\n",
    "            borderwidth=2,\n",
    "            borderpad=4,\n",
    "            bgcolor='rgb(78, 42, 132)',#\"#ff7f0e\",\n",
    "            opacity=0.7,\n",
    "            showarrow=True#False\n",
    "    )\n",
    ")\n",
    "\n",
    "fig.update_layout(title=\"Scaled Hall Voltage vs. Hall Probe Temperature\")\n",
    "fig.update_xaxes(title_text='Hall Probe Temperature [deg C]')\n",
    "fig.update_yaxes(title_text='|V_Hall| / NMR [micro V / T]')\n",
    "fig.update_layout( width=1000,height=600,)\n",
    "\n",
    "filename = plotdir+\"scaled_voltage_vs_temperature_3rd_order\"\n",
    "\n",
    "plot(fig, filename=filename+'.html')"
   ]
  },
  {
   "cell_type": "code",
   "execution_count": null,
   "metadata": {},
   "outputs": [],
   "source": [
    "pio.write_image(fig, filename+\".pdf\")\n",
    "pio.write_image(fig, filename+\".png\")"
   ]
  },
  {
   "cell_type": "code",
   "execution_count": null,
   "metadata": {},
   "outputs": [],
   "source": []
  },
  {
   "cell_type": "code",
   "execution_count": null,
   "metadata": {},
   "outputs": [],
   "source": [
    "def chi2(f, x, std):\n",
    "    return np.sum(np.square((x-f)/std))"
   ]
  },
  {
   "cell_type": "code",
   "execution_count": null,
   "metadata": {},
   "outputs": [],
   "source": [
    "len(sigma_B)"
   ]
  },
  {
   "cell_type": "code",
   "execution_count": null,
   "metadata": {},
   "outputs": [],
   "source": [
    "len(df_)"
   ]
  },
  {
   "cell_type": "code",
   "execution_count": null,
   "metadata": {},
   "outputs": [],
   "source": [
    "fit_chi2 = chi2(df_[\"Bmag_lsq\"], df_[\"Scaled Hall Voltage\"], sigma_B)\n",
    "fit_chi2"
   ]
  },
  {
   "cell_type": "code",
   "execution_count": null,
   "metadata": {},
   "outputs": [],
   "source": [
    "dof = len(df_) - 3#4 # 4 parameter fit\n",
    "dof"
   ]
  },
  {
   "cell_type": "code",
   "execution_count": null,
   "metadata": {},
   "outputs": [],
   "source": [
    "n = np.linspace(1000,20000, 1000)"
   ]
  },
  {
   "cell_type": "code",
   "execution_count": null,
   "metadata": {},
   "outputs": [],
   "source": [
    "P = stats.chi2.pdf(n, dof)"
   ]
  },
  {
   "cell_type": "code",
   "execution_count": null,
   "metadata": {},
   "outputs": [],
   "source": [
    "# 3rd order\n",
    "plt.plot(n,P)\n",
    "plt.plot([fit_chi2, fit_chi2],[0., P.max()], 'r--');"
   ]
  },
  {
   "cell_type": "code",
   "execution_count": null,
   "metadata": {},
   "outputs": [],
   "source": [
    "# 4th order\n",
    "plt.plot(n,P)\n",
    "plt.plot([fit_chi2, fit_chi2],[0., P.max()], 'r--');"
   ]
  },
  {
   "cell_type": "code",
   "execution_count": null,
   "metadata": {},
   "outputs": [],
   "source": []
  },
  {
   "cell_type": "code",
   "execution_count": null,
   "metadata": {},
   "outputs": [],
   "source": []
  },
  {
   "cell_type": "code",
   "execution_count": null,
   "metadata": {},
   "outputs": [],
   "source": []
  },
  {
   "cell_type": "code",
   "execution_count": null,
   "metadata": {},
   "outputs": [],
   "source": [
    "for probe in probes:\n",
    "    fig = scatter2d(df_.index, df_[f\"{probe}_Raw_Bmag\"], inline=False)"
   ]
  },
  {
   "cell_type": "markdown",
   "metadata": {},
   "source": [
    "## Fit Routine\n",
    "**IMPORTANT**\n",
    "- should add this as a tool in hallprobecalib"
   ]
  },
  {
   "cell_type": "code",
   "execution_count": null,
   "metadata": {},
   "outputs": [],
   "source": [
    "## FIT ORDER N"
   ]
  },
  {
   "cell_type": "code",
   "execution_count": null,
   "metadata": {},
   "outputs": [],
   "source": [
    "#import lmfit as lm"
   ]
  },
  {
   "cell_type": "code",
   "execution_count": 194,
   "metadata": {},
   "outputs": [],
   "source": [
    "def polyfit_order_n(N, x_dat, y_dat, std_dat):\n",
    "    # e.g. order 1 gives form y = C0 + C1*x\n",
    "    # returns lmfit result object\n",
    "    Cs = {}\n",
    "    \n",
    "    def polynomial(x, N, **Cs):\n",
    "        ys = np.zeros_like(x)\n",
    "        for n in range(N+1):\n",
    "            C = Cs[f'C_{n}']\n",
    "            ys += C * x**n\n",
    "        return ys\n",
    "    \n",
    "    # using lmfit\n",
    "    model = lm.Model(polynomial, independent_vars=['x'])\n",
    "    params = lm.Parameters()\n",
    "    params.add('N', value=N, vary=False) # just telling us when to truncate our sum\n",
    "    for n in range(N+1):\n",
    "        params.add(f'C_{n}', value=0)\n",
    "    \n",
    "    result = model.fit(y_dat.values, x=x_dat.values, params=params, weights=1/std_dat)\n",
    "    \n",
    "    print(result.fit_report())\n",
    "   \n",
    "    return result"
   ]
  },
  {
   "cell_type": "code",
   "execution_count": 195,
   "metadata": {},
   "outputs": [
    {
     "name": "stdout",
     "output_type": "stream",
     "text": [
      "[[Model]]\n",
      "    Model(polynomial)\n",
      "[[Fit Statistics]]\n",
      "    # fitting method   = leastsq\n",
      "    # function evals   = 58\n",
      "    # data points      = 29100\n",
      "    # variables        = 2\n",
      "    chi-square         = 105378.636\n",
      "    reduced chi-square = 3.62150787\n",
      "    Akaike info crit   = 37450.5128\n",
      "    Bayesian info crit = 37467.0698\n",
      "[[Variables]]\n",
      "    N:    1 (fixed)\n",
      "    C_0:  0.05150458 +/- 7.4200e-04 (1.44%) (init = 0)\n",
      "    C_1:  0.96207601 +/- 5.9568e-04 (0.06%) (init = 0)\n",
      "[[Correlations]] (unreported correlations are < 0.100)\n",
      "    C(C_0, C_1) = -1.000\n",
      "\n"
     ]
    }
   ],
   "source": [
    "result = polyfit_order_n(1, df_[f\"{probe}_Cal_Bmag\"], df_[\"NMR [T]\"], 2e-5*np.ones_like(df_[\"NMR [T]\"]))"
   ]
  },
  {
   "cell_type": "code",
   "execution_count": null,
   "metadata": {},
   "outputs": [],
   "source": [
    "result.plot()"
   ]
  },
  {
   "cell_type": "code",
   "execution_count": 202,
   "metadata": {
    "scrolled": false
   },
   "outputs": [
    {
     "name": "stdout",
     "output_type": "stream",
     "text": [
      "[[Model]]\n",
      "    Model(polynomial)\n",
      "[[Fit Statistics]]\n",
      "    # fitting method   = leastsq\n",
      "    # function evals   = 115\n",
      "    # data points      = 29100\n",
      "    # variables        = 5\n",
      "    chi-square         = 63772.3383\n",
      "    reduced chi-square = 2.19186590\n",
      "    Akaike info crit   = 22841.3174\n",
      "    Bayesian info crit = 22882.7098\n",
      "[[Variables]]\n",
      "    N:    4 (fixed)\n",
      "    C_0:  3779199.50 +/- 1260.33446 (0.03%) (init = 0)\n",
      "    C_1: -47524.0835 +/- 241.769591 (0.51%) (init = 0)\n",
      "    C_2:  3306.27906 +/- 17.1601962 (0.52%) (init = 0)\n",
      "    C_3: -104.654978 +/- 0.53412475 (0.51%) (init = 0)\n",
      "    C_4:  1.23095033 +/- 0.00615252 (0.50%) (init = 0)\n",
      "[[Correlations]] (unreported correlations are < 0.100)\n",
      "    C(C_0, C_1) = -1.000\n",
      "    C(C_3, C_4) = -1.000\n",
      "    C(C_1, C_2) = -1.000\n",
      "    C(C_2, C_3) = -1.000\n",
      "    C(C_0, C_2) =  0.998\n",
      "    C(C_2, C_4) =  0.998\n",
      "    C(C_1, C_3) =  0.998\n",
      "    C(C_0, C_3) = -0.996\n",
      "    C(C_1, C_4) = -0.996\n",
      "    C(C_0, C_4) =  0.993\n",
      "\n"
     ]
    }
   ],
   "source": [
    "result = polyfit_order_n(4, df_[f\"{probe}_Cal_T\"], df_[\"Scaled Hall Voltage\"], sigma_B)"
   ]
  },
  {
   "cell_type": "code",
   "execution_count": 203,
   "metadata": {},
   "outputs": [
    {
     "data": {
      "text/plain": [
       "(<Figure size 864x864 with 2 Axes>, GridSpec(2, 1, height_ratios=[1, 4]))"
      ]
     },
     "execution_count": 203,
     "metadata": {},
     "output_type": "execute_result"
    },
    {
     "data": {
      "image/png": "[encoded data removed]",
      "text/plain": [
       "<Figure size 864x864 with 2 Axes>"
      ]
     },
     "metadata": {
      "needs_background": "light"
     },
     "output_type": "display_data"
    }
   ],
   "source": [
    "result.plot()"
   ]
  },
  {
   "cell_type": "code",
   "execution_count": null,
   "metadata": {},
   "outputs": [],
   "source": []
  },
  {
   "cell_type": "code",
   "execution_count": null,
   "metadata": {},
   "outputs": [],
   "source": [
    "ns"
   ]
  },
  {
   "cell_type": "code",
   "execution_count": null,
   "metadata": {},
   "outputs": [],
   "source": [
    "ns / ns.mean()"
   ]
  },
  {
   "cell_type": "code",
   "execution_count": null,
   "metadata": {},
   "outputs": [],
   "source": [
    "x_dat_avg = pd.Series(x_dat_avg)\n",
    "ys = pd.Series(ys)\n",
    "yerrs = pd.Series(yerrs)\n",
    "ns = pd.Series(ns)"
   ]
  },
  {
   "cell_type": "code",
   "execution_count": null,
   "metadata": {},
   "outputs": [],
   "source": [
    "result = polyfit_order_n(1,x_dat_avg, ys, ns.mean()*yerrs / ns)"
   ]
  },
  {
   "cell_type": "code",
   "execution_count": null,
   "metadata": {},
   "outputs": [],
   "source": [
    "#def chi2(f, x, std):\n",
    "#        return np.sum(np.square((x-f)/std))\n",
    "\n",
    "#len(sigma_B)\n",
    "\n",
    "#len(df_)\n",
    "\n",
    "#fit_chi2 = chi2(df_[\"Bmag_lsq\"], df_[\"Scaled Hall Voltage\"], sigma_B)\n",
    "#fit_chi2\n",
    "fit_chi2 = result.chisqr#0.3247\n",
    "\n",
    "dof = 5#len(df_) - 3#4 # 4 parameter fit\n",
    "#dof\n",
    "\n",
    "n = np.linspace(0,12, 100)\n",
    "\n",
    "P = stats.chi2.pdf(n, dof)\n",
    "\n",
    "# 3rd order\n",
    "plt.plot(n,P)\n",
    "plt.plot([fit_chi2, fit_chi2],[0., P.max()], 'r--');"
   ]
  },
  {
   "cell_type": "code",
   "execution_count": null,
   "metadata": {},
   "outputs": [],
   "source": [
    "fig = scatter2d(df_.index, df_[\"DF0000000D5E803A_Cal_Res_Rel\"], df_.days_delta, inline=False)"
   ]
  },
  {
   "cell_type": "code",
   "execution_count": null,
   "metadata": {},
   "outputs": [],
   "source": [
    "result.plot()"
   ]
  },
  {
   "cell_type": "code",
   "execution_count": null,
   "metadata": {},
   "outputs": [],
   "source": [
    "def plot_polynomial(N, x_dat, y_dat, c_dat, result,\n",
    "                    size=5, filename=None, inline=False, show_plot=True):\n",
    "    \n",
    "    ####averaged=True\n",
    "\n",
    "    # plot the data\n",
    "    fig = scatter2d(x_dat,\n",
    "                    y_dat,\n",
    "                    c_dat, opacity=0.9, show_plot=False)\n",
    "    # add line for fit\n",
    "    xs = np.linspace(x_dat.min(), x_dat.max(), 100)\n",
    "    ys = result.eval(x=xs)\n",
    "    fig.add_trace(go.Scatter(\n",
    "                        x=xs, y=ys,\n",
    "                        mode='lines', name=f'Order {N} Polynomial fit',#\"|V|/|B| = A * Temp. + B\",\n",
    "                        line=dict(color='rgb(78, 42, 132)',#'deeppink',\n",
    "                                  width=1,\n",
    "                                  dash='dash')));\n",
    "    #fig.add_trace(go.Scatter(\n",
    "    #                    x=ts, y=B_lsq_avg,\n",
    "    #                    mode='lines', name=\"mean(|V|/|B|) = A * mean(Temp.) + B\",\n",
    "    #                    line=dict(color='purple', width=1,\n",
    "    #                              dash='dash')));\n",
    "\n",
    "    fig.update_traces(marker=dict(size=size));\n",
    "\n",
    "    '''if averaged:\n",
    "        fig.add_trace(go.Scatter(\n",
    "            x= xs,\n",
    "            y= ys,\n",
    "            mode='markers',\n",
    "            name='Averaged Data',\n",
    "            error_x=dict(\n",
    "                type='data',\n",
    "                array=xerrs,\n",
    "                width=1,\n",
    "                thickness=1.,\n",
    "                visible=True),\n",
    "            error_y=dict(\n",
    "                type='data',\n",
    "                array=yerrs,\n",
    "                width=1,\n",
    "                thickness=1.,\n",
    "                visible=True),\n",
    "            marker=dict(\n",
    "                size=3,\n",
    "                color=\"Red\",\n",
    "            )\n",
    "        ))'''\n",
    "\n",
    "    #eqn = f\"Volt. = {A_fit:.2E} * Temp. + {B_fit:.2E}\"\n",
    "    eqn = f\"y = \"\n",
    "    for n in range(N+1):\n",
    "        p = result.params[f\"C_{n}\"]\n",
    "        eqn += f\"{p:.2E} * x^{n}\"\n",
    "        if (n >= 2) and ((n+1)%3 == 0) and (n != N):\n",
    "            eqn += \"<br>    \"\n",
    "    ax = 250\n",
    "    ay = -25\n",
    "    if result.params[\"C_1\"] < 0:\n",
    "        i = 20\n",
    "        #ax= +\n",
    "        #ay= -\n",
    "    else:\n",
    "        i = -20\n",
    "        ax = -ax\n",
    "        ay = -ay\n",
    "    fig.add_annotation(\n",
    "        go.layout.Annotation(\n",
    "                x=xs[i],\n",
    "                y=ys[i],\n",
    "                text=eqn,\n",
    "                font=dict(\n",
    "                    #family=\"Courier New, monospace\",\n",
    "                    size=12,\n",
    "                    color=\"#ffffff\"\n",
    "                ),\n",
    "                align=\"center\",\n",
    "                arrowhead=2,\n",
    "                arrowsize=1,\n",
    "                arrowwidth=2,\n",
    "                arrowcolor=\"#636363\",\n",
    "                ax=ax,\n",
    "                ay=ax,\n",
    "                bordercolor=\"#c7c7c7\",\n",
    "                borderwidth=2,\n",
    "                borderpad=4,\n",
    "                bgcolor='rgb(78, 42, 132)',#\"#ff7f0e\",\n",
    "                opacity=0.65,\n",
    "                showarrow=True#False\n",
    "        )\n",
    "    )\n",
    "\n",
    "    fig.update_layout(title=\"y vs. x\")\n",
    "    fig.update_xaxes(title_text='x')\n",
    "    fig.update_yaxes(title_text='y')\n",
    "    #fig.update_layout( width=1000,height=600,)\n",
    "\n",
    "    #filename = plotdir+\"scaled_voltage_vs_temperature_3rd_order\"\n",
    "    if filename == None:\n",
    "        if show_plot:\n",
    "            if inline:\n",
    "                iplot(fig)\n",
    "            else:\n",
    "                plot(fig)\n",
    "    else:\n",
    "        if show_plot:\n",
    "            if inline:\n",
    "                iplot(fig, filename=filename+'.html')\n",
    "            else:\n",
    "                plot(fig, filename=filename+'.html')\n",
    "        pio.write_image(fig, filename+'.pdf')\n",
    "        pio.write_image(fig, filename+'.png')\n",
    "    \n",
    "    return fig"
   ]
  },
  {
   "cell_type": "code",
   "execution_count": null,
   "metadata": {},
   "outputs": [],
   "source": [
    "fig = plot_poly_chi2(1, result)"
   ]
  },
  {
   "cell_type": "code",
   "execution_count": null,
   "metadata": {},
   "outputs": [],
   "source": [
    "N = 1\n",
    "len(result.data) - (N+1) # y values"
   ]
  },
  {
   "cell_type": "code",
   "execution_count": 131,
   "metadata": {},
   "outputs": [],
   "source": [
    "def plot_poly_chi2(N, result, filename=None, inline=False, show_plot=True):\n",
    "    dof = len(result.data) - (N+1)\n",
    "    fit_chi2 = result.chisqr\n",
    "    P_at_fit = 1.-stats.chi2.cdf(fit_chi2, dof)\n",
    "    print(f\"Probability of Chi2: {P_at_fit}\")\n",
    "    \n",
    "    lo = min(fit_chi2*0.5, dof / 4)\n",
    "    hi = max(fit_chi2*1.5, 2*dof*1.5)\n",
    "    \n",
    "    n = np.linspace(lo,hi, 1000)\n",
    "\n",
    "    P = stats.chi2.pdf(n, dof)\n",
    "    \n",
    "    n = pd.Series(n, name=\"Chi^2\")\n",
    "    P = pd.Series(P, name=\"p.d.f.\")\n",
    "    \n",
    "    if np.isfinite(P.max()):\n",
    "        ymax = P.max()\n",
    "    else:\n",
    "        ymax = 1.\n",
    "\n",
    "    fig = scatter2d(n,P, show_plot=False)\n",
    "    fig.add_trace(go.Scatter(\n",
    "                            x=[fit_chi2, fit_chi2], y=[0., ymax],\n",
    "                            mode='lines', name=f'Fit Chi^2 = {fit_chi2}',#\"|V|/|B| = A * Temp. + B\",\n",
    "                            line=dict(color='rgb(78, 42, 132)',#'deeppink',\n",
    "                                      width=1,\n",
    "                                      dash='dash')));\n",
    "        \n",
    "    if filename == None:\n",
    "        if show_plot:\n",
    "            if inline:\n",
    "                iplot(fig)\n",
    "            else:\n",
    "                plot(fig)\n",
    "    else:\n",
    "        if show_plot:\n",
    "            if inline:\n",
    "                iplot(fig, filename=filename+'.html')\n",
    "            else:\n",
    "                plot(fig, filename=filename+'.html')\n",
    "        pio.write_image(fig, filename+'.pdf')\n",
    "        pio.write_image(fig, filename+'.png')\n",
    "    \n",
    "    return fig"
   ]
  },
  {
   "cell_type": "code",
   "execution_count": 137,
   "metadata": {},
   "outputs": [
    {
     "name": "stdout",
     "output_type": "stream",
     "text": [
      "Probability of Chi2: 0.0\n"
     ]
    }
   ],
   "source": [
    "fig = plot_poly_chi2(4, result)"
   ]
  },
  {
   "cell_type": "code",
   "execution_count": null,
   "metadata": {},
   "outputs": [],
   "source": [
    "len(result.data)"
   ]
  },
  {
   "cell_type": "code",
   "execution_count": null,
   "metadata": {},
   "outputs": [],
   "source": [
    "len(result.params) - 2"
   ]
  },
  {
   "cell_type": "code",
   "execution_count": null,
   "metadata": {},
   "outputs": [],
   "source": [
    "result.chisqr"
   ]
  },
  {
   "cell_type": "code",
   "execution_count": null,
   "metadata": {},
   "outputs": [],
   "source": [
    "result."
   ]
  },
  {
   "cell_type": "code",
   "execution_count": null,
   "metadata": {},
   "outputs": [],
   "source": []
  },
  {
   "cell_type": "code",
   "execution_count": null,
   "metadata": {},
   "outputs": [],
   "source": []
  },
  {
   "cell_type": "code",
   "execution_count": null,
   "metadata": {},
   "outputs": [],
   "source": [
    "result.eval(x=df[f\"{probe}_Cal_T\"])"
   ]
  },
  {
   "cell_type": "raw",
   "metadata": {},
   "source": [
    "**result.params"
   ]
  },
  {
   "cell_type": "code",
   "execution_count": null,
   "metadata": {},
   "outputs": [],
   "source": [
    "polynomial(np.array([0,1,2]), len(result.params)-2, **result.params)"
   ]
  },
  {
   "cell_type": "code",
   "execution_count": null,
   "metadata": {},
   "outputs": [],
   "source": []
  },
  {
   "cell_type": "code",
   "execution_count": null,
   "metadata": {},
   "outputs": [],
   "source": []
  },
  {
   "cell_type": "code",
   "execution_count": null,
   "metadata": {},
   "outputs": [],
   "source": []
  },
  {
   "cell_type": "code",
   "execution_count": null,
   "metadata": {},
   "outputs": [],
   "source": [
    "    df_[\"Bmag_lsq\"] = volt_3rd(x_dat, A_fit, B_fit, C_fit, D_fit)\n",
    "    df_[\"Bmag_lsq_avg\"] = volt_3rd(x_dat, A_fit_avg, B_fit_avg, C_fit_avg, D_fit_avg)\n",
    "\n",
    "    ts = np.linspace(x_dat.min(), x_dat.max(), 25)\n",
    "\n",
    "    B_lsq = volt_3rd(ts, A_fit, B_fit, C_fit, D_fit)\n",
    "    B_lsq_avg = volt_3rd(ts, A_fit_avg, B_fit_avg, C_fit_avg, D_fit_avg)\n",
    "\n",
    "    B_lsq = pd.Series(B_lsq, name=\"Stable Temp Fit\")\n",
    "    B_lsq_avg = pd.Series(B_lsq_avg, name=\"Stable Temp Averaged Fit\")\n",
    "\n",
    "    averaged=True\n",
    "\n",
    "    fig = scatter2d(x_dat,\n",
    "                    y_dat,\n",
    "                    df_.days_delta, opacity=0.8, show_plot=False)\n",
    "\n",
    "    fig.add_trace(go.Scatter(\n",
    "                        x=ts, y=B_lsq,\n",
    "                        mode='lines', name='Linear fit',#\"|V|/|B| = A * Temp. + B\",\n",
    "                        line=dict(color='rgb(78, 42, 132)',#'deeppink',\n",
    "                                  width=1,\n",
    "                                  dash='dash')));\n",
    "    #fig.add_trace(go.Scatter(\n",
    "    #                    x=ts, y=B_lsq_avg,\n",
    "    #                    mode='lines', name=\"mean(|V|/|B|) = A * mean(Temp.) + B\",\n",
    "    #                    line=dict(color='purple', width=1,\n",
    "    #                              dash='dash')));\n",
    "\n",
    "    fig.update_traces(marker=dict(size=1));\n",
    "\n",
    "    if averaged:\n",
    "        fig.add_trace(go.Scatter(\n",
    "            x= xs,\n",
    "            y= ys,\n",
    "            mode='markers',\n",
    "            name='Averaged Data',\n",
    "            error_x=dict(\n",
    "                type='data',\n",
    "                array=xerrs,\n",
    "                width=1,\n",
    "                thickness=1.,\n",
    "                visible=True),\n",
    "            error_y=dict(\n",
    "                type='data',\n",
    "                array=yerrs,\n",
    "                width=1,\n",
    "                thickness=1.,\n",
    "                visible=True),\n",
    "            marker=dict(\n",
    "                size=3,\n",
    "                color=\"Red\",\n",
    "            )\n",
    "        ))\n",
    "\n",
    "    #eqn = f\"Volt. = {A_fit:.2E} * Temp. + {B_fit:.2E}\"\n",
    "    eqn = f\"y = {A_fit:.2E} * x + {B_fit:.2E} * x^2 + {C_fit:.2E} * x^3 + {D_fit:.2E}\"\n",
    "\n",
    "    i = 6\n",
    "    fig.add_annotation(\n",
    "        go.layout.Annotation(\n",
    "                x=ts[i],\n",
    "                y=B_lsq.iloc[i],\n",
    "                text=eqn,\n",
    "                font=dict(\n",
    "                    #family=\"Courier New, monospace\",\n",
    "                    size=14,\n",
    "                    color=\"#ffffff\"\n",
    "                ),\n",
    "                align=\"center\",\n",
    "                arrowhead=2,\n",
    "                arrowsize=1,\n",
    "                arrowwidth=2,\n",
    "                arrowcolor=\"#636363\",\n",
    "                ax=+250,\n",
    "                ay=-25,\n",
    "                bordercolor=\"#c7c7c7\",\n",
    "                borderwidth=2,\n",
    "                borderpad=4,\n",
    "                bgcolor='rgb(78, 42, 132)',#\"#ff7f0e\",\n",
    "                opacity=0.7,\n",
    "                showarrow=True#False\n",
    "        )\n",
    "    )\n",
    "\n",
    "    fig.update_layout(title=\"Scaled Hall Voltage vs. Hall Probe Temperature\")\n",
    "    fig.update_xaxes(title_text='Hall Probe Temperature [deg C]')\n",
    "    fig.update_yaxes(title_text='|V_Hall| / NMR [micro V / T]')\n",
    "    fig.update_layout( width=1000,height=600,)\n",
    "\n",
    "    filename = plotdir+\"scaled_voltage_vs_temperature_3rd_order\"\n",
    "\n",
    "    plot(fig, filename=filename+'.html')\n",
    "\n",
    "    pio.write_image(fig, filename+\".pdf\")\n",
    "    pio.write_image(fig, filename+\".png\")\n",
    "\n",
    "\n",
    "\n",
    "    def chi2(f, x, std):\n",
    "        return np.sum(np.square((x-f)/std))\n",
    "\n",
    "    len(sigma_B)\n",
    "\n",
    "    len(df_)\n",
    "\n",
    "    fit_chi2 = chi2(df_[\"Bmag_lsq\"], df_[\"Scaled Hall Voltage\"], sigma_B)\n",
    "    fit_chi2\n",
    "\n",
    "    dof = len(df_) - 3#4 # 4 parameter fit\n",
    "    dof\n",
    "\n",
    "    n = np.linspace(1000,20000, 1000)\n",
    "\n",
    "    P = stats.chi2.pdf(n, dof)\n",
    "\n",
    "    # 3rd order\n",
    "    plt.plot(n,P)\n",
    "    plt.plot([fit_chi2, fit_chi2],[0., P.max()], 'r--');\n",
    "\n",
    "    # 4th order\n",
    "    plt.plot(n,P)\n",
    "    plt.plot([fit_chi2, fit_chi2],[0., P.max()], 'r--');"
   ]
  },
  {
   "cell_type": "code",
   "execution_count": null,
   "metadata": {},
   "outputs": [],
   "source": []
  },
  {
   "cell_type": "code",
   "execution_count": null,
   "metadata": {},
   "outputs": [],
   "source": []
  },
  {
   "cell_type": "code",
   "execution_count": null,
   "metadata": {},
   "outputs": [],
   "source": []
  },
  {
   "cell_type": "code",
   "execution_count": null,
   "metadata": {},
   "outputs": [],
   "source": []
  },
  {
   "cell_type": "code",
   "execution_count": null,
   "metadata": {},
   "outputs": [],
   "source": []
  },
  {
   "cell_type": "code",
   "execution_count": null,
   "metadata": {},
   "outputs": [],
   "source": []
  },
  {
   "cell_type": "markdown",
   "metadata": {},
   "source": [
    "## OLD"
   ]
  },
  {
   "cell_type": "code",
   "execution_count": null,
   "metadata": {},
   "outputs": [],
   "source": []
  },
  {
   "cell_type": "code",
   "execution_count": null,
   "metadata": {},
   "outputs": [],
   "source": [
    "high_point = (df[f\"{probe}_Cal_T\"] > 20) & (df[f\"{probe}_Cal_T\"] < 21)\n",
    "low_point = (df[f\"{probe}_Cal_T\"] > 16) & (df[f\"{probe}_Cal_T\"] < 17)\n",
    "mid_point = (df[f\"{probe}_Cal_T\"] > 18) & (df[f\"{probe}_Cal_T\"] < 19)\n",
    "h = high_point & stable_temp\n",
    "l = low_point & stable_temp\n",
    "m = mid_point & stable_temp"
   ]
  },
  {
   "cell_type": "code",
   "execution_count": null,
   "metadata": {},
   "outputs": [],
   "source": [
    "plt.hist(df[h][f\"{probe}_Raw_Bmag\"]/df[h][\"NMR [T]\"], bins=50);"
   ]
  },
  {
   "cell_type": "code",
   "execution_count": null,
   "metadata": {},
   "outputs": [],
   "source": [
    "fig = scatter2d(df[h][f\"{probe}_Cal_T\"], df[h][f\"{probe}_Raw_Bmag\"]/df[h][\"NMR [T]\"],\n",
    "                df[h].days_delta, inline=False)"
   ]
  },
  {
   "cell_type": "code",
   "execution_count": null,
   "metadata": {},
   "outputs": [],
   "source": [
    "hist2 = plt.hist2d(df[h][f\"{probe}_Cal_T\"], df[h][f\"{probe}_Raw_Bmag\"]/df[h][\"NMR [T]\"], bins=35);"
   ]
  },
  {
   "cell_type": "code",
   "execution_count": null,
   "metadata": {},
   "outputs": [],
   "source": [
    "hist2[1]"
   ]
  },
  {
   "cell_type": "code",
   "execution_count": null,
   "metadata": {},
   "outputs": [],
   "source": [
    "36*36"
   ]
  },
  {
   "cell_type": "code",
   "execution_count": null,
   "metadata": {},
   "outputs": [],
   "source": [
    "len(hist2[1])"
   ]
  },
  {
   "cell_type": "code",
   "execution_count": null,
   "metadata": {},
   "outputs": [],
   "source": [
    "len(hist2[2])"
   ]
  },
  {
   "cell_type": "code",
   "execution_count": null,
   "metadata": {},
   "outputs": [],
   "source": [
    "int(np.floor(hist2[0].argmax() / 36))"
   ]
  },
  {
   "cell_type": "code",
   "execution_count": null,
   "metadata": {},
   "outputs": [],
   "source": [
    "int(round(((hist2[0].argmax() / 35) - int(np.floor(hist2[0].argmax() / 35))) * 35))"
   ]
  },
  {
   "cell_type": "code",
   "execution_count": null,
   "metadata": {},
   "outputs": [],
   "source": [
    "1296-int(np.floor(hist2[0].argmax() / 36))*36"
   ]
  },
  {
   "cell_type": "code",
   "execution_count": null,
   "metadata": {},
   "outputs": [],
   "source": [
    "hist2[0][int(np.floor(hist2[0].argmax() / 35)), int(round(((hist2[0].argmax() / 35) - int(np.floor(hist2[0].argmax() / 35))) * 35))]"
   ]
  },
  {
   "cell_type": "code",
   "execution_count": null,
   "metadata": {},
   "outputs": [],
   "source": [
    "for x, y in np.argwhere(hist2[0] == hist2[0].max()):\n",
    "    # center is between x and x+1\n",
    "    print(np.average(hist2[1][x:x + 2]), np.average(hist2[2][y:y + 2]))"
   ]
  },
  {
   "cell_type": "code",
   "execution_count": null,
   "metadata": {},
   "outputs": [],
   "source": [
    "(df[h][f\"{probe}_Raw_Bmag\"]/df[h][\"NMR [T]\"]).describe()"
   ]
  },
  {
   "cell_type": "code",
   "execution_count": null,
   "metadata": {},
   "outputs": [],
   "source": [
    "df[h][f\"{probe}_Cal_T\"].describe()"
   ]
  },
  {
   "cell_type": "code",
   "execution_count": null,
   "metadata": {},
   "outputs": [],
   "source": []
  },
  {
   "cell_type": "code",
   "execution_count": null,
   "metadata": {},
   "outputs": [],
   "source": [
    "fig = scatter2d(df[stable_temp].index, df[stable_temp][\"Floor\"], inline=False)"
   ]
  },
  {
   "cell_type": "code",
   "execution_count": null,
   "metadata": {},
   "outputs": [],
   "source": [
    "fig = scatter2d(df.index, df[\"Floor\"].diff(5).rolling(5).mean(), inline=False)"
   ]
  },
  {
   "cell_type": "code",
   "execution_count": null,
   "metadata": {},
   "outputs": [],
   "source": [
    "df[\"Roof\"].diff(4).plot()"
   ]
  },
  {
   "cell_type": "code",
   "execution_count": null,
   "metadata": {},
   "outputs": [],
   "source": [
    "df[\"NMR [T]\"].plot()\n",
    "#df[\"Roof\"].diff(1).plot();"
   ]
  },
  {
   "cell_type": "code",
   "execution_count": null,
   "metadata": {},
   "outputs": [],
   "source": []
  },
  {
   "cell_type": "code",
   "execution_count": null,
   "metadata": {},
   "outputs": [],
   "source": []
  },
  {
   "cell_type": "code",
   "execution_count": null,
   "metadata": {},
   "outputs": [],
   "source": [
    "df_ = df[l|m|h]"
   ]
  },
  {
   "cell_type": "code",
   "execution_count": null,
   "metadata": {},
   "outputs": [],
   "source": [
    "def volt(temp, A, B):\n",
    "    return A * temp + B"
   ]
  },
  {
   "cell_type": "code",
   "execution_count": null,
   "metadata": {},
   "outputs": [],
   "source": [
    "guess = np.array([-1300 / 3.5, 2e6]) # A, B"
   ]
  },
  {
   "cell_type": "code",
   "execution_count": null,
   "metadata": {},
   "outputs": [],
   "source": [
    "x_dat = df_[f\"{probe}_Cal_T\"]\n",
    "#x_dat = df[stable_temp][f\"{probe}_Cal_T\"]"
   ]
  },
  {
   "cell_type": "code",
   "execution_count": null,
   "metadata": {},
   "outputs": [],
   "source": [
    "params, cov = optimization.curve_fit(volt, x_dat, df_[f\"{probe}_Raw_Bmag\"] / df_[\"NMR [T]\"], guess)\n",
    "#params, cov = optimization.curve_fit(volt, x_dat, \n",
    "#                                     df[stable_temp][f\"{probe}_Raw_Bmag\"] / df[stable_temp][\"NMR [T]\"], guess)"
   ]
  },
  {
   "cell_type": "code",
   "execution_count": null,
   "metadata": {},
   "outputs": [],
   "source": [
    "# Bmag ### STABLE TEMP\n",
    "params, cov"
   ]
  },
  {
   "cell_type": "code",
   "execution_count": null,
   "metadata": {},
   "outputs": [],
   "source": [
    "np.sqrt(cov[0,0])"
   ]
  },
  {
   "cell_type": "code",
   "execution_count": null,
   "metadata": {},
   "outputs": [],
   "source": [
    "cov[0,1] / (np.sqrt(cov[0,0])*np.sqrt(cov[1,1]))"
   ]
  },
  {
   "cell_type": "markdown",
   "metadata": {},
   "source": [
    "Parameters have strong correlation"
   ]
  },
  {
   "cell_type": "code",
   "execution_count": null,
   "metadata": {},
   "outputs": [],
   "source": [
    "A_fit, B_fit = params"
   ]
  },
  {
   "cell_type": "code",
   "execution_count": null,
   "metadata": {},
   "outputs": [],
   "source": [
    "df_[\"Bmag_lsq\"] = volt(x_dat, A_fit, B_fit)"
   ]
  },
  {
   "cell_type": "code",
   "execution_count": null,
   "metadata": {},
   "outputs": [],
   "source": []
  },
  {
   "cell_type": "code",
   "execution_count": null,
   "metadata": {},
   "outputs": [],
   "source": [
    "p_low = [df[l][f\"{probe}_Cal_T\"].mean(), (df[l][f\"{probe}_Raw_Bmag\"]/df[l][\"NMR [T]\"]).mean()]\n",
    "p_high = [df[h][f\"{probe}_Cal_T\"].mean(), (df[h][f\"{probe}_Raw_Bmag\"]/df[h][\"NMR [T]\"]).mean()]\n",
    "p_mid = [df[m][f\"{probe}_Cal_T\"].mean(), (df[m][f\"{probe}_Raw_Bmag\"]/df[m][\"NMR [T]\"]).mean()]"
   ]
  },
  {
   "cell_type": "code",
   "execution_count": null,
   "metadata": {},
   "outputs": [],
   "source": [
    "std_low = [df[l][f\"{probe}_Cal_T\"].std(), (df[l][f\"{probe}_Raw_Bmag\"]/df[l][\"NMR [T]\"]).std()]\n",
    "std_high = [df[h][f\"{probe}_Cal_T\"].std(), (df[h][f\"{probe}_Raw_Bmag\"]/df[h][\"NMR [T]\"]).std()]\n",
    "std_mid = [df[m][f\"{probe}_Cal_T\"].std(), (df[m][f\"{probe}_Raw_Bmag\"]/df[m][\"NMR [T]\"]).std()]"
   ]
  },
  {
   "cell_type": "code",
   "execution_count": null,
   "metadata": {},
   "outputs": [],
   "source": [
    "std_low"
   ]
  },
  {
   "cell_type": "code",
   "execution_count": null,
   "metadata": {},
   "outputs": [],
   "source": [
    "fig = scatter2d(df_[f\"{probe}_Cal_T\"],\n",
    "                df_[f\"{probe}_Raw_Bmag\"] / df_[\"NMR [T]\"],\n",
    "                df_.days_delta, show_plot=False)\n",
    "#d = [df[f\"{probe}_Raw_X\"].min(), df[f\"{probe}_Raw_X\"].max()]\n",
    "fig.add_trace(go.Scatter(\n",
    "                    x=df_[f\"{probe}_Cal_T\"], y=df_[\"Bmag_lsq\"],\n",
    "                    mode='lines', name=\"|V|/|B| = A * Temp. + B\",\n",
    "                    line=dict(color='deeppink', width=1,\n",
    "                              dash='dash')));\n",
    "#plot(fig)\n",
    "\n",
    "fig.update_traces(marker=dict(size=1));\n",
    "#plot(fig);\n",
    "\n",
    "fig.add_trace(go.Scatter(\n",
    "    x= [p_low[0],p_mid[0],p_high[0]],\n",
    "    y=[p_low[1],p_mid[1],p_high[1]],\n",
    "    mode='markers',\n",
    "    name='averaged_data',\n",
    "    error_x=dict(\n",
    "        type='data',\n",
    "        array=[std_low[0], std_mid[0], std_high[0]],\n",
    "        width=1,\n",
    "        thickness=1.,\n",
    "        visible=True),\n",
    "    error_y=dict(\n",
    "        type='data',\n",
    "        array=[std_low[1], std_mid[1], std_high[1]],\n",
    "        width=1,\n",
    "        thickness=1.,\n",
    "        visible=True),\n",
    "    marker=dict(\n",
    "        size=4,\n",
    "        color=\"Red\",\n",
    "    )\n",
    "))\n",
    "\n",
    "fig.update_layout(title=\"Scaled Hall Voltage vs. Hall Probe Temperature\")\n",
    "fig.update_xaxes(title_text='Hall Probe Temperature [deg C]')\n",
    "fig.update_yaxes(title_text='|V_Hall| / NMR [micro V / T]')\n",
    "fig.update_layout( width=1200,height=900,)\n",
    "\n",
    "#fig = go.Figure(traces)\n",
    "plot(fig, filename=plotdir+\"temp_fit_2point_aggregate.html\")"
   ]
  },
  {
   "cell_type": "code",
   "execution_count": null,
   "metadata": {},
   "outputs": [],
   "source": [
    "pio.write_image(fig, plotdir+\"temp_fit_2point_aggregate.pdf\")\n",
    "pio.write_image(fig, plotdir+\"temp_fit_2point_aggregate.png\")"
   ]
  },
  {
   "cell_type": "code",
   "execution_count": null,
   "metadata": {},
   "outputs": [],
   "source": [
    "std_low"
   ]
  },
  {
   "cell_type": "code",
   "execution_count": null,
   "metadata": {},
   "outputs": [],
   "source": [
    "std_mid"
   ]
  },
  {
   "cell_type": "code",
   "execution_count": null,
   "metadata": {},
   "outputs": [],
   "source": [
    "std_high"
   ]
  },
  {
   "cell_type": "code",
   "execution_count": null,
   "metadata": {},
   "outputs": [],
   "source": [
    "### pick std = 55\n",
    "std_volt = 45.#55."
   ]
  },
  {
   "cell_type": "code",
   "execution_count": null,
   "metadata": {},
   "outputs": [],
   "source": [
    "def chi2(f, x, std):\n",
    "    return np.sum(np.square((x-f)/std))"
   ]
  },
  {
   "cell_type": "code",
   "execution_count": null,
   "metadata": {},
   "outputs": [],
   "source": [
    "fit_chi2 = chi2(df_[\"Bmag_lsq\"], df_[f\"{probe}_Raw_Bmag\"]/df_[\"NMR [T]\"], std_volt)\n",
    "fit_chi2"
   ]
  },
  {
   "cell_type": "code",
   "execution_count": null,
   "metadata": {},
   "outputs": [],
   "source": [
    "# check std\n",
    "df_2 = df_[100:500]"
   ]
  },
  {
   "cell_type": "code",
   "execution_count": null,
   "metadata": {},
   "outputs": [],
   "source": [
    "fig = scatter2d(df_2.index, df_2[f\"{probe}_Raw_Bmag\"]/df_2[\"NMR [T]\"],\n",
    "               inline=False)"
   ]
  },
  {
   "cell_type": "code",
   "execution_count": null,
   "metadata": {},
   "outputs": [],
   "source": [
    "scaled_B = df_2[f\"{probe}_Raw_Bmag\"]/df_2[\"NMR [T]\"]\n",
    "scaled_B.name = \"Scaled |V|/|B|\""
   ]
  },
  {
   "cell_type": "code",
   "execution_count": null,
   "metadata": {},
   "outputs": [],
   "source": [
    "fig = histo(scaled_B, bins=25,\n",
    "               inline=False)"
   ]
  },
  {
   "cell_type": "code",
   "execution_count": null,
   "metadata": {},
   "outputs": [],
   "source": [
    "dof = len(df_) - 2\n",
    "dof"
   ]
  },
  {
   "cell_type": "code",
   "execution_count": null,
   "metadata": {},
   "outputs": [],
   "source": [
    "stats.chi2.pdf(6300, 6325)"
   ]
  },
  {
   "cell_type": "code",
   "execution_count": null,
   "metadata": {},
   "outputs": [],
   "source": [
    "n = np.linspace(0, 7000, 1000)"
   ]
  },
  {
   "cell_type": "code",
   "execution_count": null,
   "metadata": {},
   "outputs": [],
   "source": [
    "P = stats.chi2.pdf(n, dof)"
   ]
  },
  {
   "cell_type": "code",
   "execution_count": null,
   "metadata": {},
   "outputs": [],
   "source": [
    "plt.plot(n,P)\n",
    "plt.plot([fit_chi2, fit_chi2],[0., P.max()], 'r--');"
   ]
  },
  {
   "cell_type": "code",
   "execution_count": null,
   "metadata": {},
   "outputs": [],
   "source": [
    "n[P.argmax()]"
   ]
  },
  {
   "cell_type": "markdown",
   "metadata": {},
   "source": [
    "## Magnet Behavior"
   ]
  },
  {
   "cell_type": "code",
   "execution_count": null,
   "metadata": {},
   "outputs": [],
   "source": [
    "probes"
   ]
  },
  {
   "cell_type": "code",
   "execution_count": null,
   "metadata": {},
   "outputs": [],
   "source": [
    "x_dat = df.index\n",
    "y_dat = df[f\"{probes[0]}_Raw_X\"]"
   ]
  },
  {
   "cell_type": "code",
   "execution_count": null,
   "metadata": {},
   "outputs": [],
   "source": [
    "fig = scatter2d(x_dat, y_dat, df.days_delta, inline=False)"
   ]
  },
  {
   "cell_type": "code",
   "execution_count": null,
   "metadata": {},
   "outputs": [],
   "source": []
  }
 ],
 "metadata": {
  "kernelspec": {
   "display_name": "Python [conda env:Mu2E]",
   "language": "python",
   "name": "conda-env-Mu2E-py"
  },
  "language_info": {
   "codemirror_mode": {
    "name": "ipython",
    "version": 3
   },
   "file_extension": ".py",
   "mimetype": "text/x-python",
   "name": "python",
   "nbconvert_exporter": "python",
   "pygments_lexer": "ipython3",
   "version": "3.7.4"
  }
 },
 "nbformat": 4,
 "nbformat_minor": 2
}
