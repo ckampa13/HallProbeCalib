{
 "cells": [
  {
   "cell_type": "markdown",
   "metadata": {},
   "source": [
    "## Imports"
   ]
  },
  {
   "cell_type": "code",
   "execution_count": null,
   "metadata": {},
   "outputs": [],
   "source": [
    "%load_ext autoreload\n",
    "%autoreload 2"
   ]
  },
  {
   "cell_type": "code",
   "execution_count": null,
   "metadata": {},
   "outputs": [],
   "source": [
    "import numpy as np\n",
    "import pandas as pd\n",
    "import pickle as pkl\n",
    "from datetime import datetime\n",
    "from dateutil import parser\n",
    "\n",
    "import matplotlib.pyplot as plt\n",
    "from mpl_toolkits.mplot3d import Axes3D\n",
    "%matplotlib inline\n",
    "plt.rcParams['figure.figsize'] = (12.0, 8.0)\n",
    "plt.rcParams['axes.axisbelow'] = True\n",
    "\n",
    "from plotly.offline import init_notebook_mode, plot, iplot\n",
    "import plotly.graph_objs as go\n",
    "import plotly.io as pio\n",
    "from plotly.subplots import make_subplots\n",
    "init_notebook_mode(True)\n",
    "\n",
    "from hallprobecalib import hpc_ext_path\n",
    "from hallprobecalib.hpcplots import scatter2d,scatter3d,histo"
   ]
  },
  {
   "cell_type": "markdown",
   "metadata": {},
   "source": [
    "## Day 1: Cleaning, Plots"
   ]
  },
  {
   "cell_type": "code",
   "execution_count": null,
   "metadata": {},
   "outputs": [],
   "source": [
    "plotdir = hpc_ext_path+'plots/magnet_stability/2019-07-16/'"
   ]
  },
  {
   "cell_type": "code",
   "execution_count": null,
   "metadata": {},
   "outputs": [],
   "source": [
    "pkldir = hpc_ext_path+\"datafiles/magnet_stability/pkl/\"\n",
    "directory = \"/home/ckampa/Dropbox/LogFiles/\"#hpc_ext_path+'datafiles/magnet_stability/nmr/'\n",
    "filename = '2019-07-16 101205slow.txt'"
   ]
  },
  {
   "cell_type": "code",
   "execution_count": null,
   "metadata": {},
   "outputs": [],
   "source": [
    "# read pickled files!\n",
    "df = pd.read_pickle(pkldir+\"run10.pkl\")\n",
    "df_full = pd.read_pickle(pkldir+\"run10_full.pkl\")"
   ]
  },
  {
   "cell_type": "code",
   "execution_count": null,
   "metadata": {},
   "outputs": [],
   "source": [
    "df = pd.read_csv(directory+filename)"
   ]
  },
  {
   "cell_type": "code",
   "execution_count": null,
   "metadata": {},
   "outputs": [],
   "source": [
    "df_full = pd.read_csv(directory+filename)"
   ]
  },
  {
   "cell_type": "code",
   "execution_count": null,
   "metadata": {},
   "outputs": [],
   "source": [
    "df.describe()"
   ]
  },
  {
   "cell_type": "code",
   "execution_count": null,
   "metadata": {},
   "outputs": [],
   "source": [
    "df = df[df[\" NMR [T]\"] != 0]"
   ]
  },
  {
   "cell_type": "code",
   "execution_count": null,
   "metadata": {},
   "outputs": [],
   "source": [
    "fig = histo(df[' NMR [T]'],bins=50,yscale='linear',inline=True);"
   ]
  },
  {
   "cell_type": "code",
   "execution_count": null,
   "metadata": {},
   "outputs": [],
   "source": [
    "fname = 'hist_NMR'\n",
    "pio.write_image(fig, plotdir+fname+'.pdf')\n",
    "pio.write_image(fig, plotdir+fname+'.png')\n",
    "plot(fig, filename=plotdir+fname+'.html',auto_open=False)"
   ]
  },
  {
   "cell_type": "code",
   "execution_count": null,
   "metadata": {},
   "outputs": [],
   "source": [
    "len(df_full)"
   ]
  },
  {
   "cell_type": "code",
   "execution_count": null,
   "metadata": {},
   "outputs": [],
   "source": [
    "dates = [parser.parse(row.Time) for row in df.itertuples()]# if isdatetime(row.Time.values[0])]"
   ]
  },
  {
   "cell_type": "markdown",
   "metadata": {},
   "source": [
    "- NOTE: 'as.type(\"str\")' is necessary to ensure plotly doesn't convert datetime to UTC!\n",
    "    - **Should not be necessary in updated Plotly package**"
   ]
  },
  {
   "cell_type": "code",
   "execution_count": null,
   "metadata": {},
   "outputs": [],
   "source": [
    "df[\"Datetime\"] = pd.to_datetime(dates)#.astype(\"str\")\n",
    "df = df.set_index(\"Datetime\")"
   ]
  },
  {
   "cell_type": "code",
   "execution_count": null,
   "metadata": {},
   "outputs": [],
   "source": [
    "dates = [parser.parse(row.Time) for row in df_full.itertuples()]# if isdatetime(row.Time.values[0])]"
   ]
  },
  {
   "cell_type": "markdown",
   "metadata": {},
   "source": [
    "- NOTE: 'as.type(\"str\")' is necessary to ensure plotly doesn't convert datetime to UTC!"
   ]
  },
  {
   "cell_type": "code",
   "execution_count": null,
   "metadata": {},
   "outputs": [],
   "source": [
    "df_full[\"Datetime\"] = pd.to_datetime(dates)#.astype(\"str\")\n",
    "df_full = df_full.set_index(\"Datetime\")"
   ]
  },
  {
   "cell_type": "code",
   "execution_count": null,
   "metadata": {},
   "outputs": [],
   "source": [
    "column = \" NMR [T]\"\n",
    "fig1 = scatter2d(df.index,df[column],show_plot=False,inline=True)\n",
    "fig2 = histo(df[column],bins=50, autobin=False, horizontal=True,show_plot=False, inline=True)\n",
    "fig = make_subplots(rows=1, cols=2, column_widths=[0.7, 0.3], shared_yaxes=True)\n",
    "fig.add_trace(fig1.data[0], row=1, col=1)\n",
    "fig.add_trace(fig2.data[0], row=1, col=2)"
   ]
  },
  {
   "cell_type": "code",
   "execution_count": null,
   "metadata": {},
   "outputs": [],
   "source": [
    "fig.layout.title = \"NMR [T] vs. Datetime\"\n",
    "fig.layout.xaxis.title = \"Datetime\"\n",
    "fig.layout.yaxis.title = \"NMR [T]\""
   ]
  },
  {
   "cell_type": "code",
   "execution_count": null,
   "metadata": {},
   "outputs": [],
   "source": [
    "fname = 'scatter_hist_NMR'\n",
    "pio.write_image(fig, plotdir+fname+'.pdf')\n",
    "pio.write_image(fig, plotdir+fname+'.png')\n",
    "plot(fig, filename=plotdir+fname+'.html',auto_open=False)"
   ]
  },
  {
   "cell_type": "code",
   "execution_count": null,
   "metadata": {},
   "outputs": [],
   "source": [
    "fig = scatter2d(df_full.index,df_full[\" NMR [T]\"],lines=True,markers=False,size_list=[6],inline=True)"
   ]
  },
  {
   "cell_type": "code",
   "execution_count": null,
   "metadata": {},
   "outputs": [],
   "source": [
    "pio.write_image(fig, plotdir+'NMR_vs_Time_full.pdf')\n",
    "pio.write_image(fig, plotdir+'NMR_vs_Time_full.png')\n",
    "plot(fig, filename=plotdir+'NMR_vs_Time_full.html', auto_open=False)"
   ]
  },
  {
   "cell_type": "code",
   "execution_count": null,
   "metadata": {},
   "outputs": [],
   "source": [
    "fig = scatter2d(df.index,df[\" NMR [T]\"],lines=True,markers=False,size_list=[6],inline=True)"
   ]
  },
  {
   "cell_type": "code",
   "execution_count": null,
   "metadata": {},
   "outputs": [],
   "source": [
    "nmr =df[' NMR [T]']\n",
    "(nmr.max() - nmr.min()) / nmr.mean()"
   ]
  },
  {
   "cell_type": "code",
   "execution_count": null,
   "metadata": {},
   "outputs": [],
   "source": [
    "pio.write_image(fig, plotdir+'NMR_vs_Time.pdf')\n",
    "pio.write_image(fig, plotdir+'NMR_vs_Time.png')\n",
    "plot(fig, filename=plotdir+'NMR_vs_Time.html', auto_open=False)"
   ]
  },
  {
   "cell_type": "code",
   "execution_count": null,
   "metadata": {},
   "outputs": [],
   "source": [
    "df.columns"
   ]
  },
  {
   "cell_type": "code",
   "execution_count": null,
   "metadata": {},
   "outputs": [],
   "source": [
    "#df.columns ## OLD"
   ]
  },
  {
   "cell_type": "code",
   "execution_count": null,
   "metadata": {},
   "outputs": [],
   "source": [
    "len(df.columns)"
   ]
  },
  {
   "cell_type": "code",
   "execution_count": null,
   "metadata": {},
   "outputs": [],
   "source": [
    "#df = df_full"
   ]
  },
  {
   "cell_type": "code",
   "execution_count": null,
   "metadata": {},
   "outputs": [],
   "source": [
    "temps_ch = [a for a in df.columns if (\"CH\" in a) and int(a[-2:])<21]# or \"HVAC\" in a]\n",
    "temps_ch.append(\" Hall Element\")\n",
    "temps_ch.append(\" Floor\")\n",
    "temps_ch.append(\" Roof\")\n",
    "temps_ch.append(\" Yoke\")\n",
    "temps_ch.append(\"Yoke (center magnet)\")"
   ]
  },
  {
   "cell_type": "code",
   "execution_count": null,
   "metadata": {},
   "outputs": [],
   "source": [
    "temps_ch"
   ]
  },
  {
   "cell_type": "code",
   "execution_count": null,
   "metadata": {},
   "outputs": [],
   "source": [
    "df[temps_ch].describe()"
   ]
  },
  {
   "cell_type": "code",
   "execution_count": null,
   "metadata": {},
   "outputs": [],
   "source": [
    "fig = plt.figure()\n",
    "for c in temps_ch:\n",
    "    df[c].plot()\n",
    "#plt.ylabel('Temp [C]')\n",
    "plt.ylabel(\"Temp [$^{\\circ}$ C]\")\n",
    "plt.legend()    "
   ]
  },
  {
   "cell_type": "code",
   "execution_count": null,
   "metadata": {},
   "outputs": [],
   "source": [
    "fig = scatter2d([df.index for c in temps_ch],[df[c] for c in temps_ch],inline=True);\n",
    "fig.layout.title = \"Temp vs. Datetime\"\n",
    "fig.layout.yaxis.title = \"Temp [deg. C]\""
   ]
  },
  {
   "cell_type": "code",
   "execution_count": null,
   "metadata": {},
   "outputs": [],
   "source": [
    "#fname = 'temps_scatter'\n",
    "fname = 'temps_scatter_full'\n",
    "pio.write_image(fig, plotdir+fname+'.pdf')\n",
    "pio.write_image(fig, plotdir+fname+'.png')\n",
    "plot(fig, filename=plotdir+fname+'.html', auto_open=False)"
   ]
  },
  {
   "cell_type": "code",
   "execution_count": null,
   "metadata": {},
   "outputs": [],
   "source": [
    "fig = scatter2d(df.index,df[\" Chamber Wall CH20\"],inline=True)"
   ]
  },
  {
   "cell_type": "code",
   "execution_count": null,
   "metadata": {},
   "outputs": [],
   "source": [
    "fig = scatter2d([df.index for c in temps_ch],[df[c]-(df[c].mean()-df[\" Floor\"].mean()) for c in temps_ch],inline=True);\n",
    "fig.layout.title = \"Temp vs. Datetime\"\n",
    "fig.layout.yaxis.title = \"Temp [deg. C]\""
   ]
  },
  {
   "cell_type": "code",
   "execution_count": null,
   "metadata": {},
   "outputs": [],
   "source": [
    "fname = 'temps_scatter_adjusted'\n",
    "pio.write_image(fig, plotdir+fname+'.pdf')\n",
    "pio.write_image(fig, plotdir+fname+'.png')\n",
    "plot(fig, filename=plotdir+fname+'.html',auto_open=False)"
   ]
  },
  {
   "cell_type": "code",
   "execution_count": null,
   "metadata": {},
   "outputs": [],
   "source": [
    "fig = histo([df[c]-(df[c].mean()-df[\" Floor\"].mean()) for c in temps_ch],xlabel=\"Temperature (deg C)\",verbosity=1,opacity=0.6,inline=True);\n",
    "fig.layout.title = \"Temp Histos\""
   ]
  },
  {
   "cell_type": "code",
   "execution_count": null,
   "metadata": {},
   "outputs": [],
   "source": [
    "fname = 'hist_temps_adjusted'\n",
    "pio.write_image(fig, plotdir+fname+'.pdf')\n",
    "pio.write_image(fig, plotdir+fname+'.png')\n",
    "plot(fig, filename=plotdir+fname+'.html',auto_open=False)"
   ]
  },
  {
   "cell_type": "code",
   "execution_count": null,
   "metadata": {},
   "outputs": [],
   "source": [
    "fig = histo([df[c] for c in temps_ch],xlabel=\"Temperature (deg C)\",verbosity=1,inline=True);\n",
    "fig.layout.title = \"Temp Histos\""
   ]
  },
  {
   "cell_type": "code",
   "execution_count": null,
   "metadata": {},
   "outputs": [],
   "source": [
    "fname = 'hist_temps'\n",
    "pio.write_image(fig, plotdir+fname+'.pdf')\n",
    "pio.write_image(fig, plotdir+fname+'.png')\n",
    "plot(fig, filename=plotdir+fname+'.html')"
   ]
  },
  {
   "cell_type": "code",
   "execution_count": null,
   "metadata": {},
   "outputs": [],
   "source": [
    "#fig = scatter2d(df.index,df[\" Yoke\"],inline=True);\n",
    "fig = histo(-df[\" Yoke\"],xlabel=\"-1 * Temperature (deg C)\", bins=50,autobin=False,inline=True);"
   ]
  },
  {
   "cell_type": "code",
   "execution_count": null,
   "metadata": {},
   "outputs": [],
   "source": [
    "fname = 'hist_Yoke'\n",
    "pio.write_image(fig, plotdir+fname+'.pdf')\n",
    "pio.write_image(fig, plotdir+fname+'.png')\n",
    "plot(fig, filename=plotdir+fname+'.html')"
   ]
  },
  {
   "cell_type": "code",
   "execution_count": null,
   "metadata": {},
   "outputs": [],
   "source": [
    "df.columns"
   ]
  },
  {
   "cell_type": "code",
   "execution_count": null,
   "metadata": {},
   "outputs": [],
   "source": [
    "fig = scatter2d(2*[df.index],[df[\"Desk Ambient\"], df[\" Spare Ambient on desk\"]],inline=True);"
   ]
  },
  {
   "cell_type": "code",
   "execution_count": null,
   "metadata": {},
   "outputs": [],
   "source": [
    "pio.write_image(fig,plotdir+\"Desk_comparison.pdf\")\n",
    "pio.write_image(fig,plotdir+\"Desk_comparison.png\")"
   ]
  },
  {
   "cell_type": "code",
   "execution_count": null,
   "metadata": {
    "scrolled": true
   },
   "outputs": [],
   "source": [
    "fig = scatter2d([df.index],[df[\"Desk Ambient\"]-df[\" Spare Ambient on desk\"]],inline=True);"
   ]
  },
  {
   "cell_type": "code",
   "execution_count": null,
   "metadata": {},
   "outputs": [],
   "source": [
    "fig.layout.title = \"Desk Ambient Residuals vs. Time\"\n",
    "fig.layout.yaxis.title = \"Desk Ambient - Spare Ambient on desk (deg C)\"\n",
    "fig.layout.showlegend = False"
   ]
  },
  {
   "cell_type": "code",
   "execution_count": null,
   "metadata": {},
   "outputs": [],
   "source": [
    "pio.write_image(fig,plotdir+\"Desk_comparison_subtraction.pdf\")\n",
    "pio.write_image(fig,plotdir+\"Desk_comparison_subtraction.png\")"
   ]
  },
  {
   "cell_type": "code",
   "execution_count": null,
   "metadata": {},
   "outputs": [],
   "source": [
    "div = 1000\n",
    "fig = histo(pd.Series(df[\"Desk Ambient\"][:div]-df[\" Spare Ambient on desk\"][:div], name=\"Residuals\"), bins=50, autobin=False, inline=True)\n",
    "fig = histo(pd.Series(df[\"Desk Ambient\"][div:]-df[\" Spare Ambient on desk\"][div:], name=\"Residuals\"), bins=50, autobin=False, inline=True)"
   ]
  },
  {
   "cell_type": "code",
   "execution_count": null,
   "metadata": {},
   "outputs": [],
   "source": [
    "fig.layout.title = \"Desk Ambient Residuals\"\n",
    "fig.layout.xaxis.title = \"Desk Ambient - Spare Ambient on desk (deg C)\"\n",
    "#fig.layout.showlegend = False"
   ]
  },
  {
   "cell_type": "code",
   "execution_count": null,
   "metadata": {},
   "outputs": [],
   "source": [
    "pio.write_image(fig,plotdir+\"hist_Desk_comparison_subtraction.pdf\")\n",
    "pio.write_image(fig,plotdir+\"hist_Desk_comparison_subtraction.png\")"
   ]
  },
  {
   "cell_type": "code",
   "execution_count": null,
   "metadata": {},
   "outputs": [],
   "source": [
    "fig = histo(df[\"Desk Ambient\"],bins=40,autobin=False,inline=True);\n",
    "pio.write_image(fig,plotdir+\"hist_temp_Desk.pdf\")\n",
    "pio.write_image(fig,plotdir+\"hist_temp_Desk.png\")\n",
    "fig = histo(df[\" Floor\"],bins=40,autobin=False,inline=True);\n",
    "pio.write_image(fig,plotdir+\"hist_temp_Floor.pdf\")\n",
    "pio.write_image(fig,plotdir+\"hist_temp_Floor.png\")"
   ]
  },
  {
   "cell_type": "code",
   "execution_count": null,
   "metadata": {},
   "outputs": [],
   "source": [
    "fig = histo(df[\" Roof\"],bins=50,autobin=False,inline=True);"
   ]
  },
  {
   "cell_type": "code",
   "execution_count": null,
   "metadata": {},
   "outputs": [],
   "source": [
    "df[' Magnet Current [A]'].plot()"
   ]
  },
  {
   "cell_type": "code",
   "execution_count": null,
   "metadata": {},
   "outputs": [],
   "source": [
    "fig = scatter2d(df.index,df[' Magnet Current [A]'],inline=True);"
   ]
  },
  {
   "cell_type": "code",
   "execution_count": null,
   "metadata": {},
   "outputs": [],
   "source": [
    "fname = 'magnet_current'\n",
    "pio.write_image(fig, plotdir+fname+'.pdf')\n",
    "pio.write_image(fig, plotdir+fname+'.png')\n",
    "plot(fig, filename=plotdir+fname+'.html', auto_open=False)"
   ]
  },
  {
   "cell_type": "code",
   "execution_count": null,
   "metadata": {},
   "outputs": [],
   "source": [
    "fig = scatter2d(df.index,df[' Magnet Voltage [V]'],inline=True);"
   ]
  },
  {
   "cell_type": "code",
   "execution_count": null,
   "metadata": {},
   "outputs": [],
   "source": [
    "fname = 'magnet_voltage'\n",
    "pio.write_image(fig, plotdir+fname+'.pdf')\n",
    "pio.write_image(fig, plotdir+fname+'.png')\n",
    "plot(fig, filename=plotdir+fname+'.html', auto_open=False)"
   ]
  },
  {
   "cell_type": "code",
   "execution_count": null,
   "metadata": {},
   "outputs": [],
   "source": [
    "m =df[' Magnet Voltage [V]']\n",
    "(m.max() - m.min()) / m.mean()"
   ]
  },
  {
   "cell_type": "code",
   "execution_count": null,
   "metadata": {
    "code_folding": [],
    "scrolled": true
   },
   "outputs": [],
   "source": [
    "for col in df.columns:\n",
    "    fig = scatter2d(df.index,df[col],lines=True,markers=False,size_list=[6], show_plot=False,inline=True);\n",
    "    pio.write_image(fig,plotdir+f\"time_series/{col}.pdf\")\n",
    "    pio.write_image(fig,plotdir+f\"time_series/{col}.png\")"
   ]
  },
  {
   "cell_type": "code",
   "execution_count": null,
   "metadata": {},
   "outputs": [],
   "source": [
    "for col in df_full.columns:\n",
    "    fig = scatter2d(df_full.index,df_full[col],lines=True,markers=False,size_list=[6], show_plot=False,inline=True);\n",
    "    pio.write_image(fig,plotdir+f\"time_series_full/{col}.pdf\")\n",
    "    pio.write_image(fig,plotdir+f\"time_series_full/{col}.png\")"
   ]
  },
  {
   "cell_type": "markdown",
   "metadata": {},
   "source": [
    "## Correlations"
   ]
  },
  {
   "cell_type": "markdown",
   "metadata": {},
   "source": [
    "- As seen in past dataset, NMR reading seems inversely correlated to the magnet voltage.\n",
    "- It also appeared that the voltage was correlated to the water cooling system.\n",
    "- Let's check if this relationship holds and also try to tease out other correlations."
   ]
  },
  {
   "cell_type": "code",
   "execution_count": null,
   "metadata": {},
   "outputs": [],
   "source": [
    "import operator\n",
    "from scipy import stats"
   ]
  },
  {
   "cell_type": "code",
   "execution_count": null,
   "metadata": {},
   "outputs": [],
   "source": [
    "ns = []\n",
    "for col in df.columns:\n",
    "    if (df[col].dtype == np.float64) & (\"Zab\" not in col) & (\"NMR [FFT]\" not in col) & (col != \" \"):\n",
    "        ns.append(col)"
   ]
  },
  {
   "cell_type": "code",
   "execution_count": null,
   "metadata": {},
   "outputs": [],
   "source": [
    "len(df.columns)"
   ]
  },
  {
   "cell_type": "code",
   "execution_count": null,
   "metadata": {},
   "outputs": [],
   "source": [
    "len(ns)"
   ]
  },
  {
   "cell_type": "code",
   "execution_count": null,
   "metadata": {
    "scrolled": true
   },
   "outputs": [],
   "source": [
    "df[ns].corr()"
   ]
  },
  {
   "cell_type": "code",
   "execution_count": null,
   "metadata": {},
   "outputs": [],
   "source": [
    "plt.matshow(df[ns].corr())"
   ]
  },
  {
   "cell_type": "code",
   "execution_count": null,
   "metadata": {},
   "outputs": [],
   "source": [
    "f = plt.figure(figsize=(25, 15))\n",
    "plt.matshow(df[ns].corr(), fignum=f.number)\n",
    "plt.xticks(range(df[ns].shape[1]), df[ns].columns, fontsize=14, rotation=55)\n",
    "plt.yticks(range(df[ns].shape[1]), df[ns].columns, fontsize=14)\n",
    "cb = plt.colorbar()\n",
    "cb.ax.tick_params(labelsize=14)\n",
    "plt.title('Correlation Matrix', fontsize=16);"
   ]
  },
  {
   "cell_type": "code",
   "execution_count": null,
   "metadata": {},
   "outputs": [],
   "source": [
    "f = plt.figure(figsize=(25, 15))\n",
    "plt.matshow(df[temps_ch].corr(), fignum=f.number)\n",
    "plt.xticks(range(df[temps_ch].shape[1]), df[temps_ch].columns, fontsize=14, rotation=55)\n",
    "plt.yticks(range(df[temps_ch].shape[1]), df[temps_ch].columns, fontsize=14)\n",
    "cb = plt.colorbar()\n",
    "cb.ax.tick_params(labelsize=14)\n",
    "plt.title('Correlation Matrix', fontsize=16);"
   ]
  },
  {
   "cell_type": "code",
   "execution_count": null,
   "metadata": {},
   "outputs": [],
   "source": [
    "#corr.style.background_gradient(cmap='coolwarm', axis=None)\n",
    "#df.corr().style.background_gradient(cmap='coolwarm', axis=None)\n",
    "df[ns].corr().style.background_gradient(cmap='coolwarm').set_precision(2)"
   ]
  },
  {
   "cell_type": "code",
   "execution_count": null,
   "metadata": {},
   "outputs": [],
   "source": [
    "primary_corr = dict()\n",
    "for col in df.columns:\n",
    "    if df[col].dtype == np.float64:\n",
    "        slope_v, intercept_v, r_value_v, p_value_v, std_err_v = stats.linregress(df[col], df[\" NMR [T]\"])\n",
    "        #print(col,r_value_v,p_value_v,std_err_v)\n",
    "        primary_corr[col] = r_value_v\n",
    "\n",
    "sorted_primary_corr = sorted(primary_corr.items(), key=operator.itemgetter(1))\n",
    "\n",
    "sorted_primary_corr"
   ]
  },
  {
   "cell_type": "markdown",
   "metadata": {},
   "source": [
    "Would be helpful to see time as the color to see how this is traced out."
   ]
  },
  {
   "cell_type": "code",
   "execution_count": null,
   "metadata": {},
   "outputs": [],
   "source": [
    "df['ind'] = np.array([i for i in range(len(df))])"
   ]
  },
  {
   "cell_type": "code",
   "execution_count": null,
   "metadata": {},
   "outputs": [],
   "source": [
    "def color_scatter2d(x,y,ind,time=df.index,show_plot=True):\n",
    "    data = [\n",
    "        go.Scatter(\n",
    "            x=x,\n",
    "            y=y,\n",
    "            marker=dict(\n",
    "                size=2,\n",
    "                cmax=ind.max(),\n",
    "                cmin=ind.min(),\n",
    "                color=ind,\n",
    "                colorbar=dict(\n",
    "                    title='time (index)',\n",
    "                    #ticktext=df.index\n",
    "                ),\n",
    "                colorscale='Viridis',\n",
    "            ),\n",
    "            mode='markers',\n",
    "            text=time,\n",
    "        )\n",
    "    ]\n",
    "    \n",
    "    layout = go.Layout(\n",
    "        title = f\"{y.name} vs. {x.name}\",\n",
    "        xaxis = dict(\n",
    "            title = f\"{x.name}\"\n",
    "        ),\n",
    "        yaxis = dict(\n",
    "            title = f\"{y.name}\"\n",
    "        ),\n",
    "    )\n",
    "\n",
    "    fig = go.Figure(data=data,layout=layout)\n",
    "    if show_plot:\n",
    "        iplot(fig)\n",
    "    return fig"
   ]
  },
  {
   "cell_type": "code",
   "execution_count": null,
   "metadata": {},
   "outputs": [],
   "source": [
    "for col in df.columns:\n",
    "    fig = color_scatter2d(df[col],df[\" NMR [T]\"],df.ind,show_plot=False);\n",
    "    pio.write_image(fig,plotdir+f\"nmr_correlations/{col}_vs_nmr.pdf\")\n",
    "    pio.write_image(fig,plotdir+f\"nmr_correlations/{col}_vs_nmr.png\")"
   ]
  },
  {
   "cell_type": "code",
   "execution_count": null,
   "metadata": {},
   "outputs": [],
   "source": [
    "df_back = df"
   ]
  },
  {
   "cell_type": "code",
   "execution_count": null,
   "metadata": {},
   "outputs": [],
   "source": [
    "df = df_back"
   ]
  },
  {
   "cell_type": "code",
   "execution_count": null,
   "metadata": {},
   "outputs": [],
   "source": [
    "df_ = df[df.ind < 1600]"
   ]
  },
  {
   "cell_type": "code",
   "execution_count": null,
   "metadata": {},
   "outputs": [],
   "source": [
    "fig = color_scatter2d(df[\" Yoke\"],df[\" NMR [T]\"],df.ind,show_plot=True);"
   ]
  },
  {
   "cell_type": "code",
   "execution_count": null,
   "metadata": {},
   "outputs": [],
   "source": [
    "df = df_"
   ]
  },
  {
   "cell_type": "code",
   "execution_count": null,
   "metadata": {
    "code_folding": []
   },
   "outputs": [],
   "source": [
    "#corr_main = \" LCW in barrel\"\n",
    "corr_main = \" Yoke\"\n",
    "#corr_main = \" Floor\"\n",
    "\n",
    "filestart = corr_main.strip().lower()\n",
    "\n",
    "#slope, intercept, r_value, p_value, std_err = stats.linregress(df[\" Yoke\"], df[\" NMR [T]\"])\n",
    "slope, intercept, r_value, p_value, std_err = stats.linregress(df[corr_main], df[\" NMR [T]\"])"
   ]
  },
  {
   "cell_type": "code",
   "execution_count": null,
   "metadata": {},
   "outputs": [],
   "source": [
    "slope, intercept, r_value, p_value, std_err"
   ]
  },
  {
   "cell_type": "code",
   "execution_count": null,
   "metadata": {},
   "outputs": [],
   "source": [
    "line = slope * df[corr_main] + intercept"
   ]
  },
  {
   "cell_type": "code",
   "execution_count": null,
   "metadata": {},
   "outputs": [],
   "source": [
    "fig = scatter2d(2*[df[corr_main]],[df[\" NMR [T]\"],line],lines=False,markers=True,size_list=[2,2],inline=True)"
   ]
  },
  {
   "cell_type": "code",
   "execution_count": null,
   "metadata": {},
   "outputs": [],
   "source": [
    "pio.write_image(fig,plotdir+f\"{filestart}_vs_nmr_fit.pdf\")\n",
    "pio.write_image(fig,plotdir+f\"{filestart}_vs_nmr_fit.png\")"
   ]
  },
  {
   "cell_type": "code",
   "execution_count": null,
   "metadata": {},
   "outputs": [],
   "source": [
    "df[\"NMR_const\"] = df[\" NMR [T]\"] - slope * df[corr_main] - intercept + df[\" NMR [T]\"].mean()"
   ]
  },
  {
   "cell_type": "code",
   "execution_count": null,
   "metadata": {},
   "outputs": [],
   "source": [
    "column = \"NMR_const\"\n",
    "fig1 = scatter2d(df.index,df[column],show_plot=False,inline=True)\n",
    "fig2 = histo(df[column],bins=50, autobin=False, horizontal=True,show_plot=False, inline=True)\n",
    "fig = make_subplots(rows=1, cols=2, column_widths=[0.7, 0.3], shared_yaxes=True)\n",
    "fig.add_trace(fig1.data[0], row=1, col=1)\n",
    "fig.add_trace(fig2.data[0], row=1, col=2)"
   ]
  },
  {
   "cell_type": "code",
   "execution_count": null,
   "metadata": {},
   "outputs": [],
   "source": [
    "fig.layout.title = \"NMR_const [T] vs. Datetime\"\n",
    "fig.layout.xaxis.title = \"Datetime\"\n",
    "fig.layout.yaxis.title = \"NMR_const [T]\""
   ]
  },
  {
   "cell_type": "code",
   "execution_count": null,
   "metadata": {},
   "outputs": [],
   "source": [
    "fname = 'scatter_hist_NMR_const'\n",
    "pio.write_image(fig, plotdir+fname+'.pdf')\n",
    "pio.write_image(fig, plotdir+fname+'.png')\n",
    "plot(fig, filename=plotdir+fname+'.html',auto_open=False)"
   ]
  },
  {
   "cell_type": "code",
   "execution_count": null,
   "metadata": {},
   "outputs": [],
   "source": []
  },
  {
   "cell_type": "code",
   "execution_count": null,
   "metadata": {},
   "outputs": [],
   "source": []
  },
  {
   "cell_type": "code",
   "execution_count": null,
   "metadata": {},
   "outputs": [],
   "source": [
    "column = \"NMR_const\"\n",
    "fig1 = scatter2d(df.index,df[column],show_plot=False,inline=True)\n",
    "fig2 = histo(df[column],bins=50, autobin=False, horizontal=True,show_plot=False, inline=True)\n",
    "fig = make_subplots(rows=1, cols=2, column_widths=[0.7, 0.3], shared_yaxes=True)\n",
    "fig.add_trace(fig1.data[0], row=1, col=1)\n",
    "fig.add_trace(fig2.data[0], row=1, col=2)\n",
    "fig.layout.yaxis.title = \"Corrected NMR (T)\"\n",
    "iplot(fig)"
   ]
  },
  {
   "cell_type": "code",
   "execution_count": null,
   "metadata": {},
   "outputs": [],
   "source": [
    "fig = scatter2d(2*[df[corr_main]],[df[\"NMR_const\"],line],lines=False,markers=True,size_list=[2,2],inline=True)"
   ]
  },
  {
   "cell_type": "code",
   "execution_count": null,
   "metadata": {},
   "outputs": [],
   "source": [
    "pio.write_image(fig,plotdir+f\"{filestart}_vs_nmr_fit_subtract.pdf\")\n",
    "pio.write_image(fig,plotdir+f\"{filestart}_vs_nmr_fit_subtract.png\")"
   ]
  },
  {
   "cell_type": "code",
   "execution_count": null,
   "metadata": {},
   "outputs": [],
   "source": [
    "fig = histo(df[\" NMR [T]\"],bins=50,autobin=False,inline=True);\n",
    "pio.write_image(fig,plotdir+f\"hist_NMR.pdf\")\n",
    "pio.write_image(fig,plotdir+f\"hist_NMR.png\")\n",
    "fig = histo(df[\"NMR_const\"],bins=50,autobin=False,inline=True);\n",
    "pio.write_image(fig,plotdir+f\"{filestart}_correction_nmr_hist.pdf\")\n",
    "pio.write_image(fig,plotdir+f\"{filestart}_correction_nmr_hist.png\")"
   ]
  },
  {
   "cell_type": "markdown",
   "metadata": {},
   "source": [
    "This looks nice. Let's try to remake the correlation plots on NMR_const."
   ]
  },
  {
   "cell_type": "code",
   "execution_count": null,
   "metadata": {},
   "outputs": [],
   "source": [
    "secondary_corr = dict()\n",
    "for col in df.columns:\n",
    "    if df[col].dtype == np.float64:\n",
    "        slope_v, intercept_v, r_value_v, p_value_v, std_err_v = stats.linregress(df[col], df[\"NMR_const\"])\n",
    "        #print(col,r_value_v,p_value_v,std_err_v)\n",
    "        secondary_corr[col] = r_value_v\n",
    "\n",
    "sorted_corr = sorted(secondary_corr.items(), key=operator.itemgetter(1))\n",
    "\n",
    "sorted_corr"
   ]
  },
  {
   "cell_type": "code",
   "execution_count": null,
   "metadata": {},
   "outputs": [],
   "source": [
    "for col in df.columns:\n",
    "    fig = color_scatter2d(df[col],df[\"NMR_const\"],df.ind,show_plot=False);\n",
    "    pio.write_image(fig,plotdir+f\"nmr_const_correlations/{col}_vs_nmr.pdf\")\n",
    "    pio.write_image(fig,plotdir+f\"nmr_const_correlations/{col}_vs_nmr.png\")"
   ]
  },
  {
   "cell_type": "markdown",
   "metadata": {},
   "source": [
    "The water temperature or maybe magnet voltage seem correlated now, except for a weird bit at the end. So we do a similar fit and subtract based on data with a time cut."
   ]
  },
  {
   "cell_type": "code",
   "execution_count": null,
   "metadata": {},
   "outputs": [],
   "source": [
    "#fit_var = \"Coil 1 (new)\"\n",
    "#fit_var = \" ICW He2 out\"\n",
    "#fit_var = \" CH15\"\n",
    "#fit_var = \" Magnet Current [V]\"\n",
    "#fit_var = \" LCW from PS\"\n",
    "fit_var = \" PS internal\"\n",
    "fig = color_scatter2d(df[fit_var],df[\"NMR_const\"],df.ind,show_plot=True);"
   ]
  },
  {
   "cell_type": "code",
   "execution_count": null,
   "metadata": {},
   "outputs": [],
   "source": [
    "#fit_var = \" Magnet Voltage [V]\"\n",
    "#t = df.ind < 3400\n",
    "#t = df.ind > 1500\n",
    "t = df.ind >= 0\n",
    "#fig = color_scatter2d(df[t][fit_var],df[t][\"NMR_const\"],df.ind,show_plot=True);"
   ]
  },
  {
   "cell_type": "code",
   "execution_count": null,
   "metadata": {},
   "outputs": [],
   "source": [
    "slope_v, intercept_v, r_value_v, p_value_v, std_err_v = stats.linregress(df[t][fit_var], df[t][\"NMR_const\"])"
   ]
  },
  {
   "cell_type": "code",
   "execution_count": null,
   "metadata": {},
   "outputs": [],
   "source": [
    "slope_v, intercept_v, r_value_v, p_value_v, std_err_v"
   ]
  },
  {
   "cell_type": "code",
   "execution_count": null,
   "metadata": {},
   "outputs": [],
   "source": [
    "line_v = slope_v * df[fit_var] + intercept_v"
   ]
  },
  {
   "cell_type": "code",
   "execution_count": null,
   "metadata": {},
   "outputs": [],
   "source": [
    "fig = scatter2d(2*[df[fit_var]],[df[\"NMR_const\"],line_v],lines=False,markers=True,size_list=[2,2],inline=True)"
   ]
  },
  {
   "cell_type": "code",
   "execution_count": null,
   "metadata": {},
   "outputs": [],
   "source": [
    "df[\"NMR_const_v\"] = df[\"NMR_const\"] - slope_v * df[fit_var] - intercept_v + df[\"NMR_const\"].mean()"
   ]
  },
  {
   "cell_type": "code",
   "execution_count": null,
   "metadata": {},
   "outputs": [],
   "source": [
    "#fig = scatter2d(2*[df[fit_var]],[df[\"NMR_const_v\"],line_v],lines=False,markers=True,size_list=[2,2],inline=True)"
   ]
  },
  {
   "cell_type": "code",
   "execution_count": null,
   "metadata": {},
   "outputs": [],
   "source": [
    "#fig = scatter2d(2*[df[\" Yoke\"]],[df[\"NMR_const\"],df[\"NMR_const_v\"]],lines=False,markers=True,size_list=[2,2],inline=True)"
   ]
  },
  {
   "cell_type": "code",
   "execution_count": null,
   "metadata": {},
   "outputs": [],
   "source": [
    "histo(df[\" NMR [T]\"],bins=50,autobin=False,inline=True);\n",
    "histo(df[\"NMR_const\"],bins=50,autobin=False,inline=True);\n",
    "histo(df[\"NMR_const_v\"],bins=50,autobin=False,inline=True);"
   ]
  },
  {
   "cell_type": "markdown",
   "metadata": {},
   "source": [
    "## Slope of changes\n",
    "- How quickly do the correlated temperatures change?"
   ]
  },
  {
   "cell_type": "code",
   "execution_count": null,
   "metadata": {},
   "outputs": [],
   "source": [
    "df.drop([\" \"],axis=1,inplace=True)"
   ]
  },
  {
   "cell_type": "code",
   "execution_count": null,
   "metadata": {},
   "outputs": [],
   "source": [
    "df.columns"
   ]
  },
  {
   "cell_type": "code",
   "execution_count": null,
   "metadata": {},
   "outputs": [],
   "source": [
    "col_float = [col for col in df.columns if df[col].dtype == np.float64]"
   ]
  },
  {
   "cell_type": "code",
   "execution_count": null,
   "metadata": {},
   "outputs": [],
   "source": [
    "col_float"
   ]
  },
  {
   "cell_type": "code",
   "execution_count": null,
   "metadata": {},
   "outputs": [],
   "source": [
    "len(col_float)"
   ]
  },
  {
   "cell_type": "code",
   "execution_count": null,
   "metadata": {},
   "outputs": [],
   "source": [
    "#temp = df[' Yoke']"
   ]
  },
  {
   "cell_type": "code",
   "execution_count": null,
   "metadata": {},
   "outputs": [],
   "source": [
    "slopes = df[col_float].apply(lambda x: np.polyfit(df.ind, x, 1)[0])"
   ]
  },
  {
   "cell_type": "code",
   "execution_count": null,
   "metadata": {},
   "outputs": [],
   "source": [
    "slopes"
   ]
  },
  {
   "cell_type": "code",
   "execution_count": null,
   "metadata": {},
   "outputs": [],
   "source": [
    "[df[\" NMR [T]\"][i+1] - row[\" NMR [T]\"] for i,row in enumerate(df.itertuples())]"
   ]
  },
  {
   "cell_type": "code",
   "execution_count": null,
   "metadata": {},
   "outputs": [],
   "source": []
  },
  {
   "cell_type": "code",
   "execution_count": null,
   "metadata": {},
   "outputs": [],
   "source": [
    "# smooth temperature"
   ]
  },
  {
   "cell_type": "code",
   "execution_count": null,
   "metadata": {},
   "outputs": [],
   "source": []
  },
  {
   "cell_type": "code",
   "execution_count": null,
   "metadata": {},
   "outputs": [],
   "source": []
  },
  {
   "cell_type": "code",
   "execution_count": null,
   "metadata": {},
   "outputs": [],
   "source": []
  },
  {
   "cell_type": "code",
   "execution_count": null,
   "metadata": {},
   "outputs": [],
   "source": [
    "df[\"Hall_smooth\"] = df[\" Hall Element\"].ewm(span = 10).mean()"
   ]
  },
  {
   "cell_type": "code",
   "execution_count": null,
   "metadata": {},
   "outputs": [],
   "source": [
    "t_outside = df[\"Desk Ambient\"].values\n",
    "t_inside2 = df[\" Hall Element\"].values\n",
    "t_inside = df[\" Yoke\"].values\n",
    "#t_inside2 = df[\" Floor\"].values"
   ]
  },
  {
   "cell_type": "code",
   "execution_count": null,
   "metadata": {},
   "outputs": [],
   "source": [
    "slope_inside = [t_inside[i+1]-t_inside[i] for i in range(len(t_inside)-1)]\n",
    "slope_inside_coarse = [(t_inside[i+5]-t_inside[i])/5 for i in range(len(t_inside)-5)]\n",
    "slope_inside_coarse = pd.Series(slope_inside,name=\"Inside Temp Change Coarse: Hall Element\")\n",
    "slope_inside.append(0)\n",
    "slope_inside = pd.Series(slope_inside,name=\"Inside Temp Change: Yoke\")\n",
    "slope_inside2 = [t_inside[i+1]-t_inside[i] for i in range(len(t_inside)-1)]\n",
    "slope_inside2.append(0)\n",
    "slope_inside2 = pd.Series(slope_inside2,name=\"Inside Temp Change: Hall Element\")"
   ]
  },
  {
   "cell_type": "code",
   "execution_count": null,
   "metadata": {},
   "outputs": [],
   "source": [
    "fig = scatter2d(df.iloc[2:-3].index, slope_inside_coarse, inline=True)"
   ]
  },
  {
   "cell_type": "code",
   "execution_count": null,
   "metadata": {},
   "outputs": [],
   "source": [
    "fig = scatter2d(df.index,slope_inside,inline=True);"
   ]
  },
  {
   "cell_type": "code",
   "execution_count": null,
   "metadata": {},
   "outputs": [],
   "source": [
    "pio.write_image(fig, plotdir+\"temp_change_Yoke.pdf\")\n",
    "pio.write_image(fig, plotdir+\"temp_change_Yoke.png\")"
   ]
  },
  {
   "cell_type": "code",
   "execution_count": null,
   "metadata": {},
   "outputs": [],
   "source": [
    "fig = scatter2d(df.index,slope_inside2,inline=True);"
   ]
  },
  {
   "cell_type": "code",
   "execution_count": null,
   "metadata": {},
   "outputs": [],
   "source": [
    "plot(fig)"
   ]
  },
  {
   "cell_type": "code",
   "execution_count": null,
   "metadata": {},
   "outputs": [],
   "source": [
    "pio.write_image(fig, plotdir+\"temp_change_Floor.pdf\")\n",
    "pio.write_image(fig, plotdir+\"temp_change_Floor.png\")"
   ]
  },
  {
   "cell_type": "code",
   "execution_count": null,
   "metadata": {},
   "outputs": [],
   "source": [
    "slope_outside = [t_outside[i+1]-t_outside[i] for i in range(len(t_outside)-1)]\n",
    "slope_outside.append(0)\n",
    "slope_outside = pd.Series(slope_outside,name=\"Outside Temp Change\")"
   ]
  },
  {
   "cell_type": "code",
   "execution_count": null,
   "metadata": {},
   "outputs": [],
   "source": [
    "fig = scatter2d(df.index,slope_outside,inline=True);"
   ]
  },
  {
   "cell_type": "code",
   "execution_count": null,
   "metadata": {},
   "outputs": [],
   "source": [
    "pio.write_image(fig, plotdir+\"temp_change_Desk.pdf\")\n",
    "pio.write_image(fig, plotdir+\"temp_change_Desk.png\")"
   ]
  },
  {
   "cell_type": "code",
   "execution_count": null,
   "metadata": {},
   "outputs": [],
   "source": [
    "fig = histo(slope_inside,bins=50,autobin=False,xlabel=\"dT/dt (deg / min)\",inline=True);\n",
    "pio.write_image(fig, plotdir+\"hist_temp_change_Yoke.pdf\")\n",
    "pio.write_image(fig, plotdir+\"hist_temp_change_Yoke.png\")\n",
    "fig = histo(slope_inside2,bins=50,autobin=False,xlabel=\"dT/dt (deg / min)\",inline=True);\n",
    "pio.write_image(fig, plotdir+\"hist_temp_change_Floor.pdf\")\n",
    "pio.write_image(fig, plotdir+\"hist_temp_change_Floor.png\")\n",
    "fig = histo(slope_outside,bins=50,autobin=False,xlabel=\"dT/dt (deg / min)\",inline=True);\n",
    "pio.write_image(fig, plotdir+\"hist_temp_change_Desk.pdf\")\n",
    "pio.write_image(fig, plotdir+\"hist_temp_change_Desk.png\")"
   ]
  },
  {
   "cell_type": "code",
   "execution_count": null,
   "metadata": {},
   "outputs": [],
   "source": [
    "df[\"NMR_smooth\"] = df[\" NMR [T]\"].ewm(span = 10).mean()"
   ]
  },
  {
   "cell_type": "code",
   "execution_count": null,
   "metadata": {},
   "outputs": [],
   "source": [
    "nmr = df[\" NMR [T]\"].values\n",
    "nmr_smooth = df[\"NMR_smooth\"].values\n",
    "\n",
    "#slope_nmr = [nmr[i+1]-nmr[i] for i in range(len(nmr)-1)]\n",
    "slope_nmr = [(nmr[i+1]-nmr[i]) / (df.index[i+1] - df.index[i]).seconds * 60 for i in range(len(nmr)-1)]\n",
    "slope_nmr_smooth = [(nmr_smooth[i+1]-nmr_smooth[i]) / (df.index[i+1] - df.index[i]).seconds * 60 for i in range(len(nmr_smooth)-1)]\n",
    "\n",
    "\n",
    "slope_nmr.append(0)\n",
    "slope_nmr = pd.Series(slope_nmr,name=\"NMR Change\")\n",
    "\n",
    "slope_nmr_smooth.append(0)\n",
    "slope_nmr_smooth = pd.Series(slope_nmr_smooth,name=\"NMR (smoothed) Change\")"
   ]
  },
  {
   "cell_type": "code",
   "execution_count": null,
   "metadata": {},
   "outputs": [],
   "source": [
    "fig = scatter2d(df.index, df[\" NMR [T]\"])"
   ]
  },
  {
   "cell_type": "code",
   "execution_count": null,
   "metadata": {},
   "outputs": [],
   "source": []
  },
  {
   "cell_type": "code",
   "execution_count": null,
   "metadata": {},
   "outputs": [],
   "source": [
    "#subset['Close'].ewm(span = 3600).mean()\n",
    "fig = scatter2d(2*[df.index], [df[\" NMR [T]\"], df[\" NMR [T]\"].ewm(span = 30).mean()],inline=True)"
   ]
  },
  {
   "cell_type": "code",
   "execution_count": null,
   "metadata": {},
   "outputs": [],
   "source": [
    "fig = scatter2d(df.index,slope_nmr,inline=True);\n",
    "fig = scatter2d(df.index,slope_nmr_smooth,inline=True);"
   ]
  },
  {
   "cell_type": "code",
   "execution_count": null,
   "metadata": {},
   "outputs": [],
   "source": [
    "fig = histo(slope_nmr,xlabel=\"dB/dt (T / min.)\", bins=50,yscale='log',autobin=False,inline=True);\n",
    "fig = histo(slope_nmr_smooth,xlabel=\"Smoothed dB/dt (T / min.)\", bins=50,yscale='log',autobin=False,inline=True);"
   ]
  },
  {
   "cell_type": "code",
   "execution_count": null,
   "metadata": {},
   "outputs": [],
   "source": [
    "fig = histo(slope_nmr,xlabel=\"dB/dt (T / min.)\", bins=50,yscale='log',autobin=False,inline=True);"
   ]
  },
  {
   "cell_type": "code",
   "execution_count": null,
   "metadata": {},
   "outputs": [],
   "source": [
    "pio.write_image(fig, plotdir+\"nmr_change.pdf\")\n",
    "pio.write_image(fig, plotdir+\"nmr_change.png\")"
   ]
  },
  {
   "cell_type": "code",
   "execution_count": null,
   "metadata": {},
   "outputs": [],
   "source": [
    "slope_nmr.autocorr()"
   ]
  },
  {
   "cell_type": "code",
   "execution_count": null,
   "metadata": {},
   "outputs": [],
   "source": [
    "pd.plotting.autocorrelation_plottslope_nmrrrelation_plot(slope_nmr)"
   ]
  },
  {
   "cell_type": "code",
   "execution_count": null,
   "metadata": {},
   "outputs": [],
   "source": [
    "pd.plotting.autocorrelation_plot(df[\" NMR [T]\"])"
   ]
  },
  {
   "cell_type": "code",
   "execution_count": null,
   "metadata": {},
   "outputs": [],
   "source": [
    "#pd.TimedeltaIndex(df.index[100],df.index[99])\n",
    "(df.index[100] - df.index[99]).seconds"
   ]
  },
  {
   "cell_type": "code",
   "execution_count": null,
   "metadata": {},
   "outputs": [],
   "source": [
    "td.seconds"
   ]
  },
  {
   "cell_type": "markdown",
   "metadata": {},
   "source": [
    "## Correlation Desk Ambient x 2"
   ]
  },
  {
   "cell_type": "code",
   "execution_count": null,
   "metadata": {},
   "outputs": [],
   "source": [
    "sorted(df.columns)"
   ]
  },
  {
   "cell_type": "code",
   "execution_count": null,
   "metadata": {},
   "outputs": [],
   "source": [
    "corr_main = \"Desk Ambient\"\n",
    "corr_y = \" Spare Ambient on desk\"\n",
    "\n",
    "#corr_main = ' Chamber Wall CH14'\n",
    "#corr_y = ' Chamber Wall CH15'\n",
    "\n",
    "#corr_main = ' Yoke'\n",
    "#corr_y = ' NMR [T]'\n",
    "\n",
    "\n",
    "filestart = corr_main.strip().lower()\n",
    "\n",
    "#slope, intercept, r_value, p_value, std_err = stats.linregress(df[\" Yoke\"], df[\" NMR [T]\"])\n",
    "slope, intercept, r_value, p_value, std_err = stats.linregress(df[corr_main], df[corr_y])\n",
    "\n",
    "slope, intercept, r_value, p_value, std_err"
   ]
  },
  {
   "cell_type": "code",
   "execution_count": null,
   "metadata": {},
   "outputs": [],
   "source": [
    "line = slope * df[corr_main] + intercept\n",
    "\n",
    "fig = scatter2d([df[corr_main],df[corr_main]],[df[corr_y],line],\n",
    "                lines=False,markers=True,size_list=[2,2],show_plot=False,inline=True)"
   ]
  },
  {
   "cell_type": "code",
   "execution_count": null,
   "metadata": {},
   "outputs": [],
   "source": [
    "fig.update_layout(\n",
    "    showlegend=False,\n",
    "    annotations=[\n",
    "        go.layout.Annotation(\n",
    "            x=(df[corr_main].max()+df[corr_main].min())/2,\n",
    "            y=(df[corr_y].max()+df[corr_y].min())/2,\n",
    "            #xref=\"x\",\n",
    "            #yref=\"y\",\n",
    "            text=f\"y = {slope:.3f} * x + {intercept:.3f}\",\n",
    "            #text=f\"y = {slope:.3E} * x + {intercept:.3f}\",\n",
    "            #showarrow=False,\n",
    "            font=dict(\n",
    "                family=\"Courier New, monospace\",\n",
    "                size=16,\n",
    "                color=\"#ffffff\"\n",
    "            ),\n",
    "            align=\"center\",\n",
    "            #arrowhead=2,\n",
    "            #arrowsize=1,\n",
    "            #arrowwidth=2,\n",
    "            #arrowcolor=\"#636363\",\n",
    "            ax=-200,\n",
    "            ay=-100,\n",
    "            bordercolor=\"#c7c7c7\",\n",
    "            borderwidth=2,\n",
    "            borderpad=4,\n",
    "            bgcolor=\"#483366\",\n",
    "            opacity=0.8\n",
    "        )\n",
    "    ]\n",
    ");\n"
   ]
  },
  {
   "cell_type": "code",
   "execution_count": null,
   "metadata": {},
   "outputs": [],
   "source": [
    "pio.write_image(fig,plotdir+f\"{filestart}_vs_{corr_y.strip().lower()}_fit.pdf\")\n",
    "pio.write_image(fig,plotdir+f\"{filestart}_vs_{corr_y.strip().lower()}_fit.png\")"
   ]
  },
  {
   "cell_type": "code",
   "execution_count": null,
   "metadata": {},
   "outputs": [],
   "source": []
  },
  {
   "cell_type": "code",
   "execution_count": null,
   "metadata": {},
   "outputs": [],
   "source": [
    "df[\"NMR_const\"] = df[\" NMR [T]\"] - slope * df[corr_main] - intercept + df[\" NMR [T]\"].mean()\n",
    "\n",
    "fig = scatter2d(2*[df[corr_main]],[df[\"NMR_const\"],line],lines=False,markers=True,size_list=[2,2],inline=True)\n",
    "\n",
    "pio.write_image(fig,plotdir+f\"{filestart}_vs_nmr_fit_subtract.pdf\")\n",
    "pio.write_image(fig,plotdir+f\"{filestart}_vs_nmr_fit_subtract.png\")\n",
    "\n",
    "fig = histo(df[\" NMR [T]\"],bins=50,autobin=False,inline=True);\n",
    "pio.write_image(fig,plotdir+f\"hist_NMR.pdf\")\n",
    "pio.write_image(fig,plotdir+f\"hist_NMR.png\")\n",
    "fig = histo(df[\"NMR_const\"],bins=50,autobin=False,inline=True);\n",
    "pio.write_image(fig,plotdir+f\"{filestart}_correction_nmr_hist.pdf\")\n",
    "pio.write_image(fig,plotdir+f\"{filestart}_correction_nmr_hist.png\")"
   ]
  },
  {
   "cell_type": "code",
   "execution_count": null,
   "metadata": {},
   "outputs": [],
   "source": []
  },
  {
   "cell_type": "code",
   "execution_count": null,
   "metadata": {},
   "outputs": [],
   "source": []
  },
  {
   "cell_type": "code",
   "execution_count": null,
   "metadata": {},
   "outputs": [],
   "source": []
  },
  {
   "cell_type": "code",
   "execution_count": null,
   "metadata": {},
   "outputs": [],
   "source": [
    "fig = scatter2d(df_full[::10].index, df_full[\" Parameter HVAC sensor\"][::10], inline=True)"
   ]
  },
  {
   "cell_type": "code",
   "execution_count": null,
   "metadata": {},
   "outputs": [],
   "source": [
    "df[\" Magnet Current [A]\"].describe()"
   ]
  },
  {
   "cell_type": "code",
   "execution_count": null,
   "metadata": {},
   "outputs": [],
   "source": [
    "df[\" NMR [T]\"].describe()"
   ]
  },
  {
   "cell_type": "code",
   "execution_count": null,
   "metadata": {},
   "outputs": [],
   "source": [
    "fig = histo(df[\" Magnet Current [A]\"],xlabel=\"Current (A)\", bins=50, autobin=False, inline=True)"
   ]
  },
  {
   "cell_type": "code",
   "execution_count": null,
   "metadata": {},
   "outputs": [],
   "source": [
    "filename"
   ]
  },
  {
   "cell_type": "code",
   "execution_count": null,
   "metadata": {},
   "outputs": [],
   "source": [
    "df_full.index[-1]"
   ]
  },
  {
   "cell_type": "code",
   "execution_count": null,
   "metadata": {},
   "outputs": [],
   "source": [
    "df.index[-1]"
   ]
  },
  {
   "cell_type": "code",
   "execution_count": null,
   "metadata": {},
   "outputs": [],
   "source": []
  },
  {
   "cell_type": "code",
   "execution_count": null,
   "metadata": {},
   "outputs": [],
   "source": []
  },
  {
   "cell_type": "code",
   "execution_count": null,
   "metadata": {},
   "outputs": [],
   "source": []
  },
  {
   "cell_type": "markdown",
   "metadata": {},
   "source": [
    "## Smoothing + Change in Time\n",
    "- Sandor pointed out in FMS #58 that a noisy signal is not good for doing point by point derivative estimate\n",
    "- Instead smooth the data and then do the calculation."
   ]
  },
  {
   "cell_type": "code",
   "execution_count": null,
   "metadata": {},
   "outputs": [],
   "source": [
    "col_float = [col for col in df.columns if df[col].dtype == np.float64]"
   ]
  },
  {
   "cell_type": "code",
   "execution_count": null,
   "metadata": {},
   "outputs": [],
   "source": [
    "'''temps_ch = [a for a in df.columns if (\"CH\" in a) and int(a[-2:])<21]# or \"HVAC\" in a]\n",
    "temps_ch.append(\" Hall Element\")\n",
    "temps_ch.append(\" Floor\")\n",
    "temps_ch.append(\" Roof\")\n",
    "temps_ch.append(\" Yoke\")\n",
    "temps_ch.append(\"Yoke (center magnet)\")'''"
   ]
  },
  {
   "cell_type": "code",
   "execution_count": null,
   "metadata": {},
   "outputs": [],
   "source": [
    "# Example of smoothing\n",
    "N = 60\n",
    "col =  \" Hall Element\" # \" Chamber Wall CH13\" # \" NMR [T]\"\n",
    "fig = scatter2d(2*[df.index], [df[col], df[col].rolling(window = N).mean()],inline=True)\n",
    "fig = scatter2d([df.index], [df[col] - df[col].rolling(window = N).mean()],inline=True)\n",
    "fig = histo(df[col] - df[col].rolling(window = N).mean(),xlabel=f\"d{col} / dt (1 / min.)\", bins=50,yscale='linear',autobin=False,show_plot=True,inline=True);"
   ]
  },
  {
   "cell_type": "code",
   "execution_count": null,
   "metadata": {},
   "outputs": [],
   "source": []
  },
  {
   "cell_type": "code",
   "execution_count": null,
   "metadata": {},
   "outputs": [],
   "source": [
    "N =  15 # 30 # 15 # window size\n",
    "\n",
    "for col in [\" Hall Element\"]:#col_float:\n",
    "    notsmooth = df[col]\n",
    "    smooth = df[col].rolling(window = N).mean()\n",
    "    \n",
    "    slope = [(smooth[i+1]-smooth[i]) / (df.index[i+1] - df.index[i]).seconds * 60 for i in range(len(smooth)-1)]\n",
    "    slope.append(0)\n",
    "    slope = pd.Series(slope,name=f\"{col} Change <br> (smoothed, window = {N} min.)\")\n",
    "    \n",
    "    slope2 = [(notsmooth[i+1]-notsmooth[i]) / (df.index[i+1] - df.index[i]).seconds * 60 for i in range(len(notsmooth)-1)]\n",
    "    slope2.append(0)\n",
    "    slope2 = pd.Series(slope2,name=f\"{col} Change <br> (not smoothed)\")\n",
    "    \n",
    "    fig = scatter2d(df.index, slope, show_plot=False, inline=True)\n",
    "    pio.write_image(fig, plotdir+f\"smoothed/time/{col}_change_smooth.pdf\")\n",
    "    pio.write_image(fig, plotdir+f\"smoothed/time/{col}_change_smooth.png\")\n",
    "    fig = histo(slope,xlabel=f\"d{col} / dt (1 / min.)\", bins=50,yscale='log',autobin=False,show_plot=True,inline=True);\n",
    "    pio.write_image(fig, plotdir+f\"smoothed/hist/hist_{col}_change_smooth.pdf\")\n",
    "    pio.write_image(fig, plotdir+f\"smoothed/hist/hist_{col}_change_smooth.png\")\n",
    "    fig = histo(slope2,xlabel=f\"d{col} / dt (1 / min.)\", bins=50,yscale='log',autobin=False,show_plot=True,inline=True);"
   ]
  },
  {
   "cell_type": "code",
   "execution_count": null,
   "metadata": {},
   "outputs": [],
   "source": []
  },
  {
   "cell_type": "code",
   "execution_count": null,
   "metadata": {},
   "outputs": [],
   "source": []
  },
  {
   "cell_type": "code",
   "execution_count": null,
   "metadata": {},
   "outputs": [],
   "source": []
  },
  {
   "cell_type": "code",
   "execution_count": null,
   "metadata": {},
   "outputs": [],
   "source": [
    "fig = scatter2d()"
   ]
  }
 ],
 "metadata": {
  "kernelspec": {
   "display_name": "Python [conda env:Mu2E]",
   "language": "python",
   "name": "conda-env-Mu2E-py"
  },
  "language_info": {
   "codemirror_mode": {
    "name": "ipython",
    "version": 3
   },
   "file_extension": ".py",
   "mimetype": "text/x-python",
   "name": "python",
   "nbconvert_exporter": "python",
   "pygments_lexer": "ipython3",
   "version": "3.7.4"
  }
 },
 "nbformat": 4,
 "nbformat_minor": 2
}
