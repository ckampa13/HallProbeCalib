{
 "cells": [
  {
   "cell_type": "markdown",
   "metadata": {},
   "source": [
    "## Imports"
   ]
  },
  {
   "cell_type": "code",
   "execution_count": 1,
   "metadata": {},
   "outputs": [],
   "source": [
    "%load_ext autoreload\n",
    "%autoreload 2"
   ]
  },
  {
   "cell_type": "code",
   "execution_count": 14,
   "metadata": {},
   "outputs": [
    {
     "data": {
      "text/html": [
       "        <script type=\"text/javascript\">\n",
       "        window.PlotlyConfig = {MathJaxConfig: 'local'};\n",
       "        if (window.MathJax) {MathJax.Hub.Config({SVG: {font: \"STIX-Web\"}});}\n",
       "        if (typeof require !== 'undefined') {\n",
       "        require.undef(\"plotly\");\n",
       "        requirejs.config({\n",
       "            paths: {\n",
       "                'plotly': ['https://cdn.plot.ly/plotly-latest.min']\n",
       "            }\n",
       "        });\n",
       "        require(['plotly'], function(Plotly) {\n",
       "            window._Plotly = Plotly;\n",
       "        });\n",
       "        }\n",
       "        </script>\n",
       "        "
      ]
     },
     "metadata": {},
     "output_type": "display_data"
    }
   ],
   "source": [
    "import numpy as np\n",
    "import pandas as pd\n",
    "import pickle as pkl\n",
    "from datetime import datetime\n",
    "from dateutil import parser\n",
    "from datetime import datetime\n",
    "from sys import getsizeof\n",
    "import re\n",
    "\n",
    "import operator\n",
    "from scipy import stats\n",
    "\n",
    "import matplotlib.pyplot as plt\n",
    "from mpl_toolkits.mplot3d import Axes3D\n",
    "%matplotlib inline\n",
    "plt.rcParams['figure.figsize'] = (12.0, 8.0)\n",
    "plt.rcParams['axes.axisbelow'] = True\n",
    "\n",
    "from plotly.offline import init_notebook_mode, plot, iplot\n",
    "import plotly.graph_objs as go\n",
    "import plotly.io as pio\n",
    "from plotly.subplots import make_subplots\n",
    "import plotly.express as px\n",
    "init_notebook_mode(True)\n",
    "\n",
    "import seaborn as sns\n",
    "\n",
    "from wand.image import Image as WImage\n",
    "\n",
    "from hallprobecalib import hpc_ext_path\n",
    "from hallprobecalib.hpcplots import scatter2d,scatter3d,histo,py_profile"
   ]
  },
  {
   "cell_type": "code",
   "execution_count": 4,
   "metadata": {},
   "outputs": [],
   "source": [
    "plotdir = hpc_ext_path+'plots/hall_probe_stability/2019-09-04/'"
   ]
  },
  {
   "cell_type": "code",
   "execution_count": 5,
   "metadata": {},
   "outputs": [],
   "source": [
    "pkl_dir = hpc_ext_path+\"datafiles/hall_probe_stability/\"\n",
    "pkl_file_slow = \"hall_stability.run04.raw.slow.pkl\"\n",
    "pkl_file_fast = \"hall_stability.run04.raw.fast.pkl\"\n",
    "pkl_file_fast_sparse = \"hall_stability.run04.sparse.fast.pkl\""
   ]
  },
  {
   "cell_type": "code",
   "execution_count": 6,
   "metadata": {},
   "outputs": [],
   "source": [
    "df_slow = pd.read_pickle(pkl_dir+pkl_file_slow)"
   ]
  },
  {
   "cell_type": "code",
   "execution_count": 7,
   "metadata": {},
   "outputs": [],
   "source": [
    "df_fast = pd.read_pickle(pkl_dir+pkl_file_fast)\n",
    "#df_fast_sparse = pd.read_pickle(pkl_dir+pkl_file_fast_sparse)"
   ]
  },
  {
   "cell_type": "code",
   "execution_count": null,
   "metadata": {},
   "outputs": [],
   "source": [
    "df_fast['seconds_delta'].iloc[60:75]"
   ]
  },
  {
   "cell_type": "code",
   "execution_count": null,
   "metadata": {},
   "outputs": [],
   "source": [
    "df_slow['seconds_delta'].head(10)"
   ]
  },
  {
   "cell_type": "code",
   "execution_count": 15,
   "metadata": {},
   "outputs": [],
   "source": [
    "def pplot(fig):\n",
    "    pio.write_image(fig, 'temp.pdf')\n",
    "    img = WImage(filename='temp.pdf')\n",
    "    return img"
   ]
  },
  {
   "cell_type": "markdown",
   "metadata": {
    "heading_collapsed": true
   },
   "source": [
    "## Cleaning"
   ]
  },
  {
   "cell_type": "code",
   "execution_count": null,
   "metadata": {
    "hidden": true
   },
   "outputs": [],
   "source": [
    "directory = \"/home/ckampa/Dropbox/LogFiles/\"#hpc_ext_path+'datafiles/magnet_stability/nmr/'\n",
    "filename_slow = '2019-09-04 080031slow.txt' #'2019-08-23 162051slow.txt' # first file stopped Hall probe readings again\n",
    "filename_fast = '2019-09-04 080000.txt'"
   ]
  },
  {
   "cell_type": "code",
   "execution_count": null,
   "metadata": {
    "hidden": true
   },
   "outputs": [],
   "source": [
    "fast_cols_init = [\"Date\", \"Time\", \n",
    "                  \"1\", \"1_Bx\", \"1_By\", \"1_Bz\", \"1_T\",\n",
    "                  \"2\", \"2_Bx\", \"2_By\", \"2_Bz\", \"2_T\",\n",
    "                  \"3\", \"3_Bx\", \"3_By\", \"3_Bz\", \"3_T\",]\n",
    "                  #\"4\", \"4_Bx\", \"4_By\", \"4_Bz\", \"4_T\",\n",
    "                  #\"5\", \"5_Bx\", \"5_By\", \"5_Bz\", \"5_T\",\n",
    "                  #\"6\", \"6_Bx\", \"6_By\", \"6_Bz\", \"6_T\",]"
   ]
  },
  {
   "cell_type": "code",
   "execution_count": null,
   "metadata": {
    "hidden": true
   },
   "outputs": [],
   "source": [
    "df_slow = pd.read_csv(directory+filename_slow)"
   ]
  },
  {
   "cell_type": "code",
   "execution_count": null,
   "metadata": {
    "hidden": true
   },
   "outputs": [],
   "source": [
    "df_slow"
   ]
  },
  {
   "cell_type": "code",
   "execution_count": null,
   "metadata": {
    "code_folding": [],
    "hidden": true
   },
   "outputs": [],
   "source": [
    "#df_fast = pd.read_csv(directory+filename_fast, skiprows=7, delim_whitespace=True)#, names=fast_cols_init)"
   ]
  },
  {
   "cell_type": "code",
   "execution_count": null,
   "metadata": {
    "hidden": true
   },
   "outputs": [],
   "source": [
    "#len(df_fast.columns)"
   ]
  },
  {
   "cell_type": "code",
   "execution_count": null,
   "metadata": {
    "hidden": true
   },
   "outputs": [],
   "source": [
    "# skipping many lines from first attempt which failed\n",
    "df_fast = pd.read_csv(directory+filename_fast, skiprows=15, delim_whitespace=True, names=fast_cols_init)"
   ]
  },
  {
   "cell_type": "code",
   "execution_count": null,
   "metadata": {
    "hidden": true
   },
   "outputs": [],
   "source": [
    "df_fast.head()"
   ]
  },
  {
   "cell_type": "code",
   "execution_count": null,
   "metadata": {
    "hidden": true
   },
   "outputs": [],
   "source": [
    "len(df_fast)"
   ]
  },
  {
   "cell_type": "code",
   "execution_count": null,
   "metadata": {
    "hidden": true
   },
   "outputs": [],
   "source": [
    "for col in df_fast.columns:\n",
    "    #print(df_fast[col].dtype)\n",
    "    if type(df_fast[col].iloc[0]) is np.float64:\n",
    "        print(f\"{col}: mean: {df_fast[col].mean()}\")"
   ]
  },
  {
   "cell_type": "markdown",
   "metadata": {
    "hidden": true
   },
   "source": [
    "Looks like maybe probe #3 is in the field"
   ]
  },
  {
   "cell_type": "markdown",
   "metadata": {
    "heading_collapsed": true,
    "hidden": true
   },
   "source": [
    "### Cleaning Fast Data Set"
   ]
  },
  {
   "cell_type": "code",
   "execution_count": null,
   "metadata": {
    "hidden": true
   },
   "outputs": [],
   "source": [
    "df_fast.head(1)"
   ]
  },
  {
   "cell_type": "code",
   "execution_count": null,
   "metadata": {
    "hidden": true
   },
   "outputs": [],
   "source": [
    "df_fast.tail(1)"
   ]
  },
  {
   "cell_type": "code",
   "execution_count": null,
   "metadata": {
    "hidden": true,
    "scrolled": true
   },
   "outputs": [],
   "source": [
    "df_slow.head(1)"
   ]
  },
  {
   "cell_type": "code",
   "execution_count": null,
   "metadata": {
    "hidden": true
   },
   "outputs": [],
   "source": [
    "#df_fast"
   ]
  },
  {
   "cell_type": "code",
   "execution_count": null,
   "metadata": {
    "hidden": true
   },
   "outputs": [],
   "source": [
    "'''fast_cols_init = [\"Date\", \"Time\", \n",
    "                  \"1\", \"1_Bx\", \"1_By\", \"1_Bz\", \"1_T\",\n",
    "                  \"2\", \"2_Bx\", \"2_By\", \"2_Bz\", \"2_T\",\n",
    "                  \"3\", \"3_Bx\", \"3_By\", \"3_Bz\", \"3_T\",\n",
    "                  \"4\", \"4_Bx\", \"4_By\", \"4_Bz\", \"4_T\",\n",
    "                  \"5\", \"5_Bx\", \"5_By\", \"5_Bz\", \"5_T\",]''';"
   ]
  },
  {
   "cell_type": "code",
   "execution_count": null,
   "metadata": {
    "hidden": true
   },
   "outputs": [],
   "source": [
    "#len(fast_cols_init)"
   ]
  },
  {
   "cell_type": "code",
   "execution_count": null,
   "metadata": {
    "hidden": true
   },
   "outputs": [],
   "source": [
    "#len(df_fast.columns)"
   ]
  },
  {
   "cell_type": "code",
   "execution_count": null,
   "metadata": {
    "hidden": true
   },
   "outputs": [],
   "source": [
    "# raw values on every other line....\n",
    "df_fast_cal = df_fast[::2]\n",
    "df_fast_raw = df_fast[1::2]"
   ]
  },
  {
   "cell_type": "code",
   "execution_count": null,
   "metadata": {
    "hidden": true
   },
   "outputs": [],
   "source": [
    "df_fast_cal.reset_index(drop=True, inplace=True)\n",
    "df_fast_raw.reset_index(drop=True, inplace=True)"
   ]
  },
  {
   "cell_type": "code",
   "execution_count": null,
   "metadata": {
    "hidden": true
   },
   "outputs": [],
   "source": [
    "#df_fast_cal"
   ]
  },
  {
   "cell_type": "code",
   "execution_count": null,
   "metadata": {
    "hidden": true
   },
   "outputs": [],
   "source": [
    "#df_fast_raw"
   ]
  },
  {
   "cell_type": "code",
   "execution_count": null,
   "metadata": {
    "hidden": true
   },
   "outputs": [],
   "source": [
    "#dates = [parser.parse(row.Date+\" \"+row.Time[:-4]) for row in df_fast_cal.itertuples()]\n",
    "dates = [datetime.strptime(row.Date+\" \"+row.Time, \"%Y-%m-%d %H:%M:%S:%f\") for row in df_fast_cal.itertuples()]"
   ]
  },
  {
   "cell_type": "code",
   "execution_count": null,
   "metadata": {
    "hidden": true
   },
   "outputs": [],
   "source": [
    "df_fast_cal[\"Datetime\"] = pd.to_datetime(dates)\n",
    "df_fast_cal = df_fast_cal.set_index(\"Datetime\")"
   ]
  },
  {
   "cell_type": "code",
   "execution_count": null,
   "metadata": {
    "hidden": true
   },
   "outputs": [],
   "source": [
    "#dates = [parser.parse(row.Date+\" \"+row.Time[:-4]) for row in df_fast_cal.itertuples()]\n",
    "dates = [datetime.strptime(row.Date[1:]+\" \"+row.Time, \"%Y-%m-%d %H:%M:%S:%f\") for row in df_fast_raw.itertuples()]"
   ]
  },
  {
   "cell_type": "code",
   "execution_count": null,
   "metadata": {
    "hidden": true
   },
   "outputs": [],
   "source": [
    "df_fast_raw[\"Datetime\"] = pd.to_datetime(dates)\n",
    "df_fast_raw = df_fast_raw.set_index(\"Datetime\")"
   ]
  },
  {
   "cell_type": "code",
   "execution_count": null,
   "metadata": {
    "hidden": true
   },
   "outputs": [],
   "source": [
    "df_fast_raw.drop(columns=[\"Date\",\"Time\"], inplace=True)"
   ]
  },
  {
   "cell_type": "code",
   "execution_count": null,
   "metadata": {
    "hidden": true
   },
   "outputs": [],
   "source": [
    "df_fast_cal.drop(columns=[\"Date\",\"Time\"], inplace=True)"
   ]
  },
  {
   "cell_type": "code",
   "execution_count": null,
   "metadata": {
    "hidden": true
   },
   "outputs": [],
   "source": [
    "raw_col_dict = {i: \"Raw_\"+i for i in df_fast_raw.columns}\n",
    "cal_col_dict = {i: \"Cal_\"+i for i in df_fast_cal.columns}"
   ]
  },
  {
   "cell_type": "code",
   "execution_count": null,
   "metadata": {
    "hidden": true
   },
   "outputs": [],
   "source": [
    "df_fast_cal.rename(columns=cal_col_dict, inplace=True)\n",
    "df_fast_raw.rename(columns=raw_col_dict, inplace=True)"
   ]
  },
  {
   "cell_type": "code",
   "execution_count": null,
   "metadata": {
    "hidden": true
   },
   "outputs": [],
   "source": [
    "df_fast = pd.concat([df_fast_cal, df_fast_raw], axis=1)"
   ]
  },
  {
   "cell_type": "code",
   "execution_count": null,
   "metadata": {
    "hidden": true
   },
   "outputs": [],
   "source": [
    "len(df_fast)"
   ]
  },
  {
   "cell_type": "markdown",
   "metadata": {
    "heading_collapsed": true,
    "hidden": true
   },
   "source": [
    "### Slow Control Data Cleaning"
   ]
  },
  {
   "cell_type": "code",
   "execution_count": null,
   "metadata": {
    "hidden": true
   },
   "outputs": [],
   "source": [
    "dates = [parser.parse(row.Time) for row in df_slow.itertuples()]# if isdatetime(row.Time.values[0])]"
   ]
  },
  {
   "cell_type": "code",
   "execution_count": null,
   "metadata": {
    "hidden": true
   },
   "outputs": [],
   "source": [
    "df_slow[\"Datetime\"] = pd.to_datetime(dates)#.astype(\"str\")\n",
    "df_slow = df_slow.set_index(\"Datetime\")"
   ]
  },
  {
   "cell_type": "markdown",
   "metadata": {
    "hidden": true
   },
   "source": [
    "There is no Hall probe data."
   ]
  },
  {
   "cell_type": "code",
   "execution_count": null,
   "metadata": {
    "hidden": true
   },
   "outputs": [],
   "source": [
    "df_fast = df_fast.loc[:df_slow.index[-1]]"
   ]
  },
  {
   "cell_type": "code",
   "execution_count": null,
   "metadata": {
    "hidden": true
   },
   "outputs": [],
   "source": [
    "df_fast.tail(1)"
   ]
  },
  {
   "cell_type": "code",
   "execution_count": null,
   "metadata": {
    "hidden": true
   },
   "outputs": [],
   "source": [
    "## THIS STEP TAKES A LONG TIME\n",
    "df_fast.loc[:,\"NMR\"] = [df_slow.iloc[df_slow.index.get_loc(row, method='nearest')][\" NMR [T]\"] for row in df_fast.index]"
   ]
  },
  {
   "cell_type": "code",
   "execution_count": null,
   "metadata": {
    "code_folding": [],
    "hidden": true
   },
   "outputs": [],
   "source": [
    "for i in range(1,4):\n",
    "    df_fast.eval(f\"Cal_{i}_Bmag = (Cal_{i}_Bx**2+Cal_{i}_By**2+Cal_{i}_Bz**2)**(1/2)\", inplace=True)\n",
    "    df_fast.eval(f\"Cal_{i}_Res = (NMR - Cal_{i}_Bmag)\", inplace=True)\n",
    "    df_fast.eval(f\"Cal_{i}_Res_Rel = (NMR - Cal_{i}_Bmag) / NMR\", inplace=True)\n",
    "\n",
    "for i in range(1,4):\n",
    "    for B in [\"Bx\",\"By\",\"Bz\"]:\n",
    "        #df_fast.eval(f\"Cal_{i}_Bmag = (Cal_{i}_Bx**2+Cal_{i}_By**2+Cal_{i}_Bz**2)**(1/2)\", inplace=True)\n",
    "        df_fast.eval(f\"Cal_{i}_{B}_Res = (NMR - Cal_{i}_{B})\", inplace=True)\n",
    "        df_fast.eval(f\"Cal_{i}_{B}_Res_Rel = (NMR - Cal_{i}_{B}) / NMR\", inplace=True)\n",
    "\n",
    "\n",
    "t0 = pd.to_timedelta(df_fast.index.values)[0] / pd.offsets.Second(1)\n",
    "\n",
    "df_fast[\"seconds_delta\"] = pd.to_timedelta(df_fast.index.values) / pd.offsets.Second(1) - t0#1565697533.416\n",
    "df_slow[\"seconds_delta\"] = pd.to_timedelta(df_slow.index.values) / pd.offsets.Second(1) - t0#1565697533.416"
   ]
  },
  {
   "cell_type": "code",
   "execution_count": null,
   "metadata": {
    "hidden": true
   },
   "outputs": [],
   "source": [
    "for i in range(1,4):\n",
    "    df_fast[f\"Cal_{i}_Transverse\"] = (df_fast[f\"Cal_{i}_Bx\"]**2+df_fast[f\"Cal_{i}_By\"]**2)**(1/2)\n",
    "    df_fast[f\"Cal_{i}_Theta\"] = np.arccos(df_fast[f\"Cal_{i}_Bz\"]/df_fast[f\"Cal_{i}_Bmag\"])\n",
    "    df_fast[f\"Cal_{i}_Phi\"] = np.arccos(df_fast[f\"Cal_{i}_Bx\"]/df_fast[f\"Cal_{i}_Transverse\"])"
   ]
  },
  {
   "cell_type": "code",
   "execution_count": null,
   "metadata": {
    "hidden": true
   },
   "outputs": [],
   "source": [
    "df_slow.to_pickle(pkl_dir+pkl_file_slow)"
   ]
  },
  {
   "cell_type": "code",
   "execution_count": null,
   "metadata": {
    "hidden": true
   },
   "outputs": [],
   "source": [
    "df_fast.to_pickle(pkl_dir+pkl_file_fast)"
   ]
  },
  {
   "cell_type": "code",
   "execution_count": null,
   "metadata": {
    "hidden": true
   },
   "outputs": [],
   "source": [
    "#col_drop = [i for i in df_fast.columns if (\"1\" not in i) and (\"NMR\" not in i)]\n",
    "col_drop = [i for i in df_fast.columns if (\"3\" not in i) and (\"NMR\" not in i)]"
   ]
  },
  {
   "cell_type": "code",
   "execution_count": null,
   "metadata": {
    "hidden": true
   },
   "outputs": [],
   "source": [
    "#col_drop"
   ]
  },
  {
   "cell_type": "code",
   "execution_count": null,
   "metadata": {
    "hidden": true
   },
   "outputs": [],
   "source": [
    "df_fast_sparse = df_fast.drop(columns=col_drop)"
   ]
  },
  {
   "cell_type": "code",
   "execution_count": null,
   "metadata": {
    "hidden": true
   },
   "outputs": [],
   "source": [
    "df_fast_sparse.to_pickle(pkl_dir+pkl_file_fast_sparse)"
   ]
  },
  {
   "cell_type": "code",
   "execution_count": null,
   "metadata": {
    "hidden": true
   },
   "outputs": [],
   "source": [
    "getsizeof(df_slow) / 1000/1000, getsizeof(df_fast) / 1000/1000, getsizeof(df_fast_sparse) / 1000/1000"
   ]
  },
  {
   "cell_type": "markdown",
   "metadata": {},
   "source": [
    "## Plotting"
   ]
  },
  {
   "cell_type": "markdown",
   "metadata": {},
   "source": [
    "### First Attempt"
   ]
  },
  {
   "cell_type": "code",
   "execution_count": 8,
   "metadata": {},
   "outputs": [
    {
     "data": {
      "text/plain": [
       "13498"
      ]
     },
     "execution_count": 8,
     "metadata": {},
     "output_type": "execute_result"
    }
   ],
   "source": [
    "len(df_slow)"
   ]
  },
  {
   "cell_type": "code",
   "execution_count": 9,
   "metadata": {},
   "outputs": [
    {
     "data": {
      "text/plain": [
       "1214260"
      ]
     },
     "execution_count": 9,
     "metadata": {},
     "output_type": "execute_result"
    }
   ],
   "source": [
    "len(df_fast)"
   ]
  },
  {
   "cell_type": "code",
   "execution_count": 10,
   "metadata": {},
   "outputs": [],
   "source": [
    "df_fast = df_fast.loc[\"2019-09-04 08:45:00\":\"2019-09-13 12:57:00\"]"
   ]
  },
  {
   "cell_type": "code",
   "execution_count": 11,
   "metadata": {},
   "outputs": [],
   "source": [
    "df_slow = df_slow.loc[\"2019-09-04 08:45:00\":\"2019-09-13 12:57:00\"]"
   ]
  },
  {
   "cell_type": "code",
   "execution_count": 12,
   "metadata": {},
   "outputs": [
    {
     "data": {
      "text/plain": [
       "8808"
      ]
     },
     "execution_count": 12,
     "metadata": {},
     "output_type": "execute_result"
    }
   ],
   "source": [
    "len(df_slow)"
   ]
  },
  {
   "cell_type": "code",
   "execution_count": 13,
   "metadata": {},
   "outputs": [
    {
     "data": {
      "text/plain": [
       "792347"
      ]
     },
     "execution_count": 13,
     "metadata": {},
     "output_type": "execute_result"
    }
   ],
   "source": [
    "len(df_fast)"
   ]
  },
  {
   "cell_type": "code",
   "execution_count": null,
   "metadata": {},
   "outputs": [],
   "source": [
    "df_fast.columns"
   ]
  },
  {
   "cell_type": "code",
   "execution_count": null,
   "metadata": {},
   "outputs": [],
   "source": [
    "cols = df_fast.columns"
   ]
  },
  {
   "cell_type": "code",
   "execution_count": null,
   "metadata": {},
   "outputs": [],
   "source": [
    "print([c for c in cols if \"Cal_1\" in c])"
   ]
  },
  {
   "cell_type": "code",
   "execution_count": 16,
   "metadata": {},
   "outputs": [],
   "source": [
    "fig = scatter2d(df_slow.index, df_slow[\" NMR [T]\"], show_plot=False);"
   ]
  },
  {
   "cell_type": "code",
   "execution_count": 17,
   "metadata": {},
   "outputs": [
    {
     "data": {
      "image/png": "[encoded data removed]",
      "text/plain": [
       "<wand.image.Image: 50451e5 'PDF' (529x379)>"
      ]
     },
     "execution_count": 17,
     "metadata": {},
     "output_type": "execute_result"
    }
   ],
   "source": [
    "pplot(fig)"
   ]
  },
  {
   "cell_type": "code",
   "execution_count": 18,
   "metadata": {},
   "outputs": [],
   "source": [
    "fig = scatter2d(df_fast[100:500].index, df_fast[100:500][\"Cal_3_Bmag\"], show_plot=False)"
   ]
  },
  {
   "cell_type": "code",
   "execution_count": 19,
   "metadata": {},
   "outputs": [
    {
     "data": {
      "image/png": "[encoded data removed]",
      "text/plain": [
       "<wand.image.Image: ad35c37 'PDF' (529x379)>"
      ]
     },
     "execution_count": 19,
     "metadata": {},
     "output_type": "execute_result"
    }
   ],
   "source": [
    "pplot(fig)"
   ]
  },
  {
   "cell_type": "code",
   "execution_count": null,
   "metadata": {},
   "outputs": [],
   "source": [
    "fig2 = scatter2d(df_slim.index, random)"
   ]
  },
  {
   "cell_type": "code",
   "execution_count": null,
   "metadata": {},
   "outputs": [],
   "source": [
    "histo(df_slim.Cal_3_Bmag, bins=50)"
   ]
  },
  {
   "cell_type": "code",
   "execution_count": null,
   "metadata": {},
   "outputs": [],
   "source": [
    "fig.add_traces([fig2.data[0]])"
   ]
  },
  {
   "cell_type": "code",
   "execution_count": null,
   "metadata": {},
   "outputs": [],
   "source": [
    "df_slim = df_fast[100:500]"
   ]
  },
  {
   "cell_type": "code",
   "execution_count": null,
   "metadata": {},
   "outputs": [],
   "source": [
    "df_slim[\"Cal_3_Bmag\"].describe()"
   ]
  },
  {
   "cell_type": "code",
   "execution_count": null,
   "metadata": {},
   "outputs": [],
   "source": [
    "std = df_slim[\"Cal_3_Bmag\"].std()\n",
    "mean = df_slim[\"Cal_3_Bmag\"].mean()"
   ]
  },
  {
   "cell_type": "code",
   "execution_count": null,
   "metadata": {},
   "outputs": [],
   "source": [
    "random = np.random.normal(loc=mean, scale=std, size=400)"
   ]
  },
  {
   "cell_type": "code",
   "execution_count": null,
   "metadata": {},
   "outputs": [],
   "source": [
    "random = pd.Series(random)"
   ]
  },
  {
   "cell_type": "code",
   "execution_count": null,
   "metadata": {},
   "outputs": [],
   "source": [
    "random.name = \"random\""
   ]
  },
  {
   "cell_type": "code",
   "execution_count": null,
   "metadata": {},
   "outputs": [],
   "source": [
    "histo(random, bins=50)"
   ]
  },
  {
   "cell_type": "code",
   "execution_count": null,
   "metadata": {},
   "outputs": [],
   "source": []
  },
  {
   "cell_type": "code",
   "execution_count": null,
   "metadata": {},
   "outputs": [],
   "source": [
    "fig = scatter2d(df_slow.index, df_slow[\" Chamber Wall CH13\"])"
   ]
  },
  {
   "cell_type": "code",
   "execution_count": null,
   "metadata": {},
   "outputs": [],
   "source": [
    "filename = plotdir+\"NMR_vs_time\"\n",
    "pio.write_image(fig, filename+\".pdf\")\n",
    "pio.write_image(fig, filename+\".png\")"
   ]
  },
  {
   "cell_type": "code",
   "execution_count": null,
   "metadata": {},
   "outputs": [],
   "source": [
    "fig = scatter2d(df_fast[::10].index, df_fast[::10][\"Cal_3_Bmag\"], show_plot=False);\n",
    "fig.layout.title = \"|B_Hall]| [T] vs. Datetime\";\n",
    "fig.layout.yaxis.title = \"|B_Hall]| [T]\";"
   ]
  },
  {
   "cell_type": "code",
   "execution_count": null,
   "metadata": {},
   "outputs": [],
   "source": [
    "filename = plotdir+\"Hall_vs_time\"\n",
    "pio.write_image(fig, filename+\".pdf\")\n",
    "pio.write_image(fig, filename+\".png\")"
   ]
  },
  {
   "cell_type": "code",
   "execution_count": null,
   "metadata": {},
   "outputs": [],
   "source": [
    "P = 3\n",
    "N = 60#10#30#10#20#10#30#60\n",
    "df_fast.loc[:, f\"Cal_{P}_Bmag_Avg\"] = df_fast[f\"Cal_{P}_Bmag\"].rolling(window = N, center=True).mean()\n",
    "df_fast.loc[:, f\"Cal_{P}_Bmag_Avg_Res_Rel\"] = (df_fast[\"NMR\"] - df_fast[f\"Cal_{P}_Bmag_Avg\"])/df_fast[\"NMR\"]"
   ]
  },
  {
   "cell_type": "code",
   "execution_count": null,
   "metadata": {},
   "outputs": [],
   "source": [
    "df_fast_5 = df_fast[N // 2::N]"
   ]
  },
  {
   "cell_type": "code",
   "execution_count": null,
   "metadata": {},
   "outputs": [],
   "source": [
    "fig = scatter2d(df_fast_5.index, df_fast_5[\"Cal_3_Bmag_Avg\"], markers=True, lines=False, size_list=3, show_plot=False);\n",
    "fig.layout.title = \"|B_Hall]| [T] vs. Datetime<br> 60 s Average\";\n",
    "fig.layout.yaxis.title = \"|B_Hall]| [T]\";\n",
    "filename = plotdir+\"Hall_vs_time_avg_60s\"\n",
    "pio.write_image(fig, filename+\".pdf\")\n",
    "pio.write_image(fig, filename+\".png\")"
   ]
  },
  {
   "cell_type": "code",
   "execution_count": null,
   "metadata": {},
   "outputs": [],
   "source": [
    "fig = py_profile(df_fast.seconds_delta, df_fast[\"Cal_3_Bmag\"], x_bins=len(df_fast) // 1000, show_plot=True)"
   ]
  },
  {
   "cell_type": "code",
   "execution_count": null,
   "metadata": {},
   "outputs": [],
   "source": []
  },
  {
   "cell_type": "code",
   "execution_count": null,
   "metadata": {},
   "outputs": [],
   "source": [
    "fig = scatter2d(df_fast.index, df_fast[\"Cal_3_Bmag\"], show_plot=False);\n",
    "fig.layout.title = \"|B_Hall]| [T] vs. Datetime<br> 15 s Average\";\n",
    "fig.layout.yaxis.title = \"|B_Hall]| [T]\";\n",
    "filename = plotdir+\"Hall_vs_time_avg_15s\"\n",
    "pio.write_image(fig, filename+\".pdf\")\n",
    "pio.write_image(fig, filename+\".png\")"
   ]
  },
  {
   "cell_type": "code",
   "execution_count": null,
   "metadata": {},
   "outputs": [],
   "source": [
    "fig = scatter2d(df_slow.seconds_delta, df_slow[\" NMR [T]\"])"
   ]
  },
  {
   "cell_type": "code",
   "execution_count": null,
   "metadata": {},
   "outputs": [],
   "source": [
    "fighall = scatter2d(df_fast[::100].seconds_delta, df_fast[::100][\"Cal_3_Bmag\"])"
   ]
  },
  {
   "cell_type": "code",
   "execution_count": null,
   "metadata": {},
   "outputs": [],
   "source": [
    "figprof = py_profile(df_fast.seconds_delta, df_fast[\"Cal_3_Bmag\"], \n",
    "                     xrange=[100000, 600000],\n",
    "                     x_bins=5000, show_plot=True)"
   ]
  },
  {
   "cell_type": "code",
   "execution_count": null,
   "metadata": {},
   "outputs": [],
   "source": [
    "figprof = py_profile(df_fast.seconds_delta, df_fast[\"Cal_3_Bmag\"], x_bins=200, show_plot=True)"
   ]
  },
  {
   "cell_type": "code",
   "execution_count": null,
   "metadata": {},
   "outputs": [],
   "source": [
    "fig.add_traces([fighall.data[0],figprof.data[0]])"
   ]
  },
  {
   "cell_type": "code",
   "execution_count": null,
   "metadata": {},
   "outputs": [],
   "source": [
    "fig.layout.title = \"Scatter, Profile: NMR and |B_hall| Comparison\";\n",
    "fig.layout.yaxis.title = \"|B| [T]\";\n",
    "fig.layout.xaxis.title = \"$\\Delta t\\ \\\\text{[s]}$\";\n",
    "filename = plotdir+\"nmr_hall_comparison\"\n",
    "pio.write_image(fig, filename+\".pdf\")\n",
    "pio.write_image(fig, filename+\".png\")"
   ]
  },
  {
   "cell_type": "code",
   "execution_count": null,
   "metadata": {},
   "outputs": [],
   "source": [
    "#P = 3\n",
    "#N = 1000#10#30#10#20#10#30#60\n",
    "#df_fast.loc[:, f\"Cal_{P}_Bmag_Avg\"] = df_fast[f\"Cal_{P}_Bmag\"].rolling(window = N, center=True).mean()\n",
    "#df_fast.loc[:, f\"Cal_{P}_Bmag_Avg_Res_Rel\"] = (df_fast[\"NMR\"] - df_fast[f\"Cal_{P}_Bmag_Avg\"])/df_fast[\"NMR\"]"
   ]
  },
  {
   "cell_type": "code",
   "execution_count": null,
   "metadata": {},
   "outputs": [],
   "source": [
    "#df_fast_5 = df_fast[N // 2::N]"
   ]
  },
  {
   "cell_type": "code",
   "execution_count": null,
   "metadata": {},
   "outputs": [],
   "source": [
    "#1000 / 60 /60 "
   ]
  },
  {
   "cell_type": "code",
   "execution_count": null,
   "metadata": {},
   "outputs": [],
   "source": [
    "#figavg = scatter2d(df_fast_5.seconds_delta, df_fast_5[\"Cal_3_Bmag_Avg\"], markers=True, lines=False, size_list=[5])"
   ]
  },
  {
   "cell_type": "code",
   "execution_count": null,
   "metadata": {},
   "outputs": [],
   "source": [
    "#figavg.add_traces([figprof.data[0]])"
   ]
  },
  {
   "cell_type": "code",
   "execution_count": null,
   "metadata": {
    "scrolled": false
   },
   "outputs": [],
   "source": [
    "fig.add_traces([figprof.data[0]])"
   ]
  },
  {
   "cell_type": "code",
   "execution_count": null,
   "metadata": {},
   "outputs": [],
   "source": []
  },
  {
   "cell_type": "code",
   "execution_count": null,
   "metadata": {},
   "outputs": [],
   "source": []
  },
  {
   "cell_type": "code",
   "execution_count": null,
   "metadata": {},
   "outputs": [],
   "source": [
    "P = 3\n",
    "N = 60#10#30#10#20#10#30#60\n",
    "df_fast.loc[:, f\"Cal_{P}_Bmag_Avg\"] = df_fast[f\"Cal_{P}_Bmag\"].rolling(window = N, center=True).mean()\n",
    "df_fast.loc[:, f\"Cal_{P}_Bmag_Avg_Res_Rel\"] = (df_fast[\"NMR\"] - df_fast[f\"Cal_{P}_Bmag_Avg\"])/df_fast[\"NMR\"]"
   ]
  },
  {
   "cell_type": "code",
   "execution_count": null,
   "metadata": {},
   "outputs": [],
   "source": [
    "df_fast_5 = df_fast[N // 2::N]"
   ]
  },
  {
   "cell_type": "code",
   "execution_count": null,
   "metadata": {},
   "outputs": [],
   "source": [
    "fig = scatter2d(df_fast_5[\"NMR\"], df_fast_5[\"Cal_3_Bmag_Avg\"], lines=False, markers=True)"
   ]
  },
  {
   "cell_type": "code",
   "execution_count": null,
   "metadata": {},
   "outputs": [],
   "source": [
    "fig.layout.title = \"|B_hall| (avg.) vs. NMR <br> 60 s Average\";\n",
    "fig.layout.yaxis.title = \"|B_Hall| [T]\";\n",
    "fig.layout.xaxis.title = \"NMR [T]\";\n",
    "filename = plotdir+\"nmr_hall_correlation\"\n",
    "pio.write_image(fig, filename+\".pdf\")\n",
    "pio.write_image(fig, filename+\".png\")"
   ]
  },
  {
   "cell_type": "code",
   "execution_count": null,
   "metadata": {},
   "outputs": [],
   "source": []
  },
  {
   "cell_type": "code",
   "execution_count": null,
   "metadata": {},
   "outputs": [],
   "source": [
    "df_fast.eval('Raw_3_Bmag = (Raw_3_Bx**2 + Raw_3_By**2 + Raw_3_Bz**2)**(1/2)',inplace=True)"
   ]
  },
  {
   "cell_type": "code",
   "execution_count": null,
   "metadata": {},
   "outputs": [],
   "source": [
    "fig = histo(df_fast[\"Raw_3_Bmag\"], bins=50)"
   ]
  },
  {
   "cell_type": "code",
   "execution_count": null,
   "metadata": {},
   "outputs": [],
   "source": [
    "df_slow.columns"
   ]
  },
  {
   "cell_type": "code",
   "execution_count": null,
   "metadata": {},
   "outputs": [],
   "source": [
    "temps_ch = [a for a in df_slow.columns if (\"CH\" in a) and int(a[-2:])<21]# or \"HVAC\" in a]\n",
    "temps_ch.append(\" Hall Element\")\n",
    "temps_ch.append(\" Floor\")\n",
    "temps_ch.append(\" Roof\")\n",
    "temps_ch.append(\" Yoke\")\n",
    "temps_ch.append(\"Yoke (center magnet)\")"
   ]
  },
  {
   "cell_type": "code",
   "execution_count": null,
   "metadata": {},
   "outputs": [],
   "source": [
    "temps_ch"
   ]
  },
  {
   "cell_type": "code",
   "execution_count": null,
   "metadata": {},
   "outputs": [],
   "source": [
    "df_slow[temps_ch].describe()"
   ]
  },
  {
   "cell_type": "code",
   "execution_count": null,
   "metadata": {},
   "outputs": [],
   "source": [
    "df_slow[temps_ch].plot(kind=\"box\")"
   ]
  },
  {
   "cell_type": "code",
   "execution_count": null,
   "metadata": {},
   "outputs": [],
   "source": [
    "#fig = px.box(df_slow[temps_ch],)# x=temps_ch,\n",
    "             #notched=True, # used notched shape\n",
    "             #title=\"Box plot of total bill\",\n",
    "             #hover_data=[\"day\"] # add day column to hover data\n",
    "            #)\n",
    "#fig.show()"
   ]
  },
  {
   "cell_type": "code",
   "execution_count": null,
   "metadata": {},
   "outputs": [],
   "source": [
    "fig = scatter2d([df_slow.index for c in temps_ch],[df_slow[c] for c in temps_ch],inline=True, show_plot=False);\n",
    "fig.layout.title = \"Temp vs. Datetime\"\n",
    "fig.layout.yaxis.title = \"Temp [deg. C]\""
   ]
  },
  {
   "cell_type": "code",
   "execution_count": null,
   "metadata": {},
   "outputs": [],
   "source": [
    "fig.show()"
   ]
  },
  {
   "cell_type": "code",
   "execution_count": null,
   "metadata": {},
   "outputs": [],
   "source": [
    "#fname = 'temps_scatter'\n",
    "fname = 'temps_scatter_full'\n",
    "pio.write_image(fig, plotdir+fname+'.pdf')\n",
    "pio.write_image(fig, plotdir+fname+'.png')\n",
    "plot(fig, filename=plotdir+fname+'.html', auto_open=False)"
   ]
  },
  {
   "cell_type": "code",
   "execution_count": null,
   "metadata": {},
   "outputs": [],
   "source": []
  },
  {
   "cell_type": "code",
   "execution_count": null,
   "metadata": {},
   "outputs": [],
   "source": [
    "# correlation\n",
    "fig = scatter2d(df_slow[\"Yoke (center magnet)\"], df_slow[\" NMR [T]\"], lines=False, markers=True,)"
   ]
  },
  {
   "cell_type": "code",
   "execution_count": null,
   "metadata": {},
   "outputs": [],
   "source": [
    "fname = 'nmr_vs_yoke_correlation'\n",
    "pio.write_image(fig, plotdir+fname+'.pdf')\n",
    "pio.write_image(fig, plotdir+fname+'.png')"
   ]
  },
  {
   "cell_type": "code",
   "execution_count": null,
   "metadata": {},
   "outputs": [],
   "source": []
  },
  {
   "cell_type": "code",
   "execution_count": null,
   "metadata": {},
   "outputs": [],
   "source": [
    "fig = scatter2d(df_fast.iloc[299:902].seconds_delta, df_fast.iloc[299:902][\"Cal_3_Bmag\"], show_plot=False)"
   ]
  },
  {
   "cell_type": "code",
   "execution_count": null,
   "metadata": {},
   "outputs": [],
   "source": [
    "figprof_ = py_profile(df_fast.seconds_delta, df_fast[\"Cal_3_Bmag\"],\n",
    "                      xrange=[300.11895,900.35695],\n",
    "                      x_bins=20, show_plot=True)"
   ]
  },
  {
   "cell_type": "code",
   "execution_count": null,
   "metadata": {},
   "outputs": [],
   "source": [
    "figprof = py_profile(df_fast.iloc[300:901].seconds_delta, df_fast.iloc[300:901][\"Cal_3_Bmag\"],\n",
    "                     x_bins=20, show_plot=False)"
   ]
  },
  {
   "cell_type": "code",
   "execution_count": null,
   "metadata": {},
   "outputs": [],
   "source": [
    "figprof_.add_traces([figprof.data[0]])"
   ]
  },
  {
   "cell_type": "code",
   "execution_count": null,
   "metadata": {},
   "outputs": [],
   "source": [
    "fig.add_traces([figprof.data[0]])"
   ]
  },
  {
   "cell_type": "code",
   "execution_count": null,
   "metadata": {},
   "outputs": [],
   "source": [
    "15.00595*2"
   ]
  },
  {
   "cell_type": "code",
   "execution_count": null,
   "metadata": {},
   "outputs": [],
   "source": [
    "315.1249-15.00595"
   ]
  },
  {
   "cell_type": "code",
   "execution_count": null,
   "metadata": {},
   "outputs": [],
   "source": [
    "df_fast.iloc[300:901].seconds_delta.describe()"
   ]
  },
  {
   "cell_type": "code",
   "execution_count": null,
   "metadata": {},
   "outputs": [],
   "source": [
    "# bin size\n",
    "345.1368 - 315.1249"
   ]
  },
  {
   "cell_type": "code",
   "execution_count": null,
   "metadata": {},
   "outputs": [],
   "source": [
    "(end - start) / bins"
   ]
  },
  {
   "cell_type": "code",
   "execution_count": null,
   "metadata": {},
   "outputs": [],
   "source": [
    "start = 300.11895\n",
    "end = 900.35695\n",
    "\n",
    "delta_t = end - start\n",
    "\n",
    "bins = 20\n",
    "step = (end - start) / bins\n",
    "\n",
    "average_time = np.zeros(bins)\n",
    "average_cal = np.zeros(bins)\n",
    "std_cal = np.zeros(bins)"
   ]
  },
  {
   "cell_type": "code",
   "execution_count": null,
   "metadata": {},
   "outputs": [],
   "source": [
    "for i in range(bins):\n",
    "    minx = start + i*step\n",
    "    maxx = minx + step\n",
    "    midx = minx + step / 2\n",
    "    cal = df_fast.query(f\"(seconds_delta >= {minx}) & (seconds_delta < {maxx})\")[\"Cal_3_Bmag\"]\n",
    "    average_cal[i] = cal.mean()#cal.sum() / step\n",
    "    std_cal[i] = cal.std()\n",
    "    average_time[i] = midx"
   ]
  },
  {
   "cell_type": "code",
   "execution_count": null,
   "metadata": {},
   "outputs": [],
   "source": [
    "figavg = scatter2d(average_time, average_cal, lines=False, markers=True, size_list=[4])"
   ]
  },
  {
   "cell_type": "code",
   "execution_count": null,
   "metadata": {},
   "outputs": [],
   "source": [
    "fig.add_traces([figavg.data[0]])"
   ]
  },
  {
   "cell_type": "code",
   "execution_count": null,
   "metadata": {},
   "outputs": [],
   "source": [
    "(30**(1/2))"
   ]
  },
  {
   "cell_type": "code",
   "execution_count": null,
   "metadata": {},
   "outputs": [],
   "source": [
    "figprof, tprof = py_profile(df_fast.seconds_delta, df_fast[\"Cal_3_Bmag\"],\n",
    "                     xrange=[300,900],\n",
    "                     x_bins=20, show_plot=False, return_tprof=True)"
   ]
  },
  {
   "cell_type": "code",
   "execution_count": null,
   "metadata": {},
   "outputs": [],
   "source": [
    "fig.add_traces([figprof.data[0]])"
   ]
  },
  {
   "cell_type": "code",
   "execution_count": null,
   "metadata": {},
   "outputs": [],
   "source": [
    "df_nmr = df_slow.query(\"(seconds_delta > 299) & (seconds_delta < 901)\")"
   ]
  },
  {
   "cell_type": "code",
   "execution_count": null,
   "metadata": {},
   "outputs": [],
   "source": [
    "fignmr = scatter2d(df_nmr.seconds_delta, df_nmr[\" NMR [T]\"], show_plot=False)"
   ]
  },
  {
   "cell_type": "code",
   "execution_count": null,
   "metadata": {},
   "outputs": [],
   "source": [
    "fig.add_traces([fignmr.data[0]])"
   ]
  },
  {
   "cell_type": "code",
   "execution_count": null,
   "metadata": {},
   "outputs": [],
   "source": [
    "tprof"
   ]
  },
  {
   "cell_type": "code",
   "execution_count": null,
   "metadata": {},
   "outputs": [],
   "source": [
    "tprof.GetBinEntries(0)"
   ]
  },
  {
   "cell_type": "code",
   "execution_count": null,
   "metadata": {},
   "outputs": [],
   "source": []
  },
  {
   "cell_type": "code",
   "execution_count": null,
   "metadata": {},
   "outputs": [],
   "source": []
  },
  {
   "cell_type": "code",
   "execution_count": null,
   "metadata": {},
   "outputs": [],
   "source": []
  },
  {
   "cell_type": "code",
   "execution_count": null,
   "metadata": {},
   "outputs": [],
   "source": [
    "# test speed"
   ]
  },
  {
   "cell_type": "code",
   "execution_count": null,
   "metadata": {},
   "outputs": [],
   "source": [
    "%timeit figprof = py_profile(df_fast.seconds_delta, df_fast[\"Cal_3_Bmag\"],xrange=[300,900],x_bins=20, show_plot=False)"
   ]
  },
  {
   "cell_type": "code",
   "execution_count": null,
   "metadata": {},
   "outputs": [],
   "source": [
    "def pythonic_profile(x, y, x_bins, xrange=None, show_plot=True):\n",
    "    if xrange == None:\n",
    "        xrange = [x.min(), x.max()]\n",
    "    start = xrange[0]\n",
    "    end = xrange[1]\n",
    "\n",
    "    delta_t = end - start\n",
    "\n",
    "    bins = x_bins\n",
    "    step = (end - start) / bins\n",
    "\n",
    "    average_time = np.zeros(bins)\n",
    "    average_cal = np.zeros(bins)\n",
    "    std_cal = np.zeros(bins)\n",
    "\n",
    "    for i in range(bins):\n",
    "        minx = start + i*step\n",
    "        maxx = minx + step\n",
    "        midx = minx + step / 2\n",
    "        print(minx, midx, maxx)\n",
    "        #cal = x.query(f\"(seconds_delta >= {minx}) & (seconds_delta < {maxx})\")#[\"Cal_3_Bmag\"]\n",
    "        xmask = (x >= minx) & (x <= maxx)\n",
    "        cal = y[xmask]\n",
    "        print(i, len(cal))\n",
    "        average_cal[i] = cal.mean()#cal.sum() / step\n",
    "        std_cal[i] = cal.std() / len(cal)\n",
    "        average_time[i] = midx\n",
    "\n",
    "    fig = scatter2d(average_time, average_cal, lines=False, markers=True, size_list=[4], show_plot=False)\n",
    "    figavg.update_traces(error_y = dict(type=\"data\", array=std_cal, visible=True))\n",
    "    figavg.update_traces(error_x = dict(type=\"constant\", value=step/2, visible=True))\n",
    "    \n",
    "    return fig"
   ]
  },
  {
   "cell_type": "code",
   "execution_count": null,
   "metadata": {},
   "outputs": [],
   "source": [
    "figprof = pythonic_profile(df_fast.seconds_delta, df_fast[\"Cal_3_Bmag\"], x_bins=20, \n",
    "                           xrange=[300,900], show_plot=True)"
   ]
  },
  {
   "cell_type": "code",
   "execution_count": null,
   "metadata": {},
   "outputs": [],
   "source": [
    "df_fast.Cal_3_Bmag.describe()"
   ]
  },
  {
   "cell_type": "code",
   "execution_count": null,
   "metadata": {},
   "outputs": [],
   "source": [
    "figprof = py_profile(df_fast.seconds_delta, df_fast[\"Cal_3_Bmag\"],\n",
    "                     xrange=[300,900],\n",
    "                     x_bins=20, show_plot=True)"
   ]
  },
  {
   "cell_type": "code",
   "execution_count": null,
   "metadata": {},
   "outputs": [],
   "source": [
    "start = 300\n",
    "end = 900\n",
    "\n",
    "delta_t = end - start\n",
    "\n",
    "bins = 20\n",
    "step = (end - start) / bins\n",
    "\n",
    "average_time = np.zeros(bins)\n",
    "average_cal = np.zeros(bins)\n",
    "std_cal = np.zeros(bins)"
   ]
  },
  {
   "cell_type": "code",
   "execution_count": null,
   "metadata": {},
   "outputs": [],
   "source": [
    "for i in range(bins):\n",
    "    minx = start + i*step\n",
    "    maxx = minx + step\n",
    "    midx = minx + step / 2\n",
    "    cal = df_fast.query(f\"(seconds_delta >= {minx}) & (seconds_delta < {maxx})\")[\"Cal_3_Bmag\"]\n",
    "    average_cal[i] = cal.mean()#cal.sum() / step\n",
    "    std_cal[i] = cal.std() / np.sqrt(len(cal))\n",
    "    average_time[i] = midx"
   ]
  },
  {
   "cell_type": "code",
   "execution_count": null,
   "metadata": {},
   "outputs": [],
   "source": [
    "figavg = scatter2d(average_time, average_cal, lines=False, markers=True, size_list=[4])"
   ]
  },
  {
   "cell_type": "code",
   "execution_count": null,
   "metadata": {},
   "outputs": [],
   "source": [
    "#figavg.update_traces(error_y = dict(type=\"data\", array=std_cal, visible=True))\n",
    "#figavg.update_traces(error_x = dict(type=\"constant\", value=step/2, visible=True))"
   ]
  },
  {
   "cell_type": "code",
   "execution_count": null,
   "metadata": {},
   "outputs": [],
   "source": [
    "figprof.add_traces([figavg.data[0]])"
   ]
  },
  {
   "cell_type": "code",
   "execution_count": null,
   "metadata": {},
   "outputs": [],
   "source": [
    "P = 3\n",
    "N = 30#60#10#30#10#20#10#30#60\n",
    "df_fast.loc[:, f\"Cal_{P}_Bmag_Avg\"] = df_fast[f\"Cal_{P}_Bmag\"].rolling(window = N, center=True).mean()\n",
    "df_fast.loc[:, f\"Cal_{P}_Bmag_Avg_Res_Rel\"] = (df_fast[\"NMR\"] - df_fast[f\"Cal_{P}_Bmag_Avg\"])/df_fast[\"NMR\"]\n",
    "\n",
    "df_fast_5 = df_fast[N // 2::N]"
   ]
  },
  {
   "cell_type": "code",
   "execution_count": null,
   "metadata": {},
   "outputs": [],
   "source": [
    "figavgr = scatter2d(df_fast[300:901].seconds_delta, df_fast[300:901].Cal_3_Bmag_Avg, lines=False, markers=True, size_list=[4])"
   ]
  },
  {
   "cell_type": "code",
   "execution_count": null,
   "metadata": {},
   "outputs": [],
   "source": [
    "figprof.add_traces([figavgr.data[0]])"
   ]
  },
  {
   "cell_type": "code",
   "execution_count": null,
   "metadata": {},
   "outputs": [],
   "source": [
    "figavgr2 = scatter2d(df_fast_5[10:30].seconds_delta, df_fast_5[10:30].Cal_3_Bmag_Avg, lines=False, markers=True, size_list=[4])"
   ]
  },
  {
   "cell_type": "code",
   "execution_count": null,
   "metadata": {},
   "outputs": [],
   "source": [
    "figprof.add_traces([figavgr2.data[0]])"
   ]
  },
  {
   "cell_type": "code",
   "execution_count": null,
   "metadata": {},
   "outputs": [],
   "source": []
  },
  {
   "cell_type": "code",
   "execution_count": null,
   "metadata": {},
   "outputs": [],
   "source": [
    "avg_cal3 = [15+(i* 30) for i in range(20)]"
   ]
  },
  {
   "cell_type": "code",
   "execution_count": null,
   "metadata": {},
   "outputs": [],
   "source": [
    "df_avg = df[]"
   ]
  },
  {
   "cell_type": "code",
   "execution_count": null,
   "metadata": {},
   "outputs": [],
   "source": [
    "figavg = "
   ]
  },
  {
   "cell_type": "code",
   "execution_count": null,
   "metadata": {},
   "outputs": [],
   "source": [
    "fig.layout.yaxis.title = \"|Hall| [T]\""
   ]
  },
  {
   "cell_type": "code",
   "execution_count": null,
   "metadata": {},
   "outputs": [],
   "source": [
    "iplot(fig)"
   ]
  },
  {
   "cell_type": "code",
   "execution_count": null,
   "metadata": {},
   "outputs": [],
   "source": []
  },
  {
   "cell_type": "code",
   "execution_count": null,
   "metadata": {},
   "outputs": [],
   "source": []
  },
  {
   "cell_type": "code",
   "execution_count": null,
   "metadata": {},
   "outputs": [],
   "source": [
    "fig = scatter2d(df_fast[::10].index, df_fast[::10][\"Cal_3_Bmag\"])"
   ]
  },
  {
   "cell_type": "code",
   "execution_count": null,
   "metadata": {},
   "outputs": [],
   "source": [
    "fig = scatter2d(df_fast[::100].NMR, df_fast[::100].Cal_3_Bmag, lines=False, markers=True)"
   ]
  },
  {
   "cell_type": "code",
   "execution_count": null,
   "metadata": {},
   "outputs": [],
   "source": [
    "#for cal in [\"1\", \"2\", \"3\", \"4\", \"5\"]:\n",
    "#    fig = scatter2d(df_fast.index, df_fast[f\"Cal_{cal}_Bmag\"])"
   ]
  },
  {
   "cell_type": "markdown",
   "metadata": {},
   "source": [
    "Probe #4 is in the magnet."
   ]
  },
  {
   "cell_type": "code",
   "execution_count": null,
   "metadata": {},
   "outputs": [],
   "source": [
    "P = 3\n",
    "N = 10#30#10#20#10#30#60\n",
    "df_fast.loc[:, f\"Cal_{P}_Bmag_Avg\"] = df_fast[f\"Cal_{P}_Bmag\"].rolling(window = N, center=True).mean()\n",
    "df_fast.loc[:, f\"Cal_{P}_Bmag_Avg_Res_Rel\"] = (df_fast[\"NMR\"] - df_fast[f\"Cal_{P}_Bmag_Avg\"])/df_fast[\"NMR\"]"
   ]
  },
  {
   "cell_type": "code",
   "execution_count": null,
   "metadata": {},
   "outputs": [],
   "source": [
    "df_fast_5 = df_fast[N // 2::N]"
   ]
  },
  {
   "cell_type": "code",
   "execution_count": null,
   "metadata": {},
   "outputs": [],
   "source": [
    "#df_fast_5.loc[:, \"Cal_Mag_Avg\"] = [df_fast.iloc[i- for i in range(len(df_fast_5))]"
   ]
  },
  {
   "cell_type": "code",
   "execution_count": null,
   "metadata": {},
   "outputs": [],
   "source": [
    "### 60 second"
   ]
  },
  {
   "cell_type": "code",
   "execution_count": null,
   "metadata": {},
   "outputs": [],
   "source": [
    "fig = px.scatter_matrix(df_fast[::100], dimensions=[\"NMR\",\"Cal_1_Bmag\",\"Cal_2_Bmag\",\"Cal_3_Bmag\",])\n",
    "fig.show()"
   ]
  },
  {
   "cell_type": "code",
   "execution_count": null,
   "metadata": {},
   "outputs": [],
   "source": [
    "len(df_fast)"
   ]
  },
  {
   "cell_type": "code",
   "execution_count": null,
   "metadata": {},
   "outputs": [],
   "source": [
    "#perc = 0.001\n",
    "#bad_map = (df_fast[f\"Cal_{P}_Bmag\"] < df_fast[f\"Cal_{P}_Bmag\"].quantile(perc)) | (df_fast[f\"Cal_{P}_Bmag\"] > df_fast[f\"Cal_{P}_Bmag\"].quantile(1-perc))\n",
    "#df_fast[bad_map]"
   ]
  },
  {
   "cell_type": "code",
   "execution_count": null,
   "metadata": {},
   "outputs": [],
   "source": [
    "#df_fast2 = df_fast[~bad_map]"
   ]
  },
  {
   "cell_type": "code",
   "execution_count": null,
   "metadata": {},
   "outputs": [],
   "source": [
    "#df_fast2.loc[:, f\"Cal_{P}_Bmag_Avg\"] = df_fast2[f\"Cal_{P}_Bmag\"].rolling(window = N, center=True).mean()\n",
    "#df_fast2.loc[:, f\"Cal_{P}_Bmag_Avg_Res_Rel\"] = (df_fast2[\"NMR\"] - df_fast2[f\"Cal_{P}_Bmag_Avg\"])/df_fast2[\"NMR\"]"
   ]
  },
  {
   "cell_type": "code",
   "execution_count": null,
   "metadata": {},
   "outputs": [],
   "source": [
    "#df_fast2_5 = df_fast2[N // 2::N]"
   ]
  },
  {
   "cell_type": "code",
   "execution_count": null,
   "metadata": {
    "code_folding": []
   },
   "outputs": [],
   "source": [
    "#fig = px.scatter_matrix(df_fast2, dimensions=[\"NMR\",\"Cal_1_Bmag\",\"Cal_2_Bmag\",\"Cal_3_Bmag\",\"Cal_4_Bmag\",\"Cal_5_Bmag\",])\n",
    "#fig.show()"
   ]
  },
  {
   "cell_type": "code",
   "execution_count": null,
   "metadata": {},
   "outputs": [],
   "source": [
    "#plot(fig)"
   ]
  },
  {
   "cell_type": "code",
   "execution_count": null,
   "metadata": {},
   "outputs": [],
   "source": [
    "#fig = scatter2d(df_fast2.NMR, df_fast2[f\"Cal_{P}_Bmag\"], lines=False, markers=True)"
   ]
  },
  {
   "cell_type": "code",
   "execution_count": null,
   "metadata": {},
   "outputs": [],
   "source": [
    "from scipy import stats"
   ]
  },
  {
   "cell_type": "code",
   "execution_count": null,
   "metadata": {
    "scrolled": true
   },
   "outputs": [],
   "source": [
    "primary_corr = dict()\n",
    "for col in df_slow.columns:\n",
    "    if (df_slow[col].dtype == np.float64):\n",
    "        slope_v, intercept_v, r_value_v, p_value_v, std_err_v = stats.linregress(df_slow[col], df_slow[\" NMR [T]\"])\n",
    "        #print(col,r_value_v,p_value_v,std_err_v)\n",
    "        primary_corr[col] = r_value_v\n",
    "\n",
    "sorted_primary_corr = sorted(primary_corr.items(), key=operator.itemgetter(1))\n",
    "\n",
    "sorted_primary_corr"
   ]
  },
  {
   "cell_type": "code",
   "execution_count": null,
   "metadata": {
    "scrolled": false
   },
   "outputs": [],
   "source": [
    "primary_corr = dict()\n",
    "for col in df_fast.columns:\n",
    "    if (df_fast[col].dtype == np.float64) & (\"T\" not in col): #& (\"Cal_4\" in col):\n",
    "        slope_v, intercept_v, r_value_v, p_value_v, std_err_v = stats.linregress(df_fast[col], df_fast[\"NMR\"])\n",
    "        #print(col,r_value_v,p_value_v,std_err_v)\n",
    "        primary_corr[col] = r_value_v\n",
    "\n",
    "sorted_primary_corr = sorted(primary_corr.items(), key=operator.itemgetter(1))\n",
    "\n",
    "sorted_primary_corr"
   ]
  },
  {
   "cell_type": "code",
   "execution_count": null,
   "metadata": {},
   "outputs": [],
   "source": [
    "df_fast[\"Cal_3_Bmag_Avg_Res_Rel\"].describe()"
   ]
  },
  {
   "cell_type": "code",
   "execution_count": null,
   "metadata": {},
   "outputs": [],
   "source": [
    "df_fast[\"NMR\"].describe()"
   ]
  },
  {
   "cell_type": "code",
   "execution_count": null,
   "metadata": {},
   "outputs": [],
   "source": [
    "len(df_fast)"
   ]
  },
  {
   "cell_type": "code",
   "execution_count": null,
   "metadata": {},
   "outputs": [],
   "source": [
    "df_fast[f\"Cal_{P}_Res_Rel\"].describe()"
   ]
  },
  {
   "cell_type": "code",
   "execution_count": null,
   "metadata": {},
   "outputs": [],
   "source": [
    "fig = histo(df_fast[f\"Cal_{P}_Res\"], bins=100, yscale='linear', cut=[0.,0.999])"
   ]
  },
  {
   "cell_type": "code",
   "execution_count": null,
   "metadata": {},
   "outputs": [],
   "source": [
    "fig = histo(df_fast[f\"Cal_{P}_Res_Rel\"], bins=100, yscale='linear', cut=[0.,0.999])"
   ]
  },
  {
   "cell_type": "code",
   "execution_count": null,
   "metadata": {},
   "outputs": [],
   "source": [
    "df_fast[df_fast[f\"Cal_{P}_Res_Rel\"] == df_fast[f\"Cal_{P}_Res_Rel\"].max()]"
   ]
  },
  {
   "cell_type": "code",
   "execution_count": null,
   "metadata": {},
   "outputs": [],
   "source": [
    "fig = histo(df_fast[f\"Cal_{P}_Res_Rel\"], bins=100, yscale='linear', cut=[0.,0.999], show_plot=False)"
   ]
  },
  {
   "cell_type": "code",
   "execution_count": null,
   "metadata": {},
   "outputs": [],
   "source": [
    "fig.layout.xaxis.title = \"(NMR [T] - |Hall| [T]) / (NMR [T])\"\n",
    "fig.layout.title = \"Histo: Relative Residuals\""
   ]
  },
  {
   "cell_type": "code",
   "execution_count": null,
   "metadata": {},
   "outputs": [],
   "source": [
    "filename = plotdir+\"rel_residuals\"\n",
    "pio.write_image(fig, filename+\".pdf\")\n",
    "pio.write_image(fig, filename+\".png\")"
   ]
  },
  {
   "cell_type": "code",
   "execution_count": null,
   "metadata": {},
   "outputs": [],
   "source": [
    "fig = histo(df_fast[f\"Cal_{P}_Bmag_Avg_Res_Rel\"], bins=100, yscale='linear', cut=[0.,0.999], show_plot=True)"
   ]
  },
  {
   "cell_type": "code",
   "execution_count": null,
   "metadata": {},
   "outputs": [],
   "source": []
  },
  {
   "cell_type": "code",
   "execution_count": null,
   "metadata": {},
   "outputs": [],
   "source": []
  },
  {
   "cell_type": "code",
   "execution_count": null,
   "metadata": {},
   "outputs": [],
   "source": [
    "fig = scatter2d([df_fast.index,df_fast.index,df_fast_5.index], [df_fast.Cal_1_Bmag,df_fast.Cal_1_Bmag_Avg,df_fast_5.Cal_1_Bmag_Avg], inline=True)"
   ]
  },
  {
   "cell_type": "code",
   "execution_count": null,
   "metadata": {},
   "outputs": [],
   "source": [
    "fig = histo(df_fast2[f'Cal_{P}_Bmag'], bins=50, inline=True)\n",
    "fig = histo(df_fast2[f'Cal_{P}_Bmag_Avg'], bins=50, inline=True)\n",
    "fig = histo(df_fast2_5[f'Cal_{P}_Bmag_Avg'], bins=50, inline=True)"
   ]
  },
  {
   "cell_type": "code",
   "execution_count": null,
   "metadata": {},
   "outputs": [],
   "source": [
    "df_slow[\" NMR [T]\"].hist(bins=50)"
   ]
  },
  {
   "cell_type": "code",
   "execution_count": null,
   "metadata": {},
   "outputs": [],
   "source": [
    "df_fast.eval(\"Cal_Res = (NMR - Cal_1_Bmag)\", inplace=True)\n",
    "df_fast.eval(\"Cal_Res_Rel = (NMR - Cal_1_Bmag) / NMR\", inplace=True)"
   ]
  },
  {
   "cell_type": "code",
   "execution_count": null,
   "metadata": {},
   "outputs": [],
   "source": [
    "fig = histo(df_fast2.Cal_4_Res_Rel, bins=50, inline=True)\n",
    "fig = histo(df_fast2.Cal_4_Bmag_Avg_Res_Rel, bins=50, inline=True)\n",
    "fig = histo(df_fast2_5.Cal_4_Bmag_Avg_Res_Rel, bins=50, inline=True)\n",
    "#fig = histo(df_fast.Cal_1_Bmag_Avg_Res_Rel, bins=50, inline=True)"
   ]
  },
  {
   "cell_type": "code",
   "execution_count": null,
   "metadata": {},
   "outputs": [],
   "source": [
    "fig = histo(df_slow[\" NMR [T]\"], bins=10, inline=True)"
   ]
  },
  {
   "cell_type": "code",
   "execution_count": null,
   "metadata": {},
   "outputs": [],
   "source": [
    "df_slow[\" NMR [T]\"].plot()"
   ]
  },
  {
   "cell_type": "code",
   "execution_count": null,
   "metadata": {
    "scrolled": false
   },
   "outputs": [],
   "source": [
    "fig = scatter2d(df_slow.index, df_slow[\" NMR [T]\"], inline=True)"
   ]
  },
  {
   "cell_type": "code",
   "execution_count": null,
   "metadata": {},
   "outputs": [],
   "source": [
    "fig = scatter2d(df_fast2.index, df_fast2[f\"Cal_{P}_Bmag\"], inline=True)"
   ]
  },
  {
   "cell_type": "code",
   "execution_count": null,
   "metadata": {},
   "outputs": [],
   "source": []
  },
  {
   "cell_type": "code",
   "execution_count": null,
   "metadata": {},
   "outputs": [],
   "source": []
  },
  {
   "cell_type": "code",
   "execution_count": null,
   "metadata": {},
   "outputs": [],
   "source": []
  },
  {
   "cell_type": "code",
   "execution_count": null,
   "metadata": {},
   "outputs": [],
   "source": []
  },
  {
   "cell_type": "code",
   "execution_count": null,
   "metadata": {},
   "outputs": [],
   "source": [
    "import copy"
   ]
  },
  {
   "cell_type": "code",
   "execution_count": null,
   "metadata": {},
   "outputs": [],
   "source": [
    "# Seeing effect of number of points in average\n",
    "#N = 10#30#10#20#10#30#60\n",
    "P = 3\n",
    "Ns = [1,5,10,30,60, 120,]# 240, 480, 960, 1930,1930*2, 1930*4, 1930*8]#[5, 10, 30, 60]\n",
    "\n",
    "df_fast_N = []\n",
    "\n",
    "for N in Ns:\n",
    "    df_fast.loc[:, f\"Cal_{P}_Bmag_Avg\"] = df_fast[f\"Cal_{P}_Bmag\"].rolling(window = N, center=True).mean()\n",
    "    df_fast.loc[:, f\"Cal_{P}_Bmag_Avg_Res_Rel\"] = (df_fast[\"NMR\"] - df_fast[f\"Cal_{P}_Bmag_Avg\"])/df_fast[\"NMR\"]\n",
    "    df_fast_N.append(copy.copy(df_fast[N // 2::N]))\n",
    "    #print(df_fast_N[-1][\"Cal_1_Bmag_Avg_Res_Rel\"].describe())\n",
    "\n",
    "#df_fast_5 = df_fast[N // 2::N]\n",
    "#print([df[f\"Cal_{P}_Bmag_Avg_Res_Rel\"].describe() for df in df_fast_N])\n",
    "[df[f\"Cal_{P}_Bmag_Avg_Res_Rel\"].describe() for df in df_fast_N]"
   ]
  },
  {
   "cell_type": "code",
   "execution_count": null,
   "metadata": {
    "scrolled": true
   },
   "outputs": [],
   "source": [
    "df_fast_N[0][f\"Cal_{P}_Bmag_Avg_Res_Rel\"].describe()"
   ]
  },
  {
   "cell_type": "code",
   "execution_count": null,
   "metadata": {},
   "outputs": [],
   "source": [
    "fig = scatter2d([df_fast2.index, df_fast_N[-2].index, df_slow.index], [df_fast2.Cal_4_Bmag,df_fast_N[-2].Cal_4_Bmag_Avg, df_slow[\" NMR [T]\"]], inline=True)"
   ]
  },
  {
   "cell_type": "code",
   "execution_count": null,
   "metadata": {},
   "outputs": [],
   "source": [
    "fig = histo([df_fast.Cal_Res_Rel]+[df.Cal_1_Bmag_Avg_Res_Rel for df in df_fast_N], bins=50,same_bins=True, show_plot=False, opacity=0.5, inline=True)\n",
    "fig.update_traces(histnorm='probability density')\n",
    "iplot(fig)"
   ]
  },
  {
   "cell_type": "code",
   "execution_count": null,
   "metadata": {},
   "outputs": [],
   "source": [
    " NMR [T]fig = histo([df_fast.Cal_Res_Rel]+[df.Cal_1_Bmag_Avg_Res_Rel for df in [df_fast_N[0]]], bins=50,same_bins=False, show_plot=False, opacity=0.5, inline=True)\n",
    "fig.update_traces(histnorm='probability density')\n",
    "iplot(fig)"
   ]
  },
  {
   "cell_type": "code",
   "execution_count": null,
   "metadata": {},
   "outputs": [],
   "source": [
    "fig = histo([df.Cal_1_Bmag_Avg_Res_Rel for df in [df_fast_N[0]]], bins=50,same_bins=False, show_plot=True, opacity=0.5, inline=True)"
   ]
  },
  {
   "cell_type": "code",
   "execution_count": null,
   "metadata": {},
   "outputs": [],
   "source": [
    "df_fast_N[0][\"Cal_1_Bmag_Avg_Res_Rel\"].describe()"
   ]
  },
  {
   "cell_type": "code",
   "execution_count": null,
   "metadata": {},
   "outputs": [],
   "source": [
    "getsizeof(df_fast_N[0]) / 1000 / 1000"
   ]
  },
  {
   "cell_type": "markdown",
   "metadata": {},
   "source": [
    "### Noise on all Hall probes"
   ]
  },
  {
   "cell_type": "code",
   "execution_count": null,
   "metadata": {},
   "outputs": [],
   "source": [
    "#df_fast.columns"
   ]
  },
  {
   "cell_type": "code",
   "execution_count": null,
   "metadata": {},
   "outputs": [],
   "source": [
    "'''for i in range(1,6):\n",
    "    df_fast.eval(f\"Cal_{i}_Bmag = (Cal_{i}_Bx**2+Cal_{i}_By**2+Cal_{i}_Bz**2)**(1/2)\", inplace=True)\n",
    "    df_fast.eval(f\"Cal_{i}_Res = (NMR - Cal_{i}_Bmag)\", inplace=True)\n",
    "    df_fast.eval(f\"Cal_{i}_Res_Rel = (NMR - Cal_{i}_Bmag) / NMR\", inplace=True)\n",
    "\n",
    "for i in range(1,6):\n",
    "    for B in [\"Bx\",\"By\",\"Bz\"]:\n",
    "        #df_fast.eval(f\"Cal_{i}_Bmag = (Cal_{i}_Bx**2+Cal_{i}_By**2+Cal_{i}_Bz**2)**(1/2)\", inplace=True)\n",
    "        df_fast.eval(f\"Cal_{i}_{B}_Res = (NMR - Cal_{i}_{B})\", inplace=True)\n",
    "        df_fast.eval(f\"Cal_{i}_{B}_Res_Rel = (NMR - Cal_{i}_{B}) / NMR\", inplace=True)\n",
    "\n",
    "df_fast[\"seconds_delta\"] = pd.to_timedelta(df_fast.index.values) / pd.offsets.Second(1) - 1565697533.416\n",
    "\n",
    "df_slow[\"seconds_delta\"] = pd.to_timedelta(df_slow.index.values) / pd.offsets.Second(1) - 1565697533.416''';"
   ]
  },
  {
   "cell_type": "code",
   "execution_count": null,
   "metadata": {},
   "outputs": [],
   "source": [
    "#pd.to_timedelta(df_slow.index.values) / pd.offsets.Second(1)"
   ]
  },
  {
   "cell_type": "code",
   "execution_count": null,
   "metadata": {},
   "outputs": [],
   "source": [
    "getsizeof(df_fast) / 1000 / 1000"
   ]
  },
  {
   "cell_type": "code",
   "execution_count": null,
   "metadata": {},
   "outputs": [],
   "source": [
    "# relative residual"
   ]
  },
  {
   "cell_type": "code",
   "execution_count": null,
   "metadata": {
    "scrolled": false
   },
   "outputs": [],
   "source": [
    "for i in range(1,6):\n",
    "    for B in [\"Bx\", \"By\", \"Bz\"]:\n",
    "        fig = histo(df_fast[f\"Cal_{i}_{B}_Res_Rel\"], bins=50, show_plot=False, inline=True)\n",
    "        filename = f\"histo_Cal_{i}_{B}_Res_Rel\"\n",
    "        pio.write_image(fig, plotdir+f\"relative_residuals/components/{filename}.pdf\")\n",
    "        pio.write_image(fig, plotdir+f\"relative_residuals/components/{filename}.png\")"
   ]
  },
  {
   "cell_type": "code",
   "execution_count": null,
   "metadata": {},
   "outputs": [],
   "source": [
    "for i in range(1,6):\n",
    "    fig = histo(df_fast[f\"Cal_{i}_Res_Rel\"], bins=50, show_plot=False, inline=True)\n",
    "    filename = f\"histo_Cal_{i}_Res_Rel\"\n",
    "    pio.write_image(fig, plotdir+f\"relative_residuals/magnitude/{filename}.pdf\")\n",
    "    pio.write_image(fig, plotdir+f\"relative_residuals/magnitude/{filename}.png\")"
   ]
  },
  {
   "cell_type": "code",
   "execution_count": null,
   "metadata": {},
   "outputs": [],
   "source": [
    "# residual"
   ]
  },
  {
   "cell_type": "code",
   "execution_count": null,
   "metadata": {},
   "outputs": [],
   "source": [
    "for i in range(1,6):\n",
    "    for B in [\"Bx\", \"By\", \"Bz\"]:\n",
    "        fig = histo(df_fast[f\"Cal_{i}_{B}_Res\"], bins=50, show_plot=False, inline=True)\n",
    "        filename = f\"histo_Cal_{i}_{B}_Res\"\n",
    "        pio.write_image(fig, plotdir+f\"residuals/components/{filename}.pdf\")\n",
    "        pio.write_image(fig, plotdir+f\"residuals/components/{filename}.png\")"
   ]
  },
  {
   "cell_type": "code",
   "execution_count": null,
   "metadata": {},
   "outputs": [],
   "source": [
    "for i in range(1,6):\n",
    "    fig = histo(df_fast[f\"Cal_{i}_Res\"], bins=50, show_plot=False, inline=True)\n",
    "    filename = f\"histo_Cal_{i}_Res\"\n",
    "    pio.write_image(fig, plotdir+f\"residuals/magnitude/{filename}.pdf\")\n",
    "    pio.write_image(fig, plotdir+f\"residuals/magnitude/{filename}.png\")"
   ]
  },
  {
   "cell_type": "code",
   "execution_count": null,
   "metadata": {},
   "outputs": [],
   "source": []
  },
  {
   "cell_type": "code",
   "execution_count": null,
   "metadata": {},
   "outputs": [],
   "source": []
  },
  {
   "cell_type": "code",
   "execution_count": null,
   "metadata": {},
   "outputs": [],
   "source": [
    "Ns = [5,10,30,60, 120, 240, 480, 960, 1930,1930*2, 1930*4, 1930*8]#[5, 10, 30, 60]\n",
    "\n",
    "df_fast_N = []\n",
    "\n",
    "for N in Ns:\n",
    "    df_fast.loc[:, \"Cal_1_Bmag_Avg\"] = df_fast[\"Cal_1_Bmag\"].rolling(window = N, center=True).mean()\n",
    "    df_fast.loc[:, \"Cal_1_Bmag_Avg_Res_Rel\"] = (df_fast[\"NMR\"] - df_fast[\"Cal_1_Bmag_Avg\"])/df_fast[\"NMR\"]\n",
    "    df_fast_N.append(copy.copy(df_fast[N // 2::N]))\n"
   ]
  },
  {
   "cell_type": "markdown",
   "metadata": {},
   "source": [
    "### Check Field Angle and Average\n",
    "- Leaving for historical purposes, but column names have changed"
   ]
  },
  {
   "cell_type": "code",
   "execution_count": null,
   "metadata": {},
   "outputs": [],
   "source": [
    "'''df_fast[\"Cal_1_Transverse\"] = (df_fast[\"Cal_1_Bx\"]**2+df_fast[\"Cal_1_By\"]**2)**(1/2)\n",
    "df_fast[\"theta\"] = np.arccos(df_fast[\"Cal_1_Bz\"]/df_fast[\"Cal_1_Bmag\"])\n",
    "df_fast[\"phi\"] = np.arccos(df_fast[\"Cal_1_Bx\"]/df_fast[\"Cal_1_Transverse\"])''';"
   ]
  },
  {
   "cell_type": "code",
   "execution_count": null,
   "metadata": {},
   "outputs": [],
   "source": [
    "fig = histo(df_fast.theta*180/np.pi, bins=50, inline=True)\n",
    "fig = histo(df_fast.phi*180/np.pi, bins=50, inline=True)"
   ]
  },
  {
   "cell_type": "code",
   "execution_count": null,
   "metadata": {},
   "outputs": [],
   "source": [
    "# Seeing effect of number of points in average\n",
    "#N = 10#30#10#20#10#30#60\n",
    "Ns = [5,10,30,60, 120, 240, ]#480, 960, 1930,1930*2, 1930*4, 1930*8]#[5, 10, 30, 60]\n",
    "\n",
    "df_fast_N = []\n",
    "\n",
    "for N in Ns:\n",
    "    df_fast.loc[:, \"theta_Avg\"] = df_fast[\"theta\"].rolling(window = N, center=True).mean()\n",
    "    df_fast.loc[:, \"phi_Avg\"] = df_fast[\"phi\"].rolling(window = N, center=True).mean()\n",
    "    df_fast_N.append(copy.copy(df_fast[N // 2::N]))\n",
    "    #print(df_fast_N[-1][\"Cal_1_Bmag_Avg_Res_Rel\"].describe())\n",
    "\n",
    "#df_fast_5 = df_fast[N // 2::N]\n",
    "#print([df[\"Cal_1_Bmag_Avg_Res_Rel\"].describe() for df in df_fast_N])"
   ]
  },
  {
   "cell_type": "code",
   "execution_count": null,
   "metadata": {},
   "outputs": [],
   "source": [
    "fig = histo([df_fast.theta]+[df.theta_Avg for df in df_fast_N], bins=50,same_bins=True, show_plot=False, opacity=0.5, inline=True)\n",
    "fig.update_traces(histnorm='probability density')\n",
    "iplot(fig)"
   ]
  },
  {
   "cell_type": "code",
   "execution_count": null,
   "metadata": {},
   "outputs": [],
   "source": [
    "fig = scatter2d(df_fast.index, df_fast.theta, inline=True)"
   ]
  },
  {
   "cell_type": "code",
   "execution_count": null,
   "metadata": {},
   "outputs": [],
   "source": [
    "fig = scatter2d(df_fast.index, df_fast.phi, inline=True)"
   ]
  },
  {
   "cell_type": "code",
   "execution_count": null,
   "metadata": {},
   "outputs": [],
   "source": [
    "df_fast_N[0].theta_Avg.plot()"
   ]
  },
  {
   "cell_type": "code",
   "execution_count": null,
   "metadata": {},
   "outputs": [],
   "source": [
    "fig = scatter2d([df_fast.index, df_fast_N[2].index, df_slow.index], [df_fast.Cal_1_Bmag,df_fast_N[2].Cal_1_Bmag_Avg, df_slow[\" NMR [T]\"]], inline=True)"
   ]
  },
  {
   "cell_type": "markdown",
   "metadata": {},
   "source": [
    "### Plots for Email"
   ]
  },
  {
   "cell_type": "code",
   "execution_count": null,
   "metadata": {},
   "outputs": [],
   "source": [
    "len(df_fast)"
   ]
  },
  {
   "cell_type": "markdown",
   "metadata": {},
   "source": [
    "Last time: 66240"
   ]
  },
  {
   "cell_type": "code",
   "execution_count": null,
   "metadata": {},
   "outputs": [],
   "source": [
    "795048 / 60 / 60 /24"
   ]
  },
  {
   "cell_type": "code",
   "execution_count": null,
   "metadata": {},
   "outputs": [],
   "source": [
    "66240 / 60 / 60"
   ]
  },
  {
   "cell_type": "code",
   "execution_count": null,
   "metadata": {},
   "outputs": [],
   "source": []
  },
  {
   "cell_type": "code",
   "execution_count": null,
   "metadata": {},
   "outputs": [],
   "source": [
    "# get probe name dictionary\n",
    "directory = \"/home/ckampa/Dropbox/LogFiles/\"\n",
    "filename_fast = '2019-09-04 080000.txt'\n",
    "\n",
    "with open(directory+filename_fast, 'r') as file:\n",
    "    lines = file.readlines()[6:9]"
   ]
  },
  {
   "cell_type": "code",
   "execution_count": null,
   "metadata": {},
   "outputs": [],
   "source": [
    "lines"
   ]
  },
  {
   "cell_type": "code",
   "execution_count": null,
   "metadata": {},
   "outputs": [],
   "source": [
    "id_reg = re.compile(\": (.+?)  Offset\")"
   ]
  },
  {
   "cell_type": "code",
   "execution_count": null,
   "metadata": {},
   "outputs": [],
   "source": [
    "hall_ids_list = [id_reg.findall(line)[0] for line in lines]"
   ]
  },
  {
   "cell_type": "code",
   "execution_count": null,
   "metadata": {},
   "outputs": [],
   "source": [
    "hall_ids_list"
   ]
  },
  {
   "cell_type": "code",
   "execution_count": null,
   "metadata": {},
   "outputs": [],
   "source": [
    "hall_ids = {i+1: hall for i,hall in enumerate(hall_ids_list)}"
   ]
  },
  {
   "cell_type": "code",
   "execution_count": null,
   "metadata": {},
   "outputs": [],
   "source": [
    "hall_ids"
   ]
  },
  {
   "cell_type": "code",
   "execution_count": null,
   "metadata": {},
   "outputs": [],
   "source": [
    "N = 3"
   ]
  },
  {
   "cell_type": "code",
   "execution_count": null,
   "metadata": {},
   "outputs": [],
   "source": [
    "len(df_fast)"
   ]
  },
  {
   "cell_type": "code",
   "execution_count": null,
   "metadata": {},
   "outputs": [],
   "source": [
    "fig = scatter2d(df_fast[::100].index, df_fast[::100][f\"Raw_{N}_Bx\"], inline=True)"
   ]
  },
  {
   "cell_type": "code",
   "execution_count": null,
   "metadata": {},
   "outputs": [],
   "source": [
    "fig = scatter2d(df_fast.index, df_fast[f\"Raw_{N}_Bz\"], inline=True)"
   ]
  },
  {
   "cell_type": "code",
   "execution_count": null,
   "metadata": {},
   "outputs": [],
   "source": [
    "fig = scatter2d(df_fast.index, df_fast[f\"Cal_{N}_Bz\"], inline=True)"
   ]
  },
  {
   "cell_type": "code",
   "execution_count": null,
   "metadata": {},
   "outputs": [],
   "source": [
    "fig = scatter2d(5*[df_fast.index], [df_fast[f'Cal_{i}_T'] for i in range(1,4)])"
   ]
  },
  {
   "cell_type": "code",
   "execution_count": null,
   "metadata": {},
   "outputs": [],
   "source": [
    "fig = scatter2d([df_fast.seconds_delta, df_slow.seconds_delta], [df_fast[f'Cal_1_T'], df_slow[\" Hall Element\"]],show_plot=False)"
   ]
  },
  {
   "cell_type": "code",
   "execution_count": null,
   "metadata": {},
   "outputs": [],
   "source": [
    "figprof = py_profile(df_fast.seconds_delta, df_fast.Cal_1_T, x_bins=50, show_plot=False)"
   ]
  },
  {
   "cell_type": "code",
   "execution_count": null,
   "metadata": {},
   "outputs": [],
   "source": [
    "figprof2 = py_profile(df_slow.seconds_delta, df_slow[\" Hall Element\"], x_bins=50,xrange=[df_fast.seconds_delta.min(),df_fast.seconds_delta.max()], show_plot=False)"
   ]
  },
  {
   "cell_type": "code",
   "execution_count": null,
   "metadata": {},
   "outputs": [],
   "source": [
    "fig.add_traces([figprof.data[0],figprof2.data[0]])"
   ]
  },
  {
   "cell_type": "code",
   "execution_count": null,
   "metadata": {},
   "outputs": [],
   "source": [
    "df_fast.loc[:,\"HallElement\"] = [df_slow.iloc[df_slow.index.get_loc(row, method='nearest')][\" Hall Element\"] for row in df_fast.index]"
   ]
  },
  {
   "cell_type": "code",
   "execution_count": null,
   "metadata": {},
   "outputs": [],
   "source": [
    "#fig = scatter2d(df_fast.HallElement, df_fast.Cal_1_T, markers=True, lines=False)"
   ]
  },
  {
   "cell_type": "code",
   "execution_count": null,
   "metadata": {},
   "outputs": [],
   "source": [
    "fig = py_profile(df_fast.HallElement, df_fast.Cal_1_T, x_bins=12)"
   ]
  },
  {
   "cell_type": "code",
   "execution_count": null,
   "metadata": {},
   "outputs": [],
   "source": [
    "df_fast[\"Cal_4_Bmag\"].describe()"
   ]
  },
  {
   "cell_type": "code",
   "execution_count": null,
   "metadata": {},
   "outputs": [],
   "source": [
    "fig = scatter2d(df_fast.index, df_fast[\"Cal_1_Bmag\"], inline=True)"
   ]
  },
  {
   "cell_type": "code",
   "execution_count": null,
   "metadata": {},
   "outputs": [],
   "source": [
    "fig = scatter2d(df_slow_old.index, df_slow_old[\" NMR [T]\"], inline=True)"
   ]
  },
  {
   "cell_type": "code",
   "execution_count": null,
   "metadata": {},
   "outputs": [],
   "source": [
    "fig = scatter2d(df_slow.index, df_slow[\" NMR [T]\"], inline=True)"
   ]
  },
  {
   "cell_type": "code",
   "execution_count": null,
   "metadata": {},
   "outputs": [],
   "source": [
    "start = 0\n",
    "end = 600\n",
    "x_bins = 20"
   ]
  },
  {
   "cell_type": "code",
   "execution_count": null,
   "metadata": {},
   "outputs": [],
   "source": [
    "fig = scatter2d(df_fast.seconds_delta[start:end], df_fast.Cal_1_Bmag[start:end],show_plot=False)"
   ]
  },
  {
   "cell_type": "code",
   "execution_count": null,
   "metadata": {},
   "outputs": [],
   "source": [
    "figprof = py_profile(df_fast.seconds_delta[start:end], df_fast.Cal_1_Bmag[start:end], x_bins = x_bins, show_plot=False)"
   ]
  },
  {
   "cell_type": "code",
   "execution_count": null,
   "metadata": {},
   "outputs": [],
   "source": [
    "fig.add_trace(figprof.data[0])"
   ]
  },
  {
   "cell_type": "code",
   "execution_count": null,
   "metadata": {},
   "outputs": [],
   "source": [
    "#fig.update_traces(visible=False)"
   ]
  },
  {
   "cell_type": "code",
   "execution_count": null,
   "metadata": {},
   "outputs": [],
   "source": [
    "pio.write_image(fig, plotdir+\"scatter_plus_profile_test.pdf\")"
   ]
  },
  {
   "cell_type": "code",
   "execution_count": null,
   "metadata": {},
   "outputs": [],
   "source": [
    "start = 1000\n",
    "end = 1600\n",
    "x_bins = 20\n",
    "\n",
    "comp_old = \"Mag\"\n",
    "comp_new = \"Bmag\""
   ]
  },
  {
   "cell_type": "code",
   "execution_count": null,
   "metadata": {},
   "outputs": [],
   "source": [
    "# old data\n",
    "fig = scatter2d(df_slow_old.seconds_delta[start:end], df_slow_old[f\"Cal_{comp_old}\"][start:end],show_plot=False)\n",
    "figprof = py_profile(df_slow_old.seconds_delta[start:end], df_slow_old[f\"Cal_{comp_old}\"][start:end], x_bins = x_bins, show_plot=False)\n",
    "fig.add_trace(figprof.data[0])"
   ]
  },
  {
   "cell_type": "code",
   "execution_count": null,
   "metadata": {
    "scrolled": false
   },
   "outputs": [],
   "source": [
    "for i in range(1,6):\n",
    "    fig = scatter2d(df_fast.seconds_delta[start:end], df_fast[f'Cal_{i}_{comp_new}'][start:end],show_plot=False)\n",
    "    figprof = py_profile(df_fast.seconds_delta[start:end], df_fast[f'Cal_{i}_{comp_new}'][start:end], x_bins = x_bins, show_plot=False)\n",
    "    fig.add_trace(figprof.data[0])\n",
    "    iplot(fig)"
   ]
  },
  {
   "cell_type": "code",
   "execution_count": null,
   "metadata": {},
   "outputs": [],
   "source": []
  },
  {
   "cell_type": "code",
   "execution_count": null,
   "metadata": {},
   "outputs": [],
   "source": [
    "start = 1000\n",
    "end = 1120\n",
    "x_bins = 6"
   ]
  },
  {
   "cell_type": "code",
   "execution_count": null,
   "metadata": {},
   "outputs": [],
   "source": [
    "# old data\n",
    "fig = scatter2d(df_slow_old.seconds_delta[start:end], df_slow_old[f\"Cal_{comp_old}\"][start:end],show_plot=False)\n",
    "figprof = py_profile(df_slow_old.seconds_delta[start:end], df_slow_old[f\"Cal_{comp_old}\"][start:end], x_bins = x_bins, show_plot=False)\n",
    "fig.add_trace(figprof.data[0])"
   ]
  },
  {
   "cell_type": "code",
   "execution_count": null,
   "metadata": {
    "scrolled": false
   },
   "outputs": [],
   "source": [
    "for i in range(1,6):\n",
    "    fig = scatter2d(df_fast.seconds_delta[start:end], df_fast[f'Cal_{i}_{comp_new}'][start:end],show_plot=False)\n",
    "    figprof = py_profile(df_fast.seconds_delta[start:end], df_fast[f'Cal_{i}_{comp_new}'][start:end], x_bins = x_bins, show_plot=False)\n",
    "    fig.add_trace(figprof.data[0])\n",
    "    iplot(fig)"
   ]
  },
  {
   "cell_type": "code",
   "execution_count": null,
   "metadata": {},
   "outputs": [],
   "source": []
  },
  {
   "cell_type": "code",
   "execution_count": null,
   "metadata": {},
   "outputs": [],
   "source": [
    "fig = histo(df_fast.Cal_1_Res_Rel, bins=50, show_plot=False)\n",
    "fig.layout.xaxis.title = (\"(NMR - |B_hall|) / NMR\")\n",
    "iplot(fig)"
   ]
  },
  {
   "cell_type": "code",
   "execution_count": null,
   "metadata": {},
   "outputs": [],
   "source": [
    "df_slow_old[\"Cal_Res_Rel\"] = (df_slow_old[\" NMR [T]\"] - df_slow_old[\"Cal\"]) / df_slow_old[\" NMR [T]\"]"
   ]
  },
  {
   "cell_type": "code",
   "execution_count": null,
   "metadata": {},
   "outputs": [],
   "source": [
    "df_slow_old = df_slow_old.loc[\"2019-08-10 12:30:00\":]"
   ]
  },
  {
   "cell_type": "code",
   "execution_count": null,
   "metadata": {},
   "outputs": [],
   "source": [
    "fig = histo(df_slow_old.Cal_Mag_Res_Rel, bins=50, show_plot=False)\n",
    "fig.layout.xaxis.title = (\"(NMR - |B_hall|) / NMR\")\n",
    "iplot(fig)"
   ]
  },
  {
   "cell_type": "code",
   "execution_count": null,
   "metadata": {},
   "outputs": [],
   "source": [
    "df_slow_old.columns"
   ]
  },
  {
   "cell_type": "code",
   "execution_count": null,
   "metadata": {},
   "outputs": [],
   "source": []
  },
  {
   "cell_type": "code",
   "execution_count": null,
   "metadata": {},
   "outputs": [],
   "source": [
    "## AVERAGING"
   ]
  },
  {
   "cell_type": "code",
   "execution_count": null,
   "metadata": {},
   "outputs": [],
   "source": [
    "df_fast[\"day\"] = df_fast.index.day"
   ]
  },
  {
   "cell_type": "code",
   "execution_count": 20,
   "metadata": {},
   "outputs": [],
   "source": [
    "import copy"
   ]
  },
  {
   "cell_type": "markdown",
   "metadata": {},
   "source": [
    "Average of residuals"
   ]
  },
  {
   "cell_type": "code",
   "execution_count": 22,
   "metadata": {},
   "outputs": [],
   "source": [
    "# Seeing effect of number of points in average\n",
    "#N = 10#30#10#20#10#30#60\n",
    "P = 3\n",
    "Ns = [10,60,120, 300, 1000]#[5, 10, 30, 60]\n",
    "\n",
    "df_fast_N = []\n",
    "\n",
    "for N in Ns:\n",
    "    #df_fast.loc[:, f\"Cal_{P}_Bmag_Avg\"] = df_fast[f\"Cal_{P}_Bmag\"].rolling(window = N, center=True).mean()\n",
    "    df_fast.loc[:, f\"Cal_{P}_Res_Rel_Avg\"] = df_fast[f\"Cal_{P}_Res_Rel\"].rolling(window = N, center=True).mean()\n",
    "    df_fast_N.append(copy.copy(df_fast[N // 2::N]))\n",
    "    #print(df_fast_N[-1][\"Cal_1_Bmag_Avg_Res_Rel\"].describe())\n",
    "\n",
    "#df_fast_5 = df_fast[N // 2::N]\n",
    "#print([df[\"Cal_1_Bmag_Avg_Res_Rel\"].describe() for df in df_fast_N])"
   ]
  },
  {
   "cell_type": "code",
   "execution_count": 24,
   "metadata": {},
   "outputs": [],
   "source": [
    "fig = histo([df_fast[f'Cal_{P}_Res_Rel']]+[df[f'Cal_{P}_Res_Rel_Avg'] for df in df_fast_N], bins=100,\n",
    "            same_bins=False, show_plot=False, opacity=0.5, inline=True, cut=[0.,0.999])\n",
    "fig.update_traces(histnorm='probability') # \"probability density\"\n",
    "fig.layout.xaxis.title = (\"(NMR - |B_hall|) / NMR\")\n",
    "fig.layout.yaxis.title = (\"Normalized Counts\")\n",
    "#iplot(fig)"
   ]
  },
  {
   "cell_type": "code",
   "execution_count": 25,
   "metadata": {},
   "outputs": [
    {
     "data": {
      "image/png": "[encoded data removed]",
      "text/plain": [
       "<wand.image.Image: 52d3eba 'PDF' (529x379)>"
      ]
     },
     "execution_count": 25,
     "metadata": {},
     "output_type": "execute_result"
    }
   ],
   "source": [
    "pplot(fig)"
   ]
  },
  {
   "cell_type": "markdown",
   "metadata": {},
   "source": [
    "Residuals of average"
   ]
  },
  {
   "cell_type": "code",
   "execution_count": 26,
   "metadata": {},
   "outputs": [],
   "source": [
    "# Seeing effect of number of points in average\n",
    "#N = 10#30#10#20#10#30#60\n",
    "P = 3\n",
    "Ns = [10,60,120, 300, 1000]#[5, 10, 30, 60]\n",
    "\n",
    "df_fast_N = []\n",
    "\n",
    "for N in Ns:\n",
    "    df_fast.loc[:, f\"Cal_{P}_Bmag_Avg\"] = df_fast[f\"Cal_{P}_Bmag\"].rolling(window = N, center=True).mean()\n",
    "    df_fast.loc[:, f\"Cal_{P}_Bmag_Avg_Res_Rel\"] = (df_fast[\"NMR\"] - df_fast[f\"Cal_{P}_Bmag_Avg\"])/df_fast[\"NMR\"]\n",
    "    df_fast_N.append(copy.copy(df_fast[N // 2::N]))\n",
    "    #print(df_fast_N[-1][\"Cal_1_Bmag_Avg_Res_Rel\"].describe())\n",
    "\n",
    "#df_fast_5 = df_fast[N // 2::N]\n",
    "#print([df[\"Cal_1_Bmag_Avg_Res_Rel\"].describe() for df in df_fast_N])"
   ]
  },
  {
   "cell_type": "code",
   "execution_count": 27,
   "metadata": {},
   "outputs": [],
   "source": [
    "fig = histo([df_fast[f'Cal_{P}_Res_Rel']]+[df[f'Cal_{P}_Bmag_Avg_Res_Rel'] for df in df_fast_N], bins=100,\n",
    "            same_bins=False, show_plot=False, opacity=0.5, inline=True, cut=[0.,0.999])\n",
    "fig.update_traces(histnorm='probability') # \"probability density\"\n",
    "fig.layout.xaxis.title = (\"(NMR - |B_hall|) / NMR\")\n",
    "fig.layout.yaxis.title = (\"Normalized Counts\")\n",
    "#iplot(fig)"
   ]
  },
  {
   "cell_type": "code",
   "execution_count": 28,
   "metadata": {},
   "outputs": [
    {
     "data": {
      "image/png": "[encoded data removed]",
      "text/plain": [
       "<wand.image.Image: 79a476e 'PDF' (529x379)>"
      ]
     },
     "execution_count": 28,
     "metadata": {},
     "output_type": "execute_result"
    }
   ],
   "source": [
    "pplot(fig)"
   ]
  },
  {
   "cell_type": "code",
   "execution_count": null,
   "metadata": {},
   "outputs": [],
   "source": [
    "fig.layout.xaxis.title = \"(NMR [T] - |Hall| [T]) / (NMR [T])\"\n",
    "fig.layout.title = \"Histo: Relative Residuals<br>Averaging: NONE, 10 s, 60 s\"\n",
    "\n",
    "filename = plotdir+\"rel_residuals_avg\"\n",
    "pio.write_image(fig, filename+\".pdf\")\n",
    "pio.write_image(fig, filename+\".png\")"
   ]
  },
  {
   "cell_type": "code",
   "execution_count": null,
   "metadata": {},
   "outputs": [],
   "source": []
  },
  {
   "cell_type": "code",
   "execution_count": null,
   "metadata": {},
   "outputs": [],
   "source": [
    "fig = px.histogram(df_fast_N[1], x='Cal_3_Bmag_Avg_Res_Rel', histnorm=\"probability\", color=\"day\")\n",
    "fig.show()"
   ]
  },
  {
   "cell_type": "code",
   "execution_count": null,
   "metadata": {},
   "outputs": [],
   "source": [
    "fig = px.histogram(df_fast_N[1], x='Cal_3_Bmag_Avg_Res_Rel', histnorm=\"probability\", color=\"day\")\n",
    "fig.show()"
   ]
  },
  {
   "cell_type": "code",
   "execution_count": null,
   "metadata": {},
   "outputs": [],
   "source": [
    "#df_slim = df_fast.query(\"day in [5,6,7,8,9,10]\")\n",
    "df_slim = df_fast.query(\"5 <= day <= 10\")"
   ]
  },
  {
   "cell_type": "code",
   "execution_count": null,
   "metadata": {},
   "outputs": [],
   "source": [
    "len(df_slim)"
   ]
  },
  {
   "cell_type": "code",
   "execution_count": null,
   "metadata": {},
   "outputs": [],
   "source": [
    "fig = px.histogram(df_slim, x='Cal_3_Bmag_Avg_Res_Rel', histnorm=\"probability density\", color=\"day\")\n",
    "fig.show()"
   ]
  },
  {
   "cell_type": "code",
   "execution_count": null,
   "metadata": {},
   "outputs": [],
   "source": [
    "# Seeing effect of number of points in average\n",
    "#N = 10#30#10#20#10#30#60\n",
    "P = 3\n",
    "Ns = [10,60,120, 300, 1000]#[5, 10, 30, 60]\n",
    "\n",
    "df_fast_N = []\n",
    "\n",
    "for N in Ns:\n",
    "    df_slim.loc[:, f\"Cal_{P}_Bmag_Avg\"] = df_slim[f\"Cal_{P}_Bmag\"].rolling(window = N, center=True).mean()\n",
    "    df_slim.loc[:, f\"Cal_{P}_Bmag_Avg_Res_Rel\"] = (df_slim[\"NMR\"] - df_slim[f\"Cal_{P}_Bmag_Avg\"])/df_slim[\"NMR\"]\n",
    "    df_fast_N.append(copy.copy(df_slim[N // 2::N]))\n",
    "    #print(df_fast_N[-1][\"Cal_1_Bmag_Avg_Res_Rel\"].describe())\n",
    "\n",
    "#df_fast_5 = df_fast[N // 2::N]\n",
    "#print([df[\"Cal_1_Bmag_Avg_Res_Rel\"].describe() for df in df_fast_N])"
   ]
  },
  {
   "cell_type": "code",
   "execution_count": null,
   "metadata": {},
   "outputs": [],
   "source": [
    "fig = histo([df_slim[f'Cal_{P}_Res_Rel']]+[df[f'Cal_{P}_Bmag_Avg_Res_Rel'] for df in df_fast_N], bins=100,\n",
    "            same_bins=False, show_plot=False, opacity=0.5, inline=True, cut=[0.,0.999])\n",
    "fig.update_traces(histnorm='probability') # \"probability density\"\n",
    "fig.layout.xaxis.title = (\"(NMR - |B_hall|) / NMR\")\n",
    "fig.layout.yaxis.title = (\"Normalized Counts\")\n",
    "iplot(fig)"
   ]
  },
  {
   "cell_type": "code",
   "execution_count": null,
   "metadata": {},
   "outputs": [],
   "source": []
  },
  {
   "cell_type": "code",
   "execution_count": null,
   "metadata": {},
   "outputs": [],
   "source": []
  },
  {
   "cell_type": "code",
   "execution_count": null,
   "metadata": {},
   "outputs": [],
   "source": [
    "# Seeing effect of number of points in average\n",
    "#N = 10#30#10#20#10#30#60\n",
    "Ns = [10,60]#[5, 10, 30, 60]\n",
    "\n",
    "df_fast_N = []\n",
    "\n",
    "for N in Ns:\n",
    "    df_slow_old.loc[:, \"Cal_1_Bmag_Avg\"] = df_slow_old[\"Cal_Mag\"].rolling(window = N, center=True).mean()\n",
    "    df_slow_old.loc[:, \"Cal_1_Bmag_Avg_Res_Rel\"] = (df_slow_old[\" NMR [T]\"] - df_slow_old[\"Cal_1_Bmag_Avg\"])/df_slow_old[\" NMR [T]\"]\n",
    "    df_fast_N.append(copy.copy(df_slow_old[N // 2::N]))\n",
    "    #print(df_fast_N[-1][\"Cal_1_Bmag_Avg_Res_Rel\"].describe())\n",
    "\n",
    "#df_fast_5 = df_fast[N // 2::N]\n",
    "#print([df[\"Cal_1_Bmag_Avg_Res_Rel\"].describe() for df in df_fast_N])"
   ]
  },
  {
   "cell_type": "code",
   "execution_count": null,
   "metadata": {},
   "outputs": [],
   "source": [
    "fig = histo([df_slow_old.Cal_Mag_Res_Rel]+[df.Cal_1_Bmag_Avg_Res_Rel for df in df_fast_N], bins=15,same_bins=False, show_plot=False, opacity=0.5, inline=True)\n",
    "fig.update_traces(histnorm='probability density')\n",
    "fig.layout.xaxis.title = (\"(NMR - |B_hall|) / NMR\")\n",
    "fig.layout.yaxis.title = (\"Normalized Counts\")\n",
    "iplot(fig)"
   ]
  },
  {
   "cell_type": "code",
   "execution_count": null,
   "metadata": {},
   "outputs": [],
   "source": []
  }
 ],
 "metadata": {
  "kernelspec": {
   "display_name": "Python [conda env:Mu2E]",
   "language": "python",
   "name": "conda-env-Mu2E-py"
  },
  "language_info": {
   "codemirror_mode": {
    "name": "ipython",
    "version": 3
   },
   "file_extension": ".py",
   "mimetype": "text/x-python",
   "name": "python",
   "nbconvert_exporter": "python",
   "pygments_lexer": "ipython3",
   "version": "3.7.4"
  }
 },
 "nbformat": 4,
 "nbformat_minor": 2
}
