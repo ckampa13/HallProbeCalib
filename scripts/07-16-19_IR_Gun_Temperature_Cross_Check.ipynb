{
 "cells": [
  {
   "cell_type": "markdown",
   "metadata": {},
   "source": [
    "## Imports"
   ]
  },
  {
   "cell_type": "code",
   "execution_count": 1,
   "metadata": {},
   "outputs": [],
   "source": [
    "%load_ext autoreload\n",
    "%autoreload 2"
   ]
  },
  {
   "cell_type": "code",
   "execution_count": 3,
   "metadata": {},
   "outputs": [
    {
     "data": {
      "text/html": [
       "<script type=\"text/javascript\">window.PlotlyConfig = {MathJaxConfig: 'local'};</script><script type=\"text/javascript\">if (window.MathJax) {MathJax.Hub.Config({SVG: {font: \"STIX-Web\"}});}</script><script>requirejs.config({paths: { 'plotly': ['https://cdn.plot.ly/plotly-latest.min']},});if(!window._Plotly) {require(['plotly'],function(plotly) {window._Plotly=plotly;});}</script>"
      ],
      "text/vnd.plotly.v1+html": [
       "<script type=\"text/javascript\">window.PlotlyConfig = {MathJaxConfig: 'local'};</script><script type=\"text/javascript\">if (window.MathJax) {MathJax.Hub.Config({SVG: {font: \"STIX-Web\"}});}</script><script>requirejs.config({paths: { 'plotly': ['https://cdn.plot.ly/plotly-latest.min']},});if(!window._Plotly) {require(['plotly'],function(plotly) {window._Plotly=plotly;});}</script>"
      ]
     },
     "metadata": {},
     "output_type": "display_data"
    }
   ],
   "source": [
    "import numpy as np\n",
    "import pandas as pd\n",
    "import pickle as pkl\n",
    "from datetime import datetime\n",
    "from dateutil import parser\n",
    "\n",
    "import matplotlib.pyplot as plt\n",
    "from mpl_toolkits.mplot3d import Axes3D\n",
    "%matplotlib inline\n",
    "plt.rcParams['figure.figsize'] = (12.0, 8.0)\n",
    "plt.rcParams['axes.axisbelow'] = True\n",
    "\n",
    "from plotly.offline import init_notebook_mode, plot, iplot\n",
    "import plotly.graph_objs as go\n",
    "import plotly.io as pio\n",
    "init_notebook_mode(True)\n",
    "\n",
    "from hallprobecalib import hpc_ext_path\n",
    "from hallprobecalib.hpcplots import scatter2d,scatter3d,histo"
   ]
  },
  {
   "cell_type": "markdown",
   "metadata": {},
   "source": [
    "## Load Data From Temp Sensors"
   ]
  },
  {
   "cell_type": "code",
   "execution_count": 4,
   "metadata": {},
   "outputs": [],
   "source": [
    "plotdir = hpc_ext_path+'plots/temp_cross_check/2019-07-16/'"
   ]
  },
  {
   "cell_type": "code",
   "execution_count": 23,
   "metadata": {},
   "outputs": [],
   "source": [
    "directory = '/home/ckampa/Dropbox/LogFiles/'#hpc_ext_path+'datafiles/magnet_stability/nmr/'\n",
    "filename = '2019-07-15 081357slow.txt'#'2019-07-10 161439slow.txt'#'2019-06-26 145723slow.txt'"
   ]
  },
  {
   "cell_type": "code",
   "execution_count": 24,
   "metadata": {},
   "outputs": [],
   "source": [
    "df = pd.read_csv(directory+filename)"
   ]
  },
  {
   "cell_type": "code",
   "execution_count": 54,
   "metadata": {},
   "outputs": [],
   "source": [
    "df.columns = df.columns.str.strip().str.replace(\" \",\"_\")\n",
    "df.columns = df.columns.str.strip().str.replace(\"Chamber_Wall_\",\"\")"
   ]
  },
  {
   "cell_type": "code",
   "execution_count": 26,
   "metadata": {},
   "outputs": [
    {
     "data": {
      "text/plain": [
       "1554"
      ]
     },
     "execution_count": 26,
     "metadata": {},
     "output_type": "execute_result"
    }
   ],
   "source": [
    "len(df)"
   ]
  },
  {
   "cell_type": "code",
   "execution_count": 27,
   "metadata": {},
   "outputs": [],
   "source": [
    "df = df[df[\"NMR_[T]\"] != 0]"
   ]
  },
  {
   "cell_type": "code",
   "execution_count": 28,
   "metadata": {},
   "outputs": [
    {
     "data": {
      "text/plain": [
       "1554"
      ]
     },
     "execution_count": 28,
     "metadata": {},
     "output_type": "execute_result"
    }
   ],
   "source": [
    "len(df)"
   ]
  },
  {
   "cell_type": "code",
   "execution_count": 29,
   "metadata": {},
   "outputs": [],
   "source": [
    "dates = [parser.parse(row.Time) for row in df.itertuples()]# if isdatetime(row.Time.values[0])]\n",
    "df[\"Datetime\"] = pd.to_datetime(dates).astype(\"str\")\n",
    "df = df.set_index(\"Datetime\")"
   ]
  },
  {
   "cell_type": "code",
   "execution_count": 33,
   "metadata": {},
   "outputs": [
    {
     "data": {
      "text/html": [
       "<div>\n",
       "<style scoped>\n",
       "    .dataframe tbody tr th:only-of-type {\n",
       "        vertical-align: middle;\n",
       "    }\n",
       "\n",
       "    .dataframe tbody tr th {\n",
       "        vertical-align: top;\n",
       "    }\n",
       "\n",
       "    .dataframe thead th {\n",
       "        text-align: right;\n",
       "    }\n",
       "</style>\n",
       "<table border=\"1\" class=\"dataframe\">\n",
       "  <thead>\n",
       "    <tr style=\"text-align: right;\">\n",
       "      <th></th>\n",
       "      <th>Time</th>\n",
       "      <th>Magnet_Current_[A]</th>\n",
       "      <th>Magnet_Voltage_[V]</th>\n",
       "      <th>Coil_1_(new)</th>\n",
       "      <th>Coil_2_(old)</th>\n",
       "      <th>LCW_in_Coil1</th>\n",
       "      <th>LCW_out_Coil_1</th>\n",
       "      <th>LCW_in_Coil_2</th>\n",
       "      <th>LCW_out_Coil_2</th>\n",
       "      <th>Yoke</th>\n",
       "      <th>...</th>\n",
       "      <th>LCW_to_magnet</th>\n",
       "      <th>NMR_[T]</th>\n",
       "      <th>NMR_[FFT]</th>\n",
       "      <th>Zaber_Meas_MicroStep_X</th>\n",
       "      <th>Zaber_Meas_Encoder_X</th>\n",
       "      <th>Zaber_Meas_MicroStep_Y</th>\n",
       "      <th>Zaber_Meas_Encoder_Y</th>\n",
       "      <th>Zaber_Meas_MicroStep_Z</th>\n",
       "      <th>Zaber_Meas_Encoder_Z</th>\n",
       "      <th></th>\n",
       "    </tr>\n",
       "    <tr>\n",
       "      <th>Datetime</th>\n",
       "      <th></th>\n",
       "      <th></th>\n",
       "      <th></th>\n",
       "      <th></th>\n",
       "      <th></th>\n",
       "      <th></th>\n",
       "      <th></th>\n",
       "      <th></th>\n",
       "      <th></th>\n",
       "      <th></th>\n",
       "      <th></th>\n",
       "      <th></th>\n",
       "      <th></th>\n",
       "      <th></th>\n",
       "      <th></th>\n",
       "      <th></th>\n",
       "      <th></th>\n",
       "      <th></th>\n",
       "      <th></th>\n",
       "      <th></th>\n",
       "      <th></th>\n",
       "    </tr>\n",
       "  </thead>\n",
       "  <tbody>\n",
       "    <tr>\n",
       "      <th>2019-07-16 09:53:36</th>\n",
       "      <td>7/16/2019 9:53:36 AM</td>\n",
       "      <td>256.069391</td>\n",
       "      <td>33.804767</td>\n",
       "      <td>55.450840</td>\n",
       "      <td>52.884720</td>\n",
       "      <td>31.067026</td>\n",
       "      <td>34.074745</td>\n",
       "      <td>32.457222</td>\n",
       "      <td>38.410057</td>\n",
       "      <td>29.399656</td>\n",
       "      <td>...</td>\n",
       "      <td>31.155804</td>\n",
       "      <td>1.249125</td>\n",
       "      <td>0.0</td>\n",
       "      <td>210351.5625</td>\n",
       "      <td>538500.0</td>\n",
       "      <td>178906.25</td>\n",
       "      <td>458000.0</td>\n",
       "      <td>642578.125</td>\n",
       "      <td>1645000.0</td>\n",
       "      <td>NaN</td>\n",
       "    </tr>\n",
       "    <tr>\n",
       "      <th>2019-07-16 09:54:36</th>\n",
       "      <td>7/16/2019 9:54:36 AM</td>\n",
       "      <td>256.069358</td>\n",
       "      <td>33.805050</td>\n",
       "      <td>55.314220</td>\n",
       "      <td>52.728951</td>\n",
       "      <td>31.064089</td>\n",
       "      <td>34.070446</td>\n",
       "      <td>32.630970</td>\n",
       "      <td>38.366184</td>\n",
       "      <td>29.399675</td>\n",
       "      <td>...</td>\n",
       "      <td>31.179604</td>\n",
       "      <td>1.249124</td>\n",
       "      <td>0.0</td>\n",
       "      <td>210351.5625</td>\n",
       "      <td>538500.0</td>\n",
       "      <td>178906.25</td>\n",
       "      <td>458000.0</td>\n",
       "      <td>642578.125</td>\n",
       "      <td>1645000.0</td>\n",
       "      <td>NaN</td>\n",
       "    </tr>\n",
       "    <tr>\n",
       "      <th>2019-07-16 09:55:36</th>\n",
       "      <td>7/16/2019 9:55:36 AM</td>\n",
       "      <td>256.069350</td>\n",
       "      <td>33.805467</td>\n",
       "      <td>55.304298</td>\n",
       "      <td>52.787628</td>\n",
       "      <td>31.071636</td>\n",
       "      <td>34.071884</td>\n",
       "      <td>32.526150</td>\n",
       "      <td>38.446625</td>\n",
       "      <td>29.408203</td>\n",
       "      <td>...</td>\n",
       "      <td>31.138071</td>\n",
       "      <td>1.249123</td>\n",
       "      <td>0.0</td>\n",
       "      <td>210351.5625</td>\n",
       "      <td>538500.0</td>\n",
       "      <td>178906.25</td>\n",
       "      <td>458000.0</td>\n",
       "      <td>642578.125</td>\n",
       "      <td>1645000.0</td>\n",
       "      <td>NaN</td>\n",
       "    </tr>\n",
       "    <tr>\n",
       "      <th>2019-07-16 09:56:36</th>\n",
       "      <td>7/16/2019 9:56:36 AM</td>\n",
       "      <td>256.069356</td>\n",
       "      <td>33.805617</td>\n",
       "      <td>55.225750</td>\n",
       "      <td>52.777535</td>\n",
       "      <td>31.076521</td>\n",
       "      <td>34.128124</td>\n",
       "      <td>32.434517</td>\n",
       "      <td>38.483314</td>\n",
       "      <td>29.410212</td>\n",
       "      <td>...</td>\n",
       "      <td>31.131432</td>\n",
       "      <td>1.249123</td>\n",
       "      <td>0.0</td>\n",
       "      <td>210351.5625</td>\n",
       "      <td>538500.0</td>\n",
       "      <td>178906.25</td>\n",
       "      <td>458000.0</td>\n",
       "      <td>642578.125</td>\n",
       "      <td>1645000.0</td>\n",
       "      <td>NaN</td>\n",
       "    </tr>\n",
       "    <tr>\n",
       "      <th>2019-07-16 09:57:36</th>\n",
       "      <td>7/16/2019 9:57:36 AM</td>\n",
       "      <td>256.069352</td>\n",
       "      <td>33.805667</td>\n",
       "      <td>55.272507</td>\n",
       "      <td>52.790504</td>\n",
       "      <td>31.052425</td>\n",
       "      <td>34.089020</td>\n",
       "      <td>32.330608</td>\n",
       "      <td>38.463943</td>\n",
       "      <td>29.401073</td>\n",
       "      <td>...</td>\n",
       "      <td>31.156492</td>\n",
       "      <td>1.249122</td>\n",
       "      <td>0.0</td>\n",
       "      <td>210351.5625</td>\n",
       "      <td>538500.0</td>\n",
       "      <td>178906.25</td>\n",
       "      <td>458000.0</td>\n",
       "      <td>642578.125</td>\n",
       "      <td>1645000.0</td>\n",
       "      <td>NaN</td>\n",
       "    </tr>\n",
       "    <tr>\n",
       "      <th>2019-07-16 09:58:36</th>\n",
       "      <td>7/16/2019 9:58:36 AM</td>\n",
       "      <td>256.069390</td>\n",
       "      <td>33.805550</td>\n",
       "      <td>55.297154</td>\n",
       "      <td>52.807064</td>\n",
       "      <td>31.064838</td>\n",
       "      <td>34.099098</td>\n",
       "      <td>32.333031</td>\n",
       "      <td>38.445641</td>\n",
       "      <td>29.407572</td>\n",
       "      <td>...</td>\n",
       "      <td>31.144789</td>\n",
       "      <td>1.249122</td>\n",
       "      <td>0.0</td>\n",
       "      <td>210351.5625</td>\n",
       "      <td>538500.0</td>\n",
       "      <td>178906.25</td>\n",
       "      <td>458000.0</td>\n",
       "      <td>642578.125</td>\n",
       "      <td>1645000.0</td>\n",
       "      <td>NaN</td>\n",
       "    </tr>\n",
       "    <tr>\n",
       "      <th>2019-07-16 09:59:36</th>\n",
       "      <td>7/16/2019 9:59:36 AM</td>\n",
       "      <td>256.069356</td>\n",
       "      <td>33.805483</td>\n",
       "      <td>55.441433</td>\n",
       "      <td>52.776958</td>\n",
       "      <td>31.068365</td>\n",
       "      <td>34.099018</td>\n",
       "      <td>32.422966</td>\n",
       "      <td>38.501797</td>\n",
       "      <td>29.434649</td>\n",
       "      <td>...</td>\n",
       "      <td>31.124300</td>\n",
       "      <td>1.249122</td>\n",
       "      <td>0.0</td>\n",
       "      <td>210351.5625</td>\n",
       "      <td>538500.0</td>\n",
       "      <td>178906.25</td>\n",
       "      <td>458000.0</td>\n",
       "      <td>642578.125</td>\n",
       "      <td>1645000.0</td>\n",
       "      <td>NaN</td>\n",
       "    </tr>\n",
       "    <tr>\n",
       "      <th>2019-07-16 10:00:36</th>\n",
       "      <td>7/16/2019 10:00:36 AM</td>\n",
       "      <td>256.069370</td>\n",
       "      <td>33.805400</td>\n",
       "      <td>55.396225</td>\n",
       "      <td>52.770752</td>\n",
       "      <td>31.062790</td>\n",
       "      <td>34.076717</td>\n",
       "      <td>32.462486</td>\n",
       "      <td>38.470478</td>\n",
       "      <td>29.433624</td>\n",
       "      <td>...</td>\n",
       "      <td>31.119688</td>\n",
       "      <td>1.249121</td>\n",
       "      <td>0.0</td>\n",
       "      <td>210351.5625</td>\n",
       "      <td>538500.0</td>\n",
       "      <td>178906.25</td>\n",
       "      <td>458000.0</td>\n",
       "      <td>642578.125</td>\n",
       "      <td>1645000.0</td>\n",
       "      <td>NaN</td>\n",
       "    </tr>\n",
       "    <tr>\n",
       "      <th>2019-07-16 10:01:36</th>\n",
       "      <td>7/16/2019 10:01:36 AM</td>\n",
       "      <td>256.069350</td>\n",
       "      <td>33.805333</td>\n",
       "      <td>55.419346</td>\n",
       "      <td>52.821934</td>\n",
       "      <td>31.074394</td>\n",
       "      <td>34.125622</td>\n",
       "      <td>32.368195</td>\n",
       "      <td>38.452866</td>\n",
       "      <td>29.430395</td>\n",
       "      <td>...</td>\n",
       "      <td>31.130308</td>\n",
       "      <td>1.249121</td>\n",
       "      <td>0.0</td>\n",
       "      <td>210351.5625</td>\n",
       "      <td>538500.0</td>\n",
       "      <td>178906.25</td>\n",
       "      <td>458000.0</td>\n",
       "      <td>642578.125</td>\n",
       "      <td>1645000.0</td>\n",
       "      <td>NaN</td>\n",
       "    </tr>\n",
       "    <tr>\n",
       "      <th>2019-07-16 10:02:36</th>\n",
       "      <td>7/16/2019 10:02:36 AM</td>\n",
       "      <td>256.069367</td>\n",
       "      <td>33.805150</td>\n",
       "      <td>55.250359</td>\n",
       "      <td>52.756157</td>\n",
       "      <td>31.047382</td>\n",
       "      <td>34.059502</td>\n",
       "      <td>32.439423</td>\n",
       "      <td>38.403721</td>\n",
       "      <td>29.421238</td>\n",
       "      <td>...</td>\n",
       "      <td>31.127117</td>\n",
       "      <td>1.249120</td>\n",
       "      <td>0.0</td>\n",
       "      <td>210351.5625</td>\n",
       "      <td>538500.0</td>\n",
       "      <td>178906.25</td>\n",
       "      <td>458000.0</td>\n",
       "      <td>642578.125</td>\n",
       "      <td>1645000.0</td>\n",
       "      <td>NaN</td>\n",
       "    </tr>\n",
       "    <tr>\n",
       "      <th>2019-07-16 10:03:36</th>\n",
       "      <td>7/16/2019 10:03:36 AM</td>\n",
       "      <td>256.069328</td>\n",
       "      <td>33.804917</td>\n",
       "      <td>55.303307</td>\n",
       "      <td>52.808907</td>\n",
       "      <td>31.031838</td>\n",
       "      <td>34.066204</td>\n",
       "      <td>32.461971</td>\n",
       "      <td>38.373608</td>\n",
       "      <td>29.421553</td>\n",
       "      <td>...</td>\n",
       "      <td>31.130623</td>\n",
       "      <td>1.249120</td>\n",
       "      <td>0.0</td>\n",
       "      <td>210351.5625</td>\n",
       "      <td>538500.0</td>\n",
       "      <td>178906.25</td>\n",
       "      <td>458000.0</td>\n",
       "      <td>642578.125</td>\n",
       "      <td>1645000.0</td>\n",
       "      <td>NaN</td>\n",
       "    </tr>\n",
       "    <tr>\n",
       "      <th>2019-07-16 10:04:36</th>\n",
       "      <td>7/16/2019 10:04:36 AM</td>\n",
       "      <td>256.069325</td>\n",
       "      <td>33.804767</td>\n",
       "      <td>55.298664</td>\n",
       "      <td>52.819199</td>\n",
       "      <td>31.060938</td>\n",
       "      <td>34.056129</td>\n",
       "      <td>32.394878</td>\n",
       "      <td>38.432587</td>\n",
       "      <td>29.429037</td>\n",
       "      <td>...</td>\n",
       "      <td>31.136810</td>\n",
       "      <td>1.249120</td>\n",
       "      <td>0.0</td>\n",
       "      <td>210351.5625</td>\n",
       "      <td>538500.0</td>\n",
       "      <td>178906.25</td>\n",
       "      <td>458000.0</td>\n",
       "      <td>642578.125</td>\n",
       "      <td>1645000.0</td>\n",
       "      <td>NaN</td>\n",
       "    </tr>\n",
       "    <tr>\n",
       "      <th>2019-07-16 10:05:36</th>\n",
       "      <td>7/16/2019 10:05:36 AM</td>\n",
       "      <td>256.069309</td>\n",
       "      <td>33.804617</td>\n",
       "      <td>55.259449</td>\n",
       "      <td>52.765202</td>\n",
       "      <td>31.055027</td>\n",
       "      <td>34.086636</td>\n",
       "      <td>32.419930</td>\n",
       "      <td>38.428837</td>\n",
       "      <td>29.428387</td>\n",
       "      <td>...</td>\n",
       "      <td>31.140593</td>\n",
       "      <td>1.249119</td>\n",
       "      <td>0.0</td>\n",
       "      <td>210351.5625</td>\n",
       "      <td>538500.0</td>\n",
       "      <td>178906.25</td>\n",
       "      <td>458000.0</td>\n",
       "      <td>642578.125</td>\n",
       "      <td>1645000.0</td>\n",
       "      <td>NaN</td>\n",
       "    </tr>\n",
       "    <tr>\n",
       "      <th>2019-07-16 10:06:36</th>\n",
       "      <td>7/16/2019 10:06:36 AM</td>\n",
       "      <td>256.069395</td>\n",
       "      <td>33.804500</td>\n",
       "      <td>55.510696</td>\n",
       "      <td>52.781025</td>\n",
       "      <td>31.078157</td>\n",
       "      <td>34.074131</td>\n",
       "      <td>32.513218</td>\n",
       "      <td>38.427929</td>\n",
       "      <td>29.445951</td>\n",
       "      <td>...</td>\n",
       "      <td>31.116715</td>\n",
       "      <td>1.249119</td>\n",
       "      <td>0.0</td>\n",
       "      <td>210351.5625</td>\n",
       "      <td>538500.0</td>\n",
       "      <td>178906.25</td>\n",
       "      <td>458000.0</td>\n",
       "      <td>642578.125</td>\n",
       "      <td>1645000.0</td>\n",
       "      <td>NaN</td>\n",
       "    </tr>\n",
       "    <tr>\n",
       "      <th>2019-07-16 10:07:36</th>\n",
       "      <td>7/16/2019 10:07:36 AM</td>\n",
       "      <td>256.069300</td>\n",
       "      <td>33.804350</td>\n",
       "      <td>55.328274</td>\n",
       "      <td>52.765183</td>\n",
       "      <td>31.071478</td>\n",
       "      <td>34.072140</td>\n",
       "      <td>32.390701</td>\n",
       "      <td>38.423305</td>\n",
       "      <td>29.436264</td>\n",
       "      <td>...</td>\n",
       "      <td>31.126093</td>\n",
       "      <td>1.249119</td>\n",
       "      <td>0.0</td>\n",
       "      <td>210351.5625</td>\n",
       "      <td>538500.0</td>\n",
       "      <td>178906.25</td>\n",
       "      <td>458000.0</td>\n",
       "      <td>642578.125</td>\n",
       "      <td>1645000.0</td>\n",
       "      <td>NaN</td>\n",
       "    </tr>\n",
       "  </tbody>\n",
       "</table>\n",
       "<p>15 rows × 52 columns</p>\n",
       "</div>"
      ],
      "text/plain": [
       "                                      Time  Magnet_Current_[A]  \\\n",
       "Datetime                                                         \n",
       "2019-07-16 09:53:36   7/16/2019 9:53:36 AM          256.069391   \n",
       "2019-07-16 09:54:36   7/16/2019 9:54:36 AM          256.069358   \n",
       "2019-07-16 09:55:36   7/16/2019 9:55:36 AM          256.069350   \n",
       "2019-07-16 09:56:36   7/16/2019 9:56:36 AM          256.069356   \n",
       "2019-07-16 09:57:36   7/16/2019 9:57:36 AM          256.069352   \n",
       "2019-07-16 09:58:36   7/16/2019 9:58:36 AM          256.069390   \n",
       "2019-07-16 09:59:36   7/16/2019 9:59:36 AM          256.069356   \n",
       "2019-07-16 10:00:36  7/16/2019 10:00:36 AM          256.069370   \n",
       "2019-07-16 10:01:36  7/16/2019 10:01:36 AM          256.069350   \n",
       "2019-07-16 10:02:36  7/16/2019 10:02:36 AM          256.069367   \n",
       "2019-07-16 10:03:36  7/16/2019 10:03:36 AM          256.069328   \n",
       "2019-07-16 10:04:36  7/16/2019 10:04:36 AM          256.069325   \n",
       "2019-07-16 10:05:36  7/16/2019 10:05:36 AM          256.069309   \n",
       "2019-07-16 10:06:36  7/16/2019 10:06:36 AM          256.069395   \n",
       "2019-07-16 10:07:36  7/16/2019 10:07:36 AM          256.069300   \n",
       "\n",
       "                     Magnet_Voltage_[V]  Coil_1_(new)  Coil_2_(old)  \\\n",
       "Datetime                                                              \n",
       "2019-07-16 09:53:36           33.804767     55.450840     52.884720   \n",
       "2019-07-16 09:54:36           33.805050     55.314220     52.728951   \n",
       "2019-07-16 09:55:36           33.805467     55.304298     52.787628   \n",
       "2019-07-16 09:56:36           33.805617     55.225750     52.777535   \n",
       "2019-07-16 09:57:36           33.805667     55.272507     52.790504   \n",
       "2019-07-16 09:58:36           33.805550     55.297154     52.807064   \n",
       "2019-07-16 09:59:36           33.805483     55.441433     52.776958   \n",
       "2019-07-16 10:00:36           33.805400     55.396225     52.770752   \n",
       "2019-07-16 10:01:36           33.805333     55.419346     52.821934   \n",
       "2019-07-16 10:02:36           33.805150     55.250359     52.756157   \n",
       "2019-07-16 10:03:36           33.804917     55.303307     52.808907   \n",
       "2019-07-16 10:04:36           33.804767     55.298664     52.819199   \n",
       "2019-07-16 10:05:36           33.804617     55.259449     52.765202   \n",
       "2019-07-16 10:06:36           33.804500     55.510696     52.781025   \n",
       "2019-07-16 10:07:36           33.804350     55.328274     52.765183   \n",
       "\n",
       "                     LCW_in_Coil1  LCW_out_Coil_1  LCW_in_Coil_2  \\\n",
       "Datetime                                                           \n",
       "2019-07-16 09:53:36     31.067026       34.074745      32.457222   \n",
       "2019-07-16 09:54:36     31.064089       34.070446      32.630970   \n",
       "2019-07-16 09:55:36     31.071636       34.071884      32.526150   \n",
       "2019-07-16 09:56:36     31.076521       34.128124      32.434517   \n",
       "2019-07-16 09:57:36     31.052425       34.089020      32.330608   \n",
       "2019-07-16 09:58:36     31.064838       34.099098      32.333031   \n",
       "2019-07-16 09:59:36     31.068365       34.099018      32.422966   \n",
       "2019-07-16 10:00:36     31.062790       34.076717      32.462486   \n",
       "2019-07-16 10:01:36     31.074394       34.125622      32.368195   \n",
       "2019-07-16 10:02:36     31.047382       34.059502      32.439423   \n",
       "2019-07-16 10:03:36     31.031838       34.066204      32.461971   \n",
       "2019-07-16 10:04:36     31.060938       34.056129      32.394878   \n",
       "2019-07-16 10:05:36     31.055027       34.086636      32.419930   \n",
       "2019-07-16 10:06:36     31.078157       34.074131      32.513218   \n",
       "2019-07-16 10:07:36     31.071478       34.072140      32.390701   \n",
       "\n",
       "                     LCW_out_Coil_2       Yoke ...  LCW_to_magnet   NMR_[T]  \\\n",
       "Datetime                                       ...                            \n",
       "2019-07-16 09:53:36       38.410057  29.399656 ...      31.155804  1.249125   \n",
       "2019-07-16 09:54:36       38.366184  29.399675 ...      31.179604  1.249124   \n",
       "2019-07-16 09:55:36       38.446625  29.408203 ...      31.138071  1.249123   \n",
       "2019-07-16 09:56:36       38.483314  29.410212 ...      31.131432  1.249123   \n",
       "2019-07-16 09:57:36       38.463943  29.401073 ...      31.156492  1.249122   \n",
       "2019-07-16 09:58:36       38.445641  29.407572 ...      31.144789  1.249122   \n",
       "2019-07-16 09:59:36       38.501797  29.434649 ...      31.124300  1.249122   \n",
       "2019-07-16 10:00:36       38.470478  29.433624 ...      31.119688  1.249121   \n",
       "2019-07-16 10:01:36       38.452866  29.430395 ...      31.130308  1.249121   \n",
       "2019-07-16 10:02:36       38.403721  29.421238 ...      31.127117  1.249120   \n",
       "2019-07-16 10:03:36       38.373608  29.421553 ...      31.130623  1.249120   \n",
       "2019-07-16 10:04:36       38.432587  29.429037 ...      31.136810  1.249120   \n",
       "2019-07-16 10:05:36       38.428837  29.428387 ...      31.140593  1.249119   \n",
       "2019-07-16 10:06:36       38.427929  29.445951 ...      31.116715  1.249119   \n",
       "2019-07-16 10:07:36       38.423305  29.436264 ...      31.126093  1.249119   \n",
       "\n",
       "                     NMR_[FFT]  Zaber_Meas_MicroStep_X  Zaber_Meas_Encoder_X  \\\n",
       "Datetime                                                                       \n",
       "2019-07-16 09:53:36        0.0             210351.5625              538500.0   \n",
       "2019-07-16 09:54:36        0.0             210351.5625              538500.0   \n",
       "2019-07-16 09:55:36        0.0             210351.5625              538500.0   \n",
       "2019-07-16 09:56:36        0.0             210351.5625              538500.0   \n",
       "2019-07-16 09:57:36        0.0             210351.5625              538500.0   \n",
       "2019-07-16 09:58:36        0.0             210351.5625              538500.0   \n",
       "2019-07-16 09:59:36        0.0             210351.5625              538500.0   \n",
       "2019-07-16 10:00:36        0.0             210351.5625              538500.0   \n",
       "2019-07-16 10:01:36        0.0             210351.5625              538500.0   \n",
       "2019-07-16 10:02:36        0.0             210351.5625              538500.0   \n",
       "2019-07-16 10:03:36        0.0             210351.5625              538500.0   \n",
       "2019-07-16 10:04:36        0.0             210351.5625              538500.0   \n",
       "2019-07-16 10:05:36        0.0             210351.5625              538500.0   \n",
       "2019-07-16 10:06:36        0.0             210351.5625              538500.0   \n",
       "2019-07-16 10:07:36        0.0             210351.5625              538500.0   \n",
       "\n",
       "                     Zaber_Meas_MicroStep_Y  Zaber_Meas_Encoder_Y  \\\n",
       "Datetime                                                            \n",
       "2019-07-16 09:53:36               178906.25              458000.0   \n",
       "2019-07-16 09:54:36               178906.25              458000.0   \n",
       "2019-07-16 09:55:36               178906.25              458000.0   \n",
       "2019-07-16 09:56:36               178906.25              458000.0   \n",
       "2019-07-16 09:57:36               178906.25              458000.0   \n",
       "2019-07-16 09:58:36               178906.25              458000.0   \n",
       "2019-07-16 09:59:36               178906.25              458000.0   \n",
       "2019-07-16 10:00:36               178906.25              458000.0   \n",
       "2019-07-16 10:01:36               178906.25              458000.0   \n",
       "2019-07-16 10:02:36               178906.25              458000.0   \n",
       "2019-07-16 10:03:36               178906.25              458000.0   \n",
       "2019-07-16 10:04:36               178906.25              458000.0   \n",
       "2019-07-16 10:05:36               178906.25              458000.0   \n",
       "2019-07-16 10:06:36               178906.25              458000.0   \n",
       "2019-07-16 10:07:36               178906.25              458000.0   \n",
       "\n",
       "                     Zaber_Meas_MicroStep_Z  Zaber_Meas_Encoder_Z      \n",
       "Datetime                                                               \n",
       "2019-07-16 09:53:36              642578.125             1645000.0 NaN  \n",
       "2019-07-16 09:54:36              642578.125             1645000.0 NaN  \n",
       "2019-07-16 09:55:36              642578.125             1645000.0 NaN  \n",
       "2019-07-16 09:56:36              642578.125             1645000.0 NaN  \n",
       "2019-07-16 09:57:36              642578.125             1645000.0 NaN  \n",
       "2019-07-16 09:58:36              642578.125             1645000.0 NaN  \n",
       "2019-07-16 09:59:36              642578.125             1645000.0 NaN  \n",
       "2019-07-16 10:00:36              642578.125             1645000.0 NaN  \n",
       "2019-07-16 10:01:36              642578.125             1645000.0 NaN  \n",
       "2019-07-16 10:02:36              642578.125             1645000.0 NaN  \n",
       "2019-07-16 10:03:36              642578.125             1645000.0 NaN  \n",
       "2019-07-16 10:04:36              642578.125             1645000.0 NaN  \n",
       "2019-07-16 10:05:36              642578.125             1645000.0 NaN  \n",
       "2019-07-16 10:06:36              642578.125             1645000.0 NaN  \n",
       "2019-07-16 10:07:36              642578.125             1645000.0 NaN  \n",
       "\n",
       "[15 rows x 52 columns]"
      ]
     },
     "execution_count": 33,
     "metadata": {},
     "output_type": "execute_result"
    }
   ],
   "source": [
    "df.tail(15)"
   ]
  },
  {
   "cell_type": "code",
   "execution_count": 55,
   "metadata": {},
   "outputs": [],
   "source": [
    "#df_temp = df.loc['2019-07-02 11:00:00':'2019-07-02 11:30:00']\n",
    "df_temp = df.loc['2019-07-16 09:35:00':'2019-07-16 09:55:00']"
   ]
  },
  {
   "cell_type": "code",
   "execution_count": 56,
   "metadata": {},
   "outputs": [
    {
     "data": {
      "text/plain": [
       "Datetime\n",
       "2019-07-16 09:35:36    1.249128\n",
       "2019-07-16 09:36:36    1.249128\n",
       "2019-07-16 09:37:36    1.249128\n",
       "2019-07-16 09:38:36    1.249129\n",
       "2019-07-16 09:39:36    1.249129\n",
       "2019-07-16 09:40:36    1.249129\n",
       "2019-07-16 09:41:36    1.249129\n",
       "2019-07-16 09:42:36    1.249129\n",
       "2019-07-16 09:43:36    1.249129\n",
       "2019-07-16 09:44:36    1.249129\n",
       "2019-07-16 09:45:36    1.249129\n",
       "2019-07-16 09:46:36    1.249128\n",
       "2019-07-16 09:47:36    1.249127\n",
       "2019-07-16 09:48:36    1.249127\n",
       "2019-07-16 09:49:36    1.249127\n",
       "2019-07-16 09:50:36    1.249126\n",
       "2019-07-16 09:51:36    1.249126\n",
       "2019-07-16 09:52:36    1.249125\n",
       "2019-07-16 09:53:36    1.249125\n",
       "2019-07-16 09:54:36    1.249124\n",
       "Name: NMR_[T], dtype: float64"
      ]
     },
     "execution_count": 56,
     "metadata": {},
     "output_type": "execute_result"
    }
   ],
   "source": [
    "df_temp[\"NMR_[T]\"]"
   ]
  },
  {
   "cell_type": "code",
   "execution_count": 40,
   "metadata": {},
   "outputs": [
    {
     "data": {
      "text/plain": [
       "<matplotlib.axes._subplots.AxesSubplot at 0x7f5dd42455f8>"
      ]
     },
     "execution_count": 40,
     "metadata": {},
     "output_type": "execute_result"
    },
    {
     "data": {
      "image/png": "[encoded data removed]",
      "text/plain": [
       "<Figure size 864x576 with 1 Axes>"
      ]
     },
     "metadata": {
      "needs_background": "light"
     },
     "output_type": "display_data"
    }
   ],
   "source": [
    "df[\"NMR_[T]\"].plot()"
   ]
  },
  {
   "cell_type": "markdown",
   "metadata": {},
   "source": [
    "## Input Hand Measured Data"
   ]
  },
  {
   "cell_type": "code",
   "execution_count": 57,
   "metadata": {},
   "outputs": [
    {
     "data": {
      "text/plain": [
       "Index(['Time', 'Magnet_Current_[A]', 'Magnet_Voltage_[V]', 'Coil_1_(new)',\n",
       "       'Coil_2_(old)', 'LCW_in_Coil1', 'LCW_out_Coil_1', 'LCW_in_Coil_2',\n",
       "       'LCW_out_Coil_2', 'Yoke', 'Hall_Element', 'Floor', 'Roof',\n",
       "       'Parameter_HVAC_return', 'Parameter_HVAC_sensor', 'CH13', 'CH14',\n",
       "       'CH15', 'CH16', 'CH17', 'CH18', 'CH19', 'CH20', 'Desk_Ambient',\n",
       "       'Outlet_Strip_Ambient', 'Top_fo_Orange_PS_Ambient',\n",
       "       'Spare_Ambient_on_desk', 'TrippLite_Ambient_3ft_high',\n",
       "       'TrippLite_Ambient_Floor', 'PS_internal', 'PS_Vent1', 'PS_Vent2',\n",
       "       'TrippLite_HVAC_supply', 'Tripplite_HVAC_exhaust', 'LCW_to_PS',\n",
       "       'LCW_in_barrel', 'ICW_in', 'ICW_HE1_out', 'ICW_He2_out',\n",
       "       'LCW_return_magnet', 'LCW_to_barrel', 'LCW_from_PS', 'LCW_to_magnet',\n",
       "       'NMR_[T]', 'NMR_[FFT]', 'Zaber_Meas_MicroStep_X',\n",
       "       'Zaber_Meas_Encoder_X', 'Zaber_Meas_MicroStep_Y',\n",
       "       'Zaber_Meas_Encoder_Y', 'Zaber_Meas_MicroStep_Z',\n",
       "       'Zaber_Meas_Encoder_Z', ''],\n",
       "      dtype='object')"
      ]
     },
     "execution_count": 57,
     "metadata": {},
     "output_type": "execute_result"
    }
   ],
   "source": [
    "df.columns "
   ]
  },
  {
   "cell_type": "code",
   "execution_count": 39,
   "metadata": {
    "collapsed": true
   },
   "outputs": [
    {
     "data": {
      "text/plain": [
       "<matplotlib.axes._subplots.AxesSubplot at 0x7f5dd4265048>"
      ]
     },
     "execution_count": 39,
     "metadata": {},
     "output_type": "execute_result"
    },
    {
     "data": {
      "image/png": "[encoded data removed]",
      "text/plain": [
       "<Figure size 864x576 with 1 Axes>"
      ]
     },
     "metadata": {
      "needs_background": "light"
     },
     "output_type": "display_data"
    }
   ],
   "source": [
    "df.Parameter_HVAC_return.plot()\n",
    "df.Parameter_HVAC_sensor.plot()"
   ]
  },
  {
   "cell_type": "code",
   "execution_count": 81,
   "metadata": {},
   "outputs": [],
   "source": [
    "meas_dict = {\n",
    " 'Coil_1_(new)':56.3,#55.4,\n",
    " 'Coil_2_(old)':54.0,\n",
    " 'Yoke':29.9, #29.6,\n",
    " 'Parameter_HVAC_return': 27.7, # NOW YOKE TOP CENTER\n",
    " #'Hall_Element':26.0,\n",
    " 'Roof':19.6,#19.5,\n",
    " 'Floor':22.6,#22.7\n",
    " 'Parameter_HVAC_sensor':18.3,#20.0,\n",
    " 'CH13':20.3,#19.8,\n",
    " 'CH14':21.6,#21.5,\n",
    " 'CH15':21.7,#21.6,\n",
    " 'CH16':21.6,#21.6,\n",
    " 'CH17':20.0,#19.9,\n",
    " 'CH18':20.4,#20.4,\n",
    " 'CH19':19.5,#19.5,\n",
    " 'CH20':19.2,#19.2,\n",
    " 'LCW_in_Coil1':30.6,\n",
    " 'LCW_out_Coil_1':32.5,\n",
    " 'LCW_out_Coil_2':39.9,\n",
    "}"
   ]
  },
  {
   "cell_type": "code",
   "execution_count": 44,
   "metadata": {
    "collapsed": true
   },
   "outputs": [
    {
     "data": {
      "application/vnd.plotly.v1+json": {
       "data": [
        {
         "marker": {
          "size": 2
         },
         "mode": "lines",
         "name": "NMR_[T]",
         "type": "scatter",
         "uid": "93b5b30e-5f9d-4f6b-8dbc-30e9ea8d354a",
         "x": [
          "2019-07-16 09:35:36",
          "2019-07-16 09:36:36",
          "2019-07-16 09:37:36",
          "2019-07-16 09:38:36",
          "2019-07-16 09:39:36",
          "2019-07-16 09:40:36",
          "2019-07-16 09:41:36",
          "2019-07-16 09:42:36",
          "2019-07-16 09:43:36",
          "2019-07-16 09:44:36",
          "2019-07-16 09:45:36",
          "2019-07-16 09:46:36",
          "2019-07-16 09:47:36",
          "2019-07-16 09:48:36",
          "2019-07-16 09:49:36",
          "2019-07-16 09:50:36",
          "2019-07-16 09:51:36",
          "2019-07-16 09:52:36",
          "2019-07-16 09:53:36",
          "2019-07-16 09:54:36"
         ],
         "y": [
          1.249127878,
          1.249127918,
          1.249128467,
          1.2491290529999999,
          1.249129153,
          1.24912931,
          1.249129275,
          1.249129037,
          1.2491289429999999,
          1.249128926,
          1.2491285159999999,
          1.249127658,
          1.249127192,
          1.249127052,
          1.249126551,
          1.24912608,
          1.249125798,
          1.249125385,
          1.24912463,
          1.249123629
         ]
        }
       ],
       "layout": {
        "showlegend": true,
        "title": "NMR_[T] vs. Datetime",
        "xaxis": {
         "title": "Datetime"
        },
        "yaxis": {
         "title": "NMR_[T]"
        }
       }
      },
      "text/html": [
       "<div id=\"a0a976da-bb04-4487-bd19-dbe87dbb012a\" style=\"height: 525px; width: 100%;\" class=\"plotly-graph-div\"></div><script type=\"text/javascript\">require([\"plotly\"], function(Plotly) { window.PLOTLYENV=window.PLOTLYENV || {};window.PLOTLYENV.BASE_URL=\"https://plot.ly\";Plotly.newPlot(\"a0a976da-bb04-4487-bd19-dbe87dbb012a\", [{\"marker\": {\"size\": 2}, \"mode\": \"lines\", \"name\": \"NMR_[T]\", \"x\": [\"2019-07-16 09:35:36\", \"2019-07-16 09:36:36\", \"2019-07-16 09:37:36\", \"2019-07-16 09:38:36\", \"2019-07-16 09:39:36\", \"2019-07-16 09:40:36\", \"2019-07-16 09:41:36\", \"2019-07-16 09:42:36\", \"2019-07-16 09:43:36\", \"2019-07-16 09:44:36\", \"2019-07-16 09:45:36\", \"2019-07-16 09:46:36\", \"2019-07-16 09:47:36\", \"2019-07-16 09:48:36\", \"2019-07-16 09:49:36\", \"2019-07-16 09:50:36\", \"2019-07-16 09:51:36\", \"2019-07-16 09:52:36\", \"2019-07-16 09:53:36\", \"2019-07-16 09:54:36\"], \"y\": [1.249127878, 1.249127918, 1.249128467, 1.2491290529999999, 1.249129153, 1.24912931, 1.249129275, 1.249129037, 1.2491289429999999, 1.249128926, 1.2491285159999999, 1.249127658, 1.249127192, 1.249127052, 1.249126551, 1.24912608, 1.249125798, 1.249125385, 1.24912463, 1.249123629], \"type\": \"scatter\", \"uid\": \"93b5b30e-5f9d-4f6b-8dbc-30e9ea8d354a\"}], {\"showlegend\": true, \"title\": \"NMR_[T] vs. Datetime\", \"xaxis\": {\"title\": \"Datetime\"}, \"yaxis\": {\"title\": \"NMR_[T]\"}}, {\"showLink\": true, \"linkText\": \"Export to plot.ly\"})});</script><script type=\"text/javascript\">window.addEventListener(\"resize\", function(){window._Plotly.Plots.resize(document.getElementById(\"a0a976da-bb04-4487-bd19-dbe87dbb012a\"));});</script>"
      ],
      "text/vnd.plotly.v1+html": [
       "<div id=\"a0a976da-bb04-4487-bd19-dbe87dbb012a\" style=\"height: 525px; width: 100%;\" class=\"plotly-graph-div\"></div><script type=\"text/javascript\">require([\"plotly\"], function(Plotly) { window.PLOTLYENV=window.PLOTLYENV || {};window.PLOTLYENV.BASE_URL=\"https://plot.ly\";Plotly.newPlot(\"a0a976da-bb04-4487-bd19-dbe87dbb012a\", [{\"marker\": {\"size\": 2}, \"mode\": \"lines\", \"name\": \"NMR_[T]\", \"x\": [\"2019-07-16 09:35:36\", \"2019-07-16 09:36:36\", \"2019-07-16 09:37:36\", \"2019-07-16 09:38:36\", \"2019-07-16 09:39:36\", \"2019-07-16 09:40:36\", \"2019-07-16 09:41:36\", \"2019-07-16 09:42:36\", \"2019-07-16 09:43:36\", \"2019-07-16 09:44:36\", \"2019-07-16 09:45:36\", \"2019-07-16 09:46:36\", \"2019-07-16 09:47:36\", \"2019-07-16 09:48:36\", \"2019-07-16 09:49:36\", \"2019-07-16 09:50:36\", \"2019-07-16 09:51:36\", \"2019-07-16 09:52:36\", \"2019-07-16 09:53:36\", \"2019-07-16 09:54:36\"], \"y\": [1.249127878, 1.249127918, 1.249128467, 1.2491290529999999, 1.249129153, 1.24912931, 1.249129275, 1.249129037, 1.2491289429999999, 1.249128926, 1.2491285159999999, 1.249127658, 1.249127192, 1.249127052, 1.249126551, 1.24912608, 1.249125798, 1.249125385, 1.24912463, 1.249123629], \"type\": \"scatter\", \"uid\": \"93b5b30e-5f9d-4f6b-8dbc-30e9ea8d354a\"}], {\"showlegend\": true, \"title\": \"NMR_[T] vs. Datetime\", \"xaxis\": {\"title\": \"Datetime\"}, \"yaxis\": {\"title\": \"NMR_[T]\"}}, {\"showLink\": true, \"linkText\": \"Export to plot.ly\"})});</script><script type=\"text/javascript\">window.addEventListener(\"resize\", function(){window._Plotly.Plots.resize(document.getElementById(\"a0a976da-bb04-4487-bd19-dbe87dbb012a\"));});</script>"
      ]
     },
     "metadata": {},
     "output_type": "display_data"
    },
    {
     "data": {
      "text/plain": [
       "Figure({\n",
       "    'data': [{'marker': {'size': 2},\n",
       "              'mode': 'lines',\n",
       "              'name': 'NMR_[T]',\n",
       "              'type': 'scatter',\n",
       "              'uid': '93b5b30e-5f9d-4f6b-8dbc-30e9ea8d354a',\n",
       "              'x': array(['2019-07-16 09:35:36', '2019-07-16 09:36:36', '2019-07-16 09:37:36',\n",
       "                          '2019-07-16 09:38:36', '2019-07-16 09:39:36', '2019-07-16 09:40:36',\n",
       "                          '2019-07-16 09:41:36', '2019-07-16 09:42:36', '2019-07-16 09:43:36',\n",
       "                          '2019-07-16 09:44:36', '2019-07-16 09:45:36', '2019-07-16 09:46:36',\n",
       "                          '2019-07-16 09:47:36', '2019-07-16 09:48:36', '2019-07-16 09:49:36',\n",
       "                          '2019-07-16 09:50:36', '2019-07-16 09:51:36', '2019-07-16 09:52:36',\n",
       "                          '2019-07-16 09:53:36', '2019-07-16 09:54:36'], dtype=object),\n",
       "              'y': array([1.24912788, 1.24912792, 1.24912847, 1.24912905, 1.24912915, 1.24912931,\n",
       "                          1.24912928, 1.24912904, 1.24912894, 1.24912893, 1.24912852, 1.24912766,\n",
       "                          1.24912719, 1.24912705, 1.24912655, 1.24912608, 1.2491258 , 1.24912538,\n",
       "                          1.24912463, 1.24912363])}],\n",
       "    'layout': {'showlegend': True,\n",
       "               'title': 'NMR_[T] vs. Datetime',\n",
       "               'xaxis': {'title': 'Datetime'},\n",
       "               'yaxis': {'title': 'NMR_[T]'}}\n",
       "})"
      ]
     },
     "execution_count": 44,
     "metadata": {},
     "output_type": "execute_result"
    }
   ],
   "source": [
    "scatter2d(df_temp.index,df_temp[\"NMR_[T]\"],inline=True);"
   ]
  },
  {
   "cell_type": "code",
   "execution_count": 63,
   "metadata": {},
   "outputs": [],
   "source": [
    "dt = parser.parse(\"2019-07-16 09:45:00\")"
   ]
  },
  {
   "cell_type": "code",
   "execution_count": 67,
   "metadata": {},
   "outputs": [
    {
     "data": {
      "text/plain": [
       "datetime.datetime(2019, 7, 16, 9, 45)"
      ]
     },
     "execution_count": 67,
     "metadata": {},
     "output_type": "execute_result"
    }
   ],
   "source": [
    "dt"
   ]
  },
  {
   "cell_type": "code",
   "execution_count": 82,
   "metadata": {},
   "outputs": [],
   "source": [
    "df_meas = pd.DataFrame(meas_dict,index=[dt])"
   ]
  },
  {
   "cell_type": "code",
   "execution_count": 83,
   "metadata": {},
   "outputs": [
    {
     "data": {
      "text/html": [
       "<div>\n",
       "<style scoped>\n",
       "    .dataframe tbody tr th:only-of-type {\n",
       "        vertical-align: middle;\n",
       "    }\n",
       "\n",
       "    .dataframe tbody tr th {\n",
       "        vertical-align: top;\n",
       "    }\n",
       "\n",
       "    .dataframe thead th {\n",
       "        text-align: right;\n",
       "    }\n",
       "</style>\n",
       "<table border=\"1\" class=\"dataframe\">\n",
       "  <thead>\n",
       "    <tr style=\"text-align: right;\">\n",
       "      <th></th>\n",
       "      <th>Coil_1_(new)</th>\n",
       "      <th>Coil_2_(old)</th>\n",
       "      <th>Yoke</th>\n",
       "      <th>Parameter_HVAC_return</th>\n",
       "      <th>Roof</th>\n",
       "      <th>Floor</th>\n",
       "      <th>Parameter_HVAC_sensor</th>\n",
       "      <th>CH13</th>\n",
       "      <th>CH14</th>\n",
       "      <th>CH15</th>\n",
       "      <th>CH16</th>\n",
       "      <th>CH17</th>\n",
       "      <th>CH18</th>\n",
       "      <th>CH19</th>\n",
       "      <th>CH20</th>\n",
       "      <th>LCW_in_Coil1</th>\n",
       "      <th>LCW_out_Coil_1</th>\n",
       "      <th>LCW_out_Coil_2</th>\n",
       "    </tr>\n",
       "  </thead>\n",
       "  <tbody>\n",
       "    <tr>\n",
       "      <th>2019-07-16 09:45:00</th>\n",
       "      <td>56.3</td>\n",
       "      <td>54.0</td>\n",
       "      <td>29.9</td>\n",
       "      <td>27.7</td>\n",
       "      <td>19.6</td>\n",
       "      <td>22.6</td>\n",
       "      <td>18.3</td>\n",
       "      <td>20.3</td>\n",
       "      <td>21.6</td>\n",
       "      <td>21.7</td>\n",
       "      <td>21.6</td>\n",
       "      <td>20.0</td>\n",
       "      <td>20.4</td>\n",
       "      <td>19.5</td>\n",
       "      <td>19.2</td>\n",
       "      <td>30.6</td>\n",
       "      <td>32.5</td>\n",
       "      <td>39.9</td>\n",
       "    </tr>\n",
       "  </tbody>\n",
       "</table>\n",
       "</div>"
      ],
      "text/plain": [
       "                     Coil_1_(new)  Coil_2_(old)  Yoke  Parameter_HVAC_return  \\\n",
       "2019-07-16 09:45:00          56.3          54.0  29.9                   27.7   \n",
       "\n",
       "                     Roof  Floor  Parameter_HVAC_sensor  CH13  CH14  CH15  \\\n",
       "2019-07-16 09:45:00  19.6   22.6                   18.3  20.3  21.6  21.7   \n",
       "\n",
       "                     CH16  CH17  CH18  CH19  CH20  LCW_in_Coil1  \\\n",
       "2019-07-16 09:45:00  21.6  20.0  20.4  19.5  19.2          30.6   \n",
       "\n",
       "                     LCW_out_Coil_1  LCW_out_Coil_2  \n",
       "2019-07-16 09:45:00            32.5            39.9  "
      ]
     },
     "execution_count": 83,
     "metadata": {},
     "output_type": "execute_result"
    }
   ],
   "source": [
    "df_meas"
   ]
  },
  {
   "cell_type": "code",
   "execution_count": 84,
   "metadata": {},
   "outputs": [],
   "source": [
    "dt2 = [\"2019-07-16 09:45:00\"]\n",
    "df_meas[\"Datetime\"] = pd.to_datetime(dt2).astype(\"str\")\n",
    "df_meas = df_meas.set_index(\"Datetime\")"
   ]
  },
  {
   "cell_type": "code",
   "execution_count": 85,
   "metadata": {},
   "outputs": [
    {
     "data": {
      "text/html": [
       "<div>\n",
       "<style scoped>\n",
       "    .dataframe tbody tr th:only-of-type {\n",
       "        vertical-align: middle;\n",
       "    }\n",
       "\n",
       "    .dataframe tbody tr th {\n",
       "        vertical-align: top;\n",
       "    }\n",
       "\n",
       "    .dataframe thead th {\n",
       "        text-align: right;\n",
       "    }\n",
       "</style>\n",
       "<table border=\"1\" class=\"dataframe\">\n",
       "  <thead>\n",
       "    <tr style=\"text-align: right;\">\n",
       "      <th></th>\n",
       "      <th>Coil_1_(new)</th>\n",
       "      <th>Coil_2_(old)</th>\n",
       "      <th>Yoke</th>\n",
       "      <th>Parameter_HVAC_return</th>\n",
       "      <th>Roof</th>\n",
       "      <th>Floor</th>\n",
       "      <th>Parameter_HVAC_sensor</th>\n",
       "      <th>CH13</th>\n",
       "      <th>CH14</th>\n",
       "      <th>CH15</th>\n",
       "      <th>CH16</th>\n",
       "      <th>CH17</th>\n",
       "      <th>CH18</th>\n",
       "      <th>CH19</th>\n",
       "      <th>CH20</th>\n",
       "      <th>LCW_in_Coil1</th>\n",
       "      <th>LCW_out_Coil_1</th>\n",
       "      <th>LCW_out_Coil_2</th>\n",
       "    </tr>\n",
       "    <tr>\n",
       "      <th>Datetime</th>\n",
       "      <th></th>\n",
       "      <th></th>\n",
       "      <th></th>\n",
       "      <th></th>\n",
       "      <th></th>\n",
       "      <th></th>\n",
       "      <th></th>\n",
       "      <th></th>\n",
       "      <th></th>\n",
       "      <th></th>\n",
       "      <th></th>\n",
       "      <th></th>\n",
       "      <th></th>\n",
       "      <th></th>\n",
       "      <th></th>\n",
       "      <th></th>\n",
       "      <th></th>\n",
       "      <th></th>\n",
       "    </tr>\n",
       "  </thead>\n",
       "  <tbody>\n",
       "    <tr>\n",
       "      <th>2019-07-16 09:45:00</th>\n",
       "      <td>56.3</td>\n",
       "      <td>54.0</td>\n",
       "      <td>29.9</td>\n",
       "      <td>27.7</td>\n",
       "      <td>19.6</td>\n",
       "      <td>22.6</td>\n",
       "      <td>18.3</td>\n",
       "      <td>20.3</td>\n",
       "      <td>21.6</td>\n",
       "      <td>21.7</td>\n",
       "      <td>21.6</td>\n",
       "      <td>20.0</td>\n",
       "      <td>20.4</td>\n",
       "      <td>19.5</td>\n",
       "      <td>19.2</td>\n",
       "      <td>30.6</td>\n",
       "      <td>32.5</td>\n",
       "      <td>39.9</td>\n",
       "    </tr>\n",
       "  </tbody>\n",
       "</table>\n",
       "</div>"
      ],
      "text/plain": [
       "                     Coil_1_(new)  Coil_2_(old)  Yoke  Parameter_HVAC_return  \\\n",
       "Datetime                                                                       \n",
       "2019-07-16 09:45:00          56.3          54.0  29.9                   27.7   \n",
       "\n",
       "                     Roof  Floor  Parameter_HVAC_sensor  CH13  CH14  CH15  \\\n",
       "Datetime                                                                    \n",
       "2019-07-16 09:45:00  19.6   22.6                   18.3  20.3  21.6  21.7   \n",
       "\n",
       "                     CH16  CH17  CH18  CH19  CH20  LCW_in_Coil1  \\\n",
       "Datetime                                                          \n",
       "2019-07-16 09:45:00  21.6  20.0  20.4  19.5  19.2          30.6   \n",
       "\n",
       "                     LCW_out_Coil_1  LCW_out_Coil_2  \n",
       "Datetime                                             \n",
       "2019-07-16 09:45:00            32.5            39.9  "
      ]
     },
     "execution_count": 85,
     "metadata": {},
     "output_type": "execute_result"
    }
   ],
   "source": [
    "df_meas"
   ]
  },
  {
   "cell_type": "markdown",
   "metadata": {},
   "source": [
    "## Plots"
   ]
  },
  {
   "cell_type": "code",
   "execution_count": 86,
   "metadata": {},
   "outputs": [
    {
     "data": {
      "application/vnd.plotly.v1+json": {
       "data": [
        {
         "marker": {
          "size": 6
         },
         "mode": "markers",
         "name": "CH13",
         "type": "scatter",
         "uid": "8f6a9997-6465-49f9-89b5-8ac29895ee51",
         "x": [
          "2019-07-16 09:35:36",
          "2019-07-16 09:36:36",
          "2019-07-16 09:37:36",
          "2019-07-16 09:38:36",
          "2019-07-16 09:39:36",
          "2019-07-16 09:40:36",
          "2019-07-16 09:41:36",
          "2019-07-16 09:42:36",
          "2019-07-16 09:43:36",
          "2019-07-16 09:44:36",
          "2019-07-16 09:45:36",
          "2019-07-16 09:46:36",
          "2019-07-16 09:47:36",
          "2019-07-16 09:48:36",
          "2019-07-16 09:49:36",
          "2019-07-16 09:50:36",
          "2019-07-16 09:51:36",
          "2019-07-16 09:52:36",
          "2019-07-16 09:53:36",
          "2019-07-16 09:54:36"
         ],
         "y": [
          19.5558872,
          19.8196087,
          20.0903606,
          20.2515106,
          20.4891644,
          20.5909786,
          20.7074299,
          20.8116875,
          21.0024719,
          21.1057568,
          21.1471844,
          21.2393742,
          21.2945957,
          21.296423,
          21.3340816,
          21.4531307,
          21.45924,
          21.5600243,
          21.6551914,
          21.7815819
         ]
        },
        {
         "marker": {
          "size": 6
         },
         "mode": "markers",
         "name": "CH13",
         "type": "scatter",
         "uid": "ce2283fc-7723-43ec-91cd-9d33a5e74eaa",
         "x": [
          "2019-07-16 09:45:00"
         ],
         "y": [
          20.3
         ]
        }
       ],
       "layout": {
        "showlegend": true,
        "title": "CH13 vs. Datetime",
        "xaxis": {
         "title": "Datetime"
        },
        "yaxis": {
         "title": "CH13"
        }
       }
      },
      "text/html": [
       "<div id=\"0a6f686b-bb7a-44ce-bd25-1a38485aa4ac\" style=\"height: 525px; width: 100%;\" class=\"plotly-graph-div\"></div><script type=\"text/javascript\">require([\"plotly\"], function(Plotly) { window.PLOTLYENV=window.PLOTLYENV || {};window.PLOTLYENV.BASE_URL=\"https://plot.ly\";Plotly.newPlot(\"0a6f686b-bb7a-44ce-bd25-1a38485aa4ac\", [{\"marker\": {\"size\": 6}, \"mode\": \"markers\", \"name\": \"CH13\", \"x\": [\"2019-07-16 09:35:36\", \"2019-07-16 09:36:36\", \"2019-07-16 09:37:36\", \"2019-07-16 09:38:36\", \"2019-07-16 09:39:36\", \"2019-07-16 09:40:36\", \"2019-07-16 09:41:36\", \"2019-07-16 09:42:36\", \"2019-07-16 09:43:36\", \"2019-07-16 09:44:36\", \"2019-07-16 09:45:36\", \"2019-07-16 09:46:36\", \"2019-07-16 09:47:36\", \"2019-07-16 09:48:36\", \"2019-07-16 09:49:36\", \"2019-07-16 09:50:36\", \"2019-07-16 09:51:36\", \"2019-07-16 09:52:36\", \"2019-07-16 09:53:36\", \"2019-07-16 09:54:36\"], \"y\": [19.5558872, 19.8196087, 20.0903606, 20.2515106, 20.4891644, 20.5909786, 20.7074299, 20.8116875, 21.0024719, 21.1057568, 21.1471844, 21.2393742, 21.2945957, 21.296423, 21.3340816, 21.4531307, 21.45924, 21.5600243, 21.6551914, 21.7815819], \"type\": \"scatter\", \"uid\": \"8f6a9997-6465-49f9-89b5-8ac29895ee51\"}, {\"marker\": {\"size\": 6}, \"mode\": \"markers\", \"name\": \"CH13\", \"x\": [\"2019-07-16 09:45:00\"], \"y\": [20.3], \"type\": \"scatter\", \"uid\": \"ce2283fc-7723-43ec-91cd-9d33a5e74eaa\"}], {\"showlegend\": true, \"title\": \"CH13 vs. Datetime\", \"xaxis\": {\"title\": \"Datetime\"}, \"yaxis\": {\"title\": \"CH13\"}}, {\"showLink\": true, \"linkText\": \"Export to plot.ly\"})});</script><script type=\"text/javascript\">window.addEventListener(\"resize\", function(){window._Plotly.Plots.resize(document.getElementById(\"0a6f686b-bb7a-44ce-bd25-1a38485aa4ac\"));});</script>"
      ],
      "text/vnd.plotly.v1+html": [
       "<div id=\"0a6f686b-bb7a-44ce-bd25-1a38485aa4ac\" style=\"height: 525px; width: 100%;\" class=\"plotly-graph-div\"></div><script type=\"text/javascript\">require([\"plotly\"], function(Plotly) { window.PLOTLYENV=window.PLOTLYENV || {};window.PLOTLYENV.BASE_URL=\"https://plot.ly\";Plotly.newPlot(\"0a6f686b-bb7a-44ce-bd25-1a38485aa4ac\", [{\"marker\": {\"size\": 6}, \"mode\": \"markers\", \"name\": \"CH13\", \"x\": [\"2019-07-16 09:35:36\", \"2019-07-16 09:36:36\", \"2019-07-16 09:37:36\", \"2019-07-16 09:38:36\", \"2019-07-16 09:39:36\", \"2019-07-16 09:40:36\", \"2019-07-16 09:41:36\", \"2019-07-16 09:42:36\", \"2019-07-16 09:43:36\", \"2019-07-16 09:44:36\", \"2019-07-16 09:45:36\", \"2019-07-16 09:46:36\", \"2019-07-16 09:47:36\", \"2019-07-16 09:48:36\", \"2019-07-16 09:49:36\", \"2019-07-16 09:50:36\", \"2019-07-16 09:51:36\", \"2019-07-16 09:52:36\", \"2019-07-16 09:53:36\", \"2019-07-16 09:54:36\"], \"y\": [19.5558872, 19.8196087, 20.0903606, 20.2515106, 20.4891644, 20.5909786, 20.7074299, 20.8116875, 21.0024719, 21.1057568, 21.1471844, 21.2393742, 21.2945957, 21.296423, 21.3340816, 21.4531307, 21.45924, 21.5600243, 21.6551914, 21.7815819], \"type\": \"scatter\", \"uid\": \"8f6a9997-6465-49f9-89b5-8ac29895ee51\"}, {\"marker\": {\"size\": 6}, \"mode\": \"markers\", \"name\": \"CH13\", \"x\": [\"2019-07-16 09:45:00\"], \"y\": [20.3], \"type\": \"scatter\", \"uid\": \"ce2283fc-7723-43ec-91cd-9d33a5e74eaa\"}], {\"showlegend\": true, \"title\": \"CH13 vs. Datetime\", \"xaxis\": {\"title\": \"Datetime\"}, \"yaxis\": {\"title\": \"CH13\"}}, {\"showLink\": true, \"linkText\": \"Export to plot.ly\"})});</script><script type=\"text/javascript\">window.addEventListener(\"resize\", function(){window._Plotly.Plots.resize(document.getElementById(\"0a6f686b-bb7a-44ce-bd25-1a38485aa4ac\"));});</script>"
      ]
     },
     "metadata": {},
     "output_type": "display_data"
    }
   ],
   "source": [
    "col = \"CH13\"\n",
    "fig = scatter2d([df_temp.index,df_meas.index],[df_temp[col],df_meas[col]],markers=True,lines=False,size_list=[6,6],show_plot=False,inline=True)\n",
    "'''\n",
    "fig = scatter2d([df_temp.index],[df_temp[col]],markers= True,lines=False,size_list=[6],show_plot=False,inline=True)\n",
    "fig.add_scatter(\n",
    "    x=[df_meas.index],\n",
    "    y=[df_meas[col]],\n",
    "    #mode='markers',\n",
    "    error_x = dict(\n",
    "        type='data',\n",
    "        value=6,\n",
    "        #visible = True\n",
    "    )\n",
    ")\n",
    "'''\n",
    "iplot(fig)"
   ]
  },
  {
   "cell_type": "code",
   "execution_count": 87,
   "metadata": {},
   "outputs": [],
   "source": [
    "for col in df_meas.columns:\n",
    "    fig = scatter2d([df_temp.index,df_meas.index],[df_temp[col],df_meas[col]],markers=True,lines=False,size_list=[6,6],show_plot=False,inline=True)\n",
    "    pio.write_image(fig,plotdir+f\"time_series/{col}_vs_time.pdf\")\n",
    "    pio.write_image(fig,plotdir+f\"time_series/{col}_vs_time.png\")"
   ]
  },
  {
   "cell_type": "code",
   "execution_count": 88,
   "metadata": {},
   "outputs": [
    {
     "data": {
      "application/vnd.plotly.v1+json": {
       "data": [
        {
         "name": "<br>Measured Temp<br>mean: 2.7538889E+01<br>std:     1.161E+01<br>range: 3.800E+01<br>count: 18",
         "nbinsx": 5,
         "opacity": 0.9,
         "type": "histogram",
         "uid": "d648c9f3-173d-419f-ae16-297810f9425c",
         "x": [
          56.3,
          54,
          29.9,
          27.7,
          19.6,
          22.6,
          18.3,
          20.3,
          21.6,
          21.7,
          21.6,
          20,
          20.4,
          19.5,
          19.2,
          30.6,
          32.5,
          39.9
         ]
        }
       ],
       "layout": {
        "barmode": "overlay",
        "showlegend": true,
        "title": "Histo: Measured Temp",
        "xaxis": {
         "title": "B (T)"
        },
        "yaxis": {
         "autorange": true,
         "title": "Counts",
         "type": "linear"
        }
       }
      },
      "text/html": [
       "<div id=\"0f62d6db-0346-4638-be5e-57b004e1ce3b\" style=\"height: 525px; width: 100%;\" class=\"plotly-graph-div\"></div><script type=\"text/javascript\">require([\"plotly\"], function(Plotly) { window.PLOTLYENV=window.PLOTLYENV || {};window.PLOTLYENV.BASE_URL=\"https://plot.ly\";Plotly.newPlot(\"0f62d6db-0346-4638-be5e-57b004e1ce3b\", [{\"name\": \"<br>Measured Temp<br>mean: 2.7538889E+01<br>std:     1.161E+01<br>range: 3.800E+01<br>count: 18\", \"nbinsx\": 5, \"opacity\": 0.9, \"x\": [56.3, 54.0, 29.9, 27.7, 19.6, 22.6, 18.3, 20.3, 21.6, 21.7, 21.6, 20.0, 20.4, 19.5, 19.2, 30.6, 32.5, 39.9], \"type\": \"histogram\", \"uid\": \"d648c9f3-173d-419f-ae16-297810f9425c\"}], {\"barmode\": \"overlay\", \"showlegend\": true, \"title\": \"Histo: Measured Temp\", \"xaxis\": {\"title\": \"B (T)\"}, \"yaxis\": {\"autorange\": true, \"title\": \"Counts\", \"type\": \"linear\"}}, {\"showLink\": true, \"linkText\": \"Export to plot.ly\"})});</script><script type=\"text/javascript\">window.addEventListener(\"resize\", function(){window._Plotly.Plots.resize(document.getElementById(\"0f62d6db-0346-4638-be5e-57b004e1ce3b\"));});</script>"
      ],
      "text/vnd.plotly.v1+html": [
       "<div id=\"0f62d6db-0346-4638-be5e-57b004e1ce3b\" style=\"height: 525px; width: 100%;\" class=\"plotly-graph-div\"></div><script type=\"text/javascript\">require([\"plotly\"], function(Plotly) { window.PLOTLYENV=window.PLOTLYENV || {};window.PLOTLYENV.BASE_URL=\"https://plot.ly\";Plotly.newPlot(\"0f62d6db-0346-4638-be5e-57b004e1ce3b\", [{\"name\": \"<br>Measured Temp<br>mean: 2.7538889E+01<br>std:     1.161E+01<br>range: 3.800E+01<br>count: 18\", \"nbinsx\": 5, \"opacity\": 0.9, \"x\": [56.3, 54.0, 29.9, 27.7, 19.6, 22.6, 18.3, 20.3, 21.6, 21.7, 21.6, 20.0, 20.4, 19.5, 19.2, 30.6, 32.5, 39.9], \"type\": \"histogram\", \"uid\": \"d648c9f3-173d-419f-ae16-297810f9425c\"}], {\"barmode\": \"overlay\", \"showlegend\": true, \"title\": \"Histo: Measured Temp\", \"xaxis\": {\"title\": \"B (T)\"}, \"yaxis\": {\"autorange\": true, \"title\": \"Counts\", \"type\": \"linear\"}}, {\"showLink\": true, \"linkText\": \"Export to plot.ly\"})});</script><script type=\"text/javascript\">window.addEventListener(\"resize\", function(){window._Plotly.Plots.resize(document.getElementById(\"0f62d6db-0346-4638-be5e-57b004e1ce3b\"));});</script>"
      ]
     },
     "metadata": {},
     "output_type": "display_data"
    }
   ],
   "source": [
    "meas = list(meas_dict.values())\n",
    "meas = pd.Series(meas,name=\"Measured Temp\")\n",
    "histo(meas,bins=5,inline=True);"
   ]
  },
  {
   "cell_type": "code",
   "execution_count": 89,
   "metadata": {},
   "outputs": [
    {
     "data": {
      "text/plain": [
       "Index(['Coil_1_(new)', 'Coil_2_(old)', 'Yoke', 'Parameter_HVAC_return', 'Roof',\n",
       "       'Floor', 'Parameter_HVAC_sensor', 'CH13', 'CH14', 'CH15', 'CH16',\n",
       "       'CH17', 'CH18', 'CH19', 'CH20', 'LCW_in_Coil1', 'LCW_out_Coil_1',\n",
       "       'LCW_out_Coil_2'],\n",
       "      dtype='object')"
      ]
     },
     "execution_count": 89,
     "metadata": {},
     "output_type": "execute_result"
    }
   ],
   "source": [
    "df_meas.columns"
   ]
  },
  {
   "cell_type": "code",
   "execution_count": 90,
   "metadata": {},
   "outputs": [],
   "source": [
    "error = dict()\n",
    "for col in list(df_meas.columns):\n",
    "    error[col] = df_meas[col].values[0] - df_temp[col].mean()"
   ]
  },
  {
   "cell_type": "code",
   "execution_count": 91,
   "metadata": {},
   "outputs": [
    {
     "data": {
      "text/plain": [
       "{'Coil_1_(new)': 1.1960311899999923,\n",
       " 'Coil_2_(old)': 1.2171119699999977,\n",
       " 'Yoke': 0.5549732150000004,\n",
       " 'Parameter_HVAC_return': 3.1564124100000015,\n",
       " 'Roof': 0.5639123850000018,\n",
       " 'Floor': 0.3256297100000012,\n",
       " 'Parameter_HVAC_sensor': -0.7266079949999984,\n",
       " 'CH13': -0.6322841699999984,\n",
       " 'CH14': -0.27808819000000184,\n",
       " 'CH15': -0.24908237999999727,\n",
       " 'CH16': 0.391673664999999,\n",
       " 'CH17': 0.1655858049999992,\n",
       " 'CH18': 0.24792833499999745,\n",
       " 'CH19': 0.057787804999996695,\n",
       " 'CH20': 0.1781255699999953,\n",
       " 'LCW_in_Coil1': -0.4367960950000054,\n",
       " 'LCW_out_Coil_1': -1.542236514999999,\n",
       " 'LCW_out_Coil_2': 1.5244886349999902}"
      ]
     },
     "execution_count": 91,
     "metadata": {},
     "output_type": "execute_result"
    }
   ],
   "source": [
    "error"
   ]
  },
  {
   "cell_type": "code",
   "execution_count": 92,
   "metadata": {},
   "outputs": [],
   "source": [
    "error_series = pd.Series(list(error.values()),name=\"error\")"
   ]
  },
  {
   "cell_type": "code",
   "execution_count": 93,
   "metadata": {},
   "outputs": [
    {
     "data": {
      "application/vnd.plotly.v1+json": {
       "data": [
        {
         "name": "<br>error<br>mean: 3.1747585E-01<br>std:     1.030E+00<br>range: 4.699E+00<br>count: 18",
         "nbinsx": 10,
         "opacity": 0.9,
         "type": "histogram",
         "uid": "55eb71f7-2b89-4b7d-ae76-1aa609926ad4",
         "x": [
          1.1960311899999923,
          1.2171119699999977,
          0.5549732150000004,
          3.1564124100000015,
          0.5639123850000018,
          0.3256297100000012,
          -0.7266079949999984,
          -0.6322841699999984,
          -0.27808819000000184,
          -0.24908237999999727,
          0.391673664999999,
          0.1655858049999992,
          0.24792833499999745,
          0.057787804999996695,
          0.1781255699999953,
          -0.4367960950000054,
          -1.542236514999999,
          1.5244886349999902
         ]
        }
       ],
       "layout": {
        "barmode": "overlay",
        "showlegend": true,
        "title": "Histo: error",
        "xaxis": {
         "title": "B (T)"
        },
        "yaxis": {
         "autorange": true,
         "title": "Counts",
         "type": "linear"
        }
       }
      },
      "text/html": [
       "<div id=\"6cfcf2cf-28ec-42f8-8d3b-8f40c57d3917\" style=\"height: 525px; width: 100%;\" class=\"plotly-graph-div\"></div><script type=\"text/javascript\">require([\"plotly\"], function(Plotly) { window.PLOTLYENV=window.PLOTLYENV || {};window.PLOTLYENV.BASE_URL=\"https://plot.ly\";Plotly.newPlot(\"6cfcf2cf-28ec-42f8-8d3b-8f40c57d3917\", [{\"name\": \"<br>error<br>mean: 3.1747585E-01<br>std:     1.030E+00<br>range: 4.699E+00<br>count: 18\", \"nbinsx\": 10, \"opacity\": 0.9, \"x\": [1.1960311899999923, 1.2171119699999977, 0.5549732150000004, 3.1564124100000015, 0.5639123850000018, 0.3256297100000012, -0.7266079949999984, -0.6322841699999984, -0.27808819000000184, -0.24908237999999727, 0.391673664999999, 0.1655858049999992, 0.24792833499999745, 0.057787804999996695, 0.1781255699999953, -0.4367960950000054, -1.542236514999999, 1.5244886349999902], \"type\": \"histogram\", \"uid\": \"55eb71f7-2b89-4b7d-ae76-1aa609926ad4\"}], {\"barmode\": \"overlay\", \"showlegend\": true, \"title\": \"Histo: error\", \"xaxis\": {\"title\": \"B (T)\"}, \"yaxis\": {\"autorange\": true, \"title\": \"Counts\", \"type\": \"linear\"}}, {\"showLink\": true, \"linkText\": \"Export to plot.ly\"})});</script><script type=\"text/javascript\">window.addEventListener(\"resize\", function(){window._Plotly.Plots.resize(document.getElementById(\"6cfcf2cf-28ec-42f8-8d3b-8f40c57d3917\"));});</script>"
      ],
      "text/vnd.plotly.v1+html": [
       "<div id=\"6cfcf2cf-28ec-42f8-8d3b-8f40c57d3917\" style=\"height: 525px; width: 100%;\" class=\"plotly-graph-div\"></div><script type=\"text/javascript\">require([\"plotly\"], function(Plotly) { window.PLOTLYENV=window.PLOTLYENV || {};window.PLOTLYENV.BASE_URL=\"https://plot.ly\";Plotly.newPlot(\"6cfcf2cf-28ec-42f8-8d3b-8f40c57d3917\", [{\"name\": \"<br>error<br>mean: 3.1747585E-01<br>std:     1.030E+00<br>range: 4.699E+00<br>count: 18\", \"nbinsx\": 10, \"opacity\": 0.9, \"x\": [1.1960311899999923, 1.2171119699999977, 0.5549732150000004, 3.1564124100000015, 0.5639123850000018, 0.3256297100000012, -0.7266079949999984, -0.6322841699999984, -0.27808819000000184, -0.24908237999999727, 0.391673664999999, 0.1655858049999992, 0.24792833499999745, 0.057787804999996695, 0.1781255699999953, -0.4367960950000054, -1.542236514999999, 1.5244886349999902], \"type\": \"histogram\", \"uid\": \"55eb71f7-2b89-4b7d-ae76-1aa609926ad4\"}], {\"barmode\": \"overlay\", \"showlegend\": true, \"title\": \"Histo: error\", \"xaxis\": {\"title\": \"B (T)\"}, \"yaxis\": {\"autorange\": true, \"title\": \"Counts\", \"type\": \"linear\"}}, {\"showLink\": true, \"linkText\": \"Export to plot.ly\"})});</script><script type=\"text/javascript\">window.addEventListener(\"resize\", function(){window._Plotly.Plots.resize(document.getElementById(\"6cfcf2cf-28ec-42f8-8d3b-8f40c57d3917\"));});</script>"
      ]
     },
     "metadata": {},
     "output_type": "display_data"
    }
   ],
   "source": [
    "histo(error_series,inline=True);"
   ]
  },
  {
   "cell_type": "code",
   "execution_count": null,
   "metadata": {},
   "outputs": [],
   "source": []
  }
 ],
 "metadata": {
  "kernelspec": {
   "display_name": "Python [conda env:Mu2E]",
   "language": "python",
   "name": "conda-env-Mu2E-py"
  },
  "language_info": {
   "codemirror_mode": {
    "name": "ipython",
    "version": 3
   },
   "file_extension": ".py",
   "mimetype": "text/x-python",
   "name": "python",
   "nbconvert_exporter": "python",
   "pygments_lexer": "ipython3",
   "version": "3.7.3"
  }
 },
 "nbformat": 4,
 "nbformat_minor": 2
}
